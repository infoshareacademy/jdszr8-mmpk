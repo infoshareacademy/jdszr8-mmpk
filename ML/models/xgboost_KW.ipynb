{
 "cells": [
  {
   "cell_type": "code",
   "execution_count": 175,
   "metadata": {},
   "outputs": [],
   "source": [
    "import pandas as pd\n",
    "import xgboost as xgb\n",
    "import numpy as np\n",
    "import matplotlib.pyplot as plt\n",
    "from sklearn.model_selection import train_test_split\n",
    "from sklearn.preprocessing import StandardScaler\n",
    "from sklearn import metrics \n",
    "from sklearn.model_selection import cross_val_score, KFold\n",
    "from sklearn.metrics import r2_score\n",
    "import joblib\n",
    "from hyperopt import hp, fmin, tpe, STATUS_OK, Trials, space_eval\n",
    "from hyperopt.pyll.base import scope\n",
    "from hyperopt.pyll.stochastic import sample\n",
    "random_state = 42"
   ]
  },
  {
   "cell_type": "code",
   "execution_count": 176,
   "metadata": {},
   "outputs": [
    {
     "data": {
      "text/html": [
       "<div>\n",
       "<style scoped>\n",
       "    .dataframe tbody tr th:only-of-type {\n",
       "        vertical-align: middle;\n",
       "    }\n",
       "\n",
       "    .dataframe tbody tr th {\n",
       "        vertical-align: top;\n",
       "    }\n",
       "\n",
       "    .dataframe thead th {\n",
       "        text-align: right;\n",
       "    }\n",
       "</style>\n",
       "<table border=\"1\" class=\"dataframe\">\n",
       "  <thead>\n",
       "    <tr style=\"text-align: right;\">\n",
       "      <th></th>\n",
       "      <th>age</th>\n",
       "      <th>sex</th>\n",
       "      <th>bmi</th>\n",
       "      <th>children</th>\n",
       "      <th>smoker</th>\n",
       "      <th>region</th>\n",
       "      <th>charges</th>\n",
       "    </tr>\n",
       "  </thead>\n",
       "  <tbody>\n",
       "    <tr>\n",
       "      <th>0</th>\n",
       "      <td>19</td>\n",
       "      <td>female</td>\n",
       "      <td>27.900</td>\n",
       "      <td>0</td>\n",
       "      <td>yes</td>\n",
       "      <td>southwest</td>\n",
       "      <td>16884.92400</td>\n",
       "    </tr>\n",
       "    <tr>\n",
       "      <th>1</th>\n",
       "      <td>18</td>\n",
       "      <td>male</td>\n",
       "      <td>33.770</td>\n",
       "      <td>1</td>\n",
       "      <td>no</td>\n",
       "      <td>southeast</td>\n",
       "      <td>1725.55230</td>\n",
       "    </tr>\n",
       "    <tr>\n",
       "      <th>2</th>\n",
       "      <td>28</td>\n",
       "      <td>male</td>\n",
       "      <td>33.000</td>\n",
       "      <td>3</td>\n",
       "      <td>no</td>\n",
       "      <td>southeast</td>\n",
       "      <td>4449.46200</td>\n",
       "    </tr>\n",
       "    <tr>\n",
       "      <th>3</th>\n",
       "      <td>33</td>\n",
       "      <td>male</td>\n",
       "      <td>22.705</td>\n",
       "      <td>0</td>\n",
       "      <td>no</td>\n",
       "      <td>northwest</td>\n",
       "      <td>21984.47061</td>\n",
       "    </tr>\n",
       "    <tr>\n",
       "      <th>4</th>\n",
       "      <td>32</td>\n",
       "      <td>male</td>\n",
       "      <td>28.880</td>\n",
       "      <td>0</td>\n",
       "      <td>no</td>\n",
       "      <td>northwest</td>\n",
       "      <td>3866.85520</td>\n",
       "    </tr>\n",
       "  </tbody>\n",
       "</table>\n",
       "</div>"
      ],
      "text/plain": [
       "   age     sex     bmi  children smoker     region      charges\n",
       "0   19  female  27.900         0    yes  southwest  16884.92400\n",
       "1   18    male  33.770         1     no  southeast   1725.55230\n",
       "2   28    male  33.000         3     no  southeast   4449.46200\n",
       "3   33    male  22.705         0     no  northwest  21984.47061\n",
       "4   32    male  28.880         0     no  northwest   3866.85520"
      ]
     },
     "execution_count": 176,
     "metadata": {},
     "output_type": "execute_result"
    }
   ],
   "source": [
    "df = pd.read_csv('data/insurance.csv')\n",
    "df.head()"
   ]
  },
  {
   "cell_type": "code",
   "execution_count": 177,
   "metadata": {},
   "outputs": [],
   "source": [
    "df['sex'] = df['sex'].apply({'male' :0, 'female' :1}.get)\n",
    "df['smoker'] = df['smoker'].apply({'yes' :1, 'no' :0}.get)\n",
    "df['region'] = df['region'].apply({'southwest' :1, 'southeast' :2, 'northwest' :3 , 'northeast' :4}.get)"
   ]
  },
  {
   "cell_type": "code",
   "execution_count": 178,
   "metadata": {},
   "outputs": [],
   "source": [
    "X = df.drop('charges', axis = 1)\n",
    "y = df['charges']\n",
    "X_train, X_test, y_train, y_test=train_test_split(X, y, test_size=0.33, random_state = random_state)"
   ]
  },
  {
   "cell_type": "code",
   "execution_count": 179,
   "metadata": {},
   "outputs": [],
   "source": [
    "scaler = StandardScaler()\n",
    "scaler.fit(X_train)\n",
    "X_train_scaled= scaler.transform(X_train)\n",
    "X_test_scaled= scaler.transform(X_test)\n",
    "\n",
    "#czy skalować ? "
   ]
  },
  {
   "cell_type": "code",
   "execution_count": 180,
   "metadata": {},
   "outputs": [],
   "source": [
    "XGB_model = xgb.XGBRegressor(max_depth = 3, n_estimators=50, learning_rate =.2,objective='reg:squarederror')\n",
    "XGB_model.fit(X_train, y_train);"
   ]
  },
  {
   "cell_type": "code",
   "execution_count": 181,
   "metadata": {},
   "outputs": [],
   "source": [
    "def show_metrics(model,x_test,y_test):\n",
    "    y_pred = model.predict(x_test)\n",
    "    MAE_XGB= metrics.mean_absolute_error(y_test, y_pred)\n",
    "    MSE_XGB = metrics.mean_squared_error(y_test, y_pred)\n",
    "    RMSE_XGB =np.sqrt(MSE_XGB)\n",
    "    R2_XGB_perc = (metrics.r2_score(y_test, y_pred))*100\n",
    "    print(\"RMSE: {:.4f}, R2: {:.2f}%, MSE: {:.4f}\".format(RMSE_XGB,R2_XGB_perc,MSE_XGB))"
   ]
  },
  {
   "cell_type": "code",
   "execution_count": 182,
   "metadata": {},
   "outputs": [
    {
     "name": "stdout",
     "output_type": "stream",
     "text": [
      "RMSE: 4542.0406, R2: 85.92%, MSE: 20630132.7660\n"
     ]
    }
   ],
   "source": [
    "show_metrics(XGB_model,X_test,y_test)"
   ]
  },
  {
   "cell_type": "code",
   "execution_count": 183,
   "metadata": {},
   "outputs": [
    {
     "name": "stdout",
     "output_type": "stream",
     "text": [
      "[0.94819722 0.93530789 0.89704753 0.90296387 0.90987528]\n"
     ]
    }
   ],
   "source": [
    "scores = cross_val_score(XGB_model, X_train, y_train, cv=5)\n",
    "print(np.sqrt(scores))"
   ]
  },
  {
   "cell_type": "code",
   "execution_count": 184,
   "metadata": {},
   "outputs": [],
   "source": [
    "feats = df.columns.to_list()"
   ]
  },
  {
   "cell_type": "code",
   "execution_count": 185,
   "metadata": {},
   "outputs": [],
   "source": [
    "import scikitplot as skplt\n",
    "def plot_feature_importances(model, feat_list):\n",
    "\n",
    "    model_name = type(model).__name__\n",
    "    skplt.estimators.plot_feature_importances(model, feature_names=df[feat_list].columns,\n",
    "                                            title=f'{model_name} feature importances')\n",
    "    plt.xticks(rotation=90)"
   ]
  },
  {
   "cell_type": "code",
   "execution_count": 186,
   "metadata": {},
   "outputs": [
    {
     "data": {
      "image/png": "[encoded data removed]",
      "text/plain": [
       "<Figure size 640x480 with 1 Axes>"
      ]
     },
     "metadata": {},
     "output_type": "display_data"
    }
   ],
   "source": [
    "plot_feature_importances(XGB_model,feats)"
   ]
  },
  {
   "cell_type": "code",
   "execution_count": 187,
   "metadata": {},
   "outputs": [],
   "source": [
    "kf = KFold(n_splits=5, shuffle=True, random_state=random_state)"
   ]
  },
  {
   "cell_type": "code",
   "execution_count": 188,
   "metadata": {},
   "outputs": [],
   "source": [
    "\n",
    "def run_xgb_hyperopt(X, y, cv, max_evals, random_state):\n",
    "    \n",
    "    # funkcja, której wynik chcemy minimalizować (RMSE)\n",
    "    def objective(space):\n",
    "        XGB_model = xgb.XGBRegressor(\n",
    "            max_depth = int(space['max_depth']),\n",
    "            n_estimators = int(space['n_estimators']),\n",
    "            min_child_weight = space['min_child_weight'],\n",
    "            subsample = space['subsample'],\n",
    "            learning_rate = space['learning_rate'],\n",
    "            gamma = space['gamma'],\n",
    "            colsample_bytree = space['colsample_bytree'],\n",
    "            objective='reg:squarederror',\n",
    "            random_state=random_state,\n",
    "            early_stopping_rounds = 10,\n",
    "            eval_metric = 'rmse' )\n",
    "        \n",
    "        for train_idx, test_idx in cv.split(X):\n",
    "\n",
    "            eval_set = [(X[train_idx], y[train_idx]), (X[test_idx], y[test_idx])]\n",
    "            XGB_model.fit(X[train_idx], y[train_idx], eval_set=eval_set, verbose=False)\n",
    "            y_pred = XGB_model.predict(X[test_idx])\n",
    "\n",
    "            rmse = np.sqrt(metrics.mean_squared_error(y[test_idx], y_pred))\n",
    "            \n",
    "            print(\"RMSE: {:.4f}\".format(rmse))\n",
    "            return{'loss': rmse, 'status': STATUS_OK }\n",
    "    \n",
    "    # parametry do optymizacji    \n",
    "    space ={\n",
    "            'max_depth': hp.choice('max_depth', np.arange(2, 4, 1, dtype=int)),\n",
    "            'min_child_weight': hp.quniform('min_child_weight', 1, 20, 1),\n",
    "            'subsample': hp.uniform('subsample', 0.7, 1),\n",
    "            'n_estimators' : hp.choice('n_estimators', np.arange(20, 300, 2, dtype=int)),\n",
    "            'learning_rate' : hp.quniform('learning_rate', 0.025, 0.8, 0.025),\n",
    "            'gamma' : hp.quniform('gamma', 0.5, 1, 0.05),\n",
    "            'colsample_bytree' : hp.quniform('colsample_bytree', 0.5, 1, 0.05)\n",
    "        }\n",
    "\n",
    "    trials = Trials() # przechowuje info dla kazdego kroku.\n",
    "    \n",
    "    best = fmin(fn=objective , #fmin - funkcja, ktora chcemy minimalizowac\n",
    "                space=space, #przestrzeń potencjalnych (hyper)parametrów\n",
    "                algo=tpe.suggest, #algorytm wyszukujacy najlepsze parametry\n",
    "                max_evals=max_evals, #ilość prób\n",
    "                trials=trials ) #zapisywane wynikow w trakcie\n",
    "    \n",
    "    hyperparams = space_eval(space, best)\n",
    "\n",
    "    print(\"The best params: \", hyperparams)\n",
    "    return hyperparams"
   ]
  },
  {
   "cell_type": "code",
   "execution_count": 189,
   "metadata": {},
   "outputs": [],
   "source": [
    "X_train_v = X_train.values\n",
    "y_train_v = y_train.values"
   ]
  },
  {
   "cell_type": "code",
   "execution_count": 190,
   "metadata": {},
   "outputs": [
    {
     "name": "stdout",
     "output_type": "stream",
     "text": [
      "RMSE: 4250.9216                                        \n",
      "RMSE: 4817.9410                                        \n",
      "RMSE: 4279.9844                                                                 \n",
      "RMSE: 4319.3268                                                                 \n",
      "RMSE: 4308.8873                                                                 \n",
      "RMSE: 4446.7769                                                                 \n",
      "RMSE: 4919.3205                                                                 \n",
      "RMSE: 4185.6286                                                                 \n",
      "RMSE: 4493.2980                                                                 \n",
      "RMSE: 4933.7659                                                                 \n",
      "RMSE: 4297.9716                                                                 \n",
      "RMSE: 5017.3353                                                                  \n",
      "RMSE: 4443.3247                                                                  \n",
      "RMSE: 5090.6261                                                                  \n",
      "RMSE: 6061.0607                                                                  \n",
      "RMSE: 4478.0888                                                                  \n",
      "RMSE: 4545.5944                                                                  \n",
      "RMSE: 4474.2638                                                                  \n",
      "RMSE: 4685.0165                                                                  \n",
      "RMSE: 4263.8381                                                                  \n",
      "RMSE: 10981.1687                                                                 \n",
      "RMSE: 4176.4424                                                                  \n",
      "RMSE: 4204.2103                                                                  \n",
      "RMSE: 4228.0192                                                                  \n",
      "RMSE: 4631.8045                                                                  \n",
      "RMSE: 4654.5041                                                                  \n",
      "RMSE: 4298.6607                                                                  \n",
      "RMSE: 4257.3582                                                                  \n",
      "RMSE: 4241.3425                                                                  \n",
      "RMSE: 4669.1469                                                                  \n",
      "RMSE: 4265.5348                                                                  \n",
      "RMSE: 4255.2395                                                                  \n",
      "RMSE: 4279.6746                                                                  \n",
      "RMSE: 4333.3934                                                                  \n",
      "RMSE: 4359.4752                                                                  \n",
      "RMSE: 4262.2031                                                                  \n",
      "RMSE: 4699.1217                                                                  \n",
      "RMSE: 4159.3900                                                                  \n",
      "RMSE: 4304.8710                                                                  \n",
      "RMSE: 4227.1804                                                                  \n",
      "RMSE: 4864.7217                                                                  \n",
      "RMSE: 4627.0321                                                                  \n",
      "RMSE: 4344.5654                                                                  \n",
      "RMSE: 4918.9068                                                                  \n",
      "RMSE: 4279.8229                                                                  \n",
      "RMSE: 4576.0780                                                                  \n",
      "RMSE: 4284.7311                                                                  \n",
      "RMSE: 4270.6918                                                                  \n",
      "RMSE: 4659.6315                                                                  \n",
      "RMSE: 4626.8625                                                                  \n",
      "RMSE: 5022.3943                                                                  \n",
      "RMSE: 4900.1908                                                                  \n",
      "RMSE: 4273.6192                                                                  \n",
      "RMSE: 4390.2199                                                                  \n",
      "RMSE: 4568.2820                                                                  \n",
      "RMSE: 4458.0783                                                                  \n",
      "RMSE: 4706.3178                                                                  \n",
      "RMSE: 4254.2951                                                                  \n",
      "RMSE: 4181.6247                                                                  \n",
      "RMSE: 4583.8573                                                                  \n",
      "RMSE: 4346.2380                                                                  \n",
      "RMSE: 4748.2212                                                                  \n",
      "RMSE: 4392.2887                                                                  \n",
      "RMSE: 4276.3444                                                                  \n",
      "RMSE: 4534.0859                                                                  \n",
      "RMSE: 4179.0099                                                                  \n",
      "RMSE: 4230.7337                                                                  \n",
      "RMSE: 4294.2283                                                                  \n",
      "RMSE: 4267.0230                                                                  \n",
      "RMSE: 4254.7495                                                                  \n",
      "RMSE: 4285.3874                                                                  \n",
      "RMSE: 4168.3102                                                                  \n",
      "RMSE: 4179.4344                                                                  \n",
      "RMSE: 4612.3825                                                                  \n",
      "RMSE: 4233.6437                                                                  \n",
      "RMSE: 4963.9760                                                                  \n",
      "RMSE: 4228.1895                                                                  \n",
      "RMSE: 4651.4255                                                                  \n",
      "RMSE: 4572.6427                                                                  \n",
      "RMSE: 4226.6027                                                                  \n",
      "RMSE: 4241.9725                                                                  \n",
      "RMSE: 4640.5425                                                                  \n",
      "RMSE: 4524.6964                                                                  \n",
      "RMSE: 4232.0055                                                                  \n",
      "RMSE: 4319.6558                                                                  \n",
      "RMSE: 4277.8176                                                                  \n",
      "RMSE: 4611.7998                                                                  \n",
      "RMSE: 4261.8493                                                                  \n",
      "RMSE: 4701.6556                                                                  \n",
      "RMSE: 4356.7067                                                                  \n",
      "RMSE: 4299.9212                                                                  \n",
      "RMSE: 4628.9254                                                                  \n",
      "RMSE: 4665.3934                                                                  \n",
      "RMSE: 4457.9384                                                                  \n",
      "RMSE: 10072.7546                                                                 \n",
      "RMSE: 4628.8800                                                                  \n",
      "RMSE: 4439.5932                                                                  \n",
      "RMSE: 4527.2231                                                                  \n",
      "RMSE: 4456.7643                                                                  \n",
      "RMSE: 4592.3539                                                                  \n",
      "100%|██████████| 100/100 [00:05<00:00, 18.29trial/s, best loss: 4159.390048931367]\n",
      "The best params:  {'colsample_bytree': 0.8500000000000001, 'gamma': 0.6000000000000001, 'learning_rate': 0.225, 'max_depth': 3, 'min_child_weight': 16.0, 'n_estimators': 238, 'subsample': 0.8378537709017343}\n"
     ]
    }
   ],
   "source": [
    "best_XGB = run_xgb_hyperopt(X_train_v,y_train_v,cv=kf,max_evals=100, random_state = random_state)"
   ]
  },
  {
   "cell_type": "code",
   "execution_count": 191,
   "metadata": {},
   "outputs": [],
   "source": [
    "XGB_model = xgb.XGBRegressor(**best_XGB, objective='reg:squarederror', random_state=random_state)"
   ]
  },
  {
   "cell_type": "code",
   "execution_count": 192,
   "metadata": {},
   "outputs": [],
   "source": [
    "XGB_model.fit(X_train, y_train)\n",
    "y_pred_XGB = XGB_model.predict(X_test)"
   ]
  },
  {
   "cell_type": "code",
   "execution_count": 193,
   "metadata": {},
   "outputs": [
    {
     "data": {
      "text/plain": [
       "4831.323037752149"
      ]
     },
     "execution_count": 193,
     "metadata": {},
     "output_type": "execute_result"
    }
   ],
   "source": [
    "np.sqrt(metrics.mean_squared_error(y_test,y_pred_XGB))"
   ]
  },
  {
   "cell_type": "code",
   "execution_count": null,
   "metadata": {},
   "outputs": [
    {
     "name": "stdout",
     "output_type": "stream",
     "text": [
      "RMSE: 4834.1379, R2: 84.05%, MSE: 23368889.5517\n"
     ]
    }
   ],
   "source": [
    "show_metrics(XGB_model,X_test,y_test)"
   ]
  },
  {
   "cell_type": "code",
   "execution_count": null,
   "metadata": {},
   "outputs": [
    {
     "data": {
      "text/plain": [
       "['joblib_model_xgb']"
      ]
     },
     "execution_count": 152,
     "metadata": {},
     "output_type": "execute_result"
    }
   ],
   "source": [
    "joblib.dump(XGB_model,'joblib_model_xgb')"
   ]
  },
  {
   "cell_type": "code",
   "execution_count": null,
   "metadata": {},
   "outputs": [],
   "source": [
    "model = joblib.load('joblib_model_xgb')"
   ]
  },
  {
   "cell_type": "code",
   "execution_count": null,
   "metadata": {},
   "outputs": [],
   "source": [
    "data = {'age' : 40,\n",
    "        'sex' : 1,\n",
    "        'bmi' : 40.30,\n",
    "        'children' : 4,\n",
    "        'smoker' : 1,\n",
    "        'region' : 2}\n",
    "data = pd.DataFrame(data,index=[0])"
   ]
  },
  {
   "cell_type": "code",
   "execution_count": null,
   "metadata": {},
   "outputs": [
    {
     "data": {
      "text/html": [
       "<div>\n",
       "<style scoped>\n",
       "    .dataframe tbody tr th:only-of-type {\n",
       "        vertical-align: middle;\n",
       "    }\n",
       "\n",
       "    .dataframe tbody tr th {\n",
       "        vertical-align: top;\n",
       "    }\n",
       "\n",
       "    .dataframe thead th {\n",
       "        text-align: right;\n",
       "    }\n",
       "</style>\n",
       "<table border=\"1\" class=\"dataframe\">\n",
       "  <thead>\n",
       "    <tr style=\"text-align: right;\">\n",
       "      <th></th>\n",
       "      <th>age</th>\n",
       "      <th>sex</th>\n",
       "      <th>bmi</th>\n",
       "      <th>children</th>\n",
       "      <th>smoker</th>\n",
       "      <th>region</th>\n",
       "    </tr>\n",
       "  </thead>\n",
       "  <tbody>\n",
       "    <tr>\n",
       "      <th>0</th>\n",
       "      <td>40</td>\n",
       "      <td>1</td>\n",
       "      <td>40.3</td>\n",
       "      <td>4</td>\n",
       "      <td>1</td>\n",
       "      <td>2</td>\n",
       "    </tr>\n",
       "  </tbody>\n",
       "</table>\n",
       "</div>"
      ],
      "text/plain": [
       "   age  sex   bmi  children  smoker  region\n",
       "0   40    1  40.3         4       1       2"
      ]
     },
     "execution_count": 155,
     "metadata": {},
     "output_type": "execute_result"
    }
   ],
   "source": [
    "data "
   ]
  },
  {
   "cell_type": "code",
   "execution_count": null,
   "metadata": {},
   "outputs": [
    {
     "data": {
      "text/plain": [
       "array([43491.918], dtype=float32)"
      ]
     },
     "execution_count": 156,
     "metadata": {},
     "output_type": "execute_result"
    }
   ],
   "source": [
    "model.predict(data)"
   ]
  }
 ],
 "metadata": {
  "kernelspec": {
   "display_name": "py_3_11",
   "language": "python",
   "name": "python3"
  },
  "language_info": {
   "codemirror_mode": {
    "name": "ipython",
    "version": 3
   },
   "file_extension": ".py",
   "mimetype": "text/x-python",
   "name": "python",
   "nbconvert_exporter": "python",
   "pygments_lexer": "ipython3",
   "version": "3.11.0"
  },
  "orig_nbformat": 4,
  "vscode": {
   "interpreter": {
    "hash": "8611c65ece908f533397df52b66d53e3eb4d6b655ed32917b1e75dcda6fbcf0a"
   }
  }
 },
 "nbformat": 4,
 "nbformat_minor": 2
}
