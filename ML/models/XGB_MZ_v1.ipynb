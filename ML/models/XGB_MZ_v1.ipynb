{
 "cells": [
  {
   "cell_type": "code",
   "execution_count": 1,
   "metadata": {},
   "outputs": [
    {
     "name": "stderr",
     "output_type": "stream",
     "text": [
      "c:\\Users\\Dell\\anaconda3\\lib\\site-packages\\xgboost\\compat.py:36: FutureWarning: pandas.Int64Index is deprecated and will be removed from pandas in a future version. Use pandas.Index with the appropriate dtype instead.\n",
      "  from pandas import MultiIndex, Int64Index\n"
     ]
    }
   ],
   "source": [
    "import numpy as np\n",
    "import pandas as pd\n",
    "import matplotlib.pyplot as plt\n",
    "\n",
    "\n",
    "\n",
    "import xgboost as xg\n",
    "from sklearn.model_selection import train_test_split\n",
    "from sklearn.metrics import mean_squared_error as MSE\n",
    "from sklearn.tree import export_graphviz\n",
    "\n",
    "from yellowbrick.features import (FeatureImportances,)\n",
    "#  conda install -c districtdatalabs yellowbrick \n",
    "\n",
    "import sys\n",
    "sys.path.append('../')  # getting to below function\n",
    "\n",
    "from df_cleaning import df_cleaning  # data celaning function"
   ]
  },
  {
   "cell_type": "code",
   "execution_count": 2,
   "metadata": {},
   "outputs": [],
   "source": [
    "df = pd.read_csv(\"../data/insurance.csv\")"
   ]
  },
  {
   "cell_type": "code",
   "execution_count": 3,
   "metadata": {},
   "outputs": [
    {
     "name": "stdout",
     "output_type": "stream",
     "text": [
      "1. All duplicated rows within dataset will be dropped. Found: 1 duplicated rows.\n",
      "2. All missing values within dataset will be replaced with 0. Found: 0 missing values. \n"
     ]
    },
    {
     "data": {
      "text/html": [
       "<div>\n",
       "<style scoped>\n",
       "    .dataframe tbody tr th:only-of-type {\n",
       "        vertical-align: middle;\n",
       "    }\n",
       "\n",
       "    .dataframe tbody tr th {\n",
       "        vertical-align: top;\n",
       "    }\n",
       "\n",
       "    .dataframe thead th {\n",
       "        text-align: right;\n",
       "    }\n",
       "</style>\n",
       "<table border=\"1\" class=\"dataframe\">\n",
       "  <thead>\n",
       "    <tr style=\"text-align: right;\">\n",
       "      <th></th>\n",
       "      <th>age</th>\n",
       "      <th>bmi</th>\n",
       "      <th>children</th>\n",
       "      <th>sex_male</th>\n",
       "      <th>smoker_yes</th>\n",
       "      <th>region_northwest</th>\n",
       "      <th>region_southeast</th>\n",
       "      <th>region_southwest</th>\n",
       "      <th>charges</th>\n",
       "    </tr>\n",
       "  </thead>\n",
       "  <tbody>\n",
       "    <tr>\n",
       "      <th>0</th>\n",
       "      <td>19</td>\n",
       "      <td>27.900</td>\n",
       "      <td>0</td>\n",
       "      <td>0</td>\n",
       "      <td>1</td>\n",
       "      <td>0</td>\n",
       "      <td>0</td>\n",
       "      <td>1</td>\n",
       "      <td>16884.92400</td>\n",
       "    </tr>\n",
       "    <tr>\n",
       "      <th>1</th>\n",
       "      <td>18</td>\n",
       "      <td>33.770</td>\n",
       "      <td>1</td>\n",
       "      <td>1</td>\n",
       "      <td>0</td>\n",
       "      <td>0</td>\n",
       "      <td>1</td>\n",
       "      <td>0</td>\n",
       "      <td>1725.55230</td>\n",
       "    </tr>\n",
       "    <tr>\n",
       "      <th>2</th>\n",
       "      <td>28</td>\n",
       "      <td>33.000</td>\n",
       "      <td>3</td>\n",
       "      <td>1</td>\n",
       "      <td>0</td>\n",
       "      <td>0</td>\n",
       "      <td>1</td>\n",
       "      <td>0</td>\n",
       "      <td>4449.46200</td>\n",
       "    </tr>\n",
       "    <tr>\n",
       "      <th>3</th>\n",
       "      <td>33</td>\n",
       "      <td>22.705</td>\n",
       "      <td>0</td>\n",
       "      <td>1</td>\n",
       "      <td>0</td>\n",
       "      <td>1</td>\n",
       "      <td>0</td>\n",
       "      <td>0</td>\n",
       "      <td>21984.47061</td>\n",
       "    </tr>\n",
       "    <tr>\n",
       "      <th>4</th>\n",
       "      <td>32</td>\n",
       "      <td>28.880</td>\n",
       "      <td>0</td>\n",
       "      <td>1</td>\n",
       "      <td>0</td>\n",
       "      <td>1</td>\n",
       "      <td>0</td>\n",
       "      <td>0</td>\n",
       "      <td>3866.85520</td>\n",
       "    </tr>\n",
       "  </tbody>\n",
       "</table>\n",
       "</div>"
      ],
      "text/plain": [
       "   age     bmi  children  sex_male  smoker_yes  region_northwest  \\\n",
       "0   19  27.900         0         0           1                 0   \n",
       "1   18  33.770         1         1           0                 0   \n",
       "2   28  33.000         3         1           0                 0   \n",
       "3   33  22.705         0         1           0                 1   \n",
       "4   32  28.880         0         1           0                 1   \n",
       "\n",
       "   region_southeast  region_southwest      charges  \n",
       "0                 0                 1  16884.92400  \n",
       "1                 1                 0   1725.55230  \n",
       "2                 1                 0   4449.46200  \n",
       "3                 0                 0  21984.47061  \n",
       "4                 0                 0   3866.85520  "
      ]
     },
     "execution_count": 3,
     "metadata": {},
     "output_type": "execute_result"
    }
   ],
   "source": [
    "df = df_cleaning(df)\n",
    "df.head(5)"
   ]
  },
  {
   "cell_type": "code",
   "execution_count": 4,
   "metadata": {},
   "outputs": [],
   "source": [
    "X = df.drop('charges', axis = 1)\n",
    "y = df['charges']"
   ]
  },
  {
   "cell_type": "code",
   "execution_count": 5,
   "metadata": {},
   "outputs": [],
   "source": [
    "X_train, X_test, y_train, y_test = train_test_split(X, y, test_size=0.33, random_state=0)"
   ]
  },
  {
   "cell_type": "code",
   "execution_count": 6,
   "metadata": {},
   "outputs": [],
   "source": [
    "# Instantiation\n",
    "xgb_r = xg.XGBRegressor(objective ='reg:squarederror',\n",
    "                  n_estimators = 238, random_seed=42, n_jobs=4, learning_rate=0.225, gamma=0.6, max_depth=3, subsample=0.8378537709017343, colsample_bytree=0.85)"
   ]
  },
  {
   "cell_type": "code",
   "execution_count": 7,
   "metadata": {},
   "outputs": [
    {
     "name": "stdout",
     "output_type": "stream",
     "text": [
      "[23:05:30] WARNING: ..\\src\\learner.cc:576: \n",
      "Parameters: { \"random_seed\" } might not be used.\n",
      "\n",
      "  This could be a false alarm, with some parameters getting used by language bindings but\n",
      "  then being mistakenly passed down to XGBoost core, or some parameter actually being used\n",
      "  but getting flagged wrongly here. Please open an issue if you find any such cases.\n",
      "\n",
      "\n"
     ]
    },
    {
     "name": "stderr",
     "output_type": "stream",
     "text": [
      "c:\\Users\\Dell\\anaconda3\\lib\\site-packages\\xgboost\\data.py:250: FutureWarning: pandas.Int64Index is deprecated and will be removed from pandas in a future version. Use pandas.Index with the appropriate dtype instead.\n",
      "  elif isinstance(data.columns, (pd.Int64Index, pd.RangeIndex)):\n"
     ]
    },
    {
     "data": {
      "text/plain": [
       "XGBRegressor(base_score=0.5, booster='gbtree', colsample_bylevel=1,\n",
       "             colsample_bynode=1, colsample_bytree=0.85,\n",
       "             enable_categorical=False, gamma=0.6, gpu_id=-1,\n",
       "             importance_type=None, interaction_constraints='',\n",
       "             learning_rate=0.225, max_delta_step=0, max_depth=3,\n",
       "             min_child_weight=1, missing=nan, monotone_constraints='()',\n",
       "             n_estimators=238, n_jobs=4, num_parallel_tree=1, predictor='auto',\n",
       "             random_seed=42, random_state=0, reg_alpha=0, reg_lambda=1,\n",
       "             scale_pos_weight=1, subsample=0.8378537709017343,\n",
       "             tree_method='exact', validate_parameters=1, verbosity=None)"
      ]
     },
     "execution_count": 7,
     "metadata": {},
     "output_type": "execute_result"
    }
   ],
   "source": [
    "# Fitting the model\n",
    "xgb_r.fit(X_train, y_train, early_stopping_rounds=10, \n",
    "             eval_set=[(X_test, y_test)], \n",
    "             verbose=False)"
   ]
  },
  {
   "cell_type": "code",
   "execution_count": 33,
   "metadata": {},
   "outputs": [
    {
     "name": "stdout",
     "output_type": "stream",
     "text": [
      "running cross validation\n",
      "[0]\ttrain-rmse:13039.12480+214.58122\ttest-rmse:13050.49336+943.98431\n",
      "[1]\ttrain-rmse:9679.29531+154.85690\ttest-rmse:9761.01211+763.49576\n",
      "[2]\ttrain-rmse:7430.16494+115.03180\ttest-rmse:7620.85156+663.24461\n",
      "[3]\ttrain-rmse:5953.99639+89.01063\ttest-rmse:6297.81445+612.81569\n",
      "[4]\ttrain-rmse:5020.17080+87.09964\ttest-rmse:5505.29062+568.41709\n",
      "[5]\ttrain-rmse:4424.47373+97.43027\ttest-rmse:5066.53105+544.51885\n",
      "[6]\ttrain-rmse:4040.94541+101.10730\ttest-rmse:4840.75518+505.73283\n",
      "[7]\ttrain-rmse:3778.69995+122.39073\ttest-rmse:4722.52202+483.05636\n",
      "[8]\ttrain-rmse:3592.27612+128.10494\ttest-rmse:4671.24668+455.08868\n",
      "[9]\ttrain-rmse:3444.99028+129.66766\ttest-rmse:4676.67300+422.28793\n",
      "[10]\ttrain-rmse:3347.02593+151.62460\ttest-rmse:4674.88901+419.29681\n"
     ]
    },
    {
     "name": "stderr",
     "output_type": "stream",
     "text": [
      "c:\\Users\\Dell\\anaconda3\\lib\\site-packages\\xgboost\\data.py:250: FutureWarning: pandas.Int64Index is deprecated and will be removed from pandas in a future version. Use pandas.Index with the appropriate dtype instead.\n",
      "  elif isinstance(data.columns, (pd.Int64Index, pd.RangeIndex)):\n"
     ]
    },
    {
     "name": "stdout",
     "output_type": "stream",
     "text": [
      "[11]\ttrain-rmse:3266.55825+151.41146\ttest-rmse:4679.47622+404.88967\n",
      "[12]\ttrain-rmse:3192.00269+155.33628\ttest-rmse:4691.09404+393.85184\n",
      "[13]\ttrain-rmse:3132.54233+143.94258\ttest-rmse:4701.40771+384.88820\n",
      "[14]\ttrain-rmse:3081.06143+124.33148\ttest-rmse:4700.71655+383.77951\n",
      "[15]\ttrain-rmse:2998.71089+119.05698\ttest-rmse:4719.28779+372.26347\n",
      "[16]\ttrain-rmse:2947.78594+128.19407\ttest-rmse:4724.09238+367.49904\n",
      "[17]\ttrain-rmse:2866.50127+108.13437\ttest-rmse:4732.93516+364.30312\n",
      "[18]\ttrain-rmse:2808.11226+87.85291\ttest-rmse:4749.61475+360.19830\n",
      "[19]\ttrain-rmse:2766.13843+95.85497\ttest-rmse:4750.61777+359.72322\n",
      "[20]\ttrain-rmse:2722.43345+124.13294\ttest-rmse:4747.43984+359.17918\n",
      "[21]\ttrain-rmse:2682.08262+124.89504\ttest-rmse:4760.11465+348.05884\n",
      "[22]\ttrain-rmse:2625.80566+111.74014\ttest-rmse:4777.98535+349.14789\n",
      "[23]\ttrain-rmse:2587.02104+107.84127\ttest-rmse:4791.05146+350.41180\n",
      "[24]\ttrain-rmse:2543.52593+95.50512\ttest-rmse:4803.38008+351.39627\n",
      "[25]\ttrain-rmse:2521.32026+96.33684\ttest-rmse:4812.94170+353.48216\n",
      "[26]\ttrain-rmse:2502.65239+90.00514\ttest-rmse:4821.47637+353.79274\n",
      "[27]\ttrain-rmse:2461.14824+83.39757\ttest-rmse:4828.04561+348.69925\n",
      "[28]\ttrain-rmse:2419.15830+91.88304\ttest-rmse:4847.91826+332.30434\n",
      "[29]\ttrain-rmse:2372.25078+100.44944\ttest-rmse:4859.72344+334.04089\n",
      "[30]\ttrain-rmse:2330.12114+115.46000\ttest-rmse:4870.62158+332.82968\n",
      "[31]\ttrain-rmse:2285.52852+118.55181\ttest-rmse:4878.32236+334.53915\n",
      "[32]\ttrain-rmse:2257.35239+118.52618\ttest-rmse:4885.28574+326.29216\n",
      "[33]\ttrain-rmse:2225.21226+127.95989\ttest-rmse:4885.06650+325.32869\n",
      "[34]\ttrain-rmse:2200.79897+110.93936\ttest-rmse:4895.40762+318.42377\n",
      "[35]\ttrain-rmse:2136.24663+125.18497\ttest-rmse:4911.95283+319.59624\n",
      "[36]\ttrain-rmse:2103.72173+128.13959\ttest-rmse:4918.20293+315.20840\n",
      "[37]\ttrain-rmse:2068.11248+136.41260\ttest-rmse:4924.86943+316.16043\n",
      "[38]\ttrain-rmse:2039.38374+139.73925\ttest-rmse:4926.11357+319.00882\n",
      "[39]\ttrain-rmse:2006.53440+149.39021\ttest-rmse:4929.93545+318.93080\n",
      "[40]\ttrain-rmse:1963.63430+148.39311\ttest-rmse:4941.60537+315.13876\n",
      "[41]\ttrain-rmse:1927.43877+154.41122\ttest-rmse:4946.86064+314.39909\n",
      "[42]\ttrain-rmse:1899.11580+148.96599\ttest-rmse:4960.42627+311.80165\n",
      "[43]\ttrain-rmse:1863.84919+156.33029\ttest-rmse:4969.94736+313.75970\n",
      "[44]\ttrain-rmse:1846.68464+136.24170\ttest-rmse:4976.06006+306.69431\n",
      "[45]\ttrain-rmse:1817.99419+138.80815\ttest-rmse:4988.11348+292.14211\n",
      "[46]\ttrain-rmse:1780.33674+130.23284\ttest-rmse:4998.11982+291.75269\n",
      "[47]\ttrain-rmse:1758.37292+126.84377\ttest-rmse:5003.37275+285.18341\n",
      "[48]\ttrain-rmse:1742.98555+132.67700\ttest-rmse:5006.71143+284.90071\n",
      "[49]\ttrain-rmse:1710.82832+131.48084\ttest-rmse:5012.18232+280.88333\n",
      "[50]\ttrain-rmse:1697.16782+119.71358\ttest-rmse:5016.55703+273.69181\n",
      "[51]\ttrain-rmse:1664.21624+104.55898\ttest-rmse:5022.02686+271.43668\n",
      "[52]\ttrain-rmse:1635.58665+86.15818\ttest-rmse:5026.97334+269.81009\n",
      "[53]\ttrain-rmse:1602.26931+97.00023\ttest-rmse:5032.35088+273.02581\n",
      "[54]\ttrain-rmse:1574.52937+91.48047\ttest-rmse:5042.30605+268.64010\n",
      "[55]\ttrain-rmse:1555.78962+92.27328\ttest-rmse:5048.54512+268.14763\n",
      "[56]\ttrain-rmse:1536.64390+87.75134\ttest-rmse:5051.85820+270.05516\n",
      "[57]\ttrain-rmse:1515.39204+93.14105\ttest-rmse:5060.83457+269.83288\n",
      "[58]\ttrain-rmse:1498.24812+87.95999\ttest-rmse:5068.79521+262.19475\n",
      "[59]\ttrain-rmse:1471.55518+85.85614\ttest-rmse:5079.86094+267.14499\n",
      "[60]\ttrain-rmse:1454.59319+86.75375\ttest-rmse:5087.11133+265.04773\n",
      "[61]\ttrain-rmse:1436.82024+86.97631\ttest-rmse:5090.07549+265.01464\n",
      "[62]\ttrain-rmse:1417.16641+88.01346\ttest-rmse:5092.29287+263.55466\n",
      "[63]\ttrain-rmse:1389.94502+92.82588\ttest-rmse:5102.93486+258.63691\n",
      "[64]\ttrain-rmse:1368.54875+95.20739\ttest-rmse:5108.19209+258.63231\n",
      "[65]\ttrain-rmse:1353.33589+95.99943\ttest-rmse:5111.00645+260.33906\n",
      "[66]\ttrain-rmse:1346.98667+97.47338\ttest-rmse:5113.21221+261.00537\n",
      "[67]\ttrain-rmse:1325.40320+94.07182\ttest-rmse:5121.21211+255.01526\n",
      "[68]\ttrain-rmse:1309.50979+94.01318\ttest-rmse:5120.04932+257.58813\n",
      "[69]\ttrain-rmse:1294.74980+95.32665\ttest-rmse:5127.24814+255.30558\n",
      "[70]\ttrain-rmse:1270.24270+93.19819\ttest-rmse:5135.01709+255.03083\n",
      "[71]\ttrain-rmse:1242.85476+101.00189\ttest-rmse:5140.60791+255.46336\n",
      "[72]\ttrain-rmse:1227.54941+103.74032\ttest-rmse:5143.06260+256.99095\n",
      "[73]\ttrain-rmse:1214.66592+104.88425\ttest-rmse:5143.05879+258.80748\n",
      "[74]\ttrain-rmse:1199.95950+109.32623\ttest-rmse:5147.07656+259.90822\n",
      "[75]\ttrain-rmse:1180.01801+105.91022\ttest-rmse:5153.17461+258.09880\n",
      "[76]\ttrain-rmse:1164.72202+104.83960\ttest-rmse:5152.16133+259.94856\n",
      "[77]\ttrain-rmse:1144.54700+94.32692\ttest-rmse:5155.25156+259.27545\n",
      "[78]\ttrain-rmse:1135.08739+91.69190\ttest-rmse:5160.33516+257.61651\n",
      "[79]\ttrain-rmse:1119.25641+85.10972\ttest-rmse:5161.61592+256.78716\n",
      "[80]\ttrain-rmse:1105.37056+83.71725\ttest-rmse:5165.04336+256.66319\n",
      "[81]\ttrain-rmse:1090.38184+84.02726\ttest-rmse:5167.93125+259.47574\n",
      "[82]\ttrain-rmse:1063.91725+74.58628\ttest-rmse:5168.96230+265.33427\n",
      "[83]\ttrain-rmse:1048.10024+79.18508\ttest-rmse:5174.10342+263.23860\n",
      "[84]\ttrain-rmse:1033.28464+76.82959\ttest-rmse:5174.09766+263.34768\n",
      "[85]\ttrain-rmse:1021.54434+78.36792\ttest-rmse:5175.64717+260.59594\n",
      "[86]\ttrain-rmse:1012.05741+75.76196\ttest-rmse:5178.31367+259.41972\n",
      "[87]\ttrain-rmse:996.67950+78.72687\ttest-rmse:5185.67217+258.45348\n",
      "[88]\ttrain-rmse:984.59839+74.44385\ttest-rmse:5192.70156+260.76829\n",
      "[89]\ttrain-rmse:972.63517+77.26783\ttest-rmse:5198.23145+261.84180\n",
      "[90]\ttrain-rmse:958.41917+75.17996\ttest-rmse:5200.23066+259.39839\n",
      "[91]\ttrain-rmse:945.88843+76.13711\ttest-rmse:5202.65361+257.39948\n",
      "[92]\ttrain-rmse:931.27654+80.38198\ttest-rmse:5205.63604+254.91449\n",
      "[93]\ttrain-rmse:922.91351+75.80876\ttest-rmse:5208.69609+253.96085\n",
      "[94]\ttrain-rmse:912.43221+77.10098\ttest-rmse:5213.04453+253.68111\n",
      "[95]\ttrain-rmse:903.45774+72.51336\ttest-rmse:5214.41582+253.98720\n",
      "[96]\ttrain-rmse:896.86769+70.07496\ttest-rmse:5217.39873+251.21424\n",
      "[97]\ttrain-rmse:884.15598+75.59961\ttest-rmse:5217.41504+251.29759\n",
      "[98]\ttrain-rmse:872.06694+74.13168\ttest-rmse:5218.37148+252.78883\n",
      "[99]\ttrain-rmse:865.72604+74.80228\ttest-rmse:5224.65215+247.98451\n",
      "[100]\ttrain-rmse:853.26024+74.46304\ttest-rmse:5228.19189+246.56924\n",
      "[101]\ttrain-rmse:849.63022+73.64570\ttest-rmse:5227.63809+246.15657\n",
      "[102]\ttrain-rmse:835.95118+75.15052\ttest-rmse:5230.53193+247.66659\n",
      "[103]\ttrain-rmse:828.23333+77.90904\ttest-rmse:5232.37754+249.15436\n",
      "[104]\ttrain-rmse:821.01118+82.29696\ttest-rmse:5231.51397+248.67840\n",
      "[105]\ttrain-rmse:808.96498+79.01042\ttest-rmse:5234.94961+249.22909\n",
      "[106]\ttrain-rmse:801.86708+81.94589\ttest-rmse:5237.22520+249.94459\n",
      "[107]\ttrain-rmse:786.72402+84.12903\ttest-rmse:5238.89961+250.06279\n",
      "[108]\ttrain-rmse:782.32043+85.66576\ttest-rmse:5239.69883+250.06617\n",
      "[109]\ttrain-rmse:775.33789+88.06369\ttest-rmse:5240.75244+249.91630\n",
      "[110]\ttrain-rmse:769.91759+89.30794\ttest-rmse:5242.35732+249.97049\n",
      "[111]\ttrain-rmse:762.06309+91.50336\ttest-rmse:5242.77930+250.07648\n",
      "[112]\ttrain-rmse:753.08091+89.81608\ttest-rmse:5243.58223+250.11606\n",
      "[113]\ttrain-rmse:743.97395+92.99627\ttest-rmse:5245.80586+249.64580\n",
      "[114]\ttrain-rmse:734.63024+100.00657\ttest-rmse:5248.16338+251.49067\n",
      "[115]\ttrain-rmse:728.22095+100.86006\ttest-rmse:5249.81094+252.77157\n",
      "[116]\ttrain-rmse:724.25630+100.83090\ttest-rmse:5251.70332+253.83822\n",
      "[117]\ttrain-rmse:722.13105+100.17598\ttest-rmse:5253.43848+253.16123\n",
      "[118]\ttrain-rmse:712.61584+101.99124\ttest-rmse:5255.53740+252.64028\n",
      "[119]\ttrain-rmse:703.55099+106.30023\ttest-rmse:5257.92725+254.50660\n",
      "[120]\ttrain-rmse:697.51726+109.50240\ttest-rmse:5260.08301+255.51036\n",
      "[121]\ttrain-rmse:687.91437+108.85652\ttest-rmse:5262.09434+254.17854\n",
      "[122]\ttrain-rmse:679.98221+106.58674\ttest-rmse:5265.53662+253.48069\n",
      "[123]\ttrain-rmse:674.59280+107.59376\ttest-rmse:5267.03438+253.47145\n",
      "[124]\ttrain-rmse:670.55565+108.82891\ttest-rmse:5268.13066+253.81399\n",
      "[125]\ttrain-rmse:667.48742+110.69709\ttest-rmse:5268.22109+253.65596\n",
      "[126]\ttrain-rmse:662.16998+108.92656\ttest-rmse:5270.99043+251.80553\n",
      "[127]\ttrain-rmse:657.88038+107.94743\ttest-rmse:5274.28027+250.56332\n",
      "[128]\ttrain-rmse:653.52192+110.50486\ttest-rmse:5276.84824+251.47061\n",
      "[129]\ttrain-rmse:647.14795+112.35819\ttest-rmse:5277.89932+252.27911\n",
      "[130]\ttrain-rmse:641.26050+112.44422\ttest-rmse:5279.30752+253.18458\n",
      "[131]\ttrain-rmse:636.61079+111.21317\ttest-rmse:5280.80732+254.09289\n",
      "[132]\ttrain-rmse:629.85453+110.60718\ttest-rmse:5280.63311+252.66033\n",
      "[133]\ttrain-rmse:624.12277+114.48288\ttest-rmse:5282.71680+254.25826\n",
      "[134]\ttrain-rmse:620.21068+115.14654\ttest-rmse:5283.77168+254.30555\n",
      "[135]\ttrain-rmse:616.05134+114.60923\ttest-rmse:5285.03193+253.76341\n",
      "[136]\ttrain-rmse:610.00892+116.09828\ttest-rmse:5287.30654+253.78282\n",
      "[137]\ttrain-rmse:606.38992+114.93424\ttest-rmse:5287.87490+253.30664\n",
      "[138]\ttrain-rmse:603.37177+114.31148\ttest-rmse:5289.35225+253.08268\n",
      "[139]\ttrain-rmse:598.32573+117.28897\ttest-rmse:5291.38174+252.01817\n",
      "[140]\ttrain-rmse:591.65596+117.03758\ttest-rmse:5292.93594+252.37339\n",
      "[141]\ttrain-rmse:586.62666+115.59483\ttest-rmse:5295.09522+251.67777\n",
      "[142]\ttrain-rmse:581.70156+116.79344\ttest-rmse:5296.85098+252.11723\n",
      "[143]\ttrain-rmse:578.73155+117.77662\ttest-rmse:5297.28496+252.14366\n",
      "[144]\ttrain-rmse:574.87788+119.30734\ttest-rmse:5298.82812+250.90572\n",
      "[145]\ttrain-rmse:572.68329+118.91118\ttest-rmse:5300.79492+249.39482\n",
      "[146]\ttrain-rmse:569.96528+118.53736\ttest-rmse:5301.75303+250.31348\n",
      "[147]\ttrain-rmse:565.58671+117.81699\ttest-rmse:5303.11885+250.72917\n",
      "[148]\ttrain-rmse:562.37435+118.21005\ttest-rmse:5304.61094+249.75747\n",
      "[149]\ttrain-rmse:557.15241+117.43324\ttest-rmse:5307.61348+246.82872\n",
      "[150]\ttrain-rmse:550.94496+119.89772\ttest-rmse:5308.63291+246.95091\n",
      "[151]\ttrain-rmse:546.08831+121.90553\ttest-rmse:5310.11553+247.19598\n",
      "[152]\ttrain-rmse:539.61067+122.40198\ttest-rmse:5310.30918+247.09618\n",
      "[153]\ttrain-rmse:536.22474+123.68719\ttest-rmse:5312.35752+247.24666\n",
      "[154]\ttrain-rmse:530.18517+124.53589\ttest-rmse:5313.59424+246.79041\n",
      "[155]\ttrain-rmse:525.18270+121.83212\ttest-rmse:5315.09375+247.01506\n",
      "[156]\ttrain-rmse:519.23857+123.55076\ttest-rmse:5315.51240+247.94290\n",
      "[157]\ttrain-rmse:515.32161+126.37565\ttest-rmse:5316.19727+247.80992\n",
      "[158]\ttrain-rmse:512.34620+127.09733\ttest-rmse:5316.94346+247.62502\n",
      "[159]\ttrain-rmse:509.51455+127.36877\ttest-rmse:5318.48262+246.53006\n",
      "[160]\ttrain-rmse:506.55228+127.62587\ttest-rmse:5319.19404+246.20552\n",
      "[161]\ttrain-rmse:503.25006+127.35673\ttest-rmse:5319.85488+245.70640\n",
      "[162]\ttrain-rmse:500.34567+125.95132\ttest-rmse:5320.84404+246.10080\n",
      "[163]\ttrain-rmse:498.85803+125.10872\ttest-rmse:5323.14014+244.33825\n",
      "[164]\ttrain-rmse:497.09145+124.37277\ttest-rmse:5323.96064+243.65142\n",
      "[165]\ttrain-rmse:493.35110+123.72791\ttest-rmse:5325.15107+242.69437\n",
      "[166]\ttrain-rmse:490.25464+125.04867\ttest-rmse:5326.69316+242.00444\n",
      "[167]\ttrain-rmse:487.99847+124.49080\ttest-rmse:5327.70293+242.81893\n",
      "[168]\ttrain-rmse:485.51125+124.49360\ttest-rmse:5328.38770+242.38925\n",
      "[169]\ttrain-rmse:483.33845+124.76110\ttest-rmse:5328.81982+242.41210\n",
      "[170]\ttrain-rmse:480.73583+125.38605\ttest-rmse:5328.66240+241.53843\n",
      "[171]\ttrain-rmse:478.58219+126.83838\ttest-rmse:5328.84600+242.09686\n",
      "[172]\ttrain-rmse:473.56647+126.77749\ttest-rmse:5331.17412+240.85783\n",
      "[173]\ttrain-rmse:468.88515+127.62632\ttest-rmse:5333.38398+239.66244\n",
      "[174]\ttrain-rmse:467.44919+128.76250\ttest-rmse:5334.09805+239.50789\n",
      "[175]\ttrain-rmse:463.85032+129.12513\ttest-rmse:5334.60742+238.21747\n",
      "[176]\ttrain-rmse:462.34987+129.51414\ttest-rmse:5335.18262+238.35040\n",
      "[177]\ttrain-rmse:460.06144+129.65735\ttest-rmse:5335.73252+237.97252\n",
      "[178]\ttrain-rmse:458.83070+129.40614\ttest-rmse:5336.50693+237.77189\n",
      "[179]\ttrain-rmse:455.53713+130.50655\ttest-rmse:5337.15537+237.88154\n",
      "[180]\ttrain-rmse:451.59025+130.84737\ttest-rmse:5337.48086+237.89185\n",
      "[181]\ttrain-rmse:449.33155+130.28428\ttest-rmse:5338.55049+238.45634\n",
      "[182]\ttrain-rmse:447.64842+129.86141\ttest-rmse:5338.93027+238.30775\n",
      "[183]\ttrain-rmse:444.57580+129.67877\ttest-rmse:5339.83945+237.93213\n",
      "[184]\ttrain-rmse:442.43164+129.64118\ttest-rmse:5340.49424+237.98680\n",
      "[185]\ttrain-rmse:440.56868+128.94835\ttest-rmse:5340.67275+237.91314\n",
      "[186]\ttrain-rmse:439.01179+129.05529\ttest-rmse:5341.50557+237.12580\n",
      "[187]\ttrain-rmse:437.67549+129.37724\ttest-rmse:5341.33945+237.06735\n",
      "[188]\ttrain-rmse:435.65378+129.69012\ttest-rmse:5341.94512+237.00495\n",
      "[189]\ttrain-rmse:433.12876+131.43029\ttest-rmse:5342.15576+237.16531\n",
      "[190]\ttrain-rmse:431.65893+131.98614\ttest-rmse:5343.17744+236.34716\n",
      "[191]\ttrain-rmse:429.38115+132.64939\ttest-rmse:5343.58604+237.21482\n",
      "[192]\ttrain-rmse:428.52664+132.25346\ttest-rmse:5343.36416+237.12895\n",
      "[193]\ttrain-rmse:427.20584+132.69461\ttest-rmse:5343.53906+237.23321\n",
      "[194]\ttrain-rmse:425.26369+132.77977\ttest-rmse:5343.81875+237.19903\n",
      "[195]\ttrain-rmse:423.62013+133.65369\ttest-rmse:5343.93271+237.57908\n",
      "[196]\ttrain-rmse:421.90891+133.91357\ttest-rmse:5343.67256+237.54647\n",
      "[197]\ttrain-rmse:420.27936+134.24755\ttest-rmse:5343.75488+237.61155\n",
      "[198]\ttrain-rmse:419.15704+133.86682\ttest-rmse:5344.43623+237.02048\n",
      "[199]\ttrain-rmse:417.57110+134.41016\ttest-rmse:5344.93154+236.98174\n"
     ]
    }
   ],
   "source": [
    "# load data in do training\n",
    "param = {'max_depth':6, 'eta':0.3, 'objective':'reg:squarederror'}\n",
    "num_round = 200\n",
    "dtrain = xg.DMatrix(data=X, label=y)\n",
    "print('running cross validation')\n",
    "# do cross validation, this will print result out as\n",
    "# [iteration]  metric_name:mean_value+std_value\n",
    "# std_value is standard deviation of the metric\n",
    "xg_cv = xg.cv(param, dtrain, num_round, nfold=5,\n",
    "       metrics={'rmse'}, seed=0,\n",
    "       callbacks=[xg.callback.EvaluationMonitor(show_stdv=True)])\n",
    "\n",
    "# xgb.cv(\n",
    "#   params = params,\n",
    "#   dtrain = dtrain_matrix,\n",
    "#   num_boost_round=1000,  # Maximum iterations\n",
    "#   nfold=5, # Number of folds to use\n",
    "#   metrics = 'rmse', # List of evaluation metrics to be used in cross validation, when it is not specified, the evaluation metric is chosen according to objective function.\n",
    "#   as_pandas = True,\n",
    "#   seed = 42,\n",
    "#   early_stopping_rounds = 10, # Training with a validation set will stop if the performance doesn't improve for n rounds.\n",
    "\n",
    "# print('running cross validation, disable standard deviation display')\n",
    "# # do cross validation, this will print result out as\n",
    "# # [iteration]  metric_name:mean_value\n",
    "# res = xg.cv(param, dtrain, num_boost_round=100, nfold=5,\n",
    "#              metrics={'rmse'}, seed=0,\n",
    "#              callbacks=[xg.callback.EvaluationMonitor(show_stdv=False),\n",
    "#                         xg.callback.EarlyStopping(5)])\n",
    "# print(res)\n",
    "# print('running cross validation, with preprocessing function')\n",
    "# # define the preprocessing function\n",
    "# # used to return the preprocessed training, test data, and parameter\n",
    "# # we can use this to do weight rescale, etc.\n",
    "# # as a example, we try to set scale_pos_weight\n",
    "# def fpreproc(dtrain, dtest, param):\n",
    "#     label = dtrain.get_label()\n",
    "#     ratio = float(np.sum(label == 0)) / np.sum(label == 1)\n",
    "#     param['scale_pos_weight'] = ratio\n",
    "#     return (dtrain, dtest, param)\n",
    "\n",
    "# # do cross validation, for each fold\n",
    "# # the dtrain, dtest, param will be passed into fpreproc\n",
    "# # then the return value of fpreproc will be used to generate\n",
    "# # results of that fold\n",
    "# xg_cv = xg.cv(param, dtrain, num_round, nfold=5,\n",
    "#        metrics={'rmse'}, seed=0, fpreproc=fpreproc)\n",
    "\n",
    "###\n",
    "# you can also do cross validation with customized loss function\n",
    "# See custom_objective.py\n",
    "##\n",
    "# print('running cross validation, with customized loss function')\n",
    "# def logregobj(preds, dtrain):\n",
    "#     labels = dtrain.get_label()\n",
    "#     preds = 1.0 / (1.0 + np.exp(-preds))\n",
    "#     grad = preds - labels\n",
    "#     hess = preds * (1.0 - preds)\n",
    "#     return grad, hess\n",
    "# def evalerror(preds, dtrain):\n",
    "#     labels = dtrain.get_label()\n",
    "#     return 'rmse', float(sum(labels != (preds > 0.0))) / len(labels)\n",
    "\n",
    "# param = {'max_depth':2, 'eta':1}\n",
    "# # train with customized objective\n",
    "# xg.cv(param, dtrain, num_round, nfold=5, seed=0,\n",
    "#        obj=logregobj, feval=evalerror)"
   ]
  },
  {
   "cell_type": "code",
   "execution_count": 34,
   "metadata": {},
   "outputs": [
    {
     "data": {
      "text/plain": [
       "Text(0.5, 0, 'Round')"
      ]
     },
     "execution_count": 34,
     "metadata": {},
     "output_type": "execute_result"
    },
    {
     "data": {
      "image/png": "[encoded data removed]",
      "text/plain": [
       "<Figure size 800x550 with 1 Axes>"
      ]
     },
     "metadata": {},
     "output_type": "display_data"
    }
   ],
   "source": [
    "plt.plot(xg_cv.iloc[:,0])\n",
    "plt.ylabel(\"RMSE\")\n",
    "plt.xlabel('Round')"
   ]
  },
  {
   "cell_type": "code",
   "execution_count": 9,
   "metadata": {},
   "outputs": [],
   "source": [
    "# Predict the model\n",
    "y_pred = xgb_r.predict(X_test)"
   ]
  },
  {
   "cell_type": "code",
   "execution_count": 10,
   "metadata": {},
   "outputs": [
    {
     "data": {
      "text/plain": [
       "1248    False\n",
       "610     False\n",
       "393     False\n",
       "503     False\n",
       "198     False\n",
       "        ...  \n",
       "885     False\n",
       "422     False\n",
       "294     False\n",
       "261     False\n",
       "611     False\n",
       "Name: charges, Length: 442, dtype: bool"
      ]
     },
     "execution_count": 10,
     "metadata": {},
     "output_type": "execute_result"
    }
   ],
   "source": [
    "y_pred == y_test"
   ]
  },
  {
   "cell_type": "code",
   "execution_count": 11,
   "metadata": {},
   "outputs": [
    {
     "name": "stdout",
     "output_type": "stream",
     "text": [
      "RMSE :  4717.060737\n"
     ]
    }
   ],
   "source": [
    "# RMSE Computation\n",
    "rmse = np.sqrt(MSE(y_test, y_pred))\n",
    "print(\"RMSE : % f\" %(rmse))"
   ]
  },
  {
   "cell_type": "code",
   "execution_count": 12,
   "metadata": {},
   "outputs": [
    {
     "name": "stdout",
     "output_type": "stream",
     "text": [
      "smoker_yes     0.852\n",
      "age            0.052\n",
      "bmi            0.051\n",
      "region_northwest     0.013\n",
      "children       0.012\n"
     ]
    }
   ],
   "source": [
    "for col, val in sorted(\n",
    "    zip(\n",
    "        X.columns, xgb_r.feature_importances_\n",
    "    ),\n",
    "    key=lambda x: x[1],\n",
    "    reverse=True,\n",
    ")[:5]:\n",
    "    print(f\"{col:10}{val:10.3f}\")"
   ]
  },
  {
   "cell_type": "code",
   "execution_count": 13,
   "metadata": {},
   "outputs": [
    {
     "data": {
      "text/plain": [
       "[Text(0.5, 1.0, 'Wykres ważności cech'),\n",
       " Text(0.5, 0, 'Ocena F'),\n",
       " Text(0, 0.5, 'Cecha')]"
      ]
     },
     "execution_count": 13,
     "metadata": {},
     "output_type": "execute_result"
    },
    {
     "data": {
      "image/png": "[encoded data removed]",
      "text/plain": [
       "<Figure size 600x400 with 1 Axes>"
      ]
     },
     "metadata": {},
     "output_type": "display_data"
    }
   ],
   "source": [
    "fig, ax = plt.subplots(figsize=(6, 4))\n",
    "xg.plot_importance(xgb_r, ax=ax)\n",
    "ax.set(title=\"Wykres ważności cech\", xlabel=\"Ocena F\", ylabel=\"Cecha\")\n",
    "#fig.savefig(\"images/mlpr_1405.png\", dpi=300)"
   ]
  },
  {
   "cell_type": "code",
   "execution_count": 14,
   "metadata": {},
   "outputs": [
    {
     "data": {
      "text/plain": [
       "FeatureImportances(ax=<AxesSubplot: title={'center': 'Wykres względnych ważności cech'}, xlabel='Względna ważność cechy', ylabel='Cecha'>,\n",
       "                   estimator=XGBRegressor(base_score=0.5, booster='gbtree',\n",
       "                                          colsample_bylevel=1,\n",
       "                                          colsample_bynode=1,\n",
       "                                          colsample_bytree=0.85,\n",
       "                                          enable_categorical=False, gamma=0.6,\n",
       "                                          gpu_id=-1, importance_type=None,\n",
       "                                          interaction_constraints='',\n",
       "                                          learning_rate=0.225, max_delta_step=0,\n",
       "                                          max_depth=3, min_child_weight=1,\n",
       "                                          missing=nan,\n",
       "                                          monotone_constraints='()',\n",
       "                                          n_estimators=238, n_jobs=4,\n",
       "                                          num_parallel_tree=1, predictor='auto',\n",
       "                                          random_seed=42, random_state=0,\n",
       "                                          reg_alpha=0, reg_lambda=1,\n",
       "                                          scale_pos_weight=1,\n",
       "                                          subsample=0.8378537709017343,\n",
       "                                          tree_method='exact',\n",
       "                                          validate_parameters=1,\n",
       "                                          verbosity=None))"
      ]
     },
     "execution_count": 14,
     "metadata": {},
     "output_type": "execute_result"
    },
    {
     "data": {
      "image/png": "[encoded data removed]",
      "text/plain": [
       "<Figure size 600x400 with 1 Axes>"
      ]
     },
     "metadata": {},
     "output_type": "display_data"
    }
   ],
   "source": [
    "fig, ax = plt.subplots(figsize=(6, 4))\n",
    "ax.set(title=\"Wykres względnych ważności cech\", xlabel=\"Względna ważność cechy\", ylabel=\"Cecha\")\n",
    "fi_viz = FeatureImportances(xgb_r)\n",
    "fi_viz.fit(X_train, y_train)\n",
    "#fig.savefig(\"images/mlpr_1406.png\", dpi=300)"
   ]
  },
  {
   "cell_type": "code",
   "execution_count": 15,
   "metadata": {},
   "outputs": [
    {
     "name": "stdout",
     "output_type": "stream",
     "text": [
      "0:[smoker_yes<1] yes=1,no=2,missing=1\n",
      "\t1:[bmi<23.9399986] yes=3,no=4,missing=3\n",
      "\t\t3:[region_southwest<1] yes=7,no=8,missing=7\n",
      "\t\t\t7:leaf=1505.59888\n",
      "\t\t\t8:leaf=950.580261\n",
      "\t\t4:[children<2] yes=9,no=10,missing=9\n",
      "\t\t\t9:leaf=1819.06506\n",
      "\t\t\t10:leaf=2249.54858\n",
      "\t2:[bmi<30.1000004] yes=5,no=6,missing=5\n",
      "\t\t5:[bmi<17.5275002] yes=11,no=12,missing=11\n",
      "\t\t\t11:leaf=1443.25745\n",
      "\t\t\t12:leaf=4971.74365\n",
      "\t\t6:leaf=9256.49414\n",
      "\n"
     ]
    }
   ],
   "source": [
    "booster = xgb_r.get_booster()\n",
    "print(booster.get_dump()[0])"
   ]
  },
  {
   "cell_type": "code",
   "execution_count": 16,
   "metadata": {},
   "outputs": [
    {
     "data": {
      "text/plain": [
       "238"
      ]
     },
     "execution_count": 16,
     "metadata": {},
     "output_type": "execute_result"
    }
   ],
   "source": [
    "xgb_r.get_num_boosting_rounds()"
   ]
  },
  {
   "cell_type": "code",
   "execution_count": 17,
   "metadata": {},
   "outputs": [],
   "source": [
    "# fig, ax = plt.subplots(figsize=(24, 16))\n",
    "# xg.plot_tree(xgb_r, ax=ax, num_trees=0)\n",
    "# # fig.savefig('images/mlpr_1407.png', dpi=300)"
   ]
  }
 ],
 "metadata": {
  "kernelspec": {
   "display_name": "base",
   "language": "python",
   "name": "python3"
  },
  "language_info": {
   "codemirror_mode": {
    "name": "ipython",
    "version": 3
   },
   "file_extension": ".py",
   "mimetype": "text/x-python",
   "name": "python",
   "nbconvert_exporter": "python",
   "pygments_lexer": "ipython3",
   "version": "3.9.15"
  },
  "orig_nbformat": 4,
  "vscode": {
   "interpreter": {
    "hash": "a2ab3825ac7005fb7b26f112e9c99ae62f464c629e30b0d534c3b931b6cbc3ff"
   }
  }
 },
 "nbformat": 4,
 "nbformat_minor": 2
}
