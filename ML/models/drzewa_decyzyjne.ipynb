{
 "cells": [
  {
   "cell_type": "code",
   "execution_count": null,
   "id": "c179c3f7",
   "metadata": {},
   "outputs": [],
   "source": [
    "import pandas as pd\n",
    "import seaborn as sns\n",
    "import matplotlib.pyplot as plt\n",
    "import numpy as np\n",
    "\n",
    "from sklearn.preprocessing import LabelEncoder\n",
    "from sklearn.tree import DecisionTreeRegressor, plot_tree\n",
    "from sklearn.model_selection import train_test_split,  cross_val_score\n",
    "from sklearn.metrics import r2_score\n",
    "\n",
    "np.set_printoptions(suppress=True)\n",
    "pd.set_option('display.float_format', lambda x:'%.2f'%x)\n"
   ]
  },
  {
   "cell_type": "code",
   "execution_count": null,
   "id": "dfe2c462",
   "metadata": {},
   "outputs": [],
   "source": [
    "df = pd.read_csv('insurance.csv')\n",
    "df"
   ]
  },
  {
   "cell_type": "code",
   "execution_count": null,
   "id": "08372f6e",
   "metadata": {},
   "outputs": [],
   "source": [
    "df[df.duplicated()]"
   ]
  },
  {
   "cell_type": "code",
   "execution_count": null,
   "id": "b8204555",
   "metadata": {},
   "outputs": [],
   "source": [
    "df.drop_duplicates(inplace=True)"
   ]
  },
  {
   "cell_type": "code",
   "execution_count": null,
   "id": "48619175",
   "metadata": {},
   "outputs": [],
   "source": [
    "# inne get_dummies\n",
    "\n",
    "#sex\n",
    "le = LabelEncoder()\n",
    "le.fit(df.sex.drop_duplicates()) \n",
    "df.sex = le.transform(df.sex)\n",
    "# smoker or not\n",
    "le.fit(df.smoker.drop_duplicates()) \n",
    "df.smoker = le.transform(df.smoker)\n",
    "#region\n",
    "le.fit(df.region.drop_duplicates()) \n",
    "df.region = le.transform(df.region)\n"
   ]
  },
  {
   "cell_type": "code",
   "execution_count": null,
   "id": "25b408c7",
   "metadata": {},
   "outputs": [],
   "source": [
    "df\n",
    "#female =0\n",
    "#smoker = 1\n",
    "#sw = 3\n",
    "#se=2\n",
    "#nw = 1\n",
    "#ne = 0"
   ]
  },
  {
   "cell_type": "code",
   "execution_count": null,
   "id": "3fe9f167",
   "metadata": {},
   "outputs": [],
   "source": [
    "X = df.drop(['charges'], axis = 1)\n",
    "y = df['charges']\n",
    "X_train, X_test, y_train, y_test = train_test_split(X, y, test_size=0.3, random_state=42)\n"
   ]
  },
  {
   "cell_type": "code",
   "execution_count": null,
   "id": "1466273f",
   "metadata": {
    "scrolled": true
   },
   "outputs": [],
   "source": [
    "dtr = DecisionTreeRegressor(random_state=0, max_depth=5, max_features=6).fit(X_train, y_train)"
   ]
  },
  {
   "cell_type": "code",
   "execution_count": null,
   "id": "68bcdc44",
   "metadata": {},
   "outputs": [],
   "source": [
    "## max depth\n",
    "# 1 - 0,64\n",
    "# 5 - 0,87   --> chyba ok\n",
    "# 10 - 0,79\n",
    "# 15 - 0,75\n",
    "# 18 - 0,77\n",
    "## max features  depth 5\n",
    "# 6  - 87\n",
    "#5 - 87\n",
    "#4 - 86 \n",
    "#3 - 78\n",
    "#2 = 85\n",
    "#1 -  75\n"
   ]
  },
  {
   "cell_type": "code",
   "execution_count": null,
   "id": "42e99d54",
   "metadata": {},
   "outputs": [],
   "source": [
    "X.columns"
   ]
  },
  {
   "cell_type": "code",
   "execution_count": null,
   "id": "447eb0eb",
   "metadata": {},
   "outputs": [],
   "source": [
    "dtr.feature_importances_"
   ]
  },
  {
   "cell_type": "code",
   "execution_count": null,
   "id": "810a6d6b",
   "metadata": {},
   "outputs": [],
   "source": [
    "dtr.get_depth()"
   ]
  },
  {
   "cell_type": "code",
   "execution_count": null,
   "id": "de2beb34",
   "metadata": {},
   "outputs": [],
   "source": [
    "dtr.get_params()"
   ]
  },
  {
   "cell_type": "code",
   "execution_count": null,
   "id": "620d2dc2",
   "metadata": {},
   "outputs": [],
   "source": [
    "r2_score(y_test, dtr.predict(X_test))"
   ]
  },
  {
   "cell_type": "code",
   "execution_count": null,
   "id": "5e02bf54",
   "metadata": {},
   "outputs": [],
   "source": [
    "feature_names = df.columns[:-1]\n",
    "plt.figure(figsize = (20, 18))\n",
    "plot_tree(dtr, feature_names = feature_names);"
   ]
  },
  {
   "cell_type": "code",
   "execution_count": null,
   "id": "6e160db8",
   "metadata": {},
   "outputs": [],
   "source": [
    "# scores = cross_val_score(dtr, X_train, y_train)\n",
    "# print(np.sqrt(scores))"
   ]
  },
  {
   "cell_type": "code",
   "execution_count": null,
   "id": "0cf18eff",
   "metadata": {},
   "outputs": [],
   "source": []
  }
 ],
 "metadata": {
  "kernelspec": {
   "display_name": "Python 3 (ipykernel)",
   "language": "python",
   "name": "python3"
  },
  "language_info": {
   "codemirror_mode": {
    "name": "ipython",
    "version": 3
   },
   "file_extension": ".py",
   "mimetype": "text/x-python",
   "name": "python",
   "nbconvert_exporter": "python",
   "pygments_lexer": "ipython3",
   "version": "3.9.12"
  }
 },
 "nbformat": 4,
 "nbformat_minor": 5
}
