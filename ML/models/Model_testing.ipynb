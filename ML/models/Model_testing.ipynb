{
 "cells": [
  {
   "cell_type": "code",
   "execution_count": 1,
   "metadata": {},
   "outputs": [
    {
     "name": "stderr",
     "output_type": "stream",
     "text": [
      "c:\\Users\\Piotr\\anaconda3\\lib\\site-packages\\xgboost\\compat.py:36: FutureWarning: pandas.Int64Index is deprecated and will be removed from pandas in a future version. Use pandas.Index with the appropriate dtype instead.\n",
      "  from pandas import MultiIndex, Int64Index\n"
     ]
    }
   ],
   "source": [
    "import pandas as pd\n",
    "import numpy as np\n",
    "\n",
    "from sklearn import preprocessing\n",
    "from matplotlib import pyplot as plt\n",
    "\n",
    "\n",
    "from sklearn.datasets import make_regression\n",
    "from sklearn.model_selection import train_test_split, cross_val_score,KFold\n",
    "\n",
    "from sklearn.tree import DecisionTreeRegressor\n",
    "from sklearn.ensemble import RandomForestRegressor\n",
    "from xgboost import XGBRegressor\n",
    "import xgboost as xgb\n",
    "\n",
    "\n",
    "from sklearn.metrics import r2_score\n",
    "from sklearn.metrics import make_scorer\n",
    "from sklearn.dummy import DummyRegressor\n",
    "from sklearn.metrics import mean_absolute_error,mean_squared_error\n",
    "\n",
    "\n",
    "from hyperopt import hp, fmin, tpe, STATUS_OK, Trials, space_eval\n",
    "from hyperopt.pyll.base import scope\n",
    "from hyperopt.pyll.stochastic import sample\n",
    "\n",
    "import pickle\n",
    "import time\n",
    "\n",
    "\n",
    "\n"
   ]
  },
  {
   "attachments": {},
   "cell_type": "markdown",
   "metadata": {},
   "source": [
    "### Preperations"
   ]
  },
  {
   "cell_type": "code",
   "execution_count": 2,
   "metadata": {},
   "outputs": [],
   "source": [
    "def df_cleaning(df):\n",
    "    '''initial preprocessing of insurance dataset'''\n",
    "    print('1. All duplicated rows within dataset will be dropped. Found:', df.duplicated().sum(), 'duplicated rows.')\n",
    "    df = df.drop_duplicates()\n",
    "    print('2. All missing values within dataset will be replaced with 0. Found:', df.isna().sum().sum(), 'missing values. ')\n",
    "    df = df.fillna(value=0)\n",
    "    df = pd.get_dummies(df, drop_first=True)\n",
    "    new_cols = [col for col in df.columns if col != 'charges'] + ['charges']\n",
    "    df = df[new_cols]\n",
    "    return df"
   ]
  },
  {
   "cell_type": "code",
   "execution_count": 3,
   "metadata": {},
   "outputs": [],
   "source": [
    "def general_metrics(model,X_train,X_test,y_train,y_test,y_pred):\n",
    "    r2,mae,mse=reg_metrics(y_test, y_pred)\n",
    "    m_train=reg_test_train(model,X_train, y_train)\n",
    "    m_test=reg_test_train(model,X_test, y_test)\n",
    "    print('\\nR2-train: {:.3f}\\nR2-test: {:.3f} \\nR2: {:.3f} \\nMAE: {:.3f}\\nMSE: {:.3f}'.format(m_train,m_test,r2,mae,mse))\n",
    "\n",
    "def reg_metrics(y_true,y_pred):\n",
    "    R2=r2_score(y_true, y_pred)\n",
    "    MAE=mean_absolute_error(y_true, y_pred)\n",
    "    MSE=mean_squared_error(y_true, y_pred)\n",
    "    print('\\nR2: {:.3f}\\nMAE: {:.3f}\\nMSE: {:.3f}'.format(R2,MAE,MSE))\n",
    "    return R2,MAE,MSE\n",
    "\n",
    "def reg_test_train(model,X,y):\n",
    "    R2=model.score(X,y)\n",
    "    return R2\n"
   ]
  },
  {
   "cell_type": "code",
   "execution_count": 4,
   "metadata": {},
   "outputs": [
    {
     "name": "stdout",
     "output_type": "stream",
     "text": [
      "1. All duplicated rows within dataset will be dropped. Found: 1 duplicated rows.\n",
      "2. All missing values within dataset will be replaced with 0. Found: 0 missing values. \n"
     ]
    }
   ],
   "source": [
    "df = pd.read_csv('data/insurance.csv')\n",
    "df=df_cleaning(df)\n",
    "target=df.pop(\"charges\")\n",
    "data = df\n",
    "random_state=1"
   ]
  },
  {
   "cell_type": "code",
   "execution_count": 5,
   "metadata": {},
   "outputs": [],
   "source": [
    "X_train, X_test, y_train, y_test = train_test_split(data, target,test_size=0.33, random_state=random_state)"
   ]
  },
  {
   "attachments": {},
   "cell_type": "markdown",
   "metadata": {},
   "source": [
    "### Model's initial try"
   ]
  },
  {
   "cell_type": "code",
   "execution_count": 6,
   "metadata": {},
   "outputs": [],
   "source": [
    "forest=RandomForestRegressor(max_depth=3, random_state=random_state)\n",
    "tree = DecisionTreeRegressor(max_depth=3, random_state=random_state)\n",
    "XGB = XGBRegressor(max_depth=3, objective='reg:squarederror', random_state=random_state)\n",
    "models=[forest,tree,XGB]"
   ]
  },
  {
   "cell_type": "code",
   "execution_count": 7,
   "metadata": {},
   "outputs": [],
   "source": [
    "kf = KFold(n_splits=5, shuffle=True, random_state=random_state)"
   ]
  },
  {
   "cell_type": "code",
   "execution_count": 8,
   "metadata": {},
   "outputs": [],
   "source": [
    "def run_model(model, X, y, cross_val):\n",
    "    model_name = type(model).__name__\n",
    "    rmse = np.sqrt(-cross_val_score(model, X, y, cv=cross_val, scoring='neg_root_mean_squared_error'))\n",
    "    r2 = cross_val_score(model, X, y, cv=cross_val, scoring='r2')\n",
    "    print(\"{} rmse: {:.4f}, r2: {:.1f}%\".format(model_name, np.mean(rmse), 100*np.mean(r2)))"
   ]
  },
  {
   "cell_type": "code",
   "execution_count": 9,
   "metadata": {},
   "outputs": [
    {
     "name": "stdout",
     "output_type": "stream",
     "text": [
      "RandomForestRegressor rmse: 68.3236, r2: 85.3%\n",
      "DecisionTreeRegressor rmse: 69.2901, r2: 84.5%\n",
      "XGBRegressor rmse: 70.0697, r2: 83.6%\n"
     ]
    }
   ],
   "source": [
    "for model in models:\n",
    "    run_model(model, X_train.values, y_train.values, kf)"
   ]
  },
  {
   "cell_type": "code",
   "execution_count": 10,
   "metadata": {},
   "outputs": [],
   "source": [
    "# fit models\n",
    "for model in models:\n",
    "    model.fit(X_train.values, y_train.values)"
   ]
  },
  {
   "cell_type": "code",
   "execution_count": 11,
   "metadata": {},
   "outputs": [],
   "source": [
    "import scikitplot as skplt\n",
    "def plot_feature_importances(model, feat_list, ax):\n",
    "\n",
    "    model_name = type(model).__name__\n",
    "    skplt.estimators.plot_feature_importances(model, feature_names=data[feat_list].columns,\n",
    "                                            title=f'{model_name} feature importances', ax=ax)\n",
    "    plt.xticks(rotation=90)"
   ]
  },
  {
   "cell_type": "code",
   "execution_count": 12,
   "metadata": {},
   "outputs": [
    {
     "data": {
      "image/png": "[encoded data removed]",
      "text/plain": [
       "<Figure size 1080x432 with 3 Axes>"
      ]
     },
     "metadata": {
      "needs_background": "light"
     },
     "output_type": "display_data"
    }
   ],
   "source": [
    "fig=plt.figure(figsize=(15,6))\n",
    "for i, model in enumerate(models[0:]):\n",
    "    ax=fig.add_subplot(1,3,i+1)\n",
    "    plot_feature_importances(model, X_train.columns, ax=ax)\n",
    "fig.tight_layout()\n",
    "plt.show()"
   ]
  },
  {
   "cell_type": "code",
   "execution_count": 13,
   "metadata": {},
   "outputs": [
    {
     "name": "stdout",
     "output_type": "stream",
     "text": [
      "\n",
      "R2: 0.849\n",
      "MAE: 2565.468\n",
      "MSE: 19838732.725\n",
      "RandomForestRegressor \n",
      "R2-train: 0.866\n",
      "R2-test: 0.849\n",
      "\n",
      "\n",
      "R2: 0.845\n",
      "MAE: 2720.206\n",
      "MSE: 20326323.274\n",
      "DecisionTreeRegressor \n",
      "R2-train: 0.860\n",
      "R2-test: 0.845\n",
      "\n",
      "\n",
      "R2: 0.839\n",
      "MAE: 2614.085\n",
      "MSE: 21148757.869\n",
      "XGBRegressor \n",
      "R2-train: 0.937\n",
      "R2-test: 0.839\n",
      "\n"
     ]
    }
   ],
   "source": [
    "for model in models:\n",
    "    y_pred = model.predict(X_test.values)\n",
    "    R2,MAE,MSE=reg_metrics(y_test, y_pred)\n",
    "    print('{} \\nR2-train: {:.3f}\\nR2-test: {:.3f}\\n'.format(type(model).__name__,model.score(X_train.values, y_train.values),model.score(X_test.values, y_test.values)))"
   ]
  },
  {
   "attachments": {},
   "cell_type": "markdown",
   "metadata": {},
   "source": [
    "### Models's check - HyperOPT"
   ]
  },
  {
   "cell_type": "code",
   "execution_count": 14,
   "metadata": {},
   "outputs": [],
   "source": [
    "multi_space=[\n",
    "    hp.choice('regression_model', [\n",
    "    {\n",
    "        'model': RandomForestRegressor,\n",
    "        'params':{\n",
    "            'n_estimators': hp.choice('n_estimators', np.arange(1, 100, 1)),\n",
    "            'max_depth': hp.choice('max_depth', np.arange(2, 50, 1)),\n",
    "            'min_samples_split':hp.choice('min_samples_split',np.arange(2,100,2)),\n",
    "            'min_samples_leaf':hp.choice('min_samples_leaf',np.arange(2,100,5)),\n",
    "            'max_leaf_nodes':hp.choice('max_leaf_nodes',np.arange(2,100,2)),\n",
    "            'random_state':1\n",
    "        }\n",
    "    }]),\n",
    "    hp.choice('regression_model', [\n",
    "    {\n",
    "        'model': DecisionTreeRegressor,\n",
    "        'params':{\n",
    "            'max_depth': hp.choice('max_depth', np.arange(2, 50, 1)),\n",
    "            'min_samples_split':hp.choice('min_samples_split',np.arange(2,100,1)),\n",
    "            'min_samples_leaf':hp.choice('min_samples_leaf',np.arange(2,100,1)),\n",
    "            'max_leaf_nodes':hp.choice('max_leaf_nodes',np.arange(2,100,1)),\n",
    "            'random_state':1\n",
    "        }\n",
    "    }]),\n",
    "    hp.choice('regression_model', [\n",
    "        {\n",
    "        'model': XGBRegressor,\n",
    "        'params': {\n",
    "            'xgb.objective':'reg:squarederror',\n",
    "            'max_depth':hp.choice('xgb.max_depth', np.arange(3, 20, 1)),\n",
    "            'xgb.learning_rate':0.225,\n",
    "            'xgb.gamma':0.6,\n",
    "            'xgb.subsample':0.8378537709017343,\n",
    "            'xgb.colsample_bytree':0.85,\n",
    "            # 'max_depth' : hp.choice('xgb.max_depth',np.arange(5, 30, 1)),\n",
    "            # 'learning_rate' : hp.choice('xgb.learning_rate',np.arange(0.01, 0.5, 0.01)),\n",
    "            'n_estimators' : hp.choice('xgb.n_estimators',np.arange(2, 50, 1)),\n",
    "            'reg_lambda' : hp.uniform ('xgb.reg_lambda', 0,1),\n",
    "            'reg_alpha' : hp.uniform ('xgb.reg_alpha', 0,1),\n",
    "            'random_state':1\n",
    "        }\n",
    "    }])\n",
    "\n",
    "]"
   ]
  },
  {
   "cell_type": "code",
   "execution_count": 15,
   "metadata": {},
   "outputs": [],
   "source": [
    "def objective(args):\n",
    "    clf=args['model']()\n",
    "    score = cross_val_score(clf,X_train, y_train, cv=5, n_jobs=-1, error_score=0.99)    \n",
    "    return {'loss': np.mean(score), 'status': STATUS_OK}"
   ]
  },
  {
   "cell_type": "code",
   "execution_count": 16,
   "metadata": {},
   "outputs": [],
   "source": [
    "def results(space_it):\n",
    "    best_params = space_eval(space_it['params'], best)\n",
    "    clf=space_eval(space_it['model'],best)()\n",
    "    m_name=type(space_eval(space_it['model'],best)()).__name__\n",
    "    if m_name == 'XGBClassifier':\n",
    "        model = clf.fit(X_train.values, y_train.values,eval_metric = 'rmse',verbose=False)\n",
    "    else:\n",
    "        model = clf.fit(X_train.values, y_train.values)\n",
    "    y_pred_train = model.predict(X_train.values)\n",
    "    y_pred_test = model.predict(X_test.values)\n",
    "    # general_metrics(model,X_train,X_test,y_train,y_test,y_pred_test)\n",
    "    reg_metrics(y_test,y_pred_test)\n",
    "    return m_name,y_test,y_pred_test"
   ]
  },
  {
   "cell_type": "code",
   "execution_count": 17,
   "metadata": {},
   "outputs": [],
   "source": [
    "def Hopt_run(space_it,itteration):\n",
    "    trials = Trials()\n",
    "    best = fmin(\n",
    "    fn=objective,\n",
    "    space = space_it, \n",
    "    algo=tpe.suggest,\n",
    "    max_evals=itteration, \n",
    "    trials=trials)\n",
    "    print(\"Best: {}\".format(best))\n",
    "    return best,trials\n",
    "    "
   ]
  },
  {
   "attachments": {},
   "cell_type": "markdown",
   "metadata": {},
   "source": [
    "#### Run all models"
   ]
  },
  {
   "cell_type": "code",
   "execution_count": 18,
   "metadata": {},
   "outputs": [
    {
     "name": "stdout",
     "output_type": "stream",
     "text": [
      "100%|██████████| 10/10 [00:08<00:00,  1.20trial/s, best loss: 0.8351169759230302]\n",
      "Best: {'max_depth': 43, 'max_leaf_nodes': 0, 'min_samples_leaf': 3, 'min_samples_split': 0, 'n_estimators': 68, 'regression_model': 0}\n",
      "\n",
      "R2: 0.825\n",
      "MAE: 2697.042\n",
      "MSE: 23046308.867\n",
      "\n",
      "Model name: RandomForestRegressor\n",
      "\n",
      "100%|██████████| 10/10 [00:00<00:00, 21.21trial/s, best loss: 0.6901903787691224]\n",
      "Best: {'max_depth': 43, 'max_leaf_nodes': 73, 'min_samples_leaf': 90, 'min_samples_split': 18, 'regression_model': 0}\n",
      "\n",
      "R2: 0.619\n",
      "MAE: 3427.529\n",
      "MSE: 50075660.111\n",
      "\n",
      "Model name: DecisionTreeRegressor\n",
      "\n",
      "100%|██████████| 10/10 [00:03<00:00,  2.97trial/s, best loss: 0.8083749283692885]\n",
      "Best: {'regression_model': 0, 'xgb.max_depth': 16, 'xgb.n_estimators': 27, 'xgb.reg_alpha': 0.279794209995077, 'xgb.reg_lambda': 0.12340548430864517}\n",
      "\n",
      "R2: 0.813\n",
      "MAE: 2852.896\n",
      "MSE: 24583926.171\n",
      "\n",
      "Model name: XGBRegressor\n",
      "\n"
     ]
    }
   ],
   "source": [
    "res={}\n",
    "x=0\n",
    "for i in multi_space:\n",
    "    best,trials=Hopt_run(multi_space[x],10)\n",
    "    model_name,test,pred=results(multi_space[x])\n",
    "    res[model_name]=[test,pred]\n",
    "    # traials_losses.plot()\n",
    "    print('\\nModel name: {}\\n'.format(model_name))\n",
    "    x+=1\n",
    "    "
   ]
  },
  {
   "cell_type": "code",
   "execution_count": 19,
   "metadata": {},
   "outputs": [
    {
     "data": {
      "image/png": "[encoded data removed]",
      "text/plain": [
       "<Figure size 576x432 with 1 Axes>"
      ]
     },
     "metadata": {
      "needs_background": "light"
     },
     "output_type": "display_data"
    },
    {
     "data": {
      "image/png": "[encoded data removed]",
      "text/plain": [
       "<Figure size 576x432 with 1 Axes>"
      ]
     },
     "metadata": {
      "needs_background": "light"
     },
     "output_type": "display_data"
    },
    {
     "data": {
      "image/png": "[encoded data removed]",
      "text/plain": [
       "<Figure size 576x432 with 1 Axes>"
      ]
     },
     "metadata": {
      "needs_background": "light"
     },
     "output_type": "display_data"
    }
   ],
   "source": [
    "    for k in res.keys():\n",
    "        mod=k\n",
    "        plt.figure(figsize=(8,6))\n",
    "        plt.scatter(res[mod][0],res[mod][1])\n",
    "        plt.title(mod)\n",
    "        plt.xlabel('Y test')\n",
    "        plt.ylabel('Y pred')\n",
    "        plt.grid()\n",
    "        plt.show;"
   ]
  },
  {
   "cell_type": "code",
   "execution_count": 20,
   "metadata": {},
   "outputs": [],
   "source": [
    "# traials_losses=pd.DataFrame(trials.losses())\n",
    "# traials_losses.plot()"
   ]
  }
 ],
 "metadata": {
  "kernelspec": {
   "display_name": "base",
   "language": "python",
   "name": "python3"
  },
  "language_info": {
   "codemirror_mode": {
    "name": "ipython",
    "version": 3
   },
   "file_extension": ".py",
   "mimetype": "text/x-python",
   "name": "python",
   "nbconvert_exporter": "python",
   "pygments_lexer": "ipython3",
   "version": "3.9.12"
  },
  "orig_nbformat": 4,
  "vscode": {
   "interpreter": {
    "hash": "3af084fa46ca06d2a23e4d5db09ff88cab715f76eefcf345e828351b87327e13"
   }
  }
 },
 "nbformat": 4,
 "nbformat_minor": 2
}
