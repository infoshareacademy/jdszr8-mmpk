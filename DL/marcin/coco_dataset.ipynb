{
 "cells": [
  {
   "attachments": {},
   "cell_type": "markdown",
   "metadata": {},
   "source": [
    "## Kod musi być odpalony w lokalizacji w ktorej znajdują sie defaultowe jsony do malarii i w którym w folderze images są obrazki z ktorych bedzie wycinał"
   ]
  },
  {
   "cell_type": "code",
   "execution_count": 1,
   "metadata": {},
   "outputs": [],
   "source": [
    "import json\n",
    "import cv2\n",
    "import os\n",
    "import itertools"
   ]
  },
  {
   "cell_type": "code",
   "execution_count": 2,
   "metadata": {},
   "outputs": [],
   "source": [
    "# Wczytanie pliku JSON w formacie COCO\n",
    "with open(\"C:\\\\Users\\\\Dell\\\\Downloads\\\\malaria\\\\malaria\\\\malaria\\\\coco.json\", \"r\") as f:\n",
    "    coco_json = json.load(f)"
   ]
  },
  {
   "cell_type": "code",
   "execution_count": 4,
   "metadata": {},
   "outputs": [],
   "source": [
    "categories = [cat['name'] for cat in coco_json['categories']]"
   ]
  },
  {
   "cell_type": "code",
   "execution_count": 5,
   "metadata": {},
   "outputs": [],
   "source": [
    "# Tworzenie słownika kolorów i tekstów dla kategorii\n",
    "category_colors = {}\n",
    "category_texts = {}\n",
    "color_cycle = itertools.cycle([(255, 0, 0), (0, 255, 0), (0, 0, 255), (255, 255, 0), (255, 0, 255), (0, 255, 255)])\n",
    "\n",
    "# Przypisanie kolorów i tekstów dla każdej kategorii\n",
    "for i, cat in enumerate(categories):\n",
    "    category_colors[cat] = next(color_cycle)\n",
    "    category_texts[cat] = cat\n",
    "\n",
    "# Tworzenie nowego folderu do zapisu zmodyfikowanych obrazów\n",
    "if not os.path.exists(\"C:\\\\Users\\\\Dell\\\\Downloads\\\\malaria\\\\malaria\\\\malaria\\\\images_coco\"):\n",
    "    os.mkdir(\"C:\\\\Users\\\\Dell\\\\Downloads\\\\malaria\\\\malaria\\\\malaria\\\\images_coco\")\n",
    "\n",
    "# Iteracja przez wszystkie obrazy\n",
    "for img in coco_json[\"images\"]:\n",
    "    img_path = img[\"file_name\"]\n",
    "    img_full_path = \"C:/Users/Dell/Downloads/malaria/malaria/malaria{}\".format(img_path)\n",
    "\n",
    "    # Wczytanie obrazu\n",
    "    img_arr = cv2.imread(img_full_path)\n",
    "\n",
    "    # Iteracja przez bounding boxy dla danego obrazu\n",
    "    for ann in coco_json[\"annotations\"]:\n",
    "        if ann[\"image_id\"] == img[\"id\"]:\n",
    "            bbox = ann[\"bbox\"]\n",
    "            x, y, w, h = bbox\n",
    "            # Pobranie kategorii\n",
    "            category = coco_json[\"categories\"][ann[\"category_id\"] - 1][\"name\"]\n",
    "            # Pobranie koloru i tekstu odpowiadających kategorii\n",
    "            color = category_colors.get(category)\n",
    "            text = category_texts.get(category)\n",
    "            # Rysowanie bounding boxa i tekstu\n",
    "            cv2.rectangle(img_arr, (int(x), int(y)), (int(x+w), int(y+h)), color, thickness=2)\n",
    "            cv2.putText(img_arr, text, (int(x), int(y)-10), cv2.FONT_HERSHEY_SIMPLEX, 0.5, color, thickness=2)\n",
    "\n",
    "    # Zapis zmodyfikowanego obrazu do nowego folderu\n",
    "    img_path_parts = img_path.split(\"/\")\n",
    "    new_img_path = os.path.join(\"C:\\\\Users\\\\Dell\\\\Downloads\\\\malaria\\\\malaria\\\\malaria\\\\images_coco\", img_path_parts[-1])\n",
    "    cv2.imwrite(new_img_path, img_arr)"
   ]
  },
  {
   "cell_type": "code",
   "execution_count": null,
   "metadata": {},
   "outputs": [],
   "source": [
    "# Tworzenie słownika kolorów i tekstów dla kategorii\n",
    "category_colors = {}\n",
    "category_texts = {}\n",
    "color_cycle = itertools.cycle([(255, 0, 0), (0, 255, 0), (0, 0, 255), (255, 255, 0), (255, 0, 255), (0, 255, 255)])\n",
    "\n",
    "# Przypisanie kolorów i tekstów dla każdej kategorii\n",
    "for i, cat in enumerate(unique_tuple):\n",
    "    category_colors[cat] = next(color_cycle)\n",
    "    category_texts[cat] = cat\n",
    "\n",
    "# Tworzenie nowego folderu do zapisu zmodyfikowanych obrazów\n",
    "if not os.path.exists(\"C:\\\\Users\\\\Dell\\\\Downloads\\\\malaria\\\\malaria\\\\malaria\\\\images_coco\"):\n",
    "    os.mkdir(\"C:\\\\Users\\\\Dell\\\\Downloads\\\\malaria\\\\malaria\\\\malaria\\\\images_coco\")\n",
    "\n",
    "# Iteracja przez wszystkie obrazy\n",
    "for img in coco_json[\"images\"]:\n",
    "    img_path = img[\"file_name\"]\n",
    "    img_full_path = \"C:/Users/Dell/Downloads/malaria/malaria/malaria{}\".format(img_path)\n",
    "\n",
    "    # Wczytanie obrazu\n",
    "    img_arr = cv2.imread(img_full_path)\n",
    "\n",
    "    # Iteracja przez bounding boxy dla danego obrazu\n",
    "    for ann in coco_json[\"annotations\"]:\n",
    "        if ann[\"image_id\"] == img[\"id\"]:\n",
    "            bbox = ann[\"bbox\"]\n",
    "            x, y, w, h = bbox\n",
    "            # Pobranie kategorii\n",
    "            category = coco_json[\"categories\"][ann[\"category_id\"] - 1][\"name\"]\n",
    "            # Pobranie koloru i tekstu odpowiadających kategorii\n",
    "            color = category_colors.get(category)\n",
    "            text = category_texts.get(category)\n",
    "            # Rysowanie bounding boxa i tekstu\n",
    "            cv2.rectangle(img_arr, (int(x), int(y)), (int(x+w), int(y+h)), color, thickness=2)\n",
    "            cv2.putText(img_arr, text, (int(x), int(y)-10), cv2.FONT_HERSHEY_SIMPLEX, 0.5, color, thickness=2)\n",
    "\n",
    "    # Zapis zmodyfikowanego obrazu do nowego folderu\n",
    "    img_path_parts = img_path.split(\"/\")\n",
    "    new_img_path = os.path.join(\"C:\\\\Users\\\\Dell\\\\Downloads\\\\malaria\\\\malaria\\\\malaria\\\\images_coco\", img_path_parts[-1])\n",
    "    cv2.imwrite(new_img_path, img_arr)"
   ]
  },
  {
   "cell_type": "code",
   "execution_count": null,
   "metadata": {},
   "outputs": [],
   "source": [
    "coco_json[\"categories\"]"
   ]
  },
  {
   "cell_type": "code",
   "execution_count": null,
   "metadata": {},
   "outputs": [],
   "source": [
    "# # Tworzenie słownika kolorów i tekstów dla kategorii\n",
    "# category_colors = {}\n",
    "# category_texts = {}\n",
    "# color_cycle = itertools.cycle([(255, 0, 0), (0, 255, 0), (0, 0, 255), (255, 255, 0), (255, 0, 255), (0, 255, 255)])\n",
    "\n",
    "# # Przypisanie kolorów i tekstów dla każdej kategorii\n",
    "# for i, cat in enumerate(unique_tuple):\n",
    "#     category_colors[cat] = next(color_cycle)\n",
    "#     category_texts[cat] = cat\n",
    "\n",
    "# # Tworzenie nowego folderu do zapisu zmodyfikowanych obrazów\n",
    "# if not os.path.exists(\"C:\\\\Users\\\\Dell\\\\Downloads\\\\malaria\\\\malaria\\\\malaria\\\\images_coco\"):\n",
    "#     os.mkdir(\"C:\\\\Users\\\\Dell\\\\Downloads\\\\malaria\\\\malaria\\\\malaria\\\\images_coco\")\n",
    "\n",
    "# # Iteracja przez wszystkie obrazy\n",
    "# for img in coco_json[\"images\"]:\n",
    "#     img_path = img[\"file_name\"]\n",
    "#     img_full_path = \"C:/Users/Dell/Downloads/malaria/malaria/malaria{}\".format(img_path)\n",
    "\n",
    "#     # Wczytanie obrazu\n",
    "#     img_arr = cv2.imread(img_full_path)\n",
    "\n",
    "#     # Iteracja przez bounding boxy dla danego obrazu\n",
    "#     for ann in coco_json[\"annotations\"]:\n",
    "#         if ann[\"image_id\"] == img[\"id\"]:\n",
    "#             bbox = ann[\"bbox\"]\n",
    "#             x, y, w, h = bbox\n",
    "#             # Pobranie kategorii\n",
    "#             category = tuple(coco_json[\"categories\"])\n",
    "#             # Pobranie koloru i tekstu odpowiadających kategorii\n",
    "#             color = category_colors.get(category)\n",
    "#             text = category_texts.get(category)\n",
    "#             # Rysowanie bounding boxa i tekstu\n",
    "#             cv2.rectangle(img_arr, (int(x), int(y)), (int(x+w), int(y+h)), color, thickness=2)\n",
    "#             cv2.putText(img_arr, text, (int(x), int(y)-10), cv2.FONT_HERSHEY_SIMPLEX, 0.5, color, thickness=2)\n",
    "\n",
    "#     # Zapis zmodyfikowanego obrazu do nowego folderu\n",
    "#     img_path_parts = img_path.split(\"/\")\n",
    "#     new_img_path = os.path.join(\"C:\\\\Users\\\\Dell\\\\Downloads\\\\malaria\\\\malaria\\\\malaria\\\\images_coco\", img_path_parts[-1])\n",
    "#     cv2.imwrite(new_img_path, img_arr)"
   ]
  },
  {
   "cell_type": "code",
   "execution_count": null,
   "metadata": {},
   "outputs": [],
   "source": [
    "# Tworzenie nowego folderu do zapisu zmodyfikowanych obrazów\n",
    "if not os.path.exists(\"C:\\\\Users\\\\Dell\\\\Downloads\\\\malaria\\\\malaria\\\\malaria\\\\images_coco\"):\n",
    "    os.mkdir(\"C:\\\\Users\\\\Dell\\\\Downloads\\\\malaria\\\\malaria\\\\malaria\\\\images_coco\")\n",
    "\n",
    "# Iteracja przez wszystkie obrazy\n",
    "for img in coco_json[\"images\"]:\n",
    "    img_path = img[\"file_name\"]\n",
    "    img_full_path = \"C:/Users/Dell/Downloads/malaria/malaria/malaria{}\".format(img_path)\n",
    "\n",
    "    # Wczytanie obrazu\n",
    "    img_arr = cv2.imread(img_full_path)\n",
    "\n",
    "    # Iteracja przez bounding boxy dla danego obrazu\n",
    "    for ann in coco_json[\"annotations\"]:\n",
    "        if ann[\"image_id\"] == img[\"id\"]:\n",
    "            bbox = ann[\"bbox\"]\n",
    "            x, y, w, h = bbox\n",
    "            # Pobranie kategorii\n",
    "            category = coco_json[\"categories\"]\n",
    "            # Pobranie koloru i tekstu odpowiadających kategorii\n",
    "            # color = category_colors.get(category, (255, 0, 0))\n",
    "            # text = category_texts.get(category, \"Nieznana kategoria\")\n",
    "            # Rysowanie bounding boxa\n",
    "            cv2.rectangle(img_arr, (int(x), int(y)), (int(x+w), int(y+h)), (0, 255, 0), thickness=2)\n",
    "\n",
    "    # Zapis zmodyfikowanego obrazu do nowego folderu\n",
    "    img_path_parts = img_path.split(\"/\")\n",
    "    new_img_path = os.path.join(\"C:\\\\Users\\\\Dell\\\\Downloads\\\\malaria\\\\malaria\\\\malaria\\\\images_coco\", img_path_parts[-1])\n",
    "    cv2.imwrite(new_img_path, img_arr)\n"
   ]
  }
 ],
 "metadata": {
  "kernelspec": {
   "display_name": "deep_l",
   "language": "python",
   "name": "deep_l"
  },
  "language_info": {
   "codemirror_mode": {
    "name": "ipython",
    "version": 3
   },
   "file_extension": ".py",
   "mimetype": "text/x-python",
   "name": "python",
   "nbconvert_exporter": "python",
   "pygments_lexer": "ipython3",
   "version": "3.9.16"
  },
  "orig_nbformat": 4,
  "vscode": {
   "interpreter": {
    "hash": "5e9f93bd56c6147185d63775ac8b10245fe8e4944abffd9e5315fcf109c29d11"
   }
  }
 },
 "nbformat": 4,
 "nbformat_minor": 2
}
