{
 "cells": [
  {
   "cell_type": "code",
   "execution_count": 2,
   "metadata": {},
   "outputs": [],
   "source": [
    "import json"
   ]
  },
  {
   "cell_type": "code",
   "execution_count": 5,
   "metadata": {},
   "outputs": [],
   "source": [
    "input_file = 'training.json'\n",
    "output_file = 'coco.json'\n",
    "output1_file = 'coco1.json'\n",
    "mohamed_file = 'coco_12a9up9.json'"
   ]
  },
  {
   "cell_type": "code",
   "execution_count": 6,
   "metadata": {},
   "outputs": [],
   "source": [
    "# Wczytaj plik JSON\n",
    "with open(output_file, 'r') as f:\n",
    "    data = json.load(f)"
   ]
  },
  {
   "cell_type": "code",
   "execution_count": 6,
   "metadata": {},
   "outputs": [],
   "source": [
    "# Tworzenie słownika id dla kategorii\n",
    "category_ids = {}\n",
    "for i in range(len(data)):\n",
    "    objects = data[i]['objects']\n",
    "    for j in range(len(objects)):\n",
    "        category = objects[j]['category']\n",
    "        if category not in category_ids:\n",
    "            category_ids[category] = len(category_ids) + 1\n",
    "\n",
    "# Tworzenie struktury danych COCOJSON\n",
    "coco_json = {\n",
    "    \"images\": [],\n",
    "    \"annotations\": [],\n",
    "    \"categories\": [{\"id\": category_ids[cat], \"name\": cat} for cat in category_ids]\n",
    "}"
   ]
  },
  {
   "cell_type": "code",
   "execution_count": null,
   "metadata": {},
   "outputs": [],
   "source": [
    "# # Stwórz strukturę danych COCOJSON\n",
    "# coco_json = {\n",
    "#     \"images\": [],  # image/pathname\n",
    "#     \"annotations\": [],  # objects/bounding_box\n",
    "#     \"categories\": []  #objects/category\n",
    "# }"
   ]
  },
  {
   "cell_type": "code",
   "execution_count": 7,
   "metadata": {},
   "outputs": [],
   "source": [
    "for i in range(len(data)):\n",
    "    image_id = data[i]['image']['checksum']\n",
    "    image_file_name = data[i]['image']['pathname']\n",
    "    image_width = data[i]['image']['shape']['c']\n",
    "    image_height = data[i]['image']['shape']['r']\n",
    "    # Tworzenie słownika reprezentującego pojedynczy obraz\n",
    "    image_data = {\n",
    "        \"id\": image_id,\n",
    "        \"file_name\": image_file_name,\n",
    "        \"width\": image_width,\n",
    "        \"height\": image_height\n",
    "    }\n",
    "    # Dodawanie obrazu do struktury danych COCOJSON\n",
    "    coco_json['images'].append(image_data)\n",
    "    \n",
    "    objects = data[i]['objects']\n",
    "    \n",
    "    for j in range(len(objects)):\n",
    "        bounding_box = objects[j]['bounding_box']\n",
    "        x = bounding_box['minimum']['c']\n",
    "        y = bounding_box['minimum']['r']\n",
    "        w = bounding_box['maximum']['c'] - x\n",
    "        h = bounding_box['maximum']['r'] - y\n",
    "        annotation_id = j+1\n",
    "        bbox = [x, y, w, h] # bbox: [x,y,width,height]\n",
    "        category = objects[j]['category']\n",
    "        category_id = category_ids[category]\n",
    "        \n",
    "        # Obliczanie pola powierzchni\n",
    "        area = w * h\n",
    "        \n",
    "        # Tworzenie segmentacji\n",
    "        segmentation = [[x, y, x + w, y, x + w, y + h, x, y + h]]\n",
    "        \n",
    "        # Tworzenie słownika reprezentującego pojedynczy bounding box\n",
    "        bbox_data = {\n",
    "            \"id\": annotation_id,\n",
    "            \"image_id\": image_id,\n",
    "            \"category_id\": category_id,\n",
    "            \"bbox\": bbox,\n",
    "            \"area\": area,\n",
    "            \"segmentation\": segmentation,   \n",
    "            \"iscrowd\": 0,\n",
    "        }\n",
    "        # Dodawanie bounding boxa do struktury danych COCOJSON\n",
    "        coco_json['annotations'].append(bbox_data)"
   ]
  },
  {
   "cell_type": "code",
   "execution_count": null,
   "metadata": {},
   "outputs": [],
   "source": [
    "# for i in range(len(data)):\n",
    "#     image_id = data[i]['image']['checksum']\n",
    "#     image_file_name = data[i]['image']['pathname']\n",
    "#     image_width = data[i]['image']['shape']['c']\n",
    "#     image_height = data[i]['image']['shape']['r']\n",
    "#     # Tworzenie słownika reprezentującego pojedynczy obraz\n",
    "#     image_data = {\n",
    "#         \"id\": image_id,\n",
    "#         \"file_name\": image_file_name,\n",
    "#         \"width\": image_width,\n",
    "#         \"height\": image_height\n",
    "#     }\n",
    "#     # Dodawanie obrazu do struktury danych COCOJSON\n",
    "#     coco_json['images'].append(image_data)\n",
    "    \n",
    "#     objects = objects = data[i]['objects']\n",
    "    \n",
    "#     for j in range(len(objects)):\n",
    "#         bounding_box = objects[j]['bounding_box']\n",
    "#         x = bounding_box['minimum']['c']\n",
    "#         y = bounding_box['minimum']['r']\n",
    "#         w = bounding_box['maximum']['c'] - x\n",
    "#         h = bounding_box['maximum']['r'] - y\n",
    "#         annotation_id = j+1\n",
    "#         # image_id = j['image_id']  # na 99% niepotrzebna linia\n",
    "#         bbox = [x,y,w,h] # bbox: [x,y,width,height]\n",
    "#         # Tworzenie słownika reprezentującego pojedynczy bounding box\n",
    "#         bbox_data = {\n",
    "#             \"id\": annotation_id,\n",
    "#             \"image_id\": image_id,\n",
    "#             \"category_id\": 0,\n",
    "#             \"bbox\": bbox,\n",
    "#             \"iscrowd\": 0,\n",
    "#         }\n",
    "#         category = objects[j]['category']\n",
    "#         # Dodawanie bounding boxa do struktury danych COCOJSON\n",
    "#         coco_json['annotations'].append(bbox_data)\n",
    "#         coco_json['categories'].append(category)"
   ]
  },
  {
   "cell_type": "code",
   "execution_count": 8,
   "metadata": {},
   "outputs": [
    {
     "data": {
      "text/plain": [
       "[{'id': 1, 'name': 'red blood cell'},\n",
       " {'id': 2, 'name': 'trophozoite'},\n",
       " {'id': 3, 'name': 'schizont'},\n",
       " {'id': 4, 'name': 'difficult'},\n",
       " {'id': 5, 'name': 'ring'},\n",
       " {'id': 6, 'name': 'leukocyte'},\n",
       " {'id': 7, 'name': 'gametocyte'}]"
      ]
     },
     "execution_count": 8,
     "metadata": {},
     "output_type": "execute_result"
    }
   ],
   "source": [
    "coco_json['categories']"
   ]
  },
  {
   "cell_type": "code",
   "execution_count": 9,
   "metadata": {},
   "outputs": [],
   "source": [
    "# Zapisz plik COCOJSON\n",
    "with open(output_file, 'w') as f:\n",
    "    json.dump(coco_json, f)"
   ]
  },
  {
   "cell_type": "code",
   "execution_count": null,
   "metadata": {},
   "outputs": [],
   "source": [
    "for i in range(len(coco_json['images'])):\n",
    "    img_path = coco_json['images'][i]['file_name']\n",
    "    new_path = img_path.replace('/images/', '') # usuwanie '/images/' z nazwy pliku\n",
    "    coco_json['images'][i]['file_name'] = new_path # aktualizacja nazwy pliku w JSONie\n",
    "    \n",
    "# Zapisz plik COCOJSON\n",
    "with open(output1_file, 'w') as f:\n",
    "    json.dump(coco_json, f)"
   ]
  },
  {
   "cell_type": "code",
   "execution_count": 8,
   "metadata": {},
   "outputs": [
    {
     "ename": "TypeError",
     "evalue": "string indices must be integers",
     "output_type": "error",
     "traceback": [
      "\u001b[1;31m---------------------------------------------------------------------------\u001b[0m",
      "\u001b[1;31mTypeError\u001b[0m                                 Traceback (most recent call last)",
      "Cell \u001b[1;32mIn[8], line 1\u001b[0m\n\u001b[1;32m----> 1\u001b[0m output_file[\u001b[39m'\u001b[39;49m\u001b[39mannotations\u001b[39;49m\u001b[39m'\u001b[39;49m]\n",
      "\u001b[1;31mTypeError\u001b[0m: string indices must be integers"
     ]
    }
   ],
   "source": [
    "coco_json['annotations']"
   ]
  }
 ],
 "metadata": {
  "kernelspec": {
   "display_name": "deep_l",
   "language": "python",
   "name": "python3"
  },
  "language_info": {
   "codemirror_mode": {
    "name": "ipython",
    "version": 3
   },
   "file_extension": ".py",
   "mimetype": "text/x-python",
   "name": "python",
   "nbconvert_exporter": "python",
   "pygments_lexer": "ipython3",
   "version": "3.9.16"
  },
  "orig_nbformat": 4,
  "vscode": {
   "interpreter": {
    "hash": "5e9f93bd56c6147185d63775ac8b10245fe8e4944abffd9e5315fcf109c29d11"
   }
  }
 },
 "nbformat": 4,
 "nbformat_minor": 2
}
