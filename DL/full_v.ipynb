{
 "cells": [
  {
   "cell_type": "code",
   "execution_count": 1,
   "id": "852581dd",
   "metadata": {},
   "outputs": [],
   "source": [
    "from resize import resize_img\n",
    "from load_json import load_j\n",
    "from name import name_txt\n",
    "from sort_img import sort_image\n",
    "from valid_set import make_valid_set\n",
    "\n",
    "resize_img('images', 640)\n",
    "\n",
    "\n",
    "training_json = load_j('training.json')\n",
    "test_json =load_j('test.json')\n",
    "\n",
    "category_ids = {}\n",
    "name_txt(training_json,640, category_ids, 'training')\n",
    "name_txt(test_json,640, category_ids, 'test')\n",
    "\n",
    "sort_image(training_json, 'training')\n",
    "sort_image(test_json, 'test')\n",
    "\n",
    "make_valid_set()"
   ]
  },
  {
   "cell_type": "code",
   "execution_count": 2,
   "id": "88d7ad44",
   "metadata": {},
   "outputs": [
    {
     "data": {
      "text/plain": [
       "{'not_infected': 0, 'infected': 1}"
      ]
     },
     "execution_count": 2,
     "metadata": {},
     "output_type": "execute_result"
    }
   ],
   "source": [
    "category_ids"
   ]
  },
  {
   "cell_type": "code",
   "execution_count": null,
   "id": "42da9378",
   "metadata": {},
   "outputs": [],
   "source": []
  }
 ],
 "metadata": {
  "kernelspec": {
   "display_name": "Python 3 (ipykernel)",
   "language": "python",
   "name": "python3"
  },
  "language_info": {
   "codemirror_mode": {
    "name": "ipython",
    "version": 3
   },
   "file_extension": ".py",
   "mimetype": "text/x-python",
   "name": "python",
   "nbconvert_exporter": "python",
   "pygments_lexer": "ipython3",
   "version": "3.9.16"
  },
  "toc": {
   "base_numbering": 1,
   "nav_menu": {},
   "number_sections": true,
   "sideBar": true,
   "skip_h1_title": false,
   "title_cell": "Table of Contents",
   "title_sidebar": "Contents",
   "toc_cell": false,
   "toc_position": {},
   "toc_section_display": true,
   "toc_window_display": false
  }
 },
 "nbformat": 4,
 "nbformat_minor": 5
}
