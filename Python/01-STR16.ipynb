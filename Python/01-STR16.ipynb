{
 "cells": [
  {
   "cell_type": "code",
   "execution_count": null,
   "id": "5505663b",
   "metadata": {},
   "outputs": [],
   "source": [
    "import pandas as pd\n",
    "import numpy as np\n",
    "\n",
    "pd.set_option('display.max_rows', 200)\n",
    "df = pd.read_csv('ready_data00.csv', low_memory=False)\n",
    "df.head(1)"
   ]
  },
  {
   "cell_type": "code",
   "execution_count": null,
   "id": "d475297a",
   "metadata": {
    "scrolled": false
   },
   "outputs": [],
   "source": [
    "df.info()"
   ]
  },
  {
   "cell_type": "code",
   "execution_count": null,
   "id": "6971c1aa",
   "metadata": {},
   "outputs": [],
   "source": [
    "df.transaction_type = df.transaction_type + ' ' + df.additional_transaction_info.fillna('')\n",
    "df.transaction_type = df.transaction_type.str.strip()\n"
   ]
  },
  {
   "cell_type": "code",
   "execution_count": null,
   "id": "9194cdf0",
   "metadata": {},
   "outputs": [],
   "source": [
    "df.commodity = df.commodity.astype('category')\n",
    "df.transaction_type = df.transaction_type.astype('category')\n",
    "df.country_or_area = df.country_or_area.astype('category')\n",
    "df.commodity_transaction = df.commodity_transaction.astype('category')\n",
    "df.unit = df.unit.astype('category')\n",
    "df.category = df.category.astype('category')\n",
    "df.year = df.year.astype('category')\n",
    "df.quantity = df.quantity.astype('float32')\n",
    "df.quantity_footnotes = df.quantity_footnotes.astype('float32')\n",
    "df.info()"
   ]
  },
  {
   "cell_type": "code",
   "execution_count": null,
   "id": "0979deb9",
   "metadata": {
    "scrolled": false
   },
   "outputs": [],
   "source": [
    "only_comm = df.loc[:,['country_or_area','year',\"transaction_type\",'unit', 'quantity', 'category']]\n",
    "only_comm.head()"
   ]
  },
  {
   "cell_type": "code",
   "execution_count": null,
   "id": "3e70cb75",
   "metadata": {
    "scrolled": false
   },
   "outputs": [],
   "source": [
    "only_comm[\"transaction_type\"].value_counts().sort_index()"
   ]
  },
  {
   "cell_type": "code",
   "execution_count": null,
   "id": "4a5ff339",
   "metadata": {},
   "outputs": [],
   "source": [
    "#CL1214a - CL1214o -> CL1214\n",
    "\n",
    "other_manuf_const_and_non_fuel_min_ind = ['consumption by non-ferrous metals',\n",
    "                                          'consumption by non-metallic minerals',\n",
    "                                          'consumption by transport equipment',\n",
    "                                          'consumption by machinery',\n",
    "                                          'consumption by mining and quarrying',\n",
    "                                          'consumption by food and tobacco',\n",
    "                                          'consumption by food, beverage and tobacco',\n",
    "                                          'consumption by paper, pulp and print',\n",
    "                                          'consumption by wood and wood products',\n",
    "                                          'consumption by construction',\n",
    "                                          'consumption by industry & construction',\n",
    "                                          'consumption by textile and leather', \n",
    "                                          'consumption not elsewhere specified (industry)',\n",
    "                                          'consumption by industries not elsewhere specified'\n",
    "                                           ]"
   ]
  },
  {
   "cell_type": "code",
   "execution_count": null,
   "id": "4bf31637",
   "metadata": {
    "scrolled": true
   },
   "outputs": [],
   "source": [
    "def CL4(row):\n",
    "    if row in other_manuf_const_and_non_fuel_min_ind:\n",
    "        return 'other manuf., const. and non-fuel min. ind.'\n",
    "    else:\n",
    "        return np.nan\n",
    "        \n",
    "only_comm['CL4'] =  only_comm['transaction_type'].apply(CL4)"
   ]
  },
  {
   "cell_type": "code",
   "execution_count": null,
   "id": "a1f80a1a",
   "metadata": {},
   "outputs": [],
   "source": [
    "only_comm.head()"
   ]
  },
  {
   "cell_type": "code",
   "execution_count": null,
   "id": "659a248a",
   "metadata": {},
   "outputs": [],
   "source": [
    "#CL08811 - CL08832 - > CL088\n",
    "\n",
    "transformation_in_electricity_chp_and_heat_plants = ['main activity',\n",
    "                                                     'main activity electricity plants',\n",
    "                                                     'main activity chp plants ',\n",
    "                                                     'main activity total',\n",
    "                                                     'main activity heat plants',\n",
    "                                                     'transformation in main activity producer electricity plants',\n",
    "                                                     'transformation in main activity producer chp plants',\n",
    "                                                     'transformation in main activity producer heat plants',\n",
    "                                                     'transformation in main activity electricity plants',\n",
    "                                                     'transformation in main activity heat plants',\n",
    "                                                     'transformation in main activity chp plants',\n",
    "                                                     'transformation in chp plants main activity producers',\n",
    "                                                     'transformation in electricity plants main activity producers',\n",
    "                                                     'transformation in heat plants main activity producers',\n",
    "                                                     'autoproducer',\n",
    "                                                     'autoproducer electricity plants',\n",
    "                                                     'autoproducer chp plants',\n",
    "                                                     'autoproducer heat plants',\n",
    "                                                     'autoproducer total',\n",
    "                                                     'transformation in autoproducer electricity plants',                                 \n",
    "                                                     'transformation in autoproducer chp plants',\n",
    "                                                     'transformation in autoproducer heat plants',\n",
    "                                                     'transformation in chp plants autoproducers',\n",
    "                                                     'transformation in electricity plants autoproducers',\n",
    "                                                     'transformation in heat plants autoproducers',\n",
    "                                                     'other transformation processes not elsewhere classified',\n",
    "                                                     'from other sources main activity producers',\n",
    "                                                     'from other sources autoproducers',\n",
    "                                                     'from other sources total'\n",
    "                                                    ]\n",
    "\n",
    "#CL1211 - CL1214 - > CL121\n",
    "manufacturing_construction_and_non_fuel= ['consumption by iron and steel',\n",
    "                                          'consumption by chemical and petrochemical',\n",
    "                                          'consumption by chemical',\n",
    "                                          'consumption by other manuf., const. and non-fuel',\n",
    "                                          'consumption by other manufacturing, construction and non-fuel'\n",
    "                                            ]\n",
    "\n",
    "\n",
    "#CL1222-CL1225 -> CL122\n",
    "transport = ['consumption by rail',\n",
    "             'consumption by road',\n",
    "             'consumption by domestic navigation',\n",
    "             'consumption by domestic aviation',\n",
    "             'consumption by pipeline transport',\n",
    "             'consumption by other transport',\n",
    "             'consumption not elsewhere specified (transport)'\n",
    "            ]\n",
    "\n",
    "\n",
    "#CL1231-1235 -> CL123\n",
    "other = ['consumption by households',\n",
    "        'consumption by agriculture, forestry and fishing',\n",
    "        'consumption by commercial and public services',\n",
    "        'consumption by other consumers',\n",
    "        'consumption by other consumers not elsewhere specified',\n",
    "        'consumption by other industries and construction',\n",
    "        'consumption by other',\n",
    "        'commercial and public services',\n",
    "        'commercial and public services',\n",
    "        'consumption not elsewhere specified (other)'\n",
    "        ]\n",
    "\n",
    "#cl071\n",
    "net = [ \"net installed capacity of electric power plants public solar\",\n",
    "        \"net installed capacity of electric power plants, public combustible fuels\",\n",
    "        \"net installed capacity of electric power plants, public geothermal\", \n",
    "        \"net installed capacity of electric power plants, public hydro\",  \n",
    "        \"net installed capacity of electric power plants, public nuclear\",\n",
    "        \"net installed capacity of electric power plants, public tide, wave, marine\",\n",
    "        \"net installed capacity of electric power plants, public wind\",\n",
    "        \"net installed capacity of electric power plants, self-producer combustible fuels\", \n",
    "        \"net installed capacity of electric power plants, self-producer geothermal\",\n",
    "        \"net installed capacity of electric power plants, self-producer hydro\",\n",
    "        \"net installed capacity of electric power plants, self-producer nuclear\",  \n",
    "        \"net installed capacity of electric power plants, self-producer solar\",\n",
    "        \"net installed capacity of electric power plants, self-producer tide, wave, marine\",\n",
    "        \"net installed capacity of electric power plants, self-producer wind\", \n",
    "        \"net production\",\n",
    "        \"net transfers\",\n",
    "        \"pumped hydro main activity producers\",\n",
    "        \"solar pv main activity producers\",\n",
    "        \"solar thermal main activity producers\",\n",
    "        \"pumped hydro autoproducers\",\n",
    "        'solar pv autoproducers',\n",
    "        'solar thermal autoproducers',\n",
    "        'pumped hydro total',\n",
    "        'solar pv total',\n",
    "        'solar thermal total'\n",
    "          ]\n",
    "\n"
   ]
  },
  {
   "cell_type": "code",
   "execution_count": null,
   "id": "cbf03823",
   "metadata": {},
   "outputs": [],
   "source": [
    "def CL3(row):\n",
    "    if row['transaction_type'] in transformation_in_electricity_chp_and_heat_plants:\n",
    "        return 'transformation in electricity, chp and heat plants'\n",
    "    elif row['transaction_type'] in net:\n",
    "        return 'Transfers details'\n",
    "    elif row['transaction_type'] in manufacturing_construction_and_non_fuel:\n",
    "        return 'consumption by manufacturing, construction and non-fuel'\n",
    "    elif row['transaction_type'] in transport:\n",
    "        return 'transport'\n",
    "    elif row['transaction_type'] in other :\n",
    "        return 'other'\n",
    "    else:\n",
    "        return np.nan\n",
    "    \n",
    "    \n",
    "only_comm['CL3'] =  only_comm.apply(CL3, axis=1)"
   ]
  },
  {
   "cell_type": "code",
   "execution_count": null,
   "id": "456a1443",
   "metadata": {},
   "outputs": [],
   "source": [
    "production = ['production from refineries', \n",
    "              'production from plants' ,\n",
    "              'production from off-shore',\n",
    "              'total production, main activity',\n",
    "              'total nuclear production', \n",
    "              'used for electricity production'\n",
    "             ]\n",
    "\n",
    "international_marine_bunkers = ['international marine bunkers',\n",
    "                                'international aviation bunkers']\n",
    "#CL088 - CL089 -> CL08\n",
    "transformation = [# usunięcie 'transformation in electricity, chp and heat plants', \n",
    "                    'transformation in coke ovens',\n",
    "                    'transformation in gas works',\n",
    "                    'transformation in briquetting plants',\n",
    "                    'transformation in blast furnaces',\n",
    "                    'transformation in coal liquefaction plants',\n",
    "                    'transformation in oil refineries',\n",
    "                    'transformation in charcoal plants',\n",
    "                    'transformation in petrochemical plants',\n",
    "                    'transformation in natural gas blending plants',\n",
    "                    'transformation in gas-to-liquid plants',\n",
    "                    'used for electric boilers',\n",
    "                    'used for heat pumps',\n",
    "                    'other transformation'\n",
    "                 ]\n",
    "\n",
    "#CL0911-CL0928 -> CL09\n",
    "energy_industries_own_use = ['own use by coal mines',\n",
    "                            'own use by coke ovens',\n",
    "                            'own use by gas works',\n",
    "                            'own use by briquetting plants',\n",
    "                            'own use by blast furnaces',\n",
    "                            'own use by oil refineries',\n",
    "                            'own use by oil and gas extraction',\n",
    "                            'own use by electricity, chp and heat plants',\n",
    "                            'own use by coal liquefaction plants',\n",
    "                            'own use by pump-storage plants',\n",
    "                            'own use by lng/regasification plants',\n",
    "                            'own use by nuclear fuel extraction and processing',\n",
    "                            'own use by biogas production plants',\n",
    "                            'own use by other energy producers',\n",
    "                            'own use by gas-to-liquid (gtl) plants',\n",
    "                            'own use by charcoal plants',\n",
    "                            'own use by gasworks',\n",
    "                            'consumption by lng/regasification plants',\n",
    "                            'consumption by coal mines',\n",
    "                            'consumption by energy sector',\n",
    "                            'consumption by briquetting plants', \n",
    "                            'conversion in briquetting plants',\n",
    "                            'conversion in blast furnaces',\n",
    "                            'other energy industry own use'\n",
    "                            ]\n",
    "\n",
    "\n",
    "#CL121-CL123 ->CL12\n",
    "final_energy_consumption = ['consumption by manufacturing, construction and non-fuel',\n",
    "                            'consumption by other manuf., const. and non-fuel',\n",
    "                            'consumption by transport',\n",
    "                            'consumption by electricity, chp and heat plants'\n",
    "                            'transport', \n",
    "                            'other'\n",
    "                           ]\n",
    "\n",
    "\n",
    "\n",
    "#CL07\n",
    "transfers = [   'total net installed capacity of electric power plants, main activity',\n",
    "                'total net installed capacity of electric power plants, main activity & autoproducer',\n",
    "                'total net installed capacity of electric power plants, combustible fuels',\n",
    "                'total net installed capacity of electric power plants, hydro',\n",
    "                'total net installed capacity of electric power plants, autoproducer',\n",
    "                'total net installed capacity of electric power plants, wind',\n",
    "                'total net installed capacity of electric power plants, solar',\n",
    "                'total net installed capacity of electric power plants, nuclear',\n",
    "                'total net installed capacity of electric power plants, geothermal',\n",
    "                'total net installed capacity of electric power plants, tide, wave, marine',\n",
    "                'total wind production',\n",
    "                'total thermal production',\n",
    "                'total hydro production',\n",
    "                'total hydraulic resources',\n",
    "                'total production, autoproducer',\n",
    "                'total solar production',\n",
    "                'total geothermal production',\n",
    "                'total tide, wave production',\n",
    "                'transfers and recycled products'\n",
    "              ]  \n",
    "\n",
    "\n",
    "losses = [ 'extraction loss shrinkage', 'flared' ]"
   ]
  },
  {
   "cell_type": "code",
   "execution_count": null,
   "id": "2324b36d",
   "metadata": {
    "scrolled": true
   },
   "outputs": [],
   "source": [
    "def CL2(row):\n",
    "    if row['transaction_type'] in production :\n",
    "        return 'production'\n",
    "    elif row['transaction_type'] == 'receipts from other sources':\n",
    "        return ' receipts from other sources'\n",
    "    elif row['transaction_type'] == 'imports': \n",
    "        return 'imports'\n",
    "    elif row['transaction_type'] == 'exports': \n",
    "        return 'exports'\n",
    "    elif row['transaction_type'] in international_marine_bunkers:\n",
    "        return 'international marine bunkers'\n",
    "    elif row['transaction_type'] == 'stock changes':\n",
    "        return 'stock changes'\n",
    "    elif row['transaction_type'] in net:\n",
    "         return 'transfers'\n",
    "    elif row['transaction_type'] in transformation:\n",
    "        return 'transformation'\n",
    "    elif row['transaction_type'] in energy_industries_own_use:\n",
    "        return 'energy industries own use'\n",
    "    elif row['transaction_type'] in losses:\n",
    "        return 'losses'\n",
    "    elif row['transaction_type'] == 'consumption for non-energy use':\n",
    "        return 'non-energy use'\n",
    "    elif row['transaction_type'] in final_energy_consumption:\n",
    "        return 'final energy consumption'\n",
    "    else:\n",
    "        return np.nan\n",
    "    \n",
    "only_comm['CL2'] =  only_comm.apply(CL2, axis=1)"
   ]
  },
  {
   "cell_type": "code",
   "execution_count": null,
   "id": "01693a66",
   "metadata": {
    "scrolled": true
   },
   "outputs": [],
   "source": [
    "only_comm.info()"
   ]
  },
  {
   "cell_type": "code",
   "execution_count": null,
   "id": "001b3f9f",
   "metadata": {},
   "outputs": [],
   "source": [
    "only_comm[only_comm['CL2'].isnull()]['transaction_type'].value_counts()"
   ]
  },
  {
   "cell_type": "code",
   "execution_count": null,
   "id": "d7fd1f59",
   "metadata": {},
   "outputs": [],
   "source": [
    "##nadgrupy\n",
    "main_category = ['total energy supply','final consumption' ]\n",
    "\n",
    "\n",
    "#nie wiem gdzie to zaliczyc\n",
    "wtf = ['refinery capacity', 'gross demand','gross production','reserves' , \n",
    "       'memo:gross production' ,'flared and vented ' ,'total resources',\n",
    "       'total resources in place','re-injected', 'total known reserves',\n",
    "       'recoverable reserves', 'vented', 'additional resources', 'reserves from oil shale and tar sands',\n",
    "       'reserves from oil shale', 'reasonably assured reserves', 'recoverable','reserves from tar sands',\n",
    "       'estimated additional reserves', 'other reserves', 'memo: opening stock level (national territory)', 'memo: closing stock level (national territory)' \n",
    "      ]"
   ]
  },
  {
   "cell_type": "code",
   "execution_count": null,
   "id": "d6ef86ca",
   "metadata": {},
   "outputs": [],
   "source": [
    "only_comm2 = only_comm"
   ]
  },
  {
   "cell_type": "code",
   "execution_count": null,
   "id": "d97b9b06",
   "metadata": {},
   "outputs": [],
   "source": [
    "only_comm2.insert(9,'commodity_transaction', df.commodity_transaction)\n",
    "only_comm2.insert(10,'commodity', df.commodity)\n",
    "only_comm2.to_csv('transaction_type013.csv', index = False)"
   ]
  },
  {
   "cell_type": "code",
   "execution_count": null,
   "id": "94919ec0",
   "metadata": {},
   "outputs": [],
   "source": [
    "only_comm2"
   ]
  }
 ],
 "metadata": {
  "kernelspec": {
   "display_name": "Python 3.10.6 ('nauka')",
   "language": "python",
   "name": "python3"
  },
  "language_info": {
   "codemirror_mode": {
    "name": "ipython",
    "version": 3
   },
   "file_extension": ".py",
   "mimetype": "text/x-python",
   "name": "python",
   "nbconvert_exporter": "python",
   "pygments_lexer": "ipython3",
   "version": "3.10.6"
  },
  "vscode": {
   "interpreter": {
    "hash": "56af6108ceeeb4d6532d164c8127b8e870178160f27b73293335843d14508bbe"
   }
  }
 },
 "nbformat": 4,
 "nbformat_minor": 5
}
