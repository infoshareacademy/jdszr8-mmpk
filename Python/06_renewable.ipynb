{
 "cells": [
  {
   "cell_type": "code",
   "execution_count": null,
   "id": "922df6b9",
   "metadata": {},
   "outputs": [],
   "source": [
    "import pandas as pd\n",
    "import numpy as np\n",
    "np.set_printoptions(suppress=True)\n",
    "pd.set_option('display.float_format', lambda x:'%.4f'%x)\n",
    "pd.set_option('display.max_rows', 300)\n",
    " \n",
    "df = pd.read_csv('final_version.csv')\n",
    "df"
   ]
  },
  {
   "cell_type": "code",
   "execution_count": null,
   "id": "eb091f52",
   "metadata": {},
   "outputs": [],
   "source": [
    "## only gross\n",
    "gross = df[df['commodity_transaction'] == 'Electricity - Gross production'].sort_values(['country_or_area', 'year'])\n",
    "gross\n"
   ]
  },
  {
   "cell_type": "code",
   "execution_count": null,
   "id": "d45d6b09",
   "metadata": {},
   "outputs": [],
   "source": [
    "# only renewalbe or no-renewable\n",
    "renewable_list = ['Electricity - total nuclear production',\n",
    "                'Electricity - total geothermal production',\n",
    "                'Electricity - total tide, wave and hydro production',\n",
    "                'Electricity - total solar production',\n",
    "                'Electricity - total wind production']\n",
    "\n",
    "non_renewable_list = ['Electricity - total thermal production',\n",
    "                    'From chemical heat – Autoproducer',\n",
    "                    'From chemical heat – Main activity',\n",
    "                    'From other sources – Autoproducer',\n",
    "                    'From other sources – Main activity']\n",
    "\n",
    "rene = df[(df['commodity_transaction'].isin(renewable_list))|(df['commodity_transaction'].isin(non_renewable_list))].sort_values(['country_or_area', 'year'])\n",
    "rene"
   ]
  },
  {
   "cell_type": "code",
   "execution_count": null,
   "id": "d206719b",
   "metadata": {},
   "outputs": [],
   "source": [
    "def f_renewable(row):\n",
    "    if row in renewable_list:\n",
    "        return 1\n",
    "    else:\n",
    "        return 0\n",
    "\n",
    "def f_non_renewable(row):\n",
    "    if row in non_renewable_list:\n",
    "        return 1\n",
    "    else:\n",
    "        return 0\n",
    "\n"
   ]
  },
  {
   "cell_type": "code",
   "execution_count": null,
   "id": "2c14ed27",
   "metadata": {},
   "outputs": [],
   "source": [
    "rene['renewable'] = rene['commodity_transaction'].apply(f_renewable)\n",
    "rene['non_renewable'] = rene['commodity_transaction'].apply(f_non_renewable)\n"
   ]
  },
  {
   "cell_type": "code",
   "execution_count": null,
   "id": "79300af4",
   "metadata": {},
   "outputs": [],
   "source": [
    "\n",
    "rene['renewable'] = rene['new_quantity'] * rene['renewable']\n",
    "rene['non_renewable'] = rene['new_quantity'] * rene['non_renewable']\n",
    "rene"
   ]
  },
  {
   "cell_type": "code",
   "execution_count": null,
   "id": "c3d6c548",
   "metadata": {},
   "outputs": [],
   "source": [
    "# rene.drop(rene[(rene['commodity_transaction'] == 'From other sources – Main activity') & (rene['category']=='heat')].index, inplace = True)\n",
    "# rene.drop(rene[(rene['commodity_transaction'] == 'From other sources – Autoproducer') & (rene['category']=='heat')].index, inplace = True)"
   ]
  },
  {
   "cell_type": "code",
   "execution_count": null,
   "id": "edebea8d",
   "metadata": {},
   "outputs": [],
   "source": [
    "x = rene.groupby(['country_or_area', 'ISO', 'year']).agg({'renewable':'sum', 'non_renewable': 'sum'}).reset_index()\n",
    "x"
   ]
  },
  {
   "cell_type": "code",
   "execution_count": null,
   "id": "f4037055",
   "metadata": {},
   "outputs": [],
   "source": [
    "y = pd.merge(gross, x, on = ['country_or_area','ISO','year'], how= 'inner')\n",
    "y"
   ]
  },
  {
   "cell_type": "code",
   "execution_count": null,
   "id": "f3b0b87f",
   "metadata": {},
   "outputs": [],
   "source": [
    "#checking \n",
    "y['difference'] =round( y['new_quantity'] - y['renewable'] - y['non_renewable'],4)\n",
    "y"
   ]
  },
  {
   "cell_type": "code",
   "execution_count": null,
   "id": "afea226e",
   "metadata": {
    "scrolled": true
   },
   "outputs": [],
   "source": [
    "y[y['difference']!=0]"
   ]
  },
  {
   "cell_type": "code",
   "execution_count": null,
   "id": "87b70299",
   "metadata": {},
   "outputs": [],
   "source": [
    "len(y[y['difference']!=0])"
   ]
  },
  {
   "cell_type": "code",
   "execution_count": null,
   "id": "99986713",
   "metadata": {},
   "outputs": [],
   "source": [
    "## add procent of renewable i non renewable\n",
    "y['%_renewable'] = (y['renewable']/ y['new_quantity']) *100\n",
    "y['%_non_renewable'] = (y['non_renewable']/ y['new_quantity']) *100\n",
    "# y.insert(loc=7, column = 'All_consumption', value =  (y['new_quantity']/1000000))\n",
    "# y.insert(loc=8, column = 'Renewable', value =  (y['renewable']/1000000))\n",
    "# y.insert(loc=9, column = 'Non_renewable', value =  (y['non_renewable']/1000000))\n",
    "# y['new_unit'] = 'TWh'\n",
    "# y['new_quantity'] = y['new_quantity']/1000000\n",
    "# y['renewable'] = y['renewable']/1000000\n",
    "# y['non_renewable'] = y['non_renewable']/1000000\n",
    "y"
   ]
  },
  {
   "cell_type": "code",
   "execution_count": null,
   "id": "753ec7b5",
   "metadata": {},
   "outputs": [],
   "source": [
    "y.to_csv('renewable.csv', index = False)"
   ]
  }
 ],
 "metadata": {
  "kernelspec": {
   "display_name": "Python 3 (ipykernel)",
   "language": "python",
   "name": "python3"
  },
  "language_info": {
   "codemirror_mode": {
    "name": "ipython",
    "version": 3
   },
   "file_extension": ".py",
   "mimetype": "text/x-python",
   "name": "python",
   "nbconvert_exporter": "python",
   "pygments_lexer": "ipython3",
   "version": "3.9.12"
  }
 },
 "nbformat": 4,
 "nbformat_minor": 5
}
