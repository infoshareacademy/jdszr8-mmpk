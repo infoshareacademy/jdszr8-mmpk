{
 "cells": [
  {
   "cell_type": "code",
   "execution_count": null,
   "metadata": {},
   "outputs": [],
   "source": [
    "import pandas as pd\n",
    "\n",
    "\n",
    "df = pd.read_csv('ready_data_030.csv', low_memory=False)\n",
    "df"
   ]
  },
  {
   "cell_type": "markdown",
   "metadata": {},
   "source": [
    "### wybrane kolumny"
   ]
  },
  {
   "cell_type": "code",
   "execution_count": null,
   "metadata": {},
   "outputs": [],
   "source": [
    "df = df[['country_or_area', 'ISO', 'year', 'new_unit', 'new_quantity','commodity_transaction', 'category']]\n",
    "df"
   ]
  },
  {
   "cell_type": "markdown",
   "metadata": {},
   "source": [
    "### wybrane kategorie"
   ]
  },
  {
   "cell_type": "code",
   "execution_count": null,
   "metadata": {},
   "outputs": [],
   "source": [
    "#List of columns selected for analysis\n",
    "data_list = ['Electricity - Gross production',\n",
    "             #'Electricity - total production, main activity', \n",
    "             #'Electricity - total production, autoproducer',\n",
    "             'Electricity - total thermal production', \n",
    "             'Electricity - total nuclear production',\n",
    "             'Electricity - total geothermal production', \n",
    "             'Electricity - total hydro production',\n",
    "             'Electricity - total solar production',\n",
    "             'Electricity - total tide, wave production',\n",
    "             'Electricity - total wind production',\n",
    "             'From chemical heat – Autoproducer',\n",
    "             'From chemical heat – Main activity',\n",
    "             'From other sources – Autoproducer',\n",
    "             'From other sources – Main activity']\n",
    "                 \n",
    "df = df[df['commodity_transaction'].isin(data_list)]\n",
    "df.head()"
   ]
  },
  {
   "cell_type": "code",
   "execution_count": null,
   "metadata": {},
   "outputs": [],
   "source": [
    "x = df[(df['commodity_transaction'] == \"Electricity - total hydro production\") & (df['country_or_area'] == 'Finland')]['new_quantity'].sum()\n",
    "y = df[(df['commodity_transaction'] == 'Electricity - total tide, wave production')  & (df['country_or_area'] == 'Finland')]['new_quantity'].sum()\n",
    "a = x+y"
   ]
  },
  {
   "cell_type": "markdown",
   "metadata": {},
   "source": [
    "### Adding \"Electricity - total hydro production\" to 'Electricity - total tide, wave production'"
   ]
  },
  {
   "cell_type": "code",
   "execution_count": null,
   "metadata": {},
   "outputs": [],
   "source": [
    "\n",
    "dict_com_tr = {\"Electricity - total hydro production\":'Electricity - total tide, wave and hydro production',\n",
    "         'Electricity - total tide, wave production': 'Electricity - total tide, wave and hydro production' }\n",
    "dict_category = {'tide_wave_and_ocean_electricity': 'hydro_electricity',\n",
    "                    'hydro':'hydro_electricity'}\n",
    "df['commodity_transaction'] = df['commodity_transaction'].replace(dict_com_tr)\n",
    "df['category'] = df['category'].replace(dict_category)\n",
    "df.head()"
   ]
  },
  {
   "cell_type": "code",
   "execution_count": null,
   "metadata": {},
   "outputs": [],
   "source": [
    "df = df.groupby(['country_or_area','ISO','commodity_transaction','year','category','new_unit']).agg({'new_quantity':'sum'}).reset_index()\n",
    "df.head()"
   ]
  },
  {
   "cell_type": "markdown",
   "metadata": {},
   "source": [
    "### to check "
   ]
  },
  {
   "cell_type": "code",
   "execution_count": null,
   "metadata": {},
   "outputs": [],
   "source": [
    "b = df[(df['commodity_transaction'] == 'Electricity - total tide, wave and hydro production')  & (df['country_or_area'] == 'Finland')]['new_quantity'].sum()"
   ]
  },
  {
   "cell_type": "code",
   "execution_count": null,
   "metadata": {},
   "outputs": [],
   "source": [
    "a-b"
   ]
  },
  {
   "cell_type": "code",
   "execution_count": null,
   "metadata": {},
   "outputs": [],
   "source": [
    "df.commodity_transaction.value_counts()"
   ]
  },
  {
   "cell_type": "code",
   "execution_count": null,
   "metadata": {},
   "outputs": [],
   "source": [
    "df.category.value_counts()"
   ]
  },
  {
   "cell_type": "markdown",
   "metadata": {},
   "source": [
    "## file creation"
   ]
  },
  {
   "cell_type": "code",
   "execution_count": null,
   "metadata": {},
   "outputs": [],
   "source": [
    "df.to_csv('final_version.csv', index= False)"
   ]
  }
 ],
 "metadata": {
  "kernelspec": {
   "display_name": "Python 3.10.6 ('nauka')",
   "language": "python",
   "name": "python3"
  },
  "language_info": {
   "codemirror_mode": {
    "name": "ipython",
    "version": 3
   },
   "file_extension": ".py",
   "mimetype": "text/x-python",
   "name": "python",
   "nbconvert_exporter": "python",
   "pygments_lexer": "ipython3",
   "version": "3.10.6"
  },
  "orig_nbformat": 4,
  "vscode": {
   "interpreter": {
    "hash": "56af6108ceeeb4d6532d164c8127b8e870178160f27b73293335843d14508bbe"
   }
  }
 },
 "nbformat": 4,
 "nbformat_minor": 2
}
