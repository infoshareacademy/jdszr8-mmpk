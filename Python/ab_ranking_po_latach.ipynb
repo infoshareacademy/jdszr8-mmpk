{
 "cells": [
  {
   "cell_type": "code",
   "execution_count": null,
   "id": "3b06f47e",
   "metadata": {},
   "outputs": [],
   "source": [
    "import pandas as pd\n",
    "import numpy as np\n",
    "import matplotlib.pyplot as plt\n",
    "import seaborn as sns\n",
    "np.set_printoptions(suppress=True)\n",
    "pd.set_option('display.float_format', lambda x:'%.2f'%x)\n",
    "pd.set_option('display.max_rows', 300)\n",
    "sns.set(rc={'figure.figsize':(12,8.5)})\n",
    "import cufflinks as cf\n",
    "init_notebook_mode(connected=True)\n",
    "cf.go_offline()\n",
    "\n",
    "\n",
    "from plotly import __version__\n",
    "from plotly.offline import download_plotlyjs, init_notebook_mode, plot, iplot"
   ]
  },
  {
   "cell_type": "code",
   "execution_count": null,
   "id": "64af951e",
   "metadata": {},
   "outputs": [],
   "source": [
    "df = pd.read_csv('renewable.csv')\n",
    "df"
   ]
  },
  {
   "cell_type": "code",
   "execution_count": null,
   "id": "5a914f7c",
   "metadata": {
    "scrolled": false
   },
   "outputs": [],
   "source": [
    "def ranking():\n",
    "    print('Choose from a range of years 1994 to 2014')\n",
    "    start = ''\n",
    "    end = ''\n",
    "    country = ''\n",
    "    while start == '':\n",
    "        start = int(input('Enter the initial year: '))\n",
    "        end = int(input('Enter the final year: '))\n",
    "        country = input('Enter the country: ')\n",
    "        if start == end:\n",
    "            df1 = df[df['year'] == start]\n",
    "            df1['rank'] = df1['new_quantity'].rank(method='dense', ascending = False)\n",
    "            place = df1[df1['country_or_area'] == country]\n",
    "            num = df1[df1['country_or_area'] == country]['rank'].values[0]\n",
    "\n",
    "            three_first = df1[df1['rank']<4].sort_values('rank')\n",
    "            three_last = df1[df1['rank']>(df1['rank'].max()-3)].sort_values('rank')\n",
    "\n",
    "            txt = 'Your chosen country {} was ranked #{} in the year {}.'.format(country,int(num), start)\n",
    "            print(txt)\n",
    "            place.iplot(kind = 'bar', x= 'country_or_area', y=['new_quantity','non_renewable','renewable'])\n",
    "\n",
    "            print('3 first countries: ', three_first['country_or_area'].values[[0,1,2]])\n",
    "            three_first.iplot(kind = 'bar', x= 'country_or_area', y=['new_quantity','non_renewable','renewable'])\n",
    "\n",
    "            print('3 last countries: ',  three_last['country_or_area'].values[[0,1,2]])\n",
    "            three_last.iplot(kind = 'bar', x= 'country_or_area', y=['new_quantity','non_renewable','renewable'])\n",
    "\n",
    "        else:\n",
    "            df1 = df[(df['year'] >= start) & (df['year'] <= end)]\n",
    "            df1 = df1.groupby('country_or_area').agg({'new_quantity':'mean','renewable':'mean','non_renewable':'mean'}).reset_index()\n",
    "            df1['rank'] = df1['new_quantity'].rank(method='dense', ascending = False)\n",
    "            place = df1[df1['country_or_area'] == country]\n",
    "            num = df1[df1['country_or_area'] == country]['rank'].values[0]\n",
    "\n",
    "            three_first = df1[df1['rank']<4].sort_values('rank')\n",
    "            three_last = df1[df1['rank']>(df1['rank'].max()-3)].sort_values('rank')\n",
    "\n",
    "            txt = 'Your chosen country {} was ranked #{} in the years {} - {}.'.format(country,int(num),start, end)\n",
    "            print(txt)\n",
    "            place.iplot(kind = 'bar', x= 'country_or_area', y=['new_quantity','non_renewable','renewable'])\n",
    "\n",
    "            print('3 first countries: ', three_first['country_or_area'].values[[0,1,2]])\n",
    "            three_first.iplot(kind = 'bar', x= 'country_or_area', y=['new_quantity','non_renewable','renewable'])\n",
    "\n",
    "            print('3 last countries: ',  three_last['country_or_area'].values[[0,1,2]])\n",
    "            three_last.iplot(kind = 'bar', x= 'country_or_area', y=['new_quantity','non_renewable','renewable'])\n",
    "\n"
   ]
  }
 ],
 "metadata": {
  "kernelspec": {
   "display_name": "Python 3 (ipykernel)",
   "language": "python",
   "name": "python3"
  },
  "language_info": {
   "codemirror_mode": {
    "name": "ipython",
    "version": 3
   },
   "file_extension": ".py",
   "mimetype": "text/x-python",
   "name": "python",
   "nbconvert_exporter": "python",
   "pygments_lexer": "ipython3",
   "version": "3.9.12"
  }
 },
 "nbformat": 4,
 "nbformat_minor": 5
}
