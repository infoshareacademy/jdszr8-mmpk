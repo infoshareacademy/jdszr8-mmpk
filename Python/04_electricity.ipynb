{
 "cells": [
  {
   "cell_type": "markdown",
   "id": "8d87cd76",
   "metadata": {},
   "source": [
    "### Ulepszona wersja 040_electricity"
   ]
  },
  {
   "cell_type": "code",
   "execution_count": null,
   "id": "6b7af043",
   "metadata": {},
   "outputs": [],
   "source": [
    "import pandas as pd\n",
    "import numpy as np"
   ]
  },
  {
   "cell_type": "code",
   "execution_count": null,
   "id": "fa727658",
   "metadata": {},
   "outputs": [],
   "source": [
    "df = pd.read_csv('ready_data_030.csv',low_memory=False)"
   ]
  },
  {
   "cell_type": "code",
   "execution_count": null,
   "id": "351140ad",
   "metadata": {},
   "outputs": [],
   "source": [
    "df.info()"
   ]
  },
  {
   "cell_type": "markdown",
   "id": "0da2b0cb",
   "metadata": {},
   "source": [
    "## INFO\n",
    "Kategoria Gross skada się sumy:\n",
    "<ul>\n",
    "    <li>thermal</li><li>nuclear</li><li>geothermal</li><li>hydro</li><li>solar</li><li>tide</li><li>wind</li><li>dodatkowo z: chemical heat – Autoproducer, chemical heat – Main activity, other sources – Autoproducer,From other sources – Main activity</li>\n"
   ]
  },
  {
   "cell_type": "code",
   "execution_count": null,
   "id": "0bf31cde",
   "metadata": {},
   "outputs": [],
   "source": [
    "def get_country_electircity_stats(data,country,year):\n",
    "    output_list = []\n",
    "    data_list = ['Electricity - Gross production','Electricity - net production',\n",
    "                 'Electricity - total production, main activity','Electricity - total production, autoproducer',\n",
    "                 'Electricity - total thermal production','Electricity - total nuclear production',\n",
    "                 'Electricity - total geothermal production','Electricity - total hydro production',\n",
    "                 'Electricity - total solar production','Electricity - total tide, wave production',\n",
    "                 'Electricity - total wind production',\n",
    "                 'From chemical heat – Autoproducer','From chemical heat – Main activity',\n",
    "                 'From other sources – Autoproducer','From other sources – Main activity']\n",
    "    short_names = ['Gross', 'net','production-main activity','total-autoproducer',\n",
    "                   'thermal','nuclear','geothermal','hydro','solar','tide','wind',\n",
    "                   'chem-heat-auto','chem-heat-main','other-auto','other-main']\n",
    "    x=0\n",
    "    for i in data_list: \n",
    "        z = data['new_quantity'][(data['commodity_transaction'] == i) \n",
    "        & (data['country_or_area'] == country) & (data['year'] == year) & (data['category'] != 'heat')]\n",
    "#         country = z\n",
    "        if z.empty:\n",
    "            z=pd.Series(0)\n",
    "        z=pd.Series(z)\n",
    "        output_list.append([short_names[x],z.iloc[0]])\n",
    "        x+=1\n",
    "    data_frame = pd.DataFrame(output_list)\n",
    "    production_diff = data_frame.iloc[0,1].sum() - data_frame.iloc[4:15,1].sum()\n",
    "    if_diff = 'difference beetwen gross production and sum of poduction in particular categories is: {}'.format(production_diff)\n",
    "\n",
    "    return(output_list,data_frame,if_diff,country)\n",
    "\n",
    "    \n"
   ]
  },
  {
   "cell_type": "code",
   "execution_count": null,
   "id": "bef0449d",
   "metadata": {},
   "outputs": [],
   "source": [
    "(a,b,c,d) = get_country_electircity_stats(df,'Finland',2006)\n",
    "print(a)\n",
    "print('\\n')\n",
    "print(c)\n",
    "print(d)\n",
    "b"
   ]
  },
  {
   "cell_type": "code",
   "execution_count": null,
   "id": "9b338e7c",
   "metadata": {
    "scrolled": true
   },
   "outputs": [],
   "source": [
    "# Test czy gross równa się sumie podkategorii, dla danego kraju w zakresie lat 1995-2015\n",
    "for i in range(1995,2015):\n",
    "    (a,b,c,d) = get_country_electircity_stats(df,'Finland',i)\n",
    "    print(i,d,':',c)"
   ]
  },
  {
   "cell_type": "code",
   "execution_count": null,
   "id": "142e61da",
   "metadata": {},
   "outputs": [],
   "source": [
    "#Test czy gross równa się sumie podkategorii, dla podanego zakresu lat we wszystkich krajach w bazie danych\n",
    "countries = list(df.country_or_area.unique())\n",
    "for i in range(2005,2010):\n",
    "    for j in countries:\n",
    "        (a,b,c,d) = get_country_electircity_stats(df,j,i)\n",
    "        if d != 0:\n",
    "            print(i,':', j,':',c)\n",
    "        else:\n",
    "            continue\n",
    "            # licz = licz+1\n",
    "            # print(licz)"
   ]
  }
 ],
 "metadata": {
  "kernelspec": {
   "display_name": "Python 3.10.6 ('nauka')",
   "language": "python",
   "name": "python3"
  },
  "language_info": {
   "codemirror_mode": {
    "name": "ipython",
    "version": 3
   },
   "file_extension": ".py",
   "mimetype": "text/x-python",
   "name": "python",
   "nbconvert_exporter": "python",
   "pygments_lexer": "ipython3",
   "version": "3.10.6"
  },
  "vscode": {
   "interpreter": {
    "hash": "56af6108ceeeb4d6532d164c8127b8e870178160f27b73293335843d14508bbe"
   }
  }
 },
 "nbformat": 4,
 "nbformat_minor": 5
}
