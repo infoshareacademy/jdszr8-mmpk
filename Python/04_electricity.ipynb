{
 "cells": [
  {
   "cell_type": "markdown",
   "id": "8d87cd76",
   "metadata": {},
   "source": [
    "### Ulepszona wersja 040_electricity"
   ]
  },
  {
   "cell_type": "code",
   "execution_count": 1,
   "id": "6b7af043",
   "metadata": {},
   "outputs": [],
   "source": [
    "import pandas as pd\n",
    "import numpy as np"
   ]
  },
  {
   "cell_type": "code",
   "execution_count": 2,
   "id": "fa727658",
   "metadata": {},
   "outputs": [],
   "source": [
    "df = pd.read_csv('ready_data_030.csv',low_memory=False)"
   ]
  },
  {
   "cell_type": "code",
   "execution_count": 12,
   "id": "351140ad",
   "metadata": {},
   "outputs": [
    {
     "name": "stdout",
     "output_type": "stream",
     "text": [
      "<class 'pandas.core.frame.DataFrame'>\n",
      "RangeIndex: 1032032 entries, 0 to 1032031\n",
      "Data columns (total 18 columns):\n",
      " #   Column                 Non-Null Count    Dtype  \n",
      "---  ------                 --------------    -----  \n",
      " 0   country_or_area        1032032 non-null  object \n",
      " 1   ISO                    1032032 non-null  object \n",
      " 2   year                   1032032 non-null  int64  \n",
      " 3   transaction_type       1026856 non-null  object \n",
      " 4   unit                   1032032 non-null  object \n",
      " 5   quantity               1032032 non-null  float64\n",
      " 6   category               1032032 non-null  object \n",
      " 7   CL4                    61974 non-null    object \n",
      " 8   CL3                    277607 non-null   object \n",
      " 9   CL2                    312532 non-null   object \n",
      " 10  commodity_transaction  1032032 non-null  object \n",
      " 11  commodity              1032032 non-null  object \n",
      " 12  L1                     1032032 non-null  object \n",
      " 13  L2                     1032032 non-null  object \n",
      " 14  L3                     1032032 non-null  object \n",
      " 15  L4                     1032032 non-null  object \n",
      " 16  new_unit               1032032 non-null  object \n",
      " 17  new_quantity           1032032 non-null  float64\n",
      "dtypes: float64(2), int64(1), object(15)\n",
      "memory usage: 141.7+ MB\n"
     ]
    }
   ],
   "source": [
    "df.info()"
   ]
  },
  {
   "cell_type": "markdown",
   "id": "0da2b0cb",
   "metadata": {},
   "source": [
    "## INFO\n",
    "Kategoria Gross skada się sumy:\n",
    "<ul>\n",
    "    <li>thermal</li><li>nuclear</li><li>geothermal</li><li>hydro</li><li>solar</li><li>tide</li><li>wind</li><li>dodatkowo z: chemical heat – Autoproducer, chemical heat – Main activity, other sources – Autoproducer,From other sources – Main activity</li>\n"
   ]
  },
  {
   "cell_type": "code",
   "execution_count": 3,
   "id": "0bf31cde",
   "metadata": {},
   "outputs": [],
   "source": [
    "def get_country_electircity_stats(data,country,year):\n",
    "    output_list = []\n",
    "    data_list = ['Electricity - Gross production','Electricity - net production',\n",
    "                 'Electricity - total production, main activity','Electricity - total production, autoproducer',\n",
    "                 'Electricity - total thermal production','Electricity - total nuclear production',\n",
    "                 'Electricity - total geothermal production','Electricity - total hydro production',\n",
    "                 'Electricity - total solar production','Electricity - total tide, wave production',\n",
    "                 'Electricity - total wind production',\n",
    "                 'From chemical heat – Autoproducer','From chemical heat – Main activity',\n",
    "                 'From other sources – Autoproducer','From other sources – Main activity']\n",
    "    short_names = ['Gross', 'net','production-main activity','total-autoproducer',\n",
    "                   'thermal','nuclear','geothermal','hydro','solar','tide','wind',\n",
    "                   'chem-heat-auto','chem-heat-main','other-auto','other-main']\n",
    "    x=0\n",
    "    for i in data_list: \n",
    "        z = data['new_quantity'][(data['commodity_transaction'] == i) \n",
    "        & (data['country_or_area'] == country) & (data['year'] == year) & (data['category'] != 'heat')]\n",
    "#         country = z\n",
    "        if z.empty:\n",
    "            z=pd.Series(0)\n",
    "        z=pd.Series(z)\n",
    "        output_list.append([short_names[x],z.iloc[0]])\n",
    "        x+=1\n",
    "    data_frame = pd.DataFrame(output_list)\n",
    "    production_diff = data_frame.iloc[0,1].sum() - data_frame.iloc[4:15,1].sum()\n",
    "    if_diff = 'difference beetwen gross production and sum of poduction in particular categories is: {}'.format(production_diff)\n",
    "\n",
    "    return(output_list,data_frame,if_diff,country)\n",
    "\n",
    "    \n"
   ]
  },
  {
   "cell_type": "code",
   "execution_count": 4,
   "id": "bef0449d",
   "metadata": {},
   "outputs": [
    {
     "name": "stdout",
     "output_type": "stream",
     "text": [
      "[['Gross', 82301000.0], ['net', 78629000.0], ['production-main activity', 70200000.0], ['total-autoproducer', 12101000.0], ['thermal', 47489000.0], ['nuclear', 22906000.0], ['geothermal', 0], ['hydro', 11494000.0], ['solar', 3000.0], ['tide', 0], ['wind', 156000.0], ['chem-heat-auto', 197000.0], ['chem-heat-main', 47000.0], ['other-auto', 4000.0], ['other-main', 5000.0]]\n",
      "\n",
      "\n",
      "difference beetwen gross production and sum of poduction in particular categories is: 0.0\n",
      "Finland\n"
     ]
    },
    {
     "data": {
      "text/html": [
       "<div>\n",
       "<style scoped>\n",
       "    .dataframe tbody tr th:only-of-type {\n",
       "        vertical-align: middle;\n",
       "    }\n",
       "\n",
       "    .dataframe tbody tr th {\n",
       "        vertical-align: top;\n",
       "    }\n",
       "\n",
       "    .dataframe thead th {\n",
       "        text-align: right;\n",
       "    }\n",
       "</style>\n",
       "<table border=\"1\" class=\"dataframe\">\n",
       "  <thead>\n",
       "    <tr style=\"text-align: right;\">\n",
       "      <th></th>\n",
       "      <th>0</th>\n",
       "      <th>1</th>\n",
       "    </tr>\n",
       "  </thead>\n",
       "  <tbody>\n",
       "    <tr>\n",
       "      <th>0</th>\n",
       "      <td>Gross</td>\n",
       "      <td>82301000.0</td>\n",
       "    </tr>\n",
       "    <tr>\n",
       "      <th>1</th>\n",
       "      <td>net</td>\n",
       "      <td>78629000.0</td>\n",
       "    </tr>\n",
       "    <tr>\n",
       "      <th>2</th>\n",
       "      <td>production-main activity</td>\n",
       "      <td>70200000.0</td>\n",
       "    </tr>\n",
       "    <tr>\n",
       "      <th>3</th>\n",
       "      <td>total-autoproducer</td>\n",
       "      <td>12101000.0</td>\n",
       "    </tr>\n",
       "    <tr>\n",
       "      <th>4</th>\n",
       "      <td>thermal</td>\n",
       "      <td>47489000.0</td>\n",
       "    </tr>\n",
       "    <tr>\n",
       "      <th>5</th>\n",
       "      <td>nuclear</td>\n",
       "      <td>22906000.0</td>\n",
       "    </tr>\n",
       "    <tr>\n",
       "      <th>6</th>\n",
       "      <td>geothermal</td>\n",
       "      <td>0.0</td>\n",
       "    </tr>\n",
       "    <tr>\n",
       "      <th>7</th>\n",
       "      <td>hydro</td>\n",
       "      <td>11494000.0</td>\n",
       "    </tr>\n",
       "    <tr>\n",
       "      <th>8</th>\n",
       "      <td>solar</td>\n",
       "      <td>3000.0</td>\n",
       "    </tr>\n",
       "    <tr>\n",
       "      <th>9</th>\n",
       "      <td>tide</td>\n",
       "      <td>0.0</td>\n",
       "    </tr>\n",
       "    <tr>\n",
       "      <th>10</th>\n",
       "      <td>wind</td>\n",
       "      <td>156000.0</td>\n",
       "    </tr>\n",
       "    <tr>\n",
       "      <th>11</th>\n",
       "      <td>chem-heat-auto</td>\n",
       "      <td>197000.0</td>\n",
       "    </tr>\n",
       "    <tr>\n",
       "      <th>12</th>\n",
       "      <td>chem-heat-main</td>\n",
       "      <td>47000.0</td>\n",
       "    </tr>\n",
       "    <tr>\n",
       "      <th>13</th>\n",
       "      <td>other-auto</td>\n",
       "      <td>4000.0</td>\n",
       "    </tr>\n",
       "    <tr>\n",
       "      <th>14</th>\n",
       "      <td>other-main</td>\n",
       "      <td>5000.0</td>\n",
       "    </tr>\n",
       "  </tbody>\n",
       "</table>\n",
       "</div>"
      ],
      "text/plain": [
       "                           0           1\n",
       "0                      Gross  82301000.0\n",
       "1                        net  78629000.0\n",
       "2   production-main activity  70200000.0\n",
       "3         total-autoproducer  12101000.0\n",
       "4                    thermal  47489000.0\n",
       "5                    nuclear  22906000.0\n",
       "6                 geothermal         0.0\n",
       "7                      hydro  11494000.0\n",
       "8                      solar      3000.0\n",
       "9                       tide         0.0\n",
       "10                      wind    156000.0\n",
       "11            chem-heat-auto    197000.0\n",
       "12            chem-heat-main     47000.0\n",
       "13                other-auto      4000.0\n",
       "14                other-main      5000.0"
      ]
     },
     "execution_count": 4,
     "metadata": {},
     "output_type": "execute_result"
    }
   ],
   "source": [
    "(a,b,c,d) = get_country_electircity_stats(df,'Finland',2006)\n",
    "print(a)\n",
    "print('\\n')\n",
    "print(c)\n",
    "print(d)\n",
    "b"
   ]
  },
  {
   "cell_type": "code",
   "execution_count": 5,
   "id": "9b338e7c",
   "metadata": {
    "scrolled": true
   },
   "outputs": [
    {
     "name": "stdout",
     "output_type": "stream",
     "text": [
      "1995 Czechia : difference beetwen gross production and sum of poduction in particular categories is: 0.0\n",
      "1996 Czechia : difference beetwen gross production and sum of poduction in particular categories is: 0.0\n",
      "1997 Czechia : difference beetwen gross production and sum of poduction in particular categories is: 0.0\n",
      "1998 Czechia : difference beetwen gross production and sum of poduction in particular categories is: 0.0\n",
      "1999 Czechia : difference beetwen gross production and sum of poduction in particular categories is: 0.0\n",
      "2000 Czechia : difference beetwen gross production and sum of poduction in particular categories is: 0.0\n",
      "2001 Czechia : difference beetwen gross production and sum of poduction in particular categories is: 0.0\n",
      "2002 Czechia : difference beetwen gross production and sum of poduction in particular categories is: 0.0\n",
      "2003 Czechia : difference beetwen gross production and sum of poduction in particular categories is: 0.0\n",
      "2004 Czechia : difference beetwen gross production and sum of poduction in particular categories is: 0.0\n",
      "2005 Czechia : difference beetwen gross production and sum of poduction in particular categories is: 0.0\n",
      "2006 Czechia : difference beetwen gross production and sum of poduction in particular categories is: 0.0\n",
      "2007 Czechia : difference beetwen gross production and sum of poduction in particular categories is: 0.0\n",
      "2008 Czechia : difference beetwen gross production and sum of poduction in particular categories is: 0.0\n",
      "2009 Czechia : difference beetwen gross production and sum of poduction in particular categories is: 0.0\n",
      "2010 Czechia : difference beetwen gross production and sum of poduction in particular categories is: 0.0\n",
      "2011 Czechia : difference beetwen gross production and sum of poduction in particular categories is: 0.0\n",
      "2012 Czechia : difference beetwen gross production and sum of poduction in particular categories is: 0.0\n",
      "2013 Czechia : difference beetwen gross production and sum of poduction in particular categories is: 0.0\n",
      "2014 Czechia : difference beetwen gross production and sum of poduction in particular categories is: 0.0\n"
     ]
    }
   ],
   "source": [
    "# Test czy gross równa się sumie podkategorii, dla danego kraju w zakresie lat 1995-2015\n",
    "for i in range(1995,2015):\n",
    "    (a,b,c,d) = get_country_electircity_stats(df,'Czechia',i)\n",
    "    print(i,d,':',c)"
   ]
  },
  {
   "cell_type": "code",
   "execution_count": null,
   "id": "142e61da",
   "metadata": {},
   "outputs": [],
   "source": [
    "#Test czy gross równa się sumie podkategorii, dla podanego zakresu lat we wszystkich krajach w bazie danych\n",
    "countries = list(df.country_or_area.unique())\n",
    "for i in range(2005,2010):\n",
    "    for j in countries:\n",
    "        (a,b,c,d) = get_country_electircity_stats(df,j,i)\n",
    "        if d != 0:\n",
    "            print(i,':', j,':',c)\n",
    "        else:\n",
    "            continue\n",
    "            # licz = licz+1\n",
    "            # print(licz)"
   ]
  }
 ],
 "metadata": {
  "kernelspec": {
   "display_name": "Python 3 (ipykernel)",
   "language": "python",
   "name": "python3"
  },
  "language_info": {
   "codemirror_mode": {
    "name": "ipython",
    "version": 3
   },
   "file_extension": ".py",
   "mimetype": "text/x-python",
   "name": "python",
   "nbconvert_exporter": "python",
   "pygments_lexer": "ipython3",
   "version": "3.9.12"
  }
 },
 "nbformat": 4,
 "nbformat_minor": 5
}
