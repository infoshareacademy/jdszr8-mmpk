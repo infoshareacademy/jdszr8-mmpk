{
 "cells": [
  {
   "cell_type": "code",
   "execution_count": 1,
   "id": "17af0cdb",
   "metadata": {},
   "outputs": [
    {
     "data": {
      "text/html": [
       "        <script type=\"text/javascript\">\n",
       "        window.PlotlyConfig = {MathJaxConfig: 'local'};\n",
       "        if (window.MathJax) {MathJax.Hub.Config({SVG: {font: \"STIX-Web\"}});}\n",
       "        if (typeof require !== 'undefined') {\n",
       "        require.undef(\"plotly\");\n",
       "        requirejs.config({\n",
       "            paths: {\n",
       "                'plotly': ['https://cdn.plot.ly/plotly-2.9.0.min']\n",
       "            }\n",
       "        });\n",
       "        require(['plotly'], function(Plotly) {\n",
       "            window._Plotly = Plotly;\n",
       "        });\n",
       "        }\n",
       "        </script>\n",
       "        "
      ]
     },
     "metadata": {},
     "output_type": "display_data"
    },
    {
     "data": {
      "text/html": [
       "        <script type=\"text/javascript\">\n",
       "        window.PlotlyConfig = {MathJaxConfig: 'local'};\n",
       "        if (window.MathJax) {MathJax.Hub.Config({SVG: {font: \"STIX-Web\"}});}\n",
       "        if (typeof require !== 'undefined') {\n",
       "        require.undef(\"plotly\");\n",
       "        requirejs.config({\n",
       "            paths: {\n",
       "                'plotly': ['https://cdn.plot.ly/plotly-2.9.0.min']\n",
       "            }\n",
       "        });\n",
       "        require(['plotly'], function(Plotly) {\n",
       "            window._Plotly = Plotly;\n",
       "        });\n",
       "        }\n",
       "        </script>\n",
       "        "
      ]
     },
     "metadata": {},
     "output_type": "display_data"
    }
   ],
   "source": [
    "import pandas as pd\n",
    "import numpy as np\n",
    "import matplotlib.pyplot as plt\n",
    "import seaborn as sns\n",
    "np.set_printoptions(suppress=True)\n",
    "pd.set_option('display.float_format', lambda x:'%.2f'%x)\n",
    "pd.set_option('display.max_rows', 300)\n",
    "sns.set(rc={'figure.figsize':(12,8.5)})\n",
    "from plotly import __version__\n",
    "from plotly.offline import download_plotlyjs, init_notebook_mode, plot, iplot\n",
    "import cufflinks as cf\n",
    "init_notebook_mode(connected=True)\n",
    "cf.go_offline()"
   ]
  },
  {
   "cell_type": "code",
   "execution_count": 2,
   "id": "439c1d42",
   "metadata": {},
   "outputs": [
    {
     "data": {
      "text/html": [
       "<div>\n",
       "<style scoped>\n",
       "    .dataframe tbody tr th:only-of-type {\n",
       "        vertical-align: middle;\n",
       "    }\n",
       "\n",
       "    .dataframe tbody tr th {\n",
       "        vertical-align: top;\n",
       "    }\n",
       "\n",
       "    .dataframe thead th {\n",
       "        text-align: right;\n",
       "    }\n",
       "</style>\n",
       "<table border=\"1\" class=\"dataframe\">\n",
       "  <thead>\n",
       "    <tr style=\"text-align: right;\">\n",
       "      <th></th>\n",
       "      <th>country_or_area</th>\n",
       "      <th>ISO</th>\n",
       "      <th>commodity_transaction</th>\n",
       "      <th>year</th>\n",
       "      <th>category</th>\n",
       "      <th>new_unit</th>\n",
       "      <th>new_quantity</th>\n",
       "      <th>renewable</th>\n",
       "      <th>non_renewable</th>\n",
       "      <th>difference</th>\n",
       "    </tr>\n",
       "  </thead>\n",
       "  <tbody>\n",
       "    <tr>\n",
       "      <th>0</th>\n",
       "      <td>Afghanistan</td>\n",
       "      <td>AFG</td>\n",
       "      <td>Electricity - Gross production</td>\n",
       "      <td>1994</td>\n",
       "      <td>total_electricity</td>\n",
       "      <td>Kilowatt-hours,  thousand</td>\n",
       "      <td>687000.00</td>\n",
       "      <td>472000.00</td>\n",
       "      <td>215000.00</td>\n",
       "      <td>0.00</td>\n",
       "    </tr>\n",
       "    <tr>\n",
       "      <th>1</th>\n",
       "      <td>Afghanistan</td>\n",
       "      <td>AFG</td>\n",
       "      <td>Electricity - Gross production</td>\n",
       "      <td>1995</td>\n",
       "      <td>total_electricity</td>\n",
       "      <td>Kilowatt-hours,  thousand</td>\n",
       "      <td>675000.00</td>\n",
       "      <td>466000.00</td>\n",
       "      <td>209000.00</td>\n",
       "      <td>0.00</td>\n",
       "    </tr>\n",
       "    <tr>\n",
       "      <th>2</th>\n",
       "      <td>Afghanistan</td>\n",
       "      <td>AFG</td>\n",
       "      <td>Electricity - Gross production</td>\n",
       "      <td>1996</td>\n",
       "      <td>total_electricity</td>\n",
       "      <td>Kilowatt-hours,  thousand</td>\n",
       "      <td>675000.00</td>\n",
       "      <td>475000.00</td>\n",
       "      <td>200000.00</td>\n",
       "      <td>0.00</td>\n",
       "    </tr>\n",
       "    <tr>\n",
       "      <th>3</th>\n",
       "      <td>Afghanistan</td>\n",
       "      <td>AFG</td>\n",
       "      <td>Electricity - Gross production</td>\n",
       "      <td>1997</td>\n",
       "      <td>total_electricity</td>\n",
       "      <td>Kilowatt-hours,  thousand</td>\n",
       "      <td>670000.00</td>\n",
       "      <td>485000.00</td>\n",
       "      <td>185000.00</td>\n",
       "      <td>0.00</td>\n",
       "    </tr>\n",
       "    <tr>\n",
       "      <th>4</th>\n",
       "      <td>Afghanistan</td>\n",
       "      <td>AFG</td>\n",
       "      <td>Electricity - Gross production</td>\n",
       "      <td>1998</td>\n",
       "      <td>total_electricity</td>\n",
       "      <td>Kilowatt-hours,  thousand</td>\n",
       "      <td>665000.00</td>\n",
       "      <td>495000.00</td>\n",
       "      <td>170000.00</td>\n",
       "      <td>0.00</td>\n",
       "    </tr>\n",
       "    <tr>\n",
       "      <th>...</th>\n",
       "      <td>...</td>\n",
       "      <td>...</td>\n",
       "      <td>...</td>\n",
       "      <td>...</td>\n",
       "      <td>...</td>\n",
       "      <td>...</td>\n",
       "      <td>...</td>\n",
       "      <td>...</td>\n",
       "      <td>...</td>\n",
       "      <td>...</td>\n",
       "    </tr>\n",
       "    <tr>\n",
       "      <th>4690</th>\n",
       "      <td>Zimbabwe</td>\n",
       "      <td>ZWE</td>\n",
       "      <td>Electricity - Gross production</td>\n",
       "      <td>2010</td>\n",
       "      <td>total_electricity</td>\n",
       "      <td>Kilowatt-hours,  thousand</td>\n",
       "      <td>8602900.00</td>\n",
       "      <td>5762800.00</td>\n",
       "      <td>2840100.00</td>\n",
       "      <td>0.00</td>\n",
       "    </tr>\n",
       "    <tr>\n",
       "      <th>4691</th>\n",
       "      <td>Zimbabwe</td>\n",
       "      <td>ZWE</td>\n",
       "      <td>Electricity - Gross production</td>\n",
       "      <td>2011</td>\n",
       "      <td>total_electricity</td>\n",
       "      <td>Kilowatt-hours,  thousand</td>\n",
       "      <td>9177200.00</td>\n",
       "      <td>5201800.00</td>\n",
       "      <td>3975400.00</td>\n",
       "      <td>0.00</td>\n",
       "    </tr>\n",
       "    <tr>\n",
       "      <th>4692</th>\n",
       "      <td>Zimbabwe</td>\n",
       "      <td>ZWE</td>\n",
       "      <td>Electricity - Gross production</td>\n",
       "      <td>2012</td>\n",
       "      <td>total_electricity</td>\n",
       "      <td>Kilowatt-hours,  thousand</td>\n",
       "      <td>9148600.00</td>\n",
       "      <td>5387300.00</td>\n",
       "      <td>3761300.00</td>\n",
       "      <td>0.00</td>\n",
       "    </tr>\n",
       "    <tr>\n",
       "      <th>4693</th>\n",
       "      <td>Zimbabwe</td>\n",
       "      <td>ZWE</td>\n",
       "      <td>Electricity - Gross production</td>\n",
       "      <td>2013</td>\n",
       "      <td>total_electricity</td>\n",
       "      <td>Kilowatt-hours,  thousand</td>\n",
       "      <td>9498800.00</td>\n",
       "      <td>4981800.00</td>\n",
       "      <td>4517000.00</td>\n",
       "      <td>0.00</td>\n",
       "    </tr>\n",
       "    <tr>\n",
       "      <th>4694</th>\n",
       "      <td>Zimbabwe</td>\n",
       "      <td>ZWE</td>\n",
       "      <td>Electricity - Gross production</td>\n",
       "      <td>2014</td>\n",
       "      <td>total_electricity</td>\n",
       "      <td>Kilowatt-hours,  thousand</td>\n",
       "      <td>10023000.00</td>\n",
       "      <td>5431000.00</td>\n",
       "      <td>4592000.00</td>\n",
       "      <td>0.00</td>\n",
       "    </tr>\n",
       "  </tbody>\n",
       "</table>\n",
       "<p>4695 rows × 10 columns</p>\n",
       "</div>"
      ],
      "text/plain": [
       "     country_or_area  ISO           commodity_transaction  year  \\\n",
       "0        Afghanistan  AFG  Electricity - Gross production  1994   \n",
       "1        Afghanistan  AFG  Electricity - Gross production  1995   \n",
       "2        Afghanistan  AFG  Electricity - Gross production  1996   \n",
       "3        Afghanistan  AFG  Electricity - Gross production  1997   \n",
       "4        Afghanistan  AFG  Electricity - Gross production  1998   \n",
       "...              ...  ...                             ...   ...   \n",
       "4690        Zimbabwe  ZWE  Electricity - Gross production  2010   \n",
       "4691        Zimbabwe  ZWE  Electricity - Gross production  2011   \n",
       "4692        Zimbabwe  ZWE  Electricity - Gross production  2012   \n",
       "4693        Zimbabwe  ZWE  Electricity - Gross production  2013   \n",
       "4694        Zimbabwe  ZWE  Electricity - Gross production  2014   \n",
       "\n",
       "               category                   new_unit  new_quantity  renewable  \\\n",
       "0     total_electricity  Kilowatt-hours,  thousand     687000.00  472000.00   \n",
       "1     total_electricity  Kilowatt-hours,  thousand     675000.00  466000.00   \n",
       "2     total_electricity  Kilowatt-hours,  thousand     675000.00  475000.00   \n",
       "3     total_electricity  Kilowatt-hours,  thousand     670000.00  485000.00   \n",
       "4     total_electricity  Kilowatt-hours,  thousand     665000.00  495000.00   \n",
       "...                 ...                        ...           ...        ...   \n",
       "4690  total_electricity  Kilowatt-hours,  thousand    8602900.00 5762800.00   \n",
       "4691  total_electricity  Kilowatt-hours,  thousand    9177200.00 5201800.00   \n",
       "4692  total_electricity  Kilowatt-hours,  thousand    9148600.00 5387300.00   \n",
       "4693  total_electricity  Kilowatt-hours,  thousand    9498800.00 4981800.00   \n",
       "4694  total_electricity  Kilowatt-hours,  thousand   10023000.00 5431000.00   \n",
       "\n",
       "      non_renewable  difference  \n",
       "0         215000.00        0.00  \n",
       "1         209000.00        0.00  \n",
       "2         200000.00        0.00  \n",
       "3         185000.00        0.00  \n",
       "4         170000.00        0.00  \n",
       "...             ...         ...  \n",
       "4690     2840100.00        0.00  \n",
       "4691     3975400.00        0.00  \n",
       "4692     3761300.00        0.00  \n",
       "4693     4517000.00        0.00  \n",
       "4694     4592000.00        0.00  \n",
       "\n",
       "[4695 rows x 10 columns]"
      ]
     },
     "execution_count": 2,
     "metadata": {},
     "output_type": "execute_result"
    }
   ],
   "source": [
    "df = pd.read_csv('renewable.csv')\n",
    "df"
   ]
  },
  {
   "cell_type": "code",
   "execution_count": 3,
   "id": "0a5e0552",
   "metadata": {},
   "outputs": [],
   "source": [
    "del df['new_unit']\n",
    "del df['difference']"
   ]
  },
  {
   "cell_type": "code",
   "execution_count": 4,
   "id": "784f7bab",
   "metadata": {},
   "outputs": [
    {
     "data": {
      "text/html": [
       "<div>\n",
       "<style scoped>\n",
       "    .dataframe tbody tr th:only-of-type {\n",
       "        vertical-align: middle;\n",
       "    }\n",
       "\n",
       "    .dataframe tbody tr th {\n",
       "        vertical-align: top;\n",
       "    }\n",
       "\n",
       "    .dataframe thead th {\n",
       "        text-align: right;\n",
       "    }\n",
       "</style>\n",
       "<table border=\"1\" class=\"dataframe\">\n",
       "  <thead>\n",
       "    <tr style=\"text-align: right;\">\n",
       "      <th></th>\n",
       "      <th>new_quantity</th>\n",
       "    </tr>\n",
       "    <tr>\n",
       "      <th>country_or_area</th>\n",
       "      <th></th>\n",
       "    </tr>\n",
       "  </thead>\n",
       "  <tbody>\n",
       "    <tr>\n",
       "      <th>United States</th>\n",
       "      <td>85549767000.00</td>\n",
       "    </tr>\n",
       "    <tr>\n",
       "      <th>China</th>\n",
       "      <td>55912127900.00</td>\n",
       "    </tr>\n",
       "    <tr>\n",
       "      <th>Japan</th>\n",
       "      <td>22157381000.00</td>\n",
       "    </tr>\n",
       "    <tr>\n",
       "      <th>Russian Federation</th>\n",
       "      <td>19882526000.00</td>\n",
       "    </tr>\n",
       "    <tr>\n",
       "      <th>India</th>\n",
       "      <td>15245741000.00</td>\n",
       "    </tr>\n",
       "    <tr>\n",
       "      <th>Canada</th>\n",
       "      <td>12657271000.00</td>\n",
       "    </tr>\n",
       "    <tr>\n",
       "      <th>Germany</th>\n",
       "      <td>12543013000.00</td>\n",
       "    </tr>\n",
       "    <tr>\n",
       "      <th>France</th>\n",
       "      <td>11476682000.00</td>\n",
       "    </tr>\n",
       "    <tr>\n",
       "      <th>Brazil</th>\n",
       "      <td>8526034000.00</td>\n",
       "    </tr>\n",
       "    <tr>\n",
       "      <th>United Kingdom</th>\n",
       "      <td>7803117000.00</td>\n",
       "    </tr>\n",
       "    <tr>\n",
       "      <th>Korea, Republic of</th>\n",
       "      <td>7651171000.00</td>\n",
       "    </tr>\n",
       "    <tr>\n",
       "      <th>Italy</th>\n",
       "      <td>5949869000.00</td>\n",
       "    </tr>\n",
       "    <tr>\n",
       "      <th>Spain</th>\n",
       "      <td>5307931000.00</td>\n",
       "    </tr>\n",
       "    <tr>\n",
       "      <th>Mexico</th>\n",
       "      <td>4905218000.00</td>\n",
       "    </tr>\n",
       "    <tr>\n",
       "      <th>South Africa</th>\n",
       "      <td>4865063000.00</td>\n",
       "    </tr>\n",
       "    <tr>\n",
       "      <th>Australia</th>\n",
       "      <td>4667286000.00</td>\n",
       "    </tr>\n",
       "    <tr>\n",
       "      <th>Other Asia</th>\n",
       "      <td>4373222000.00</td>\n",
       "    </tr>\n",
       "    <tr>\n",
       "      <th>Ukraine</th>\n",
       "      <td>3884638000.00</td>\n",
       "    </tr>\n",
       "    <tr>\n",
       "      <th>Saudi Arabia</th>\n",
       "      <td>3671794000.00</td>\n",
       "    </tr>\n",
       "    <tr>\n",
       "      <th>Iran (Islamic Rep. of)</th>\n",
       "      <td>3559095400.00</td>\n",
       "    </tr>\n",
       "    <tr>\n",
       "      <th>Turkey</th>\n",
       "      <td>3353771000.00</td>\n",
       "    </tr>\n",
       "    <tr>\n",
       "      <th>Poland</th>\n",
       "      <td>3177960000.00</td>\n",
       "    </tr>\n",
       "    <tr>\n",
       "      <th>Sweden</th>\n",
       "      <td>3145664000.00</td>\n",
       "    </tr>\n",
       "    <tr>\n",
       "      <th>Indonesia</th>\n",
       "      <td>2704177170.00</td>\n",
       "    </tr>\n",
       "    <tr>\n",
       "      <th>Norway</th>\n",
       "      <td>2652391000.00</td>\n",
       "    </tr>\n",
       "    <tr>\n",
       "      <th>Thailand</th>\n",
       "      <td>2652093200.00</td>\n",
       "    </tr>\n",
       "    <tr>\n",
       "      <th>Egypt</th>\n",
       "      <td>2231267000.00</td>\n",
       "    </tr>\n",
       "    <tr>\n",
       "      <th>Argentina</th>\n",
       "      <td>2136147170.00</td>\n",
       "    </tr>\n",
       "    <tr>\n",
       "      <th>Venezuela (Bolivar. Rep.)</th>\n",
       "      <td>2099219040.00</td>\n",
       "    </tr>\n",
       "    <tr>\n",
       "      <th>Netherlands</th>\n",
       "      <td>2054706000.00</td>\n",
       "    </tr>\n",
       "    <tr>\n",
       "      <th>Malaysia</th>\n",
       "      <td>1900808340.00</td>\n",
       "    </tr>\n",
       "    <tr>\n",
       "      <th>Belgium</th>\n",
       "      <td>1747575000.00</td>\n",
       "    </tr>\n",
       "    <tr>\n",
       "      <th>Pakistan</th>\n",
       "      <td>1693266000.00</td>\n",
       "    </tr>\n",
       "    <tr>\n",
       "      <th>Czechia</th>\n",
       "      <td>1625272000.00</td>\n",
       "    </tr>\n",
       "    <tr>\n",
       "      <th>Finland</th>\n",
       "      <td>1544952000.00</td>\n",
       "    </tr>\n",
       "    <tr>\n",
       "      <th>Kazakhstan</th>\n",
       "      <td>1485510000.00</td>\n",
       "    </tr>\n",
       "    <tr>\n",
       "      <th>Switzerland</th>\n",
       "      <td>1396666000.00</td>\n",
       "    </tr>\n",
       "    <tr>\n",
       "      <th>Austria</th>\n",
       "      <td>1324302000.00</td>\n",
       "    </tr>\n",
       "    <tr>\n",
       "      <th>United Arab Emirates</th>\n",
       "      <td>1301659000.00</td>\n",
       "    </tr>\n",
       "    <tr>\n",
       "      <th>Romania</th>\n",
       "      <td>1222837000.00</td>\n",
       "    </tr>\n",
       "    <tr>\n",
       "      <th>Viet Nam</th>\n",
       "      <td>1218229000.00</td>\n",
       "    </tr>\n",
       "    <tr>\n",
       "      <th>Greece</th>\n",
       "      <td>1139014000.00</td>\n",
       "    </tr>\n",
       "    <tr>\n",
       "      <th>Colombia</th>\n",
       "      <td>1119718590.00</td>\n",
       "    </tr>\n",
       "    <tr>\n",
       "      <th>Philippines</th>\n",
       "      <td>1117501794.00</td>\n",
       "    </tr>\n",
       "    <tr>\n",
       "      <th>Paraguay</th>\n",
       "      <td>1082088620.00</td>\n",
       "    </tr>\n",
       "    <tr>\n",
       "      <th>Chile</th>\n",
       "      <td>1044971000.00</td>\n",
       "    </tr>\n",
       "    <tr>\n",
       "      <th>Uzbekistan</th>\n",
       "      <td>1035619000.00</td>\n",
       "    </tr>\n",
       "    <tr>\n",
       "      <th>Israel</th>\n",
       "      <td>998452000.00</td>\n",
       "    </tr>\n",
       "    <tr>\n",
       "      <th>Portugal</th>\n",
       "      <td>940670000.00</td>\n",
       "    </tr>\n",
       "    <tr>\n",
       "      <th>Bulgaria</th>\n",
       "      <td>914259000.00</td>\n",
       "    </tr>\n",
       "    <tr>\n",
       "      <th>Kuwait</th>\n",
       "      <td>894596000.00</td>\n",
       "    </tr>\n",
       "    <tr>\n",
       "      <th>New Zealand</th>\n",
       "      <td>860683000.00</td>\n",
       "    </tr>\n",
       "    <tr>\n",
       "      <th>Denmark</th>\n",
       "      <td>820864000.00</td>\n",
       "    </tr>\n",
       "    <tr>\n",
       "      <th>Iraq</th>\n",
       "      <td>789289000.00</td>\n",
       "    </tr>\n",
       "    <tr>\n",
       "      <th>Singapore</th>\n",
       "      <td>761093530.00</td>\n",
       "    </tr>\n",
       "    <tr>\n",
       "      <th>Hungary</th>\n",
       "      <td>743853000.00</td>\n",
       "    </tr>\n",
       "    <tr>\n",
       "      <th>Algeria</th>\n",
       "      <td>733039000.00</td>\n",
       "    </tr>\n",
       "    <tr>\n",
       "      <th>China, Hong Kong SAR</th>\n",
       "      <td>731318000.00</td>\n",
       "    </tr>\n",
       "    <tr>\n",
       "      <th>Syrian Arab Republic</th>\n",
       "      <td>616120000.00</td>\n",
       "    </tr>\n",
       "    <tr>\n",
       "      <th>Belarus</th>\n",
       "      <td>615698000.00</td>\n",
       "    </tr>\n",
       "    <tr>\n",
       "      <th>Slovakia</th>\n",
       "      <td>602865000.00</td>\n",
       "    </tr>\n",
       "    <tr>\n",
       "      <th>Bangladesh</th>\n",
       "      <td>571438000.00</td>\n",
       "    </tr>\n",
       "    <tr>\n",
       "      <th>Peru</th>\n",
       "      <td>568442686.00</td>\n",
       "    </tr>\n",
       "    <tr>\n",
       "      <th>Ireland</th>\n",
       "      <td>518587000.00</td>\n",
       "    </tr>\n",
       "    <tr>\n",
       "      <th>Puerto Rico</th>\n",
       "      <td>465321600.00</td>\n",
       "    </tr>\n",
       "    <tr>\n",
       "      <th>Libya</th>\n",
       "      <td>464848000.00</td>\n",
       "    </tr>\n",
       "    <tr>\n",
       "      <th>Nigeria</th>\n",
       "      <td>442789000.00</td>\n",
       "    </tr>\n",
       "    <tr>\n",
       "      <th>Korea, Dem.Ppl's.Rep.</th>\n",
       "      <td>432216000.00</td>\n",
       "    </tr>\n",
       "    <tr>\n",
       "      <th>Azerbaijan</th>\n",
       "      <td>423972000.00</td>\n",
       "    </tr>\n",
       "    <tr>\n",
       "      <th>Serbia and Montenegro</th>\n",
       "      <td>398709000.00</td>\n",
       "    </tr>\n",
       "    <tr>\n",
       "      <th>Morocco</th>\n",
       "      <td>385762000.00</td>\n",
       "    </tr>\n",
       "    <tr>\n",
       "      <th>Serbia</th>\n",
       "      <td>372642000.00</td>\n",
       "    </tr>\n",
       "    <tr>\n",
       "      <th>Qatar</th>\n",
       "      <td>360944000.00</td>\n",
       "    </tr>\n",
       "    <tr>\n",
       "      <th>Tajikistan</th>\n",
       "      <td>335050000.00</td>\n",
       "    </tr>\n",
       "    <tr>\n",
       "      <th>Cuba</th>\n",
       "      <td>334844600.00</td>\n",
       "    </tr>\n",
       "    <tr>\n",
       "      <th>Slovenia</th>\n",
       "      <td>310662000.00</td>\n",
       "    </tr>\n",
       "    <tr>\n",
       "      <th>Ecuador</th>\n",
       "      <td>306219100.00</td>\n",
       "    </tr>\n",
       "    <tr>\n",
       "      <th>Kyrgyzstan</th>\n",
       "      <td>302077000.00</td>\n",
       "    </tr>\n",
       "    <tr>\n",
       "      <th>Oman</th>\n",
       "      <td>291486000.00</td>\n",
       "    </tr>\n",
       "    <tr>\n",
       "      <th>Bahrain</th>\n",
       "      <td>278928000.00</td>\n",
       "    </tr>\n",
       "    <tr>\n",
       "      <th>Turkmenistan</th>\n",
       "      <td>275410000.00</td>\n",
       "    </tr>\n",
       "    <tr>\n",
       "      <th>Tunisia</th>\n",
       "      <td>266057720.00</td>\n",
       "    </tr>\n",
       "    <tr>\n",
       "      <th>Lithuania</th>\n",
       "      <td>264696000.00</td>\n",
       "    </tr>\n",
       "    <tr>\n",
       "      <th>Croatia</th>\n",
       "      <td>257915000.00</td>\n",
       "    </tr>\n",
       "    <tr>\n",
       "      <th>Dominican Republic</th>\n",
       "      <td>254716060.00</td>\n",
       "    </tr>\n",
       "    <tr>\n",
       "      <th>Lebanon</th>\n",
       "      <td>248960000.00</td>\n",
       "    </tr>\n",
       "    <tr>\n",
       "      <th>Bosnia and Herzegovina</th>\n",
       "      <td>248110000.00</td>\n",
       "    </tr>\n",
       "    <tr>\n",
       "      <th>Mozambique</th>\n",
       "      <td>231105000.00</td>\n",
       "    </tr>\n",
       "    <tr>\n",
       "      <th>Iceland</th>\n",
       "      <td>227146000.00</td>\n",
       "    </tr>\n",
       "    <tr>\n",
       "      <th>Jordan</th>\n",
       "      <td>220496400.00</td>\n",
       "    </tr>\n",
       "    <tr>\n",
       "      <th>Estonia</th>\n",
       "      <td>213973000.00</td>\n",
       "    </tr>\n",
       "    <tr>\n",
       "      <th>Zambia</th>\n",
       "      <td>196650000.00</td>\n",
       "    </tr>\n",
       "    <tr>\n",
       "      <th>Uruguay</th>\n",
       "      <td>181925300.00</td>\n",
       "    </tr>\n",
       "    <tr>\n",
       "      <th>Sri Lanka</th>\n",
       "      <td>175884078.00</td>\n",
       "    </tr>\n",
       "    <tr>\n",
       "      <th>Georgia</th>\n",
       "      <td>175170000.00</td>\n",
       "    </tr>\n",
       "    <tr>\n",
       "      <th>Zimbabwe</th>\n",
       "      <td>173461500.00</td>\n",
       "    </tr>\n",
       "    <tr>\n",
       "      <th>Ghana</th>\n",
       "      <td>170828000.00</td>\n",
       "    </tr>\n",
       "    <tr>\n",
       "      <th>Costa Rica</th>\n",
       "      <td>163570297.00</td>\n",
       "    </tr>\n",
       "    <tr>\n",
       "      <th>Guatemala</th>\n",
       "      <td>146343100.00</td>\n",
       "    </tr>\n",
       "    <tr>\n",
       "      <th>Dem. Rep. of the Congo</th>\n",
       "      <td>141688000.00</td>\n",
       "    </tr>\n",
       "    <tr>\n",
       "      <th>Trinidad and Tobago</th>\n",
       "      <td>141218000.00</td>\n",
       "    </tr>\n",
       "    <tr>\n",
       "      <th>Myanmar</th>\n",
       "      <td>139357820.00</td>\n",
       "    </tr>\n",
       "    <tr>\n",
       "      <th>T.F.Yug.Rep. Macedonia</th>\n",
       "      <td>136580131.00</td>\n",
       "    </tr>\n",
       "    <tr>\n",
       "      <th>Armenia</th>\n",
       "      <td>131479000.00</td>\n",
       "    </tr>\n",
       "    <tr>\n",
       "      <th>Kenya</th>\n",
       "      <td>124911300.00</td>\n",
       "    </tr>\n",
       "    <tr>\n",
       "      <th>Panama</th>\n",
       "      <td>123837100.00</td>\n",
       "    </tr>\n",
       "    <tr>\n",
       "      <th>Jamaica</th>\n",
       "      <td>121122700.00</td>\n",
       "    </tr>\n",
       "    <tr>\n",
       "      <th>Côte d'Ivoire</th>\n",
       "      <td>110336600.00</td>\n",
       "    </tr>\n",
       "    <tr>\n",
       "      <th>Honduras</th>\n",
       "      <td>108030000.00</td>\n",
       "    </tr>\n",
       "    <tr>\n",
       "      <th>Bolivia (Plur. State of)</th>\n",
       "      <td>107582200.00</td>\n",
       "    </tr>\n",
       "    <tr>\n",
       "      <th>Albania</th>\n",
       "      <td>104104770.00</td>\n",
       "    </tr>\n",
       "    <tr>\n",
       "      <th>Latvia</th>\n",
       "      <td>102654000.00</td>\n",
       "    </tr>\n",
       "    <tr>\n",
       "      <th>Yemen</th>\n",
       "      <td>101587000.00</td>\n",
       "    </tr>\n",
       "    <tr>\n",
       "      <th>El Salvador</th>\n",
       "      <td>100917000.00</td>\n",
       "    </tr>\n",
       "    <tr>\n",
       "      <th>Cameroon</th>\n",
       "      <td>94063000.00</td>\n",
       "    </tr>\n",
       "    <tr>\n",
       "      <th>Bhutan</th>\n",
       "      <td>85237210.00</td>\n",
       "    </tr>\n",
       "    <tr>\n",
       "      <th>Cyprus</th>\n",
       "      <td>83410000.00</td>\n",
       "    </tr>\n",
       "    <tr>\n",
       "      <th>Mongolia</th>\n",
       "      <td>80870100.00</td>\n",
       "    </tr>\n",
       "    <tr>\n",
       "      <th>Ethiopia</th>\n",
       "      <td>74624000.00</td>\n",
       "    </tr>\n",
       "    <tr>\n",
       "      <th>United Rep. of Tanzania</th>\n",
       "      <td>74112000.00</td>\n",
       "    </tr>\n",
       "    <tr>\n",
       "      <th>Lao People's Dem. Rep.</th>\n",
       "      <td>70597066.60</td>\n",
       "    </tr>\n",
       "    <tr>\n",
       "      <th>Angola</th>\n",
       "      <td>68871000.00</td>\n",
       "    </tr>\n",
       "    <tr>\n",
       "      <th>Sudan (former)</th>\n",
       "      <td>66746000.00</td>\n",
       "    </tr>\n",
       "    <tr>\n",
       "      <th>Brunei Darussalam</th>\n",
       "      <td>66117000.00</td>\n",
       "    </tr>\n",
       "    <tr>\n",
       "      <th>Papua New Guinea</th>\n",
       "      <td>61858000.00</td>\n",
       "    </tr>\n",
       "    <tr>\n",
       "      <th>Nicaragua</th>\n",
       "      <td>60548000.00</td>\n",
       "    </tr>\n",
       "    <tr>\n",
       "      <th>Luxembourg</th>\n",
       "      <td>59338000.00</td>\n",
       "    </tr>\n",
       "    <tr>\n",
       "      <th>Nepal</th>\n",
       "      <td>48350650.00</td>\n",
       "    </tr>\n",
       "    <tr>\n",
       "      <th>Republic of Moldova</th>\n",
       "      <td>45910000.00</td>\n",
       "    </tr>\n",
       "    <tr>\n",
       "      <th>Réunion</th>\n",
       "      <td>44543880.00</td>\n",
       "    </tr>\n",
       "    <tr>\n",
       "      <th>Mauritius</th>\n",
       "      <td>44033900.00</td>\n",
       "    </tr>\n",
       "    <tr>\n",
       "      <th>Malta</th>\n",
       "      <td>42838000.00</td>\n",
       "    </tr>\n",
       "    <tr>\n",
       "      <th>Senegal</th>\n",
       "      <td>42029000.00</td>\n",
       "    </tr>\n",
       "    <tr>\n",
       "      <th>Uganda</th>\n",
       "      <td>39458250.00</td>\n",
       "    </tr>\n",
       "    <tr>\n",
       "      <th>New Caledonia</th>\n",
       "      <td>38845680.00</td>\n",
       "    </tr>\n",
       "    <tr>\n",
       "      <th>Guam</th>\n",
       "      <td>38562100.00</td>\n",
       "    </tr>\n",
       "    <tr>\n",
       "      <th>Bahamas</th>\n",
       "      <td>37699400.00</td>\n",
       "    </tr>\n",
       "    <tr>\n",
       "      <th>Gabon</th>\n",
       "      <td>34002000.00</td>\n",
       "    </tr>\n",
       "    <tr>\n",
       "      <th>Suriname</th>\n",
       "      <td>33052600.00</td>\n",
       "    </tr>\n",
       "    <tr>\n",
       "      <th>Malawi</th>\n",
       "      <td>31599160.00</td>\n",
       "    </tr>\n",
       "    <tr>\n",
       "      <th>Sudan</th>\n",
       "      <td>31493000.00</td>\n",
       "    </tr>\n",
       "    <tr>\n",
       "      <th>Guadeloupe</th>\n",
       "      <td>30927000.00</td>\n",
       "    </tr>\n",
       "    <tr>\n",
       "      <th>Montenegro</th>\n",
       "      <td>30435000.00</td>\n",
       "    </tr>\n",
       "    <tr>\n",
       "      <th>Martinique</th>\n",
       "      <td>29818994.00</td>\n",
       "    </tr>\n",
       "    <tr>\n",
       "      <th>Namibia</th>\n",
       "      <td>29600000.00</td>\n",
       "    </tr>\n",
       "    <tr>\n",
       "      <th>China, Macao SAR</th>\n",
       "      <td>28456000.00</td>\n",
       "    </tr>\n",
       "    <tr>\n",
       "      <th>Madagascar</th>\n",
       "      <td>22893253.90</td>\n",
       "    </tr>\n",
       "    <tr>\n",
       "      <th>Mali</th>\n",
       "      <td>21947770.00</td>\n",
       "    </tr>\n",
       "    <tr>\n",
       "      <th>Neth. Antilles (former)</th>\n",
       "      <td>20929000.00</td>\n",
       "    </tr>\n",
       "    <tr>\n",
       "      <th>United States Virgin Is.</th>\n",
       "      <td>20701765.00</td>\n",
       "    </tr>\n",
       "    <tr>\n",
       "      <th>Botswana</th>\n",
       "      <td>19427800.00</td>\n",
       "    </tr>\n",
       "    <tr>\n",
       "      <th>Cambodia</th>\n",
       "      <td>19131000.00</td>\n",
       "    </tr>\n",
       "    <tr>\n",
       "      <th>Barbados</th>\n",
       "      <td>18724180.00</td>\n",
       "    </tr>\n",
       "    <tr>\n",
       "      <th>Guinea</th>\n",
       "      <td>18419390.00</td>\n",
       "    </tr>\n",
       "    <tr>\n",
       "      <th>Afghanistan</th>\n",
       "      <td>17350600.00</td>\n",
       "    </tr>\n",
       "    <tr>\n",
       "      <th>Aruba</th>\n",
       "      <td>17305800.00</td>\n",
       "    </tr>\n",
       "    <tr>\n",
       "      <th>Guyana</th>\n",
       "      <td>16847220.00</td>\n",
       "    </tr>\n",
       "    <tr>\n",
       "      <th>Fiji</th>\n",
       "      <td>15598253.00</td>\n",
       "    </tr>\n",
       "    <tr>\n",
       "      <th>French Guiana</th>\n",
       "      <td>13875000.00</td>\n",
       "    </tr>\n",
       "    <tr>\n",
       "      <th>Haiti</th>\n",
       "      <td>13778000.00</td>\n",
       "    </tr>\n",
       "    <tr>\n",
       "      <th>Bermuda</th>\n",
       "      <td>13546200.00</td>\n",
       "    </tr>\n",
       "    <tr>\n",
       "      <th>Congo</th>\n",
       "      <td>13292000.00</td>\n",
       "    </tr>\n",
       "    <tr>\n",
       "      <th>French Polynesia</th>\n",
       "      <td>12176066.00</td>\n",
       "    </tr>\n",
       "    <tr>\n",
       "      <th>Mauritania</th>\n",
       "      <td>11353107.00</td>\n",
       "    </tr>\n",
       "    <tr>\n",
       "      <th>Cayman Islands</th>\n",
       "      <td>10380790.00</td>\n",
       "    </tr>\n",
       "    <tr>\n",
       "      <th>Burkina Faso</th>\n",
       "      <td>10091871.00</td>\n",
       "    </tr>\n",
       "    <tr>\n",
       "      <th>Swaziland</th>\n",
       "      <td>10064230.00</td>\n",
       "    </tr>\n",
       "    <tr>\n",
       "      <th>Northern Mariana Islands</th>\n",
       "      <td>8196500.00</td>\n",
       "    </tr>\n",
       "    <tr>\n",
       "      <th>Greenland</th>\n",
       "      <td>7891382.30</td>\n",
       "    </tr>\n",
       "    <tr>\n",
       "      <th>Lesotho</th>\n",
       "      <td>7302400.00</td>\n",
       "    </tr>\n",
       "    <tr>\n",
       "      <th>St. Lucia</th>\n",
       "      <td>6365597.00</td>\n",
       "    </tr>\n",
       "    <tr>\n",
       "      <th>Somalia</th>\n",
       "      <td>6246000.00</td>\n",
       "    </tr>\n",
       "    <tr>\n",
       "      <th>State of Palestine</th>\n",
       "      <td>5955200.00</td>\n",
       "    </tr>\n",
       "    <tr>\n",
       "      <th>Togo</th>\n",
       "      <td>5919000.00</td>\n",
       "    </tr>\n",
       "    <tr>\n",
       "      <th>Djibouti</th>\n",
       "      <td>5668000.00</td>\n",
       "    </tr>\n",
       "    <tr>\n",
       "      <th>Eritrea</th>\n",
       "      <td>5578000.00</td>\n",
       "    </tr>\n",
       "    <tr>\n",
       "      <th>Liberia</th>\n",
       "      <td>5234000.00</td>\n",
       "    </tr>\n",
       "    <tr>\n",
       "      <th>Isle of Man</th>\n",
       "      <td>5104700.00</td>\n",
       "    </tr>\n",
       "    <tr>\n",
       "      <th>Faeroe Islands</th>\n",
       "      <td>5062490.00</td>\n",
       "    </tr>\n",
       "    <tr>\n",
       "      <th>Seychelles</th>\n",
       "      <td>4897380.00</td>\n",
       "    </tr>\n",
       "    <tr>\n",
       "      <th>Niger</th>\n",
       "      <td>4868975.00</td>\n",
       "    </tr>\n",
       "    <tr>\n",
       "      <th>Cabo Verde</th>\n",
       "      <td>4731360.00</td>\n",
       "    </tr>\n",
       "    <tr>\n",
       "      <th>Belize</th>\n",
       "      <td>4709655.22</td>\n",
       "    </tr>\n",
       "    <tr>\n",
       "      <th>Antigua and Barbuda</th>\n",
       "      <td>4691800.00</td>\n",
       "    </tr>\n",
       "    <tr>\n",
       "      <th>Rwanda</th>\n",
       "      <td>4258924.00</td>\n",
       "    </tr>\n",
       "    <tr>\n",
       "      <th>Maldives</th>\n",
       "      <td>3752207.00</td>\n",
       "    </tr>\n",
       "    <tr>\n",
       "      <th>Gambia</th>\n",
       "      <td>3646900.00</td>\n",
       "    </tr>\n",
       "    <tr>\n",
       "      <th>St. Kitts-Nevis</th>\n",
       "      <td>3626100.00</td>\n",
       "    </tr>\n",
       "    <tr>\n",
       "      <th>American Samoa</th>\n",
       "      <td>3486686.00</td>\n",
       "    </tr>\n",
       "    <tr>\n",
       "      <th>Grenada</th>\n",
       "      <td>3198740.00</td>\n",
       "    </tr>\n",
       "    <tr>\n",
       "      <th>Mayotte</th>\n",
       "      <td>3191630.00</td>\n",
       "    </tr>\n",
       "    <tr>\n",
       "      <th>Gibraltar</th>\n",
       "      <td>3023000.00</td>\n",
       "    </tr>\n",
       "    <tr>\n",
       "      <th>Equatorial Guinea</th>\n",
       "      <td>2986300.00</td>\n",
       "    </tr>\n",
       "    <tr>\n",
       "      <th>Jersey</th>\n",
       "      <td>2975500.00</td>\n",
       "    </tr>\n",
       "    <tr>\n",
       "      <th>Central African Rep.</th>\n",
       "      <td>2889000.00</td>\n",
       "    </tr>\n",
       "    <tr>\n",
       "      <th>Chad</th>\n",
       "      <td>2870000.00</td>\n",
       "    </tr>\n",
       "    <tr>\n",
       "      <th>Turks and Caicos Islands</th>\n",
       "      <td>2753900.00</td>\n",
       "    </tr>\n",
       "    <tr>\n",
       "      <th>Sierra Leone</th>\n",
       "      <td>2736183.00</td>\n",
       "    </tr>\n",
       "    <tr>\n",
       "      <th>Curaçao</th>\n",
       "      <td>2712000.00</td>\n",
       "    </tr>\n",
       "    <tr>\n",
       "      <th>Burundi</th>\n",
       "      <td>2545241.00</td>\n",
       "    </tr>\n",
       "    <tr>\n",
       "      <th>St. Vincent-Grenadines</th>\n",
       "      <td>2417400.00</td>\n",
       "    </tr>\n",
       "    <tr>\n",
       "      <th>Benin</th>\n",
       "      <td>2372000.00</td>\n",
       "    </tr>\n",
       "    <tr>\n",
       "      <th>Samoa</th>\n",
       "      <td>2183200.00</td>\n",
       "    </tr>\n",
       "    <tr>\n",
       "      <th>British Virgin Islands</th>\n",
       "      <td>2080000.00</td>\n",
       "    </tr>\n",
       "    <tr>\n",
       "      <th>Palau</th>\n",
       "      <td>2043700.00</td>\n",
       "    </tr>\n",
       "    <tr>\n",
       "      <th>Andorra</th>\n",
       "      <td>1966000.00</td>\n",
       "    </tr>\n",
       "    <tr>\n",
       "      <th>Marshall Islands</th>\n",
       "      <td>1844200.00</td>\n",
       "    </tr>\n",
       "    <tr>\n",
       "      <th>Timor-Leste</th>\n",
       "      <td>1716625.00</td>\n",
       "    </tr>\n",
       "    <tr>\n",
       "      <th>Dominica</th>\n",
       "      <td>1695480.00</td>\n",
       "    </tr>\n",
       "    <tr>\n",
       "      <th>Micronesia (Fed. States of)</th>\n",
       "      <td>1688860.00</td>\n",
       "    </tr>\n",
       "    <tr>\n",
       "      <th>Guernsey</th>\n",
       "      <td>1574800.00</td>\n",
       "    </tr>\n",
       "    <tr>\n",
       "      <th>Solomon Islands</th>\n",
       "      <td>1552900.00</td>\n",
       "    </tr>\n",
       "    <tr>\n",
       "      <th>South Sudan</th>\n",
       "      <td>1405000.00</td>\n",
       "    </tr>\n",
       "    <tr>\n",
       "      <th>Anguilla</th>\n",
       "      <td>1336800.00</td>\n",
       "    </tr>\n",
       "    <tr>\n",
       "      <th>Sint Maarten (Dutch part)</th>\n",
       "      <td>1229300.00</td>\n",
       "    </tr>\n",
       "    <tr>\n",
       "      <th>Vanuatu</th>\n",
       "      <td>1077750.00</td>\n",
       "    </tr>\n",
       "    <tr>\n",
       "      <th>Tonga</th>\n",
       "      <td>918634.00</td>\n",
       "    </tr>\n",
       "    <tr>\n",
       "      <th>St. Pierre-Miquelon</th>\n",
       "      <td>918110.00</td>\n",
       "    </tr>\n",
       "    <tr>\n",
       "      <th>Comoros</th>\n",
       "      <td>828800.00</td>\n",
       "    </tr>\n",
       "    <tr>\n",
       "      <th>Sao Tome and Principe</th>\n",
       "      <td>826900.00</td>\n",
       "    </tr>\n",
       "    <tr>\n",
       "      <th>Guinea-Bissau</th>\n",
       "      <td>684327.00</td>\n",
       "    </tr>\n",
       "    <tr>\n",
       "      <th>Cook Islands</th>\n",
       "      <td>578400.00</td>\n",
       "    </tr>\n",
       "    <tr>\n",
       "      <th>Liechtenstein</th>\n",
       "      <td>577600.00</td>\n",
       "    </tr>\n",
       "    <tr>\n",
       "      <th>Nauru</th>\n",
       "      <td>570954.00</td>\n",
       "    </tr>\n",
       "    <tr>\n",
       "      <th>Montserrat</th>\n",
       "      <td>412200.00</td>\n",
       "    </tr>\n",
       "    <tr>\n",
       "      <th>Kiribati</th>\n",
       "      <td>370900.00</td>\n",
       "    </tr>\n",
       "    <tr>\n",
       "      <th>Bonaire, St Eustatius, Saba</th>\n",
       "      <td>364600.00</td>\n",
       "    </tr>\n",
       "    <tr>\n",
       "      <th>Falkland Is. (Malvinas)</th>\n",
       "      <td>331000.00</td>\n",
       "    </tr>\n",
       "    <tr>\n",
       "      <th>Wallis and Futuna Is.</th>\n",
       "      <td>269632.00</td>\n",
       "    </tr>\n",
       "    <tr>\n",
       "      <th>St. Helena and Depend.</th>\n",
       "      <td>167270.00</td>\n",
       "    </tr>\n",
       "    <tr>\n",
       "      <th>Tuvalu</th>\n",
       "      <td>79060.00</td>\n",
       "    </tr>\n",
       "    <tr>\n",
       "      <th>Niue</th>\n",
       "      <td>64202.33</td>\n",
       "    </tr>\n",
       "  </tbody>\n",
       "</table>\n",
       "</div>"
      ],
      "text/plain": [
       "                              new_quantity\n",
       "country_or_area                           \n",
       "United States               85549767000.00\n",
       "China                       55912127900.00\n",
       "Japan                       22157381000.00\n",
       "Russian Federation          19882526000.00\n",
       "India                       15245741000.00\n",
       "Canada                      12657271000.00\n",
       "Germany                     12543013000.00\n",
       "France                      11476682000.00\n",
       "Brazil                       8526034000.00\n",
       "United Kingdom               7803117000.00\n",
       "Korea, Republic of           7651171000.00\n",
       "Italy                        5949869000.00\n",
       "Spain                        5307931000.00\n",
       "Mexico                       4905218000.00\n",
       "South Africa                 4865063000.00\n",
       "Australia                    4667286000.00\n",
       "Other Asia                   4373222000.00\n",
       "Ukraine                      3884638000.00\n",
       "Saudi Arabia                 3671794000.00\n",
       "Iran (Islamic Rep. of)       3559095400.00\n",
       "Turkey                       3353771000.00\n",
       "Poland                       3177960000.00\n",
       "Sweden                       3145664000.00\n",
       "Indonesia                    2704177170.00\n",
       "Norway                       2652391000.00\n",
       "Thailand                     2652093200.00\n",
       "Egypt                        2231267000.00\n",
       "Argentina                    2136147170.00\n",
       "Venezuela (Bolivar. Rep.)    2099219040.00\n",
       "Netherlands                  2054706000.00\n",
       "Malaysia                     1900808340.00\n",
       "Belgium                      1747575000.00\n",
       "Pakistan                     1693266000.00\n",
       "Czechia                      1625272000.00\n",
       "Finland                      1544952000.00\n",
       "Kazakhstan                   1485510000.00\n",
       "Switzerland                  1396666000.00\n",
       "Austria                      1324302000.00\n",
       "United Arab Emirates         1301659000.00\n",
       "Romania                      1222837000.00\n",
       "Viet Nam                     1218229000.00\n",
       "Greece                       1139014000.00\n",
       "Colombia                     1119718590.00\n",
       "Philippines                  1117501794.00\n",
       "Paraguay                     1082088620.00\n",
       "Chile                        1044971000.00\n",
       "Uzbekistan                   1035619000.00\n",
       "Israel                        998452000.00\n",
       "Portugal                      940670000.00\n",
       "Bulgaria                      914259000.00\n",
       "Kuwait                        894596000.00\n",
       "New Zealand                   860683000.00\n",
       "Denmark                       820864000.00\n",
       "Iraq                          789289000.00\n",
       "Singapore                     761093530.00\n",
       "Hungary                       743853000.00\n",
       "Algeria                       733039000.00\n",
       "China, Hong Kong SAR          731318000.00\n",
       "Syrian Arab Republic          616120000.00\n",
       "Belarus                       615698000.00\n",
       "Slovakia                      602865000.00\n",
       "Bangladesh                    571438000.00\n",
       "Peru                          568442686.00\n",
       "Ireland                       518587000.00\n",
       "Puerto Rico                   465321600.00\n",
       "Libya                         464848000.00\n",
       "Nigeria                       442789000.00\n",
       "Korea, Dem.Ppl's.Rep.         432216000.00\n",
       "Azerbaijan                    423972000.00\n",
       "Serbia and Montenegro         398709000.00\n",
       "Morocco                       385762000.00\n",
       "Serbia                        372642000.00\n",
       "Qatar                         360944000.00\n",
       "Tajikistan                    335050000.00\n",
       "Cuba                          334844600.00\n",
       "Slovenia                      310662000.00\n",
       "Ecuador                       306219100.00\n",
       "Kyrgyzstan                    302077000.00\n",
       "Oman                          291486000.00\n",
       "Bahrain                       278928000.00\n",
       "Turkmenistan                  275410000.00\n",
       "Tunisia                       266057720.00\n",
       "Lithuania                     264696000.00\n",
       "Croatia                       257915000.00\n",
       "Dominican Republic            254716060.00\n",
       "Lebanon                       248960000.00\n",
       "Bosnia and Herzegovina        248110000.00\n",
       "Mozambique                    231105000.00\n",
       "Iceland                       227146000.00\n",
       "Jordan                        220496400.00\n",
       "Estonia                       213973000.00\n",
       "Zambia                        196650000.00\n",
       "Uruguay                       181925300.00\n",
       "Sri Lanka                     175884078.00\n",
       "Georgia                       175170000.00\n",
       "Zimbabwe                      173461500.00\n",
       "Ghana                         170828000.00\n",
       "Costa Rica                    163570297.00\n",
       "Guatemala                     146343100.00\n",
       "Dem. Rep. of the Congo        141688000.00\n",
       "Trinidad and Tobago           141218000.00\n",
       "Myanmar                       139357820.00\n",
       "T.F.Yug.Rep. Macedonia        136580131.00\n",
       "Armenia                       131479000.00\n",
       "Kenya                         124911300.00\n",
       "Panama                        123837100.00\n",
       "Jamaica                       121122700.00\n",
       "Côte d'Ivoire                 110336600.00\n",
       "Honduras                      108030000.00\n",
       "Bolivia (Plur. State of)      107582200.00\n",
       "Albania                       104104770.00\n",
       "Latvia                        102654000.00\n",
       "Yemen                         101587000.00\n",
       "El Salvador                   100917000.00\n",
       "Cameroon                       94063000.00\n",
       "Bhutan                         85237210.00\n",
       "Cyprus                         83410000.00\n",
       "Mongolia                       80870100.00\n",
       "Ethiopia                       74624000.00\n",
       "United Rep. of Tanzania        74112000.00\n",
       "Lao People's Dem. Rep.         70597066.60\n",
       "Angola                         68871000.00\n",
       "Sudan (former)                 66746000.00\n",
       "Brunei Darussalam              66117000.00\n",
       "Papua New Guinea               61858000.00\n",
       "Nicaragua                      60548000.00\n",
       "Luxembourg                     59338000.00\n",
       "Nepal                          48350650.00\n",
       "Republic of Moldova            45910000.00\n",
       "Réunion                        44543880.00\n",
       "Mauritius                      44033900.00\n",
       "Malta                          42838000.00\n",
       "Senegal                        42029000.00\n",
       "Uganda                         39458250.00\n",
       "New Caledonia                  38845680.00\n",
       "Guam                           38562100.00\n",
       "Bahamas                        37699400.00\n",
       "Gabon                          34002000.00\n",
       "Suriname                       33052600.00\n",
       "Malawi                         31599160.00\n",
       "Sudan                          31493000.00\n",
       "Guadeloupe                     30927000.00\n",
       "Montenegro                     30435000.00\n",
       "Martinique                     29818994.00\n",
       "Namibia                        29600000.00\n",
       "China, Macao SAR               28456000.00\n",
       "Madagascar                     22893253.90\n",
       "Mali                           21947770.00\n",
       "Neth. Antilles (former)        20929000.00\n",
       "United States Virgin Is.       20701765.00\n",
       "Botswana                       19427800.00\n",
       "Cambodia                       19131000.00\n",
       "Barbados                       18724180.00\n",
       "Guinea                         18419390.00\n",
       "Afghanistan                    17350600.00\n",
       "Aruba                          17305800.00\n",
       "Guyana                         16847220.00\n",
       "Fiji                           15598253.00\n",
       "French Guiana                  13875000.00\n",
       "Haiti                          13778000.00\n",
       "Bermuda                        13546200.00\n",
       "Congo                          13292000.00\n",
       "French Polynesia               12176066.00\n",
       "Mauritania                     11353107.00\n",
       "Cayman Islands                 10380790.00\n",
       "Burkina Faso                   10091871.00\n",
       "Swaziland                      10064230.00\n",
       "Northern Mariana Islands        8196500.00\n",
       "Greenland                       7891382.30\n",
       "Lesotho                         7302400.00\n",
       "St. Lucia                       6365597.00\n",
       "Somalia                         6246000.00\n",
       "State of Palestine              5955200.00\n",
       "Togo                            5919000.00\n",
       "Djibouti                        5668000.00\n",
       "Eritrea                         5578000.00\n",
       "Liberia                         5234000.00\n",
       "Isle of Man                     5104700.00\n",
       "Faeroe Islands                  5062490.00\n",
       "Seychelles                      4897380.00\n",
       "Niger                           4868975.00\n",
       "Cabo Verde                      4731360.00\n",
       "Belize                          4709655.22\n",
       "Antigua and Barbuda             4691800.00\n",
       "Rwanda                          4258924.00\n",
       "Maldives                        3752207.00\n",
       "Gambia                          3646900.00\n",
       "St. Kitts-Nevis                 3626100.00\n",
       "American Samoa                  3486686.00\n",
       "Grenada                         3198740.00\n",
       "Mayotte                         3191630.00\n",
       "Gibraltar                       3023000.00\n",
       "Equatorial Guinea               2986300.00\n",
       "Jersey                          2975500.00\n",
       "Central African Rep.            2889000.00\n",
       "Chad                            2870000.00\n",
       "Turks and Caicos Islands        2753900.00\n",
       "Sierra Leone                    2736183.00\n",
       "Curaçao                         2712000.00\n",
       "Burundi                         2545241.00\n",
       "St. Vincent-Grenadines          2417400.00\n",
       "Benin                           2372000.00\n",
       "Samoa                           2183200.00\n",
       "British Virgin Islands          2080000.00\n",
       "Palau                           2043700.00\n",
       "Andorra                         1966000.00\n",
       "Marshall Islands                1844200.00\n",
       "Timor-Leste                     1716625.00\n",
       "Dominica                        1695480.00\n",
       "Micronesia (Fed. States of)     1688860.00\n",
       "Guernsey                        1574800.00\n",
       "Solomon Islands                 1552900.00\n",
       "South Sudan                     1405000.00\n",
       "Anguilla                        1336800.00\n",
       "Sint Maarten (Dutch part)       1229300.00\n",
       "Vanuatu                         1077750.00\n",
       "Tonga                            918634.00\n",
       "St. Pierre-Miquelon              918110.00\n",
       "Comoros                          828800.00\n",
       "Sao Tome and Principe            826900.00\n",
       "Guinea-Bissau                    684327.00\n",
       "Cook Islands                     578400.00\n",
       "Liechtenstein                    577600.00\n",
       "Nauru                            570954.00\n",
       "Montserrat                       412200.00\n",
       "Kiribati                         370900.00\n",
       "Bonaire, St Eustatius, Saba      364600.00\n",
       "Falkland Is. (Malvinas)          331000.00\n",
       "Wallis and Futuna Is.            269632.00\n",
       "St. Helena and Depend.           167270.00\n",
       "Tuvalu                            79060.00\n",
       "Niue                              64202.33"
      ]
     },
     "execution_count": 4,
     "metadata": {},
     "output_type": "execute_result"
    }
   ],
   "source": [
    "#  ranking of all country - electricity consumption (20 years of production)\n",
    "rank_all = df.groupby(['country_or_area']).agg({'new_quantity':'sum'})\n",
    "rank_all.sort_values('new_quantity',ascending = False, inplace = True)\n",
    "rank_all"
   ]
  },
  {
   "cell_type": "code",
   "execution_count": 5,
   "id": "563bc3af",
   "metadata": {},
   "outputs": [
    {
     "data": {
      "application/vnd.plotly.v1+json": {
       "config": {
        "linkText": "Export to plot.ly",
        "plotlyServerURL": "https://plot.ly",
        "showLink": true
       },
       "data": [
        {
         "line": {
          "color": "rgba(255, 153, 51, 1.0)",
          "dash": "solid",
          "shape": "linear",
          "width": 1.3
         },
         "mode": "lines",
         "name": "new_quantity",
         "text": "",
         "type": "scatter",
         "x": [
          "United States",
          "China",
          "Japan",
          "Russian Federation",
          "India",
          "Canada",
          "Germany",
          "France",
          "Brazil",
          "United Kingdom",
          "Korea, Republic of",
          "Italy",
          "Spain",
          "Mexico",
          "South Africa",
          "Australia",
          "Other Asia",
          "Ukraine",
          "Saudi Arabia",
          "Iran (Islamic Rep. of)",
          "Turkey",
          "Poland",
          "Sweden",
          "Indonesia",
          "Norway",
          "Thailand",
          "Egypt",
          "Argentina",
          "Venezuela (Bolivar. Rep.)",
          "Netherlands",
          "Malaysia",
          "Belgium",
          "Pakistan",
          "Czechia",
          "Finland",
          "Kazakhstan",
          "Switzerland",
          "Austria",
          "United Arab Emirates",
          "Romania",
          "Viet Nam",
          "Greece",
          "Colombia",
          "Philippines",
          "Paraguay",
          "Chile",
          "Uzbekistan",
          "Israel",
          "Portugal",
          "Bulgaria",
          "Kuwait",
          "New Zealand",
          "Denmark",
          "Iraq",
          "Singapore",
          "Hungary",
          "Algeria",
          "China, Hong Kong SAR",
          "Syrian Arab Republic",
          "Belarus",
          "Slovakia",
          "Bangladesh",
          "Peru",
          "Ireland",
          "Puerto Rico",
          "Libya",
          "Nigeria",
          "Korea, Dem.Ppl's.Rep.",
          "Azerbaijan",
          "Serbia and Montenegro",
          "Morocco",
          "Serbia",
          "Qatar",
          "Tajikistan",
          "Cuba",
          "Slovenia",
          "Ecuador",
          "Kyrgyzstan",
          "Oman",
          "Bahrain",
          "Turkmenistan",
          "Tunisia",
          "Lithuania",
          "Croatia",
          "Dominican Republic",
          "Lebanon",
          "Bosnia and Herzegovina",
          "Mozambique",
          "Iceland",
          "Jordan",
          "Estonia",
          "Zambia",
          "Uruguay",
          "Sri Lanka",
          "Georgia",
          "Zimbabwe",
          "Ghana",
          "Costa Rica",
          "Guatemala",
          "Dem. Rep. of the Congo",
          "Trinidad and Tobago",
          "Myanmar",
          "T.F.Yug.Rep. Macedonia",
          "Armenia",
          "Kenya",
          "Panama",
          "Jamaica",
          "Côte d'Ivoire",
          "Honduras",
          "Bolivia (Plur. State of)",
          "Albania",
          "Latvia",
          "Yemen",
          "El Salvador",
          "Cameroon",
          "Bhutan",
          "Cyprus",
          "Mongolia",
          "Ethiopia",
          "United Rep. of Tanzania",
          "Lao People's Dem. Rep.",
          "Angola",
          "Sudan (former)",
          "Brunei Darussalam",
          "Papua New Guinea",
          "Nicaragua",
          "Luxembourg",
          "Nepal",
          "Republic of Moldova",
          "Réunion",
          "Mauritius",
          "Malta",
          "Senegal",
          "Uganda",
          "New Caledonia",
          "Guam",
          "Bahamas",
          "Gabon",
          "Suriname",
          "Malawi",
          "Sudan",
          "Guadeloupe",
          "Montenegro",
          "Martinique",
          "Namibia",
          "China, Macao SAR",
          "Madagascar",
          "Mali",
          "Neth. Antilles (former)",
          "United States Virgin Is.",
          "Botswana",
          "Cambodia",
          "Barbados",
          "Guinea",
          "Afghanistan",
          "Aruba",
          "Guyana",
          "Fiji",
          "French Guiana",
          "Haiti",
          "Bermuda",
          "Congo",
          "French Polynesia",
          "Mauritania",
          "Cayman Islands",
          "Burkina Faso",
          "Swaziland",
          "Northern Mariana Islands",
          "Greenland",
          "Lesotho",
          "St. Lucia",
          "Somalia",
          "State of Palestine",
          "Togo",
          "Djibouti",
          "Eritrea",
          "Liberia",
          "Isle of Man",
          "Faeroe Islands",
          "Seychelles",
          "Niger",
          "Cabo Verde",
          "Belize",
          "Antigua and Barbuda",
          "Rwanda",
          "Maldives",
          "Gambia",
          "St. Kitts-Nevis",
          "American Samoa",
          "Grenada",
          "Mayotte",
          "Gibraltar",
          "Equatorial Guinea",
          "Jersey",
          "Central African Rep.",
          "Chad",
          "Turks and Caicos Islands",
          "Sierra Leone",
          "Curaçao",
          "Burundi",
          "St. Vincent-Grenadines",
          "Benin",
          "Samoa",
          "British Virgin Islands",
          "Palau",
          "Andorra",
          "Marshall Islands",
          "Timor-Leste",
          "Dominica",
          "Micronesia (Fed. States of)",
          "Guernsey",
          "Solomon Islands",
          "South Sudan",
          "Anguilla",
          "Sint Maarten (Dutch part)",
          "Vanuatu",
          "Tonga",
          "St. Pierre-Miquelon",
          "Comoros",
          "Sao Tome and Principe",
          "Guinea-Bissau",
          "Cook Islands",
          "Liechtenstein",
          "Nauru",
          "Montserrat",
          "Kiribati",
          "Bonaire, St Eustatius, Saba",
          "Falkland Is. (Malvinas)",
          "Wallis and Futuna Is.",
          "St. Helena and Depend.",
          "Tuvalu",
          "Niue"
         ],
         "y": [
          85549767000,
          55912127900,
          22157381000,
          19882526000,
          15245741000,
          12657271000,
          12543013000,
          11476682000,
          8526034000,
          7803117000,
          7651171000,
          5949869000,
          5307931000,
          4905218000,
          4865063000,
          4667286000,
          4373222000,
          3884638000,
          3671794000,
          3559095400,
          3353771000,
          3177960000,
          3145664000,
          2704177170,
          2652391000,
          2652093200,
          2231267000,
          2136147170,
          2099219040,
          2054706000,
          1900808340,
          1747575000,
          1693266000,
          1625272000,
          1544952000,
          1485510000,
          1396666000,
          1324302000,
          1301659000,
          1222837000,
          1218229000,
          1139014000,
          1119718590,
          1117501794,
          1082088620,
          1044971000,
          1035619000,
          998452000,
          940670000,
          914259000,
          894596000,
          860683000,
          820864000,
          789289000,
          761093530,
          743853000,
          733039000,
          731318000,
          616120000,
          615698000,
          602865000,
          571438000,
          568442686,
          518587000,
          465321600,
          464848000,
          442789000,
          432216000,
          423972000,
          398709000,
          385762000,
          372642000,
          360944000,
          335050000,
          334844600,
          310662000,
          306219100,
          302077000,
          291486000,
          278928000,
          275410000,
          266057720,
          264696000,
          257915000,
          254716060,
          248960000,
          248110000,
          231105000,
          227146000,
          220496400,
          213973000,
          196650000,
          181925300,
          175884078,
          175170000,
          173461500,
          170828000,
          163570297,
          146343100,
          141688000,
          141218000,
          139357820,
          136580131,
          131479000,
          124911300,
          123837100,
          121122700,
          110336600,
          108030000,
          107582200,
          104104770,
          102654000,
          101587000,
          100917000,
          94063000,
          85237210,
          83410000,
          80870100,
          74624000,
          74112000,
          70597066.6,
          68871000,
          66746000,
          66117000,
          61858000,
          60548000,
          59338000,
          48350650,
          45910000,
          44543880,
          44033900,
          42838000,
          42029000,
          39458250,
          38845680,
          38562100,
          37699400,
          34002000,
          33052600,
          31599160,
          31493000,
          30927000,
          30435000,
          29818994,
          29600000,
          28456000,
          22893253.9,
          21947770,
          20929000,
          20701765,
          19427800,
          19131000,
          18724180,
          18419390,
          17350600,
          17305800,
          16847220,
          15598253,
          13875000,
          13778000,
          13546200,
          13292000,
          12176066,
          11353107,
          10380790,
          10091871,
          10064230,
          8196500,
          7891382.3,
          7302400,
          6365597,
          6246000,
          5955200,
          5919000,
          5668000,
          5578000,
          5234000,
          5104700,
          5062490,
          4897380,
          4868975,
          4731360,
          4709655.22,
          4691800,
          4258924,
          3752207,
          3646900,
          3626100,
          3486686,
          3198740,
          3191630,
          3023000,
          2986300,
          2975500,
          2889000,
          2870000,
          2753900,
          2736183,
          2712000,
          2545241,
          2417400,
          2372000,
          2183200,
          2080000,
          2043700,
          1966000,
          1844200,
          1716625,
          1695480,
          1688860,
          1574800,
          1552900,
          1405000,
          1336800,
          1229300,
          1077750,
          918634,
          918110,
          828800,
          826900,
          684327,
          578400,
          577600,
          570954,
          412200,
          370900,
          364600,
          331000,
          269632,
          167270,
          79060,
          64202.3334
         ]
        }
       ],
       "layout": {
        "legend": {
         "bgcolor": "#F5F6F9",
         "font": {
          "color": "#4D5663"
         }
        },
        "paper_bgcolor": "#F5F6F9",
        "plot_bgcolor": "#F5F6F9",
        "template": {
         "data": {
          "bar": [
           {
            "error_x": {
             "color": "#2a3f5f"
            },
            "error_y": {
             "color": "#2a3f5f"
            },
            "marker": {
             "line": {
              "color": "#E5ECF6",
              "width": 0.5
             },
             "pattern": {
              "fillmode": "overlay",
              "size": 10,
              "solidity": 0.2
             }
            },
            "type": "bar"
           }
          ],
          "barpolar": [
           {
            "marker": {
             "line": {
              "color": "#E5ECF6",
              "width": 0.5
             },
             "pattern": {
              "fillmode": "overlay",
              "size": 10,
              "solidity": 0.2
             }
            },
            "type": "barpolar"
           }
          ],
          "carpet": [
           {
            "aaxis": {
             "endlinecolor": "#2a3f5f",
             "gridcolor": "white",
             "linecolor": "white",
             "minorgridcolor": "white",
             "startlinecolor": "#2a3f5f"
            },
            "baxis": {
             "endlinecolor": "#2a3f5f",
             "gridcolor": "white",
             "linecolor": "white",
             "minorgridcolor": "white",
             "startlinecolor": "#2a3f5f"
            },
            "type": "carpet"
           }
          ],
          "choropleth": [
           {
            "colorbar": {
             "outlinewidth": 0,
             "ticks": ""
            },
            "type": "choropleth"
           }
          ],
          "contour": [
           {
            "colorbar": {
             "outlinewidth": 0,
             "ticks": ""
            },
            "colorscale": [
             [
              0,
              "#0d0887"
             ],
             [
              0.1111111111111111,
              "#46039f"
             ],
             [
              0.2222222222222222,
              "#7201a8"
             ],
             [
              0.3333333333333333,
              "#9c179e"
             ],
             [
              0.4444444444444444,
              "#bd3786"
             ],
             [
              0.5555555555555556,
              "#d8576b"
             ],
             [
              0.6666666666666666,
              "#ed7953"
             ],
             [
              0.7777777777777778,
              "#fb9f3a"
             ],
             [
              0.8888888888888888,
              "#fdca26"
             ],
             [
              1,
              "#f0f921"
             ]
            ],
            "type": "contour"
           }
          ],
          "contourcarpet": [
           {
            "colorbar": {
             "outlinewidth": 0,
             "ticks": ""
            },
            "type": "contourcarpet"
           }
          ],
          "heatmap": [
           {
            "colorbar": {
             "outlinewidth": 0,
             "ticks": ""
            },
            "colorscale": [
             [
              0,
              "#0d0887"
             ],
             [
              0.1111111111111111,
              "#46039f"
             ],
             [
              0.2222222222222222,
              "#7201a8"
             ],
             [
              0.3333333333333333,
              "#9c179e"
             ],
             [
              0.4444444444444444,
              "#bd3786"
             ],
             [
              0.5555555555555556,
              "#d8576b"
             ],
             [
              0.6666666666666666,
              "#ed7953"
             ],
             [
              0.7777777777777778,
              "#fb9f3a"
             ],
             [
              0.8888888888888888,
              "#fdca26"
             ],
             [
              1,
              "#f0f921"
             ]
            ],
            "type": "heatmap"
           }
          ],
          "heatmapgl": [
           {
            "colorbar": {
             "outlinewidth": 0,
             "ticks": ""
            },
            "colorscale": [
             [
              0,
              "#0d0887"
             ],
             [
              0.1111111111111111,
              "#46039f"
             ],
             [
              0.2222222222222222,
              "#7201a8"
             ],
             [
              0.3333333333333333,
              "#9c179e"
             ],
             [
              0.4444444444444444,
              "#bd3786"
             ],
             [
              0.5555555555555556,
              "#d8576b"
             ],
             [
              0.6666666666666666,
              "#ed7953"
             ],
             [
              0.7777777777777778,
              "#fb9f3a"
             ],
             [
              0.8888888888888888,
              "#fdca26"
             ],
             [
              1,
              "#f0f921"
             ]
            ],
            "type": "heatmapgl"
           }
          ],
          "histogram": [
           {
            "marker": {
             "pattern": {
              "fillmode": "overlay",
              "size": 10,
              "solidity": 0.2
             }
            },
            "type": "histogram"
           }
          ],
          "histogram2d": [
           {
            "colorbar": {
             "outlinewidth": 0,
             "ticks": ""
            },
            "colorscale": [
             [
              0,
              "#0d0887"
             ],
             [
              0.1111111111111111,
              "#46039f"
             ],
             [
              0.2222222222222222,
              "#7201a8"
             ],
             [
              0.3333333333333333,
              "#9c179e"
             ],
             [
              0.4444444444444444,
              "#bd3786"
             ],
             [
              0.5555555555555556,
              "#d8576b"
             ],
             [
              0.6666666666666666,
              "#ed7953"
             ],
             [
              0.7777777777777778,
              "#fb9f3a"
             ],
             [
              0.8888888888888888,
              "#fdca26"
             ],
             [
              1,
              "#f0f921"
             ]
            ],
            "type": "histogram2d"
           }
          ],
          "histogram2dcontour": [
           {
            "colorbar": {
             "outlinewidth": 0,
             "ticks": ""
            },
            "colorscale": [
             [
              0,
              "#0d0887"
             ],
             [
              0.1111111111111111,
              "#46039f"
             ],
             [
              0.2222222222222222,
              "#7201a8"
             ],
             [
              0.3333333333333333,
              "#9c179e"
             ],
             [
              0.4444444444444444,
              "#bd3786"
             ],
             [
              0.5555555555555556,
              "#d8576b"
             ],
             [
              0.6666666666666666,
              "#ed7953"
             ],
             [
              0.7777777777777778,
              "#fb9f3a"
             ],
             [
              0.8888888888888888,
              "#fdca26"
             ],
             [
              1,
              "#f0f921"
             ]
            ],
            "type": "histogram2dcontour"
           }
          ],
          "mesh3d": [
           {
            "colorbar": {
             "outlinewidth": 0,
             "ticks": ""
            },
            "type": "mesh3d"
           }
          ],
          "parcoords": [
           {
            "line": {
             "colorbar": {
              "outlinewidth": 0,
              "ticks": ""
             }
            },
            "type": "parcoords"
           }
          ],
          "pie": [
           {
            "automargin": true,
            "type": "pie"
           }
          ],
          "scatter": [
           {
            "marker": {
             "colorbar": {
              "outlinewidth": 0,
              "ticks": ""
             }
            },
            "type": "scatter"
           }
          ],
          "scatter3d": [
           {
            "line": {
             "colorbar": {
              "outlinewidth": 0,
              "ticks": ""
             }
            },
            "marker": {
             "colorbar": {
              "outlinewidth": 0,
              "ticks": ""
             }
            },
            "type": "scatter3d"
           }
          ],
          "scattercarpet": [
           {
            "marker": {
             "colorbar": {
              "outlinewidth": 0,
              "ticks": ""
             }
            },
            "type": "scattercarpet"
           }
          ],
          "scattergeo": [
           {
            "marker": {
             "colorbar": {
              "outlinewidth": 0,
              "ticks": ""
             }
            },
            "type": "scattergeo"
           }
          ],
          "scattergl": [
           {
            "marker": {
             "colorbar": {
              "outlinewidth": 0,
              "ticks": ""
             }
            },
            "type": "scattergl"
           }
          ],
          "scattermapbox": [
           {
            "marker": {
             "colorbar": {
              "outlinewidth": 0,
              "ticks": ""
             }
            },
            "type": "scattermapbox"
           }
          ],
          "scatterpolar": [
           {
            "marker": {
             "colorbar": {
              "outlinewidth": 0,
              "ticks": ""
             }
            },
            "type": "scatterpolar"
           }
          ],
          "scatterpolargl": [
           {
            "marker": {
             "colorbar": {
              "outlinewidth": 0,
              "ticks": ""
             }
            },
            "type": "scatterpolargl"
           }
          ],
          "scatterternary": [
           {
            "marker": {
             "colorbar": {
              "outlinewidth": 0,
              "ticks": ""
             }
            },
            "type": "scatterternary"
           }
          ],
          "surface": [
           {
            "colorbar": {
             "outlinewidth": 0,
             "ticks": ""
            },
            "colorscale": [
             [
              0,
              "#0d0887"
             ],
             [
              0.1111111111111111,
              "#46039f"
             ],
             [
              0.2222222222222222,
              "#7201a8"
             ],
             [
              0.3333333333333333,
              "#9c179e"
             ],
             [
              0.4444444444444444,
              "#bd3786"
             ],
             [
              0.5555555555555556,
              "#d8576b"
             ],
             [
              0.6666666666666666,
              "#ed7953"
             ],
             [
              0.7777777777777778,
              "#fb9f3a"
             ],
             [
              0.8888888888888888,
              "#fdca26"
             ],
             [
              1,
              "#f0f921"
             ]
            ],
            "type": "surface"
           }
          ],
          "table": [
           {
            "cells": {
             "fill": {
              "color": "#EBF0F8"
             },
             "line": {
              "color": "white"
             }
            },
            "header": {
             "fill": {
              "color": "#C8D4E3"
             },
             "line": {
              "color": "white"
             }
            },
            "type": "table"
           }
          ]
         },
         "layout": {
          "annotationdefaults": {
           "arrowcolor": "#2a3f5f",
           "arrowhead": 0,
           "arrowwidth": 1
          },
          "autotypenumbers": "strict",
          "coloraxis": {
           "colorbar": {
            "outlinewidth": 0,
            "ticks": ""
           }
          },
          "colorscale": {
           "diverging": [
            [
             0,
             "#8e0152"
            ],
            [
             0.1,
             "#c51b7d"
            ],
            [
             0.2,
             "#de77ae"
            ],
            [
             0.3,
             "#f1b6da"
            ],
            [
             0.4,
             "#fde0ef"
            ],
            [
             0.5,
             "#f7f7f7"
            ],
            [
             0.6,
             "#e6f5d0"
            ],
            [
             0.7,
             "#b8e186"
            ],
            [
             0.8,
             "#7fbc41"
            ],
            [
             0.9,
             "#4d9221"
            ],
            [
             1,
             "#276419"
            ]
           ],
           "sequential": [
            [
             0,
             "#0d0887"
            ],
            [
             0.1111111111111111,
             "#46039f"
            ],
            [
             0.2222222222222222,
             "#7201a8"
            ],
            [
             0.3333333333333333,
             "#9c179e"
            ],
            [
             0.4444444444444444,
             "#bd3786"
            ],
            [
             0.5555555555555556,
             "#d8576b"
            ],
            [
             0.6666666666666666,
             "#ed7953"
            ],
            [
             0.7777777777777778,
             "#fb9f3a"
            ],
            [
             0.8888888888888888,
             "#fdca26"
            ],
            [
             1,
             "#f0f921"
            ]
           ],
           "sequentialminus": [
            [
             0,
             "#0d0887"
            ],
            [
             0.1111111111111111,
             "#46039f"
            ],
            [
             0.2222222222222222,
             "#7201a8"
            ],
            [
             0.3333333333333333,
             "#9c179e"
            ],
            [
             0.4444444444444444,
             "#bd3786"
            ],
            [
             0.5555555555555556,
             "#d8576b"
            ],
            [
             0.6666666666666666,
             "#ed7953"
            ],
            [
             0.7777777777777778,
             "#fb9f3a"
            ],
            [
             0.8888888888888888,
             "#fdca26"
            ],
            [
             1,
             "#f0f921"
            ]
           ]
          },
          "colorway": [
           "#636efa",
           "#EF553B",
           "#00cc96",
           "#ab63fa",
           "#FFA15A",
           "#19d3f3",
           "#FF6692",
           "#B6E880",
           "#FF97FF",
           "#FECB52"
          ],
          "font": {
           "color": "#2a3f5f"
          },
          "geo": {
           "bgcolor": "white",
           "lakecolor": "white",
           "landcolor": "#E5ECF6",
           "showlakes": true,
           "showland": true,
           "subunitcolor": "white"
          },
          "hoverlabel": {
           "align": "left"
          },
          "hovermode": "closest",
          "mapbox": {
           "style": "light"
          },
          "paper_bgcolor": "white",
          "plot_bgcolor": "#E5ECF6",
          "polar": {
           "angularaxis": {
            "gridcolor": "white",
            "linecolor": "white",
            "ticks": ""
           },
           "bgcolor": "#E5ECF6",
           "radialaxis": {
            "gridcolor": "white",
            "linecolor": "white",
            "ticks": ""
           }
          },
          "scene": {
           "xaxis": {
            "backgroundcolor": "#E5ECF6",
            "gridcolor": "white",
            "gridwidth": 2,
            "linecolor": "white",
            "showbackground": true,
            "ticks": "",
            "zerolinecolor": "white"
           },
           "yaxis": {
            "backgroundcolor": "#E5ECF6",
            "gridcolor": "white",
            "gridwidth": 2,
            "linecolor": "white",
            "showbackground": true,
            "ticks": "",
            "zerolinecolor": "white"
           },
           "zaxis": {
            "backgroundcolor": "#E5ECF6",
            "gridcolor": "white",
            "gridwidth": 2,
            "linecolor": "white",
            "showbackground": true,
            "ticks": "",
            "zerolinecolor": "white"
           }
          },
          "shapedefaults": {
           "line": {
            "color": "#2a3f5f"
           }
          },
          "ternary": {
           "aaxis": {
            "gridcolor": "white",
            "linecolor": "white",
            "ticks": ""
           },
           "baxis": {
            "gridcolor": "white",
            "linecolor": "white",
            "ticks": ""
           },
           "bgcolor": "#E5ECF6",
           "caxis": {
            "gridcolor": "white",
            "linecolor": "white",
            "ticks": ""
           }
          },
          "title": {
           "x": 0.05
          },
          "xaxis": {
           "automargin": true,
           "gridcolor": "white",
           "linecolor": "white",
           "ticks": "",
           "title": {
            "standoff": 15
           },
           "zerolinecolor": "white",
           "zerolinewidth": 2
          },
          "yaxis": {
           "automargin": true,
           "gridcolor": "white",
           "linecolor": "white",
           "ticks": "",
           "title": {
            "standoff": 15
           },
           "zerolinecolor": "white",
           "zerolinewidth": 2
          }
         }
        },
        "title": {
         "font": {
          "color": "#4D5663"
         }
        },
        "xaxis": {
         "gridcolor": "#E1E5ED",
         "showgrid": true,
         "tickfont": {
          "color": "#4D5663"
         },
         "title": {
          "font": {
           "color": "#4D5663"
          },
          "text": ""
         },
         "zerolinecolor": "#E1E5ED"
        },
        "yaxis": {
         "gridcolor": "#E1E5ED",
         "showgrid": true,
         "tickfont": {
          "color": "#4D5663"
         },
         "title": {
          "font": {
           "color": "#4D5663"
          },
          "text": ""
         },
         "zerolinecolor": "#E1E5ED"
        }
       }
      },
      "text/html": [
       "<div>                            <div id=\"93488da0-1337-4749-9bf5-873f8e74c5a1\" class=\"plotly-graph-div\" style=\"height:525px; width:100%;\"></div>            <script type=\"text/javascript\">                require([\"plotly\"], function(Plotly) {                    window.PLOTLYENV=window.PLOTLYENV || {};\n",
       "                    window.PLOTLYENV.BASE_URL='https://plot.ly';                                    if (document.getElementById(\"93488da0-1337-4749-9bf5-873f8e74c5a1\")) {                    Plotly.newPlot(                        \"93488da0-1337-4749-9bf5-873f8e74c5a1\",                        [{\"line\":{\"color\":\"rgba(255, 153, 51, 1.0)\",\"dash\":\"solid\",\"shape\":\"linear\",\"width\":1.3},\"mode\":\"lines\",\"name\":\"new_quantity\",\"text\":\"\",\"x\":[\"United States\",\"China\",\"Japan\",\"Russian Federation\",\"India\",\"Canada\",\"Germany\",\"France\",\"Brazil\",\"United Kingdom\",\"Korea, Republic of\",\"Italy\",\"Spain\",\"Mexico\",\"South Africa\",\"Australia\",\"Other Asia\",\"Ukraine\",\"Saudi Arabia\",\"Iran (Islamic Rep. of)\",\"Turkey\",\"Poland\",\"Sweden\",\"Indonesia\",\"Norway\",\"Thailand\",\"Egypt\",\"Argentina\",\"Venezuela (Bolivar. Rep.)\",\"Netherlands\",\"Malaysia\",\"Belgium\",\"Pakistan\",\"Czechia\",\"Finland\",\"Kazakhstan\",\"Switzerland\",\"Austria\",\"United Arab Emirates\",\"Romania\",\"Viet Nam\",\"Greece\",\"Colombia\",\"Philippines\",\"Paraguay\",\"Chile\",\"Uzbekistan\",\"Israel\",\"Portugal\",\"Bulgaria\",\"Kuwait\",\"New Zealand\",\"Denmark\",\"Iraq\",\"Singapore\",\"Hungary\",\"Algeria\",\"China, Hong Kong SAR\",\"Syrian Arab Republic\",\"Belarus\",\"Slovakia\",\"Bangladesh\",\"Peru\",\"Ireland\",\"Puerto Rico\",\"Libya\",\"Nigeria\",\"Korea, Dem.Ppl's.Rep.\",\"Azerbaijan\",\"Serbia and Montenegro\",\"Morocco\",\"Serbia\",\"Qatar\",\"Tajikistan\",\"Cuba\",\"Slovenia\",\"Ecuador\",\"Kyrgyzstan\",\"Oman\",\"Bahrain\",\"Turkmenistan\",\"Tunisia\",\"Lithuania\",\"Croatia\",\"Dominican Republic\",\"Lebanon\",\"Bosnia and Herzegovina\",\"Mozambique\",\"Iceland\",\"Jordan\",\"Estonia\",\"Zambia\",\"Uruguay\",\"Sri Lanka\",\"Georgia\",\"Zimbabwe\",\"Ghana\",\"Costa Rica\",\"Guatemala\",\"Dem. Rep. of the Congo\",\"Trinidad and Tobago\",\"Myanmar\",\"T.F.Yug.Rep. Macedonia\",\"Armenia\",\"Kenya\",\"Panama\",\"Jamaica\",\"C\\u00f4te d'Ivoire\",\"Honduras\",\"Bolivia (Plur. State of)\",\"Albania\",\"Latvia\",\"Yemen\",\"El Salvador\",\"Cameroon\",\"Bhutan\",\"Cyprus\",\"Mongolia\",\"Ethiopia\",\"United Rep. of Tanzania\",\"Lao People's Dem. Rep.\",\"Angola\",\"Sudan (former)\",\"Brunei Darussalam\",\"Papua New Guinea\",\"Nicaragua\",\"Luxembourg\",\"Nepal\",\"Republic of Moldova\",\"R\\u00e9union\",\"Mauritius\",\"Malta\",\"Senegal\",\"Uganda\",\"New Caledonia\",\"Guam\",\"Bahamas\",\"Gabon\",\"Suriname\",\"Malawi\",\"Sudan\",\"Guadeloupe\",\"Montenegro\",\"Martinique\",\"Namibia\",\"China, Macao SAR\",\"Madagascar\",\"Mali\",\"Neth. Antilles (former)\",\"United States Virgin Is.\",\"Botswana\",\"Cambodia\",\"Barbados\",\"Guinea\",\"Afghanistan\",\"Aruba\",\"Guyana\",\"Fiji\",\"French Guiana\",\"Haiti\",\"Bermuda\",\"Congo\",\"French Polynesia\",\"Mauritania\",\"Cayman Islands\",\"Burkina Faso\",\"Swaziland\",\"Northern Mariana Islands\",\"Greenland\",\"Lesotho\",\"St. Lucia\",\"Somalia\",\"State of Palestine\",\"Togo\",\"Djibouti\",\"Eritrea\",\"Liberia\",\"Isle of Man\",\"Faeroe Islands\",\"Seychelles\",\"Niger\",\"Cabo Verde\",\"Belize\",\"Antigua and Barbuda\",\"Rwanda\",\"Maldives\",\"Gambia\",\"St. Kitts-Nevis\",\"American Samoa\",\"Grenada\",\"Mayotte\",\"Gibraltar\",\"Equatorial Guinea\",\"Jersey\",\"Central African Rep.\",\"Chad\",\"Turks and Caicos Islands\",\"Sierra Leone\",\"Cura\\u00e7ao\",\"Burundi\",\"St. Vincent-Grenadines\",\"Benin\",\"Samoa\",\"British Virgin Islands\",\"Palau\",\"Andorra\",\"Marshall Islands\",\"Timor-Leste\",\"Dominica\",\"Micronesia (Fed. States of)\",\"Guernsey\",\"Solomon Islands\",\"South Sudan\",\"Anguilla\",\"Sint Maarten (Dutch part)\",\"Vanuatu\",\"Tonga\",\"St. Pierre-Miquelon\",\"Comoros\",\"Sao Tome and Principe\",\"Guinea-Bissau\",\"Cook Islands\",\"Liechtenstein\",\"Nauru\",\"Montserrat\",\"Kiribati\",\"Bonaire, St Eustatius, Saba\",\"Falkland Is. (Malvinas)\",\"Wallis and Futuna Is.\",\"St. Helena and Depend.\",\"Tuvalu\",\"Niue\"],\"y\":[85549767000.0,55912127900.0,22157381000.0,19882526000.0,15245741000.0,12657271000.0,12543013000.0,11476682000.0,8526034000.0,7803117000.0,7651171000.0,5949869000.0,5307931000.0,4905218000.0,4865063000.0,4667286000.0,4373222000.0,3884638000.0,3671794000.0,3559095400.0,3353771000.0,3177960000.0,3145664000.0,2704177170.0,2652391000.0,2652093200.0,2231267000.0,2136147170.0,2099219040.0,2054706000.0,1900808340.0,1747575000.0,1693266000.0,1625272000.0,1544952000.0,1485510000.0,1396666000.0,1324302000.0,1301659000.0,1222837000.0,1218229000.0,1139014000.0,1119718590.0,1117501794.0,1082088620.0,1044971000.0,1035619000.0,998452000.0,940670000.0,914259000.0,894596000.0,860683000.0,820864000.0,789289000.0,761093530.0,743853000.0,733039000.0,731318000.0,616120000.0,615698000.0,602865000.0,571438000.0,568442686.0,518587000.0,465321600.0,464848000.0,442789000.0,432216000.0,423972000.0,398709000.0,385762000.0,372642000.0,360944000.0,335050000.0,334844600.0,310662000.0,306219100.0,302077000.0,291486000.0,278928000.0,275410000.0,266057720.0,264696000.0,257915000.0,254716060.0,248960000.0,248110000.0,231105000.0,227146000.0,220496400.0,213973000.0,196650000.0,181925300.0,175884078.0,175170000.0,173461500.0,170828000.0,163570297.0,146343100.0,141688000.0,141218000.0,139357820.0,136580131.0,131479000.0,124911300.0,123837100.0,121122700.0,110336600.0,108030000.0,107582200.0,104104770.0,102654000.0,101587000.0,100917000.0,94063000.0,85237210.0,83410000.0,80870100.0,74624000.0,74112000.0,70597066.6,68871000.0,66746000.0,66117000.0,61858000.0,60548000.0,59338000.0,48350650.0,45910000.0,44543880.0,44033900.0,42838000.0,42029000.0,39458250.0,38845680.0,38562100.0,37699400.0,34002000.0,33052600.0,31599160.0,31493000.0,30927000.0,30435000.0,29818994.0,29600000.0,28456000.0,22893253.9,21947770.0,20929000.0,20701765.0,19427800.0,19131000.0,18724180.0,18419390.0,17350600.0,17305800.0,16847220.0,15598253.0,13875000.0,13778000.0,13546200.0,13292000.0,12176066.0,11353107.0,10380790.0,10091871.0,10064230.0,8196500.0,7891382.3,7302400.0,6365597.0,6246000.0,5955200.0,5919000.0,5668000.0,5578000.0,5234000.0,5104700.0,5062490.0,4897380.0,4868975.0,4731360.0,4709655.22,4691800.0,4258924.0,3752207.0,3646900.0,3626100.0,3486686.0,3198740.0,3191630.0,3023000.0,2986300.0,2975500.0,2889000.0,2870000.0,2753900.0,2736183.0,2712000.0,2545241.0,2417400.0,2372000.0,2183200.0,2080000.0,2043700.0,1966000.0,1844200.0,1716625.0,1695480.0,1688860.0,1574800.0,1552900.0,1405000.0,1336800.0,1229300.0,1077750.0,918634.0,918110.0,828800.0,826900.0,684327.0,578400.0,577600.0,570954.0,412200.0,370900.0,364600.0,331000.0,269632.0,167270.0,79060.0,64202.3334],\"type\":\"scatter\"}],                        {\"legend\":{\"bgcolor\":\"#F5F6F9\",\"font\":{\"color\":\"#4D5663\"}},\"paper_bgcolor\":\"#F5F6F9\",\"plot_bgcolor\":\"#F5F6F9\",\"template\":{\"data\":{\"barpolar\":[{\"marker\":{\"line\":{\"color\":\"#E5ECF6\",\"width\":0.5},\"pattern\":{\"fillmode\":\"overlay\",\"size\":10,\"solidity\":0.2}},\"type\":\"barpolar\"}],\"bar\":[{\"error_x\":{\"color\":\"#2a3f5f\"},\"error_y\":{\"color\":\"#2a3f5f\"},\"marker\":{\"line\":{\"color\":\"#E5ECF6\",\"width\":0.5},\"pattern\":{\"fillmode\":\"overlay\",\"size\":10,\"solidity\":0.2}},\"type\":\"bar\"}],\"carpet\":[{\"aaxis\":{\"endlinecolor\":\"#2a3f5f\",\"gridcolor\":\"white\",\"linecolor\":\"white\",\"minorgridcolor\":\"white\",\"startlinecolor\":\"#2a3f5f\"},\"baxis\":{\"endlinecolor\":\"#2a3f5f\",\"gridcolor\":\"white\",\"linecolor\":\"white\",\"minorgridcolor\":\"white\",\"startlinecolor\":\"#2a3f5f\"},\"type\":\"carpet\"}],\"choropleth\":[{\"colorbar\":{\"outlinewidth\":0,\"ticks\":\"\"},\"type\":\"choropleth\"}],\"contourcarpet\":[{\"colorbar\":{\"outlinewidth\":0,\"ticks\":\"\"},\"type\":\"contourcarpet\"}],\"contour\":[{\"colorbar\":{\"outlinewidth\":0,\"ticks\":\"\"},\"colorscale\":[[0.0,\"#0d0887\"],[0.1111111111111111,\"#46039f\"],[0.2222222222222222,\"#7201a8\"],[0.3333333333333333,\"#9c179e\"],[0.4444444444444444,\"#bd3786\"],[0.5555555555555556,\"#d8576b\"],[0.6666666666666666,\"#ed7953\"],[0.7777777777777778,\"#fb9f3a\"],[0.8888888888888888,\"#fdca26\"],[1.0,\"#f0f921\"]],\"type\":\"contour\"}],\"heatmapgl\":[{\"colorbar\":{\"outlinewidth\":0,\"ticks\":\"\"},\"colorscale\":[[0.0,\"#0d0887\"],[0.1111111111111111,\"#46039f\"],[0.2222222222222222,\"#7201a8\"],[0.3333333333333333,\"#9c179e\"],[0.4444444444444444,\"#bd3786\"],[0.5555555555555556,\"#d8576b\"],[0.6666666666666666,\"#ed7953\"],[0.7777777777777778,\"#fb9f3a\"],[0.8888888888888888,\"#fdca26\"],[1.0,\"#f0f921\"]],\"type\":\"heatmapgl\"}],\"heatmap\":[{\"colorbar\":{\"outlinewidth\":0,\"ticks\":\"\"},\"colorscale\":[[0.0,\"#0d0887\"],[0.1111111111111111,\"#46039f\"],[0.2222222222222222,\"#7201a8\"],[0.3333333333333333,\"#9c179e\"],[0.4444444444444444,\"#bd3786\"],[0.5555555555555556,\"#d8576b\"],[0.6666666666666666,\"#ed7953\"],[0.7777777777777778,\"#fb9f3a\"],[0.8888888888888888,\"#fdca26\"],[1.0,\"#f0f921\"]],\"type\":\"heatmap\"}],\"histogram2dcontour\":[{\"colorbar\":{\"outlinewidth\":0,\"ticks\":\"\"},\"colorscale\":[[0.0,\"#0d0887\"],[0.1111111111111111,\"#46039f\"],[0.2222222222222222,\"#7201a8\"],[0.3333333333333333,\"#9c179e\"],[0.4444444444444444,\"#bd3786\"],[0.5555555555555556,\"#d8576b\"],[0.6666666666666666,\"#ed7953\"],[0.7777777777777778,\"#fb9f3a\"],[0.8888888888888888,\"#fdca26\"],[1.0,\"#f0f921\"]],\"type\":\"histogram2dcontour\"}],\"histogram2d\":[{\"colorbar\":{\"outlinewidth\":0,\"ticks\":\"\"},\"colorscale\":[[0.0,\"#0d0887\"],[0.1111111111111111,\"#46039f\"],[0.2222222222222222,\"#7201a8\"],[0.3333333333333333,\"#9c179e\"],[0.4444444444444444,\"#bd3786\"],[0.5555555555555556,\"#d8576b\"],[0.6666666666666666,\"#ed7953\"],[0.7777777777777778,\"#fb9f3a\"],[0.8888888888888888,\"#fdca26\"],[1.0,\"#f0f921\"]],\"type\":\"histogram2d\"}],\"histogram\":[{\"marker\":{\"pattern\":{\"fillmode\":\"overlay\",\"size\":10,\"solidity\":0.2}},\"type\":\"histogram\"}],\"mesh3d\":[{\"colorbar\":{\"outlinewidth\":0,\"ticks\":\"\"},\"type\":\"mesh3d\"}],\"parcoords\":[{\"line\":{\"colorbar\":{\"outlinewidth\":0,\"ticks\":\"\"}},\"type\":\"parcoords\"}],\"pie\":[{\"automargin\":true,\"type\":\"pie\"}],\"scatter3d\":[{\"line\":{\"colorbar\":{\"outlinewidth\":0,\"ticks\":\"\"}},\"marker\":{\"colorbar\":{\"outlinewidth\":0,\"ticks\":\"\"}},\"type\":\"scatter3d\"}],\"scattercarpet\":[{\"marker\":{\"colorbar\":{\"outlinewidth\":0,\"ticks\":\"\"}},\"type\":\"scattercarpet\"}],\"scattergeo\":[{\"marker\":{\"colorbar\":{\"outlinewidth\":0,\"ticks\":\"\"}},\"type\":\"scattergeo\"}],\"scattergl\":[{\"marker\":{\"colorbar\":{\"outlinewidth\":0,\"ticks\":\"\"}},\"type\":\"scattergl\"}],\"scattermapbox\":[{\"marker\":{\"colorbar\":{\"outlinewidth\":0,\"ticks\":\"\"}},\"type\":\"scattermapbox\"}],\"scatterpolargl\":[{\"marker\":{\"colorbar\":{\"outlinewidth\":0,\"ticks\":\"\"}},\"type\":\"scatterpolargl\"}],\"scatterpolar\":[{\"marker\":{\"colorbar\":{\"outlinewidth\":0,\"ticks\":\"\"}},\"type\":\"scatterpolar\"}],\"scatter\":[{\"marker\":{\"colorbar\":{\"outlinewidth\":0,\"ticks\":\"\"}},\"type\":\"scatter\"}],\"scatterternary\":[{\"marker\":{\"colorbar\":{\"outlinewidth\":0,\"ticks\":\"\"}},\"type\":\"scatterternary\"}],\"surface\":[{\"colorbar\":{\"outlinewidth\":0,\"ticks\":\"\"},\"colorscale\":[[0.0,\"#0d0887\"],[0.1111111111111111,\"#46039f\"],[0.2222222222222222,\"#7201a8\"],[0.3333333333333333,\"#9c179e\"],[0.4444444444444444,\"#bd3786\"],[0.5555555555555556,\"#d8576b\"],[0.6666666666666666,\"#ed7953\"],[0.7777777777777778,\"#fb9f3a\"],[0.8888888888888888,\"#fdca26\"],[1.0,\"#f0f921\"]],\"type\":\"surface\"}],\"table\":[{\"cells\":{\"fill\":{\"color\":\"#EBF0F8\"},\"line\":{\"color\":\"white\"}},\"header\":{\"fill\":{\"color\":\"#C8D4E3\"},\"line\":{\"color\":\"white\"}},\"type\":\"table\"}]},\"layout\":{\"annotationdefaults\":{\"arrowcolor\":\"#2a3f5f\",\"arrowhead\":0,\"arrowwidth\":1},\"autotypenumbers\":\"strict\",\"coloraxis\":{\"colorbar\":{\"outlinewidth\":0,\"ticks\":\"\"}},\"colorscale\":{\"diverging\":[[0,\"#8e0152\"],[0.1,\"#c51b7d\"],[0.2,\"#de77ae\"],[0.3,\"#f1b6da\"],[0.4,\"#fde0ef\"],[0.5,\"#f7f7f7\"],[0.6,\"#e6f5d0\"],[0.7,\"#b8e186\"],[0.8,\"#7fbc41\"],[0.9,\"#4d9221\"],[1,\"#276419\"]],\"sequential\":[[0.0,\"#0d0887\"],[0.1111111111111111,\"#46039f\"],[0.2222222222222222,\"#7201a8\"],[0.3333333333333333,\"#9c179e\"],[0.4444444444444444,\"#bd3786\"],[0.5555555555555556,\"#d8576b\"],[0.6666666666666666,\"#ed7953\"],[0.7777777777777778,\"#fb9f3a\"],[0.8888888888888888,\"#fdca26\"],[1.0,\"#f0f921\"]],\"sequentialminus\":[[0.0,\"#0d0887\"],[0.1111111111111111,\"#46039f\"],[0.2222222222222222,\"#7201a8\"],[0.3333333333333333,\"#9c179e\"],[0.4444444444444444,\"#bd3786\"],[0.5555555555555556,\"#d8576b\"],[0.6666666666666666,\"#ed7953\"],[0.7777777777777778,\"#fb9f3a\"],[0.8888888888888888,\"#fdca26\"],[1.0,\"#f0f921\"]]},\"colorway\":[\"#636efa\",\"#EF553B\",\"#00cc96\",\"#ab63fa\",\"#FFA15A\",\"#19d3f3\",\"#FF6692\",\"#B6E880\",\"#FF97FF\",\"#FECB52\"],\"font\":{\"color\":\"#2a3f5f\"},\"geo\":{\"bgcolor\":\"white\",\"lakecolor\":\"white\",\"landcolor\":\"#E5ECF6\",\"showlakes\":true,\"showland\":true,\"subunitcolor\":\"white\"},\"hoverlabel\":{\"align\":\"left\"},\"hovermode\":\"closest\",\"mapbox\":{\"style\":\"light\"},\"paper_bgcolor\":\"white\",\"plot_bgcolor\":\"#E5ECF6\",\"polar\":{\"angularaxis\":{\"gridcolor\":\"white\",\"linecolor\":\"white\",\"ticks\":\"\"},\"bgcolor\":\"#E5ECF6\",\"radialaxis\":{\"gridcolor\":\"white\",\"linecolor\":\"white\",\"ticks\":\"\"}},\"scene\":{\"xaxis\":{\"backgroundcolor\":\"#E5ECF6\",\"gridcolor\":\"white\",\"gridwidth\":2,\"linecolor\":\"white\",\"showbackground\":true,\"ticks\":\"\",\"zerolinecolor\":\"white\"},\"yaxis\":{\"backgroundcolor\":\"#E5ECF6\",\"gridcolor\":\"white\",\"gridwidth\":2,\"linecolor\":\"white\",\"showbackground\":true,\"ticks\":\"\",\"zerolinecolor\":\"white\"},\"zaxis\":{\"backgroundcolor\":\"#E5ECF6\",\"gridcolor\":\"white\",\"gridwidth\":2,\"linecolor\":\"white\",\"showbackground\":true,\"ticks\":\"\",\"zerolinecolor\":\"white\"}},\"shapedefaults\":{\"line\":{\"color\":\"#2a3f5f\"}},\"ternary\":{\"aaxis\":{\"gridcolor\":\"white\",\"linecolor\":\"white\",\"ticks\":\"\"},\"baxis\":{\"gridcolor\":\"white\",\"linecolor\":\"white\",\"ticks\":\"\"},\"bgcolor\":\"#E5ECF6\",\"caxis\":{\"gridcolor\":\"white\",\"linecolor\":\"white\",\"ticks\":\"\"}},\"title\":{\"x\":0.05},\"xaxis\":{\"automargin\":true,\"gridcolor\":\"white\",\"linecolor\":\"white\",\"ticks\":\"\",\"title\":{\"standoff\":15},\"zerolinecolor\":\"white\",\"zerolinewidth\":2},\"yaxis\":{\"automargin\":true,\"gridcolor\":\"white\",\"linecolor\":\"white\",\"ticks\":\"\",\"title\":{\"standoff\":15},\"zerolinecolor\":\"white\",\"zerolinewidth\":2}}},\"title\":{\"font\":{\"color\":\"#4D5663\"}},\"xaxis\":{\"gridcolor\":\"#E1E5ED\",\"showgrid\":true,\"tickfont\":{\"color\":\"#4D5663\"},\"title\":{\"font\":{\"color\":\"#4D5663\"},\"text\":\"\"},\"zerolinecolor\":\"#E1E5ED\"},\"yaxis\":{\"gridcolor\":\"#E1E5ED\",\"showgrid\":true,\"tickfont\":{\"color\":\"#4D5663\"},\"title\":{\"font\":{\"color\":\"#4D5663\"},\"text\":\"\"},\"zerolinecolor\":\"#E1E5ED\"}},                        {\"showLink\": true, \"linkText\": \"Export to plot.ly\", \"plotlyServerURL\": \"https://plot.ly\", \"responsive\": true}                    ).then(function(){\n",
       "                            \n",
       "var gd = document.getElementById('93488da0-1337-4749-9bf5-873f8e74c5a1');\n",
       "var x = new MutationObserver(function (mutations, observer) {{\n",
       "        var display = window.getComputedStyle(gd).display;\n",
       "        if (!display || display === 'none') {{\n",
       "            console.log([gd, 'removed!']);\n",
       "            Plotly.purge(gd);\n",
       "            observer.disconnect();\n",
       "        }}\n",
       "}});\n",
       "\n",
       "// Listen for the removal of the full notebook cells\n",
       "var notebookContainer = gd.closest('#notebook-container');\n",
       "if (notebookContainer) {{\n",
       "    x.observe(notebookContainer, {childList: true});\n",
       "}}\n",
       "\n",
       "// Listen for the clearing of the current output cell\n",
       "var outputEl = gd.closest('.output');\n",
       "if (outputEl) {{\n",
       "    x.observe(outputEl, {childList: true});\n",
       "}}\n",
       "\n",
       "                        })                };                });            </script>        </div>"
      ]
     },
     "metadata": {},
     "output_type": "display_data"
    }
   ],
   "source": [
    "rank_all.iplot();\n"
   ]
  },
  {
   "cell_type": "code",
   "execution_count": 6,
   "id": "198a4594",
   "metadata": {},
   "outputs": [
    {
     "data": {
      "application/vnd.plotly.v1+json": {
       "config": {
        "linkText": "Export to plot.ly",
        "plotlyServerURL": "https://plot.ly",
        "showLink": true
       },
       "data": [
        {
         "line": {
          "color": "rgba(255, 153, 51, 1.0)",
          "dash": "solid",
          "shape": "linear",
          "width": 1.3
         },
         "mode": "lines",
         "name": "new_quantity",
         "text": "",
         "type": "scatter",
         "x": [
          "United States",
          "China",
          "Japan",
          "Russian Federation",
          "India",
          "Canada",
          "Germany",
          "France",
          "Brazil",
          "United Kingdom",
          "Korea, Republic of",
          "Italy",
          "Spain",
          "Mexico",
          "South Africa",
          "Australia",
          "Other Asia",
          "Ukraine",
          "Saudi Arabia",
          "Iran (Islamic Rep. of)",
          "Turkey",
          "Poland",
          "Sweden",
          "Indonesia",
          "Norway",
          "Thailand",
          "Egypt",
          "Argentina",
          "Venezuela (Bolivar. Rep.)",
          "Netherlands",
          "Malaysia",
          "Belgium",
          "Pakistan",
          "Czechia",
          "Finland",
          "Kazakhstan",
          "Switzerland",
          "Austria",
          "United Arab Emirates",
          "Romania",
          "Viet Nam",
          "Greece",
          "Colombia",
          "Philippines",
          "Paraguay",
          "Chile",
          "Uzbekistan",
          "Israel",
          "Portugal",
          "Bulgaria",
          "Kuwait",
          "New Zealand",
          "Denmark",
          "Iraq",
          "Serbia",
          "Serbia and Montenegro",
          "Singapore",
          "Hungary",
          "Algeria",
          "China, Hong Kong SAR",
          "Syrian Arab Republic",
          "Belarus",
          "Slovakia",
          "Bangladesh",
          "Peru",
          "Ireland",
          "Puerto Rico",
          "Libya",
          "Nigeria",
          "Korea, Dem.Ppl's.Rep.",
          "Azerbaijan",
          "Morocco",
          "Qatar",
          "Tajikistan",
          "Cuba",
          "Slovenia",
          "Ecuador",
          "Kyrgyzstan",
          "Oman",
          "Bahrain",
          "Turkmenistan",
          "Tunisia",
          "Lithuania",
          "Croatia",
          "Dominican Republic",
          "Lebanon",
          "Bosnia and Herzegovina",
          "Mozambique",
          "Iceland",
          "Jordan",
          "Sudan",
          "Estonia",
          "Zambia",
          "Uruguay",
          "Sri Lanka",
          "Georgia",
          "Zimbabwe",
          "Ghana",
          "Costa Rica",
          "Guatemala",
          "Dem. Rep. of the Congo",
          "Trinidad and Tobago",
          "Myanmar",
          "T.F.Yug.Rep. Macedonia",
          "Armenia",
          "Kenya",
          "Panama",
          "Jamaica",
          "Côte d'Ivoire",
          "Honduras",
          "Bolivia (Plur. State of)",
          "Albania",
          "Latvia",
          "Yemen",
          "El Salvador",
          "Cameroon",
          "Bhutan",
          "Cyprus",
          "Mongolia",
          "Sudan (former)",
          "Ethiopia",
          "United Rep. of Tanzania",
          "Lao People's Dem. Rep.",
          "Angola",
          "Brunei Darussalam",
          "Montenegro",
          "Papua New Guinea",
          "Nicaragua",
          "Luxembourg",
          "Nepal",
          "Republic of Moldova",
          "Réunion",
          "Mauritius",
          "Malta",
          "Senegal",
          "Uganda",
          "New Caledonia",
          "Guam",
          "Bahamas",
          "Gabon",
          "Suriname",
          "Malawi",
          "Guadeloupe",
          "Martinique",
          "Namibia",
          "China, Macao SAR",
          "Neth. Antilles (former)",
          "Madagascar",
          "Mali",
          "United States Virgin Is.",
          "Botswana",
          "Cambodia",
          "Curaçao",
          "Barbados",
          "Guinea",
          "Afghanistan",
          "Aruba",
          "Guyana",
          "Fiji",
          "French Guiana",
          "Haiti",
          "Bermuda",
          "Congo",
          "French Polynesia",
          "Mauritania",
          "Cayman Islands",
          "Burkina Faso",
          "Swaziland",
          "South Sudan",
          "Lesotho",
          "Sint Maarten (Dutch part)",
          "Isle of Man",
          "Northern Mariana Islands",
          "Greenland",
          "St. Lucia",
          "Somalia",
          "State of Palestine",
          "Togo",
          "Djibouti",
          "Eritrea",
          "Liberia",
          "Faeroe Islands",
          "Seychelles",
          "Niger",
          "Cabo Verde",
          "Belize",
          "Antigua and Barbuda",
          "Rwanda",
          "Maldives",
          "Gambia",
          "St. Kitts-Nevis",
          "American Samoa",
          "Grenada",
          "Mayotte",
          "Gibraltar",
          "Equatorial Guinea",
          "Jersey",
          "Central African Rep.",
          "Chad",
          "Timor-Leste",
          "Turks and Caicos Islands",
          "Sierra Leone",
          "Bonaire, St Eustatius, Saba",
          "Burundi",
          "Guernsey",
          "St. Vincent-Grenadines",
          "Benin",
          "Samoa",
          "British Virgin Islands",
          "Palau",
          "Andorra",
          "Marshall Islands",
          "Dominica",
          "Micronesia (Fed. States of)",
          "Solomon Islands",
          "Liechtenstein",
          "Anguilla",
          "Vanuatu",
          "Tonga",
          "St. Pierre-Miquelon",
          "Comoros",
          "Sao Tome and Principe",
          "Guinea-Bissau",
          "Cook Islands",
          "Nauru",
          "Montserrat",
          "Wallis and Futuna Is.",
          "Kiribati",
          "Falkland Is. (Malvinas)",
          "St. Helena and Depend.",
          "Tuvalu",
          "Niue"
         ],
         "y": [
          4073798428.571429,
          2662482280.952381,
          1055113380.9523809,
          946786952.3809524,
          725987666.6666666,
          602727190.4761904,
          597286333.3333334,
          546508666.6666666,
          406001619.04761904,
          371577000,
          364341476.1904762,
          283327095.2380952,
          252758619.04761904,
          233581809.52380952,
          231669666.66666666,
          222251714.2857143,
          208248666.66666666,
          184982761.9047619,
          174847333.33333334,
          169480733.33333334,
          159703380.95238096,
          151331428.57142857,
          149793523.80952382,
          128770341.42857143,
          126304333.33333333,
          126290152.38095239,
          106250809.52380952,
          101721293.8095238,
          99962811.42857143,
          97843142.85714285,
          90514682.85714285,
          83217857.14285715,
          80631714.28571428,
          77393904.76190476,
          73569142.85714285,
          70738571.42857143,
          66507904.76190476,
          63062000,
          61983761.9047619,
          58230333.333333336,
          58010904.76190476,
          54238761.9047619,
          53319932.85714286,
          53214371.14285714,
          51528029.52380952,
          49760523.809523806,
          49315190.47619048,
          47545333.333333336,
          44793809.52380952,
          43536142.85714286,
          42599809.52380952,
          40984904.76190476,
          39088761.9047619,
          37585190.47619048,
          37264200,
          36246272.72727273,
          36242549.047619045,
          35421571.428571425,
          34906619.047619045,
          34824666.666666664,
          29339047.61904762,
          29318952.38095238,
          28707857.14285714,
          27211333.333333332,
          27068699.333333332,
          24694619.04761905,
          22158171.42857143,
          22135619.04761905,
          21085190.476190478,
          20581714.285714287,
          20189142.85714286,
          18369619.04761905,
          17187809.523809522,
          15954761.904761905,
          15944980.952380951,
          14793428.57142857,
          14581861.904761905,
          14384619.047619049,
          13880285.714285715,
          13282285.714285715,
          13114761.904761905,
          12669415.238095239,
          12604571.42857143,
          12281666.666666666,
          12129336.19047619,
          11855238.095238095,
          11814761.904761905,
          11005000,
          10816476.19047619,
          10499828.57142857,
          10497666.666666666,
          10189190.476190476,
          9364285.714285715,
          8663109.523809524,
          8375432.285714285,
          8341428.571428572,
          8260071.428571428,
          8134666.666666667,
          7789061.761904762,
          6968719.047619048,
          6747047.619047619,
          6724666.666666667,
          6636086.666666667,
          6503815.761904762,
          6260904.761904762,
          5948157.142857143,
          5897004.761904762,
          5767747.619047619,
          5254123.80952381,
          5144285.714285715,
          5122961.904761905,
          4957370,
          4888285.714285715,
          4837476.19047619,
          4805571.428571428,
          4479190.476190476,
          4058914.761904762,
          3971904.761904762,
          3850957.1428571427,
          3708111.111111111,
          3553523.8095238097,
          3529142.8571428573,
          3361765.076190476,
          3279571.4285714286,
          3148428.5714285714,
          3043500,
          2945619.0476190476,
          2883238.095238095,
          2825619.0476190476,
          2302411.904761905,
          2186190.476190476,
          2121137.1428571427,
          2096852.380952381,
          2039904.761904762,
          2001380.9523809524,
          1878964.2857142857,
          1849794.2857142857,
          1836290.4761904762,
          1795209.5238095238,
          1619142.857142857,
          1573933.3333333333,
          1504721.9047619049,
          1472714.2857142857,
          1419952.0952380951,
          1409523.8095238095,
          1355047.619047619,
          1162722.2222222222,
          1090154.9476190475,
          1045131.9047619047,
          985798.3333333334,
          925133.3333333334,
          911000,
          904000,
          891627.619047619,
          877113.8095238095,
          826219.0476190476,
          824085.7142857143,
          802248.5714285715,
          742773.9523809524,
          660714.2857142857,
          656095.2380952381,
          645057.1428571428,
          632952.380952381,
          579812.6666666666,
          540624.1428571428,
          494323.3333333333,
          480565.28571428574,
          479249.04761904763,
          468333.3333333333,
          456400,
          409766.6666666667,
          392669.23076923075,
          390309.5238095238,
          375780.1095238095,
          303123.6666666667,
          297428.5714285714,
          283580.95238095237,
          281857.14285714284,
          269904.7619047619,
          265619.04761904763,
          249238.09523809524,
          241070.95238095237,
          233208.57142857142,
          231855.95238095237,
          225302.85714285713,
          224269.2961904762,
          223419.04761904763,
          202805.90476190476,
          178676.52380952382,
          173661.90476190476,
          172671.42857142858,
          166032.66666666666,
          152320.95238095237,
          151982.38095238095,
          143952.38095238095,
          142204.7619047619,
          141690.47619047618,
          137571.42857142858,
          136666.66666666666,
          132048.07692307694,
          131138.09523809524,
          130294.42857142857,
          121533.33333333333,
          121201.95238095238,
          121138.46153846153,
          115114.28571428571,
          112952.38095238095,
          103961.90476190476,
          99047.61904761905,
          97319.04761904762,
          93619.04761904762,
          87819.04761904762,
          80737.14285714286,
          80421.90476190476,
          73947.61904761905,
          72200,
          63657.142857142855,
          51321.42857142857,
          43744.47619047619,
          43719.52380952381,
          39466.666666666664,
          39376.19047619047,
          32587,
          27542.85714285714,
          27188.285714285714,
          19628.571428571428,
          19259.428571428572,
          17661.904761904763,
          15761.904761904761,
          7965.238095238095,
          3764.7619047619046,
          3057.2539714285717
         ]
        }
       ],
       "layout": {
        "legend": {
         "bgcolor": "#F5F6F9",
         "font": {
          "color": "#4D5663"
         }
        },
        "paper_bgcolor": "#F5F6F9",
        "plot_bgcolor": "#F5F6F9",
        "template": {
         "data": {
          "bar": [
           {
            "error_x": {
             "color": "#2a3f5f"
            },
            "error_y": {
             "color": "#2a3f5f"
            },
            "marker": {
             "line": {
              "color": "#E5ECF6",
              "width": 0.5
             },
             "pattern": {
              "fillmode": "overlay",
              "size": 10,
              "solidity": 0.2
             }
            },
            "type": "bar"
           }
          ],
          "barpolar": [
           {
            "marker": {
             "line": {
              "color": "#E5ECF6",
              "width": 0.5
             },
             "pattern": {
              "fillmode": "overlay",
              "size": 10,
              "solidity": 0.2
             }
            },
            "type": "barpolar"
           }
          ],
          "carpet": [
           {
            "aaxis": {
             "endlinecolor": "#2a3f5f",
             "gridcolor": "white",
             "linecolor": "white",
             "minorgridcolor": "white",
             "startlinecolor": "#2a3f5f"
            },
            "baxis": {
             "endlinecolor": "#2a3f5f",
             "gridcolor": "white",
             "linecolor": "white",
             "minorgridcolor": "white",
             "startlinecolor": "#2a3f5f"
            },
            "type": "carpet"
           }
          ],
          "choropleth": [
           {
            "colorbar": {
             "outlinewidth": 0,
             "ticks": ""
            },
            "type": "choropleth"
           }
          ],
          "contour": [
           {
            "colorbar": {
             "outlinewidth": 0,
             "ticks": ""
            },
            "colorscale": [
             [
              0,
              "#0d0887"
             ],
             [
              0.1111111111111111,
              "#46039f"
             ],
             [
              0.2222222222222222,
              "#7201a8"
             ],
             [
              0.3333333333333333,
              "#9c179e"
             ],
             [
              0.4444444444444444,
              "#bd3786"
             ],
             [
              0.5555555555555556,
              "#d8576b"
             ],
             [
              0.6666666666666666,
              "#ed7953"
             ],
             [
              0.7777777777777778,
              "#fb9f3a"
             ],
             [
              0.8888888888888888,
              "#fdca26"
             ],
             [
              1,
              "#f0f921"
             ]
            ],
            "type": "contour"
           }
          ],
          "contourcarpet": [
           {
            "colorbar": {
             "outlinewidth": 0,
             "ticks": ""
            },
            "type": "contourcarpet"
           }
          ],
          "heatmap": [
           {
            "colorbar": {
             "outlinewidth": 0,
             "ticks": ""
            },
            "colorscale": [
             [
              0,
              "#0d0887"
             ],
             [
              0.1111111111111111,
              "#46039f"
             ],
             [
              0.2222222222222222,
              "#7201a8"
             ],
             [
              0.3333333333333333,
              "#9c179e"
             ],
             [
              0.4444444444444444,
              "#bd3786"
             ],
             [
              0.5555555555555556,
              "#d8576b"
             ],
             [
              0.6666666666666666,
              "#ed7953"
             ],
             [
              0.7777777777777778,
              "#fb9f3a"
             ],
             [
              0.8888888888888888,
              "#fdca26"
             ],
             [
              1,
              "#f0f921"
             ]
            ],
            "type": "heatmap"
           }
          ],
          "heatmapgl": [
           {
            "colorbar": {
             "outlinewidth": 0,
             "ticks": ""
            },
            "colorscale": [
             [
              0,
              "#0d0887"
             ],
             [
              0.1111111111111111,
              "#46039f"
             ],
             [
              0.2222222222222222,
              "#7201a8"
             ],
             [
              0.3333333333333333,
              "#9c179e"
             ],
             [
              0.4444444444444444,
              "#bd3786"
             ],
             [
              0.5555555555555556,
              "#d8576b"
             ],
             [
              0.6666666666666666,
              "#ed7953"
             ],
             [
              0.7777777777777778,
              "#fb9f3a"
             ],
             [
              0.8888888888888888,
              "#fdca26"
             ],
             [
              1,
              "#f0f921"
             ]
            ],
            "type": "heatmapgl"
           }
          ],
          "histogram": [
           {
            "marker": {
             "pattern": {
              "fillmode": "overlay",
              "size": 10,
              "solidity": 0.2
             }
            },
            "type": "histogram"
           }
          ],
          "histogram2d": [
           {
            "colorbar": {
             "outlinewidth": 0,
             "ticks": ""
            },
            "colorscale": [
             [
              0,
              "#0d0887"
             ],
             [
              0.1111111111111111,
              "#46039f"
             ],
             [
              0.2222222222222222,
              "#7201a8"
             ],
             [
              0.3333333333333333,
              "#9c179e"
             ],
             [
              0.4444444444444444,
              "#bd3786"
             ],
             [
              0.5555555555555556,
              "#d8576b"
             ],
             [
              0.6666666666666666,
              "#ed7953"
             ],
             [
              0.7777777777777778,
              "#fb9f3a"
             ],
             [
              0.8888888888888888,
              "#fdca26"
             ],
             [
              1,
              "#f0f921"
             ]
            ],
            "type": "histogram2d"
           }
          ],
          "histogram2dcontour": [
           {
            "colorbar": {
             "outlinewidth": 0,
             "ticks": ""
            },
            "colorscale": [
             [
              0,
              "#0d0887"
             ],
             [
              0.1111111111111111,
              "#46039f"
             ],
             [
              0.2222222222222222,
              "#7201a8"
             ],
             [
              0.3333333333333333,
              "#9c179e"
             ],
             [
              0.4444444444444444,
              "#bd3786"
             ],
             [
              0.5555555555555556,
              "#d8576b"
             ],
             [
              0.6666666666666666,
              "#ed7953"
             ],
             [
              0.7777777777777778,
              "#fb9f3a"
             ],
             [
              0.8888888888888888,
              "#fdca26"
             ],
             [
              1,
              "#f0f921"
             ]
            ],
            "type": "histogram2dcontour"
           }
          ],
          "mesh3d": [
           {
            "colorbar": {
             "outlinewidth": 0,
             "ticks": ""
            },
            "type": "mesh3d"
           }
          ],
          "parcoords": [
           {
            "line": {
             "colorbar": {
              "outlinewidth": 0,
              "ticks": ""
             }
            },
            "type": "parcoords"
           }
          ],
          "pie": [
           {
            "automargin": true,
            "type": "pie"
           }
          ],
          "scatter": [
           {
            "marker": {
             "colorbar": {
              "outlinewidth": 0,
              "ticks": ""
             }
            },
            "type": "scatter"
           }
          ],
          "scatter3d": [
           {
            "line": {
             "colorbar": {
              "outlinewidth": 0,
              "ticks": ""
             }
            },
            "marker": {
             "colorbar": {
              "outlinewidth": 0,
              "ticks": ""
             }
            },
            "type": "scatter3d"
           }
          ],
          "scattercarpet": [
           {
            "marker": {
             "colorbar": {
              "outlinewidth": 0,
              "ticks": ""
             }
            },
            "type": "scattercarpet"
           }
          ],
          "scattergeo": [
           {
            "marker": {
             "colorbar": {
              "outlinewidth": 0,
              "ticks": ""
             }
            },
            "type": "scattergeo"
           }
          ],
          "scattergl": [
           {
            "marker": {
             "colorbar": {
              "outlinewidth": 0,
              "ticks": ""
             }
            },
            "type": "scattergl"
           }
          ],
          "scattermapbox": [
           {
            "marker": {
             "colorbar": {
              "outlinewidth": 0,
              "ticks": ""
             }
            },
            "type": "scattermapbox"
           }
          ],
          "scatterpolar": [
           {
            "marker": {
             "colorbar": {
              "outlinewidth": 0,
              "ticks": ""
             }
            },
            "type": "scatterpolar"
           }
          ],
          "scatterpolargl": [
           {
            "marker": {
             "colorbar": {
              "outlinewidth": 0,
              "ticks": ""
             }
            },
            "type": "scatterpolargl"
           }
          ],
          "scatterternary": [
           {
            "marker": {
             "colorbar": {
              "outlinewidth": 0,
              "ticks": ""
             }
            },
            "type": "scatterternary"
           }
          ],
          "surface": [
           {
            "colorbar": {
             "outlinewidth": 0,
             "ticks": ""
            },
            "colorscale": [
             [
              0,
              "#0d0887"
             ],
             [
              0.1111111111111111,
              "#46039f"
             ],
             [
              0.2222222222222222,
              "#7201a8"
             ],
             [
              0.3333333333333333,
              "#9c179e"
             ],
             [
              0.4444444444444444,
              "#bd3786"
             ],
             [
              0.5555555555555556,
              "#d8576b"
             ],
             [
              0.6666666666666666,
              "#ed7953"
             ],
             [
              0.7777777777777778,
              "#fb9f3a"
             ],
             [
              0.8888888888888888,
              "#fdca26"
             ],
             [
              1,
              "#f0f921"
             ]
            ],
            "type": "surface"
           }
          ],
          "table": [
           {
            "cells": {
             "fill": {
              "color": "#EBF0F8"
             },
             "line": {
              "color": "white"
             }
            },
            "header": {
             "fill": {
              "color": "#C8D4E3"
             },
             "line": {
              "color": "white"
             }
            },
            "type": "table"
           }
          ]
         },
         "layout": {
          "annotationdefaults": {
           "arrowcolor": "#2a3f5f",
           "arrowhead": 0,
           "arrowwidth": 1
          },
          "autotypenumbers": "strict",
          "coloraxis": {
           "colorbar": {
            "outlinewidth": 0,
            "ticks": ""
           }
          },
          "colorscale": {
           "diverging": [
            [
             0,
             "#8e0152"
            ],
            [
             0.1,
             "#c51b7d"
            ],
            [
             0.2,
             "#de77ae"
            ],
            [
             0.3,
             "#f1b6da"
            ],
            [
             0.4,
             "#fde0ef"
            ],
            [
             0.5,
             "#f7f7f7"
            ],
            [
             0.6,
             "#e6f5d0"
            ],
            [
             0.7,
             "#b8e186"
            ],
            [
             0.8,
             "#7fbc41"
            ],
            [
             0.9,
             "#4d9221"
            ],
            [
             1,
             "#276419"
            ]
           ],
           "sequential": [
            [
             0,
             "#0d0887"
            ],
            [
             0.1111111111111111,
             "#46039f"
            ],
            [
             0.2222222222222222,
             "#7201a8"
            ],
            [
             0.3333333333333333,
             "#9c179e"
            ],
            [
             0.4444444444444444,
             "#bd3786"
            ],
            [
             0.5555555555555556,
             "#d8576b"
            ],
            [
             0.6666666666666666,
             "#ed7953"
            ],
            [
             0.7777777777777778,
             "#fb9f3a"
            ],
            [
             0.8888888888888888,
             "#fdca26"
            ],
            [
             1,
             "#f0f921"
            ]
           ],
           "sequentialminus": [
            [
             0,
             "#0d0887"
            ],
            [
             0.1111111111111111,
             "#46039f"
            ],
            [
             0.2222222222222222,
             "#7201a8"
            ],
            [
             0.3333333333333333,
             "#9c179e"
            ],
            [
             0.4444444444444444,
             "#bd3786"
            ],
            [
             0.5555555555555556,
             "#d8576b"
            ],
            [
             0.6666666666666666,
             "#ed7953"
            ],
            [
             0.7777777777777778,
             "#fb9f3a"
            ],
            [
             0.8888888888888888,
             "#fdca26"
            ],
            [
             1,
             "#f0f921"
            ]
           ]
          },
          "colorway": [
           "#636efa",
           "#EF553B",
           "#00cc96",
           "#ab63fa",
           "#FFA15A",
           "#19d3f3",
           "#FF6692",
           "#B6E880",
           "#FF97FF",
           "#FECB52"
          ],
          "font": {
           "color": "#2a3f5f"
          },
          "geo": {
           "bgcolor": "white",
           "lakecolor": "white",
           "landcolor": "#E5ECF6",
           "showlakes": true,
           "showland": true,
           "subunitcolor": "white"
          },
          "hoverlabel": {
           "align": "left"
          },
          "hovermode": "closest",
          "mapbox": {
           "style": "light"
          },
          "paper_bgcolor": "white",
          "plot_bgcolor": "#E5ECF6",
          "polar": {
           "angularaxis": {
            "gridcolor": "white",
            "linecolor": "white",
            "ticks": ""
           },
           "bgcolor": "#E5ECF6",
           "radialaxis": {
            "gridcolor": "white",
            "linecolor": "white",
            "ticks": ""
           }
          },
          "scene": {
           "xaxis": {
            "backgroundcolor": "#E5ECF6",
            "gridcolor": "white",
            "gridwidth": 2,
            "linecolor": "white",
            "showbackground": true,
            "ticks": "",
            "zerolinecolor": "white"
           },
           "yaxis": {
            "backgroundcolor": "#E5ECF6",
            "gridcolor": "white",
            "gridwidth": 2,
            "linecolor": "white",
            "showbackground": true,
            "ticks": "",
            "zerolinecolor": "white"
           },
           "zaxis": {
            "backgroundcolor": "#E5ECF6",
            "gridcolor": "white",
            "gridwidth": 2,
            "linecolor": "white",
            "showbackground": true,
            "ticks": "",
            "zerolinecolor": "white"
           }
          },
          "shapedefaults": {
           "line": {
            "color": "#2a3f5f"
           }
          },
          "ternary": {
           "aaxis": {
            "gridcolor": "white",
            "linecolor": "white",
            "ticks": ""
           },
           "baxis": {
            "gridcolor": "white",
            "linecolor": "white",
            "ticks": ""
           },
           "bgcolor": "#E5ECF6",
           "caxis": {
            "gridcolor": "white",
            "linecolor": "white",
            "ticks": ""
           }
          },
          "title": {
           "x": 0.05
          },
          "xaxis": {
           "automargin": true,
           "gridcolor": "white",
           "linecolor": "white",
           "ticks": "",
           "title": {
            "standoff": 15
           },
           "zerolinecolor": "white",
           "zerolinewidth": 2
          },
          "yaxis": {
           "automargin": true,
           "gridcolor": "white",
           "linecolor": "white",
           "ticks": "",
           "title": {
            "standoff": 15
           },
           "zerolinecolor": "white",
           "zerolinewidth": 2
          }
         }
        },
        "title": {
         "font": {
          "color": "#4D5663"
         }
        },
        "xaxis": {
         "gridcolor": "#E1E5ED",
         "showgrid": true,
         "tickfont": {
          "color": "#4D5663"
         },
         "title": {
          "font": {
           "color": "#4D5663"
          },
          "text": ""
         },
         "zerolinecolor": "#E1E5ED"
        },
        "yaxis": {
         "gridcolor": "#E1E5ED",
         "showgrid": true,
         "tickfont": {
          "color": "#4D5663"
         },
         "title": {
          "font": {
           "color": "#4D5663"
          },
          "text": ""
         },
         "zerolinecolor": "#E1E5ED"
        }
       }
      },
      "text/html": [
       "<div>                            <div id=\"d962f115-a209-4bee-b5ad-89e7a38a65ef\" class=\"plotly-graph-div\" style=\"height:525px; width:100%;\"></div>            <script type=\"text/javascript\">                require([\"plotly\"], function(Plotly) {                    window.PLOTLYENV=window.PLOTLYENV || {};\n",
       "                    window.PLOTLYENV.BASE_URL='https://plot.ly';                                    if (document.getElementById(\"d962f115-a209-4bee-b5ad-89e7a38a65ef\")) {                    Plotly.newPlot(                        \"d962f115-a209-4bee-b5ad-89e7a38a65ef\",                        [{\"line\":{\"color\":\"rgba(255, 153, 51, 1.0)\",\"dash\":\"solid\",\"shape\":\"linear\",\"width\":1.3},\"mode\":\"lines\",\"name\":\"new_quantity\",\"text\":\"\",\"x\":[\"United States\",\"China\",\"Japan\",\"Russian Federation\",\"India\",\"Canada\",\"Germany\",\"France\",\"Brazil\",\"United Kingdom\",\"Korea, Republic of\",\"Italy\",\"Spain\",\"Mexico\",\"South Africa\",\"Australia\",\"Other Asia\",\"Ukraine\",\"Saudi Arabia\",\"Iran (Islamic Rep. of)\",\"Turkey\",\"Poland\",\"Sweden\",\"Indonesia\",\"Norway\",\"Thailand\",\"Egypt\",\"Argentina\",\"Venezuela (Bolivar. Rep.)\",\"Netherlands\",\"Malaysia\",\"Belgium\",\"Pakistan\",\"Czechia\",\"Finland\",\"Kazakhstan\",\"Switzerland\",\"Austria\",\"United Arab Emirates\",\"Romania\",\"Viet Nam\",\"Greece\",\"Colombia\",\"Philippines\",\"Paraguay\",\"Chile\",\"Uzbekistan\",\"Israel\",\"Portugal\",\"Bulgaria\",\"Kuwait\",\"New Zealand\",\"Denmark\",\"Iraq\",\"Serbia\",\"Serbia and Montenegro\",\"Singapore\",\"Hungary\",\"Algeria\",\"China, Hong Kong SAR\",\"Syrian Arab Republic\",\"Belarus\",\"Slovakia\",\"Bangladesh\",\"Peru\",\"Ireland\",\"Puerto Rico\",\"Libya\",\"Nigeria\",\"Korea, Dem.Ppl's.Rep.\",\"Azerbaijan\",\"Morocco\",\"Qatar\",\"Tajikistan\",\"Cuba\",\"Slovenia\",\"Ecuador\",\"Kyrgyzstan\",\"Oman\",\"Bahrain\",\"Turkmenistan\",\"Tunisia\",\"Lithuania\",\"Croatia\",\"Dominican Republic\",\"Lebanon\",\"Bosnia and Herzegovina\",\"Mozambique\",\"Iceland\",\"Jordan\",\"Sudan\",\"Estonia\",\"Zambia\",\"Uruguay\",\"Sri Lanka\",\"Georgia\",\"Zimbabwe\",\"Ghana\",\"Costa Rica\",\"Guatemala\",\"Dem. Rep. of the Congo\",\"Trinidad and Tobago\",\"Myanmar\",\"T.F.Yug.Rep. Macedonia\",\"Armenia\",\"Kenya\",\"Panama\",\"Jamaica\",\"C\\u00f4te d'Ivoire\",\"Honduras\",\"Bolivia (Plur. State of)\",\"Albania\",\"Latvia\",\"Yemen\",\"El Salvador\",\"Cameroon\",\"Bhutan\",\"Cyprus\",\"Mongolia\",\"Sudan (former)\",\"Ethiopia\",\"United Rep. of Tanzania\",\"Lao People's Dem. Rep.\",\"Angola\",\"Brunei Darussalam\",\"Montenegro\",\"Papua New Guinea\",\"Nicaragua\",\"Luxembourg\",\"Nepal\",\"Republic of Moldova\",\"R\\u00e9union\",\"Mauritius\",\"Malta\",\"Senegal\",\"Uganda\",\"New Caledonia\",\"Guam\",\"Bahamas\",\"Gabon\",\"Suriname\",\"Malawi\",\"Guadeloupe\",\"Martinique\",\"Namibia\",\"China, Macao SAR\",\"Neth. Antilles (former)\",\"Madagascar\",\"Mali\",\"United States Virgin Is.\",\"Botswana\",\"Cambodia\",\"Cura\\u00e7ao\",\"Barbados\",\"Guinea\",\"Afghanistan\",\"Aruba\",\"Guyana\",\"Fiji\",\"French Guiana\",\"Haiti\",\"Bermuda\",\"Congo\",\"French Polynesia\",\"Mauritania\",\"Cayman Islands\",\"Burkina Faso\",\"Swaziland\",\"South Sudan\",\"Lesotho\",\"Sint Maarten (Dutch part)\",\"Isle of Man\",\"Northern Mariana Islands\",\"Greenland\",\"St. Lucia\",\"Somalia\",\"State of Palestine\",\"Togo\",\"Djibouti\",\"Eritrea\",\"Liberia\",\"Faeroe Islands\",\"Seychelles\",\"Niger\",\"Cabo Verde\",\"Belize\",\"Antigua and Barbuda\",\"Rwanda\",\"Maldives\",\"Gambia\",\"St. Kitts-Nevis\",\"American Samoa\",\"Grenada\",\"Mayotte\",\"Gibraltar\",\"Equatorial Guinea\",\"Jersey\",\"Central African Rep.\",\"Chad\",\"Timor-Leste\",\"Turks and Caicos Islands\",\"Sierra Leone\",\"Bonaire, St Eustatius, Saba\",\"Burundi\",\"Guernsey\",\"St. Vincent-Grenadines\",\"Benin\",\"Samoa\",\"British Virgin Islands\",\"Palau\",\"Andorra\",\"Marshall Islands\",\"Dominica\",\"Micronesia (Fed. States of)\",\"Solomon Islands\",\"Liechtenstein\",\"Anguilla\",\"Vanuatu\",\"Tonga\",\"St. Pierre-Miquelon\",\"Comoros\",\"Sao Tome and Principe\",\"Guinea-Bissau\",\"Cook Islands\",\"Nauru\",\"Montserrat\",\"Wallis and Futuna Is.\",\"Kiribati\",\"Falkland Is. (Malvinas)\",\"St. Helena and Depend.\",\"Tuvalu\",\"Niue\"],\"y\":[4073798428.571429,2662482280.952381,1055113380.9523809,946786952.3809524,725987666.6666666,602727190.4761904,597286333.3333334,546508666.6666666,406001619.04761904,371577000.0,364341476.1904762,283327095.2380952,252758619.04761904,233581809.52380952,231669666.66666666,222251714.2857143,208248666.66666666,184982761.9047619,174847333.33333334,169480733.33333334,159703380.95238096,151331428.57142857,149793523.80952382,128770341.42857143,126304333.33333333,126290152.38095239,106250809.52380952,101721293.8095238,99962811.42857143,97843142.85714285,90514682.85714285,83217857.14285715,80631714.28571428,77393904.76190476,73569142.85714285,70738571.42857143,66507904.76190476,63062000.0,61983761.9047619,58230333.333333336,58010904.76190476,54238761.9047619,53319932.85714286,53214371.14285714,51528029.52380952,49760523.809523806,49315190.47619048,47545333.333333336,44793809.52380952,43536142.85714286,42599809.52380952,40984904.76190476,39088761.9047619,37585190.47619048,37264200.0,36246272.72727273,36242549.047619045,35421571.428571425,34906619.047619045,34824666.666666664,29339047.61904762,29318952.38095238,28707857.14285714,27211333.333333332,27068699.333333332,24694619.04761905,22158171.42857143,22135619.04761905,21085190.476190478,20581714.285714287,20189142.85714286,18369619.04761905,17187809.523809522,15954761.904761905,15944980.952380951,14793428.57142857,14581861.904761905,14384619.047619049,13880285.714285715,13282285.714285715,13114761.904761905,12669415.238095239,12604571.42857143,12281666.666666666,12129336.19047619,11855238.095238095,11814761.904761905,11005000.0,10816476.19047619,10499828.57142857,10497666.666666666,10189190.476190476,9364285.714285715,8663109.523809524,8375432.285714285,8341428.571428572,8260071.428571428,8134666.666666667,7789061.761904762,6968719.047619048,6747047.619047619,6724666.666666667,6636086.666666667,6503815.761904762,6260904.761904762,5948157.142857143,5897004.761904762,5767747.619047619,5254123.80952381,5144285.714285715,5122961.904761905,4957370.0,4888285.714285715,4837476.19047619,4805571.428571428,4479190.476190476,4058914.761904762,3971904.761904762,3850957.1428571427,3708111.111111111,3553523.8095238097,3529142.8571428573,3361765.076190476,3279571.4285714286,3148428.5714285714,3043500.0,2945619.0476190476,2883238.095238095,2825619.0476190476,2302411.904761905,2186190.476190476,2121137.1428571427,2096852.380952381,2039904.761904762,2001380.9523809524,1878964.2857142857,1849794.2857142857,1836290.4761904762,1795209.5238095238,1619142.857142857,1573933.3333333333,1504721.9047619049,1472714.2857142857,1419952.0952380951,1409523.8095238095,1355047.619047619,1162722.2222222222,1090154.9476190475,1045131.9047619047,985798.3333333334,925133.3333333334,911000.0,904000.0,891627.619047619,877113.8095238095,826219.0476190476,824085.7142857143,802248.5714285715,742773.9523809524,660714.2857142857,656095.2380952381,645057.1428571428,632952.380952381,579812.6666666666,540624.1428571428,494323.3333333333,480565.28571428574,479249.04761904763,468333.3333333333,456400.0,409766.6666666667,392669.23076923075,390309.5238095238,375780.1095238095,303123.6666666667,297428.5714285714,283580.95238095237,281857.14285714284,269904.7619047619,265619.04761904763,249238.09523809524,241070.95238095237,233208.57142857142,231855.95238095237,225302.85714285713,224269.2961904762,223419.04761904763,202805.90476190476,178676.52380952382,173661.90476190476,172671.42857142858,166032.66666666666,152320.95238095237,151982.38095238095,143952.38095238095,142204.7619047619,141690.47619047618,137571.42857142858,136666.66666666666,132048.07692307694,131138.09523809524,130294.42857142857,121533.33333333333,121201.95238095238,121138.46153846153,115114.28571428571,112952.38095238095,103961.90476190476,99047.61904761905,97319.04761904762,93619.04761904762,87819.04761904762,80737.14285714286,80421.90476190476,73947.61904761905,72200.0,63657.142857142855,51321.42857142857,43744.47619047619,43719.52380952381,39466.666666666664,39376.19047619047,32587.0,27542.85714285714,27188.285714285714,19628.571428571428,19259.428571428572,17661.904761904763,15761.904761904761,7965.238095238095,3764.7619047619046,3057.2539714285717],\"type\":\"scatter\"}],                        {\"legend\":{\"bgcolor\":\"#F5F6F9\",\"font\":{\"color\":\"#4D5663\"}},\"paper_bgcolor\":\"#F5F6F9\",\"plot_bgcolor\":\"#F5F6F9\",\"template\":{\"data\":{\"barpolar\":[{\"marker\":{\"line\":{\"color\":\"#E5ECF6\",\"width\":0.5},\"pattern\":{\"fillmode\":\"overlay\",\"size\":10,\"solidity\":0.2}},\"type\":\"barpolar\"}],\"bar\":[{\"error_x\":{\"color\":\"#2a3f5f\"},\"error_y\":{\"color\":\"#2a3f5f\"},\"marker\":{\"line\":{\"color\":\"#E5ECF6\",\"width\":0.5},\"pattern\":{\"fillmode\":\"overlay\",\"size\":10,\"solidity\":0.2}},\"type\":\"bar\"}],\"carpet\":[{\"aaxis\":{\"endlinecolor\":\"#2a3f5f\",\"gridcolor\":\"white\",\"linecolor\":\"white\",\"minorgridcolor\":\"white\",\"startlinecolor\":\"#2a3f5f\"},\"baxis\":{\"endlinecolor\":\"#2a3f5f\",\"gridcolor\":\"white\",\"linecolor\":\"white\",\"minorgridcolor\":\"white\",\"startlinecolor\":\"#2a3f5f\"},\"type\":\"carpet\"}],\"choropleth\":[{\"colorbar\":{\"outlinewidth\":0,\"ticks\":\"\"},\"type\":\"choropleth\"}],\"contourcarpet\":[{\"colorbar\":{\"outlinewidth\":0,\"ticks\":\"\"},\"type\":\"contourcarpet\"}],\"contour\":[{\"colorbar\":{\"outlinewidth\":0,\"ticks\":\"\"},\"colorscale\":[[0.0,\"#0d0887\"],[0.1111111111111111,\"#46039f\"],[0.2222222222222222,\"#7201a8\"],[0.3333333333333333,\"#9c179e\"],[0.4444444444444444,\"#bd3786\"],[0.5555555555555556,\"#d8576b\"],[0.6666666666666666,\"#ed7953\"],[0.7777777777777778,\"#fb9f3a\"],[0.8888888888888888,\"#fdca26\"],[1.0,\"#f0f921\"]],\"type\":\"contour\"}],\"heatmapgl\":[{\"colorbar\":{\"outlinewidth\":0,\"ticks\":\"\"},\"colorscale\":[[0.0,\"#0d0887\"],[0.1111111111111111,\"#46039f\"],[0.2222222222222222,\"#7201a8\"],[0.3333333333333333,\"#9c179e\"],[0.4444444444444444,\"#bd3786\"],[0.5555555555555556,\"#d8576b\"],[0.6666666666666666,\"#ed7953\"],[0.7777777777777778,\"#fb9f3a\"],[0.8888888888888888,\"#fdca26\"],[1.0,\"#f0f921\"]],\"type\":\"heatmapgl\"}],\"heatmap\":[{\"colorbar\":{\"outlinewidth\":0,\"ticks\":\"\"},\"colorscale\":[[0.0,\"#0d0887\"],[0.1111111111111111,\"#46039f\"],[0.2222222222222222,\"#7201a8\"],[0.3333333333333333,\"#9c179e\"],[0.4444444444444444,\"#bd3786\"],[0.5555555555555556,\"#d8576b\"],[0.6666666666666666,\"#ed7953\"],[0.7777777777777778,\"#fb9f3a\"],[0.8888888888888888,\"#fdca26\"],[1.0,\"#f0f921\"]],\"type\":\"heatmap\"}],\"histogram2dcontour\":[{\"colorbar\":{\"outlinewidth\":0,\"ticks\":\"\"},\"colorscale\":[[0.0,\"#0d0887\"],[0.1111111111111111,\"#46039f\"],[0.2222222222222222,\"#7201a8\"],[0.3333333333333333,\"#9c179e\"],[0.4444444444444444,\"#bd3786\"],[0.5555555555555556,\"#d8576b\"],[0.6666666666666666,\"#ed7953\"],[0.7777777777777778,\"#fb9f3a\"],[0.8888888888888888,\"#fdca26\"],[1.0,\"#f0f921\"]],\"type\":\"histogram2dcontour\"}],\"histogram2d\":[{\"colorbar\":{\"outlinewidth\":0,\"ticks\":\"\"},\"colorscale\":[[0.0,\"#0d0887\"],[0.1111111111111111,\"#46039f\"],[0.2222222222222222,\"#7201a8\"],[0.3333333333333333,\"#9c179e\"],[0.4444444444444444,\"#bd3786\"],[0.5555555555555556,\"#d8576b\"],[0.6666666666666666,\"#ed7953\"],[0.7777777777777778,\"#fb9f3a\"],[0.8888888888888888,\"#fdca26\"],[1.0,\"#f0f921\"]],\"type\":\"histogram2d\"}],\"histogram\":[{\"marker\":{\"pattern\":{\"fillmode\":\"overlay\",\"size\":10,\"solidity\":0.2}},\"type\":\"histogram\"}],\"mesh3d\":[{\"colorbar\":{\"outlinewidth\":0,\"ticks\":\"\"},\"type\":\"mesh3d\"}],\"parcoords\":[{\"line\":{\"colorbar\":{\"outlinewidth\":0,\"ticks\":\"\"}},\"type\":\"parcoords\"}],\"pie\":[{\"automargin\":true,\"type\":\"pie\"}],\"scatter3d\":[{\"line\":{\"colorbar\":{\"outlinewidth\":0,\"ticks\":\"\"}},\"marker\":{\"colorbar\":{\"outlinewidth\":0,\"ticks\":\"\"}},\"type\":\"scatter3d\"}],\"scattercarpet\":[{\"marker\":{\"colorbar\":{\"outlinewidth\":0,\"ticks\":\"\"}},\"type\":\"scattercarpet\"}],\"scattergeo\":[{\"marker\":{\"colorbar\":{\"outlinewidth\":0,\"ticks\":\"\"}},\"type\":\"scattergeo\"}],\"scattergl\":[{\"marker\":{\"colorbar\":{\"outlinewidth\":0,\"ticks\":\"\"}},\"type\":\"scattergl\"}],\"scattermapbox\":[{\"marker\":{\"colorbar\":{\"outlinewidth\":0,\"ticks\":\"\"}},\"type\":\"scattermapbox\"}],\"scatterpolargl\":[{\"marker\":{\"colorbar\":{\"outlinewidth\":0,\"ticks\":\"\"}},\"type\":\"scatterpolargl\"}],\"scatterpolar\":[{\"marker\":{\"colorbar\":{\"outlinewidth\":0,\"ticks\":\"\"}},\"type\":\"scatterpolar\"}],\"scatter\":[{\"marker\":{\"colorbar\":{\"outlinewidth\":0,\"ticks\":\"\"}},\"type\":\"scatter\"}],\"scatterternary\":[{\"marker\":{\"colorbar\":{\"outlinewidth\":0,\"ticks\":\"\"}},\"type\":\"scatterternary\"}],\"surface\":[{\"colorbar\":{\"outlinewidth\":0,\"ticks\":\"\"},\"colorscale\":[[0.0,\"#0d0887\"],[0.1111111111111111,\"#46039f\"],[0.2222222222222222,\"#7201a8\"],[0.3333333333333333,\"#9c179e\"],[0.4444444444444444,\"#bd3786\"],[0.5555555555555556,\"#d8576b\"],[0.6666666666666666,\"#ed7953\"],[0.7777777777777778,\"#fb9f3a\"],[0.8888888888888888,\"#fdca26\"],[1.0,\"#f0f921\"]],\"type\":\"surface\"}],\"table\":[{\"cells\":{\"fill\":{\"color\":\"#EBF0F8\"},\"line\":{\"color\":\"white\"}},\"header\":{\"fill\":{\"color\":\"#C8D4E3\"},\"line\":{\"color\":\"white\"}},\"type\":\"table\"}]},\"layout\":{\"annotationdefaults\":{\"arrowcolor\":\"#2a3f5f\",\"arrowhead\":0,\"arrowwidth\":1},\"autotypenumbers\":\"strict\",\"coloraxis\":{\"colorbar\":{\"outlinewidth\":0,\"ticks\":\"\"}},\"colorscale\":{\"diverging\":[[0,\"#8e0152\"],[0.1,\"#c51b7d\"],[0.2,\"#de77ae\"],[0.3,\"#f1b6da\"],[0.4,\"#fde0ef\"],[0.5,\"#f7f7f7\"],[0.6,\"#e6f5d0\"],[0.7,\"#b8e186\"],[0.8,\"#7fbc41\"],[0.9,\"#4d9221\"],[1,\"#276419\"]],\"sequential\":[[0.0,\"#0d0887\"],[0.1111111111111111,\"#46039f\"],[0.2222222222222222,\"#7201a8\"],[0.3333333333333333,\"#9c179e\"],[0.4444444444444444,\"#bd3786\"],[0.5555555555555556,\"#d8576b\"],[0.6666666666666666,\"#ed7953\"],[0.7777777777777778,\"#fb9f3a\"],[0.8888888888888888,\"#fdca26\"],[1.0,\"#f0f921\"]],\"sequentialminus\":[[0.0,\"#0d0887\"],[0.1111111111111111,\"#46039f\"],[0.2222222222222222,\"#7201a8\"],[0.3333333333333333,\"#9c179e\"],[0.4444444444444444,\"#bd3786\"],[0.5555555555555556,\"#d8576b\"],[0.6666666666666666,\"#ed7953\"],[0.7777777777777778,\"#fb9f3a\"],[0.8888888888888888,\"#fdca26\"],[1.0,\"#f0f921\"]]},\"colorway\":[\"#636efa\",\"#EF553B\",\"#00cc96\",\"#ab63fa\",\"#FFA15A\",\"#19d3f3\",\"#FF6692\",\"#B6E880\",\"#FF97FF\",\"#FECB52\"],\"font\":{\"color\":\"#2a3f5f\"},\"geo\":{\"bgcolor\":\"white\",\"lakecolor\":\"white\",\"landcolor\":\"#E5ECF6\",\"showlakes\":true,\"showland\":true,\"subunitcolor\":\"white\"},\"hoverlabel\":{\"align\":\"left\"},\"hovermode\":\"closest\",\"mapbox\":{\"style\":\"light\"},\"paper_bgcolor\":\"white\",\"plot_bgcolor\":\"#E5ECF6\",\"polar\":{\"angularaxis\":{\"gridcolor\":\"white\",\"linecolor\":\"white\",\"ticks\":\"\"},\"bgcolor\":\"#E5ECF6\",\"radialaxis\":{\"gridcolor\":\"white\",\"linecolor\":\"white\",\"ticks\":\"\"}},\"scene\":{\"xaxis\":{\"backgroundcolor\":\"#E5ECF6\",\"gridcolor\":\"white\",\"gridwidth\":2,\"linecolor\":\"white\",\"showbackground\":true,\"ticks\":\"\",\"zerolinecolor\":\"white\"},\"yaxis\":{\"backgroundcolor\":\"#E5ECF6\",\"gridcolor\":\"white\",\"gridwidth\":2,\"linecolor\":\"white\",\"showbackground\":true,\"ticks\":\"\",\"zerolinecolor\":\"white\"},\"zaxis\":{\"backgroundcolor\":\"#E5ECF6\",\"gridcolor\":\"white\",\"gridwidth\":2,\"linecolor\":\"white\",\"showbackground\":true,\"ticks\":\"\",\"zerolinecolor\":\"white\"}},\"shapedefaults\":{\"line\":{\"color\":\"#2a3f5f\"}},\"ternary\":{\"aaxis\":{\"gridcolor\":\"white\",\"linecolor\":\"white\",\"ticks\":\"\"},\"baxis\":{\"gridcolor\":\"white\",\"linecolor\":\"white\",\"ticks\":\"\"},\"bgcolor\":\"#E5ECF6\",\"caxis\":{\"gridcolor\":\"white\",\"linecolor\":\"white\",\"ticks\":\"\"}},\"title\":{\"x\":0.05},\"xaxis\":{\"automargin\":true,\"gridcolor\":\"white\",\"linecolor\":\"white\",\"ticks\":\"\",\"title\":{\"standoff\":15},\"zerolinecolor\":\"white\",\"zerolinewidth\":2},\"yaxis\":{\"automargin\":true,\"gridcolor\":\"white\",\"linecolor\":\"white\",\"ticks\":\"\",\"title\":{\"standoff\":15},\"zerolinecolor\":\"white\",\"zerolinewidth\":2}}},\"title\":{\"font\":{\"color\":\"#4D5663\"}},\"xaxis\":{\"gridcolor\":\"#E1E5ED\",\"showgrid\":true,\"tickfont\":{\"color\":\"#4D5663\"},\"title\":{\"font\":{\"color\":\"#4D5663\"},\"text\":\"\"},\"zerolinecolor\":\"#E1E5ED\"},\"yaxis\":{\"gridcolor\":\"#E1E5ED\",\"showgrid\":true,\"tickfont\":{\"color\":\"#4D5663\"},\"title\":{\"font\":{\"color\":\"#4D5663\"},\"text\":\"\"},\"zerolinecolor\":\"#E1E5ED\"}},                        {\"showLink\": true, \"linkText\": \"Export to plot.ly\", \"plotlyServerURL\": \"https://plot.ly\", \"responsive\": true}                    ).then(function(){\n",
       "                            \n",
       "var gd = document.getElementById('d962f115-a209-4bee-b5ad-89e7a38a65ef');\n",
       "var x = new MutationObserver(function (mutations, observer) {{\n",
       "        var display = window.getComputedStyle(gd).display;\n",
       "        if (!display || display === 'none') {{\n",
       "            console.log([gd, 'removed!']);\n",
       "            Plotly.purge(gd);\n",
       "            observer.disconnect();\n",
       "        }}\n",
       "}});\n",
       "\n",
       "// Listen for the removal of the full notebook cells\n",
       "var notebookContainer = gd.closest('#notebook-container');\n",
       "if (notebookContainer) {{\n",
       "    x.observe(notebookContainer, {childList: true});\n",
       "}}\n",
       "\n",
       "// Listen for the clearing of the current output cell\n",
       "var outputEl = gd.closest('.output');\n",
       "if (outputEl) {{\n",
       "    x.observe(outputEl, {childList: true});\n",
       "}}\n",
       "\n",
       "                        })                };                });            </script>        </div>"
      ]
     },
     "metadata": {},
     "output_type": "display_data"
    }
   ],
   "source": [
    "#  ranking of all country - electricity consumption (20 years of production)\n",
    "rank_all = df.groupby(['country_or_area']).agg({'new_quantity':'mean'})\n",
    "rank_all.sort_values('new_quantity',ascending = False, inplace = True)\n",
    "rank_all.iplot();"
   ]
  },
  {
   "cell_type": "code",
   "execution_count": 7,
   "id": "9db30b2e",
   "metadata": {},
   "outputs": [
    {
     "data": {
      "text/html": [
       "<div>\n",
       "<style scoped>\n",
       "    .dataframe tbody tr th:only-of-type {\n",
       "        vertical-align: middle;\n",
       "    }\n",
       "\n",
       "    .dataframe tbody tr th {\n",
       "        vertical-align: top;\n",
       "    }\n",
       "\n",
       "    .dataframe thead th {\n",
       "        text-align: right;\n",
       "    }\n",
       "</style>\n",
       "<table border=\"1\" class=\"dataframe\">\n",
       "  <thead>\n",
       "    <tr style=\"text-align: right;\">\n",
       "      <th></th>\n",
       "      <th>new_quantity</th>\n",
       "      <th>non_renewable</th>\n",
       "    </tr>\n",
       "    <tr>\n",
       "      <th>country_or_area</th>\n",
       "      <th></th>\n",
       "      <th></th>\n",
       "    </tr>\n",
       "  </thead>\n",
       "  <tbody>\n",
       "    <tr>\n",
       "      <th>United States</th>\n",
       "      <td>85549767000.00</td>\n",
       "      <td>61291850000.00</td>\n",
       "    </tr>\n",
       "    <tr>\n",
       "      <th>China</th>\n",
       "      <td>55912127900.00</td>\n",
       "      <td>44958773800.00</td>\n",
       "    </tr>\n",
       "    <tr>\n",
       "      <th>Japan</th>\n",
       "      <td>22157381000.00</td>\n",
       "      <td>14951631000.00</td>\n",
       "    </tr>\n",
       "    <tr>\n",
       "      <th>Russian Federation</th>\n",
       "      <td>19882526000.00</td>\n",
       "      <td>13302272000.00</td>\n",
       "    </tr>\n",
       "    <tr>\n",
       "      <th>India</th>\n",
       "      <td>15245741000.00</td>\n",
       "      <td>12636634000.00</td>\n",
       "    </tr>\n",
       "    <tr>\n",
       "      <th>Germany</th>\n",
       "      <td>12543013000.00</td>\n",
       "      <td>8239026000.00</td>\n",
       "    </tr>\n",
       "    <tr>\n",
       "      <th>United Kingdom</th>\n",
       "      <td>7803117000.00</td>\n",
       "      <td>5819427000.00</td>\n",
       "    </tr>\n",
       "    <tr>\n",
       "      <th>Korea, Republic of</th>\n",
       "      <td>7651171000.00</td>\n",
       "      <td>4952429000.00</td>\n",
       "    </tr>\n",
       "    <tr>\n",
       "      <th>Italy</th>\n",
       "      <td>5949869000.00</td>\n",
       "      <td>4664379000.00</td>\n",
       "    </tr>\n",
       "    <tr>\n",
       "      <th>South Africa</th>\n",
       "      <td>4865063000.00</td>\n",
       "      <td>4519462000.00</td>\n",
       "    </tr>\n",
       "    <tr>\n",
       "      <th>Australia</th>\n",
       "      <td>4667286000.00</td>\n",
       "      <td>4271064000.00</td>\n",
       "    </tr>\n",
       "    <tr>\n",
       "      <th>Mexico</th>\n",
       "      <td>4905218000.00</td>\n",
       "      <td>3943177000.00</td>\n",
       "    </tr>\n",
       "    <tr>\n",
       "      <th>Saudi Arabia</th>\n",
       "      <td>3671794000.00</td>\n",
       "      <td>3671791000.00</td>\n",
       "    </tr>\n",
       "    <tr>\n",
       "      <th>Other Asia</th>\n",
       "      <td>4373222000.00</td>\n",
       "      <td>3368994000.00</td>\n",
       "    </tr>\n",
       "    <tr>\n",
       "      <th>Iran (Islamic Rep. of)</th>\n",
       "      <td>3559095400.00</td>\n",
       "      <td>3339103800.00</td>\n",
       "    </tr>\n",
       "    <tr>\n",
       "      <th>Canada</th>\n",
       "      <td>12657271000.00</td>\n",
       "      <td>3202264000.00</td>\n",
       "    </tr>\n",
       "    <tr>\n",
       "      <th>Poland</th>\n",
       "      <td>3177960000.00</td>\n",
       "      <td>3078370000.00</td>\n",
       "    </tr>\n",
       "    <tr>\n",
       "      <th>Spain</th>\n",
       "      <td>5307931000.00</td>\n",
       "      <td>2869572000.00</td>\n",
       "    </tr>\n",
       "    <tr>\n",
       "      <th>Thailand</th>\n",
       "      <td>2652093200.00</td>\n",
       "      <td>2511782000.00</td>\n",
       "    </tr>\n",
       "    <tr>\n",
       "      <th>Turkey</th>\n",
       "      <td>3353771000.00</td>\n",
       "      <td>2468867000.00</td>\n",
       "    </tr>\n",
       "    <tr>\n",
       "      <th>Indonesia</th>\n",
       "      <td>2704177170.00</td>\n",
       "      <td>2322339000.00</td>\n",
       "    </tr>\n",
       "    <tr>\n",
       "      <th>Egypt</th>\n",
       "      <td>2231267000.00</td>\n",
       "      <td>1940624000.00</td>\n",
       "    </tr>\n",
       "    <tr>\n",
       "      <th>Netherlands</th>\n",
       "      <td>2054706000.00</td>\n",
       "      <td>1918580000.00</td>\n",
       "    </tr>\n",
       "    <tr>\n",
       "      <th>Ukraine</th>\n",
       "      <td>3884638000.00</td>\n",
       "      <td>1907568000.00</td>\n",
       "    </tr>\n",
       "    <tr>\n",
       "      <th>Malaysia</th>\n",
       "      <td>1900808340.00</td>\n",
       "      <td>1752854530.00</td>\n",
       "    </tr>\n",
       "    <tr>\n",
       "      <th>Brazil</th>\n",
       "      <td>8526034000.00</td>\n",
       "      <td>1335527000.00</td>\n",
       "    </tr>\n",
       "    <tr>\n",
       "      <th>Argentina</th>\n",
       "      <td>2136147170.00</td>\n",
       "      <td>1326179000.00</td>\n",
       "    </tr>\n",
       "    <tr>\n",
       "      <th>Kazakhstan</th>\n",
       "      <td>1485510000.00</td>\n",
       "      <td>1323020000.00</td>\n",
       "    </tr>\n",
       "    <tr>\n",
       "      <th>United Arab Emirates</th>\n",
       "      <td>1301659000.00</td>\n",
       "      <td>1301659000.00</td>\n",
       "    </tr>\n",
       "    <tr>\n",
       "      <th>France</th>\n",
       "      <td>11476682000.00</td>\n",
       "      <td>1114594000.00</td>\n",
       "    </tr>\n",
       "    <tr>\n",
       "      <th>Czechia</th>\n",
       "      <td>1625272000.00</td>\n",
       "      <td>1104191000.00</td>\n",
       "    </tr>\n",
       "    <tr>\n",
       "      <th>Pakistan</th>\n",
       "      <td>1693266000.00</td>\n",
       "      <td>1102306000.00</td>\n",
       "    </tr>\n",
       "    <tr>\n",
       "      <th>Greece</th>\n",
       "      <td>1139014000.00</td>\n",
       "      <td>1000049000.00</td>\n",
       "    </tr>\n",
       "    <tr>\n",
       "      <th>Israel</th>\n",
       "      <td>998452000.00</td>\n",
       "      <td>995830000.00</td>\n",
       "    </tr>\n",
       "    <tr>\n",
       "      <th>Kuwait</th>\n",
       "      <td>894596000.00</td>\n",
       "      <td>894596000.00</td>\n",
       "    </tr>\n",
       "    <tr>\n",
       "      <th>Uzbekistan</th>\n",
       "      <td>1035619000.00</td>\n",
       "      <td>863312000.00</td>\n",
       "    </tr>\n",
       "    <tr>\n",
       "      <th>Finland</th>\n",
       "      <td>1544952000.00</td>\n",
       "      <td>793383000.00</td>\n",
       "    </tr>\n",
       "    <tr>\n",
       "      <th>Singapore</th>\n",
       "      <td>761093530.00</td>\n",
       "      <td>761093530.00</td>\n",
       "    </tr>\n",
       "    <tr>\n",
       "      <th>Philippines</th>\n",
       "      <td>1117501794.00</td>\n",
       "      <td>746687916.00</td>\n",
       "    </tr>\n",
       "    <tr>\n",
       "      <th>Iraq</th>\n",
       "      <td>789289000.00</td>\n",
       "      <td>740824000.00</td>\n",
       "    </tr>\n",
       "    <tr>\n",
       "      <th>Belgium</th>\n",
       "      <td>1747575000.00</td>\n",
       "      <td>735600000.00</td>\n",
       "    </tr>\n",
       "    <tr>\n",
       "      <th>China, Hong Kong SAR</th>\n",
       "      <td>731318000.00</td>\n",
       "      <td>731318000.00</td>\n",
       "    </tr>\n",
       "    <tr>\n",
       "      <th>Algeria</th>\n",
       "      <td>733039000.00</td>\n",
       "      <td>728109000.00</td>\n",
       "    </tr>\n",
       "    <tr>\n",
       "      <th>Romania</th>\n",
       "      <td>1222837000.00</td>\n",
       "      <td>716220000.00</td>\n",
       "    </tr>\n",
       "    <tr>\n",
       "      <th>Viet Nam</th>\n",
       "      <td>1218229000.00</td>\n",
       "      <td>703376000.00</td>\n",
       "    </tr>\n",
       "    <tr>\n",
       "      <th>Denmark</th>\n",
       "      <td>820864000.00</td>\n",
       "      <td>696616000.00</td>\n",
       "    </tr>\n",
       "    <tr>\n",
       "      <th>Venezuela (Bolivar. Rep.)</th>\n",
       "      <td>2099219040.00</td>\n",
       "      <td>623652040.00</td>\n",
       "    </tr>\n",
       "    <tr>\n",
       "      <th>Portugal</th>\n",
       "      <td>940670000.00</td>\n",
       "      <td>620418000.00</td>\n",
       "    </tr>\n",
       "    <tr>\n",
       "      <th>Belarus</th>\n",
       "      <td>615698000.00</td>\n",
       "      <td>614797000.00</td>\n",
       "    </tr>\n",
       "    <tr>\n",
       "      <th>Chile</th>\n",
       "      <td>1044971000.00</td>\n",
       "      <td>601121000.00</td>\n",
       "    </tr>\n",
       "    <tr>\n",
       "      <th>Syrian Arab Republic</th>\n",
       "      <td>616120000.00</td>\n",
       "      <td>552962000.00</td>\n",
       "    </tr>\n",
       "    <tr>\n",
       "      <th>Bangladesh</th>\n",
       "      <td>571438000.00</td>\n",
       "      <td>552751000.00</td>\n",
       "    </tr>\n",
       "    <tr>\n",
       "      <th>Bulgaria</th>\n",
       "      <td>914259000.00</td>\n",
       "      <td>476795000.00</td>\n",
       "    </tr>\n",
       "    <tr>\n",
       "      <th>Libya</th>\n",
       "      <td>464848000.00</td>\n",
       "      <td>464848000.00</td>\n",
       "    </tr>\n",
       "    <tr>\n",
       "      <th>Ireland</th>\n",
       "      <td>518587000.00</td>\n",
       "      <td>463401000.00</td>\n",
       "    </tr>\n",
       "    <tr>\n",
       "      <th>Puerto Rico</th>\n",
       "      <td>465321600.00</td>\n",
       "      <td>461932800.00</td>\n",
       "    </tr>\n",
       "    <tr>\n",
       "      <th>Austria</th>\n",
       "      <td>1324302000.00</td>\n",
       "      <td>450504000.00</td>\n",
       "    </tr>\n",
       "    <tr>\n",
       "      <th>Hungary</th>\n",
       "      <td>743853000.00</td>\n",
       "      <td>435621000.00</td>\n",
       "    </tr>\n",
       "    <tr>\n",
       "      <th>Azerbaijan</th>\n",
       "      <td>423972000.00</td>\n",
       "      <td>380628000.00</td>\n",
       "    </tr>\n",
       "    <tr>\n",
       "      <th>Qatar</th>\n",
       "      <td>360944000.00</td>\n",
       "      <td>360944000.00</td>\n",
       "    </tr>\n",
       "    <tr>\n",
       "      <th>Morocco</th>\n",
       "      <td>385762000.00</td>\n",
       "      <td>343446000.00</td>\n",
       "    </tr>\n",
       "    <tr>\n",
       "      <th>Cuba</th>\n",
       "      <td>334844600.00</td>\n",
       "      <td>332688200.00</td>\n",
       "    </tr>\n",
       "    <tr>\n",
       "      <th>Nigeria</th>\n",
       "      <td>442789000.00</td>\n",
       "      <td>314288000.00</td>\n",
       "    </tr>\n",
       "    <tr>\n",
       "      <th>Colombia</th>\n",
       "      <td>1119718590.00</td>\n",
       "      <td>308448000.00</td>\n",
       "    </tr>\n",
       "    <tr>\n",
       "      <th>Oman</th>\n",
       "      <td>291486000.00</td>\n",
       "      <td>291486000.00</td>\n",
       "    </tr>\n",
       "    <tr>\n",
       "      <th>Bahrain</th>\n",
       "      <td>278928000.00</td>\n",
       "      <td>278928000.00</td>\n",
       "    </tr>\n",
       "    <tr>\n",
       "      <th>Sweden</th>\n",
       "      <td>3145664000.00</td>\n",
       "      <td>276251000.00</td>\n",
       "    </tr>\n",
       "    <tr>\n",
       "      <th>Turkmenistan</th>\n",
       "      <td>275410000.00</td>\n",
       "      <td>275346000.00</td>\n",
       "    </tr>\n",
       "    <tr>\n",
       "      <th>Serbia and Montenegro</th>\n",
       "      <td>398709000.00</td>\n",
       "      <td>269906000.00</td>\n",
       "    </tr>\n",
       "    <tr>\n",
       "      <th>Serbia</th>\n",
       "      <td>372642000.00</td>\n",
       "      <td>264151000.00</td>\n",
       "    </tr>\n",
       "    <tr>\n",
       "      <th>Tunisia</th>\n",
       "      <td>266057720.00</td>\n",
       "      <td>262705000.00</td>\n",
       "    </tr>\n",
       "    <tr>\n",
       "      <th>New Zealand</th>\n",
       "      <td>860683000.00</td>\n",
       "      <td>256020000.00</td>\n",
       "    </tr>\n",
       "    <tr>\n",
       "      <th>Lebanon</th>\n",
       "      <td>248960000.00</td>\n",
       "      <td>233077000.00</td>\n",
       "    </tr>\n",
       "    <tr>\n",
       "      <th>Dominican Republic</th>\n",
       "      <td>254716060.00</td>\n",
       "      <td>223509190.00</td>\n",
       "    </tr>\n",
       "    <tr>\n",
       "      <th>Jordan</th>\n",
       "      <td>220496400.00</td>\n",
       "      <td>219539000.00</td>\n",
       "    </tr>\n",
       "    <tr>\n",
       "      <th>Estonia</th>\n",
       "      <td>213973000.00</td>\n",
       "      <td>210857000.00</td>\n",
       "    </tr>\n",
       "    <tr>\n",
       "      <th>Peru</th>\n",
       "      <td>568442686.00</td>\n",
       "      <td>190538636.30</td>\n",
       "    </tr>\n",
       "    <tr>\n",
       "      <th>Slovakia</th>\n",
       "      <td>602865000.00</td>\n",
       "      <td>186759000.00</td>\n",
       "    </tr>\n",
       "    <tr>\n",
       "      <th>Korea, Dem.Ppl's.Rep.</th>\n",
       "      <td>432216000.00</td>\n",
       "      <td>172276000.00</td>\n",
       "    </tr>\n",
       "    <tr>\n",
       "      <th>Trinidad and Tobago</th>\n",
       "      <td>141218000.00</td>\n",
       "      <td>141218000.00</td>\n",
       "    </tr>\n",
       "    <tr>\n",
       "      <th>Bosnia and Herzegovina</th>\n",
       "      <td>248110000.00</td>\n",
       "      <td>138324000.00</td>\n",
       "    </tr>\n",
       "    <tr>\n",
       "      <th>Ecuador</th>\n",
       "      <td>306219100.00</td>\n",
       "      <td>132887500.00</td>\n",
       "    </tr>\n",
       "    <tr>\n",
       "      <th>Jamaica</th>\n",
       "      <td>121122700.00</td>\n",
       "      <td>117556500.00</td>\n",
       "    </tr>\n",
       "    <tr>\n",
       "      <th>Croatia</th>\n",
       "      <td>257915000.00</td>\n",
       "      <td>115365000.00</td>\n",
       "    </tr>\n",
       "    <tr>\n",
       "      <th>Slovenia</th>\n",
       "      <td>310662000.00</td>\n",
       "      <td>115288000.00</td>\n",
       "    </tr>\n",
       "    <tr>\n",
       "      <th>T.F.Yug.Rep. Macedonia</th>\n",
       "      <td>136580131.00</td>\n",
       "      <td>111468080.00</td>\n",
       "    </tr>\n",
       "    <tr>\n",
       "      <th>Yemen</th>\n",
       "      <td>101587000.00</td>\n",
       "      <td>101587000.00</td>\n",
       "    </tr>\n",
       "    <tr>\n",
       "      <th>Sri Lanka</th>\n",
       "      <td>175884078.00</td>\n",
       "      <td>91154259.00</td>\n",
       "    </tr>\n",
       "    <tr>\n",
       "      <th>Zimbabwe</th>\n",
       "      <td>173461500.00</td>\n",
       "      <td>85211800.00</td>\n",
       "    </tr>\n",
       "    <tr>\n",
       "      <th>Cyprus</th>\n",
       "      <td>83410000.00</td>\n",
       "      <td>82484000.00</td>\n",
       "    </tr>\n",
       "    <tr>\n",
       "      <th>Mongolia</th>\n",
       "      <td>80870100.00</td>\n",
       "      <td>80870100.00</td>\n",
       "    </tr>\n",
       "    <tr>\n",
       "      <th>Guatemala</th>\n",
       "      <td>146343100.00</td>\n",
       "      <td>80611600.00</td>\n",
       "    </tr>\n",
       "    <tr>\n",
       "      <th>Côte d'Ivoire</th>\n",
       "      <td>110336600.00</td>\n",
       "      <td>74235600.00</td>\n",
       "    </tr>\n",
       "    <tr>\n",
       "      <th>Brunei Darussalam</th>\n",
       "      <td>66117000.00</td>\n",
       "      <td>66109000.00</td>\n",
       "    </tr>\n",
       "    <tr>\n",
       "      <th>Bolivia (Plur. State of)</th>\n",
       "      <td>107582200.00</td>\n",
       "      <td>65320000.00</td>\n",
       "    </tr>\n",
       "    <tr>\n",
       "      <th>Switzerland</th>\n",
       "      <td>1396666000.00</td>\n",
       "      <td>64109000.00</td>\n",
       "    </tr>\n",
       "    <tr>\n",
       "      <th>Myanmar</th>\n",
       "      <td>139357820.00</td>\n",
       "      <td>61796280.00</td>\n",
       "    </tr>\n",
       "    <tr>\n",
       "      <th>Lithuania</th>\n",
       "      <td>264696000.00</td>\n",
       "      <td>59624000.00</td>\n",
       "    </tr>\n",
       "    <tr>\n",
       "      <th>Honduras</th>\n",
       "      <td>108030000.00</td>\n",
       "      <td>58012000.00</td>\n",
       "    </tr>\n",
       "    <tr>\n",
       "      <th>Panama</th>\n",
       "      <td>123837100.00</td>\n",
       "      <td>49196400.00</td>\n",
       "    </tr>\n",
       "    <tr>\n",
       "      <th>Armenia</th>\n",
       "      <td>131479000.00</td>\n",
       "      <td>48021000.00</td>\n",
       "    </tr>\n",
       "    <tr>\n",
       "      <th>El Salvador</th>\n",
       "      <td>100917000.00</td>\n",
       "      <td>44732000.00</td>\n",
       "    </tr>\n",
       "    <tr>\n",
       "      <th>Nicaragua</th>\n",
       "      <td>60548000.00</td>\n",
       "      <td>43439000.00</td>\n",
       "    </tr>\n",
       "    <tr>\n",
       "      <th>Republic of Moldova</th>\n",
       "      <td>45910000.00</td>\n",
       "      <td>43382000.00</td>\n",
       "    </tr>\n",
       "    <tr>\n",
       "      <th>Malta</th>\n",
       "      <td>42838000.00</td>\n",
       "      <td>42697000.00</td>\n",
       "    </tr>\n",
       "    <tr>\n",
       "      <th>Mauritius</th>\n",
       "      <td>44033900.00</td>\n",
       "      <td>42029300.00</td>\n",
       "    </tr>\n",
       "    <tr>\n",
       "      <th>Senegal</th>\n",
       "      <td>42029000.00</td>\n",
       "      <td>42002000.00</td>\n",
       "    </tr>\n",
       "    <tr>\n",
       "      <th>Kyrgyzstan</th>\n",
       "      <td>302077000.00</td>\n",
       "      <td>41407000.00</td>\n",
       "    </tr>\n",
       "    <tr>\n",
       "      <th>Ghana</th>\n",
       "      <td>170828000.00</td>\n",
       "      <td>41126000.00</td>\n",
       "    </tr>\n",
       "    <tr>\n",
       "      <th>Latvia</th>\n",
       "      <td>102654000.00</td>\n",
       "      <td>39824000.00</td>\n",
       "    </tr>\n",
       "    <tr>\n",
       "      <th>Kenya</th>\n",
       "      <td>124911300.00</td>\n",
       "      <td>39784200.00</td>\n",
       "    </tr>\n",
       "    <tr>\n",
       "      <th>Norway</th>\n",
       "      <td>2652391000.00</td>\n",
       "      <td>39225000.00</td>\n",
       "    </tr>\n",
       "    <tr>\n",
       "      <th>Guam</th>\n",
       "      <td>38562100.00</td>\n",
       "      <td>38562100.00</td>\n",
       "    </tr>\n",
       "    <tr>\n",
       "      <th>Papua New Guinea</th>\n",
       "      <td>61858000.00</td>\n",
       "      <td>38514000.00</td>\n",
       "    </tr>\n",
       "    <tr>\n",
       "      <th>Luxembourg</th>\n",
       "      <td>59338000.00</td>\n",
       "      <td>37962000.00</td>\n",
       "    </tr>\n",
       "    <tr>\n",
       "      <th>Bahamas</th>\n",
       "      <td>37699400.00</td>\n",
       "      <td>37699400.00</td>\n",
       "    </tr>\n",
       "    <tr>\n",
       "      <th>Uruguay</th>\n",
       "      <td>181925300.00</td>\n",
       "      <td>35314500.00</td>\n",
       "    </tr>\n",
       "    <tr>\n",
       "      <th>Georgia</th>\n",
       "      <td>175170000.00</td>\n",
       "      <td>33476000.00</td>\n",
       "    </tr>\n",
       "    <tr>\n",
       "      <th>Sudan (former)</th>\n",
       "      <td>66746000.00</td>\n",
       "      <td>33268000.00</td>\n",
       "    </tr>\n",
       "    <tr>\n",
       "      <th>Réunion</th>\n",
       "      <td>44543880.00</td>\n",
       "      <td>31883200.00</td>\n",
       "    </tr>\n",
       "    <tr>\n",
       "      <th>New Caledonia</th>\n",
       "      <td>38845680.00</td>\n",
       "      <td>30793100.00</td>\n",
       "    </tr>\n",
       "    <tr>\n",
       "      <th>United Rep. of Tanzania</th>\n",
       "      <td>74112000.00</td>\n",
       "      <td>29404000.00</td>\n",
       "    </tr>\n",
       "    <tr>\n",
       "      <th>Martinique</th>\n",
       "      <td>29818994.00</td>\n",
       "      <td>29228075.00</td>\n",
       "    </tr>\n",
       "    <tr>\n",
       "      <th>Guadeloupe</th>\n",
       "      <td>30927000.00</td>\n",
       "      <td>29013000.00</td>\n",
       "    </tr>\n",
       "    <tr>\n",
       "      <th>China, Macao SAR</th>\n",
       "      <td>28456000.00</td>\n",
       "      <td>28456000.00</td>\n",
       "    </tr>\n",
       "    <tr>\n",
       "      <th>Angola</th>\n",
       "      <td>68871000.00</td>\n",
       "      <td>22360000.00</td>\n",
       "    </tr>\n",
       "    <tr>\n",
       "      <th>Neth. Antilles (former)</th>\n",
       "      <td>20929000.00</td>\n",
       "      <td>20929000.00</td>\n",
       "    </tr>\n",
       "    <tr>\n",
       "      <th>United States Virgin Is.</th>\n",
       "      <td>20701765.00</td>\n",
       "      <td>20693881.00</td>\n",
       "    </tr>\n",
       "    <tr>\n",
       "      <th>Botswana</th>\n",
       "      <td>19427800.00</td>\n",
       "      <td>19423200.00</td>\n",
       "    </tr>\n",
       "    <tr>\n",
       "      <th>Barbados</th>\n",
       "      <td>18724180.00</td>\n",
       "      <td>18724180.00</td>\n",
       "    </tr>\n",
       "    <tr>\n",
       "      <th>Guyana</th>\n",
       "      <td>16847220.00</td>\n",
       "      <td>16822220.00</td>\n",
       "    </tr>\n",
       "    <tr>\n",
       "      <th>Aruba</th>\n",
       "      <td>17305800.00</td>\n",
       "      <td>16673500.00</td>\n",
       "    </tr>\n",
       "    <tr>\n",
       "      <th>Gabon</th>\n",
       "      <td>34002000.00</td>\n",
       "      <td>16061000.00</td>\n",
       "    </tr>\n",
       "    <tr>\n",
       "      <th>Cameroon</th>\n",
       "      <td>94063000.00</td>\n",
       "      <td>15728000.00</td>\n",
       "    </tr>\n",
       "    <tr>\n",
       "      <th>Cambodia</th>\n",
       "      <td>19131000.00</td>\n",
       "      <td>14935000.00</td>\n",
       "    </tr>\n",
       "    <tr>\n",
       "      <th>Bermuda</th>\n",
       "      <td>13546200.00</td>\n",
       "      <td>13546200.00</td>\n",
       "    </tr>\n",
       "    <tr>\n",
       "      <th>Suriname</th>\n",
       "      <td>33052600.00</td>\n",
       "      <td>12890200.00</td>\n",
       "    </tr>\n",
       "    <tr>\n",
       "      <th>Costa Rica</th>\n",
       "      <td>163570297.00</td>\n",
       "      <td>12385933.35</td>\n",
       "    </tr>\n",
       "    <tr>\n",
       "      <th>Montenegro</th>\n",
       "      <td>30435000.00</td>\n",
       "      <td>12263000.00</td>\n",
       "    </tr>\n",
       "    <tr>\n",
       "      <th>Mauritania</th>\n",
       "      <td>11353107.00</td>\n",
       "      <td>11205107.00</td>\n",
       "    </tr>\n",
       "    <tr>\n",
       "      <th>Mali</th>\n",
       "      <td>21947770.00</td>\n",
       "      <td>10874950.00</td>\n",
       "    </tr>\n",
       "    <tr>\n",
       "      <th>Cayman Islands</th>\n",
       "      <td>10380790.00</td>\n",
       "      <td>10380790.00</td>\n",
       "    </tr>\n",
       "    <tr>\n",
       "      <th>Madagascar</th>\n",
       "      <td>22893253.90</td>\n",
       "      <td>9950049.20</td>\n",
       "    </tr>\n",
       "    <tr>\n",
       "      <th>Guinea</th>\n",
       "      <td>18419390.00</td>\n",
       "      <td>9229390.00</td>\n",
       "    </tr>\n",
       "    <tr>\n",
       "      <th>Haiti</th>\n",
       "      <td>13778000.00</td>\n",
       "      <td>8963000.00</td>\n",
       "    </tr>\n",
       "    <tr>\n",
       "      <th>French Polynesia</th>\n",
       "      <td>12176066.00</td>\n",
       "      <td>8475716.00</td>\n",
       "    </tr>\n",
       "    <tr>\n",
       "      <th>Northern Mariana Islands</th>\n",
       "      <td>8196500.00</td>\n",
       "      <td>8196500.00</td>\n",
       "    </tr>\n",
       "    <tr>\n",
       "      <th>Burkina Faso</th>\n",
       "      <td>10091871.00</td>\n",
       "      <td>8121498.00</td>\n",
       "    </tr>\n",
       "    <tr>\n",
       "      <th>Sudan</th>\n",
       "      <td>31493000.00</td>\n",
       "      <td>7644000.00</td>\n",
       "    </tr>\n",
       "    <tr>\n",
       "      <th>Uganda</th>\n",
       "      <td>39458250.00</td>\n",
       "      <td>6846600.00</td>\n",
       "    </tr>\n",
       "    <tr>\n",
       "      <th>Fiji</th>\n",
       "      <td>15598253.00</td>\n",
       "      <td>6624975.00</td>\n",
       "    </tr>\n",
       "    <tr>\n",
       "      <th>St. Lucia</th>\n",
       "      <td>6365597.00</td>\n",
       "      <td>6365597.00</td>\n",
       "    </tr>\n",
       "    <tr>\n",
       "      <th>Somalia</th>\n",
       "      <td>6246000.00</td>\n",
       "      <td>6246000.00</td>\n",
       "    </tr>\n",
       "    <tr>\n",
       "      <th>French Guiana</th>\n",
       "      <td>13875000.00</td>\n",
       "      <td>6027000.00</td>\n",
       "    </tr>\n",
       "    <tr>\n",
       "      <th>State of Palestine</th>\n",
       "      <td>5955200.00</td>\n",
       "      <td>5955200.00</td>\n",
       "    </tr>\n",
       "    <tr>\n",
       "      <th>Swaziland</th>\n",
       "      <td>10064230.00</td>\n",
       "      <td>5669870.00</td>\n",
       "    </tr>\n",
       "    <tr>\n",
       "      <th>Djibouti</th>\n",
       "      <td>5668000.00</td>\n",
       "      <td>5668000.00</td>\n",
       "    </tr>\n",
       "    <tr>\n",
       "      <th>Eritrea</th>\n",
       "      <td>5578000.00</td>\n",
       "      <td>5551000.00</td>\n",
       "    </tr>\n",
       "    <tr>\n",
       "      <th>Lao People's Dem. Rep.</th>\n",
       "      <td>70597066.60</td>\n",
       "      <td>5402000.00</td>\n",
       "    </tr>\n",
       "    <tr>\n",
       "      <th>Liberia</th>\n",
       "      <td>5234000.00</td>\n",
       "      <td>5234000.00</td>\n",
       "    </tr>\n",
       "    <tr>\n",
       "      <th>Isle of Man</th>\n",
       "      <td>5104700.00</td>\n",
       "      <td>5062800.00</td>\n",
       "    </tr>\n",
       "    <tr>\n",
       "      <th>Seychelles</th>\n",
       "      <td>4897380.00</td>\n",
       "      <td>4882630.00</td>\n",
       "    </tr>\n",
       "    <tr>\n",
       "      <th>Niger</th>\n",
       "      <td>4868975.00</td>\n",
       "      <td>4868940.00</td>\n",
       "    </tr>\n",
       "    <tr>\n",
       "      <th>Antigua and Barbuda</th>\n",
       "      <td>4691800.00</td>\n",
       "      <td>4691800.00</td>\n",
       "    </tr>\n",
       "    <tr>\n",
       "      <th>Tajikistan</th>\n",
       "      <td>335050000.00</td>\n",
       "      <td>4510000.00</td>\n",
       "    </tr>\n",
       "    <tr>\n",
       "      <th>Cabo Verde</th>\n",
       "      <td>4731360.00</td>\n",
       "      <td>4375890.00</td>\n",
       "    </tr>\n",
       "    <tr>\n",
       "      <th>Afghanistan</th>\n",
       "      <td>17350600.00</td>\n",
       "      <td>4160500.00</td>\n",
       "    </tr>\n",
       "    <tr>\n",
       "      <th>Greenland</th>\n",
       "      <td>7891382.30</td>\n",
       "      <td>4015433.60</td>\n",
       "    </tr>\n",
       "    <tr>\n",
       "      <th>Malawi</th>\n",
       "      <td>31599160.00</td>\n",
       "      <td>3933770.00</td>\n",
       "    </tr>\n",
       "    <tr>\n",
       "      <th>Congo</th>\n",
       "      <td>13292000.00</td>\n",
       "      <td>3764000.00</td>\n",
       "    </tr>\n",
       "    <tr>\n",
       "      <th>Maldives</th>\n",
       "      <td>3752207.00</td>\n",
       "      <td>3744677.00</td>\n",
       "    </tr>\n",
       "    <tr>\n",
       "      <th>Gambia</th>\n",
       "      <td>3646900.00</td>\n",
       "      <td>3646900.00</td>\n",
       "    </tr>\n",
       "    <tr>\n",
       "      <th>St. Kitts-Nevis</th>\n",
       "      <td>3626100.00</td>\n",
       "      <td>3589100.00</td>\n",
       "    </tr>\n",
       "    <tr>\n",
       "      <th>American Samoa</th>\n",
       "      <td>3486686.00</td>\n",
       "      <td>3483386.00</td>\n",
       "    </tr>\n",
       "    <tr>\n",
       "      <th>Grenada</th>\n",
       "      <td>3198740.00</td>\n",
       "      <td>3198740.00</td>\n",
       "    </tr>\n",
       "    <tr>\n",
       "      <th>Mayotte</th>\n",
       "      <td>3191630.00</td>\n",
       "      <td>3121300.00</td>\n",
       "    </tr>\n",
       "    <tr>\n",
       "      <th>Mozambique</th>\n",
       "      <td>231105000.00</td>\n",
       "      <td>3102000.00</td>\n",
       "    </tr>\n",
       "    <tr>\n",
       "      <th>Faeroe Islands</th>\n",
       "      <td>5062490.00</td>\n",
       "      <td>3040811.00</td>\n",
       "    </tr>\n",
       "    <tr>\n",
       "      <th>Gibraltar</th>\n",
       "      <td>3023000.00</td>\n",
       "      <td>3023000.00</td>\n",
       "    </tr>\n",
       "    <tr>\n",
       "      <th>Jersey</th>\n",
       "      <td>2975500.00</td>\n",
       "      <td>2975500.00</td>\n",
       "    </tr>\n",
       "    <tr>\n",
       "      <th>Chad</th>\n",
       "      <td>2870000.00</td>\n",
       "      <td>2870000.00</td>\n",
       "    </tr>\n",
       "    <tr>\n",
       "      <th>Turks and Caicos Islands</th>\n",
       "      <td>2753900.00</td>\n",
       "      <td>2753900.00</td>\n",
       "    </tr>\n",
       "    <tr>\n",
       "      <th>Curaçao</th>\n",
       "      <td>2712000.00</td>\n",
       "      <td>2616000.00</td>\n",
       "    </tr>\n",
       "    <tr>\n",
       "      <th>Togo</th>\n",
       "      <td>5919000.00</td>\n",
       "      <td>2372900.00</td>\n",
       "    </tr>\n",
       "    <tr>\n",
       "      <th>Benin</th>\n",
       "      <td>2372000.00</td>\n",
       "      <td>2358000.00</td>\n",
       "    </tr>\n",
       "    <tr>\n",
       "      <th>Namibia</th>\n",
       "      <td>29600000.00</td>\n",
       "      <td>2082000.00</td>\n",
       "    </tr>\n",
       "    <tr>\n",
       "      <th>British Virgin Islands</th>\n",
       "      <td>2080000.00</td>\n",
       "      <td>2080000.00</td>\n",
       "    </tr>\n",
       "    <tr>\n",
       "      <th>Palau</th>\n",
       "      <td>2043700.00</td>\n",
       "      <td>2043700.00</td>\n",
       "    </tr>\n",
       "    <tr>\n",
       "      <th>Belize</th>\n",
       "      <td>4709655.22</td>\n",
       "      <td>2030191.76</td>\n",
       "    </tr>\n",
       "    <tr>\n",
       "      <th>Equatorial Guinea</th>\n",
       "      <td>2986300.00</td>\n",
       "      <td>1918300.00</td>\n",
       "    </tr>\n",
       "    <tr>\n",
       "      <th>St. Vincent-Grenadines</th>\n",
       "      <td>2417400.00</td>\n",
       "      <td>1905580.00</td>\n",
       "    </tr>\n",
       "    <tr>\n",
       "      <th>Albania</th>\n",
       "      <td>104104770.00</td>\n",
       "      <td>1863040.00</td>\n",
       "    </tr>\n",
       "    <tr>\n",
       "      <th>Marshall Islands</th>\n",
       "      <td>1844200.00</td>\n",
       "      <td>1843600.00</td>\n",
       "    </tr>\n",
       "    <tr>\n",
       "      <th>Rwanda</th>\n",
       "      <td>4258924.00</td>\n",
       "      <td>1802704.00</td>\n",
       "    </tr>\n",
       "    <tr>\n",
       "      <th>Sierra Leone</th>\n",
       "      <td>2736183.00</td>\n",
       "      <td>1787370.00</td>\n",
       "    </tr>\n",
       "    <tr>\n",
       "      <th>Timor-Leste</th>\n",
       "      <td>1716625.00</td>\n",
       "      <td>1716625.00</td>\n",
       "    </tr>\n",
       "    <tr>\n",
       "      <th>Micronesia (Fed. States of)</th>\n",
       "      <td>1688860.00</td>\n",
       "      <td>1669660.00</td>\n",
       "    </tr>\n",
       "    <tr>\n",
       "      <th>Guernsey</th>\n",
       "      <td>1574800.00</td>\n",
       "      <td>1574800.00</td>\n",
       "    </tr>\n",
       "    <tr>\n",
       "      <th>Solomon Islands</th>\n",
       "      <td>1552900.00</td>\n",
       "      <td>1552900.00</td>\n",
       "    </tr>\n",
       "    <tr>\n",
       "      <th>Ethiopia</th>\n",
       "      <td>74624000.00</td>\n",
       "      <td>1527000.00</td>\n",
       "    </tr>\n",
       "    <tr>\n",
       "      <th>South Sudan</th>\n",
       "      <td>1405000.00</td>\n",
       "      <td>1399000.00</td>\n",
       "    </tr>\n",
       "    <tr>\n",
       "      <th>Anguilla</th>\n",
       "      <td>1336800.00</td>\n",
       "      <td>1336800.00</td>\n",
       "    </tr>\n",
       "    <tr>\n",
       "      <th>Samoa</th>\n",
       "      <td>2183200.00</td>\n",
       "      <td>1313400.00</td>\n",
       "    </tr>\n",
       "    <tr>\n",
       "      <th>Sint Maarten (Dutch part)</th>\n",
       "      <td>1229300.00</td>\n",
       "      <td>1229300.00</td>\n",
       "    </tr>\n",
       "    <tr>\n",
       "      <th>Zambia</th>\n",
       "      <td>196650000.00</td>\n",
       "      <td>1146000.00</td>\n",
       "    </tr>\n",
       "    <tr>\n",
       "      <th>Dominica</th>\n",
       "      <td>1695480.00</td>\n",
       "      <td>1082980.00</td>\n",
       "    </tr>\n",
       "    <tr>\n",
       "      <th>Vanuatu</th>\n",
       "      <td>1077750.00</td>\n",
       "      <td>989450.00</td>\n",
       "    </tr>\n",
       "    <tr>\n",
       "      <th>Tonga</th>\n",
       "      <td>918634.00</td>\n",
       "      <td>914086.00</td>\n",
       "    </tr>\n",
       "    <tr>\n",
       "      <th>St. Pierre-Miquelon</th>\n",
       "      <td>918110.00</td>\n",
       "      <td>905260.00</td>\n",
       "    </tr>\n",
       "    <tr>\n",
       "      <th>Comoros</th>\n",
       "      <td>828800.00</td>\n",
       "      <td>828800.00</td>\n",
       "    </tr>\n",
       "    <tr>\n",
       "      <th>Dem. Rep. of the Congo</th>\n",
       "      <td>141688000.00</td>\n",
       "      <td>737000.00</td>\n",
       "    </tr>\n",
       "    <tr>\n",
       "      <th>Sao Tome and Principe</th>\n",
       "      <td>826900.00</td>\n",
       "      <td>688100.00</td>\n",
       "    </tr>\n",
       "    <tr>\n",
       "      <th>Guinea-Bissau</th>\n",
       "      <td>684327.00</td>\n",
       "      <td>684327.00</td>\n",
       "    </tr>\n",
       "    <tr>\n",
       "      <th>Nepal</th>\n",
       "      <td>48350650.00</td>\n",
       "      <td>656650.00</td>\n",
       "    </tr>\n",
       "    <tr>\n",
       "      <th>Cook Islands</th>\n",
       "      <td>578400.00</td>\n",
       "      <td>578400.00</td>\n",
       "    </tr>\n",
       "    <tr>\n",
       "      <th>Nauru</th>\n",
       "      <td>570954.00</td>\n",
       "      <td>570400.00</td>\n",
       "    </tr>\n",
       "    <tr>\n",
       "      <th>Central African Rep.</th>\n",
       "      <td>2889000.00</td>\n",
       "      <td>511000.00</td>\n",
       "    </tr>\n",
       "    <tr>\n",
       "      <th>Montserrat</th>\n",
       "      <td>412200.00</td>\n",
       "      <td>412200.00</td>\n",
       "    </tr>\n",
       "    <tr>\n",
       "      <th>Paraguay</th>\n",
       "      <td>1082088620.00</td>\n",
       "      <td>384270.00</td>\n",
       "    </tr>\n",
       "    <tr>\n",
       "      <th>Kiribati</th>\n",
       "      <td>370900.00</td>\n",
       "      <td>370900.00</td>\n",
       "    </tr>\n",
       "    <tr>\n",
       "      <th>Bonaire, St Eustatius, Saba</th>\n",
       "      <td>364600.00</td>\n",
       "      <td>362400.00</td>\n",
       "    </tr>\n",
       "    <tr>\n",
       "      <th>Falkland Is. (Malvinas)</th>\n",
       "      <td>331000.00</td>\n",
       "      <td>300010.00</td>\n",
       "    </tr>\n",
       "    <tr>\n",
       "      <th>Wallis and Futuna Is.</th>\n",
       "      <td>269632.00</td>\n",
       "      <td>269632.00</td>\n",
       "    </tr>\n",
       "    <tr>\n",
       "      <th>St. Helena and Depend.</th>\n",
       "      <td>167270.00</td>\n",
       "      <td>160760.00</td>\n",
       "    </tr>\n",
       "    <tr>\n",
       "      <th>Andorra</th>\n",
       "      <td>1966000.00</td>\n",
       "      <td>122700.00</td>\n",
       "    </tr>\n",
       "    <tr>\n",
       "      <th>Burundi</th>\n",
       "      <td>2545241.00</td>\n",
       "      <td>121871.00</td>\n",
       "    </tr>\n",
       "    <tr>\n",
       "      <th>Iceland</th>\n",
       "      <td>227146000.00</td>\n",
       "      <td>98000.00</td>\n",
       "    </tr>\n",
       "    <tr>\n",
       "      <th>Tuvalu</th>\n",
       "      <td>79060.00</td>\n",
       "      <td>79060.00</td>\n",
       "    </tr>\n",
       "    <tr>\n",
       "      <th>Niue</th>\n",
       "      <td>64202.33</td>\n",
       "      <td>63869.00</td>\n",
       "    </tr>\n",
       "    <tr>\n",
       "      <th>Liechtenstein</th>\n",
       "      <td>577600.00</td>\n",
       "      <td>29400.00</td>\n",
       "    </tr>\n",
       "    <tr>\n",
       "      <th>Bhutan</th>\n",
       "      <td>85237210.00</td>\n",
       "      <td>13560.00</td>\n",
       "    </tr>\n",
       "    <tr>\n",
       "      <th>Lesotho</th>\n",
       "      <td>7302400.00</td>\n",
       "      <td>0.00</td>\n",
       "    </tr>\n",
       "  </tbody>\n",
       "</table>\n",
       "</div>"
      ],
      "text/plain": [
       "                              new_quantity  non_renewable\n",
       "country_or_area                                          \n",
       "United States               85549767000.00 61291850000.00\n",
       "China                       55912127900.00 44958773800.00\n",
       "Japan                       22157381000.00 14951631000.00\n",
       "Russian Federation          19882526000.00 13302272000.00\n",
       "India                       15245741000.00 12636634000.00\n",
       "Germany                     12543013000.00  8239026000.00\n",
       "United Kingdom               7803117000.00  5819427000.00\n",
       "Korea, Republic of           7651171000.00  4952429000.00\n",
       "Italy                        5949869000.00  4664379000.00\n",
       "South Africa                 4865063000.00  4519462000.00\n",
       "Australia                    4667286000.00  4271064000.00\n",
       "Mexico                       4905218000.00  3943177000.00\n",
       "Saudi Arabia                 3671794000.00  3671791000.00\n",
       "Other Asia                   4373222000.00  3368994000.00\n",
       "Iran (Islamic Rep. of)       3559095400.00  3339103800.00\n",
       "Canada                      12657271000.00  3202264000.00\n",
       "Poland                       3177960000.00  3078370000.00\n",
       "Spain                        5307931000.00  2869572000.00\n",
       "Thailand                     2652093200.00  2511782000.00\n",
       "Turkey                       3353771000.00  2468867000.00\n",
       "Indonesia                    2704177170.00  2322339000.00\n",
       "Egypt                        2231267000.00  1940624000.00\n",
       "Netherlands                  2054706000.00  1918580000.00\n",
       "Ukraine                      3884638000.00  1907568000.00\n",
       "Malaysia                     1900808340.00  1752854530.00\n",
       "Brazil                       8526034000.00  1335527000.00\n",
       "Argentina                    2136147170.00  1326179000.00\n",
       "Kazakhstan                   1485510000.00  1323020000.00\n",
       "United Arab Emirates         1301659000.00  1301659000.00\n",
       "France                      11476682000.00  1114594000.00\n",
       "Czechia                      1625272000.00  1104191000.00\n",
       "Pakistan                     1693266000.00  1102306000.00\n",
       "Greece                       1139014000.00  1000049000.00\n",
       "Israel                        998452000.00   995830000.00\n",
       "Kuwait                        894596000.00   894596000.00\n",
       "Uzbekistan                   1035619000.00   863312000.00\n",
       "Finland                      1544952000.00   793383000.00\n",
       "Singapore                     761093530.00   761093530.00\n",
       "Philippines                  1117501794.00   746687916.00\n",
       "Iraq                          789289000.00   740824000.00\n",
       "Belgium                      1747575000.00   735600000.00\n",
       "China, Hong Kong SAR          731318000.00   731318000.00\n",
       "Algeria                       733039000.00   728109000.00\n",
       "Romania                      1222837000.00   716220000.00\n",
       "Viet Nam                     1218229000.00   703376000.00\n",
       "Denmark                       820864000.00   696616000.00\n",
       "Venezuela (Bolivar. Rep.)    2099219040.00   623652040.00\n",
       "Portugal                      940670000.00   620418000.00\n",
       "Belarus                       615698000.00   614797000.00\n",
       "Chile                        1044971000.00   601121000.00\n",
       "Syrian Arab Republic          616120000.00   552962000.00\n",
       "Bangladesh                    571438000.00   552751000.00\n",
       "Bulgaria                      914259000.00   476795000.00\n",
       "Libya                         464848000.00   464848000.00\n",
       "Ireland                       518587000.00   463401000.00\n",
       "Puerto Rico                   465321600.00   461932800.00\n",
       "Austria                      1324302000.00   450504000.00\n",
       "Hungary                       743853000.00   435621000.00\n",
       "Azerbaijan                    423972000.00   380628000.00\n",
       "Qatar                         360944000.00   360944000.00\n",
       "Morocco                       385762000.00   343446000.00\n",
       "Cuba                          334844600.00   332688200.00\n",
       "Nigeria                       442789000.00   314288000.00\n",
       "Colombia                     1119718590.00   308448000.00\n",
       "Oman                          291486000.00   291486000.00\n",
       "Bahrain                       278928000.00   278928000.00\n",
       "Sweden                       3145664000.00   276251000.00\n",
       "Turkmenistan                  275410000.00   275346000.00\n",
       "Serbia and Montenegro         398709000.00   269906000.00\n",
       "Serbia                        372642000.00   264151000.00\n",
       "Tunisia                       266057720.00   262705000.00\n",
       "New Zealand                   860683000.00   256020000.00\n",
       "Lebanon                       248960000.00   233077000.00\n",
       "Dominican Republic            254716060.00   223509190.00\n",
       "Jordan                        220496400.00   219539000.00\n",
       "Estonia                       213973000.00   210857000.00\n",
       "Peru                          568442686.00   190538636.30\n",
       "Slovakia                      602865000.00   186759000.00\n",
       "Korea, Dem.Ppl's.Rep.         432216000.00   172276000.00\n",
       "Trinidad and Tobago           141218000.00   141218000.00\n",
       "Bosnia and Herzegovina        248110000.00   138324000.00\n",
       "Ecuador                       306219100.00   132887500.00\n",
       "Jamaica                       121122700.00   117556500.00\n",
       "Croatia                       257915000.00   115365000.00\n",
       "Slovenia                      310662000.00   115288000.00\n",
       "T.F.Yug.Rep. Macedonia        136580131.00   111468080.00\n",
       "Yemen                         101587000.00   101587000.00\n",
       "Sri Lanka                     175884078.00    91154259.00\n",
       "Zimbabwe                      173461500.00    85211800.00\n",
       "Cyprus                         83410000.00    82484000.00\n",
       "Mongolia                       80870100.00    80870100.00\n",
       "Guatemala                     146343100.00    80611600.00\n",
       "Côte d'Ivoire                 110336600.00    74235600.00\n",
       "Brunei Darussalam              66117000.00    66109000.00\n",
       "Bolivia (Plur. State of)      107582200.00    65320000.00\n",
       "Switzerland                  1396666000.00    64109000.00\n",
       "Myanmar                       139357820.00    61796280.00\n",
       "Lithuania                     264696000.00    59624000.00\n",
       "Honduras                      108030000.00    58012000.00\n",
       "Panama                        123837100.00    49196400.00\n",
       "Armenia                       131479000.00    48021000.00\n",
       "El Salvador                   100917000.00    44732000.00\n",
       "Nicaragua                      60548000.00    43439000.00\n",
       "Republic of Moldova            45910000.00    43382000.00\n",
       "Malta                          42838000.00    42697000.00\n",
       "Mauritius                      44033900.00    42029300.00\n",
       "Senegal                        42029000.00    42002000.00\n",
       "Kyrgyzstan                    302077000.00    41407000.00\n",
       "Ghana                         170828000.00    41126000.00\n",
       "Latvia                        102654000.00    39824000.00\n",
       "Kenya                         124911300.00    39784200.00\n",
       "Norway                       2652391000.00    39225000.00\n",
       "Guam                           38562100.00    38562100.00\n",
       "Papua New Guinea               61858000.00    38514000.00\n",
       "Luxembourg                     59338000.00    37962000.00\n",
       "Bahamas                        37699400.00    37699400.00\n",
       "Uruguay                       181925300.00    35314500.00\n",
       "Georgia                       175170000.00    33476000.00\n",
       "Sudan (former)                 66746000.00    33268000.00\n",
       "Réunion                        44543880.00    31883200.00\n",
       "New Caledonia                  38845680.00    30793100.00\n",
       "United Rep. of Tanzania        74112000.00    29404000.00\n",
       "Martinique                     29818994.00    29228075.00\n",
       "Guadeloupe                     30927000.00    29013000.00\n",
       "China, Macao SAR               28456000.00    28456000.00\n",
       "Angola                         68871000.00    22360000.00\n",
       "Neth. Antilles (former)        20929000.00    20929000.00\n",
       "United States Virgin Is.       20701765.00    20693881.00\n",
       "Botswana                       19427800.00    19423200.00\n",
       "Barbados                       18724180.00    18724180.00\n",
       "Guyana                         16847220.00    16822220.00\n",
       "Aruba                          17305800.00    16673500.00\n",
       "Gabon                          34002000.00    16061000.00\n",
       "Cameroon                       94063000.00    15728000.00\n",
       "Cambodia                       19131000.00    14935000.00\n",
       "Bermuda                        13546200.00    13546200.00\n",
       "Suriname                       33052600.00    12890200.00\n",
       "Costa Rica                    163570297.00    12385933.35\n",
       "Montenegro                     30435000.00    12263000.00\n",
       "Mauritania                     11353107.00    11205107.00\n",
       "Mali                           21947770.00    10874950.00\n",
       "Cayman Islands                 10380790.00    10380790.00\n",
       "Madagascar                     22893253.90     9950049.20\n",
       "Guinea                         18419390.00     9229390.00\n",
       "Haiti                          13778000.00     8963000.00\n",
       "French Polynesia               12176066.00     8475716.00\n",
       "Northern Mariana Islands        8196500.00     8196500.00\n",
       "Burkina Faso                   10091871.00     8121498.00\n",
       "Sudan                          31493000.00     7644000.00\n",
       "Uganda                         39458250.00     6846600.00\n",
       "Fiji                           15598253.00     6624975.00\n",
       "St. Lucia                       6365597.00     6365597.00\n",
       "Somalia                         6246000.00     6246000.00\n",
       "French Guiana                  13875000.00     6027000.00\n",
       "State of Palestine              5955200.00     5955200.00\n",
       "Swaziland                      10064230.00     5669870.00\n",
       "Djibouti                        5668000.00     5668000.00\n",
       "Eritrea                         5578000.00     5551000.00\n",
       "Lao People's Dem. Rep.         70597066.60     5402000.00\n",
       "Liberia                         5234000.00     5234000.00\n",
       "Isle of Man                     5104700.00     5062800.00\n",
       "Seychelles                      4897380.00     4882630.00\n",
       "Niger                           4868975.00     4868940.00\n",
       "Antigua and Barbuda             4691800.00     4691800.00\n",
       "Tajikistan                    335050000.00     4510000.00\n",
       "Cabo Verde                      4731360.00     4375890.00\n",
       "Afghanistan                    17350600.00     4160500.00\n",
       "Greenland                       7891382.30     4015433.60\n",
       "Malawi                         31599160.00     3933770.00\n",
       "Congo                          13292000.00     3764000.00\n",
       "Maldives                        3752207.00     3744677.00\n",
       "Gambia                          3646900.00     3646900.00\n",
       "St. Kitts-Nevis                 3626100.00     3589100.00\n",
       "American Samoa                  3486686.00     3483386.00\n",
       "Grenada                         3198740.00     3198740.00\n",
       "Mayotte                         3191630.00     3121300.00\n",
       "Mozambique                    231105000.00     3102000.00\n",
       "Faeroe Islands                  5062490.00     3040811.00\n",
       "Gibraltar                       3023000.00     3023000.00\n",
       "Jersey                          2975500.00     2975500.00\n",
       "Chad                            2870000.00     2870000.00\n",
       "Turks and Caicos Islands        2753900.00     2753900.00\n",
       "Curaçao                         2712000.00     2616000.00\n",
       "Togo                            5919000.00     2372900.00\n",
       "Benin                           2372000.00     2358000.00\n",
       "Namibia                        29600000.00     2082000.00\n",
       "British Virgin Islands          2080000.00     2080000.00\n",
       "Palau                           2043700.00     2043700.00\n",
       "Belize                          4709655.22     2030191.76\n",
       "Equatorial Guinea               2986300.00     1918300.00\n",
       "St. Vincent-Grenadines          2417400.00     1905580.00\n",
       "Albania                       104104770.00     1863040.00\n",
       "Marshall Islands                1844200.00     1843600.00\n",
       "Rwanda                          4258924.00     1802704.00\n",
       "Sierra Leone                    2736183.00     1787370.00\n",
       "Timor-Leste                     1716625.00     1716625.00\n",
       "Micronesia (Fed. States of)     1688860.00     1669660.00\n",
       "Guernsey                        1574800.00     1574800.00\n",
       "Solomon Islands                 1552900.00     1552900.00\n",
       "Ethiopia                       74624000.00     1527000.00\n",
       "South Sudan                     1405000.00     1399000.00\n",
       "Anguilla                        1336800.00     1336800.00\n",
       "Samoa                           2183200.00     1313400.00\n",
       "Sint Maarten (Dutch part)       1229300.00     1229300.00\n",
       "Zambia                        196650000.00     1146000.00\n",
       "Dominica                        1695480.00     1082980.00\n",
       "Vanuatu                         1077750.00      989450.00\n",
       "Tonga                            918634.00      914086.00\n",
       "St. Pierre-Miquelon              918110.00      905260.00\n",
       "Comoros                          828800.00      828800.00\n",
       "Dem. Rep. of the Congo        141688000.00      737000.00\n",
       "Sao Tome and Principe            826900.00      688100.00\n",
       "Guinea-Bissau                    684327.00      684327.00\n",
       "Nepal                          48350650.00      656650.00\n",
       "Cook Islands                     578400.00      578400.00\n",
       "Nauru                            570954.00      570400.00\n",
       "Central African Rep.            2889000.00      511000.00\n",
       "Montserrat                       412200.00      412200.00\n",
       "Paraguay                     1082088620.00      384270.00\n",
       "Kiribati                         370900.00      370900.00\n",
       "Bonaire, St Eustatius, Saba      364600.00      362400.00\n",
       "Falkland Is. (Malvinas)          331000.00      300010.00\n",
       "Wallis and Futuna Is.            269632.00      269632.00\n",
       "St. Helena and Depend.           167270.00      160760.00\n",
       "Andorra                         1966000.00      122700.00\n",
       "Burundi                         2545241.00      121871.00\n",
       "Iceland                       227146000.00       98000.00\n",
       "Tuvalu                            79060.00       79060.00\n",
       "Niue                              64202.33       63869.00\n",
       "Liechtenstein                    577600.00       29400.00\n",
       "Bhutan                         85237210.00       13560.00\n",
       "Lesotho                         7302400.00           0.00"
      ]
     },
     "execution_count": 7,
     "metadata": {},
     "output_type": "execute_result"
    }
   ],
   "source": [
    "#  ranking of all countries - electricity consumption non-renewable sources (20 years of production)\n",
    "rank_all_non_r = df.groupby(['country_or_area']).agg({'new_quantity':'sum','non_renewable':'sum'})\n",
    "rank_all_non_r.sort_values('non_renewable',ascending = False, inplace = True)\n",
    "rank_all_non_r"
   ]
  },
  {
   "cell_type": "code",
   "execution_count": 8,
   "id": "66b7f862",
   "metadata": {},
   "outputs": [
    {
     "data": {
      "application/vnd.plotly.v1+json": {
       "config": {
        "linkText": "Export to plot.ly",
        "plotlyServerURL": "https://plot.ly",
        "showLink": true
       },
       "data": [
        {
         "line": {
          "color": "rgba(255, 153, 51, 1.0)",
          "dash": "solid",
          "shape": "linear",
          "width": 1.3
         },
         "mode": "lines",
         "name": "new_quantity",
         "text": "",
         "type": "scatter",
         "x": [
          "United States",
          "China",
          "Japan",
          "Russian Federation",
          "India",
          "Germany",
          "United Kingdom",
          "Korea, Republic of",
          "Italy",
          "South Africa",
          "Australia",
          "Mexico",
          "Saudi Arabia",
          "Other Asia",
          "Iran (Islamic Rep. of)",
          "Canada",
          "Poland",
          "Spain",
          "Thailand",
          "Turkey",
          "Indonesia",
          "Egypt",
          "Netherlands",
          "Ukraine",
          "Malaysia",
          "Brazil",
          "Argentina",
          "Kazakhstan",
          "United Arab Emirates",
          "France",
          "Czechia",
          "Pakistan",
          "Greece",
          "Israel",
          "Kuwait",
          "Uzbekistan",
          "Finland",
          "Singapore",
          "Philippines",
          "Iraq",
          "Belgium",
          "China, Hong Kong SAR",
          "Algeria",
          "Romania",
          "Viet Nam",
          "Denmark",
          "Venezuela (Bolivar. Rep.)",
          "Portugal",
          "Belarus",
          "Chile",
          "Syrian Arab Republic",
          "Bangladesh",
          "Bulgaria",
          "Libya",
          "Ireland",
          "Puerto Rico",
          "Austria",
          "Hungary",
          "Azerbaijan",
          "Qatar",
          "Morocco",
          "Cuba",
          "Nigeria",
          "Colombia",
          "Oman",
          "Bahrain",
          "Sweden",
          "Turkmenistan",
          "Serbia and Montenegro",
          "Serbia",
          "Tunisia",
          "New Zealand",
          "Lebanon",
          "Dominican Republic",
          "Jordan",
          "Estonia",
          "Peru",
          "Slovakia",
          "Korea, Dem.Ppl's.Rep.",
          "Trinidad and Tobago",
          "Bosnia and Herzegovina",
          "Ecuador",
          "Jamaica",
          "Croatia",
          "Slovenia",
          "T.F.Yug.Rep. Macedonia",
          "Yemen",
          "Sri Lanka",
          "Zimbabwe",
          "Cyprus",
          "Mongolia",
          "Guatemala",
          "Côte d'Ivoire",
          "Brunei Darussalam",
          "Bolivia (Plur. State of)",
          "Switzerland",
          "Myanmar",
          "Lithuania",
          "Honduras",
          "Panama",
          "Armenia",
          "El Salvador",
          "Nicaragua",
          "Republic of Moldova",
          "Malta",
          "Mauritius",
          "Senegal",
          "Kyrgyzstan",
          "Ghana",
          "Latvia",
          "Kenya",
          "Norway",
          "Guam",
          "Papua New Guinea",
          "Luxembourg",
          "Bahamas",
          "Uruguay",
          "Georgia",
          "Sudan (former)",
          "Réunion",
          "New Caledonia",
          "United Rep. of Tanzania",
          "Martinique",
          "Guadeloupe",
          "China, Macao SAR",
          "Angola",
          "Neth. Antilles (former)",
          "United States Virgin Is.",
          "Botswana",
          "Barbados",
          "Guyana",
          "Aruba",
          "Gabon",
          "Cameroon",
          "Cambodia",
          "Bermuda",
          "Suriname",
          "Costa Rica",
          "Montenegro",
          "Mauritania",
          "Mali",
          "Cayman Islands",
          "Madagascar",
          "Guinea",
          "Haiti",
          "French Polynesia",
          "Northern Mariana Islands",
          "Burkina Faso",
          "Sudan",
          "Uganda",
          "Fiji",
          "St. Lucia",
          "Somalia",
          "French Guiana",
          "State of Palestine",
          "Swaziland",
          "Djibouti",
          "Eritrea",
          "Lao People's Dem. Rep.",
          "Liberia",
          "Isle of Man",
          "Seychelles",
          "Niger",
          "Antigua and Barbuda",
          "Tajikistan",
          "Cabo Verde",
          "Afghanistan",
          "Greenland",
          "Malawi",
          "Congo",
          "Maldives",
          "Gambia",
          "St. Kitts-Nevis",
          "American Samoa",
          "Grenada",
          "Mayotte",
          "Mozambique",
          "Faeroe Islands",
          "Gibraltar",
          "Jersey",
          "Chad",
          "Turks and Caicos Islands",
          "Curaçao",
          "Togo",
          "Benin",
          "Namibia",
          "British Virgin Islands",
          "Palau",
          "Belize",
          "Equatorial Guinea",
          "St. Vincent-Grenadines",
          "Albania",
          "Marshall Islands",
          "Rwanda",
          "Sierra Leone",
          "Timor-Leste",
          "Micronesia (Fed. States of)",
          "Guernsey",
          "Solomon Islands",
          "Ethiopia",
          "South Sudan",
          "Anguilla",
          "Samoa",
          "Sint Maarten (Dutch part)",
          "Zambia",
          "Dominica",
          "Vanuatu",
          "Tonga",
          "St. Pierre-Miquelon",
          "Comoros",
          "Dem. Rep. of the Congo",
          "Sao Tome and Principe",
          "Guinea-Bissau",
          "Nepal",
          "Cook Islands",
          "Nauru",
          "Central African Rep.",
          "Montserrat",
          "Paraguay",
          "Kiribati",
          "Bonaire, St Eustatius, Saba",
          "Falkland Is. (Malvinas)",
          "Wallis and Futuna Is.",
          "St. Helena and Depend.",
          "Andorra",
          "Burundi",
          "Iceland",
          "Tuvalu",
          "Niue",
          "Liechtenstein",
          "Bhutan",
          "Lesotho"
         ],
         "y": [
          85549767000,
          55912127900,
          22157381000,
          19882526000,
          15245741000,
          12543013000,
          7803117000,
          7651171000,
          5949869000,
          4865063000,
          4667286000,
          4905218000,
          3671794000,
          4373222000,
          3559095400,
          12657271000,
          3177960000,
          5307931000,
          2652093200,
          3353771000,
          2704177170,
          2231267000,
          2054706000,
          3884638000,
          1900808340,
          8526034000,
          2136147170,
          1485510000,
          1301659000,
          11476682000,
          1625272000,
          1693266000,
          1139014000,
          998452000,
          894596000,
          1035619000,
          1544952000,
          761093530,
          1117501794,
          789289000,
          1747575000,
          731318000,
          733039000,
          1222837000,
          1218229000,
          820864000,
          2099219040,
          940670000,
          615698000,
          1044971000,
          616120000,
          571438000,
          914259000,
          464848000,
          518587000,
          465321600,
          1324302000,
          743853000,
          423972000,
          360944000,
          385762000,
          334844600,
          442789000,
          1119718590,
          291486000,
          278928000,
          3145664000,
          275410000,
          398709000,
          372642000,
          266057720,
          860683000,
          248960000,
          254716060,
          220496400,
          213973000,
          568442686,
          602865000,
          432216000,
          141218000,
          248110000,
          306219100,
          121122700,
          257915000,
          310662000,
          136580131,
          101587000,
          175884078,
          173461500,
          83410000,
          80870100,
          146343100,
          110336600,
          66117000,
          107582200,
          1396666000,
          139357820,
          264696000,
          108030000,
          123837100,
          131479000,
          100917000,
          60548000,
          45910000,
          42838000,
          44033900,
          42029000,
          302077000,
          170828000,
          102654000,
          124911300,
          2652391000,
          38562100,
          61858000,
          59338000,
          37699400,
          181925300,
          175170000,
          66746000,
          44543880,
          38845680,
          74112000,
          29818994,
          30927000,
          28456000,
          68871000,
          20929000,
          20701765,
          19427800,
          18724180,
          16847220,
          17305800,
          34002000,
          94063000,
          19131000,
          13546200,
          33052600,
          163570297,
          30435000,
          11353107,
          21947770,
          10380790,
          22893253.9,
          18419390,
          13778000,
          12176066,
          8196500,
          10091871,
          31493000,
          39458250,
          15598253,
          6365597,
          6246000,
          13875000,
          5955200,
          10064230,
          5668000,
          5578000,
          70597066.6,
          5234000,
          5104700,
          4897380,
          4868975,
          4691800,
          335050000,
          4731360,
          17350600,
          7891382.3,
          31599160,
          13292000,
          3752207,
          3646900,
          3626100,
          3486686,
          3198740,
          3191630,
          231105000,
          5062490,
          3023000,
          2975500,
          2870000,
          2753900,
          2712000,
          5919000,
          2372000,
          29600000,
          2080000,
          2043700,
          4709655.22,
          2986300,
          2417400,
          104104770,
          1844200,
          4258924,
          2736183,
          1716625,
          1688860,
          1574800,
          1552900,
          74624000,
          1405000,
          1336800,
          2183200,
          1229300,
          196650000,
          1695480,
          1077750,
          918634,
          918110,
          828800,
          141688000,
          826900,
          684327,
          48350650,
          578400,
          570954,
          2889000,
          412200,
          1082088620,
          370900,
          364600,
          331000,
          269632,
          167270,
          1966000,
          2545241,
          227146000,
          79060,
          64202.3334,
          577600,
          85237210,
          7302400
         ]
        },
        {
         "line": {
          "color": "rgba(55, 128, 191, 1.0)",
          "dash": "solid",
          "shape": "linear",
          "width": 1.3
         },
         "mode": "lines",
         "name": "non_renewable",
         "text": "",
         "type": "scatter",
         "x": [
          "United States",
          "China",
          "Japan",
          "Russian Federation",
          "India",
          "Germany",
          "United Kingdom",
          "Korea, Republic of",
          "Italy",
          "South Africa",
          "Australia",
          "Mexico",
          "Saudi Arabia",
          "Other Asia",
          "Iran (Islamic Rep. of)",
          "Canada",
          "Poland",
          "Spain",
          "Thailand",
          "Turkey",
          "Indonesia",
          "Egypt",
          "Netherlands",
          "Ukraine",
          "Malaysia",
          "Brazil",
          "Argentina",
          "Kazakhstan",
          "United Arab Emirates",
          "France",
          "Czechia",
          "Pakistan",
          "Greece",
          "Israel",
          "Kuwait",
          "Uzbekistan",
          "Finland",
          "Singapore",
          "Philippines",
          "Iraq",
          "Belgium",
          "China, Hong Kong SAR",
          "Algeria",
          "Romania",
          "Viet Nam",
          "Denmark",
          "Venezuela (Bolivar. Rep.)",
          "Portugal",
          "Belarus",
          "Chile",
          "Syrian Arab Republic",
          "Bangladesh",
          "Bulgaria",
          "Libya",
          "Ireland",
          "Puerto Rico",
          "Austria",
          "Hungary",
          "Azerbaijan",
          "Qatar",
          "Morocco",
          "Cuba",
          "Nigeria",
          "Colombia",
          "Oman",
          "Bahrain",
          "Sweden",
          "Turkmenistan",
          "Serbia and Montenegro",
          "Serbia",
          "Tunisia",
          "New Zealand",
          "Lebanon",
          "Dominican Republic",
          "Jordan",
          "Estonia",
          "Peru",
          "Slovakia",
          "Korea, Dem.Ppl's.Rep.",
          "Trinidad and Tobago",
          "Bosnia and Herzegovina",
          "Ecuador",
          "Jamaica",
          "Croatia",
          "Slovenia",
          "T.F.Yug.Rep. Macedonia",
          "Yemen",
          "Sri Lanka",
          "Zimbabwe",
          "Cyprus",
          "Mongolia",
          "Guatemala",
          "Côte d'Ivoire",
          "Brunei Darussalam",
          "Bolivia (Plur. State of)",
          "Switzerland",
          "Myanmar",
          "Lithuania",
          "Honduras",
          "Panama",
          "Armenia",
          "El Salvador",
          "Nicaragua",
          "Republic of Moldova",
          "Malta",
          "Mauritius",
          "Senegal",
          "Kyrgyzstan",
          "Ghana",
          "Latvia",
          "Kenya",
          "Norway",
          "Guam",
          "Papua New Guinea",
          "Luxembourg",
          "Bahamas",
          "Uruguay",
          "Georgia",
          "Sudan (former)",
          "Réunion",
          "New Caledonia",
          "United Rep. of Tanzania",
          "Martinique",
          "Guadeloupe",
          "China, Macao SAR",
          "Angola",
          "Neth. Antilles (former)",
          "United States Virgin Is.",
          "Botswana",
          "Barbados",
          "Guyana",
          "Aruba",
          "Gabon",
          "Cameroon",
          "Cambodia",
          "Bermuda",
          "Suriname",
          "Costa Rica",
          "Montenegro",
          "Mauritania",
          "Mali",
          "Cayman Islands",
          "Madagascar",
          "Guinea",
          "Haiti",
          "French Polynesia",
          "Northern Mariana Islands",
          "Burkina Faso",
          "Sudan",
          "Uganda",
          "Fiji",
          "St. Lucia",
          "Somalia",
          "French Guiana",
          "State of Palestine",
          "Swaziland",
          "Djibouti",
          "Eritrea",
          "Lao People's Dem. Rep.",
          "Liberia",
          "Isle of Man",
          "Seychelles",
          "Niger",
          "Antigua and Barbuda",
          "Tajikistan",
          "Cabo Verde",
          "Afghanistan",
          "Greenland",
          "Malawi",
          "Congo",
          "Maldives",
          "Gambia",
          "St. Kitts-Nevis",
          "American Samoa",
          "Grenada",
          "Mayotte",
          "Mozambique",
          "Faeroe Islands",
          "Gibraltar",
          "Jersey",
          "Chad",
          "Turks and Caicos Islands",
          "Curaçao",
          "Togo",
          "Benin",
          "Namibia",
          "British Virgin Islands",
          "Palau",
          "Belize",
          "Equatorial Guinea",
          "St. Vincent-Grenadines",
          "Albania",
          "Marshall Islands",
          "Rwanda",
          "Sierra Leone",
          "Timor-Leste",
          "Micronesia (Fed. States of)",
          "Guernsey",
          "Solomon Islands",
          "Ethiopia",
          "South Sudan",
          "Anguilla",
          "Samoa",
          "Sint Maarten (Dutch part)",
          "Zambia",
          "Dominica",
          "Vanuatu",
          "Tonga",
          "St. Pierre-Miquelon",
          "Comoros",
          "Dem. Rep. of the Congo",
          "Sao Tome and Principe",
          "Guinea-Bissau",
          "Nepal",
          "Cook Islands",
          "Nauru",
          "Central African Rep.",
          "Montserrat",
          "Paraguay",
          "Kiribati",
          "Bonaire, St Eustatius, Saba",
          "Falkland Is. (Malvinas)",
          "Wallis and Futuna Is.",
          "St. Helena and Depend.",
          "Andorra",
          "Burundi",
          "Iceland",
          "Tuvalu",
          "Niue",
          "Liechtenstein",
          "Bhutan",
          "Lesotho"
         ],
         "y": [
          61291850000,
          44958773800,
          14951631000,
          13302272000,
          12636634000,
          8239026000,
          5819427000,
          4952429000,
          4664379000,
          4519462000,
          4271064000,
          3943177000,
          3671791000,
          3368994000,
          3339103800,
          3202264000,
          3078370000,
          2869572000,
          2511782000,
          2468867000,
          2322339000,
          1940624000,
          1918580000,
          1907568000,
          1752854530,
          1335527000,
          1326179000,
          1323020000,
          1301659000,
          1114594000,
          1104191000,
          1102306000,
          1000049000,
          995830000,
          894596000,
          863312000,
          793383000,
          761093530,
          746687916,
          740824000,
          735600000,
          731318000,
          728109000,
          716220000,
          703376000,
          696616000,
          623652040,
          620418000,
          614797000,
          601121000,
          552962000,
          552751000,
          476795000,
          464848000,
          463401000,
          461932800,
          450504000,
          435621000,
          380628000,
          360944000,
          343446000,
          332688200,
          314288000,
          308448000,
          291486000,
          278928000,
          276251000,
          275346000,
          269906000,
          264151000,
          262705000,
          256020000,
          233077000,
          223509190,
          219539000,
          210857000,
          190538636.3,
          186759000,
          172276000,
          141218000,
          138324000,
          132887500,
          117556500,
          115365000,
          115288000,
          111468080,
          101587000,
          91154259,
          85211800,
          82484000,
          80870100,
          80611600,
          74235600,
          66109000,
          65320000,
          64109000,
          61796280,
          59624000,
          58012000,
          49196400,
          48021000,
          44732000,
          43439000,
          43382000,
          42697000,
          42029300,
          42002000,
          41407000,
          41126000,
          39824000,
          39784200,
          39225000,
          38562100,
          38514000,
          37962000,
          37699400,
          35314500,
          33476000,
          33268000,
          31883200,
          30793100,
          29404000,
          29228075,
          29013000,
          28456000,
          22360000,
          20929000,
          20693881,
          19423200,
          18724180,
          16822220,
          16673500,
          16061000,
          15728000,
          14935000,
          13546200,
          12890200,
          12385933.35,
          12263000,
          11205107,
          10874950,
          10380790,
          9950049.2,
          9229390,
          8963000,
          8475716,
          8196500,
          8121498,
          7644000,
          6846600,
          6624975,
          6365597,
          6246000,
          6027000,
          5955200,
          5669870,
          5668000,
          5551000,
          5402000,
          5234000,
          5062800,
          4882630,
          4868940,
          4691800,
          4510000,
          4375890,
          4160500,
          4015433.6,
          3933770,
          3764000,
          3744677,
          3646900,
          3589100,
          3483386,
          3198740,
          3121300,
          3102000,
          3040811,
          3023000,
          2975500,
          2870000,
          2753900,
          2616000,
          2372900,
          2358000,
          2082000,
          2080000,
          2043700,
          2030191.762,
          1918300,
          1905580,
          1863040,
          1843600,
          1802704,
          1787370,
          1716625,
          1669660,
          1574800,
          1552900,
          1527000,
          1399000,
          1336800,
          1313400,
          1229300,
          1146000,
          1082980,
          989450,
          914086,
          905260,
          828800,
          737000,
          688100,
          684327,
          656650,
          578400,
          570400,
          511000,
          412200,
          384270,
          370900,
          362400,
          300010,
          269632,
          160760,
          122700,
          121871,
          98000,
          79060,
          63869,
          29400,
          13560,
          0
         ]
        }
       ],
       "layout": {
        "legend": {
         "bgcolor": "#F5F6F9",
         "font": {
          "color": "#4D5663"
         }
        },
        "paper_bgcolor": "#F5F6F9",
        "plot_bgcolor": "#F5F6F9",
        "template": {
         "data": {
          "bar": [
           {
            "error_x": {
             "color": "#2a3f5f"
            },
            "error_y": {
             "color": "#2a3f5f"
            },
            "marker": {
             "line": {
              "color": "#E5ECF6",
              "width": 0.5
             },
             "pattern": {
              "fillmode": "overlay",
              "size": 10,
              "solidity": 0.2
             }
            },
            "type": "bar"
           }
          ],
          "barpolar": [
           {
            "marker": {
             "line": {
              "color": "#E5ECF6",
              "width": 0.5
             },
             "pattern": {
              "fillmode": "overlay",
              "size": 10,
              "solidity": 0.2
             }
            },
            "type": "barpolar"
           }
          ],
          "carpet": [
           {
            "aaxis": {
             "endlinecolor": "#2a3f5f",
             "gridcolor": "white",
             "linecolor": "white",
             "minorgridcolor": "white",
             "startlinecolor": "#2a3f5f"
            },
            "baxis": {
             "endlinecolor": "#2a3f5f",
             "gridcolor": "white",
             "linecolor": "white",
             "minorgridcolor": "white",
             "startlinecolor": "#2a3f5f"
            },
            "type": "carpet"
           }
          ],
          "choropleth": [
           {
            "colorbar": {
             "outlinewidth": 0,
             "ticks": ""
            },
            "type": "choropleth"
           }
          ],
          "contour": [
           {
            "colorbar": {
             "outlinewidth": 0,
             "ticks": ""
            },
            "colorscale": [
             [
              0,
              "#0d0887"
             ],
             [
              0.1111111111111111,
              "#46039f"
             ],
             [
              0.2222222222222222,
              "#7201a8"
             ],
             [
              0.3333333333333333,
              "#9c179e"
             ],
             [
              0.4444444444444444,
              "#bd3786"
             ],
             [
              0.5555555555555556,
              "#d8576b"
             ],
             [
              0.6666666666666666,
              "#ed7953"
             ],
             [
              0.7777777777777778,
              "#fb9f3a"
             ],
             [
              0.8888888888888888,
              "#fdca26"
             ],
             [
              1,
              "#f0f921"
             ]
            ],
            "type": "contour"
           }
          ],
          "contourcarpet": [
           {
            "colorbar": {
             "outlinewidth": 0,
             "ticks": ""
            },
            "type": "contourcarpet"
           }
          ],
          "heatmap": [
           {
            "colorbar": {
             "outlinewidth": 0,
             "ticks": ""
            },
            "colorscale": [
             [
              0,
              "#0d0887"
             ],
             [
              0.1111111111111111,
              "#46039f"
             ],
             [
              0.2222222222222222,
              "#7201a8"
             ],
             [
              0.3333333333333333,
              "#9c179e"
             ],
             [
              0.4444444444444444,
              "#bd3786"
             ],
             [
              0.5555555555555556,
              "#d8576b"
             ],
             [
              0.6666666666666666,
              "#ed7953"
             ],
             [
              0.7777777777777778,
              "#fb9f3a"
             ],
             [
              0.8888888888888888,
              "#fdca26"
             ],
             [
              1,
              "#f0f921"
             ]
            ],
            "type": "heatmap"
           }
          ],
          "heatmapgl": [
           {
            "colorbar": {
             "outlinewidth": 0,
             "ticks": ""
            },
            "colorscale": [
             [
              0,
              "#0d0887"
             ],
             [
              0.1111111111111111,
              "#46039f"
             ],
             [
              0.2222222222222222,
              "#7201a8"
             ],
             [
              0.3333333333333333,
              "#9c179e"
             ],
             [
              0.4444444444444444,
              "#bd3786"
             ],
             [
              0.5555555555555556,
              "#d8576b"
             ],
             [
              0.6666666666666666,
              "#ed7953"
             ],
             [
              0.7777777777777778,
              "#fb9f3a"
             ],
             [
              0.8888888888888888,
              "#fdca26"
             ],
             [
              1,
              "#f0f921"
             ]
            ],
            "type": "heatmapgl"
           }
          ],
          "histogram": [
           {
            "marker": {
             "pattern": {
              "fillmode": "overlay",
              "size": 10,
              "solidity": 0.2
             }
            },
            "type": "histogram"
           }
          ],
          "histogram2d": [
           {
            "colorbar": {
             "outlinewidth": 0,
             "ticks": ""
            },
            "colorscale": [
             [
              0,
              "#0d0887"
             ],
             [
              0.1111111111111111,
              "#46039f"
             ],
             [
              0.2222222222222222,
              "#7201a8"
             ],
             [
              0.3333333333333333,
              "#9c179e"
             ],
             [
              0.4444444444444444,
              "#bd3786"
             ],
             [
              0.5555555555555556,
              "#d8576b"
             ],
             [
              0.6666666666666666,
              "#ed7953"
             ],
             [
              0.7777777777777778,
              "#fb9f3a"
             ],
             [
              0.8888888888888888,
              "#fdca26"
             ],
             [
              1,
              "#f0f921"
             ]
            ],
            "type": "histogram2d"
           }
          ],
          "histogram2dcontour": [
           {
            "colorbar": {
             "outlinewidth": 0,
             "ticks": ""
            },
            "colorscale": [
             [
              0,
              "#0d0887"
             ],
             [
              0.1111111111111111,
              "#46039f"
             ],
             [
              0.2222222222222222,
              "#7201a8"
             ],
             [
              0.3333333333333333,
              "#9c179e"
             ],
             [
              0.4444444444444444,
              "#bd3786"
             ],
             [
              0.5555555555555556,
              "#d8576b"
             ],
             [
              0.6666666666666666,
              "#ed7953"
             ],
             [
              0.7777777777777778,
              "#fb9f3a"
             ],
             [
              0.8888888888888888,
              "#fdca26"
             ],
             [
              1,
              "#f0f921"
             ]
            ],
            "type": "histogram2dcontour"
           }
          ],
          "mesh3d": [
           {
            "colorbar": {
             "outlinewidth": 0,
             "ticks": ""
            },
            "type": "mesh3d"
           }
          ],
          "parcoords": [
           {
            "line": {
             "colorbar": {
              "outlinewidth": 0,
              "ticks": ""
             }
            },
            "type": "parcoords"
           }
          ],
          "pie": [
           {
            "automargin": true,
            "type": "pie"
           }
          ],
          "scatter": [
           {
            "marker": {
             "colorbar": {
              "outlinewidth": 0,
              "ticks": ""
             }
            },
            "type": "scatter"
           }
          ],
          "scatter3d": [
           {
            "line": {
             "colorbar": {
              "outlinewidth": 0,
              "ticks": ""
             }
            },
            "marker": {
             "colorbar": {
              "outlinewidth": 0,
              "ticks": ""
             }
            },
            "type": "scatter3d"
           }
          ],
          "scattercarpet": [
           {
            "marker": {
             "colorbar": {
              "outlinewidth": 0,
              "ticks": ""
             }
            },
            "type": "scattercarpet"
           }
          ],
          "scattergeo": [
           {
            "marker": {
             "colorbar": {
              "outlinewidth": 0,
              "ticks": ""
             }
            },
            "type": "scattergeo"
           }
          ],
          "scattergl": [
           {
            "marker": {
             "colorbar": {
              "outlinewidth": 0,
              "ticks": ""
             }
            },
            "type": "scattergl"
           }
          ],
          "scattermapbox": [
           {
            "marker": {
             "colorbar": {
              "outlinewidth": 0,
              "ticks": ""
             }
            },
            "type": "scattermapbox"
           }
          ],
          "scatterpolar": [
           {
            "marker": {
             "colorbar": {
              "outlinewidth": 0,
              "ticks": ""
             }
            },
            "type": "scatterpolar"
           }
          ],
          "scatterpolargl": [
           {
            "marker": {
             "colorbar": {
              "outlinewidth": 0,
              "ticks": ""
             }
            },
            "type": "scatterpolargl"
           }
          ],
          "scatterternary": [
           {
            "marker": {
             "colorbar": {
              "outlinewidth": 0,
              "ticks": ""
             }
            },
            "type": "scatterternary"
           }
          ],
          "surface": [
           {
            "colorbar": {
             "outlinewidth": 0,
             "ticks": ""
            },
            "colorscale": [
             [
              0,
              "#0d0887"
             ],
             [
              0.1111111111111111,
              "#46039f"
             ],
             [
              0.2222222222222222,
              "#7201a8"
             ],
             [
              0.3333333333333333,
              "#9c179e"
             ],
             [
              0.4444444444444444,
              "#bd3786"
             ],
             [
              0.5555555555555556,
              "#d8576b"
             ],
             [
              0.6666666666666666,
              "#ed7953"
             ],
             [
              0.7777777777777778,
              "#fb9f3a"
             ],
             [
              0.8888888888888888,
              "#fdca26"
             ],
             [
              1,
              "#f0f921"
             ]
            ],
            "type": "surface"
           }
          ],
          "table": [
           {
            "cells": {
             "fill": {
              "color": "#EBF0F8"
             },
             "line": {
              "color": "white"
             }
            },
            "header": {
             "fill": {
              "color": "#C8D4E3"
             },
             "line": {
              "color": "white"
             }
            },
            "type": "table"
           }
          ]
         },
         "layout": {
          "annotationdefaults": {
           "arrowcolor": "#2a3f5f",
           "arrowhead": 0,
           "arrowwidth": 1
          },
          "autotypenumbers": "strict",
          "coloraxis": {
           "colorbar": {
            "outlinewidth": 0,
            "ticks": ""
           }
          },
          "colorscale": {
           "diverging": [
            [
             0,
             "#8e0152"
            ],
            [
             0.1,
             "#c51b7d"
            ],
            [
             0.2,
             "#de77ae"
            ],
            [
             0.3,
             "#f1b6da"
            ],
            [
             0.4,
             "#fde0ef"
            ],
            [
             0.5,
             "#f7f7f7"
            ],
            [
             0.6,
             "#e6f5d0"
            ],
            [
             0.7,
             "#b8e186"
            ],
            [
             0.8,
             "#7fbc41"
            ],
            [
             0.9,
             "#4d9221"
            ],
            [
             1,
             "#276419"
            ]
           ],
           "sequential": [
            [
             0,
             "#0d0887"
            ],
            [
             0.1111111111111111,
             "#46039f"
            ],
            [
             0.2222222222222222,
             "#7201a8"
            ],
            [
             0.3333333333333333,
             "#9c179e"
            ],
            [
             0.4444444444444444,
             "#bd3786"
            ],
            [
             0.5555555555555556,
             "#d8576b"
            ],
            [
             0.6666666666666666,
             "#ed7953"
            ],
            [
             0.7777777777777778,
             "#fb9f3a"
            ],
            [
             0.8888888888888888,
             "#fdca26"
            ],
            [
             1,
             "#f0f921"
            ]
           ],
           "sequentialminus": [
            [
             0,
             "#0d0887"
            ],
            [
             0.1111111111111111,
             "#46039f"
            ],
            [
             0.2222222222222222,
             "#7201a8"
            ],
            [
             0.3333333333333333,
             "#9c179e"
            ],
            [
             0.4444444444444444,
             "#bd3786"
            ],
            [
             0.5555555555555556,
             "#d8576b"
            ],
            [
             0.6666666666666666,
             "#ed7953"
            ],
            [
             0.7777777777777778,
             "#fb9f3a"
            ],
            [
             0.8888888888888888,
             "#fdca26"
            ],
            [
             1,
             "#f0f921"
            ]
           ]
          },
          "colorway": [
           "#636efa",
           "#EF553B",
           "#00cc96",
           "#ab63fa",
           "#FFA15A",
           "#19d3f3",
           "#FF6692",
           "#B6E880",
           "#FF97FF",
           "#FECB52"
          ],
          "font": {
           "color": "#2a3f5f"
          },
          "geo": {
           "bgcolor": "white",
           "lakecolor": "white",
           "landcolor": "#E5ECF6",
           "showlakes": true,
           "showland": true,
           "subunitcolor": "white"
          },
          "hoverlabel": {
           "align": "left"
          },
          "hovermode": "closest",
          "mapbox": {
           "style": "light"
          },
          "paper_bgcolor": "white",
          "plot_bgcolor": "#E5ECF6",
          "polar": {
           "angularaxis": {
            "gridcolor": "white",
            "linecolor": "white",
            "ticks": ""
           },
           "bgcolor": "#E5ECF6",
           "radialaxis": {
            "gridcolor": "white",
            "linecolor": "white",
            "ticks": ""
           }
          },
          "scene": {
           "xaxis": {
            "backgroundcolor": "#E5ECF6",
            "gridcolor": "white",
            "gridwidth": 2,
            "linecolor": "white",
            "showbackground": true,
            "ticks": "",
            "zerolinecolor": "white"
           },
           "yaxis": {
            "backgroundcolor": "#E5ECF6",
            "gridcolor": "white",
            "gridwidth": 2,
            "linecolor": "white",
            "showbackground": true,
            "ticks": "",
            "zerolinecolor": "white"
           },
           "zaxis": {
            "backgroundcolor": "#E5ECF6",
            "gridcolor": "white",
            "gridwidth": 2,
            "linecolor": "white",
            "showbackground": true,
            "ticks": "",
            "zerolinecolor": "white"
           }
          },
          "shapedefaults": {
           "line": {
            "color": "#2a3f5f"
           }
          },
          "ternary": {
           "aaxis": {
            "gridcolor": "white",
            "linecolor": "white",
            "ticks": ""
           },
           "baxis": {
            "gridcolor": "white",
            "linecolor": "white",
            "ticks": ""
           },
           "bgcolor": "#E5ECF6",
           "caxis": {
            "gridcolor": "white",
            "linecolor": "white",
            "ticks": ""
           }
          },
          "title": {
           "x": 0.05
          },
          "xaxis": {
           "automargin": true,
           "gridcolor": "white",
           "linecolor": "white",
           "ticks": "",
           "title": {
            "standoff": 15
           },
           "zerolinecolor": "white",
           "zerolinewidth": 2
          },
          "yaxis": {
           "automargin": true,
           "gridcolor": "white",
           "linecolor": "white",
           "ticks": "",
           "title": {
            "standoff": 15
           },
           "zerolinecolor": "white",
           "zerolinewidth": 2
          }
         }
        },
        "title": {
         "font": {
          "color": "#4D5663"
         }
        },
        "xaxis": {
         "gridcolor": "#E1E5ED",
         "showgrid": true,
         "tickfont": {
          "color": "#4D5663"
         },
         "title": {
          "font": {
           "color": "#4D5663"
          },
          "text": ""
         },
         "zerolinecolor": "#E1E5ED"
        },
        "yaxis": {
         "gridcolor": "#E1E5ED",
         "showgrid": true,
         "tickfont": {
          "color": "#4D5663"
         },
         "title": {
          "font": {
           "color": "#4D5663"
          },
          "text": ""
         },
         "zerolinecolor": "#E1E5ED"
        }
       }
      },
      "text/html": [
       "<div>                            <div id=\"3108026d-6960-4a58-b648-9f8653f2fd4e\" class=\"plotly-graph-div\" style=\"height:525px; width:100%;\"></div>            <script type=\"text/javascript\">                require([\"plotly\"], function(Plotly) {                    window.PLOTLYENV=window.PLOTLYENV || {};\n",
       "                    window.PLOTLYENV.BASE_URL='https://plot.ly';                                    if (document.getElementById(\"3108026d-6960-4a58-b648-9f8653f2fd4e\")) {                    Plotly.newPlot(                        \"3108026d-6960-4a58-b648-9f8653f2fd4e\",                        [{\"line\":{\"color\":\"rgba(255, 153, 51, 1.0)\",\"dash\":\"solid\",\"shape\":\"linear\",\"width\":1.3},\"mode\":\"lines\",\"name\":\"new_quantity\",\"text\":\"\",\"x\":[\"United States\",\"China\",\"Japan\",\"Russian Federation\",\"India\",\"Germany\",\"United Kingdom\",\"Korea, Republic of\",\"Italy\",\"South Africa\",\"Australia\",\"Mexico\",\"Saudi Arabia\",\"Other Asia\",\"Iran (Islamic Rep. of)\",\"Canada\",\"Poland\",\"Spain\",\"Thailand\",\"Turkey\",\"Indonesia\",\"Egypt\",\"Netherlands\",\"Ukraine\",\"Malaysia\",\"Brazil\",\"Argentina\",\"Kazakhstan\",\"United Arab Emirates\",\"France\",\"Czechia\",\"Pakistan\",\"Greece\",\"Israel\",\"Kuwait\",\"Uzbekistan\",\"Finland\",\"Singapore\",\"Philippines\",\"Iraq\",\"Belgium\",\"China, Hong Kong SAR\",\"Algeria\",\"Romania\",\"Viet Nam\",\"Denmark\",\"Venezuela (Bolivar. Rep.)\",\"Portugal\",\"Belarus\",\"Chile\",\"Syrian Arab Republic\",\"Bangladesh\",\"Bulgaria\",\"Libya\",\"Ireland\",\"Puerto Rico\",\"Austria\",\"Hungary\",\"Azerbaijan\",\"Qatar\",\"Morocco\",\"Cuba\",\"Nigeria\",\"Colombia\",\"Oman\",\"Bahrain\",\"Sweden\",\"Turkmenistan\",\"Serbia and Montenegro\",\"Serbia\",\"Tunisia\",\"New Zealand\",\"Lebanon\",\"Dominican Republic\",\"Jordan\",\"Estonia\",\"Peru\",\"Slovakia\",\"Korea, Dem.Ppl's.Rep.\",\"Trinidad and Tobago\",\"Bosnia and Herzegovina\",\"Ecuador\",\"Jamaica\",\"Croatia\",\"Slovenia\",\"T.F.Yug.Rep. Macedonia\",\"Yemen\",\"Sri Lanka\",\"Zimbabwe\",\"Cyprus\",\"Mongolia\",\"Guatemala\",\"C\\u00f4te d'Ivoire\",\"Brunei Darussalam\",\"Bolivia (Plur. State of)\",\"Switzerland\",\"Myanmar\",\"Lithuania\",\"Honduras\",\"Panama\",\"Armenia\",\"El Salvador\",\"Nicaragua\",\"Republic of Moldova\",\"Malta\",\"Mauritius\",\"Senegal\",\"Kyrgyzstan\",\"Ghana\",\"Latvia\",\"Kenya\",\"Norway\",\"Guam\",\"Papua New Guinea\",\"Luxembourg\",\"Bahamas\",\"Uruguay\",\"Georgia\",\"Sudan (former)\",\"R\\u00e9union\",\"New Caledonia\",\"United Rep. of Tanzania\",\"Martinique\",\"Guadeloupe\",\"China, Macao SAR\",\"Angola\",\"Neth. Antilles (former)\",\"United States Virgin Is.\",\"Botswana\",\"Barbados\",\"Guyana\",\"Aruba\",\"Gabon\",\"Cameroon\",\"Cambodia\",\"Bermuda\",\"Suriname\",\"Costa Rica\",\"Montenegro\",\"Mauritania\",\"Mali\",\"Cayman Islands\",\"Madagascar\",\"Guinea\",\"Haiti\",\"French Polynesia\",\"Northern Mariana Islands\",\"Burkina Faso\",\"Sudan\",\"Uganda\",\"Fiji\",\"St. Lucia\",\"Somalia\",\"French Guiana\",\"State of Palestine\",\"Swaziland\",\"Djibouti\",\"Eritrea\",\"Lao People's Dem. Rep.\",\"Liberia\",\"Isle of Man\",\"Seychelles\",\"Niger\",\"Antigua and Barbuda\",\"Tajikistan\",\"Cabo Verde\",\"Afghanistan\",\"Greenland\",\"Malawi\",\"Congo\",\"Maldives\",\"Gambia\",\"St. Kitts-Nevis\",\"American Samoa\",\"Grenada\",\"Mayotte\",\"Mozambique\",\"Faeroe Islands\",\"Gibraltar\",\"Jersey\",\"Chad\",\"Turks and Caicos Islands\",\"Cura\\u00e7ao\",\"Togo\",\"Benin\",\"Namibia\",\"British Virgin Islands\",\"Palau\",\"Belize\",\"Equatorial Guinea\",\"St. Vincent-Grenadines\",\"Albania\",\"Marshall Islands\",\"Rwanda\",\"Sierra Leone\",\"Timor-Leste\",\"Micronesia (Fed. States of)\",\"Guernsey\",\"Solomon Islands\",\"Ethiopia\",\"South Sudan\",\"Anguilla\",\"Samoa\",\"Sint Maarten (Dutch part)\",\"Zambia\",\"Dominica\",\"Vanuatu\",\"Tonga\",\"St. Pierre-Miquelon\",\"Comoros\",\"Dem. Rep. of the Congo\",\"Sao Tome and Principe\",\"Guinea-Bissau\",\"Nepal\",\"Cook Islands\",\"Nauru\",\"Central African Rep.\",\"Montserrat\",\"Paraguay\",\"Kiribati\",\"Bonaire, St Eustatius, Saba\",\"Falkland Is. (Malvinas)\",\"Wallis and Futuna Is.\",\"St. Helena and Depend.\",\"Andorra\",\"Burundi\",\"Iceland\",\"Tuvalu\",\"Niue\",\"Liechtenstein\",\"Bhutan\",\"Lesotho\"],\"y\":[85549767000.0,55912127900.0,22157381000.0,19882526000.0,15245741000.0,12543013000.0,7803117000.0,7651171000.0,5949869000.0,4865063000.0,4667286000.0,4905218000.0,3671794000.0,4373222000.0,3559095400.0,12657271000.0,3177960000.0,5307931000.0,2652093200.0,3353771000.0,2704177170.0,2231267000.0,2054706000.0,3884638000.0,1900808340.0,8526034000.0,2136147170.0,1485510000.0,1301659000.0,11476682000.0,1625272000.0,1693266000.0,1139014000.0,998452000.0,894596000.0,1035619000.0,1544952000.0,761093530.0,1117501794.0,789289000.0,1747575000.0,731318000.0,733039000.0,1222837000.0,1218229000.0,820864000.0,2099219040.0,940670000.0,615698000.0,1044971000.0,616120000.0,571438000.0,914259000.0,464848000.0,518587000.0,465321600.0,1324302000.0,743853000.0,423972000.0,360944000.0,385762000.0,334844600.0,442789000.0,1119718590.0,291486000.0,278928000.0,3145664000.0,275410000.0,398709000.0,372642000.0,266057720.0,860683000.0,248960000.0,254716060.0,220496400.0,213973000.0,568442686.0,602865000.0,432216000.0,141218000.0,248110000.0,306219100.0,121122700.0,257915000.0,310662000.0,136580131.0,101587000.0,175884078.0,173461500.0,83410000.0,80870100.0,146343100.0,110336600.0,66117000.0,107582200.0,1396666000.0,139357820.0,264696000.0,108030000.0,123837100.0,131479000.0,100917000.0,60548000.0,45910000.0,42838000.0,44033900.0,42029000.0,302077000.0,170828000.0,102654000.0,124911300.0,2652391000.0,38562100.0,61858000.0,59338000.0,37699400.0,181925300.0,175170000.0,66746000.0,44543880.0,38845680.0,74112000.0,29818994.0,30927000.0,28456000.0,68871000.0,20929000.0,20701765.0,19427800.0,18724180.0,16847220.0,17305800.0,34002000.0,94063000.0,19131000.0,13546200.0,33052600.0,163570297.0,30435000.0,11353107.0,21947770.0,10380790.0,22893253.9,18419390.0,13778000.0,12176066.0,8196500.0,10091871.0,31493000.0,39458250.0,15598253.0,6365597.0,6246000.0,13875000.0,5955200.0,10064230.0,5668000.0,5578000.0,70597066.6,5234000.0,5104700.0,4897380.0,4868975.0,4691800.0,335050000.0,4731360.0,17350600.0,7891382.3,31599160.0,13292000.0,3752207.0,3646900.0,3626100.0,3486686.0,3198740.0,3191630.0,231105000.0,5062490.0,3023000.0,2975500.0,2870000.0,2753900.0,2712000.0,5919000.0,2372000.0,29600000.0,2080000.0,2043700.0,4709655.22,2986300.0,2417400.0,104104770.0,1844200.0,4258924.0,2736183.0,1716625.0,1688860.0,1574800.0,1552900.0,74624000.0,1405000.0,1336800.0,2183200.0,1229300.0,196650000.0,1695480.0,1077750.0,918634.0,918110.0,828800.0,141688000.0,826900.0,684327.0,48350650.0,578400.0,570954.0,2889000.0,412200.0,1082088620.0,370900.0,364600.0,331000.0,269632.0,167270.0,1966000.0,2545241.0,227146000.0,79060.0,64202.3334,577600.0,85237210.0,7302400.0],\"type\":\"scatter\"},{\"line\":{\"color\":\"rgba(55, 128, 191, 1.0)\",\"dash\":\"solid\",\"shape\":\"linear\",\"width\":1.3},\"mode\":\"lines\",\"name\":\"non_renewable\",\"text\":\"\",\"x\":[\"United States\",\"China\",\"Japan\",\"Russian Federation\",\"India\",\"Germany\",\"United Kingdom\",\"Korea, Republic of\",\"Italy\",\"South Africa\",\"Australia\",\"Mexico\",\"Saudi Arabia\",\"Other Asia\",\"Iran (Islamic Rep. of)\",\"Canada\",\"Poland\",\"Spain\",\"Thailand\",\"Turkey\",\"Indonesia\",\"Egypt\",\"Netherlands\",\"Ukraine\",\"Malaysia\",\"Brazil\",\"Argentina\",\"Kazakhstan\",\"United Arab Emirates\",\"France\",\"Czechia\",\"Pakistan\",\"Greece\",\"Israel\",\"Kuwait\",\"Uzbekistan\",\"Finland\",\"Singapore\",\"Philippines\",\"Iraq\",\"Belgium\",\"China, Hong Kong SAR\",\"Algeria\",\"Romania\",\"Viet Nam\",\"Denmark\",\"Venezuela (Bolivar. Rep.)\",\"Portugal\",\"Belarus\",\"Chile\",\"Syrian Arab Republic\",\"Bangladesh\",\"Bulgaria\",\"Libya\",\"Ireland\",\"Puerto Rico\",\"Austria\",\"Hungary\",\"Azerbaijan\",\"Qatar\",\"Morocco\",\"Cuba\",\"Nigeria\",\"Colombia\",\"Oman\",\"Bahrain\",\"Sweden\",\"Turkmenistan\",\"Serbia and Montenegro\",\"Serbia\",\"Tunisia\",\"New Zealand\",\"Lebanon\",\"Dominican Republic\",\"Jordan\",\"Estonia\",\"Peru\",\"Slovakia\",\"Korea, Dem.Ppl's.Rep.\",\"Trinidad and Tobago\",\"Bosnia and Herzegovina\",\"Ecuador\",\"Jamaica\",\"Croatia\",\"Slovenia\",\"T.F.Yug.Rep. Macedonia\",\"Yemen\",\"Sri Lanka\",\"Zimbabwe\",\"Cyprus\",\"Mongolia\",\"Guatemala\",\"C\\u00f4te d'Ivoire\",\"Brunei Darussalam\",\"Bolivia (Plur. State of)\",\"Switzerland\",\"Myanmar\",\"Lithuania\",\"Honduras\",\"Panama\",\"Armenia\",\"El Salvador\",\"Nicaragua\",\"Republic of Moldova\",\"Malta\",\"Mauritius\",\"Senegal\",\"Kyrgyzstan\",\"Ghana\",\"Latvia\",\"Kenya\",\"Norway\",\"Guam\",\"Papua New Guinea\",\"Luxembourg\",\"Bahamas\",\"Uruguay\",\"Georgia\",\"Sudan (former)\",\"R\\u00e9union\",\"New Caledonia\",\"United Rep. of Tanzania\",\"Martinique\",\"Guadeloupe\",\"China, Macao SAR\",\"Angola\",\"Neth. Antilles (former)\",\"United States Virgin Is.\",\"Botswana\",\"Barbados\",\"Guyana\",\"Aruba\",\"Gabon\",\"Cameroon\",\"Cambodia\",\"Bermuda\",\"Suriname\",\"Costa Rica\",\"Montenegro\",\"Mauritania\",\"Mali\",\"Cayman Islands\",\"Madagascar\",\"Guinea\",\"Haiti\",\"French Polynesia\",\"Northern Mariana Islands\",\"Burkina Faso\",\"Sudan\",\"Uganda\",\"Fiji\",\"St. Lucia\",\"Somalia\",\"French Guiana\",\"State of Palestine\",\"Swaziland\",\"Djibouti\",\"Eritrea\",\"Lao People's Dem. Rep.\",\"Liberia\",\"Isle of Man\",\"Seychelles\",\"Niger\",\"Antigua and Barbuda\",\"Tajikistan\",\"Cabo Verde\",\"Afghanistan\",\"Greenland\",\"Malawi\",\"Congo\",\"Maldives\",\"Gambia\",\"St. Kitts-Nevis\",\"American Samoa\",\"Grenada\",\"Mayotte\",\"Mozambique\",\"Faeroe Islands\",\"Gibraltar\",\"Jersey\",\"Chad\",\"Turks and Caicos Islands\",\"Cura\\u00e7ao\",\"Togo\",\"Benin\",\"Namibia\",\"British Virgin Islands\",\"Palau\",\"Belize\",\"Equatorial Guinea\",\"St. Vincent-Grenadines\",\"Albania\",\"Marshall Islands\",\"Rwanda\",\"Sierra Leone\",\"Timor-Leste\",\"Micronesia (Fed. States of)\",\"Guernsey\",\"Solomon Islands\",\"Ethiopia\",\"South Sudan\",\"Anguilla\",\"Samoa\",\"Sint Maarten (Dutch part)\",\"Zambia\",\"Dominica\",\"Vanuatu\",\"Tonga\",\"St. Pierre-Miquelon\",\"Comoros\",\"Dem. Rep. of the Congo\",\"Sao Tome and Principe\",\"Guinea-Bissau\",\"Nepal\",\"Cook Islands\",\"Nauru\",\"Central African Rep.\",\"Montserrat\",\"Paraguay\",\"Kiribati\",\"Bonaire, St Eustatius, Saba\",\"Falkland Is. (Malvinas)\",\"Wallis and Futuna Is.\",\"St. Helena and Depend.\",\"Andorra\",\"Burundi\",\"Iceland\",\"Tuvalu\",\"Niue\",\"Liechtenstein\",\"Bhutan\",\"Lesotho\"],\"y\":[61291850000.0,44958773800.0,14951631000.0,13302272000.0,12636634000.0,8239026000.0,5819427000.0,4952429000.0,4664379000.0,4519462000.0,4271064000.0,3943177000.0,3671791000.0,3368994000.0,3339103800.0,3202264000.0,3078370000.0,2869572000.0,2511782000.0,2468867000.0,2322339000.0,1940624000.0,1918580000.0,1907568000.0,1752854530.0,1335527000.0,1326179000.0,1323020000.0,1301659000.0,1114594000.0,1104191000.0,1102306000.0,1000049000.0,995830000.0,894596000.0,863312000.0,793383000.0,761093530.0,746687916.0,740824000.0,735600000.0,731318000.0,728109000.0,716220000.0,703376000.0,696616000.0,623652040.0,620418000.0,614797000.0,601121000.0,552962000.0,552751000.0,476795000.0,464848000.0,463401000.0,461932800.0,450504000.0,435621000.0,380628000.0,360944000.0,343446000.0,332688200.0,314288000.0,308448000.0,291486000.0,278928000.0,276251000.0,275346000.0,269906000.0,264151000.0,262705000.0,256020000.0,233077000.0,223509190.0,219539000.0,210857000.0,190538636.3,186759000.0,172276000.0,141218000.0,138324000.0,132887500.0,117556500.0,115365000.0,115288000.0,111468080.0,101587000.0,91154259.0,85211800.0,82484000.0,80870100.0,80611600.0,74235600.0,66109000.0,65320000.0,64109000.0,61796280.0,59624000.0,58012000.0,49196400.0,48021000.0,44732000.0,43439000.0,43382000.0,42697000.0,42029300.0,42002000.0,41407000.0,41126000.0,39824000.0,39784200.0,39225000.0,38562100.0,38514000.0,37962000.0,37699400.0,35314500.0,33476000.0,33268000.0,31883200.0,30793100.0,29404000.0,29228075.0,29013000.0,28456000.0,22360000.0,20929000.0,20693881.0,19423200.0,18724180.0,16822220.0,16673500.0,16061000.0,15728000.0,14935000.0,13546200.0,12890200.0,12385933.35,12263000.0,11205107.0,10874950.0,10380790.0,9950049.2,9229390.0,8963000.0,8475716.0,8196500.0,8121498.0,7644000.0,6846600.0,6624975.0,6365597.0,6246000.0,6027000.0,5955200.0,5669870.0,5668000.0,5551000.0,5402000.0,5234000.0,5062800.0,4882630.0,4868940.0,4691800.0,4510000.0,4375890.0,4160500.0,4015433.6,3933770.0,3764000.0,3744677.0,3646900.0,3589100.0,3483386.0,3198740.0,3121300.0,3102000.0,3040811.0,3023000.0,2975500.0,2870000.0,2753900.0,2616000.0,2372900.0,2358000.0,2082000.0,2080000.0,2043700.0,2030191.762,1918300.0,1905580.0,1863040.0,1843600.0,1802704.0,1787370.0,1716625.0,1669660.0,1574800.0,1552900.0,1527000.0,1399000.0,1336800.0,1313400.0,1229300.0,1146000.0,1082980.0,989450.0,914086.0,905260.0,828800.0,737000.0,688100.0,684327.0,656650.0,578400.0,570400.0,511000.0,412200.0,384270.0,370900.0,362400.0,300010.0,269632.0,160760.0,122700.0,121871.0,98000.0,79060.0,63869.0,29400.0,13560.0,0.0],\"type\":\"scatter\"}],                        {\"legend\":{\"bgcolor\":\"#F5F6F9\",\"font\":{\"color\":\"#4D5663\"}},\"paper_bgcolor\":\"#F5F6F9\",\"plot_bgcolor\":\"#F5F6F9\",\"template\":{\"data\":{\"barpolar\":[{\"marker\":{\"line\":{\"color\":\"#E5ECF6\",\"width\":0.5},\"pattern\":{\"fillmode\":\"overlay\",\"size\":10,\"solidity\":0.2}},\"type\":\"barpolar\"}],\"bar\":[{\"error_x\":{\"color\":\"#2a3f5f\"},\"error_y\":{\"color\":\"#2a3f5f\"},\"marker\":{\"line\":{\"color\":\"#E5ECF6\",\"width\":0.5},\"pattern\":{\"fillmode\":\"overlay\",\"size\":10,\"solidity\":0.2}},\"type\":\"bar\"}],\"carpet\":[{\"aaxis\":{\"endlinecolor\":\"#2a3f5f\",\"gridcolor\":\"white\",\"linecolor\":\"white\",\"minorgridcolor\":\"white\",\"startlinecolor\":\"#2a3f5f\"},\"baxis\":{\"endlinecolor\":\"#2a3f5f\",\"gridcolor\":\"white\",\"linecolor\":\"white\",\"minorgridcolor\":\"white\",\"startlinecolor\":\"#2a3f5f\"},\"type\":\"carpet\"}],\"choropleth\":[{\"colorbar\":{\"outlinewidth\":0,\"ticks\":\"\"},\"type\":\"choropleth\"}],\"contourcarpet\":[{\"colorbar\":{\"outlinewidth\":0,\"ticks\":\"\"},\"type\":\"contourcarpet\"}],\"contour\":[{\"colorbar\":{\"outlinewidth\":0,\"ticks\":\"\"},\"colorscale\":[[0.0,\"#0d0887\"],[0.1111111111111111,\"#46039f\"],[0.2222222222222222,\"#7201a8\"],[0.3333333333333333,\"#9c179e\"],[0.4444444444444444,\"#bd3786\"],[0.5555555555555556,\"#d8576b\"],[0.6666666666666666,\"#ed7953\"],[0.7777777777777778,\"#fb9f3a\"],[0.8888888888888888,\"#fdca26\"],[1.0,\"#f0f921\"]],\"type\":\"contour\"}],\"heatmapgl\":[{\"colorbar\":{\"outlinewidth\":0,\"ticks\":\"\"},\"colorscale\":[[0.0,\"#0d0887\"],[0.1111111111111111,\"#46039f\"],[0.2222222222222222,\"#7201a8\"],[0.3333333333333333,\"#9c179e\"],[0.4444444444444444,\"#bd3786\"],[0.5555555555555556,\"#d8576b\"],[0.6666666666666666,\"#ed7953\"],[0.7777777777777778,\"#fb9f3a\"],[0.8888888888888888,\"#fdca26\"],[1.0,\"#f0f921\"]],\"type\":\"heatmapgl\"}],\"heatmap\":[{\"colorbar\":{\"outlinewidth\":0,\"ticks\":\"\"},\"colorscale\":[[0.0,\"#0d0887\"],[0.1111111111111111,\"#46039f\"],[0.2222222222222222,\"#7201a8\"],[0.3333333333333333,\"#9c179e\"],[0.4444444444444444,\"#bd3786\"],[0.5555555555555556,\"#d8576b\"],[0.6666666666666666,\"#ed7953\"],[0.7777777777777778,\"#fb9f3a\"],[0.8888888888888888,\"#fdca26\"],[1.0,\"#f0f921\"]],\"type\":\"heatmap\"}],\"histogram2dcontour\":[{\"colorbar\":{\"outlinewidth\":0,\"ticks\":\"\"},\"colorscale\":[[0.0,\"#0d0887\"],[0.1111111111111111,\"#46039f\"],[0.2222222222222222,\"#7201a8\"],[0.3333333333333333,\"#9c179e\"],[0.4444444444444444,\"#bd3786\"],[0.5555555555555556,\"#d8576b\"],[0.6666666666666666,\"#ed7953\"],[0.7777777777777778,\"#fb9f3a\"],[0.8888888888888888,\"#fdca26\"],[1.0,\"#f0f921\"]],\"type\":\"histogram2dcontour\"}],\"histogram2d\":[{\"colorbar\":{\"outlinewidth\":0,\"ticks\":\"\"},\"colorscale\":[[0.0,\"#0d0887\"],[0.1111111111111111,\"#46039f\"],[0.2222222222222222,\"#7201a8\"],[0.3333333333333333,\"#9c179e\"],[0.4444444444444444,\"#bd3786\"],[0.5555555555555556,\"#d8576b\"],[0.6666666666666666,\"#ed7953\"],[0.7777777777777778,\"#fb9f3a\"],[0.8888888888888888,\"#fdca26\"],[1.0,\"#f0f921\"]],\"type\":\"histogram2d\"}],\"histogram\":[{\"marker\":{\"pattern\":{\"fillmode\":\"overlay\",\"size\":10,\"solidity\":0.2}},\"type\":\"histogram\"}],\"mesh3d\":[{\"colorbar\":{\"outlinewidth\":0,\"ticks\":\"\"},\"type\":\"mesh3d\"}],\"parcoords\":[{\"line\":{\"colorbar\":{\"outlinewidth\":0,\"ticks\":\"\"}},\"type\":\"parcoords\"}],\"pie\":[{\"automargin\":true,\"type\":\"pie\"}],\"scatter3d\":[{\"line\":{\"colorbar\":{\"outlinewidth\":0,\"ticks\":\"\"}},\"marker\":{\"colorbar\":{\"outlinewidth\":0,\"ticks\":\"\"}},\"type\":\"scatter3d\"}],\"scattercarpet\":[{\"marker\":{\"colorbar\":{\"outlinewidth\":0,\"ticks\":\"\"}},\"type\":\"scattercarpet\"}],\"scattergeo\":[{\"marker\":{\"colorbar\":{\"outlinewidth\":0,\"ticks\":\"\"}},\"type\":\"scattergeo\"}],\"scattergl\":[{\"marker\":{\"colorbar\":{\"outlinewidth\":0,\"ticks\":\"\"}},\"type\":\"scattergl\"}],\"scattermapbox\":[{\"marker\":{\"colorbar\":{\"outlinewidth\":0,\"ticks\":\"\"}},\"type\":\"scattermapbox\"}],\"scatterpolargl\":[{\"marker\":{\"colorbar\":{\"outlinewidth\":0,\"ticks\":\"\"}},\"type\":\"scatterpolargl\"}],\"scatterpolar\":[{\"marker\":{\"colorbar\":{\"outlinewidth\":0,\"ticks\":\"\"}},\"type\":\"scatterpolar\"}],\"scatter\":[{\"marker\":{\"colorbar\":{\"outlinewidth\":0,\"ticks\":\"\"}},\"type\":\"scatter\"}],\"scatterternary\":[{\"marker\":{\"colorbar\":{\"outlinewidth\":0,\"ticks\":\"\"}},\"type\":\"scatterternary\"}],\"surface\":[{\"colorbar\":{\"outlinewidth\":0,\"ticks\":\"\"},\"colorscale\":[[0.0,\"#0d0887\"],[0.1111111111111111,\"#46039f\"],[0.2222222222222222,\"#7201a8\"],[0.3333333333333333,\"#9c179e\"],[0.4444444444444444,\"#bd3786\"],[0.5555555555555556,\"#d8576b\"],[0.6666666666666666,\"#ed7953\"],[0.7777777777777778,\"#fb9f3a\"],[0.8888888888888888,\"#fdca26\"],[1.0,\"#f0f921\"]],\"type\":\"surface\"}],\"table\":[{\"cells\":{\"fill\":{\"color\":\"#EBF0F8\"},\"line\":{\"color\":\"white\"}},\"header\":{\"fill\":{\"color\":\"#C8D4E3\"},\"line\":{\"color\":\"white\"}},\"type\":\"table\"}]},\"layout\":{\"annotationdefaults\":{\"arrowcolor\":\"#2a3f5f\",\"arrowhead\":0,\"arrowwidth\":1},\"autotypenumbers\":\"strict\",\"coloraxis\":{\"colorbar\":{\"outlinewidth\":0,\"ticks\":\"\"}},\"colorscale\":{\"diverging\":[[0,\"#8e0152\"],[0.1,\"#c51b7d\"],[0.2,\"#de77ae\"],[0.3,\"#f1b6da\"],[0.4,\"#fde0ef\"],[0.5,\"#f7f7f7\"],[0.6,\"#e6f5d0\"],[0.7,\"#b8e186\"],[0.8,\"#7fbc41\"],[0.9,\"#4d9221\"],[1,\"#276419\"]],\"sequential\":[[0.0,\"#0d0887\"],[0.1111111111111111,\"#46039f\"],[0.2222222222222222,\"#7201a8\"],[0.3333333333333333,\"#9c179e\"],[0.4444444444444444,\"#bd3786\"],[0.5555555555555556,\"#d8576b\"],[0.6666666666666666,\"#ed7953\"],[0.7777777777777778,\"#fb9f3a\"],[0.8888888888888888,\"#fdca26\"],[1.0,\"#f0f921\"]],\"sequentialminus\":[[0.0,\"#0d0887\"],[0.1111111111111111,\"#46039f\"],[0.2222222222222222,\"#7201a8\"],[0.3333333333333333,\"#9c179e\"],[0.4444444444444444,\"#bd3786\"],[0.5555555555555556,\"#d8576b\"],[0.6666666666666666,\"#ed7953\"],[0.7777777777777778,\"#fb9f3a\"],[0.8888888888888888,\"#fdca26\"],[1.0,\"#f0f921\"]]},\"colorway\":[\"#636efa\",\"#EF553B\",\"#00cc96\",\"#ab63fa\",\"#FFA15A\",\"#19d3f3\",\"#FF6692\",\"#B6E880\",\"#FF97FF\",\"#FECB52\"],\"font\":{\"color\":\"#2a3f5f\"},\"geo\":{\"bgcolor\":\"white\",\"lakecolor\":\"white\",\"landcolor\":\"#E5ECF6\",\"showlakes\":true,\"showland\":true,\"subunitcolor\":\"white\"},\"hoverlabel\":{\"align\":\"left\"},\"hovermode\":\"closest\",\"mapbox\":{\"style\":\"light\"},\"paper_bgcolor\":\"white\",\"plot_bgcolor\":\"#E5ECF6\",\"polar\":{\"angularaxis\":{\"gridcolor\":\"white\",\"linecolor\":\"white\",\"ticks\":\"\"},\"bgcolor\":\"#E5ECF6\",\"radialaxis\":{\"gridcolor\":\"white\",\"linecolor\":\"white\",\"ticks\":\"\"}},\"scene\":{\"xaxis\":{\"backgroundcolor\":\"#E5ECF6\",\"gridcolor\":\"white\",\"gridwidth\":2,\"linecolor\":\"white\",\"showbackground\":true,\"ticks\":\"\",\"zerolinecolor\":\"white\"},\"yaxis\":{\"backgroundcolor\":\"#E5ECF6\",\"gridcolor\":\"white\",\"gridwidth\":2,\"linecolor\":\"white\",\"showbackground\":true,\"ticks\":\"\",\"zerolinecolor\":\"white\"},\"zaxis\":{\"backgroundcolor\":\"#E5ECF6\",\"gridcolor\":\"white\",\"gridwidth\":2,\"linecolor\":\"white\",\"showbackground\":true,\"ticks\":\"\",\"zerolinecolor\":\"white\"}},\"shapedefaults\":{\"line\":{\"color\":\"#2a3f5f\"}},\"ternary\":{\"aaxis\":{\"gridcolor\":\"white\",\"linecolor\":\"white\",\"ticks\":\"\"},\"baxis\":{\"gridcolor\":\"white\",\"linecolor\":\"white\",\"ticks\":\"\"},\"bgcolor\":\"#E5ECF6\",\"caxis\":{\"gridcolor\":\"white\",\"linecolor\":\"white\",\"ticks\":\"\"}},\"title\":{\"x\":0.05},\"xaxis\":{\"automargin\":true,\"gridcolor\":\"white\",\"linecolor\":\"white\",\"ticks\":\"\",\"title\":{\"standoff\":15},\"zerolinecolor\":\"white\",\"zerolinewidth\":2},\"yaxis\":{\"automargin\":true,\"gridcolor\":\"white\",\"linecolor\":\"white\",\"ticks\":\"\",\"title\":{\"standoff\":15},\"zerolinecolor\":\"white\",\"zerolinewidth\":2}}},\"title\":{\"font\":{\"color\":\"#4D5663\"}},\"xaxis\":{\"gridcolor\":\"#E1E5ED\",\"showgrid\":true,\"tickfont\":{\"color\":\"#4D5663\"},\"title\":{\"font\":{\"color\":\"#4D5663\"},\"text\":\"\"},\"zerolinecolor\":\"#E1E5ED\"},\"yaxis\":{\"gridcolor\":\"#E1E5ED\",\"showgrid\":true,\"tickfont\":{\"color\":\"#4D5663\"},\"title\":{\"font\":{\"color\":\"#4D5663\"},\"text\":\"\"},\"zerolinecolor\":\"#E1E5ED\"}},                        {\"showLink\": true, \"linkText\": \"Export to plot.ly\", \"plotlyServerURL\": \"https://plot.ly\", \"responsive\": true}                    ).then(function(){\n",
       "                            \n",
       "var gd = document.getElementById('3108026d-6960-4a58-b648-9f8653f2fd4e');\n",
       "var x = new MutationObserver(function (mutations, observer) {{\n",
       "        var display = window.getComputedStyle(gd).display;\n",
       "        if (!display || display === 'none') {{\n",
       "            console.log([gd, 'removed!']);\n",
       "            Plotly.purge(gd);\n",
       "            observer.disconnect();\n",
       "        }}\n",
       "}});\n",
       "\n",
       "// Listen for the removal of the full notebook cells\n",
       "var notebookContainer = gd.closest('#notebook-container');\n",
       "if (notebookContainer) {{\n",
       "    x.observe(notebookContainer, {childList: true});\n",
       "}}\n",
       "\n",
       "// Listen for the clearing of the current output cell\n",
       "var outputEl = gd.closest('.output');\n",
       "if (outputEl) {{\n",
       "    x.observe(outputEl, {childList: true});\n",
       "}}\n",
       "\n",
       "                        })                };                });            </script>        </div>"
      ]
     },
     "metadata": {},
     "output_type": "display_data"
    }
   ],
   "source": [
    "rank_all_non_r.iplot();"
   ]
  },
  {
   "cell_type": "code",
   "execution_count": 9,
   "id": "3d7f0fba",
   "metadata": {},
   "outputs": [
    {
     "data": {
      "application/vnd.plotly.v1+json": {
       "config": {
        "linkText": "Export to plot.ly",
        "plotlyServerURL": "https://plot.ly",
        "showLink": true
       },
       "data": [
        {
         "line": {
          "color": "rgba(255, 153, 51, 1.0)",
          "dash": "solid",
          "shape": "linear",
          "width": 1.3
         },
         "mode": "lines",
         "name": "new_quantity",
         "text": "",
         "type": "scatter",
         "x": [
          "United States",
          "China",
          "Japan",
          "Russian Federation",
          "India",
          "Germany",
          "United Kingdom",
          "Korea, Republic of",
          "Italy",
          "South Africa",
          "Australia",
          "Mexico",
          "Saudi Arabia",
          "Other Asia",
          "Iran (Islamic Rep. of)",
          "Canada",
          "Poland",
          "Spain",
          "Thailand",
          "Turkey",
          "Indonesia",
          "Egypt",
          "Netherlands",
          "Ukraine",
          "Malaysia",
          "Brazil",
          "Argentina",
          "Kazakhstan",
          "United Arab Emirates",
          "France",
          "Czechia",
          "Pakistan",
          "Greece",
          "Israel",
          "Kuwait",
          "Uzbekistan",
          "Finland",
          "Singapore",
          "Philippines",
          "Iraq",
          "Belgium",
          "China, Hong Kong SAR",
          "Algeria",
          "Romania",
          "Viet Nam",
          "Denmark",
          "Venezuela (Bolivar. Rep.)",
          "Portugal",
          "Belarus",
          "Chile",
          "Serbia",
          "Syrian Arab Republic",
          "Bangladesh",
          "Serbia and Montenegro",
          "Bulgaria",
          "Libya",
          "Ireland",
          "Puerto Rico",
          "Austria",
          "Hungary",
          "Azerbaijan",
          "Qatar",
          "Morocco",
          "Cuba",
          "Nigeria",
          "Colombia",
          "Oman",
          "Bahrain",
          "Sweden",
          "Turkmenistan",
          "Tunisia",
          "New Zealand",
          "Lebanon",
          "Dominican Republic",
          "Jordan",
          "Estonia",
          "Peru",
          "Slovakia",
          "Korea, Dem.Ppl's.Rep.",
          "Trinidad and Tobago",
          "Bosnia and Herzegovina",
          "Ecuador",
          "Jamaica",
          "Croatia",
          "Slovenia",
          "T.F.Yug.Rep. Macedonia",
          "Yemen",
          "Sri Lanka",
          "Zimbabwe",
          "Cyprus",
          "Mongolia",
          "Guatemala",
          "Côte d'Ivoire",
          "Brunei Darussalam",
          "Bolivia (Plur. State of)",
          "Switzerland",
          "Myanmar",
          "Lithuania",
          "Honduras",
          "Sudan",
          "Panama",
          "Armenia",
          "El Salvador",
          "Nicaragua",
          "Republic of Moldova",
          "Malta",
          "Mauritius",
          "Senegal",
          "Kyrgyzstan",
          "Ghana",
          "Latvia",
          "Kenya",
          "Norway",
          "Sudan (former)",
          "Guam",
          "Papua New Guinea",
          "Luxembourg",
          "Bahamas",
          "Uruguay",
          "Georgia",
          "Réunion",
          "New Caledonia",
          "United Rep. of Tanzania",
          "Martinique",
          "Guadeloupe",
          "China, Macao SAR",
          "Montenegro",
          "Neth. Antilles (former)",
          "Angola",
          "United States Virgin Is.",
          "Botswana",
          "Barbados",
          "Curaçao",
          "Guyana",
          "Aruba",
          "Gabon",
          "Cameroon",
          "Cambodia",
          "Bermuda",
          "Suriname",
          "Costa Rica",
          "Mauritania",
          "Mali",
          "Cayman Islands",
          "Madagascar",
          "South Sudan",
          "Guinea",
          "Haiti",
          "Sint Maarten (Dutch part)",
          "French Polynesia",
          "Northern Mariana Islands",
          "Isle of Man",
          "Burkina Faso",
          "Uganda",
          "Fiji",
          "St. Lucia",
          "Somalia",
          "French Guiana",
          "State of Palestine",
          "Swaziland",
          "Djibouti",
          "Eritrea",
          "Lao People's Dem. Rep.",
          "Liberia",
          "Seychelles",
          "Niger",
          "Antigua and Barbuda",
          "Tajikistan",
          "Cabo Verde",
          "Afghanistan",
          "Greenland",
          "Malawi",
          "Congo",
          "Maldives",
          "Gambia",
          "St. Kitts-Nevis",
          "American Samoa",
          "Grenada",
          "Mayotte",
          "Mozambique",
          "Faeroe Islands",
          "Gibraltar",
          "Jersey",
          "Chad",
          "Timor-Leste",
          "Turks and Caicos Islands",
          "Guernsey",
          "Bonaire, St Eustatius, Saba",
          "Togo",
          "Benin",
          "Namibia",
          "British Virgin Islands",
          "Palau",
          "Belize",
          "Equatorial Guinea",
          "St. Vincent-Grenadines",
          "Albania",
          "Marshall Islands",
          "Rwanda",
          "Sierra Leone",
          "Micronesia (Fed. States of)",
          "Solomon Islands",
          "Ethiopia",
          "Anguilla",
          "Samoa",
          "Zambia",
          "Dominica",
          "Vanuatu",
          "Tonga",
          "St. Pierre-Miquelon",
          "Comoros",
          "Dem. Rep. of the Congo",
          "Sao Tome and Principe",
          "Guinea-Bissau",
          "Nepal",
          "Cook Islands",
          "Nauru",
          "Central African Rep.",
          "Montserrat",
          "Wallis and Futuna Is.",
          "Paraguay",
          "Kiribati",
          "Falkland Is. (Malvinas)",
          "St. Helena and Depend.",
          "Andorra",
          "Burundi",
          "Iceland",
          "Tuvalu",
          "Liechtenstein",
          "Niue",
          "Bhutan",
          "Lesotho"
         ],
         "y": [
          4073798428.571429,
          2662482280.952381,
          1055113380.9523809,
          946786952.3809524,
          725987666.6666666,
          597286333.3333334,
          371577000,
          364341476.1904762,
          283327095.2380952,
          231669666.66666666,
          222251714.2857143,
          233581809.52380952,
          174847333.33333334,
          208248666.66666666,
          169480733.33333334,
          602727190.4761904,
          151331428.57142857,
          252758619.04761904,
          126290152.38095239,
          159703380.95238096,
          128770341.42857143,
          106250809.52380952,
          97843142.85714285,
          184982761.9047619,
          90514682.85714285,
          406001619.04761904,
          101721293.8095238,
          70738571.42857143,
          61983761.9047619,
          546508666.6666666,
          77393904.76190476,
          80631714.28571428,
          54238761.9047619,
          47545333.333333336,
          42599809.52380952,
          49315190.47619048,
          73569142.85714285,
          36242549.047619045,
          53214371.14285714,
          37585190.47619048,
          83217857.14285715,
          34824666.666666664,
          34906619.047619045,
          58230333.333333336,
          58010904.76190476,
          39088761.9047619,
          99962811.42857143,
          44793809.52380952,
          29318952.38095238,
          49760523.809523806,
          37264200,
          29339047.61904762,
          27211333.333333332,
          36246272.72727273,
          43536142.85714286,
          22135619.04761905,
          24694619.04761905,
          22158171.42857143,
          63062000,
          35421571.428571425,
          20189142.85714286,
          17187809.523809522,
          18369619.04761905,
          15944980.952380951,
          21085190.476190478,
          53319932.85714286,
          13880285.714285715,
          13282285.714285715,
          149793523.80952382,
          13114761.904761905,
          12669415.238095239,
          40984904.76190476,
          11855238.095238095,
          12129336.19047619,
          10499828.57142857,
          10189190.476190476,
          27068699.333333332,
          28707857.14285714,
          20581714.285714287,
          6724666.666666667,
          11814761.904761905,
          14581861.904761905,
          5767747.619047619,
          12281666.666666666,
          14793428.57142857,
          6503815.761904762,
          4837476.19047619,
          8375432.285714285,
          8260071.428571428,
          3971904.761904762,
          3850957.1428571427,
          6968719.047619048,
          5254123.80952381,
          3148428.5714285714,
          5122961.904761905,
          66507904.76190476,
          6636086.666666667,
          12604571.42857143,
          5144285.714285715,
          10497666.666666666,
          5897004.761904762,
          6260904.761904762,
          4805571.428571428,
          2883238.095238095,
          2186190.476190476,
          2039904.761904762,
          2096852.380952381,
          2001380.9523809524,
          14384619.047619049,
          8134666.666666667,
          4888285.714285715,
          5948157.142857143,
          126304333.33333333,
          3708111.111111111,
          1836290.4761904762,
          2945619.0476190476,
          2825619.0476190476,
          1795209.5238095238,
          8663109.523809524,
          8341428.571428572,
          2121137.1428571427,
          1849794.2857142857,
          3529142.8571428573,
          1419952.0952380951,
          1472714.2857142857,
          1355047.619047619,
          3043500,
          1162722.2222222222,
          3279571.4285714286,
          985798.3333333334,
          925133.3333333334,
          891627.619047619,
          904000,
          802248.5714285715,
          824085.7142857143,
          1619142.857142857,
          4479190.476190476,
          911000,
          645057.1428571428,
          1573933.3333333333,
          7789061.761904762,
          540624.1428571428,
          1045131.9047619047,
          494323.3333333333,
          1090154.9476190475,
          468333.3333333333,
          877113.8095238095,
          656095.2380952381,
          409766.6666666667,
          579812.6666666666,
          390309.5238095238,
          392669.23076923075,
          480565.28571428574,
          1878964.2857142857,
          742773.9523809524,
          303123.6666666667,
          297428.5714285714,
          660714.2857142857,
          283580.95238095237,
          479249.04761904763,
          269904.7619047619,
          265619.04761904763,
          3361765.076190476,
          249238.09523809524,
          233208.57142857142,
          231855.95238095237,
          223419.04761904763,
          15954761.904761905,
          225302.85714285713,
          826219.0476190476,
          375780.1095238095,
          1504721.9047619049,
          632952.380952381,
          178676.52380952382,
          173661.90476190476,
          172671.42857142858,
          166032.66666666666,
          152320.95238095237,
          151982.38095238095,
          11005000,
          241070.95238095237,
          143952.38095238095,
          141690.47619047618,
          136666.66666666666,
          132048.07692307694,
          131138.09523809524,
          121138.46153846153,
          121533.33333333333,
          281857.14285714284,
          112952.38095238095,
          1409523.8095238095,
          99047.61904761905,
          97319.04761904762,
          224269.2961904762,
          142204.7619047619,
          115114.28571428571,
          4957370,
          87819.04761904762,
          202805.90476190476,
          130294.42857142857,
          80421.90476190476,
          73947.61904761905,
          3553523.8095238097,
          63657.142857142855,
          103961.90476190476,
          9364285.714285715,
          80737.14285714286,
          51321.42857142857,
          43744.47619047619,
          43719.52380952381,
          39466.666666666664,
          6747047.619047619,
          39376.19047619047,
          32587,
          2302411.904761905,
          27542.85714285714,
          27188.285714285714,
          137571.42857142858,
          19628.571428571428,
          19259.428571428572,
          51528029.52380952,
          17661.904761904763,
          15761.904761904761,
          7965.238095238095,
          93619.04761904762,
          121201.95238095238,
          10816476.19047619,
          3764.7619047619046,
          72200,
          3057.2539714285717,
          4058914.761904762,
          456400
         ]
        },
        {
         "line": {
          "color": "rgba(55, 128, 191, 1.0)",
          "dash": "solid",
          "shape": "linear",
          "width": 1.3
         },
         "mode": "lines",
         "name": "non_renewable",
         "text": "",
         "type": "scatter",
         "x": [
          "United States",
          "China",
          "Japan",
          "Russian Federation",
          "India",
          "Germany",
          "United Kingdom",
          "Korea, Republic of",
          "Italy",
          "South Africa",
          "Australia",
          "Mexico",
          "Saudi Arabia",
          "Other Asia",
          "Iran (Islamic Rep. of)",
          "Canada",
          "Poland",
          "Spain",
          "Thailand",
          "Turkey",
          "Indonesia",
          "Egypt",
          "Netherlands",
          "Ukraine",
          "Malaysia",
          "Brazil",
          "Argentina",
          "Kazakhstan",
          "United Arab Emirates",
          "France",
          "Czechia",
          "Pakistan",
          "Greece",
          "Israel",
          "Kuwait",
          "Uzbekistan",
          "Finland",
          "Singapore",
          "Philippines",
          "Iraq",
          "Belgium",
          "China, Hong Kong SAR",
          "Algeria",
          "Romania",
          "Viet Nam",
          "Denmark",
          "Venezuela (Bolivar. Rep.)",
          "Portugal",
          "Belarus",
          "Chile",
          "Serbia",
          "Syrian Arab Republic",
          "Bangladesh",
          "Serbia and Montenegro",
          "Bulgaria",
          "Libya",
          "Ireland",
          "Puerto Rico",
          "Austria",
          "Hungary",
          "Azerbaijan",
          "Qatar",
          "Morocco",
          "Cuba",
          "Nigeria",
          "Colombia",
          "Oman",
          "Bahrain",
          "Sweden",
          "Turkmenistan",
          "Tunisia",
          "New Zealand",
          "Lebanon",
          "Dominican Republic",
          "Jordan",
          "Estonia",
          "Peru",
          "Slovakia",
          "Korea, Dem.Ppl's.Rep.",
          "Trinidad and Tobago",
          "Bosnia and Herzegovina",
          "Ecuador",
          "Jamaica",
          "Croatia",
          "Slovenia",
          "T.F.Yug.Rep. Macedonia",
          "Yemen",
          "Sri Lanka",
          "Zimbabwe",
          "Cyprus",
          "Mongolia",
          "Guatemala",
          "Côte d'Ivoire",
          "Brunei Darussalam",
          "Bolivia (Plur. State of)",
          "Switzerland",
          "Myanmar",
          "Lithuania",
          "Honduras",
          "Sudan",
          "Panama",
          "Armenia",
          "El Salvador",
          "Nicaragua",
          "Republic of Moldova",
          "Malta",
          "Mauritius",
          "Senegal",
          "Kyrgyzstan",
          "Ghana",
          "Latvia",
          "Kenya",
          "Norway",
          "Sudan (former)",
          "Guam",
          "Papua New Guinea",
          "Luxembourg",
          "Bahamas",
          "Uruguay",
          "Georgia",
          "Réunion",
          "New Caledonia",
          "United Rep. of Tanzania",
          "Martinique",
          "Guadeloupe",
          "China, Macao SAR",
          "Montenegro",
          "Neth. Antilles (former)",
          "Angola",
          "United States Virgin Is.",
          "Botswana",
          "Barbados",
          "Curaçao",
          "Guyana",
          "Aruba",
          "Gabon",
          "Cameroon",
          "Cambodia",
          "Bermuda",
          "Suriname",
          "Costa Rica",
          "Mauritania",
          "Mali",
          "Cayman Islands",
          "Madagascar",
          "South Sudan",
          "Guinea",
          "Haiti",
          "Sint Maarten (Dutch part)",
          "French Polynesia",
          "Northern Mariana Islands",
          "Isle of Man",
          "Burkina Faso",
          "Uganda",
          "Fiji",
          "St. Lucia",
          "Somalia",
          "French Guiana",
          "State of Palestine",
          "Swaziland",
          "Djibouti",
          "Eritrea",
          "Lao People's Dem. Rep.",
          "Liberia",
          "Seychelles",
          "Niger",
          "Antigua and Barbuda",
          "Tajikistan",
          "Cabo Verde",
          "Afghanistan",
          "Greenland",
          "Malawi",
          "Congo",
          "Maldives",
          "Gambia",
          "St. Kitts-Nevis",
          "American Samoa",
          "Grenada",
          "Mayotte",
          "Mozambique",
          "Faeroe Islands",
          "Gibraltar",
          "Jersey",
          "Chad",
          "Timor-Leste",
          "Turks and Caicos Islands",
          "Guernsey",
          "Bonaire, St Eustatius, Saba",
          "Togo",
          "Benin",
          "Namibia",
          "British Virgin Islands",
          "Palau",
          "Belize",
          "Equatorial Guinea",
          "St. Vincent-Grenadines",
          "Albania",
          "Marshall Islands",
          "Rwanda",
          "Sierra Leone",
          "Micronesia (Fed. States of)",
          "Solomon Islands",
          "Ethiopia",
          "Anguilla",
          "Samoa",
          "Zambia",
          "Dominica",
          "Vanuatu",
          "Tonga",
          "St. Pierre-Miquelon",
          "Comoros",
          "Dem. Rep. of the Congo",
          "Sao Tome and Principe",
          "Guinea-Bissau",
          "Nepal",
          "Cook Islands",
          "Nauru",
          "Central African Rep.",
          "Montserrat",
          "Wallis and Futuna Is.",
          "Paraguay",
          "Kiribati",
          "Falkland Is. (Malvinas)",
          "St. Helena and Depend.",
          "Andorra",
          "Burundi",
          "Iceland",
          "Tuvalu",
          "Liechtenstein",
          "Niue",
          "Bhutan",
          "Lesotho"
         ],
         "y": [
          2918659523.8095236,
          2140893990.4761906,
          711982428.5714285,
          633441523.8095238,
          601744476.1904762,
          392334571.4285714,
          277115571.4285714,
          235829952.3809524,
          222113285.7142857,
          215212476.19047618,
          203384000,
          187770333.33333334,
          174847190.47619048,
          160428285.7142857,
          159004942.85714287,
          152488761.9047619,
          146589047.6190476,
          136646285.7142857,
          119608666.66666667,
          117565095.23809524,
          110587571.42857143,
          92410666.66666667,
          91360952.38095239,
          90836571.42857143,
          83469263.33333333,
          63596523.809523806,
          63151380.952380955,
          63000952.38095238,
          61983761.9047619,
          53075904.76190476,
          52580523.809523806,
          52490761.9047619,
          47621380.952380955,
          47420476.190476194,
          42599809.52380952,
          41110095.23809524,
          37780142.85714286,
          36242549.047619045,
          35556567.428571425,
          35277333.333333336,
          35028571.428571425,
          34824666.666666664,
          34671857.14285714,
          34105714.28571428,
          33494095.23809524,
          33172190.476190478,
          29697716.19047619,
          29543714.285714287,
          29276047.61904762,
          28624809.523809522,
          26415100,
          26331523.80952381,
          26321476.19047619,
          24536909.09090909,
          22704523.80952381,
          22135619.04761905,
          22066714.285714287,
          21996800,
          21452571.42857143,
          20743857.14285714,
          18125142.85714286,
          17187809.523809522,
          16354571.42857143,
          15842295.238095239,
          14966095.238095239,
          14688000,
          13880285.714285715,
          13282285.714285715,
          13154809.523809524,
          13111714.285714285,
          12509761.904761905,
          12191428.57142857,
          11098904.761904761,
          10643294.761904761,
          10454238.095238095,
          10040809.523809524,
          9073268.395238096,
          8893285.714285715,
          8203619.047619048,
          6724666.666666667,
          6586857.142857143,
          6327976.19047619,
          5597928.571428572,
          5493571.428571428,
          5489904.761904762,
          5308003.80952381,
          4837476.19047619,
          4340679,
          4057704.761904762,
          3927809.523809524,
          3850957.1428571427,
          3838647.619047619,
          3535028.5714285714,
          3148047.619047619,
          3110476.1904761903,
          3052809.523809524,
          2942680,
          2839238.095238095,
          2762476.1904761903,
          2548000,
          2342685.714285714,
          2286714.285714286,
          2130095.238095238,
          2068523.8095238095,
          2065809.5238095238,
          2033190.4761904762,
          2001395.238095238,
          2000095.238095238,
          1971761.9047619049,
          1958380.9523809524,
          1896380.9523809524,
          1894485.7142857143,
          1867857.142857143,
          1848222.2222222222,
          1836290.4761904762,
          1834000,
          1807714.2857142857,
          1795209.5238095238,
          1681642.857142857,
          1594095.238095238,
          1518247.619047619,
          1466338.0952380951,
          1400190.4761904762,
          1391813.0952380951,
          1381571.4285714286,
          1355047.619047619,
          1226300,
          1162722.2222222222,
          1064761.9047619049,
          985422.9047619047,
          924914.2857142857,
          891627.619047619,
          872000,
          801058.0952380953,
          793976.1904761905,
          764809.5238095238,
          748952.380952381,
          711190.4761904762,
          645057.1428571428,
          613819.0476190476,
          589806.35,
          533576.5238095238,
          517854.7619047619,
          494323.3333333333,
          473811.86666666664,
          466333.3333333333,
          439494.7619047619,
          426809.5238095238,
          409766.6666666667,
          403605.5238095238,
          390309.5238095238,
          389446.1538461539,
          386738,
          326028.5714285714,
          315475,
          303123.6666666667,
          297428.5714285714,
          287000,
          283580.95238095237,
          269993.8095238095,
          269904.7619047619,
          264333.3333333333,
          257238.09523809524,
          249238.09523809524,
          232506.19047619047,
          231854.2857142857,
          223419.04761904763,
          214761.90476190476,
          208375.7142857143,
          198119.04761904763,
          191211.12380952382,
          187322.38095238095,
          179238.09523809524,
          178317.95238095237,
          173661.90476190476,
          170909.52380952382,
          165875.52380952382,
          152320.95238095237,
          148633.33333333334,
          147714.2857142857,
          144800.52380952382,
          143952.38095238095,
          141690.47619047618,
          136666.66666666666,
          132048.07692307694,
          131138.09523809524,
          121138.46153846153,
          120800,
          112995.23809523809,
          112285.71428571429,
          99142.85714285714,
          99047.61904761905,
          97319.04761904762,
          96675.7981904762,
          91347.61904761905,
          90741.90476190476,
          88716.19047619047,
          87790.47619047618,
          85843.04761904762,
          85112.85714285714,
          79507.61904761905,
          73947.61904761905,
          72714.28571428571,
          63657.142857142855,
          62542.857142857145,
          54571.42857142857,
          51570.47619047619,
          47116.666666666664,
          43527.90476190476,
          43107.619047619046,
          39466.666666666664,
          35095.23809523809,
          32766.666666666668,
          32587,
          31269.04761904762,
          27542.85714285714,
          27161.904761904763,
          24333.333333333332,
          19628.571428571428,
          19259.428571428572,
          18298.571428571428,
          17661.904761904763,
          14286.190476190477,
          7655.238095238095,
          5842.857142857143,
          5803.380952380952,
          4666.666666666667,
          3764.7619047619046,
          3675,
          3041.3809523809523,
          645.7142857142857,
          0
         ]
        }
       ],
       "layout": {
        "legend": {
         "bgcolor": "#F5F6F9",
         "font": {
          "color": "#4D5663"
         }
        },
        "paper_bgcolor": "#F5F6F9",
        "plot_bgcolor": "#F5F6F9",
        "template": {
         "data": {
          "bar": [
           {
            "error_x": {
             "color": "#2a3f5f"
            },
            "error_y": {
             "color": "#2a3f5f"
            },
            "marker": {
             "line": {
              "color": "#E5ECF6",
              "width": 0.5
             },
             "pattern": {
              "fillmode": "overlay",
              "size": 10,
              "solidity": 0.2
             }
            },
            "type": "bar"
           }
          ],
          "barpolar": [
           {
            "marker": {
             "line": {
              "color": "#E5ECF6",
              "width": 0.5
             },
             "pattern": {
              "fillmode": "overlay",
              "size": 10,
              "solidity": 0.2
             }
            },
            "type": "barpolar"
           }
          ],
          "carpet": [
           {
            "aaxis": {
             "endlinecolor": "#2a3f5f",
             "gridcolor": "white",
             "linecolor": "white",
             "minorgridcolor": "white",
             "startlinecolor": "#2a3f5f"
            },
            "baxis": {
             "endlinecolor": "#2a3f5f",
             "gridcolor": "white",
             "linecolor": "white",
             "minorgridcolor": "white",
             "startlinecolor": "#2a3f5f"
            },
            "type": "carpet"
           }
          ],
          "choropleth": [
           {
            "colorbar": {
             "outlinewidth": 0,
             "ticks": ""
            },
            "type": "choropleth"
           }
          ],
          "contour": [
           {
            "colorbar": {
             "outlinewidth": 0,
             "ticks": ""
            },
            "colorscale": [
             [
              0,
              "#0d0887"
             ],
             [
              0.1111111111111111,
              "#46039f"
             ],
             [
              0.2222222222222222,
              "#7201a8"
             ],
             [
              0.3333333333333333,
              "#9c179e"
             ],
             [
              0.4444444444444444,
              "#bd3786"
             ],
             [
              0.5555555555555556,
              "#d8576b"
             ],
             [
              0.6666666666666666,
              "#ed7953"
             ],
             [
              0.7777777777777778,
              "#fb9f3a"
             ],
             [
              0.8888888888888888,
              "#fdca26"
             ],
             [
              1,
              "#f0f921"
             ]
            ],
            "type": "contour"
           }
          ],
          "contourcarpet": [
           {
            "colorbar": {
             "outlinewidth": 0,
             "ticks": ""
            },
            "type": "contourcarpet"
           }
          ],
          "heatmap": [
           {
            "colorbar": {
             "outlinewidth": 0,
             "ticks": ""
            },
            "colorscale": [
             [
              0,
              "#0d0887"
             ],
             [
              0.1111111111111111,
              "#46039f"
             ],
             [
              0.2222222222222222,
              "#7201a8"
             ],
             [
              0.3333333333333333,
              "#9c179e"
             ],
             [
              0.4444444444444444,
              "#bd3786"
             ],
             [
              0.5555555555555556,
              "#d8576b"
             ],
             [
              0.6666666666666666,
              "#ed7953"
             ],
             [
              0.7777777777777778,
              "#fb9f3a"
             ],
             [
              0.8888888888888888,
              "#fdca26"
             ],
             [
              1,
              "#f0f921"
             ]
            ],
            "type": "heatmap"
           }
          ],
          "heatmapgl": [
           {
            "colorbar": {
             "outlinewidth": 0,
             "ticks": ""
            },
            "colorscale": [
             [
              0,
              "#0d0887"
             ],
             [
              0.1111111111111111,
              "#46039f"
             ],
             [
              0.2222222222222222,
              "#7201a8"
             ],
             [
              0.3333333333333333,
              "#9c179e"
             ],
             [
              0.4444444444444444,
              "#bd3786"
             ],
             [
              0.5555555555555556,
              "#d8576b"
             ],
             [
              0.6666666666666666,
              "#ed7953"
             ],
             [
              0.7777777777777778,
              "#fb9f3a"
             ],
             [
              0.8888888888888888,
              "#fdca26"
             ],
             [
              1,
              "#f0f921"
             ]
            ],
            "type": "heatmapgl"
           }
          ],
          "histogram": [
           {
            "marker": {
             "pattern": {
              "fillmode": "overlay",
              "size": 10,
              "solidity": 0.2
             }
            },
            "type": "histogram"
           }
          ],
          "histogram2d": [
           {
            "colorbar": {
             "outlinewidth": 0,
             "ticks": ""
            },
            "colorscale": [
             [
              0,
              "#0d0887"
             ],
             [
              0.1111111111111111,
              "#46039f"
             ],
             [
              0.2222222222222222,
              "#7201a8"
             ],
             [
              0.3333333333333333,
              "#9c179e"
             ],
             [
              0.4444444444444444,
              "#bd3786"
             ],
             [
              0.5555555555555556,
              "#d8576b"
             ],
             [
              0.6666666666666666,
              "#ed7953"
             ],
             [
              0.7777777777777778,
              "#fb9f3a"
             ],
             [
              0.8888888888888888,
              "#fdca26"
             ],
             [
              1,
              "#f0f921"
             ]
            ],
            "type": "histogram2d"
           }
          ],
          "histogram2dcontour": [
           {
            "colorbar": {
             "outlinewidth": 0,
             "ticks": ""
            },
            "colorscale": [
             [
              0,
              "#0d0887"
             ],
             [
              0.1111111111111111,
              "#46039f"
             ],
             [
              0.2222222222222222,
              "#7201a8"
             ],
             [
              0.3333333333333333,
              "#9c179e"
             ],
             [
              0.4444444444444444,
              "#bd3786"
             ],
             [
              0.5555555555555556,
              "#d8576b"
             ],
             [
              0.6666666666666666,
              "#ed7953"
             ],
             [
              0.7777777777777778,
              "#fb9f3a"
             ],
             [
              0.8888888888888888,
              "#fdca26"
             ],
             [
              1,
              "#f0f921"
             ]
            ],
            "type": "histogram2dcontour"
           }
          ],
          "mesh3d": [
           {
            "colorbar": {
             "outlinewidth": 0,
             "ticks": ""
            },
            "type": "mesh3d"
           }
          ],
          "parcoords": [
           {
            "line": {
             "colorbar": {
              "outlinewidth": 0,
              "ticks": ""
             }
            },
            "type": "parcoords"
           }
          ],
          "pie": [
           {
            "automargin": true,
            "type": "pie"
           }
          ],
          "scatter": [
           {
            "marker": {
             "colorbar": {
              "outlinewidth": 0,
              "ticks": ""
             }
            },
            "type": "scatter"
           }
          ],
          "scatter3d": [
           {
            "line": {
             "colorbar": {
              "outlinewidth": 0,
              "ticks": ""
             }
            },
            "marker": {
             "colorbar": {
              "outlinewidth": 0,
              "ticks": ""
             }
            },
            "type": "scatter3d"
           }
          ],
          "scattercarpet": [
           {
            "marker": {
             "colorbar": {
              "outlinewidth": 0,
              "ticks": ""
             }
            },
            "type": "scattercarpet"
           }
          ],
          "scattergeo": [
           {
            "marker": {
             "colorbar": {
              "outlinewidth": 0,
              "ticks": ""
             }
            },
            "type": "scattergeo"
           }
          ],
          "scattergl": [
           {
            "marker": {
             "colorbar": {
              "outlinewidth": 0,
              "ticks": ""
             }
            },
            "type": "scattergl"
           }
          ],
          "scattermapbox": [
           {
            "marker": {
             "colorbar": {
              "outlinewidth": 0,
              "ticks": ""
             }
            },
            "type": "scattermapbox"
           }
          ],
          "scatterpolar": [
           {
            "marker": {
             "colorbar": {
              "outlinewidth": 0,
              "ticks": ""
             }
            },
            "type": "scatterpolar"
           }
          ],
          "scatterpolargl": [
           {
            "marker": {
             "colorbar": {
              "outlinewidth": 0,
              "ticks": ""
             }
            },
            "type": "scatterpolargl"
           }
          ],
          "scatterternary": [
           {
            "marker": {
             "colorbar": {
              "outlinewidth": 0,
              "ticks": ""
             }
            },
            "type": "scatterternary"
           }
          ],
          "surface": [
           {
            "colorbar": {
             "outlinewidth": 0,
             "ticks": ""
            },
            "colorscale": [
             [
              0,
              "#0d0887"
             ],
             [
              0.1111111111111111,
              "#46039f"
             ],
             [
              0.2222222222222222,
              "#7201a8"
             ],
             [
              0.3333333333333333,
              "#9c179e"
             ],
             [
              0.4444444444444444,
              "#bd3786"
             ],
             [
              0.5555555555555556,
              "#d8576b"
             ],
             [
              0.6666666666666666,
              "#ed7953"
             ],
             [
              0.7777777777777778,
              "#fb9f3a"
             ],
             [
              0.8888888888888888,
              "#fdca26"
             ],
             [
              1,
              "#f0f921"
             ]
            ],
            "type": "surface"
           }
          ],
          "table": [
           {
            "cells": {
             "fill": {
              "color": "#EBF0F8"
             },
             "line": {
              "color": "white"
             }
            },
            "header": {
             "fill": {
              "color": "#C8D4E3"
             },
             "line": {
              "color": "white"
             }
            },
            "type": "table"
           }
          ]
         },
         "layout": {
          "annotationdefaults": {
           "arrowcolor": "#2a3f5f",
           "arrowhead": 0,
           "arrowwidth": 1
          },
          "autotypenumbers": "strict",
          "coloraxis": {
           "colorbar": {
            "outlinewidth": 0,
            "ticks": ""
           }
          },
          "colorscale": {
           "diverging": [
            [
             0,
             "#8e0152"
            ],
            [
             0.1,
             "#c51b7d"
            ],
            [
             0.2,
             "#de77ae"
            ],
            [
             0.3,
             "#f1b6da"
            ],
            [
             0.4,
             "#fde0ef"
            ],
            [
             0.5,
             "#f7f7f7"
            ],
            [
             0.6,
             "#e6f5d0"
            ],
            [
             0.7,
             "#b8e186"
            ],
            [
             0.8,
             "#7fbc41"
            ],
            [
             0.9,
             "#4d9221"
            ],
            [
             1,
             "#276419"
            ]
           ],
           "sequential": [
            [
             0,
             "#0d0887"
            ],
            [
             0.1111111111111111,
             "#46039f"
            ],
            [
             0.2222222222222222,
             "#7201a8"
            ],
            [
             0.3333333333333333,
             "#9c179e"
            ],
            [
             0.4444444444444444,
             "#bd3786"
            ],
            [
             0.5555555555555556,
             "#d8576b"
            ],
            [
             0.6666666666666666,
             "#ed7953"
            ],
            [
             0.7777777777777778,
             "#fb9f3a"
            ],
            [
             0.8888888888888888,
             "#fdca26"
            ],
            [
             1,
             "#f0f921"
            ]
           ],
           "sequentialminus": [
            [
             0,
             "#0d0887"
            ],
            [
             0.1111111111111111,
             "#46039f"
            ],
            [
             0.2222222222222222,
             "#7201a8"
            ],
            [
             0.3333333333333333,
             "#9c179e"
            ],
            [
             0.4444444444444444,
             "#bd3786"
            ],
            [
             0.5555555555555556,
             "#d8576b"
            ],
            [
             0.6666666666666666,
             "#ed7953"
            ],
            [
             0.7777777777777778,
             "#fb9f3a"
            ],
            [
             0.8888888888888888,
             "#fdca26"
            ],
            [
             1,
             "#f0f921"
            ]
           ]
          },
          "colorway": [
           "#636efa",
           "#EF553B",
           "#00cc96",
           "#ab63fa",
           "#FFA15A",
           "#19d3f3",
           "#FF6692",
           "#B6E880",
           "#FF97FF",
           "#FECB52"
          ],
          "font": {
           "color": "#2a3f5f"
          },
          "geo": {
           "bgcolor": "white",
           "lakecolor": "white",
           "landcolor": "#E5ECF6",
           "showlakes": true,
           "showland": true,
           "subunitcolor": "white"
          },
          "hoverlabel": {
           "align": "left"
          },
          "hovermode": "closest",
          "mapbox": {
           "style": "light"
          },
          "paper_bgcolor": "white",
          "plot_bgcolor": "#E5ECF6",
          "polar": {
           "angularaxis": {
            "gridcolor": "white",
            "linecolor": "white",
            "ticks": ""
           },
           "bgcolor": "#E5ECF6",
           "radialaxis": {
            "gridcolor": "white",
            "linecolor": "white",
            "ticks": ""
           }
          },
          "scene": {
           "xaxis": {
            "backgroundcolor": "#E5ECF6",
            "gridcolor": "white",
            "gridwidth": 2,
            "linecolor": "white",
            "showbackground": true,
            "ticks": "",
            "zerolinecolor": "white"
           },
           "yaxis": {
            "backgroundcolor": "#E5ECF6",
            "gridcolor": "white",
            "gridwidth": 2,
            "linecolor": "white",
            "showbackground": true,
            "ticks": "",
            "zerolinecolor": "white"
           },
           "zaxis": {
            "backgroundcolor": "#E5ECF6",
            "gridcolor": "white",
            "gridwidth": 2,
            "linecolor": "white",
            "showbackground": true,
            "ticks": "",
            "zerolinecolor": "white"
           }
          },
          "shapedefaults": {
           "line": {
            "color": "#2a3f5f"
           }
          },
          "ternary": {
           "aaxis": {
            "gridcolor": "white",
            "linecolor": "white",
            "ticks": ""
           },
           "baxis": {
            "gridcolor": "white",
            "linecolor": "white",
            "ticks": ""
           },
           "bgcolor": "#E5ECF6",
           "caxis": {
            "gridcolor": "white",
            "linecolor": "white",
            "ticks": ""
           }
          },
          "title": {
           "x": 0.05
          },
          "xaxis": {
           "automargin": true,
           "gridcolor": "white",
           "linecolor": "white",
           "ticks": "",
           "title": {
            "standoff": 15
           },
           "zerolinecolor": "white",
           "zerolinewidth": 2
          },
          "yaxis": {
           "automargin": true,
           "gridcolor": "white",
           "linecolor": "white",
           "ticks": "",
           "title": {
            "standoff": 15
           },
           "zerolinecolor": "white",
           "zerolinewidth": 2
          }
         }
        },
        "title": {
         "font": {
          "color": "#4D5663"
         }
        },
        "xaxis": {
         "gridcolor": "#E1E5ED",
         "showgrid": true,
         "tickfont": {
          "color": "#4D5663"
         },
         "title": {
          "font": {
           "color": "#4D5663"
          },
          "text": ""
         },
         "zerolinecolor": "#E1E5ED"
        },
        "yaxis": {
         "gridcolor": "#E1E5ED",
         "showgrid": true,
         "tickfont": {
          "color": "#4D5663"
         },
         "title": {
          "font": {
           "color": "#4D5663"
          },
          "text": ""
         },
         "zerolinecolor": "#E1E5ED"
        }
       }
      },
      "text/html": [
       "<div>                            <div id=\"e53679a0-7ba2-463b-b141-89873e506111\" class=\"plotly-graph-div\" style=\"height:525px; width:100%;\"></div>            <script type=\"text/javascript\">                require([\"plotly\"], function(Plotly) {                    window.PLOTLYENV=window.PLOTLYENV || {};\n",
       "                    window.PLOTLYENV.BASE_URL='https://plot.ly';                                    if (document.getElementById(\"e53679a0-7ba2-463b-b141-89873e506111\")) {                    Plotly.newPlot(                        \"e53679a0-7ba2-463b-b141-89873e506111\",                        [{\"line\":{\"color\":\"rgba(255, 153, 51, 1.0)\",\"dash\":\"solid\",\"shape\":\"linear\",\"width\":1.3},\"mode\":\"lines\",\"name\":\"new_quantity\",\"text\":\"\",\"x\":[\"United States\",\"China\",\"Japan\",\"Russian Federation\",\"India\",\"Germany\",\"United Kingdom\",\"Korea, Republic of\",\"Italy\",\"South Africa\",\"Australia\",\"Mexico\",\"Saudi Arabia\",\"Other Asia\",\"Iran (Islamic Rep. of)\",\"Canada\",\"Poland\",\"Spain\",\"Thailand\",\"Turkey\",\"Indonesia\",\"Egypt\",\"Netherlands\",\"Ukraine\",\"Malaysia\",\"Brazil\",\"Argentina\",\"Kazakhstan\",\"United Arab Emirates\",\"France\",\"Czechia\",\"Pakistan\",\"Greece\",\"Israel\",\"Kuwait\",\"Uzbekistan\",\"Finland\",\"Singapore\",\"Philippines\",\"Iraq\",\"Belgium\",\"China, Hong Kong SAR\",\"Algeria\",\"Romania\",\"Viet Nam\",\"Denmark\",\"Venezuela (Bolivar. Rep.)\",\"Portugal\",\"Belarus\",\"Chile\",\"Serbia\",\"Syrian Arab Republic\",\"Bangladesh\",\"Serbia and Montenegro\",\"Bulgaria\",\"Libya\",\"Ireland\",\"Puerto Rico\",\"Austria\",\"Hungary\",\"Azerbaijan\",\"Qatar\",\"Morocco\",\"Cuba\",\"Nigeria\",\"Colombia\",\"Oman\",\"Bahrain\",\"Sweden\",\"Turkmenistan\",\"Tunisia\",\"New Zealand\",\"Lebanon\",\"Dominican Republic\",\"Jordan\",\"Estonia\",\"Peru\",\"Slovakia\",\"Korea, Dem.Ppl's.Rep.\",\"Trinidad and Tobago\",\"Bosnia and Herzegovina\",\"Ecuador\",\"Jamaica\",\"Croatia\",\"Slovenia\",\"T.F.Yug.Rep. Macedonia\",\"Yemen\",\"Sri Lanka\",\"Zimbabwe\",\"Cyprus\",\"Mongolia\",\"Guatemala\",\"C\\u00f4te d'Ivoire\",\"Brunei Darussalam\",\"Bolivia (Plur. State of)\",\"Switzerland\",\"Myanmar\",\"Lithuania\",\"Honduras\",\"Sudan\",\"Panama\",\"Armenia\",\"El Salvador\",\"Nicaragua\",\"Republic of Moldova\",\"Malta\",\"Mauritius\",\"Senegal\",\"Kyrgyzstan\",\"Ghana\",\"Latvia\",\"Kenya\",\"Norway\",\"Sudan (former)\",\"Guam\",\"Papua New Guinea\",\"Luxembourg\",\"Bahamas\",\"Uruguay\",\"Georgia\",\"R\\u00e9union\",\"New Caledonia\",\"United Rep. of Tanzania\",\"Martinique\",\"Guadeloupe\",\"China, Macao SAR\",\"Montenegro\",\"Neth. Antilles (former)\",\"Angola\",\"United States Virgin Is.\",\"Botswana\",\"Barbados\",\"Cura\\u00e7ao\",\"Guyana\",\"Aruba\",\"Gabon\",\"Cameroon\",\"Cambodia\",\"Bermuda\",\"Suriname\",\"Costa Rica\",\"Mauritania\",\"Mali\",\"Cayman Islands\",\"Madagascar\",\"South Sudan\",\"Guinea\",\"Haiti\",\"Sint Maarten (Dutch part)\",\"French Polynesia\",\"Northern Mariana Islands\",\"Isle of Man\",\"Burkina Faso\",\"Uganda\",\"Fiji\",\"St. Lucia\",\"Somalia\",\"French Guiana\",\"State of Palestine\",\"Swaziland\",\"Djibouti\",\"Eritrea\",\"Lao People's Dem. Rep.\",\"Liberia\",\"Seychelles\",\"Niger\",\"Antigua and Barbuda\",\"Tajikistan\",\"Cabo Verde\",\"Afghanistan\",\"Greenland\",\"Malawi\",\"Congo\",\"Maldives\",\"Gambia\",\"St. Kitts-Nevis\",\"American Samoa\",\"Grenada\",\"Mayotte\",\"Mozambique\",\"Faeroe Islands\",\"Gibraltar\",\"Jersey\",\"Chad\",\"Timor-Leste\",\"Turks and Caicos Islands\",\"Guernsey\",\"Bonaire, St Eustatius, Saba\",\"Togo\",\"Benin\",\"Namibia\",\"British Virgin Islands\",\"Palau\",\"Belize\",\"Equatorial Guinea\",\"St. Vincent-Grenadines\",\"Albania\",\"Marshall Islands\",\"Rwanda\",\"Sierra Leone\",\"Micronesia (Fed. States of)\",\"Solomon Islands\",\"Ethiopia\",\"Anguilla\",\"Samoa\",\"Zambia\",\"Dominica\",\"Vanuatu\",\"Tonga\",\"St. Pierre-Miquelon\",\"Comoros\",\"Dem. Rep. of the Congo\",\"Sao Tome and Principe\",\"Guinea-Bissau\",\"Nepal\",\"Cook Islands\",\"Nauru\",\"Central African Rep.\",\"Montserrat\",\"Wallis and Futuna Is.\",\"Paraguay\",\"Kiribati\",\"Falkland Is. (Malvinas)\",\"St. Helena and Depend.\",\"Andorra\",\"Burundi\",\"Iceland\",\"Tuvalu\",\"Liechtenstein\",\"Niue\",\"Bhutan\",\"Lesotho\"],\"y\":[4073798428.571429,2662482280.952381,1055113380.9523809,946786952.3809524,725987666.6666666,597286333.3333334,371577000.0,364341476.1904762,283327095.2380952,231669666.66666666,222251714.2857143,233581809.52380952,174847333.33333334,208248666.66666666,169480733.33333334,602727190.4761904,151331428.57142857,252758619.04761904,126290152.38095239,159703380.95238096,128770341.42857143,106250809.52380952,97843142.85714285,184982761.9047619,90514682.85714285,406001619.04761904,101721293.8095238,70738571.42857143,61983761.9047619,546508666.6666666,77393904.76190476,80631714.28571428,54238761.9047619,47545333.333333336,42599809.52380952,49315190.47619048,73569142.85714285,36242549.047619045,53214371.14285714,37585190.47619048,83217857.14285715,34824666.666666664,34906619.047619045,58230333.333333336,58010904.76190476,39088761.9047619,99962811.42857143,44793809.52380952,29318952.38095238,49760523.809523806,37264200.0,29339047.61904762,27211333.333333332,36246272.72727273,43536142.85714286,22135619.04761905,24694619.04761905,22158171.42857143,63062000.0,35421571.428571425,20189142.85714286,17187809.523809522,18369619.04761905,15944980.952380951,21085190.476190478,53319932.85714286,13880285.714285715,13282285.714285715,149793523.80952382,13114761.904761905,12669415.238095239,40984904.76190476,11855238.095238095,12129336.19047619,10499828.57142857,10189190.476190476,27068699.333333332,28707857.14285714,20581714.285714287,6724666.666666667,11814761.904761905,14581861.904761905,5767747.619047619,12281666.666666666,14793428.57142857,6503815.761904762,4837476.19047619,8375432.285714285,8260071.428571428,3971904.761904762,3850957.1428571427,6968719.047619048,5254123.80952381,3148428.5714285714,5122961.904761905,66507904.76190476,6636086.666666667,12604571.42857143,5144285.714285715,10497666.666666666,5897004.761904762,6260904.761904762,4805571.428571428,2883238.095238095,2186190.476190476,2039904.761904762,2096852.380952381,2001380.9523809524,14384619.047619049,8134666.666666667,4888285.714285715,5948157.142857143,126304333.33333333,3708111.111111111,1836290.4761904762,2945619.0476190476,2825619.0476190476,1795209.5238095238,8663109.523809524,8341428.571428572,2121137.1428571427,1849794.2857142857,3529142.8571428573,1419952.0952380951,1472714.2857142857,1355047.619047619,3043500.0,1162722.2222222222,3279571.4285714286,985798.3333333334,925133.3333333334,891627.619047619,904000.0,802248.5714285715,824085.7142857143,1619142.857142857,4479190.476190476,911000.0,645057.1428571428,1573933.3333333333,7789061.761904762,540624.1428571428,1045131.9047619047,494323.3333333333,1090154.9476190475,468333.3333333333,877113.8095238095,656095.2380952381,409766.6666666667,579812.6666666666,390309.5238095238,392669.23076923075,480565.28571428574,1878964.2857142857,742773.9523809524,303123.6666666667,297428.5714285714,660714.2857142857,283580.95238095237,479249.04761904763,269904.7619047619,265619.04761904763,3361765.076190476,249238.09523809524,233208.57142857142,231855.95238095237,223419.04761904763,15954761.904761905,225302.85714285713,826219.0476190476,375780.1095238095,1504721.9047619049,632952.380952381,178676.52380952382,173661.90476190476,172671.42857142858,166032.66666666666,152320.95238095237,151982.38095238095,11005000.0,241070.95238095237,143952.38095238095,141690.47619047618,136666.66666666666,132048.07692307694,131138.09523809524,121138.46153846153,121533.33333333333,281857.14285714284,112952.38095238095,1409523.8095238095,99047.61904761905,97319.04761904762,224269.2961904762,142204.7619047619,115114.28571428571,4957370.0,87819.04761904762,202805.90476190476,130294.42857142857,80421.90476190476,73947.61904761905,3553523.8095238097,63657.142857142855,103961.90476190476,9364285.714285715,80737.14285714286,51321.42857142857,43744.47619047619,43719.52380952381,39466.666666666664,6747047.619047619,39376.19047619047,32587.0,2302411.904761905,27542.85714285714,27188.285714285714,137571.42857142858,19628.571428571428,19259.428571428572,51528029.52380952,17661.904761904763,15761.904761904761,7965.238095238095,93619.04761904762,121201.95238095238,10816476.19047619,3764.7619047619046,72200.0,3057.2539714285717,4058914.761904762,456400.0],\"type\":\"scatter\"},{\"line\":{\"color\":\"rgba(55, 128, 191, 1.0)\",\"dash\":\"solid\",\"shape\":\"linear\",\"width\":1.3},\"mode\":\"lines\",\"name\":\"non_renewable\",\"text\":\"\",\"x\":[\"United States\",\"China\",\"Japan\",\"Russian Federation\",\"India\",\"Germany\",\"United Kingdom\",\"Korea, Republic of\",\"Italy\",\"South Africa\",\"Australia\",\"Mexico\",\"Saudi Arabia\",\"Other Asia\",\"Iran (Islamic Rep. of)\",\"Canada\",\"Poland\",\"Spain\",\"Thailand\",\"Turkey\",\"Indonesia\",\"Egypt\",\"Netherlands\",\"Ukraine\",\"Malaysia\",\"Brazil\",\"Argentina\",\"Kazakhstan\",\"United Arab Emirates\",\"France\",\"Czechia\",\"Pakistan\",\"Greece\",\"Israel\",\"Kuwait\",\"Uzbekistan\",\"Finland\",\"Singapore\",\"Philippines\",\"Iraq\",\"Belgium\",\"China, Hong Kong SAR\",\"Algeria\",\"Romania\",\"Viet Nam\",\"Denmark\",\"Venezuela (Bolivar. Rep.)\",\"Portugal\",\"Belarus\",\"Chile\",\"Serbia\",\"Syrian Arab Republic\",\"Bangladesh\",\"Serbia and Montenegro\",\"Bulgaria\",\"Libya\",\"Ireland\",\"Puerto Rico\",\"Austria\",\"Hungary\",\"Azerbaijan\",\"Qatar\",\"Morocco\",\"Cuba\",\"Nigeria\",\"Colombia\",\"Oman\",\"Bahrain\",\"Sweden\",\"Turkmenistan\",\"Tunisia\",\"New Zealand\",\"Lebanon\",\"Dominican Republic\",\"Jordan\",\"Estonia\",\"Peru\",\"Slovakia\",\"Korea, Dem.Ppl's.Rep.\",\"Trinidad and Tobago\",\"Bosnia and Herzegovina\",\"Ecuador\",\"Jamaica\",\"Croatia\",\"Slovenia\",\"T.F.Yug.Rep. Macedonia\",\"Yemen\",\"Sri Lanka\",\"Zimbabwe\",\"Cyprus\",\"Mongolia\",\"Guatemala\",\"C\\u00f4te d'Ivoire\",\"Brunei Darussalam\",\"Bolivia (Plur. State of)\",\"Switzerland\",\"Myanmar\",\"Lithuania\",\"Honduras\",\"Sudan\",\"Panama\",\"Armenia\",\"El Salvador\",\"Nicaragua\",\"Republic of Moldova\",\"Malta\",\"Mauritius\",\"Senegal\",\"Kyrgyzstan\",\"Ghana\",\"Latvia\",\"Kenya\",\"Norway\",\"Sudan (former)\",\"Guam\",\"Papua New Guinea\",\"Luxembourg\",\"Bahamas\",\"Uruguay\",\"Georgia\",\"R\\u00e9union\",\"New Caledonia\",\"United Rep. of Tanzania\",\"Martinique\",\"Guadeloupe\",\"China, Macao SAR\",\"Montenegro\",\"Neth. Antilles (former)\",\"Angola\",\"United States Virgin Is.\",\"Botswana\",\"Barbados\",\"Cura\\u00e7ao\",\"Guyana\",\"Aruba\",\"Gabon\",\"Cameroon\",\"Cambodia\",\"Bermuda\",\"Suriname\",\"Costa Rica\",\"Mauritania\",\"Mali\",\"Cayman Islands\",\"Madagascar\",\"South Sudan\",\"Guinea\",\"Haiti\",\"Sint Maarten (Dutch part)\",\"French Polynesia\",\"Northern Mariana Islands\",\"Isle of Man\",\"Burkina Faso\",\"Uganda\",\"Fiji\",\"St. Lucia\",\"Somalia\",\"French Guiana\",\"State of Palestine\",\"Swaziland\",\"Djibouti\",\"Eritrea\",\"Lao People's Dem. Rep.\",\"Liberia\",\"Seychelles\",\"Niger\",\"Antigua and Barbuda\",\"Tajikistan\",\"Cabo Verde\",\"Afghanistan\",\"Greenland\",\"Malawi\",\"Congo\",\"Maldives\",\"Gambia\",\"St. Kitts-Nevis\",\"American Samoa\",\"Grenada\",\"Mayotte\",\"Mozambique\",\"Faeroe Islands\",\"Gibraltar\",\"Jersey\",\"Chad\",\"Timor-Leste\",\"Turks and Caicos Islands\",\"Guernsey\",\"Bonaire, St Eustatius, Saba\",\"Togo\",\"Benin\",\"Namibia\",\"British Virgin Islands\",\"Palau\",\"Belize\",\"Equatorial Guinea\",\"St. Vincent-Grenadines\",\"Albania\",\"Marshall Islands\",\"Rwanda\",\"Sierra Leone\",\"Micronesia (Fed. States of)\",\"Solomon Islands\",\"Ethiopia\",\"Anguilla\",\"Samoa\",\"Zambia\",\"Dominica\",\"Vanuatu\",\"Tonga\",\"St. Pierre-Miquelon\",\"Comoros\",\"Dem. Rep. of the Congo\",\"Sao Tome and Principe\",\"Guinea-Bissau\",\"Nepal\",\"Cook Islands\",\"Nauru\",\"Central African Rep.\",\"Montserrat\",\"Wallis and Futuna Is.\",\"Paraguay\",\"Kiribati\",\"Falkland Is. (Malvinas)\",\"St. Helena and Depend.\",\"Andorra\",\"Burundi\",\"Iceland\",\"Tuvalu\",\"Liechtenstein\",\"Niue\",\"Bhutan\",\"Lesotho\"],\"y\":[2918659523.8095236,2140893990.4761906,711982428.5714285,633441523.8095238,601744476.1904762,392334571.4285714,277115571.4285714,235829952.3809524,222113285.7142857,215212476.19047618,203384000.0,187770333.33333334,174847190.47619048,160428285.7142857,159004942.85714287,152488761.9047619,146589047.6190476,136646285.7142857,119608666.66666667,117565095.23809524,110587571.42857143,92410666.66666667,91360952.38095239,90836571.42857143,83469263.33333333,63596523.809523806,63151380.952380955,63000952.38095238,61983761.9047619,53075904.76190476,52580523.809523806,52490761.9047619,47621380.952380955,47420476.190476194,42599809.52380952,41110095.23809524,37780142.85714286,36242549.047619045,35556567.428571425,35277333.333333336,35028571.428571425,34824666.666666664,34671857.14285714,34105714.28571428,33494095.23809524,33172190.476190478,29697716.19047619,29543714.285714287,29276047.61904762,28624809.523809522,26415100.0,26331523.80952381,26321476.19047619,24536909.09090909,22704523.80952381,22135619.04761905,22066714.285714287,21996800.0,21452571.42857143,20743857.14285714,18125142.85714286,17187809.523809522,16354571.42857143,15842295.238095239,14966095.238095239,14688000.0,13880285.714285715,13282285.714285715,13154809.523809524,13111714.285714285,12509761.904761905,12191428.57142857,11098904.761904761,10643294.761904761,10454238.095238095,10040809.523809524,9073268.395238096,8893285.714285715,8203619.047619048,6724666.666666667,6586857.142857143,6327976.19047619,5597928.571428572,5493571.428571428,5489904.761904762,5308003.80952381,4837476.19047619,4340679.0,4057704.761904762,3927809.523809524,3850957.1428571427,3838647.619047619,3535028.5714285714,3148047.619047619,3110476.1904761903,3052809.523809524,2942680.0,2839238.095238095,2762476.1904761903,2548000.0,2342685.714285714,2286714.285714286,2130095.238095238,2068523.8095238095,2065809.5238095238,2033190.4761904762,2001395.238095238,2000095.238095238,1971761.9047619049,1958380.9523809524,1896380.9523809524,1894485.7142857143,1867857.142857143,1848222.2222222222,1836290.4761904762,1834000.0,1807714.2857142857,1795209.5238095238,1681642.857142857,1594095.238095238,1518247.619047619,1466338.0952380951,1400190.4761904762,1391813.0952380951,1381571.4285714286,1355047.619047619,1226300.0,1162722.2222222222,1064761.9047619049,985422.9047619047,924914.2857142857,891627.619047619,872000.0,801058.0952380953,793976.1904761905,764809.5238095238,748952.380952381,711190.4761904762,645057.1428571428,613819.0476190476,589806.35,533576.5238095238,517854.7619047619,494323.3333333333,473811.86666666664,466333.3333333333,439494.7619047619,426809.5238095238,409766.6666666667,403605.5238095238,390309.5238095238,389446.1538461539,386738.0,326028.5714285714,315475.0,303123.6666666667,297428.5714285714,287000.0,283580.95238095237,269993.8095238095,269904.7619047619,264333.3333333333,257238.09523809524,249238.09523809524,232506.19047619047,231854.2857142857,223419.04761904763,214761.90476190476,208375.7142857143,198119.04761904763,191211.12380952382,187322.38095238095,179238.09523809524,178317.95238095237,173661.90476190476,170909.52380952382,165875.52380952382,152320.95238095237,148633.33333333334,147714.2857142857,144800.52380952382,143952.38095238095,141690.47619047618,136666.66666666666,132048.07692307694,131138.09523809524,121138.46153846153,120800.0,112995.23809523809,112285.71428571429,99142.85714285714,99047.61904761905,97319.04761904762,96675.7981904762,91347.61904761905,90741.90476190476,88716.19047619047,87790.47619047618,85843.04761904762,85112.85714285714,79507.61904761905,73947.61904761905,72714.28571428571,63657.142857142855,62542.857142857145,54571.42857142857,51570.47619047619,47116.666666666664,43527.90476190476,43107.619047619046,39466.666666666664,35095.23809523809,32766.666666666668,32587.0,31269.04761904762,27542.85714285714,27161.904761904763,24333.333333333332,19628.571428571428,19259.428571428572,18298.571428571428,17661.904761904763,14286.190476190477,7655.238095238095,5842.857142857143,5803.380952380952,4666.666666666667,3764.7619047619046,3675.0,3041.3809523809523,645.7142857142857,0.0],\"type\":\"scatter\"}],                        {\"legend\":{\"bgcolor\":\"#F5F6F9\",\"font\":{\"color\":\"#4D5663\"}},\"paper_bgcolor\":\"#F5F6F9\",\"plot_bgcolor\":\"#F5F6F9\",\"template\":{\"data\":{\"barpolar\":[{\"marker\":{\"line\":{\"color\":\"#E5ECF6\",\"width\":0.5},\"pattern\":{\"fillmode\":\"overlay\",\"size\":10,\"solidity\":0.2}},\"type\":\"barpolar\"}],\"bar\":[{\"error_x\":{\"color\":\"#2a3f5f\"},\"error_y\":{\"color\":\"#2a3f5f\"},\"marker\":{\"line\":{\"color\":\"#E5ECF6\",\"width\":0.5},\"pattern\":{\"fillmode\":\"overlay\",\"size\":10,\"solidity\":0.2}},\"type\":\"bar\"}],\"carpet\":[{\"aaxis\":{\"endlinecolor\":\"#2a3f5f\",\"gridcolor\":\"white\",\"linecolor\":\"white\",\"minorgridcolor\":\"white\",\"startlinecolor\":\"#2a3f5f\"},\"baxis\":{\"endlinecolor\":\"#2a3f5f\",\"gridcolor\":\"white\",\"linecolor\":\"white\",\"minorgridcolor\":\"white\",\"startlinecolor\":\"#2a3f5f\"},\"type\":\"carpet\"}],\"choropleth\":[{\"colorbar\":{\"outlinewidth\":0,\"ticks\":\"\"},\"type\":\"choropleth\"}],\"contourcarpet\":[{\"colorbar\":{\"outlinewidth\":0,\"ticks\":\"\"},\"type\":\"contourcarpet\"}],\"contour\":[{\"colorbar\":{\"outlinewidth\":0,\"ticks\":\"\"},\"colorscale\":[[0.0,\"#0d0887\"],[0.1111111111111111,\"#46039f\"],[0.2222222222222222,\"#7201a8\"],[0.3333333333333333,\"#9c179e\"],[0.4444444444444444,\"#bd3786\"],[0.5555555555555556,\"#d8576b\"],[0.6666666666666666,\"#ed7953\"],[0.7777777777777778,\"#fb9f3a\"],[0.8888888888888888,\"#fdca26\"],[1.0,\"#f0f921\"]],\"type\":\"contour\"}],\"heatmapgl\":[{\"colorbar\":{\"outlinewidth\":0,\"ticks\":\"\"},\"colorscale\":[[0.0,\"#0d0887\"],[0.1111111111111111,\"#46039f\"],[0.2222222222222222,\"#7201a8\"],[0.3333333333333333,\"#9c179e\"],[0.4444444444444444,\"#bd3786\"],[0.5555555555555556,\"#d8576b\"],[0.6666666666666666,\"#ed7953\"],[0.7777777777777778,\"#fb9f3a\"],[0.8888888888888888,\"#fdca26\"],[1.0,\"#f0f921\"]],\"type\":\"heatmapgl\"}],\"heatmap\":[{\"colorbar\":{\"outlinewidth\":0,\"ticks\":\"\"},\"colorscale\":[[0.0,\"#0d0887\"],[0.1111111111111111,\"#46039f\"],[0.2222222222222222,\"#7201a8\"],[0.3333333333333333,\"#9c179e\"],[0.4444444444444444,\"#bd3786\"],[0.5555555555555556,\"#d8576b\"],[0.6666666666666666,\"#ed7953\"],[0.7777777777777778,\"#fb9f3a\"],[0.8888888888888888,\"#fdca26\"],[1.0,\"#f0f921\"]],\"type\":\"heatmap\"}],\"histogram2dcontour\":[{\"colorbar\":{\"outlinewidth\":0,\"ticks\":\"\"},\"colorscale\":[[0.0,\"#0d0887\"],[0.1111111111111111,\"#46039f\"],[0.2222222222222222,\"#7201a8\"],[0.3333333333333333,\"#9c179e\"],[0.4444444444444444,\"#bd3786\"],[0.5555555555555556,\"#d8576b\"],[0.6666666666666666,\"#ed7953\"],[0.7777777777777778,\"#fb9f3a\"],[0.8888888888888888,\"#fdca26\"],[1.0,\"#f0f921\"]],\"type\":\"histogram2dcontour\"}],\"histogram2d\":[{\"colorbar\":{\"outlinewidth\":0,\"ticks\":\"\"},\"colorscale\":[[0.0,\"#0d0887\"],[0.1111111111111111,\"#46039f\"],[0.2222222222222222,\"#7201a8\"],[0.3333333333333333,\"#9c179e\"],[0.4444444444444444,\"#bd3786\"],[0.5555555555555556,\"#d8576b\"],[0.6666666666666666,\"#ed7953\"],[0.7777777777777778,\"#fb9f3a\"],[0.8888888888888888,\"#fdca26\"],[1.0,\"#f0f921\"]],\"type\":\"histogram2d\"}],\"histogram\":[{\"marker\":{\"pattern\":{\"fillmode\":\"overlay\",\"size\":10,\"solidity\":0.2}},\"type\":\"histogram\"}],\"mesh3d\":[{\"colorbar\":{\"outlinewidth\":0,\"ticks\":\"\"},\"type\":\"mesh3d\"}],\"parcoords\":[{\"line\":{\"colorbar\":{\"outlinewidth\":0,\"ticks\":\"\"}},\"type\":\"parcoords\"}],\"pie\":[{\"automargin\":true,\"type\":\"pie\"}],\"scatter3d\":[{\"line\":{\"colorbar\":{\"outlinewidth\":0,\"ticks\":\"\"}},\"marker\":{\"colorbar\":{\"outlinewidth\":0,\"ticks\":\"\"}},\"type\":\"scatter3d\"}],\"scattercarpet\":[{\"marker\":{\"colorbar\":{\"outlinewidth\":0,\"ticks\":\"\"}},\"type\":\"scattercarpet\"}],\"scattergeo\":[{\"marker\":{\"colorbar\":{\"outlinewidth\":0,\"ticks\":\"\"}},\"type\":\"scattergeo\"}],\"scattergl\":[{\"marker\":{\"colorbar\":{\"outlinewidth\":0,\"ticks\":\"\"}},\"type\":\"scattergl\"}],\"scattermapbox\":[{\"marker\":{\"colorbar\":{\"outlinewidth\":0,\"ticks\":\"\"}},\"type\":\"scattermapbox\"}],\"scatterpolargl\":[{\"marker\":{\"colorbar\":{\"outlinewidth\":0,\"ticks\":\"\"}},\"type\":\"scatterpolargl\"}],\"scatterpolar\":[{\"marker\":{\"colorbar\":{\"outlinewidth\":0,\"ticks\":\"\"}},\"type\":\"scatterpolar\"}],\"scatter\":[{\"marker\":{\"colorbar\":{\"outlinewidth\":0,\"ticks\":\"\"}},\"type\":\"scatter\"}],\"scatterternary\":[{\"marker\":{\"colorbar\":{\"outlinewidth\":0,\"ticks\":\"\"}},\"type\":\"scatterternary\"}],\"surface\":[{\"colorbar\":{\"outlinewidth\":0,\"ticks\":\"\"},\"colorscale\":[[0.0,\"#0d0887\"],[0.1111111111111111,\"#46039f\"],[0.2222222222222222,\"#7201a8\"],[0.3333333333333333,\"#9c179e\"],[0.4444444444444444,\"#bd3786\"],[0.5555555555555556,\"#d8576b\"],[0.6666666666666666,\"#ed7953\"],[0.7777777777777778,\"#fb9f3a\"],[0.8888888888888888,\"#fdca26\"],[1.0,\"#f0f921\"]],\"type\":\"surface\"}],\"table\":[{\"cells\":{\"fill\":{\"color\":\"#EBF0F8\"},\"line\":{\"color\":\"white\"}},\"header\":{\"fill\":{\"color\":\"#C8D4E3\"},\"line\":{\"color\":\"white\"}},\"type\":\"table\"}]},\"layout\":{\"annotationdefaults\":{\"arrowcolor\":\"#2a3f5f\",\"arrowhead\":0,\"arrowwidth\":1},\"autotypenumbers\":\"strict\",\"coloraxis\":{\"colorbar\":{\"outlinewidth\":0,\"ticks\":\"\"}},\"colorscale\":{\"diverging\":[[0,\"#8e0152\"],[0.1,\"#c51b7d\"],[0.2,\"#de77ae\"],[0.3,\"#f1b6da\"],[0.4,\"#fde0ef\"],[0.5,\"#f7f7f7\"],[0.6,\"#e6f5d0\"],[0.7,\"#b8e186\"],[0.8,\"#7fbc41\"],[0.9,\"#4d9221\"],[1,\"#276419\"]],\"sequential\":[[0.0,\"#0d0887\"],[0.1111111111111111,\"#46039f\"],[0.2222222222222222,\"#7201a8\"],[0.3333333333333333,\"#9c179e\"],[0.4444444444444444,\"#bd3786\"],[0.5555555555555556,\"#d8576b\"],[0.6666666666666666,\"#ed7953\"],[0.7777777777777778,\"#fb9f3a\"],[0.8888888888888888,\"#fdca26\"],[1.0,\"#f0f921\"]],\"sequentialminus\":[[0.0,\"#0d0887\"],[0.1111111111111111,\"#46039f\"],[0.2222222222222222,\"#7201a8\"],[0.3333333333333333,\"#9c179e\"],[0.4444444444444444,\"#bd3786\"],[0.5555555555555556,\"#d8576b\"],[0.6666666666666666,\"#ed7953\"],[0.7777777777777778,\"#fb9f3a\"],[0.8888888888888888,\"#fdca26\"],[1.0,\"#f0f921\"]]},\"colorway\":[\"#636efa\",\"#EF553B\",\"#00cc96\",\"#ab63fa\",\"#FFA15A\",\"#19d3f3\",\"#FF6692\",\"#B6E880\",\"#FF97FF\",\"#FECB52\"],\"font\":{\"color\":\"#2a3f5f\"},\"geo\":{\"bgcolor\":\"white\",\"lakecolor\":\"white\",\"landcolor\":\"#E5ECF6\",\"showlakes\":true,\"showland\":true,\"subunitcolor\":\"white\"},\"hoverlabel\":{\"align\":\"left\"},\"hovermode\":\"closest\",\"mapbox\":{\"style\":\"light\"},\"paper_bgcolor\":\"white\",\"plot_bgcolor\":\"#E5ECF6\",\"polar\":{\"angularaxis\":{\"gridcolor\":\"white\",\"linecolor\":\"white\",\"ticks\":\"\"},\"bgcolor\":\"#E5ECF6\",\"radialaxis\":{\"gridcolor\":\"white\",\"linecolor\":\"white\",\"ticks\":\"\"}},\"scene\":{\"xaxis\":{\"backgroundcolor\":\"#E5ECF6\",\"gridcolor\":\"white\",\"gridwidth\":2,\"linecolor\":\"white\",\"showbackground\":true,\"ticks\":\"\",\"zerolinecolor\":\"white\"},\"yaxis\":{\"backgroundcolor\":\"#E5ECF6\",\"gridcolor\":\"white\",\"gridwidth\":2,\"linecolor\":\"white\",\"showbackground\":true,\"ticks\":\"\",\"zerolinecolor\":\"white\"},\"zaxis\":{\"backgroundcolor\":\"#E5ECF6\",\"gridcolor\":\"white\",\"gridwidth\":2,\"linecolor\":\"white\",\"showbackground\":true,\"ticks\":\"\",\"zerolinecolor\":\"white\"}},\"shapedefaults\":{\"line\":{\"color\":\"#2a3f5f\"}},\"ternary\":{\"aaxis\":{\"gridcolor\":\"white\",\"linecolor\":\"white\",\"ticks\":\"\"},\"baxis\":{\"gridcolor\":\"white\",\"linecolor\":\"white\",\"ticks\":\"\"},\"bgcolor\":\"#E5ECF6\",\"caxis\":{\"gridcolor\":\"white\",\"linecolor\":\"white\",\"ticks\":\"\"}},\"title\":{\"x\":0.05},\"xaxis\":{\"automargin\":true,\"gridcolor\":\"white\",\"linecolor\":\"white\",\"ticks\":\"\",\"title\":{\"standoff\":15},\"zerolinecolor\":\"white\",\"zerolinewidth\":2},\"yaxis\":{\"automargin\":true,\"gridcolor\":\"white\",\"linecolor\":\"white\",\"ticks\":\"\",\"title\":{\"standoff\":15},\"zerolinecolor\":\"white\",\"zerolinewidth\":2}}},\"title\":{\"font\":{\"color\":\"#4D5663\"}},\"xaxis\":{\"gridcolor\":\"#E1E5ED\",\"showgrid\":true,\"tickfont\":{\"color\":\"#4D5663\"},\"title\":{\"font\":{\"color\":\"#4D5663\"},\"text\":\"\"},\"zerolinecolor\":\"#E1E5ED\"},\"yaxis\":{\"gridcolor\":\"#E1E5ED\",\"showgrid\":true,\"tickfont\":{\"color\":\"#4D5663\"},\"title\":{\"font\":{\"color\":\"#4D5663\"},\"text\":\"\"},\"zerolinecolor\":\"#E1E5ED\"}},                        {\"showLink\": true, \"linkText\": \"Export to plot.ly\", \"plotlyServerURL\": \"https://plot.ly\", \"responsive\": true}                    ).then(function(){\n",
       "                            \n",
       "var gd = document.getElementById('e53679a0-7ba2-463b-b141-89873e506111');\n",
       "var x = new MutationObserver(function (mutations, observer) {{\n",
       "        var display = window.getComputedStyle(gd).display;\n",
       "        if (!display || display === 'none') {{\n",
       "            console.log([gd, 'removed!']);\n",
       "            Plotly.purge(gd);\n",
       "            observer.disconnect();\n",
       "        }}\n",
       "}});\n",
       "\n",
       "// Listen for the removal of the full notebook cells\n",
       "var notebookContainer = gd.closest('#notebook-container');\n",
       "if (notebookContainer) {{\n",
       "    x.observe(notebookContainer, {childList: true});\n",
       "}}\n",
       "\n",
       "// Listen for the clearing of the current output cell\n",
       "var outputEl = gd.closest('.output');\n",
       "if (outputEl) {{\n",
       "    x.observe(outputEl, {childList: true});\n",
       "}}\n",
       "\n",
       "                        })                };                });            </script>        </div>"
      ]
     },
     "metadata": {},
     "output_type": "display_data"
    }
   ],
   "source": [
    "#  ranking of all countries - electricity consumption non-renewable sources (20 years of production)\n",
    "rank_all_non_r = df.groupby(['country_or_area']).agg({'new_quantity':'mean','non_renewable':'mean'})\n",
    "rank_all_non_r.sort_values('non_renewable',ascending = False, inplace = True)\n",
    "rank_all_non_r.iplot();"
   ]
  },
  {
   "cell_type": "code",
   "execution_count": 10,
   "id": "bd99d6e6",
   "metadata": {},
   "outputs": [
    {
     "data": {
      "text/html": [
       "<div>\n",
       "<style scoped>\n",
       "    .dataframe tbody tr th:only-of-type {\n",
       "        vertical-align: middle;\n",
       "    }\n",
       "\n",
       "    .dataframe tbody tr th {\n",
       "        vertical-align: top;\n",
       "    }\n",
       "\n",
       "    .dataframe thead th {\n",
       "        text-align: right;\n",
       "    }\n",
       "</style>\n",
       "<table border=\"1\" class=\"dataframe\">\n",
       "  <thead>\n",
       "    <tr style=\"text-align: right;\">\n",
       "      <th></th>\n",
       "      <th>new_quantity</th>\n",
       "      <th>renewable</th>\n",
       "    </tr>\n",
       "    <tr>\n",
       "      <th>country_or_area</th>\n",
       "      <th></th>\n",
       "      <th></th>\n",
       "    </tr>\n",
       "  </thead>\n",
       "  <tbody>\n",
       "    <tr>\n",
       "      <th>United States</th>\n",
       "      <td>85549767000.00</td>\n",
       "      <td>24257917000.00</td>\n",
       "    </tr>\n",
       "    <tr>\n",
       "      <th>China</th>\n",
       "      <td>55912127900.00</td>\n",
       "      <td>10953354000.00</td>\n",
       "    </tr>\n",
       "    <tr>\n",
       "      <th>France</th>\n",
       "      <td>11476682000.00</td>\n",
       "      <td>10362088000.00</td>\n",
       "    </tr>\n",
       "    <tr>\n",
       "      <th>Canada</th>\n",
       "      <td>12657271000.00</td>\n",
       "      <td>9455007000.00</td>\n",
       "    </tr>\n",
       "    <tr>\n",
       "      <th>Japan</th>\n",
       "      <td>22157381000.00</td>\n",
       "      <td>7205750000.00</td>\n",
       "    </tr>\n",
       "    <tr>\n",
       "      <th>Brazil</th>\n",
       "      <td>8526034000.00</td>\n",
       "      <td>7190507000.00</td>\n",
       "    </tr>\n",
       "    <tr>\n",
       "      <th>Russian Federation</th>\n",
       "      <td>19882526000.00</td>\n",
       "      <td>6580254000.00</td>\n",
       "    </tr>\n",
       "    <tr>\n",
       "      <th>Germany</th>\n",
       "      <td>12543013000.00</td>\n",
       "      <td>4303987000.00</td>\n",
       "    </tr>\n",
       "    <tr>\n",
       "      <th>Sweden</th>\n",
       "      <td>3145664000.00</td>\n",
       "      <td>2869413000.00</td>\n",
       "    </tr>\n",
       "    <tr>\n",
       "      <th>Korea, Republic of</th>\n",
       "      <td>7651171000.00</td>\n",
       "      <td>2698742000.00</td>\n",
       "    </tr>\n",
       "    <tr>\n",
       "      <th>Norway</th>\n",
       "      <td>2652391000.00</td>\n",
       "      <td>2613166000.00</td>\n",
       "    </tr>\n",
       "    <tr>\n",
       "      <th>India</th>\n",
       "      <td>15245741000.00</td>\n",
       "      <td>2609107000.00</td>\n",
       "    </tr>\n",
       "    <tr>\n",
       "      <th>Spain</th>\n",
       "      <td>5307931000.00</td>\n",
       "      <td>2438359000.00</td>\n",
       "    </tr>\n",
       "    <tr>\n",
       "      <th>United Kingdom</th>\n",
       "      <td>7803117000.00</td>\n",
       "      <td>1983690000.00</td>\n",
       "    </tr>\n",
       "    <tr>\n",
       "      <th>Ukraine</th>\n",
       "      <td>3884638000.00</td>\n",
       "      <td>1977070000.00</td>\n",
       "    </tr>\n",
       "    <tr>\n",
       "      <th>Venezuela (Bolivar. Rep.)</th>\n",
       "      <td>2099219040.00</td>\n",
       "      <td>1475567000.00</td>\n",
       "    </tr>\n",
       "    <tr>\n",
       "      <th>Switzerland</th>\n",
       "      <td>1396666000.00</td>\n",
       "      <td>1332557000.00</td>\n",
       "    </tr>\n",
       "    <tr>\n",
       "      <th>Italy</th>\n",
       "      <td>5949869000.00</td>\n",
       "      <td>1285490000.00</td>\n",
       "    </tr>\n",
       "    <tr>\n",
       "      <th>Paraguay</th>\n",
       "      <td>1082088620.00</td>\n",
       "      <td>1081704350.00</td>\n",
       "    </tr>\n",
       "    <tr>\n",
       "      <th>Belgium</th>\n",
       "      <td>1747575000.00</td>\n",
       "      <td>1011975000.00</td>\n",
       "    </tr>\n",
       "    <tr>\n",
       "      <th>Other Asia</th>\n",
       "      <td>4373222000.00</td>\n",
       "      <td>1004228000.00</td>\n",
       "    </tr>\n",
       "    <tr>\n",
       "      <th>Mexico</th>\n",
       "      <td>4905218000.00</td>\n",
       "      <td>962041000.00</td>\n",
       "    </tr>\n",
       "    <tr>\n",
       "      <th>Turkey</th>\n",
       "      <td>3353771000.00</td>\n",
       "      <td>884904000.00</td>\n",
       "    </tr>\n",
       "    <tr>\n",
       "      <th>Austria</th>\n",
       "      <td>1324302000.00</td>\n",
       "      <td>873798000.00</td>\n",
       "    </tr>\n",
       "    <tr>\n",
       "      <th>Colombia</th>\n",
       "      <td>1119718590.00</td>\n",
       "      <td>811270590.00</td>\n",
       "    </tr>\n",
       "    <tr>\n",
       "      <th>Argentina</th>\n",
       "      <td>2136147170.00</td>\n",
       "      <td>809968170.00</td>\n",
       "    </tr>\n",
       "    <tr>\n",
       "      <th>Finland</th>\n",
       "      <td>1544952000.00</td>\n",
       "      <td>751569000.00</td>\n",
       "    </tr>\n",
       "    <tr>\n",
       "      <th>New Zealand</th>\n",
       "      <td>860683000.00</td>\n",
       "      <td>604663000.00</td>\n",
       "    </tr>\n",
       "    <tr>\n",
       "      <th>Pakistan</th>\n",
       "      <td>1693266000.00</td>\n",
       "      <td>590960000.00</td>\n",
       "    </tr>\n",
       "    <tr>\n",
       "      <th>Czechia</th>\n",
       "      <td>1625272000.00</td>\n",
       "      <td>521081000.00</td>\n",
       "    </tr>\n",
       "    <tr>\n",
       "      <th>Viet Nam</th>\n",
       "      <td>1218229000.00</td>\n",
       "      <td>514853000.00</td>\n",
       "    </tr>\n",
       "    <tr>\n",
       "      <th>Romania</th>\n",
       "      <td>1222837000.00</td>\n",
       "      <td>506617000.00</td>\n",
       "    </tr>\n",
       "    <tr>\n",
       "      <th>Chile</th>\n",
       "      <td>1044971000.00</td>\n",
       "      <td>443850000.00</td>\n",
       "    </tr>\n",
       "    <tr>\n",
       "      <th>Bulgaria</th>\n",
       "      <td>914259000.00</td>\n",
       "      <td>437464000.00</td>\n",
       "    </tr>\n",
       "    <tr>\n",
       "      <th>Slovakia</th>\n",
       "      <td>602865000.00</td>\n",
       "      <td>416106000.00</td>\n",
       "    </tr>\n",
       "    <tr>\n",
       "      <th>Australia</th>\n",
       "      <td>4667286000.00</td>\n",
       "      <td>396222000.00</td>\n",
       "    </tr>\n",
       "    <tr>\n",
       "      <th>Indonesia</th>\n",
       "      <td>2704177170.00</td>\n",
       "      <td>381838170.00</td>\n",
       "    </tr>\n",
       "    <tr>\n",
       "      <th>Peru</th>\n",
       "      <td>568442686.00</td>\n",
       "      <td>377904049.00</td>\n",
       "    </tr>\n",
       "    <tr>\n",
       "      <th>Philippines</th>\n",
       "      <td>1117501794.00</td>\n",
       "      <td>370813875.10</td>\n",
       "    </tr>\n",
       "    <tr>\n",
       "      <th>South Africa</th>\n",
       "      <td>4865063000.00</td>\n",
       "      <td>345601000.00</td>\n",
       "    </tr>\n",
       "    <tr>\n",
       "      <th>Tajikistan</th>\n",
       "      <td>335050000.00</td>\n",
       "      <td>330540000.00</td>\n",
       "    </tr>\n",
       "    <tr>\n",
       "      <th>Portugal</th>\n",
       "      <td>940670000.00</td>\n",
       "      <td>320252000.00</td>\n",
       "    </tr>\n",
       "    <tr>\n",
       "      <th>Hungary</th>\n",
       "      <td>743853000.00</td>\n",
       "      <td>308232000.00</td>\n",
       "    </tr>\n",
       "    <tr>\n",
       "      <th>Egypt</th>\n",
       "      <td>2231267000.00</td>\n",
       "      <td>290643000.00</td>\n",
       "    </tr>\n",
       "    <tr>\n",
       "      <th>Kyrgyzstan</th>\n",
       "      <td>302077000.00</td>\n",
       "      <td>260670000.00</td>\n",
       "    </tr>\n",
       "    <tr>\n",
       "      <th>Korea, Dem.Ppl's.Rep.</th>\n",
       "      <td>432216000.00</td>\n",
       "      <td>259940000.00</td>\n",
       "    </tr>\n",
       "    <tr>\n",
       "      <th>Mozambique</th>\n",
       "      <td>231105000.00</td>\n",
       "      <td>228003000.00</td>\n",
       "    </tr>\n",
       "    <tr>\n",
       "      <th>Iceland</th>\n",
       "      <td>227146000.00</td>\n",
       "      <td>227048000.00</td>\n",
       "    </tr>\n",
       "    <tr>\n",
       "      <th>Iran (Islamic Rep. of)</th>\n",
       "      <td>3559095400.00</td>\n",
       "      <td>219991620.00</td>\n",
       "    </tr>\n",
       "    <tr>\n",
       "      <th>Lithuania</th>\n",
       "      <td>264696000.00</td>\n",
       "      <td>205072000.00</td>\n",
       "    </tr>\n",
       "    <tr>\n",
       "      <th>Zambia</th>\n",
       "      <td>196650000.00</td>\n",
       "      <td>195504000.00</td>\n",
       "    </tr>\n",
       "    <tr>\n",
       "      <th>Slovenia</th>\n",
       "      <td>310662000.00</td>\n",
       "      <td>195374000.00</td>\n",
       "    </tr>\n",
       "    <tr>\n",
       "      <th>Ecuador</th>\n",
       "      <td>306219100.00</td>\n",
       "      <td>173331600.00</td>\n",
       "    </tr>\n",
       "    <tr>\n",
       "      <th>Uzbekistan</th>\n",
       "      <td>1035619000.00</td>\n",
       "      <td>172307000.00</td>\n",
       "    </tr>\n",
       "    <tr>\n",
       "      <th>Kazakhstan</th>\n",
       "      <td>1485510000.00</td>\n",
       "      <td>162490000.00</td>\n",
       "    </tr>\n",
       "    <tr>\n",
       "      <th>Costa Rica</th>\n",
       "      <td>163570297.00</td>\n",
       "      <td>151184364.56</td>\n",
       "    </tr>\n",
       "    <tr>\n",
       "      <th>Malaysia</th>\n",
       "      <td>1900808340.00</td>\n",
       "      <td>147953805.00</td>\n",
       "    </tr>\n",
       "    <tr>\n",
       "      <th>Uruguay</th>\n",
       "      <td>181925300.00</td>\n",
       "      <td>146610800.00</td>\n",
       "    </tr>\n",
       "    <tr>\n",
       "      <th>Croatia</th>\n",
       "      <td>257915000.00</td>\n",
       "      <td>142550000.00</td>\n",
       "    </tr>\n",
       "    <tr>\n",
       "      <th>Georgia</th>\n",
       "      <td>175170000.00</td>\n",
       "      <td>141694000.00</td>\n",
       "    </tr>\n",
       "    <tr>\n",
       "      <th>Dem. Rep. of the Congo</th>\n",
       "      <td>141688000.00</td>\n",
       "      <td>140951000.00</td>\n",
       "    </tr>\n",
       "    <tr>\n",
       "      <th>Thailand</th>\n",
       "      <td>2652093200.00</td>\n",
       "      <td>140311200.00</td>\n",
       "    </tr>\n",
       "    <tr>\n",
       "      <th>Greece</th>\n",
       "      <td>1139014000.00</td>\n",
       "      <td>138965000.00</td>\n",
       "    </tr>\n",
       "    <tr>\n",
       "      <th>Netherlands</th>\n",
       "      <td>2054706000.00</td>\n",
       "      <td>136126000.00</td>\n",
       "    </tr>\n",
       "    <tr>\n",
       "      <th>Ghana</th>\n",
       "      <td>170828000.00</td>\n",
       "      <td>129702000.00</td>\n",
       "    </tr>\n",
       "    <tr>\n",
       "      <th>Serbia and Montenegro</th>\n",
       "      <td>398709000.00</td>\n",
       "      <td>128803000.00</td>\n",
       "    </tr>\n",
       "    <tr>\n",
       "      <th>Nigeria</th>\n",
       "      <td>442789000.00</td>\n",
       "      <td>128501000.00</td>\n",
       "    </tr>\n",
       "    <tr>\n",
       "      <th>Denmark</th>\n",
       "      <td>820864000.00</td>\n",
       "      <td>124248000.00</td>\n",
       "    </tr>\n",
       "    <tr>\n",
       "      <th>Bosnia and Herzegovina</th>\n",
       "      <td>248110000.00</td>\n",
       "      <td>109786000.00</td>\n",
       "    </tr>\n",
       "    <tr>\n",
       "      <th>Serbia</th>\n",
       "      <td>372642000.00</td>\n",
       "      <td>108491000.00</td>\n",
       "    </tr>\n",
       "    <tr>\n",
       "      <th>Albania</th>\n",
       "      <td>104104770.00</td>\n",
       "      <td>102241730.00</td>\n",
       "    </tr>\n",
       "    <tr>\n",
       "      <th>Poland</th>\n",
       "      <td>3177960000.00</td>\n",
       "      <td>99590000.00</td>\n",
       "    </tr>\n",
       "    <tr>\n",
       "      <th>Zimbabwe</th>\n",
       "      <td>173461500.00</td>\n",
       "      <td>88249700.00</td>\n",
       "    </tr>\n",
       "    <tr>\n",
       "      <th>Bhutan</th>\n",
       "      <td>85237210.00</td>\n",
       "      <td>85223650.00</td>\n",
       "    </tr>\n",
       "    <tr>\n",
       "      <th>Kenya</th>\n",
       "      <td>124911300.00</td>\n",
       "      <td>85127100.00</td>\n",
       "    </tr>\n",
       "    <tr>\n",
       "      <th>Sri Lanka</th>\n",
       "      <td>175884078.00</td>\n",
       "      <td>84729819.00</td>\n",
       "    </tr>\n",
       "    <tr>\n",
       "      <th>Armenia</th>\n",
       "      <td>131479000.00</td>\n",
       "      <td>83458000.00</td>\n",
       "    </tr>\n",
       "    <tr>\n",
       "      <th>Cameroon</th>\n",
       "      <td>94063000.00</td>\n",
       "      <td>78335000.00</td>\n",
       "    </tr>\n",
       "    <tr>\n",
       "      <th>Myanmar</th>\n",
       "      <td>139357820.00</td>\n",
       "      <td>77561540.00</td>\n",
       "    </tr>\n",
       "    <tr>\n",
       "      <th>Panama</th>\n",
       "      <td>123837100.00</td>\n",
       "      <td>74640700.00</td>\n",
       "    </tr>\n",
       "    <tr>\n",
       "      <th>Ethiopia</th>\n",
       "      <td>74624000.00</td>\n",
       "      <td>73097000.00</td>\n",
       "    </tr>\n",
       "    <tr>\n",
       "      <th>Guatemala</th>\n",
       "      <td>146343100.00</td>\n",
       "      <td>65731500.00</td>\n",
       "    </tr>\n",
       "    <tr>\n",
       "      <th>Lao People's Dem. Rep.</th>\n",
       "      <td>70597066.60</td>\n",
       "      <td>65195067.30</td>\n",
       "    </tr>\n",
       "    <tr>\n",
       "      <th>Syrian Arab Republic</th>\n",
       "      <td>616120000.00</td>\n",
       "      <td>63158000.00</td>\n",
       "    </tr>\n",
       "    <tr>\n",
       "      <th>Latvia</th>\n",
       "      <td>102654000.00</td>\n",
       "      <td>62830000.00</td>\n",
       "    </tr>\n",
       "    <tr>\n",
       "      <th>El Salvador</th>\n",
       "      <td>100917000.00</td>\n",
       "      <td>56185000.00</td>\n",
       "    </tr>\n",
       "    <tr>\n",
       "      <th>Ireland</th>\n",
       "      <td>518587000.00</td>\n",
       "      <td>55186000.00</td>\n",
       "    </tr>\n",
       "    <tr>\n",
       "      <th>Honduras</th>\n",
       "      <td>108030000.00</td>\n",
       "      <td>50018000.00</td>\n",
       "    </tr>\n",
       "    <tr>\n",
       "      <th>Iraq</th>\n",
       "      <td>789289000.00</td>\n",
       "      <td>48465000.00</td>\n",
       "    </tr>\n",
       "    <tr>\n",
       "      <th>Nepal</th>\n",
       "      <td>48350650.00</td>\n",
       "      <td>47694000.00</td>\n",
       "    </tr>\n",
       "    <tr>\n",
       "      <th>Angola</th>\n",
       "      <td>68871000.00</td>\n",
       "      <td>46511000.00</td>\n",
       "    </tr>\n",
       "    <tr>\n",
       "      <th>United Rep. of Tanzania</th>\n",
       "      <td>74112000.00</td>\n",
       "      <td>44708000.00</td>\n",
       "    </tr>\n",
       "    <tr>\n",
       "      <th>Azerbaijan</th>\n",
       "      <td>423972000.00</td>\n",
       "      <td>43344000.00</td>\n",
       "    </tr>\n",
       "    <tr>\n",
       "      <th>Morocco</th>\n",
       "      <td>385762000.00</td>\n",
       "      <td>42316000.00</td>\n",
       "    </tr>\n",
       "    <tr>\n",
       "      <th>Bolivia (Plur. State of)</th>\n",
       "      <td>107582200.00</td>\n",
       "      <td>42262200.00</td>\n",
       "    </tr>\n",
       "    <tr>\n",
       "      <th>Côte d'Ivoire</th>\n",
       "      <td>110336600.00</td>\n",
       "      <td>36101000.00</td>\n",
       "    </tr>\n",
       "    <tr>\n",
       "      <th>Sudan (former)</th>\n",
       "      <td>66746000.00</td>\n",
       "      <td>33478000.00</td>\n",
       "    </tr>\n",
       "    <tr>\n",
       "      <th>Uganda</th>\n",
       "      <td>39458250.00</td>\n",
       "      <td>32611650.00</td>\n",
       "    </tr>\n",
       "    <tr>\n",
       "      <th>Dominican Republic</th>\n",
       "      <td>254716060.00</td>\n",
       "      <td>31206870.00</td>\n",
       "    </tr>\n",
       "    <tr>\n",
       "      <th>Malawi</th>\n",
       "      <td>31599160.00</td>\n",
       "      <td>27665390.00</td>\n",
       "    </tr>\n",
       "    <tr>\n",
       "      <th>Namibia</th>\n",
       "      <td>29600000.00</td>\n",
       "      <td>27518000.00</td>\n",
       "    </tr>\n",
       "    <tr>\n",
       "      <th>T.F.Yug.Rep. Macedonia</th>\n",
       "      <td>136580131.00</td>\n",
       "      <td>25112051.00</td>\n",
       "    </tr>\n",
       "    <tr>\n",
       "      <th>Sudan</th>\n",
       "      <td>31493000.00</td>\n",
       "      <td>23849000.00</td>\n",
       "    </tr>\n",
       "    <tr>\n",
       "      <th>Papua New Guinea</th>\n",
       "      <td>61858000.00</td>\n",
       "      <td>23344000.00</td>\n",
       "    </tr>\n",
       "    <tr>\n",
       "      <th>Luxembourg</th>\n",
       "      <td>59338000.00</td>\n",
       "      <td>21376000.00</td>\n",
       "    </tr>\n",
       "    <tr>\n",
       "      <th>Suriname</th>\n",
       "      <td>33052600.00</td>\n",
       "      <td>20162400.00</td>\n",
       "    </tr>\n",
       "    <tr>\n",
       "      <th>Bangladesh</th>\n",
       "      <td>571438000.00</td>\n",
       "      <td>18687000.00</td>\n",
       "    </tr>\n",
       "    <tr>\n",
       "      <th>Montenegro</th>\n",
       "      <td>30435000.00</td>\n",
       "      <td>18172000.00</td>\n",
       "    </tr>\n",
       "    <tr>\n",
       "      <th>Gabon</th>\n",
       "      <td>34002000.00</td>\n",
       "      <td>17941000.00</td>\n",
       "    </tr>\n",
       "    <tr>\n",
       "      <th>Nicaragua</th>\n",
       "      <td>60548000.00</td>\n",
       "      <td>17109000.00</td>\n",
       "    </tr>\n",
       "    <tr>\n",
       "      <th>Lebanon</th>\n",
       "      <td>248960000.00</td>\n",
       "      <td>15883000.00</td>\n",
       "    </tr>\n",
       "    <tr>\n",
       "      <th>Afghanistan</th>\n",
       "      <td>17350600.00</td>\n",
       "      <td>13190100.00</td>\n",
       "    </tr>\n",
       "    <tr>\n",
       "      <th>Madagascar</th>\n",
       "      <td>22893253.90</td>\n",
       "      <td>12943204.70</td>\n",
       "    </tr>\n",
       "    <tr>\n",
       "      <th>Réunion</th>\n",
       "      <td>44543880.00</td>\n",
       "      <td>12660680.00</td>\n",
       "    </tr>\n",
       "    <tr>\n",
       "      <th>Mali</th>\n",
       "      <td>21947770.00</td>\n",
       "      <td>11072820.00</td>\n",
       "    </tr>\n",
       "    <tr>\n",
       "      <th>Congo</th>\n",
       "      <td>13292000.00</td>\n",
       "      <td>9528000.00</td>\n",
       "    </tr>\n",
       "    <tr>\n",
       "      <th>Guinea</th>\n",
       "      <td>18419390.00</td>\n",
       "      <td>9190000.00</td>\n",
       "    </tr>\n",
       "    <tr>\n",
       "      <th>Fiji</th>\n",
       "      <td>15598253.00</td>\n",
       "      <td>8973278.00</td>\n",
       "    </tr>\n",
       "    <tr>\n",
       "      <th>New Caledonia</th>\n",
       "      <td>38845680.00</td>\n",
       "      <td>8052580.00</td>\n",
       "    </tr>\n",
       "    <tr>\n",
       "      <th>French Guiana</th>\n",
       "      <td>13875000.00</td>\n",
       "      <td>7848000.00</td>\n",
       "    </tr>\n",
       "    <tr>\n",
       "      <th>Lesotho</th>\n",
       "      <td>7302400.00</td>\n",
       "      <td>7302400.00</td>\n",
       "    </tr>\n",
       "    <tr>\n",
       "      <th>Algeria</th>\n",
       "      <td>733039000.00</td>\n",
       "      <td>4930000.00</td>\n",
       "    </tr>\n",
       "    <tr>\n",
       "      <th>Haiti</th>\n",
       "      <td>13778000.00</td>\n",
       "      <td>4815000.00</td>\n",
       "    </tr>\n",
       "    <tr>\n",
       "      <th>Swaziland</th>\n",
       "      <td>10064230.00</td>\n",
       "      <td>4394360.00</td>\n",
       "    </tr>\n",
       "    <tr>\n",
       "      <th>Cambodia</th>\n",
       "      <td>19131000.00</td>\n",
       "      <td>4196000.00</td>\n",
       "    </tr>\n",
       "    <tr>\n",
       "      <th>Greenland</th>\n",
       "      <td>7891382.30</td>\n",
       "      <td>3875948.70</td>\n",
       "    </tr>\n",
       "    <tr>\n",
       "      <th>French Polynesia</th>\n",
       "      <td>12176066.00</td>\n",
       "      <td>3700350.00</td>\n",
       "    </tr>\n",
       "    <tr>\n",
       "      <th>Jamaica</th>\n",
       "      <td>121122700.00</td>\n",
       "      <td>3566200.00</td>\n",
       "    </tr>\n",
       "    <tr>\n",
       "      <th>Togo</th>\n",
       "      <td>5919000.00</td>\n",
       "      <td>3546100.00</td>\n",
       "    </tr>\n",
       "    <tr>\n",
       "      <th>Puerto Rico</th>\n",
       "      <td>465321600.00</td>\n",
       "      <td>3388800.00</td>\n",
       "    </tr>\n",
       "    <tr>\n",
       "      <th>Tunisia</th>\n",
       "      <td>266057720.00</td>\n",
       "      <td>3352720.00</td>\n",
       "    </tr>\n",
       "    <tr>\n",
       "      <th>Estonia</th>\n",
       "      <td>213973000.00</td>\n",
       "      <td>3116000.00</td>\n",
       "    </tr>\n",
       "    <tr>\n",
       "      <th>Belize</th>\n",
       "      <td>4709655.22</td>\n",
       "      <td>2679463.44</td>\n",
       "    </tr>\n",
       "    <tr>\n",
       "      <th>Israel</th>\n",
       "      <td>998452000.00</td>\n",
       "      <td>2622000.00</td>\n",
       "    </tr>\n",
       "    <tr>\n",
       "      <th>Republic of Moldova</th>\n",
       "      <td>45910000.00</td>\n",
       "      <td>2528000.00</td>\n",
       "    </tr>\n",
       "    <tr>\n",
       "      <th>Rwanda</th>\n",
       "      <td>4258924.00</td>\n",
       "      <td>2456220.00</td>\n",
       "    </tr>\n",
       "    <tr>\n",
       "      <th>Burundi</th>\n",
       "      <td>2545241.00</td>\n",
       "      <td>2423370.00</td>\n",
       "    </tr>\n",
       "    <tr>\n",
       "      <th>Central African Rep.</th>\n",
       "      <td>2889000.00</td>\n",
       "      <td>2378000.00</td>\n",
       "    </tr>\n",
       "    <tr>\n",
       "      <th>Cuba</th>\n",
       "      <td>334844600.00</td>\n",
       "      <td>2156400.00</td>\n",
       "    </tr>\n",
       "    <tr>\n",
       "      <th>Faeroe Islands</th>\n",
       "      <td>5062490.00</td>\n",
       "      <td>2021679.00</td>\n",
       "    </tr>\n",
       "    <tr>\n",
       "      <th>Mauritius</th>\n",
       "      <td>44033900.00</td>\n",
       "      <td>2004600.00</td>\n",
       "    </tr>\n",
       "    <tr>\n",
       "      <th>Burkina Faso</th>\n",
       "      <td>10091871.00</td>\n",
       "      <td>1970373.00</td>\n",
       "    </tr>\n",
       "    <tr>\n",
       "      <th>Guadeloupe</th>\n",
       "      <td>30927000.00</td>\n",
       "      <td>1914000.00</td>\n",
       "    </tr>\n",
       "    <tr>\n",
       "      <th>Andorra</th>\n",
       "      <td>1966000.00</td>\n",
       "      <td>1843300.00</td>\n",
       "    </tr>\n",
       "    <tr>\n",
       "      <th>Equatorial Guinea</th>\n",
       "      <td>2986300.00</td>\n",
       "      <td>1068000.00</td>\n",
       "    </tr>\n",
       "    <tr>\n",
       "      <th>Jordan</th>\n",
       "      <td>220496400.00</td>\n",
       "      <td>957400.00</td>\n",
       "    </tr>\n",
       "    <tr>\n",
       "      <th>Sierra Leone</th>\n",
       "      <td>2736183.00</td>\n",
       "      <td>948813.00</td>\n",
       "    </tr>\n",
       "    <tr>\n",
       "      <th>Cyprus</th>\n",
       "      <td>83410000.00</td>\n",
       "      <td>926000.00</td>\n",
       "    </tr>\n",
       "    <tr>\n",
       "      <th>Belarus</th>\n",
       "      <td>615698000.00</td>\n",
       "      <td>901000.00</td>\n",
       "    </tr>\n",
       "    <tr>\n",
       "      <th>Samoa</th>\n",
       "      <td>2183200.00</td>\n",
       "      <td>869800.00</td>\n",
       "    </tr>\n",
       "    <tr>\n",
       "      <th>Aruba</th>\n",
       "      <td>17305800.00</td>\n",
       "      <td>632300.00</td>\n",
       "    </tr>\n",
       "    <tr>\n",
       "      <th>Dominica</th>\n",
       "      <td>1695480.00</td>\n",
       "      <td>612500.00</td>\n",
       "    </tr>\n",
       "    <tr>\n",
       "      <th>Martinique</th>\n",
       "      <td>29818994.00</td>\n",
       "      <td>590919.00</td>\n",
       "    </tr>\n",
       "    <tr>\n",
       "      <th>Liechtenstein</th>\n",
       "      <td>577600.00</td>\n",
       "      <td>548200.00</td>\n",
       "    </tr>\n",
       "    <tr>\n",
       "      <th>St. Vincent-Grenadines</th>\n",
       "      <td>2417400.00</td>\n",
       "      <td>511820.00</td>\n",
       "    </tr>\n",
       "    <tr>\n",
       "      <th>Cabo Verde</th>\n",
       "      <td>4731360.00</td>\n",
       "      <td>355470.00</td>\n",
       "    </tr>\n",
       "    <tr>\n",
       "      <th>Mauritania</th>\n",
       "      <td>11353107.00</td>\n",
       "      <td>148000.00</td>\n",
       "    </tr>\n",
       "    <tr>\n",
       "      <th>Malta</th>\n",
       "      <td>42838000.00</td>\n",
       "      <td>141000.00</td>\n",
       "    </tr>\n",
       "    <tr>\n",
       "      <th>Sao Tome and Principe</th>\n",
       "      <td>826900.00</td>\n",
       "      <td>138800.00</td>\n",
       "    </tr>\n",
       "    <tr>\n",
       "      <th>Curaçao</th>\n",
       "      <td>2712000.00</td>\n",
       "      <td>96000.00</td>\n",
       "    </tr>\n",
       "    <tr>\n",
       "      <th>Vanuatu</th>\n",
       "      <td>1077750.00</td>\n",
       "      <td>88300.00</td>\n",
       "    </tr>\n",
       "    <tr>\n",
       "      <th>Mayotte</th>\n",
       "      <td>3191630.00</td>\n",
       "      <td>70330.00</td>\n",
       "    </tr>\n",
       "    <tr>\n",
       "      <th>Turkmenistan</th>\n",
       "      <td>275410000.00</td>\n",
       "      <td>64000.00</td>\n",
       "    </tr>\n",
       "    <tr>\n",
       "      <th>Isle of Man</th>\n",
       "      <td>5104700.00</td>\n",
       "      <td>41900.00</td>\n",
       "    </tr>\n",
       "    <tr>\n",
       "      <th>St. Kitts-Nevis</th>\n",
       "      <td>3626100.00</td>\n",
       "      <td>37000.00</td>\n",
       "    </tr>\n",
       "    <tr>\n",
       "      <th>Falkland Is. (Malvinas)</th>\n",
       "      <td>331000.00</td>\n",
       "      <td>30990.00</td>\n",
       "    </tr>\n",
       "    <tr>\n",
       "      <th>Eritrea</th>\n",
       "      <td>5578000.00</td>\n",
       "      <td>27000.00</td>\n",
       "    </tr>\n",
       "    <tr>\n",
       "      <th>Senegal</th>\n",
       "      <td>42029000.00</td>\n",
       "      <td>27000.00</td>\n",
       "    </tr>\n",
       "    <tr>\n",
       "      <th>Guyana</th>\n",
       "      <td>16847220.00</td>\n",
       "      <td>25000.00</td>\n",
       "    </tr>\n",
       "    <tr>\n",
       "      <th>Micronesia (Fed. States of)</th>\n",
       "      <td>1688860.00</td>\n",
       "      <td>19200.00</td>\n",
       "    </tr>\n",
       "    <tr>\n",
       "      <th>Seychelles</th>\n",
       "      <td>4897380.00</td>\n",
       "      <td>14750.00</td>\n",
       "    </tr>\n",
       "    <tr>\n",
       "      <th>Benin</th>\n",
       "      <td>2372000.00</td>\n",
       "      <td>14000.00</td>\n",
       "    </tr>\n",
       "    <tr>\n",
       "      <th>St. Pierre-Miquelon</th>\n",
       "      <td>918110.00</td>\n",
       "      <td>12850.00</td>\n",
       "    </tr>\n",
       "    <tr>\n",
       "      <th>Brunei Darussalam</th>\n",
       "      <td>66117000.00</td>\n",
       "      <td>8000.00</td>\n",
       "    </tr>\n",
       "    <tr>\n",
       "      <th>United States Virgin Is.</th>\n",
       "      <td>20701765.00</td>\n",
       "      <td>7884.00</td>\n",
       "    </tr>\n",
       "    <tr>\n",
       "      <th>Maldives</th>\n",
       "      <td>3752207.00</td>\n",
       "      <td>7530.00</td>\n",
       "    </tr>\n",
       "    <tr>\n",
       "      <th>St. Helena and Depend.</th>\n",
       "      <td>167270.00</td>\n",
       "      <td>6510.00</td>\n",
       "    </tr>\n",
       "    <tr>\n",
       "      <th>South Sudan</th>\n",
       "      <td>1405000.00</td>\n",
       "      <td>6000.00</td>\n",
       "    </tr>\n",
       "    <tr>\n",
       "      <th>Botswana</th>\n",
       "      <td>19427800.00</td>\n",
       "      <td>4600.00</td>\n",
       "    </tr>\n",
       "    <tr>\n",
       "      <th>Tonga</th>\n",
       "      <td>918634.00</td>\n",
       "      <td>4548.00</td>\n",
       "    </tr>\n",
       "    <tr>\n",
       "      <th>American Samoa</th>\n",
       "      <td>3486686.00</td>\n",
       "      <td>3300.00</td>\n",
       "    </tr>\n",
       "    <tr>\n",
       "      <th>Saudi Arabia</th>\n",
       "      <td>3671794000.00</td>\n",
       "      <td>3000.00</td>\n",
       "    </tr>\n",
       "    <tr>\n",
       "      <th>Bonaire, St Eustatius, Saba</th>\n",
       "      <td>364600.00</td>\n",
       "      <td>2200.00</td>\n",
       "    </tr>\n",
       "    <tr>\n",
       "      <th>Marshall Islands</th>\n",
       "      <td>1844200.00</td>\n",
       "      <td>600.00</td>\n",
       "    </tr>\n",
       "    <tr>\n",
       "      <th>Nauru</th>\n",
       "      <td>570954.00</td>\n",
       "      <td>554.00</td>\n",
       "    </tr>\n",
       "    <tr>\n",
       "      <th>Niue</th>\n",
       "      <td>64202.33</td>\n",
       "      <td>333.33</td>\n",
       "    </tr>\n",
       "    <tr>\n",
       "      <th>Niger</th>\n",
       "      <td>4868975.00</td>\n",
       "      <td>35.00</td>\n",
       "    </tr>\n",
       "    <tr>\n",
       "      <th>Timor-Leste</th>\n",
       "      <td>1716625.00</td>\n",
       "      <td>0.00</td>\n",
       "    </tr>\n",
       "    <tr>\n",
       "      <th>Bermuda</th>\n",
       "      <td>13546200.00</td>\n",
       "      <td>0.00</td>\n",
       "    </tr>\n",
       "    <tr>\n",
       "      <th>Mongolia</th>\n",
       "      <td>80870100.00</td>\n",
       "      <td>0.00</td>\n",
       "    </tr>\n",
       "    <tr>\n",
       "      <th>Libya</th>\n",
       "      <td>464848000.00</td>\n",
       "      <td>0.00</td>\n",
       "    </tr>\n",
       "    <tr>\n",
       "      <th>Trinidad and Tobago</th>\n",
       "      <td>141218000.00</td>\n",
       "      <td>0.00</td>\n",
       "    </tr>\n",
       "    <tr>\n",
       "      <th>Liberia</th>\n",
       "      <td>5234000.00</td>\n",
       "      <td>0.00</td>\n",
       "    </tr>\n",
       "    <tr>\n",
       "      <th>Jersey</th>\n",
       "      <td>2975500.00</td>\n",
       "      <td>0.00</td>\n",
       "    </tr>\n",
       "    <tr>\n",
       "      <th>Turks and Caicos Islands</th>\n",
       "      <td>2753900.00</td>\n",
       "      <td>0.00</td>\n",
       "    </tr>\n",
       "    <tr>\n",
       "      <th>Tuvalu</th>\n",
       "      <td>79060.00</td>\n",
       "      <td>0.00</td>\n",
       "    </tr>\n",
       "    <tr>\n",
       "      <th>Barbados</th>\n",
       "      <td>18724180.00</td>\n",
       "      <td>0.00</td>\n",
       "    </tr>\n",
       "    <tr>\n",
       "      <th>Bahrain</th>\n",
       "      <td>278928000.00</td>\n",
       "      <td>0.00</td>\n",
       "    </tr>\n",
       "    <tr>\n",
       "      <th>Bahamas</th>\n",
       "      <td>37699400.00</td>\n",
       "      <td>0.00</td>\n",
       "    </tr>\n",
       "    <tr>\n",
       "      <th>Antigua and Barbuda</th>\n",
       "      <td>4691800.00</td>\n",
       "      <td>0.00</td>\n",
       "    </tr>\n",
       "    <tr>\n",
       "      <th>Anguilla</th>\n",
       "      <td>1336800.00</td>\n",
       "      <td>0.00</td>\n",
       "    </tr>\n",
       "    <tr>\n",
       "      <th>Wallis and Futuna Is.</th>\n",
       "      <td>269632.00</td>\n",
       "      <td>0.00</td>\n",
       "    </tr>\n",
       "    <tr>\n",
       "      <th>Yemen</th>\n",
       "      <td>101587000.00</td>\n",
       "      <td>0.00</td>\n",
       "    </tr>\n",
       "    <tr>\n",
       "      <th>United Arab Emirates</th>\n",
       "      <td>1301659000.00</td>\n",
       "      <td>0.00</td>\n",
       "    </tr>\n",
       "    <tr>\n",
       "      <th>Chad</th>\n",
       "      <td>2870000.00</td>\n",
       "      <td>0.00</td>\n",
       "    </tr>\n",
       "    <tr>\n",
       "      <th>British Virgin Islands</th>\n",
       "      <td>2080000.00</td>\n",
       "      <td>0.00</td>\n",
       "    </tr>\n",
       "    <tr>\n",
       "      <th>Cook Islands</th>\n",
       "      <td>578400.00</td>\n",
       "      <td>0.00</td>\n",
       "    </tr>\n",
       "    <tr>\n",
       "      <th>Montserrat</th>\n",
       "      <td>412200.00</td>\n",
       "      <td>0.00</td>\n",
       "    </tr>\n",
       "    <tr>\n",
       "      <th>Guam</th>\n",
       "      <td>38562100.00</td>\n",
       "      <td>0.00</td>\n",
       "    </tr>\n",
       "    <tr>\n",
       "      <th>Grenada</th>\n",
       "      <td>3198740.00</td>\n",
       "      <td>0.00</td>\n",
       "    </tr>\n",
       "    <tr>\n",
       "      <th>Gibraltar</th>\n",
       "      <td>3023000.00</td>\n",
       "      <td>0.00</td>\n",
       "    </tr>\n",
       "    <tr>\n",
       "      <th>Neth. Antilles (former)</th>\n",
       "      <td>20929000.00</td>\n",
       "      <td>0.00</td>\n",
       "    </tr>\n",
       "    <tr>\n",
       "      <th>Gambia</th>\n",
       "      <td>3646900.00</td>\n",
       "      <td>0.00</td>\n",
       "    </tr>\n",
       "    <tr>\n",
       "      <th>Northern Mariana Islands</th>\n",
       "      <td>8196500.00</td>\n",
       "      <td>0.00</td>\n",
       "    </tr>\n",
       "    <tr>\n",
       "      <th>Oman</th>\n",
       "      <td>291486000.00</td>\n",
       "      <td>0.00</td>\n",
       "    </tr>\n",
       "    <tr>\n",
       "      <th>Palau</th>\n",
       "      <td>2043700.00</td>\n",
       "      <td>0.00</td>\n",
       "    </tr>\n",
       "    <tr>\n",
       "      <th>Djibouti</th>\n",
       "      <td>5668000.00</td>\n",
       "      <td>0.00</td>\n",
       "    </tr>\n",
       "    <tr>\n",
       "      <th>Qatar</th>\n",
       "      <td>360944000.00</td>\n",
       "      <td>0.00</td>\n",
       "    </tr>\n",
       "    <tr>\n",
       "      <th>Guinea-Bissau</th>\n",
       "      <td>684327.00</td>\n",
       "      <td>0.00</td>\n",
       "    </tr>\n",
       "    <tr>\n",
       "      <th>State of Palestine</th>\n",
       "      <td>5955200.00</td>\n",
       "      <td>0.00</td>\n",
       "    </tr>\n",
       "    <tr>\n",
       "      <th>Kuwait</th>\n",
       "      <td>894596000.00</td>\n",
       "      <td>0.00</td>\n",
       "    </tr>\n",
       "    <tr>\n",
       "      <th>Comoros</th>\n",
       "      <td>828800.00</td>\n",
       "      <td>0.00</td>\n",
       "    </tr>\n",
       "    <tr>\n",
       "      <th>China, Macao SAR</th>\n",
       "      <td>28456000.00</td>\n",
       "      <td>0.00</td>\n",
       "    </tr>\n",
       "    <tr>\n",
       "      <th>Singapore</th>\n",
       "      <td>761093530.00</td>\n",
       "      <td>0.00</td>\n",
       "    </tr>\n",
       "    <tr>\n",
       "      <th>Sint Maarten (Dutch part)</th>\n",
       "      <td>1229300.00</td>\n",
       "      <td>0.00</td>\n",
       "    </tr>\n",
       "    <tr>\n",
       "      <th>China, Hong Kong SAR</th>\n",
       "      <td>731318000.00</td>\n",
       "      <td>0.00</td>\n",
       "    </tr>\n",
       "    <tr>\n",
       "      <th>Guernsey</th>\n",
       "      <td>1574800.00</td>\n",
       "      <td>0.00</td>\n",
       "    </tr>\n",
       "    <tr>\n",
       "      <th>Solomon Islands</th>\n",
       "      <td>1552900.00</td>\n",
       "      <td>0.00</td>\n",
       "    </tr>\n",
       "    <tr>\n",
       "      <th>Somalia</th>\n",
       "      <td>6246000.00</td>\n",
       "      <td>0.00</td>\n",
       "    </tr>\n",
       "    <tr>\n",
       "      <th>Cayman Islands</th>\n",
       "      <td>10380790.00</td>\n",
       "      <td>0.00</td>\n",
       "    </tr>\n",
       "    <tr>\n",
       "      <th>St. Lucia</th>\n",
       "      <td>6365597.00</td>\n",
       "      <td>0.00</td>\n",
       "    </tr>\n",
       "    <tr>\n",
       "      <th>Kiribati</th>\n",
       "      <td>370900.00</td>\n",
       "      <td>0.00</td>\n",
       "    </tr>\n",
       "  </tbody>\n",
       "</table>\n",
       "</div>"
      ],
      "text/plain": [
       "                              new_quantity      renewable\n",
       "country_or_area                                          \n",
       "United States               85549767000.00 24257917000.00\n",
       "China                       55912127900.00 10953354000.00\n",
       "France                      11476682000.00 10362088000.00\n",
       "Canada                      12657271000.00  9455007000.00\n",
       "Japan                       22157381000.00  7205750000.00\n",
       "Brazil                       8526034000.00  7190507000.00\n",
       "Russian Federation          19882526000.00  6580254000.00\n",
       "Germany                     12543013000.00  4303987000.00\n",
       "Sweden                       3145664000.00  2869413000.00\n",
       "Korea, Republic of           7651171000.00  2698742000.00\n",
       "Norway                       2652391000.00  2613166000.00\n",
       "India                       15245741000.00  2609107000.00\n",
       "Spain                        5307931000.00  2438359000.00\n",
       "United Kingdom               7803117000.00  1983690000.00\n",
       "Ukraine                      3884638000.00  1977070000.00\n",
       "Venezuela (Bolivar. Rep.)    2099219040.00  1475567000.00\n",
       "Switzerland                  1396666000.00  1332557000.00\n",
       "Italy                        5949869000.00  1285490000.00\n",
       "Paraguay                     1082088620.00  1081704350.00\n",
       "Belgium                      1747575000.00  1011975000.00\n",
       "Other Asia                   4373222000.00  1004228000.00\n",
       "Mexico                       4905218000.00   962041000.00\n",
       "Turkey                       3353771000.00   884904000.00\n",
       "Austria                      1324302000.00   873798000.00\n",
       "Colombia                     1119718590.00   811270590.00\n",
       "Argentina                    2136147170.00   809968170.00\n",
       "Finland                      1544952000.00   751569000.00\n",
       "New Zealand                   860683000.00   604663000.00\n",
       "Pakistan                     1693266000.00   590960000.00\n",
       "Czechia                      1625272000.00   521081000.00\n",
       "Viet Nam                     1218229000.00   514853000.00\n",
       "Romania                      1222837000.00   506617000.00\n",
       "Chile                        1044971000.00   443850000.00\n",
       "Bulgaria                      914259000.00   437464000.00\n",
       "Slovakia                      602865000.00   416106000.00\n",
       "Australia                    4667286000.00   396222000.00\n",
       "Indonesia                    2704177170.00   381838170.00\n",
       "Peru                          568442686.00   377904049.00\n",
       "Philippines                  1117501794.00   370813875.10\n",
       "South Africa                 4865063000.00   345601000.00\n",
       "Tajikistan                    335050000.00   330540000.00\n",
       "Portugal                      940670000.00   320252000.00\n",
       "Hungary                       743853000.00   308232000.00\n",
       "Egypt                        2231267000.00   290643000.00\n",
       "Kyrgyzstan                    302077000.00   260670000.00\n",
       "Korea, Dem.Ppl's.Rep.         432216000.00   259940000.00\n",
       "Mozambique                    231105000.00   228003000.00\n",
       "Iceland                       227146000.00   227048000.00\n",
       "Iran (Islamic Rep. of)       3559095400.00   219991620.00\n",
       "Lithuania                     264696000.00   205072000.00\n",
       "Zambia                        196650000.00   195504000.00\n",
       "Slovenia                      310662000.00   195374000.00\n",
       "Ecuador                       306219100.00   173331600.00\n",
       "Uzbekistan                   1035619000.00   172307000.00\n",
       "Kazakhstan                   1485510000.00   162490000.00\n",
       "Costa Rica                    163570297.00   151184364.56\n",
       "Malaysia                     1900808340.00   147953805.00\n",
       "Uruguay                       181925300.00   146610800.00\n",
       "Croatia                       257915000.00   142550000.00\n",
       "Georgia                       175170000.00   141694000.00\n",
       "Dem. Rep. of the Congo        141688000.00   140951000.00\n",
       "Thailand                     2652093200.00   140311200.00\n",
       "Greece                       1139014000.00   138965000.00\n",
       "Netherlands                  2054706000.00   136126000.00\n",
       "Ghana                         170828000.00   129702000.00\n",
       "Serbia and Montenegro         398709000.00   128803000.00\n",
       "Nigeria                       442789000.00   128501000.00\n",
       "Denmark                       820864000.00   124248000.00\n",
       "Bosnia and Herzegovina        248110000.00   109786000.00\n",
       "Serbia                        372642000.00   108491000.00\n",
       "Albania                       104104770.00   102241730.00\n",
       "Poland                       3177960000.00    99590000.00\n",
       "Zimbabwe                      173461500.00    88249700.00\n",
       "Bhutan                         85237210.00    85223650.00\n",
       "Kenya                         124911300.00    85127100.00\n",
       "Sri Lanka                     175884078.00    84729819.00\n",
       "Armenia                       131479000.00    83458000.00\n",
       "Cameroon                       94063000.00    78335000.00\n",
       "Myanmar                       139357820.00    77561540.00\n",
       "Panama                        123837100.00    74640700.00\n",
       "Ethiopia                       74624000.00    73097000.00\n",
       "Guatemala                     146343100.00    65731500.00\n",
       "Lao People's Dem. Rep.         70597066.60    65195067.30\n",
       "Syrian Arab Republic          616120000.00    63158000.00\n",
       "Latvia                        102654000.00    62830000.00\n",
       "El Salvador                   100917000.00    56185000.00\n",
       "Ireland                       518587000.00    55186000.00\n",
       "Honduras                      108030000.00    50018000.00\n",
       "Iraq                          789289000.00    48465000.00\n",
       "Nepal                          48350650.00    47694000.00\n",
       "Angola                         68871000.00    46511000.00\n",
       "United Rep. of Tanzania        74112000.00    44708000.00\n",
       "Azerbaijan                    423972000.00    43344000.00\n",
       "Morocco                       385762000.00    42316000.00\n",
       "Bolivia (Plur. State of)      107582200.00    42262200.00\n",
       "Côte d'Ivoire                 110336600.00    36101000.00\n",
       "Sudan (former)                 66746000.00    33478000.00\n",
       "Uganda                         39458250.00    32611650.00\n",
       "Dominican Republic            254716060.00    31206870.00\n",
       "Malawi                         31599160.00    27665390.00\n",
       "Namibia                        29600000.00    27518000.00\n",
       "T.F.Yug.Rep. Macedonia        136580131.00    25112051.00\n",
       "Sudan                          31493000.00    23849000.00\n",
       "Papua New Guinea               61858000.00    23344000.00\n",
       "Luxembourg                     59338000.00    21376000.00\n",
       "Suriname                       33052600.00    20162400.00\n",
       "Bangladesh                    571438000.00    18687000.00\n",
       "Montenegro                     30435000.00    18172000.00\n",
       "Gabon                          34002000.00    17941000.00\n",
       "Nicaragua                      60548000.00    17109000.00\n",
       "Lebanon                       248960000.00    15883000.00\n",
       "Afghanistan                    17350600.00    13190100.00\n",
       "Madagascar                     22893253.90    12943204.70\n",
       "Réunion                        44543880.00    12660680.00\n",
       "Mali                           21947770.00    11072820.00\n",
       "Congo                          13292000.00     9528000.00\n",
       "Guinea                         18419390.00     9190000.00\n",
       "Fiji                           15598253.00     8973278.00\n",
       "New Caledonia                  38845680.00     8052580.00\n",
       "French Guiana                  13875000.00     7848000.00\n",
       "Lesotho                         7302400.00     7302400.00\n",
       "Algeria                       733039000.00     4930000.00\n",
       "Haiti                          13778000.00     4815000.00\n",
       "Swaziland                      10064230.00     4394360.00\n",
       "Cambodia                       19131000.00     4196000.00\n",
       "Greenland                       7891382.30     3875948.70\n",
       "French Polynesia               12176066.00     3700350.00\n",
       "Jamaica                       121122700.00     3566200.00\n",
       "Togo                            5919000.00     3546100.00\n",
       "Puerto Rico                   465321600.00     3388800.00\n",
       "Tunisia                       266057720.00     3352720.00\n",
       "Estonia                       213973000.00     3116000.00\n",
       "Belize                          4709655.22     2679463.44\n",
       "Israel                        998452000.00     2622000.00\n",
       "Republic of Moldova            45910000.00     2528000.00\n",
       "Rwanda                          4258924.00     2456220.00\n",
       "Burundi                         2545241.00     2423370.00\n",
       "Central African Rep.            2889000.00     2378000.00\n",
       "Cuba                          334844600.00     2156400.00\n",
       "Faeroe Islands                  5062490.00     2021679.00\n",
       "Mauritius                      44033900.00     2004600.00\n",
       "Burkina Faso                   10091871.00     1970373.00\n",
       "Guadeloupe                     30927000.00     1914000.00\n",
       "Andorra                         1966000.00     1843300.00\n",
       "Equatorial Guinea               2986300.00     1068000.00\n",
       "Jordan                        220496400.00      957400.00\n",
       "Sierra Leone                    2736183.00      948813.00\n",
       "Cyprus                         83410000.00      926000.00\n",
       "Belarus                       615698000.00      901000.00\n",
       "Samoa                           2183200.00      869800.00\n",
       "Aruba                          17305800.00      632300.00\n",
       "Dominica                        1695480.00      612500.00\n",
       "Martinique                     29818994.00      590919.00\n",
       "Liechtenstein                    577600.00      548200.00\n",
       "St. Vincent-Grenadines          2417400.00      511820.00\n",
       "Cabo Verde                      4731360.00      355470.00\n",
       "Mauritania                     11353107.00      148000.00\n",
       "Malta                          42838000.00      141000.00\n",
       "Sao Tome and Principe            826900.00      138800.00\n",
       "Curaçao                         2712000.00       96000.00\n",
       "Vanuatu                         1077750.00       88300.00\n",
       "Mayotte                         3191630.00       70330.00\n",
       "Turkmenistan                  275410000.00       64000.00\n",
       "Isle of Man                     5104700.00       41900.00\n",
       "St. Kitts-Nevis                 3626100.00       37000.00\n",
       "Falkland Is. (Malvinas)          331000.00       30990.00\n",
       "Eritrea                         5578000.00       27000.00\n",
       "Senegal                        42029000.00       27000.00\n",
       "Guyana                         16847220.00       25000.00\n",
       "Micronesia (Fed. States of)     1688860.00       19200.00\n",
       "Seychelles                      4897380.00       14750.00\n",
       "Benin                           2372000.00       14000.00\n",
       "St. Pierre-Miquelon              918110.00       12850.00\n",
       "Brunei Darussalam              66117000.00        8000.00\n",
       "United States Virgin Is.       20701765.00        7884.00\n",
       "Maldives                        3752207.00        7530.00\n",
       "St. Helena and Depend.           167270.00        6510.00\n",
       "South Sudan                     1405000.00        6000.00\n",
       "Botswana                       19427800.00        4600.00\n",
       "Tonga                            918634.00        4548.00\n",
       "American Samoa                  3486686.00        3300.00\n",
       "Saudi Arabia                 3671794000.00        3000.00\n",
       "Bonaire, St Eustatius, Saba      364600.00        2200.00\n",
       "Marshall Islands                1844200.00         600.00\n",
       "Nauru                            570954.00         554.00\n",
       "Niue                              64202.33         333.33\n",
       "Niger                           4868975.00          35.00\n",
       "Timor-Leste                     1716625.00           0.00\n",
       "Bermuda                        13546200.00           0.00\n",
       "Mongolia                       80870100.00           0.00\n",
       "Libya                         464848000.00           0.00\n",
       "Trinidad and Tobago           141218000.00           0.00\n",
       "Liberia                         5234000.00           0.00\n",
       "Jersey                          2975500.00           0.00\n",
       "Turks and Caicos Islands        2753900.00           0.00\n",
       "Tuvalu                            79060.00           0.00\n",
       "Barbados                       18724180.00           0.00\n",
       "Bahrain                       278928000.00           0.00\n",
       "Bahamas                        37699400.00           0.00\n",
       "Antigua and Barbuda             4691800.00           0.00\n",
       "Anguilla                        1336800.00           0.00\n",
       "Wallis and Futuna Is.            269632.00           0.00\n",
       "Yemen                         101587000.00           0.00\n",
       "United Arab Emirates         1301659000.00           0.00\n",
       "Chad                            2870000.00           0.00\n",
       "British Virgin Islands          2080000.00           0.00\n",
       "Cook Islands                     578400.00           0.00\n",
       "Montserrat                       412200.00           0.00\n",
       "Guam                           38562100.00           0.00\n",
       "Grenada                         3198740.00           0.00\n",
       "Gibraltar                       3023000.00           0.00\n",
       "Neth. Antilles (former)        20929000.00           0.00\n",
       "Gambia                          3646900.00           0.00\n",
       "Northern Mariana Islands        8196500.00           0.00\n",
       "Oman                          291486000.00           0.00\n",
       "Palau                           2043700.00           0.00\n",
       "Djibouti                        5668000.00           0.00\n",
       "Qatar                         360944000.00           0.00\n",
       "Guinea-Bissau                    684327.00           0.00\n",
       "State of Palestine              5955200.00           0.00\n",
       "Kuwait                        894596000.00           0.00\n",
       "Comoros                          828800.00           0.00\n",
       "China, Macao SAR               28456000.00           0.00\n",
       "Singapore                     761093530.00           0.00\n",
       "Sint Maarten (Dutch part)       1229300.00           0.00\n",
       "China, Hong Kong SAR          731318000.00           0.00\n",
       "Guernsey                        1574800.00           0.00\n",
       "Solomon Islands                 1552900.00           0.00\n",
       "Somalia                         6246000.00           0.00\n",
       "Cayman Islands                 10380790.00           0.00\n",
       "St. Lucia                       6365597.00           0.00\n",
       "Kiribati                         370900.00           0.00"
      ]
     },
     "execution_count": 10,
     "metadata": {},
     "output_type": "execute_result"
    }
   ],
   "source": [
    "#  ranking of all countries - electricity consumption renewable sources (20 years of production)\n",
    "rank_all_r = df.groupby(['country_or_area']).agg({'new_quantity':'sum','renewable':'sum'})\n",
    "rank_all_r.sort_values('renewable',ascending = False, inplace = True)\n",
    "rank_all_r"
   ]
  },
  {
   "cell_type": "code",
   "execution_count": 11,
   "id": "742e1368",
   "metadata": {},
   "outputs": [
    {
     "data": {
      "application/vnd.plotly.v1+json": {
       "config": {
        "linkText": "Export to plot.ly",
        "plotlyServerURL": "https://plot.ly",
        "showLink": true
       },
       "data": [
        {
         "line": {
          "color": "rgba(255, 153, 51, 1.0)",
          "dash": "solid",
          "shape": "linear",
          "width": 1.3
         },
         "mode": "lines",
         "name": "new_quantity",
         "text": "",
         "type": "scatter",
         "x": [
          "United States",
          "China",
          "France",
          "Canada",
          "Japan",
          "Brazil",
          "Russian Federation",
          "Germany",
          "Sweden",
          "Korea, Republic of",
          "Norway",
          "India",
          "Spain",
          "United Kingdom",
          "Ukraine",
          "Venezuela (Bolivar. Rep.)",
          "Switzerland",
          "Italy",
          "Paraguay",
          "Belgium",
          "Other Asia",
          "Mexico",
          "Turkey",
          "Austria",
          "Colombia",
          "Argentina",
          "Finland",
          "New Zealand",
          "Pakistan",
          "Czechia",
          "Viet Nam",
          "Romania",
          "Chile",
          "Bulgaria",
          "Slovakia",
          "Australia",
          "Indonesia",
          "Peru",
          "Philippines",
          "South Africa",
          "Tajikistan",
          "Portugal",
          "Hungary",
          "Egypt",
          "Kyrgyzstan",
          "Korea, Dem.Ppl's.Rep.",
          "Mozambique",
          "Iceland",
          "Iran (Islamic Rep. of)",
          "Lithuania",
          "Zambia",
          "Slovenia",
          "Ecuador",
          "Uzbekistan",
          "Kazakhstan",
          "Costa Rica",
          "Malaysia",
          "Uruguay",
          "Croatia",
          "Georgia",
          "Dem. Rep. of the Congo",
          "Thailand",
          "Greece",
          "Netherlands",
          "Ghana",
          "Serbia and Montenegro",
          "Nigeria",
          "Denmark",
          "Bosnia and Herzegovina",
          "Serbia",
          "Albania",
          "Poland",
          "Zimbabwe",
          "Bhutan",
          "Kenya",
          "Sri Lanka",
          "Armenia",
          "Cameroon",
          "Myanmar",
          "Panama",
          "Ethiopia",
          "Guatemala",
          "Lao People's Dem. Rep.",
          "Syrian Arab Republic",
          "Latvia",
          "El Salvador",
          "Ireland",
          "Honduras",
          "Iraq",
          "Nepal",
          "Angola",
          "United Rep. of Tanzania",
          "Azerbaijan",
          "Morocco",
          "Bolivia (Plur. State of)",
          "Côte d'Ivoire",
          "Sudan (former)",
          "Uganda",
          "Dominican Republic",
          "Malawi",
          "Namibia",
          "T.F.Yug.Rep. Macedonia",
          "Sudan",
          "Papua New Guinea",
          "Luxembourg",
          "Suriname",
          "Bangladesh",
          "Montenegro",
          "Gabon",
          "Nicaragua",
          "Lebanon",
          "Afghanistan",
          "Madagascar",
          "Réunion",
          "Mali",
          "Congo",
          "Guinea",
          "Fiji",
          "New Caledonia",
          "French Guiana",
          "Lesotho",
          "Algeria",
          "Haiti",
          "Swaziland",
          "Cambodia",
          "Greenland",
          "French Polynesia",
          "Jamaica",
          "Togo",
          "Puerto Rico",
          "Tunisia",
          "Estonia",
          "Belize",
          "Israel",
          "Republic of Moldova",
          "Rwanda",
          "Burundi",
          "Central African Rep.",
          "Cuba",
          "Faeroe Islands",
          "Mauritius",
          "Burkina Faso",
          "Guadeloupe",
          "Andorra",
          "Equatorial Guinea",
          "Jordan",
          "Sierra Leone",
          "Cyprus",
          "Belarus",
          "Samoa",
          "Aruba",
          "Dominica",
          "Martinique",
          "Liechtenstein",
          "St. Vincent-Grenadines",
          "Cabo Verde",
          "Mauritania",
          "Malta",
          "Sao Tome and Principe",
          "Curaçao",
          "Vanuatu",
          "Mayotte",
          "Turkmenistan",
          "Isle of Man",
          "St. Kitts-Nevis",
          "Falkland Is. (Malvinas)",
          "Eritrea",
          "Senegal",
          "Guyana",
          "Micronesia (Fed. States of)",
          "Seychelles",
          "Benin",
          "St. Pierre-Miquelon",
          "Brunei Darussalam",
          "United States Virgin Is.",
          "Maldives",
          "St. Helena and Depend.",
          "South Sudan",
          "Botswana",
          "Tonga",
          "American Samoa",
          "Saudi Arabia",
          "Bonaire, St Eustatius, Saba",
          "Marshall Islands",
          "Nauru",
          "Niue",
          "Niger",
          "Timor-Leste",
          "Bermuda",
          "Mongolia",
          "Libya",
          "Trinidad and Tobago",
          "Liberia",
          "Jersey",
          "Turks and Caicos Islands",
          "Tuvalu",
          "Barbados",
          "Bahrain",
          "Bahamas",
          "Antigua and Barbuda",
          "Anguilla",
          "Wallis and Futuna Is.",
          "Yemen",
          "United Arab Emirates",
          "Chad",
          "British Virgin Islands",
          "Cook Islands",
          "Montserrat",
          "Guam",
          "Grenada",
          "Gibraltar",
          "Neth. Antilles (former)",
          "Gambia",
          "Northern Mariana Islands",
          "Oman",
          "Palau",
          "Djibouti",
          "Qatar",
          "Guinea-Bissau",
          "State of Palestine",
          "Kuwait",
          "Comoros",
          "China, Macao SAR",
          "Singapore",
          "Sint Maarten (Dutch part)",
          "China, Hong Kong SAR",
          "Guernsey",
          "Solomon Islands",
          "Somalia",
          "Cayman Islands",
          "St. Lucia",
          "Kiribati"
         ],
         "y": [
          85549767000,
          55912127900,
          11476682000,
          12657271000,
          22157381000,
          8526034000,
          19882526000,
          12543013000,
          3145664000,
          7651171000,
          2652391000,
          15245741000,
          5307931000,
          7803117000,
          3884638000,
          2099219040,
          1396666000,
          5949869000,
          1082088620,
          1747575000,
          4373222000,
          4905218000,
          3353771000,
          1324302000,
          1119718590,
          2136147170,
          1544952000,
          860683000,
          1693266000,
          1625272000,
          1218229000,
          1222837000,
          1044971000,
          914259000,
          602865000,
          4667286000,
          2704177170,
          568442686,
          1117501794,
          4865063000,
          335050000,
          940670000,
          743853000,
          2231267000,
          302077000,
          432216000,
          231105000,
          227146000,
          3559095400,
          264696000,
          196650000,
          310662000,
          306219100,
          1035619000,
          1485510000,
          163570297,
          1900808340,
          181925300,
          257915000,
          175170000,
          141688000,
          2652093200,
          1139014000,
          2054706000,
          170828000,
          398709000,
          442789000,
          820864000,
          248110000,
          372642000,
          104104770,
          3177960000,
          173461500,
          85237210,
          124911300,
          175884078,
          131479000,
          94063000,
          139357820,
          123837100,
          74624000,
          146343100,
          70597066.6,
          616120000,
          102654000,
          100917000,
          518587000,
          108030000,
          789289000,
          48350650,
          68871000,
          74112000,
          423972000,
          385762000,
          107582200,
          110336600,
          66746000,
          39458250,
          254716060,
          31599160,
          29600000,
          136580131,
          31493000,
          61858000,
          59338000,
          33052600,
          571438000,
          30435000,
          34002000,
          60548000,
          248960000,
          17350600,
          22893253.9,
          44543880,
          21947770,
          13292000,
          18419390,
          15598253,
          38845680,
          13875000,
          7302400,
          733039000,
          13778000,
          10064230,
          19131000,
          7891382.3,
          12176066,
          121122700,
          5919000,
          465321600,
          266057720,
          213973000,
          4709655.22,
          998452000,
          45910000,
          4258924,
          2545241,
          2889000,
          334844600,
          5062490,
          44033900,
          10091871,
          30927000,
          1966000,
          2986300,
          220496400,
          2736183,
          83410000,
          615698000,
          2183200,
          17305800,
          1695480,
          29818994,
          577600,
          2417400,
          4731360,
          11353107,
          42838000,
          826900,
          2712000,
          1077750,
          3191630,
          275410000,
          5104700,
          3626100,
          331000,
          5578000,
          42029000,
          16847220,
          1688860,
          4897380,
          2372000,
          918110,
          66117000,
          20701765,
          3752207,
          167270,
          1405000,
          19427800,
          918634,
          3486686,
          3671794000,
          364600,
          1844200,
          570954,
          64202.3334,
          4868975,
          1716625,
          13546200,
          80870100,
          464848000,
          141218000,
          5234000,
          2975500,
          2753900,
          79060,
          18724180,
          278928000,
          37699400,
          4691800,
          1336800,
          269632,
          101587000,
          1301659000,
          2870000,
          2080000,
          578400,
          412200,
          38562100,
          3198740,
          3023000,
          20929000,
          3646900,
          8196500,
          291486000,
          2043700,
          5668000,
          360944000,
          684327,
          5955200,
          894596000,
          828800,
          28456000,
          761093530,
          1229300,
          731318000,
          1574800,
          1552900,
          6246000,
          10380790,
          6365597,
          370900
         ]
        },
        {
         "line": {
          "color": "rgba(55, 128, 191, 1.0)",
          "dash": "solid",
          "shape": "linear",
          "width": 1.3
         },
         "mode": "lines",
         "name": "renewable",
         "text": "",
         "type": "scatter",
         "x": [
          "United States",
          "China",
          "France",
          "Canada",
          "Japan",
          "Brazil",
          "Russian Federation",
          "Germany",
          "Sweden",
          "Korea, Republic of",
          "Norway",
          "India",
          "Spain",
          "United Kingdom",
          "Ukraine",
          "Venezuela (Bolivar. Rep.)",
          "Switzerland",
          "Italy",
          "Paraguay",
          "Belgium",
          "Other Asia",
          "Mexico",
          "Turkey",
          "Austria",
          "Colombia",
          "Argentina",
          "Finland",
          "New Zealand",
          "Pakistan",
          "Czechia",
          "Viet Nam",
          "Romania",
          "Chile",
          "Bulgaria",
          "Slovakia",
          "Australia",
          "Indonesia",
          "Peru",
          "Philippines",
          "South Africa",
          "Tajikistan",
          "Portugal",
          "Hungary",
          "Egypt",
          "Kyrgyzstan",
          "Korea, Dem.Ppl's.Rep.",
          "Mozambique",
          "Iceland",
          "Iran (Islamic Rep. of)",
          "Lithuania",
          "Zambia",
          "Slovenia",
          "Ecuador",
          "Uzbekistan",
          "Kazakhstan",
          "Costa Rica",
          "Malaysia",
          "Uruguay",
          "Croatia",
          "Georgia",
          "Dem. Rep. of the Congo",
          "Thailand",
          "Greece",
          "Netherlands",
          "Ghana",
          "Serbia and Montenegro",
          "Nigeria",
          "Denmark",
          "Bosnia and Herzegovina",
          "Serbia",
          "Albania",
          "Poland",
          "Zimbabwe",
          "Bhutan",
          "Kenya",
          "Sri Lanka",
          "Armenia",
          "Cameroon",
          "Myanmar",
          "Panama",
          "Ethiopia",
          "Guatemala",
          "Lao People's Dem. Rep.",
          "Syrian Arab Republic",
          "Latvia",
          "El Salvador",
          "Ireland",
          "Honduras",
          "Iraq",
          "Nepal",
          "Angola",
          "United Rep. of Tanzania",
          "Azerbaijan",
          "Morocco",
          "Bolivia (Plur. State of)",
          "Côte d'Ivoire",
          "Sudan (former)",
          "Uganda",
          "Dominican Republic",
          "Malawi",
          "Namibia",
          "T.F.Yug.Rep. Macedonia",
          "Sudan",
          "Papua New Guinea",
          "Luxembourg",
          "Suriname",
          "Bangladesh",
          "Montenegro",
          "Gabon",
          "Nicaragua",
          "Lebanon",
          "Afghanistan",
          "Madagascar",
          "Réunion",
          "Mali",
          "Congo",
          "Guinea",
          "Fiji",
          "New Caledonia",
          "French Guiana",
          "Lesotho",
          "Algeria",
          "Haiti",
          "Swaziland",
          "Cambodia",
          "Greenland",
          "French Polynesia",
          "Jamaica",
          "Togo",
          "Puerto Rico",
          "Tunisia",
          "Estonia",
          "Belize",
          "Israel",
          "Republic of Moldova",
          "Rwanda",
          "Burundi",
          "Central African Rep.",
          "Cuba",
          "Faeroe Islands",
          "Mauritius",
          "Burkina Faso",
          "Guadeloupe",
          "Andorra",
          "Equatorial Guinea",
          "Jordan",
          "Sierra Leone",
          "Cyprus",
          "Belarus",
          "Samoa",
          "Aruba",
          "Dominica",
          "Martinique",
          "Liechtenstein",
          "St. Vincent-Grenadines",
          "Cabo Verde",
          "Mauritania",
          "Malta",
          "Sao Tome and Principe",
          "Curaçao",
          "Vanuatu",
          "Mayotte",
          "Turkmenistan",
          "Isle of Man",
          "St. Kitts-Nevis",
          "Falkland Is. (Malvinas)",
          "Eritrea",
          "Senegal",
          "Guyana",
          "Micronesia (Fed. States of)",
          "Seychelles",
          "Benin",
          "St. Pierre-Miquelon",
          "Brunei Darussalam",
          "United States Virgin Is.",
          "Maldives",
          "St. Helena and Depend.",
          "South Sudan",
          "Botswana",
          "Tonga",
          "American Samoa",
          "Saudi Arabia",
          "Bonaire, St Eustatius, Saba",
          "Marshall Islands",
          "Nauru",
          "Niue",
          "Niger",
          "Timor-Leste",
          "Bermuda",
          "Mongolia",
          "Libya",
          "Trinidad and Tobago",
          "Liberia",
          "Jersey",
          "Turks and Caicos Islands",
          "Tuvalu",
          "Barbados",
          "Bahrain",
          "Bahamas",
          "Antigua and Barbuda",
          "Anguilla",
          "Wallis and Futuna Is.",
          "Yemen",
          "United Arab Emirates",
          "Chad",
          "British Virgin Islands",
          "Cook Islands",
          "Montserrat",
          "Guam",
          "Grenada",
          "Gibraltar",
          "Neth. Antilles (former)",
          "Gambia",
          "Northern Mariana Islands",
          "Oman",
          "Palau",
          "Djibouti",
          "Qatar",
          "Guinea-Bissau",
          "State of Palestine",
          "Kuwait",
          "Comoros",
          "China, Macao SAR",
          "Singapore",
          "Sint Maarten (Dutch part)",
          "China, Hong Kong SAR",
          "Guernsey",
          "Solomon Islands",
          "Somalia",
          "Cayman Islands",
          "St. Lucia",
          "Kiribati"
         ],
         "y": [
          24257917000,
          10953354000,
          10362088000,
          9455007000,
          7205750000,
          7190507000,
          6580254000,
          4303987000,
          2869413000,
          2698742000,
          2613166000,
          2609107000,
          2438359000,
          1983690000,
          1977070000,
          1475567000,
          1332557000,
          1285490000,
          1081704350,
          1011975000,
          1004228000,
          962041000,
          884904000,
          873798000,
          811270590,
          809968170,
          751569000,
          604663000,
          590960000,
          521081000,
          514853000,
          506617000,
          443850000,
          437464000,
          416106000,
          396222000,
          381838170,
          377904049,
          370813875.1,
          345601000,
          330540000,
          320252000,
          308232000,
          290643000,
          260670000,
          259940000,
          228003000,
          227048000,
          219991620,
          205072000,
          195504000,
          195374000,
          173331600,
          172307000,
          162490000,
          151184364.56421,
          147953805,
          146610800,
          142550000,
          141694000,
          140951000,
          140311200,
          138965000,
          136126000,
          129702000,
          128803000,
          128501000,
          124248000,
          109786000,
          108491000,
          102241730,
          99590000,
          88249700,
          85223650,
          85127100,
          84729819,
          83458000,
          78335000,
          77561540,
          74640700,
          73097000,
          65731500,
          65195067.3,
          63158000,
          62830000,
          56185000,
          55186000,
          50018000,
          48465000,
          47694000,
          46511000,
          44708000,
          43344000,
          42316000,
          42262200,
          36101000,
          33478000,
          32611650,
          31206870,
          27665390,
          27518000,
          25112051,
          23849000,
          23344000,
          21376000,
          20162400,
          18687000,
          18172000,
          17941000,
          17109000,
          15883000,
          13190100,
          12943204.7,
          12660680,
          11072820,
          9528000,
          9190000,
          8973278,
          8052580,
          7848000,
          7302400,
          4930000,
          4815000,
          4394360,
          4196000,
          3875948.7,
          3700350,
          3566200,
          3546100,
          3388800,
          3352720,
          3116000,
          2679463.44,
          2622000,
          2528000,
          2456220,
          2423370,
          2378000,
          2156400,
          2021679,
          2004600,
          1970373,
          1914000,
          1843300,
          1068000,
          957400,
          948813,
          926000,
          901000,
          869800,
          632300,
          612500,
          590919,
          548200,
          511820,
          355470,
          148000,
          141000,
          138800,
          96000,
          88300,
          70330,
          64000,
          41900,
          37000,
          30990,
          27000,
          27000,
          25000,
          19200,
          14750,
          14000,
          12850,
          8000,
          7884,
          7530,
          6510,
          6000,
          4600,
          4548,
          3300,
          3000,
          2200,
          600,
          554,
          333.333335,
          35,
          0,
          0,
          0,
          0,
          0,
          0,
          0,
          0,
          0,
          0,
          0,
          0,
          0,
          0,
          0,
          0,
          0,
          0,
          0,
          0,
          0,
          0,
          0,
          0,
          0,
          0,
          0,
          0,
          0,
          0,
          0,
          0,
          0,
          0,
          0,
          0,
          0,
          0,
          0,
          0,
          0,
          0,
          0,
          0,
          0
         ]
        }
       ],
       "layout": {
        "legend": {
         "bgcolor": "#F5F6F9",
         "font": {
          "color": "#4D5663"
         }
        },
        "paper_bgcolor": "#F5F6F9",
        "plot_bgcolor": "#F5F6F9",
        "template": {
         "data": {
          "bar": [
           {
            "error_x": {
             "color": "#2a3f5f"
            },
            "error_y": {
             "color": "#2a3f5f"
            },
            "marker": {
             "line": {
              "color": "#E5ECF6",
              "width": 0.5
             },
             "pattern": {
              "fillmode": "overlay",
              "size": 10,
              "solidity": 0.2
             }
            },
            "type": "bar"
           }
          ],
          "barpolar": [
           {
            "marker": {
             "line": {
              "color": "#E5ECF6",
              "width": 0.5
             },
             "pattern": {
              "fillmode": "overlay",
              "size": 10,
              "solidity": 0.2
             }
            },
            "type": "barpolar"
           }
          ],
          "carpet": [
           {
            "aaxis": {
             "endlinecolor": "#2a3f5f",
             "gridcolor": "white",
             "linecolor": "white",
             "minorgridcolor": "white",
             "startlinecolor": "#2a3f5f"
            },
            "baxis": {
             "endlinecolor": "#2a3f5f",
             "gridcolor": "white",
             "linecolor": "white",
             "minorgridcolor": "white",
             "startlinecolor": "#2a3f5f"
            },
            "type": "carpet"
           }
          ],
          "choropleth": [
           {
            "colorbar": {
             "outlinewidth": 0,
             "ticks": ""
            },
            "type": "choropleth"
           }
          ],
          "contour": [
           {
            "colorbar": {
             "outlinewidth": 0,
             "ticks": ""
            },
            "colorscale": [
             [
              0,
              "#0d0887"
             ],
             [
              0.1111111111111111,
              "#46039f"
             ],
             [
              0.2222222222222222,
              "#7201a8"
             ],
             [
              0.3333333333333333,
              "#9c179e"
             ],
             [
              0.4444444444444444,
              "#bd3786"
             ],
             [
              0.5555555555555556,
              "#d8576b"
             ],
             [
              0.6666666666666666,
              "#ed7953"
             ],
             [
              0.7777777777777778,
              "#fb9f3a"
             ],
             [
              0.8888888888888888,
              "#fdca26"
             ],
             [
              1,
              "#f0f921"
             ]
            ],
            "type": "contour"
           }
          ],
          "contourcarpet": [
           {
            "colorbar": {
             "outlinewidth": 0,
             "ticks": ""
            },
            "type": "contourcarpet"
           }
          ],
          "heatmap": [
           {
            "colorbar": {
             "outlinewidth": 0,
             "ticks": ""
            },
            "colorscale": [
             [
              0,
              "#0d0887"
             ],
             [
              0.1111111111111111,
              "#46039f"
             ],
             [
              0.2222222222222222,
              "#7201a8"
             ],
             [
              0.3333333333333333,
              "#9c179e"
             ],
             [
              0.4444444444444444,
              "#bd3786"
             ],
             [
              0.5555555555555556,
              "#d8576b"
             ],
             [
              0.6666666666666666,
              "#ed7953"
             ],
             [
              0.7777777777777778,
              "#fb9f3a"
             ],
             [
              0.8888888888888888,
              "#fdca26"
             ],
             [
              1,
              "#f0f921"
             ]
            ],
            "type": "heatmap"
           }
          ],
          "heatmapgl": [
           {
            "colorbar": {
             "outlinewidth": 0,
             "ticks": ""
            },
            "colorscale": [
             [
              0,
              "#0d0887"
             ],
             [
              0.1111111111111111,
              "#46039f"
             ],
             [
              0.2222222222222222,
              "#7201a8"
             ],
             [
              0.3333333333333333,
              "#9c179e"
             ],
             [
              0.4444444444444444,
              "#bd3786"
             ],
             [
              0.5555555555555556,
              "#d8576b"
             ],
             [
              0.6666666666666666,
              "#ed7953"
             ],
             [
              0.7777777777777778,
              "#fb9f3a"
             ],
             [
              0.8888888888888888,
              "#fdca26"
             ],
             [
              1,
              "#f0f921"
             ]
            ],
            "type": "heatmapgl"
           }
          ],
          "histogram": [
           {
            "marker": {
             "pattern": {
              "fillmode": "overlay",
              "size": 10,
              "solidity": 0.2
             }
            },
            "type": "histogram"
           }
          ],
          "histogram2d": [
           {
            "colorbar": {
             "outlinewidth": 0,
             "ticks": ""
            },
            "colorscale": [
             [
              0,
              "#0d0887"
             ],
             [
              0.1111111111111111,
              "#46039f"
             ],
             [
              0.2222222222222222,
              "#7201a8"
             ],
             [
              0.3333333333333333,
              "#9c179e"
             ],
             [
              0.4444444444444444,
              "#bd3786"
             ],
             [
              0.5555555555555556,
              "#d8576b"
             ],
             [
              0.6666666666666666,
              "#ed7953"
             ],
             [
              0.7777777777777778,
              "#fb9f3a"
             ],
             [
              0.8888888888888888,
              "#fdca26"
             ],
             [
              1,
              "#f0f921"
             ]
            ],
            "type": "histogram2d"
           }
          ],
          "histogram2dcontour": [
           {
            "colorbar": {
             "outlinewidth": 0,
             "ticks": ""
            },
            "colorscale": [
             [
              0,
              "#0d0887"
             ],
             [
              0.1111111111111111,
              "#46039f"
             ],
             [
              0.2222222222222222,
              "#7201a8"
             ],
             [
              0.3333333333333333,
              "#9c179e"
             ],
             [
              0.4444444444444444,
              "#bd3786"
             ],
             [
              0.5555555555555556,
              "#d8576b"
             ],
             [
              0.6666666666666666,
              "#ed7953"
             ],
             [
              0.7777777777777778,
              "#fb9f3a"
             ],
             [
              0.8888888888888888,
              "#fdca26"
             ],
             [
              1,
              "#f0f921"
             ]
            ],
            "type": "histogram2dcontour"
           }
          ],
          "mesh3d": [
           {
            "colorbar": {
             "outlinewidth": 0,
             "ticks": ""
            },
            "type": "mesh3d"
           }
          ],
          "parcoords": [
           {
            "line": {
             "colorbar": {
              "outlinewidth": 0,
              "ticks": ""
             }
            },
            "type": "parcoords"
           }
          ],
          "pie": [
           {
            "automargin": true,
            "type": "pie"
           }
          ],
          "scatter": [
           {
            "marker": {
             "colorbar": {
              "outlinewidth": 0,
              "ticks": ""
             }
            },
            "type": "scatter"
           }
          ],
          "scatter3d": [
           {
            "line": {
             "colorbar": {
              "outlinewidth": 0,
              "ticks": ""
             }
            },
            "marker": {
             "colorbar": {
              "outlinewidth": 0,
              "ticks": ""
             }
            },
            "type": "scatter3d"
           }
          ],
          "scattercarpet": [
           {
            "marker": {
             "colorbar": {
              "outlinewidth": 0,
              "ticks": ""
             }
            },
            "type": "scattercarpet"
           }
          ],
          "scattergeo": [
           {
            "marker": {
             "colorbar": {
              "outlinewidth": 0,
              "ticks": ""
             }
            },
            "type": "scattergeo"
           }
          ],
          "scattergl": [
           {
            "marker": {
             "colorbar": {
              "outlinewidth": 0,
              "ticks": ""
             }
            },
            "type": "scattergl"
           }
          ],
          "scattermapbox": [
           {
            "marker": {
             "colorbar": {
              "outlinewidth": 0,
              "ticks": ""
             }
            },
            "type": "scattermapbox"
           }
          ],
          "scatterpolar": [
           {
            "marker": {
             "colorbar": {
              "outlinewidth": 0,
              "ticks": ""
             }
            },
            "type": "scatterpolar"
           }
          ],
          "scatterpolargl": [
           {
            "marker": {
             "colorbar": {
              "outlinewidth": 0,
              "ticks": ""
             }
            },
            "type": "scatterpolargl"
           }
          ],
          "scatterternary": [
           {
            "marker": {
             "colorbar": {
              "outlinewidth": 0,
              "ticks": ""
             }
            },
            "type": "scatterternary"
           }
          ],
          "surface": [
           {
            "colorbar": {
             "outlinewidth": 0,
             "ticks": ""
            },
            "colorscale": [
             [
              0,
              "#0d0887"
             ],
             [
              0.1111111111111111,
              "#46039f"
             ],
             [
              0.2222222222222222,
              "#7201a8"
             ],
             [
              0.3333333333333333,
              "#9c179e"
             ],
             [
              0.4444444444444444,
              "#bd3786"
             ],
             [
              0.5555555555555556,
              "#d8576b"
             ],
             [
              0.6666666666666666,
              "#ed7953"
             ],
             [
              0.7777777777777778,
              "#fb9f3a"
             ],
             [
              0.8888888888888888,
              "#fdca26"
             ],
             [
              1,
              "#f0f921"
             ]
            ],
            "type": "surface"
           }
          ],
          "table": [
           {
            "cells": {
             "fill": {
              "color": "#EBF0F8"
             },
             "line": {
              "color": "white"
             }
            },
            "header": {
             "fill": {
              "color": "#C8D4E3"
             },
             "line": {
              "color": "white"
             }
            },
            "type": "table"
           }
          ]
         },
         "layout": {
          "annotationdefaults": {
           "arrowcolor": "#2a3f5f",
           "arrowhead": 0,
           "arrowwidth": 1
          },
          "autotypenumbers": "strict",
          "coloraxis": {
           "colorbar": {
            "outlinewidth": 0,
            "ticks": ""
           }
          },
          "colorscale": {
           "diverging": [
            [
             0,
             "#8e0152"
            ],
            [
             0.1,
             "#c51b7d"
            ],
            [
             0.2,
             "#de77ae"
            ],
            [
             0.3,
             "#f1b6da"
            ],
            [
             0.4,
             "#fde0ef"
            ],
            [
             0.5,
             "#f7f7f7"
            ],
            [
             0.6,
             "#e6f5d0"
            ],
            [
             0.7,
             "#b8e186"
            ],
            [
             0.8,
             "#7fbc41"
            ],
            [
             0.9,
             "#4d9221"
            ],
            [
             1,
             "#276419"
            ]
           ],
           "sequential": [
            [
             0,
             "#0d0887"
            ],
            [
             0.1111111111111111,
             "#46039f"
            ],
            [
             0.2222222222222222,
             "#7201a8"
            ],
            [
             0.3333333333333333,
             "#9c179e"
            ],
            [
             0.4444444444444444,
             "#bd3786"
            ],
            [
             0.5555555555555556,
             "#d8576b"
            ],
            [
             0.6666666666666666,
             "#ed7953"
            ],
            [
             0.7777777777777778,
             "#fb9f3a"
            ],
            [
             0.8888888888888888,
             "#fdca26"
            ],
            [
             1,
             "#f0f921"
            ]
           ],
           "sequentialminus": [
            [
             0,
             "#0d0887"
            ],
            [
             0.1111111111111111,
             "#46039f"
            ],
            [
             0.2222222222222222,
             "#7201a8"
            ],
            [
             0.3333333333333333,
             "#9c179e"
            ],
            [
             0.4444444444444444,
             "#bd3786"
            ],
            [
             0.5555555555555556,
             "#d8576b"
            ],
            [
             0.6666666666666666,
             "#ed7953"
            ],
            [
             0.7777777777777778,
             "#fb9f3a"
            ],
            [
             0.8888888888888888,
             "#fdca26"
            ],
            [
             1,
             "#f0f921"
            ]
           ]
          },
          "colorway": [
           "#636efa",
           "#EF553B",
           "#00cc96",
           "#ab63fa",
           "#FFA15A",
           "#19d3f3",
           "#FF6692",
           "#B6E880",
           "#FF97FF",
           "#FECB52"
          ],
          "font": {
           "color": "#2a3f5f"
          },
          "geo": {
           "bgcolor": "white",
           "lakecolor": "white",
           "landcolor": "#E5ECF6",
           "showlakes": true,
           "showland": true,
           "subunitcolor": "white"
          },
          "hoverlabel": {
           "align": "left"
          },
          "hovermode": "closest",
          "mapbox": {
           "style": "light"
          },
          "paper_bgcolor": "white",
          "plot_bgcolor": "#E5ECF6",
          "polar": {
           "angularaxis": {
            "gridcolor": "white",
            "linecolor": "white",
            "ticks": ""
           },
           "bgcolor": "#E5ECF6",
           "radialaxis": {
            "gridcolor": "white",
            "linecolor": "white",
            "ticks": ""
           }
          },
          "scene": {
           "xaxis": {
            "backgroundcolor": "#E5ECF6",
            "gridcolor": "white",
            "gridwidth": 2,
            "linecolor": "white",
            "showbackground": true,
            "ticks": "",
            "zerolinecolor": "white"
           },
           "yaxis": {
            "backgroundcolor": "#E5ECF6",
            "gridcolor": "white",
            "gridwidth": 2,
            "linecolor": "white",
            "showbackground": true,
            "ticks": "",
            "zerolinecolor": "white"
           },
           "zaxis": {
            "backgroundcolor": "#E5ECF6",
            "gridcolor": "white",
            "gridwidth": 2,
            "linecolor": "white",
            "showbackground": true,
            "ticks": "",
            "zerolinecolor": "white"
           }
          },
          "shapedefaults": {
           "line": {
            "color": "#2a3f5f"
           }
          },
          "ternary": {
           "aaxis": {
            "gridcolor": "white",
            "linecolor": "white",
            "ticks": ""
           },
           "baxis": {
            "gridcolor": "white",
            "linecolor": "white",
            "ticks": ""
           },
           "bgcolor": "#E5ECF6",
           "caxis": {
            "gridcolor": "white",
            "linecolor": "white",
            "ticks": ""
           }
          },
          "title": {
           "x": 0.05
          },
          "xaxis": {
           "automargin": true,
           "gridcolor": "white",
           "linecolor": "white",
           "ticks": "",
           "title": {
            "standoff": 15
           },
           "zerolinecolor": "white",
           "zerolinewidth": 2
          },
          "yaxis": {
           "automargin": true,
           "gridcolor": "white",
           "linecolor": "white",
           "ticks": "",
           "title": {
            "standoff": 15
           },
           "zerolinecolor": "white",
           "zerolinewidth": 2
          }
         }
        },
        "title": {
         "font": {
          "color": "#4D5663"
         }
        },
        "xaxis": {
         "gridcolor": "#E1E5ED",
         "showgrid": true,
         "tickfont": {
          "color": "#4D5663"
         },
         "title": {
          "font": {
           "color": "#4D5663"
          },
          "text": ""
         },
         "zerolinecolor": "#E1E5ED"
        },
        "yaxis": {
         "gridcolor": "#E1E5ED",
         "showgrid": true,
         "tickfont": {
          "color": "#4D5663"
         },
         "title": {
          "font": {
           "color": "#4D5663"
          },
          "text": ""
         },
         "zerolinecolor": "#E1E5ED"
        }
       }
      },
      "text/html": [
       "<div>                            <div id=\"0f207062-cd29-4f13-ae55-552e328e7a40\" class=\"plotly-graph-div\" style=\"height:525px; width:100%;\"></div>            <script type=\"text/javascript\">                require([\"plotly\"], function(Plotly) {                    window.PLOTLYENV=window.PLOTLYENV || {};\n",
       "                    window.PLOTLYENV.BASE_URL='https://plot.ly';                                    if (document.getElementById(\"0f207062-cd29-4f13-ae55-552e328e7a40\")) {                    Plotly.newPlot(                        \"0f207062-cd29-4f13-ae55-552e328e7a40\",                        [{\"line\":{\"color\":\"rgba(255, 153, 51, 1.0)\",\"dash\":\"solid\",\"shape\":\"linear\",\"width\":1.3},\"mode\":\"lines\",\"name\":\"new_quantity\",\"text\":\"\",\"x\":[\"United States\",\"China\",\"France\",\"Canada\",\"Japan\",\"Brazil\",\"Russian Federation\",\"Germany\",\"Sweden\",\"Korea, Republic of\",\"Norway\",\"India\",\"Spain\",\"United Kingdom\",\"Ukraine\",\"Venezuela (Bolivar. Rep.)\",\"Switzerland\",\"Italy\",\"Paraguay\",\"Belgium\",\"Other Asia\",\"Mexico\",\"Turkey\",\"Austria\",\"Colombia\",\"Argentina\",\"Finland\",\"New Zealand\",\"Pakistan\",\"Czechia\",\"Viet Nam\",\"Romania\",\"Chile\",\"Bulgaria\",\"Slovakia\",\"Australia\",\"Indonesia\",\"Peru\",\"Philippines\",\"South Africa\",\"Tajikistan\",\"Portugal\",\"Hungary\",\"Egypt\",\"Kyrgyzstan\",\"Korea, Dem.Ppl's.Rep.\",\"Mozambique\",\"Iceland\",\"Iran (Islamic Rep. of)\",\"Lithuania\",\"Zambia\",\"Slovenia\",\"Ecuador\",\"Uzbekistan\",\"Kazakhstan\",\"Costa Rica\",\"Malaysia\",\"Uruguay\",\"Croatia\",\"Georgia\",\"Dem. Rep. of the Congo\",\"Thailand\",\"Greece\",\"Netherlands\",\"Ghana\",\"Serbia and Montenegro\",\"Nigeria\",\"Denmark\",\"Bosnia and Herzegovina\",\"Serbia\",\"Albania\",\"Poland\",\"Zimbabwe\",\"Bhutan\",\"Kenya\",\"Sri Lanka\",\"Armenia\",\"Cameroon\",\"Myanmar\",\"Panama\",\"Ethiopia\",\"Guatemala\",\"Lao People's Dem. Rep.\",\"Syrian Arab Republic\",\"Latvia\",\"El Salvador\",\"Ireland\",\"Honduras\",\"Iraq\",\"Nepal\",\"Angola\",\"United Rep. of Tanzania\",\"Azerbaijan\",\"Morocco\",\"Bolivia (Plur. State of)\",\"C\\u00f4te d'Ivoire\",\"Sudan (former)\",\"Uganda\",\"Dominican Republic\",\"Malawi\",\"Namibia\",\"T.F.Yug.Rep. Macedonia\",\"Sudan\",\"Papua New Guinea\",\"Luxembourg\",\"Suriname\",\"Bangladesh\",\"Montenegro\",\"Gabon\",\"Nicaragua\",\"Lebanon\",\"Afghanistan\",\"Madagascar\",\"R\\u00e9union\",\"Mali\",\"Congo\",\"Guinea\",\"Fiji\",\"New Caledonia\",\"French Guiana\",\"Lesotho\",\"Algeria\",\"Haiti\",\"Swaziland\",\"Cambodia\",\"Greenland\",\"French Polynesia\",\"Jamaica\",\"Togo\",\"Puerto Rico\",\"Tunisia\",\"Estonia\",\"Belize\",\"Israel\",\"Republic of Moldova\",\"Rwanda\",\"Burundi\",\"Central African Rep.\",\"Cuba\",\"Faeroe Islands\",\"Mauritius\",\"Burkina Faso\",\"Guadeloupe\",\"Andorra\",\"Equatorial Guinea\",\"Jordan\",\"Sierra Leone\",\"Cyprus\",\"Belarus\",\"Samoa\",\"Aruba\",\"Dominica\",\"Martinique\",\"Liechtenstein\",\"St. Vincent-Grenadines\",\"Cabo Verde\",\"Mauritania\",\"Malta\",\"Sao Tome and Principe\",\"Cura\\u00e7ao\",\"Vanuatu\",\"Mayotte\",\"Turkmenistan\",\"Isle of Man\",\"St. Kitts-Nevis\",\"Falkland Is. (Malvinas)\",\"Eritrea\",\"Senegal\",\"Guyana\",\"Micronesia (Fed. States of)\",\"Seychelles\",\"Benin\",\"St. Pierre-Miquelon\",\"Brunei Darussalam\",\"United States Virgin Is.\",\"Maldives\",\"St. Helena and Depend.\",\"South Sudan\",\"Botswana\",\"Tonga\",\"American Samoa\",\"Saudi Arabia\",\"Bonaire, St Eustatius, Saba\",\"Marshall Islands\",\"Nauru\",\"Niue\",\"Niger\",\"Timor-Leste\",\"Bermuda\",\"Mongolia\",\"Libya\",\"Trinidad and Tobago\",\"Liberia\",\"Jersey\",\"Turks and Caicos Islands\",\"Tuvalu\",\"Barbados\",\"Bahrain\",\"Bahamas\",\"Antigua and Barbuda\",\"Anguilla\",\"Wallis and Futuna Is.\",\"Yemen\",\"United Arab Emirates\",\"Chad\",\"British Virgin Islands\",\"Cook Islands\",\"Montserrat\",\"Guam\",\"Grenada\",\"Gibraltar\",\"Neth. Antilles (former)\",\"Gambia\",\"Northern Mariana Islands\",\"Oman\",\"Palau\",\"Djibouti\",\"Qatar\",\"Guinea-Bissau\",\"State of Palestine\",\"Kuwait\",\"Comoros\",\"China, Macao SAR\",\"Singapore\",\"Sint Maarten (Dutch part)\",\"China, Hong Kong SAR\",\"Guernsey\",\"Solomon Islands\",\"Somalia\",\"Cayman Islands\",\"St. Lucia\",\"Kiribati\"],\"y\":[85549767000.0,55912127900.0,11476682000.0,12657271000.0,22157381000.0,8526034000.0,19882526000.0,12543013000.0,3145664000.0,7651171000.0,2652391000.0,15245741000.0,5307931000.0,7803117000.0,3884638000.0,2099219040.0,1396666000.0,5949869000.0,1082088620.0,1747575000.0,4373222000.0,4905218000.0,3353771000.0,1324302000.0,1119718590.0,2136147170.0,1544952000.0,860683000.0,1693266000.0,1625272000.0,1218229000.0,1222837000.0,1044971000.0,914259000.0,602865000.0,4667286000.0,2704177170.0,568442686.0,1117501794.0,4865063000.0,335050000.0,940670000.0,743853000.0,2231267000.0,302077000.0,432216000.0,231105000.0,227146000.0,3559095400.0,264696000.0,196650000.0,310662000.0,306219100.0,1035619000.0,1485510000.0,163570297.0,1900808340.0,181925300.0,257915000.0,175170000.0,141688000.0,2652093200.0,1139014000.0,2054706000.0,170828000.0,398709000.0,442789000.0,820864000.0,248110000.0,372642000.0,104104770.0,3177960000.0,173461500.0,85237210.0,124911300.0,175884078.0,131479000.0,94063000.0,139357820.0,123837100.0,74624000.0,146343100.0,70597066.6,616120000.0,102654000.0,100917000.0,518587000.0,108030000.0,789289000.0,48350650.0,68871000.0,74112000.0,423972000.0,385762000.0,107582200.0,110336600.0,66746000.0,39458250.0,254716060.0,31599160.0,29600000.0,136580131.0,31493000.0,61858000.0,59338000.0,33052600.0,571438000.0,30435000.0,34002000.0,60548000.0,248960000.0,17350600.0,22893253.9,44543880.0,21947770.0,13292000.0,18419390.0,15598253.0,38845680.0,13875000.0,7302400.0,733039000.0,13778000.0,10064230.0,19131000.0,7891382.3,12176066.0,121122700.0,5919000.0,465321600.0,266057720.0,213973000.0,4709655.22,998452000.0,45910000.0,4258924.0,2545241.0,2889000.0,334844600.0,5062490.0,44033900.0,10091871.0,30927000.0,1966000.0,2986300.0,220496400.0,2736183.0,83410000.0,615698000.0,2183200.0,17305800.0,1695480.0,29818994.0,577600.0,2417400.0,4731360.0,11353107.0,42838000.0,826900.0,2712000.0,1077750.0,3191630.0,275410000.0,5104700.0,3626100.0,331000.0,5578000.0,42029000.0,16847220.0,1688860.0,4897380.0,2372000.0,918110.0,66117000.0,20701765.0,3752207.0,167270.0,1405000.0,19427800.0,918634.0,3486686.0,3671794000.0,364600.0,1844200.0,570954.0,64202.3334,4868975.0,1716625.0,13546200.0,80870100.0,464848000.0,141218000.0,5234000.0,2975500.0,2753900.0,79060.0,18724180.0,278928000.0,37699400.0,4691800.0,1336800.0,269632.0,101587000.0,1301659000.0,2870000.0,2080000.0,578400.0,412200.0,38562100.0,3198740.0,3023000.0,20929000.0,3646900.0,8196500.0,291486000.0,2043700.0,5668000.0,360944000.0,684327.0,5955200.0,894596000.0,828800.0,28456000.0,761093530.0,1229300.0,731318000.0,1574800.0,1552900.0,6246000.0,10380790.0,6365597.0,370900.0],\"type\":\"scatter\"},{\"line\":{\"color\":\"rgba(55, 128, 191, 1.0)\",\"dash\":\"solid\",\"shape\":\"linear\",\"width\":1.3},\"mode\":\"lines\",\"name\":\"renewable\",\"text\":\"\",\"x\":[\"United States\",\"China\",\"France\",\"Canada\",\"Japan\",\"Brazil\",\"Russian Federation\",\"Germany\",\"Sweden\",\"Korea, Republic of\",\"Norway\",\"India\",\"Spain\",\"United Kingdom\",\"Ukraine\",\"Venezuela (Bolivar. Rep.)\",\"Switzerland\",\"Italy\",\"Paraguay\",\"Belgium\",\"Other Asia\",\"Mexico\",\"Turkey\",\"Austria\",\"Colombia\",\"Argentina\",\"Finland\",\"New Zealand\",\"Pakistan\",\"Czechia\",\"Viet Nam\",\"Romania\",\"Chile\",\"Bulgaria\",\"Slovakia\",\"Australia\",\"Indonesia\",\"Peru\",\"Philippines\",\"South Africa\",\"Tajikistan\",\"Portugal\",\"Hungary\",\"Egypt\",\"Kyrgyzstan\",\"Korea, Dem.Ppl's.Rep.\",\"Mozambique\",\"Iceland\",\"Iran (Islamic Rep. of)\",\"Lithuania\",\"Zambia\",\"Slovenia\",\"Ecuador\",\"Uzbekistan\",\"Kazakhstan\",\"Costa Rica\",\"Malaysia\",\"Uruguay\",\"Croatia\",\"Georgia\",\"Dem. Rep. of the Congo\",\"Thailand\",\"Greece\",\"Netherlands\",\"Ghana\",\"Serbia and Montenegro\",\"Nigeria\",\"Denmark\",\"Bosnia and Herzegovina\",\"Serbia\",\"Albania\",\"Poland\",\"Zimbabwe\",\"Bhutan\",\"Kenya\",\"Sri Lanka\",\"Armenia\",\"Cameroon\",\"Myanmar\",\"Panama\",\"Ethiopia\",\"Guatemala\",\"Lao People's Dem. Rep.\",\"Syrian Arab Republic\",\"Latvia\",\"El Salvador\",\"Ireland\",\"Honduras\",\"Iraq\",\"Nepal\",\"Angola\",\"United Rep. of Tanzania\",\"Azerbaijan\",\"Morocco\",\"Bolivia (Plur. State of)\",\"C\\u00f4te d'Ivoire\",\"Sudan (former)\",\"Uganda\",\"Dominican Republic\",\"Malawi\",\"Namibia\",\"T.F.Yug.Rep. Macedonia\",\"Sudan\",\"Papua New Guinea\",\"Luxembourg\",\"Suriname\",\"Bangladesh\",\"Montenegro\",\"Gabon\",\"Nicaragua\",\"Lebanon\",\"Afghanistan\",\"Madagascar\",\"R\\u00e9union\",\"Mali\",\"Congo\",\"Guinea\",\"Fiji\",\"New Caledonia\",\"French Guiana\",\"Lesotho\",\"Algeria\",\"Haiti\",\"Swaziland\",\"Cambodia\",\"Greenland\",\"French Polynesia\",\"Jamaica\",\"Togo\",\"Puerto Rico\",\"Tunisia\",\"Estonia\",\"Belize\",\"Israel\",\"Republic of Moldova\",\"Rwanda\",\"Burundi\",\"Central African Rep.\",\"Cuba\",\"Faeroe Islands\",\"Mauritius\",\"Burkina Faso\",\"Guadeloupe\",\"Andorra\",\"Equatorial Guinea\",\"Jordan\",\"Sierra Leone\",\"Cyprus\",\"Belarus\",\"Samoa\",\"Aruba\",\"Dominica\",\"Martinique\",\"Liechtenstein\",\"St. Vincent-Grenadines\",\"Cabo Verde\",\"Mauritania\",\"Malta\",\"Sao Tome and Principe\",\"Cura\\u00e7ao\",\"Vanuatu\",\"Mayotte\",\"Turkmenistan\",\"Isle of Man\",\"St. Kitts-Nevis\",\"Falkland Is. (Malvinas)\",\"Eritrea\",\"Senegal\",\"Guyana\",\"Micronesia (Fed. States of)\",\"Seychelles\",\"Benin\",\"St. Pierre-Miquelon\",\"Brunei Darussalam\",\"United States Virgin Is.\",\"Maldives\",\"St. Helena and Depend.\",\"South Sudan\",\"Botswana\",\"Tonga\",\"American Samoa\",\"Saudi Arabia\",\"Bonaire, St Eustatius, Saba\",\"Marshall Islands\",\"Nauru\",\"Niue\",\"Niger\",\"Timor-Leste\",\"Bermuda\",\"Mongolia\",\"Libya\",\"Trinidad and Tobago\",\"Liberia\",\"Jersey\",\"Turks and Caicos Islands\",\"Tuvalu\",\"Barbados\",\"Bahrain\",\"Bahamas\",\"Antigua and Barbuda\",\"Anguilla\",\"Wallis and Futuna Is.\",\"Yemen\",\"United Arab Emirates\",\"Chad\",\"British Virgin Islands\",\"Cook Islands\",\"Montserrat\",\"Guam\",\"Grenada\",\"Gibraltar\",\"Neth. Antilles (former)\",\"Gambia\",\"Northern Mariana Islands\",\"Oman\",\"Palau\",\"Djibouti\",\"Qatar\",\"Guinea-Bissau\",\"State of Palestine\",\"Kuwait\",\"Comoros\",\"China, Macao SAR\",\"Singapore\",\"Sint Maarten (Dutch part)\",\"China, Hong Kong SAR\",\"Guernsey\",\"Solomon Islands\",\"Somalia\",\"Cayman Islands\",\"St. Lucia\",\"Kiribati\"],\"y\":[24257917000.0,10953354000.0,10362088000.0,9455007000.0,7205750000.0,7190507000.0,6580254000.0,4303987000.0,2869413000.0,2698742000.0,2613166000.0,2609107000.0,2438359000.0,1983690000.0,1977070000.0,1475567000.0,1332557000.0,1285490000.0,1081704350.0,1011975000.0,1004228000.0,962041000.0,884904000.0,873798000.0,811270590.0,809968170.0,751569000.0,604663000.0,590960000.0,521081000.0,514853000.0,506617000.0,443850000.0,437464000.0,416106000.0,396222000.0,381838170.0,377904049.0,370813875.1,345601000.0,330540000.0,320252000.0,308232000.0,290643000.0,260670000.0,259940000.0,228003000.0,227048000.0,219991620.0,205072000.0,195504000.0,195374000.0,173331600.0,172307000.0,162490000.0,151184364.56421,147953805.0,146610800.0,142550000.0,141694000.0,140951000.0,140311200.0,138965000.0,136126000.0,129702000.0,128803000.0,128501000.0,124248000.0,109786000.0,108491000.0,102241730.0,99590000.0,88249700.0,85223650.0,85127100.0,84729819.0,83458000.0,78335000.0,77561540.0,74640700.0,73097000.0,65731500.0,65195067.3,63158000.0,62830000.0,56185000.0,55186000.0,50018000.0,48465000.0,47694000.0,46511000.0,44708000.0,43344000.0,42316000.0,42262200.0,36101000.0,33478000.0,32611650.0,31206870.0,27665390.0,27518000.0,25112051.0,23849000.0,23344000.0,21376000.0,20162400.0,18687000.0,18172000.0,17941000.0,17109000.0,15883000.0,13190100.0,12943204.7,12660680.0,11072820.0,9528000.0,9190000.0,8973278.0,8052580.0,7848000.0,7302400.0,4930000.0,4815000.0,4394360.0,4196000.0,3875948.7,3700350.0,3566200.0,3546100.0,3388800.0,3352720.0,3116000.0,2679463.44,2622000.0,2528000.0,2456220.0,2423370.0,2378000.0,2156400.0,2021679.0,2004600.0,1970373.0,1914000.0,1843300.0,1068000.0,957400.0,948813.0,926000.0,901000.0,869800.0,632300.0,612500.0,590919.0,548200.0,511820.0,355470.0,148000.0,141000.0,138800.0,96000.0,88300.0,70330.0,64000.0,41900.0,37000.0,30990.0,27000.0,27000.0,25000.0,19200.0,14750.0,14000.0,12850.0,8000.0,7884.0,7530.0,6510.0,6000.0,4600.0,4548.0,3300.0,3000.0,2200.0,600.0,554.0,333.333335,35.0,0.0,0.0,0.0,0.0,0.0,0.0,0.0,0.0,0.0,0.0,0.0,0.0,0.0,0.0,0.0,0.0,0.0,0.0,0.0,0.0,0.0,0.0,0.0,0.0,0.0,0.0,0.0,0.0,0.0,0.0,0.0,0.0,0.0,0.0,0.0,0.0,0.0,0.0,0.0,0.0,0.0,0.0,0.0,0.0,0.0],\"type\":\"scatter\"}],                        {\"legend\":{\"bgcolor\":\"#F5F6F9\",\"font\":{\"color\":\"#4D5663\"}},\"paper_bgcolor\":\"#F5F6F9\",\"plot_bgcolor\":\"#F5F6F9\",\"template\":{\"data\":{\"barpolar\":[{\"marker\":{\"line\":{\"color\":\"#E5ECF6\",\"width\":0.5},\"pattern\":{\"fillmode\":\"overlay\",\"size\":10,\"solidity\":0.2}},\"type\":\"barpolar\"}],\"bar\":[{\"error_x\":{\"color\":\"#2a3f5f\"},\"error_y\":{\"color\":\"#2a3f5f\"},\"marker\":{\"line\":{\"color\":\"#E5ECF6\",\"width\":0.5},\"pattern\":{\"fillmode\":\"overlay\",\"size\":10,\"solidity\":0.2}},\"type\":\"bar\"}],\"carpet\":[{\"aaxis\":{\"endlinecolor\":\"#2a3f5f\",\"gridcolor\":\"white\",\"linecolor\":\"white\",\"minorgridcolor\":\"white\",\"startlinecolor\":\"#2a3f5f\"},\"baxis\":{\"endlinecolor\":\"#2a3f5f\",\"gridcolor\":\"white\",\"linecolor\":\"white\",\"minorgridcolor\":\"white\",\"startlinecolor\":\"#2a3f5f\"},\"type\":\"carpet\"}],\"choropleth\":[{\"colorbar\":{\"outlinewidth\":0,\"ticks\":\"\"},\"type\":\"choropleth\"}],\"contourcarpet\":[{\"colorbar\":{\"outlinewidth\":0,\"ticks\":\"\"},\"type\":\"contourcarpet\"}],\"contour\":[{\"colorbar\":{\"outlinewidth\":0,\"ticks\":\"\"},\"colorscale\":[[0.0,\"#0d0887\"],[0.1111111111111111,\"#46039f\"],[0.2222222222222222,\"#7201a8\"],[0.3333333333333333,\"#9c179e\"],[0.4444444444444444,\"#bd3786\"],[0.5555555555555556,\"#d8576b\"],[0.6666666666666666,\"#ed7953\"],[0.7777777777777778,\"#fb9f3a\"],[0.8888888888888888,\"#fdca26\"],[1.0,\"#f0f921\"]],\"type\":\"contour\"}],\"heatmapgl\":[{\"colorbar\":{\"outlinewidth\":0,\"ticks\":\"\"},\"colorscale\":[[0.0,\"#0d0887\"],[0.1111111111111111,\"#46039f\"],[0.2222222222222222,\"#7201a8\"],[0.3333333333333333,\"#9c179e\"],[0.4444444444444444,\"#bd3786\"],[0.5555555555555556,\"#d8576b\"],[0.6666666666666666,\"#ed7953\"],[0.7777777777777778,\"#fb9f3a\"],[0.8888888888888888,\"#fdca26\"],[1.0,\"#f0f921\"]],\"type\":\"heatmapgl\"}],\"heatmap\":[{\"colorbar\":{\"outlinewidth\":0,\"ticks\":\"\"},\"colorscale\":[[0.0,\"#0d0887\"],[0.1111111111111111,\"#46039f\"],[0.2222222222222222,\"#7201a8\"],[0.3333333333333333,\"#9c179e\"],[0.4444444444444444,\"#bd3786\"],[0.5555555555555556,\"#d8576b\"],[0.6666666666666666,\"#ed7953\"],[0.7777777777777778,\"#fb9f3a\"],[0.8888888888888888,\"#fdca26\"],[1.0,\"#f0f921\"]],\"type\":\"heatmap\"}],\"histogram2dcontour\":[{\"colorbar\":{\"outlinewidth\":0,\"ticks\":\"\"},\"colorscale\":[[0.0,\"#0d0887\"],[0.1111111111111111,\"#46039f\"],[0.2222222222222222,\"#7201a8\"],[0.3333333333333333,\"#9c179e\"],[0.4444444444444444,\"#bd3786\"],[0.5555555555555556,\"#d8576b\"],[0.6666666666666666,\"#ed7953\"],[0.7777777777777778,\"#fb9f3a\"],[0.8888888888888888,\"#fdca26\"],[1.0,\"#f0f921\"]],\"type\":\"histogram2dcontour\"}],\"histogram2d\":[{\"colorbar\":{\"outlinewidth\":0,\"ticks\":\"\"},\"colorscale\":[[0.0,\"#0d0887\"],[0.1111111111111111,\"#46039f\"],[0.2222222222222222,\"#7201a8\"],[0.3333333333333333,\"#9c179e\"],[0.4444444444444444,\"#bd3786\"],[0.5555555555555556,\"#d8576b\"],[0.6666666666666666,\"#ed7953\"],[0.7777777777777778,\"#fb9f3a\"],[0.8888888888888888,\"#fdca26\"],[1.0,\"#f0f921\"]],\"type\":\"histogram2d\"}],\"histogram\":[{\"marker\":{\"pattern\":{\"fillmode\":\"overlay\",\"size\":10,\"solidity\":0.2}},\"type\":\"histogram\"}],\"mesh3d\":[{\"colorbar\":{\"outlinewidth\":0,\"ticks\":\"\"},\"type\":\"mesh3d\"}],\"parcoords\":[{\"line\":{\"colorbar\":{\"outlinewidth\":0,\"ticks\":\"\"}},\"type\":\"parcoords\"}],\"pie\":[{\"automargin\":true,\"type\":\"pie\"}],\"scatter3d\":[{\"line\":{\"colorbar\":{\"outlinewidth\":0,\"ticks\":\"\"}},\"marker\":{\"colorbar\":{\"outlinewidth\":0,\"ticks\":\"\"}},\"type\":\"scatter3d\"}],\"scattercarpet\":[{\"marker\":{\"colorbar\":{\"outlinewidth\":0,\"ticks\":\"\"}},\"type\":\"scattercarpet\"}],\"scattergeo\":[{\"marker\":{\"colorbar\":{\"outlinewidth\":0,\"ticks\":\"\"}},\"type\":\"scattergeo\"}],\"scattergl\":[{\"marker\":{\"colorbar\":{\"outlinewidth\":0,\"ticks\":\"\"}},\"type\":\"scattergl\"}],\"scattermapbox\":[{\"marker\":{\"colorbar\":{\"outlinewidth\":0,\"ticks\":\"\"}},\"type\":\"scattermapbox\"}],\"scatterpolargl\":[{\"marker\":{\"colorbar\":{\"outlinewidth\":0,\"ticks\":\"\"}},\"type\":\"scatterpolargl\"}],\"scatterpolar\":[{\"marker\":{\"colorbar\":{\"outlinewidth\":0,\"ticks\":\"\"}},\"type\":\"scatterpolar\"}],\"scatter\":[{\"marker\":{\"colorbar\":{\"outlinewidth\":0,\"ticks\":\"\"}},\"type\":\"scatter\"}],\"scatterternary\":[{\"marker\":{\"colorbar\":{\"outlinewidth\":0,\"ticks\":\"\"}},\"type\":\"scatterternary\"}],\"surface\":[{\"colorbar\":{\"outlinewidth\":0,\"ticks\":\"\"},\"colorscale\":[[0.0,\"#0d0887\"],[0.1111111111111111,\"#46039f\"],[0.2222222222222222,\"#7201a8\"],[0.3333333333333333,\"#9c179e\"],[0.4444444444444444,\"#bd3786\"],[0.5555555555555556,\"#d8576b\"],[0.6666666666666666,\"#ed7953\"],[0.7777777777777778,\"#fb9f3a\"],[0.8888888888888888,\"#fdca26\"],[1.0,\"#f0f921\"]],\"type\":\"surface\"}],\"table\":[{\"cells\":{\"fill\":{\"color\":\"#EBF0F8\"},\"line\":{\"color\":\"white\"}},\"header\":{\"fill\":{\"color\":\"#C8D4E3\"},\"line\":{\"color\":\"white\"}},\"type\":\"table\"}]},\"layout\":{\"annotationdefaults\":{\"arrowcolor\":\"#2a3f5f\",\"arrowhead\":0,\"arrowwidth\":1},\"autotypenumbers\":\"strict\",\"coloraxis\":{\"colorbar\":{\"outlinewidth\":0,\"ticks\":\"\"}},\"colorscale\":{\"diverging\":[[0,\"#8e0152\"],[0.1,\"#c51b7d\"],[0.2,\"#de77ae\"],[0.3,\"#f1b6da\"],[0.4,\"#fde0ef\"],[0.5,\"#f7f7f7\"],[0.6,\"#e6f5d0\"],[0.7,\"#b8e186\"],[0.8,\"#7fbc41\"],[0.9,\"#4d9221\"],[1,\"#276419\"]],\"sequential\":[[0.0,\"#0d0887\"],[0.1111111111111111,\"#46039f\"],[0.2222222222222222,\"#7201a8\"],[0.3333333333333333,\"#9c179e\"],[0.4444444444444444,\"#bd3786\"],[0.5555555555555556,\"#d8576b\"],[0.6666666666666666,\"#ed7953\"],[0.7777777777777778,\"#fb9f3a\"],[0.8888888888888888,\"#fdca26\"],[1.0,\"#f0f921\"]],\"sequentialminus\":[[0.0,\"#0d0887\"],[0.1111111111111111,\"#46039f\"],[0.2222222222222222,\"#7201a8\"],[0.3333333333333333,\"#9c179e\"],[0.4444444444444444,\"#bd3786\"],[0.5555555555555556,\"#d8576b\"],[0.6666666666666666,\"#ed7953\"],[0.7777777777777778,\"#fb9f3a\"],[0.8888888888888888,\"#fdca26\"],[1.0,\"#f0f921\"]]},\"colorway\":[\"#636efa\",\"#EF553B\",\"#00cc96\",\"#ab63fa\",\"#FFA15A\",\"#19d3f3\",\"#FF6692\",\"#B6E880\",\"#FF97FF\",\"#FECB52\"],\"font\":{\"color\":\"#2a3f5f\"},\"geo\":{\"bgcolor\":\"white\",\"lakecolor\":\"white\",\"landcolor\":\"#E5ECF6\",\"showlakes\":true,\"showland\":true,\"subunitcolor\":\"white\"},\"hoverlabel\":{\"align\":\"left\"},\"hovermode\":\"closest\",\"mapbox\":{\"style\":\"light\"},\"paper_bgcolor\":\"white\",\"plot_bgcolor\":\"#E5ECF6\",\"polar\":{\"angularaxis\":{\"gridcolor\":\"white\",\"linecolor\":\"white\",\"ticks\":\"\"},\"bgcolor\":\"#E5ECF6\",\"radialaxis\":{\"gridcolor\":\"white\",\"linecolor\":\"white\",\"ticks\":\"\"}},\"scene\":{\"xaxis\":{\"backgroundcolor\":\"#E5ECF6\",\"gridcolor\":\"white\",\"gridwidth\":2,\"linecolor\":\"white\",\"showbackground\":true,\"ticks\":\"\",\"zerolinecolor\":\"white\"},\"yaxis\":{\"backgroundcolor\":\"#E5ECF6\",\"gridcolor\":\"white\",\"gridwidth\":2,\"linecolor\":\"white\",\"showbackground\":true,\"ticks\":\"\",\"zerolinecolor\":\"white\"},\"zaxis\":{\"backgroundcolor\":\"#E5ECF6\",\"gridcolor\":\"white\",\"gridwidth\":2,\"linecolor\":\"white\",\"showbackground\":true,\"ticks\":\"\",\"zerolinecolor\":\"white\"}},\"shapedefaults\":{\"line\":{\"color\":\"#2a3f5f\"}},\"ternary\":{\"aaxis\":{\"gridcolor\":\"white\",\"linecolor\":\"white\",\"ticks\":\"\"},\"baxis\":{\"gridcolor\":\"white\",\"linecolor\":\"white\",\"ticks\":\"\"},\"bgcolor\":\"#E5ECF6\",\"caxis\":{\"gridcolor\":\"white\",\"linecolor\":\"white\",\"ticks\":\"\"}},\"title\":{\"x\":0.05},\"xaxis\":{\"automargin\":true,\"gridcolor\":\"white\",\"linecolor\":\"white\",\"ticks\":\"\",\"title\":{\"standoff\":15},\"zerolinecolor\":\"white\",\"zerolinewidth\":2},\"yaxis\":{\"automargin\":true,\"gridcolor\":\"white\",\"linecolor\":\"white\",\"ticks\":\"\",\"title\":{\"standoff\":15},\"zerolinecolor\":\"white\",\"zerolinewidth\":2}}},\"title\":{\"font\":{\"color\":\"#4D5663\"}},\"xaxis\":{\"gridcolor\":\"#E1E5ED\",\"showgrid\":true,\"tickfont\":{\"color\":\"#4D5663\"},\"title\":{\"font\":{\"color\":\"#4D5663\"},\"text\":\"\"},\"zerolinecolor\":\"#E1E5ED\"},\"yaxis\":{\"gridcolor\":\"#E1E5ED\",\"showgrid\":true,\"tickfont\":{\"color\":\"#4D5663\"},\"title\":{\"font\":{\"color\":\"#4D5663\"},\"text\":\"\"},\"zerolinecolor\":\"#E1E5ED\"}},                        {\"showLink\": true, \"linkText\": \"Export to plot.ly\", \"plotlyServerURL\": \"https://plot.ly\", \"responsive\": true}                    ).then(function(){\n",
       "                            \n",
       "var gd = document.getElementById('0f207062-cd29-4f13-ae55-552e328e7a40');\n",
       "var x = new MutationObserver(function (mutations, observer) {{\n",
       "        var display = window.getComputedStyle(gd).display;\n",
       "        if (!display || display === 'none') {{\n",
       "            console.log([gd, 'removed!']);\n",
       "            Plotly.purge(gd);\n",
       "            observer.disconnect();\n",
       "        }}\n",
       "}});\n",
       "\n",
       "// Listen for the removal of the full notebook cells\n",
       "var notebookContainer = gd.closest('#notebook-container');\n",
       "if (notebookContainer) {{\n",
       "    x.observe(notebookContainer, {childList: true});\n",
       "}}\n",
       "\n",
       "// Listen for the clearing of the current output cell\n",
       "var outputEl = gd.closest('.output');\n",
       "if (outputEl) {{\n",
       "    x.observe(outputEl, {childList: true});\n",
       "}}\n",
       "\n",
       "                        })                };                });            </script>        </div>"
      ]
     },
     "metadata": {},
     "output_type": "display_data"
    }
   ],
   "source": [
    "\n",
    "rank_all_r.iplot();"
   ]
  },
  {
   "cell_type": "code",
   "execution_count": 12,
   "id": "a4181adf",
   "metadata": {},
   "outputs": [
    {
     "data": {
      "application/vnd.plotly.v1+json": {
       "config": {
        "linkText": "Export to plot.ly",
        "plotlyServerURL": "https://plot.ly",
        "showLink": true
       },
       "data": [
        {
         "line": {
          "color": "rgba(255, 153, 51, 1.0)",
          "dash": "solid",
          "shape": "linear",
          "width": 1.3
         },
         "mode": "lines",
         "name": "new_quantity",
         "text": "",
         "type": "scatter",
         "x": [
          "United States",
          "China",
          "France",
          "Canada",
          "Japan",
          "Brazil",
          "Russian Federation",
          "Germany",
          "Sweden",
          "Korea, Republic of",
          "Norway",
          "India",
          "Spain",
          "United Kingdom",
          "Ukraine",
          "Venezuela (Bolivar. Rep.)",
          "Switzerland",
          "Italy",
          "Paraguay",
          "Belgium",
          "Other Asia",
          "Mexico",
          "Turkey",
          "Austria",
          "Colombia",
          "Argentina",
          "Finland",
          "New Zealand",
          "Pakistan",
          "Czechia",
          "Viet Nam",
          "Romania",
          "Chile",
          "Bulgaria",
          "Slovakia",
          "Australia",
          "Indonesia",
          "Peru",
          "Philippines",
          "South Africa",
          "Tajikistan",
          "Portugal",
          "Hungary",
          "Egypt",
          "Kyrgyzstan",
          "Korea, Dem.Ppl's.Rep.",
          "Serbia and Montenegro",
          "Mozambique",
          "Serbia",
          "Iceland",
          "Iran (Islamic Rep. of)",
          "Lithuania",
          "Zambia",
          "Slovenia",
          "Ecuador",
          "Uzbekistan",
          "Sudan",
          "Kazakhstan",
          "Costa Rica",
          "Malaysia",
          "Uruguay",
          "Croatia",
          "Georgia",
          "Dem. Rep. of the Congo",
          "Thailand",
          "Greece",
          "Netherlands",
          "Ghana",
          "Nigeria",
          "Denmark",
          "Bosnia and Herzegovina",
          "Albania",
          "Poland",
          "Zimbabwe",
          "Bhutan",
          "Kenya",
          "Sri Lanka",
          "Armenia",
          "Cameroon",
          "Myanmar",
          "Panama",
          "Ethiopia",
          "Guatemala",
          "Lao People's Dem. Rep.",
          "Syrian Arab Republic",
          "Latvia",
          "El Salvador",
          "Ireland",
          "Honduras",
          "Iraq",
          "Nepal",
          "Angola",
          "United Rep. of Tanzania",
          "Azerbaijan",
          "Morocco",
          "Bolivia (Plur. State of)",
          "Sudan (former)",
          "Montenegro",
          "Côte d'Ivoire",
          "Uganda",
          "Dominican Republic",
          "Malawi",
          "Namibia",
          "T.F.Yug.Rep. Macedonia",
          "Papua New Guinea",
          "Luxembourg",
          "Suriname",
          "Bangladesh",
          "Gabon",
          "Nicaragua",
          "Lebanon",
          "Afghanistan",
          "Madagascar",
          "Réunion",
          "Mali",
          "Lesotho",
          "Congo",
          "Guinea",
          "Fiji",
          "New Caledonia",
          "French Guiana",
          "Algeria",
          "Haiti",
          "Swaziland",
          "Cambodia",
          "Greenland",
          "French Polynesia",
          "Jamaica",
          "Togo",
          "Puerto Rico",
          "Tunisia",
          "Estonia",
          "Belize",
          "Israel",
          "Republic of Moldova",
          "Rwanda",
          "Burundi",
          "Central African Rep.",
          "Cuba",
          "Faeroe Islands",
          "Mauritius",
          "Burkina Faso",
          "Guadeloupe",
          "Andorra",
          "Liechtenstein",
          "Equatorial Guinea",
          "Jordan",
          "Sierra Leone",
          "Cyprus",
          "Belarus",
          "Samoa",
          "Curaçao",
          "Aruba",
          "Dominica",
          "Martinique",
          "St. Vincent-Grenadines",
          "Cabo Verde",
          "Mauritania",
          "Malta",
          "Sao Tome and Principe",
          "Vanuatu",
          "Mayotte",
          "Isle of Man",
          "Turkmenistan",
          "South Sudan",
          "St. Kitts-Nevis",
          "Falkland Is. (Malvinas)",
          "Eritrea",
          "Senegal",
          "Guyana",
          "Micronesia (Fed. States of)",
          "Bonaire, St Eustatius, Saba",
          "Seychelles",
          "Benin",
          "St. Pierre-Miquelon",
          "Brunei Darussalam",
          "United States Virgin Is.",
          "Maldives",
          "St. Helena and Depend.",
          "Botswana",
          "Tonga",
          "American Samoa",
          "Saudi Arabia",
          "Marshall Islands",
          "Nauru",
          "Niue",
          "Niger",
          "Timor-Leste",
          "Bermuda",
          "Mongolia",
          "Libya",
          "Trinidad and Tobago",
          "Liberia",
          "Jersey",
          "Turks and Caicos Islands",
          "Tuvalu",
          "Barbados",
          "Bahrain",
          "Bahamas",
          "Antigua and Barbuda",
          "Anguilla",
          "Wallis and Futuna Is.",
          "Yemen",
          "United Arab Emirates",
          "Chad",
          "British Virgin Islands",
          "Cook Islands",
          "Montserrat",
          "Guam",
          "Grenada",
          "Gibraltar",
          "Neth. Antilles (former)",
          "Gambia",
          "Northern Mariana Islands",
          "Oman",
          "Palau",
          "Djibouti",
          "Qatar",
          "Guinea-Bissau",
          "State of Palestine",
          "Kuwait",
          "Comoros",
          "China, Macao SAR",
          "Singapore",
          "Sint Maarten (Dutch part)",
          "China, Hong Kong SAR",
          "Guernsey",
          "Solomon Islands",
          "Somalia",
          "Cayman Islands",
          "St. Lucia",
          "Kiribati"
         ],
         "y": [
          4073798428.571429,
          2662482280.952381,
          546508666.6666666,
          602727190.4761904,
          1055113380.9523809,
          406001619.04761904,
          946786952.3809524,
          597286333.3333334,
          149793523.80952382,
          364341476.1904762,
          126304333.33333333,
          725987666.6666666,
          252758619.04761904,
          371577000,
          184982761.9047619,
          99962811.42857143,
          66507904.76190476,
          283327095.2380952,
          51528029.52380952,
          83217857.14285715,
          208248666.66666666,
          233581809.52380952,
          159703380.95238096,
          63062000,
          53319932.85714286,
          101721293.8095238,
          73569142.85714285,
          40984904.76190476,
          80631714.28571428,
          77393904.76190476,
          58010904.76190476,
          58230333.333333336,
          49760523.809523806,
          43536142.85714286,
          28707857.14285714,
          222251714.2857143,
          128770341.42857143,
          27068699.333333332,
          53214371.14285714,
          231669666.66666666,
          15954761.904761905,
          44793809.52380952,
          35421571.428571425,
          106250809.52380952,
          14384619.047619049,
          20581714.285714287,
          36246272.72727273,
          11005000,
          37264200,
          10816476.19047619,
          169480733.33333334,
          12604571.42857143,
          9364285.714285715,
          14793428.57142857,
          14581861.904761905,
          49315190.47619048,
          10497666.666666666,
          70738571.42857143,
          7789061.761904762,
          90514682.85714285,
          8663109.523809524,
          12281666.666666666,
          8341428.571428572,
          6747047.619047619,
          126290152.38095239,
          54238761.9047619,
          97843142.85714285,
          8134666.666666667,
          21085190.476190478,
          39088761.9047619,
          11814761.904761905,
          4957370,
          151331428.57142857,
          8260071.428571428,
          4058914.761904762,
          5948157.142857143,
          8375432.285714285,
          6260904.761904762,
          4479190.476190476,
          6636086.666666667,
          5897004.761904762,
          3553523.8095238097,
          6968719.047619048,
          3361765.076190476,
          29339047.61904762,
          4888285.714285715,
          4805571.428571428,
          24694619.04761905,
          5144285.714285715,
          37585190.47619048,
          2302411.904761905,
          3279571.4285714286,
          3529142.8571428573,
          20189142.85714286,
          18369619.04761905,
          5122961.904761905,
          3708111.111111111,
          3043500,
          5254123.80952381,
          1878964.2857142857,
          12129336.19047619,
          1504721.9047619049,
          1409523.8095238095,
          6503815.761904762,
          2945619.0476190476,
          2825619.0476190476,
          1573933.3333333333,
          27211333.333333332,
          1619142.857142857,
          2883238.095238095,
          11855238.095238095,
          826219.0476190476,
          1090154.9476190475,
          2121137.1428571427,
          1045131.9047619047,
          456400,
          632952.380952381,
          877113.8095238095,
          742773.9523809524,
          1849794.2857142857,
          660714.2857142857,
          34906619.047619045,
          656095.2380952381,
          479249.04761904763,
          911000,
          375780.1095238095,
          579812.6666666666,
          5767747.619047619,
          281857.14285714284,
          22158171.42857143,
          12669415.238095239,
          10189190.476190476,
          224269.2961904762,
          47545333.333333336,
          2186190.476190476,
          202805.90476190476,
          121201.95238095238,
          137571.42857142858,
          15944980.952380951,
          241070.95238095237,
          2096852.380952381,
          480565.28571428574,
          1472714.2857142857,
          93619.04761904762,
          72200,
          142204.7619047619,
          10499828.57142857,
          130294.42857142857,
          3971904.761904762,
          29318952.38095238,
          103961.90476190476,
          904000,
          824085.7142857143,
          80737.14285714286,
          1419952.0952380951,
          115114.28571428571,
          225302.85714285713,
          540624.1428571428,
          2039904.761904762,
          39376.19047619047,
          51321.42857142857,
          151982.38095238095,
          392669.23076923075,
          13114761.904761905,
          468333.3333333333,
          172671.42857142858,
          15761.904761904761,
          265619.04761904763,
          2001380.9523809524,
          802248.5714285715,
          80421.90476190476,
          121533.33333333333,
          233208.57142857142,
          112952.38095238095,
          43719.52380952381,
          3148428.5714285714,
          985798.3333333334,
          178676.52380952382,
          7965.238095238095,
          925133.3333333334,
          43744.47619047619,
          166032.66666666666,
          174847333.33333334,
          87819.04761904762,
          27188.285714285714,
          3057.2539714285717,
          231855.95238095237,
          132048.07692307694,
          645057.1428571428,
          3850957.1428571427,
          22135619.04761905,
          6724666.666666667,
          249238.09523809524,
          141690.47619047618,
          131138.09523809524,
          3764.7619047619046,
          891627.619047619,
          13282285.714285715,
          1795209.5238095238,
          223419.04761904763,
          63657.142857142855,
          19259.428571428572,
          4837476.19047619,
          61983761.9047619,
          136666.66666666666,
          99047.61904761905,
          27542.85714285714,
          19628.571428571428,
          1836290.4761904762,
          152320.95238095237,
          143952.38095238095,
          1162722.2222222222,
          173661.90476190476,
          390309.5238095238,
          13880285.714285715,
          97319.04761904762,
          269904.7619047619,
          17187809.523809522,
          32587,
          283580.95238095237,
          42599809.52380952,
          39466.666666666664,
          1355047.619047619,
          36242549.047619045,
          409766.6666666667,
          34824666.666666664,
          121138.46153846153,
          73947.61904761905,
          297428.5714285714,
          494323.3333333333,
          303123.6666666667,
          17661.904761904763
         ]
        },
        {
         "line": {
          "color": "rgba(55, 128, 191, 1.0)",
          "dash": "solid",
          "shape": "linear",
          "width": 1.3
         },
         "mode": "lines",
         "name": "renewable",
         "text": "",
         "type": "scatter",
         "x": [
          "United States",
          "China",
          "France",
          "Canada",
          "Japan",
          "Brazil",
          "Russian Federation",
          "Germany",
          "Sweden",
          "Korea, Republic of",
          "Norway",
          "India",
          "Spain",
          "United Kingdom",
          "Ukraine",
          "Venezuela (Bolivar. Rep.)",
          "Switzerland",
          "Italy",
          "Paraguay",
          "Belgium",
          "Other Asia",
          "Mexico",
          "Turkey",
          "Austria",
          "Colombia",
          "Argentina",
          "Finland",
          "New Zealand",
          "Pakistan",
          "Czechia",
          "Viet Nam",
          "Romania",
          "Chile",
          "Bulgaria",
          "Slovakia",
          "Australia",
          "Indonesia",
          "Peru",
          "Philippines",
          "South Africa",
          "Tajikistan",
          "Portugal",
          "Hungary",
          "Egypt",
          "Kyrgyzstan",
          "Korea, Dem.Ppl's.Rep.",
          "Serbia and Montenegro",
          "Mozambique",
          "Serbia",
          "Iceland",
          "Iran (Islamic Rep. of)",
          "Lithuania",
          "Zambia",
          "Slovenia",
          "Ecuador",
          "Uzbekistan",
          "Sudan",
          "Kazakhstan",
          "Costa Rica",
          "Malaysia",
          "Uruguay",
          "Croatia",
          "Georgia",
          "Dem. Rep. of the Congo",
          "Thailand",
          "Greece",
          "Netherlands",
          "Ghana",
          "Nigeria",
          "Denmark",
          "Bosnia and Herzegovina",
          "Albania",
          "Poland",
          "Zimbabwe",
          "Bhutan",
          "Kenya",
          "Sri Lanka",
          "Armenia",
          "Cameroon",
          "Myanmar",
          "Panama",
          "Ethiopia",
          "Guatemala",
          "Lao People's Dem. Rep.",
          "Syrian Arab Republic",
          "Latvia",
          "El Salvador",
          "Ireland",
          "Honduras",
          "Iraq",
          "Nepal",
          "Angola",
          "United Rep. of Tanzania",
          "Azerbaijan",
          "Morocco",
          "Bolivia (Plur. State of)",
          "Sudan (former)",
          "Montenegro",
          "Côte d'Ivoire",
          "Uganda",
          "Dominican Republic",
          "Malawi",
          "Namibia",
          "T.F.Yug.Rep. Macedonia",
          "Papua New Guinea",
          "Luxembourg",
          "Suriname",
          "Bangladesh",
          "Gabon",
          "Nicaragua",
          "Lebanon",
          "Afghanistan",
          "Madagascar",
          "Réunion",
          "Mali",
          "Lesotho",
          "Congo",
          "Guinea",
          "Fiji",
          "New Caledonia",
          "French Guiana",
          "Algeria",
          "Haiti",
          "Swaziland",
          "Cambodia",
          "Greenland",
          "French Polynesia",
          "Jamaica",
          "Togo",
          "Puerto Rico",
          "Tunisia",
          "Estonia",
          "Belize",
          "Israel",
          "Republic of Moldova",
          "Rwanda",
          "Burundi",
          "Central African Rep.",
          "Cuba",
          "Faeroe Islands",
          "Mauritius",
          "Burkina Faso",
          "Guadeloupe",
          "Andorra",
          "Liechtenstein",
          "Equatorial Guinea",
          "Jordan",
          "Sierra Leone",
          "Cyprus",
          "Belarus",
          "Samoa",
          "Curaçao",
          "Aruba",
          "Dominica",
          "Martinique",
          "St. Vincent-Grenadines",
          "Cabo Verde",
          "Mauritania",
          "Malta",
          "Sao Tome and Principe",
          "Vanuatu",
          "Mayotte",
          "Isle of Man",
          "Turkmenistan",
          "South Sudan",
          "St. Kitts-Nevis",
          "Falkland Is. (Malvinas)",
          "Eritrea",
          "Senegal",
          "Guyana",
          "Micronesia (Fed. States of)",
          "Bonaire, St Eustatius, Saba",
          "Seychelles",
          "Benin",
          "St. Pierre-Miquelon",
          "Brunei Darussalam",
          "United States Virgin Is.",
          "Maldives",
          "St. Helena and Depend.",
          "Botswana",
          "Tonga",
          "American Samoa",
          "Saudi Arabia",
          "Marshall Islands",
          "Nauru",
          "Niue",
          "Niger",
          "Timor-Leste",
          "Bermuda",
          "Mongolia",
          "Libya",
          "Trinidad and Tobago",
          "Liberia",
          "Jersey",
          "Turks and Caicos Islands",
          "Tuvalu",
          "Barbados",
          "Bahrain",
          "Bahamas",
          "Antigua and Barbuda",
          "Anguilla",
          "Wallis and Futuna Is.",
          "Yemen",
          "United Arab Emirates",
          "Chad",
          "British Virgin Islands",
          "Cook Islands",
          "Montserrat",
          "Guam",
          "Grenada",
          "Gibraltar",
          "Neth. Antilles (former)",
          "Gambia",
          "Northern Mariana Islands",
          "Oman",
          "Palau",
          "Djibouti",
          "Qatar",
          "Guinea-Bissau",
          "State of Palestine",
          "Kuwait",
          "Comoros",
          "China, Macao SAR",
          "Singapore",
          "Sint Maarten (Dutch part)",
          "China, Hong Kong SAR",
          "Guernsey",
          "Solomon Islands",
          "Somalia",
          "Cayman Islands",
          "St. Lucia",
          "Kiribati"
         ],
         "y": [
          1155138904.7619047,
          521588285.71428573,
          493432761.9047619,
          450238428.5714286,
          343130952.38095236,
          342405095.2380952,
          313345428.5714286,
          204951761.9047619,
          136638714.2857143,
          128511523.8095238,
          124436476.1904762,
          124243190.47619048,
          116112333.33333333,
          94461428.57142857,
          94146190.47619048,
          70265095.23809524,
          63455095.23809524,
          61213809.52380952,
          51509730.952380955,
          48189285.71428572,
          47820380.952380955,
          45811476.190476194,
          42138285.71428572,
          41609428.571428575,
          38631932.85714286,
          38569912.85714286,
          35789000,
          28793476.19047619,
          28140952.38095238,
          24813380.95238095,
          24516809.523809522,
          24124619.04761905,
          21135714.285714287,
          20831619.04761905,
          19814571.42857143,
          18867714.285714287,
          18182770,
          17995430.904761903,
          17657803.57619048,
          16457190.476190476,
          15740000,
          15250095.238095239,
          14677714.285714285,
          13840142.857142856,
          12412857.142857144,
          12378095.238095239,
          11709363.636363637,
          10857285.714285715,
          10849100,
          10811809.523809524,
          10475791.42857143,
          9765333.333333334,
          9309714.285714285,
          9303523.80952381,
          8253885.714285715,
          8205095.238095238,
          7949666.666666667,
          7737619.047619048,
          7199255.455438571,
          7045419.285714285,
          6981466.666666667,
          6788095.238095238,
          6747333.333333333,
          6711952.380952381,
          6681485.714285715,
          6617380.952380952,
          6482190.476190476,
          6176285.714285715,
          6119095.238095238,
          5916571.428571428,
          5227904.761904762,
          4868653.80952381,
          4742380.952380952,
          4202366.666666667,
          4058269.0476190476,
          4053671.4285714286,
          4034753.285714286,
          3974190.476190476,
          3730238.095238095,
          3693406.6666666665,
          3554319.0476190476,
          3480809.523809524,
          3130071.4285714286,
          3104527.0142857144,
          3007523.8095238097,
          2991904.761904762,
          2675476.1904761903,
          2627904.761904762,
          2381809.523809524,
          2307857.1428571427,
          2271142.8571428573,
          2214809.523809524,
          2128952.380952381,
          2064000,
          2015047.619047619,
          2012485.7142857143,
          1859888.888888889,
          1817200,
          1719095.238095238,
          1552935.7142857143,
          1486041.4285714286,
          1317399.5238095238,
          1310380.9523809524,
          1195811.9523809524,
          1111619.0476190476,
          1017904.7619047619,
          960114.2857142857,
          889857.1428571428,
          854333.3333333334,
          814714.2857142857,
          756333.3333333334,
          628100,
          616343.0809523809,
          602889.5238095238,
          527277.1428571428,
          456400,
          453714.28571428574,
          437619.04761904763,
          427298.95238095237,
          383456.1904761905,
          373714.28571428574,
          234761.90476190476,
          229285.7142857143,
          209255.2380952381,
          199809.52380952382,
          184568.98571428572,
          176207.14285714287,
          169819.04761904763,
          168861.90476190476,
          161371.42857142858,
          159653.33333333334,
          148380.95238095237,
          127593.49714285714,
          124857.14285714286,
          120380.95238095238,
          116962.85714285714,
          115398.57142857143,
          113238.09523809524,
          102685.71428571429,
          96270.42857142857,
          95457.14285714286,
          93827.28571428571,
          91142.85714285714,
          87776.19047619047,
          68525,
          50857.142857142855,
          45590.47619047619,
          45181.57142857143,
          44095.23809523809,
          42904.76190476191,
          41419.04761904762,
          32000,
          30109.52380952381,
          29166.666666666668,
          28139,
          24372.380952380954,
          16927.14285714286,
          7047.619047619048,
          6714.285714285715,
          6609.523809523809,
          4204.761904761905,
          3349.0476190476193,
          3223.076923076923,
          3047.6190476190477,
          2000,
          1761.904761904762,
          1475.7142857142858,
          1285.7142857142858,
          1285.7142857142858,
          1190.4761904761904,
          914.2857142857143,
          733.3333333333334,
          702.3809523809524,
          666.6666666666666,
          611.9047619047619,
          380.95238095238096,
          375.42857142857144,
          358.57142857142856,
          310,
          219.04761904761904,
          216.57142857142858,
          157.14285714285714,
          142.85714285714286,
          28.571428571428573,
          26.38095238095238,
          15.873015952380952,
          1.6666666666666667,
          0,
          0,
          0,
          0,
          0,
          0,
          0,
          0,
          0,
          0,
          0,
          0,
          0,
          0,
          0,
          0,
          0,
          0,
          0,
          0,
          0,
          0,
          0,
          0,
          0,
          0,
          0,
          0,
          0,
          0,
          0,
          0,
          0,
          0,
          0,
          0,
          0,
          0,
          0,
          0,
          0,
          0,
          0,
          0,
          0
         ]
        }
       ],
       "layout": {
        "legend": {
         "bgcolor": "#F5F6F9",
         "font": {
          "color": "#4D5663"
         }
        },
        "paper_bgcolor": "#F5F6F9",
        "plot_bgcolor": "#F5F6F9",
        "template": {
         "data": {
          "bar": [
           {
            "error_x": {
             "color": "#2a3f5f"
            },
            "error_y": {
             "color": "#2a3f5f"
            },
            "marker": {
             "line": {
              "color": "#E5ECF6",
              "width": 0.5
             },
             "pattern": {
              "fillmode": "overlay",
              "size": 10,
              "solidity": 0.2
             }
            },
            "type": "bar"
           }
          ],
          "barpolar": [
           {
            "marker": {
             "line": {
              "color": "#E5ECF6",
              "width": 0.5
             },
             "pattern": {
              "fillmode": "overlay",
              "size": 10,
              "solidity": 0.2
             }
            },
            "type": "barpolar"
           }
          ],
          "carpet": [
           {
            "aaxis": {
             "endlinecolor": "#2a3f5f",
             "gridcolor": "white",
             "linecolor": "white",
             "minorgridcolor": "white",
             "startlinecolor": "#2a3f5f"
            },
            "baxis": {
             "endlinecolor": "#2a3f5f",
             "gridcolor": "white",
             "linecolor": "white",
             "minorgridcolor": "white",
             "startlinecolor": "#2a3f5f"
            },
            "type": "carpet"
           }
          ],
          "choropleth": [
           {
            "colorbar": {
             "outlinewidth": 0,
             "ticks": ""
            },
            "type": "choropleth"
           }
          ],
          "contour": [
           {
            "colorbar": {
             "outlinewidth": 0,
             "ticks": ""
            },
            "colorscale": [
             [
              0,
              "#0d0887"
             ],
             [
              0.1111111111111111,
              "#46039f"
             ],
             [
              0.2222222222222222,
              "#7201a8"
             ],
             [
              0.3333333333333333,
              "#9c179e"
             ],
             [
              0.4444444444444444,
              "#bd3786"
             ],
             [
              0.5555555555555556,
              "#d8576b"
             ],
             [
              0.6666666666666666,
              "#ed7953"
             ],
             [
              0.7777777777777778,
              "#fb9f3a"
             ],
             [
              0.8888888888888888,
              "#fdca26"
             ],
             [
              1,
              "#f0f921"
             ]
            ],
            "type": "contour"
           }
          ],
          "contourcarpet": [
           {
            "colorbar": {
             "outlinewidth": 0,
             "ticks": ""
            },
            "type": "contourcarpet"
           }
          ],
          "heatmap": [
           {
            "colorbar": {
             "outlinewidth": 0,
             "ticks": ""
            },
            "colorscale": [
             [
              0,
              "#0d0887"
             ],
             [
              0.1111111111111111,
              "#46039f"
             ],
             [
              0.2222222222222222,
              "#7201a8"
             ],
             [
              0.3333333333333333,
              "#9c179e"
             ],
             [
              0.4444444444444444,
              "#bd3786"
             ],
             [
              0.5555555555555556,
              "#d8576b"
             ],
             [
              0.6666666666666666,
              "#ed7953"
             ],
             [
              0.7777777777777778,
              "#fb9f3a"
             ],
             [
              0.8888888888888888,
              "#fdca26"
             ],
             [
              1,
              "#f0f921"
             ]
            ],
            "type": "heatmap"
           }
          ],
          "heatmapgl": [
           {
            "colorbar": {
             "outlinewidth": 0,
             "ticks": ""
            },
            "colorscale": [
             [
              0,
              "#0d0887"
             ],
             [
              0.1111111111111111,
              "#46039f"
             ],
             [
              0.2222222222222222,
              "#7201a8"
             ],
             [
              0.3333333333333333,
              "#9c179e"
             ],
             [
              0.4444444444444444,
              "#bd3786"
             ],
             [
              0.5555555555555556,
              "#d8576b"
             ],
             [
              0.6666666666666666,
              "#ed7953"
             ],
             [
              0.7777777777777778,
              "#fb9f3a"
             ],
             [
              0.8888888888888888,
              "#fdca26"
             ],
             [
              1,
              "#f0f921"
             ]
            ],
            "type": "heatmapgl"
           }
          ],
          "histogram": [
           {
            "marker": {
             "pattern": {
              "fillmode": "overlay",
              "size": 10,
              "solidity": 0.2
             }
            },
            "type": "histogram"
           }
          ],
          "histogram2d": [
           {
            "colorbar": {
             "outlinewidth": 0,
             "ticks": ""
            },
            "colorscale": [
             [
              0,
              "#0d0887"
             ],
             [
              0.1111111111111111,
              "#46039f"
             ],
             [
              0.2222222222222222,
              "#7201a8"
             ],
             [
              0.3333333333333333,
              "#9c179e"
             ],
             [
              0.4444444444444444,
              "#bd3786"
             ],
             [
              0.5555555555555556,
              "#d8576b"
             ],
             [
              0.6666666666666666,
              "#ed7953"
             ],
             [
              0.7777777777777778,
              "#fb9f3a"
             ],
             [
              0.8888888888888888,
              "#fdca26"
             ],
             [
              1,
              "#f0f921"
             ]
            ],
            "type": "histogram2d"
           }
          ],
          "histogram2dcontour": [
           {
            "colorbar": {
             "outlinewidth": 0,
             "ticks": ""
            },
            "colorscale": [
             [
              0,
              "#0d0887"
             ],
             [
              0.1111111111111111,
              "#46039f"
             ],
             [
              0.2222222222222222,
              "#7201a8"
             ],
             [
              0.3333333333333333,
              "#9c179e"
             ],
             [
              0.4444444444444444,
              "#bd3786"
             ],
             [
              0.5555555555555556,
              "#d8576b"
             ],
             [
              0.6666666666666666,
              "#ed7953"
             ],
             [
              0.7777777777777778,
              "#fb9f3a"
             ],
             [
              0.8888888888888888,
              "#fdca26"
             ],
             [
              1,
              "#f0f921"
             ]
            ],
            "type": "histogram2dcontour"
           }
          ],
          "mesh3d": [
           {
            "colorbar": {
             "outlinewidth": 0,
             "ticks": ""
            },
            "type": "mesh3d"
           }
          ],
          "parcoords": [
           {
            "line": {
             "colorbar": {
              "outlinewidth": 0,
              "ticks": ""
             }
            },
            "type": "parcoords"
           }
          ],
          "pie": [
           {
            "automargin": true,
            "type": "pie"
           }
          ],
          "scatter": [
           {
            "marker": {
             "colorbar": {
              "outlinewidth": 0,
              "ticks": ""
             }
            },
            "type": "scatter"
           }
          ],
          "scatter3d": [
           {
            "line": {
             "colorbar": {
              "outlinewidth": 0,
              "ticks": ""
             }
            },
            "marker": {
             "colorbar": {
              "outlinewidth": 0,
              "ticks": ""
             }
            },
            "type": "scatter3d"
           }
          ],
          "scattercarpet": [
           {
            "marker": {
             "colorbar": {
              "outlinewidth": 0,
              "ticks": ""
             }
            },
            "type": "scattercarpet"
           }
          ],
          "scattergeo": [
           {
            "marker": {
             "colorbar": {
              "outlinewidth": 0,
              "ticks": ""
             }
            },
            "type": "scattergeo"
           }
          ],
          "scattergl": [
           {
            "marker": {
             "colorbar": {
              "outlinewidth": 0,
              "ticks": ""
             }
            },
            "type": "scattergl"
           }
          ],
          "scattermapbox": [
           {
            "marker": {
             "colorbar": {
              "outlinewidth": 0,
              "ticks": ""
             }
            },
            "type": "scattermapbox"
           }
          ],
          "scatterpolar": [
           {
            "marker": {
             "colorbar": {
              "outlinewidth": 0,
              "ticks": ""
             }
            },
            "type": "scatterpolar"
           }
          ],
          "scatterpolargl": [
           {
            "marker": {
             "colorbar": {
              "outlinewidth": 0,
              "ticks": ""
             }
            },
            "type": "scatterpolargl"
           }
          ],
          "scatterternary": [
           {
            "marker": {
             "colorbar": {
              "outlinewidth": 0,
              "ticks": ""
             }
            },
            "type": "scatterternary"
           }
          ],
          "surface": [
           {
            "colorbar": {
             "outlinewidth": 0,
             "ticks": ""
            },
            "colorscale": [
             [
              0,
              "#0d0887"
             ],
             [
              0.1111111111111111,
              "#46039f"
             ],
             [
              0.2222222222222222,
              "#7201a8"
             ],
             [
              0.3333333333333333,
              "#9c179e"
             ],
             [
              0.4444444444444444,
              "#bd3786"
             ],
             [
              0.5555555555555556,
              "#d8576b"
             ],
             [
              0.6666666666666666,
              "#ed7953"
             ],
             [
              0.7777777777777778,
              "#fb9f3a"
             ],
             [
              0.8888888888888888,
              "#fdca26"
             ],
             [
              1,
              "#f0f921"
             ]
            ],
            "type": "surface"
           }
          ],
          "table": [
           {
            "cells": {
             "fill": {
              "color": "#EBF0F8"
             },
             "line": {
              "color": "white"
             }
            },
            "header": {
             "fill": {
              "color": "#C8D4E3"
             },
             "line": {
              "color": "white"
             }
            },
            "type": "table"
           }
          ]
         },
         "layout": {
          "annotationdefaults": {
           "arrowcolor": "#2a3f5f",
           "arrowhead": 0,
           "arrowwidth": 1
          },
          "autotypenumbers": "strict",
          "coloraxis": {
           "colorbar": {
            "outlinewidth": 0,
            "ticks": ""
           }
          },
          "colorscale": {
           "diverging": [
            [
             0,
             "#8e0152"
            ],
            [
             0.1,
             "#c51b7d"
            ],
            [
             0.2,
             "#de77ae"
            ],
            [
             0.3,
             "#f1b6da"
            ],
            [
             0.4,
             "#fde0ef"
            ],
            [
             0.5,
             "#f7f7f7"
            ],
            [
             0.6,
             "#e6f5d0"
            ],
            [
             0.7,
             "#b8e186"
            ],
            [
             0.8,
             "#7fbc41"
            ],
            [
             0.9,
             "#4d9221"
            ],
            [
             1,
             "#276419"
            ]
           ],
           "sequential": [
            [
             0,
             "#0d0887"
            ],
            [
             0.1111111111111111,
             "#46039f"
            ],
            [
             0.2222222222222222,
             "#7201a8"
            ],
            [
             0.3333333333333333,
             "#9c179e"
            ],
            [
             0.4444444444444444,
             "#bd3786"
            ],
            [
             0.5555555555555556,
             "#d8576b"
            ],
            [
             0.6666666666666666,
             "#ed7953"
            ],
            [
             0.7777777777777778,
             "#fb9f3a"
            ],
            [
             0.8888888888888888,
             "#fdca26"
            ],
            [
             1,
             "#f0f921"
            ]
           ],
           "sequentialminus": [
            [
             0,
             "#0d0887"
            ],
            [
             0.1111111111111111,
             "#46039f"
            ],
            [
             0.2222222222222222,
             "#7201a8"
            ],
            [
             0.3333333333333333,
             "#9c179e"
            ],
            [
             0.4444444444444444,
             "#bd3786"
            ],
            [
             0.5555555555555556,
             "#d8576b"
            ],
            [
             0.6666666666666666,
             "#ed7953"
            ],
            [
             0.7777777777777778,
             "#fb9f3a"
            ],
            [
             0.8888888888888888,
             "#fdca26"
            ],
            [
             1,
             "#f0f921"
            ]
           ]
          },
          "colorway": [
           "#636efa",
           "#EF553B",
           "#00cc96",
           "#ab63fa",
           "#FFA15A",
           "#19d3f3",
           "#FF6692",
           "#B6E880",
           "#FF97FF",
           "#FECB52"
          ],
          "font": {
           "color": "#2a3f5f"
          },
          "geo": {
           "bgcolor": "white",
           "lakecolor": "white",
           "landcolor": "#E5ECF6",
           "showlakes": true,
           "showland": true,
           "subunitcolor": "white"
          },
          "hoverlabel": {
           "align": "left"
          },
          "hovermode": "closest",
          "mapbox": {
           "style": "light"
          },
          "paper_bgcolor": "white",
          "plot_bgcolor": "#E5ECF6",
          "polar": {
           "angularaxis": {
            "gridcolor": "white",
            "linecolor": "white",
            "ticks": ""
           },
           "bgcolor": "#E5ECF6",
           "radialaxis": {
            "gridcolor": "white",
            "linecolor": "white",
            "ticks": ""
           }
          },
          "scene": {
           "xaxis": {
            "backgroundcolor": "#E5ECF6",
            "gridcolor": "white",
            "gridwidth": 2,
            "linecolor": "white",
            "showbackground": true,
            "ticks": "",
            "zerolinecolor": "white"
           },
           "yaxis": {
            "backgroundcolor": "#E5ECF6",
            "gridcolor": "white",
            "gridwidth": 2,
            "linecolor": "white",
            "showbackground": true,
            "ticks": "",
            "zerolinecolor": "white"
           },
           "zaxis": {
            "backgroundcolor": "#E5ECF6",
            "gridcolor": "white",
            "gridwidth": 2,
            "linecolor": "white",
            "showbackground": true,
            "ticks": "",
            "zerolinecolor": "white"
           }
          },
          "shapedefaults": {
           "line": {
            "color": "#2a3f5f"
           }
          },
          "ternary": {
           "aaxis": {
            "gridcolor": "white",
            "linecolor": "white",
            "ticks": ""
           },
           "baxis": {
            "gridcolor": "white",
            "linecolor": "white",
            "ticks": ""
           },
           "bgcolor": "#E5ECF6",
           "caxis": {
            "gridcolor": "white",
            "linecolor": "white",
            "ticks": ""
           }
          },
          "title": {
           "x": 0.05
          },
          "xaxis": {
           "automargin": true,
           "gridcolor": "white",
           "linecolor": "white",
           "ticks": "",
           "title": {
            "standoff": 15
           },
           "zerolinecolor": "white",
           "zerolinewidth": 2
          },
          "yaxis": {
           "automargin": true,
           "gridcolor": "white",
           "linecolor": "white",
           "ticks": "",
           "title": {
            "standoff": 15
           },
           "zerolinecolor": "white",
           "zerolinewidth": 2
          }
         }
        },
        "title": {
         "font": {
          "color": "#4D5663"
         }
        },
        "xaxis": {
         "gridcolor": "#E1E5ED",
         "showgrid": true,
         "tickfont": {
          "color": "#4D5663"
         },
         "title": {
          "font": {
           "color": "#4D5663"
          },
          "text": ""
         },
         "zerolinecolor": "#E1E5ED"
        },
        "yaxis": {
         "gridcolor": "#E1E5ED",
         "showgrid": true,
         "tickfont": {
          "color": "#4D5663"
         },
         "title": {
          "font": {
           "color": "#4D5663"
          },
          "text": ""
         },
         "zerolinecolor": "#E1E5ED"
        }
       }
      },
      "text/html": [
       "<div>                            <div id=\"55cc31d1-51b8-4a13-b47d-75e3b58c7989\" class=\"plotly-graph-div\" style=\"height:525px; width:100%;\"></div>            <script type=\"text/javascript\">                require([\"plotly\"], function(Plotly) {                    window.PLOTLYENV=window.PLOTLYENV || {};\n",
       "                    window.PLOTLYENV.BASE_URL='https://plot.ly';                                    if (document.getElementById(\"55cc31d1-51b8-4a13-b47d-75e3b58c7989\")) {                    Plotly.newPlot(                        \"55cc31d1-51b8-4a13-b47d-75e3b58c7989\",                        [{\"line\":{\"color\":\"rgba(255, 153, 51, 1.0)\",\"dash\":\"solid\",\"shape\":\"linear\",\"width\":1.3},\"mode\":\"lines\",\"name\":\"new_quantity\",\"text\":\"\",\"x\":[\"United States\",\"China\",\"France\",\"Canada\",\"Japan\",\"Brazil\",\"Russian Federation\",\"Germany\",\"Sweden\",\"Korea, Republic of\",\"Norway\",\"India\",\"Spain\",\"United Kingdom\",\"Ukraine\",\"Venezuela (Bolivar. Rep.)\",\"Switzerland\",\"Italy\",\"Paraguay\",\"Belgium\",\"Other Asia\",\"Mexico\",\"Turkey\",\"Austria\",\"Colombia\",\"Argentina\",\"Finland\",\"New Zealand\",\"Pakistan\",\"Czechia\",\"Viet Nam\",\"Romania\",\"Chile\",\"Bulgaria\",\"Slovakia\",\"Australia\",\"Indonesia\",\"Peru\",\"Philippines\",\"South Africa\",\"Tajikistan\",\"Portugal\",\"Hungary\",\"Egypt\",\"Kyrgyzstan\",\"Korea, Dem.Ppl's.Rep.\",\"Serbia and Montenegro\",\"Mozambique\",\"Serbia\",\"Iceland\",\"Iran (Islamic Rep. of)\",\"Lithuania\",\"Zambia\",\"Slovenia\",\"Ecuador\",\"Uzbekistan\",\"Sudan\",\"Kazakhstan\",\"Costa Rica\",\"Malaysia\",\"Uruguay\",\"Croatia\",\"Georgia\",\"Dem. Rep. of the Congo\",\"Thailand\",\"Greece\",\"Netherlands\",\"Ghana\",\"Nigeria\",\"Denmark\",\"Bosnia and Herzegovina\",\"Albania\",\"Poland\",\"Zimbabwe\",\"Bhutan\",\"Kenya\",\"Sri Lanka\",\"Armenia\",\"Cameroon\",\"Myanmar\",\"Panama\",\"Ethiopia\",\"Guatemala\",\"Lao People's Dem. Rep.\",\"Syrian Arab Republic\",\"Latvia\",\"El Salvador\",\"Ireland\",\"Honduras\",\"Iraq\",\"Nepal\",\"Angola\",\"United Rep. of Tanzania\",\"Azerbaijan\",\"Morocco\",\"Bolivia (Plur. State of)\",\"Sudan (former)\",\"Montenegro\",\"C\\u00f4te d'Ivoire\",\"Uganda\",\"Dominican Republic\",\"Malawi\",\"Namibia\",\"T.F.Yug.Rep. Macedonia\",\"Papua New Guinea\",\"Luxembourg\",\"Suriname\",\"Bangladesh\",\"Gabon\",\"Nicaragua\",\"Lebanon\",\"Afghanistan\",\"Madagascar\",\"R\\u00e9union\",\"Mali\",\"Lesotho\",\"Congo\",\"Guinea\",\"Fiji\",\"New Caledonia\",\"French Guiana\",\"Algeria\",\"Haiti\",\"Swaziland\",\"Cambodia\",\"Greenland\",\"French Polynesia\",\"Jamaica\",\"Togo\",\"Puerto Rico\",\"Tunisia\",\"Estonia\",\"Belize\",\"Israel\",\"Republic of Moldova\",\"Rwanda\",\"Burundi\",\"Central African Rep.\",\"Cuba\",\"Faeroe Islands\",\"Mauritius\",\"Burkina Faso\",\"Guadeloupe\",\"Andorra\",\"Liechtenstein\",\"Equatorial Guinea\",\"Jordan\",\"Sierra Leone\",\"Cyprus\",\"Belarus\",\"Samoa\",\"Cura\\u00e7ao\",\"Aruba\",\"Dominica\",\"Martinique\",\"St. Vincent-Grenadines\",\"Cabo Verde\",\"Mauritania\",\"Malta\",\"Sao Tome and Principe\",\"Vanuatu\",\"Mayotte\",\"Isle of Man\",\"Turkmenistan\",\"South Sudan\",\"St. Kitts-Nevis\",\"Falkland Is. (Malvinas)\",\"Eritrea\",\"Senegal\",\"Guyana\",\"Micronesia (Fed. States of)\",\"Bonaire, St Eustatius, Saba\",\"Seychelles\",\"Benin\",\"St. Pierre-Miquelon\",\"Brunei Darussalam\",\"United States Virgin Is.\",\"Maldives\",\"St. Helena and Depend.\",\"Botswana\",\"Tonga\",\"American Samoa\",\"Saudi Arabia\",\"Marshall Islands\",\"Nauru\",\"Niue\",\"Niger\",\"Timor-Leste\",\"Bermuda\",\"Mongolia\",\"Libya\",\"Trinidad and Tobago\",\"Liberia\",\"Jersey\",\"Turks and Caicos Islands\",\"Tuvalu\",\"Barbados\",\"Bahrain\",\"Bahamas\",\"Antigua and Barbuda\",\"Anguilla\",\"Wallis and Futuna Is.\",\"Yemen\",\"United Arab Emirates\",\"Chad\",\"British Virgin Islands\",\"Cook Islands\",\"Montserrat\",\"Guam\",\"Grenada\",\"Gibraltar\",\"Neth. Antilles (former)\",\"Gambia\",\"Northern Mariana Islands\",\"Oman\",\"Palau\",\"Djibouti\",\"Qatar\",\"Guinea-Bissau\",\"State of Palestine\",\"Kuwait\",\"Comoros\",\"China, Macao SAR\",\"Singapore\",\"Sint Maarten (Dutch part)\",\"China, Hong Kong SAR\",\"Guernsey\",\"Solomon Islands\",\"Somalia\",\"Cayman Islands\",\"St. Lucia\",\"Kiribati\"],\"y\":[4073798428.571429,2662482280.952381,546508666.6666666,602727190.4761904,1055113380.9523809,406001619.04761904,946786952.3809524,597286333.3333334,149793523.80952382,364341476.1904762,126304333.33333333,725987666.6666666,252758619.04761904,371577000.0,184982761.9047619,99962811.42857143,66507904.76190476,283327095.2380952,51528029.52380952,83217857.14285715,208248666.66666666,233581809.52380952,159703380.95238096,63062000.0,53319932.85714286,101721293.8095238,73569142.85714285,40984904.76190476,80631714.28571428,77393904.76190476,58010904.76190476,58230333.333333336,49760523.809523806,43536142.85714286,28707857.14285714,222251714.2857143,128770341.42857143,27068699.333333332,53214371.14285714,231669666.66666666,15954761.904761905,44793809.52380952,35421571.428571425,106250809.52380952,14384619.047619049,20581714.285714287,36246272.72727273,11005000.0,37264200.0,10816476.19047619,169480733.33333334,12604571.42857143,9364285.714285715,14793428.57142857,14581861.904761905,49315190.47619048,10497666.666666666,70738571.42857143,7789061.761904762,90514682.85714285,8663109.523809524,12281666.666666666,8341428.571428572,6747047.619047619,126290152.38095239,54238761.9047619,97843142.85714285,8134666.666666667,21085190.476190478,39088761.9047619,11814761.904761905,4957370.0,151331428.57142857,8260071.428571428,4058914.761904762,5948157.142857143,8375432.285714285,6260904.761904762,4479190.476190476,6636086.666666667,5897004.761904762,3553523.8095238097,6968719.047619048,3361765.076190476,29339047.61904762,4888285.714285715,4805571.428571428,24694619.04761905,5144285.714285715,37585190.47619048,2302411.904761905,3279571.4285714286,3529142.8571428573,20189142.85714286,18369619.04761905,5122961.904761905,3708111.111111111,3043500.0,5254123.80952381,1878964.2857142857,12129336.19047619,1504721.9047619049,1409523.8095238095,6503815.761904762,2945619.0476190476,2825619.0476190476,1573933.3333333333,27211333.333333332,1619142.857142857,2883238.095238095,11855238.095238095,826219.0476190476,1090154.9476190475,2121137.1428571427,1045131.9047619047,456400.0,632952.380952381,877113.8095238095,742773.9523809524,1849794.2857142857,660714.2857142857,34906619.047619045,656095.2380952381,479249.04761904763,911000.0,375780.1095238095,579812.6666666666,5767747.619047619,281857.14285714284,22158171.42857143,12669415.238095239,10189190.476190476,224269.2961904762,47545333.333333336,2186190.476190476,202805.90476190476,121201.95238095238,137571.42857142858,15944980.952380951,241070.95238095237,2096852.380952381,480565.28571428574,1472714.2857142857,93619.04761904762,72200.0,142204.7619047619,10499828.57142857,130294.42857142857,3971904.761904762,29318952.38095238,103961.90476190476,904000.0,824085.7142857143,80737.14285714286,1419952.0952380951,115114.28571428571,225302.85714285713,540624.1428571428,2039904.761904762,39376.19047619047,51321.42857142857,151982.38095238095,392669.23076923075,13114761.904761905,468333.3333333333,172671.42857142858,15761.904761904761,265619.04761904763,2001380.9523809524,802248.5714285715,80421.90476190476,121533.33333333333,233208.57142857142,112952.38095238095,43719.52380952381,3148428.5714285714,985798.3333333334,178676.52380952382,7965.238095238095,925133.3333333334,43744.47619047619,166032.66666666666,174847333.33333334,87819.04761904762,27188.285714285714,3057.2539714285717,231855.95238095237,132048.07692307694,645057.1428571428,3850957.1428571427,22135619.04761905,6724666.666666667,249238.09523809524,141690.47619047618,131138.09523809524,3764.7619047619046,891627.619047619,13282285.714285715,1795209.5238095238,223419.04761904763,63657.142857142855,19259.428571428572,4837476.19047619,61983761.9047619,136666.66666666666,99047.61904761905,27542.85714285714,19628.571428571428,1836290.4761904762,152320.95238095237,143952.38095238095,1162722.2222222222,173661.90476190476,390309.5238095238,13880285.714285715,97319.04761904762,269904.7619047619,17187809.523809522,32587.0,283580.95238095237,42599809.52380952,39466.666666666664,1355047.619047619,36242549.047619045,409766.6666666667,34824666.666666664,121138.46153846153,73947.61904761905,297428.5714285714,494323.3333333333,303123.6666666667,17661.904761904763],\"type\":\"scatter\"},{\"line\":{\"color\":\"rgba(55, 128, 191, 1.0)\",\"dash\":\"solid\",\"shape\":\"linear\",\"width\":1.3},\"mode\":\"lines\",\"name\":\"renewable\",\"text\":\"\",\"x\":[\"United States\",\"China\",\"France\",\"Canada\",\"Japan\",\"Brazil\",\"Russian Federation\",\"Germany\",\"Sweden\",\"Korea, Republic of\",\"Norway\",\"India\",\"Spain\",\"United Kingdom\",\"Ukraine\",\"Venezuela (Bolivar. Rep.)\",\"Switzerland\",\"Italy\",\"Paraguay\",\"Belgium\",\"Other Asia\",\"Mexico\",\"Turkey\",\"Austria\",\"Colombia\",\"Argentina\",\"Finland\",\"New Zealand\",\"Pakistan\",\"Czechia\",\"Viet Nam\",\"Romania\",\"Chile\",\"Bulgaria\",\"Slovakia\",\"Australia\",\"Indonesia\",\"Peru\",\"Philippines\",\"South Africa\",\"Tajikistan\",\"Portugal\",\"Hungary\",\"Egypt\",\"Kyrgyzstan\",\"Korea, Dem.Ppl's.Rep.\",\"Serbia and Montenegro\",\"Mozambique\",\"Serbia\",\"Iceland\",\"Iran (Islamic Rep. of)\",\"Lithuania\",\"Zambia\",\"Slovenia\",\"Ecuador\",\"Uzbekistan\",\"Sudan\",\"Kazakhstan\",\"Costa Rica\",\"Malaysia\",\"Uruguay\",\"Croatia\",\"Georgia\",\"Dem. Rep. of the Congo\",\"Thailand\",\"Greece\",\"Netherlands\",\"Ghana\",\"Nigeria\",\"Denmark\",\"Bosnia and Herzegovina\",\"Albania\",\"Poland\",\"Zimbabwe\",\"Bhutan\",\"Kenya\",\"Sri Lanka\",\"Armenia\",\"Cameroon\",\"Myanmar\",\"Panama\",\"Ethiopia\",\"Guatemala\",\"Lao People's Dem. Rep.\",\"Syrian Arab Republic\",\"Latvia\",\"El Salvador\",\"Ireland\",\"Honduras\",\"Iraq\",\"Nepal\",\"Angola\",\"United Rep. of Tanzania\",\"Azerbaijan\",\"Morocco\",\"Bolivia (Plur. State of)\",\"Sudan (former)\",\"Montenegro\",\"C\\u00f4te d'Ivoire\",\"Uganda\",\"Dominican Republic\",\"Malawi\",\"Namibia\",\"T.F.Yug.Rep. Macedonia\",\"Papua New Guinea\",\"Luxembourg\",\"Suriname\",\"Bangladesh\",\"Gabon\",\"Nicaragua\",\"Lebanon\",\"Afghanistan\",\"Madagascar\",\"R\\u00e9union\",\"Mali\",\"Lesotho\",\"Congo\",\"Guinea\",\"Fiji\",\"New Caledonia\",\"French Guiana\",\"Algeria\",\"Haiti\",\"Swaziland\",\"Cambodia\",\"Greenland\",\"French Polynesia\",\"Jamaica\",\"Togo\",\"Puerto Rico\",\"Tunisia\",\"Estonia\",\"Belize\",\"Israel\",\"Republic of Moldova\",\"Rwanda\",\"Burundi\",\"Central African Rep.\",\"Cuba\",\"Faeroe Islands\",\"Mauritius\",\"Burkina Faso\",\"Guadeloupe\",\"Andorra\",\"Liechtenstein\",\"Equatorial Guinea\",\"Jordan\",\"Sierra Leone\",\"Cyprus\",\"Belarus\",\"Samoa\",\"Cura\\u00e7ao\",\"Aruba\",\"Dominica\",\"Martinique\",\"St. Vincent-Grenadines\",\"Cabo Verde\",\"Mauritania\",\"Malta\",\"Sao Tome and Principe\",\"Vanuatu\",\"Mayotte\",\"Isle of Man\",\"Turkmenistan\",\"South Sudan\",\"St. Kitts-Nevis\",\"Falkland Is. (Malvinas)\",\"Eritrea\",\"Senegal\",\"Guyana\",\"Micronesia (Fed. States of)\",\"Bonaire, St Eustatius, Saba\",\"Seychelles\",\"Benin\",\"St. Pierre-Miquelon\",\"Brunei Darussalam\",\"United States Virgin Is.\",\"Maldives\",\"St. Helena and Depend.\",\"Botswana\",\"Tonga\",\"American Samoa\",\"Saudi Arabia\",\"Marshall Islands\",\"Nauru\",\"Niue\",\"Niger\",\"Timor-Leste\",\"Bermuda\",\"Mongolia\",\"Libya\",\"Trinidad and Tobago\",\"Liberia\",\"Jersey\",\"Turks and Caicos Islands\",\"Tuvalu\",\"Barbados\",\"Bahrain\",\"Bahamas\",\"Antigua and Barbuda\",\"Anguilla\",\"Wallis and Futuna Is.\",\"Yemen\",\"United Arab Emirates\",\"Chad\",\"British Virgin Islands\",\"Cook Islands\",\"Montserrat\",\"Guam\",\"Grenada\",\"Gibraltar\",\"Neth. Antilles (former)\",\"Gambia\",\"Northern Mariana Islands\",\"Oman\",\"Palau\",\"Djibouti\",\"Qatar\",\"Guinea-Bissau\",\"State of Palestine\",\"Kuwait\",\"Comoros\",\"China, Macao SAR\",\"Singapore\",\"Sint Maarten (Dutch part)\",\"China, Hong Kong SAR\",\"Guernsey\",\"Solomon Islands\",\"Somalia\",\"Cayman Islands\",\"St. Lucia\",\"Kiribati\"],\"y\":[1155138904.7619047,521588285.71428573,493432761.9047619,450238428.5714286,343130952.38095236,342405095.2380952,313345428.5714286,204951761.9047619,136638714.2857143,128511523.8095238,124436476.1904762,124243190.47619048,116112333.33333333,94461428.57142857,94146190.47619048,70265095.23809524,63455095.23809524,61213809.52380952,51509730.952380955,48189285.71428572,47820380.952380955,45811476.190476194,42138285.71428572,41609428.571428575,38631932.85714286,38569912.85714286,35789000.0,28793476.19047619,28140952.38095238,24813380.95238095,24516809.523809522,24124619.04761905,21135714.285714287,20831619.04761905,19814571.42857143,18867714.285714287,18182770.0,17995430.904761903,17657803.57619048,16457190.476190476,15740000.0,15250095.238095239,14677714.285714285,13840142.857142856,12412857.142857144,12378095.238095239,11709363.636363637,10857285.714285715,10849100.0,10811809.523809524,10475791.42857143,9765333.333333334,9309714.285714285,9303523.80952381,8253885.714285715,8205095.238095238,7949666.666666667,7737619.047619048,7199255.455438571,7045419.285714285,6981466.666666667,6788095.238095238,6747333.333333333,6711952.380952381,6681485.714285715,6617380.952380952,6482190.476190476,6176285.714285715,6119095.238095238,5916571.428571428,5227904.761904762,4868653.80952381,4742380.952380952,4202366.666666667,4058269.0476190476,4053671.4285714286,4034753.285714286,3974190.476190476,3730238.095238095,3693406.6666666665,3554319.0476190476,3480809.523809524,3130071.4285714286,3104527.0142857144,3007523.8095238097,2991904.761904762,2675476.1904761903,2627904.761904762,2381809.523809524,2307857.1428571427,2271142.8571428573,2214809.523809524,2128952.380952381,2064000.0,2015047.619047619,2012485.7142857143,1859888.888888889,1817200.0,1719095.238095238,1552935.7142857143,1486041.4285714286,1317399.5238095238,1310380.9523809524,1195811.9523809524,1111619.0476190476,1017904.7619047619,960114.2857142857,889857.1428571428,854333.3333333334,814714.2857142857,756333.3333333334,628100.0,616343.0809523809,602889.5238095238,527277.1428571428,456400.0,453714.28571428574,437619.04761904763,427298.95238095237,383456.1904761905,373714.28571428574,234761.90476190476,229285.7142857143,209255.2380952381,199809.52380952382,184568.98571428572,176207.14285714287,169819.04761904763,168861.90476190476,161371.42857142858,159653.33333333334,148380.95238095237,127593.49714285714,124857.14285714286,120380.95238095238,116962.85714285714,115398.57142857143,113238.09523809524,102685.71428571429,96270.42857142857,95457.14285714286,93827.28571428571,91142.85714285714,87776.19047619047,68525.0,50857.142857142855,45590.47619047619,45181.57142857143,44095.23809523809,42904.76190476191,41419.04761904762,32000.0,30109.52380952381,29166.666666666668,28139.0,24372.380952380954,16927.14285714286,7047.619047619048,6714.285714285715,6609.523809523809,4204.761904761905,3349.0476190476193,3223.076923076923,3047.6190476190477,2000.0,1761.904761904762,1475.7142857142858,1285.7142857142858,1285.7142857142858,1190.4761904761904,914.2857142857143,733.3333333333334,702.3809523809524,666.6666666666666,611.9047619047619,380.95238095238096,375.42857142857144,358.57142857142856,310.0,219.04761904761904,216.57142857142858,157.14285714285714,142.85714285714286,28.571428571428573,26.38095238095238,15.873015952380952,1.6666666666666667,0.0,0.0,0.0,0.0,0.0,0.0,0.0,0.0,0.0,0.0,0.0,0.0,0.0,0.0,0.0,0.0,0.0,0.0,0.0,0.0,0.0,0.0,0.0,0.0,0.0,0.0,0.0,0.0,0.0,0.0,0.0,0.0,0.0,0.0,0.0,0.0,0.0,0.0,0.0,0.0,0.0,0.0,0.0,0.0,0.0],\"type\":\"scatter\"}],                        {\"legend\":{\"bgcolor\":\"#F5F6F9\",\"font\":{\"color\":\"#4D5663\"}},\"paper_bgcolor\":\"#F5F6F9\",\"plot_bgcolor\":\"#F5F6F9\",\"template\":{\"data\":{\"barpolar\":[{\"marker\":{\"line\":{\"color\":\"#E5ECF6\",\"width\":0.5},\"pattern\":{\"fillmode\":\"overlay\",\"size\":10,\"solidity\":0.2}},\"type\":\"barpolar\"}],\"bar\":[{\"error_x\":{\"color\":\"#2a3f5f\"},\"error_y\":{\"color\":\"#2a3f5f\"},\"marker\":{\"line\":{\"color\":\"#E5ECF6\",\"width\":0.5},\"pattern\":{\"fillmode\":\"overlay\",\"size\":10,\"solidity\":0.2}},\"type\":\"bar\"}],\"carpet\":[{\"aaxis\":{\"endlinecolor\":\"#2a3f5f\",\"gridcolor\":\"white\",\"linecolor\":\"white\",\"minorgridcolor\":\"white\",\"startlinecolor\":\"#2a3f5f\"},\"baxis\":{\"endlinecolor\":\"#2a3f5f\",\"gridcolor\":\"white\",\"linecolor\":\"white\",\"minorgridcolor\":\"white\",\"startlinecolor\":\"#2a3f5f\"},\"type\":\"carpet\"}],\"choropleth\":[{\"colorbar\":{\"outlinewidth\":0,\"ticks\":\"\"},\"type\":\"choropleth\"}],\"contourcarpet\":[{\"colorbar\":{\"outlinewidth\":0,\"ticks\":\"\"},\"type\":\"contourcarpet\"}],\"contour\":[{\"colorbar\":{\"outlinewidth\":0,\"ticks\":\"\"},\"colorscale\":[[0.0,\"#0d0887\"],[0.1111111111111111,\"#46039f\"],[0.2222222222222222,\"#7201a8\"],[0.3333333333333333,\"#9c179e\"],[0.4444444444444444,\"#bd3786\"],[0.5555555555555556,\"#d8576b\"],[0.6666666666666666,\"#ed7953\"],[0.7777777777777778,\"#fb9f3a\"],[0.8888888888888888,\"#fdca26\"],[1.0,\"#f0f921\"]],\"type\":\"contour\"}],\"heatmapgl\":[{\"colorbar\":{\"outlinewidth\":0,\"ticks\":\"\"},\"colorscale\":[[0.0,\"#0d0887\"],[0.1111111111111111,\"#46039f\"],[0.2222222222222222,\"#7201a8\"],[0.3333333333333333,\"#9c179e\"],[0.4444444444444444,\"#bd3786\"],[0.5555555555555556,\"#d8576b\"],[0.6666666666666666,\"#ed7953\"],[0.7777777777777778,\"#fb9f3a\"],[0.8888888888888888,\"#fdca26\"],[1.0,\"#f0f921\"]],\"type\":\"heatmapgl\"}],\"heatmap\":[{\"colorbar\":{\"outlinewidth\":0,\"ticks\":\"\"},\"colorscale\":[[0.0,\"#0d0887\"],[0.1111111111111111,\"#46039f\"],[0.2222222222222222,\"#7201a8\"],[0.3333333333333333,\"#9c179e\"],[0.4444444444444444,\"#bd3786\"],[0.5555555555555556,\"#d8576b\"],[0.6666666666666666,\"#ed7953\"],[0.7777777777777778,\"#fb9f3a\"],[0.8888888888888888,\"#fdca26\"],[1.0,\"#f0f921\"]],\"type\":\"heatmap\"}],\"histogram2dcontour\":[{\"colorbar\":{\"outlinewidth\":0,\"ticks\":\"\"},\"colorscale\":[[0.0,\"#0d0887\"],[0.1111111111111111,\"#46039f\"],[0.2222222222222222,\"#7201a8\"],[0.3333333333333333,\"#9c179e\"],[0.4444444444444444,\"#bd3786\"],[0.5555555555555556,\"#d8576b\"],[0.6666666666666666,\"#ed7953\"],[0.7777777777777778,\"#fb9f3a\"],[0.8888888888888888,\"#fdca26\"],[1.0,\"#f0f921\"]],\"type\":\"histogram2dcontour\"}],\"histogram2d\":[{\"colorbar\":{\"outlinewidth\":0,\"ticks\":\"\"},\"colorscale\":[[0.0,\"#0d0887\"],[0.1111111111111111,\"#46039f\"],[0.2222222222222222,\"#7201a8\"],[0.3333333333333333,\"#9c179e\"],[0.4444444444444444,\"#bd3786\"],[0.5555555555555556,\"#d8576b\"],[0.6666666666666666,\"#ed7953\"],[0.7777777777777778,\"#fb9f3a\"],[0.8888888888888888,\"#fdca26\"],[1.0,\"#f0f921\"]],\"type\":\"histogram2d\"}],\"histogram\":[{\"marker\":{\"pattern\":{\"fillmode\":\"overlay\",\"size\":10,\"solidity\":0.2}},\"type\":\"histogram\"}],\"mesh3d\":[{\"colorbar\":{\"outlinewidth\":0,\"ticks\":\"\"},\"type\":\"mesh3d\"}],\"parcoords\":[{\"line\":{\"colorbar\":{\"outlinewidth\":0,\"ticks\":\"\"}},\"type\":\"parcoords\"}],\"pie\":[{\"automargin\":true,\"type\":\"pie\"}],\"scatter3d\":[{\"line\":{\"colorbar\":{\"outlinewidth\":0,\"ticks\":\"\"}},\"marker\":{\"colorbar\":{\"outlinewidth\":0,\"ticks\":\"\"}},\"type\":\"scatter3d\"}],\"scattercarpet\":[{\"marker\":{\"colorbar\":{\"outlinewidth\":0,\"ticks\":\"\"}},\"type\":\"scattercarpet\"}],\"scattergeo\":[{\"marker\":{\"colorbar\":{\"outlinewidth\":0,\"ticks\":\"\"}},\"type\":\"scattergeo\"}],\"scattergl\":[{\"marker\":{\"colorbar\":{\"outlinewidth\":0,\"ticks\":\"\"}},\"type\":\"scattergl\"}],\"scattermapbox\":[{\"marker\":{\"colorbar\":{\"outlinewidth\":0,\"ticks\":\"\"}},\"type\":\"scattermapbox\"}],\"scatterpolargl\":[{\"marker\":{\"colorbar\":{\"outlinewidth\":0,\"ticks\":\"\"}},\"type\":\"scatterpolargl\"}],\"scatterpolar\":[{\"marker\":{\"colorbar\":{\"outlinewidth\":0,\"ticks\":\"\"}},\"type\":\"scatterpolar\"}],\"scatter\":[{\"marker\":{\"colorbar\":{\"outlinewidth\":0,\"ticks\":\"\"}},\"type\":\"scatter\"}],\"scatterternary\":[{\"marker\":{\"colorbar\":{\"outlinewidth\":0,\"ticks\":\"\"}},\"type\":\"scatterternary\"}],\"surface\":[{\"colorbar\":{\"outlinewidth\":0,\"ticks\":\"\"},\"colorscale\":[[0.0,\"#0d0887\"],[0.1111111111111111,\"#46039f\"],[0.2222222222222222,\"#7201a8\"],[0.3333333333333333,\"#9c179e\"],[0.4444444444444444,\"#bd3786\"],[0.5555555555555556,\"#d8576b\"],[0.6666666666666666,\"#ed7953\"],[0.7777777777777778,\"#fb9f3a\"],[0.8888888888888888,\"#fdca26\"],[1.0,\"#f0f921\"]],\"type\":\"surface\"}],\"table\":[{\"cells\":{\"fill\":{\"color\":\"#EBF0F8\"},\"line\":{\"color\":\"white\"}},\"header\":{\"fill\":{\"color\":\"#C8D4E3\"},\"line\":{\"color\":\"white\"}},\"type\":\"table\"}]},\"layout\":{\"annotationdefaults\":{\"arrowcolor\":\"#2a3f5f\",\"arrowhead\":0,\"arrowwidth\":1},\"autotypenumbers\":\"strict\",\"coloraxis\":{\"colorbar\":{\"outlinewidth\":0,\"ticks\":\"\"}},\"colorscale\":{\"diverging\":[[0,\"#8e0152\"],[0.1,\"#c51b7d\"],[0.2,\"#de77ae\"],[0.3,\"#f1b6da\"],[0.4,\"#fde0ef\"],[0.5,\"#f7f7f7\"],[0.6,\"#e6f5d0\"],[0.7,\"#b8e186\"],[0.8,\"#7fbc41\"],[0.9,\"#4d9221\"],[1,\"#276419\"]],\"sequential\":[[0.0,\"#0d0887\"],[0.1111111111111111,\"#46039f\"],[0.2222222222222222,\"#7201a8\"],[0.3333333333333333,\"#9c179e\"],[0.4444444444444444,\"#bd3786\"],[0.5555555555555556,\"#d8576b\"],[0.6666666666666666,\"#ed7953\"],[0.7777777777777778,\"#fb9f3a\"],[0.8888888888888888,\"#fdca26\"],[1.0,\"#f0f921\"]],\"sequentialminus\":[[0.0,\"#0d0887\"],[0.1111111111111111,\"#46039f\"],[0.2222222222222222,\"#7201a8\"],[0.3333333333333333,\"#9c179e\"],[0.4444444444444444,\"#bd3786\"],[0.5555555555555556,\"#d8576b\"],[0.6666666666666666,\"#ed7953\"],[0.7777777777777778,\"#fb9f3a\"],[0.8888888888888888,\"#fdca26\"],[1.0,\"#f0f921\"]]},\"colorway\":[\"#636efa\",\"#EF553B\",\"#00cc96\",\"#ab63fa\",\"#FFA15A\",\"#19d3f3\",\"#FF6692\",\"#B6E880\",\"#FF97FF\",\"#FECB52\"],\"font\":{\"color\":\"#2a3f5f\"},\"geo\":{\"bgcolor\":\"white\",\"lakecolor\":\"white\",\"landcolor\":\"#E5ECF6\",\"showlakes\":true,\"showland\":true,\"subunitcolor\":\"white\"},\"hoverlabel\":{\"align\":\"left\"},\"hovermode\":\"closest\",\"mapbox\":{\"style\":\"light\"},\"paper_bgcolor\":\"white\",\"plot_bgcolor\":\"#E5ECF6\",\"polar\":{\"angularaxis\":{\"gridcolor\":\"white\",\"linecolor\":\"white\",\"ticks\":\"\"},\"bgcolor\":\"#E5ECF6\",\"radialaxis\":{\"gridcolor\":\"white\",\"linecolor\":\"white\",\"ticks\":\"\"}},\"scene\":{\"xaxis\":{\"backgroundcolor\":\"#E5ECF6\",\"gridcolor\":\"white\",\"gridwidth\":2,\"linecolor\":\"white\",\"showbackground\":true,\"ticks\":\"\",\"zerolinecolor\":\"white\"},\"yaxis\":{\"backgroundcolor\":\"#E5ECF6\",\"gridcolor\":\"white\",\"gridwidth\":2,\"linecolor\":\"white\",\"showbackground\":true,\"ticks\":\"\",\"zerolinecolor\":\"white\"},\"zaxis\":{\"backgroundcolor\":\"#E5ECF6\",\"gridcolor\":\"white\",\"gridwidth\":2,\"linecolor\":\"white\",\"showbackground\":true,\"ticks\":\"\",\"zerolinecolor\":\"white\"}},\"shapedefaults\":{\"line\":{\"color\":\"#2a3f5f\"}},\"ternary\":{\"aaxis\":{\"gridcolor\":\"white\",\"linecolor\":\"white\",\"ticks\":\"\"},\"baxis\":{\"gridcolor\":\"white\",\"linecolor\":\"white\",\"ticks\":\"\"},\"bgcolor\":\"#E5ECF6\",\"caxis\":{\"gridcolor\":\"white\",\"linecolor\":\"white\",\"ticks\":\"\"}},\"title\":{\"x\":0.05},\"xaxis\":{\"automargin\":true,\"gridcolor\":\"white\",\"linecolor\":\"white\",\"ticks\":\"\",\"title\":{\"standoff\":15},\"zerolinecolor\":\"white\",\"zerolinewidth\":2},\"yaxis\":{\"automargin\":true,\"gridcolor\":\"white\",\"linecolor\":\"white\",\"ticks\":\"\",\"title\":{\"standoff\":15},\"zerolinecolor\":\"white\",\"zerolinewidth\":2}}},\"title\":{\"font\":{\"color\":\"#4D5663\"}},\"xaxis\":{\"gridcolor\":\"#E1E5ED\",\"showgrid\":true,\"tickfont\":{\"color\":\"#4D5663\"},\"title\":{\"font\":{\"color\":\"#4D5663\"},\"text\":\"\"},\"zerolinecolor\":\"#E1E5ED\"},\"yaxis\":{\"gridcolor\":\"#E1E5ED\",\"showgrid\":true,\"tickfont\":{\"color\":\"#4D5663\"},\"title\":{\"font\":{\"color\":\"#4D5663\"},\"text\":\"\"},\"zerolinecolor\":\"#E1E5ED\"}},                        {\"showLink\": true, \"linkText\": \"Export to plot.ly\", \"plotlyServerURL\": \"https://plot.ly\", \"responsive\": true}                    ).then(function(){\n",
       "                            \n",
       "var gd = document.getElementById('55cc31d1-51b8-4a13-b47d-75e3b58c7989');\n",
       "var x = new MutationObserver(function (mutations, observer) {{\n",
       "        var display = window.getComputedStyle(gd).display;\n",
       "        if (!display || display === 'none') {{\n",
       "            console.log([gd, 'removed!']);\n",
       "            Plotly.purge(gd);\n",
       "            observer.disconnect();\n",
       "        }}\n",
       "}});\n",
       "\n",
       "// Listen for the removal of the full notebook cells\n",
       "var notebookContainer = gd.closest('#notebook-container');\n",
       "if (notebookContainer) {{\n",
       "    x.observe(notebookContainer, {childList: true});\n",
       "}}\n",
       "\n",
       "// Listen for the clearing of the current output cell\n",
       "var outputEl = gd.closest('.output');\n",
       "if (outputEl) {{\n",
       "    x.observe(outputEl, {childList: true});\n",
       "}}\n",
       "\n",
       "                        })                };                });            </script>        </div>"
      ]
     },
     "metadata": {},
     "output_type": "display_data"
    }
   ],
   "source": [
    "#  ranking of all countries - electricity consumption renewable sources (20 years of production)\n",
    "rank_all_r = df.groupby(['country_or_area']).agg({'new_quantity':'mean','renewable':'mean'})\n",
    "rank_all_r.sort_values('renewable',ascending = False, inplace = True)\n",
    "rank_all_r.iplot();"
   ]
  },
  {
   "cell_type": "code",
   "execution_count": 13,
   "id": "31f0a20d",
   "metadata": {},
   "outputs": [
    {
     "data": {
      "text/html": [
       "<div>\n",
       "<style scoped>\n",
       "    .dataframe tbody tr th:only-of-type {\n",
       "        vertical-align: middle;\n",
       "    }\n",
       "\n",
       "    .dataframe tbody tr th {\n",
       "        vertical-align: top;\n",
       "    }\n",
       "\n",
       "    .dataframe thead th {\n",
       "        text-align: right;\n",
       "    }\n",
       "</style>\n",
       "<table border=\"1\" class=\"dataframe\">\n",
       "  <thead>\n",
       "    <tr style=\"text-align: right;\">\n",
       "      <th></th>\n",
       "      <th>new_quantity</th>\n",
       "      <th>non_renewable</th>\n",
       "      <th>renewable</th>\n",
       "    </tr>\n",
       "    <tr>\n",
       "      <th>country_or_area</th>\n",
       "      <th></th>\n",
       "      <th></th>\n",
       "      <th></th>\n",
       "    </tr>\n",
       "  </thead>\n",
       "  <tbody>\n",
       "    <tr>\n",
       "      <th>United States</th>\n",
       "      <td>85549767000.00</td>\n",
       "      <td>61291850000.00</td>\n",
       "      <td>24257917000.00</td>\n",
       "    </tr>\n",
       "    <tr>\n",
       "      <th>China</th>\n",
       "      <td>55912127900.00</td>\n",
       "      <td>44958773800.00</td>\n",
       "      <td>10953354000.00</td>\n",
       "    </tr>\n",
       "    <tr>\n",
       "      <th>Japan</th>\n",
       "      <td>22157381000.00</td>\n",
       "      <td>14951631000.00</td>\n",
       "      <td>7205750000.00</td>\n",
       "    </tr>\n",
       "    <tr>\n",
       "      <th>Russian Federation</th>\n",
       "      <td>19882526000.00</td>\n",
       "      <td>13302272000.00</td>\n",
       "      <td>6580254000.00</td>\n",
       "    </tr>\n",
       "    <tr>\n",
       "      <th>India</th>\n",
       "      <td>15245741000.00</td>\n",
       "      <td>12636634000.00</td>\n",
       "      <td>2609107000.00</td>\n",
       "    </tr>\n",
       "    <tr>\n",
       "      <th>Canada</th>\n",
       "      <td>12657271000.00</td>\n",
       "      <td>3202264000.00</td>\n",
       "      <td>9455007000.00</td>\n",
       "    </tr>\n",
       "    <tr>\n",
       "      <th>Germany</th>\n",
       "      <td>12543013000.00</td>\n",
       "      <td>8239026000.00</td>\n",
       "      <td>4303987000.00</td>\n",
       "    </tr>\n",
       "    <tr>\n",
       "      <th>France</th>\n",
       "      <td>11476682000.00</td>\n",
       "      <td>1114594000.00</td>\n",
       "      <td>10362088000.00</td>\n",
       "    </tr>\n",
       "    <tr>\n",
       "      <th>Brazil</th>\n",
       "      <td>8526034000.00</td>\n",
       "      <td>1335527000.00</td>\n",
       "      <td>7190507000.00</td>\n",
       "    </tr>\n",
       "    <tr>\n",
       "      <th>United Kingdom</th>\n",
       "      <td>7803117000.00</td>\n",
       "      <td>5819427000.00</td>\n",
       "      <td>1983690000.00</td>\n",
       "    </tr>\n",
       "    <tr>\n",
       "      <th>Korea, Republic of</th>\n",
       "      <td>7651171000.00</td>\n",
       "      <td>4952429000.00</td>\n",
       "      <td>2698742000.00</td>\n",
       "    </tr>\n",
       "    <tr>\n",
       "      <th>Italy</th>\n",
       "      <td>5949869000.00</td>\n",
       "      <td>4664379000.00</td>\n",
       "      <td>1285490000.00</td>\n",
       "    </tr>\n",
       "    <tr>\n",
       "      <th>Spain</th>\n",
       "      <td>5307931000.00</td>\n",
       "      <td>2869572000.00</td>\n",
       "      <td>2438359000.00</td>\n",
       "    </tr>\n",
       "    <tr>\n",
       "      <th>Mexico</th>\n",
       "      <td>4905218000.00</td>\n",
       "      <td>3943177000.00</td>\n",
       "      <td>962041000.00</td>\n",
       "    </tr>\n",
       "    <tr>\n",
       "      <th>South Africa</th>\n",
       "      <td>4865063000.00</td>\n",
       "      <td>4519462000.00</td>\n",
       "      <td>345601000.00</td>\n",
       "    </tr>\n",
       "    <tr>\n",
       "      <th>Australia</th>\n",
       "      <td>4667286000.00</td>\n",
       "      <td>4271064000.00</td>\n",
       "      <td>396222000.00</td>\n",
       "    </tr>\n",
       "    <tr>\n",
       "      <th>Other Asia</th>\n",
       "      <td>4373222000.00</td>\n",
       "      <td>3368994000.00</td>\n",
       "      <td>1004228000.00</td>\n",
       "    </tr>\n",
       "    <tr>\n",
       "      <th>Ukraine</th>\n",
       "      <td>3884638000.00</td>\n",
       "      <td>1907568000.00</td>\n",
       "      <td>1977070000.00</td>\n",
       "    </tr>\n",
       "    <tr>\n",
       "      <th>Saudi Arabia</th>\n",
       "      <td>3671794000.00</td>\n",
       "      <td>3671791000.00</td>\n",
       "      <td>3000.00</td>\n",
       "    </tr>\n",
       "    <tr>\n",
       "      <th>Iran (Islamic Rep. of)</th>\n",
       "      <td>3559095400.00</td>\n",
       "      <td>3339103800.00</td>\n",
       "      <td>219991620.00</td>\n",
       "    </tr>\n",
       "    <tr>\n",
       "      <th>Turkey</th>\n",
       "      <td>3353771000.00</td>\n",
       "      <td>2468867000.00</td>\n",
       "      <td>884904000.00</td>\n",
       "    </tr>\n",
       "    <tr>\n",
       "      <th>Poland</th>\n",
       "      <td>3177960000.00</td>\n",
       "      <td>3078370000.00</td>\n",
       "      <td>99590000.00</td>\n",
       "    </tr>\n",
       "    <tr>\n",
       "      <th>Sweden</th>\n",
       "      <td>3145664000.00</td>\n",
       "      <td>276251000.00</td>\n",
       "      <td>2869413000.00</td>\n",
       "    </tr>\n",
       "    <tr>\n",
       "      <th>Indonesia</th>\n",
       "      <td>2704177170.00</td>\n",
       "      <td>2322339000.00</td>\n",
       "      <td>381838170.00</td>\n",
       "    </tr>\n",
       "    <tr>\n",
       "      <th>Norway</th>\n",
       "      <td>2652391000.00</td>\n",
       "      <td>39225000.00</td>\n",
       "      <td>2613166000.00</td>\n",
       "    </tr>\n",
       "    <tr>\n",
       "      <th>Thailand</th>\n",
       "      <td>2652093200.00</td>\n",
       "      <td>2511782000.00</td>\n",
       "      <td>140311200.00</td>\n",
       "    </tr>\n",
       "    <tr>\n",
       "      <th>Egypt</th>\n",
       "      <td>2231267000.00</td>\n",
       "      <td>1940624000.00</td>\n",
       "      <td>290643000.00</td>\n",
       "    </tr>\n",
       "    <tr>\n",
       "      <th>Argentina</th>\n",
       "      <td>2136147170.00</td>\n",
       "      <td>1326179000.00</td>\n",
       "      <td>809968170.00</td>\n",
       "    </tr>\n",
       "    <tr>\n",
       "      <th>Venezuela (Bolivar. Rep.)</th>\n",
       "      <td>2099219040.00</td>\n",
       "      <td>623652040.00</td>\n",
       "      <td>1475567000.00</td>\n",
       "    </tr>\n",
       "    <tr>\n",
       "      <th>Netherlands</th>\n",
       "      <td>2054706000.00</td>\n",
       "      <td>1918580000.00</td>\n",
       "      <td>136126000.00</td>\n",
       "    </tr>\n",
       "    <tr>\n",
       "      <th>Malaysia</th>\n",
       "      <td>1900808340.00</td>\n",
       "      <td>1752854530.00</td>\n",
       "      <td>147953805.00</td>\n",
       "    </tr>\n",
       "    <tr>\n",
       "      <th>Belgium</th>\n",
       "      <td>1747575000.00</td>\n",
       "      <td>735600000.00</td>\n",
       "      <td>1011975000.00</td>\n",
       "    </tr>\n",
       "    <tr>\n",
       "      <th>Pakistan</th>\n",
       "      <td>1693266000.00</td>\n",
       "      <td>1102306000.00</td>\n",
       "      <td>590960000.00</td>\n",
       "    </tr>\n",
       "    <tr>\n",
       "      <th>Czechia</th>\n",
       "      <td>1625272000.00</td>\n",
       "      <td>1104191000.00</td>\n",
       "      <td>521081000.00</td>\n",
       "    </tr>\n",
       "    <tr>\n",
       "      <th>Finland</th>\n",
       "      <td>1544952000.00</td>\n",
       "      <td>793383000.00</td>\n",
       "      <td>751569000.00</td>\n",
       "    </tr>\n",
       "    <tr>\n",
       "      <th>Kazakhstan</th>\n",
       "      <td>1485510000.00</td>\n",
       "      <td>1323020000.00</td>\n",
       "      <td>162490000.00</td>\n",
       "    </tr>\n",
       "    <tr>\n",
       "      <th>Switzerland</th>\n",
       "      <td>1396666000.00</td>\n",
       "      <td>64109000.00</td>\n",
       "      <td>1332557000.00</td>\n",
       "    </tr>\n",
       "    <tr>\n",
       "      <th>Austria</th>\n",
       "      <td>1324302000.00</td>\n",
       "      <td>450504000.00</td>\n",
       "      <td>873798000.00</td>\n",
       "    </tr>\n",
       "    <tr>\n",
       "      <th>United Arab Emirates</th>\n",
       "      <td>1301659000.00</td>\n",
       "      <td>1301659000.00</td>\n",
       "      <td>0.00</td>\n",
       "    </tr>\n",
       "    <tr>\n",
       "      <th>Romania</th>\n",
       "      <td>1222837000.00</td>\n",
       "      <td>716220000.00</td>\n",
       "      <td>506617000.00</td>\n",
       "    </tr>\n",
       "    <tr>\n",
       "      <th>Viet Nam</th>\n",
       "      <td>1218229000.00</td>\n",
       "      <td>703376000.00</td>\n",
       "      <td>514853000.00</td>\n",
       "    </tr>\n",
       "    <tr>\n",
       "      <th>Greece</th>\n",
       "      <td>1139014000.00</td>\n",
       "      <td>1000049000.00</td>\n",
       "      <td>138965000.00</td>\n",
       "    </tr>\n",
       "    <tr>\n",
       "      <th>Colombia</th>\n",
       "      <td>1119718590.00</td>\n",
       "      <td>308448000.00</td>\n",
       "      <td>811270590.00</td>\n",
       "    </tr>\n",
       "    <tr>\n",
       "      <th>Philippines</th>\n",
       "      <td>1117501794.00</td>\n",
       "      <td>746687916.00</td>\n",
       "      <td>370813875.10</td>\n",
       "    </tr>\n",
       "    <tr>\n",
       "      <th>Paraguay</th>\n",
       "      <td>1082088620.00</td>\n",
       "      <td>384270.00</td>\n",
       "      <td>1081704350.00</td>\n",
       "    </tr>\n",
       "    <tr>\n",
       "      <th>Chile</th>\n",
       "      <td>1044971000.00</td>\n",
       "      <td>601121000.00</td>\n",
       "      <td>443850000.00</td>\n",
       "    </tr>\n",
       "    <tr>\n",
       "      <th>Uzbekistan</th>\n",
       "      <td>1035619000.00</td>\n",
       "      <td>863312000.00</td>\n",
       "      <td>172307000.00</td>\n",
       "    </tr>\n",
       "    <tr>\n",
       "      <th>Israel</th>\n",
       "      <td>998452000.00</td>\n",
       "      <td>995830000.00</td>\n",
       "      <td>2622000.00</td>\n",
       "    </tr>\n",
       "    <tr>\n",
       "      <th>Portugal</th>\n",
       "      <td>940670000.00</td>\n",
       "      <td>620418000.00</td>\n",
       "      <td>320252000.00</td>\n",
       "    </tr>\n",
       "    <tr>\n",
       "      <th>Bulgaria</th>\n",
       "      <td>914259000.00</td>\n",
       "      <td>476795000.00</td>\n",
       "      <td>437464000.00</td>\n",
       "    </tr>\n",
       "    <tr>\n",
       "      <th>Kuwait</th>\n",
       "      <td>894596000.00</td>\n",
       "      <td>894596000.00</td>\n",
       "      <td>0.00</td>\n",
       "    </tr>\n",
       "    <tr>\n",
       "      <th>New Zealand</th>\n",
       "      <td>860683000.00</td>\n",
       "      <td>256020000.00</td>\n",
       "      <td>604663000.00</td>\n",
       "    </tr>\n",
       "    <tr>\n",
       "      <th>Denmark</th>\n",
       "      <td>820864000.00</td>\n",
       "      <td>696616000.00</td>\n",
       "      <td>124248000.00</td>\n",
       "    </tr>\n",
       "    <tr>\n",
       "      <th>Iraq</th>\n",
       "      <td>789289000.00</td>\n",
       "      <td>740824000.00</td>\n",
       "      <td>48465000.00</td>\n",
       "    </tr>\n",
       "    <tr>\n",
       "      <th>Singapore</th>\n",
       "      <td>761093530.00</td>\n",
       "      <td>761093530.00</td>\n",
       "      <td>0.00</td>\n",
       "    </tr>\n",
       "    <tr>\n",
       "      <th>Hungary</th>\n",
       "      <td>743853000.00</td>\n",
       "      <td>435621000.00</td>\n",
       "      <td>308232000.00</td>\n",
       "    </tr>\n",
       "    <tr>\n",
       "      <th>Algeria</th>\n",
       "      <td>733039000.00</td>\n",
       "      <td>728109000.00</td>\n",
       "      <td>4930000.00</td>\n",
       "    </tr>\n",
       "    <tr>\n",
       "      <th>China, Hong Kong SAR</th>\n",
       "      <td>731318000.00</td>\n",
       "      <td>731318000.00</td>\n",
       "      <td>0.00</td>\n",
       "    </tr>\n",
       "    <tr>\n",
       "      <th>Syrian Arab Republic</th>\n",
       "      <td>616120000.00</td>\n",
       "      <td>552962000.00</td>\n",
       "      <td>63158000.00</td>\n",
       "    </tr>\n",
       "    <tr>\n",
       "      <th>Belarus</th>\n",
       "      <td>615698000.00</td>\n",
       "      <td>614797000.00</td>\n",
       "      <td>901000.00</td>\n",
       "    </tr>\n",
       "    <tr>\n",
       "      <th>Slovakia</th>\n",
       "      <td>602865000.00</td>\n",
       "      <td>186759000.00</td>\n",
       "      <td>416106000.00</td>\n",
       "    </tr>\n",
       "    <tr>\n",
       "      <th>Bangladesh</th>\n",
       "      <td>571438000.00</td>\n",
       "      <td>552751000.00</td>\n",
       "      <td>18687000.00</td>\n",
       "    </tr>\n",
       "    <tr>\n",
       "      <th>Peru</th>\n",
       "      <td>568442686.00</td>\n",
       "      <td>190538636.30</td>\n",
       "      <td>377904049.00</td>\n",
       "    </tr>\n",
       "    <tr>\n",
       "      <th>Ireland</th>\n",
       "      <td>518587000.00</td>\n",
       "      <td>463401000.00</td>\n",
       "      <td>55186000.00</td>\n",
       "    </tr>\n",
       "    <tr>\n",
       "      <th>Puerto Rico</th>\n",
       "      <td>465321600.00</td>\n",
       "      <td>461932800.00</td>\n",
       "      <td>3388800.00</td>\n",
       "    </tr>\n",
       "    <tr>\n",
       "      <th>Libya</th>\n",
       "      <td>464848000.00</td>\n",
       "      <td>464848000.00</td>\n",
       "      <td>0.00</td>\n",
       "    </tr>\n",
       "    <tr>\n",
       "      <th>Nigeria</th>\n",
       "      <td>442789000.00</td>\n",
       "      <td>314288000.00</td>\n",
       "      <td>128501000.00</td>\n",
       "    </tr>\n",
       "    <tr>\n",
       "      <th>Korea, Dem.Ppl's.Rep.</th>\n",
       "      <td>432216000.00</td>\n",
       "      <td>172276000.00</td>\n",
       "      <td>259940000.00</td>\n",
       "    </tr>\n",
       "    <tr>\n",
       "      <th>Azerbaijan</th>\n",
       "      <td>423972000.00</td>\n",
       "      <td>380628000.00</td>\n",
       "      <td>43344000.00</td>\n",
       "    </tr>\n",
       "    <tr>\n",
       "      <th>Serbia and Montenegro</th>\n",
       "      <td>398709000.00</td>\n",
       "      <td>269906000.00</td>\n",
       "      <td>128803000.00</td>\n",
       "    </tr>\n",
       "    <tr>\n",
       "      <th>Morocco</th>\n",
       "      <td>385762000.00</td>\n",
       "      <td>343446000.00</td>\n",
       "      <td>42316000.00</td>\n",
       "    </tr>\n",
       "    <tr>\n",
       "      <th>Serbia</th>\n",
       "      <td>372642000.00</td>\n",
       "      <td>264151000.00</td>\n",
       "      <td>108491000.00</td>\n",
       "    </tr>\n",
       "    <tr>\n",
       "      <th>Qatar</th>\n",
       "      <td>360944000.00</td>\n",
       "      <td>360944000.00</td>\n",
       "      <td>0.00</td>\n",
       "    </tr>\n",
       "    <tr>\n",
       "      <th>Tajikistan</th>\n",
       "      <td>335050000.00</td>\n",
       "      <td>4510000.00</td>\n",
       "      <td>330540000.00</td>\n",
       "    </tr>\n",
       "    <tr>\n",
       "      <th>Cuba</th>\n",
       "      <td>334844600.00</td>\n",
       "      <td>332688200.00</td>\n",
       "      <td>2156400.00</td>\n",
       "    </tr>\n",
       "    <tr>\n",
       "      <th>Slovenia</th>\n",
       "      <td>310662000.00</td>\n",
       "      <td>115288000.00</td>\n",
       "      <td>195374000.00</td>\n",
       "    </tr>\n",
       "    <tr>\n",
       "      <th>Ecuador</th>\n",
       "      <td>306219100.00</td>\n",
       "      <td>132887500.00</td>\n",
       "      <td>173331600.00</td>\n",
       "    </tr>\n",
       "    <tr>\n",
       "      <th>Kyrgyzstan</th>\n",
       "      <td>302077000.00</td>\n",
       "      <td>41407000.00</td>\n",
       "      <td>260670000.00</td>\n",
       "    </tr>\n",
       "    <tr>\n",
       "      <th>Oman</th>\n",
       "      <td>291486000.00</td>\n",
       "      <td>291486000.00</td>\n",
       "      <td>0.00</td>\n",
       "    </tr>\n",
       "    <tr>\n",
       "      <th>Bahrain</th>\n",
       "      <td>278928000.00</td>\n",
       "      <td>278928000.00</td>\n",
       "      <td>0.00</td>\n",
       "    </tr>\n",
       "    <tr>\n",
       "      <th>Turkmenistan</th>\n",
       "      <td>275410000.00</td>\n",
       "      <td>275346000.00</td>\n",
       "      <td>64000.00</td>\n",
       "    </tr>\n",
       "    <tr>\n",
       "      <th>Tunisia</th>\n",
       "      <td>266057720.00</td>\n",
       "      <td>262705000.00</td>\n",
       "      <td>3352720.00</td>\n",
       "    </tr>\n",
       "    <tr>\n",
       "      <th>Lithuania</th>\n",
       "      <td>264696000.00</td>\n",
       "      <td>59624000.00</td>\n",
       "      <td>205072000.00</td>\n",
       "    </tr>\n",
       "    <tr>\n",
       "      <th>Croatia</th>\n",
       "      <td>257915000.00</td>\n",
       "      <td>115365000.00</td>\n",
       "      <td>142550000.00</td>\n",
       "    </tr>\n",
       "    <tr>\n",
       "      <th>Dominican Republic</th>\n",
       "      <td>254716060.00</td>\n",
       "      <td>223509190.00</td>\n",
       "      <td>31206870.00</td>\n",
       "    </tr>\n",
       "    <tr>\n",
       "      <th>Lebanon</th>\n",
       "      <td>248960000.00</td>\n",
       "      <td>233077000.00</td>\n",
       "      <td>15883000.00</td>\n",
       "    </tr>\n",
       "    <tr>\n",
       "      <th>Bosnia and Herzegovina</th>\n",
       "      <td>248110000.00</td>\n",
       "      <td>138324000.00</td>\n",
       "      <td>109786000.00</td>\n",
       "    </tr>\n",
       "    <tr>\n",
       "      <th>Mozambique</th>\n",
       "      <td>231105000.00</td>\n",
       "      <td>3102000.00</td>\n",
       "      <td>228003000.00</td>\n",
       "    </tr>\n",
       "    <tr>\n",
       "      <th>Iceland</th>\n",
       "      <td>227146000.00</td>\n",
       "      <td>98000.00</td>\n",
       "      <td>227048000.00</td>\n",
       "    </tr>\n",
       "    <tr>\n",
       "      <th>Jordan</th>\n",
       "      <td>220496400.00</td>\n",
       "      <td>219539000.00</td>\n",
       "      <td>957400.00</td>\n",
       "    </tr>\n",
       "    <tr>\n",
       "      <th>Estonia</th>\n",
       "      <td>213973000.00</td>\n",
       "      <td>210857000.00</td>\n",
       "      <td>3116000.00</td>\n",
       "    </tr>\n",
       "    <tr>\n",
       "      <th>Zambia</th>\n",
       "      <td>196650000.00</td>\n",
       "      <td>1146000.00</td>\n",
       "      <td>195504000.00</td>\n",
       "    </tr>\n",
       "    <tr>\n",
       "      <th>Uruguay</th>\n",
       "      <td>181925300.00</td>\n",
       "      <td>35314500.00</td>\n",
       "      <td>146610800.00</td>\n",
       "    </tr>\n",
       "    <tr>\n",
       "      <th>Sri Lanka</th>\n",
       "      <td>175884078.00</td>\n",
       "      <td>91154259.00</td>\n",
       "      <td>84729819.00</td>\n",
       "    </tr>\n",
       "    <tr>\n",
       "      <th>Georgia</th>\n",
       "      <td>175170000.00</td>\n",
       "      <td>33476000.00</td>\n",
       "      <td>141694000.00</td>\n",
       "    </tr>\n",
       "    <tr>\n",
       "      <th>Zimbabwe</th>\n",
       "      <td>173461500.00</td>\n",
       "      <td>85211800.00</td>\n",
       "      <td>88249700.00</td>\n",
       "    </tr>\n",
       "    <tr>\n",
       "      <th>Ghana</th>\n",
       "      <td>170828000.00</td>\n",
       "      <td>41126000.00</td>\n",
       "      <td>129702000.00</td>\n",
       "    </tr>\n",
       "    <tr>\n",
       "      <th>Costa Rica</th>\n",
       "      <td>163570297.00</td>\n",
       "      <td>12385933.35</td>\n",
       "      <td>151184364.56</td>\n",
       "    </tr>\n",
       "    <tr>\n",
       "      <th>Guatemala</th>\n",
       "      <td>146343100.00</td>\n",
       "      <td>80611600.00</td>\n",
       "      <td>65731500.00</td>\n",
       "    </tr>\n",
       "    <tr>\n",
       "      <th>Dem. Rep. of the Congo</th>\n",
       "      <td>141688000.00</td>\n",
       "      <td>737000.00</td>\n",
       "      <td>140951000.00</td>\n",
       "    </tr>\n",
       "    <tr>\n",
       "      <th>Trinidad and Tobago</th>\n",
       "      <td>141218000.00</td>\n",
       "      <td>141218000.00</td>\n",
       "      <td>0.00</td>\n",
       "    </tr>\n",
       "    <tr>\n",
       "      <th>Myanmar</th>\n",
       "      <td>139357820.00</td>\n",
       "      <td>61796280.00</td>\n",
       "      <td>77561540.00</td>\n",
       "    </tr>\n",
       "    <tr>\n",
       "      <th>T.F.Yug.Rep. Macedonia</th>\n",
       "      <td>136580131.00</td>\n",
       "      <td>111468080.00</td>\n",
       "      <td>25112051.00</td>\n",
       "    </tr>\n",
       "    <tr>\n",
       "      <th>Armenia</th>\n",
       "      <td>131479000.00</td>\n",
       "      <td>48021000.00</td>\n",
       "      <td>83458000.00</td>\n",
       "    </tr>\n",
       "    <tr>\n",
       "      <th>Kenya</th>\n",
       "      <td>124911300.00</td>\n",
       "      <td>39784200.00</td>\n",
       "      <td>85127100.00</td>\n",
       "    </tr>\n",
       "    <tr>\n",
       "      <th>Panama</th>\n",
       "      <td>123837100.00</td>\n",
       "      <td>49196400.00</td>\n",
       "      <td>74640700.00</td>\n",
       "    </tr>\n",
       "    <tr>\n",
       "      <th>Jamaica</th>\n",
       "      <td>121122700.00</td>\n",
       "      <td>117556500.00</td>\n",
       "      <td>3566200.00</td>\n",
       "    </tr>\n",
       "    <tr>\n",
       "      <th>Côte d'Ivoire</th>\n",
       "      <td>110336600.00</td>\n",
       "      <td>74235600.00</td>\n",
       "      <td>36101000.00</td>\n",
       "    </tr>\n",
       "    <tr>\n",
       "      <th>Honduras</th>\n",
       "      <td>108030000.00</td>\n",
       "      <td>58012000.00</td>\n",
       "      <td>50018000.00</td>\n",
       "    </tr>\n",
       "    <tr>\n",
       "      <th>Bolivia (Plur. State of)</th>\n",
       "      <td>107582200.00</td>\n",
       "      <td>65320000.00</td>\n",
       "      <td>42262200.00</td>\n",
       "    </tr>\n",
       "    <tr>\n",
       "      <th>Albania</th>\n",
       "      <td>104104770.00</td>\n",
       "      <td>1863040.00</td>\n",
       "      <td>102241730.00</td>\n",
       "    </tr>\n",
       "    <tr>\n",
       "      <th>Latvia</th>\n",
       "      <td>102654000.00</td>\n",
       "      <td>39824000.00</td>\n",
       "      <td>62830000.00</td>\n",
       "    </tr>\n",
       "    <tr>\n",
       "      <th>Yemen</th>\n",
       "      <td>101587000.00</td>\n",
       "      <td>101587000.00</td>\n",
       "      <td>0.00</td>\n",
       "    </tr>\n",
       "    <tr>\n",
       "      <th>El Salvador</th>\n",
       "      <td>100917000.00</td>\n",
       "      <td>44732000.00</td>\n",
       "      <td>56185000.00</td>\n",
       "    </tr>\n",
       "    <tr>\n",
       "      <th>Cameroon</th>\n",
       "      <td>94063000.00</td>\n",
       "      <td>15728000.00</td>\n",
       "      <td>78335000.00</td>\n",
       "    </tr>\n",
       "    <tr>\n",
       "      <th>Bhutan</th>\n",
       "      <td>85237210.00</td>\n",
       "      <td>13560.00</td>\n",
       "      <td>85223650.00</td>\n",
       "    </tr>\n",
       "    <tr>\n",
       "      <th>Cyprus</th>\n",
       "      <td>83410000.00</td>\n",
       "      <td>82484000.00</td>\n",
       "      <td>926000.00</td>\n",
       "    </tr>\n",
       "    <tr>\n",
       "      <th>Mongolia</th>\n",
       "      <td>80870100.00</td>\n",
       "      <td>80870100.00</td>\n",
       "      <td>0.00</td>\n",
       "    </tr>\n",
       "    <tr>\n",
       "      <th>Ethiopia</th>\n",
       "      <td>74624000.00</td>\n",
       "      <td>1527000.00</td>\n",
       "      <td>73097000.00</td>\n",
       "    </tr>\n",
       "    <tr>\n",
       "      <th>United Rep. of Tanzania</th>\n",
       "      <td>74112000.00</td>\n",
       "      <td>29404000.00</td>\n",
       "      <td>44708000.00</td>\n",
       "    </tr>\n",
       "    <tr>\n",
       "      <th>Lao People's Dem. Rep.</th>\n",
       "      <td>70597066.60</td>\n",
       "      <td>5402000.00</td>\n",
       "      <td>65195067.30</td>\n",
       "    </tr>\n",
       "    <tr>\n",
       "      <th>Angola</th>\n",
       "      <td>68871000.00</td>\n",
       "      <td>22360000.00</td>\n",
       "      <td>46511000.00</td>\n",
       "    </tr>\n",
       "    <tr>\n",
       "      <th>Sudan (former)</th>\n",
       "      <td>66746000.00</td>\n",
       "      <td>33268000.00</td>\n",
       "      <td>33478000.00</td>\n",
       "    </tr>\n",
       "    <tr>\n",
       "      <th>Brunei Darussalam</th>\n",
       "      <td>66117000.00</td>\n",
       "      <td>66109000.00</td>\n",
       "      <td>8000.00</td>\n",
       "    </tr>\n",
       "    <tr>\n",
       "      <th>Papua New Guinea</th>\n",
       "      <td>61858000.00</td>\n",
       "      <td>38514000.00</td>\n",
       "      <td>23344000.00</td>\n",
       "    </tr>\n",
       "    <tr>\n",
       "      <th>Nicaragua</th>\n",
       "      <td>60548000.00</td>\n",
       "      <td>43439000.00</td>\n",
       "      <td>17109000.00</td>\n",
       "    </tr>\n",
       "    <tr>\n",
       "      <th>Luxembourg</th>\n",
       "      <td>59338000.00</td>\n",
       "      <td>37962000.00</td>\n",
       "      <td>21376000.00</td>\n",
       "    </tr>\n",
       "    <tr>\n",
       "      <th>Nepal</th>\n",
       "      <td>48350650.00</td>\n",
       "      <td>656650.00</td>\n",
       "      <td>47694000.00</td>\n",
       "    </tr>\n",
       "    <tr>\n",
       "      <th>Republic of Moldova</th>\n",
       "      <td>45910000.00</td>\n",
       "      <td>43382000.00</td>\n",
       "      <td>2528000.00</td>\n",
       "    </tr>\n",
       "    <tr>\n",
       "      <th>Réunion</th>\n",
       "      <td>44543880.00</td>\n",
       "      <td>31883200.00</td>\n",
       "      <td>12660680.00</td>\n",
       "    </tr>\n",
       "    <tr>\n",
       "      <th>Mauritius</th>\n",
       "      <td>44033900.00</td>\n",
       "      <td>42029300.00</td>\n",
       "      <td>2004600.00</td>\n",
       "    </tr>\n",
       "    <tr>\n",
       "      <th>Malta</th>\n",
       "      <td>42838000.00</td>\n",
       "      <td>42697000.00</td>\n",
       "      <td>141000.00</td>\n",
       "    </tr>\n",
       "    <tr>\n",
       "      <th>Senegal</th>\n",
       "      <td>42029000.00</td>\n",
       "      <td>42002000.00</td>\n",
       "      <td>27000.00</td>\n",
       "    </tr>\n",
       "    <tr>\n",
       "      <th>Uganda</th>\n",
       "      <td>39458250.00</td>\n",
       "      <td>6846600.00</td>\n",
       "      <td>32611650.00</td>\n",
       "    </tr>\n",
       "    <tr>\n",
       "      <th>New Caledonia</th>\n",
       "      <td>38845680.00</td>\n",
       "      <td>30793100.00</td>\n",
       "      <td>8052580.00</td>\n",
       "    </tr>\n",
       "    <tr>\n",
       "      <th>Guam</th>\n",
       "      <td>38562100.00</td>\n",
       "      <td>38562100.00</td>\n",
       "      <td>0.00</td>\n",
       "    </tr>\n",
       "    <tr>\n",
       "      <th>Bahamas</th>\n",
       "      <td>37699400.00</td>\n",
       "      <td>37699400.00</td>\n",
       "      <td>0.00</td>\n",
       "    </tr>\n",
       "    <tr>\n",
       "      <th>Gabon</th>\n",
       "      <td>34002000.00</td>\n",
       "      <td>16061000.00</td>\n",
       "      <td>17941000.00</td>\n",
       "    </tr>\n",
       "    <tr>\n",
       "      <th>Suriname</th>\n",
       "      <td>33052600.00</td>\n",
       "      <td>12890200.00</td>\n",
       "      <td>20162400.00</td>\n",
       "    </tr>\n",
       "    <tr>\n",
       "      <th>Malawi</th>\n",
       "      <td>31599160.00</td>\n",
       "      <td>3933770.00</td>\n",
       "      <td>27665390.00</td>\n",
       "    </tr>\n",
       "    <tr>\n",
       "      <th>Sudan</th>\n",
       "      <td>31493000.00</td>\n",
       "      <td>7644000.00</td>\n",
       "      <td>23849000.00</td>\n",
       "    </tr>\n",
       "    <tr>\n",
       "      <th>Guadeloupe</th>\n",
       "      <td>30927000.00</td>\n",
       "      <td>29013000.00</td>\n",
       "      <td>1914000.00</td>\n",
       "    </tr>\n",
       "    <tr>\n",
       "      <th>Montenegro</th>\n",
       "      <td>30435000.00</td>\n",
       "      <td>12263000.00</td>\n",
       "      <td>18172000.00</td>\n",
       "    </tr>\n",
       "    <tr>\n",
       "      <th>Martinique</th>\n",
       "      <td>29818994.00</td>\n",
       "      <td>29228075.00</td>\n",
       "      <td>590919.00</td>\n",
       "    </tr>\n",
       "    <tr>\n",
       "      <th>Namibia</th>\n",
       "      <td>29600000.00</td>\n",
       "      <td>2082000.00</td>\n",
       "      <td>27518000.00</td>\n",
       "    </tr>\n",
       "    <tr>\n",
       "      <th>China, Macao SAR</th>\n",
       "      <td>28456000.00</td>\n",
       "      <td>28456000.00</td>\n",
       "      <td>0.00</td>\n",
       "    </tr>\n",
       "    <tr>\n",
       "      <th>Madagascar</th>\n",
       "      <td>22893253.90</td>\n",
       "      <td>9950049.20</td>\n",
       "      <td>12943204.70</td>\n",
       "    </tr>\n",
       "    <tr>\n",
       "      <th>Mali</th>\n",
       "      <td>21947770.00</td>\n",
       "      <td>10874950.00</td>\n",
       "      <td>11072820.00</td>\n",
       "    </tr>\n",
       "    <tr>\n",
       "      <th>Neth. Antilles (former)</th>\n",
       "      <td>20929000.00</td>\n",
       "      <td>20929000.00</td>\n",
       "      <td>0.00</td>\n",
       "    </tr>\n",
       "    <tr>\n",
       "      <th>United States Virgin Is.</th>\n",
       "      <td>20701765.00</td>\n",
       "      <td>20693881.00</td>\n",
       "      <td>7884.00</td>\n",
       "    </tr>\n",
       "    <tr>\n",
       "      <th>Botswana</th>\n",
       "      <td>19427800.00</td>\n",
       "      <td>19423200.00</td>\n",
       "      <td>4600.00</td>\n",
       "    </tr>\n",
       "    <tr>\n",
       "      <th>Cambodia</th>\n",
       "      <td>19131000.00</td>\n",
       "      <td>14935000.00</td>\n",
       "      <td>4196000.00</td>\n",
       "    </tr>\n",
       "    <tr>\n",
       "      <th>Barbados</th>\n",
       "      <td>18724180.00</td>\n",
       "      <td>18724180.00</td>\n",
       "      <td>0.00</td>\n",
       "    </tr>\n",
       "    <tr>\n",
       "      <th>Guinea</th>\n",
       "      <td>18419390.00</td>\n",
       "      <td>9229390.00</td>\n",
       "      <td>9190000.00</td>\n",
       "    </tr>\n",
       "    <tr>\n",
       "      <th>Afghanistan</th>\n",
       "      <td>17350600.00</td>\n",
       "      <td>4160500.00</td>\n",
       "      <td>13190100.00</td>\n",
       "    </tr>\n",
       "    <tr>\n",
       "      <th>Aruba</th>\n",
       "      <td>17305800.00</td>\n",
       "      <td>16673500.00</td>\n",
       "      <td>632300.00</td>\n",
       "    </tr>\n",
       "    <tr>\n",
       "      <th>Guyana</th>\n",
       "      <td>16847220.00</td>\n",
       "      <td>16822220.00</td>\n",
       "      <td>25000.00</td>\n",
       "    </tr>\n",
       "    <tr>\n",
       "      <th>Fiji</th>\n",
       "      <td>15598253.00</td>\n",
       "      <td>6624975.00</td>\n",
       "      <td>8973278.00</td>\n",
       "    </tr>\n",
       "    <tr>\n",
       "      <th>French Guiana</th>\n",
       "      <td>13875000.00</td>\n",
       "      <td>6027000.00</td>\n",
       "      <td>7848000.00</td>\n",
       "    </tr>\n",
       "    <tr>\n",
       "      <th>Haiti</th>\n",
       "      <td>13778000.00</td>\n",
       "      <td>8963000.00</td>\n",
       "      <td>4815000.00</td>\n",
       "    </tr>\n",
       "    <tr>\n",
       "      <th>Bermuda</th>\n",
       "      <td>13546200.00</td>\n",
       "      <td>13546200.00</td>\n",
       "      <td>0.00</td>\n",
       "    </tr>\n",
       "    <tr>\n",
       "      <th>Congo</th>\n",
       "      <td>13292000.00</td>\n",
       "      <td>3764000.00</td>\n",
       "      <td>9528000.00</td>\n",
       "    </tr>\n",
       "    <tr>\n",
       "      <th>French Polynesia</th>\n",
       "      <td>12176066.00</td>\n",
       "      <td>8475716.00</td>\n",
       "      <td>3700350.00</td>\n",
       "    </tr>\n",
       "    <tr>\n",
       "      <th>Mauritania</th>\n",
       "      <td>11353107.00</td>\n",
       "      <td>11205107.00</td>\n",
       "      <td>148000.00</td>\n",
       "    </tr>\n",
       "    <tr>\n",
       "      <th>Cayman Islands</th>\n",
       "      <td>10380790.00</td>\n",
       "      <td>10380790.00</td>\n",
       "      <td>0.00</td>\n",
       "    </tr>\n",
       "    <tr>\n",
       "      <th>Burkina Faso</th>\n",
       "      <td>10091871.00</td>\n",
       "      <td>8121498.00</td>\n",
       "      <td>1970373.00</td>\n",
       "    </tr>\n",
       "    <tr>\n",
       "      <th>Swaziland</th>\n",
       "      <td>10064230.00</td>\n",
       "      <td>5669870.00</td>\n",
       "      <td>4394360.00</td>\n",
       "    </tr>\n",
       "    <tr>\n",
       "      <th>Northern Mariana Islands</th>\n",
       "      <td>8196500.00</td>\n",
       "      <td>8196500.00</td>\n",
       "      <td>0.00</td>\n",
       "    </tr>\n",
       "    <tr>\n",
       "      <th>Greenland</th>\n",
       "      <td>7891382.30</td>\n",
       "      <td>4015433.60</td>\n",
       "      <td>3875948.70</td>\n",
       "    </tr>\n",
       "    <tr>\n",
       "      <th>Lesotho</th>\n",
       "      <td>7302400.00</td>\n",
       "      <td>0.00</td>\n",
       "      <td>7302400.00</td>\n",
       "    </tr>\n",
       "    <tr>\n",
       "      <th>St. Lucia</th>\n",
       "      <td>6365597.00</td>\n",
       "      <td>6365597.00</td>\n",
       "      <td>0.00</td>\n",
       "    </tr>\n",
       "    <tr>\n",
       "      <th>Somalia</th>\n",
       "      <td>6246000.00</td>\n",
       "      <td>6246000.00</td>\n",
       "      <td>0.00</td>\n",
       "    </tr>\n",
       "    <tr>\n",
       "      <th>State of Palestine</th>\n",
       "      <td>5955200.00</td>\n",
       "      <td>5955200.00</td>\n",
       "      <td>0.00</td>\n",
       "    </tr>\n",
       "    <tr>\n",
       "      <th>Togo</th>\n",
       "      <td>5919000.00</td>\n",
       "      <td>2372900.00</td>\n",
       "      <td>3546100.00</td>\n",
       "    </tr>\n",
       "    <tr>\n",
       "      <th>Djibouti</th>\n",
       "      <td>5668000.00</td>\n",
       "      <td>5668000.00</td>\n",
       "      <td>0.00</td>\n",
       "    </tr>\n",
       "    <tr>\n",
       "      <th>Eritrea</th>\n",
       "      <td>5578000.00</td>\n",
       "      <td>5551000.00</td>\n",
       "      <td>27000.00</td>\n",
       "    </tr>\n",
       "    <tr>\n",
       "      <th>Liberia</th>\n",
       "      <td>5234000.00</td>\n",
       "      <td>5234000.00</td>\n",
       "      <td>0.00</td>\n",
       "    </tr>\n",
       "    <tr>\n",
       "      <th>Isle of Man</th>\n",
       "      <td>5104700.00</td>\n",
       "      <td>5062800.00</td>\n",
       "      <td>41900.00</td>\n",
       "    </tr>\n",
       "    <tr>\n",
       "      <th>Faeroe Islands</th>\n",
       "      <td>5062490.00</td>\n",
       "      <td>3040811.00</td>\n",
       "      <td>2021679.00</td>\n",
       "    </tr>\n",
       "    <tr>\n",
       "      <th>Seychelles</th>\n",
       "      <td>4897380.00</td>\n",
       "      <td>4882630.00</td>\n",
       "      <td>14750.00</td>\n",
       "    </tr>\n",
       "    <tr>\n",
       "      <th>Niger</th>\n",
       "      <td>4868975.00</td>\n",
       "      <td>4868940.00</td>\n",
       "      <td>35.00</td>\n",
       "    </tr>\n",
       "    <tr>\n",
       "      <th>Cabo Verde</th>\n",
       "      <td>4731360.00</td>\n",
       "      <td>4375890.00</td>\n",
       "      <td>355470.00</td>\n",
       "    </tr>\n",
       "    <tr>\n",
       "      <th>Belize</th>\n",
       "      <td>4709655.22</td>\n",
       "      <td>2030191.76</td>\n",
       "      <td>2679463.44</td>\n",
       "    </tr>\n",
       "    <tr>\n",
       "      <th>Antigua and Barbuda</th>\n",
       "      <td>4691800.00</td>\n",
       "      <td>4691800.00</td>\n",
       "      <td>0.00</td>\n",
       "    </tr>\n",
       "    <tr>\n",
       "      <th>Rwanda</th>\n",
       "      <td>4258924.00</td>\n",
       "      <td>1802704.00</td>\n",
       "      <td>2456220.00</td>\n",
       "    </tr>\n",
       "    <tr>\n",
       "      <th>Maldives</th>\n",
       "      <td>3752207.00</td>\n",
       "      <td>3744677.00</td>\n",
       "      <td>7530.00</td>\n",
       "    </tr>\n",
       "    <tr>\n",
       "      <th>Gambia</th>\n",
       "      <td>3646900.00</td>\n",
       "      <td>3646900.00</td>\n",
       "      <td>0.00</td>\n",
       "    </tr>\n",
       "    <tr>\n",
       "      <th>St. Kitts-Nevis</th>\n",
       "      <td>3626100.00</td>\n",
       "      <td>3589100.00</td>\n",
       "      <td>37000.00</td>\n",
       "    </tr>\n",
       "    <tr>\n",
       "      <th>American Samoa</th>\n",
       "      <td>3486686.00</td>\n",
       "      <td>3483386.00</td>\n",
       "      <td>3300.00</td>\n",
       "    </tr>\n",
       "    <tr>\n",
       "      <th>Grenada</th>\n",
       "      <td>3198740.00</td>\n",
       "      <td>3198740.00</td>\n",
       "      <td>0.00</td>\n",
       "    </tr>\n",
       "    <tr>\n",
       "      <th>Mayotte</th>\n",
       "      <td>3191630.00</td>\n",
       "      <td>3121300.00</td>\n",
       "      <td>70330.00</td>\n",
       "    </tr>\n",
       "    <tr>\n",
       "      <th>Gibraltar</th>\n",
       "      <td>3023000.00</td>\n",
       "      <td>3023000.00</td>\n",
       "      <td>0.00</td>\n",
       "    </tr>\n",
       "    <tr>\n",
       "      <th>Equatorial Guinea</th>\n",
       "      <td>2986300.00</td>\n",
       "      <td>1918300.00</td>\n",
       "      <td>1068000.00</td>\n",
       "    </tr>\n",
       "    <tr>\n",
       "      <th>Jersey</th>\n",
       "      <td>2975500.00</td>\n",
       "      <td>2975500.00</td>\n",
       "      <td>0.00</td>\n",
       "    </tr>\n",
       "    <tr>\n",
       "      <th>Central African Rep.</th>\n",
       "      <td>2889000.00</td>\n",
       "      <td>511000.00</td>\n",
       "      <td>2378000.00</td>\n",
       "    </tr>\n",
       "    <tr>\n",
       "      <th>Chad</th>\n",
       "      <td>2870000.00</td>\n",
       "      <td>2870000.00</td>\n",
       "      <td>0.00</td>\n",
       "    </tr>\n",
       "    <tr>\n",
       "      <th>Turks and Caicos Islands</th>\n",
       "      <td>2753900.00</td>\n",
       "      <td>2753900.00</td>\n",
       "      <td>0.00</td>\n",
       "    </tr>\n",
       "    <tr>\n",
       "      <th>Sierra Leone</th>\n",
       "      <td>2736183.00</td>\n",
       "      <td>1787370.00</td>\n",
       "      <td>948813.00</td>\n",
       "    </tr>\n",
       "    <tr>\n",
       "      <th>Curaçao</th>\n",
       "      <td>2712000.00</td>\n",
       "      <td>2616000.00</td>\n",
       "      <td>96000.00</td>\n",
       "    </tr>\n",
       "    <tr>\n",
       "      <th>Burundi</th>\n",
       "      <td>2545241.00</td>\n",
       "      <td>121871.00</td>\n",
       "      <td>2423370.00</td>\n",
       "    </tr>\n",
       "    <tr>\n",
       "      <th>St. Vincent-Grenadines</th>\n",
       "      <td>2417400.00</td>\n",
       "      <td>1905580.00</td>\n",
       "      <td>511820.00</td>\n",
       "    </tr>\n",
       "    <tr>\n",
       "      <th>Benin</th>\n",
       "      <td>2372000.00</td>\n",
       "      <td>2358000.00</td>\n",
       "      <td>14000.00</td>\n",
       "    </tr>\n",
       "    <tr>\n",
       "      <th>Samoa</th>\n",
       "      <td>2183200.00</td>\n",
       "      <td>1313400.00</td>\n",
       "      <td>869800.00</td>\n",
       "    </tr>\n",
       "    <tr>\n",
       "      <th>British Virgin Islands</th>\n",
       "      <td>2080000.00</td>\n",
       "      <td>2080000.00</td>\n",
       "      <td>0.00</td>\n",
       "    </tr>\n",
       "    <tr>\n",
       "      <th>Palau</th>\n",
       "      <td>2043700.00</td>\n",
       "      <td>2043700.00</td>\n",
       "      <td>0.00</td>\n",
       "    </tr>\n",
       "    <tr>\n",
       "      <th>Andorra</th>\n",
       "      <td>1966000.00</td>\n",
       "      <td>122700.00</td>\n",
       "      <td>1843300.00</td>\n",
       "    </tr>\n",
       "    <tr>\n",
       "      <th>Marshall Islands</th>\n",
       "      <td>1844200.00</td>\n",
       "      <td>1843600.00</td>\n",
       "      <td>600.00</td>\n",
       "    </tr>\n",
       "    <tr>\n",
       "      <th>Timor-Leste</th>\n",
       "      <td>1716625.00</td>\n",
       "      <td>1716625.00</td>\n",
       "      <td>0.00</td>\n",
       "    </tr>\n",
       "    <tr>\n",
       "      <th>Dominica</th>\n",
       "      <td>1695480.00</td>\n",
       "      <td>1082980.00</td>\n",
       "      <td>612500.00</td>\n",
       "    </tr>\n",
       "    <tr>\n",
       "      <th>Micronesia (Fed. States of)</th>\n",
       "      <td>1688860.00</td>\n",
       "      <td>1669660.00</td>\n",
       "      <td>19200.00</td>\n",
       "    </tr>\n",
       "    <tr>\n",
       "      <th>Guernsey</th>\n",
       "      <td>1574800.00</td>\n",
       "      <td>1574800.00</td>\n",
       "      <td>0.00</td>\n",
       "    </tr>\n",
       "    <tr>\n",
       "      <th>Solomon Islands</th>\n",
       "      <td>1552900.00</td>\n",
       "      <td>1552900.00</td>\n",
       "      <td>0.00</td>\n",
       "    </tr>\n",
       "    <tr>\n",
       "      <th>South Sudan</th>\n",
       "      <td>1405000.00</td>\n",
       "      <td>1399000.00</td>\n",
       "      <td>6000.00</td>\n",
       "    </tr>\n",
       "    <tr>\n",
       "      <th>Anguilla</th>\n",
       "      <td>1336800.00</td>\n",
       "      <td>1336800.00</td>\n",
       "      <td>0.00</td>\n",
       "    </tr>\n",
       "    <tr>\n",
       "      <th>Sint Maarten (Dutch part)</th>\n",
       "      <td>1229300.00</td>\n",
       "      <td>1229300.00</td>\n",
       "      <td>0.00</td>\n",
       "    </tr>\n",
       "    <tr>\n",
       "      <th>Vanuatu</th>\n",
       "      <td>1077750.00</td>\n",
       "      <td>989450.00</td>\n",
       "      <td>88300.00</td>\n",
       "    </tr>\n",
       "    <tr>\n",
       "      <th>Tonga</th>\n",
       "      <td>918634.00</td>\n",
       "      <td>914086.00</td>\n",
       "      <td>4548.00</td>\n",
       "    </tr>\n",
       "    <tr>\n",
       "      <th>St. Pierre-Miquelon</th>\n",
       "      <td>918110.00</td>\n",
       "      <td>905260.00</td>\n",
       "      <td>12850.00</td>\n",
       "    </tr>\n",
       "    <tr>\n",
       "      <th>Comoros</th>\n",
       "      <td>828800.00</td>\n",
       "      <td>828800.00</td>\n",
       "      <td>0.00</td>\n",
       "    </tr>\n",
       "    <tr>\n",
       "      <th>Sao Tome and Principe</th>\n",
       "      <td>826900.00</td>\n",
       "      <td>688100.00</td>\n",
       "      <td>138800.00</td>\n",
       "    </tr>\n",
       "    <tr>\n",
       "      <th>Guinea-Bissau</th>\n",
       "      <td>684327.00</td>\n",
       "      <td>684327.00</td>\n",
       "      <td>0.00</td>\n",
       "    </tr>\n",
       "    <tr>\n",
       "      <th>Cook Islands</th>\n",
       "      <td>578400.00</td>\n",
       "      <td>578400.00</td>\n",
       "      <td>0.00</td>\n",
       "    </tr>\n",
       "    <tr>\n",
       "      <th>Liechtenstein</th>\n",
       "      <td>577600.00</td>\n",
       "      <td>29400.00</td>\n",
       "      <td>548200.00</td>\n",
       "    </tr>\n",
       "    <tr>\n",
       "      <th>Nauru</th>\n",
       "      <td>570954.00</td>\n",
       "      <td>570400.00</td>\n",
       "      <td>554.00</td>\n",
       "    </tr>\n",
       "    <tr>\n",
       "      <th>Montserrat</th>\n",
       "      <td>412200.00</td>\n",
       "      <td>412200.00</td>\n",
       "      <td>0.00</td>\n",
       "    </tr>\n",
       "    <tr>\n",
       "      <th>Kiribati</th>\n",
       "      <td>370900.00</td>\n",
       "      <td>370900.00</td>\n",
       "      <td>0.00</td>\n",
       "    </tr>\n",
       "    <tr>\n",
       "      <th>Bonaire, St Eustatius, Saba</th>\n",
       "      <td>364600.00</td>\n",
       "      <td>362400.00</td>\n",
       "      <td>2200.00</td>\n",
       "    </tr>\n",
       "    <tr>\n",
       "      <th>Falkland Is. (Malvinas)</th>\n",
       "      <td>331000.00</td>\n",
       "      <td>300010.00</td>\n",
       "      <td>30990.00</td>\n",
       "    </tr>\n",
       "    <tr>\n",
       "      <th>Wallis and Futuna Is.</th>\n",
       "      <td>269632.00</td>\n",
       "      <td>269632.00</td>\n",
       "      <td>0.00</td>\n",
       "    </tr>\n",
       "    <tr>\n",
       "      <th>St. Helena and Depend.</th>\n",
       "      <td>167270.00</td>\n",
       "      <td>160760.00</td>\n",
       "      <td>6510.00</td>\n",
       "    </tr>\n",
       "    <tr>\n",
       "      <th>Tuvalu</th>\n",
       "      <td>79060.00</td>\n",
       "      <td>79060.00</td>\n",
       "      <td>0.00</td>\n",
       "    </tr>\n",
       "    <tr>\n",
       "      <th>Niue</th>\n",
       "      <td>64202.33</td>\n",
       "      <td>63869.00</td>\n",
       "      <td>333.33</td>\n",
       "    </tr>\n",
       "  </tbody>\n",
       "</table>\n",
       "</div>"
      ],
      "text/plain": [
       "                              new_quantity  non_renewable      renewable\n",
       "country_or_area                                                         \n",
       "United States               85549767000.00 61291850000.00 24257917000.00\n",
       "China                       55912127900.00 44958773800.00 10953354000.00\n",
       "Japan                       22157381000.00 14951631000.00  7205750000.00\n",
       "Russian Federation          19882526000.00 13302272000.00  6580254000.00\n",
       "India                       15245741000.00 12636634000.00  2609107000.00\n",
       "Canada                      12657271000.00  3202264000.00  9455007000.00\n",
       "Germany                     12543013000.00  8239026000.00  4303987000.00\n",
       "France                      11476682000.00  1114594000.00 10362088000.00\n",
       "Brazil                       8526034000.00  1335527000.00  7190507000.00\n",
       "United Kingdom               7803117000.00  5819427000.00  1983690000.00\n",
       "Korea, Republic of           7651171000.00  4952429000.00  2698742000.00\n",
       "Italy                        5949869000.00  4664379000.00  1285490000.00\n",
       "Spain                        5307931000.00  2869572000.00  2438359000.00\n",
       "Mexico                       4905218000.00  3943177000.00   962041000.00\n",
       "South Africa                 4865063000.00  4519462000.00   345601000.00\n",
       "Australia                    4667286000.00  4271064000.00   396222000.00\n",
       "Other Asia                   4373222000.00  3368994000.00  1004228000.00\n",
       "Ukraine                      3884638000.00  1907568000.00  1977070000.00\n",
       "Saudi Arabia                 3671794000.00  3671791000.00        3000.00\n",
       "Iran (Islamic Rep. of)       3559095400.00  3339103800.00   219991620.00\n",
       "Turkey                       3353771000.00  2468867000.00   884904000.00\n",
       "Poland                       3177960000.00  3078370000.00    99590000.00\n",
       "Sweden                       3145664000.00   276251000.00  2869413000.00\n",
       "Indonesia                    2704177170.00  2322339000.00   381838170.00\n",
       "Norway                       2652391000.00    39225000.00  2613166000.00\n",
       "Thailand                     2652093200.00  2511782000.00   140311200.00\n",
       "Egypt                        2231267000.00  1940624000.00   290643000.00\n",
       "Argentina                    2136147170.00  1326179000.00   809968170.00\n",
       "Venezuela (Bolivar. Rep.)    2099219040.00   623652040.00  1475567000.00\n",
       "Netherlands                  2054706000.00  1918580000.00   136126000.00\n",
       "Malaysia                     1900808340.00  1752854530.00   147953805.00\n",
       "Belgium                      1747575000.00   735600000.00  1011975000.00\n",
       "Pakistan                     1693266000.00  1102306000.00   590960000.00\n",
       "Czechia                      1625272000.00  1104191000.00   521081000.00\n",
       "Finland                      1544952000.00   793383000.00   751569000.00\n",
       "Kazakhstan                   1485510000.00  1323020000.00   162490000.00\n",
       "Switzerland                  1396666000.00    64109000.00  1332557000.00\n",
       "Austria                      1324302000.00   450504000.00   873798000.00\n",
       "United Arab Emirates         1301659000.00  1301659000.00           0.00\n",
       "Romania                      1222837000.00   716220000.00   506617000.00\n",
       "Viet Nam                     1218229000.00   703376000.00   514853000.00\n",
       "Greece                       1139014000.00  1000049000.00   138965000.00\n",
       "Colombia                     1119718590.00   308448000.00   811270590.00\n",
       "Philippines                  1117501794.00   746687916.00   370813875.10\n",
       "Paraguay                     1082088620.00      384270.00  1081704350.00\n",
       "Chile                        1044971000.00   601121000.00   443850000.00\n",
       "Uzbekistan                   1035619000.00   863312000.00   172307000.00\n",
       "Israel                        998452000.00   995830000.00     2622000.00\n",
       "Portugal                      940670000.00   620418000.00   320252000.00\n",
       "Bulgaria                      914259000.00   476795000.00   437464000.00\n",
       "Kuwait                        894596000.00   894596000.00           0.00\n",
       "New Zealand                   860683000.00   256020000.00   604663000.00\n",
       "Denmark                       820864000.00   696616000.00   124248000.00\n",
       "Iraq                          789289000.00   740824000.00    48465000.00\n",
       "Singapore                     761093530.00   761093530.00           0.00\n",
       "Hungary                       743853000.00   435621000.00   308232000.00\n",
       "Algeria                       733039000.00   728109000.00     4930000.00\n",
       "China, Hong Kong SAR          731318000.00   731318000.00           0.00\n",
       "Syrian Arab Republic          616120000.00   552962000.00    63158000.00\n",
       "Belarus                       615698000.00   614797000.00      901000.00\n",
       "Slovakia                      602865000.00   186759000.00   416106000.00\n",
       "Bangladesh                    571438000.00   552751000.00    18687000.00\n",
       "Peru                          568442686.00   190538636.30   377904049.00\n",
       "Ireland                       518587000.00   463401000.00    55186000.00\n",
       "Puerto Rico                   465321600.00   461932800.00     3388800.00\n",
       "Libya                         464848000.00   464848000.00           0.00\n",
       "Nigeria                       442789000.00   314288000.00   128501000.00\n",
       "Korea, Dem.Ppl's.Rep.         432216000.00   172276000.00   259940000.00\n",
       "Azerbaijan                    423972000.00   380628000.00    43344000.00\n",
       "Serbia and Montenegro         398709000.00   269906000.00   128803000.00\n",
       "Morocco                       385762000.00   343446000.00    42316000.00\n",
       "Serbia                        372642000.00   264151000.00   108491000.00\n",
       "Qatar                         360944000.00   360944000.00           0.00\n",
       "Tajikistan                    335050000.00     4510000.00   330540000.00\n",
       "Cuba                          334844600.00   332688200.00     2156400.00\n",
       "Slovenia                      310662000.00   115288000.00   195374000.00\n",
       "Ecuador                       306219100.00   132887500.00   173331600.00\n",
       "Kyrgyzstan                    302077000.00    41407000.00   260670000.00\n",
       "Oman                          291486000.00   291486000.00           0.00\n",
       "Bahrain                       278928000.00   278928000.00           0.00\n",
       "Turkmenistan                  275410000.00   275346000.00       64000.00\n",
       "Tunisia                       266057720.00   262705000.00     3352720.00\n",
       "Lithuania                     264696000.00    59624000.00   205072000.00\n",
       "Croatia                       257915000.00   115365000.00   142550000.00\n",
       "Dominican Republic            254716060.00   223509190.00    31206870.00\n",
       "Lebanon                       248960000.00   233077000.00    15883000.00\n",
       "Bosnia and Herzegovina        248110000.00   138324000.00   109786000.00\n",
       "Mozambique                    231105000.00     3102000.00   228003000.00\n",
       "Iceland                       227146000.00       98000.00   227048000.00\n",
       "Jordan                        220496400.00   219539000.00      957400.00\n",
       "Estonia                       213973000.00   210857000.00     3116000.00\n",
       "Zambia                        196650000.00     1146000.00   195504000.00\n",
       "Uruguay                       181925300.00    35314500.00   146610800.00\n",
       "Sri Lanka                     175884078.00    91154259.00    84729819.00\n",
       "Georgia                       175170000.00    33476000.00   141694000.00\n",
       "Zimbabwe                      173461500.00    85211800.00    88249700.00\n",
       "Ghana                         170828000.00    41126000.00   129702000.00\n",
       "Costa Rica                    163570297.00    12385933.35   151184364.56\n",
       "Guatemala                     146343100.00    80611600.00    65731500.00\n",
       "Dem. Rep. of the Congo        141688000.00      737000.00   140951000.00\n",
       "Trinidad and Tobago           141218000.00   141218000.00           0.00\n",
       "Myanmar                       139357820.00    61796280.00    77561540.00\n",
       "T.F.Yug.Rep. Macedonia        136580131.00   111468080.00    25112051.00\n",
       "Armenia                       131479000.00    48021000.00    83458000.00\n",
       "Kenya                         124911300.00    39784200.00    85127100.00\n",
       "Panama                        123837100.00    49196400.00    74640700.00\n",
       "Jamaica                       121122700.00   117556500.00     3566200.00\n",
       "Côte d'Ivoire                 110336600.00    74235600.00    36101000.00\n",
       "Honduras                      108030000.00    58012000.00    50018000.00\n",
       "Bolivia (Plur. State of)      107582200.00    65320000.00    42262200.00\n",
       "Albania                       104104770.00     1863040.00   102241730.00\n",
       "Latvia                        102654000.00    39824000.00    62830000.00\n",
       "Yemen                         101587000.00   101587000.00           0.00\n",
       "El Salvador                   100917000.00    44732000.00    56185000.00\n",
       "Cameroon                       94063000.00    15728000.00    78335000.00\n",
       "Bhutan                         85237210.00       13560.00    85223650.00\n",
       "Cyprus                         83410000.00    82484000.00      926000.00\n",
       "Mongolia                       80870100.00    80870100.00           0.00\n",
       "Ethiopia                       74624000.00     1527000.00    73097000.00\n",
       "United Rep. of Tanzania        74112000.00    29404000.00    44708000.00\n",
       "Lao People's Dem. Rep.         70597066.60     5402000.00    65195067.30\n",
       "Angola                         68871000.00    22360000.00    46511000.00\n",
       "Sudan (former)                 66746000.00    33268000.00    33478000.00\n",
       "Brunei Darussalam              66117000.00    66109000.00        8000.00\n",
       "Papua New Guinea               61858000.00    38514000.00    23344000.00\n",
       "Nicaragua                      60548000.00    43439000.00    17109000.00\n",
       "Luxembourg                     59338000.00    37962000.00    21376000.00\n",
       "Nepal                          48350650.00      656650.00    47694000.00\n",
       "Republic of Moldova            45910000.00    43382000.00     2528000.00\n",
       "Réunion                        44543880.00    31883200.00    12660680.00\n",
       "Mauritius                      44033900.00    42029300.00     2004600.00\n",
       "Malta                          42838000.00    42697000.00      141000.00\n",
       "Senegal                        42029000.00    42002000.00       27000.00\n",
       "Uganda                         39458250.00     6846600.00    32611650.00\n",
       "New Caledonia                  38845680.00    30793100.00     8052580.00\n",
       "Guam                           38562100.00    38562100.00           0.00\n",
       "Bahamas                        37699400.00    37699400.00           0.00\n",
       "Gabon                          34002000.00    16061000.00    17941000.00\n",
       "Suriname                       33052600.00    12890200.00    20162400.00\n",
       "Malawi                         31599160.00     3933770.00    27665390.00\n",
       "Sudan                          31493000.00     7644000.00    23849000.00\n",
       "Guadeloupe                     30927000.00    29013000.00     1914000.00\n",
       "Montenegro                     30435000.00    12263000.00    18172000.00\n",
       "Martinique                     29818994.00    29228075.00      590919.00\n",
       "Namibia                        29600000.00     2082000.00    27518000.00\n",
       "China, Macao SAR               28456000.00    28456000.00           0.00\n",
       "Madagascar                     22893253.90     9950049.20    12943204.70\n",
       "Mali                           21947770.00    10874950.00    11072820.00\n",
       "Neth. Antilles (former)        20929000.00    20929000.00           0.00\n",
       "United States Virgin Is.       20701765.00    20693881.00        7884.00\n",
       "Botswana                       19427800.00    19423200.00        4600.00\n",
       "Cambodia                       19131000.00    14935000.00     4196000.00\n",
       "Barbados                       18724180.00    18724180.00           0.00\n",
       "Guinea                         18419390.00     9229390.00     9190000.00\n",
       "Afghanistan                    17350600.00     4160500.00    13190100.00\n",
       "Aruba                          17305800.00    16673500.00      632300.00\n",
       "Guyana                         16847220.00    16822220.00       25000.00\n",
       "Fiji                           15598253.00     6624975.00     8973278.00\n",
       "French Guiana                  13875000.00     6027000.00     7848000.00\n",
       "Haiti                          13778000.00     8963000.00     4815000.00\n",
       "Bermuda                        13546200.00    13546200.00           0.00\n",
       "Congo                          13292000.00     3764000.00     9528000.00\n",
       "French Polynesia               12176066.00     8475716.00     3700350.00\n",
       "Mauritania                     11353107.00    11205107.00      148000.00\n",
       "Cayman Islands                 10380790.00    10380790.00           0.00\n",
       "Burkina Faso                   10091871.00     8121498.00     1970373.00\n",
       "Swaziland                      10064230.00     5669870.00     4394360.00\n",
       "Northern Mariana Islands        8196500.00     8196500.00           0.00\n",
       "Greenland                       7891382.30     4015433.60     3875948.70\n",
       "Lesotho                         7302400.00           0.00     7302400.00\n",
       "St. Lucia                       6365597.00     6365597.00           0.00\n",
       "Somalia                         6246000.00     6246000.00           0.00\n",
       "State of Palestine              5955200.00     5955200.00           0.00\n",
       "Togo                            5919000.00     2372900.00     3546100.00\n",
       "Djibouti                        5668000.00     5668000.00           0.00\n",
       "Eritrea                         5578000.00     5551000.00       27000.00\n",
       "Liberia                         5234000.00     5234000.00           0.00\n",
       "Isle of Man                     5104700.00     5062800.00       41900.00\n",
       "Faeroe Islands                  5062490.00     3040811.00     2021679.00\n",
       "Seychelles                      4897380.00     4882630.00       14750.00\n",
       "Niger                           4868975.00     4868940.00          35.00\n",
       "Cabo Verde                      4731360.00     4375890.00      355470.00\n",
       "Belize                          4709655.22     2030191.76     2679463.44\n",
       "Antigua and Barbuda             4691800.00     4691800.00           0.00\n",
       "Rwanda                          4258924.00     1802704.00     2456220.00\n",
       "Maldives                        3752207.00     3744677.00        7530.00\n",
       "Gambia                          3646900.00     3646900.00           0.00\n",
       "St. Kitts-Nevis                 3626100.00     3589100.00       37000.00\n",
       "American Samoa                  3486686.00     3483386.00        3300.00\n",
       "Grenada                         3198740.00     3198740.00           0.00\n",
       "Mayotte                         3191630.00     3121300.00       70330.00\n",
       "Gibraltar                       3023000.00     3023000.00           0.00\n",
       "Equatorial Guinea               2986300.00     1918300.00     1068000.00\n",
       "Jersey                          2975500.00     2975500.00           0.00\n",
       "Central African Rep.            2889000.00      511000.00     2378000.00\n",
       "Chad                            2870000.00     2870000.00           0.00\n",
       "Turks and Caicos Islands        2753900.00     2753900.00           0.00\n",
       "Sierra Leone                    2736183.00     1787370.00      948813.00\n",
       "Curaçao                         2712000.00     2616000.00       96000.00\n",
       "Burundi                         2545241.00      121871.00     2423370.00\n",
       "St. Vincent-Grenadines          2417400.00     1905580.00      511820.00\n",
       "Benin                           2372000.00     2358000.00       14000.00\n",
       "Samoa                           2183200.00     1313400.00      869800.00\n",
       "British Virgin Islands          2080000.00     2080000.00           0.00\n",
       "Palau                           2043700.00     2043700.00           0.00\n",
       "Andorra                         1966000.00      122700.00     1843300.00\n",
       "Marshall Islands                1844200.00     1843600.00         600.00\n",
       "Timor-Leste                     1716625.00     1716625.00           0.00\n",
       "Dominica                        1695480.00     1082980.00      612500.00\n",
       "Micronesia (Fed. States of)     1688860.00     1669660.00       19200.00\n",
       "Guernsey                        1574800.00     1574800.00           0.00\n",
       "Solomon Islands                 1552900.00     1552900.00           0.00\n",
       "South Sudan                     1405000.00     1399000.00        6000.00\n",
       "Anguilla                        1336800.00     1336800.00           0.00\n",
       "Sint Maarten (Dutch part)       1229300.00     1229300.00           0.00\n",
       "Vanuatu                         1077750.00      989450.00       88300.00\n",
       "Tonga                            918634.00      914086.00        4548.00\n",
       "St. Pierre-Miquelon              918110.00      905260.00       12850.00\n",
       "Comoros                          828800.00      828800.00           0.00\n",
       "Sao Tome and Principe            826900.00      688100.00      138800.00\n",
       "Guinea-Bissau                    684327.00      684327.00           0.00\n",
       "Cook Islands                     578400.00      578400.00           0.00\n",
       "Liechtenstein                    577600.00       29400.00      548200.00\n",
       "Nauru                            570954.00      570400.00         554.00\n",
       "Montserrat                       412200.00      412200.00           0.00\n",
       "Kiribati                         370900.00      370900.00           0.00\n",
       "Bonaire, St Eustatius, Saba      364600.00      362400.00        2200.00\n",
       "Falkland Is. (Malvinas)          331000.00      300010.00       30990.00\n",
       "Wallis and Futuna Is.            269632.00      269632.00           0.00\n",
       "St. Helena and Depend.           167270.00      160760.00        6510.00\n",
       "Tuvalu                            79060.00       79060.00           0.00\n",
       "Niue                              64202.33       63869.00         333.33"
      ]
     },
     "execution_count": 13,
     "metadata": {},
     "output_type": "execute_result"
    }
   ],
   "source": [
    "#  ranking of all country - gross, renewable, non renevable\n",
    "rank_all_rnr = df.groupby(['country_or_area']).agg({'new_quantity':'sum', 'non_renewable':'sum', 'renewable':'sum'})\n",
    "rank_all_rnr.sort_values('new_quantity',ascending = False, inplace = True)\n",
    "rank_all_rnr"
   ]
  },
  {
   "cell_type": "code",
   "execution_count": 14,
   "id": "26ac29c8",
   "metadata": {},
   "outputs": [
    {
     "data": {
      "application/vnd.plotly.v1+json": {
       "config": {
        "linkText": "Export to plot.ly",
        "plotlyServerURL": "https://plot.ly",
        "showLink": true
       },
       "data": [
        {
         "line": {
          "color": "rgba(255, 153, 51, 1.0)",
          "dash": "solid",
          "shape": "linear",
          "width": 1.3
         },
         "mode": "lines",
         "name": "new_quantity",
         "text": "",
         "type": "scatter",
         "x": [
          "United States",
          "China",
          "Japan",
          "Russian Federation",
          "India",
          "Canada",
          "Germany",
          "France",
          "Brazil",
          "United Kingdom",
          "Korea, Republic of",
          "Italy",
          "Spain",
          "Mexico",
          "South Africa",
          "Australia",
          "Other Asia",
          "Ukraine",
          "Saudi Arabia",
          "Iran (Islamic Rep. of)",
          "Turkey",
          "Poland",
          "Sweden",
          "Indonesia",
          "Norway",
          "Thailand",
          "Egypt",
          "Argentina",
          "Venezuela (Bolivar. Rep.)",
          "Netherlands",
          "Malaysia",
          "Belgium",
          "Pakistan",
          "Czechia",
          "Finland",
          "Kazakhstan",
          "Switzerland",
          "Austria",
          "United Arab Emirates",
          "Romania",
          "Viet Nam",
          "Greece",
          "Colombia",
          "Philippines",
          "Paraguay",
          "Chile",
          "Uzbekistan",
          "Israel",
          "Portugal",
          "Bulgaria",
          "Kuwait",
          "New Zealand",
          "Denmark",
          "Iraq",
          "Singapore",
          "Hungary",
          "Algeria",
          "China, Hong Kong SAR",
          "Syrian Arab Republic",
          "Belarus",
          "Slovakia",
          "Bangladesh",
          "Peru",
          "Ireland",
          "Puerto Rico",
          "Libya",
          "Nigeria",
          "Korea, Dem.Ppl's.Rep.",
          "Azerbaijan",
          "Serbia and Montenegro",
          "Morocco",
          "Serbia",
          "Qatar",
          "Tajikistan",
          "Cuba",
          "Slovenia",
          "Ecuador",
          "Kyrgyzstan",
          "Oman",
          "Bahrain",
          "Turkmenistan",
          "Tunisia",
          "Lithuania",
          "Croatia",
          "Dominican Republic",
          "Lebanon",
          "Bosnia and Herzegovina",
          "Mozambique",
          "Iceland",
          "Jordan",
          "Estonia",
          "Zambia",
          "Uruguay",
          "Sri Lanka",
          "Georgia",
          "Zimbabwe",
          "Ghana",
          "Costa Rica",
          "Guatemala",
          "Dem. Rep. of the Congo",
          "Trinidad and Tobago",
          "Myanmar",
          "T.F.Yug.Rep. Macedonia",
          "Armenia",
          "Kenya",
          "Panama",
          "Jamaica",
          "Côte d'Ivoire",
          "Honduras",
          "Bolivia (Plur. State of)",
          "Albania",
          "Latvia",
          "Yemen",
          "El Salvador",
          "Cameroon",
          "Bhutan",
          "Cyprus",
          "Mongolia",
          "Ethiopia",
          "United Rep. of Tanzania",
          "Lao People's Dem. Rep.",
          "Angola",
          "Sudan (former)",
          "Brunei Darussalam",
          "Papua New Guinea",
          "Nicaragua",
          "Luxembourg",
          "Nepal",
          "Republic of Moldova",
          "Réunion",
          "Mauritius",
          "Malta",
          "Senegal",
          "Uganda",
          "New Caledonia",
          "Guam",
          "Bahamas",
          "Gabon",
          "Suriname",
          "Malawi",
          "Sudan",
          "Guadeloupe",
          "Montenegro",
          "Martinique",
          "Namibia",
          "China, Macao SAR",
          "Madagascar",
          "Mali",
          "Neth. Antilles (former)",
          "United States Virgin Is.",
          "Botswana",
          "Cambodia",
          "Barbados",
          "Guinea",
          "Afghanistan",
          "Aruba",
          "Guyana",
          "Fiji",
          "French Guiana",
          "Haiti",
          "Bermuda",
          "Congo",
          "French Polynesia",
          "Mauritania",
          "Cayman Islands",
          "Burkina Faso",
          "Swaziland",
          "Northern Mariana Islands",
          "Greenland",
          "Lesotho",
          "St. Lucia",
          "Somalia",
          "State of Palestine",
          "Togo",
          "Djibouti",
          "Eritrea",
          "Liberia",
          "Isle of Man",
          "Faeroe Islands",
          "Seychelles",
          "Niger",
          "Cabo Verde",
          "Belize",
          "Antigua and Barbuda",
          "Rwanda",
          "Maldives",
          "Gambia",
          "St. Kitts-Nevis",
          "American Samoa",
          "Grenada",
          "Mayotte",
          "Gibraltar",
          "Equatorial Guinea",
          "Jersey",
          "Central African Rep.",
          "Chad",
          "Turks and Caicos Islands",
          "Sierra Leone",
          "Curaçao",
          "Burundi",
          "St. Vincent-Grenadines",
          "Benin",
          "Samoa",
          "British Virgin Islands",
          "Palau",
          "Andorra",
          "Marshall Islands",
          "Timor-Leste",
          "Dominica",
          "Micronesia (Fed. States of)",
          "Guernsey",
          "Solomon Islands",
          "South Sudan",
          "Anguilla",
          "Sint Maarten (Dutch part)",
          "Vanuatu",
          "Tonga",
          "St. Pierre-Miquelon",
          "Comoros",
          "Sao Tome and Principe",
          "Guinea-Bissau",
          "Cook Islands",
          "Liechtenstein",
          "Nauru",
          "Montserrat",
          "Kiribati",
          "Bonaire, St Eustatius, Saba",
          "Falkland Is. (Malvinas)",
          "Wallis and Futuna Is.",
          "St. Helena and Depend.",
          "Tuvalu",
          "Niue"
         ],
         "y": [
          85549767000,
          55912127900,
          22157381000,
          19882526000,
          15245741000,
          12657271000,
          12543013000,
          11476682000,
          8526034000,
          7803117000,
          7651171000,
          5949869000,
          5307931000,
          4905218000,
          4865063000,
          4667286000,
          4373222000,
          3884638000,
          3671794000,
          3559095400,
          3353771000,
          3177960000,
          3145664000,
          2704177170,
          2652391000,
          2652093200,
          2231267000,
          2136147170,
          2099219040,
          2054706000,
          1900808340,
          1747575000,
          1693266000,
          1625272000,
          1544952000,
          1485510000,
          1396666000,
          1324302000,
          1301659000,
          1222837000,
          1218229000,
          1139014000,
          1119718590,
          1117501794,
          1082088620,
          1044971000,
          1035619000,
          998452000,
          940670000,
          914259000,
          894596000,
          860683000,
          820864000,
          789289000,
          761093530,
          743853000,
          733039000,
          731318000,
          616120000,
          615698000,
          602865000,
          571438000,
          568442686,
          518587000,
          465321600,
          464848000,
          442789000,
          432216000,
          423972000,
          398709000,
          385762000,
          372642000,
          360944000,
          335050000,
          334844600,
          310662000,
          306219100,
          302077000,
          291486000,
          278928000,
          275410000,
          266057720,
          264696000,
          257915000,
          254716060,
          248960000,
          248110000,
          231105000,
          227146000,
          220496400,
          213973000,
          196650000,
          181925300,
          175884078,
          175170000,
          173461500,
          170828000,
          163570297,
          146343100,
          141688000,
          141218000,
          139357820,
          136580131,
          131479000,
          124911300,
          123837100,
          121122700,
          110336600,
          108030000,
          107582200,
          104104770,
          102654000,
          101587000,
          100917000,
          94063000,
          85237210,
          83410000,
          80870100,
          74624000,
          74112000,
          70597066.6,
          68871000,
          66746000,
          66117000,
          61858000,
          60548000,
          59338000,
          48350650,
          45910000,
          44543880,
          44033900,
          42838000,
          42029000,
          39458250,
          38845680,
          38562100,
          37699400,
          34002000,
          33052600,
          31599160,
          31493000,
          30927000,
          30435000,
          29818994,
          29600000,
          28456000,
          22893253.9,
          21947770,
          20929000,
          20701765,
          19427800,
          19131000,
          18724180,
          18419390,
          17350600,
          17305800,
          16847220,
          15598253,
          13875000,
          13778000,
          13546200,
          13292000,
          12176066,
          11353107,
          10380790,
          10091871,
          10064230,
          8196500,
          7891382.3,
          7302400,
          6365597,
          6246000,
          5955200,
          5919000,
          5668000,
          5578000,
          5234000,
          5104700,
          5062490,
          4897380,
          4868975,
          4731360,
          4709655.22,
          4691800,
          4258924,
          3752207,
          3646900,
          3626100,
          3486686,
          3198740,
          3191630,
          3023000,
          2986300,
          2975500,
          2889000,
          2870000,
          2753900,
          2736183,
          2712000,
          2545241,
          2417400,
          2372000,
          2183200,
          2080000,
          2043700,
          1966000,
          1844200,
          1716625,
          1695480,
          1688860,
          1574800,
          1552900,
          1405000,
          1336800,
          1229300,
          1077750,
          918634,
          918110,
          828800,
          826900,
          684327,
          578400,
          577600,
          570954,
          412200,
          370900,
          364600,
          331000,
          269632,
          167270,
          79060,
          64202.3334
         ]
        },
        {
         "line": {
          "color": "rgba(55, 128, 191, 1.0)",
          "dash": "solid",
          "shape": "linear",
          "width": 1.3
         },
         "mode": "lines",
         "name": "non_renewable",
         "text": "",
         "type": "scatter",
         "x": [
          "United States",
          "China",
          "Japan",
          "Russian Federation",
          "India",
          "Canada",
          "Germany",
          "France",
          "Brazil",
          "United Kingdom",
          "Korea, Republic of",
          "Italy",
          "Spain",
          "Mexico",
          "South Africa",
          "Australia",
          "Other Asia",
          "Ukraine",
          "Saudi Arabia",
          "Iran (Islamic Rep. of)",
          "Turkey",
          "Poland",
          "Sweden",
          "Indonesia",
          "Norway",
          "Thailand",
          "Egypt",
          "Argentina",
          "Venezuela (Bolivar. Rep.)",
          "Netherlands",
          "Malaysia",
          "Belgium",
          "Pakistan",
          "Czechia",
          "Finland",
          "Kazakhstan",
          "Switzerland",
          "Austria",
          "United Arab Emirates",
          "Romania",
          "Viet Nam",
          "Greece",
          "Colombia",
          "Philippines",
          "Paraguay",
          "Chile",
          "Uzbekistan",
          "Israel",
          "Portugal",
          "Bulgaria",
          "Kuwait",
          "New Zealand",
          "Denmark",
          "Iraq",
          "Singapore",
          "Hungary",
          "Algeria",
          "China, Hong Kong SAR",
          "Syrian Arab Republic",
          "Belarus",
          "Slovakia",
          "Bangladesh",
          "Peru",
          "Ireland",
          "Puerto Rico",
          "Libya",
          "Nigeria",
          "Korea, Dem.Ppl's.Rep.",
          "Azerbaijan",
          "Serbia and Montenegro",
          "Morocco",
          "Serbia",
          "Qatar",
          "Tajikistan",
          "Cuba",
          "Slovenia",
          "Ecuador",
          "Kyrgyzstan",
          "Oman",
          "Bahrain",
          "Turkmenistan",
          "Tunisia",
          "Lithuania",
          "Croatia",
          "Dominican Republic",
          "Lebanon",
          "Bosnia and Herzegovina",
          "Mozambique",
          "Iceland",
          "Jordan",
          "Estonia",
          "Zambia",
          "Uruguay",
          "Sri Lanka",
          "Georgia",
          "Zimbabwe",
          "Ghana",
          "Costa Rica",
          "Guatemala",
          "Dem. Rep. of the Congo",
          "Trinidad and Tobago",
          "Myanmar",
          "T.F.Yug.Rep. Macedonia",
          "Armenia",
          "Kenya",
          "Panama",
          "Jamaica",
          "Côte d'Ivoire",
          "Honduras",
          "Bolivia (Plur. State of)",
          "Albania",
          "Latvia",
          "Yemen",
          "El Salvador",
          "Cameroon",
          "Bhutan",
          "Cyprus",
          "Mongolia",
          "Ethiopia",
          "United Rep. of Tanzania",
          "Lao People's Dem. Rep.",
          "Angola",
          "Sudan (former)",
          "Brunei Darussalam",
          "Papua New Guinea",
          "Nicaragua",
          "Luxembourg",
          "Nepal",
          "Republic of Moldova",
          "Réunion",
          "Mauritius",
          "Malta",
          "Senegal",
          "Uganda",
          "New Caledonia",
          "Guam",
          "Bahamas",
          "Gabon",
          "Suriname",
          "Malawi",
          "Sudan",
          "Guadeloupe",
          "Montenegro",
          "Martinique",
          "Namibia",
          "China, Macao SAR",
          "Madagascar",
          "Mali",
          "Neth. Antilles (former)",
          "United States Virgin Is.",
          "Botswana",
          "Cambodia",
          "Barbados",
          "Guinea",
          "Afghanistan",
          "Aruba",
          "Guyana",
          "Fiji",
          "French Guiana",
          "Haiti",
          "Bermuda",
          "Congo",
          "French Polynesia",
          "Mauritania",
          "Cayman Islands",
          "Burkina Faso",
          "Swaziland",
          "Northern Mariana Islands",
          "Greenland",
          "Lesotho",
          "St. Lucia",
          "Somalia",
          "State of Palestine",
          "Togo",
          "Djibouti",
          "Eritrea",
          "Liberia",
          "Isle of Man",
          "Faeroe Islands",
          "Seychelles",
          "Niger",
          "Cabo Verde",
          "Belize",
          "Antigua and Barbuda",
          "Rwanda",
          "Maldives",
          "Gambia",
          "St. Kitts-Nevis",
          "American Samoa",
          "Grenada",
          "Mayotte",
          "Gibraltar",
          "Equatorial Guinea",
          "Jersey",
          "Central African Rep.",
          "Chad",
          "Turks and Caicos Islands",
          "Sierra Leone",
          "Curaçao",
          "Burundi",
          "St. Vincent-Grenadines",
          "Benin",
          "Samoa",
          "British Virgin Islands",
          "Palau",
          "Andorra",
          "Marshall Islands",
          "Timor-Leste",
          "Dominica",
          "Micronesia (Fed. States of)",
          "Guernsey",
          "Solomon Islands",
          "South Sudan",
          "Anguilla",
          "Sint Maarten (Dutch part)",
          "Vanuatu",
          "Tonga",
          "St. Pierre-Miquelon",
          "Comoros",
          "Sao Tome and Principe",
          "Guinea-Bissau",
          "Cook Islands",
          "Liechtenstein",
          "Nauru",
          "Montserrat",
          "Kiribati",
          "Bonaire, St Eustatius, Saba",
          "Falkland Is. (Malvinas)",
          "Wallis and Futuna Is.",
          "St. Helena and Depend.",
          "Tuvalu",
          "Niue"
         ],
         "y": [
          61291850000,
          44958773800,
          14951631000,
          13302272000,
          12636634000,
          3202264000,
          8239026000,
          1114594000,
          1335527000,
          5819427000,
          4952429000,
          4664379000,
          2869572000,
          3943177000,
          4519462000,
          4271064000,
          3368994000,
          1907568000,
          3671791000,
          3339103800,
          2468867000,
          3078370000,
          276251000,
          2322339000,
          39225000,
          2511782000,
          1940624000,
          1326179000,
          623652040,
          1918580000,
          1752854530,
          735600000,
          1102306000,
          1104191000,
          793383000,
          1323020000,
          64109000,
          450504000,
          1301659000,
          716220000,
          703376000,
          1000049000,
          308448000,
          746687916,
          384270,
          601121000,
          863312000,
          995830000,
          620418000,
          476795000,
          894596000,
          256020000,
          696616000,
          740824000,
          761093530,
          435621000,
          728109000,
          731318000,
          552962000,
          614797000,
          186759000,
          552751000,
          190538636.3,
          463401000,
          461932800,
          464848000,
          314288000,
          172276000,
          380628000,
          269906000,
          343446000,
          264151000,
          360944000,
          4510000,
          332688200,
          115288000,
          132887500,
          41407000,
          291486000,
          278928000,
          275346000,
          262705000,
          59624000,
          115365000,
          223509190,
          233077000,
          138324000,
          3102000,
          98000,
          219539000,
          210857000,
          1146000,
          35314500,
          91154259,
          33476000,
          85211800,
          41126000,
          12385933.35,
          80611600,
          737000,
          141218000,
          61796280,
          111468080,
          48021000,
          39784200,
          49196400,
          117556500,
          74235600,
          58012000,
          65320000,
          1863040,
          39824000,
          101587000,
          44732000,
          15728000,
          13560,
          82484000,
          80870100,
          1527000,
          29404000,
          5402000,
          22360000,
          33268000,
          66109000,
          38514000,
          43439000,
          37962000,
          656650,
          43382000,
          31883200,
          42029300,
          42697000,
          42002000,
          6846600,
          30793100,
          38562100,
          37699400,
          16061000,
          12890200,
          3933770,
          7644000,
          29013000,
          12263000,
          29228075,
          2082000,
          28456000,
          9950049.2,
          10874950,
          20929000,
          20693881,
          19423200,
          14935000,
          18724180,
          9229390,
          4160500,
          16673500,
          16822220,
          6624975,
          6027000,
          8963000,
          13546200,
          3764000,
          8475716,
          11205107,
          10380790,
          8121498,
          5669870,
          8196500,
          4015433.6,
          0,
          6365597,
          6246000,
          5955200,
          2372900,
          5668000,
          5551000,
          5234000,
          5062800,
          3040811,
          4882630,
          4868940,
          4375890,
          2030191.762,
          4691800,
          1802704,
          3744677,
          3646900,
          3589100,
          3483386,
          3198740,
          3121300,
          3023000,
          1918300,
          2975500,
          511000,
          2870000,
          2753900,
          1787370,
          2616000,
          121871,
          1905580,
          2358000,
          1313400,
          2080000,
          2043700,
          122700,
          1843600,
          1716625,
          1082980,
          1669660,
          1574800,
          1552900,
          1399000,
          1336800,
          1229300,
          989450,
          914086,
          905260,
          828800,
          688100,
          684327,
          578400,
          29400,
          570400,
          412200,
          370900,
          362400,
          300010,
          269632,
          160760,
          79060,
          63869
         ]
        },
        {
         "line": {
          "color": "rgba(50, 171, 96, 1.0)",
          "dash": "solid",
          "shape": "linear",
          "width": 1.3
         },
         "mode": "lines",
         "name": "renewable",
         "text": "",
         "type": "scatter",
         "x": [
          "United States",
          "China",
          "Japan",
          "Russian Federation",
          "India",
          "Canada",
          "Germany",
          "France",
          "Brazil",
          "United Kingdom",
          "Korea, Republic of",
          "Italy",
          "Spain",
          "Mexico",
          "South Africa",
          "Australia",
          "Other Asia",
          "Ukraine",
          "Saudi Arabia",
          "Iran (Islamic Rep. of)",
          "Turkey",
          "Poland",
          "Sweden",
          "Indonesia",
          "Norway",
          "Thailand",
          "Egypt",
          "Argentina",
          "Venezuela (Bolivar. Rep.)",
          "Netherlands",
          "Malaysia",
          "Belgium",
          "Pakistan",
          "Czechia",
          "Finland",
          "Kazakhstan",
          "Switzerland",
          "Austria",
          "United Arab Emirates",
          "Romania",
          "Viet Nam",
          "Greece",
          "Colombia",
          "Philippines",
          "Paraguay",
          "Chile",
          "Uzbekistan",
          "Israel",
          "Portugal",
          "Bulgaria",
          "Kuwait",
          "New Zealand",
          "Denmark",
          "Iraq",
          "Singapore",
          "Hungary",
          "Algeria",
          "China, Hong Kong SAR",
          "Syrian Arab Republic",
          "Belarus",
          "Slovakia",
          "Bangladesh",
          "Peru",
          "Ireland",
          "Puerto Rico",
          "Libya",
          "Nigeria",
          "Korea, Dem.Ppl's.Rep.",
          "Azerbaijan",
          "Serbia and Montenegro",
          "Morocco",
          "Serbia",
          "Qatar",
          "Tajikistan",
          "Cuba",
          "Slovenia",
          "Ecuador",
          "Kyrgyzstan",
          "Oman",
          "Bahrain",
          "Turkmenistan",
          "Tunisia",
          "Lithuania",
          "Croatia",
          "Dominican Republic",
          "Lebanon",
          "Bosnia and Herzegovina",
          "Mozambique",
          "Iceland",
          "Jordan",
          "Estonia",
          "Zambia",
          "Uruguay",
          "Sri Lanka",
          "Georgia",
          "Zimbabwe",
          "Ghana",
          "Costa Rica",
          "Guatemala",
          "Dem. Rep. of the Congo",
          "Trinidad and Tobago",
          "Myanmar",
          "T.F.Yug.Rep. Macedonia",
          "Armenia",
          "Kenya",
          "Panama",
          "Jamaica",
          "Côte d'Ivoire",
          "Honduras",
          "Bolivia (Plur. State of)",
          "Albania",
          "Latvia",
          "Yemen",
          "El Salvador",
          "Cameroon",
          "Bhutan",
          "Cyprus",
          "Mongolia",
          "Ethiopia",
          "United Rep. of Tanzania",
          "Lao People's Dem. Rep.",
          "Angola",
          "Sudan (former)",
          "Brunei Darussalam",
          "Papua New Guinea",
          "Nicaragua",
          "Luxembourg",
          "Nepal",
          "Republic of Moldova",
          "Réunion",
          "Mauritius",
          "Malta",
          "Senegal",
          "Uganda",
          "New Caledonia",
          "Guam",
          "Bahamas",
          "Gabon",
          "Suriname",
          "Malawi",
          "Sudan",
          "Guadeloupe",
          "Montenegro",
          "Martinique",
          "Namibia",
          "China, Macao SAR",
          "Madagascar",
          "Mali",
          "Neth. Antilles (former)",
          "United States Virgin Is.",
          "Botswana",
          "Cambodia",
          "Barbados",
          "Guinea",
          "Afghanistan",
          "Aruba",
          "Guyana",
          "Fiji",
          "French Guiana",
          "Haiti",
          "Bermuda",
          "Congo",
          "French Polynesia",
          "Mauritania",
          "Cayman Islands",
          "Burkina Faso",
          "Swaziland",
          "Northern Mariana Islands",
          "Greenland",
          "Lesotho",
          "St. Lucia",
          "Somalia",
          "State of Palestine",
          "Togo",
          "Djibouti",
          "Eritrea",
          "Liberia",
          "Isle of Man",
          "Faeroe Islands",
          "Seychelles",
          "Niger",
          "Cabo Verde",
          "Belize",
          "Antigua and Barbuda",
          "Rwanda",
          "Maldives",
          "Gambia",
          "St. Kitts-Nevis",
          "American Samoa",
          "Grenada",
          "Mayotte",
          "Gibraltar",
          "Equatorial Guinea",
          "Jersey",
          "Central African Rep.",
          "Chad",
          "Turks and Caicos Islands",
          "Sierra Leone",
          "Curaçao",
          "Burundi",
          "St. Vincent-Grenadines",
          "Benin",
          "Samoa",
          "British Virgin Islands",
          "Palau",
          "Andorra",
          "Marshall Islands",
          "Timor-Leste",
          "Dominica",
          "Micronesia (Fed. States of)",
          "Guernsey",
          "Solomon Islands",
          "South Sudan",
          "Anguilla",
          "Sint Maarten (Dutch part)",
          "Vanuatu",
          "Tonga",
          "St. Pierre-Miquelon",
          "Comoros",
          "Sao Tome and Principe",
          "Guinea-Bissau",
          "Cook Islands",
          "Liechtenstein",
          "Nauru",
          "Montserrat",
          "Kiribati",
          "Bonaire, St Eustatius, Saba",
          "Falkland Is. (Malvinas)",
          "Wallis and Futuna Is.",
          "St. Helena and Depend.",
          "Tuvalu",
          "Niue"
         ],
         "y": [
          24257917000,
          10953354000,
          7205750000,
          6580254000,
          2609107000,
          9455007000,
          4303987000,
          10362088000,
          7190507000,
          1983690000,
          2698742000,
          1285490000,
          2438359000,
          962041000,
          345601000,
          396222000,
          1004228000,
          1977070000,
          3000,
          219991620,
          884904000,
          99590000,
          2869413000,
          381838170,
          2613166000,
          140311200,
          290643000,
          809968170,
          1475567000,
          136126000,
          147953805,
          1011975000,
          590960000,
          521081000,
          751569000,
          162490000,
          1332557000,
          873798000,
          0,
          506617000,
          514853000,
          138965000,
          811270590,
          370813875.1,
          1081704350,
          443850000,
          172307000,
          2622000,
          320252000,
          437464000,
          0,
          604663000,
          124248000,
          48465000,
          0,
          308232000,
          4930000,
          0,
          63158000,
          901000,
          416106000,
          18687000,
          377904049,
          55186000,
          3388800,
          0,
          128501000,
          259940000,
          43344000,
          128803000,
          42316000,
          108491000,
          0,
          330540000,
          2156400,
          195374000,
          173331600,
          260670000,
          0,
          0,
          64000,
          3352720,
          205072000,
          142550000,
          31206870,
          15883000,
          109786000,
          228003000,
          227048000,
          957400,
          3116000,
          195504000,
          146610800,
          84729819,
          141694000,
          88249700,
          129702000,
          151184364.56421,
          65731500,
          140951000,
          0,
          77561540,
          25112051,
          83458000,
          85127100,
          74640700,
          3566200,
          36101000,
          50018000,
          42262200,
          102241730,
          62830000,
          0,
          56185000,
          78335000,
          85223650,
          926000,
          0,
          73097000,
          44708000,
          65195067.3,
          46511000,
          33478000,
          8000,
          23344000,
          17109000,
          21376000,
          47694000,
          2528000,
          12660680,
          2004600,
          141000,
          27000,
          32611650,
          8052580,
          0,
          0,
          17941000,
          20162400,
          27665390,
          23849000,
          1914000,
          18172000,
          590919,
          27518000,
          0,
          12943204.7,
          11072820,
          0,
          7884,
          4600,
          4196000,
          0,
          9190000,
          13190100,
          632300,
          25000,
          8973278,
          7848000,
          4815000,
          0,
          9528000,
          3700350,
          148000,
          0,
          1970373,
          4394360,
          0,
          3875948.7,
          7302400,
          0,
          0,
          0,
          3546100,
          0,
          27000,
          0,
          41900,
          2021679,
          14750,
          35,
          355470,
          2679463.44,
          0,
          2456220,
          7530,
          0,
          37000,
          3300,
          0,
          70330,
          0,
          1068000,
          0,
          2378000,
          0,
          0,
          948813,
          96000,
          2423370,
          511820,
          14000,
          869800,
          0,
          0,
          1843300,
          600,
          0,
          612500,
          19200,
          0,
          0,
          6000,
          0,
          0,
          88300,
          4548,
          12850,
          0,
          138800,
          0,
          0,
          548200,
          554,
          0,
          0,
          2200,
          30990,
          0,
          6510,
          0,
          333.333335
         ]
        }
       ],
       "layout": {
        "legend": {
         "bgcolor": "#F5F6F9",
         "font": {
          "color": "#4D5663"
         }
        },
        "paper_bgcolor": "#F5F6F9",
        "plot_bgcolor": "#F5F6F9",
        "template": {
         "data": {
          "bar": [
           {
            "error_x": {
             "color": "#2a3f5f"
            },
            "error_y": {
             "color": "#2a3f5f"
            },
            "marker": {
             "line": {
              "color": "#E5ECF6",
              "width": 0.5
             },
             "pattern": {
              "fillmode": "overlay",
              "size": 10,
              "solidity": 0.2
             }
            },
            "type": "bar"
           }
          ],
          "barpolar": [
           {
            "marker": {
             "line": {
              "color": "#E5ECF6",
              "width": 0.5
             },
             "pattern": {
              "fillmode": "overlay",
              "size": 10,
              "solidity": 0.2
             }
            },
            "type": "barpolar"
           }
          ],
          "carpet": [
           {
            "aaxis": {
             "endlinecolor": "#2a3f5f",
             "gridcolor": "white",
             "linecolor": "white",
             "minorgridcolor": "white",
             "startlinecolor": "#2a3f5f"
            },
            "baxis": {
             "endlinecolor": "#2a3f5f",
             "gridcolor": "white",
             "linecolor": "white",
             "minorgridcolor": "white",
             "startlinecolor": "#2a3f5f"
            },
            "type": "carpet"
           }
          ],
          "choropleth": [
           {
            "colorbar": {
             "outlinewidth": 0,
             "ticks": ""
            },
            "type": "choropleth"
           }
          ],
          "contour": [
           {
            "colorbar": {
             "outlinewidth": 0,
             "ticks": ""
            },
            "colorscale": [
             [
              0,
              "#0d0887"
             ],
             [
              0.1111111111111111,
              "#46039f"
             ],
             [
              0.2222222222222222,
              "#7201a8"
             ],
             [
              0.3333333333333333,
              "#9c179e"
             ],
             [
              0.4444444444444444,
              "#bd3786"
             ],
             [
              0.5555555555555556,
              "#d8576b"
             ],
             [
              0.6666666666666666,
              "#ed7953"
             ],
             [
              0.7777777777777778,
              "#fb9f3a"
             ],
             [
              0.8888888888888888,
              "#fdca26"
             ],
             [
              1,
              "#f0f921"
             ]
            ],
            "type": "contour"
           }
          ],
          "contourcarpet": [
           {
            "colorbar": {
             "outlinewidth": 0,
             "ticks": ""
            },
            "type": "contourcarpet"
           }
          ],
          "heatmap": [
           {
            "colorbar": {
             "outlinewidth": 0,
             "ticks": ""
            },
            "colorscale": [
             [
              0,
              "#0d0887"
             ],
             [
              0.1111111111111111,
              "#46039f"
             ],
             [
              0.2222222222222222,
              "#7201a8"
             ],
             [
              0.3333333333333333,
              "#9c179e"
             ],
             [
              0.4444444444444444,
              "#bd3786"
             ],
             [
              0.5555555555555556,
              "#d8576b"
             ],
             [
              0.6666666666666666,
              "#ed7953"
             ],
             [
              0.7777777777777778,
              "#fb9f3a"
             ],
             [
              0.8888888888888888,
              "#fdca26"
             ],
             [
              1,
              "#f0f921"
             ]
            ],
            "type": "heatmap"
           }
          ],
          "heatmapgl": [
           {
            "colorbar": {
             "outlinewidth": 0,
             "ticks": ""
            },
            "colorscale": [
             [
              0,
              "#0d0887"
             ],
             [
              0.1111111111111111,
              "#46039f"
             ],
             [
              0.2222222222222222,
              "#7201a8"
             ],
             [
              0.3333333333333333,
              "#9c179e"
             ],
             [
              0.4444444444444444,
              "#bd3786"
             ],
             [
              0.5555555555555556,
              "#d8576b"
             ],
             [
              0.6666666666666666,
              "#ed7953"
             ],
             [
              0.7777777777777778,
              "#fb9f3a"
             ],
             [
              0.8888888888888888,
              "#fdca26"
             ],
             [
              1,
              "#f0f921"
             ]
            ],
            "type": "heatmapgl"
           }
          ],
          "histogram": [
           {
            "marker": {
             "pattern": {
              "fillmode": "overlay",
              "size": 10,
              "solidity": 0.2
             }
            },
            "type": "histogram"
           }
          ],
          "histogram2d": [
           {
            "colorbar": {
             "outlinewidth": 0,
             "ticks": ""
            },
            "colorscale": [
             [
              0,
              "#0d0887"
             ],
             [
              0.1111111111111111,
              "#46039f"
             ],
             [
              0.2222222222222222,
              "#7201a8"
             ],
             [
              0.3333333333333333,
              "#9c179e"
             ],
             [
              0.4444444444444444,
              "#bd3786"
             ],
             [
              0.5555555555555556,
              "#d8576b"
             ],
             [
              0.6666666666666666,
              "#ed7953"
             ],
             [
              0.7777777777777778,
              "#fb9f3a"
             ],
             [
              0.8888888888888888,
              "#fdca26"
             ],
             [
              1,
              "#f0f921"
             ]
            ],
            "type": "histogram2d"
           }
          ],
          "histogram2dcontour": [
           {
            "colorbar": {
             "outlinewidth": 0,
             "ticks": ""
            },
            "colorscale": [
             [
              0,
              "#0d0887"
             ],
             [
              0.1111111111111111,
              "#46039f"
             ],
             [
              0.2222222222222222,
              "#7201a8"
             ],
             [
              0.3333333333333333,
              "#9c179e"
             ],
             [
              0.4444444444444444,
              "#bd3786"
             ],
             [
              0.5555555555555556,
              "#d8576b"
             ],
             [
              0.6666666666666666,
              "#ed7953"
             ],
             [
              0.7777777777777778,
              "#fb9f3a"
             ],
             [
              0.8888888888888888,
              "#fdca26"
             ],
             [
              1,
              "#f0f921"
             ]
            ],
            "type": "histogram2dcontour"
           }
          ],
          "mesh3d": [
           {
            "colorbar": {
             "outlinewidth": 0,
             "ticks": ""
            },
            "type": "mesh3d"
           }
          ],
          "parcoords": [
           {
            "line": {
             "colorbar": {
              "outlinewidth": 0,
              "ticks": ""
             }
            },
            "type": "parcoords"
           }
          ],
          "pie": [
           {
            "automargin": true,
            "type": "pie"
           }
          ],
          "scatter": [
           {
            "marker": {
             "colorbar": {
              "outlinewidth": 0,
              "ticks": ""
             }
            },
            "type": "scatter"
           }
          ],
          "scatter3d": [
           {
            "line": {
             "colorbar": {
              "outlinewidth": 0,
              "ticks": ""
             }
            },
            "marker": {
             "colorbar": {
              "outlinewidth": 0,
              "ticks": ""
             }
            },
            "type": "scatter3d"
           }
          ],
          "scattercarpet": [
           {
            "marker": {
             "colorbar": {
              "outlinewidth": 0,
              "ticks": ""
             }
            },
            "type": "scattercarpet"
           }
          ],
          "scattergeo": [
           {
            "marker": {
             "colorbar": {
              "outlinewidth": 0,
              "ticks": ""
             }
            },
            "type": "scattergeo"
           }
          ],
          "scattergl": [
           {
            "marker": {
             "colorbar": {
              "outlinewidth": 0,
              "ticks": ""
             }
            },
            "type": "scattergl"
           }
          ],
          "scattermapbox": [
           {
            "marker": {
             "colorbar": {
              "outlinewidth": 0,
              "ticks": ""
             }
            },
            "type": "scattermapbox"
           }
          ],
          "scatterpolar": [
           {
            "marker": {
             "colorbar": {
              "outlinewidth": 0,
              "ticks": ""
             }
            },
            "type": "scatterpolar"
           }
          ],
          "scatterpolargl": [
           {
            "marker": {
             "colorbar": {
              "outlinewidth": 0,
              "ticks": ""
             }
            },
            "type": "scatterpolargl"
           }
          ],
          "scatterternary": [
           {
            "marker": {
             "colorbar": {
              "outlinewidth": 0,
              "ticks": ""
             }
            },
            "type": "scatterternary"
           }
          ],
          "surface": [
           {
            "colorbar": {
             "outlinewidth": 0,
             "ticks": ""
            },
            "colorscale": [
             [
              0,
              "#0d0887"
             ],
             [
              0.1111111111111111,
              "#46039f"
             ],
             [
              0.2222222222222222,
              "#7201a8"
             ],
             [
              0.3333333333333333,
              "#9c179e"
             ],
             [
              0.4444444444444444,
              "#bd3786"
             ],
             [
              0.5555555555555556,
              "#d8576b"
             ],
             [
              0.6666666666666666,
              "#ed7953"
             ],
             [
              0.7777777777777778,
              "#fb9f3a"
             ],
             [
              0.8888888888888888,
              "#fdca26"
             ],
             [
              1,
              "#f0f921"
             ]
            ],
            "type": "surface"
           }
          ],
          "table": [
           {
            "cells": {
             "fill": {
              "color": "#EBF0F8"
             },
             "line": {
              "color": "white"
             }
            },
            "header": {
             "fill": {
              "color": "#C8D4E3"
             },
             "line": {
              "color": "white"
             }
            },
            "type": "table"
           }
          ]
         },
         "layout": {
          "annotationdefaults": {
           "arrowcolor": "#2a3f5f",
           "arrowhead": 0,
           "arrowwidth": 1
          },
          "autotypenumbers": "strict",
          "coloraxis": {
           "colorbar": {
            "outlinewidth": 0,
            "ticks": ""
           }
          },
          "colorscale": {
           "diverging": [
            [
             0,
             "#8e0152"
            ],
            [
             0.1,
             "#c51b7d"
            ],
            [
             0.2,
             "#de77ae"
            ],
            [
             0.3,
             "#f1b6da"
            ],
            [
             0.4,
             "#fde0ef"
            ],
            [
             0.5,
             "#f7f7f7"
            ],
            [
             0.6,
             "#e6f5d0"
            ],
            [
             0.7,
             "#b8e186"
            ],
            [
             0.8,
             "#7fbc41"
            ],
            [
             0.9,
             "#4d9221"
            ],
            [
             1,
             "#276419"
            ]
           ],
           "sequential": [
            [
             0,
             "#0d0887"
            ],
            [
             0.1111111111111111,
             "#46039f"
            ],
            [
             0.2222222222222222,
             "#7201a8"
            ],
            [
             0.3333333333333333,
             "#9c179e"
            ],
            [
             0.4444444444444444,
             "#bd3786"
            ],
            [
             0.5555555555555556,
             "#d8576b"
            ],
            [
             0.6666666666666666,
             "#ed7953"
            ],
            [
             0.7777777777777778,
             "#fb9f3a"
            ],
            [
             0.8888888888888888,
             "#fdca26"
            ],
            [
             1,
             "#f0f921"
            ]
           ],
           "sequentialminus": [
            [
             0,
             "#0d0887"
            ],
            [
             0.1111111111111111,
             "#46039f"
            ],
            [
             0.2222222222222222,
             "#7201a8"
            ],
            [
             0.3333333333333333,
             "#9c179e"
            ],
            [
             0.4444444444444444,
             "#bd3786"
            ],
            [
             0.5555555555555556,
             "#d8576b"
            ],
            [
             0.6666666666666666,
             "#ed7953"
            ],
            [
             0.7777777777777778,
             "#fb9f3a"
            ],
            [
             0.8888888888888888,
             "#fdca26"
            ],
            [
             1,
             "#f0f921"
            ]
           ]
          },
          "colorway": [
           "#636efa",
           "#EF553B",
           "#00cc96",
           "#ab63fa",
           "#FFA15A",
           "#19d3f3",
           "#FF6692",
           "#B6E880",
           "#FF97FF",
           "#FECB52"
          ],
          "font": {
           "color": "#2a3f5f"
          },
          "geo": {
           "bgcolor": "white",
           "lakecolor": "white",
           "landcolor": "#E5ECF6",
           "showlakes": true,
           "showland": true,
           "subunitcolor": "white"
          },
          "hoverlabel": {
           "align": "left"
          },
          "hovermode": "closest",
          "mapbox": {
           "style": "light"
          },
          "paper_bgcolor": "white",
          "plot_bgcolor": "#E5ECF6",
          "polar": {
           "angularaxis": {
            "gridcolor": "white",
            "linecolor": "white",
            "ticks": ""
           },
           "bgcolor": "#E5ECF6",
           "radialaxis": {
            "gridcolor": "white",
            "linecolor": "white",
            "ticks": ""
           }
          },
          "scene": {
           "xaxis": {
            "backgroundcolor": "#E5ECF6",
            "gridcolor": "white",
            "gridwidth": 2,
            "linecolor": "white",
            "showbackground": true,
            "ticks": "",
            "zerolinecolor": "white"
           },
           "yaxis": {
            "backgroundcolor": "#E5ECF6",
            "gridcolor": "white",
            "gridwidth": 2,
            "linecolor": "white",
            "showbackground": true,
            "ticks": "",
            "zerolinecolor": "white"
           },
           "zaxis": {
            "backgroundcolor": "#E5ECF6",
            "gridcolor": "white",
            "gridwidth": 2,
            "linecolor": "white",
            "showbackground": true,
            "ticks": "",
            "zerolinecolor": "white"
           }
          },
          "shapedefaults": {
           "line": {
            "color": "#2a3f5f"
           }
          },
          "ternary": {
           "aaxis": {
            "gridcolor": "white",
            "linecolor": "white",
            "ticks": ""
           },
           "baxis": {
            "gridcolor": "white",
            "linecolor": "white",
            "ticks": ""
           },
           "bgcolor": "#E5ECF6",
           "caxis": {
            "gridcolor": "white",
            "linecolor": "white",
            "ticks": ""
           }
          },
          "title": {
           "x": 0.05
          },
          "xaxis": {
           "automargin": true,
           "gridcolor": "white",
           "linecolor": "white",
           "ticks": "",
           "title": {
            "standoff": 15
           },
           "zerolinecolor": "white",
           "zerolinewidth": 2
          },
          "yaxis": {
           "automargin": true,
           "gridcolor": "white",
           "linecolor": "white",
           "ticks": "",
           "title": {
            "standoff": 15
           },
           "zerolinecolor": "white",
           "zerolinewidth": 2
          }
         }
        },
        "title": {
         "font": {
          "color": "#4D5663"
         }
        },
        "xaxis": {
         "gridcolor": "#E1E5ED",
         "showgrid": true,
         "tickfont": {
          "color": "#4D5663"
         },
         "title": {
          "font": {
           "color": "#4D5663"
          },
          "text": ""
         },
         "zerolinecolor": "#E1E5ED"
        },
        "yaxis": {
         "gridcolor": "#E1E5ED",
         "showgrid": true,
         "tickfont": {
          "color": "#4D5663"
         },
         "title": {
          "font": {
           "color": "#4D5663"
          },
          "text": ""
         },
         "zerolinecolor": "#E1E5ED"
        }
       }
      },
      "text/html": [
       "<div>                            <div id=\"3e201ac9-2a0e-437e-8d86-e5e7890a0aa9\" class=\"plotly-graph-div\" style=\"height:525px; width:100%;\"></div>            <script type=\"text/javascript\">                require([\"plotly\"], function(Plotly) {                    window.PLOTLYENV=window.PLOTLYENV || {};\n",
       "                    window.PLOTLYENV.BASE_URL='https://plot.ly';                                    if (document.getElementById(\"3e201ac9-2a0e-437e-8d86-e5e7890a0aa9\")) {                    Plotly.newPlot(                        \"3e201ac9-2a0e-437e-8d86-e5e7890a0aa9\",                        [{\"line\":{\"color\":\"rgba(255, 153, 51, 1.0)\",\"dash\":\"solid\",\"shape\":\"linear\",\"width\":1.3},\"mode\":\"lines\",\"name\":\"new_quantity\",\"text\":\"\",\"x\":[\"United States\",\"China\",\"Japan\",\"Russian Federation\",\"India\",\"Canada\",\"Germany\",\"France\",\"Brazil\",\"United Kingdom\",\"Korea, Republic of\",\"Italy\",\"Spain\",\"Mexico\",\"South Africa\",\"Australia\",\"Other Asia\",\"Ukraine\",\"Saudi Arabia\",\"Iran (Islamic Rep. of)\",\"Turkey\",\"Poland\",\"Sweden\",\"Indonesia\",\"Norway\",\"Thailand\",\"Egypt\",\"Argentina\",\"Venezuela (Bolivar. Rep.)\",\"Netherlands\",\"Malaysia\",\"Belgium\",\"Pakistan\",\"Czechia\",\"Finland\",\"Kazakhstan\",\"Switzerland\",\"Austria\",\"United Arab Emirates\",\"Romania\",\"Viet Nam\",\"Greece\",\"Colombia\",\"Philippines\",\"Paraguay\",\"Chile\",\"Uzbekistan\",\"Israel\",\"Portugal\",\"Bulgaria\",\"Kuwait\",\"New Zealand\",\"Denmark\",\"Iraq\",\"Singapore\",\"Hungary\",\"Algeria\",\"China, Hong Kong SAR\",\"Syrian Arab Republic\",\"Belarus\",\"Slovakia\",\"Bangladesh\",\"Peru\",\"Ireland\",\"Puerto Rico\",\"Libya\",\"Nigeria\",\"Korea, Dem.Ppl's.Rep.\",\"Azerbaijan\",\"Serbia and Montenegro\",\"Morocco\",\"Serbia\",\"Qatar\",\"Tajikistan\",\"Cuba\",\"Slovenia\",\"Ecuador\",\"Kyrgyzstan\",\"Oman\",\"Bahrain\",\"Turkmenistan\",\"Tunisia\",\"Lithuania\",\"Croatia\",\"Dominican Republic\",\"Lebanon\",\"Bosnia and Herzegovina\",\"Mozambique\",\"Iceland\",\"Jordan\",\"Estonia\",\"Zambia\",\"Uruguay\",\"Sri Lanka\",\"Georgia\",\"Zimbabwe\",\"Ghana\",\"Costa Rica\",\"Guatemala\",\"Dem. Rep. of the Congo\",\"Trinidad and Tobago\",\"Myanmar\",\"T.F.Yug.Rep. Macedonia\",\"Armenia\",\"Kenya\",\"Panama\",\"Jamaica\",\"C\\u00f4te d'Ivoire\",\"Honduras\",\"Bolivia (Plur. State of)\",\"Albania\",\"Latvia\",\"Yemen\",\"El Salvador\",\"Cameroon\",\"Bhutan\",\"Cyprus\",\"Mongolia\",\"Ethiopia\",\"United Rep. of Tanzania\",\"Lao People's Dem. Rep.\",\"Angola\",\"Sudan (former)\",\"Brunei Darussalam\",\"Papua New Guinea\",\"Nicaragua\",\"Luxembourg\",\"Nepal\",\"Republic of Moldova\",\"R\\u00e9union\",\"Mauritius\",\"Malta\",\"Senegal\",\"Uganda\",\"New Caledonia\",\"Guam\",\"Bahamas\",\"Gabon\",\"Suriname\",\"Malawi\",\"Sudan\",\"Guadeloupe\",\"Montenegro\",\"Martinique\",\"Namibia\",\"China, Macao SAR\",\"Madagascar\",\"Mali\",\"Neth. Antilles (former)\",\"United States Virgin Is.\",\"Botswana\",\"Cambodia\",\"Barbados\",\"Guinea\",\"Afghanistan\",\"Aruba\",\"Guyana\",\"Fiji\",\"French Guiana\",\"Haiti\",\"Bermuda\",\"Congo\",\"French Polynesia\",\"Mauritania\",\"Cayman Islands\",\"Burkina Faso\",\"Swaziland\",\"Northern Mariana Islands\",\"Greenland\",\"Lesotho\",\"St. Lucia\",\"Somalia\",\"State of Palestine\",\"Togo\",\"Djibouti\",\"Eritrea\",\"Liberia\",\"Isle of Man\",\"Faeroe Islands\",\"Seychelles\",\"Niger\",\"Cabo Verde\",\"Belize\",\"Antigua and Barbuda\",\"Rwanda\",\"Maldives\",\"Gambia\",\"St. Kitts-Nevis\",\"American Samoa\",\"Grenada\",\"Mayotte\",\"Gibraltar\",\"Equatorial Guinea\",\"Jersey\",\"Central African Rep.\",\"Chad\",\"Turks and Caicos Islands\",\"Sierra Leone\",\"Cura\\u00e7ao\",\"Burundi\",\"St. Vincent-Grenadines\",\"Benin\",\"Samoa\",\"British Virgin Islands\",\"Palau\",\"Andorra\",\"Marshall Islands\",\"Timor-Leste\",\"Dominica\",\"Micronesia (Fed. States of)\",\"Guernsey\",\"Solomon Islands\",\"South Sudan\",\"Anguilla\",\"Sint Maarten (Dutch part)\",\"Vanuatu\",\"Tonga\",\"St. Pierre-Miquelon\",\"Comoros\",\"Sao Tome and Principe\",\"Guinea-Bissau\",\"Cook Islands\",\"Liechtenstein\",\"Nauru\",\"Montserrat\",\"Kiribati\",\"Bonaire, St Eustatius, Saba\",\"Falkland Is. (Malvinas)\",\"Wallis and Futuna Is.\",\"St. Helena and Depend.\",\"Tuvalu\",\"Niue\"],\"y\":[85549767000.0,55912127900.0,22157381000.0,19882526000.0,15245741000.0,12657271000.0,12543013000.0,11476682000.0,8526034000.0,7803117000.0,7651171000.0,5949869000.0,5307931000.0,4905218000.0,4865063000.0,4667286000.0,4373222000.0,3884638000.0,3671794000.0,3559095400.0,3353771000.0,3177960000.0,3145664000.0,2704177170.0,2652391000.0,2652093200.0,2231267000.0,2136147170.0,2099219040.0,2054706000.0,1900808340.0,1747575000.0,1693266000.0,1625272000.0,1544952000.0,1485510000.0,1396666000.0,1324302000.0,1301659000.0,1222837000.0,1218229000.0,1139014000.0,1119718590.0,1117501794.0,1082088620.0,1044971000.0,1035619000.0,998452000.0,940670000.0,914259000.0,894596000.0,860683000.0,820864000.0,789289000.0,761093530.0,743853000.0,733039000.0,731318000.0,616120000.0,615698000.0,602865000.0,571438000.0,568442686.0,518587000.0,465321600.0,464848000.0,442789000.0,432216000.0,423972000.0,398709000.0,385762000.0,372642000.0,360944000.0,335050000.0,334844600.0,310662000.0,306219100.0,302077000.0,291486000.0,278928000.0,275410000.0,266057720.0,264696000.0,257915000.0,254716060.0,248960000.0,248110000.0,231105000.0,227146000.0,220496400.0,213973000.0,196650000.0,181925300.0,175884078.0,175170000.0,173461500.0,170828000.0,163570297.0,146343100.0,141688000.0,141218000.0,139357820.0,136580131.0,131479000.0,124911300.0,123837100.0,121122700.0,110336600.0,108030000.0,107582200.0,104104770.0,102654000.0,101587000.0,100917000.0,94063000.0,85237210.0,83410000.0,80870100.0,74624000.0,74112000.0,70597066.6,68871000.0,66746000.0,66117000.0,61858000.0,60548000.0,59338000.0,48350650.0,45910000.0,44543880.0,44033900.0,42838000.0,42029000.0,39458250.0,38845680.0,38562100.0,37699400.0,34002000.0,33052600.0,31599160.0,31493000.0,30927000.0,30435000.0,29818994.0,29600000.0,28456000.0,22893253.9,21947770.0,20929000.0,20701765.0,19427800.0,19131000.0,18724180.0,18419390.0,17350600.0,17305800.0,16847220.0,15598253.0,13875000.0,13778000.0,13546200.0,13292000.0,12176066.0,11353107.0,10380790.0,10091871.0,10064230.0,8196500.0,7891382.3,7302400.0,6365597.0,6246000.0,5955200.0,5919000.0,5668000.0,5578000.0,5234000.0,5104700.0,5062490.0,4897380.0,4868975.0,4731360.0,4709655.22,4691800.0,4258924.0,3752207.0,3646900.0,3626100.0,3486686.0,3198740.0,3191630.0,3023000.0,2986300.0,2975500.0,2889000.0,2870000.0,2753900.0,2736183.0,2712000.0,2545241.0,2417400.0,2372000.0,2183200.0,2080000.0,2043700.0,1966000.0,1844200.0,1716625.0,1695480.0,1688860.0,1574800.0,1552900.0,1405000.0,1336800.0,1229300.0,1077750.0,918634.0,918110.0,828800.0,826900.0,684327.0,578400.0,577600.0,570954.0,412200.0,370900.0,364600.0,331000.0,269632.0,167270.0,79060.0,64202.3334],\"type\":\"scatter\"},{\"line\":{\"color\":\"rgba(55, 128, 191, 1.0)\",\"dash\":\"solid\",\"shape\":\"linear\",\"width\":1.3},\"mode\":\"lines\",\"name\":\"non_renewable\",\"text\":\"\",\"x\":[\"United States\",\"China\",\"Japan\",\"Russian Federation\",\"India\",\"Canada\",\"Germany\",\"France\",\"Brazil\",\"United Kingdom\",\"Korea, Republic of\",\"Italy\",\"Spain\",\"Mexico\",\"South Africa\",\"Australia\",\"Other Asia\",\"Ukraine\",\"Saudi Arabia\",\"Iran (Islamic Rep. of)\",\"Turkey\",\"Poland\",\"Sweden\",\"Indonesia\",\"Norway\",\"Thailand\",\"Egypt\",\"Argentina\",\"Venezuela (Bolivar. Rep.)\",\"Netherlands\",\"Malaysia\",\"Belgium\",\"Pakistan\",\"Czechia\",\"Finland\",\"Kazakhstan\",\"Switzerland\",\"Austria\",\"United Arab Emirates\",\"Romania\",\"Viet Nam\",\"Greece\",\"Colombia\",\"Philippines\",\"Paraguay\",\"Chile\",\"Uzbekistan\",\"Israel\",\"Portugal\",\"Bulgaria\",\"Kuwait\",\"New Zealand\",\"Denmark\",\"Iraq\",\"Singapore\",\"Hungary\",\"Algeria\",\"China, Hong Kong SAR\",\"Syrian Arab Republic\",\"Belarus\",\"Slovakia\",\"Bangladesh\",\"Peru\",\"Ireland\",\"Puerto Rico\",\"Libya\",\"Nigeria\",\"Korea, Dem.Ppl's.Rep.\",\"Azerbaijan\",\"Serbia and Montenegro\",\"Morocco\",\"Serbia\",\"Qatar\",\"Tajikistan\",\"Cuba\",\"Slovenia\",\"Ecuador\",\"Kyrgyzstan\",\"Oman\",\"Bahrain\",\"Turkmenistan\",\"Tunisia\",\"Lithuania\",\"Croatia\",\"Dominican Republic\",\"Lebanon\",\"Bosnia and Herzegovina\",\"Mozambique\",\"Iceland\",\"Jordan\",\"Estonia\",\"Zambia\",\"Uruguay\",\"Sri Lanka\",\"Georgia\",\"Zimbabwe\",\"Ghana\",\"Costa Rica\",\"Guatemala\",\"Dem. Rep. of the Congo\",\"Trinidad and Tobago\",\"Myanmar\",\"T.F.Yug.Rep. Macedonia\",\"Armenia\",\"Kenya\",\"Panama\",\"Jamaica\",\"C\\u00f4te d'Ivoire\",\"Honduras\",\"Bolivia (Plur. State of)\",\"Albania\",\"Latvia\",\"Yemen\",\"El Salvador\",\"Cameroon\",\"Bhutan\",\"Cyprus\",\"Mongolia\",\"Ethiopia\",\"United Rep. of Tanzania\",\"Lao People's Dem. Rep.\",\"Angola\",\"Sudan (former)\",\"Brunei Darussalam\",\"Papua New Guinea\",\"Nicaragua\",\"Luxembourg\",\"Nepal\",\"Republic of Moldova\",\"R\\u00e9union\",\"Mauritius\",\"Malta\",\"Senegal\",\"Uganda\",\"New Caledonia\",\"Guam\",\"Bahamas\",\"Gabon\",\"Suriname\",\"Malawi\",\"Sudan\",\"Guadeloupe\",\"Montenegro\",\"Martinique\",\"Namibia\",\"China, Macao SAR\",\"Madagascar\",\"Mali\",\"Neth. Antilles (former)\",\"United States Virgin Is.\",\"Botswana\",\"Cambodia\",\"Barbados\",\"Guinea\",\"Afghanistan\",\"Aruba\",\"Guyana\",\"Fiji\",\"French Guiana\",\"Haiti\",\"Bermuda\",\"Congo\",\"French Polynesia\",\"Mauritania\",\"Cayman Islands\",\"Burkina Faso\",\"Swaziland\",\"Northern Mariana Islands\",\"Greenland\",\"Lesotho\",\"St. Lucia\",\"Somalia\",\"State of Palestine\",\"Togo\",\"Djibouti\",\"Eritrea\",\"Liberia\",\"Isle of Man\",\"Faeroe Islands\",\"Seychelles\",\"Niger\",\"Cabo Verde\",\"Belize\",\"Antigua and Barbuda\",\"Rwanda\",\"Maldives\",\"Gambia\",\"St. Kitts-Nevis\",\"American Samoa\",\"Grenada\",\"Mayotte\",\"Gibraltar\",\"Equatorial Guinea\",\"Jersey\",\"Central African Rep.\",\"Chad\",\"Turks and Caicos Islands\",\"Sierra Leone\",\"Cura\\u00e7ao\",\"Burundi\",\"St. Vincent-Grenadines\",\"Benin\",\"Samoa\",\"British Virgin Islands\",\"Palau\",\"Andorra\",\"Marshall Islands\",\"Timor-Leste\",\"Dominica\",\"Micronesia (Fed. States of)\",\"Guernsey\",\"Solomon Islands\",\"South Sudan\",\"Anguilla\",\"Sint Maarten (Dutch part)\",\"Vanuatu\",\"Tonga\",\"St. Pierre-Miquelon\",\"Comoros\",\"Sao Tome and Principe\",\"Guinea-Bissau\",\"Cook Islands\",\"Liechtenstein\",\"Nauru\",\"Montserrat\",\"Kiribati\",\"Bonaire, St Eustatius, Saba\",\"Falkland Is. (Malvinas)\",\"Wallis and Futuna Is.\",\"St. Helena and Depend.\",\"Tuvalu\",\"Niue\"],\"y\":[61291850000.0,44958773800.0,14951631000.0,13302272000.0,12636634000.0,3202264000.0,8239026000.0,1114594000.0,1335527000.0,5819427000.0,4952429000.0,4664379000.0,2869572000.0,3943177000.0,4519462000.0,4271064000.0,3368994000.0,1907568000.0,3671791000.0,3339103800.0,2468867000.0,3078370000.0,276251000.0,2322339000.0,39225000.0,2511782000.0,1940624000.0,1326179000.0,623652040.0,1918580000.0,1752854530.0,735600000.0,1102306000.0,1104191000.0,793383000.0,1323020000.0,64109000.0,450504000.0,1301659000.0,716220000.0,703376000.0,1000049000.0,308448000.0,746687916.0,384270.0,601121000.0,863312000.0,995830000.0,620418000.0,476795000.0,894596000.0,256020000.0,696616000.0,740824000.0,761093530.0,435621000.0,728109000.0,731318000.0,552962000.0,614797000.0,186759000.0,552751000.0,190538636.3,463401000.0,461932800.0,464848000.0,314288000.0,172276000.0,380628000.0,269906000.0,343446000.0,264151000.0,360944000.0,4510000.0,332688200.0,115288000.0,132887500.0,41407000.0,291486000.0,278928000.0,275346000.0,262705000.0,59624000.0,115365000.0,223509190.0,233077000.0,138324000.0,3102000.0,98000.0,219539000.0,210857000.0,1146000.0,35314500.0,91154259.0,33476000.0,85211800.0,41126000.0,12385933.35,80611600.0,737000.0,141218000.0,61796280.0,111468080.0,48021000.0,39784200.0,49196400.0,117556500.0,74235600.0,58012000.0,65320000.0,1863040.0,39824000.0,101587000.0,44732000.0,15728000.0,13560.0,82484000.0,80870100.0,1527000.0,29404000.0,5402000.0,22360000.0,33268000.0,66109000.0,38514000.0,43439000.0,37962000.0,656650.0,43382000.0,31883200.0,42029300.0,42697000.0,42002000.0,6846600.0,30793100.0,38562100.0,37699400.0,16061000.0,12890200.0,3933770.0,7644000.0,29013000.0,12263000.0,29228075.0,2082000.0,28456000.0,9950049.2,10874950.0,20929000.0,20693881.0,19423200.0,14935000.0,18724180.0,9229390.0,4160500.0,16673500.0,16822220.0,6624975.0,6027000.0,8963000.0,13546200.0,3764000.0,8475716.0,11205107.0,10380790.0,8121498.0,5669870.0,8196500.0,4015433.6,0.0,6365597.0,6246000.0,5955200.0,2372900.0,5668000.0,5551000.0,5234000.0,5062800.0,3040811.0,4882630.0,4868940.0,4375890.0,2030191.762,4691800.0,1802704.0,3744677.0,3646900.0,3589100.0,3483386.0,3198740.0,3121300.0,3023000.0,1918300.0,2975500.0,511000.0,2870000.0,2753900.0,1787370.0,2616000.0,121871.0,1905580.0,2358000.0,1313400.0,2080000.0,2043700.0,122700.0,1843600.0,1716625.0,1082980.0,1669660.0,1574800.0,1552900.0,1399000.0,1336800.0,1229300.0,989450.0,914086.0,905260.0,828800.0,688100.0,684327.0,578400.0,29400.0,570400.0,412200.0,370900.0,362400.0,300010.0,269632.0,160760.0,79060.0,63869.0],\"type\":\"scatter\"},{\"line\":{\"color\":\"rgba(50, 171, 96, 1.0)\",\"dash\":\"solid\",\"shape\":\"linear\",\"width\":1.3},\"mode\":\"lines\",\"name\":\"renewable\",\"text\":\"\",\"x\":[\"United States\",\"China\",\"Japan\",\"Russian Federation\",\"India\",\"Canada\",\"Germany\",\"France\",\"Brazil\",\"United Kingdom\",\"Korea, Republic of\",\"Italy\",\"Spain\",\"Mexico\",\"South Africa\",\"Australia\",\"Other Asia\",\"Ukraine\",\"Saudi Arabia\",\"Iran (Islamic Rep. of)\",\"Turkey\",\"Poland\",\"Sweden\",\"Indonesia\",\"Norway\",\"Thailand\",\"Egypt\",\"Argentina\",\"Venezuela (Bolivar. Rep.)\",\"Netherlands\",\"Malaysia\",\"Belgium\",\"Pakistan\",\"Czechia\",\"Finland\",\"Kazakhstan\",\"Switzerland\",\"Austria\",\"United Arab Emirates\",\"Romania\",\"Viet Nam\",\"Greece\",\"Colombia\",\"Philippines\",\"Paraguay\",\"Chile\",\"Uzbekistan\",\"Israel\",\"Portugal\",\"Bulgaria\",\"Kuwait\",\"New Zealand\",\"Denmark\",\"Iraq\",\"Singapore\",\"Hungary\",\"Algeria\",\"China, Hong Kong SAR\",\"Syrian Arab Republic\",\"Belarus\",\"Slovakia\",\"Bangladesh\",\"Peru\",\"Ireland\",\"Puerto Rico\",\"Libya\",\"Nigeria\",\"Korea, Dem.Ppl's.Rep.\",\"Azerbaijan\",\"Serbia and Montenegro\",\"Morocco\",\"Serbia\",\"Qatar\",\"Tajikistan\",\"Cuba\",\"Slovenia\",\"Ecuador\",\"Kyrgyzstan\",\"Oman\",\"Bahrain\",\"Turkmenistan\",\"Tunisia\",\"Lithuania\",\"Croatia\",\"Dominican Republic\",\"Lebanon\",\"Bosnia and Herzegovina\",\"Mozambique\",\"Iceland\",\"Jordan\",\"Estonia\",\"Zambia\",\"Uruguay\",\"Sri Lanka\",\"Georgia\",\"Zimbabwe\",\"Ghana\",\"Costa Rica\",\"Guatemala\",\"Dem. Rep. of the Congo\",\"Trinidad and Tobago\",\"Myanmar\",\"T.F.Yug.Rep. Macedonia\",\"Armenia\",\"Kenya\",\"Panama\",\"Jamaica\",\"C\\u00f4te d'Ivoire\",\"Honduras\",\"Bolivia (Plur. State of)\",\"Albania\",\"Latvia\",\"Yemen\",\"El Salvador\",\"Cameroon\",\"Bhutan\",\"Cyprus\",\"Mongolia\",\"Ethiopia\",\"United Rep. of Tanzania\",\"Lao People's Dem. Rep.\",\"Angola\",\"Sudan (former)\",\"Brunei Darussalam\",\"Papua New Guinea\",\"Nicaragua\",\"Luxembourg\",\"Nepal\",\"Republic of Moldova\",\"R\\u00e9union\",\"Mauritius\",\"Malta\",\"Senegal\",\"Uganda\",\"New Caledonia\",\"Guam\",\"Bahamas\",\"Gabon\",\"Suriname\",\"Malawi\",\"Sudan\",\"Guadeloupe\",\"Montenegro\",\"Martinique\",\"Namibia\",\"China, Macao SAR\",\"Madagascar\",\"Mali\",\"Neth. Antilles (former)\",\"United States Virgin Is.\",\"Botswana\",\"Cambodia\",\"Barbados\",\"Guinea\",\"Afghanistan\",\"Aruba\",\"Guyana\",\"Fiji\",\"French Guiana\",\"Haiti\",\"Bermuda\",\"Congo\",\"French Polynesia\",\"Mauritania\",\"Cayman Islands\",\"Burkina Faso\",\"Swaziland\",\"Northern Mariana Islands\",\"Greenland\",\"Lesotho\",\"St. Lucia\",\"Somalia\",\"State of Palestine\",\"Togo\",\"Djibouti\",\"Eritrea\",\"Liberia\",\"Isle of Man\",\"Faeroe Islands\",\"Seychelles\",\"Niger\",\"Cabo Verde\",\"Belize\",\"Antigua and Barbuda\",\"Rwanda\",\"Maldives\",\"Gambia\",\"St. Kitts-Nevis\",\"American Samoa\",\"Grenada\",\"Mayotte\",\"Gibraltar\",\"Equatorial Guinea\",\"Jersey\",\"Central African Rep.\",\"Chad\",\"Turks and Caicos Islands\",\"Sierra Leone\",\"Cura\\u00e7ao\",\"Burundi\",\"St. Vincent-Grenadines\",\"Benin\",\"Samoa\",\"British Virgin Islands\",\"Palau\",\"Andorra\",\"Marshall Islands\",\"Timor-Leste\",\"Dominica\",\"Micronesia (Fed. States of)\",\"Guernsey\",\"Solomon Islands\",\"South Sudan\",\"Anguilla\",\"Sint Maarten (Dutch part)\",\"Vanuatu\",\"Tonga\",\"St. Pierre-Miquelon\",\"Comoros\",\"Sao Tome and Principe\",\"Guinea-Bissau\",\"Cook Islands\",\"Liechtenstein\",\"Nauru\",\"Montserrat\",\"Kiribati\",\"Bonaire, St Eustatius, Saba\",\"Falkland Is. (Malvinas)\",\"Wallis and Futuna Is.\",\"St. Helena and Depend.\",\"Tuvalu\",\"Niue\"],\"y\":[24257917000.0,10953354000.0,7205750000.0,6580254000.0,2609107000.0,9455007000.0,4303987000.0,10362088000.0,7190507000.0,1983690000.0,2698742000.0,1285490000.0,2438359000.0,962041000.0,345601000.0,396222000.0,1004228000.0,1977070000.0,3000.0,219991620.0,884904000.0,99590000.0,2869413000.0,381838170.0,2613166000.0,140311200.0,290643000.0,809968170.0,1475567000.0,136126000.0,147953805.0,1011975000.0,590960000.0,521081000.0,751569000.0,162490000.0,1332557000.0,873798000.0,0.0,506617000.0,514853000.0,138965000.0,811270590.0,370813875.1,1081704350.0,443850000.0,172307000.0,2622000.0,320252000.0,437464000.0,0.0,604663000.0,124248000.0,48465000.0,0.0,308232000.0,4930000.0,0.0,63158000.0,901000.0,416106000.0,18687000.0,377904049.0,55186000.0,3388800.0,0.0,128501000.0,259940000.0,43344000.0,128803000.0,42316000.0,108491000.0,0.0,330540000.0,2156400.0,195374000.0,173331600.0,260670000.0,0.0,0.0,64000.0,3352720.0,205072000.0,142550000.0,31206870.0,15883000.0,109786000.0,228003000.0,227048000.0,957400.0,3116000.0,195504000.0,146610800.0,84729819.0,141694000.0,88249700.0,129702000.0,151184364.56421,65731500.0,140951000.0,0.0,77561540.0,25112051.0,83458000.0,85127100.0,74640700.0,3566200.0,36101000.0,50018000.0,42262200.0,102241730.0,62830000.0,0.0,56185000.0,78335000.0,85223650.0,926000.0,0.0,73097000.0,44708000.0,65195067.3,46511000.0,33478000.0,8000.0,23344000.0,17109000.0,21376000.0,47694000.0,2528000.0,12660680.0,2004600.0,141000.0,27000.0,32611650.0,8052580.0,0.0,0.0,17941000.0,20162400.0,27665390.0,23849000.0,1914000.0,18172000.0,590919.0,27518000.0,0.0,12943204.7,11072820.0,0.0,7884.0,4600.0,4196000.0,0.0,9190000.0,13190100.0,632300.0,25000.0,8973278.0,7848000.0,4815000.0,0.0,9528000.0,3700350.0,148000.0,0.0,1970373.0,4394360.0,0.0,3875948.7,7302400.0,0.0,0.0,0.0,3546100.0,0.0,27000.0,0.0,41900.0,2021679.0,14750.0,35.0,355470.0,2679463.44,0.0,2456220.0,7530.0,0.0,37000.0,3300.0,0.0,70330.0,0.0,1068000.0,0.0,2378000.0,0.0,0.0,948813.0,96000.0,2423370.0,511820.0,14000.0,869800.0,0.0,0.0,1843300.0,600.0,0.0,612500.0,19200.0,0.0,0.0,6000.0,0.0,0.0,88300.0,4548.0,12850.0,0.0,138800.0,0.0,0.0,548200.0,554.0,0.0,0.0,2200.0,30990.0,0.0,6510.0,0.0,333.333335],\"type\":\"scatter\"}],                        {\"legend\":{\"bgcolor\":\"#F5F6F9\",\"font\":{\"color\":\"#4D5663\"}},\"paper_bgcolor\":\"#F5F6F9\",\"plot_bgcolor\":\"#F5F6F9\",\"template\":{\"data\":{\"barpolar\":[{\"marker\":{\"line\":{\"color\":\"#E5ECF6\",\"width\":0.5},\"pattern\":{\"fillmode\":\"overlay\",\"size\":10,\"solidity\":0.2}},\"type\":\"barpolar\"}],\"bar\":[{\"error_x\":{\"color\":\"#2a3f5f\"},\"error_y\":{\"color\":\"#2a3f5f\"},\"marker\":{\"line\":{\"color\":\"#E5ECF6\",\"width\":0.5},\"pattern\":{\"fillmode\":\"overlay\",\"size\":10,\"solidity\":0.2}},\"type\":\"bar\"}],\"carpet\":[{\"aaxis\":{\"endlinecolor\":\"#2a3f5f\",\"gridcolor\":\"white\",\"linecolor\":\"white\",\"minorgridcolor\":\"white\",\"startlinecolor\":\"#2a3f5f\"},\"baxis\":{\"endlinecolor\":\"#2a3f5f\",\"gridcolor\":\"white\",\"linecolor\":\"white\",\"minorgridcolor\":\"white\",\"startlinecolor\":\"#2a3f5f\"},\"type\":\"carpet\"}],\"choropleth\":[{\"colorbar\":{\"outlinewidth\":0,\"ticks\":\"\"},\"type\":\"choropleth\"}],\"contourcarpet\":[{\"colorbar\":{\"outlinewidth\":0,\"ticks\":\"\"},\"type\":\"contourcarpet\"}],\"contour\":[{\"colorbar\":{\"outlinewidth\":0,\"ticks\":\"\"},\"colorscale\":[[0.0,\"#0d0887\"],[0.1111111111111111,\"#46039f\"],[0.2222222222222222,\"#7201a8\"],[0.3333333333333333,\"#9c179e\"],[0.4444444444444444,\"#bd3786\"],[0.5555555555555556,\"#d8576b\"],[0.6666666666666666,\"#ed7953\"],[0.7777777777777778,\"#fb9f3a\"],[0.8888888888888888,\"#fdca26\"],[1.0,\"#f0f921\"]],\"type\":\"contour\"}],\"heatmapgl\":[{\"colorbar\":{\"outlinewidth\":0,\"ticks\":\"\"},\"colorscale\":[[0.0,\"#0d0887\"],[0.1111111111111111,\"#46039f\"],[0.2222222222222222,\"#7201a8\"],[0.3333333333333333,\"#9c179e\"],[0.4444444444444444,\"#bd3786\"],[0.5555555555555556,\"#d8576b\"],[0.6666666666666666,\"#ed7953\"],[0.7777777777777778,\"#fb9f3a\"],[0.8888888888888888,\"#fdca26\"],[1.0,\"#f0f921\"]],\"type\":\"heatmapgl\"}],\"heatmap\":[{\"colorbar\":{\"outlinewidth\":0,\"ticks\":\"\"},\"colorscale\":[[0.0,\"#0d0887\"],[0.1111111111111111,\"#46039f\"],[0.2222222222222222,\"#7201a8\"],[0.3333333333333333,\"#9c179e\"],[0.4444444444444444,\"#bd3786\"],[0.5555555555555556,\"#d8576b\"],[0.6666666666666666,\"#ed7953\"],[0.7777777777777778,\"#fb9f3a\"],[0.8888888888888888,\"#fdca26\"],[1.0,\"#f0f921\"]],\"type\":\"heatmap\"}],\"histogram2dcontour\":[{\"colorbar\":{\"outlinewidth\":0,\"ticks\":\"\"},\"colorscale\":[[0.0,\"#0d0887\"],[0.1111111111111111,\"#46039f\"],[0.2222222222222222,\"#7201a8\"],[0.3333333333333333,\"#9c179e\"],[0.4444444444444444,\"#bd3786\"],[0.5555555555555556,\"#d8576b\"],[0.6666666666666666,\"#ed7953\"],[0.7777777777777778,\"#fb9f3a\"],[0.8888888888888888,\"#fdca26\"],[1.0,\"#f0f921\"]],\"type\":\"histogram2dcontour\"}],\"histogram2d\":[{\"colorbar\":{\"outlinewidth\":0,\"ticks\":\"\"},\"colorscale\":[[0.0,\"#0d0887\"],[0.1111111111111111,\"#46039f\"],[0.2222222222222222,\"#7201a8\"],[0.3333333333333333,\"#9c179e\"],[0.4444444444444444,\"#bd3786\"],[0.5555555555555556,\"#d8576b\"],[0.6666666666666666,\"#ed7953\"],[0.7777777777777778,\"#fb9f3a\"],[0.8888888888888888,\"#fdca26\"],[1.0,\"#f0f921\"]],\"type\":\"histogram2d\"}],\"histogram\":[{\"marker\":{\"pattern\":{\"fillmode\":\"overlay\",\"size\":10,\"solidity\":0.2}},\"type\":\"histogram\"}],\"mesh3d\":[{\"colorbar\":{\"outlinewidth\":0,\"ticks\":\"\"},\"type\":\"mesh3d\"}],\"parcoords\":[{\"line\":{\"colorbar\":{\"outlinewidth\":0,\"ticks\":\"\"}},\"type\":\"parcoords\"}],\"pie\":[{\"automargin\":true,\"type\":\"pie\"}],\"scatter3d\":[{\"line\":{\"colorbar\":{\"outlinewidth\":0,\"ticks\":\"\"}},\"marker\":{\"colorbar\":{\"outlinewidth\":0,\"ticks\":\"\"}},\"type\":\"scatter3d\"}],\"scattercarpet\":[{\"marker\":{\"colorbar\":{\"outlinewidth\":0,\"ticks\":\"\"}},\"type\":\"scattercarpet\"}],\"scattergeo\":[{\"marker\":{\"colorbar\":{\"outlinewidth\":0,\"ticks\":\"\"}},\"type\":\"scattergeo\"}],\"scattergl\":[{\"marker\":{\"colorbar\":{\"outlinewidth\":0,\"ticks\":\"\"}},\"type\":\"scattergl\"}],\"scattermapbox\":[{\"marker\":{\"colorbar\":{\"outlinewidth\":0,\"ticks\":\"\"}},\"type\":\"scattermapbox\"}],\"scatterpolargl\":[{\"marker\":{\"colorbar\":{\"outlinewidth\":0,\"ticks\":\"\"}},\"type\":\"scatterpolargl\"}],\"scatterpolar\":[{\"marker\":{\"colorbar\":{\"outlinewidth\":0,\"ticks\":\"\"}},\"type\":\"scatterpolar\"}],\"scatter\":[{\"marker\":{\"colorbar\":{\"outlinewidth\":0,\"ticks\":\"\"}},\"type\":\"scatter\"}],\"scatterternary\":[{\"marker\":{\"colorbar\":{\"outlinewidth\":0,\"ticks\":\"\"}},\"type\":\"scatterternary\"}],\"surface\":[{\"colorbar\":{\"outlinewidth\":0,\"ticks\":\"\"},\"colorscale\":[[0.0,\"#0d0887\"],[0.1111111111111111,\"#46039f\"],[0.2222222222222222,\"#7201a8\"],[0.3333333333333333,\"#9c179e\"],[0.4444444444444444,\"#bd3786\"],[0.5555555555555556,\"#d8576b\"],[0.6666666666666666,\"#ed7953\"],[0.7777777777777778,\"#fb9f3a\"],[0.8888888888888888,\"#fdca26\"],[1.0,\"#f0f921\"]],\"type\":\"surface\"}],\"table\":[{\"cells\":{\"fill\":{\"color\":\"#EBF0F8\"},\"line\":{\"color\":\"white\"}},\"header\":{\"fill\":{\"color\":\"#C8D4E3\"},\"line\":{\"color\":\"white\"}},\"type\":\"table\"}]},\"layout\":{\"annotationdefaults\":{\"arrowcolor\":\"#2a3f5f\",\"arrowhead\":0,\"arrowwidth\":1},\"autotypenumbers\":\"strict\",\"coloraxis\":{\"colorbar\":{\"outlinewidth\":0,\"ticks\":\"\"}},\"colorscale\":{\"diverging\":[[0,\"#8e0152\"],[0.1,\"#c51b7d\"],[0.2,\"#de77ae\"],[0.3,\"#f1b6da\"],[0.4,\"#fde0ef\"],[0.5,\"#f7f7f7\"],[0.6,\"#e6f5d0\"],[0.7,\"#b8e186\"],[0.8,\"#7fbc41\"],[0.9,\"#4d9221\"],[1,\"#276419\"]],\"sequential\":[[0.0,\"#0d0887\"],[0.1111111111111111,\"#46039f\"],[0.2222222222222222,\"#7201a8\"],[0.3333333333333333,\"#9c179e\"],[0.4444444444444444,\"#bd3786\"],[0.5555555555555556,\"#d8576b\"],[0.6666666666666666,\"#ed7953\"],[0.7777777777777778,\"#fb9f3a\"],[0.8888888888888888,\"#fdca26\"],[1.0,\"#f0f921\"]],\"sequentialminus\":[[0.0,\"#0d0887\"],[0.1111111111111111,\"#46039f\"],[0.2222222222222222,\"#7201a8\"],[0.3333333333333333,\"#9c179e\"],[0.4444444444444444,\"#bd3786\"],[0.5555555555555556,\"#d8576b\"],[0.6666666666666666,\"#ed7953\"],[0.7777777777777778,\"#fb9f3a\"],[0.8888888888888888,\"#fdca26\"],[1.0,\"#f0f921\"]]},\"colorway\":[\"#636efa\",\"#EF553B\",\"#00cc96\",\"#ab63fa\",\"#FFA15A\",\"#19d3f3\",\"#FF6692\",\"#B6E880\",\"#FF97FF\",\"#FECB52\"],\"font\":{\"color\":\"#2a3f5f\"},\"geo\":{\"bgcolor\":\"white\",\"lakecolor\":\"white\",\"landcolor\":\"#E5ECF6\",\"showlakes\":true,\"showland\":true,\"subunitcolor\":\"white\"},\"hoverlabel\":{\"align\":\"left\"},\"hovermode\":\"closest\",\"mapbox\":{\"style\":\"light\"},\"paper_bgcolor\":\"white\",\"plot_bgcolor\":\"#E5ECF6\",\"polar\":{\"angularaxis\":{\"gridcolor\":\"white\",\"linecolor\":\"white\",\"ticks\":\"\"},\"bgcolor\":\"#E5ECF6\",\"radialaxis\":{\"gridcolor\":\"white\",\"linecolor\":\"white\",\"ticks\":\"\"}},\"scene\":{\"xaxis\":{\"backgroundcolor\":\"#E5ECF6\",\"gridcolor\":\"white\",\"gridwidth\":2,\"linecolor\":\"white\",\"showbackground\":true,\"ticks\":\"\",\"zerolinecolor\":\"white\"},\"yaxis\":{\"backgroundcolor\":\"#E5ECF6\",\"gridcolor\":\"white\",\"gridwidth\":2,\"linecolor\":\"white\",\"showbackground\":true,\"ticks\":\"\",\"zerolinecolor\":\"white\"},\"zaxis\":{\"backgroundcolor\":\"#E5ECF6\",\"gridcolor\":\"white\",\"gridwidth\":2,\"linecolor\":\"white\",\"showbackground\":true,\"ticks\":\"\",\"zerolinecolor\":\"white\"}},\"shapedefaults\":{\"line\":{\"color\":\"#2a3f5f\"}},\"ternary\":{\"aaxis\":{\"gridcolor\":\"white\",\"linecolor\":\"white\",\"ticks\":\"\"},\"baxis\":{\"gridcolor\":\"white\",\"linecolor\":\"white\",\"ticks\":\"\"},\"bgcolor\":\"#E5ECF6\",\"caxis\":{\"gridcolor\":\"white\",\"linecolor\":\"white\",\"ticks\":\"\"}},\"title\":{\"x\":0.05},\"xaxis\":{\"automargin\":true,\"gridcolor\":\"white\",\"linecolor\":\"white\",\"ticks\":\"\",\"title\":{\"standoff\":15},\"zerolinecolor\":\"white\",\"zerolinewidth\":2},\"yaxis\":{\"automargin\":true,\"gridcolor\":\"white\",\"linecolor\":\"white\",\"ticks\":\"\",\"title\":{\"standoff\":15},\"zerolinecolor\":\"white\",\"zerolinewidth\":2}}},\"title\":{\"font\":{\"color\":\"#4D5663\"}},\"xaxis\":{\"gridcolor\":\"#E1E5ED\",\"showgrid\":true,\"tickfont\":{\"color\":\"#4D5663\"},\"title\":{\"font\":{\"color\":\"#4D5663\"},\"text\":\"\"},\"zerolinecolor\":\"#E1E5ED\"},\"yaxis\":{\"gridcolor\":\"#E1E5ED\",\"showgrid\":true,\"tickfont\":{\"color\":\"#4D5663\"},\"title\":{\"font\":{\"color\":\"#4D5663\"},\"text\":\"\"},\"zerolinecolor\":\"#E1E5ED\"}},                        {\"showLink\": true, \"linkText\": \"Export to plot.ly\", \"plotlyServerURL\": \"https://plot.ly\", \"responsive\": true}                    ).then(function(){\n",
       "                            \n",
       "var gd = document.getElementById('3e201ac9-2a0e-437e-8d86-e5e7890a0aa9');\n",
       "var x = new MutationObserver(function (mutations, observer) {{\n",
       "        var display = window.getComputedStyle(gd).display;\n",
       "        if (!display || display === 'none') {{\n",
       "            console.log([gd, 'removed!']);\n",
       "            Plotly.purge(gd);\n",
       "            observer.disconnect();\n",
       "        }}\n",
       "}});\n",
       "\n",
       "// Listen for the removal of the full notebook cells\n",
       "var notebookContainer = gd.closest('#notebook-container');\n",
       "if (notebookContainer) {{\n",
       "    x.observe(notebookContainer, {childList: true});\n",
       "}}\n",
       "\n",
       "// Listen for the clearing of the current output cell\n",
       "var outputEl = gd.closest('.output');\n",
       "if (outputEl) {{\n",
       "    x.observe(outputEl, {childList: true});\n",
       "}}\n",
       "\n",
       "                        })                };                });            </script>        </div>"
      ]
     },
     "metadata": {},
     "output_type": "display_data"
    }
   ],
   "source": [
    "rank_all_rnr.iplot();"
   ]
  },
  {
   "cell_type": "code",
   "execution_count": 15,
   "id": "09bb366b",
   "metadata": {},
   "outputs": [
    {
     "data": {
      "application/vnd.plotly.v1+json": {
       "config": {
        "linkText": "Export to plot.ly",
        "plotlyServerURL": "https://plot.ly",
        "showLink": true
       },
       "data": [
        {
         "line": {
          "color": "rgba(255, 153, 51, 1.0)",
          "dash": "solid",
          "shape": "linear",
          "width": 1.3
         },
         "mode": "lines",
         "name": "new_quantity",
         "text": "",
         "type": "scatter",
         "x": [
          "United States",
          "China",
          "Japan",
          "Russian Federation",
          "India",
          "Canada",
          "Germany",
          "France",
          "Brazil",
          "United Kingdom",
          "Korea, Republic of",
          "Italy",
          "Spain",
          "Mexico",
          "South Africa",
          "Australia",
          "Other Asia",
          "Ukraine",
          "Saudi Arabia",
          "Iran (Islamic Rep. of)",
          "Turkey",
          "Poland",
          "Sweden",
          "Indonesia",
          "Norway",
          "Thailand",
          "Egypt",
          "Argentina",
          "Venezuela (Bolivar. Rep.)",
          "Netherlands",
          "Malaysia",
          "Belgium",
          "Pakistan",
          "Czechia",
          "Finland",
          "Kazakhstan",
          "Switzerland",
          "Austria",
          "United Arab Emirates",
          "Romania",
          "Viet Nam",
          "Greece",
          "Colombia",
          "Philippines",
          "Paraguay",
          "Chile",
          "Uzbekistan",
          "Israel",
          "Portugal",
          "Bulgaria",
          "Kuwait",
          "New Zealand",
          "Denmark",
          "Iraq",
          "Serbia",
          "Serbia and Montenegro",
          "Singapore",
          "Hungary",
          "Algeria",
          "China, Hong Kong SAR",
          "Syrian Arab Republic",
          "Belarus",
          "Slovakia",
          "Bangladesh",
          "Peru",
          "Ireland",
          "Puerto Rico",
          "Libya",
          "Nigeria",
          "Korea, Dem.Ppl's.Rep.",
          "Azerbaijan",
          "Morocco",
          "Qatar",
          "Tajikistan",
          "Cuba",
          "Slovenia",
          "Ecuador",
          "Kyrgyzstan",
          "Oman",
          "Bahrain",
          "Turkmenistan",
          "Tunisia",
          "Lithuania",
          "Croatia",
          "Dominican Republic",
          "Lebanon",
          "Bosnia and Herzegovina",
          "Mozambique",
          "Iceland",
          "Jordan",
          "Sudan",
          "Estonia",
          "Zambia",
          "Uruguay",
          "Sri Lanka",
          "Georgia",
          "Zimbabwe",
          "Ghana",
          "Costa Rica",
          "Guatemala",
          "Dem. Rep. of the Congo",
          "Trinidad and Tobago",
          "Myanmar",
          "T.F.Yug.Rep. Macedonia",
          "Armenia",
          "Kenya",
          "Panama",
          "Jamaica",
          "Côte d'Ivoire",
          "Honduras",
          "Bolivia (Plur. State of)",
          "Albania",
          "Latvia",
          "Yemen",
          "El Salvador",
          "Cameroon",
          "Bhutan",
          "Cyprus",
          "Mongolia",
          "Sudan (former)",
          "Ethiopia",
          "United Rep. of Tanzania",
          "Lao People's Dem. Rep.",
          "Angola",
          "Brunei Darussalam",
          "Montenegro",
          "Papua New Guinea",
          "Nicaragua",
          "Luxembourg",
          "Nepal",
          "Republic of Moldova",
          "Réunion",
          "Mauritius",
          "Malta",
          "Senegal",
          "Uganda",
          "New Caledonia",
          "Guam",
          "Bahamas",
          "Gabon",
          "Suriname",
          "Malawi",
          "Guadeloupe",
          "Martinique",
          "Namibia",
          "China, Macao SAR",
          "Neth. Antilles (former)",
          "Madagascar",
          "Mali",
          "United States Virgin Is.",
          "Botswana",
          "Cambodia",
          "Curaçao",
          "Barbados",
          "Guinea",
          "Afghanistan",
          "Aruba",
          "Guyana",
          "Fiji",
          "French Guiana",
          "Haiti",
          "Bermuda",
          "Congo",
          "French Polynesia",
          "Mauritania",
          "Cayman Islands",
          "Burkina Faso",
          "Swaziland",
          "South Sudan",
          "Lesotho",
          "Sint Maarten (Dutch part)",
          "Isle of Man",
          "Northern Mariana Islands",
          "Greenland",
          "St. Lucia",
          "Somalia",
          "State of Palestine",
          "Togo",
          "Djibouti",
          "Eritrea",
          "Liberia",
          "Faeroe Islands",
          "Seychelles",
          "Niger",
          "Cabo Verde",
          "Belize",
          "Antigua and Barbuda",
          "Rwanda",
          "Maldives",
          "Gambia",
          "St. Kitts-Nevis",
          "American Samoa",
          "Grenada",
          "Mayotte",
          "Gibraltar",
          "Equatorial Guinea",
          "Jersey",
          "Central African Rep.",
          "Chad",
          "Timor-Leste",
          "Turks and Caicos Islands",
          "Sierra Leone",
          "Bonaire, St Eustatius, Saba",
          "Burundi",
          "Guernsey",
          "St. Vincent-Grenadines",
          "Benin",
          "Samoa",
          "British Virgin Islands",
          "Palau",
          "Andorra",
          "Marshall Islands",
          "Dominica",
          "Micronesia (Fed. States of)",
          "Solomon Islands",
          "Liechtenstein",
          "Anguilla",
          "Vanuatu",
          "Tonga",
          "St. Pierre-Miquelon",
          "Comoros",
          "Sao Tome and Principe",
          "Guinea-Bissau",
          "Cook Islands",
          "Nauru",
          "Montserrat",
          "Wallis and Futuna Is.",
          "Kiribati",
          "Falkland Is. (Malvinas)",
          "St. Helena and Depend.",
          "Tuvalu",
          "Niue"
         ],
         "y": [
          4073798428.571429,
          2662482280.952381,
          1055113380.9523809,
          946786952.3809524,
          725987666.6666666,
          602727190.4761904,
          597286333.3333334,
          546508666.6666666,
          406001619.04761904,
          371577000,
          364341476.1904762,
          283327095.2380952,
          252758619.04761904,
          233581809.52380952,
          231669666.66666666,
          222251714.2857143,
          208248666.66666666,
          184982761.9047619,
          174847333.33333334,
          169480733.33333334,
          159703380.95238096,
          151331428.57142857,
          149793523.80952382,
          128770341.42857143,
          126304333.33333333,
          126290152.38095239,
          106250809.52380952,
          101721293.8095238,
          99962811.42857143,
          97843142.85714285,
          90514682.85714285,
          83217857.14285715,
          80631714.28571428,
          77393904.76190476,
          73569142.85714285,
          70738571.42857143,
          66507904.76190476,
          63062000,
          61983761.9047619,
          58230333.333333336,
          58010904.76190476,
          54238761.9047619,
          53319932.85714286,
          53214371.14285714,
          51528029.52380952,
          49760523.809523806,
          49315190.47619048,
          47545333.333333336,
          44793809.52380952,
          43536142.85714286,
          42599809.52380952,
          40984904.76190476,
          39088761.9047619,
          37585190.47619048,
          37264200,
          36246272.72727273,
          36242549.047619045,
          35421571.428571425,
          34906619.047619045,
          34824666.666666664,
          29339047.61904762,
          29318952.38095238,
          28707857.14285714,
          27211333.333333332,
          27068699.333333332,
          24694619.04761905,
          22158171.42857143,
          22135619.04761905,
          21085190.476190478,
          20581714.285714287,
          20189142.85714286,
          18369619.04761905,
          17187809.523809522,
          15954761.904761905,
          15944980.952380951,
          14793428.57142857,
          14581861.904761905,
          14384619.047619049,
          13880285.714285715,
          13282285.714285715,
          13114761.904761905,
          12669415.238095239,
          12604571.42857143,
          12281666.666666666,
          12129336.19047619,
          11855238.095238095,
          11814761.904761905,
          11005000,
          10816476.19047619,
          10499828.57142857,
          10497666.666666666,
          10189190.476190476,
          9364285.714285715,
          8663109.523809524,
          8375432.285714285,
          8341428.571428572,
          8260071.428571428,
          8134666.666666667,
          7789061.761904762,
          6968719.047619048,
          6747047.619047619,
          6724666.666666667,
          6636086.666666667,
          6503815.761904762,
          6260904.761904762,
          5948157.142857143,
          5897004.761904762,
          5767747.619047619,
          5254123.80952381,
          5144285.714285715,
          5122961.904761905,
          4957370,
          4888285.714285715,
          4837476.19047619,
          4805571.428571428,
          4479190.476190476,
          4058914.761904762,
          3971904.761904762,
          3850957.1428571427,
          3708111.111111111,
          3553523.8095238097,
          3529142.8571428573,
          3361765.076190476,
          3279571.4285714286,
          3148428.5714285714,
          3043500,
          2945619.0476190476,
          2883238.095238095,
          2825619.0476190476,
          2302411.904761905,
          2186190.476190476,
          2121137.1428571427,
          2096852.380952381,
          2039904.761904762,
          2001380.9523809524,
          1878964.2857142857,
          1849794.2857142857,
          1836290.4761904762,
          1795209.5238095238,
          1619142.857142857,
          1573933.3333333333,
          1504721.9047619049,
          1472714.2857142857,
          1419952.0952380951,
          1409523.8095238095,
          1355047.619047619,
          1162722.2222222222,
          1090154.9476190475,
          1045131.9047619047,
          985798.3333333334,
          925133.3333333334,
          911000,
          904000,
          891627.619047619,
          877113.8095238095,
          826219.0476190476,
          824085.7142857143,
          802248.5714285715,
          742773.9523809524,
          660714.2857142857,
          656095.2380952381,
          645057.1428571428,
          632952.380952381,
          579812.6666666666,
          540624.1428571428,
          494323.3333333333,
          480565.28571428574,
          479249.04761904763,
          468333.3333333333,
          456400,
          409766.6666666667,
          392669.23076923075,
          390309.5238095238,
          375780.1095238095,
          303123.6666666667,
          297428.5714285714,
          283580.95238095237,
          281857.14285714284,
          269904.7619047619,
          265619.04761904763,
          249238.09523809524,
          241070.95238095237,
          233208.57142857142,
          231855.95238095237,
          225302.85714285713,
          224269.2961904762,
          223419.04761904763,
          202805.90476190476,
          178676.52380952382,
          173661.90476190476,
          172671.42857142858,
          166032.66666666666,
          152320.95238095237,
          151982.38095238095,
          143952.38095238095,
          142204.7619047619,
          141690.47619047618,
          137571.42857142858,
          136666.66666666666,
          132048.07692307694,
          131138.09523809524,
          130294.42857142857,
          121533.33333333333,
          121201.95238095238,
          121138.46153846153,
          115114.28571428571,
          112952.38095238095,
          103961.90476190476,
          99047.61904761905,
          97319.04761904762,
          93619.04761904762,
          87819.04761904762,
          80737.14285714286,
          80421.90476190476,
          73947.61904761905,
          72200,
          63657.142857142855,
          51321.42857142857,
          43744.47619047619,
          43719.52380952381,
          39466.666666666664,
          39376.19047619047,
          32587,
          27542.85714285714,
          27188.285714285714,
          19628.571428571428,
          19259.428571428572,
          17661.904761904763,
          15761.904761904761,
          7965.238095238095,
          3764.7619047619046,
          3057.2539714285717
         ]
        },
        {
         "line": {
          "color": "rgba(55, 128, 191, 1.0)",
          "dash": "solid",
          "shape": "linear",
          "width": 1.3
         },
         "mode": "lines",
         "name": "non_renewable",
         "text": "",
         "type": "scatter",
         "x": [
          "United States",
          "China",
          "Japan",
          "Russian Federation",
          "India",
          "Canada",
          "Germany",
          "France",
          "Brazil",
          "United Kingdom",
          "Korea, Republic of",
          "Italy",
          "Spain",
          "Mexico",
          "South Africa",
          "Australia",
          "Other Asia",
          "Ukraine",
          "Saudi Arabia",
          "Iran (Islamic Rep. of)",
          "Turkey",
          "Poland",
          "Sweden",
          "Indonesia",
          "Norway",
          "Thailand",
          "Egypt",
          "Argentina",
          "Venezuela (Bolivar. Rep.)",
          "Netherlands",
          "Malaysia",
          "Belgium",
          "Pakistan",
          "Czechia",
          "Finland",
          "Kazakhstan",
          "Switzerland",
          "Austria",
          "United Arab Emirates",
          "Romania",
          "Viet Nam",
          "Greece",
          "Colombia",
          "Philippines",
          "Paraguay",
          "Chile",
          "Uzbekistan",
          "Israel",
          "Portugal",
          "Bulgaria",
          "Kuwait",
          "New Zealand",
          "Denmark",
          "Iraq",
          "Serbia",
          "Serbia and Montenegro",
          "Singapore",
          "Hungary",
          "Algeria",
          "China, Hong Kong SAR",
          "Syrian Arab Republic",
          "Belarus",
          "Slovakia",
          "Bangladesh",
          "Peru",
          "Ireland",
          "Puerto Rico",
          "Libya",
          "Nigeria",
          "Korea, Dem.Ppl's.Rep.",
          "Azerbaijan",
          "Morocco",
          "Qatar",
          "Tajikistan",
          "Cuba",
          "Slovenia",
          "Ecuador",
          "Kyrgyzstan",
          "Oman",
          "Bahrain",
          "Turkmenistan",
          "Tunisia",
          "Lithuania",
          "Croatia",
          "Dominican Republic",
          "Lebanon",
          "Bosnia and Herzegovina",
          "Mozambique",
          "Iceland",
          "Jordan",
          "Sudan",
          "Estonia",
          "Zambia",
          "Uruguay",
          "Sri Lanka",
          "Georgia",
          "Zimbabwe",
          "Ghana",
          "Costa Rica",
          "Guatemala",
          "Dem. Rep. of the Congo",
          "Trinidad and Tobago",
          "Myanmar",
          "T.F.Yug.Rep. Macedonia",
          "Armenia",
          "Kenya",
          "Panama",
          "Jamaica",
          "Côte d'Ivoire",
          "Honduras",
          "Bolivia (Plur. State of)",
          "Albania",
          "Latvia",
          "Yemen",
          "El Salvador",
          "Cameroon",
          "Bhutan",
          "Cyprus",
          "Mongolia",
          "Sudan (former)",
          "Ethiopia",
          "United Rep. of Tanzania",
          "Lao People's Dem. Rep.",
          "Angola",
          "Brunei Darussalam",
          "Montenegro",
          "Papua New Guinea",
          "Nicaragua",
          "Luxembourg",
          "Nepal",
          "Republic of Moldova",
          "Réunion",
          "Mauritius",
          "Malta",
          "Senegal",
          "Uganda",
          "New Caledonia",
          "Guam",
          "Bahamas",
          "Gabon",
          "Suriname",
          "Malawi",
          "Guadeloupe",
          "Martinique",
          "Namibia",
          "China, Macao SAR",
          "Neth. Antilles (former)",
          "Madagascar",
          "Mali",
          "United States Virgin Is.",
          "Botswana",
          "Cambodia",
          "Curaçao",
          "Barbados",
          "Guinea",
          "Afghanistan",
          "Aruba",
          "Guyana",
          "Fiji",
          "French Guiana",
          "Haiti",
          "Bermuda",
          "Congo",
          "French Polynesia",
          "Mauritania",
          "Cayman Islands",
          "Burkina Faso",
          "Swaziland",
          "South Sudan",
          "Lesotho",
          "Sint Maarten (Dutch part)",
          "Isle of Man",
          "Northern Mariana Islands",
          "Greenland",
          "St. Lucia",
          "Somalia",
          "State of Palestine",
          "Togo",
          "Djibouti",
          "Eritrea",
          "Liberia",
          "Faeroe Islands",
          "Seychelles",
          "Niger",
          "Cabo Verde",
          "Belize",
          "Antigua and Barbuda",
          "Rwanda",
          "Maldives",
          "Gambia",
          "St. Kitts-Nevis",
          "American Samoa",
          "Grenada",
          "Mayotte",
          "Gibraltar",
          "Equatorial Guinea",
          "Jersey",
          "Central African Rep.",
          "Chad",
          "Timor-Leste",
          "Turks and Caicos Islands",
          "Sierra Leone",
          "Bonaire, St Eustatius, Saba",
          "Burundi",
          "Guernsey",
          "St. Vincent-Grenadines",
          "Benin",
          "Samoa",
          "British Virgin Islands",
          "Palau",
          "Andorra",
          "Marshall Islands",
          "Dominica",
          "Micronesia (Fed. States of)",
          "Solomon Islands",
          "Liechtenstein",
          "Anguilla",
          "Vanuatu",
          "Tonga",
          "St. Pierre-Miquelon",
          "Comoros",
          "Sao Tome and Principe",
          "Guinea-Bissau",
          "Cook Islands",
          "Nauru",
          "Montserrat",
          "Wallis and Futuna Is.",
          "Kiribati",
          "Falkland Is. (Malvinas)",
          "St. Helena and Depend.",
          "Tuvalu",
          "Niue"
         ],
         "y": [
          2918659523.8095236,
          2140893990.4761906,
          711982428.5714285,
          633441523.8095238,
          601744476.1904762,
          152488761.9047619,
          392334571.4285714,
          53075904.76190476,
          63596523.809523806,
          277115571.4285714,
          235829952.3809524,
          222113285.7142857,
          136646285.7142857,
          187770333.33333334,
          215212476.19047618,
          203384000,
          160428285.7142857,
          90836571.42857143,
          174847190.47619048,
          159004942.85714287,
          117565095.23809524,
          146589047.6190476,
          13154809.523809524,
          110587571.42857143,
          1867857.142857143,
          119608666.66666667,
          92410666.66666667,
          63151380.952380955,
          29697716.19047619,
          91360952.38095239,
          83469263.33333333,
          35028571.428571425,
          52490761.9047619,
          52580523.809523806,
          37780142.85714286,
          63000952.38095238,
          3052809.523809524,
          21452571.42857143,
          61983761.9047619,
          34105714.28571428,
          33494095.23809524,
          47621380.952380955,
          14688000,
          35556567.428571425,
          18298.571428571428,
          28624809.523809522,
          41110095.23809524,
          47420476.190476194,
          29543714.285714287,
          22704523.80952381,
          42599809.52380952,
          12191428.57142857,
          33172190.476190478,
          35277333.333333336,
          26415100,
          24536909.09090909,
          36242549.047619045,
          20743857.14285714,
          34671857.14285714,
          34824666.666666664,
          26331523.80952381,
          29276047.61904762,
          8893285.714285715,
          26321476.19047619,
          9073268.395238096,
          22066714.285714287,
          21996800,
          22135619.04761905,
          14966095.238095239,
          8203619.047619048,
          18125142.85714286,
          16354571.42857143,
          17187809.523809522,
          214761.90476190476,
          15842295.238095239,
          5489904.761904762,
          6327976.19047619,
          1971761.9047619049,
          13880285.714285715,
          13282285.714285715,
          13111714.285714285,
          12509761.904761905,
          2839238.095238095,
          5493571.428571428,
          10643294.761904761,
          11098904.761904761,
          6586857.142857143,
          147714.2857142857,
          4666.666666666667,
          10454238.095238095,
          2548000,
          10040809.523809524,
          54571.42857142857,
          1681642.857142857,
          4340679,
          1594095.238095238,
          4057704.761904762,
          1958380.9523809524,
          589806.35,
          3838647.619047619,
          35095.23809523809,
          6724666.666666667,
          2942680,
          5308003.80952381,
          2286714.285714286,
          1894485.7142857143,
          2342685.714285714,
          5597928.571428572,
          3535028.5714285714,
          2762476.1904761903,
          3110476.1904761903,
          88716.19047619047,
          1896380.9523809524,
          4837476.19047619,
          2130095.238095238,
          748952.380952381,
          645.7142857142857,
          3927809.523809524,
          3850957.1428571427,
          1848222.2222222222,
          72714.28571428571,
          1400190.4761904762,
          257238.09523809524,
          1064761.9047619049,
          3148047.619047619,
          1226300,
          1834000,
          2068523.8095238095,
          1807714.2857142857,
          31269.04761904762,
          2065809.5238095238,
          1518247.619047619,
          2001395.238095238,
          2033190.4761904762,
          2000095.238095238,
          326028.5714285714,
          1466338.0952380951,
          1836290.4761904762,
          1795209.5238095238,
          764809.5238095238,
          613819.0476190476,
          187322.38095238095,
          1381571.4285714286,
          1391813.0952380951,
          99142.85714285714,
          1355047.619047619,
          1162722.2222222222,
          473811.86666666664,
          517854.7619047619,
          985422.9047619047,
          924914.2857142857,
          711190.4761904762,
          872000,
          891627.619047619,
          439494.7619047619,
          198119.04761904763,
          793976.1904761905,
          801058.0952380953,
          315475,
          287000,
          426809.5238095238,
          645057.1428571428,
          179238.09523809524,
          403605.5238095238,
          533576.5238095238,
          494323.3333333333,
          386738,
          269993.8095238095,
          466333.3333333333,
          0,
          409766.6666666667,
          389446.1538461539,
          390309.5238095238,
          191211.12380952382,
          303123.6666666667,
          297428.5714285714,
          283580.95238095237,
          112995.23809523809,
          269904.7619047619,
          264333.3333333333,
          249238.09523809524,
          144800.52380952382,
          232506.19047619047,
          231854.2857142857,
          208375.7142857143,
          96675.7981904762,
          223419.04761904763,
          85843.04761904762,
          178317.95238095237,
          173661.90476190476,
          170909.52380952382,
          165875.52380952382,
          152320.95238095237,
          148633.33333333334,
          143952.38095238095,
          91347.61904761905,
          141690.47619047618,
          24333.333333333332,
          136666.66666666666,
          132048.07692307694,
          131138.09523809524,
          85112.85714285714,
          120800,
          5803.380952380952,
          121138.46153846153,
          90741.90476190476,
          112285.71428571429,
          62542.857142857145,
          99047.61904761905,
          97319.04761904762,
          5842.857142857143,
          87790.47619047618,
          51570.47619047619,
          79507.61904761905,
          73947.61904761905,
          3675,
          63657.142857142855,
          47116.666666666664,
          43527.90476190476,
          43107.619047619046,
          39466.666666666664,
          32766.666666666668,
          32587,
          27542.85714285714,
          27161.904761904763,
          19628.571428571428,
          19259.428571428572,
          17661.904761904763,
          14286.190476190477,
          7655.238095238095,
          3764.7619047619046,
          3041.3809523809523
         ]
        },
        {
         "line": {
          "color": "rgba(50, 171, 96, 1.0)",
          "dash": "solid",
          "shape": "linear",
          "width": 1.3
         },
         "mode": "lines",
         "name": "renewable",
         "text": "",
         "type": "scatter",
         "x": [
          "United States",
          "China",
          "Japan",
          "Russian Federation",
          "India",
          "Canada",
          "Germany",
          "France",
          "Brazil",
          "United Kingdom",
          "Korea, Republic of",
          "Italy",
          "Spain",
          "Mexico",
          "South Africa",
          "Australia",
          "Other Asia",
          "Ukraine",
          "Saudi Arabia",
          "Iran (Islamic Rep. of)",
          "Turkey",
          "Poland",
          "Sweden",
          "Indonesia",
          "Norway",
          "Thailand",
          "Egypt",
          "Argentina",
          "Venezuela (Bolivar. Rep.)",
          "Netherlands",
          "Malaysia",
          "Belgium",
          "Pakistan",
          "Czechia",
          "Finland",
          "Kazakhstan",
          "Switzerland",
          "Austria",
          "United Arab Emirates",
          "Romania",
          "Viet Nam",
          "Greece",
          "Colombia",
          "Philippines",
          "Paraguay",
          "Chile",
          "Uzbekistan",
          "Israel",
          "Portugal",
          "Bulgaria",
          "Kuwait",
          "New Zealand",
          "Denmark",
          "Iraq",
          "Serbia",
          "Serbia and Montenegro",
          "Singapore",
          "Hungary",
          "Algeria",
          "China, Hong Kong SAR",
          "Syrian Arab Republic",
          "Belarus",
          "Slovakia",
          "Bangladesh",
          "Peru",
          "Ireland",
          "Puerto Rico",
          "Libya",
          "Nigeria",
          "Korea, Dem.Ppl's.Rep.",
          "Azerbaijan",
          "Morocco",
          "Qatar",
          "Tajikistan",
          "Cuba",
          "Slovenia",
          "Ecuador",
          "Kyrgyzstan",
          "Oman",
          "Bahrain",
          "Turkmenistan",
          "Tunisia",
          "Lithuania",
          "Croatia",
          "Dominican Republic",
          "Lebanon",
          "Bosnia and Herzegovina",
          "Mozambique",
          "Iceland",
          "Jordan",
          "Sudan",
          "Estonia",
          "Zambia",
          "Uruguay",
          "Sri Lanka",
          "Georgia",
          "Zimbabwe",
          "Ghana",
          "Costa Rica",
          "Guatemala",
          "Dem. Rep. of the Congo",
          "Trinidad and Tobago",
          "Myanmar",
          "T.F.Yug.Rep. Macedonia",
          "Armenia",
          "Kenya",
          "Panama",
          "Jamaica",
          "Côte d'Ivoire",
          "Honduras",
          "Bolivia (Plur. State of)",
          "Albania",
          "Latvia",
          "Yemen",
          "El Salvador",
          "Cameroon",
          "Bhutan",
          "Cyprus",
          "Mongolia",
          "Sudan (former)",
          "Ethiopia",
          "United Rep. of Tanzania",
          "Lao People's Dem. Rep.",
          "Angola",
          "Brunei Darussalam",
          "Montenegro",
          "Papua New Guinea",
          "Nicaragua",
          "Luxembourg",
          "Nepal",
          "Republic of Moldova",
          "Réunion",
          "Mauritius",
          "Malta",
          "Senegal",
          "Uganda",
          "New Caledonia",
          "Guam",
          "Bahamas",
          "Gabon",
          "Suriname",
          "Malawi",
          "Guadeloupe",
          "Martinique",
          "Namibia",
          "China, Macao SAR",
          "Neth. Antilles (former)",
          "Madagascar",
          "Mali",
          "United States Virgin Is.",
          "Botswana",
          "Cambodia",
          "Curaçao",
          "Barbados",
          "Guinea",
          "Afghanistan",
          "Aruba",
          "Guyana",
          "Fiji",
          "French Guiana",
          "Haiti",
          "Bermuda",
          "Congo",
          "French Polynesia",
          "Mauritania",
          "Cayman Islands",
          "Burkina Faso",
          "Swaziland",
          "South Sudan",
          "Lesotho",
          "Sint Maarten (Dutch part)",
          "Isle of Man",
          "Northern Mariana Islands",
          "Greenland",
          "St. Lucia",
          "Somalia",
          "State of Palestine",
          "Togo",
          "Djibouti",
          "Eritrea",
          "Liberia",
          "Faeroe Islands",
          "Seychelles",
          "Niger",
          "Cabo Verde",
          "Belize",
          "Antigua and Barbuda",
          "Rwanda",
          "Maldives",
          "Gambia",
          "St. Kitts-Nevis",
          "American Samoa",
          "Grenada",
          "Mayotte",
          "Gibraltar",
          "Equatorial Guinea",
          "Jersey",
          "Central African Rep.",
          "Chad",
          "Timor-Leste",
          "Turks and Caicos Islands",
          "Sierra Leone",
          "Bonaire, St Eustatius, Saba",
          "Burundi",
          "Guernsey",
          "St. Vincent-Grenadines",
          "Benin",
          "Samoa",
          "British Virgin Islands",
          "Palau",
          "Andorra",
          "Marshall Islands",
          "Dominica",
          "Micronesia (Fed. States of)",
          "Solomon Islands",
          "Liechtenstein",
          "Anguilla",
          "Vanuatu",
          "Tonga",
          "St. Pierre-Miquelon",
          "Comoros",
          "Sao Tome and Principe",
          "Guinea-Bissau",
          "Cook Islands",
          "Nauru",
          "Montserrat",
          "Wallis and Futuna Is.",
          "Kiribati",
          "Falkland Is. (Malvinas)",
          "St. Helena and Depend.",
          "Tuvalu",
          "Niue"
         ],
         "y": [
          1155138904.7619047,
          521588285.71428573,
          343130952.38095236,
          313345428.5714286,
          124243190.47619048,
          450238428.5714286,
          204951761.9047619,
          493432761.9047619,
          342405095.2380952,
          94461428.57142857,
          128511523.8095238,
          61213809.52380952,
          116112333.33333333,
          45811476.190476194,
          16457190.476190476,
          18867714.285714287,
          47820380.952380955,
          94146190.47619048,
          142.85714285714286,
          10475791.42857143,
          42138285.71428572,
          4742380.952380952,
          136638714.2857143,
          18182770,
          124436476.1904762,
          6681485.714285715,
          13840142.857142856,
          38569912.85714286,
          70265095.23809524,
          6482190.476190476,
          7045419.285714285,
          48189285.71428572,
          28140952.38095238,
          24813380.95238095,
          35789000,
          7737619.047619048,
          63455095.23809524,
          41609428.571428575,
          0,
          24124619.04761905,
          24516809.523809522,
          6617380.952380952,
          38631932.85714286,
          17657803.57619048,
          51509730.952380955,
          21135714.285714287,
          8205095.238095238,
          124857.14285714286,
          15250095.238095239,
          20831619.04761905,
          0,
          28793476.19047619,
          5916571.428571428,
          2307857.1428571427,
          10849100,
          11709363.636363637,
          0,
          14677714.285714285,
          234761.90476190476,
          0,
          3007523.8095238097,
          42904.76190476191,
          19814571.42857143,
          889857.1428571428,
          17995430.904761903,
          2627904.761904762,
          161371.42857142858,
          0,
          6119095.238095238,
          12378095.238095239,
          2064000,
          2015047.619047619,
          0,
          15740000,
          102685.71428571429,
          9303523.80952381,
          8253885.714285715,
          12412857.142857144,
          0,
          0,
          3047.6190476190477,
          159653.33333333334,
          9765333.333333334,
          6788095.238095238,
          1486041.4285714286,
          756333.3333333334,
          5227904.761904762,
          10857285.714285715,
          10811809.523809524,
          45590.47619047619,
          7949666.666666667,
          148380.95238095237,
          9309714.285714285,
          6981466.666666667,
          4034753.285714286,
          6747333.333333333,
          4202366.666666667,
          6176285.714285715,
          7199255.455438571,
          3130071.4285714286,
          6711952.380952381,
          0,
          3693406.6666666665,
          1195811.9523809524,
          3974190.476190476,
          4053671.4285714286,
          3554319.0476190476,
          169819.04761904763,
          1719095.238095238,
          2381809.523809524,
          2012485.7142857143,
          4868653.80952381,
          2991904.761904762,
          0,
          2675476.1904761903,
          3730238.095238095,
          4058269.0476190476,
          44095.23809523809,
          0,
          1859888.888888889,
          3480809.523809524,
          2128952.380952381,
          3104527.0142857144,
          2214809.523809524,
          380.95238095238096,
          1817200,
          1111619.0476190476,
          814714.2857142857,
          1017904.7619047619,
          2271142.8571428573,
          120380.95238095238,
          602889.5238095238,
          95457.14285714286,
          6714.285714285715,
          1285.7142857142858,
          1552935.7142857143,
          383456.1904761905,
          0,
          0,
          854333.3333333334,
          960114.2857142857,
          1317399.5238095238,
          91142.85714285714,
          28139,
          1310380.9523809524,
          0,
          0,
          616343.0809523809,
          527277.1428571428,
          375.42857142857144,
          219.04761904761904,
          199809.52380952382,
          32000,
          0,
          437619.04761904763,
          628100,
          30109.52380952381,
          1190.4761904761904,
          427298.95238095237,
          373714.28571428574,
          229285.7142857143,
          0,
          453714.28571428574,
          176207.14285714287,
          7047.619047619048,
          0,
          93827.28571428571,
          209255.2380952381,
          2000,
          456400,
          0,
          3223.076923076923,
          0,
          184568.98571428572,
          0,
          0,
          0,
          168861.90476190476,
          0,
          1285.7142857142858,
          0,
          96270.42857142857,
          702.3809523809524,
          1.6666666666666667,
          16927.14285714286,
          127593.49714285714,
          0,
          116962.85714285714,
          358.57142857142856,
          0,
          1761.904761904762,
          157.14285714285714,
          0,
          3349.0476190476193,
          0,
          50857.142857142855,
          0,
          113238.09523809524,
          0,
          0,
          0,
          45181.57142857143,
          733.3333333333334,
          115398.57142857143,
          0,
          24372.380952380954,
          666.6666666666666,
          41419.04761904762,
          0,
          0,
          87776.19047619047,
          28.571428571428573,
          29166.666666666668,
          914.2857142857143,
          0,
          68525,
          0,
          4204.761904761905,
          216.57142857142858,
          611.9047619047619,
          0,
          6609.523809523809,
          0,
          0,
          26.38095238095238,
          0,
          0,
          0,
          1475.7142857142858,
          310,
          0,
          15.873015952380952
         ]
        }
       ],
       "layout": {
        "legend": {
         "bgcolor": "#F5F6F9",
         "font": {
          "color": "#4D5663"
         }
        },
        "paper_bgcolor": "#F5F6F9",
        "plot_bgcolor": "#F5F6F9",
        "template": {
         "data": {
          "bar": [
           {
            "error_x": {
             "color": "#2a3f5f"
            },
            "error_y": {
             "color": "#2a3f5f"
            },
            "marker": {
             "line": {
              "color": "#E5ECF6",
              "width": 0.5
             },
             "pattern": {
              "fillmode": "overlay",
              "size": 10,
              "solidity": 0.2
             }
            },
            "type": "bar"
           }
          ],
          "barpolar": [
           {
            "marker": {
             "line": {
              "color": "#E5ECF6",
              "width": 0.5
             },
             "pattern": {
              "fillmode": "overlay",
              "size": 10,
              "solidity": 0.2
             }
            },
            "type": "barpolar"
           }
          ],
          "carpet": [
           {
            "aaxis": {
             "endlinecolor": "#2a3f5f",
             "gridcolor": "white",
             "linecolor": "white",
             "minorgridcolor": "white",
             "startlinecolor": "#2a3f5f"
            },
            "baxis": {
             "endlinecolor": "#2a3f5f",
             "gridcolor": "white",
             "linecolor": "white",
             "minorgridcolor": "white",
             "startlinecolor": "#2a3f5f"
            },
            "type": "carpet"
           }
          ],
          "choropleth": [
           {
            "colorbar": {
             "outlinewidth": 0,
             "ticks": ""
            },
            "type": "choropleth"
           }
          ],
          "contour": [
           {
            "colorbar": {
             "outlinewidth": 0,
             "ticks": ""
            },
            "colorscale": [
             [
              0,
              "#0d0887"
             ],
             [
              0.1111111111111111,
              "#46039f"
             ],
             [
              0.2222222222222222,
              "#7201a8"
             ],
             [
              0.3333333333333333,
              "#9c179e"
             ],
             [
              0.4444444444444444,
              "#bd3786"
             ],
             [
              0.5555555555555556,
              "#d8576b"
             ],
             [
              0.6666666666666666,
              "#ed7953"
             ],
             [
              0.7777777777777778,
              "#fb9f3a"
             ],
             [
              0.8888888888888888,
              "#fdca26"
             ],
             [
              1,
              "#f0f921"
             ]
            ],
            "type": "contour"
           }
          ],
          "contourcarpet": [
           {
            "colorbar": {
             "outlinewidth": 0,
             "ticks": ""
            },
            "type": "contourcarpet"
           }
          ],
          "heatmap": [
           {
            "colorbar": {
             "outlinewidth": 0,
             "ticks": ""
            },
            "colorscale": [
             [
              0,
              "#0d0887"
             ],
             [
              0.1111111111111111,
              "#46039f"
             ],
             [
              0.2222222222222222,
              "#7201a8"
             ],
             [
              0.3333333333333333,
              "#9c179e"
             ],
             [
              0.4444444444444444,
              "#bd3786"
             ],
             [
              0.5555555555555556,
              "#d8576b"
             ],
             [
              0.6666666666666666,
              "#ed7953"
             ],
             [
              0.7777777777777778,
              "#fb9f3a"
             ],
             [
              0.8888888888888888,
              "#fdca26"
             ],
             [
              1,
              "#f0f921"
             ]
            ],
            "type": "heatmap"
           }
          ],
          "heatmapgl": [
           {
            "colorbar": {
             "outlinewidth": 0,
             "ticks": ""
            },
            "colorscale": [
             [
              0,
              "#0d0887"
             ],
             [
              0.1111111111111111,
              "#46039f"
             ],
             [
              0.2222222222222222,
              "#7201a8"
             ],
             [
              0.3333333333333333,
              "#9c179e"
             ],
             [
              0.4444444444444444,
              "#bd3786"
             ],
             [
              0.5555555555555556,
              "#d8576b"
             ],
             [
              0.6666666666666666,
              "#ed7953"
             ],
             [
              0.7777777777777778,
              "#fb9f3a"
             ],
             [
              0.8888888888888888,
              "#fdca26"
             ],
             [
              1,
              "#f0f921"
             ]
            ],
            "type": "heatmapgl"
           }
          ],
          "histogram": [
           {
            "marker": {
             "pattern": {
              "fillmode": "overlay",
              "size": 10,
              "solidity": 0.2
             }
            },
            "type": "histogram"
           }
          ],
          "histogram2d": [
           {
            "colorbar": {
             "outlinewidth": 0,
             "ticks": ""
            },
            "colorscale": [
             [
              0,
              "#0d0887"
             ],
             [
              0.1111111111111111,
              "#46039f"
             ],
             [
              0.2222222222222222,
              "#7201a8"
             ],
             [
              0.3333333333333333,
              "#9c179e"
             ],
             [
              0.4444444444444444,
              "#bd3786"
             ],
             [
              0.5555555555555556,
              "#d8576b"
             ],
             [
              0.6666666666666666,
              "#ed7953"
             ],
             [
              0.7777777777777778,
              "#fb9f3a"
             ],
             [
              0.8888888888888888,
              "#fdca26"
             ],
             [
              1,
              "#f0f921"
             ]
            ],
            "type": "histogram2d"
           }
          ],
          "histogram2dcontour": [
           {
            "colorbar": {
             "outlinewidth": 0,
             "ticks": ""
            },
            "colorscale": [
             [
              0,
              "#0d0887"
             ],
             [
              0.1111111111111111,
              "#46039f"
             ],
             [
              0.2222222222222222,
              "#7201a8"
             ],
             [
              0.3333333333333333,
              "#9c179e"
             ],
             [
              0.4444444444444444,
              "#bd3786"
             ],
             [
              0.5555555555555556,
              "#d8576b"
             ],
             [
              0.6666666666666666,
              "#ed7953"
             ],
             [
              0.7777777777777778,
              "#fb9f3a"
             ],
             [
              0.8888888888888888,
              "#fdca26"
             ],
             [
              1,
              "#f0f921"
             ]
            ],
            "type": "histogram2dcontour"
           }
          ],
          "mesh3d": [
           {
            "colorbar": {
             "outlinewidth": 0,
             "ticks": ""
            },
            "type": "mesh3d"
           }
          ],
          "parcoords": [
           {
            "line": {
             "colorbar": {
              "outlinewidth": 0,
              "ticks": ""
             }
            },
            "type": "parcoords"
           }
          ],
          "pie": [
           {
            "automargin": true,
            "type": "pie"
           }
          ],
          "scatter": [
           {
            "marker": {
             "colorbar": {
              "outlinewidth": 0,
              "ticks": ""
             }
            },
            "type": "scatter"
           }
          ],
          "scatter3d": [
           {
            "line": {
             "colorbar": {
              "outlinewidth": 0,
              "ticks": ""
             }
            },
            "marker": {
             "colorbar": {
              "outlinewidth": 0,
              "ticks": ""
             }
            },
            "type": "scatter3d"
           }
          ],
          "scattercarpet": [
           {
            "marker": {
             "colorbar": {
              "outlinewidth": 0,
              "ticks": ""
             }
            },
            "type": "scattercarpet"
           }
          ],
          "scattergeo": [
           {
            "marker": {
             "colorbar": {
              "outlinewidth": 0,
              "ticks": ""
             }
            },
            "type": "scattergeo"
           }
          ],
          "scattergl": [
           {
            "marker": {
             "colorbar": {
              "outlinewidth": 0,
              "ticks": ""
             }
            },
            "type": "scattergl"
           }
          ],
          "scattermapbox": [
           {
            "marker": {
             "colorbar": {
              "outlinewidth": 0,
              "ticks": ""
             }
            },
            "type": "scattermapbox"
           }
          ],
          "scatterpolar": [
           {
            "marker": {
             "colorbar": {
              "outlinewidth": 0,
              "ticks": ""
             }
            },
            "type": "scatterpolar"
           }
          ],
          "scatterpolargl": [
           {
            "marker": {
             "colorbar": {
              "outlinewidth": 0,
              "ticks": ""
             }
            },
            "type": "scatterpolargl"
           }
          ],
          "scatterternary": [
           {
            "marker": {
             "colorbar": {
              "outlinewidth": 0,
              "ticks": ""
             }
            },
            "type": "scatterternary"
           }
          ],
          "surface": [
           {
            "colorbar": {
             "outlinewidth": 0,
             "ticks": ""
            },
            "colorscale": [
             [
              0,
              "#0d0887"
             ],
             [
              0.1111111111111111,
              "#46039f"
             ],
             [
              0.2222222222222222,
              "#7201a8"
             ],
             [
              0.3333333333333333,
              "#9c179e"
             ],
             [
              0.4444444444444444,
              "#bd3786"
             ],
             [
              0.5555555555555556,
              "#d8576b"
             ],
             [
              0.6666666666666666,
              "#ed7953"
             ],
             [
              0.7777777777777778,
              "#fb9f3a"
             ],
             [
              0.8888888888888888,
              "#fdca26"
             ],
             [
              1,
              "#f0f921"
             ]
            ],
            "type": "surface"
           }
          ],
          "table": [
           {
            "cells": {
             "fill": {
              "color": "#EBF0F8"
             },
             "line": {
              "color": "white"
             }
            },
            "header": {
             "fill": {
              "color": "#C8D4E3"
             },
             "line": {
              "color": "white"
             }
            },
            "type": "table"
           }
          ]
         },
         "layout": {
          "annotationdefaults": {
           "arrowcolor": "#2a3f5f",
           "arrowhead": 0,
           "arrowwidth": 1
          },
          "autotypenumbers": "strict",
          "coloraxis": {
           "colorbar": {
            "outlinewidth": 0,
            "ticks": ""
           }
          },
          "colorscale": {
           "diverging": [
            [
             0,
             "#8e0152"
            ],
            [
             0.1,
             "#c51b7d"
            ],
            [
             0.2,
             "#de77ae"
            ],
            [
             0.3,
             "#f1b6da"
            ],
            [
             0.4,
             "#fde0ef"
            ],
            [
             0.5,
             "#f7f7f7"
            ],
            [
             0.6,
             "#e6f5d0"
            ],
            [
             0.7,
             "#b8e186"
            ],
            [
             0.8,
             "#7fbc41"
            ],
            [
             0.9,
             "#4d9221"
            ],
            [
             1,
             "#276419"
            ]
           ],
           "sequential": [
            [
             0,
             "#0d0887"
            ],
            [
             0.1111111111111111,
             "#46039f"
            ],
            [
             0.2222222222222222,
             "#7201a8"
            ],
            [
             0.3333333333333333,
             "#9c179e"
            ],
            [
             0.4444444444444444,
             "#bd3786"
            ],
            [
             0.5555555555555556,
             "#d8576b"
            ],
            [
             0.6666666666666666,
             "#ed7953"
            ],
            [
             0.7777777777777778,
             "#fb9f3a"
            ],
            [
             0.8888888888888888,
             "#fdca26"
            ],
            [
             1,
             "#f0f921"
            ]
           ],
           "sequentialminus": [
            [
             0,
             "#0d0887"
            ],
            [
             0.1111111111111111,
             "#46039f"
            ],
            [
             0.2222222222222222,
             "#7201a8"
            ],
            [
             0.3333333333333333,
             "#9c179e"
            ],
            [
             0.4444444444444444,
             "#bd3786"
            ],
            [
             0.5555555555555556,
             "#d8576b"
            ],
            [
             0.6666666666666666,
             "#ed7953"
            ],
            [
             0.7777777777777778,
             "#fb9f3a"
            ],
            [
             0.8888888888888888,
             "#fdca26"
            ],
            [
             1,
             "#f0f921"
            ]
           ]
          },
          "colorway": [
           "#636efa",
           "#EF553B",
           "#00cc96",
           "#ab63fa",
           "#FFA15A",
           "#19d3f3",
           "#FF6692",
           "#B6E880",
           "#FF97FF",
           "#FECB52"
          ],
          "font": {
           "color": "#2a3f5f"
          },
          "geo": {
           "bgcolor": "white",
           "lakecolor": "white",
           "landcolor": "#E5ECF6",
           "showlakes": true,
           "showland": true,
           "subunitcolor": "white"
          },
          "hoverlabel": {
           "align": "left"
          },
          "hovermode": "closest",
          "mapbox": {
           "style": "light"
          },
          "paper_bgcolor": "white",
          "plot_bgcolor": "#E5ECF6",
          "polar": {
           "angularaxis": {
            "gridcolor": "white",
            "linecolor": "white",
            "ticks": ""
           },
           "bgcolor": "#E5ECF6",
           "radialaxis": {
            "gridcolor": "white",
            "linecolor": "white",
            "ticks": ""
           }
          },
          "scene": {
           "xaxis": {
            "backgroundcolor": "#E5ECF6",
            "gridcolor": "white",
            "gridwidth": 2,
            "linecolor": "white",
            "showbackground": true,
            "ticks": "",
            "zerolinecolor": "white"
           },
           "yaxis": {
            "backgroundcolor": "#E5ECF6",
            "gridcolor": "white",
            "gridwidth": 2,
            "linecolor": "white",
            "showbackground": true,
            "ticks": "",
            "zerolinecolor": "white"
           },
           "zaxis": {
            "backgroundcolor": "#E5ECF6",
            "gridcolor": "white",
            "gridwidth": 2,
            "linecolor": "white",
            "showbackground": true,
            "ticks": "",
            "zerolinecolor": "white"
           }
          },
          "shapedefaults": {
           "line": {
            "color": "#2a3f5f"
           }
          },
          "ternary": {
           "aaxis": {
            "gridcolor": "white",
            "linecolor": "white",
            "ticks": ""
           },
           "baxis": {
            "gridcolor": "white",
            "linecolor": "white",
            "ticks": ""
           },
           "bgcolor": "#E5ECF6",
           "caxis": {
            "gridcolor": "white",
            "linecolor": "white",
            "ticks": ""
           }
          },
          "title": {
           "x": 0.05
          },
          "xaxis": {
           "automargin": true,
           "gridcolor": "white",
           "linecolor": "white",
           "ticks": "",
           "title": {
            "standoff": 15
           },
           "zerolinecolor": "white",
           "zerolinewidth": 2
          },
          "yaxis": {
           "automargin": true,
           "gridcolor": "white",
           "linecolor": "white",
           "ticks": "",
           "title": {
            "standoff": 15
           },
           "zerolinecolor": "white",
           "zerolinewidth": 2
          }
         }
        },
        "title": {
         "font": {
          "color": "#4D5663"
         }
        },
        "xaxis": {
         "gridcolor": "#E1E5ED",
         "showgrid": true,
         "tickfont": {
          "color": "#4D5663"
         },
         "title": {
          "font": {
           "color": "#4D5663"
          },
          "text": ""
         },
         "zerolinecolor": "#E1E5ED"
        },
        "yaxis": {
         "gridcolor": "#E1E5ED",
         "showgrid": true,
         "tickfont": {
          "color": "#4D5663"
         },
         "title": {
          "font": {
           "color": "#4D5663"
          },
          "text": ""
         },
         "zerolinecolor": "#E1E5ED"
        }
       }
      },
      "text/html": [
       "<div>                            <div id=\"0abefae7-0a1d-4f39-b8f4-f847867fc5c4\" class=\"plotly-graph-div\" style=\"height:525px; width:100%;\"></div>            <script type=\"text/javascript\">                require([\"plotly\"], function(Plotly) {                    window.PLOTLYENV=window.PLOTLYENV || {};\n",
       "                    window.PLOTLYENV.BASE_URL='https://plot.ly';                                    if (document.getElementById(\"0abefae7-0a1d-4f39-b8f4-f847867fc5c4\")) {                    Plotly.newPlot(                        \"0abefae7-0a1d-4f39-b8f4-f847867fc5c4\",                        [{\"line\":{\"color\":\"rgba(255, 153, 51, 1.0)\",\"dash\":\"solid\",\"shape\":\"linear\",\"width\":1.3},\"mode\":\"lines\",\"name\":\"new_quantity\",\"text\":\"\",\"x\":[\"United States\",\"China\",\"Japan\",\"Russian Federation\",\"India\",\"Canada\",\"Germany\",\"France\",\"Brazil\",\"United Kingdom\",\"Korea, Republic of\",\"Italy\",\"Spain\",\"Mexico\",\"South Africa\",\"Australia\",\"Other Asia\",\"Ukraine\",\"Saudi Arabia\",\"Iran (Islamic Rep. of)\",\"Turkey\",\"Poland\",\"Sweden\",\"Indonesia\",\"Norway\",\"Thailand\",\"Egypt\",\"Argentina\",\"Venezuela (Bolivar. Rep.)\",\"Netherlands\",\"Malaysia\",\"Belgium\",\"Pakistan\",\"Czechia\",\"Finland\",\"Kazakhstan\",\"Switzerland\",\"Austria\",\"United Arab Emirates\",\"Romania\",\"Viet Nam\",\"Greece\",\"Colombia\",\"Philippines\",\"Paraguay\",\"Chile\",\"Uzbekistan\",\"Israel\",\"Portugal\",\"Bulgaria\",\"Kuwait\",\"New Zealand\",\"Denmark\",\"Iraq\",\"Serbia\",\"Serbia and Montenegro\",\"Singapore\",\"Hungary\",\"Algeria\",\"China, Hong Kong SAR\",\"Syrian Arab Republic\",\"Belarus\",\"Slovakia\",\"Bangladesh\",\"Peru\",\"Ireland\",\"Puerto Rico\",\"Libya\",\"Nigeria\",\"Korea, Dem.Ppl's.Rep.\",\"Azerbaijan\",\"Morocco\",\"Qatar\",\"Tajikistan\",\"Cuba\",\"Slovenia\",\"Ecuador\",\"Kyrgyzstan\",\"Oman\",\"Bahrain\",\"Turkmenistan\",\"Tunisia\",\"Lithuania\",\"Croatia\",\"Dominican Republic\",\"Lebanon\",\"Bosnia and Herzegovina\",\"Mozambique\",\"Iceland\",\"Jordan\",\"Sudan\",\"Estonia\",\"Zambia\",\"Uruguay\",\"Sri Lanka\",\"Georgia\",\"Zimbabwe\",\"Ghana\",\"Costa Rica\",\"Guatemala\",\"Dem. Rep. of the Congo\",\"Trinidad and Tobago\",\"Myanmar\",\"T.F.Yug.Rep. Macedonia\",\"Armenia\",\"Kenya\",\"Panama\",\"Jamaica\",\"C\\u00f4te d'Ivoire\",\"Honduras\",\"Bolivia (Plur. State of)\",\"Albania\",\"Latvia\",\"Yemen\",\"El Salvador\",\"Cameroon\",\"Bhutan\",\"Cyprus\",\"Mongolia\",\"Sudan (former)\",\"Ethiopia\",\"United Rep. of Tanzania\",\"Lao People's Dem. Rep.\",\"Angola\",\"Brunei Darussalam\",\"Montenegro\",\"Papua New Guinea\",\"Nicaragua\",\"Luxembourg\",\"Nepal\",\"Republic of Moldova\",\"R\\u00e9union\",\"Mauritius\",\"Malta\",\"Senegal\",\"Uganda\",\"New Caledonia\",\"Guam\",\"Bahamas\",\"Gabon\",\"Suriname\",\"Malawi\",\"Guadeloupe\",\"Martinique\",\"Namibia\",\"China, Macao SAR\",\"Neth. Antilles (former)\",\"Madagascar\",\"Mali\",\"United States Virgin Is.\",\"Botswana\",\"Cambodia\",\"Cura\\u00e7ao\",\"Barbados\",\"Guinea\",\"Afghanistan\",\"Aruba\",\"Guyana\",\"Fiji\",\"French Guiana\",\"Haiti\",\"Bermuda\",\"Congo\",\"French Polynesia\",\"Mauritania\",\"Cayman Islands\",\"Burkina Faso\",\"Swaziland\",\"South Sudan\",\"Lesotho\",\"Sint Maarten (Dutch part)\",\"Isle of Man\",\"Northern Mariana Islands\",\"Greenland\",\"St. Lucia\",\"Somalia\",\"State of Palestine\",\"Togo\",\"Djibouti\",\"Eritrea\",\"Liberia\",\"Faeroe Islands\",\"Seychelles\",\"Niger\",\"Cabo Verde\",\"Belize\",\"Antigua and Barbuda\",\"Rwanda\",\"Maldives\",\"Gambia\",\"St. Kitts-Nevis\",\"American Samoa\",\"Grenada\",\"Mayotte\",\"Gibraltar\",\"Equatorial Guinea\",\"Jersey\",\"Central African Rep.\",\"Chad\",\"Timor-Leste\",\"Turks and Caicos Islands\",\"Sierra Leone\",\"Bonaire, St Eustatius, Saba\",\"Burundi\",\"Guernsey\",\"St. Vincent-Grenadines\",\"Benin\",\"Samoa\",\"British Virgin Islands\",\"Palau\",\"Andorra\",\"Marshall Islands\",\"Dominica\",\"Micronesia (Fed. States of)\",\"Solomon Islands\",\"Liechtenstein\",\"Anguilla\",\"Vanuatu\",\"Tonga\",\"St. Pierre-Miquelon\",\"Comoros\",\"Sao Tome and Principe\",\"Guinea-Bissau\",\"Cook Islands\",\"Nauru\",\"Montserrat\",\"Wallis and Futuna Is.\",\"Kiribati\",\"Falkland Is. (Malvinas)\",\"St. Helena and Depend.\",\"Tuvalu\",\"Niue\"],\"y\":[4073798428.571429,2662482280.952381,1055113380.9523809,946786952.3809524,725987666.6666666,602727190.4761904,597286333.3333334,546508666.6666666,406001619.04761904,371577000.0,364341476.1904762,283327095.2380952,252758619.04761904,233581809.52380952,231669666.66666666,222251714.2857143,208248666.66666666,184982761.9047619,174847333.33333334,169480733.33333334,159703380.95238096,151331428.57142857,149793523.80952382,128770341.42857143,126304333.33333333,126290152.38095239,106250809.52380952,101721293.8095238,99962811.42857143,97843142.85714285,90514682.85714285,83217857.14285715,80631714.28571428,77393904.76190476,73569142.85714285,70738571.42857143,66507904.76190476,63062000.0,61983761.9047619,58230333.333333336,58010904.76190476,54238761.9047619,53319932.85714286,53214371.14285714,51528029.52380952,49760523.809523806,49315190.47619048,47545333.333333336,44793809.52380952,43536142.85714286,42599809.52380952,40984904.76190476,39088761.9047619,37585190.47619048,37264200.0,36246272.72727273,36242549.047619045,35421571.428571425,34906619.047619045,34824666.666666664,29339047.61904762,29318952.38095238,28707857.14285714,27211333.333333332,27068699.333333332,24694619.04761905,22158171.42857143,22135619.04761905,21085190.476190478,20581714.285714287,20189142.85714286,18369619.04761905,17187809.523809522,15954761.904761905,15944980.952380951,14793428.57142857,14581861.904761905,14384619.047619049,13880285.714285715,13282285.714285715,13114761.904761905,12669415.238095239,12604571.42857143,12281666.666666666,12129336.19047619,11855238.095238095,11814761.904761905,11005000.0,10816476.19047619,10499828.57142857,10497666.666666666,10189190.476190476,9364285.714285715,8663109.523809524,8375432.285714285,8341428.571428572,8260071.428571428,8134666.666666667,7789061.761904762,6968719.047619048,6747047.619047619,6724666.666666667,6636086.666666667,6503815.761904762,6260904.761904762,5948157.142857143,5897004.761904762,5767747.619047619,5254123.80952381,5144285.714285715,5122961.904761905,4957370.0,4888285.714285715,4837476.19047619,4805571.428571428,4479190.476190476,4058914.761904762,3971904.761904762,3850957.1428571427,3708111.111111111,3553523.8095238097,3529142.8571428573,3361765.076190476,3279571.4285714286,3148428.5714285714,3043500.0,2945619.0476190476,2883238.095238095,2825619.0476190476,2302411.904761905,2186190.476190476,2121137.1428571427,2096852.380952381,2039904.761904762,2001380.9523809524,1878964.2857142857,1849794.2857142857,1836290.4761904762,1795209.5238095238,1619142.857142857,1573933.3333333333,1504721.9047619049,1472714.2857142857,1419952.0952380951,1409523.8095238095,1355047.619047619,1162722.2222222222,1090154.9476190475,1045131.9047619047,985798.3333333334,925133.3333333334,911000.0,904000.0,891627.619047619,877113.8095238095,826219.0476190476,824085.7142857143,802248.5714285715,742773.9523809524,660714.2857142857,656095.2380952381,645057.1428571428,632952.380952381,579812.6666666666,540624.1428571428,494323.3333333333,480565.28571428574,479249.04761904763,468333.3333333333,456400.0,409766.6666666667,392669.23076923075,390309.5238095238,375780.1095238095,303123.6666666667,297428.5714285714,283580.95238095237,281857.14285714284,269904.7619047619,265619.04761904763,249238.09523809524,241070.95238095237,233208.57142857142,231855.95238095237,225302.85714285713,224269.2961904762,223419.04761904763,202805.90476190476,178676.52380952382,173661.90476190476,172671.42857142858,166032.66666666666,152320.95238095237,151982.38095238095,143952.38095238095,142204.7619047619,141690.47619047618,137571.42857142858,136666.66666666666,132048.07692307694,131138.09523809524,130294.42857142857,121533.33333333333,121201.95238095238,121138.46153846153,115114.28571428571,112952.38095238095,103961.90476190476,99047.61904761905,97319.04761904762,93619.04761904762,87819.04761904762,80737.14285714286,80421.90476190476,73947.61904761905,72200.0,63657.142857142855,51321.42857142857,43744.47619047619,43719.52380952381,39466.666666666664,39376.19047619047,32587.0,27542.85714285714,27188.285714285714,19628.571428571428,19259.428571428572,17661.904761904763,15761.904761904761,7965.238095238095,3764.7619047619046,3057.2539714285717],\"type\":\"scatter\"},{\"line\":{\"color\":\"rgba(55, 128, 191, 1.0)\",\"dash\":\"solid\",\"shape\":\"linear\",\"width\":1.3},\"mode\":\"lines\",\"name\":\"non_renewable\",\"text\":\"\",\"x\":[\"United States\",\"China\",\"Japan\",\"Russian Federation\",\"India\",\"Canada\",\"Germany\",\"France\",\"Brazil\",\"United Kingdom\",\"Korea, Republic of\",\"Italy\",\"Spain\",\"Mexico\",\"South Africa\",\"Australia\",\"Other Asia\",\"Ukraine\",\"Saudi Arabia\",\"Iran (Islamic Rep. of)\",\"Turkey\",\"Poland\",\"Sweden\",\"Indonesia\",\"Norway\",\"Thailand\",\"Egypt\",\"Argentina\",\"Venezuela (Bolivar. Rep.)\",\"Netherlands\",\"Malaysia\",\"Belgium\",\"Pakistan\",\"Czechia\",\"Finland\",\"Kazakhstan\",\"Switzerland\",\"Austria\",\"United Arab Emirates\",\"Romania\",\"Viet Nam\",\"Greece\",\"Colombia\",\"Philippines\",\"Paraguay\",\"Chile\",\"Uzbekistan\",\"Israel\",\"Portugal\",\"Bulgaria\",\"Kuwait\",\"New Zealand\",\"Denmark\",\"Iraq\",\"Serbia\",\"Serbia and Montenegro\",\"Singapore\",\"Hungary\",\"Algeria\",\"China, Hong Kong SAR\",\"Syrian Arab Republic\",\"Belarus\",\"Slovakia\",\"Bangladesh\",\"Peru\",\"Ireland\",\"Puerto Rico\",\"Libya\",\"Nigeria\",\"Korea, Dem.Ppl's.Rep.\",\"Azerbaijan\",\"Morocco\",\"Qatar\",\"Tajikistan\",\"Cuba\",\"Slovenia\",\"Ecuador\",\"Kyrgyzstan\",\"Oman\",\"Bahrain\",\"Turkmenistan\",\"Tunisia\",\"Lithuania\",\"Croatia\",\"Dominican Republic\",\"Lebanon\",\"Bosnia and Herzegovina\",\"Mozambique\",\"Iceland\",\"Jordan\",\"Sudan\",\"Estonia\",\"Zambia\",\"Uruguay\",\"Sri Lanka\",\"Georgia\",\"Zimbabwe\",\"Ghana\",\"Costa Rica\",\"Guatemala\",\"Dem. Rep. of the Congo\",\"Trinidad and Tobago\",\"Myanmar\",\"T.F.Yug.Rep. Macedonia\",\"Armenia\",\"Kenya\",\"Panama\",\"Jamaica\",\"C\\u00f4te d'Ivoire\",\"Honduras\",\"Bolivia (Plur. State of)\",\"Albania\",\"Latvia\",\"Yemen\",\"El Salvador\",\"Cameroon\",\"Bhutan\",\"Cyprus\",\"Mongolia\",\"Sudan (former)\",\"Ethiopia\",\"United Rep. of Tanzania\",\"Lao People's Dem. Rep.\",\"Angola\",\"Brunei Darussalam\",\"Montenegro\",\"Papua New Guinea\",\"Nicaragua\",\"Luxembourg\",\"Nepal\",\"Republic of Moldova\",\"R\\u00e9union\",\"Mauritius\",\"Malta\",\"Senegal\",\"Uganda\",\"New Caledonia\",\"Guam\",\"Bahamas\",\"Gabon\",\"Suriname\",\"Malawi\",\"Guadeloupe\",\"Martinique\",\"Namibia\",\"China, Macao SAR\",\"Neth. Antilles (former)\",\"Madagascar\",\"Mali\",\"United States Virgin Is.\",\"Botswana\",\"Cambodia\",\"Cura\\u00e7ao\",\"Barbados\",\"Guinea\",\"Afghanistan\",\"Aruba\",\"Guyana\",\"Fiji\",\"French Guiana\",\"Haiti\",\"Bermuda\",\"Congo\",\"French Polynesia\",\"Mauritania\",\"Cayman Islands\",\"Burkina Faso\",\"Swaziland\",\"South Sudan\",\"Lesotho\",\"Sint Maarten (Dutch part)\",\"Isle of Man\",\"Northern Mariana Islands\",\"Greenland\",\"St. Lucia\",\"Somalia\",\"State of Palestine\",\"Togo\",\"Djibouti\",\"Eritrea\",\"Liberia\",\"Faeroe Islands\",\"Seychelles\",\"Niger\",\"Cabo Verde\",\"Belize\",\"Antigua and Barbuda\",\"Rwanda\",\"Maldives\",\"Gambia\",\"St. Kitts-Nevis\",\"American Samoa\",\"Grenada\",\"Mayotte\",\"Gibraltar\",\"Equatorial Guinea\",\"Jersey\",\"Central African Rep.\",\"Chad\",\"Timor-Leste\",\"Turks and Caicos Islands\",\"Sierra Leone\",\"Bonaire, St Eustatius, Saba\",\"Burundi\",\"Guernsey\",\"St. Vincent-Grenadines\",\"Benin\",\"Samoa\",\"British Virgin Islands\",\"Palau\",\"Andorra\",\"Marshall Islands\",\"Dominica\",\"Micronesia (Fed. States of)\",\"Solomon Islands\",\"Liechtenstein\",\"Anguilla\",\"Vanuatu\",\"Tonga\",\"St. Pierre-Miquelon\",\"Comoros\",\"Sao Tome and Principe\",\"Guinea-Bissau\",\"Cook Islands\",\"Nauru\",\"Montserrat\",\"Wallis and Futuna Is.\",\"Kiribati\",\"Falkland Is. (Malvinas)\",\"St. Helena and Depend.\",\"Tuvalu\",\"Niue\"],\"y\":[2918659523.8095236,2140893990.4761906,711982428.5714285,633441523.8095238,601744476.1904762,152488761.9047619,392334571.4285714,53075904.76190476,63596523.809523806,277115571.4285714,235829952.3809524,222113285.7142857,136646285.7142857,187770333.33333334,215212476.19047618,203384000.0,160428285.7142857,90836571.42857143,174847190.47619048,159004942.85714287,117565095.23809524,146589047.6190476,13154809.523809524,110587571.42857143,1867857.142857143,119608666.66666667,92410666.66666667,63151380.952380955,29697716.19047619,91360952.38095239,83469263.33333333,35028571.428571425,52490761.9047619,52580523.809523806,37780142.85714286,63000952.38095238,3052809.523809524,21452571.42857143,61983761.9047619,34105714.28571428,33494095.23809524,47621380.952380955,14688000.0,35556567.428571425,18298.571428571428,28624809.523809522,41110095.23809524,47420476.190476194,29543714.285714287,22704523.80952381,42599809.52380952,12191428.57142857,33172190.476190478,35277333.333333336,26415100.0,24536909.09090909,36242549.047619045,20743857.14285714,34671857.14285714,34824666.666666664,26331523.80952381,29276047.61904762,8893285.714285715,26321476.19047619,9073268.395238096,22066714.285714287,21996800.0,22135619.04761905,14966095.238095239,8203619.047619048,18125142.85714286,16354571.42857143,17187809.523809522,214761.90476190476,15842295.238095239,5489904.761904762,6327976.19047619,1971761.9047619049,13880285.714285715,13282285.714285715,13111714.285714285,12509761.904761905,2839238.095238095,5493571.428571428,10643294.761904761,11098904.761904761,6586857.142857143,147714.2857142857,4666.666666666667,10454238.095238095,2548000.0,10040809.523809524,54571.42857142857,1681642.857142857,4340679.0,1594095.238095238,4057704.761904762,1958380.9523809524,589806.35,3838647.619047619,35095.23809523809,6724666.666666667,2942680.0,5308003.80952381,2286714.285714286,1894485.7142857143,2342685.714285714,5597928.571428572,3535028.5714285714,2762476.1904761903,3110476.1904761903,88716.19047619047,1896380.9523809524,4837476.19047619,2130095.238095238,748952.380952381,645.7142857142857,3927809.523809524,3850957.1428571427,1848222.2222222222,72714.28571428571,1400190.4761904762,257238.09523809524,1064761.9047619049,3148047.619047619,1226300.0,1834000.0,2068523.8095238095,1807714.2857142857,31269.04761904762,2065809.5238095238,1518247.619047619,2001395.238095238,2033190.4761904762,2000095.238095238,326028.5714285714,1466338.0952380951,1836290.4761904762,1795209.5238095238,764809.5238095238,613819.0476190476,187322.38095238095,1381571.4285714286,1391813.0952380951,99142.85714285714,1355047.619047619,1162722.2222222222,473811.86666666664,517854.7619047619,985422.9047619047,924914.2857142857,711190.4761904762,872000.0,891627.619047619,439494.7619047619,198119.04761904763,793976.1904761905,801058.0952380953,315475.0,287000.0,426809.5238095238,645057.1428571428,179238.09523809524,403605.5238095238,533576.5238095238,494323.3333333333,386738.0,269993.8095238095,466333.3333333333,0.0,409766.6666666667,389446.1538461539,390309.5238095238,191211.12380952382,303123.6666666667,297428.5714285714,283580.95238095237,112995.23809523809,269904.7619047619,264333.3333333333,249238.09523809524,144800.52380952382,232506.19047619047,231854.2857142857,208375.7142857143,96675.7981904762,223419.04761904763,85843.04761904762,178317.95238095237,173661.90476190476,170909.52380952382,165875.52380952382,152320.95238095237,148633.33333333334,143952.38095238095,91347.61904761905,141690.47619047618,24333.333333333332,136666.66666666666,132048.07692307694,131138.09523809524,85112.85714285714,120800.0,5803.380952380952,121138.46153846153,90741.90476190476,112285.71428571429,62542.857142857145,99047.61904761905,97319.04761904762,5842.857142857143,87790.47619047618,51570.47619047619,79507.61904761905,73947.61904761905,3675.0,63657.142857142855,47116.666666666664,43527.90476190476,43107.619047619046,39466.666666666664,32766.666666666668,32587.0,27542.85714285714,27161.904761904763,19628.571428571428,19259.428571428572,17661.904761904763,14286.190476190477,7655.238095238095,3764.7619047619046,3041.3809523809523],\"type\":\"scatter\"},{\"line\":{\"color\":\"rgba(50, 171, 96, 1.0)\",\"dash\":\"solid\",\"shape\":\"linear\",\"width\":1.3},\"mode\":\"lines\",\"name\":\"renewable\",\"text\":\"\",\"x\":[\"United States\",\"China\",\"Japan\",\"Russian Federation\",\"India\",\"Canada\",\"Germany\",\"France\",\"Brazil\",\"United Kingdom\",\"Korea, Republic of\",\"Italy\",\"Spain\",\"Mexico\",\"South Africa\",\"Australia\",\"Other Asia\",\"Ukraine\",\"Saudi Arabia\",\"Iran (Islamic Rep. of)\",\"Turkey\",\"Poland\",\"Sweden\",\"Indonesia\",\"Norway\",\"Thailand\",\"Egypt\",\"Argentina\",\"Venezuela (Bolivar. Rep.)\",\"Netherlands\",\"Malaysia\",\"Belgium\",\"Pakistan\",\"Czechia\",\"Finland\",\"Kazakhstan\",\"Switzerland\",\"Austria\",\"United Arab Emirates\",\"Romania\",\"Viet Nam\",\"Greece\",\"Colombia\",\"Philippines\",\"Paraguay\",\"Chile\",\"Uzbekistan\",\"Israel\",\"Portugal\",\"Bulgaria\",\"Kuwait\",\"New Zealand\",\"Denmark\",\"Iraq\",\"Serbia\",\"Serbia and Montenegro\",\"Singapore\",\"Hungary\",\"Algeria\",\"China, Hong Kong SAR\",\"Syrian Arab Republic\",\"Belarus\",\"Slovakia\",\"Bangladesh\",\"Peru\",\"Ireland\",\"Puerto Rico\",\"Libya\",\"Nigeria\",\"Korea, Dem.Ppl's.Rep.\",\"Azerbaijan\",\"Morocco\",\"Qatar\",\"Tajikistan\",\"Cuba\",\"Slovenia\",\"Ecuador\",\"Kyrgyzstan\",\"Oman\",\"Bahrain\",\"Turkmenistan\",\"Tunisia\",\"Lithuania\",\"Croatia\",\"Dominican Republic\",\"Lebanon\",\"Bosnia and Herzegovina\",\"Mozambique\",\"Iceland\",\"Jordan\",\"Sudan\",\"Estonia\",\"Zambia\",\"Uruguay\",\"Sri Lanka\",\"Georgia\",\"Zimbabwe\",\"Ghana\",\"Costa Rica\",\"Guatemala\",\"Dem. Rep. of the Congo\",\"Trinidad and Tobago\",\"Myanmar\",\"T.F.Yug.Rep. Macedonia\",\"Armenia\",\"Kenya\",\"Panama\",\"Jamaica\",\"C\\u00f4te d'Ivoire\",\"Honduras\",\"Bolivia (Plur. State of)\",\"Albania\",\"Latvia\",\"Yemen\",\"El Salvador\",\"Cameroon\",\"Bhutan\",\"Cyprus\",\"Mongolia\",\"Sudan (former)\",\"Ethiopia\",\"United Rep. of Tanzania\",\"Lao People's Dem. Rep.\",\"Angola\",\"Brunei Darussalam\",\"Montenegro\",\"Papua New Guinea\",\"Nicaragua\",\"Luxembourg\",\"Nepal\",\"Republic of Moldova\",\"R\\u00e9union\",\"Mauritius\",\"Malta\",\"Senegal\",\"Uganda\",\"New Caledonia\",\"Guam\",\"Bahamas\",\"Gabon\",\"Suriname\",\"Malawi\",\"Guadeloupe\",\"Martinique\",\"Namibia\",\"China, Macao SAR\",\"Neth. Antilles (former)\",\"Madagascar\",\"Mali\",\"United States Virgin Is.\",\"Botswana\",\"Cambodia\",\"Cura\\u00e7ao\",\"Barbados\",\"Guinea\",\"Afghanistan\",\"Aruba\",\"Guyana\",\"Fiji\",\"French Guiana\",\"Haiti\",\"Bermuda\",\"Congo\",\"French Polynesia\",\"Mauritania\",\"Cayman Islands\",\"Burkina Faso\",\"Swaziland\",\"South Sudan\",\"Lesotho\",\"Sint Maarten (Dutch part)\",\"Isle of Man\",\"Northern Mariana Islands\",\"Greenland\",\"St. Lucia\",\"Somalia\",\"State of Palestine\",\"Togo\",\"Djibouti\",\"Eritrea\",\"Liberia\",\"Faeroe Islands\",\"Seychelles\",\"Niger\",\"Cabo Verde\",\"Belize\",\"Antigua and Barbuda\",\"Rwanda\",\"Maldives\",\"Gambia\",\"St. Kitts-Nevis\",\"American Samoa\",\"Grenada\",\"Mayotte\",\"Gibraltar\",\"Equatorial Guinea\",\"Jersey\",\"Central African Rep.\",\"Chad\",\"Timor-Leste\",\"Turks and Caicos Islands\",\"Sierra Leone\",\"Bonaire, St Eustatius, Saba\",\"Burundi\",\"Guernsey\",\"St. Vincent-Grenadines\",\"Benin\",\"Samoa\",\"British Virgin Islands\",\"Palau\",\"Andorra\",\"Marshall Islands\",\"Dominica\",\"Micronesia (Fed. States of)\",\"Solomon Islands\",\"Liechtenstein\",\"Anguilla\",\"Vanuatu\",\"Tonga\",\"St. Pierre-Miquelon\",\"Comoros\",\"Sao Tome and Principe\",\"Guinea-Bissau\",\"Cook Islands\",\"Nauru\",\"Montserrat\",\"Wallis and Futuna Is.\",\"Kiribati\",\"Falkland Is. (Malvinas)\",\"St. Helena and Depend.\",\"Tuvalu\",\"Niue\"],\"y\":[1155138904.7619047,521588285.71428573,343130952.38095236,313345428.5714286,124243190.47619048,450238428.5714286,204951761.9047619,493432761.9047619,342405095.2380952,94461428.57142857,128511523.8095238,61213809.52380952,116112333.33333333,45811476.190476194,16457190.476190476,18867714.285714287,47820380.952380955,94146190.47619048,142.85714285714286,10475791.42857143,42138285.71428572,4742380.952380952,136638714.2857143,18182770.0,124436476.1904762,6681485.714285715,13840142.857142856,38569912.85714286,70265095.23809524,6482190.476190476,7045419.285714285,48189285.71428572,28140952.38095238,24813380.95238095,35789000.0,7737619.047619048,63455095.23809524,41609428.571428575,0.0,24124619.04761905,24516809.523809522,6617380.952380952,38631932.85714286,17657803.57619048,51509730.952380955,21135714.285714287,8205095.238095238,124857.14285714286,15250095.238095239,20831619.04761905,0.0,28793476.19047619,5916571.428571428,2307857.1428571427,10849100.0,11709363.636363637,0.0,14677714.285714285,234761.90476190476,0.0,3007523.8095238097,42904.76190476191,19814571.42857143,889857.1428571428,17995430.904761903,2627904.761904762,161371.42857142858,0.0,6119095.238095238,12378095.238095239,2064000.0,2015047.619047619,0.0,15740000.0,102685.71428571429,9303523.80952381,8253885.714285715,12412857.142857144,0.0,0.0,3047.6190476190477,159653.33333333334,9765333.333333334,6788095.238095238,1486041.4285714286,756333.3333333334,5227904.761904762,10857285.714285715,10811809.523809524,45590.47619047619,7949666.666666667,148380.95238095237,9309714.285714285,6981466.666666667,4034753.285714286,6747333.333333333,4202366.666666667,6176285.714285715,7199255.455438571,3130071.4285714286,6711952.380952381,0.0,3693406.6666666665,1195811.9523809524,3974190.476190476,4053671.4285714286,3554319.0476190476,169819.04761904763,1719095.238095238,2381809.523809524,2012485.7142857143,4868653.80952381,2991904.761904762,0.0,2675476.1904761903,3730238.095238095,4058269.0476190476,44095.23809523809,0.0,1859888.888888889,3480809.523809524,2128952.380952381,3104527.0142857144,2214809.523809524,380.95238095238096,1817200.0,1111619.0476190476,814714.2857142857,1017904.7619047619,2271142.8571428573,120380.95238095238,602889.5238095238,95457.14285714286,6714.285714285715,1285.7142857142858,1552935.7142857143,383456.1904761905,0.0,0.0,854333.3333333334,960114.2857142857,1317399.5238095238,91142.85714285714,28139.0,1310380.9523809524,0.0,0.0,616343.0809523809,527277.1428571428,375.42857142857144,219.04761904761904,199809.52380952382,32000.0,0.0,437619.04761904763,628100.0,30109.52380952381,1190.4761904761904,427298.95238095237,373714.28571428574,229285.7142857143,0.0,453714.28571428574,176207.14285714287,7047.619047619048,0.0,93827.28571428571,209255.2380952381,2000.0,456400.0,0.0,3223.076923076923,0.0,184568.98571428572,0.0,0.0,0.0,168861.90476190476,0.0,1285.7142857142858,0.0,96270.42857142857,702.3809523809524,1.6666666666666667,16927.14285714286,127593.49714285714,0.0,116962.85714285714,358.57142857142856,0.0,1761.904761904762,157.14285714285714,0.0,3349.0476190476193,0.0,50857.142857142855,0.0,113238.09523809524,0.0,0.0,0.0,45181.57142857143,733.3333333333334,115398.57142857143,0.0,24372.380952380954,666.6666666666666,41419.04761904762,0.0,0.0,87776.19047619047,28.571428571428573,29166.666666666668,914.2857142857143,0.0,68525.0,0.0,4204.761904761905,216.57142857142858,611.9047619047619,0.0,6609.523809523809,0.0,0.0,26.38095238095238,0.0,0.0,0.0,1475.7142857142858,310.0,0.0,15.873015952380952],\"type\":\"scatter\"}],                        {\"legend\":{\"bgcolor\":\"#F5F6F9\",\"font\":{\"color\":\"#4D5663\"}},\"paper_bgcolor\":\"#F5F6F9\",\"plot_bgcolor\":\"#F5F6F9\",\"template\":{\"data\":{\"barpolar\":[{\"marker\":{\"line\":{\"color\":\"#E5ECF6\",\"width\":0.5},\"pattern\":{\"fillmode\":\"overlay\",\"size\":10,\"solidity\":0.2}},\"type\":\"barpolar\"}],\"bar\":[{\"error_x\":{\"color\":\"#2a3f5f\"},\"error_y\":{\"color\":\"#2a3f5f\"},\"marker\":{\"line\":{\"color\":\"#E5ECF6\",\"width\":0.5},\"pattern\":{\"fillmode\":\"overlay\",\"size\":10,\"solidity\":0.2}},\"type\":\"bar\"}],\"carpet\":[{\"aaxis\":{\"endlinecolor\":\"#2a3f5f\",\"gridcolor\":\"white\",\"linecolor\":\"white\",\"minorgridcolor\":\"white\",\"startlinecolor\":\"#2a3f5f\"},\"baxis\":{\"endlinecolor\":\"#2a3f5f\",\"gridcolor\":\"white\",\"linecolor\":\"white\",\"minorgridcolor\":\"white\",\"startlinecolor\":\"#2a3f5f\"},\"type\":\"carpet\"}],\"choropleth\":[{\"colorbar\":{\"outlinewidth\":0,\"ticks\":\"\"},\"type\":\"choropleth\"}],\"contourcarpet\":[{\"colorbar\":{\"outlinewidth\":0,\"ticks\":\"\"},\"type\":\"contourcarpet\"}],\"contour\":[{\"colorbar\":{\"outlinewidth\":0,\"ticks\":\"\"},\"colorscale\":[[0.0,\"#0d0887\"],[0.1111111111111111,\"#46039f\"],[0.2222222222222222,\"#7201a8\"],[0.3333333333333333,\"#9c179e\"],[0.4444444444444444,\"#bd3786\"],[0.5555555555555556,\"#d8576b\"],[0.6666666666666666,\"#ed7953\"],[0.7777777777777778,\"#fb9f3a\"],[0.8888888888888888,\"#fdca26\"],[1.0,\"#f0f921\"]],\"type\":\"contour\"}],\"heatmapgl\":[{\"colorbar\":{\"outlinewidth\":0,\"ticks\":\"\"},\"colorscale\":[[0.0,\"#0d0887\"],[0.1111111111111111,\"#46039f\"],[0.2222222222222222,\"#7201a8\"],[0.3333333333333333,\"#9c179e\"],[0.4444444444444444,\"#bd3786\"],[0.5555555555555556,\"#d8576b\"],[0.6666666666666666,\"#ed7953\"],[0.7777777777777778,\"#fb9f3a\"],[0.8888888888888888,\"#fdca26\"],[1.0,\"#f0f921\"]],\"type\":\"heatmapgl\"}],\"heatmap\":[{\"colorbar\":{\"outlinewidth\":0,\"ticks\":\"\"},\"colorscale\":[[0.0,\"#0d0887\"],[0.1111111111111111,\"#46039f\"],[0.2222222222222222,\"#7201a8\"],[0.3333333333333333,\"#9c179e\"],[0.4444444444444444,\"#bd3786\"],[0.5555555555555556,\"#d8576b\"],[0.6666666666666666,\"#ed7953\"],[0.7777777777777778,\"#fb9f3a\"],[0.8888888888888888,\"#fdca26\"],[1.0,\"#f0f921\"]],\"type\":\"heatmap\"}],\"histogram2dcontour\":[{\"colorbar\":{\"outlinewidth\":0,\"ticks\":\"\"},\"colorscale\":[[0.0,\"#0d0887\"],[0.1111111111111111,\"#46039f\"],[0.2222222222222222,\"#7201a8\"],[0.3333333333333333,\"#9c179e\"],[0.4444444444444444,\"#bd3786\"],[0.5555555555555556,\"#d8576b\"],[0.6666666666666666,\"#ed7953\"],[0.7777777777777778,\"#fb9f3a\"],[0.8888888888888888,\"#fdca26\"],[1.0,\"#f0f921\"]],\"type\":\"histogram2dcontour\"}],\"histogram2d\":[{\"colorbar\":{\"outlinewidth\":0,\"ticks\":\"\"},\"colorscale\":[[0.0,\"#0d0887\"],[0.1111111111111111,\"#46039f\"],[0.2222222222222222,\"#7201a8\"],[0.3333333333333333,\"#9c179e\"],[0.4444444444444444,\"#bd3786\"],[0.5555555555555556,\"#d8576b\"],[0.6666666666666666,\"#ed7953\"],[0.7777777777777778,\"#fb9f3a\"],[0.8888888888888888,\"#fdca26\"],[1.0,\"#f0f921\"]],\"type\":\"histogram2d\"}],\"histogram\":[{\"marker\":{\"pattern\":{\"fillmode\":\"overlay\",\"size\":10,\"solidity\":0.2}},\"type\":\"histogram\"}],\"mesh3d\":[{\"colorbar\":{\"outlinewidth\":0,\"ticks\":\"\"},\"type\":\"mesh3d\"}],\"parcoords\":[{\"line\":{\"colorbar\":{\"outlinewidth\":0,\"ticks\":\"\"}},\"type\":\"parcoords\"}],\"pie\":[{\"automargin\":true,\"type\":\"pie\"}],\"scatter3d\":[{\"line\":{\"colorbar\":{\"outlinewidth\":0,\"ticks\":\"\"}},\"marker\":{\"colorbar\":{\"outlinewidth\":0,\"ticks\":\"\"}},\"type\":\"scatter3d\"}],\"scattercarpet\":[{\"marker\":{\"colorbar\":{\"outlinewidth\":0,\"ticks\":\"\"}},\"type\":\"scattercarpet\"}],\"scattergeo\":[{\"marker\":{\"colorbar\":{\"outlinewidth\":0,\"ticks\":\"\"}},\"type\":\"scattergeo\"}],\"scattergl\":[{\"marker\":{\"colorbar\":{\"outlinewidth\":0,\"ticks\":\"\"}},\"type\":\"scattergl\"}],\"scattermapbox\":[{\"marker\":{\"colorbar\":{\"outlinewidth\":0,\"ticks\":\"\"}},\"type\":\"scattermapbox\"}],\"scatterpolargl\":[{\"marker\":{\"colorbar\":{\"outlinewidth\":0,\"ticks\":\"\"}},\"type\":\"scatterpolargl\"}],\"scatterpolar\":[{\"marker\":{\"colorbar\":{\"outlinewidth\":0,\"ticks\":\"\"}},\"type\":\"scatterpolar\"}],\"scatter\":[{\"marker\":{\"colorbar\":{\"outlinewidth\":0,\"ticks\":\"\"}},\"type\":\"scatter\"}],\"scatterternary\":[{\"marker\":{\"colorbar\":{\"outlinewidth\":0,\"ticks\":\"\"}},\"type\":\"scatterternary\"}],\"surface\":[{\"colorbar\":{\"outlinewidth\":0,\"ticks\":\"\"},\"colorscale\":[[0.0,\"#0d0887\"],[0.1111111111111111,\"#46039f\"],[0.2222222222222222,\"#7201a8\"],[0.3333333333333333,\"#9c179e\"],[0.4444444444444444,\"#bd3786\"],[0.5555555555555556,\"#d8576b\"],[0.6666666666666666,\"#ed7953\"],[0.7777777777777778,\"#fb9f3a\"],[0.8888888888888888,\"#fdca26\"],[1.0,\"#f0f921\"]],\"type\":\"surface\"}],\"table\":[{\"cells\":{\"fill\":{\"color\":\"#EBF0F8\"},\"line\":{\"color\":\"white\"}},\"header\":{\"fill\":{\"color\":\"#C8D4E3\"},\"line\":{\"color\":\"white\"}},\"type\":\"table\"}]},\"layout\":{\"annotationdefaults\":{\"arrowcolor\":\"#2a3f5f\",\"arrowhead\":0,\"arrowwidth\":1},\"autotypenumbers\":\"strict\",\"coloraxis\":{\"colorbar\":{\"outlinewidth\":0,\"ticks\":\"\"}},\"colorscale\":{\"diverging\":[[0,\"#8e0152\"],[0.1,\"#c51b7d\"],[0.2,\"#de77ae\"],[0.3,\"#f1b6da\"],[0.4,\"#fde0ef\"],[0.5,\"#f7f7f7\"],[0.6,\"#e6f5d0\"],[0.7,\"#b8e186\"],[0.8,\"#7fbc41\"],[0.9,\"#4d9221\"],[1,\"#276419\"]],\"sequential\":[[0.0,\"#0d0887\"],[0.1111111111111111,\"#46039f\"],[0.2222222222222222,\"#7201a8\"],[0.3333333333333333,\"#9c179e\"],[0.4444444444444444,\"#bd3786\"],[0.5555555555555556,\"#d8576b\"],[0.6666666666666666,\"#ed7953\"],[0.7777777777777778,\"#fb9f3a\"],[0.8888888888888888,\"#fdca26\"],[1.0,\"#f0f921\"]],\"sequentialminus\":[[0.0,\"#0d0887\"],[0.1111111111111111,\"#46039f\"],[0.2222222222222222,\"#7201a8\"],[0.3333333333333333,\"#9c179e\"],[0.4444444444444444,\"#bd3786\"],[0.5555555555555556,\"#d8576b\"],[0.6666666666666666,\"#ed7953\"],[0.7777777777777778,\"#fb9f3a\"],[0.8888888888888888,\"#fdca26\"],[1.0,\"#f0f921\"]]},\"colorway\":[\"#636efa\",\"#EF553B\",\"#00cc96\",\"#ab63fa\",\"#FFA15A\",\"#19d3f3\",\"#FF6692\",\"#B6E880\",\"#FF97FF\",\"#FECB52\"],\"font\":{\"color\":\"#2a3f5f\"},\"geo\":{\"bgcolor\":\"white\",\"lakecolor\":\"white\",\"landcolor\":\"#E5ECF6\",\"showlakes\":true,\"showland\":true,\"subunitcolor\":\"white\"},\"hoverlabel\":{\"align\":\"left\"},\"hovermode\":\"closest\",\"mapbox\":{\"style\":\"light\"},\"paper_bgcolor\":\"white\",\"plot_bgcolor\":\"#E5ECF6\",\"polar\":{\"angularaxis\":{\"gridcolor\":\"white\",\"linecolor\":\"white\",\"ticks\":\"\"},\"bgcolor\":\"#E5ECF6\",\"radialaxis\":{\"gridcolor\":\"white\",\"linecolor\":\"white\",\"ticks\":\"\"}},\"scene\":{\"xaxis\":{\"backgroundcolor\":\"#E5ECF6\",\"gridcolor\":\"white\",\"gridwidth\":2,\"linecolor\":\"white\",\"showbackground\":true,\"ticks\":\"\",\"zerolinecolor\":\"white\"},\"yaxis\":{\"backgroundcolor\":\"#E5ECF6\",\"gridcolor\":\"white\",\"gridwidth\":2,\"linecolor\":\"white\",\"showbackground\":true,\"ticks\":\"\",\"zerolinecolor\":\"white\"},\"zaxis\":{\"backgroundcolor\":\"#E5ECF6\",\"gridcolor\":\"white\",\"gridwidth\":2,\"linecolor\":\"white\",\"showbackground\":true,\"ticks\":\"\",\"zerolinecolor\":\"white\"}},\"shapedefaults\":{\"line\":{\"color\":\"#2a3f5f\"}},\"ternary\":{\"aaxis\":{\"gridcolor\":\"white\",\"linecolor\":\"white\",\"ticks\":\"\"},\"baxis\":{\"gridcolor\":\"white\",\"linecolor\":\"white\",\"ticks\":\"\"},\"bgcolor\":\"#E5ECF6\",\"caxis\":{\"gridcolor\":\"white\",\"linecolor\":\"white\",\"ticks\":\"\"}},\"title\":{\"x\":0.05},\"xaxis\":{\"automargin\":true,\"gridcolor\":\"white\",\"linecolor\":\"white\",\"ticks\":\"\",\"title\":{\"standoff\":15},\"zerolinecolor\":\"white\",\"zerolinewidth\":2},\"yaxis\":{\"automargin\":true,\"gridcolor\":\"white\",\"linecolor\":\"white\",\"ticks\":\"\",\"title\":{\"standoff\":15},\"zerolinecolor\":\"white\",\"zerolinewidth\":2}}},\"title\":{\"font\":{\"color\":\"#4D5663\"}},\"xaxis\":{\"gridcolor\":\"#E1E5ED\",\"showgrid\":true,\"tickfont\":{\"color\":\"#4D5663\"},\"title\":{\"font\":{\"color\":\"#4D5663\"},\"text\":\"\"},\"zerolinecolor\":\"#E1E5ED\"},\"yaxis\":{\"gridcolor\":\"#E1E5ED\",\"showgrid\":true,\"tickfont\":{\"color\":\"#4D5663\"},\"title\":{\"font\":{\"color\":\"#4D5663\"},\"text\":\"\"},\"zerolinecolor\":\"#E1E5ED\"}},                        {\"showLink\": true, \"linkText\": \"Export to plot.ly\", \"plotlyServerURL\": \"https://plot.ly\", \"responsive\": true}                    ).then(function(){\n",
       "                            \n",
       "var gd = document.getElementById('0abefae7-0a1d-4f39-b8f4-f847867fc5c4');\n",
       "var x = new MutationObserver(function (mutations, observer) {{\n",
       "        var display = window.getComputedStyle(gd).display;\n",
       "        if (!display || display === 'none') {{\n",
       "            console.log([gd, 'removed!']);\n",
       "            Plotly.purge(gd);\n",
       "            observer.disconnect();\n",
       "        }}\n",
       "}});\n",
       "\n",
       "// Listen for the removal of the full notebook cells\n",
       "var notebookContainer = gd.closest('#notebook-container');\n",
       "if (notebookContainer) {{\n",
       "    x.observe(notebookContainer, {childList: true});\n",
       "}}\n",
       "\n",
       "// Listen for the clearing of the current output cell\n",
       "var outputEl = gd.closest('.output');\n",
       "if (outputEl) {{\n",
       "    x.observe(outputEl, {childList: true});\n",
       "}}\n",
       "\n",
       "                        })                };                });            </script>        </div>"
      ]
     },
     "metadata": {},
     "output_type": "display_data"
    }
   ],
   "source": [
    "#  ranking of all country - gross, renewable, non renevable\n",
    "rank_all_rnr = df.groupby(['country_or_area']).agg({'new_quantity':'mean', 'non_renewable':'mean','renewable':'mean'})\n",
    "rank_all_rnr.sort_values('new_quantity',ascending = False, inplace = True)\n",
    "rank_all_rnr.iplot();"
   ]
  },
  {
   "cell_type": "code",
   "execution_count": null,
   "id": "5474e7af",
   "metadata": {},
   "outputs": [],
   "source": []
  }
 ],
 "metadata": {
  "kernelspec": {
   "display_name": "Python 3 (ipykernel)",
   "language": "python",
   "name": "python3"
  },
  "language_info": {
   "codemirror_mode": {
    "name": "ipython",
    "version": 3
   },
   "file_extension": ".py",
   "mimetype": "text/x-python",
   "name": "python",
   "nbconvert_exporter": "python",
   "pygments_lexer": "ipython3",
   "version": "3.9.12"
  }
 },
 "nbformat": 4,
 "nbformat_minor": 5
}
