{
 "cells": [
  {
   "cell_type": "code",
   "execution_count": null,
   "id": "1f7b2297",
   "metadata": {},
   "outputs": [],
   "source": [
    "import pandas as pd\n",
    "import numpy as np\n",
    "#import timeit"
   ]
  },
  {
   "cell_type": "code",
   "execution_count": null,
   "id": "fb3fac4c",
   "metadata": {},
   "outputs": [],
   "source": [
    "'''Dictionary based on category column from main database'''\n",
    "\n",
    "categories_selected = {\n",
    "\n",
    "        'coal':\n",
    "            {'hard_coal':\n",
    "                 {'anthracite':\n",
    "                      [0],\n",
    "                 'bituminous_coal':\n",
    "                      ['coking_coal','other_bituminous_coal']},\n",
    "             'brown_coal':\n",
    "                 {'sub_bituminous_coal':\n",
    "                      [0],\n",
    "                 'lignite':\n",
    "                      [0]}, \n",
    "             'coal_products':\n",
    "                 {'coal_coke':\n",
    "                      ['coke_oven_coke','gas_coke'],\n",
    "                 'patent_fuel':\n",
    "                      [0],\n",
    "                 'brown_coal_briquettes':\n",
    "                      [0],\n",
    "                 'coal_tar':\n",
    "                      [0],\n",
    "                 'gasworks_gas':\n",
    "                      ['blast_furnace_gas','other_recovered_gases'],\n",
    "                 'other_coal_products':\n",
    "                      [0]}},           \n",
    "        'peat_and_peat_products':\n",
    "            {'peat':\n",
    "                 {0:\n",
    "                      [0]},\n",
    "             'peat_products':\n",
    "                 {0:\n",
    "                      [0]}}, \n",
    "        'oil_shale_oil_sands':\n",
    "            {0:\n",
    "                 {0:\n",
    "                     [0]}},\n",
    "        'natural_gas_including_lng':\n",
    "            {0:\n",
    "                 {0:\n",
    "                     [0]}},\n",
    "        'oil':\n",
    "            {'conventional_crude_oil':\n",
    "                 {0:\n",
    "                      [0]},\n",
    "             'natural_gas_liquids':\n",
    "                 {0:\n",
    "                      [0]},\n",
    "             'refinery_feedstocks':\n",
    "                 {0:\n",
    "                      [0]},\n",
    "             'additives_and_oxygenates':\n",
    "                 {0:\n",
    "                      [0]},\n",
    "             'other_hydrocarbons':\n",
    "                 {0:\n",
    "                      [0]},\n",
    "             'oil_products':\n",
    "                 {'refinery_gas':\n",
    "                      [0],\n",
    "                 'ethane':\n",
    "                      [0],\n",
    "                 'liquified_petroleum_gas':\n",
    "                      [0],\n",
    "                 'naphtha':\n",
    "                      [0],\n",
    "                 'gasolines':\n",
    "                      ['aviation_gasoline','motor_gasoline','gasoline_type_jet_fuel'],\n",
    "                 'kerosenes':\n",
    "                      ['kerosene_type_jet_fuel','other_kerosene'],\n",
    "                 'gas_oil_diesel_oil_and_heavy_gas_oil':\n",
    "                      ['gas_oil_diesel_oil',],\n",
    "                 'fuel_oil':\n",
    "                      [0],\n",
    "                 'other_oil_products':\n",
    "                      ['white_spirit_and_special_boiling_point_industrial_spirits','lubricants',\n",
    "                                      'paraffin_waxes','petroleum_coke','bitumen','other_oil_products_n_e_c']}}, \n",
    "        'biofuels':\n",
    "            {'solid_biofuels':\n",
    "                 {'fuelwood':\n",
    "                      [0],\n",
    "                  'bagasse':\n",
    "                      [0],\n",
    "                  'animal_waste':\n",
    "                      [0],\n",
    "                  'black_liquor':\n",
    "                      [0],\n",
    "                  'charcoal':\n",
    "                      [0],\n",
    "                  'other_vegetal_material_and_residues':\n",
    "                      [0]},\n",
    "            'liquid_biofuels':\n",
    "                 {'biodiesel':\n",
    "                      [0],\n",
    "                  'biogasoline':\n",
    "                      [0],\n",
    "                  'other_liquid_biofuels':\n",
    "                      [0]},\n",
    "            'biogases':\n",
    "                 {0:\n",
    "                      [0]}},\n",
    "        'waste':\n",
    "            {'industrial_waste':\n",
    "                 {0:\n",
    "                      [0]},\n",
    "             'municipal_wastes':\n",
    "                 {0:\n",
    "                      [0]}},\n",
    "        'electricity': \n",
    "            {'electricity_net_installed_capacity_of_electric_power_plants':\n",
    "                 {0:\n",
    "                      [0]}},\n",
    "        'heat':\n",
    "            {0:\n",
    "                 {0:\n",
    "                      [0]}},\n",
    "        'nuclear_fuels':\n",
    "            {'uranium':\n",
    "                 {0:\n",
    "                      [0]}}}"
   ]
  },
  {
   "cell_type": "code",
   "execution_count": null,
   "id": "063a6660",
   "metadata": {
    "scrolled": true
   },
   "outputs": [],
   "source": [
    "#Utworzenie listy na podstawie słownika\n",
    "c_list=list()\n",
    "for i,j in categories_selected.items():\n",
    "    #print('L1',i)\n",
    "    for ii,jj in j.items():\n",
    "        #print('L2',ii)\n",
    "        for iii,jjj in jj.items():\n",
    "            for x in jjj:\n",
    "                c_list.append([i,ii,iii,x])\n",
    "                print('L1',i,'L2',ii,'L3',iii, 'L4',x,)\n",
    "\n"
   ]
  },
  {
   "cell_type": "code",
   "execution_count": null,
   "id": "6972469b",
   "metadata": {},
   "outputs": [],
   "source": [
    "#przypisanie nagłóków do listy\n",
    "lts = pd.DataFrame(c_list)\n",
    "lts.columns = ['level_1','level_2', 'level_3', 'level_4']\n",
    "lts"
   ]
  },
  {
   "cell_type": "code",
   "execution_count": null,
   "id": "bfa1f3c5",
   "metadata": {},
   "outputs": [],
   "source": [
    "#wczytanie bazy danych z pliku redy_data\n",
    "df = pd.read_csv('transaction_type021.csv',low_memory=False) "
   ]
  },
  {
   "cell_type": "code",
   "execution_count": null,
   "id": "2f55ed6a",
   "metadata": {},
   "outputs": [],
   "source": [
    "df.sample(10)"
   ]
  },
  {
   "cell_type": "code",
   "execution_count": null,
   "id": "bc94efb9",
   "metadata": {},
   "outputs": [],
   "source": [
    "#utworzenie nowych kolumn\n",
    "df['L1'] = 0\n",
    "df['L2'] = 0\n",
    "df['L3'] = 0\n",
    "df['L4'] = 0"
   ]
  },
  {
   "cell_type": "code",
   "execution_count": null,
   "id": "d3f2862d",
   "metadata": {},
   "outputs": [],
   "source": [
    "#podgląd\n",
    "df.sample(10)"
   ]
  },
  {
   "cell_type": "markdown",
   "id": "1b9dc426",
   "metadata": {},
   "source": [
    "## Numpy"
   ]
  },
  {
   "cell_type": "code",
   "execution_count": null,
   "id": "ddf1721c",
   "metadata": {},
   "outputs": [],
   "source": [
    "#from data frame to numpy array (faster than df)\n",
    "lts_np = lts.to_numpy(dtype=str)\n",
    "ctg_np = df.to_numpy(dtype=str)"
   ]
  },
  {
   "cell_type": "code",
   "execution_count": null,
   "id": "d6675135",
   "metadata": {},
   "outputs": [],
   "source": [
    "s = 0 #pierwszy wiersz\n",
    "e = len(ctg_np) #ostatni wiersz  \n",
    "#Pętla iteruje kolejno przez każdy wiersz i sprawdza czy dana kategoria istnieje w słowniku, jeśli tak\n",
    "#to uzupełnia tablicę w utworzonych we wcześniejszym etapie kolumnach L1,L2,L3,L4\n",
    "for x in range(s,e): \n",
    "    if ctg_np[x][6] in lts_np: #warunek sprawdza czy dana kategori znajduje się w słowniku\n",
    "        mask = [0,0,0,0,0,0,0,0,0,0,0,0,0,0,0,0] #początkowa maska\n",
    "        #jak już wadomo, że dana kategoria jest w słowniku to określane są jej 'współrzędne w słowniku, czyli i-wiersz,j-kolumna \n",
    "        i,j = np.where(lts_np == ctg_np[x][6]) \n",
    "        ipt = lts_np[i[0]][j[0]] #input do funkcji place, czyli wybierana jest kategoria ze słownika \n",
    "        dest = ctg_np[x] #docelowa tablica \n",
    "        mask[11+j[0]+1] = 1 # maska, czyli gdzie ma być dodana kategoria w tablicy docelowej\n",
    "        np.place(dest,mask,ipt) #funkcja, która dodaje kategorie ze słownika do docelowej tablicy\n",
    "        #Jeśli dana kategoria jest np. na poziomie 4 to trzeba uzupełnić wyższe poziomy na podstawie słownika\n",
    "        if j[0] > 0: #warunek sprawdzający czy dana kategoria jest na poziomie niższym niż 1 ('L1'). Jeśłi jest na L2 to uzupełnia L1, itd.\n",
    "            for xx in range(0,j[0]):\n",
    "                mask = [0,0,0,0,0,0,0,0,0,0,0,0,0,0,0,0]\n",
    "                mask[11+j[0]-xx] = 1\n",
    "                ipt = lts_np[i[0]][j[0]-1-xx]\n",
    "                np.place(dest,mask,ipt) \n",
    "  "
   ]
  },
  {
   "cell_type": "code",
   "execution_count": null,
   "id": "96dbd533",
   "metadata": {},
   "outputs": [],
   "source": [
    "# konwersja z powrotem do data frame\n",
    "df = pd.DataFrame(ctg_np)\n",
    "df.columns = ['country_or_area','ISO','year','transaction_type',\n",
    "              'unit','quantity','category','CL4','CL3','CL2',\n",
    "              'commodity_transaction','commodity','L1','L2','L3','L4']"
   ]
  },
  {
   "cell_type": "code",
   "execution_count": null,
   "id": "752c9075",
   "metadata": {},
   "outputs": [],
   "source": [
    "df.sample(10)"
   ]
  },
  {
   "cell_type": "markdown",
   "id": "ea40bb18",
   "metadata": {},
   "source": [
    "## Units"
   ]
  },
  {
   "cell_type": "code",
   "execution_count": null,
   "id": "8c0033a6",
   "metadata": {},
   "outputs": [],
   "source": [
    "df.unit.unique()"
   ]
  },
  {
   "cell_type": "code",
   "execution_count": null,
   "id": "f3ffa8e9",
   "metadata": {},
   "outputs": [],
   "source": [
    "un = {\n",
    "    'Metric tons,  thousand':\n",
    "        {1:'Metric tons,  thousand'},\n",
    "    'Terajoules':\n",
    "        {1*10**12:'Kilowatts,  thousand'},\n",
    "    'Kilowatts,  thousand':\n",
    "        {1:'Kilowatts,  thousand'},\n",
    "    'Kilowatt-hours, million':\n",
    "        {1000:'Kilowatts,  thousand'},\n",
    "    'Cubic metres, thousand':\n",
    "        {1:'Cubic metres, thousand'},\n",
    "    'Metric Tons':\n",
    "        {1/1000:'Metric tons,  thousand'}\n",
    "    }"
   ]
  },
  {
   "cell_type": "code",
   "execution_count": null,
   "id": "c3a842e9",
   "metadata": {},
   "outputs": [],
   "source": [
    "new_quantity_column = list()\n",
    "new_unit_column = list()\n",
    "size = df.L1.size\n",
    "\n",
    "for x in range(0,size):\n",
    "    v = list(un[df.unit.iloc[x]].values())\n",
    "    k = list(un[df.unit.iloc[x]].keys())\n",
    "    if df.unit.iloc[x] == v[0]:\n",
    "        aa = k[0]\n",
    "        new_unit = v[0]\n",
    "        new_quantity = float(df.quantity.iloc[x]) * aa\n",
    "        new_quantity_column.append(new_quantity)\n",
    "        new_unit_column.append(new_unit)\n",
    "    elif df.unit.iloc[x] == 'Terajoules':\n",
    "        new_quantity = float(df.quantity.iloc[x])*(277777.778) #terajoule to kilowatt hour\n",
    "        new_unit = v[0]\n",
    "        new_quantity_column.append(new_quantity)\n",
    "        new_unit_column.append(new_unit)\n",
    "    else:\n",
    "        aa = k[0]\n",
    "        new_quantity = float(df.quantity.iloc[x]) * aa\n",
    "        new_unit = v[0]\n",
    "        new_quantity_column.append(new_quantity)\n",
    "        new_unit_column.append(new_unit)"
   ]
  },
  {
   "cell_type": "code",
   "execution_count": null,
   "id": "22f01914",
   "metadata": {},
   "outputs": [],
   "source": [
    "new_columns = {'new_unit':new_unit_column, 'new_quantity':new_quantity_column}\n",
    "dff = pd.DataFrame(new_columns)"
   ]
  },
  {
   "cell_type": "code",
   "execution_count": null,
   "id": "b2eab971",
   "metadata": {},
   "outputs": [],
   "source": [
    "df = df.join(dff)"
   ]
  },
  {
   "cell_type": "code",
   "execution_count": null,
   "id": "dd67dcf7",
   "metadata": {},
   "outputs": [],
   "source": [
    "df.sample(10)"
   ]
  },
  {
   "cell_type": "code",
   "execution_count": null,
   "id": "ab7f2a1b",
   "metadata": {},
   "outputs": [],
   "source": [
    "df.to_csv('ready_data_030.csv', index=False)"
   ]
  }
 ],
 "metadata": {
  "kernelspec": {
   "display_name": "Python 3 (ipykernel)",
   "language": "python",
   "name": "python3"
  },
  "language_info": {
   "codemirror_mode": {
    "name": "ipython",
    "version": 3
   },
   "file_extension": ".py",
   "mimetype": "text/x-python",
   "name": "python",
   "nbconvert_exporter": "python",
   "pygments_lexer": "ipython3",
   "version": "3.9.12"
  },
  "vscode": {
   "interpreter": {
    "hash": "56af6108ceeeb4d6532d164c8127b8e870178160f27b73293335843d14508bbe"
   }
  }
 },
 "nbformat": 4,
 "nbformat_minor": 5
}
