{
 "cells": [
  {
   "cell_type": "code",
   "execution_count": null,
   "id": "be412aa6",
   "metadata": {
    "scrolled": false
   },
   "outputs": [],
   "source": [
    "import pandas as pd\n",
    "import numpy as np\n",
    "pd.set_option('display.max_rows', 300)\n",
    "\n",
    "df = pd.read_csv(\"all_energy_statistics.csv\", low_memory=False)\n",
    "\n",
    "df.head()"
   ]
  },
  {
   "cell_type": "code",
   "execution_count": null,
   "id": "b99d7502",
   "metadata": {},
   "outputs": [],
   "source": [
    "df.info(memory_usage='deep')"
   ]
  },
  {
   "cell_type": "code",
   "execution_count": null,
   "id": "1aceea10",
   "metadata": {},
   "outputs": [],
   "source": [
    "df.country_or_area = df.country_or_area.astype('category')\n",
    "df.commodity_transaction = df.commodity_transaction.astype('category')\n",
    "df.unit = df.unit.astype('category')\n",
    "df.category = df.category.astype('category')"
   ]
  },
  {
   "cell_type": "code",
   "execution_count": null,
   "id": "a9393fb5",
   "metadata": {
    "scrolled": true
   },
   "outputs": [],
   "source": [
    "df.info(memory_usage='deep')"
   ]
  },
  {
   "cell_type": "markdown",
   "id": "f02c500d",
   "metadata": {},
   "source": [
    "## Selecting years"
   ]
  },
  {
   "cell_type": "code",
   "execution_count": null,
   "id": "4d715080",
   "metadata": {
    "scrolled": true
   },
   "outputs": [],
   "source": [
    "to_remove = df[df['country_or_area'].str.endswith('(former)')]\n",
    "to_remove[['year','country_or_area']].value_counts().sort_index()"
   ]
  },
  {
   "cell_type": "code",
   "execution_count": null,
   "id": "3f74b96e",
   "metadata": {
    "scrolled": true
   },
   "outputs": [],
   "source": [
    "to_remove['year'].value_counts().sort_index()"
   ]
  },
  {
   "cell_type": "code",
   "execution_count": null,
   "id": "e6a5cb19",
   "metadata": {
    "scrolled": true
   },
   "outputs": [],
   "source": [
    "new_df = df[df.year > 1993]\n",
    "new_df.head()\n"
   ]
  },
  {
   "cell_type": "markdown",
   "id": "229426ee",
   "metadata": {},
   "source": [
    "### Checking the 'commodity_transaction' column"
   ]
  },
  {
   "cell_type": "code",
   "execution_count": null,
   "id": "0e9578d0",
   "metadata": {},
   "outputs": [],
   "source": [
    "new_df.commodity_transaction.value_counts()"
   ]
  },
  {
   "cell_type": "code",
   "execution_count": null,
   "id": "5b3c02b5",
   "metadata": {},
   "outputs": [],
   "source": [
    "new_df.commodity_transaction.str.count(\" - \").value_counts()"
   ]
  },
  {
   "cell_type": "code",
   "execution_count": null,
   "id": "9cc29f80",
   "metadata": {},
   "outputs": [],
   "source": [
    "split_commodities = new_df.commodity_transaction.str.split(\" - | – \",  expand=True)\n",
    "split_commodities.head(20)"
   ]
  },
  {
   "cell_type": "code",
   "execution_count": null,
   "id": "9d009db4",
   "metadata": {},
   "outputs": [],
   "source": [
    "split_commodities.columns = [\"commodity\",\"transaction_type\",\"additional_transaction_info\"]\n",
    "split_commodities.head()"
   ]
  },
  {
   "cell_type": "code",
   "execution_count": null,
   "id": "251302c0",
   "metadata": {
    "scrolled": false
   },
   "outputs": [],
   "source": [
    "split_commodities.commodity = split_commodities.commodity.str.lower().str.strip()\n",
    "split_commodities.commodity.value_counts().sort_index()"
   ]
  },
  {
   "cell_type": "code",
   "execution_count": null,
   "id": "4eb0b84b",
   "metadata": {
    "scrolled": true
   },
   "outputs": [],
   "source": [
    "#cleaning commodities\n",
    "split_commodities.commodity = split_commodities.commodity.str.lower().str.strip()\n",
    "\n",
    "split_commodities.commodity = split_commodities.commodity.str.replace('liquefied ', 'liquified ')\n",
    "split_commodities.commodity = split_commodities.commodity.str.replace('wastes', 'waste')\n",
    "split_commodities.commodity = split_commodities.commodity.str.replace('- recoverable resources', '')\n",
    "split_commodities.commodity = split_commodities.commodity.str.replace('hrad', 'hard')\n",
    "split_commodities.commodity.value_counts().sort_index()"
   ]
  },
  {
   "cell_type": "code",
   "execution_count": null,
   "id": "67b376e6",
   "metadata": {},
   "outputs": [],
   "source": [
    "#cleaning transaction_type#\n",
    "\n",
    "split_commodities.transaction_type = split_commodities.transaction_type.str.lower().str.strip()\n",
    "\n",
    "def industry(row):\n",
    "    x = str(row)\n",
    "    if x.endswith('industry'):\n",
    "        return row.replace('industry', '').strip()\n",
    "    else:\n",
    "        return row\n",
    "\n",
    "split_commodities.transaction_type = split_commodities.transaction_type.apply(industry)\n",
    "split_commodities.transaction_type = split_commodities.transaction_type.str.replace('commerce', 'commercial')\n",
    "split_commodities.transaction_type = split_commodities.transaction_type.str.replace('transportation', 'transport')\n",
    "split_commodities.transaction_type = split_commodities.transaction_type.str.replace('non energy', 'non-energy')\n",
    "split_commodities.transaction_type = split_commodities.transaction_type.str.replace('energy uses', 'energy use')\n",
    "split_commodities.transaction_type = split_commodities.transaction_type.str.replace('heat and chp plants', 'chp and heat plants')\n",
    "split_commodities.transaction_type = split_commodities.transaction_type.str.replace('transformatin', 'transformation')\n",
    "split_commodities.transaction_type = split_commodities.transaction_type.str.replace(\"consumption in\", \"consumption by\")\n",
    "split_commodities.transaction_type = split_commodities.transaction_type.str.replace(\"own use in\", \"own use by\")\n",
    "split_commodities.transaction_type = split_commodities.transaction_type.str.replace(\"transformation main \", \"transformation in main\")\n",
    "split_commodities.transaction_type = split_commodities.transaction_type.str.replace(\"mainactivity\", \"main activity\")\n",
    "split_commodities.transaction_type = split_commodities.transaction_type.str.replace(\"non-fuel mining\", \"non-fuel\")\n",
    "split_commodities.transaction_type = split_commodities.transaction_type.str.replace(\"min. ind.\", \"\")\n",
    "split_commodities.transaction_type = split_commodities.transaction_type.str.replace(\"ind.\", \"\")\n",
    "split_commodities.transaction_type = split_commodities.transaction_type.str.lower().str.strip()\n",
    "\n",
    "split_commodities.transaction_type.value_counts().sort_index()\n"
   ]
  },
  {
   "cell_type": "code",
   "execution_count": null,
   "id": "425b9243",
   "metadata": {
    "scrolled": true
   },
   "outputs": [],
   "source": [
    "split_commodities.additional_transaction_info = split_commodities.additional_transaction_info.str.lower().str.strip()\n",
    "split_commodities.additional_transaction_info.value_counts()"
   ]
  },
  {
   "cell_type": "code",
   "execution_count": null,
   "id": "b73a3478",
   "metadata": {
    "scrolled": true
   },
   "outputs": [],
   "source": [
    "split_commodities.head()"
   ]
  },
  {
   "cell_type": "markdown",
   "id": "073690b0",
   "metadata": {},
   "source": [
    "### Adding new columns to the original table"
   ]
  },
  {
   "cell_type": "code",
   "execution_count": null,
   "id": "7e30d83d",
   "metadata": {
    "scrolled": true
   },
   "outputs": [],
   "source": [
    "new_data = pd.concat([new_df, split_commodities.commodity,split_commodities.transaction_type,split_commodities.additional_transaction_info],axis=1)\n",
    "new_data.tail(20)"
   ]
  },
  {
   "cell_type": "markdown",
   "id": "6a849d58",
   "metadata": {},
   "source": [
    "### Creating a file"
   ]
  },
  {
   "cell_type": "code",
   "execution_count": null,
   "id": "8e78b21e",
   "metadata": {},
   "outputs": [],
   "source": [
    "new_data.to_csv('ready_data00.csv', index=False)"
   ]
  }
 ],
 "metadata": {
  "kernelspec": {
   "display_name": "Python 3 (ipykernel)",
   "language": "python",
   "name": "python3"
  },
  "language_info": {
   "codemirror_mode": {
    "name": "ipython",
    "version": 3
   },
   "file_extension": ".py",
   "mimetype": "text/x-python",
   "name": "python",
   "nbconvert_exporter": "python",
   "pygments_lexer": "ipython3",
   "version": "3.9.12"
  },
  "vscode": {
   "interpreter": {
    "hash": "56af6108ceeeb4d6532d164c8127b8e870178160f27b73293335843d14508bbe"
   }
  }
 },
 "nbformat": 4,
 "nbformat_minor": 5
}
