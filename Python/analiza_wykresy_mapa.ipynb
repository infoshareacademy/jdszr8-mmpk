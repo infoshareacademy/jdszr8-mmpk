{
 "cells": [
  {
   "cell_type": "code",
   "execution_count": 1,
   "metadata": {},
   "outputs": [],
   "source": [
    "\n",
    "import pandas as pd\n",
    "pd.set_option('display.float_format', lambda x:'%.2f'%x)\n",
    "\n",
    "df_f = pd.read_csv('final_version.csv', parse_dates= True)\n",
    "\n",
    "\n"
   ]
  },
  {
   "cell_type": "code",
   "execution_count": 2,
   "metadata": {},
   "outputs": [],
   "source": [
    "def _get_world_production_lineplot(\n",
    "    data: pd.DataFrame\n",
    ") -> pd.DataFrame:\n",
    "    \"\"\" Gets gross production lineplot for world per year\n",
    "        Works at final_version.csv\n",
    "    \"\"\"\n",
    "    from bokeh.io import output_notebook, show\n",
    "    from bokeh.plotting import figure\n",
    "    from bokeh.models import NumeralTickFormatter\n",
    "\n",
    "    total_electricity=data.loc[(data['commodity_transaction'] == 'Electricity - Gross production')]\n",
    "    total_at_world = total_electricity.groupby('year')['new_quantity'].sum().sort_values(ascending=True).reset_index()\n",
    "    \n",
    "    output_notebook()\n",
    "    p = figure()\n",
    "    p.line(x='year', y='new_quantity', line_width=2, source = total_at_world)\n",
    "    p.yaxis.formatter=NumeralTickFormatter(format=\"00\")\n",
    "    p.xaxis.axis_label = 'Year'\n",
    "    p.yaxis.axis_label = 'Production TW/h'\n",
    "    p.title = 'World Electricity Production'\n",
    "    show(p)\n"
   ]
  },
  {
   "cell_type": "code",
   "execution_count": 3,
   "metadata": {},
   "outputs": [
    {
     "data": {
      "text/html": [
       "\n",
       "    <div class=\"bk-root\">\n",
       "        <a href=\"https://bokeh.org\" target=\"_blank\" class=\"bk-logo bk-logo-small bk-logo-notebook\"></a>\n",
       "        <span id=\"1002\">Loading BokehJS ...</span>\n",
       "    </div>"
      ]
     },
     "metadata": {},
     "output_type": "display_data"
    },
    {
     "data": {
      "application/javascript": "\n(function(root) {\n  function now() {\n    return new Date();\n  }\n\n  const force = true;\n\n  if (typeof root._bokeh_onload_callbacks === \"undefined\" || force === true) {\n    root._bokeh_onload_callbacks = [];\n    root._bokeh_is_loading = undefined;\n  }\n\n  const JS_MIME_TYPE = 'application/javascript';\n  const HTML_MIME_TYPE = 'text/html';\n  const EXEC_MIME_TYPE = 'application/vnd.bokehjs_exec.v0+json';\n  const CLASS_NAME = 'output_bokeh rendered_html';\n\n  /**\n   * Render data to the DOM node\n   */\n  function render(props, node) {\n    const script = document.createElement(\"script\");\n    node.appendChild(script);\n  }\n\n  /**\n   * Handle when an output is cleared or removed\n   */\n  function handleClearOutput(event, handle) {\n    const cell = handle.cell;\n\n    const id = cell.output_area._bokeh_element_id;\n    const server_id = cell.output_area._bokeh_server_id;\n    // Clean up Bokeh references\n    if (id != null && id in Bokeh.index) {\n      Bokeh.index[id].model.document.clear();\n      delete Bokeh.index[id];\n    }\n\n    if (server_id !== undefined) {\n      // Clean up Bokeh references\n      const cmd_clean = \"from bokeh.io.state import curstate; print(curstate().uuid_to_server['\" + server_id + \"'].get_sessions()[0].document.roots[0]._id)\";\n      cell.notebook.kernel.execute(cmd_clean, {\n        iopub: {\n          output: function(msg) {\n            const id = msg.content.text.trim();\n            if (id in Bokeh.index) {\n              Bokeh.index[id].model.document.clear();\n              delete Bokeh.index[id];\n            }\n          }\n        }\n      });\n      // Destroy server and session\n      const cmd_destroy = \"import bokeh.io.notebook as ion; ion.destroy_server('\" + server_id + \"')\";\n      cell.notebook.kernel.execute(cmd_destroy);\n    }\n  }\n\n  /**\n   * Handle when a new output is added\n   */\n  function handleAddOutput(event, handle) {\n    const output_area = handle.output_area;\n    const output = handle.output;\n\n    // limit handleAddOutput to display_data with EXEC_MIME_TYPE content only\n    if ((output.output_type != \"display_data\") || (!Object.prototype.hasOwnProperty.call(output.data, EXEC_MIME_TYPE))) {\n      return\n    }\n\n    const toinsert = output_area.element.find(\".\" + CLASS_NAME.split(' ')[0]);\n\n    if (output.metadata[EXEC_MIME_TYPE][\"id\"] !== undefined) {\n      toinsert[toinsert.length - 1].firstChild.textContent = output.data[JS_MIME_TYPE];\n      // store reference to embed id on output_area\n      output_area._bokeh_element_id = output.metadata[EXEC_MIME_TYPE][\"id\"];\n    }\n    if (output.metadata[EXEC_MIME_TYPE][\"server_id\"] !== undefined) {\n      const bk_div = document.createElement(\"div\");\n      bk_div.innerHTML = output.data[HTML_MIME_TYPE];\n      const script_attrs = bk_div.children[0].attributes;\n      for (let i = 0; i < script_attrs.length; i++) {\n        toinsert[toinsert.length - 1].firstChild.setAttribute(script_attrs[i].name, script_attrs[i].value);\n        toinsert[toinsert.length - 1].firstChild.textContent = bk_div.children[0].textContent\n      }\n      // store reference to server id on output_area\n      output_area._bokeh_server_id = output.metadata[EXEC_MIME_TYPE][\"server_id\"];\n    }\n  }\n\n  function register_renderer(events, OutputArea) {\n\n    function append_mime(data, metadata, element) {\n      // create a DOM node to render to\n      const toinsert = this.create_output_subarea(\n        metadata,\n        CLASS_NAME,\n        EXEC_MIME_TYPE\n      );\n      this.keyboard_manager.register_events(toinsert);\n      // Render to node\n      const props = {data: data, metadata: metadata[EXEC_MIME_TYPE]};\n      render(props, toinsert[toinsert.length - 1]);\n      element.append(toinsert);\n      return toinsert\n    }\n\n    /* Handle when an output is cleared or removed */\n    events.on('clear_output.CodeCell', handleClearOutput);\n    events.on('delete.Cell', handleClearOutput);\n\n    /* Handle when a new output is added */\n    events.on('output_added.OutputArea', handleAddOutput);\n\n    /**\n     * Register the mime type and append_mime function with output_area\n     */\n    OutputArea.prototype.register_mime_type(EXEC_MIME_TYPE, append_mime, {\n      /* Is output safe? */\n      safe: true,\n      /* Index of renderer in `output_area.display_order` */\n      index: 0\n    });\n  }\n\n  // register the mime type if in Jupyter Notebook environment and previously unregistered\n  if (root.Jupyter !== undefined) {\n    const events = require('base/js/events');\n    const OutputArea = require('notebook/js/outputarea').OutputArea;\n\n    if (OutputArea.prototype.mime_types().indexOf(EXEC_MIME_TYPE) == -1) {\n      register_renderer(events, OutputArea);\n    }\n  }\n\n  \n  if (typeof (root._bokeh_timeout) === \"undefined\" || force === true) {\n    root._bokeh_timeout = Date.now() + 5000;\n    root._bokeh_failed_load = false;\n  }\n\n  const NB_LOAD_WARNING = {'data': {'text/html':\n     \"<div style='background-color: #fdd'>\\n\"+\n     \"<p>\\n\"+\n     \"BokehJS does not appear to have successfully loaded. If loading BokehJS from CDN, this \\n\"+\n     \"may be due to a slow or bad network connection. Possible fixes:\\n\"+\n     \"</p>\\n\"+\n     \"<ul>\\n\"+\n     \"<li>re-rerun `output_notebook()` to attempt to load from CDN again, or</li>\\n\"+\n     \"<li>use INLINE resources instead, as so:</li>\\n\"+\n     \"</ul>\\n\"+\n     \"<code>\\n\"+\n     \"from bokeh.resources import INLINE\\n\"+\n     \"output_notebook(resources=INLINE)\\n\"+\n     \"</code>\\n\"+\n     \"</div>\"}};\n\n  function display_loaded() {\n    const el = document.getElementById(\"1002\");\n    if (el != null) {\n      el.textContent = \"BokehJS is loading...\";\n    }\n    if (root.Bokeh !== undefined) {\n      if (el != null) {\n        el.textContent = \"BokehJS \" + root.Bokeh.version + \" successfully loaded.\";\n      }\n    } else if (Date.now() < root._bokeh_timeout) {\n      setTimeout(display_loaded, 100)\n    }\n  }\n\n\n  function run_callbacks() {\n    try {\n      root._bokeh_onload_callbacks.forEach(function(callback) {\n        if (callback != null)\n          callback();\n      });\n    } finally {\n      delete root._bokeh_onload_callbacks\n    }\n    console.debug(\"Bokeh: all callbacks have finished\");\n  }\n\n  function load_libs(css_urls, js_urls, callback) {\n    if (css_urls == null) css_urls = [];\n    if (js_urls == null) js_urls = [];\n\n    root._bokeh_onload_callbacks.push(callback);\n    if (root._bokeh_is_loading > 0) {\n      console.debug(\"Bokeh: BokehJS is being loaded, scheduling callback at\", now());\n      return null;\n    }\n    if (js_urls == null || js_urls.length === 0) {\n      run_callbacks();\n      return null;\n    }\n    console.debug(\"Bokeh: BokehJS not loaded, scheduling load and callback at\", now());\n    root._bokeh_is_loading = css_urls.length + js_urls.length;\n\n    function on_load() {\n      root._bokeh_is_loading--;\n      if (root._bokeh_is_loading === 0) {\n        console.debug(\"Bokeh: all BokehJS libraries/stylesheets loaded\");\n        run_callbacks()\n      }\n    }\n\n    function on_error(url) {\n      console.error(\"failed to load \" + url);\n    }\n\n    for (let i = 0; i < css_urls.length; i++) {\n      const url = css_urls[i];\n      const element = document.createElement(\"link\");\n      element.onload = on_load;\n      element.onerror = on_error.bind(null, url);\n      element.rel = \"stylesheet\";\n      element.type = \"text/css\";\n      element.href = url;\n      console.debug(\"Bokeh: injecting link tag for BokehJS stylesheet: \", url);\n      document.body.appendChild(element);\n    }\n\n    for (let i = 0; i < js_urls.length; i++) {\n      const url = js_urls[i];\n      const element = document.createElement('script');\n      element.onload = on_load;\n      element.onerror = on_error.bind(null, url);\n      element.async = false;\n      element.src = url;\n      console.debug(\"Bokeh: injecting script tag for BokehJS library: \", url);\n      document.head.appendChild(element);\n    }\n  };\n\n  function inject_raw_css(css) {\n    const element = document.createElement(\"style\");\n    element.appendChild(document.createTextNode(css));\n    document.body.appendChild(element);\n  }\n\n  \n  const js_urls = [\"https://cdn.bokeh.org/bokeh/release/bokeh-2.4.2.min.js\", \"https://cdn.bokeh.org/bokeh/release/bokeh-gl-2.4.2.min.js\", \"https://cdn.bokeh.org/bokeh/release/bokeh-widgets-2.4.2.min.js\", \"https://cdn.bokeh.org/bokeh/release/bokeh-tables-2.4.2.min.js\", \"https://cdn.bokeh.org/bokeh/release/bokeh-mathjax-2.4.2.min.js\"];\n  const css_urls = [];\n  \n\n  const inline_js = [\n    function(Bokeh) {\n      Bokeh.set_log_level(\"info\");\n    },\n    function(Bokeh) {\n    \n    \n    }\n  ];\n\n  function run_inline_js() {\n    \n    if (root.Bokeh !== undefined || force === true) {\n      \n    for (let i = 0; i < inline_js.length; i++) {\n      inline_js[i].call(root, root.Bokeh);\n    }\n    if (force === true) {\n        display_loaded();\n      }} else if (Date.now() < root._bokeh_timeout) {\n      setTimeout(run_inline_js, 100);\n    } else if (!root._bokeh_failed_load) {\n      console.log(\"Bokeh: BokehJS failed to load within specified timeout.\");\n      root._bokeh_failed_load = true;\n    } else if (force !== true) {\n      const cell = $(document.getElementById(\"1002\")).parents('.cell').data().cell;\n      cell.output_area.append_execute_result(NB_LOAD_WARNING)\n    }\n\n  }\n\n  if (root._bokeh_is_loading === 0) {\n    console.debug(\"Bokeh: BokehJS loaded, going straight to plotting\");\n    run_inline_js();\n  } else {\n    load_libs(css_urls, js_urls, function() {\n      console.debug(\"Bokeh: BokehJS plotting callback run at\", now());\n      run_inline_js();\n    });\n  }\n}(window));",
      "application/vnd.bokehjs_load.v0+json": ""
     },
     "metadata": {},
     "output_type": "display_data"
    },
    {
     "data": {
      "text/html": [
       "\n",
       "\n",
       "\n",
       "\n",
       "\n",
       "\n",
       "  <div class=\"bk-root\" id=\"47278efa-62f6-49f9-a987-37bef211326c\" data-root-id=\"1003\"></div>\n"
      ]
     },
     "metadata": {},
     "output_type": "display_data"
    },
    {
     "data": {
      "application/javascript": "(function(root) {\n  function embed_document(root) {\n    \n  const docs_json = {\"1e7be8a0-1662-48be-88d9-a0991708799c\":{\"defs\":[],\"roots\":{\"references\":[{\"attributes\":{\"below\":[{\"id\":\"1012\"}],\"center\":[{\"id\":\"1015\"},{\"id\":\"1019\"}],\"left\":[{\"id\":\"1016\"}],\"renderers\":[{\"id\":\"1039\"}],\"title\":{\"id\":\"1043\"},\"toolbar\":{\"id\":\"1027\"},\"x_range\":{\"id\":\"1004\"},\"x_scale\":{\"id\":\"1008\"},\"y_range\":{\"id\":\"1006\"},\"y_scale\":{\"id\":\"1010\"}},\"id\":\"1003\",\"subtype\":\"Figure\",\"type\":\"Plot\"},{\"attributes\":{\"axis\":{\"id\":\"1016\"},\"coordinates\":null,\"dimension\":1,\"group\":null,\"ticker\":null},\"id\":\"1019\",\"type\":\"Grid\"},{\"attributes\":{},\"id\":\"1017\",\"type\":\"BasicTicker\"},{\"attributes\":{\"coordinates\":null,\"group\":null,\"text\":\"World Electricity Production\"},\"id\":\"1043\",\"type\":\"Title\"},{\"attributes\":{},\"id\":\"1021\",\"type\":\"WheelZoomTool\"},{\"attributes\":{},\"id\":\"1020\",\"type\":\"PanTool\"},{\"attributes\":{\"overlay\":{\"id\":\"1026\"}},\"id\":\"1022\",\"type\":\"BoxZoomTool\"},{\"attributes\":{},\"id\":\"1051\",\"type\":\"UnionRenderers\"},{\"attributes\":{\"source\":{\"id\":\"1034\"}},\"id\":\"1040\",\"type\":\"CDSView\"},{\"attributes\":{},\"id\":\"1023\",\"type\":\"SaveTool\"},{\"attributes\":{},\"id\":\"1024\",\"type\":\"ResetTool\"},{\"attributes\":{},\"id\":\"1050\",\"type\":\"AllLabels\"},{\"attributes\":{},\"id\":\"1052\",\"type\":\"Selection\"},{\"attributes\":{\"bottom_units\":\"screen\",\"coordinates\":null,\"fill_alpha\":0.5,\"fill_color\":\"lightgrey\",\"group\":null,\"left_units\":\"screen\",\"level\":\"overlay\",\"line_alpha\":1.0,\"line_color\":\"black\",\"line_dash\":[4,4],\"line_width\":2,\"right_units\":\"screen\",\"syncable\":false,\"top_units\":\"screen\"},\"id\":\"1026\",\"type\":\"BoxAnnotation\"},{\"attributes\":{\"axis\":{\"id\":\"1012\"},\"coordinates\":null,\"group\":null,\"ticker\":null},\"id\":\"1015\",\"type\":\"Grid\"},{\"attributes\":{\"coordinates\":null,\"data_source\":{\"id\":\"1034\"},\"glyph\":{\"id\":\"1036\"},\"group\":null,\"hover_glyph\":null,\"muted_glyph\":{\"id\":\"1038\"},\"nonselection_glyph\":{\"id\":\"1037\"},\"view\":{\"id\":\"1040\"}},\"id\":\"1039\",\"type\":\"GlyphRenderer\"},{\"attributes\":{\"format\":\"00\"},\"id\":\"1041\",\"type\":\"NumeralTickFormatter\"},{\"attributes\":{\"line_color\":\"#1f77b4\",\"line_width\":2,\"x\":{\"field\":\"year\"},\"y\":{\"field\":\"new_quantity\"}},\"id\":\"1036\",\"type\":\"Line\"},{\"attributes\":{\"axis_label\":\"Year\",\"coordinates\":null,\"formatter\":{\"id\":\"1049\"},\"group\":null,\"major_label_policy\":{\"id\":\"1050\"},\"ticker\":{\"id\":\"1013\"}},\"id\":\"1012\",\"type\":\"LinearAxis\"},{\"attributes\":{\"line_alpha\":0.2,\"line_color\":\"#1f77b4\",\"line_width\":2,\"x\":{\"field\":\"year\"},\"y\":{\"field\":\"new_quantity\"}},\"id\":\"1038\",\"type\":\"Line\"},{\"attributes\":{\"tools\":[{\"id\":\"1020\"},{\"id\":\"1021\"},{\"id\":\"1022\"},{\"id\":\"1023\"},{\"id\":\"1024\"},{\"id\":\"1025\"}]},\"id\":\"1027\",\"type\":\"Toolbar\"},{\"attributes\":{},\"id\":\"1013\",\"type\":\"BasicTicker\"},{\"attributes\":{},\"id\":\"1006\",\"type\":\"DataRange1d\"},{\"attributes\":{},\"id\":\"1047\",\"type\":\"AllLabels\"},{\"attributes\":{},\"id\":\"1010\",\"type\":\"LinearScale\"},{\"attributes\":{},\"id\":\"1008\",\"type\":\"LinearScale\"},{\"attributes\":{},\"id\":\"1025\",\"type\":\"HelpTool\"},{\"attributes\":{},\"id\":\"1049\",\"type\":\"BasicTickFormatter\"},{\"attributes\":{\"line_alpha\":0.1,\"line_color\":\"#1f77b4\",\"line_width\":2,\"x\":{\"field\":\"year\"},\"y\":{\"field\":\"new_quantity\"}},\"id\":\"1037\",\"type\":\"Line\"},{\"attributes\":{},\"id\":\"1004\",\"type\":\"DataRange1d\"},{\"attributes\":{\"axis_label\":\"Production TW/h\",\"coordinates\":null,\"formatter\":{\"id\":\"1041\"},\"group\":null,\"major_label_policy\":{\"id\":\"1047\"},\"ticker\":{\"id\":\"1017\"}},\"id\":\"1016\",\"type\":\"LinearAxis\"},{\"attributes\":{\"data\":{\"index\":[0,1,2,3,4,5,6,7,8,9,10,11,12,13,14,15,16,17,18,19,20],\"new_quantity\":{\"__ndarray__\":\"m8k32w0ryUDJxoMtYAbKQBxiF6Cn3MpAzhDY5ktty0CmuKrsTBHMQHw705Wd6MxAof5pWQtEzkCTQDnA/nbOQDUomgeTq89AtJw6RQlr0ECtKMpKdi7RQGA00KHF7dFASBVq8hqg0kDMuW8QR3DTQGTQpvavvdNAaopb4J7B00C0DovEFwzVQNUwnXlup9VAicmuDGkm1kDFmC+4VufWQM4xY+yOWNdA\",\"dtype\":\"float64\",\"order\":\"little\",\"shape\":[21]},\"year\":[1994,1995,1996,1997,1998,1999,2000,2001,2002,2003,2004,2005,2006,2007,2009,2008,2010,2011,2012,2013,2014]},\"selected\":{\"id\":\"1052\"},\"selection_policy\":{\"id\":\"1051\"}},\"id\":\"1034\",\"type\":\"ColumnDataSource\"}],\"root_ids\":[\"1003\"]},\"title\":\"Bokeh Application\",\"version\":\"2.4.2\"}};\n  const render_items = [{\"docid\":\"1e7be8a0-1662-48be-88d9-a0991708799c\",\"root_ids\":[\"1003\"],\"roots\":{\"1003\":\"47278efa-62f6-49f9-a987-37bef211326c\"}}];\n  root.Bokeh.embed.embed_items_notebook(docs_json, render_items);\n\n  }\n  if (root.Bokeh !== undefined) {\n    embed_document(root);\n  } else {\n    let attempts = 0;\n    const timer = setInterval(function(root) {\n      if (root.Bokeh !== undefined) {\n        clearInterval(timer);\n        embed_document(root);\n      } else {\n        attempts++;\n        if (attempts > 100) {\n          clearInterval(timer);\n          console.log(\"Bokeh: ERROR: Unable to run BokehJS code because BokehJS library is missing\");\n        }\n      }\n    }, 10, root)\n  }\n})(window);",
      "application/vnd.bokehjs_exec.v0+json": ""
     },
     "metadata": {
      "application/vnd.bokehjs_exec.v0+json": {
       "id": "1003"
      }
     },
     "output_type": "display_data"
    }
   ],
   "source": [
    "_get_world_production_lineplot(df_f)"
   ]
  },
  {
   "cell_type": "code",
   "execution_count": 4,
   "metadata": {},
   "outputs": [],
   "source": [
    "def _get_country_yearly_stats(\n",
    "    data: pd.DataFrame,\n",
    "    country: str, \n",
    ") -> pd.DataFrame:\n",
    "    \"\"\" Gets stats of selected country throught years\n",
    "        Working at final_version.csv file \n",
    "    \"\"\"\n",
    "\n",
    "    import seaborn as sns\n",
    "    from bokeh.layouts import gridplot\n",
    "    from bokeh.io import output_notebook, show, reset_output\n",
    "    from bokeh.plotting import figure\n",
    "    from bokeh.models import HoverTool, ColumnDataSource, CDSView, BooleanFilter, Legend\n",
    "    from bokeh.palettes import Spectral\n",
    "    from bokeh.models import NumeralTickFormatter\n",
    "    \n",
    "    source_list = ['Electricity - total nuclear production',\n",
    "                'Electricity - total geothermal production',\n",
    "                'Electricity - total tide, wave and hydro production',\n",
    "                'Electricity - total solar production',\n",
    "                'Electricity - total wind production','Electricity - total thermal production','Electricity - Gross production']\n",
    "\n",
    "    df_ele = data.loc[(data.commodity_transaction.isin(source_list))]\n",
    "\n",
    "    source_list_short = {'Electricity - total nuclear production': 'Nuclear Production',\n",
    "                'Electricity - total geothermal production': 'Geothermal Production',\n",
    "                'Electricity - total tide, wave and hydro production': 'Tide, Wave and Hydro Production',\n",
    "                'Electricity - total solar production': 'Solar Production',\n",
    "                'Electricity - total wind production': 'Wind Production',\n",
    "                'Electricity - total thermal production': 'Thermal Production',\n",
    "                'Electricity - Gross production': 'Gross Production'}\n",
    "\n",
    "    df_ele ['commodity_transaction'] = df_ele.commodity_transaction.map(source_list_short)         \n",
    "          \n",
    "    output_notebook()\n",
    "\n",
    "    country_for_pivot = df_ele.loc[(df_ele['country_or_area'] == country)]\n",
    "\n",
    "    names = list(country_for_pivot['commodity_transaction'].unique())\n",
    "    names.remove('Gross Production')\n",
    "    Reverse_Spectral= Spectral.copy()\n",
    "    Reverse_Spectral[len(names)]\n",
    "\n",
    "    total_by_source = pd.pivot_table(country_for_pivot, values = 'new_quantity', index=['year'], columns =['commodity_transaction'], fill_value=0)\n",
    "    \n",
    "    print(names)\n",
    "    for i in names:\n",
    "        total_by_source[i + ' %'] = (total_by_source[i])*100/(total_by_source[names].sum(axis=1))\n",
    "\n",
    "    \n",
    "    cm = sns.light_palette(\"blue\", as_cmap=True)\n",
    "    a = total_by_source.style.background_gradient(cmap=cm)\n",
    "\n",
    "    dict_for_sort = {'Geothermal Production':5, 'Nuclear Production':4, 'Solar Production':3, 'Thermal Production':6, 'Tide, Wave and Hydro Production':1, 'Wind Production':2}\n",
    "    names = sorted(names, key = dict_for_sort.get)\n",
    "    source = source = ColumnDataSource(total_by_source)\n",
    "    \n",
    "    tooltips_source = [\n",
    "        ('year', '@year'),\n",
    "        ('By Source', '@$name{0,0} KWh. M'),\n",
    "        ('Total','$y{0,0} KWh. M')\n",
    "    ]\n",
    "\n",
    "    subplot1 = figure(title = 'Electricity Production in {} by Source 1994-2014'.format(country),plot_width=800, plot_height=600,)\n",
    "    subplot1.varea_stack(names,\n",
    "                    x='year',color=Reverse_Spectral[len(names)] , legend_label = names, source = source)\n",
    "\n",
    "    subplot1.vline_stack(names,\n",
    "                    x='year',color = 'black', source = source)\n",
    "    \n",
    "    subplot1.line(x = 'year', y = 'Gross Production',\n",
    "                line_dash=[4, 4], line_color='gray', line_width=2, legend_label='Gross Production', source = source)\n",
    "    subplot1.add_layout(subplot1.legend[0], 'right')\n",
    "    subplot1.legend.location = \"bottom_right\"\n",
    "    subplot1.add_tools(HoverTool(tooltips = tooltips_source))\n",
    "    subplot1.xaxis.axis_label = 'Year'\n",
    "    subplot1.yaxis.axis_label = 'Production TW/h'\n",
    "    subplot1.yaxis.formatter=NumeralTickFormatter(format=\"00\")\n",
    "    show(subplot1)\n",
    "    \n",
    "    return a \n",
    "   "
   ]
  },
  {
   "cell_type": "code",
   "execution_count": 5,
   "metadata": {},
   "outputs": [
    {
     "name": "stderr",
     "output_type": "stream",
     "text": [
      "C:\\Users\\karl1\\AppData\\Local\\Temp\\ipykernel_23124\\761243218.py:33: SettingWithCopyWarning: \n",
      "A value is trying to be set on a copy of a slice from a DataFrame.\n",
      "Try using .loc[row_indexer,col_indexer] = value instead\n",
      "\n",
      "See the caveats in the documentation: https://pandas.pydata.org/pandas-docs/stable/user_guide/indexing.html#returning-a-view-versus-a-copy\n",
      "  df_ele ['commodity_transaction'] = df_ele.commodity_transaction.map(source_list_short)\n"
     ]
    },
    {
     "data": {
      "text/html": [
       "\n",
       "    <div class=\"bk-root\">\n",
       "        <a href=\"https://bokeh.org\" target=\"_blank\" class=\"bk-logo bk-logo-small bk-logo-notebook\"></a>\n",
       "        <span id=\"1099\">Loading BokehJS ...</span>\n",
       "    </div>"
      ]
     },
     "metadata": {},
     "output_type": "display_data"
    },
    {
     "data": {
      "application/javascript": "\n(function(root) {\n  function now() {\n    return new Date();\n  }\n\n  const force = true;\n\n  if (typeof root._bokeh_onload_callbacks === \"undefined\" || force === true) {\n    root._bokeh_onload_callbacks = [];\n    root._bokeh_is_loading = undefined;\n  }\n\n  const JS_MIME_TYPE = 'application/javascript';\n  const HTML_MIME_TYPE = 'text/html';\n  const EXEC_MIME_TYPE = 'application/vnd.bokehjs_exec.v0+json';\n  const CLASS_NAME = 'output_bokeh rendered_html';\n\n  /**\n   * Render data to the DOM node\n   */\n  function render(props, node) {\n    const script = document.createElement(\"script\");\n    node.appendChild(script);\n  }\n\n  /**\n   * Handle when an output is cleared or removed\n   */\n  function handleClearOutput(event, handle) {\n    const cell = handle.cell;\n\n    const id = cell.output_area._bokeh_element_id;\n    const server_id = cell.output_area._bokeh_server_id;\n    // Clean up Bokeh references\n    if (id != null && id in Bokeh.index) {\n      Bokeh.index[id].model.document.clear();\n      delete Bokeh.index[id];\n    }\n\n    if (server_id !== undefined) {\n      // Clean up Bokeh references\n      const cmd_clean = \"from bokeh.io.state import curstate; print(curstate().uuid_to_server['\" + server_id + \"'].get_sessions()[0].document.roots[0]._id)\";\n      cell.notebook.kernel.execute(cmd_clean, {\n        iopub: {\n          output: function(msg) {\n            const id = msg.content.text.trim();\n            if (id in Bokeh.index) {\n              Bokeh.index[id].model.document.clear();\n              delete Bokeh.index[id];\n            }\n          }\n        }\n      });\n      // Destroy server and session\n      const cmd_destroy = \"import bokeh.io.notebook as ion; ion.destroy_server('\" + server_id + \"')\";\n      cell.notebook.kernel.execute(cmd_destroy);\n    }\n  }\n\n  /**\n   * Handle when a new output is added\n   */\n  function handleAddOutput(event, handle) {\n    const output_area = handle.output_area;\n    const output = handle.output;\n\n    // limit handleAddOutput to display_data with EXEC_MIME_TYPE content only\n    if ((output.output_type != \"display_data\") || (!Object.prototype.hasOwnProperty.call(output.data, EXEC_MIME_TYPE))) {\n      return\n    }\n\n    const toinsert = output_area.element.find(\".\" + CLASS_NAME.split(' ')[0]);\n\n    if (output.metadata[EXEC_MIME_TYPE][\"id\"] !== undefined) {\n      toinsert[toinsert.length - 1].firstChild.textContent = output.data[JS_MIME_TYPE];\n      // store reference to embed id on output_area\n      output_area._bokeh_element_id = output.metadata[EXEC_MIME_TYPE][\"id\"];\n    }\n    if (output.metadata[EXEC_MIME_TYPE][\"server_id\"] !== undefined) {\n      const bk_div = document.createElement(\"div\");\n      bk_div.innerHTML = output.data[HTML_MIME_TYPE];\n      const script_attrs = bk_div.children[0].attributes;\n      for (let i = 0; i < script_attrs.length; i++) {\n        toinsert[toinsert.length - 1].firstChild.setAttribute(script_attrs[i].name, script_attrs[i].value);\n        toinsert[toinsert.length - 1].firstChild.textContent = bk_div.children[0].textContent\n      }\n      // store reference to server id on output_area\n      output_area._bokeh_server_id = output.metadata[EXEC_MIME_TYPE][\"server_id\"];\n    }\n  }\n\n  function register_renderer(events, OutputArea) {\n\n    function append_mime(data, metadata, element) {\n      // create a DOM node to render to\n      const toinsert = this.create_output_subarea(\n        metadata,\n        CLASS_NAME,\n        EXEC_MIME_TYPE\n      );\n      this.keyboard_manager.register_events(toinsert);\n      // Render to node\n      const props = {data: data, metadata: metadata[EXEC_MIME_TYPE]};\n      render(props, toinsert[toinsert.length - 1]);\n      element.append(toinsert);\n      return toinsert\n    }\n\n    /* Handle when an output is cleared or removed */\n    events.on('clear_output.CodeCell', handleClearOutput);\n    events.on('delete.Cell', handleClearOutput);\n\n    /* Handle when a new output is added */\n    events.on('output_added.OutputArea', handleAddOutput);\n\n    /**\n     * Register the mime type and append_mime function with output_area\n     */\n    OutputArea.prototype.register_mime_type(EXEC_MIME_TYPE, append_mime, {\n      /* Is output safe? */\n      safe: true,\n      /* Index of renderer in `output_area.display_order` */\n      index: 0\n    });\n  }\n\n  // register the mime type if in Jupyter Notebook environment and previously unregistered\n  if (root.Jupyter !== undefined) {\n    const events = require('base/js/events');\n    const OutputArea = require('notebook/js/outputarea').OutputArea;\n\n    if (OutputArea.prototype.mime_types().indexOf(EXEC_MIME_TYPE) == -1) {\n      register_renderer(events, OutputArea);\n    }\n  }\n\n  \n  if (typeof (root._bokeh_timeout) === \"undefined\" || force === true) {\n    root._bokeh_timeout = Date.now() + 5000;\n    root._bokeh_failed_load = false;\n  }\n\n  const NB_LOAD_WARNING = {'data': {'text/html':\n     \"<div style='background-color: #fdd'>\\n\"+\n     \"<p>\\n\"+\n     \"BokehJS does not appear to have successfully loaded. If loading BokehJS from CDN, this \\n\"+\n     \"may be due to a slow or bad network connection. Possible fixes:\\n\"+\n     \"</p>\\n\"+\n     \"<ul>\\n\"+\n     \"<li>re-rerun `output_notebook()` to attempt to load from CDN again, or</li>\\n\"+\n     \"<li>use INLINE resources instead, as so:</li>\\n\"+\n     \"</ul>\\n\"+\n     \"<code>\\n\"+\n     \"from bokeh.resources import INLINE\\n\"+\n     \"output_notebook(resources=INLINE)\\n\"+\n     \"</code>\\n\"+\n     \"</div>\"}};\n\n  function display_loaded() {\n    const el = document.getElementById(\"1099\");\n    if (el != null) {\n      el.textContent = \"BokehJS is loading...\";\n    }\n    if (root.Bokeh !== undefined) {\n      if (el != null) {\n        el.textContent = \"BokehJS \" + root.Bokeh.version + \" successfully loaded.\";\n      }\n    } else if (Date.now() < root._bokeh_timeout) {\n      setTimeout(display_loaded, 100)\n    }\n  }\n\n\n  function run_callbacks() {\n    try {\n      root._bokeh_onload_callbacks.forEach(function(callback) {\n        if (callback != null)\n          callback();\n      });\n    } finally {\n      delete root._bokeh_onload_callbacks\n    }\n    console.debug(\"Bokeh: all callbacks have finished\");\n  }\n\n  function load_libs(css_urls, js_urls, callback) {\n    if (css_urls == null) css_urls = [];\n    if (js_urls == null) js_urls = [];\n\n    root._bokeh_onload_callbacks.push(callback);\n    if (root._bokeh_is_loading > 0) {\n      console.debug(\"Bokeh: BokehJS is being loaded, scheduling callback at\", now());\n      return null;\n    }\n    if (js_urls == null || js_urls.length === 0) {\n      run_callbacks();\n      return null;\n    }\n    console.debug(\"Bokeh: BokehJS not loaded, scheduling load and callback at\", now());\n    root._bokeh_is_loading = css_urls.length + js_urls.length;\n\n    function on_load() {\n      root._bokeh_is_loading--;\n      if (root._bokeh_is_loading === 0) {\n        console.debug(\"Bokeh: all BokehJS libraries/stylesheets loaded\");\n        run_callbacks()\n      }\n    }\n\n    function on_error(url) {\n      console.error(\"failed to load \" + url);\n    }\n\n    for (let i = 0; i < css_urls.length; i++) {\n      const url = css_urls[i];\n      const element = document.createElement(\"link\");\n      element.onload = on_load;\n      element.onerror = on_error.bind(null, url);\n      element.rel = \"stylesheet\";\n      element.type = \"text/css\";\n      element.href = url;\n      console.debug(\"Bokeh: injecting link tag for BokehJS stylesheet: \", url);\n      document.body.appendChild(element);\n    }\n\n    for (let i = 0; i < js_urls.length; i++) {\n      const url = js_urls[i];\n      const element = document.createElement('script');\n      element.onload = on_load;\n      element.onerror = on_error.bind(null, url);\n      element.async = false;\n      element.src = url;\n      console.debug(\"Bokeh: injecting script tag for BokehJS library: \", url);\n      document.head.appendChild(element);\n    }\n  };\n\n  function inject_raw_css(css) {\n    const element = document.createElement(\"style\");\n    element.appendChild(document.createTextNode(css));\n    document.body.appendChild(element);\n  }\n\n  \n  const js_urls = [\"https://cdn.bokeh.org/bokeh/release/bokeh-2.4.2.min.js\", \"https://cdn.bokeh.org/bokeh/release/bokeh-gl-2.4.2.min.js\", \"https://cdn.bokeh.org/bokeh/release/bokeh-widgets-2.4.2.min.js\", \"https://cdn.bokeh.org/bokeh/release/bokeh-tables-2.4.2.min.js\", \"https://cdn.bokeh.org/bokeh/release/bokeh-mathjax-2.4.2.min.js\"];\n  const css_urls = [];\n  \n\n  const inline_js = [\n    function(Bokeh) {\n      Bokeh.set_log_level(\"info\");\n    },\n    function(Bokeh) {\n    \n    \n    }\n  ];\n\n  function run_inline_js() {\n    \n    if (root.Bokeh !== undefined || force === true) {\n      \n    for (let i = 0; i < inline_js.length; i++) {\n      inline_js[i].call(root, root.Bokeh);\n    }\n    if (force === true) {\n        display_loaded();\n      }} else if (Date.now() < root._bokeh_timeout) {\n      setTimeout(run_inline_js, 100);\n    } else if (!root._bokeh_failed_load) {\n      console.log(\"Bokeh: BokehJS failed to load within specified timeout.\");\n      root._bokeh_failed_load = true;\n    } else if (force !== true) {\n      const cell = $(document.getElementById(\"1099\")).parents('.cell').data().cell;\n      cell.output_area.append_execute_result(NB_LOAD_WARNING)\n    }\n\n  }\n\n  if (root._bokeh_is_loading === 0) {\n    console.debug(\"Bokeh: BokehJS loaded, going straight to plotting\");\n    run_inline_js();\n  } else {\n    load_libs(css_urls, js_urls, function() {\n      console.debug(\"Bokeh: BokehJS plotting callback run at\", now());\n      run_inline_js();\n    });\n  }\n}(window));",
      "application/vnd.bokehjs_load.v0+json": ""
     },
     "metadata": {},
     "output_type": "display_data"
    },
    {
     "name": "stdout",
     "output_type": "stream",
     "text": [
      "['Solar Production', 'Thermal Production', 'Tide, Wave and Hydro Production', 'Wind Production']\n"
     ]
    },
    {
     "data": {
      "text/html": [
       "\n",
       "\n",
       "\n",
       "\n",
       "\n",
       "\n",
       "  <div class=\"bk-root\" id=\"e8f1d274-0349-47af-9b6e-9207e1e5569a\" data-root-id=\"1101\"></div>\n"
      ]
     },
     "metadata": {},
     "output_type": "display_data"
    },
    {
     "data": {
      "application/javascript": "(function(root) {\n  function embed_document(root) {\n    \n  const docs_json = {\"1553f442-b9a6-41fc-bc38-ef053a014173\":{\"defs\":[],\"roots\":{\"references\":[{\"attributes\":{\"below\":[{\"id\":\"1112\"}],\"center\":[{\"id\":\"1115\"},{\"id\":\"1119\"},{\"id\":\"1158\"}],\"left\":[{\"id\":\"1116\"}],\"renderers\":[{\"id\":\"1146\"},{\"id\":\"1164\"},{\"id\":\"1181\"},{\"id\":\"1198\"},{\"id\":\"1219\"},{\"id\":\"1225\"},{\"id\":\"1231\"},{\"id\":\"1237\"},{\"id\":\"1243\"}],\"right\":[{\"id\":\"1158\"}],\"title\":{\"id\":\"1102\"},\"toolbar\":{\"id\":\"1127\"},\"width\":800,\"x_range\":{\"id\":\"1104\"},\"x_scale\":{\"id\":\"1108\"},\"y_range\":{\"id\":\"1106\"},\"y_scale\":{\"id\":\"1110\"}},\"id\":\"1101\",\"subtype\":\"Figure\",\"type\":\"Plot\"},{\"attributes\":{\"coordinates\":null,\"data_source\":{\"id\":\"1100\"},\"glyph\":{\"id\":\"1240\"},\"group\":null,\"hover_glyph\":null,\"muted_glyph\":{\"id\":\"1242\"},\"nonselection_glyph\":{\"id\":\"1241\"},\"view\":{\"id\":\"1244\"}},\"id\":\"1243\",\"type\":\"GlyphRenderer\"},{\"attributes\":{\"source\":{\"id\":\"1100\"}},\"id\":\"1244\",\"type\":\"CDSView\"},{\"attributes\":{\"line_alpha\":0.2,\"line_color\":\"gray\",\"line_dash\":[4,4],\"line_width\":2,\"x\":{\"field\":\"year\"},\"y\":{\"field\":\"Gross Production\"}},\"id\":\"1242\",\"type\":\"Line\"},{\"attributes\":{\"label\":{\"value\":\"Gross Production\"},\"renderers\":[{\"id\":\"1243\"}]},\"id\":\"1255\",\"type\":\"LegendItem\"},{\"attributes\":{\"callback\":null,\"tooltips\":[[\"year\",\"@year\"],[\"By Source\",\"@$name{0,0} KWh. M\"],[\"Total\",\"$y{0,0} KWh. M\"]]},\"id\":\"1256\",\"type\":\"HoverTool\"},{\"attributes\":{\"label\":{\"value\":\"Solar Production\"},\"renderers\":[{\"id\":\"1181\"}]},\"id\":\"1193\",\"type\":\"LegendItem\"},{\"attributes\":{\"fill_alpha\":0.1,\"fill_color\":\"#fdae61\",\"hatch_alpha\":{\"value\":0.1},\"hatch_color\":{\"value\":\"#fdae61\"},\"x\":{\"field\":\"year\"},\"y1\":{\"expr\":{\"id\":\"1138\"}},\"y2\":{\"expr\":{\"id\":\"1139\"}}},\"id\":\"1179\",\"type\":\"VArea\"},{\"attributes\":{\"fill_alpha\":0.2,\"fill_color\":\"#fdae61\",\"hatch_alpha\":{\"value\":0.2},\"hatch_color\":{\"value\":\"#fdae61\"},\"x\":{\"field\":\"year\"},\"y1\":{\"expr\":{\"id\":\"1138\"}},\"y2\":{\"expr\":{\"id\":\"1139\"}}},\"id\":\"1180\",\"type\":\"VArea\"},{\"attributes\":{\"coordinates\":null,\"data_source\":{\"id\":\"1100\"},\"glyph\":{\"id\":\"1178\"},\"group\":null,\"hover_glyph\":null,\"muted_glyph\":{\"id\":\"1180\"},\"name\":\"Solar Production\",\"nonselection_glyph\":{\"id\":\"1179\"},\"view\":{\"id\":\"1182\"}},\"id\":\"1181\",\"type\":\"GlyphRenderer\"},{\"attributes\":{\"coordinates\":null,\"data_source\":{\"id\":\"1100\"},\"glyph\":{\"id\":\"1161\"},\"group\":null,\"hover_glyph\":null,\"muted_glyph\":{\"id\":\"1163\"},\"name\":\"Wind Production\",\"nonselection_glyph\":{\"id\":\"1162\"},\"view\":{\"id\":\"1165\"}},\"id\":\"1164\",\"type\":\"GlyphRenderer\"},{\"attributes\":{\"source\":{\"id\":\"1100\"}},\"id\":\"1182\",\"type\":\"CDSView\"},{\"attributes\":{},\"id\":\"1156\",\"type\":\"Selection\"},{\"attributes\":{\"source\":{\"id\":\"1100\"}},\"id\":\"1238\",\"type\":\"CDSView\"},{\"attributes\":{},\"id\":\"1155\",\"type\":\"UnionRenderers\"},{\"attributes\":{\"fields\":[\"Tide, Wave and Hydro Production\"]},\"id\":\"1136\",\"type\":\"Stack\"},{\"attributes\":{\"fill_color\":\"#d7191c\",\"hatch_color\":{\"value\":\"#d7191c\"},\"x\":{\"field\":\"year\"},\"y1\":{\"expr\":{\"id\":\"1140\"}},\"y2\":{\"expr\":{\"id\":\"1141\"}}},\"id\":\"1195\",\"type\":\"VArea\"},{\"attributes\":{\"label\":{\"value\":\"Wind Production\"},\"renderers\":[{\"id\":\"1164\"}]},\"id\":\"1176\",\"type\":\"LegendItem\"},{\"attributes\":{\"line_color\":\"gray\",\"line_dash\":[4,4],\"line_width\":2,\"x\":{\"field\":\"year\"},\"y\":{\"field\":\"Gross Production\"}},\"id\":\"1240\",\"type\":\"Line\"},{\"attributes\":{\"fill_alpha\":0.2,\"fill_color\":\"#abdda4\",\"hatch_alpha\":{\"value\":0.2},\"hatch_color\":{\"value\":\"#abdda4\"},\"x\":{\"field\":\"year\"},\"y1\":{\"expr\":{\"id\":\"1136\"}},\"y2\":{\"expr\":{\"id\":\"1137\"}}},\"id\":\"1163\",\"type\":\"VArea\"},{\"attributes\":{\"fill_color\":\"#abdda4\",\"hatch_color\":{\"value\":\"#abdda4\"},\"x\":{\"field\":\"year\"},\"y1\":{\"expr\":{\"id\":\"1136\"}},\"y2\":{\"expr\":{\"id\":\"1137\"}}},\"id\":\"1161\",\"type\":\"VArea\"},{\"attributes\":{\"source\":{\"id\":\"1100\"}},\"id\":\"1165\",\"type\":\"CDSView\"},{\"attributes\":{\"fill_color\":\"#fdae61\",\"hatch_color\":{\"value\":\"#fdae61\"},\"x\":{\"field\":\"year\"},\"y1\":{\"expr\":{\"id\":\"1138\"}},\"y2\":{\"expr\":{\"id\":\"1139\"}}},\"id\":\"1178\",\"type\":\"VArea\"},{\"attributes\":{},\"id\":\"1154\",\"type\":\"AllLabels\"},{\"attributes\":{\"source\":{\"id\":\"1100\"}},\"id\":\"1147\",\"type\":\"CDSView\"},{\"attributes\":{\"coordinates\":null,\"data_source\":{\"id\":\"1100\"},\"glyph\":{\"id\":\"1234\"},\"group\":null,\"hover_glyph\":null,\"muted_glyph\":{\"id\":\"1236\"},\"name\":\"Thermal Production\",\"nonselection_glyph\":{\"id\":\"1235\"},\"view\":{\"id\":\"1238\"}},\"id\":\"1237\",\"type\":\"GlyphRenderer\"},{\"attributes\":{\"fill_alpha\":0.2,\"fill_color\":\"#2b83ba\",\"hatch_alpha\":{\"value\":0.2},\"hatch_color\":{\"value\":\"#2b83ba\"},\"x\":{\"field\":\"year\"},\"y1\":{\"expr\":{\"id\":\"1134\"}},\"y2\":{\"expr\":{\"id\":\"1135\"}}},\"id\":\"1145\",\"type\":\"VArea\"},{\"attributes\":{\"line_alpha\":0.1,\"line_color\":\"gray\",\"line_dash\":[4,4],\"line_width\":2,\"x\":{\"field\":\"year\"},\"y\":{\"field\":\"Gross Production\"}},\"id\":\"1241\",\"type\":\"Line\"},{\"attributes\":{\"label\":{\"value\":\"Thermal Production\"},\"renderers\":[{\"id\":\"1198\"}]},\"id\":\"1210\",\"type\":\"LegendItem\"},{\"attributes\":{\"coordinates\":null,\"group\":null,\"items\":[{\"id\":\"1159\"},{\"id\":\"1176\"},{\"id\":\"1193\"},{\"id\":\"1210\"},{\"id\":\"1255\"}],\"location\":\"bottom_right\"},\"id\":\"1158\",\"type\":\"Legend\"},{\"attributes\":{\"coordinates\":null,\"data_source\":{\"id\":\"1100\"},\"glyph\":{\"id\":\"1195\"},\"group\":null,\"hover_glyph\":null,\"muted_glyph\":{\"id\":\"1197\"},\"name\":\"Thermal Production\",\"nonselection_glyph\":{\"id\":\"1196\"},\"view\":{\"id\":\"1199\"}},\"id\":\"1198\",\"type\":\"GlyphRenderer\"},{\"attributes\":{\"fields\":[\"Tide, Wave and Hydro Production\",\"Wind Production\",\"Solar Production\"]},\"id\":\"1213\",\"type\":\"Stack\"},{\"attributes\":{\"source\":{\"id\":\"1100\"}},\"id\":\"1199\",\"type\":\"CDSView\"},{\"attributes\":{\"fields\":[\"Tide, Wave and Hydro Production\",\"Wind Production\"]},\"id\":\"1212\",\"type\":\"Stack\"},{\"attributes\":{\"x\":{\"field\":\"year\"},\"y\":{\"expr\":{\"id\":\"1211\"}}},\"id\":\"1216\",\"type\":\"Line\"},{\"attributes\":{\"coordinates\":null,\"data_source\":{\"id\":\"1100\"},\"glyph\":{\"id\":\"1216\"},\"group\":null,\"hover_glyph\":null,\"muted_glyph\":{\"id\":\"1218\"},\"name\":\"Tide, Wave and Hydro Production\",\"nonselection_glyph\":{\"id\":\"1217\"},\"view\":{\"id\":\"1220\"}},\"id\":\"1219\",\"type\":\"GlyphRenderer\"},{\"attributes\":{\"data\":{\"Gross Production\":{\"__ndarray__\":\"yXa+nxrrYEDVeOkmMWBhQKjGSzeJ5WFA4XoUrkfZYUBoke18P9lhQGq8dJMYxGFA2c73U+MlYkDByqFFtjNiQHnpJjEIBGJA1XjpJjH0YkAMAiuHFkVjQMuhRbbznWNAObTIdr43ZEBCYOXQIutjQPYoXI/CaWNA16NwPQr3YkAbL90kBrVjQKjGSzeJcWRAnMQgsHJEZEDn+6nx0pFkQNnO91Pj4WNA\",\"dtype\":\"float64\",\"order\":\"little\",\"shape\":[21]},\"Solar Production\":{\"__ndarray__\":\"AAAAAAAAAAAAAAAAAAAAAAAAAAAAAAAAAAAAAAAAAAAAAAAAAAAAAAAAAAAAAAAAAAAAAAAAAAAAAAAAAAAAAAAAAAAAAAAAAAAAAAAAAAAAAAAAAAAAAAAAAAAAAAAAAAAAAAAAAAAAAAAAAAAAAAAAAAAAAAAAAAAAAAAAAAAAAAAAAAAAAAAAAAAAAAAA/Knx0k1iUD/8qfHSTWJQP3npJjEIrHw/\",\"dtype\":\"float64\",\"order\":\"little\",\"shape\":[21]},\"Solar Production %\":{\"__ndarray__\":\"AAAAAAAAAAAAAAAAAAAAAAAAAAAAAAAAAAAAAAAAAAAAAAAAAAAAAAAAAAAAAAAAAAAAAAAAAAAAAAAAAAAAAAAAAAAAAAAAAAAAAAAAAAAAAAAAAAAAAAAAAAAAAAAAAAAAAAAAAAAAAAAAAAAAAAAAAAAAAAAAAAAAAAAAAAAAAAAAAAAAAAAAAAAAAAAAXD2Hwkw4RD+goojdIe1DP05xQIzICnI/\",\"dtype\":\"float64\",\"order\":\"little\",\"shape\":[21]},\"Thermal Production\":{\"__ndarray__\":\"y6FFtvNxYECwcmiR7eRgQCPb+X5qaGFAyXa+nxpfYUAtsp3vp05hQG3n+6nxOmFAvHSTGASiYUBOYhBYOaxhQAwCK4cWhWFAAiuHFtmGYkDfT42XbspiQNv5fmq8IGNA9P3UeOnOY0Cq8dJNYnxjQFCNl24S92JAxSCwcmh1YkAv3SQGgQ1jQCUGgZVDr2NA16NwPQpbY0CR7Xw/NW5jQAAAAAAAkGJA\",\"dtype\":\"float64\",\"order\":\"little\",\"shape\":[21]},\"Thermal Production %\":{\"__ndarray__\":\"DSZpyPlMWED5xOY9pk5YQBcI0es3UVhAPj0YiN9UWECFqjLs4D1YQLQSLYwAP1hA7MBNjlZKWEA8tWka6UVYQHRWkdDXT1hAN2KetMZvWEC3Vgvs3mBYQJZQQZNsYFhA6TWfD19+WEC4VDVZ/nRYQDzqDF1ObFhAwL835h1VWECaF8tIvy5YQKrPQxZjFlhAwoGd2iTjV0Ct/JO7p6FXQLUe9fl6XFdA\",\"dtype\":\"float64\",\"order\":\"little\",\"shape\":[21]},\"Tide, Wave and Hydro Production\":{\"__ndarray__\":\"fT81XrpJDkACK4cW2c4OQEjhehSuRw9AukkMAiuHDkACK4cW2U4RQFTjpZvEIBFAEFg5tMh2EEDhehSuR+EQQHNoke18Pw9A8tJNYhBYCkC6SQwCK4cNQNNNYhBYOQ5AKVyPwvUoCEBQjZduEoMHQGDl0CLb+QVAmG4Sg8DKB0CBlUOLbOcLQEoMAiuHFgZAuB6F61G4A0Bg5dAi2/kHQKwcWmQ73wVA\",\"dtype\":\"float64\",\"order\":\"little\",\"shape\":[21]},\"Tide, Wave and Hydro Production %\":{\"__ndarray__\":\"Zj7b8sZgBkAMHc4XvykGQDT93oUC2QVAWErLozBhBUDjfK7EJT4IQAQ0wfAqGghAskkWnSCuBkC3Y4MFLC8HQL8jTuxXrgVA7/aUea5fAUAo/8PqfCcDQC62eB5BQgNAtyd74e7f/T9m8V8GoIL9PwWer7TpTPw/SHMUAfBc/z85EvOYYLUBQE6gchtEB/s/ugajY0NW+D/7EtCu4yj9P90ssdO8hvs/\",\"dtype\":\"float64\",\"order\":\"little\",\"shape\":[21]},\"Wind Production\":{\"__ndarray__\":\"AAAAAAAAAAD8qfHSTWJQPwAAAAAAAAAA/Knx0k1iYD/8qfHSTWJwP/yp8dJNYnA/exSuR+F6dD956SYxCKyMPwisHFpkO68/WDm0yHa+vz+TGARWDi3CP0jhehSuR8E//Knx0k1i0D9OYhBYObTgP2IQWDm0yOo/CKwcWmQ78T85tMh2vp/6P6RwPQrXowlAsHJoke38EkBqvHSTGAQYQE5iEFg5tB5A\",\"dtype\":\"float64\",\"order\":\"little\",\"shape\":[21]},\"Wind Production %\":{\"__ndarray__\":\"AAAAAAAAAAAF8zuUtZJHPwAAAAAAAAAAkN5uaMnyVj81F8rw0/JmP9Ld1XEmDmc/SN9jxmQ2bD8EzvRFrbCDP6Rqw2GAq6U/TUXYU17vtD+7PSV6spS3PzDlpiuPBbY/Me+6tWlCxD8AgyuxJvfUPxmmKxD+PuE/1zn34Sy35j809VObbOXwPzB1mVP2X/8/7Buydf9uB0BgiPrjVzUNQFa5nnkeUhNA\",\"dtype\":\"float64\",\"order\":\"little\",\"shape\":[21]},\"year\":[1994,1995,1996,1997,1998,1999,2000,2001,2002,2003,2004,2005,2006,2007,2008,2009,2010,2011,2012,2013,2014]},\"selected\":{\"id\":\"1156\"},\"selection_policy\":{\"id\":\"1155\"}},\"id\":\"1100\",\"type\":\"ColumnDataSource\"},{\"attributes\":{\"format\":\"00\"},\"id\":\"1258\",\"type\":\"NumeralTickFormatter\"},{\"attributes\":{\"axis\":{\"id\":\"1112\"},\"coordinates\":null,\"group\":null,\"ticker\":null},\"id\":\"1115\",\"type\":\"Grid\"},{\"attributes\":{},\"id\":\"1124\",\"type\":\"ResetTool\"},{\"attributes\":{\"fields\":[\"Tide, Wave and Hydro Production\",\"Wind Production\",\"Solar Production\",\"Thermal Production\"]},\"id\":\"1141\",\"type\":\"Stack\"},{\"attributes\":{\"label\":{\"value\":\"Tide, Wave and Hydro Production\"},\"renderers\":[{\"id\":\"1146\"}]},\"id\":\"1159\",\"type\":\"LegendItem\"},{\"attributes\":{\"fields\":[\"Tide, Wave and Hydro Production\",\"Wind Production\"]},\"id\":\"1137\",\"type\":\"Stack\"},{\"attributes\":{\"line_alpha\":0.1,\"x\":{\"field\":\"year\"},\"y\":{\"expr\":{\"id\":\"1211\"}}},\"id\":\"1217\",\"type\":\"Line\"},{\"attributes\":{},\"id\":\"1113\",\"type\":\"BasicTicker\"},{\"attributes\":{\"fields\":[\"Tide, Wave and Hydro Production\",\"Wind Production\",\"Solar Production\"]},\"id\":\"1139\",\"type\":\"Stack\"},{\"attributes\":{},\"id\":\"1108\",\"type\":\"LinearScale\"},{\"attributes\":{\"fill_alpha\":0.2,\"fill_color\":\"#d7191c\",\"hatch_alpha\":{\"value\":0.2},\"hatch_color\":{\"value\":\"#d7191c\"},\"x\":{\"field\":\"year\"},\"y1\":{\"expr\":{\"id\":\"1140\"}},\"y2\":{\"expr\":{\"id\":\"1141\"}}},\"id\":\"1197\",\"type\":\"VArea\"},{\"attributes\":{\"source\":{\"id\":\"1100\"}},\"id\":\"1226\",\"type\":\"CDSView\"},{\"attributes\":{\"fields\":[\"Tide, Wave and Hydro Production\"]},\"id\":\"1135\",\"type\":\"Stack\"},{\"attributes\":{\"axis_label\":\"Production TW/h\",\"coordinates\":null,\"formatter\":{\"id\":\"1258\"},\"group\":null,\"major_label_policy\":{\"id\":\"1151\"},\"ticker\":{\"id\":\"1117\"}},\"id\":\"1116\",\"type\":\"LinearAxis\"},{\"attributes\":{\"line_alpha\":0.2,\"x\":{\"field\":\"year\"},\"y\":{\"expr\":{\"id\":\"1213\"}}},\"id\":\"1230\",\"type\":\"Line\"},{\"attributes\":{\"fields\":[\"Tide, Wave and Hydro Production\",\"Wind Production\",\"Solar Production\"]},\"id\":\"1140\",\"type\":\"Stack\"},{\"attributes\":{\"fill_alpha\":0.1,\"fill_color\":\"#2b83ba\",\"hatch_alpha\":{\"value\":0.1},\"hatch_color\":{\"value\":\"#2b83ba\"},\"x\":{\"field\":\"year\"},\"y1\":{\"expr\":{\"id\":\"1134\"}},\"y2\":{\"expr\":{\"id\":\"1135\"}}},\"id\":\"1144\",\"type\":\"VArea\"},{\"attributes\":{\"x\":{\"field\":\"year\"},\"y\":{\"expr\":{\"id\":\"1213\"}}},\"id\":\"1228\",\"type\":\"Line\"},{\"attributes\":{\"coordinates\":null,\"data_source\":{\"id\":\"1100\"},\"glyph\":{\"id\":\"1228\"},\"group\":null,\"hover_glyph\":null,\"muted_glyph\":{\"id\":\"1230\"},\"name\":\"Solar Production\",\"nonselection_glyph\":{\"id\":\"1229\"},\"view\":{\"id\":\"1232\"}},\"id\":\"1231\",\"type\":\"GlyphRenderer\"},{\"attributes\":{},\"id\":\"1125\",\"type\":\"HelpTool\"},{\"attributes\":{\"source\":{\"id\":\"1100\"}},\"id\":\"1232\",\"type\":\"CDSView\"},{\"attributes\":{\"line_alpha\":0.2,\"x\":{\"field\":\"year\"},\"y\":{\"expr\":{\"id\":\"1214\"}}},\"id\":\"1236\",\"type\":\"Line\"},{\"attributes\":{\"fields\":[]},\"id\":\"1134\",\"type\":\"Stack\"},{\"attributes\":{},\"id\":\"1151\",\"type\":\"AllLabels\"},{\"attributes\":{\"fields\":[\"Tide, Wave and Hydro Production\",\"Wind Production\",\"Solar Production\",\"Thermal Production\"]},\"id\":\"1214\",\"type\":\"Stack\"},{\"attributes\":{\"line_alpha\":0.1,\"x\":{\"field\":\"year\"},\"y\":{\"expr\":{\"id\":\"1212\"}}},\"id\":\"1223\",\"type\":\"Line\"},{\"attributes\":{\"line_alpha\":0.1,\"x\":{\"field\":\"year\"},\"y\":{\"expr\":{\"id\":\"1213\"}}},\"id\":\"1229\",\"type\":\"Line\"},{\"attributes\":{\"axis_label\":\"Year\",\"coordinates\":null,\"formatter\":{\"id\":\"1153\"},\"group\":null,\"major_label_policy\":{\"id\":\"1154\"},\"ticker\":{\"id\":\"1113\"}},\"id\":\"1112\",\"type\":\"LinearAxis\"},{\"attributes\":{\"fill_alpha\":0.1,\"fill_color\":\"#d7191c\",\"hatch_alpha\":{\"value\":0.1},\"hatch_color\":{\"value\":\"#d7191c\"},\"x\":{\"field\":\"year\"},\"y1\":{\"expr\":{\"id\":\"1140\"}},\"y2\":{\"expr\":{\"id\":\"1141\"}}},\"id\":\"1196\",\"type\":\"VArea\"},{\"attributes\":{\"fields\":[\"Tide, Wave and Hydro Production\",\"Wind Production\"]},\"id\":\"1138\",\"type\":\"Stack\"},{\"attributes\":{\"fill_color\":\"#2b83ba\",\"hatch_color\":{\"value\":\"#2b83ba\"},\"x\":{\"field\":\"year\"},\"y1\":{\"expr\":{\"id\":\"1134\"}},\"y2\":{\"expr\":{\"id\":\"1135\"}}},\"id\":\"1143\",\"type\":\"VArea\"},{\"attributes\":{\"line_alpha\":0.1,\"x\":{\"field\":\"year\"},\"y\":{\"expr\":{\"id\":\"1214\"}}},\"id\":\"1235\",\"type\":\"Line\"},{\"attributes\":{\"x\":{\"field\":\"year\"},\"y\":{\"expr\":{\"id\":\"1214\"}}},\"id\":\"1234\",\"type\":\"Line\"},{\"attributes\":{},\"id\":\"1123\",\"type\":\"SaveTool\"},{\"attributes\":{\"coordinates\":null,\"data_source\":{\"id\":\"1100\"},\"glyph\":{\"id\":\"1222\"},\"group\":null,\"hover_glyph\":null,\"muted_glyph\":{\"id\":\"1224\"},\"name\":\"Wind Production\",\"nonselection_glyph\":{\"id\":\"1223\"},\"view\":{\"id\":\"1226\"}},\"id\":\"1225\",\"type\":\"GlyphRenderer\"},{\"attributes\":{},\"id\":\"1104\",\"type\":\"DataRange1d\"},{\"attributes\":{\"coordinates\":null,\"data_source\":{\"id\":\"1100\"},\"glyph\":{\"id\":\"1143\"},\"group\":null,\"hover_glyph\":null,\"muted_glyph\":{\"id\":\"1145\"},\"name\":\"Tide, Wave and Hydro Production\",\"nonselection_glyph\":{\"id\":\"1144\"},\"view\":{\"id\":\"1147\"}},\"id\":\"1146\",\"type\":\"GlyphRenderer\"},{\"attributes\":{\"tools\":[{\"id\":\"1120\"},{\"id\":\"1121\"},{\"id\":\"1122\"},{\"id\":\"1123\"},{\"id\":\"1124\"},{\"id\":\"1125\"},{\"id\":\"1256\"}]},\"id\":\"1127\",\"type\":\"Toolbar\"},{\"attributes\":{},\"id\":\"1110\",\"type\":\"LinearScale\"},{\"attributes\":{},\"id\":\"1153\",\"type\":\"BasicTickFormatter\"},{\"attributes\":{\"fill_alpha\":0.1,\"fill_color\":\"#abdda4\",\"hatch_alpha\":{\"value\":0.1},\"hatch_color\":{\"value\":\"#abdda4\"},\"x\":{\"field\":\"year\"},\"y1\":{\"expr\":{\"id\":\"1136\"}},\"y2\":{\"expr\":{\"id\":\"1137\"}}},\"id\":\"1162\",\"type\":\"VArea\"},{\"attributes\":{\"bottom_units\":\"screen\",\"coordinates\":null,\"fill_alpha\":0.5,\"fill_color\":\"lightgrey\",\"group\":null,\"left_units\":\"screen\",\"level\":\"overlay\",\"line_alpha\":1.0,\"line_color\":\"black\",\"line_dash\":[4,4],\"line_width\":2,\"right_units\":\"screen\",\"syncable\":false,\"top_units\":\"screen\"},\"id\":\"1126\",\"type\":\"BoxAnnotation\"},{\"attributes\":{\"line_alpha\":0.2,\"x\":{\"field\":\"year\"},\"y\":{\"expr\":{\"id\":\"1212\"}}},\"id\":\"1224\",\"type\":\"Line\"},{\"attributes\":{\"line_alpha\":0.2,\"x\":{\"field\":\"year\"},\"y\":{\"expr\":{\"id\":\"1211\"}}},\"id\":\"1218\",\"type\":\"Line\"},{\"attributes\":{},\"id\":\"1117\",\"type\":\"BasicTicker\"},{\"attributes\":{\"overlay\":{\"id\":\"1126\"}},\"id\":\"1122\",\"type\":\"BoxZoomTool\"},{\"attributes\":{},\"id\":\"1106\",\"type\":\"DataRange1d\"},{\"attributes\":{\"x\":{\"field\":\"year\"},\"y\":{\"expr\":{\"id\":\"1212\"}}},\"id\":\"1222\",\"type\":\"Line\"},{\"attributes\":{},\"id\":\"1121\",\"type\":\"WheelZoomTool\"},{\"attributes\":{\"fields\":[\"Tide, Wave and Hydro Production\"]},\"id\":\"1211\",\"type\":\"Stack\"},{\"attributes\":{\"axis\":{\"id\":\"1116\"},\"coordinates\":null,\"dimension\":1,\"group\":null,\"ticker\":null},\"id\":\"1119\",\"type\":\"Grid\"},{\"attributes\":{\"coordinates\":null,\"group\":null,\"text\":\"Electricity Production in Poland by Source 1994-2014\"},\"id\":\"1102\",\"type\":\"Title\"},{\"attributes\":{},\"id\":\"1120\",\"type\":\"PanTool\"},{\"attributes\":{\"source\":{\"id\":\"1100\"}},\"id\":\"1220\",\"type\":\"CDSView\"}],\"root_ids\":[\"1101\"]},\"title\":\"Bokeh Application\",\"version\":\"2.4.2\"}};\n  const render_items = [{\"docid\":\"1553f442-b9a6-41fc-bc38-ef053a014173\",\"root_ids\":[\"1101\"],\"roots\":{\"1101\":\"e8f1d274-0349-47af-9b6e-9207e1e5569a\"}}];\n  root.Bokeh.embed.embed_items_notebook(docs_json, render_items);\n\n  }\n  if (root.Bokeh !== undefined) {\n    embed_document(root);\n  } else {\n    let attempts = 0;\n    const timer = setInterval(function(root) {\n      if (root.Bokeh !== undefined) {\n        clearInterval(timer);\n        embed_document(root);\n      } else {\n        attempts++;\n        if (attempts > 100) {\n          clearInterval(timer);\n          console.log(\"Bokeh: ERROR: Unable to run BokehJS code because BokehJS library is missing\");\n        }\n      }\n    }, 10, root)\n  }\n})(window);",
      "application/vnd.bokehjs_exec.v0+json": ""
     },
     "metadata": {
      "application/vnd.bokehjs_exec.v0+json": {
       "id": "1101"
      }
     },
     "output_type": "display_data"
    },
    {
     "data": {
      "text/html": [
       "<style type=\"text/css\">\n",
       "#T_6a2b1_row0_col0, #T_6a2b1_row0_col1, #T_6a2b1_row0_col2, #T_6a2b1_row0_col4, #T_6a2b1_row0_col5, #T_6a2b1_row0_col8, #T_6a2b1_row1_col1, #T_6a2b1_row1_col4, #T_6a2b1_row1_col5, #T_6a2b1_row1_col8, #T_6a2b1_row2_col1, #T_6a2b1_row2_col4, #T_6a2b1_row2_col5, #T_6a2b1_row2_col8, #T_6a2b1_row3_col1, #T_6a2b1_row3_col4, #T_6a2b1_row3_col5, #T_6a2b1_row3_col8, #T_6a2b1_row4_col1, #T_6a2b1_row4_col4, #T_6a2b1_row4_col5, #T_6a2b1_row4_col8, #T_6a2b1_row5_col1, #T_6a2b1_row5_col4, #T_6a2b1_row5_col5, #T_6a2b1_row5_col8, #T_6a2b1_row6_col1, #T_6a2b1_row6_col4, #T_6a2b1_row6_col5, #T_6a2b1_row6_col8, #T_6a2b1_row7_col1, #T_6a2b1_row7_col4, #T_6a2b1_row7_col5, #T_6a2b1_row7_col8, #T_6a2b1_row8_col1, #T_6a2b1_row8_col5, #T_6a2b1_row9_col1, #T_6a2b1_row9_col5, #T_6a2b1_row10_col1, #T_6a2b1_row10_col5, #T_6a2b1_row11_col1, #T_6a2b1_row11_col5, #T_6a2b1_row12_col1, #T_6a2b1_row12_col5, #T_6a2b1_row13_col1, #T_6a2b1_row13_col5, #T_6a2b1_row14_col1, #T_6a2b1_row14_col5, #T_6a2b1_row15_col1, #T_6a2b1_row15_col5, #T_6a2b1_row16_col1, #T_6a2b1_row16_col5, #T_6a2b1_row17_col1, #T_6a2b1_row17_col5, #T_6a2b1_row18_col3, #T_6a2b1_row18_col7, #T_6a2b1_row20_col6 {\n",
       "  background-color: #f0f0f3;\n",
       "  color: #000000;\n",
       "}\n",
       "#T_6a2b1_row0_col3 {\n",
       "  background-color: #4646fb;\n",
       "  color: #f1f1f1;\n",
       "}\n",
       "#T_6a2b1_row0_col6, #T_6a2b1_row1_col7 {\n",
       "  background-color: #2929fd;\n",
       "  color: #f1f1f1;\n",
       "}\n",
       "#T_6a2b1_row0_col7, #T_6a2b1_row2_col6 {\n",
       "  background-color: #2525fd;\n",
       "  color: #f1f1f1;\n",
       "}\n",
       "#T_6a2b1_row1_col0 {\n",
       "  background-color: #d2d2f4;\n",
       "  color: #000000;\n",
       "}\n",
       "#T_6a2b1_row1_col2 {\n",
       "  background-color: #d0d0f4;\n",
       "  color: #000000;\n",
       "}\n",
       "#T_6a2b1_row1_col3 {\n",
       "  background-color: #3d3dfc;\n",
       "  color: #f1f1f1;\n",
       "}\n",
       "#T_6a2b1_row1_col6 {\n",
       "  background-color: #2828fd;\n",
       "  color: #f1f1f1;\n",
       "}\n",
       "#T_6a2b1_row2_col0 {\n",
       "  background-color: #b0b0f6;\n",
       "  color: #000000;\n",
       "}\n",
       "#T_6a2b1_row2_col2, #T_6a2b1_row19_col3 {\n",
       "  background-color: #acacf6;\n",
       "  color: #000000;\n",
       "}\n",
       "#T_6a2b1_row2_col3, #T_6a2b1_row8_col3, #T_6a2b1_row16_col2 {\n",
       "  background-color: #3636fc;\n",
       "  color: #f1f1f1;\n",
       "}\n",
       "#T_6a2b1_row2_col7 {\n",
       "  background-color: #2f2ffd;\n",
       "  color: #f1f1f1;\n",
       "}\n",
       "#T_6a2b1_row3_col0, #T_6a2b1_row4_col0, #T_6a2b1_row4_col2, #T_6a2b1_row13_col3 {\n",
       "  background-color: #b3b3f6;\n",
       "  color: #000000;\n",
       "}\n",
       "#T_6a2b1_row3_col2 {\n",
       "  background-color: #aeaef6;\n",
       "  color: #000000;\n",
       "}\n",
       "#T_6a2b1_row3_col3, #T_6a2b1_row16_col6 {\n",
       "  background-color: #4242fc;\n",
       "  color: #f1f1f1;\n",
       "}\n",
       "#T_6a2b1_row3_col6, #T_6a2b1_row15_col6 {\n",
       "  background-color: #2222fd;\n",
       "  color: #f1f1f1;\n",
       "}\n",
       "#T_6a2b1_row3_col7, #T_6a2b1_row16_col0 {\n",
       "  background-color: #3939fc;\n",
       "  color: #f1f1f1;\n",
       "}\n",
       "#T_6a2b1_row4_col3, #T_6a2b1_row4_col7, #T_6a2b1_row12_col2, #T_6a2b1_row12_col6, #T_6a2b1_row19_col0, #T_6a2b1_row20_col1, #T_6a2b1_row20_col4, #T_6a2b1_row20_col5, #T_6a2b1_row20_col8 {\n",
       "  background-color: #0000ff;\n",
       "  color: #f1f1f1;\n",
       "}\n",
       "#T_6a2b1_row4_col6 {\n",
       "  background-color: #3535fc;\n",
       "  color: #f1f1f1;\n",
       "}\n",
       "#T_6a2b1_row5_col0, #T_6a2b1_row5_col2 {\n",
       "  background-color: #b9b9f6;\n",
       "  color: #000000;\n",
       "}\n",
       "#T_6a2b1_row5_col3 {\n",
       "  background-color: #0606ff;\n",
       "  color: #f1f1f1;\n",
       "}\n",
       "#T_6a2b1_row5_col6, #T_6a2b1_row19_col4 {\n",
       "  background-color: #3434fc;\n",
       "  color: #f1f1f1;\n",
       "}\n",
       "#T_6a2b1_row5_col7 {\n",
       "  background-color: #0202ff;\n",
       "  color: #f1f1f1;\n",
       "}\n",
       "#T_6a2b1_row6_col0 {\n",
       "  background-color: #9f9ff7;\n",
       "  color: #f1f1f1;\n",
       "}\n",
       "#T_6a2b1_row6_col2 {\n",
       "  background-color: #9c9cf7;\n",
       "  color: #f1f1f1;\n",
       "}\n",
       "#T_6a2b1_row6_col3 {\n",
       "  background-color: #1b1bfe;\n",
       "  color: #f1f1f1;\n",
       "}\n",
       "#T_6a2b1_row6_col6, #T_6a2b1_row13_col0 {\n",
       "  background-color: #2a2afd;\n",
       "  color: #f1f1f1;\n",
       "}\n",
       "#T_6a2b1_row6_col7 {\n",
       "  background-color: #1f1ffd;\n",
       "  color: #f1f1f1;\n",
       "}\n",
       "#T_6a2b1_row7_col0 {\n",
       "  background-color: #9d9df7;\n",
       "  color: #f1f1f1;\n",
       "}\n",
       "#T_6a2b1_row7_col2 {\n",
       "  background-color: #9999f7;\n",
       "  color: #f1f1f1;\n",
       "}\n",
       "#T_6a2b1_row7_col3 {\n",
       "  background-color: #0d0dfe;\n",
       "  color: #f1f1f1;\n",
       "}\n",
       "#T_6a2b1_row7_col6 {\n",
       "  background-color: #2e2efd;\n",
       "  color: #f1f1f1;\n",
       "}\n",
       "#T_6a2b1_row7_col7 {\n",
       "  background-color: #1515fe;\n",
       "  color: #f1f1f1;\n",
       "}\n",
       "#T_6a2b1_row8_col0, #T_6a2b1_row12_col3 {\n",
       "  background-color: #a9a9f6;\n",
       "  color: #000000;\n",
       "}\n",
       "#T_6a2b1_row8_col2 {\n",
       "  background-color: #a4a4f7;\n",
       "  color: #000000;\n",
       "}\n",
       "#T_6a2b1_row8_col4, #T_6a2b1_row8_col8 {\n",
       "  background-color: #efeff3;\n",
       "  color: #000000;\n",
       "}\n",
       "#T_6a2b1_row8_col6 {\n",
       "  background-color: #2727fd;\n",
       "  color: #f1f1f1;\n",
       "}\n",
       "#T_6a2b1_row8_col7 {\n",
       "  background-color: #3333fc;\n",
       "  color: #f1f1f1;\n",
       "}\n",
       "#T_6a2b1_row9_col0 {\n",
       "  background-color: #6b6bfa;\n",
       "  color: #f1f1f1;\n",
       "}\n",
       "#T_6a2b1_row9_col2, #T_6a2b1_row18_col4 {\n",
       "  background-color: #5b5bfa;\n",
       "  color: #f1f1f1;\n",
       "}\n",
       "#T_6a2b1_row9_col3 {\n",
       "  background-color: #8686f8;\n",
       "  color: #f1f1f1;\n",
       "}\n",
       "#T_6a2b1_row9_col4, #T_6a2b1_row9_col8, #T_6a2b1_row10_col4, #T_6a2b1_row10_col8, #T_6a2b1_row11_col4, #T_6a2b1_row11_col8 {\n",
       "  background-color: #ededf3;\n",
       "  color: #000000;\n",
       "}\n",
       "#T_6a2b1_row9_col6 {\n",
       "  background-color: #0b0bfe;\n",
       "  color: #f1f1f1;\n",
       "}\n",
       "#T_6a2b1_row9_col7 {\n",
       "  background-color: #8989f8;\n",
       "  color: #f1f1f1;\n",
       "}\n",
       "#T_6a2b1_row10_col0, #T_6a2b1_row17_col6 {\n",
       "  background-color: #5656fb;\n",
       "  color: #f1f1f1;\n",
       "}\n",
       "#T_6a2b1_row10_col2 {\n",
       "  background-color: #4949fb;\n",
       "  color: #f1f1f1;\n",
       "}\n",
       "#T_6a2b1_row10_col3 {\n",
       "  background-color: #5252fb;\n",
       "  color: #f1f1f1;\n",
       "}\n",
       "#T_6a2b1_row10_col6, #T_6a2b1_row11_col6 {\n",
       "  background-color: #1919fe;\n",
       "  color: #f1f1f1;\n",
       "}\n",
       "#T_6a2b1_row10_col7 {\n",
       "  background-color: #6565fa;\n",
       "  color: #f1f1f1;\n",
       "}\n",
       "#T_6a2b1_row11_col0 {\n",
       "  background-color: #3e3efc;\n",
       "  color: #f1f1f1;\n",
       "}\n",
       "#T_6a2b1_row11_col2 {\n",
       "  background-color: #3030fd;\n",
       "  color: #f1f1f1;\n",
       "}\n",
       "#T_6a2b1_row11_col3 {\n",
       "  background-color: #4747fb;\n",
       "  color: #f1f1f1;\n",
       "}\n",
       "#T_6a2b1_row11_col7 {\n",
       "  background-color: #6363fa;\n",
       "  color: #f1f1f1;\n",
       "}\n",
       "#T_6a2b1_row12_col0, #T_6a2b1_row13_col2 {\n",
       "  background-color: #1717fe;\n",
       "  color: #f1f1f1;\n",
       "}\n",
       "#T_6a2b1_row12_col4, #T_6a2b1_row12_col8 {\n",
       "  background-color: #e9e9f3;\n",
       "  color: #000000;\n",
       "}\n",
       "#T_6a2b1_row12_col7 {\n",
       "  background-color: #babaf6;\n",
       "  color: #000000;\n",
       "}\n",
       "#T_6a2b1_row13_col4, #T_6a2b1_row13_col8 {\n",
       "  background-color: #e0e0f4;\n",
       "  color: #000000;\n",
       "}\n",
       "#T_6a2b1_row13_col6, #T_6a2b1_row17_col0, #T_6a2b1_row17_col2 {\n",
       "  background-color: #0808ff;\n",
       "  color: #f1f1f1;\n",
       "}\n",
       "#T_6a2b1_row13_col7 {\n",
       "  background-color: #bebef5;\n",
       "  color: #000000;\n",
       "}\n",
       "#T_6a2b1_row14_col0 {\n",
       "  background-color: #4c4cfb;\n",
       "  color: #f1f1f1;\n",
       "}\n",
       "#T_6a2b1_row14_col2 {\n",
       "  background-color: #3c3cfc;\n",
       "  color: #f1f1f1;\n",
       "}\n",
       "#T_6a2b1_row14_col3 {\n",
       "  background-color: #cdcdf5;\n",
       "  color: #000000;\n",
       "}\n",
       "#T_6a2b1_row14_col4 {\n",
       "  background-color: #d7d7f4;\n",
       "  color: #000000;\n",
       "}\n",
       "#T_6a2b1_row14_col6 {\n",
       "  background-color: #0e0efe;\n",
       "  color: #f1f1f1;\n",
       "}\n",
       "#T_6a2b1_row14_col7 {\n",
       "  background-color: #c9c9f5;\n",
       "  color: #000000;\n",
       "}\n",
       "#T_6a2b1_row14_col8, #T_6a2b1_row17_col7 {\n",
       "  background-color: #d6d6f4;\n",
       "  color: #000000;\n",
       "}\n",
       "#T_6a2b1_row15_col0 {\n",
       "  background-color: #6a6afa;\n",
       "  color: #f1f1f1;\n",
       "}\n",
       "#T_6a2b1_row15_col2 {\n",
       "  background-color: #6060fa;\n",
       "  color: #f1f1f1;\n",
       "}\n",
       "#T_6a2b1_row15_col3 {\n",
       "  background-color: #afaff6;\n",
       "  color: #000000;\n",
       "}\n",
       "#T_6a2b1_row15_col4, #T_6a2b1_row18_col5, #T_6a2b1_row19_col5 {\n",
       "  background-color: #cfcff4;\n",
       "  color: #000000;\n",
       "}\n",
       "#T_6a2b1_row15_col7 {\n",
       "  background-color: #ababf6;\n",
       "  color: #000000;\n",
       "}\n",
       "#T_6a2b1_row15_col8 {\n",
       "  background-color: #cecef5;\n",
       "  color: #000000;\n",
       "}\n",
       "#T_6a2b1_row16_col3 {\n",
       "  background-color: #6c6cf9;\n",
       "  color: #f1f1f1;\n",
       "}\n",
       "#T_6a2b1_row16_col4, #T_6a2b1_row16_col8 {\n",
       "  background-color: #bdbdf5;\n",
       "  color: #000000;\n",
       "}\n",
       "#T_6a2b1_row16_col7 {\n",
       "  background-color: #8282f8;\n",
       "  color: #f1f1f1;\n",
       "}\n",
       "#T_6a2b1_row17_col3 {\n",
       "  background-color: #cbcbf5;\n",
       "  color: #000000;\n",
       "}\n",
       "#T_6a2b1_row17_col4 {\n",
       "  background-color: #8c8cf8;\n",
       "  color: #f1f1f1;\n",
       "}\n",
       "#T_6a2b1_row17_col8 {\n",
       "  background-color: #8f8ff8;\n",
       "  color: #f1f1f1;\n",
       "}\n",
       "#T_6a2b1_row18_col0 {\n",
       "  background-color: #1414fe;\n",
       "  color: #f1f1f1;\n",
       "}\n",
       "#T_6a2b1_row18_col1, #T_6a2b1_row19_col1, #T_6a2b1_row20_col3 {\n",
       "  background-color: #cecef4;\n",
       "  color: #000000;\n",
       "}\n",
       "#T_6a2b1_row18_col2 {\n",
       "  background-color: #2020fd;\n",
       "  color: #f1f1f1;\n",
       "}\n",
       "#T_6a2b1_row18_col6 {\n",
       "  background-color: #8181f8;\n",
       "  color: #f1f1f1;\n",
       "}\n",
       "#T_6a2b1_row18_col8 {\n",
       "  background-color: #5e5efa;\n",
       "  color: #f1f1f1;\n",
       "}\n",
       "#T_6a2b1_row19_col2 {\n",
       "  background-color: #1a1afe;\n",
       "  color: #f1f1f1;\n",
       "}\n",
       "#T_6a2b1_row19_col6 {\n",
       "  background-color: #b7b7f6;\n",
       "  color: #000000;\n",
       "}\n",
       "#T_6a2b1_row19_col7 {\n",
       "  background-color: #c0c0f5;\n",
       "  color: #000000;\n",
       "}\n",
       "#T_6a2b1_row19_col8 {\n",
       "  background-color: #3a3afc;\n",
       "  color: #f1f1f1;\n",
       "}\n",
       "#T_6a2b1_row20_col0 {\n",
       "  background-color: #2d2dfd;\n",
       "  color: #f1f1f1;\n",
       "}\n",
       "#T_6a2b1_row20_col2 {\n",
       "  background-color: #5959fa;\n",
       "  color: #f1f1f1;\n",
       "}\n",
       "#T_6a2b1_row20_col7 {\n",
       "  background-color: #d1d1f4;\n",
       "  color: #000000;\n",
       "}\n",
       "</style>\n",
       "<table id=\"T_6a2b1\">\n",
       "  <thead>\n",
       "    <tr>\n",
       "      <th class=\"index_name level0\" >commodity_transaction</th>\n",
       "      <th id=\"T_6a2b1_level0_col0\" class=\"col_heading level0 col0\" >Gross Production</th>\n",
       "      <th id=\"T_6a2b1_level0_col1\" class=\"col_heading level0 col1\" >Solar Production</th>\n",
       "      <th id=\"T_6a2b1_level0_col2\" class=\"col_heading level0 col2\" >Thermal Production</th>\n",
       "      <th id=\"T_6a2b1_level0_col3\" class=\"col_heading level0 col3\" >Tide, Wave and Hydro Production</th>\n",
       "      <th id=\"T_6a2b1_level0_col4\" class=\"col_heading level0 col4\" >Wind Production</th>\n",
       "      <th id=\"T_6a2b1_level0_col5\" class=\"col_heading level0 col5\" >Solar Production %</th>\n",
       "      <th id=\"T_6a2b1_level0_col6\" class=\"col_heading level0 col6\" >Thermal Production %</th>\n",
       "      <th id=\"T_6a2b1_level0_col7\" class=\"col_heading level0 col7\" >Tide, Wave and Hydro Production %</th>\n",
       "      <th id=\"T_6a2b1_level0_col8\" class=\"col_heading level0 col8\" >Wind Production %</th>\n",
       "    </tr>\n",
       "    <tr>\n",
       "      <th class=\"index_name level0\" >year</th>\n",
       "      <th class=\"blank col0\" >&nbsp;</th>\n",
       "      <th class=\"blank col1\" >&nbsp;</th>\n",
       "      <th class=\"blank col2\" >&nbsp;</th>\n",
       "      <th class=\"blank col3\" >&nbsp;</th>\n",
       "      <th class=\"blank col4\" >&nbsp;</th>\n",
       "      <th class=\"blank col5\" >&nbsp;</th>\n",
       "      <th class=\"blank col6\" >&nbsp;</th>\n",
       "      <th class=\"blank col7\" >&nbsp;</th>\n",
       "      <th class=\"blank col8\" >&nbsp;</th>\n",
       "    </tr>\n",
       "  </thead>\n",
       "  <tbody>\n",
       "    <tr>\n",
       "      <th id=\"T_6a2b1_level0_row0\" class=\"row_heading level0 row0\" >1994</th>\n",
       "      <td id=\"T_6a2b1_row0_col0\" class=\"data row0 col0\" >135.347000</td>\n",
       "      <td id=\"T_6a2b1_row0_col1\" class=\"data row0 col1\" >0.000000</td>\n",
       "      <td id=\"T_6a2b1_row0_col2\" class=\"data row0 col2\" >131.561000</td>\n",
       "      <td id=\"T_6a2b1_row0_col3\" class=\"data row0 col3\" >3.786000</td>\n",
       "      <td id=\"T_6a2b1_row0_col4\" class=\"data row0 col4\" >0.000000</td>\n",
       "      <td id=\"T_6a2b1_row0_col5\" class=\"data row0 col5\" >0.000000</td>\n",
       "      <td id=\"T_6a2b1_row0_col6\" class=\"data row0 col6\" >97.202746</td>\n",
       "      <td id=\"T_6a2b1_row0_col7\" class=\"data row0 col7\" >2.797254</td>\n",
       "      <td id=\"T_6a2b1_row0_col8\" class=\"data row0 col8\" >0.000000</td>\n",
       "    </tr>\n",
       "    <tr>\n",
       "      <th id=\"T_6a2b1_level0_row1\" class=\"row_heading level0 row1\" >1995</th>\n",
       "      <td id=\"T_6a2b1_row1_col0\" class=\"data row1 col0\" >139.006000</td>\n",
       "      <td id=\"T_6a2b1_row1_col1\" class=\"data row1 col1\" >0.000000</td>\n",
       "      <td id=\"T_6a2b1_row1_col2\" class=\"data row1 col2\" >135.154000</td>\n",
       "      <td id=\"T_6a2b1_row1_col3\" class=\"data row1 col3\" >3.851000</td>\n",
       "      <td id=\"T_6a2b1_row1_col4\" class=\"data row1 col4\" >0.001000</td>\n",
       "      <td id=\"T_6a2b1_row1_col5\" class=\"data row1 col5\" >0.000000</td>\n",
       "      <td id=\"T_6a2b1_row1_col6\" class=\"data row1 col6\" >97.228897</td>\n",
       "      <td id=\"T_6a2b1_row1_col7\" class=\"data row1 col7\" >2.770384</td>\n",
       "      <td id=\"T_6a2b1_row1_col8\" class=\"data row1 col8\" >0.000719</td>\n",
       "    </tr>\n",
       "    <tr>\n",
       "      <th id=\"T_6a2b1_level0_row2\" class=\"row_heading level0 row2\" >1996</th>\n",
       "      <td id=\"T_6a2b1_row2_col0\" class=\"data row2 col0\" >143.173000</td>\n",
       "      <td id=\"T_6a2b1_row2_col1\" class=\"data row2 col1\" >0.000000</td>\n",
       "      <td id=\"T_6a2b1_row2_col2\" class=\"data row2 col2\" >139.263000</td>\n",
       "      <td id=\"T_6a2b1_row2_col3\" class=\"data row2 col3\" >3.910000</td>\n",
       "      <td id=\"T_6a2b1_row2_col4\" class=\"data row2 col4\" >0.000000</td>\n",
       "      <td id=\"T_6a2b1_row2_col5\" class=\"data row2 col5\" >0.000000</td>\n",
       "      <td id=\"T_6a2b1_row2_col6\" class=\"data row2 col6\" >97.269038</td>\n",
       "      <td id=\"T_6a2b1_row2_col7\" class=\"data row2 col7\" >2.730962</td>\n",
       "      <td id=\"T_6a2b1_row2_col8\" class=\"data row2 col8\" >0.000000</td>\n",
       "    </tr>\n",
       "    <tr>\n",
       "      <th id=\"T_6a2b1_level0_row3\" class=\"row_heading level0 row3\" >1997</th>\n",
       "      <td id=\"T_6a2b1_row3_col0\" class=\"data row3 col0\" >142.790000</td>\n",
       "      <td id=\"T_6a2b1_row3_col1\" class=\"data row3 col1\" >0.000000</td>\n",
       "      <td id=\"T_6a2b1_row3_col2\" class=\"data row3 col2\" >138.972000</td>\n",
       "      <td id=\"T_6a2b1_row3_col3\" class=\"data row3 col3\" >3.816000</td>\n",
       "      <td id=\"T_6a2b1_row3_col4\" class=\"data row3 col4\" >0.002000</td>\n",
       "      <td id=\"T_6a2b1_row3_col5\" class=\"data row3 col5\" >0.000000</td>\n",
       "      <td id=\"T_6a2b1_row3_col6\" class=\"data row3 col6\" >97.326143</td>\n",
       "      <td id=\"T_6a2b1_row3_col7\" class=\"data row3 col7\" >2.672456</td>\n",
       "      <td id=\"T_6a2b1_row3_col8\" class=\"data row3 col8\" >0.001401</td>\n",
       "    </tr>\n",
       "    <tr>\n",
       "      <th id=\"T_6a2b1_level0_row4\" class=\"row_heading level0 row4\" >1998</th>\n",
       "      <td id=\"T_6a2b1_row4_col0\" class=\"data row4 col0\" >142.789000</td>\n",
       "      <td id=\"T_6a2b1_row4_col1\" class=\"data row4 col1\" >0.000000</td>\n",
       "      <td id=\"T_6a2b1_row4_col2\" class=\"data row4 col2\" >138.458000</td>\n",
       "      <td id=\"T_6a2b1_row4_col3\" class=\"data row4 col3\" >4.327000</td>\n",
       "      <td id=\"T_6a2b1_row4_col4\" class=\"data row4 col4\" >0.004000</td>\n",
       "      <td id=\"T_6a2b1_row4_col5\" class=\"data row4 col5\" >0.000000</td>\n",
       "      <td id=\"T_6a2b1_row4_col6\" class=\"data row4 col6\" >96.966853</td>\n",
       "      <td id=\"T_6a2b1_row4_col7\" class=\"data row4 col7\" >3.030345</td>\n",
       "      <td id=\"T_6a2b1_row4_col8\" class=\"data row4 col8\" >0.002801</td>\n",
       "    </tr>\n",
       "    <tr>\n",
       "      <th id=\"T_6a2b1_level0_row5\" class=\"row_heading level0 row5\" >1999</th>\n",
       "      <td id=\"T_6a2b1_row5_col0\" class=\"data row5 col0\" >142.128000</td>\n",
       "      <td id=\"T_6a2b1_row5_col1\" class=\"data row5 col1\" >0.000000</td>\n",
       "      <td id=\"T_6a2b1_row5_col2\" class=\"data row5 col2\" >137.842000</td>\n",
       "      <td id=\"T_6a2b1_row5_col3\" class=\"data row5 col3\" >4.282000</td>\n",
       "      <td id=\"T_6a2b1_row5_col4\" class=\"data row5 col4\" >0.004000</td>\n",
       "      <td id=\"T_6a2b1_row5_col5\" class=\"data row5 col5\" >0.000000</td>\n",
       "      <td id=\"T_6a2b1_row5_col6\" class=\"data row5 col6\" >96.984408</td>\n",
       "      <td id=\"T_6a2b1_row5_col7\" class=\"data row5 col7\" >3.012777</td>\n",
       "      <td id=\"T_6a2b1_row5_col8\" class=\"data row5 col8\" >0.002814</td>\n",
       "    </tr>\n",
       "    <tr>\n",
       "      <th id=\"T_6a2b1_level0_row6\" class=\"row_heading level0 row6\" >2000</th>\n",
       "      <td id=\"T_6a2b1_row6_col0\" class=\"data row6 col0\" >145.184000</td>\n",
       "      <td id=\"T_6a2b1_row6_col1\" class=\"data row6 col1\" >0.000000</td>\n",
       "      <td id=\"T_6a2b1_row6_col2\" class=\"data row6 col2\" >141.063000</td>\n",
       "      <td id=\"T_6a2b1_row6_col3\" class=\"data row6 col3\" >4.116000</td>\n",
       "      <td id=\"T_6a2b1_row6_col4\" class=\"data row6 col4\" >0.005000</td>\n",
       "      <td id=\"T_6a2b1_row6_col5\" class=\"data row6 col5\" >0.000000</td>\n",
       "      <td id=\"T_6a2b1_row6_col6\" class=\"data row6 col6\" >97.161533</td>\n",
       "      <td id=\"T_6a2b1_row6_col7\" class=\"data row6 col7\" >2.835023</td>\n",
       "      <td id=\"T_6a2b1_row6_col8\" class=\"data row6 col8\" >0.003444</td>\n",
       "    </tr>\n",
       "    <tr>\n",
       "      <th id=\"T_6a2b1_level0_row7\" class=\"row_heading level0 row7\" >2001</th>\n",
       "      <td id=\"T_6a2b1_row7_col0\" class=\"data row7 col0\" >145.616000</td>\n",
       "      <td id=\"T_6a2b1_row7_col1\" class=\"data row7 col1\" >0.000000</td>\n",
       "      <td id=\"T_6a2b1_row7_col2\" class=\"data row7 col2\" >141.382000</td>\n",
       "      <td id=\"T_6a2b1_row7_col3\" class=\"data row7 col3\" >4.220000</td>\n",
       "      <td id=\"T_6a2b1_row7_col4\" class=\"data row7 col4\" >0.014000</td>\n",
       "      <td id=\"T_6a2b1_row7_col5\" class=\"data row7 col5\" >0.000000</td>\n",
       "      <td id=\"T_6a2b1_row7_col6\" class=\"data row7 col6\" >97.092352</td>\n",
       "      <td id=\"T_6a2b1_row7_col7\" class=\"data row7 col7\" >2.898033</td>\n",
       "      <td id=\"T_6a2b1_row7_col8\" class=\"data row7 col8\" >0.009614</td>\n",
       "    </tr>\n",
       "    <tr>\n",
       "      <th id=\"T_6a2b1_level0_row8\" class=\"row_heading level0 row8\" >2002</th>\n",
       "      <td id=\"T_6a2b1_row8_col0\" class=\"data row8 col0\" >144.126000</td>\n",
       "      <td id=\"T_6a2b1_row8_col1\" class=\"data row8 col1\" >0.000000</td>\n",
       "      <td id=\"T_6a2b1_row8_col2\" class=\"data row8 col2\" >140.159000</td>\n",
       "      <td id=\"T_6a2b1_row8_col3\" class=\"data row8 col3\" >3.906000</td>\n",
       "      <td id=\"T_6a2b1_row8_col4\" class=\"data row8 col4\" >0.061000</td>\n",
       "      <td id=\"T_6a2b1_row8_col5\" class=\"data row8 col5\" >0.000000</td>\n",
       "      <td id=\"T_6a2b1_row8_col6\" class=\"data row8 col6\" >97.247547</td>\n",
       "      <td id=\"T_6a2b1_row8_col7\" class=\"data row8 col7\" >2.710129</td>\n",
       "      <td id=\"T_6a2b1_row8_col8\" class=\"data row8 col8\" >0.042324</td>\n",
       "    </tr>\n",
       "    <tr>\n",
       "      <th id=\"T_6a2b1_level0_row9\" class=\"row_heading level0 row9\" >2003</th>\n",
       "      <td id=\"T_6a2b1_row9_col0\" class=\"data row9 col0\" >151.631000</td>\n",
       "      <td id=\"T_6a2b1_row9_col1\" class=\"data row9 col1\" >0.000000</td>\n",
       "      <td id=\"T_6a2b1_row9_col2\" class=\"data row9 col2\" >148.214000</td>\n",
       "      <td id=\"T_6a2b1_row9_col3\" class=\"data row9 col3\" >3.293000</td>\n",
       "      <td id=\"T_6a2b1_row9_col4\" class=\"data row9 col4\" >0.124000</td>\n",
       "      <td id=\"T_6a2b1_row9_col5\" class=\"data row9 col5\" >0.000000</td>\n",
       "      <td id=\"T_6a2b1_row9_col6\" class=\"data row9 col6\" >97.746503</td>\n",
       "      <td id=\"T_6a2b1_row9_col7\" class=\"data row9 col7\" >2.171720</td>\n",
       "      <td id=\"T_6a2b1_row9_col8\" class=\"data row9 col8\" >0.081777</td>\n",
       "    </tr>\n",
       "    <tr>\n",
       "      <th id=\"T_6a2b1_level0_row10\" class=\"row_heading level0 row10\" >2004</th>\n",
       "      <td id=\"T_6a2b1_row10_col0\" class=\"data row10 col0\" >154.159000</td>\n",
       "      <td id=\"T_6a2b1_row10_col1\" class=\"data row10 col1\" >0.000000</td>\n",
       "      <td id=\"T_6a2b1_row10_col2\" class=\"data row10 col2\" >150.326000</td>\n",
       "      <td id=\"T_6a2b1_row10_col3\" class=\"data row10 col3\" >3.691000</td>\n",
       "      <td id=\"T_6a2b1_row10_col4\" class=\"data row10 col4\" >0.142000</td>\n",
       "      <td id=\"T_6a2b1_row10_col5\" class=\"data row10 col5\" >0.000000</td>\n",
       "      <td id=\"T_6a2b1_row10_col6\" class=\"data row10 col6\" >97.513606</td>\n",
       "      <td id=\"T_6a2b1_row10_col7\" class=\"data row10 col7\" >2.394281</td>\n",
       "      <td id=\"T_6a2b1_row10_col8\" class=\"data row10 col8\" >0.092113</td>\n",
       "    </tr>\n",
       "    <tr>\n",
       "      <th id=\"T_6a2b1_level0_row11\" class=\"row_heading level0 row11\" >2005</th>\n",
       "      <td id=\"T_6a2b1_row11_col0\" class=\"data row11 col0\" >156.936000</td>\n",
       "      <td id=\"T_6a2b1_row11_col1\" class=\"data row11 col1\" >0.000000</td>\n",
       "      <td id=\"T_6a2b1_row11_col2\" class=\"data row11 col2\" >153.023000</td>\n",
       "      <td id=\"T_6a2b1_row11_col3\" class=\"data row11 col3\" >3.778000</td>\n",
       "      <td id=\"T_6a2b1_row11_col4\" class=\"data row11 col4\" >0.135000</td>\n",
       "      <td id=\"T_6a2b1_row11_col5\" class=\"data row11 col5\" >0.000000</td>\n",
       "      <td id=\"T_6a2b1_row11_col6\" class=\"data row11 col6\" >97.506627</td>\n",
       "      <td id=\"T_6a2b1_row11_col7\" class=\"data row11 col7\" >2.407351</td>\n",
       "      <td id=\"T_6a2b1_row11_col8\" class=\"data row11 col8\" >0.086022</td>\n",
       "    </tr>\n",
       "    <tr>\n",
       "      <th id=\"T_6a2b1_level0_row12\" class=\"row_heading level0 row12\" >2006</th>\n",
       "      <td id=\"T_6a2b1_row12_col0\" class=\"data row12 col0\" >161.742000</td>\n",
       "      <td id=\"T_6a2b1_row12_col1\" class=\"data row12 col1\" >0.000000</td>\n",
       "      <td id=\"T_6a2b1_row12_col2\" class=\"data row12 col2\" >158.466000</td>\n",
       "      <td id=\"T_6a2b1_row12_col3\" class=\"data row12 col3\" >3.020000</td>\n",
       "      <td id=\"T_6a2b1_row12_col4\" class=\"data row12 col4\" >0.256000</td>\n",
       "      <td id=\"T_6a2b1_row12_col5\" class=\"data row12 col5\" >0.000000</td>\n",
       "      <td id=\"T_6a2b1_row12_col6\" class=\"data row12 col6\" >97.974552</td>\n",
       "      <td id=\"T_6a2b1_row12_col7\" class=\"data row12 col7\" >1.867171</td>\n",
       "      <td id=\"T_6a2b1_row12_col8\" class=\"data row12 col8\" >0.158277</td>\n",
       "    </tr>\n",
       "    <tr>\n",
       "      <th id=\"T_6a2b1_level0_row13\" class=\"row_heading level0 row13\" >2007</th>\n",
       "      <td id=\"T_6a2b1_row13_col0\" class=\"data row13 col0\" >159.348000</td>\n",
       "      <td id=\"T_6a2b1_row13_col1\" class=\"data row13 col1\" >0.000000</td>\n",
       "      <td id=\"T_6a2b1_row13_col2\" class=\"data row13 col2\" >155.887000</td>\n",
       "      <td id=\"T_6a2b1_row13_col3\" class=\"data row13 col3\" >2.939000</td>\n",
       "      <td id=\"T_6a2b1_row13_col4\" class=\"data row13 col4\" >0.522000</td>\n",
       "      <td id=\"T_6a2b1_row13_col5\" class=\"data row13 col5\" >0.000000</td>\n",
       "      <td id=\"T_6a2b1_row13_col6\" class=\"data row13 col6\" >97.828024</td>\n",
       "      <td id=\"T_6a2b1_row13_col7\" class=\"data row13 col7\" >1.844391</td>\n",
       "      <td id=\"T_6a2b1_row13_col8\" class=\"data row13 col8\" >0.327585</td>\n",
       "    </tr>\n",
       "    <tr>\n",
       "      <th id=\"T_6a2b1_level0_row14\" class=\"row_heading level0 row14\" >2008</th>\n",
       "      <td id=\"T_6a2b1_row14_col0\" class=\"data row14 col0\" >155.305000</td>\n",
       "      <td id=\"T_6a2b1_row14_col1\" class=\"data row14 col1\" >0.000000</td>\n",
       "      <td id=\"T_6a2b1_row14_col2\" class=\"data row14 col2\" >151.721000</td>\n",
       "      <td id=\"T_6a2b1_row14_col3\" class=\"data row14 col3\" >2.747000</td>\n",
       "      <td id=\"T_6a2b1_row14_col4\" class=\"data row14 col4\" >0.837000</td>\n",
       "      <td id=\"T_6a2b1_row14_col5\" class=\"data row14 col5\" >0.000000</td>\n",
       "      <td id=\"T_6a2b1_row14_col6\" class=\"data row14 col6\" >97.692283</td>\n",
       "      <td id=\"T_6a2b1_row14_col7\" class=\"data row14 col7\" >1.768778</td>\n",
       "      <td id=\"T_6a2b1_row14_col8\" class=\"data row14 col8\" >0.538940</td>\n",
       "    </tr>\n",
       "    <tr>\n",
       "      <th id=\"T_6a2b1_level0_row15\" class=\"row_heading level0 row15\" >2009</th>\n",
       "      <td id=\"T_6a2b1_row15_col0\" class=\"data row15 col0\" >151.720000</td>\n",
       "      <td id=\"T_6a2b1_row15_col1\" class=\"data row15 col1\" >0.000000</td>\n",
       "      <td id=\"T_6a2b1_row15_col2\" class=\"data row15 col2\" >147.669000</td>\n",
       "      <td id=\"T_6a2b1_row15_col3\" class=\"data row15 col3\" >2.974000</td>\n",
       "      <td id=\"T_6a2b1_row15_col4\" class=\"data row15 col4\" >1.077000</td>\n",
       "      <td id=\"T_6a2b1_row15_col5\" class=\"data row15 col5\" >0.000000</td>\n",
       "      <td id=\"T_6a2b1_row15_col6\" class=\"data row15 col6\" >97.329950</td>\n",
       "      <td id=\"T_6a2b1_row15_col7\" class=\"data row15 col7\" >1.960190</td>\n",
       "      <td id=\"T_6a2b1_row15_col8\" class=\"data row15 col8\" >0.709860</td>\n",
       "    </tr>\n",
       "    <tr>\n",
       "      <th id=\"T_6a2b1_level0_row16\" class=\"row_heading level0 row16\" >2010</th>\n",
       "      <td id=\"T_6a2b1_row16_col0\" class=\"data row16 col0\" >157.657000</td>\n",
       "      <td id=\"T_6a2b1_row16_col1\" class=\"data row16 col1\" >0.000000</td>\n",
       "      <td id=\"T_6a2b1_row16_col2\" class=\"data row16 col2\" >152.422000</td>\n",
       "      <td id=\"T_6a2b1_row16_col3\" class=\"data row16 col3\" >3.488000</td>\n",
       "      <td id=\"T_6a2b1_row16_col4\" class=\"data row16 col4\" >1.664000</td>\n",
       "      <td id=\"T_6a2b1_row16_col5\" class=\"data row16 col5\" >0.000000</td>\n",
       "      <td id=\"T_6a2b1_row16_col6\" class=\"data row16 col6\" >96.730425</td>\n",
       "      <td id=\"T_6a2b1_row16_col7\" class=\"data row16 col7\" >2.213563</td>\n",
       "      <td id=\"T_6a2b1_row16_col8\" class=\"data row16 col8\" >1.056012</td>\n",
       "    </tr>\n",
       "    <tr>\n",
       "      <th id=\"T_6a2b1_level0_row17\" class=\"row_heading level0 row17\" >2011</th>\n",
       "      <td id=\"T_6a2b1_row17_col0\" class=\"data row17 col0\" >163.548000</td>\n",
       "      <td id=\"T_6a2b1_row17_col1\" class=\"data row17 col1\" >0.000000</td>\n",
       "      <td id=\"T_6a2b1_row17_col2\" class=\"data row17 col2\" >157.477000</td>\n",
       "      <td id=\"T_6a2b1_row17_col3\" class=\"data row17 col3\" >2.761000</td>\n",
       "      <td id=\"T_6a2b1_row17_col4\" class=\"data row17 col4\" >3.205000</td>\n",
       "      <td id=\"T_6a2b1_row17_col5\" class=\"data row17 col5\" >0.000000</td>\n",
       "      <td id=\"T_6a2b1_row17_col6\" class=\"data row17 col6\" >96.349798</td>\n",
       "      <td id=\"T_6a2b1_row17_col7\" class=\"data row17 col7\" >1.689274</td>\n",
       "      <td id=\"T_6a2b1_row17_col8\" class=\"data row17 col8\" >1.960928</td>\n",
       "    </tr>\n",
       "    <tr>\n",
       "      <th id=\"T_6a2b1_level0_row18\" class=\"row_heading level0 row18\" >2012</th>\n",
       "      <td id=\"T_6a2b1_row18_col0\" class=\"data row18 col0\" >162.139000</td>\n",
       "      <td id=\"T_6a2b1_row18_col1\" class=\"data row18 col1\" >0.001000</td>\n",
       "      <td id=\"T_6a2b1_row18_col2\" class=\"data row18 col2\" >154.845000</td>\n",
       "      <td id=\"T_6a2b1_row18_col3\" class=\"data row18 col3\" >2.465000</td>\n",
       "      <td id=\"T_6a2b1_row18_col4\" class=\"data row18 col4\" >4.747000</td>\n",
       "      <td id=\"T_6a2b1_row18_col5\" class=\"data row18 col5\" >0.000617</td>\n",
       "      <td id=\"T_6a2b1_row18_col6\" class=\"data row18 col6\" >95.549124</td>\n",
       "      <td id=\"T_6a2b1_row18_col7\" class=\"data row18 col7\" >1.521060</td>\n",
       "      <td id=\"T_6a2b1_row18_col8\" class=\"data row18 col8\" >2.929198</td>\n",
       "    </tr>\n",
       "    <tr>\n",
       "      <th id=\"T_6a2b1_level0_row19\" class=\"row_heading level0 row19\" >2013</th>\n",
       "      <td id=\"T_6a2b1_row19_col0\" class=\"data row19 col0\" >164.557000</td>\n",
       "      <td id=\"T_6a2b1_row19_col1\" class=\"data row19 col1\" >0.001000</td>\n",
       "      <td id=\"T_6a2b1_row19_col2\" class=\"data row19 col2\" >155.444000</td>\n",
       "      <td id=\"T_6a2b1_row19_col3\" class=\"data row19 col3\" >2.997000</td>\n",
       "      <td id=\"T_6a2b1_row19_col4\" class=\"data row19 col4\" >6.004000</td>\n",
       "      <td id=\"T_6a2b1_row19_col5\" class=\"data row19 col5\" >0.000608</td>\n",
       "      <td id=\"T_6a2b1_row19_col6\" class=\"data row19 col6\" >94.525863</td>\n",
       "      <td id=\"T_6a2b1_row19_col7\" class=\"data row19 col7\" >1.822483</td>\n",
       "      <td id=\"T_6a2b1_row19_col8\" class=\"data row19 col8\" >3.651047</td>\n",
       "    </tr>\n",
       "    <tr>\n",
       "      <th id=\"T_6a2b1_level0_row20\" class=\"row_heading level0 row20\" >2014</th>\n",
       "      <td id=\"T_6a2b1_row20_col0\" class=\"data row20 col0\" >159.059000</td>\n",
       "      <td id=\"T_6a2b1_row20_col1\" class=\"data row20 col1\" >0.007000</td>\n",
       "      <td id=\"T_6a2b1_row20_col2\" class=\"data row20 col2\" >148.500000</td>\n",
       "      <td id=\"T_6a2b1_row20_col3\" class=\"data row20 col3\" >2.734000</td>\n",
       "      <td id=\"T_6a2b1_row20_col4\" class=\"data row20 col4\" >7.676000</td>\n",
       "      <td id=\"T_6a2b1_row20_col5\" class=\"data row20 col5\" >0.004405</td>\n",
       "      <td id=\"T_6a2b1_row20_col6\" class=\"data row20 col6\" >93.445006</td>\n",
       "      <td id=\"T_6a2b1_row20_col7\" class=\"data row20 col7\" >1.720395</td>\n",
       "      <td id=\"T_6a2b1_row20_col8\" class=\"data row20 col8\" >4.830194</td>\n",
       "    </tr>\n",
       "  </tbody>\n",
       "</table>\n"
      ],
      "text/plain": [
       "<pandas.io.formats.style.Styler at 0x1a698688850>"
      ]
     },
     "execution_count": 5,
     "metadata": {},
     "output_type": "execute_result"
    }
   ],
   "source": [
    "_get_country_yearly_stats(df_f,'Poland') #działa na df_final"
   ]
  },
  {
   "cell_type": "code",
   "execution_count": 6,
   "metadata": {},
   "outputs": [],
   "source": [
    "def _map_for_world(\n",
    "    data: pd.DataFrame,\n",
    ") -> pd.DataFrame:\n",
    "    \"\"\" Print map for world with electic stats \n",
    "        Working at final_version.csv file \n",
    "    \"\"\"\n",
    "    import plotly.express as px \n",
    "    df_m = data.loc[(data['commodity_transaction']=='Electricity - Gross production')] \n",
    "    df_m.rename({'new_quantity':'Electric Energy Production TWh'},axis=1, inplace=True)\n",
    "    df_m=df_m.sort_values(\"year\")\n",
    "    \n",
    "   \n",
    "    map = px.choropleth(df_m,             \n",
    "              locations=\"ISO\",               \n",
    "              color='Electric Energy Production TWh',\n",
    "              hover_name=\"country_or_area\",  \n",
    "              animation_frame=\"year\",\n",
    "              color_continuous_scale='Reds',\n",
    "              hover_data=['Electric Energy Production TWh'],\n",
    "              range_color=tuple(([0.0, 5800.0])),\n",
    "              height=700  \n",
    "             )\n",
    "\n",
    "    map.update_layout(\n",
    "    coloraxis_colorbar=dict(\n",
    "    title=\"TVh\",\n",
    "    tickvals=[100,200, 400, 600,800,100,1200,1400,1600,1800,2000,2400,2800,3200,3600,4000,4400,4800,5200]), \n",
    "    title = 'Electricity Production at World')         \n",
    "    map.show()\n"
   ]
  },
  {
   "cell_type": "code",
   "execution_count": 7,
   "metadata": {},
   "outputs": [
    {
     "name": "stderr",
     "output_type": "stream",
     "text": [
      "C:\\Users\\karl1\\AppData\\Local\\Temp\\ipykernel_23124\\921982681.py:9: SettingWithCopyWarning: \n",
      "A value is trying to be set on a copy of a slice from a DataFrame\n",
      "\n",
      "See the caveats in the documentation: https://pandas.pydata.org/pandas-docs/stable/user_guide/indexing.html#returning-a-view-versus-a-copy\n",
      "  df_m.rename({'new_quantity':'Electric Energy Production TWh'},axis=1, inplace=True)\n"
     ]
    },
    {
     "data": {
      "application/vnd.plotly.v1+json": {
       "config": {
        "plotlyServerURL": "https://plot.ly"
       },
       "data": [
        {
         "coloraxis": "coloraxis",
         "customdata": [
          [
           0.687
          ],
          [
           261.786
          ],
          [
           113.356
          ],
          [
           6.187
          ],
          [
           136.023
          ],
          [
           1.111
          ],
          [
           50.64
          ],
          [
           0.1
          ],
          [
           4.244
          ],
          [
           3.475
          ],
          [
           1.288
          ],
          [
           36.42
          ],
          [
           2.873
          ],
          [
           15.66
          ],
          [
           28.674
          ],
          [
           135.347
          ],
          [
           1.686
          ],
          [
           31.382
          ],
          [
           18.086
          ],
          [
           5.815
          ],
          [
           0.34
          ],
          [
           0.003
          ],
          [
           15.531
          ],
          [
           0.055
          ],
          [
           0.082
          ],
          [
           2.715
          ],
          [
           0.0794
          ],
          [
           0.016
          ],
          [
           10.966
          ],
          [
           0.395
          ],
          [
           0.117
          ],
          [
           3.594
          ],
          [
           0.874
          ],
          [
           0.527
          ],
          [
           0.216
          ],
          [
           0.945
          ],
          [
           0.971
          ],
          [
           38.133
          ],
          [
           79.604
          ],
          [
           1.332
          ],
          [
           34.851
          ],
          [
           1.543
          ],
          [
           1.683
          ],
          [
           0.1481
          ],
          [
           0.03
          ],
          [
           147.131
          ],
          [
           8.228
          ],
          [
           0.052
          ],
          [
           0.00583
          ],
          [
           1.278
          ],
          [
           0.0976
          ],
          [
           0.1807
          ],
          [
           0.044
          ],
          [
           17.583
          ],
          [
           0.064
          ],
          [
           0.064
          ],
          [
           53.132
          ],
          [
           1.345
          ],
          [
           1.3974
          ],
          [
           0.419
          ],
          [
           167.463
          ],
          [
           143.053
          ],
          [
           66.306
          ],
          [
           15.182
          ],
          [
           0.564
          ],
          [
           5.511
          ],
          [
           16.982
          ],
          [
           4.386
          ],
          [
           161.848
          ],
          [
           4.55
          ],
          [
           182.452
          ],
          [
           875.914
          ],
          [
           0.162
          ],
          [
           1.206
          ],
          [
           0.144
          ],
          [
           0.064
          ],
          [
           0.017
          ],
          [
           96.88
          ],
          [
           72.179
          ],
          [
           0.969
          ],
          [
           55.136
          ],
          [
           34.528
          ],
          [
           0.126
          ],
          [
           0.237
          ],
          [
           20.676
          ],
          [
           0.577
          ],
          [
           25.712
          ],
          [
           12.895
          ],
          [
           0.062
          ],
          [
           10.6
          ],
          [
           0.271
          ],
          [
           31.397
          ],
          [
           5.658
          ],
          [
           0.249
          ],
          [
           1.032
          ],
          [
           0.106
          ],
          [
           40.624
          ],
          [
           58.705
          ],
          [
           0.255
          ],
          [
           0.08
          ],
          [
           2.685
          ],
          [
           1.027
          ],
          [
           1.7583
          ],
          [
           3.154
          ],
          [
           0.532
          ],
          [
           11.964
          ],
          [
           0.049
          ],
          [
           0.567
          ],
          [
           8.773
          ],
          [
           0.308
          ],
          [
           2.672
          ],
          [
           33.515
          ],
          [
           4.717
          ],
          [
           4.78
          ],
          [
           6.356
          ],
          [
           2.245
          ],
          [
           529.16
          ],
          [
           11.024
          ],
          [
           8.144
          ],
          [
           3.203
          ],
          [
           0.033
          ],
          [
           0.161
          ],
          [
           6.182
          ],
          [
           9.152
          ],
          [
           1.404
          ],
          [
           0.034
          ],
          [
           0.176
          ],
          [
           385.557
          ],
          [
           0.011
          ],
          [
           0.182
          ],
          [
           65.631
          ],
          [
           476.868
          ],
          [
           0.446
          ],
          [
           40.578
          ],
          [
           0.335
          ],
          [
           1.066
          ],
          [
           5.312
          ],
          [
           0.073
          ],
          [
           0.514
          ],
          [
           0.03
          ],
          [
           64.351
          ],
          [
           81.878
          ],
          [
           5.25
          ],
          [
           0.28
          ],
          [
           11.689
          ],
          [
           0.085
          ],
          [
           10.021
          ],
          [
           1.147
          ],
          [
           0.6600727000000001
          ],
          [
           0.101
          ],
          [
           0.953
          ],
          [
           40.058
          ],
          [
           0.284
          ],
          [
           0.046
          ],
          [
           0.276
          ],
          [
           1.542
          ],
          [
           555.784
          ],
          [
           0.074
          ],
          [
           0.903
          ],
          [
           0.277
          ],
          [
           2.776
          ],
          [
           25.277
          ],
          [
           4.44
          ],
          [
           1.2415498
          ],
          [
           928.083
          ],
          [
           28
          ],
          [
           0.365
          ],
          [
           17.106
          ],
          [
           28.424
          ],
          [
           231.813
          ],
          [
           0.018
          ],
          [
           4.775
          ],
          [
           944.507
          ],
          [
           0.3029
          ],
          [
           0.016
          ],
          [
           43.04
          ],
          [
           66.397
          ],
          [
           1.254
          ],
          [
           3.538
          ],
          [
           0.0054
          ],
          [
           23.1
          ],
          [
           26.741
          ],
          [
           163.516
          ],
          [
           23.152
          ],
          [
           13.087
          ],
          [
           5.075
          ],
          [
           71.177
          ],
          [
           49.5
          ],
          [
           1.715
          ],
          [
           0.248
          ],
          [
           2.16
          ],
          [
           1.057
          ],
          [
           1.057
          ],
          [
           71.221
          ],
          [
           11.665
          ],
          [
           23.736
          ],
          [
           47.8
          ],
          [
           8.272
          ],
          [
           4.069
          ],
          [
           78.321
          ],
          [
           0.029
          ],
          [
           0.036
          ],
          [
           65.686
          ],
          [
           7.785
          ],
          [
           10.518
          ],
          [
           0.12
          ],
          [
           19.888
          ],
          [
           202.922
          ],
          [
           0.955
          ],
          [
           0.0259
          ],
          [
           7.619
          ],
          [
           0.13
          ],
          [
           3.903
          ],
          [
           0.031
          ],
          [
           6.984
          ],
          [
           326.487
          ],
          [
           0.097
          ],
          [
           0.0021
          ],
          [
           3473.435
          ]
         ],
         "geo": "geo",
         "hovertemplate": "<b>%{hovertext}</b><br><br>year=1994<br>ISO=%{location}<br>Electric Energy Production TWh=%{z}<extra></extra>",
         "hovertext": [
          "Afghanistan",
          "Brazil",
          "Norway",
          "Oman",
          "Other Asia",
          "Botswana",
          "Pakistan",
          "Palau",
          "Bosnia and Herzegovina",
          "Panama",
          "Papua New Guinea",
          "Paraguay",
          "Bolivia (Plur. State of)",
          "Peru",
          "Philippines",
          "Poland",
          "Bhutan",
          "Portugal",
          "Puerto Rico",
          "Qatar",
          "Northern Mariana Islands",
          "Niue",
          "Nigeria",
          "British Virgin Islands",
          "Micronesia (Fed. States of)",
          "Mongolia",
          "Cabo Verde",
          "Montserrat",
          "Morocco",
          "Mozambique",
          "Burundi",
          "Myanmar",
          "Namibia",
          "Bermuda",
          "Burkina Faso",
          "Nepal",
          "Neth. Antilles (former)",
          "Bulgaria",
          "Netherlands",
          "New Caledonia",
          "New Zealand",
          "Brunei Darussalam",
          "Nicaragua",
          "Niger",
          "Nauru",
          "Mexico",
          "Republic of Moldova",
          "Benin",
          "St. Helena and Depend.",
          "Bahamas",
          "St. Kitts-Nevis",
          "St. Lucia",
          "St. Pierre-Miquelon",
          "Azerbaijan",
          "St. Vincent-Grenadines",
          "State of Palestine",
          "Austria",
          "Sudan (former)",
          "Suriname",
          "Swaziland",
          "Australia",
          "Sweden",
          "Switzerland",
          "Syrian Arab Republic",
          "Aruba",
          "T.F.Yug.Rep. Macedonia",
          "Tajikistan",
          "Sri Lanka",
          "Spain",
          "Bahrain",
          "South Africa",
          "Russian Federation",
          "Rwanda",
          "Réunion",
          "Belize",
          "Samoa",
          "Sao Tome and Principe",
          "Saudi Arabia",
          "Belgium",
          "Senegal",
          "Romania",
          "Serbia and Montenegro",
          "Seychelles",
          "Sierra Leone",
          "Singapore",
          "Barbados",
          "Slovakia",
          "Slovenia",
          "Solomon Islands",
          "Bangladesh",
          "Somalia",
          "Belarus",
          "Armenia",
          "Cambodia",
          "Mauritius",
          "Gibraltar",
          "Greece",
          "Czechia",
          "Greenland",
          "Grenada",
          "Cyprus",
          "Guadeloupe",
          "Guam",
          "Guatemala",
          "Guinea",
          "Cuba",
          "Guinea-Bissau",
          "Guyana",
          "Croatia",
          "Haiti",
          "Honduras",
          "Hungary",
          "Costa Rica",
          "Iceland",
          "Ghana",
          "Côte d'Ivoire",
          "Germany",
          "Georgia",
          "Ecuador",
          "El Salvador",
          "Equatorial Guinea",
          "Eritrea",
          "Dominican Republic",
          "Estonia",
          "Ethiopia",
          "Dominica",
          "Faeroe Islands",
          "India",
          "Falkland Is. (Malvinas)",
          "Djibouti",
          "Finland",
          "France",
          "French Guiana",
          "Denmark",
          "French Polynesia",
          "Gabon",
          "Dem. Rep. of the Congo",
          "Gambia",
          "Fiji",
          "Mayotte",
          "Indonesia",
          "Iran (Islamic Rep. of)",
          "Lebanon",
          "Liberia",
          "Libya",
          "Chad",
          "Lithuania",
          "Luxembourg",
          "Madagascar",
          "Central African Rep.",
          "Malawi",
          "Malaysia",
          "Cayman Islands",
          "Maldives",
          "Mali",
          "Malta",
          "Canada",
          "Marshall Islands",
          "Martinique",
          "Mauritania",
          "Cameroon",
          "Chile",
          "Latvia",
          "Lao People's Dem. Rep.",
          "China",
          "Iraq",
          "Congo",
          "Ireland",
          "Israel",
          "Italy",
          "Comoros",
          "Jamaica",
          "Japan",
          "Jersey",
          "Cook Islands",
          "Colombia",
          "Kazakhstan",
          "China, Macao SAR",
          "Kenya",
          "Kiribati",
          "Korea, Dem.Ppl's.Rep.",
          "China, Hong Kong SAR",
          "Korea, Republic of",
          "Kuwait",
          "Kyrgyzstan",
          "Jordan",
          "Thailand",
          "Egypt",
          "United Rep. of Tanzania",
          "Togo",
          "Yemen",
          "Uganda",
          "United States Virgin Is.",
          "Venezuela (Bolivar. Rep.)",
          "Viet Nam",
          "United Arab Emirates",
          "Uzbekistan",
          "Zimbabwe",
          "Trinidad and Tobago",
          "Turkey",
          "Tonga",
          "Turks and Caicos Islands",
          "Argentina",
          "Zambia",
          "Turkmenistan",
          "Andorra",
          "Algeria",
          "Ukraine",
          "Angola",
          "Anguilla",
          "Uruguay",
          "American Samoa",
          "Albania",
          "Vanuatu",
          "Tunisia",
          "United Kingdom",
          "Antigua and Barbuda",
          "Tuvalu",
          "United States"
         ],
         "locations": [
          "AFG",
          "BRA",
          "NOR",
          "OMN",
          "@@@",
          "BWA",
          "PAK",
          "PLW",
          "BIH",
          "PAN",
          "PNG",
          "PRY",
          "BOL",
          "PER",
          "PHL",
          "POL",
          "BTN",
          "PRT",
          "PRI",
          "QAT",
          "MNP",
          "NIU",
          "NGA",
          "VGB",
          "FSM",
          "MNG",
          "CPV",
          "MSR",
          "MAR",
          "MOZ",
          "BDI",
          "MMR",
          "NAM",
          "BMU",
          "BFA",
          "NPL",
          "@@@",
          "BGR",
          "NLD",
          "NCL",
          "NZL",
          "BRN",
          "NIC",
          "NER",
          "NRU",
          "MEX",
          "MDA",
          "BEN",
          "SHN",
          "BHS",
          "KNA",
          "LCA",
          "SPM",
          "AZE",
          "VCT",
          "PSE",
          "AUT",
          "SDN",
          "SUR",
          "SWZ",
          "AUS",
          "SWE",
          "CHE",
          "SYR",
          "ABW",
          "MKD",
          "TJK",
          "LKA",
          "ESP",
          "BHR",
          "ZAF",
          "RUS",
          "RWA",
          "REU",
          "BLZ",
          "WSM",
          "STP",
          "SAU",
          "BEL",
          "SEN",
          "ROU",
          "SRB",
          "SYC",
          "SLE",
          "SGP",
          "BRB",
          "SVK",
          "SVN",
          "SLB",
          "BGD",
          "SOM",
          "BLR",
          "ARM",
          "KHM",
          "MUS",
          "GIB",
          "GRC",
          "CZE",
          "GRL",
          "GRD",
          "CYP",
          "GLP",
          "GUM",
          "GTM",
          "GIN",
          "CUB",
          "GNB",
          "GUY",
          "HRV",
          "HTI",
          "HND",
          "HUN",
          "CRI",
          "ISL",
          "GHA",
          "CIV",
          "DEU",
          "GEO",
          "ECU",
          "SLV",
          "GNQ",
          "ERI",
          "DOM",
          "EST",
          "ETH",
          "DMA",
          "FRO",
          "IND",
          "MDV",
          "DJI",
          "FIN",
          "FRA",
          "GUF",
          "DNK",
          "PYF",
          "GAB",
          "COD",
          "GMB",
          "FJI",
          "MYT",
          "IDN",
          "IRN",
          "LBN",
          "LBR",
          "LBY",
          "TCD",
          "LTU",
          "LUX",
          "MDG",
          "CAF",
          "MWI",
          "MYS",
          "CYM",
          "MDV",
          "MLI",
          "MLT",
          "CAN",
          "MHL",
          "MTQ",
          "MRT",
          "CMR",
          "CHL",
          "LVA",
          "LAO",
          "CHN",
          "IRQ",
          "COG",
          "IRL",
          "ISR",
          "ITA",
          "COM",
          "JAM",
          "JPN",
          "JEY",
          "COK",
          "COL",
          "KAZ",
          "MAC",
          "KEN",
          "KIR",
          "PRK",
          "HKG",
          "KOR",
          "KWT",
          "KGZ",
          "JOR",
          "THA",
          "EGY",
          "TZA",
          "TGO",
          "YEM",
          "UGA",
          "VIR",
          "VEN",
          "VNM",
          "ARE",
          "UZB",
          "ZWE",
          "TTO",
          "TUR",
          "TON",
          "TCA",
          "ARG",
          "ZMB",
          "TKM",
          "AND",
          "DZA",
          "UKR",
          "AGO",
          "AIA",
          "URY",
          "ASM",
          "ALB",
          "VUT",
          "TUN",
          "GBR",
          "ATG",
          "TUV",
          "USA"
         ],
         "name": "",
         "type": "choropleth",
         "z": [
          0.687,
          261.786,
          113.356,
          6.187,
          136.023,
          1.111,
          50.64,
          0.1,
          4.244,
          3.475,
          1.288,
          36.42,
          2.873,
          15.66,
          28.674,
          135.347,
          1.686,
          31.382,
          18.086,
          5.815,
          0.34,
          0.003,
          15.531,
          0.055,
          0.082,
          2.715,
          0.0794,
          0.016,
          10.966,
          0.395,
          0.117,
          3.594,
          0.874,
          0.527,
          0.216,
          0.945,
          0.971,
          38.133,
          79.604,
          1.332,
          34.851,
          1.543,
          1.683,
          0.1481,
          0.03,
          147.131,
          8.228,
          0.052,
          0.00583,
          1.278,
          0.0976,
          0.1807,
          0.044,
          17.583,
          0.064,
          0.064,
          53.132,
          1.345,
          1.3974,
          0.419,
          167.463,
          143.053,
          66.306,
          15.182,
          0.564,
          5.511,
          16.982,
          4.386,
          161.848,
          4.55,
          182.452,
          875.914,
          0.162,
          1.206,
          0.144,
          0.064,
          0.017,
          96.88,
          72.179,
          0.969,
          55.136,
          34.528,
          0.126,
          0.237,
          20.676,
          0.577,
          25.712,
          12.895,
          0.062,
          10.6,
          0.271,
          31.397,
          5.658,
          0.249,
          1.032,
          0.106,
          40.624,
          58.705,
          0.255,
          0.08,
          2.685,
          1.027,
          1.7583,
          3.154,
          0.532,
          11.964,
          0.049,
          0.567,
          8.773,
          0.308,
          2.672,
          33.515,
          4.717,
          4.78,
          6.356,
          2.245,
          529.16,
          11.024,
          8.144,
          3.203,
          0.033,
          0.161,
          6.182,
          9.152,
          1.404,
          0.034,
          0.176,
          385.557,
          0.011,
          0.182,
          65.631,
          476.868,
          0.446,
          40.578,
          0.335,
          1.066,
          5.312,
          0.073,
          0.514,
          0.03,
          64.351,
          81.878,
          5.25,
          0.28,
          11.689,
          0.085,
          10.021,
          1.147,
          0.6600727000000001,
          0.101,
          0.953,
          40.058,
          0.284,
          0.046,
          0.276,
          1.542,
          555.784,
          0.074,
          0.903,
          0.277,
          2.776,
          25.277,
          4.44,
          1.2415498,
          928.083,
          28,
          0.365,
          17.106,
          28.424,
          231.813,
          0.018,
          4.775,
          944.507,
          0.3029,
          0.016,
          43.04,
          66.397,
          1.254,
          3.538,
          0.0054,
          23.1,
          26.741,
          163.516,
          23.152,
          13.087,
          5.075,
          71.177,
          49.5,
          1.715,
          0.248,
          2.16,
          1.057,
          1.057,
          71.221,
          11.665,
          23.736,
          47.8,
          8.272,
          4.069,
          78.321,
          0.029,
          0.036,
          65.686,
          7.785,
          10.518,
          0.12,
          19.888,
          202.922,
          0.955,
          0.0259,
          7.619,
          0.13,
          3.903,
          0.031,
          6.984,
          326.487,
          0.097,
          0.0021,
          3473.435
         ]
        }
       ],
       "frames": [
        {
         "data": [
          {
           "coloraxis": "coloraxis",
           "customdata": [
            [
             0.687
            ],
            [
             261.786
            ],
            [
             113.356
            ],
            [
             6.187
            ],
            [
             136.023
            ],
            [
             1.111
            ],
            [
             50.64
            ],
            [
             0.1
            ],
            [
             4.244
            ],
            [
             3.475
            ],
            [
             1.288
            ],
            [
             36.42
            ],
            [
             2.873
            ],
            [
             15.66
            ],
            [
             28.674
            ],
            [
             135.347
            ],
            [
             1.686
            ],
            [
             31.382
            ],
            [
             18.086
            ],
            [
             5.815
            ],
            [
             0.34
            ],
            [
             0.003
            ],
            [
             15.531
            ],
            [
             0.055
            ],
            [
             0.082
            ],
            [
             2.715
            ],
            [
             0.0794
            ],
            [
             0.016
            ],
            [
             10.966
            ],
            [
             0.395
            ],
            [
             0.117
            ],
            [
             3.594
            ],
            [
             0.874
            ],
            [
             0.527
            ],
            [
             0.216
            ],
            [
             0.945
            ],
            [
             0.971
            ],
            [
             38.133
            ],
            [
             79.604
            ],
            [
             1.332
            ],
            [
             34.851
            ],
            [
             1.543
            ],
            [
             1.683
            ],
            [
             0.1481
            ],
            [
             0.03
            ],
            [
             147.131
            ],
            [
             8.228
            ],
            [
             0.052
            ],
            [
             0.00583
            ],
            [
             1.278
            ],
            [
             0.0976
            ],
            [
             0.1807
            ],
            [
             0.044
            ],
            [
             17.583
            ],
            [
             0.064
            ],
            [
             0.064
            ],
            [
             53.132
            ],
            [
             1.345
            ],
            [
             1.3974
            ],
            [
             0.419
            ],
            [
             167.463
            ],
            [
             143.053
            ],
            [
             66.306
            ],
            [
             15.182
            ],
            [
             0.564
            ],
            [
             5.511
            ],
            [
             16.982
            ],
            [
             4.386
            ],
            [
             161.848
            ],
            [
             4.55
            ],
            [
             182.452
            ],
            [
             875.914
            ],
            [
             0.162
            ],
            [
             1.206
            ],
            [
             0.144
            ],
            [
             0.064
            ],
            [
             0.017
            ],
            [
             96.88
            ],
            [
             72.179
            ],
            [
             0.969
            ],
            [
             55.136
            ],
            [
             34.528
            ],
            [
             0.126
            ],
            [
             0.237
            ],
            [
             20.676
            ],
            [
             0.577
            ],
            [
             25.712
            ],
            [
             12.895
            ],
            [
             0.062
            ],
            [
             10.6
            ],
            [
             0.271
            ],
            [
             31.397
            ],
            [
             5.658
            ],
            [
             0.249
            ],
            [
             1.032
            ],
            [
             0.106
            ],
            [
             40.624
            ],
            [
             58.705
            ],
            [
             0.255
            ],
            [
             0.08
            ],
            [
             2.685
            ],
            [
             1.027
            ],
            [
             1.7583
            ],
            [
             3.154
            ],
            [
             0.532
            ],
            [
             11.964
            ],
            [
             0.049
            ],
            [
             0.567
            ],
            [
             8.773
            ],
            [
             0.308
            ],
            [
             2.672
            ],
            [
             33.515
            ],
            [
             4.717
            ],
            [
             4.78
            ],
            [
             6.356
            ],
            [
             2.245
            ],
            [
             529.16
            ],
            [
             11.024
            ],
            [
             8.144
            ],
            [
             3.203
            ],
            [
             0.033
            ],
            [
             0.161
            ],
            [
             6.182
            ],
            [
             9.152
            ],
            [
             1.404
            ],
            [
             0.034
            ],
            [
             0.176
            ],
            [
             385.557
            ],
            [
             0.011
            ],
            [
             0.182
            ],
            [
             65.631
            ],
            [
             476.868
            ],
            [
             0.446
            ],
            [
             40.578
            ],
            [
             0.335
            ],
            [
             1.066
            ],
            [
             5.312
            ],
            [
             0.073
            ],
            [
             0.514
            ],
            [
             0.03
            ],
            [
             64.351
            ],
            [
             81.878
            ],
            [
             5.25
            ],
            [
             0.28
            ],
            [
             11.689
            ],
            [
             0.085
            ],
            [
             10.021
            ],
            [
             1.147
            ],
            [
             0.6600727000000001
            ],
            [
             0.101
            ],
            [
             0.953
            ],
            [
             40.058
            ],
            [
             0.284
            ],
            [
             0.046
            ],
            [
             0.276
            ],
            [
             1.542
            ],
            [
             555.784
            ],
            [
             0.074
            ],
            [
             0.903
            ],
            [
             0.277
            ],
            [
             2.776
            ],
            [
             25.277
            ],
            [
             4.44
            ],
            [
             1.2415498
            ],
            [
             928.083
            ],
            [
             28
            ],
            [
             0.365
            ],
            [
             17.106
            ],
            [
             28.424
            ],
            [
             231.813
            ],
            [
             0.018
            ],
            [
             4.775
            ],
            [
             944.507
            ],
            [
             0.3029
            ],
            [
             0.016
            ],
            [
             43.04
            ],
            [
             66.397
            ],
            [
             1.254
            ],
            [
             3.538
            ],
            [
             0.0054
            ],
            [
             23.1
            ],
            [
             26.741
            ],
            [
             163.516
            ],
            [
             23.152
            ],
            [
             13.087
            ],
            [
             5.075
            ],
            [
             71.177
            ],
            [
             49.5
            ],
            [
             1.715
            ],
            [
             0.248
            ],
            [
             2.16
            ],
            [
             1.057
            ],
            [
             1.057
            ],
            [
             71.221
            ],
            [
             11.665
            ],
            [
             23.736
            ],
            [
             47.8
            ],
            [
             8.272
            ],
            [
             4.069
            ],
            [
             78.321
            ],
            [
             0.029
            ],
            [
             0.036
            ],
            [
             65.686
            ],
            [
             7.785
            ],
            [
             10.518
            ],
            [
             0.12
            ],
            [
             19.888
            ],
            [
             202.922
            ],
            [
             0.955
            ],
            [
             0.0259
            ],
            [
             7.619
            ],
            [
             0.13
            ],
            [
             3.903
            ],
            [
             0.031
            ],
            [
             6.984
            ],
            [
             326.487
            ],
            [
             0.097
            ],
            [
             0.0021
            ],
            [
             3473.435
            ]
           ],
           "geo": "geo",
           "hovertemplate": "<b>%{hovertext}</b><br><br>year=1994<br>ISO=%{location}<br>Electric Energy Production TWh=%{z}<extra></extra>",
           "hovertext": [
            "Afghanistan",
            "Brazil",
            "Norway",
            "Oman",
            "Other Asia",
            "Botswana",
            "Pakistan",
            "Palau",
            "Bosnia and Herzegovina",
            "Panama",
            "Papua New Guinea",
            "Paraguay",
            "Bolivia (Plur. State of)",
            "Peru",
            "Philippines",
            "Poland",
            "Bhutan",
            "Portugal",
            "Puerto Rico",
            "Qatar",
            "Northern Mariana Islands",
            "Niue",
            "Nigeria",
            "British Virgin Islands",
            "Micronesia (Fed. States of)",
            "Mongolia",
            "Cabo Verde",
            "Montserrat",
            "Morocco",
            "Mozambique",
            "Burundi",
            "Myanmar",
            "Namibia",
            "Bermuda",
            "Burkina Faso",
            "Nepal",
            "Neth. Antilles (former)",
            "Bulgaria",
            "Netherlands",
            "New Caledonia",
            "New Zealand",
            "Brunei Darussalam",
            "Nicaragua",
            "Niger",
            "Nauru",
            "Mexico",
            "Republic of Moldova",
            "Benin",
            "St. Helena and Depend.",
            "Bahamas",
            "St. Kitts-Nevis",
            "St. Lucia",
            "St. Pierre-Miquelon",
            "Azerbaijan",
            "St. Vincent-Grenadines",
            "State of Palestine",
            "Austria",
            "Sudan (former)",
            "Suriname",
            "Swaziland",
            "Australia",
            "Sweden",
            "Switzerland",
            "Syrian Arab Republic",
            "Aruba",
            "T.F.Yug.Rep. Macedonia",
            "Tajikistan",
            "Sri Lanka",
            "Spain",
            "Bahrain",
            "South Africa",
            "Russian Federation",
            "Rwanda",
            "Réunion",
            "Belize",
            "Samoa",
            "Sao Tome and Principe",
            "Saudi Arabia",
            "Belgium",
            "Senegal",
            "Romania",
            "Serbia and Montenegro",
            "Seychelles",
            "Sierra Leone",
            "Singapore",
            "Barbados",
            "Slovakia",
            "Slovenia",
            "Solomon Islands",
            "Bangladesh",
            "Somalia",
            "Belarus",
            "Armenia",
            "Cambodia",
            "Mauritius",
            "Gibraltar",
            "Greece",
            "Czechia",
            "Greenland",
            "Grenada",
            "Cyprus",
            "Guadeloupe",
            "Guam",
            "Guatemala",
            "Guinea",
            "Cuba",
            "Guinea-Bissau",
            "Guyana",
            "Croatia",
            "Haiti",
            "Honduras",
            "Hungary",
            "Costa Rica",
            "Iceland",
            "Ghana",
            "Côte d'Ivoire",
            "Germany",
            "Georgia",
            "Ecuador",
            "El Salvador",
            "Equatorial Guinea",
            "Eritrea",
            "Dominican Republic",
            "Estonia",
            "Ethiopia",
            "Dominica",
            "Faeroe Islands",
            "India",
            "Falkland Is. (Malvinas)",
            "Djibouti",
            "Finland",
            "France",
            "French Guiana",
            "Denmark",
            "French Polynesia",
            "Gabon",
            "Dem. Rep. of the Congo",
            "Gambia",
            "Fiji",
            "Mayotte",
            "Indonesia",
            "Iran (Islamic Rep. of)",
            "Lebanon",
            "Liberia",
            "Libya",
            "Chad",
            "Lithuania",
            "Luxembourg",
            "Madagascar",
            "Central African Rep.",
            "Malawi",
            "Malaysia",
            "Cayman Islands",
            "Maldives",
            "Mali",
            "Malta",
            "Canada",
            "Marshall Islands",
            "Martinique",
            "Mauritania",
            "Cameroon",
            "Chile",
            "Latvia",
            "Lao People's Dem. Rep.",
            "China",
            "Iraq",
            "Congo",
            "Ireland",
            "Israel",
            "Italy",
            "Comoros",
            "Jamaica",
            "Japan",
            "Jersey",
            "Cook Islands",
            "Colombia",
            "Kazakhstan",
            "China, Macao SAR",
            "Kenya",
            "Kiribati",
            "Korea, Dem.Ppl's.Rep.",
            "China, Hong Kong SAR",
            "Korea, Republic of",
            "Kuwait",
            "Kyrgyzstan",
            "Jordan",
            "Thailand",
            "Egypt",
            "United Rep. of Tanzania",
            "Togo",
            "Yemen",
            "Uganda",
            "United States Virgin Is.",
            "Venezuela (Bolivar. Rep.)",
            "Viet Nam",
            "United Arab Emirates",
            "Uzbekistan",
            "Zimbabwe",
            "Trinidad and Tobago",
            "Turkey",
            "Tonga",
            "Turks and Caicos Islands",
            "Argentina",
            "Zambia",
            "Turkmenistan",
            "Andorra",
            "Algeria",
            "Ukraine",
            "Angola",
            "Anguilla",
            "Uruguay",
            "American Samoa",
            "Albania",
            "Vanuatu",
            "Tunisia",
            "United Kingdom",
            "Antigua and Barbuda",
            "Tuvalu",
            "United States"
           ],
           "locations": [
            "AFG",
            "BRA",
            "NOR",
            "OMN",
            "@@@",
            "BWA",
            "PAK",
            "PLW",
            "BIH",
            "PAN",
            "PNG",
            "PRY",
            "BOL",
            "PER",
            "PHL",
            "POL",
            "BTN",
            "PRT",
            "PRI",
            "QAT",
            "MNP",
            "NIU",
            "NGA",
            "VGB",
            "FSM",
            "MNG",
            "CPV",
            "MSR",
            "MAR",
            "MOZ",
            "BDI",
            "MMR",
            "NAM",
            "BMU",
            "BFA",
            "NPL",
            "@@@",
            "BGR",
            "NLD",
            "NCL",
            "NZL",
            "BRN",
            "NIC",
            "NER",
            "NRU",
            "MEX",
            "MDA",
            "BEN",
            "SHN",
            "BHS",
            "KNA",
            "LCA",
            "SPM",
            "AZE",
            "VCT",
            "PSE",
            "AUT",
            "SDN",
            "SUR",
            "SWZ",
            "AUS",
            "SWE",
            "CHE",
            "SYR",
            "ABW",
            "MKD",
            "TJK",
            "LKA",
            "ESP",
            "BHR",
            "ZAF",
            "RUS",
            "RWA",
            "REU",
            "BLZ",
            "WSM",
            "STP",
            "SAU",
            "BEL",
            "SEN",
            "ROU",
            "SRB",
            "SYC",
            "SLE",
            "SGP",
            "BRB",
            "SVK",
            "SVN",
            "SLB",
            "BGD",
            "SOM",
            "BLR",
            "ARM",
            "KHM",
            "MUS",
            "GIB",
            "GRC",
            "CZE",
            "GRL",
            "GRD",
            "CYP",
            "GLP",
            "GUM",
            "GTM",
            "GIN",
            "CUB",
            "GNB",
            "GUY",
            "HRV",
            "HTI",
            "HND",
            "HUN",
            "CRI",
            "ISL",
            "GHA",
            "CIV",
            "DEU",
            "GEO",
            "ECU",
            "SLV",
            "GNQ",
            "ERI",
            "DOM",
            "EST",
            "ETH",
            "DMA",
            "FRO",
            "IND",
            "MDV",
            "DJI",
            "FIN",
            "FRA",
            "GUF",
            "DNK",
            "PYF",
            "GAB",
            "COD",
            "GMB",
            "FJI",
            "MYT",
            "IDN",
            "IRN",
            "LBN",
            "LBR",
            "LBY",
            "TCD",
            "LTU",
            "LUX",
            "MDG",
            "CAF",
            "MWI",
            "MYS",
            "CYM",
            "MDV",
            "MLI",
            "MLT",
            "CAN",
            "MHL",
            "MTQ",
            "MRT",
            "CMR",
            "CHL",
            "LVA",
            "LAO",
            "CHN",
            "IRQ",
            "COG",
            "IRL",
            "ISR",
            "ITA",
            "COM",
            "JAM",
            "JPN",
            "JEY",
            "COK",
            "COL",
            "KAZ",
            "MAC",
            "KEN",
            "KIR",
            "PRK",
            "HKG",
            "KOR",
            "KWT",
            "KGZ",
            "JOR",
            "THA",
            "EGY",
            "TZA",
            "TGO",
            "YEM",
            "UGA",
            "VIR",
            "VEN",
            "VNM",
            "ARE",
            "UZB",
            "ZWE",
            "TTO",
            "TUR",
            "TON",
            "TCA",
            "ARG",
            "ZMB",
            "TKM",
            "AND",
            "DZA",
            "UKR",
            "AGO",
            "AIA",
            "URY",
            "ASM",
            "ALB",
            "VUT",
            "TUN",
            "GBR",
            "ATG",
            "TUV",
            "USA"
           ],
           "name": "",
           "type": "choropleth",
           "z": [
            0.687,
            261.786,
            113.356,
            6.187,
            136.023,
            1.111,
            50.64,
            0.1,
            4.244,
            3.475,
            1.288,
            36.42,
            2.873,
            15.66,
            28.674,
            135.347,
            1.686,
            31.382,
            18.086,
            5.815,
            0.34,
            0.003,
            15.531,
            0.055,
            0.082,
            2.715,
            0.0794,
            0.016,
            10.966,
            0.395,
            0.117,
            3.594,
            0.874,
            0.527,
            0.216,
            0.945,
            0.971,
            38.133,
            79.604,
            1.332,
            34.851,
            1.543,
            1.683,
            0.1481,
            0.03,
            147.131,
            8.228,
            0.052,
            0.00583,
            1.278,
            0.0976,
            0.1807,
            0.044,
            17.583,
            0.064,
            0.064,
            53.132,
            1.345,
            1.3974,
            0.419,
            167.463,
            143.053,
            66.306,
            15.182,
            0.564,
            5.511,
            16.982,
            4.386,
            161.848,
            4.55,
            182.452,
            875.914,
            0.162,
            1.206,
            0.144,
            0.064,
            0.017,
            96.88,
            72.179,
            0.969,
            55.136,
            34.528,
            0.126,
            0.237,
            20.676,
            0.577,
            25.712,
            12.895,
            0.062,
            10.6,
            0.271,
            31.397,
            5.658,
            0.249,
            1.032,
            0.106,
            40.624,
            58.705,
            0.255,
            0.08,
            2.685,
            1.027,
            1.7583,
            3.154,
            0.532,
            11.964,
            0.049,
            0.567,
            8.773,
            0.308,
            2.672,
            33.515,
            4.717,
            4.78,
            6.356,
            2.245,
            529.16,
            11.024,
            8.144,
            3.203,
            0.033,
            0.161,
            6.182,
            9.152,
            1.404,
            0.034,
            0.176,
            385.557,
            0.011,
            0.182,
            65.631,
            476.868,
            0.446,
            40.578,
            0.335,
            1.066,
            5.312,
            0.073,
            0.514,
            0.03,
            64.351,
            81.878,
            5.25,
            0.28,
            11.689,
            0.085,
            10.021,
            1.147,
            0.6600727000000001,
            0.101,
            0.953,
            40.058,
            0.284,
            0.046,
            0.276,
            1.542,
            555.784,
            0.074,
            0.903,
            0.277,
            2.776,
            25.277,
            4.44,
            1.2415498,
            928.083,
            28,
            0.365,
            17.106,
            28.424,
            231.813,
            0.018,
            4.775,
            944.507,
            0.3029,
            0.016,
            43.04,
            66.397,
            1.254,
            3.538,
            0.0054,
            23.1,
            26.741,
            163.516,
            23.152,
            13.087,
            5.075,
            71.177,
            49.5,
            1.715,
            0.248,
            2.16,
            1.057,
            1.057,
            71.221,
            11.665,
            23.736,
            47.8,
            8.272,
            4.069,
            78.321,
            0.029,
            0.036,
            65.686,
            7.785,
            10.518,
            0.12,
            19.888,
            202.922,
            0.955,
            0.0259,
            7.619,
            0.13,
            3.903,
            0.031,
            6.984,
            326.487,
            0.097,
            0.0021,
            3473.435
           ]
          }
         ],
         "name": "1994"
        },
        {
         "data": [
          {
           "coloraxis": "coloraxis",
           "customdata": [
            [
             12.459
            ],
            [
             0.935
            ],
            [
             14.06
            ],
            [
             1.6943
            ],
            [
             194.318
            ],
            [
             0.098
            ],
            [
             1.786
            ],
            [
             0.018
            ],
            [
             0.065
            ],
            [
             36.062
            ],
            [
             23
            ],
            [
             0.137
            ],
            [
             0.537
            ],
            [
             74.408
            ],
            [
             27.916
            ],
            [
             99.833
            ],
            [
             3.413
            ],
            [
             2.422
            ],
            [
             24.918
            ],
            [
             1.078
            ],
            [
             6.188
            ],
            [
             3.979
            ],
            [
             0.96
            ],
            [
             12.913
            ],
            [
             7.589
            ],
            [
             1
            ],
            [
             0.108
            ],
            [
             26.774
            ],
            [
             1.1279894
            ],
            [
             0.0222
            ],
            [
             41.552
            ],
            [
             0.616
            ],
            [
             1.01
            ],
            [
             60.847
            ],
            [
             22.057
            ],
            [
             41.789
            ],
            [
             14.285
            ],
            [
             37.176
            ],
            [
             183.857
            ],
            [
             2.497
            ],
            [
             1.415
            ],
            [
             24.254
            ],
            [
             0.1488
            ],
            [
             1.966
            ],
            [
             86.247
            ],
            [
             52.5
            ],
            [
             0.088
            ],
            [
             81.167
            ],
            [
             0.0962
            ],
            [
             1007.726
            ],
            [
             0.257
            ],
            [
             0.129
            ],
            [
             0.148
            ],
            [
             15.857
            ],
            [
             0.05
            ],
            [
             6.5
            ],
            [
             33.265
            ],
            [
             0.0391
            ],
            [
             1.63
            ],
            [
             969.382
            ],
            [
             0.016
            ],
            [
             68.399
            ],
            [
             139.006
            ],
            [
             1.114
            ],
            [
             145.98
            ],
            [
             84.969
            ],
            [
             30.875
            ],
            [
             47.453
            ],
            [
             0.0021
            ],
            [
             29
            ],
            [
             53.555
            ],
            [
             17.44
            ],
            [
             5.829
            ],
            [
             3.061
            ],
            [
             0.1
            ],
            [
             0.328
            ],
            [
             0.034
            ],
            [
             39.855
            ],
            [
             17.859
            ],
            [
             0.019
            ],
            [
             30.425
            ],
            [
             1.574
            ],
            [
             4.401
            ],
            [
             241.489
            ],
            [
             45.246
            ],
            [
             0.3178
            ],
            [
             418.043
            ],
            [
             18.747
            ],
            [
             0.061
            ],
            [
             1.298
            ],
            [
             0.573
            ],
            [
             3.747
            ],
            [
             0.164
            ],
            [
             6.306
            ],
            [
             9.276
            ],
            [
             75.446
            ],
            [
             1.272
            ],
            [
             860.027
            ],
            [
             9.818
            ],
            [
             0.035
            ],
            [
             0.523
            ],
            [
             0.003
            ],
            [
             0.0092
            ],
            [
             2.838
            ],
            [
             1.097
            ],
            [
             0.345
            ],
            [
             34.018
            ],
            [
             6.068
            ],
            [
             66.659
            ],
            [
             275.601
            ],
            [
             4.863
            ],
            [
             0.521
            ],
            [
             5.616
            ],
            [
             19.714
            ],
            [
             5.976
            ],
            [
             4.981
            ],
            [
             123.199
            ],
            [
             560.116
            ],
            [
             59.266
            ],
            [
             0.063
            ],
            [
             3.535
            ],
            [
             67.085
            ],
            [
             0.0722
            ],
            [
             63.032
            ],
            [
             0.057
            ],
            [
             64.035
            ],
            [
             3582.114
            ],
            [
             0.0833
            ],
            [
             5.477
            ],
            [
             17.045
            ],
            [
             1.23
            ],
            [
             494.274
            ],
            [
             0.042
            ],
            [
             2.629
            ],
            [
             0.35
            ],
            [
             15.3
            ],
            [
             7.924
            ],
            [
             0.45
            ],
            [
             0.340697
            ],
            [
             0.172
            ],
            [
             0.1966
            ],
            [
             80.348
            ],
            [
             13.898
            ],
            [
             12.113
            ],
            [
             36.758
            ],
            [
             0.616
            ],
            [
             0.017
            ],
            [
             0.1018
            ],
            [
             0.184
            ],
            [
             0.102
            ],
            [
             173.159
            ],
            [
             0.249
            ],
            [
             0.425
            ],
            [
             0.056
            ],
            [
             8.017
            ],
            [
             0.175
            ],
            [
             0.94
            ],
            [
             1.47
            ],
            [
             1.4018
            ],
            [
             0.036
            ],
            [
             152.248
            ],
            [
             2.955
            ],
            [
             148.351
            ],
            [
             1.421
            ],
            [
             0.0312
            ],
            [
             8.693
            ],
            [
             56.225
            ],
            [
             0.6620226
            ],
            [
             0.012
            ],
            [
             334.041
            ],
            [
             0.084
            ],
            [
             0.544
            ],
            [
             1.06
            ],
            [
             0.064
            ],
            [
             0.297
            ],
            [
             0.089
            ],
            [
             46.656
            ],
            [
             1.304
            ],
            [
             537.284
            ],
            [
             5.378
            ],
            [
             0.28
            ],
            [
             14.768
            ],
            [
             167.085
            ],
            [
             4.307
            ],
            [
             0.272
            ],
            [
             4.056
            ],
            [
             4.611
            ],
            [
             4.414
            ],
            [
             2.844
            ],
            [
             0.074
            ],
            [
             0.078
            ],
            [
             0.675
            ],
            [
             5.573
            ],
            [
             8.429
            ],
            [
             1.632
            ],
            [
             1.171
            ],
            [
             187.825
            ],
            [
             8.154
            ],
            [
             0.124
            ],
            [
             28.027
            ],
            [
             0.976
            ],
            [
             1.071
            ],
            [
             0.034
            ],
            [
             1.817
            ],
            [
             6.085
            ],
            [
             0.349
            ],
            [
             11.415
            ],
            [
             3.398
            ],
            [
             0.312
            ],
            [
             0.00618
            ],
            [
             11.689
            ],
            [
             0.2429
            ],
            [
             1.139
            ],
            [
             0.12
            ],
            [
             24.982
            ],
            [
             0.408
            ],
            [
             5.561
            ],
            [
             4.8
            ],
            [
             0.032
            ]
           ],
           "geo": "geo",
           "hovertemplate": "<b>%{hovertext}</b><br><br>year=1995<br>ISO=%{location}<br>Electric Energy Production TWh=%{z}<extra></extra>",
           "hovertext": [
            "Cuba",
            "Senegal",
            "Viet Nam",
            "Guam",
            "Ukraine",
            "Antigua and Barbuda",
            "Nicaragua",
            "Sao Tome and Principe",
            "Samoa",
            "New Zealand",
            "Korea, Dem.Ppl's.Rep.",
            "American Samoa",
            "Guinea",
            "Belgium",
            "China, Hong Kong SAR",
            "Saudi Arabia",
            "Guatemala",
            "Yemen",
            "Belarus",
            "Guadeloupe",
            "Ghana",
            "Latvia",
            "Angola",
            "Slovenia",
            "Tunisia",
            "Nepal",
            "Gibraltar",
            "Slovakia",
            "Lao People's Dem. Rep.",
            "Anguilla",
            "Greece",
            "Barbados",
            "Neth. Antilles (former)",
            "Czechia",
            "Singapore",
            "Bulgaria",
            "Kyrgyzstan",
            "Serbia and Montenegro",
            "Korea, Republic of",
            "Cyprus",
            "New Caledonia",
            "Kuwait",
            "Niger",
            "Brunei Darussalam",
            "Turkey",
            "Egypt",
            "Grenada",
            "Netherlands",
            "Sierra Leone",
            "China",
            "Greenland",
            "Seychelles",
            "Belize",
            "Nigeria",
            "Guinea-Bissau",
            "Oman",
            "Portugal",
            "Turks and Caicos Islands",
            "Bhutan",
            "Japan",
            "Cook Islands",
            "Indonesia",
            "Poland",
            "Botswana",
            "Other Asia",
            "Iran (Islamic Rep. of)",
            "Philippines",
            "Uzbekistan",
            "Tuvalu",
            "Iraq",
            "Pakistan",
            "Peru",
            "Jamaica",
            "Bolivia (Plur. State of)",
            "Palau",
            "Congo",
            "Vanuatu",
            "Paraguay",
            "Ireland",
            "Comoros",
            "Israel",
            "Papua New Guinea",
            "Bosnia and Herzegovina",
            "Italy",
            "Colombia",
            "Jersey",
            "India",
            "Puerto Rico",
            "British Virgin Islands",
            "Réunion",
            "Guyana",
            "Kenya",
            "Rwanda",
            "Uruguay",
            "Croatia",
            "Venezuela (Bolivar. Rep.)",
            "China, Macao SAR",
            "Russian Federation",
            "Turkmenistan",
            "Benin",
            "Haiti",
            "Niue",
            "Kiribati",
            "Honduras",
            "Uganda",
            "Northern Mariana Islands",
            "Hungary",
            "Republic of Moldova",
            "Kazakhstan",
            "Brazil",
            "Costa Rica",
            "Bermuda",
            "Jordan",
            "Algeria",
            "Qatar",
            "Iceland",
            "Norway",
            "Canada",
            "Romania",
            "Solomon Islands",
            "Panama",
            "Argentina",
            "St. Vincent-Grenadines",
            "Switzerland",
            "Maldives",
            "Finland",
            "United States",
            "Cabo Verde",
            "Dominican Republic",
            "Azerbaijan",
            "Luxembourg",
            "France",
            "St. Pierre-Miquelon",
            "Mongolia",
            "Togo",
            "Syrian Arab Republic",
            "Zambia",
            "French Guiana",
            "Mauritania",
            "Eritrea",
            "St. Lucia",
            "Thailand",
            "Lithuania",
            "Morocco",
            "Denmark",
            "Aruba",
            "Montserrat",
            "St. Kitts-Nevis",
            "Djibouti",
            "Central African Rep.",
            "Australia",
            "Cambodia",
            "Swaziland",
            "Dominica",
            "Zimbabwe",
            "Faeroe Islands",
            "Malawi",
            "Ethiopia",
            "Suriname",
            "Mayotte",
            "Mexico",
            "Côte d'Ivoire",
            "Sweden",
            "Sudan (former)",
            "Tonga",
            "Estonia",
            "Austria",
            "Madagascar",
            "Falkland Is. (Malvinas)",
            "United Kingdom",
            "Micronesia (Fed. States of)",
            "Fiji",
            "Mauritius",
            "State of Palestine",
            "Cayman Islands",
            "Chad",
            "Malaysia",
            "Bahamas",
            "Germany",
            "Dem. Rep. of the Congo",
            "Liberia",
            "Tajikistan",
            "Spain",
            "Trinidad and Tobago",
            "Somalia",
            "Myanmar",
            "Bahrain",
            "Albania",
            "Cameroon",
            "Gambia",
            "Marshall Islands",
            "Afghanistan",
            "Lebanon",
            "Ecuador",
            "Malta",
            "Namibia",
            "South Africa",
            "Georgia",
            "Andorra",
            "Chile",
            "Martinique",
            "United States Virgin Is.",
            "Equatorial Guinea",
            "United Rep. of Tanzania",
            "T.F.Yug.Rep. Macedonia",
            "French Polynesia",
            "Libya",
            "El Salvador",
            "Mali",
            "St. Helena and Depend.",
            "Bangladesh",
            "Burkina Faso",
            "Gabon",
            "Burundi",
            "United Arab Emirates",
            "Mozambique",
            "Armenia",
            "Sri Lanka",
            "Nauru"
           ],
           "locations": [
            "CUB",
            "SEN",
            "VNM",
            "GUM",
            "UKR",
            "ATG",
            "NIC",
            "STP",
            "WSM",
            "NZL",
            "PRK",
            "ASM",
            "GIN",
            "BEL",
            "HKG",
            "SAU",
            "GTM",
            "YEM",
            "BLR",
            "GLP",
            "GHA",
            "LVA",
            "AGO",
            "SVN",
            "TUN",
            "NPL",
            "GIB",
            "SVK",
            "LAO",
            "AIA",
            "GRC",
            "BRB",
            "@@@",
            "CZE",
            "SGP",
            "BGR",
            "KGZ",
            "SRB",
            "KOR",
            "CYP",
            "NCL",
            "KWT",
            "NER",
            "BRN",
            "TUR",
            "EGY",
            "GRD",
            "NLD",
            "SLE",
            "CHN",
            "GRL",
            "SYC",
            "BLZ",
            "NGA",
            "GNB",
            "OMN",
            "PRT",
            "TCA",
            "BTN",
            "JPN",
            "COK",
            "IDN",
            "POL",
            "BWA",
            "@@@",
            "IRN",
            "PHL",
            "UZB",
            "TUV",
            "IRQ",
            "PAK",
            "PER",
            "JAM",
            "BOL",
            "PLW",
            "COG",
            "VUT",
            "PRY",
            "IRL",
            "COM",
            "ISR",
            "PNG",
            "BIH",
            "ITA",
            "COL",
            "JEY",
            "IND",
            "PRI",
            "VGB",
            "REU",
            "GUY",
            "KEN",
            "RWA",
            "URY",
            "HRV",
            "VEN",
            "MAC",
            "RUS",
            "TKM",
            "BEN",
            "HTI",
            "NIU",
            "KIR",
            "HND",
            "UGA",
            "MNP",
            "HUN",
            "MDA",
            "KAZ",
            "BRA",
            "CRI",
            "BMU",
            "JOR",
            "DZA",
            "QAT",
            "ISL",
            "NOR",
            "CAN",
            "ROU",
            "SLB",
            "PAN",
            "ARG",
            "VCT",
            "CHE",
            "MDV",
            "FIN",
            "USA",
            "CPV",
            "DOM",
            "AZE",
            "LUX",
            "FRA",
            "SPM",
            "MNG",
            "TGO",
            "SYR",
            "ZMB",
            "GUF",
            "MRT",
            "ERI",
            "LCA",
            "THA",
            "LTU",
            "MAR",
            "DNK",
            "ABW",
            "MSR",
            "KNA",
            "DJI",
            "CAF",
            "AUS",
            "KHM",
            "SWZ",
            "DMA",
            "ZWE",
            "FRO",
            "MWI",
            "ETH",
            "SUR",
            "MYT",
            "MEX",
            "CIV",
            "SWE",
            "SDN",
            "TON",
            "EST",
            "AUT",
            "MDG",
            "MDV",
            "GBR",
            "FSM",
            "FJI",
            "MUS",
            "PSE",
            "CYM",
            "TCD",
            "MYS",
            "BHS",
            "DEU",
            "COD",
            "LBR",
            "TJK",
            "ESP",
            "TTO",
            "SOM",
            "MMR",
            "BHR",
            "ALB",
            "CMR",
            "GMB",
            "MHL",
            "AFG",
            "LBN",
            "ECU",
            "MLT",
            "NAM",
            "ZAF",
            "GEO",
            "AND",
            "CHL",
            "MTQ",
            "VIR",
            "GNQ",
            "TZA",
            "MKD",
            "PYF",
            "LBY",
            "SLV",
            "MLI",
            "SHN",
            "BGD",
            "BFA",
            "GAB",
            "BDI",
            "ARE",
            "MOZ",
            "ARM",
            "LKA",
            "NRU"
           ],
           "name": "",
           "type": "choropleth",
           "z": [
            12.459,
            0.935,
            14.06,
            1.6943,
            194.318,
            0.098,
            1.786,
            0.018,
            0.065,
            36.062,
            23,
            0.137,
            0.537,
            74.408,
            27.916,
            99.833,
            3.413,
            2.422,
            24.918,
            1.078,
            6.188,
            3.979,
            0.96,
            12.913,
            7.589,
            1,
            0.108,
            26.774,
            1.1279894,
            0.0222,
            41.552,
            0.616,
            1.01,
            60.847,
            22.057,
            41.789,
            14.285,
            37.176,
            183.857,
            2.497,
            1.415,
            24.254,
            0.1488,
            1.966,
            86.247,
            52.5,
            0.088,
            81.167,
            0.0962,
            1007.726,
            0.257,
            0.129,
            0.148,
            15.857,
            0.05,
            6.5,
            33.265,
            0.0391,
            1.63,
            969.382,
            0.016,
            68.399,
            139.006,
            1.114,
            145.98,
            84.969,
            30.875,
            47.453,
            0.0021,
            29,
            53.555,
            17.44,
            5.829,
            3.061,
            0.1,
            0.328,
            0.034,
            39.855,
            17.859,
            0.019,
            30.425,
            1.574,
            4.401,
            241.489,
            45.246,
            0.3178,
            418.043,
            18.747,
            0.061,
            1.298,
            0.573,
            3.747,
            0.164,
            6.306,
            9.276,
            75.446,
            1.272,
            860.027,
            9.818,
            0.035,
            0.523,
            0.003,
            0.0092,
            2.838,
            1.097,
            0.345,
            34.018,
            6.068,
            66.659,
            275.601,
            4.863,
            0.521,
            5.616,
            19.714,
            5.976,
            4.981,
            123.199,
            560.116,
            59.266,
            0.063,
            3.535,
            67.085,
            0.0722,
            63.032,
            0.057,
            64.035,
            3582.114,
            0.0833,
            5.477,
            17.045,
            1.23,
            494.274,
            0.042,
            2.629,
            0.35,
            15.3,
            7.924,
            0.45,
            0.340697,
            0.172,
            0.1966,
            80.348,
            13.898,
            12.113,
            36.758,
            0.616,
            0.017,
            0.1018,
            0.184,
            0.102,
            173.159,
            0.249,
            0.425,
            0.056,
            8.017,
            0.175,
            0.94,
            1.47,
            1.4018,
            0.036,
            152.248,
            2.955,
            148.351,
            1.421,
            0.0312,
            8.693,
            56.225,
            0.6620226,
            0.012,
            334.041,
            0.084,
            0.544,
            1.06,
            0.064,
            0.297,
            0.089,
            46.656,
            1.304,
            537.284,
            5.378,
            0.28,
            14.768,
            167.085,
            4.307,
            0.272,
            4.056,
            4.611,
            4.414,
            2.844,
            0.074,
            0.078,
            0.675,
            5.573,
            8.429,
            1.632,
            1.171,
            187.825,
            8.154,
            0.124,
            28.027,
            0.976,
            1.071,
            0.034,
            1.817,
            6.085,
            0.349,
            11.415,
            3.398,
            0.312,
            0.00618,
            11.689,
            0.2429,
            1.139,
            0.12,
            24.982,
            0.408,
            5.561,
            4.8,
            0.032
           ]
          }
         ],
         "name": "1995"
        },
        {
         "data": [
          {
           "coloraxis": "coloraxis",
           "customdata": [
            [
             0.32
            ],
            [
             7.34
            ],
            [
             53
            ],
            [
             0.2877
            ],
            [
             0.04
            ],
            [
             104.984
            ],
            [
             244.433
            ],
            [
             0.0792
            ],
            [
             573.04
            ],
            [
             6.802
            ],
            [
             1.273
            ],
            [
             6.038
            ],
            [
             156.685
            ],
            [
             2.963
            ],
            [
             56.946
            ],
            [
             0.335
            ],
            [
             0.0022
            ],
            [
             45.418
            ],
            [
             1.657
            ],
            [
             0.807
            ],
            [
             0.371832
            ],
            [
             0.063
            ],
            [
             990.148
            ],
            [
             44.866
            ],
            [
             0.101
            ],
            [
             2.053
            ],
            [
             0.021
            ],
            [
             1.019
            ],
            [
             0.032
            ],
            [
             16.243
            ],
            [
             0.329
            ],
            [
             2.123
            ],
            [
             0.143
            ],
            [
             12.086
            ],
            [
             181.986
            ],
            [
             0.12
            ],
            [
             205.382
            ],
            [
             1.485
            ],
            [
             26.005
            ],
            [
             0.425
            ],
            [
             0.28
            ],
            [
             85.423
            ],
            [
             1081.31
            ],
            [
             3.945
            ],
            [
             6.965
            ],
            [
             42.716
            ],
            [
             15.729
            ],
            [
             1.057
            ],
            [
             0.893
            ],
            [
             1.028
            ],
            [
             1.2908368
            ],
            [
             1.209
            ],
            [
             1.075
            ],
            [
             30.733
            ],
            [
             0.2735
            ],
            [
             3.124
            ],
            [
             26.572
            ],
            [
             0.09
            ],
            [
             36.473
            ],
            [
             12.407
            ],
            [
             0.987
            ],
            [
             291.244
            ],
            [
             58.657
            ],
            [
             0.35
            ],
            [
             350.869
            ],
            [
             1.372
            ],
            [
             157.691
            ],
            [
             0.003
            ],
            [
             0.6812142999999999
            ],
            [
             1.17
            ],
            [
             0.086
            ],
            [
             6.668
            ],
            [
             6.058
            ],
            [
             0.104
            ],
            [
             2.614
            ],
            [
             0.068
            ],
            [
             0.0881
            ],
            [
             0.0083
            ],
            [
             0.15241
            ],
            [
             1.256
            ],
            [
             3677.022
            ],
            [
             21.3
            ],
            [
             0.017
            ],
            [
             1.904
            ],
            [
             28.44
            ],
            [
             16.789
            ],
            [
             4.174
            ],
            [
             90.079
            ],
            [
             19.13
            ],
            [
             25.76
            ],
            [
             3.225
            ],
            [
             0.064
            ],
            [
             555.372
            ],
            [
             0.275
            ],
            [
             7.187
            ],
            [
             200.266
            ],
            [
             0.076
            ],
            [
             12.404
            ],
            [
             2.457
            ],
            [
             4.541
            ],
            [
             174.453
            ],
            [
             5.415
            ],
            [
             4.529
            ],
            [
             1.214
            ],
            [
             0.00625
            ],
            [
             0.335
            ],
            [
             5.016
            ],
            [
             5.926
            ],
            [
             6.631
            ],
            [
             13.057
            ],
            [
             1.016
            ],
            [
             1.143
            ],
            [
             16.944
            ],
            [
             38.093
            ],
            [
             2.609
            ],
            [
             23.728
            ],
            [
             0.13553
            ],
            [
             0.095
            ],
            [
             0.258
            ],
            [
             0.1442
            ],
            [
             42.567
            ],
            [
             23.458
            ],
            [
             64.257
            ],
            [
             0.65
            ],
            [
             7.837
            ],
            [
             3.887
            ],
            [
             0.11
            ],
            [
             1.34
            ],
            [
             0.45
            ],
            [
             0.1069
            ],
            [
             53.582
            ],
            [
             1.559
            ],
            [
             140.662
            ],
            [
             9.103
            ],
            [
             0.289
            ],
            [
             57.5
            ],
            [
             0.193
            ],
            [
             6.615
            ],
            [
             0.642
            ],
            [
             17.278
            ],
            [
             0.031
            ],
            [
             6.458
            ],
            [
             3.452
            ],
            [
             0.675
            ],
            [
             15
            ],
            [
             9.34
            ],
            [
             6.215
            ],
            [
             54.898
            ],
            [
             177.598
            ],
            [
             1.8112
            ],
            [
             0.06
            ],
            [
             7.819
            ],
            [
             0.198
            ],
            [
             69.902
            ],
            [
             513.398
            ],
            [
             17.088
            ],
            [
             7.171
            ],
            [
             0.042
            ],
            [
             69.373
            ],
            [
             0.076
            ],
            [
             0.185
            ],
            [
             0.043
            ],
            [
             0.591
            ],
            [
             0.012
            ],
            [
             54.88
            ],
            [
             0.0297
            ],
            [
             1.547
            ],
            [
             0.182
            ],
            [
             1.4092
            ],
            [
             0.425
            ],
            [
             103.353
            ],
            [
             0.11
            ],
            [
             76.099
            ],
            [
             1.386
            ],
            [
             29.05
            ],
            [
             6.575
            ],
            [
             75.588
            ],
            [
             1.972
            ],
            [
             0.6879
            ],
            [
             17.28
            ],
            [
             0.035
            ],
            [
             4.894
            ],
            [
             0.154
            ],
            [
             0.02
            ],
            [
             11.173
            ],
            [
             436.879
            ],
            [
             847.183
            ],
            [
             143.173
            ],
            [
             35.09
            ],
            [
             0.048
            ],
            [
             0.633
            ],
            [
             6.117
            ],
            [
             61.35
            ],
            [
             78.117
            ],
            [
             90.851
            ],
            [
             33.352
            ],
            [
             10.12
            ],
            [
             0.0388
            ],
            [
             3.279
            ],
            [
             0.152
            ],
            [
             32.531
            ],
            [
             3.696
            ],
            [
             0.0246
            ],
            [
             20.654
            ],
            [
             34.521
            ],
            [
             0.019
            ],
            [
             1.759
            ],
            [
             13.236
            ],
            [
             0.051
            ],
            [
             5.123
            ],
            [
             0.074
            ],
            [
             19.18
            ],
            [
             2.985
            ],
            [
             0.628
            ],
            [
             0.109
            ],
            [
             0.357
            ],
            [
             44.818
            ],
            [
             0.525
            ],
            [
             94.862
            ]
           ],
           "geo": "geo",
           "hovertemplate": "<b>%{hovertext}</b><br><br>year=1996<br>ISO=%{location}<br>Electric Energy Production TWh=%{z}<extra></extra>",
           "hovertext": [
            "Cayman Islands",
            "Bosnia and Herzegovina",
            "Malaysia",
            "Jersey",
            "Mayotte",
            "Norway",
            "Italy",
            "Marshall Islands",
            "Canada",
            "Oman",
            "Mauritius",
            "Jamaica",
            "Other Asia",
            "Cameroon",
            "Pakistan",
            "Mali",
            "Tuvalu",
            "Uzbekistan",
            "Malta",
            "Botswana",
            "Mauritania",
            "Maldives",
            "Japan",
            "Colombia",
            "Palau",
            "United Rep. of Tanzania",
            "Comoros",
            "Martinique",
            "Nauru",
            "Nigeria",
            "Cambodia",
            "Brunei Darussalam",
            "American Samoa",
            "Libya",
            "Ukraine",
            "Burundi",
            "Korea, Republic of",
            "New Caledonia",
            "Kuwait",
            "Mozambique",
            "Liberia",
            "Netherlands",
            "China",
            "Myanmar",
            "Lebanon",
            "Bulgaria",
            "Kyrgyzstan",
            "Neth. Antilles (former)",
            "Namibia",
            "Angola",
            "Lao People's Dem. Rep.",
            "Nepal",
            "United States Virgin Is.",
            "Chile",
            "Burkina Faso",
            "Latvia",
            "United Arab Emirates",
            "Chad",
            "New Zealand",
            "Morocco",
            "Malawi",
            "Brazil",
            "Kazakhstan",
            "Northern Mariana Islands",
            "United Kingdom",
            "China, Macao SAR",
            "Mexico",
            "Niue",
            "Madagascar",
            "Uganda",
            "Micronesia (Fed. States of)",
            "Uruguay",
            "Jordan",
            "Central African Rep.",
            "Mongolia",
            "British Virgin Islands",
            "Cabo Verde",
            "Kiribati",
            "Niger",
            "Luxembourg",
            "United States",
            "Korea, Dem.Ppl's.Rep.",
            "Montserrat",
            "Nicaragua",
            "China, Hong Kong SAR",
            "Lithuania",
            "Kenya",
            "Thailand",
            "Puerto Rico",
            "Slovakia",
            "Côte d'Ivoire",
            "Solomon Islands",
            "Germany",
            "Somalia",
            "Georgia",
            "South Africa",
            "Gambia",
            "Bangladesh",
            "Yemen",
            "Trinidad and Tobago",
            "Spain",
            "Dem. Rep. of the Congo",
            "Sri Lanka",
            "Gabon",
            "St. Helena and Depend.",
            "French Polynesia",
            "Bahrain",
            "Albania",
            "Ghana",
            "Slovenia",
            "Senegal",
            "Guadeloupe",
            "Viet Nam",
            "Serbia and Montenegro",
            "Cyprus",
            "Belarus",
            "Seychelles",
            "Grenada",
            "Greenland",
            "Sierra Leone",
            "Greece",
            "Singapore",
            "Czechia",
            "Barbados",
            "Tunisia",
            "Panama",
            "Gibraltar",
            "Bahamas",
            "French Guiana",
            "St. Kitts-Nevis",
            "Denmark",
            "Ethiopia",
            "Sweden",
            "Estonia",
            "Togo",
            "Switzerland",
            "Eritrea",
            "Dominican Republic",
            "Aruba",
            "Syrian Arab Republic",
            "Equatorial Guinea",
            "T.F.Yug.Rep. Macedonia",
            "El Salvador",
            "Afghanistan",
            "Tajikistan",
            "Ecuador",
            "Armenia",
            "Egypt",
            "Australia",
            "Guam",
            "Dominica",
            "Zimbabwe",
            "St. Lucia",
            "Argentina",
            "France",
            "Azerbaijan",
            "Zambia",
            "St. Pierre-Miquelon",
            "Finland",
            "St. Vincent-Grenadines",
            "Djibouti",
            "State of Palestine",
            "Fiji",
            "Falkland Is. (Malvinas)",
            "Austria",
            "Tonga",
            "Sudan (former)",
            "Faeroe Islands",
            "Suriname",
            "Swaziland",
            "Saudi Arabia",
            "Andorra",
            "Belgium",
            "Réunion",
            "Iraq",
            "Qatar",
            "Venezuela (Bolivar. Rep.)",
            "Bhutan",
            "Guyana",
            "Peru",
            "Vanuatu",
            "Costa Rica",
            "Rwanda",
            "Cook Islands",
            "Croatia",
            "India",
            "Russian Federation",
            "Poland",
            "Hungary",
            "Benin",
            "Haiti",
            "Republic of Moldova",
            "Romania",
            "Indonesia",
            "Iran (Islamic Rep. of)",
            "Philippines",
            "Turkmenistan",
            "Turks and Caicos Islands",
            "Bolivia (Plur. State of)",
            "Belize",
            "Israel",
            "Guatemala",
            "Anguilla",
            "Algeria",
            "Portugal",
            "Sao Tome and Principe",
            "Papua New Guinea",
            "Cuba",
            "Guinea-Bissau",
            "Iceland",
            "Samoa",
            "Ireland",
            "Honduras",
            "Guinea",
            "Antigua and Barbuda",
            "Congo",
            "Paraguay",
            "Bermuda",
            "Turkey"
           ],
           "locations": [
            "CYM",
            "BIH",
            "MYS",
            "JEY",
            "MYT",
            "NOR",
            "ITA",
            "MHL",
            "CAN",
            "OMN",
            "MUS",
            "JAM",
            "@@@",
            "CMR",
            "PAK",
            "MLI",
            "TUV",
            "UZB",
            "MLT",
            "BWA",
            "MRT",
            "MDV",
            "JPN",
            "COL",
            "PLW",
            "TZA",
            "COM",
            "MTQ",
            "NRU",
            "NGA",
            "KHM",
            "BRN",
            "ASM",
            "LBY",
            "UKR",
            "BDI",
            "KOR",
            "NCL",
            "KWT",
            "MOZ",
            "LBR",
            "NLD",
            "CHN",
            "MMR",
            "LBN",
            "BGR",
            "KGZ",
            "@@@",
            "NAM",
            "AGO",
            "LAO",
            "NPL",
            "VIR",
            "CHL",
            "BFA",
            "LVA",
            "ARE",
            "TCD",
            "NZL",
            "MAR",
            "MWI",
            "BRA",
            "KAZ",
            "MNP",
            "GBR",
            "MAC",
            "MEX",
            "NIU",
            "MDG",
            "UGA",
            "FSM",
            "URY",
            "JOR",
            "CAF",
            "MNG",
            "VGB",
            "CPV",
            "KIR",
            "NER",
            "LUX",
            "USA",
            "PRK",
            "MSR",
            "NIC",
            "HKG",
            "LTU",
            "KEN",
            "THA",
            "PRI",
            "SVK",
            "CIV",
            "SLB",
            "DEU",
            "SOM",
            "GEO",
            "ZAF",
            "GMB",
            "BGD",
            "YEM",
            "TTO",
            "ESP",
            "COD",
            "LKA",
            "GAB",
            "SHN",
            "PYF",
            "BHR",
            "ALB",
            "GHA",
            "SVN",
            "SEN",
            "GLP",
            "VNM",
            "SRB",
            "CYP",
            "BLR",
            "SYC",
            "GRD",
            "GRL",
            "SLE",
            "GRC",
            "SGP",
            "CZE",
            "BRB",
            "TUN",
            "PAN",
            "GIB",
            "BHS",
            "GUF",
            "KNA",
            "DNK",
            "ETH",
            "SWE",
            "EST",
            "TGO",
            "CHE",
            "ERI",
            "DOM",
            "ABW",
            "SYR",
            "GNQ",
            "MKD",
            "SLV",
            "AFG",
            "TJK",
            "ECU",
            "ARM",
            "EGY",
            "AUS",
            "GUM",
            "DMA",
            "ZWE",
            "LCA",
            "ARG",
            "FRA",
            "AZE",
            "ZMB",
            "SPM",
            "FIN",
            "VCT",
            "DJI",
            "PSE",
            "FJI",
            "MDV",
            "AUT",
            "TON",
            "SDN",
            "FRO",
            "SUR",
            "SWZ",
            "SAU",
            "AND",
            "BEL",
            "REU",
            "IRQ",
            "QAT",
            "VEN",
            "BTN",
            "GUY",
            "PER",
            "VUT",
            "CRI",
            "RWA",
            "COK",
            "HRV",
            "IND",
            "RUS",
            "POL",
            "HUN",
            "BEN",
            "HTI",
            "MDA",
            "ROU",
            "IDN",
            "IRN",
            "PHL",
            "TKM",
            "TCA",
            "BOL",
            "BLZ",
            "ISR",
            "GTM",
            "AIA",
            "DZA",
            "PRT",
            "STP",
            "PNG",
            "CUB",
            "GNB",
            "ISL",
            "WSM",
            "IRL",
            "HND",
            "GIN",
            "ATG",
            "COG",
            "PRY",
            "BMU",
            "TUR"
           ],
           "name": "",
           "type": "choropleth",
           "z": [
            0.32,
            7.34,
            53,
            0.2877,
            0.04,
            104.984,
            244.433,
            0.0792,
            573.04,
            6.802,
            1.273,
            6.038,
            156.685,
            2.963,
            56.946,
            0.335,
            0.0022,
            45.418,
            1.657,
            0.807,
            0.371832,
            0.063,
            990.148,
            44.866,
            0.101,
            2.053,
            0.021,
            1.019,
            0.032,
            16.243,
            0.329,
            2.123,
            0.143,
            12.086,
            181.986,
            0.12,
            205.382,
            1.485,
            26.005,
            0.425,
            0.28,
            85.423,
            1081.31,
            3.945,
            6.965,
            42.716,
            15.729,
            1.057,
            0.893,
            1.028,
            1.2908368,
            1.209,
            1.075,
            30.733,
            0.2735,
            3.124,
            26.572,
            0.09,
            36.473,
            12.407,
            0.987,
            291.244,
            58.657,
            0.35,
            350.869,
            1.372,
            157.691,
            0.003,
            0.6812142999999999,
            1.17,
            0.086,
            6.668,
            6.058,
            0.104,
            2.614,
            0.068,
            0.0881,
            0.0083,
            0.15241,
            1.256,
            3677.022,
            21.3,
            0.017,
            1.904,
            28.44,
            16.789,
            4.174,
            90.079,
            19.13,
            25.76,
            3.225,
            0.064,
            555.372,
            0.275,
            7.187,
            200.266,
            0.076,
            12.404,
            2.457,
            4.541,
            174.453,
            5.415,
            4.529,
            1.214,
            0.00625,
            0.335,
            5.016,
            5.926,
            6.631,
            13.057,
            1.016,
            1.143,
            16.944,
            38.093,
            2.609,
            23.728,
            0.13553,
            0.095,
            0.258,
            0.1442,
            42.567,
            23.458,
            64.257,
            0.65,
            7.837,
            3.887,
            0.11,
            1.34,
            0.45,
            0.1069,
            53.582,
            1.559,
            140.662,
            9.103,
            0.289,
            57.5,
            0.193,
            6.615,
            0.642,
            17.278,
            0.031,
            6.458,
            3.452,
            0.675,
            15,
            9.34,
            6.215,
            54.898,
            177.598,
            1.8112,
            0.06,
            7.819,
            0.198,
            69.902,
            513.398,
            17.088,
            7.171,
            0.042,
            69.373,
            0.076,
            0.185,
            0.043,
            0.591,
            0.012,
            54.88,
            0.0297,
            1.547,
            0.182,
            1.4092,
            0.425,
            103.353,
            0.11,
            76.099,
            1.386,
            29.05,
            6.575,
            75.588,
            1.972,
            0.6879,
            17.28,
            0.035,
            4.894,
            0.154,
            0.02,
            11.173,
            436.879,
            847.183,
            143.173,
            35.09,
            0.048,
            0.633,
            6.117,
            61.35,
            78.117,
            90.851,
            33.352,
            10.12,
            0.0388,
            3.279,
            0.152,
            32.531,
            3.696,
            0.0246,
            20.654,
            34.521,
            0.019,
            1.759,
            13.236,
            0.051,
            5.123,
            0.074,
            19.18,
            2.985,
            0.628,
            0.109,
            0.357,
            44.818,
            0.525,
            94.862
           ]
          }
         ],
         "name": "1996"
        },
        {
         "data": [
          {
           "coloraxis": "coloraxis",
           "customdata": [
            [
             84.096
            ],
            [
             0.012
            ],
            [
             1015.022
            ],
            [
             0.02
            ],
            [
             46.378
            ],
            [
             7.941
            ],
            [
             21.489
            ],
            [
             0.7343105
            ],
            [
             0.609998
            ],
            [
             0.187
            ],
            [
             0.183
            ],
            [
             0.104
            ],
            [
             58.675
            ],
            [
             0.066
            ],
            [
             57.075
            ],
            [
             573.711
            ],
            [
             10.362
            ],
            [
             0.023
            ],
            [
             19.953
            ],
            [
             0.391
            ],
            [
             3.643
            ],
            [
             46.054
            ],
            [
             0.67
            ],
            [
             0.071
            ],
            [
             0.027
            ],
            [
             0.035
            ],
            [
             0.459
            ],
            [
             251.473
            ],
            [
             29.561
            ],
            [
             1.775
            ],
            [
             0.214
            ],
            [
             9.218
            ],
            [
             0.36
            ],
            [
             7.35
            ],
            [
             97.744
            ],
            [
             6.255
            ],
            [
             1.62
            ],
            [
             1.086
            ],
            [
             7.236
            ],
            [
             69.176
            ],
            [
             6.264
            ],
            [
             1.26
            ],
            [
             1.079
            ],
            [
             6.904
            ],
            [
             1.2617388
            ],
            [
             4.244
            ],
            [
             0.111
            ],
            [
             0.055966
            ],
            [
             64.598
            ],
            [
             14.285
            ],
            [
             78.066
            ],
            [
             43.506
            ],
            [
             0.0109
            ],
            [
             0.643
            ],
            [
             0.792
            ],
            [
             1134.471
            ],
            [
             0.259
            ],
            [
             0.103
            ],
            [
             0.15
            ],
            [
             2.728
            ],
            [
             224.704
            ],
            [
             19.152
            ],
            [
             28.943
            ],
            [
             14.146
            ],
            [
             19.3
            ],
            [
             1.226
            ],
            [
             4.132
            ],
            [
             1.8338
            ],
            [
             27.254
            ],
            [
             5.184
            ],
            [
             10.248
            ],
            [
             4.501
            ],
            [
             0.2331
            ],
            [
             14.861
            ],
            [
             5.586
            ],
            [
             504.77
            ],
            [
             44.315
            ],
            [
             3697.728
            ],
            [
             12.62
            ],
            [
             35.397
            ],
            [
             0.45
            ],
            [
             0.09
            ],
            [
             7.147
            ],
            [
             0.344
            ],
            [
             5.589
            ],
            [
             1.256
            ],
            [
             5.423
            ],
            [
             0.294
            ],
            [
             2.557
            ],
            [
             2.429
            ],
            [
             52
            ],
            [
             8.515
            ],
            [
             1.409
            ],
            [
             0.08
            ],
            [
             0.633
            ],
            [
             7.163
            ],
            [
             551.554
            ],
            [
             3.983
            ],
            [
             33.297
            ],
            [
             465.825
            ],
            [
             35.1
            ],
            [
             0.376
            ],
            [
             86.523
            ],
            [
             2.407
            ],
            [
             37.109
            ],
            [
             25.347
            ],
            [
             1.887
            ],
            [
             8.486
            ],
            [
             0.678
            ],
            [
             26.188
            ],
            [
             0.15033
            ],
            [
             0.075
            ],
            [
             0.0964
            ],
            [
             1.258
            ],
            [
             16.117
            ],
            [
             0.1485
            ],
            [
             26.057
            ],
            [
             0.003
            ],
            [
             13.176
            ],
            [
             1.524
            ],
            [
             178.002
            ],
            [
             142.79
            ],
            [
             0.642
            ],
            [
             1.414
            ],
            [
             0.3062
            ],
            [
             0.00631
            ],
            [
             0.032
            ],
            [
             5.145
            ],
            [
             1.254
            ],
            [
             40.312
            ],
            [
             190.396
            ],
            [
             42.312
            ],
            [
             1.146
            ],
            [
             210.052
            ],
            [
             1.054
            ],
            [
             4.988
            ],
            [
             0.276
            ],
            [
             0.065
            ],
            [
             5.04
            ],
            [
             0.1171
            ],
            [
             307.98
            ],
            [
             1.17
            ],
            [
             1.625
            ],
            [
             57.148
            ],
            [
             5.274
            ],
            [
             0.032
            ],
            [
             50.855
            ],
            [
             9.498
            ],
            [
             6.869
            ],
            [
             3.472
            ],
            [
             0.53
            ],
            [
             17.951
            ],
            [
             1.685
            ],
            [
             20.005
            ],
            [
             36.715
            ],
            [
             34.208
            ],
            [
             0.0511
            ],
            [
             0.05
            ],
            [
             834.132
            ],
            [
             4.051
            ],
            [
             8.765
            ],
            [
             0.12
            ],
            [
             107.289
            ],
            [
             111.657
            ],
            [
             78.833
            ],
            [
             7.318
            ],
            [
             0.02
            ],
            [
             0.082
            ],
            [
             0.3516
            ],
            [
             0.0024
            ],
            [
             166.515
            ],
            [
             103.296
            ],
            [
             0.167
            ],
            [
             59.125
            ],
            [
             1.471
            ],
            [
             0.101
            ],
            [
             0.144
            ],
            [
             0.925
            ],
            [
             0.2131
            ],
            [
             12.82
            ],
            [
             167.493
            ],
            [
             0.0299
            ],
            [
             0.043
            ],
            [
             2.72
            ],
            [
             56.704
            ],
            [
             1.997
            ],
            [
             0.0932
            ],
            [
             1.4136
            ],
            [
             0.45
            ],
            [
             0.0868
            ],
            [
             4.445
            ],
            [
             182.939
            ],
            [
             350.666
            ],
            [
             0.144
            ],
            [
             0.018
            ],
            [
             149.249
            ],
            [
             63.092
            ],
            [
             1.398
            ],
            [
             0.675
            ],
            [
             18.154
            ],
            [
             0.371055
            ],
            [
             3.128
            ],
            [
             6.68
            ],
            [
             1.078774
            ],
            [
             14.005
            ],
            [
             6.022
            ],
            [
             0.0786
            ],
            [
             0.1
            ],
            [
             95.384
            ],
            [
             0.045
            ],
            [
             0.0802
            ],
            [
             1.838
            ],
            [
             16.836
            ],
            [
             13.892
            ],
            [
             73.015
            ],
            [
             1.005
            ],
            [
             0.043
            ],
            [
             0.122
            ],
            [
             28.464
            ]
           ],
           "geo": "geo",
           "hovertemplate": "<b>%{hovertext}</b><br><br>year=1997<br>ISO=%{location}<br>Electric Energy Production TWh=%{z}<extra></extra>",
           "hovertext": [
            "Indonesia",
            "Falkland Is. (Malvinas)",
            "Japan",
            "Cook Islands",
            "Colombia",
            "Zambia",
            "Algeria",
            "Madagascar",
            "Fiji",
            "Djibouti",
            "Faeroe Islands",
            "Central African Rep.",
            "Malaysia",
            "Dominica",
            "Egypt",
            "Canada",
            "Ecuador",
            "Comoros",
            "Ireland",
            "Mali",
            "El Salvador",
            "Uzbekistan",
            "Afghanistan",
            "Maldives",
            "Equatorial Guinea",
            "Vanuatu",
            "Congo",
            "Italy",
            "Iraq",
            "United Rep. of Tanzania",
            "Eritrea",
            "Estonia",
            "Cayman Islands",
            "Zimbabwe",
            "Iran (Islamic Rep. of)",
            "Jamaica",
            "Ethiopia",
            "Malawi",
            "Dominican Republic",
            "Finland",
            "Jordan",
            "Luxembourg",
            "United States Virgin Is.",
            "Ghana",
            "Lao People's Dem. Rep.",
            "Kenya",
            "Gibraltar",
            "Guinea-Bissau",
            "Czechia",
            "Kyrgyzstan",
            "Venezuela (Bolivar. Rep.)",
            "Greece",
            "Kiribati",
            "Guinea",
            "Guyana",
            "China",
            "Greenland",
            "Grenada",
            "American Samoa",
            "Cyprus",
            "Korea, Republic of",
            "Viet Nam",
            "China, Hong Kong SAR",
            "Cuba",
            "Korea, Dem.Ppl's.Rep.",
            "Guadeloupe",
            "Guatemala",
            "Guam",
            "Kuwait",
            "Albania",
            "Croatia",
            "Latvia",
            "Jersey",
            "Lithuania",
            "Iceland",
            "France",
            "Denmark",
            "United States",
            "Libya",
            "Hungary",
            "French Guiana",
            "Chad",
            "Uruguay",
            "French Polynesia",
            "Costa Rica",
            "Gabon",
            "Dem. Rep. of the Congo",
            "Liberia",
            "Yemen",
            "Honduras",
            "Kazakhstan",
            "Lebanon",
            "China, Macao SAR",
            "Gambia",
            "Haiti",
            "Georgia",
            "Germany",
            "Côte d'Ivoire",
            "Chile",
            "India",
            "Israel",
            "Cambodia",
            "Netherlands",
            "Brunei Darussalam",
            "New Zealand",
            "Slovakia",
            "Nicaragua",
            "Tunisia",
            "Barbados",
            "Singapore",
            "Niger",
            "British Virgin Islands",
            "Sierra Leone",
            "Uganda",
            "Nigeria",
            "Seychelles",
            "Belarus",
            "Niue",
            "Slovenia",
            "New Caledonia",
            "Ukraine",
            "Poland",
            "Namibia",
            "Bahamas",
            "Burkina Faso",
            "St. Helena and Depend.",
            "Nauru",
            "Sri Lanka",
            "Nepal",
            "Serbia and Montenegro",
            "Spain",
            "Bulgaria",
            "Angola",
            "South Africa",
            "Neth. Antilles (former)",
            "Trinidad and Tobago",
            "Somalia",
            "Solomon Islands",
            "Bahrain",
            "St. Kitts-Nevis",
            "Brazil",
            "Senegal",
            "Papua New Guinea",
            "Romania",
            "Republic of Moldova",
            "Anguilla",
            "Paraguay",
            "Turkmenistan",
            "Qatar",
            "Bolivia (Plur. State of)",
            "Bermuda",
            "Peru",
            "Malta",
            "Puerto Rico",
            "Philippines",
            "Portugal",
            "Turks and Caicos Islands",
            "Benin",
            "Russian Federation",
            "Panama",
            "Bosnia and Herzegovina",
            "Antigua and Barbuda",
            "Saudi Arabia",
            "Norway",
            "Belgium",
            "Oman",
            "Sao Tome and Principe",
            "Samoa",
            "Northern Mariana Islands",
            "Tuvalu",
            "Other Asia",
            "Turkey",
            "Belize",
            "Pakistan",
            "Réunion",
            "Palau",
            "Rwanda",
            "Botswana",
            "St. Lucia",
            "Bangladesh",
            "Mexico",
            "Tonga",
            "State of Palestine",
            "Mongolia",
            "Austria",
            "Sudan (former)",
            "Cabo Verde",
            "Suriname",
            "Swaziland",
            "Micronesia (Fed. States of)",
            "Myanmar",
            "Australia",
            "United Kingdom",
            "Togo",
            "Montserrat",
            "Sweden",
            "Switzerland",
            "Mauritius",
            "Aruba",
            "Syrian Arab Republic",
            "Mauritania",
            "Cameroon",
            "T.F.Yug.Rep. Macedonia",
            "Martinique",
            "Tajikistan",
            "Armenia",
            "Marshall Islands",
            "Andorra",
            "Thailand",
            "Mayotte",
            "St. Vincent-Grenadines",
            "Bhutan",
            "Azerbaijan",
            "Morocco",
            "Argentina",
            "Mozambique",
            "St. Pierre-Miquelon",
            "Burundi",
            "United Arab Emirates"
           ],
           "locations": [
            "IDN",
            "MDV",
            "JPN",
            "COK",
            "COL",
            "ZMB",
            "DZA",
            "MDG",
            "FJI",
            "DJI",
            "FRO",
            "CAF",
            "MYS",
            "DMA",
            "EGY",
            "CAN",
            "ECU",
            "COM",
            "IRL",
            "MLI",
            "SLV",
            "UZB",
            "AFG",
            "MDV",
            "GNQ",
            "VUT",
            "COG",
            "ITA",
            "IRQ",
            "TZA",
            "ERI",
            "EST",
            "CYM",
            "ZWE",
            "IRN",
            "JAM",
            "ETH",
            "MWI",
            "DOM",
            "FIN",
            "JOR",
            "LUX",
            "VIR",
            "GHA",
            "LAO",
            "KEN",
            "GIB",
            "GNB",
            "CZE",
            "KGZ",
            "VEN",
            "GRC",
            "KIR",
            "GIN",
            "GUY",
            "CHN",
            "GRL",
            "GRD",
            "ASM",
            "CYP",
            "KOR",
            "VNM",
            "HKG",
            "CUB",
            "PRK",
            "GLP",
            "GTM",
            "GUM",
            "KWT",
            "ALB",
            "HRV",
            "LVA",
            "JEY",
            "LTU",
            "ISL",
            "FRA",
            "DNK",
            "USA",
            "LBY",
            "HUN",
            "GUF",
            "TCD",
            "URY",
            "PYF",
            "CRI",
            "GAB",
            "COD",
            "LBR",
            "YEM",
            "HND",
            "KAZ",
            "LBN",
            "MAC",
            "GMB",
            "HTI",
            "GEO",
            "DEU",
            "CIV",
            "CHL",
            "IND",
            "ISR",
            "KHM",
            "NLD",
            "BRN",
            "NZL",
            "SVK",
            "NIC",
            "TUN",
            "BRB",
            "SGP",
            "NER",
            "VGB",
            "SLE",
            "UGA",
            "NGA",
            "SYC",
            "BLR",
            "NIU",
            "SVN",
            "NCL",
            "UKR",
            "POL",
            "NAM",
            "BHS",
            "BFA",
            "SHN",
            "NRU",
            "LKA",
            "NPL",
            "SRB",
            "ESP",
            "BGR",
            "AGO",
            "ZAF",
            "@@@",
            "TTO",
            "SOM",
            "SLB",
            "BHR",
            "KNA",
            "BRA",
            "SEN",
            "PNG",
            "ROU",
            "MDA",
            "AIA",
            "PRY",
            "TKM",
            "QAT",
            "BOL",
            "BMU",
            "PER",
            "MLT",
            "PRI",
            "PHL",
            "PRT",
            "TCA",
            "BEN",
            "RUS",
            "PAN",
            "BIH",
            "ATG",
            "SAU",
            "NOR",
            "BEL",
            "OMN",
            "STP",
            "WSM",
            "MNP",
            "TUV",
            "@@@",
            "TUR",
            "BLZ",
            "PAK",
            "REU",
            "PLW",
            "RWA",
            "BWA",
            "LCA",
            "BGD",
            "MEX",
            "TON",
            "PSE",
            "MNG",
            "AUT",
            "SDN",
            "CPV",
            "SUR",
            "SWZ",
            "FSM",
            "MMR",
            "AUS",
            "GBR",
            "TGO",
            "MSR",
            "SWE",
            "CHE",
            "MUS",
            "ABW",
            "SYR",
            "MRT",
            "CMR",
            "MKD",
            "MTQ",
            "TJK",
            "ARM",
            "MHL",
            "AND",
            "THA",
            "MYT",
            "VCT",
            "BTN",
            "AZE",
            "MAR",
            "ARG",
            "MOZ",
            "SPM",
            "BDI",
            "ARE"
           ],
           "name": "",
           "type": "choropleth",
           "z": [
            84.096,
            0.012,
            1015.022,
            0.02,
            46.378,
            7.941,
            21.489,
            0.7343105,
            0.609998,
            0.187,
            0.183,
            0.104,
            58.675,
            0.066,
            57.075,
            573.711,
            10.362,
            0.023,
            19.953,
            0.391,
            3.643,
            46.054,
            0.67,
            0.071,
            0.027,
            0.035,
            0.459,
            251.473,
            29.561,
            1.775,
            0.214,
            9.218,
            0.36,
            7.35,
            97.744,
            6.255,
            1.62,
            1.086,
            7.236,
            69.176,
            6.264,
            1.26,
            1.079,
            6.904,
            1.2617388,
            4.244,
            0.111,
            0.055966,
            64.598,
            14.285,
            78.066,
            43.506,
            0.0109,
            0.643,
            0.792,
            1134.471,
            0.259,
            0.103,
            0.15,
            2.728,
            224.704,
            19.152,
            28.943,
            14.146,
            19.3,
            1.226,
            4.132,
            1.8338,
            27.254,
            5.184,
            10.248,
            4.501,
            0.2331,
            14.861,
            5.586,
            504.77,
            44.315,
            3697.728,
            12.62,
            35.397,
            0.45,
            0.09,
            7.147,
            0.344,
            5.589,
            1.256,
            5.423,
            0.294,
            2.557,
            2.429,
            52,
            8.515,
            1.409,
            0.08,
            0.633,
            7.163,
            551.554,
            3.983,
            33.297,
            465.825,
            35.1,
            0.376,
            86.523,
            2.407,
            37.109,
            25.347,
            1.887,
            8.486,
            0.678,
            26.188,
            0.15033,
            0.075,
            0.0964,
            1.258,
            16.117,
            0.1485,
            26.057,
            0.003,
            13.176,
            1.524,
            178.002,
            142.79,
            0.642,
            1.414,
            0.3062,
            0.00631,
            0.032,
            5.145,
            1.254,
            40.312,
            190.396,
            42.312,
            1.146,
            210.052,
            1.054,
            4.988,
            0.276,
            0.065,
            5.04,
            0.1171,
            307.98,
            1.17,
            1.625,
            57.148,
            5.274,
            0.032,
            50.855,
            9.498,
            6.869,
            3.472,
            0.53,
            17.951,
            1.685,
            20.005,
            36.715,
            34.208,
            0.0511,
            0.05,
            834.132,
            4.051,
            8.765,
            0.12,
            107.289,
            111.657,
            78.833,
            7.318,
            0.02,
            0.082,
            0.3516,
            0.0024,
            166.515,
            103.296,
            0.167,
            59.125,
            1.471,
            0.101,
            0.144,
            0.925,
            0.2131,
            12.82,
            167.493,
            0.0299,
            0.043,
            2.72,
            56.704,
            1.997,
            0.0932,
            1.4136,
            0.45,
            0.0868,
            4.445,
            182.939,
            350.666,
            0.144,
            0.018,
            149.249,
            63.092,
            1.398,
            0.675,
            18.154,
            0.371055,
            3.128,
            6.68,
            1.078774,
            14.005,
            6.022,
            0.0786,
            0.1,
            95.384,
            0.045,
            0.0802,
            1.838,
            16.836,
            13.892,
            73.015,
            1.005,
            0.043,
            0.122,
            28.464
           ]
          }
         ],
         "name": "1997"
        },
        {
         "data": [
          {
           "coloraxis": "coloraxis",
           "customdata": [
            [
             0.854
            ],
            [
             0.034
            ],
            [
             11.462
            ],
            [
             0.276
            ],
            [
             0.665
            ],
            [
             1.532
            ],
            [
             17.998
            ],
            [
             0.079
            ],
            [
             827.158
            ],
            [
             0.378576
            ],
            [
             111.022
            ],
            [
             53.496
            ],
            [
             0.0242
            ],
            [
             2.912
            ],
            [
             7.693
            ],
            [
             0.159
            ],
            [
             0.73
            ],
            [
             63.47
            ],
            [
             0.801
            ],
            [
             5.683
            ],
            [
             0.195
            ],
            [
             1.566
            ],
            [
             6.583
            ],
            [
             0.13
            ],
            [
             0.663
            ],
            [
             3.837
            ],
            [
             82.004
            ],
            [
             0.1254
            ],
            [
             142.789
            ],
            [
             0.02
            ],
            [
             496.924
            ],
            [
             0.2359
            ],
            [
             0.00663
            ],
            [
             38.984
            ],
            [
             0.0296
            ],
            [
             6.281
            ],
            [
             19.396
            ],
            [
             10.89
            ],
            [
             6.191
            ],
            [
             21.159
            ],
            [
             0.53
            ],
            [
             14.422
            ],
            [
             9.416
            ],
            [
             511.276
            ],
            [
             59.593
            ],
            [
             8.122
            ],
            [
             5.387
            ],
            [
             0.453
            ],
            [
             88.5457
            ],
            [
             7.048
            ],
            [
             0.035
            ],
            [
             3.414
            ],
            [
             3.1
            ],
            [
             37.19
            ],
            [
             0.083
            ],
            [
             1.343
            ],
            [
             14.149
            ],
            [
             0.1103
            ],
            [
             8.64
            ],
            [
             205.375
            ],
            [
             0.191
            ],
            [
             0.747
            ],
            [
             0.087
            ],
            [
             65.112
            ],
            [
             74.456
            ],
            [
             29.022
            ],
            [
             0.116
            ],
            [
             57.001
            ],
            [
             0.015
            ],
            [
             1.966
            ],
            [
             0.06
            ],
            [
             5.068
            ],
            [
             5.017
            ],
            [
             0.630988
            ],
            [
             13.728
            ],
            [
             556.393
            ],
            [
             12.882
            ],
            [
             7.603
            ],
            [
             0.187
            ],
            [
             0.0852
            ],
            [
             4.05
            ],
            [
             0.0668
            ],
            [
             5.169
            ],
            [
             26.032
            ],
            [
             158.831
            ],
            [
             46.329
            ],
            [
             0.26
            ],
            [
             7.671
            ],
            [
             4.456
            ],
            [
             0.022
            ],
            [
             83.183
            ],
            [
             4.732
            ],
            [
             8.521
            ],
            [
             1.857
            ],
            [
             107.521
            ],
            [
             0.4515
            ],
            [
             1.23
            ],
            [
             0.301
            ],
            [
             1.242
            ],
            [
             5.773
            ],
            [
             0.13
            ],
            [
             1.648
            ],
            [
             195.209
            ],
            [
             37.808
            ],
            [
             23.492
            ],
            [
             2.991
            ],
            [
             0.10778
            ],
            [
             0.07
            ],
            [
             195.369
            ],
            [
             0.1592
            ],
            [
             0.043
            ],
            [
             1.4214
            ],
            [
             21.688
            ],
            [
             70.167
            ],
            [
             41.113
            ],
            [
             1.721
            ],
            [
             23.615
            ],
            [
             1.801
            ],
            [
             1.318
            ],
            [
             29.984
            ],
            [
             0.156
            ],
            [
             1166.2
            ],
            [
             1.116
            ],
            [
             217.889
            ],
            [
             41.711
            ],
            [
             1.02
            ],
            [
             1.25
            ],
            [
             2.3336194
            ],
            [
             0.032
            ],
            [
             5.797
            ],
            [
             35.509
            ],
            [
             12.455
            ],
            [
             1.591
            ],
            [
             2.807
            ],
            [
             17
            ],
            [
             0.3703
            ],
            [
             6.745
            ],
            [
             321.748
            ],
            [
             52.745
            ],
            [
             1.539
            ],
            [
             0.003
            ],
            [
             15.111
            ],
            [
             1.2742
            ],
            [
             4.423
            ],
            [
             0.078
            ],
            [
             0.14601
            ],
            [
             0.0105
            ],
            [
             2.153
            ],
            [
             31.414
            ],
            [
             37.612
            ],
            [
             172.822
            ],
            [
             0.3381
            ],
            [
             1.019
            ],
            [
             4.139
            ],
            [
             1.149
            ],
            [
             2.245
            ],
            [
             0.051
            ],
            [
             362.703
            ],
            [
             60.671
            ],
            [
             0.395
            ],
            [
             1.539
            ],
            [
             0.388804
            ],
            [
             0.081
            ],
            [
             3.168
            ],
            [
             1.081605
            ],
            [
             0.723
            ],
            [
             0.09
            ],
            [
             0.081
            ],
            [
             561.76
            ],
            [
             0.35
            ],
            [
             9.569
            ],
            [
             0.7844201000000001
            ],
            [
             0.0896
            ],
            [
             10.244
            ],
            [
             6.864
            ],
            [
             0.3
            ],
            [
             0.112
            ],
            [
             0.091
            ],
            [
             13.774
            ],
            [
             3830.489
            ],
            [
             13.528
            ],
            [
             0.015
            ],
            [
             33.392
            ],
            [
             17.631
            ],
            [
             2.765
            ],
            [
             1.295
            ],
            [
             0.104
            ],
            [
             0.1016
            ],
            [
             182.304
            ],
            [
             0.256
            ],
            [
             91.115
            ],
            [
             6.48
            ],
            [
             1.092
            ],
            [
             1020.247
            ],
            [
             50.87374
            ],
            [
             18.582
            ],
            [
             0.344
            ],
            [
             2.174
            ],
            [
             9.077
            ],
            [
             0.101
            ],
            [
             45.9
            ],
            [
             45.96
            ],
            [
             0.0535
            ],
            [
             21.151
            ],
            [
             8.2
            ],
            [
             103.438
            ],
            [
             0.025
            ],
            [
             0.0343
            ],
            [
             37.955
            ],
            [
             0.0025
            ],
            [
             117.008
            ],
            [
             62.104
            ],
            [
             163.186
            ],
            [
             259.8
            ],
            [
             76.017
            ],
            [
             38.404
            ],
            [
             3.71
            ],
            [
             4.191
            ],
            [
             32.045
            ]
           ],
           "geo": "geo",
           "hovertemplate": "<b>%{hovertext}</b><br><br>year=1998<br>ISO=%{location}<br>Electric Energy Production TWh=%{z}<extra></extra>",
           "hovertext": [
            "Guyana",
            "Equatorial Guinea",
            "Croatia",
            "Somalia",
            "Afghanistan",
            "Bahamas",
            "Azerbaijan",
            "Benin",
            "Russian Federation",
            "French Polynesia",
            "Turkey",
            "Romania",
            "Guinea-Bissau",
            "Yemen",
            "Dominican Republic",
            "Belize",
            "Aruba",
            "Switzerland",
            "Guinea",
            "Sri Lanka",
            "Eritrea",
            "Réunion",
            "Zimbabwe",
            "Rwanda",
            "Haiti",
            "El Salvador",
            "Venezuela (Bolivar. Rep.)",
            "St. Kitts-Nevis",
            "Poland",
            "Cook Islands",
            "India",
            "St. Lucia",
            "St. Helena and Depend.",
            "Portugal",
            "Tonga",
            "Iceland",
            "Puerto Rico",
            "Ecuador",
            "Armenia",
            "Syrian Arab Republic",
            "Bermuda",
            "Tajikistan",
            "Turkmenistan",
            "France",
            "Egypt",
            "Qatar",
            "Costa Rica",
            "French Guiana",
            "Thailand",
            "T.F.Yug.Rep. Macedonia",
            "Vanuatu",
            "Honduras",
            "Republic of Moldova",
            "Hungary",
            "Samoa",
            "Gabon",
            "Cuba",
            "Sierra Leone",
            "Tunisia",
            "South Africa",
            "Faeroe Islands",
            "Barbados",
            "Gambia",
            "Czechia",
            "Argentina",
            "Singapore",
            "Gibraltar",
            "Austria",
            "Falkland Is. (Malvinas)",
            "Sudan (former)",
            "State of Palestine",
            "Albania",
            "Ghana",
            "Fiji",
            "Slovenia",
            "Germany",
            "Bangladesh",
            "Zambia",
            "Djibouti",
            "St. Vincent-Grenadines",
            "Côte d'Ivoire",
            "Solomon Islands",
            "Trinidad and Tobago",
            "Slovakia",
            "Sweden",
            "Greece",
            "Greenland",
            "Georgia",
            "Guatemala",
            "Sao Tome and Principe",
            "Belgium",
            "Dem. Rep. of the Congo",
            "Estonia",
            "Guam",
            "Saudi Arabia",
            "Swaziland",
            "Guadeloupe",
            "Togo",
            "Senegal",
            "Bahrain",
            "Antigua and Barbuda",
            "Ethiopia",
            "Spain",
            "Serbia and Montenegro",
            "Belarus",
            "Cyprus",
            "Grenada",
            "Dominica",
            "Australia",
            "Seychelles",
            "St. Pierre-Miquelon",
            "Suriname",
            "Viet Nam",
            "Finland",
            "Denmark",
            "Malta",
            "Algeria",
            "Bhutan",
            "Angola",
            "Kuwait",
            "American Samoa",
            "China",
            "Neth. Antilles (former)",
            "Korea, Republic of",
            "Bulgaria",
            "United States Virgin Is.",
            "Nepal",
            "Lao People's Dem. Rep.",
            "Nauru",
            "Latvia",
            "Chile",
            "Kyrgyzstan",
            "New Caledonia",
            "Brunei Darussalam",
            "Korea, Dem.Ppl's.Rep.",
            "Northern Mariana Islands",
            "Jordan",
            "Brazil",
            "Kazakhstan",
            "China, Macao SAR",
            "Niue",
            "Nigeria",
            "Uganda",
            "Kenya",
            "British Virgin Islands",
            "Niger",
            "Kiribati",
            "Nicaragua",
            "China, Hong Kong SAR",
            "New Zealand",
            "Ukraine",
            "Burkina Faso",
            "Namibia",
            "Myanmar",
            "Malawi",
            "United Rep. of Tanzania",
            "Mayotte",
            "United Kingdom",
            "Malaysia",
            "Cayman Islands",
            "Mauritius",
            "Mauritania",
            "Maldives",
            "Cameroon",
            "Martinique",
            "Mali",
            "Andorra",
            "Marshall Islands",
            "Canada",
            "Cambodia",
            "Uruguay",
            "Madagascar",
            "Micronesia (Fed. States of)",
            "Lebanon",
            "Mozambique",
            "Liberia",
            "Burundi",
            "Chad",
            "Morocco",
            "United States",
            "Libya",
            "Montserrat",
            "United Arab Emirates",
            "Lithuania",
            "Mongolia",
            "Luxembourg",
            "Central African Rep.",
            "Cabo Verde",
            "Mexico",
            "Jersey",
            "Netherlands",
            "Jamaica",
            "Botswana",
            "Japan",
            "Paraguay",
            "Peru",
            "Congo",
            "Papua New Guinea",
            "Bosnia and Herzegovina",
            "Palau",
            "Uzbekistan",
            "Colombia",
            "Turks and Caicos Islands",
            "Ireland",
            "Oman",
            "Iran (Islamic Rep. of)",
            "Comoros",
            "Anguilla",
            "Israel",
            "Tuvalu",
            "Norway",
            "Pakistan",
            "Other Asia",
            "Italy",
            "Indonesia",
            "Philippines",
            "Bolivia (Plur. State of)",
            "Panama",
            "Iraq"
           ],
           "locations": [
            "GUY",
            "GNQ",
            "HRV",
            "SOM",
            "AFG",
            "BHS",
            "AZE",
            "BEN",
            "RUS",
            "PYF",
            "TUR",
            "ROU",
            "GNB",
            "YEM",
            "DOM",
            "BLZ",
            "ABW",
            "CHE",
            "GIN",
            "LKA",
            "ERI",
            "REU",
            "ZWE",
            "RWA",
            "HTI",
            "SLV",
            "VEN",
            "KNA",
            "POL",
            "COK",
            "IND",
            "LCA",
            "SHN",
            "PRT",
            "TON",
            "ISL",
            "PRI",
            "ECU",
            "ARM",
            "SYR",
            "BMU",
            "TJK",
            "TKM",
            "FRA",
            "EGY",
            "QAT",
            "CRI",
            "GUF",
            "THA",
            "MKD",
            "VUT",
            "HND",
            "MDA",
            "HUN",
            "WSM",
            "GAB",
            "CUB",
            "SLE",
            "TUN",
            "ZAF",
            "FRO",
            "BRB",
            "GMB",
            "CZE",
            "ARG",
            "SGP",
            "GIB",
            "AUT",
            "MDV",
            "SDN",
            "PSE",
            "ALB",
            "GHA",
            "FJI",
            "SVN",
            "DEU",
            "BGD",
            "ZMB",
            "DJI",
            "VCT",
            "CIV",
            "SLB",
            "TTO",
            "SVK",
            "SWE",
            "GRC",
            "GRL",
            "GEO",
            "GTM",
            "STP",
            "BEL",
            "COD",
            "EST",
            "GUM",
            "SAU",
            "SWZ",
            "GLP",
            "TGO",
            "SEN",
            "BHR",
            "ATG",
            "ETH",
            "ESP",
            "SRB",
            "BLR",
            "CYP",
            "GRD",
            "DMA",
            "AUS",
            "SYC",
            "SPM",
            "SUR",
            "VNM",
            "FIN",
            "DNK",
            "MLT",
            "DZA",
            "BTN",
            "AGO",
            "KWT",
            "ASM",
            "CHN",
            "@@@",
            "KOR",
            "BGR",
            "VIR",
            "NPL",
            "LAO",
            "NRU",
            "LVA",
            "CHL",
            "KGZ",
            "NCL",
            "BRN",
            "PRK",
            "MNP",
            "JOR",
            "BRA",
            "KAZ",
            "MAC",
            "NIU",
            "NGA",
            "UGA",
            "KEN",
            "VGB",
            "NER",
            "KIR",
            "NIC",
            "HKG",
            "NZL",
            "UKR",
            "BFA",
            "NAM",
            "MMR",
            "MWI",
            "TZA",
            "MYT",
            "GBR",
            "MYS",
            "CYM",
            "MUS",
            "MRT",
            "MDV",
            "CMR",
            "MTQ",
            "MLI",
            "AND",
            "MHL",
            "CAN",
            "KHM",
            "URY",
            "MDG",
            "FSM",
            "LBN",
            "MOZ",
            "LBR",
            "BDI",
            "TCD",
            "MAR",
            "USA",
            "LBY",
            "MSR",
            "ARE",
            "LTU",
            "MNG",
            "LUX",
            "CAF",
            "CPV",
            "MEX",
            "JEY",
            "NLD",
            "JAM",
            "BWA",
            "JPN",
            "PRY",
            "PER",
            "COG",
            "PNG",
            "BIH",
            "PLW",
            "UZB",
            "COL",
            "TCA",
            "IRL",
            "OMN",
            "IRN",
            "COM",
            "AIA",
            "ISR",
            "TUV",
            "NOR",
            "PAK",
            "@@@",
            "ITA",
            "IDN",
            "PHL",
            "BOL",
            "PAN",
            "IRQ"
           ],
           "name": "",
           "type": "choropleth",
           "z": [
            0.854,
            0.034,
            11.462,
            0.276,
            0.665,
            1.532,
            17.998,
            0.079,
            827.158,
            0.378576,
            111.022,
            53.496,
            0.0242,
            2.912,
            7.693,
            0.159,
            0.73,
            63.47,
            0.801,
            5.683,
            0.195,
            1.566,
            6.583,
            0.13,
            0.663,
            3.837,
            82.004,
            0.1254,
            142.789,
            0.02,
            496.924,
            0.2359,
            0.00663,
            38.984,
            0.0296,
            6.281,
            19.396,
            10.89,
            6.191,
            21.159,
            0.53,
            14.422,
            9.416,
            511.276,
            59.593,
            8.122,
            5.387,
            0.453,
            88.5457,
            7.048,
            0.035,
            3.414,
            3.1,
            37.19,
            0.083,
            1.343,
            14.149,
            0.1103,
            8.64,
            205.375,
            0.191,
            0.747,
            0.087,
            65.112,
            74.456,
            29.022,
            0.116,
            57.001,
            0.015,
            1.966,
            0.06,
            5.068,
            5.017,
            0.630988,
            13.728,
            556.393,
            12.882,
            7.603,
            0.187,
            0.0852,
            4.05,
            0.0668,
            5.169,
            26.032,
            158.831,
            46.329,
            0.26,
            7.671,
            4.456,
            0.022,
            83.183,
            4.732,
            8.521,
            1.857,
            107.521,
            0.4515,
            1.23,
            0.301,
            1.242,
            5.773,
            0.13,
            1.648,
            195.209,
            37.808,
            23.492,
            2.991,
            0.10778,
            0.07,
            195.369,
            0.1592,
            0.043,
            1.4214,
            21.688,
            70.167,
            41.113,
            1.721,
            23.615,
            1.801,
            1.318,
            29.984,
            0.156,
            1166.2,
            1.116,
            217.889,
            41.711,
            1.02,
            1.25,
            2.3336194,
            0.032,
            5.797,
            35.509,
            12.455,
            1.591,
            2.807,
            17,
            0.3703,
            6.745,
            321.748,
            52.745,
            1.539,
            0.003,
            15.111,
            1.2742,
            4.423,
            0.078,
            0.14601,
            0.0105,
            2.153,
            31.414,
            37.612,
            172.822,
            0.3381,
            1.019,
            4.139,
            1.149,
            2.245,
            0.051,
            362.703,
            60.671,
            0.395,
            1.539,
            0.388804,
            0.081,
            3.168,
            1.081605,
            0.723,
            0.09,
            0.081,
            561.76,
            0.35,
            9.569,
            0.7844201000000001,
            0.0896,
            10.244,
            6.864,
            0.3,
            0.112,
            0.091,
            13.774,
            3830.489,
            13.528,
            0.015,
            33.392,
            17.631,
            2.765,
            1.295,
            0.104,
            0.1016,
            182.304,
            0.256,
            91.115,
            6.48,
            1.092,
            1020.247,
            50.87374,
            18.582,
            0.344,
            2.174,
            9.077,
            0.101,
            45.9,
            45.96,
            0.0535,
            21.151,
            8.2,
            103.438,
            0.025,
            0.0343,
            37.955,
            0.0025,
            117.008,
            62.104,
            163.186,
            259.8,
            76.017,
            38.404,
            3.71,
            4.191,
            32.045
           ]
          }
         ],
         "name": "1998"
        },
        {
         "data": [
          {
           "coloraxis": "coloraxis",
           "customdata": [
            [
             0.16
            ],
            [
             0.202
            ],
            [
             2.423
            ],
            [
             51.9601
            ],
            [
             8.584
            ],
            [
             1.022
            ],
            [
             37.126
            ],
            [
             0.2698
            ],
            [
             2.303
            ],
            [
             0.015
            ],
            [
             0.2562
            ],
            [
             0.04421
            ],
            [
             0.2
            ],
            [
             3897.518
            ],
            [
             69.457
            ],
            [
             45.3
            ],
            [
             1.146
            ],
            [
             13.475
            ],
            [
             2.93
            ],
            [
             0.043
            ],
            [
             0.698991
            ],
            [
             3.184
            ],
            [
             14.407
            ],
            [
             0.015
            ],
            [
             0.0895
            ],
            [
             32.678
            ],
            [
             13.535
            ],
            [
             7.764
            ],
            [
             22.009
            ],
            [
             0.0901
            ],
            [
             0.8332945
            ],
            [
             0.312
            ],
            [
             0.3626
            ],
            [
             43.287
            ],
            [
             22.816
            ],
            [
             97.6378
            ],
            [
             3.792
            ],
            [
             0.093
            ],
            [
             1.134297
            ],
            [
             6.863
            ],
            [
             95.944
            ],
            [
             65.171
            ],
            [
             536.452
            ],
            [
             0.756
            ],
            [
             142.128
            ],
            [
             15.797
            ],
            [
             0.0796
            ],
            [
             41.328
            ],
            [
             1.854
            ],
            [
             0.04
            ],
            [
             65.189
            ],
            [
             368.152
            ],
            [
             19.049672
            ],
            [
             191.51
            ],
            [
             1.653
            ],
            [
             0.698
            ],
            [
             2.381
            ],
            [
             0.064
            ],
            [
             0.4545
            ],
            [
             8.268
            ],
            [
             37.832
            ],
            [
             1.4398
            ],
            [
             0.0640999999999999
            ],
            [
             22.073
            ],
            [
             0.214
            ],
            [
             112.657
            ],
            [
             154.86
            ],
            [
             7.091
            ],
            [
             7.188
            ],
            [
             69.69
            ],
            [
             1.584
            ],
            [
             1.184
            ],
            [
             525.806
            ],
            [
             4.639
            ],
            [
             0.3864
            ],
            [
             49.632
            ],
            [
             4.745
            ],
            [
             8.413
            ],
            [
             0.0729
            ],
            [
             1037.277
            ],
            [
             0.0129
            ],
            [
             1.3832
            ],
            [
             2.148
            ],
            [
             1.57
            ],
            [
             0.12
            ],
            [
             37.817
            ],
            [
             30.259
            ],
            [
             6.609
            ],
            [
             0.817
            ],
            [
             18.6
            ],
            [
             5.929
            ],
            [
             28.407
            ],
            [
             23.559
            ],
            [
             0.085
            ],
            [
             9.526
            ],
            [
             0.17467
            ],
            [
             115.42
            ],
            [
             0.0027
            ],
            [
             1.233
            ],
            [
             0.3752
            ],
            [
             122.717
            ],
            [
             0.028
            ],
            [
             1.596
            ],
            [
             7.081
            ],
            [
             1.62
            ],
            [
             7.193
            ],
            [
             33.41
            ],
            [
             5.186
            ],
            [
             0.11667
            ],
            [
             80.588
            ],
            [
             16.089
            ],
            [
             47.498
            ],
            [
             0.15235
            ],
            [
             0.2604
            ],
            [
             0.003
            ],
            [
             7.707
            ],
            [
             13.262
            ],
            [
             169.473
            ],
            [
             0.1
            ],
            [
             1.209
            ],
            [
             6.185
            ],
            [
             0.0338
            ],
            [
             0.365
            ],
            [
             4.11
            ],
            [
             0.86679
            ],
            [
             39.215
            ],
            [
             3.136
            ],
            [
             0.43
            ],
            [
             50.71
            ],
            [
             172.12
            ],
            [
             1.9037
            ],
            [
             0.00661
            ],
            [
             4.58
            ],
            [
             0.1318
            ],
            [
             10.077
            ],
            [
             1.328
            ],
            [
             0.033
            ],
            [
             846.226
            ],
            [
             208.451
            ],
            [
             237.503
            ],
            [
             86.72
            ],
            [
             5.247
            ],
            [
             265.667
            ],
            [
             0.016
            ],
            [
             0.0713
            ],
            [
             31.576
            ],
            [
             7.683
            ],
            [
             556.3
            ],
            [
             0.132
            ],
            [
             0.278
            ],
            [
             65.402
            ],
            [
             1.02
            ],
            [
             0.095
            ],
            [
             203.012
            ],
            [
             14.135
            ],
            [
             1.478
            ],
            [
             116.44
            ],
            [
             1.114
            ],
            [
             8.86
            ],
            [
             3.0618003
            ],
            [
             18.177
            ],
            [
             1.532
            ],
            [
             0.107
            ],
            [
             14.45
            ],
            [
             5.717
            ],
            [
             0.04
            ],
            [
             60.944
            ],
            [
             26.516
            ],
            [
             64.694
            ],
            [
             0.162
            ],
            [
             2.731
            ],
            [
             38.39
            ],
            [
             0.092
            ],
            [
             6.177
            ],
            [
             3.881
            ],
            [
             0.7378
            ],
            [
             5.956
            ],
            [
             0.802
            ],
            [
             0.405
            ],
            [
             0.1
            ],
            [
             5.322
            ],
            [
             10.154
            ],
            [
             24.654
            ],
            [
             0.097
            ],
            [
             3.139
            ],
            [
             29.496
            ],
            [
             0.324
            ],
            [
             0.081
            ],
            [
             7.676
            ],
            [
             203.987
            ],
            [
             1.11
            ],
            [
             0.027
            ],
            [
             1.335
            ],
            [
             44.139
            ],
            [
             0.55
            ],
            [
             0.08
            ],
            [
             81.177
            ],
            [
             0.072
            ],
            [
             10.308
            ],
            [
             0.685
            ],
            [
             0.11728
            ],
            [
             84.514
            ],
            [
             0.14
            ],
            [
             14.492
            ],
            [
             0.167
            ],
            [
             579.056
            ],
            [
             3.376
            ],
            [
             0.022
            ],
            [
             38.25
            ],
            [
             38.92
            ],
            [
             5.397
            ],
            [
             0.074
            ],
            [
             12.979
            ],
            [
             0.18
            ],
            [
             1.6074
            ],
            [
             4.83
            ],
            [
             1.8
            ],
            [
             1239.3
            ],
            [
             0.3599
            ],
            [
             334.716
            ]
           ],
           "geo": "geo",
           "hovertemplate": "<b>%{hovertext}</b><br><br>year=1999<br>ISO=%{location}<br>Electric Energy Production TWh=%{z}<extra></extra>",
           "hovertext": [
            "State of Palestine",
            "Faeroe Islands",
            "Sudan (former)",
            "Paraguay",
            "Qatar",
            "Luxembourg",
            "United Arab Emirates",
            "Jersey",
            "Papua New Guinea",
            "Falkland Is. (Malvinas)",
            "St. Lucia",
            "Vanuatu",
            "Liberia",
            "United States",
            "Finland",
            "Uzbekistan",
            "Republic of Moldova",
            "Morocco",
            "Mongolia",
            "St. Pierre-Miquelon",
            "Fiji",
            "Honduras",
            "Libya",
            "Montserrat",
            "St. Vincent-Grenadines",
            "Iraq",
            "Lithuania",
            "Zambia",
            "Ireland",
            "Micronesia (Fed. States of)",
            "Madagascar",
            "Togo",
            "Mauritania",
            "Portugal",
            "Syrian Arab Republic",
            "Thailand",
            "El Salvador",
            "Maldives",
            "Martinique",
            "T.F.Yug.Rep. Macedonia",
            "Indonesia",
            "Egypt",
            "India",
            "Mali",
            "Poland",
            "Tajikistan",
            "Marshall Islands",
            "Philippines",
            "Malta",
            "Equatorial Guinea",
            "Malaysia",
            "United Kingdom",
            "Peru",
            "Mexico",
            "Ethiopia",
            "Haiti",
            "United Rep. of Tanzania",
            "Mayotte",
            "Swaziland",
            "Estonia",
            "Hungary",
            "Suriname",
            "Turks and Caicos Islands",
            "Puerto Rico",
            "Eritrea",
            "Iran (Islamic Rep. of)",
            "Sweden",
            "Zimbabwe",
            "Iceland",
            "Switzerland",
            "Mauritius",
            "Malawi",
            "France",
            "Myanmar",
            "Lesotho",
            "Greece",
            "Kenya",
            "Oman",
            "Sierra Leone",
            "Japan",
            "Kiribati",
            "Uganda",
            "Nicaragua",
            "Réunion",
            "Gibraltar",
            "New Zealand",
            "Singapore",
            "Jamaica",
            "Guinea",
            "Korea, Dem.Ppl's.Rep.",
            "Ghana",
            "Slovakia",
            "Viet Nam",
            "Samoa",
            "Tunisia",
            "Seychelles",
            "Saudi Arabia",
            "Tuvalu",
            "Guadeloupe",
            "Northern Mariana Islands",
            "Norway",
            "Sao Tome and Principe",
            "Senegal",
            "Jordan",
            "New Caledonia",
            "Uruguay",
            "Serbia and Montenegro",
            "Guatemala",
            "Grenada",
            "Venezuela (Bolivar. Rep.)",
            "Nigeria",
            "Kazakhstan",
            "Niger",
            "Greenland",
            "Niue",
            "Mozambique",
            "Slovenia",
            "Other Asia",
            "Palau",
            "Namibia",
            "Sri Lanka",
            "Tonga",
            "French Polynesia",
            "Latvia",
            "Guyana",
            "Israel",
            "Yemen",
            "French Guiana",
            "Romania",
            "Ukraine",
            "Guam",
            "St. Helena and Depend.",
            "Panama",
            "St. Kitts-Nevis",
            "Lebanon",
            "Gabon",
            "Nauru",
            "Russian Federation",
            "Spain",
            "Korea, Republic of",
            "Netherlands",
            "Trinidad and Tobago",
            "Italy",
            "Guinea-Bissau",
            "Solomon Islands",
            "Kuwait",
            "Georgia",
            "Germany",
            "Rwanda",
            "Somalia",
            "Pakistan",
            "United States Virgin Is.",
            "Gambia",
            "South Africa",
            "Kyrgyzstan",
            "Nepal",
            "Turkey",
            "Neth. Antilles (former)",
            "Turkmenistan",
            "Lao People's Dem. Rep.",
            "Azerbaijan",
            "China, Macao SAR",
            "Central African Rep.",
            "Bangladesh",
            "Armenia",
            "Anguilla",
            "Austria",
            "Belarus",
            "Czechia",
            "American Samoa",
            "Brunei Darussalam",
            "Chile",
            "Chad",
            "Costa Rica",
            "Bolivia (Plur. State of)",
            "Aruba",
            "Bahrain",
            "Barbados",
            "Cayman Islands",
            "Burundi",
            "Dem. Rep. of the Congo",
            "Bosnia and Herzegovina",
            "Algeria",
            "Congo",
            "Cyprus",
            "China, Hong Kong SAR",
            "Cambodia",
            "British Virgin Islands",
            "Dominican Republic",
            "Australia",
            "Botswana",
            "Comoros",
            "Angola",
            "Colombia",
            "Bermuda",
            "Andorra",
            "Argentina",
            "Benin",
            "Ecuador",
            "Afghanistan",
            "Cabo Verde",
            "Belgium",
            "Antigua and Barbuda",
            "Cuba",
            "Belize",
            "Canada",
            "Cameroon",
            "Cook Islands",
            "Bulgaria",
            "Denmark",
            "Albania",
            "Dominica",
            "Croatia",
            "Djibouti",
            "Bahamas",
            "Côte d'Ivoire",
            "Bhutan",
            "China",
            "Burkina Faso",
            "Brazil"
           ],
           "locations": [
            "PSE",
            "FRO",
            "SDN",
            "PRY",
            "QAT",
            "LUX",
            "ARE",
            "JEY",
            "PNG",
            "MDV",
            "LCA",
            "VUT",
            "LBR",
            "USA",
            "FIN",
            "UZB",
            "MDA",
            "MAR",
            "MNG",
            "SPM",
            "FJI",
            "HND",
            "LBY",
            "MSR",
            "VCT",
            "IRQ",
            "LTU",
            "ZMB",
            "IRL",
            "FSM",
            "MDG",
            "TGO",
            "MRT",
            "PRT",
            "SYR",
            "THA",
            "SLV",
            "MDV",
            "MTQ",
            "MKD",
            "IDN",
            "EGY",
            "IND",
            "MLI",
            "POL",
            "TJK",
            "MHL",
            "PHL",
            "MLT",
            "GNQ",
            "MYS",
            "GBR",
            "PER",
            "MEX",
            "ETH",
            "HTI",
            "TZA",
            "MYT",
            "SWZ",
            "EST",
            "HUN",
            "SUR",
            "TCA",
            "PRI",
            "ERI",
            "IRN",
            "SWE",
            "ZWE",
            "ISL",
            "CHE",
            "MUS",
            "MWI",
            "FRA",
            "MMR",
            "LSO",
            "GRC",
            "KEN",
            "OMN",
            "SLE",
            "JPN",
            "KIR",
            "UGA",
            "NIC",
            "REU",
            "GIB",
            "NZL",
            "SGP",
            "JAM",
            "GIN",
            "PRK",
            "GHA",
            "SVK",
            "VNM",
            "WSM",
            "TUN",
            "SYC",
            "SAU",
            "TUV",
            "GLP",
            "MNP",
            "NOR",
            "STP",
            "SEN",
            "JOR",
            "NCL",
            "URY",
            "SRB",
            "GTM",
            "GRD",
            "VEN",
            "NGA",
            "KAZ",
            "NER",
            "GRL",
            "NIU",
            "MOZ",
            "SVN",
            "@@@",
            "PLW",
            "NAM",
            "LKA",
            "TON",
            "PYF",
            "LVA",
            "GUY",
            "ISR",
            "YEM",
            "GUF",
            "ROU",
            "UKR",
            "GUM",
            "SHN",
            "PAN",
            "KNA",
            "LBN",
            "GAB",
            "NRU",
            "RUS",
            "ESP",
            "KOR",
            "NLD",
            "TTO",
            "ITA",
            "GNB",
            "SLB",
            "KWT",
            "GEO",
            "DEU",
            "RWA",
            "SOM",
            "PAK",
            "VIR",
            "GMB",
            "ZAF",
            "KGZ",
            "NPL",
            "TUR",
            "@@@",
            "TKM",
            "LAO",
            "AZE",
            "MAC",
            "CAF",
            "BGD",
            "ARM",
            "AIA",
            "AUT",
            "BLR",
            "CZE",
            "ASM",
            "BRN",
            "CHL",
            "TCD",
            "CRI",
            "BOL",
            "ABW",
            "BHR",
            "BRB",
            "CYM",
            "BDI",
            "COD",
            "BIH",
            "DZA",
            "COG",
            "CYP",
            "HKG",
            "KHM",
            "VGB",
            "DOM",
            "AUS",
            "BWA",
            "COM",
            "AGO",
            "COL",
            "BMU",
            "AND",
            "ARG",
            "BEN",
            "ECU",
            "AFG",
            "CPV",
            "BEL",
            "ATG",
            "CUB",
            "BLZ",
            "CAN",
            "CMR",
            "COK",
            "BGR",
            "DNK",
            "ALB",
            "DMA",
            "HRV",
            "DJI",
            "BHS",
            "CIV",
            "BTN",
            "CHN",
            "BFA",
            "BRA"
           ],
           "name": "",
           "type": "choropleth",
           "z": [
            0.16,
            0.202,
            2.423,
            51.9601,
            8.584,
            1.022,
            37.126,
            0.2698,
            2.303,
            0.015,
            0.2562,
            0.04421,
            0.2,
            3897.518,
            69.457,
            45.3,
            1.146,
            13.475,
            2.93,
            0.043,
            0.698991,
            3.184,
            14.407,
            0.015,
            0.0895,
            32.678,
            13.535,
            7.764,
            22.009,
            0.0901,
            0.8332945,
            0.312,
            0.3626,
            43.287,
            22.816,
            97.6378,
            3.792,
            0.093,
            1.134297,
            6.863,
            95.944,
            65.171,
            536.452,
            0.756,
            142.128,
            15.797,
            0.0796,
            41.328,
            1.854,
            0.04,
            65.189,
            368.152,
            19.049672,
            191.51,
            1.653,
            0.698,
            2.381,
            0.064,
            0.4545,
            8.268,
            37.832,
            1.4398,
            0.0640999999999999,
            22.073,
            0.214,
            112.657,
            154.86,
            7.091,
            7.188,
            69.69,
            1.584,
            1.184,
            525.806,
            4.639,
            0.3864,
            49.632,
            4.745,
            8.413,
            0.0729,
            1037.277,
            0.0129,
            1.3832,
            2.148,
            1.57,
            0.12,
            37.817,
            30.259,
            6.609,
            0.817,
            18.6,
            5.929,
            28.407,
            23.559,
            0.085,
            9.526,
            0.17467,
            115.42,
            0.0027,
            1.233,
            0.3752,
            122.717,
            0.028,
            1.596,
            7.081,
            1.62,
            7.193,
            33.41,
            5.186,
            0.11667,
            80.588,
            16.089,
            47.498,
            0.15235,
            0.2604,
            0.003,
            7.707,
            13.262,
            169.473,
            0.1,
            1.209,
            6.185,
            0.0338,
            0.365,
            4.11,
            0.86679,
            39.215,
            3.136,
            0.43,
            50.71,
            172.12,
            1.9037,
            0.00661,
            4.58,
            0.1318,
            10.077,
            1.328,
            0.033,
            846.226,
            208.451,
            237.503,
            86.72,
            5.247,
            265.667,
            0.016,
            0.0713,
            31.576,
            7.683,
            556.3,
            0.132,
            0.278,
            65.402,
            1.02,
            0.095,
            203.012,
            14.135,
            1.478,
            116.44,
            1.114,
            8.86,
            3.0618003,
            18.177,
            1.532,
            0.107,
            14.45,
            5.717,
            0.04,
            60.944,
            26.516,
            64.694,
            0.162,
            2.731,
            38.39,
            0.092,
            6.177,
            3.881,
            0.7378,
            5.956,
            0.802,
            0.405,
            0.1,
            5.322,
            10.154,
            24.654,
            0.097,
            3.139,
            29.496,
            0.324,
            0.081,
            7.676,
            203.987,
            1.11,
            0.027,
            1.335,
            44.139,
            0.55,
            0.08,
            81.177,
            0.072,
            10.308,
            0.685,
            0.11728,
            84.514,
            0.14,
            14.492,
            0.167,
            579.056,
            3.376,
            0.022,
            38.25,
            38.92,
            5.397,
            0.074,
            12.979,
            0.18,
            1.6074,
            4.83,
            1.8,
            1239.3,
            0.3599,
            334.716
           ]
          }
         ],
         "name": "1999"
        },
        {
         "data": [
          {
           "coloraxis": "coloraxis",
           "customdata": [
            [
             31.9
            ],
            [
             0.41
            ],
            [
             0.0934
            ],
            [
             0.09
            ],
            [
             210.224
            ],
            [
             1355.6
            ],
            [
             0.296
            ],
            [
             1.172
            ],
            [
             14.727
            ],
            [
             2.45
            ],
            [
             0.003
            ],
            [
             348.909
            ],
            [
             7.424
            ],
            [
             121.383
            ],
            [
             0.032
            ],
            [
             4.813
            ],
            [
             32.323
            ],
            [
             576.543
            ],
            [
             61.257
            ],
            [
             0.137
            ],
            [
             0.18958
            ],
            [
             0.43
            ],
            [
             89.631
            ],
            [
             36.053
            ],
            [
             1.121
            ],
            [
             0.275
            ],
            [
             40.925
            ],
            [
             42.661
            ],
            [
             0.0145
            ],
            [
             539.954
            ],
            [
             0.0432
            ],
            [
             1.659
            ],
            [
             0.2
            ],
            [
             5.459
            ],
            [
             0.807
            ],
            [
             0.029
            ],
            [
             69.968
            ],
            [
             89.2
            ],
            [
             0.4697
            ],
            [
             106.1249
            ],
            [
             5.958
            ],
            [
             145.266
            ],
            [
             0.084
            ],
            [
             67.52
            ],
            [
             0.917
            ],
            [
             1.315
            ],
            [
             6.017
            ],
            [
             0.0428
            ],
            [
             14.247
            ],
            [
             15.496
            ],
            [
             25.217
            ],
            [
             39.247
            ],
            [
             6.811
            ],
            [
             0.435
            ],
            [
             0.095
            ],
            [
             1.645
            ],
            [
             2.842
            ],
            [
             0.7766
            ],
            [
             23.977
            ],
            [
             0.125
            ],
            [
             142.982
            ],
            [
             6.048
            ],
            [
             15.032
            ],
            [
             126.191
            ],
            [
             45.327
            ],
            [
             1.671
            ],
            [
             3.659
            ],
            [
             19.4
            ],
            [
             19.922314
            ],
            [
             1.9414
            ],
            [
             26.095
            ],
            [
             34.14
            ],
            [
             0.441
            ],
            [
             290.126
            ],
            [
             0.1875
            ],
            [
             6.91
            ],
            [
             0.0947
            ],
            [
             53.4824
            ],
            [
             84.012
            ],
            [
             1.235
            ],
            [
             0.8828467000000001
            ],
            [
             0.0261
            ],
            [
             11.281
            ],
            [
             0.89762
            ],
            [
             0.02507
            ],
            [
             0.084
            ],
            [
             51.934
            ],
            [
             877.766
            ],
            [
             9.134
            ],
            [
             1.226
            ],
            [
             0.603
            ],
            [
             0.113
            ],
            [
             21.814
            ],
            [
             0.913
            ],
            [
             1.758
            ],
            [
             0.547
            ],
            [
             0.0932
            ],
            [
             43.764
            ],
            [
             145.184
            ],
            [
             1.81
            ],
            [
             18.699
            ],
            [
             3.88
            ],
            [
             0.787
            ],
            [
             65.76
            ],
            [
             224.472
            ],
            [
             73.466
            ],
            [
             0.025
            ],
            [
             560.842
            ],
            [
             6.9692
            ],
            [
             184.852
            ],
            [
             9.111
            ],
            [
             1.7048
            ],
            [
             0.007
            ],
            [
             1.027
            ],
            [
             0.1484
            ],
            [
             11.424
            ],
            [
             99.511
            ],
            [
             7.224
            ],
            [
             0.104
            ],
            [
             0.2767
            ],
            [
             53.843
            ],
            [
             35.191
            ],
            [
             210.67
            ],
            [
             10.429
            ],
            [
             31.665
            ],
            [
             31.158
            ],
            [
             69.21
            ],
            [
             2.373
            ],
            [
             0.1307
            ],
            [
             3.37
            ],
            [
             1.169
            ],
            [
             4.887
            ],
            [
             13.624
            ],
            [
             31.329
            ],
            [
             0.107
            ],
            [
             15.771
            ],
            [
             0.0682
            ],
            [
             7.684
            ],
            [
             0.2631
            ],
            [
             0.25
            ],
            [
             0.107
            ],
            [
             6.297
            ],
            [
             10.095
            ],
            [
             2.288
            ],
            [
             8.513
            ],
            [
             205.675
            ],
            [
             0.21
            ],
            [
             0.0028
            ],
            [
             1.571
            ],
            [
             0.0152
            ],
            [
             3.851
            ],
            [
             6.631
            ],
            [
             4.2411875
            ],
            [
             5.118
            ],
            [
             377.069
            ],
            [
             51.635
            ],
            [
             4.738
            ],
            [
             3.413
            ],
            [
             171.445
            ],
            [
             0.0754
            ],
            [
             0.0458
            ],
            [
             1.689
            ],
            [
             7.588
            ],
            [
             0.089
            ],
            [
             46.864
            ],
            [
             1058.548
            ],
            [
             0.3716
            ],
            [
             26.561
            ],
            [
             605.707
            ],
            [
             0.213
            ],
            [
             0.0503
            ],
            [
             0.0451
            ],
            [
             25.412
            ],
            [
             1.445
            ],
            [
             0.326
            ],
            [
             0.0877
            ],
            [
             0.101
            ],
            [
             7.798
            ],
            [
             13.715
            ],
            [
             85.211
            ],
            [
             39.944
            ],
            [
             0.085
            ],
            [
             40.078
            ],
            [
             1.777
            ],
            [
             8.538
            ],
            [
             1.5822
            ],
            [
             43.943
            ],
            [
             8.849
            ],
            [
             4.136
            ],
            [
             0.077
            ],
            [
             7.375
            ],
            [
             0.012
            ],
            [
             0.08
            ],
            [
             10.612
            ],
            [
             2.479
            ],
            [
             3.48
            ],
            [
             0.176
            ],
            [
             9.85
            ],
            [
             15.983
            ],
            [
             9.757
            ],
            [
             0.169
            ],
            [
             2.93
            ],
            [
             124.922
            ],
            [
             0.6877
            ],
            [
             6.995
            ],
            [
             0.15
            ],
            [
             0.14642
            ],
            [
             4.323
            ],
            [
             276.641
            ],
            [
             0.033
            ],
            [
             4052.667
            ],
            [
             70.337
            ],
            [
             1.140939
            ],
            [
             0.387
            ],
            [
             1.917
            ],
            [
             0.18
            ],
            [
             1.414
            ],
            [
             0.3904
            ],
            [
             1.03
            ],
            [
             0.687989
            ]
           ],
           "geo": "geo",
           "hovertemplate": "<b>%{hovertext}</b><br><br>year=2000<br>ISO=%{location}<br>Electric Energy Production TWh=%{z}<extra></extra>",
           "hovertext": [
            "Iraq",
            "Northern Mariana Islands",
            "St. Vincent-Grenadines",
            "Gambia",
            "Australia",
            "China",
            "Congo",
            "Suriname",
            "Nigeria",
            "Sudan (former)",
            "Niue",
            "Brazil",
            "Georgia",
            "Iran (Islamic Rep. of)",
            "State of Palestine",
            "Côte d'Ivoire",
            "Kuwait",
            "Germany",
            "Austria",
            "Belize",
            "Niger",
            "French Guiana",
            "Netherlands",
            "Denmark",
            "Neth. Antilles (former)",
            "Togo",
            "Bulgaria",
            "Israel",
            "Kiribati",
            "France",
            "Tonga",
            "Nepal",
            "Liberia",
            "Trinidad and Tobago",
            "Mali",
            "Comoros",
            "Finland",
            "Argentina",
            "Swaziland",
            "Thailand",
            "Armenia",
            "Sweden",
            "British Virgin Islands",
            "Switzerland",
            "Republic of Moldova",
            "Gabon",
            "Dem. Rep. of the Congo",
            "St. Pierre-Miquelon",
            "Tajikistan",
            "Libya",
            "Syrian Arab Republic",
            "New Zealand",
            "T.F.Yug.Rep. Macedonia",
            "French Polynesia",
            "Chad",
            "New Caledonia",
            "Brunei Darussalam",
            "Aruba",
            "Ireland",
            "Gibraltar",
            "Norway",
            "Guatemala",
            "Cuba",
            "Saudi Arabia",
            "Philippines",
            "Senegal",
            "Honduras",
            "Korea, Dem.Ppl's.Rep.",
            "Peru",
            "Guam",
            "Belarus",
            "Serbia and Montenegro",
            "Cayman Islands",
            "Korea, Republic of",
            "Seychelles",
            "Costa Rica",
            "Sierra Leone",
            "Paraguay",
            "Belgium",
            "Guadeloupe",
            "Madagascar",
            "Sao Tome and Principe",
            "Croatia",
            "Guyana",
            "Guinea-Bissau",
            "Benin",
            "Romania",
            "Russian Federation",
            "Qatar",
            "Malawi",
            "Bermuda",
            "Rwanda",
            "Puerto Rico",
            "Guinea",
            "Réunion",
            "Haiti",
            "Samoa",
            "Portugal",
            "Poland",
            "Bhutan",
            "Azerbaijan",
            "Bolivia (Plur. State of)",
            "Barbados",
            "Pakistan",
            "Spain",
            "Czechia",
            "Cook Islands",
            "India",
            "Sri Lanka",
            "Other Asia",
            "Oman",
            "Bahamas",
            "St. Helena and Depend.",
            "Botswana",
            "St. Kitts-Nevis",
            "Lithuania",
            "Indonesia",
            "Ghana",
            "Maldives",
            "St. Lucia",
            "Greece",
            "Hungary",
            "South Africa",
            "Bosnia and Herzegovina",
            "Singapore",
            "Slovakia",
            "Malaysia",
            "Papua New Guinea",
            "Grenada",
            "Cyprus",
            "Luxembourg",
            "Panama",
            "Slovenia",
            "China, Hong Kong SAR",
            "Central African Rep.",
            "Bangladesh",
            "Solomon Islands",
            "Iceland",
            "Greenland",
            "Somalia",
            "Palau",
            "Bahrain",
            "Tunisia",
            "Nicaragua",
            "Estonia",
            "Mexico",
            "Eritrea",
            "Tuvalu",
            "China, Macao SAR",
            "Falkland Is. (Malvinas)",
            "El Salvador",
            "Jamaica",
            "Lao People's Dem. Rep.",
            "Myanmar",
            "United Kingdom",
            "Kazakhstan",
            "Albania",
            "Yemen",
            "Ukraine",
            "Turks and Caicos Islands",
            "Anguilla",
            "Ethiopia",
            "Uruguay",
            "Micronesia (Fed. States of)",
            "Uzbekistan",
            "Japan",
            "Lesotho",
            "Viet Nam",
            "Canada",
            "Faeroe Islands",
            "Equatorial Guinea",
            "Vanuatu",
            "Algeria",
            "Angola",
            "Cambodia",
            "Marshall Islands",
            "Burundi",
            "Zambia",
            "Morocco",
            "Venezuela (Bolivar. Rep.)",
            "United Arab Emirates",
            "Mayotte",
            "Chile",
            "Mauritius",
            "Dominican Republic",
            "Uganda",
            "Colombia",
            "Mozambique",
            "Latvia",
            "Dominica",
            "Jordan",
            "Montserrat",
            "Andorra",
            "Ecuador",
            "United Rep. of Tanzania",
            "Cameroon",
            "Jersey",
            "Turkmenistan",
            "Kyrgyzstan",
            "Lebanon",
            "American Samoa",
            "Mongolia",
            "Turkey",
            "Afghanistan",
            "Zimbabwe",
            "Antigua and Barbuda",
            "Cabo Verde",
            "Kenya",
            "Italy",
            "Nauru",
            "United States",
            "Egypt",
            "Martinique",
            "Mauritania",
            "Malta",
            "Djibouti",
            "Namibia",
            "Burkina Faso",
            "United States Virgin Is.",
            "Fiji"
           ],
           "locations": [
            "IRQ",
            "MNP",
            "VCT",
            "GMB",
            "AUS",
            "CHN",
            "COG",
            "SUR",
            "NGA",
            "SDN",
            "NIU",
            "BRA",
            "GEO",
            "IRN",
            "PSE",
            "CIV",
            "KWT",
            "DEU",
            "AUT",
            "BLZ",
            "NER",
            "GUF",
            "NLD",
            "DNK",
            "@@@",
            "TGO",
            "BGR",
            "ISR",
            "KIR",
            "FRA",
            "TON",
            "NPL",
            "LBR",
            "TTO",
            "MLI",
            "COM",
            "FIN",
            "ARG",
            "SWZ",
            "THA",
            "ARM",
            "SWE",
            "VGB",
            "CHE",
            "MDA",
            "GAB",
            "COD",
            "SPM",
            "TJK",
            "LBY",
            "SYR",
            "NZL",
            "MKD",
            "PYF",
            "TCD",
            "NCL",
            "BRN",
            "ABW",
            "IRL",
            "GIB",
            "NOR",
            "GTM",
            "CUB",
            "SAU",
            "PHL",
            "SEN",
            "HND",
            "PRK",
            "PER",
            "GUM",
            "BLR",
            "SRB",
            "CYM",
            "KOR",
            "SYC",
            "CRI",
            "SLE",
            "PRY",
            "BEL",
            "GLP",
            "MDG",
            "STP",
            "HRV",
            "GUY",
            "GNB",
            "BEN",
            "ROU",
            "RUS",
            "QAT",
            "MWI",
            "BMU",
            "RWA",
            "PRI",
            "GIN",
            "REU",
            "HTI",
            "WSM",
            "PRT",
            "POL",
            "BTN",
            "AZE",
            "BOL",
            "BRB",
            "PAK",
            "ESP",
            "CZE",
            "COK",
            "IND",
            "LKA",
            "@@@",
            "OMN",
            "BHS",
            "SHN",
            "BWA",
            "KNA",
            "LTU",
            "IDN",
            "GHA",
            "MDV",
            "LCA",
            "GRC",
            "HUN",
            "ZAF",
            "BIH",
            "SGP",
            "SVK",
            "MYS",
            "PNG",
            "GRD",
            "CYP",
            "LUX",
            "PAN",
            "SVN",
            "HKG",
            "CAF",
            "BGD",
            "SLB",
            "ISL",
            "GRL",
            "SOM",
            "PLW",
            "BHR",
            "TUN",
            "NIC",
            "EST",
            "MEX",
            "ERI",
            "TUV",
            "MAC",
            "MDV",
            "SLV",
            "JAM",
            "LAO",
            "MMR",
            "GBR",
            "KAZ",
            "ALB",
            "YEM",
            "UKR",
            "TCA",
            "AIA",
            "ETH",
            "URY",
            "FSM",
            "UZB",
            "JPN",
            "LSO",
            "VNM",
            "CAN",
            "FRO",
            "GNQ",
            "VUT",
            "DZA",
            "AGO",
            "KHM",
            "MHL",
            "BDI",
            "ZMB",
            "MAR",
            "VEN",
            "ARE",
            "MYT",
            "CHL",
            "MUS",
            "DOM",
            "UGA",
            "COL",
            "MOZ",
            "LVA",
            "DMA",
            "JOR",
            "MSR",
            "AND",
            "ECU",
            "TZA",
            "CMR",
            "JEY",
            "TKM",
            "KGZ",
            "LBN",
            "ASM",
            "MNG",
            "TUR",
            "AFG",
            "ZWE",
            "ATG",
            "CPV",
            "KEN",
            "ITA",
            "NRU",
            "USA",
            "EGY",
            "MTQ",
            "MRT",
            "MLT",
            "DJI",
            "NAM",
            "BFA",
            "VIR",
            "FJI"
           ],
           "name": "",
           "type": "choropleth",
           "z": [
            31.9,
            0.41,
            0.0934,
            0.09,
            210.224,
            1355.6,
            0.296,
            1.172,
            14.727,
            2.45,
            0.003,
            348.909,
            7.424,
            121.383,
            0.032,
            4.813,
            32.323,
            576.543,
            61.257,
            0.137,
            0.18958,
            0.43,
            89.631,
            36.053,
            1.121,
            0.275,
            40.925,
            42.661,
            0.0145,
            539.954,
            0.0432,
            1.659,
            0.2,
            5.459,
            0.807,
            0.029,
            69.968,
            89.2,
            0.4697,
            106.1249,
            5.958,
            145.266,
            0.084,
            67.52,
            0.917,
            1.315,
            6.017,
            0.0428,
            14.247,
            15.496,
            25.217,
            39.247,
            6.811,
            0.435,
            0.095,
            1.645,
            2.842,
            0.7766,
            23.977,
            0.125,
            142.982,
            6.048,
            15.032,
            126.191,
            45.327,
            1.671,
            3.659,
            19.4,
            19.922314,
            1.9414,
            26.095,
            34.14,
            0.441,
            290.126,
            0.1875,
            6.91,
            0.0947,
            53.4824,
            84.012,
            1.235,
            0.8828467000000001,
            0.0261,
            11.281,
            0.89762,
            0.02507,
            0.084,
            51.934,
            877.766,
            9.134,
            1.226,
            0.603,
            0.113,
            21.814,
            0.913,
            1.758,
            0.547,
            0.0932,
            43.764,
            145.184,
            1.81,
            18.699,
            3.88,
            0.787,
            65.76,
            224.472,
            73.466,
            0.025,
            560.842,
            6.9692,
            184.852,
            9.111,
            1.7048,
            0.007,
            1.027,
            0.1484,
            11.424,
            99.511,
            7.224,
            0.104,
            0.2767,
            53.843,
            35.191,
            210.67,
            10.429,
            31.665,
            31.158,
            69.21,
            2.373,
            0.1307,
            3.37,
            1.169,
            4.887,
            13.624,
            31.329,
            0.107,
            15.771,
            0.0682,
            7.684,
            0.2631,
            0.25,
            0.107,
            6.297,
            10.095,
            2.288,
            8.513,
            205.675,
            0.21,
            0.0028,
            1.571,
            0.0152,
            3.851,
            6.631,
            4.2411875,
            5.118,
            377.069,
            51.635,
            4.738,
            3.413,
            171.445,
            0.0754,
            0.0458,
            1.689,
            7.588,
            0.089,
            46.864,
            1058.548,
            0.3716,
            26.561,
            605.707,
            0.213,
            0.0503,
            0.0451,
            25.412,
            1.445,
            0.326,
            0.0877,
            0.101,
            7.798,
            13.715,
            85.211,
            39.944,
            0.085,
            40.078,
            1.777,
            8.538,
            1.5822,
            43.943,
            8.849,
            4.136,
            0.077,
            7.375,
            0.012,
            0.08,
            10.612,
            2.479,
            3.48,
            0.176,
            9.85,
            15.983,
            9.757,
            0.169,
            2.93,
            124.922,
            0.6877,
            6.995,
            0.15,
            0.14642,
            4.323,
            276.641,
            0.033,
            4052.667,
            70.337,
            1.140939,
            0.387,
            1.917,
            0.18,
            1.414,
            0.3904,
            1.03,
            0.687989
           ]
          }
         ],
         "name": "2000"
        },
        {
         "data": [
          {
           "coloraxis": "coloraxis",
           "customdata": [
            [
             0.276
            ],
            [
             68.141
            ],
            [
             3.551
            ],
            [
             9.25
            ],
            [
             10.638
            ],
            [
             188.531
            ],
            [
             10.167
            ],
            [
             26.624
            ],
            [
             6.779
            ],
            [
             0.14254
            ],
            [
             210.1
            ],
            [
             0.126
            ],
            [
             2.687
            ],
            [
             1.62
            ],
            [
             0.046
            ],
            [
             10.854
            ],
            [
             32.429
            ],
            [
             4.279
            ],
            [
             5.124
            ],
            [
             47.5
            ],
            [
             213.988
            ],
            [
             0.171
            ],
            [
             8.033
            ],
            [
             0.233
            ],
            [
             236.043
            ],
            [
             0.026
            ],
            [
             71.384
            ],
            [
             0.1
            ],
            [
             6.8009
            ],
            [
             0.0629
            ],
            [
             0.0902
            ],
            [
             0.0937
            ],
            [
             0.11
            ],
            [
             0.108
            ],
            [
             1.03
            ],
            [
             579.12
            ],
            [
             53.704
            ],
            [
             17.021
            ],
            [
             14.466
            ],
            [
             0.261
            ],
            [
             6.941
            ],
            [
             7.544
            ],
            [
             0.615
            ],
            [
             0.139
            ],
            [
             0.465
            ],
            [
             76.808
            ],
            [
             4.831
            ],
            [
             1.872
            ],
            [
             0.964
            ],
            [
             46.509
            ],
            [
             0.1099
            ],
            [
             0.594
            ],
            [
             145.616
            ],
            [
             0.9459388
            ],
            [
             0.4448
            ],
            [
             79.821
            ],
            [
             7.943
            ],
            [
             55.35
            ],
            [
             1.309
            ],
            [
             0.091004
            ],
            [
             12.809
            ],
            [
             0.091
            ],
            [
             0.066
            ],
            [
             0.024898
            ],
            [
             7.906
            ],
            [
             0.6911
            ],
            [
             22.302
            ],
            [
             53.866
            ],
            [
             1.2504
            ],
            [
             3.541
            ],
            [
             891.284
            ],
            [
             9.951
            ],
            [
             11.05
            ],
            [
             42.531
            ],
            [
             0.919
            ],
            [
             32.046
            ],
            [
             0.0264
            ],
            [
             2.0594
            ],
            [
             0.1919
            ],
            [
             45.309
            ],
            [
             74.647
            ],
            [
             310.958
            ],
            [
             90.117
            ],
            [
             0.1387
            ],
            [
             1.91
            ],
            [
             1.24
            ],
            [
             10.307
            ],
            [
             36.415
            ],
            [
             0.827
            ],
            [
             0.093
            ],
            [
             33.089
            ],
            [
             3.98
            ],
            [
             0.28
            ],
            [
             3.643
            ],
            [
             35.13
            ],
            [
             25.042
            ],
            [
             4.195484400000001
            ],
            [
             5.856
            ],
            [
             15.3
            ],
            [
             47.059
            ],
            [
             0.017
            ],
            [
             133.674
            ],
            [
             3.692
            ],
            [
             3.908
            ],
            [
             3.917
            ],
            [
             20.2
            ],
            [
             1.566
            ],
            [
             20.948
            ],
            [
             1.9477
            ],
            [
             30.608
            ],
            [
             1.906
            ],
            [
             9.737
            ],
            [
             0.171
            ],
            [
             2.473
            ],
            [
             6.362
            ],
            [
             0.566
            ],
            [
             0.0126
            ],
            [
             0.0157
            ],
            [
             26.712
            ],
            [
             6.656
            ],
            [
             0.003
            ],
            [
             24.956
            ],
            [
             11.885
            ],
            [
             72.422
            ],
            [
             39.572
            ],
            [
             5.995
            ],
            [
             589.891
            ],
            [
             1.407
            ],
            [
             1.729
            ],
            [
             1.6192
            ],
            [
             8.483
            ],
            [
             16.111
            ],
            [
             0.087
            ],
            [
             15.615
            ],
            [
             161.617
            ],
            [
             1.638
            ],
            [
             0.1678
            ],
            [
             0.5063
            ],
            [
             0.117
            ],
            [
             0.232
            ],
            [
             0.147
            ],
            [
             32.251
            ],
            [
             224.635
            ],
            [
             172.972
            ],
            [
             0.8083
            ],
            [
             1.235
            ],
            [
             4.689
            ],
            [
             0.08
            ],
            [
             0.925
            ],
            [
             74.483
            ],
            [
             0.031
            ],
            [
             0.03
            ],
            [
             5.644
            ],
            [
             122.725
            ],
            [
             279.009
            ],
            [
             1.867
            ],
            [
             0.039
            ],
            [
             37.729
            ],
            [
             10.613
            ],
            [
             549.53
            ],
            [
             43.951
            ],
            [
             90.324
            ],
            [
             0.1
            ],
            [
             0.2
            ],
            [
             1.394
            ],
            [
             0.168
            ],
            [
             0.725986
            ],
            [
             14.936
            ],
            [
             1.095
            ],
            [
             0.19
            ],
            [
             93.663
            ],
            [
             0.3655
            ],
            [
             0.594
            ],
            [
             114.3968
            ],
            [
             2.91
            ],
            [
             14.382
            ],
            [
             0.0536
            ],
            [
             5.745
            ],
            [
             43.969
            ],
            [
             0.335
            ],
            [
             1.272
            ],
            [
             328.509
            ],
            [
             0.003
            ],
            [
             0.2865
            ],
            [
             14.737
            ],
            [
             15.462
            ],
            [
             2.015
            ],
            [
             0.1595
            ],
            [
             1040.013
            ],
            [
             1.0346
            ],
            [
             62.449
            ],
            [
             2.753
            ],
            [
             4.903
            ],
            [
             0.08
            ],
            [
             384.79
            ],
            [
             101.647
            ],
            [
             7.864
            ],
            [
             18.969
            ],
            [
             3.017
            ],
            [
             0.0988
            ],
            [
             0.012
            ],
            [
             0.0355
            ],
            [
             1471.657
            ],
            [
             130.199
            ],
            [
             1.7695
            ],
            [
             1.943
            ],
            [
             2.56
            ],
            [
             0.373
            ],
            [
             0.16533
            ],
            [
             34.299
            ],
            [
             0.1165
            ],
            [
             0.0809
            ],
            [
             43.684
            ],
            [
             0.0428
            ],
            [
             586.406
            ],
            [
             43.172
            ],
            [
             0.4234
            ],
            [
             0.00726
            ],
            [
             6.937
            ],
            [
             3865.307
            ],
            [
             121.89
            ]
           ],
           "geo": "geo",
           "hovertemplate": "<b>%{hovertext}</b><br><br>year=2001<br>ISO=%{location}<br>Electric Energy Production TWh=%{z}<extra></extra>",
           "hovertext": [
            "Greenland",
            "Pakistan",
            "Cyprus",
            "Uruguay",
            "Bosnia and Herzegovina",
            "Other Asia",
            "Lebanon",
            "Algeria",
            "Bahrain",
            "Grenada",
            "South Africa",
            "Gibraltar",
            "Papua New Guinea",
            "Luxembourg",
            "Vanuatu",
            "Tunisia",
            "China, Hong Kong SAR",
            "Latvia",
            "Panama",
            "Uzbekistan",
            "Mexico",
            "American Samoa",
            "Iceland",
            "Eritrea",
            "Spain",
            "Cook Islands",
            "Malaysia",
            "Mayotte",
            "Sri Lanka",
            "Solomon Islands",
            "Micronesia (Fed. States of)",
            "Jersey",
            "Palau",
            "Central African Rep.",
            "United States Virgin Is.",
            "India",
            "Greece",
            "Bangladesh",
            "Slovenia",
            "Somalia",
            "Costa Rica",
            "Jordan",
            "Bermuda",
            "Belize",
            "Cayman Islands",
            "Egypt",
            "Kenya",
            "Réunion",
            "Guinea",
            "Portugal",
            "Samoa",
            "Haiti",
            "Poland",
            "Madagascar",
            "Mauritania",
            "Belgium",
            "Zambia",
            "Kazakhstan",
            "Martinique",
            "Rwanda",
            "Croatia",
            "Marshall Islands",
            "Benin",
            "Guinea-Bissau",
            "Zimbabwe",
            "Afghanistan",
            "Puerto Rico",
            "Romania",
            "Malawi",
            "Cameroon",
            "Russian Federation",
            "Qatar",
            "Ecuador",
            "Chile",
            "Guyana",
            "Slovakia",
            "Sao Tome and Principe",
            "Bhutan",
            "Seychelles",
            "Paraguay",
            "Czechia",
            "Korea, Republic of",
            "Venezuela (Bolivar. Rep.)",
            "Sierra Leone",
            "Mauritius",
            "Guadeloupe",
            "Dominican Republic",
            "Hungary",
            "Barbados",
            "Equatorial Guinea",
            "Singapore",
            "Bolivia (Plur. State of)",
            "Cambodia",
            "Yemen",
            "Serbia and Montenegro",
            "Belarus",
            "Lao People's Dem. Rep.",
            "Guatemala",
            "Cuba",
            "Philippines",
            "Wallis and Futuna Is.",
            "Saudi Arabia",
            "Albania",
            "El Salvador",
            "Honduras",
            "Korea, Dem.Ppl's.Rep.",
            "China, Macao SAR",
            "Peru",
            "Guam",
            "Viet Nam",
            "Senegal",
            "Oman",
            "Antigua and Barbuda",
            "Nicaragua",
            "T.F.Yug.Rep. Macedonia",
            "French Polynesia",
            "Kiribati",
            "Falkland Is. (Malvinas)",
            "Syrian Arab Republic",
            "Jamaica",
            "Tuvalu",
            "Ireland",
            "Mozambique",
            "Switzerland",
            "New Zealand",
            "Dem. Rep. of the Congo",
            "Canada",
            "Gabon",
            "New Caledonia",
            "Uganda",
            "Estonia",
            "Libya",
            "British Virgin Islands",
            "Morocco",
            "Sweden",
            "Angola",
            "Niger",
            "Swaziland",
            "Burundi",
            "Faeroe Islands",
            "Gambia",
            "Iraq",
            "Australia",
            "Ukraine",
            "Aruba",
            "Suriname",
            "Myanmar",
            "Turks and Caicos Islands",
            "Mali",
            "Finland",
            "Comoros",
            "Nauru",
            "Trinidad and Tobago",
            "Turkey",
            "Italy",
            "Nepal",
            "Tonga",
            "Denmark",
            "Turkmenistan",
            "France",
            "Israel",
            "Argentina",
            "Chad",
            "Liberia",
            "Namibia",
            "Togo",
            "Fiji",
            "Kyrgyzstan",
            "Neth. Antilles (former)",
            "Djibouti",
            "Netherlands",
            "Burkina Faso",
            "French Guiana",
            "Thailand",
            "Brunei Darussalam",
            "Tajikistan",
            "Anguilla",
            "Armenia",
            "Bulgaria",
            "Congo",
            "Republic of Moldova",
            "Brazil",
            "Niue",
            "St. Lucia",
            "Lithuania",
            "Nigeria",
            "Ethiopia",
            "St. Kitts-Nevis",
            "Japan",
            "Botswana",
            "Austria",
            "United Rep. of Tanzania",
            "Côte d'Ivoire",
            "Andorra",
            "United Kingdom",
            "Indonesia",
            "Ghana",
            "Azerbaijan",
            "Mongolia",
            "St. Vincent-Grenadines",
            "Montserrat",
            "State of Palestine",
            "China",
            "Iran (Islamic Rep. of)",
            "Bahamas",
            "Malta",
            "Sudan (former)",
            "Lesotho",
            "Cabo Verde",
            "Kuwait",
            "Maldives",
            "Dominica",
            "Colombia",
            "St. Pierre-Miquelon",
            "Germany",
            "United Arab Emirates",
            "Northern Mariana Islands",
            "St. Helena and Depend.",
            "Georgia",
            "United States",
            "Norway"
           ],
           "locations": [
            "GRL",
            "PAK",
            "CYP",
            "URY",
            "BIH",
            "@@@",
            "LBN",
            "DZA",
            "BHR",
            "GRD",
            "ZAF",
            "GIB",
            "PNG",
            "LUX",
            "VUT",
            "TUN",
            "HKG",
            "LVA",
            "PAN",
            "UZB",
            "MEX",
            "ASM",
            "ISL",
            "ERI",
            "ESP",
            "COK",
            "MYS",
            "MYT",
            "LKA",
            "SLB",
            "FSM",
            "JEY",
            "PLW",
            "CAF",
            "VIR",
            "IND",
            "GRC",
            "BGD",
            "SVN",
            "SOM",
            "CRI",
            "JOR",
            "BMU",
            "BLZ",
            "CYM",
            "EGY",
            "KEN",
            "REU",
            "GIN",
            "PRT",
            "WSM",
            "HTI",
            "POL",
            "MDG",
            "MRT",
            "BEL",
            "ZMB",
            "KAZ",
            "MTQ",
            "RWA",
            "HRV",
            "MHL",
            "BEN",
            "GNB",
            "ZWE",
            "AFG",
            "PRI",
            "ROU",
            "MWI",
            "CMR",
            "RUS",
            "QAT",
            "ECU",
            "CHL",
            "GUY",
            "SVK",
            "STP",
            "BTN",
            "SYC",
            "PRY",
            "CZE",
            "KOR",
            "VEN",
            "SLE",
            "MUS",
            "GLP",
            "DOM",
            "HUN",
            "BRB",
            "GNQ",
            "SGP",
            "BOL",
            "KHM",
            "YEM",
            "SRB",
            "BLR",
            "LAO",
            "GTM",
            "CUB",
            "PHL",
            "WLF",
            "SAU",
            "ALB",
            "SLV",
            "HND",
            "PRK",
            "MAC",
            "PER",
            "GUM",
            "VNM",
            "SEN",
            "OMN",
            "ATG",
            "NIC",
            "MKD",
            "PYF",
            "KIR",
            "MDV",
            "SYR",
            "JAM",
            "TUV",
            "IRL",
            "MOZ",
            "CHE",
            "NZL",
            "COD",
            "CAN",
            "GAB",
            "NCL",
            "UGA",
            "EST",
            "LBY",
            "VGB",
            "MAR",
            "SWE",
            "AGO",
            "NER",
            "SWZ",
            "BDI",
            "FRO",
            "GMB",
            "IRQ",
            "AUS",
            "UKR",
            "ABW",
            "SUR",
            "MMR",
            "TCA",
            "MLI",
            "FIN",
            "COM",
            "NRU",
            "TTO",
            "TUR",
            "ITA",
            "NPL",
            "TON",
            "DNK",
            "TKM",
            "FRA",
            "ISR",
            "ARG",
            "TCD",
            "LBR",
            "NAM",
            "TGO",
            "FJI",
            "KGZ",
            "@@@",
            "DJI",
            "NLD",
            "BFA",
            "GUF",
            "THA",
            "BRN",
            "TJK",
            "AIA",
            "ARM",
            "BGR",
            "COG",
            "MDA",
            "BRA",
            "NIU",
            "LCA",
            "LTU",
            "NGA",
            "ETH",
            "KNA",
            "JPN",
            "BWA",
            "AUT",
            "TZA",
            "CIV",
            "AND",
            "GBR",
            "IDN",
            "GHA",
            "AZE",
            "MNG",
            "VCT",
            "MSR",
            "PSE",
            "CHN",
            "IRN",
            "BHS",
            "MLT",
            "SDN",
            "LSO",
            "CPV",
            "KWT",
            "MDV",
            "DMA",
            "COL",
            "SPM",
            "DEU",
            "ARE",
            "MNP",
            "SHN",
            "GEO",
            "USA",
            "NOR"
           ],
           "name": "",
           "type": "choropleth",
           "z": [
            0.276,
            68.141,
            3.551,
            9.25,
            10.638,
            188.531,
            10.167,
            26.624,
            6.779,
            0.14254,
            210.1,
            0.126,
            2.687,
            1.62,
            0.046,
            10.854,
            32.429,
            4.279,
            5.124,
            47.5,
            213.988,
            0.171,
            8.033,
            0.233,
            236.043,
            0.026,
            71.384,
            0.1,
            6.8009,
            0.0629,
            0.0902,
            0.0937,
            0.11,
            0.108,
            1.03,
            579.12,
            53.704,
            17.021,
            14.466,
            0.261,
            6.941,
            7.544,
            0.615,
            0.139,
            0.465,
            76.808,
            4.831,
            1.872,
            0.964,
            46.509,
            0.1099,
            0.594,
            145.616,
            0.9459388,
            0.4448,
            79.821,
            7.943,
            55.35,
            1.309,
            0.091004,
            12.809,
            0.091,
            0.066,
            0.024898,
            7.906,
            0.6911,
            22.302,
            53.866,
            1.2504,
            3.541,
            891.284,
            9.951,
            11.05,
            42.531,
            0.919,
            32.046,
            0.0264,
            2.0594,
            0.1919,
            45.309,
            74.647,
            310.958,
            90.117,
            0.1387,
            1.91,
            1.24,
            10.307,
            36.415,
            0.827,
            0.093,
            33.089,
            3.98,
            0.28,
            3.643,
            35.13,
            25.042,
            4.195484400000001,
            5.856,
            15.3,
            47.059,
            0.017,
            133.674,
            3.692,
            3.908,
            3.917,
            20.2,
            1.566,
            20.948,
            1.9477,
            30.608,
            1.906,
            9.737,
            0.171,
            2.473,
            6.362,
            0.566,
            0.0126,
            0.0157,
            26.712,
            6.656,
            0.003,
            24.956,
            11.885,
            72.422,
            39.572,
            5.995,
            589.891,
            1.407,
            1.729,
            1.6192,
            8.483,
            16.111,
            0.087,
            15.615,
            161.617,
            1.638,
            0.1678,
            0.5063,
            0.117,
            0.232,
            0.147,
            32.251,
            224.635,
            172.972,
            0.8083,
            1.235,
            4.689,
            0.08,
            0.925,
            74.483,
            0.031,
            0.03,
            5.644,
            122.725,
            279.009,
            1.867,
            0.039,
            37.729,
            10.613,
            549.53,
            43.951,
            90.324,
            0.1,
            0.2,
            1.394,
            0.168,
            0.725986,
            14.936,
            1.095,
            0.19,
            93.663,
            0.3655,
            0.594,
            114.3968,
            2.91,
            14.382,
            0.0536,
            5.745,
            43.969,
            0.335,
            1.272,
            328.509,
            0.003,
            0.2865,
            14.737,
            15.462,
            2.015,
            0.1595,
            1040.013,
            1.0346,
            62.449,
            2.753,
            4.903,
            0.08,
            384.79,
            101.647,
            7.864,
            18.969,
            3.017,
            0.0988,
            0.012,
            0.0355,
            1471.657,
            130.199,
            1.7695,
            1.943,
            2.56,
            0.373,
            0.16533,
            34.299,
            0.1165,
            0.0809,
            43.684,
            0.0428,
            586.406,
            43.172,
            0.4234,
            0.00726,
            6.937,
            3865.307,
            121.89
           ]
          }
         ],
         "name": "2001"
        },
        {
         "data": [
          {
           "coloraxis": "coloraxis",
           "customdata": [
            [
             46.107
            ],
            [
             34.312
            ],
            [
             3.112
            ],
            [
             95.981
            ],
            [
             0.547
            ],
            [
             1.346
            ],
            [
             0.028
            ],
            [
             0.3647
            ],
            [
             0.0813
            ],
            [
             1.09
            ],
            [
             45.242
            ],
            [
             0.482
            ],
            [
             12.772
            ],
            [
             0.0982
            ],
            [
             10.94
            ],
            [
             3.3
            ],
            [
             0.03
            ],
            [
             601.269
            ],
            [
             42.679
            ],
            [
             198.83
            ],
            [
             74.196
            ],
            [
             0.91444
            ],
            [
             285.275
            ],
            [
             2.123
            ],
            [
             45.5
            ],
            [
             596.633
            ],
            [
             1.0443
            ],
            [
             1.377
            ],
            [
             144.126
            ],
            [
             23.176
            ],
            [
             0.033
            ],
            [
             108.206
            ],
            [
             0.644
            ],
            [
             130.705
            ],
            [
             75.682
            ],
            [
             19.776
            ],
            [
             0.143
            ],
            [
             48.2037
            ],
            [
             15.111
            ],
            [
             0.1151
            ],
            [
             0.003
            ],
            [
             2.553
            ],
            [
             0.109
            ],
            [
             1.949
            ],
            [
             0.091
            ],
            [
             0.566
            ],
            [
             141.081
            ],
            [
             0.1293
            ],
            [
             36.157
            ],
            [
             5.023
            ],
            [
             33.863
            ],
            [
             8.13
            ],
            [
             345.671
            ],
            [
             4.184
            ],
            [
             0.1841
            ],
            [
             21.545
            ],
            [
             2.885
            ],
            [
             0.396
            ],
            [
             0.014
            ],
            [
             1058.42
            ],
            [
             5.17
            ],
            [
             0.1303
            ],
            [
             58.331
            ],
            [
             3.036
            ],
            [
             0.4185
            ],
            [
             5.068
            ],
            [
             2.20091
            ],
            [
             10.785
            ],
            [
             0.496303
            ],
            [
             1.749
            ],
            [
             48.484
            ],
            [
             0.18215
            ],
            [
             1.063
            ],
            [
             2.052
            ],
            [
             7.485
            ],
            [
             25.195
            ],
            [
             218.221
            ],
            [
             0.02
            ],
            [
             4.165
            ],
            [
             6.934
            ],
            [
             8.416
            ],
            [
             22.176
            ],
            [
             1.701
            ],
            [
             40.629
            ],
            [
             12.712
            ],
            [
             10.331
            ],
            [
             0.0994
            ],
            [
             244.963
            ],
            [
             76.348
            ],
            [
             1.8862
            ],
            [
             0.0075
            ],
            [
             173.734
            ],
            [
             0.1773
            ],
            [
             0.241
            ],
            [
             1.765
            ],
            [
             7.301
            ],
            [
             0.3779
            ],
            [
             1.7472
            ],
            [
             18.701
            ],
            [
             0.2857
            ],
            [
             1653.9998
            ],
            [
             0.0428
            ],
            [
             586.694
            ],
            [
             0.1018
            ],
            [
             5.309
            ],
            [
             46.856
            ],
            [
             0.129
            ],
            [
             17.721
            ],
            [
             0.08
            ],
            [
             0.1786
            ],
            [
             18.221
            ],
            [
             14.598
            ],
            [
             0.2777
            ],
            [
             0.0640999999999999
            ],
            [
             8.527
            ],
            [
             0.274
            ],
            [
             4051.12
            ],
            [
             0.0039
            ],
            [
             0.108
            ],
            [
             2.854
            ],
            [
             7.278
            ],
            [
             54.608
            ],
            [
             217.712
            ],
            [
             0.0799
            ],
            [
             2.043
            ],
            [
             387.247
            ],
            [
             7.104026
            ],
            [
             11.721
            ],
            [
             1.04
            ],
            [
             0.0161
            ],
            [
             0.1493
            ],
            [
             6.131
            ],
            [
             67.174
            ],
            [
             0.107
            ],
            [
             28.04
            ],
            [
             5.644
            ],
            [
             0.582
            ],
            [
             6.091
            ],
            [
             0.0402
            ],
            [
             5.519
            ],
            [
             15.302
            ],
            [
             39.287
            ],
            [
             559.064
            ],
            [
             0.616
            ],
            [
             85.055
            ],
            [
             121.5789
            ],
            [
             0.233
            ],
            [
             0.0629
            ],
            [
             1.482
            ],
            [
             0.8247
            ],
            [
             74.945
            ],
            [
             0.191
            ],
            [
             7.257
            ],
            [
             0.102
            ],
            [
             0.0553
            ],
            [
             2.897
            ],
            [
             36.369
            ],
            [
             13.086
            ],
            [
             0.2
            ],
            [
             0.76499
            ],
            [
             62.499
            ],
            [
             1.3479
            ],
            [
             227.555
            ],
            [
             0.1512
            ],
            [
             0.4727
            ],
            [
             129.4
            ],
            [
             146.735
            ],
            [
             17.531
            ],
            [
             11.281
            ],
            [
             1.19
            ],
            [
             10.703
            ],
            [
             3.785
            ],
            [
             0.2
            ],
            [
             0.0315
            ],
            [
             85.946
            ],
            [
             35.06
            ],
            [
             1.7198
            ],
            [
             35.796
            ],
            [
             26.455
            ],
            [
             27.647
            ],
            [
             0.04692
            ],
            [
             0.093
            ],
            [
             8.152
            ],
            [
             11.51
            ],
            [
             0.1
            ],
            [
             1.854
            ],
            [
             4.0227534
            ],
            [
             49.31
            ],
            [
             1.015
            ],
            [
             3.769
            ],
            [
             0.14
            ],
            [
             15.699
            ],
            [
             87.406
            ],
            [
             6.191
            ],
            [
             0.018
            ],
            [
             0.14902
            ],
            [
             82.069
            ],
            [
             1.952
            ],
            [
             4.1
            ],
            [
             0.1271
            ],
            [
             0.0616
            ],
            [
             3.686
            ],
            [
             141.736
            ],
            [
             0.2188
            ],
            [
             0.8880011
            ],
            [
             3.975
            ],
            [
             8.587
            ],
            [
             0.859
            ],
            [
             891.285
            ],
            [
             0.7222
            ],
            [
             0.063
            ],
            [
             0.259
            ],
            [
             0.1568
            ],
            [
             3.697
            ],
            [
             34.664
            ],
            [
             0.023556
            ],
            [
             1.33
            ],
            [
             11.888
            ],
            [
             43.671
            ],
            [
             9.605
            ],
            [
             331.882
            ],
            [
             32.427
            ],
            [
             1.3063
            ],
            [
             54.735
            ]
           ],
           "geo": "geo",
           "hovertemplate": "<b>%{hovertext}</b><br><br>year=2002<br>ISO=%{location}<br>Electric Energy Production TWh=%{z}<extra></extra>",
           "hovertext": [
            "Portugal",
            "China, Hong Kong SAR",
            "Mongolia",
            "Netherlands",
            "Haiti",
            "Martinique",
            "Cook Islands",
            "Burkina Faso",
            "Jersey",
            "Neth. Antilles (former)",
            "Colombia",
            "Cayman Islands",
            "Croatia",
            "Micronesia (Fed. States of)",
            "Qatar",
            "Cameroon",
            "Nauru",
            "Canada",
            "Bulgaria",
            "Other Asia",
            "Malaysia",
            "Guyana",
            "Italy",
            "Nepal",
            "Israel",
            "India",
            "Botswana",
            "Namibia",
            "Poland",
            "Puerto Rico",
            "Comoros",
            "Indonesia",
            "Bermuda",
            "Norway",
            "Pakistan",
            "Korea, Dem.Ppl's.Rep.",
            "Isle of Man",
            "Paraguay",
            "Morocco",
            "Mayotte",
            "Niue",
            "Nicaragua",
            "Palau",
            "Mauritius",
            "British Virgin Islands",
            "Cambodia",
            "Iran (Islamic Rep. of)",
            "Burundi",
            "Hungary",
            "Panama",
            "Iraq",
            "Jordan",
            "Brazil",
            "Bolivia (Plur. State of)",
            "Niger",
            "Nigeria",
            "Papua New Guinea",
            "Congo",
            "Kiribati",
            "Japan",
            "Kenya",
            "Maldives",
            "Kazakhstan",
            "Brunei Darussalam",
            "Northern Mariana Islands",
            "Myanmar",
            "Bhutan",
            "Bosnia and Herzegovina",
            "Mauritania",
            "New Caledonia",
            "Philippines",
            "Cabo Verde",
            "Mali",
            "Malta",
            "Costa Rica",
            "Ireland",
            "Mexico",
            "Montserrat",
            "Honduras",
            "Jamaica",
            "Iceland",
            "Peru",
            "China, Macao SAR",
            "New Zealand",
            "Mozambique",
            "Oman",
            "Marshall Islands",
            "Spain",
            "Czechia",
            "Bahamas",
            "St. Helena and Depend.",
            "Ukraine",
            "St. Kitts-Nevis",
            "Faeroe Islands",
            "Angola",
            "Ghana",
            "Lesotho",
            "Uganda",
            "Azerbaijan",
            "St. Lucia",
            "China",
            "St. Pierre-Miquelon",
            "Germany",
            "St. Vincent-Grenadines",
            "Côte d'Ivoire",
            "United Arab Emirates",
            "Gibraltar",
            "Lithuania",
            "Andorra",
            "American Samoa",
            "Bangladesh",
            "Slovenia",
            "Greenland",
            "Solomon Islands",
            "Estonia",
            "Somalia",
            "United States",
            "Tuvalu",
            "Central African Rep.",
            "United Rep. of Tanzania",
            "Bahrain",
            "Greece",
            "South Africa",
            "Dominica",
            "Ethiopia",
            "United Kingdom",
            "Sri Lanka",
            "Lebanon",
            "United States Virgin Is.",
            "Falkland Is. (Malvinas)",
            "State of Palestine",
            "Dem. Rep. of the Congo",
            "Switzerland",
            "Chad",
            "Syrian Arab Republic",
            "Trinidad and Tobago",
            "French Polynesia",
            "T.F.Yug.Rep. Macedonia",
            "Tonga",
            "Armenia",
            "Tajikistan",
            "Denmark",
            "France",
            "French Guiana",
            "Argentina",
            "Thailand",
            "Togo",
            "Timor-Leste",
            "Gabon",
            "Aruba",
            "Finland",
            "Antigua and Barbuda",
            "Georgia",
            "Turks and Caicos Islands",
            "Anguilla",
            "Sudan (former)",
            "Kuwait",
            "Kyrgyzstan",
            "Djibouti",
            "Fiji",
            "Austria",
            "Suriname",
            "Australia",
            "Gambia",
            "Swaziland",
            "Turkey",
            "Sweden",
            "Libya",
            "Tunisia",
            "Republic of Moldova",
            "Turkmenistan",
            "Cyprus",
            "Liberia",
            "Sao Tome and Principe",
            "Egypt",
            "Serbia and Montenegro",
            "Guam",
            "Viet Nam",
            "Belarus",
            "Algeria",
            "Vanuatu",
            "Equatorial Guinea",
            "Zambia",
            "Dominican Republic",
            "Rwanda",
            "Senegal",
            "Lao People's Dem. Rep.",
            "Uzbekistan",
            "Guinea",
            "Yemen",
            "Belize",
            "Cuba",
            "Venezuela (Bolivar. Rep.)",
            "Guatemala",
            "Wallis and Futuna Is.",
            "Grenada",
            "Belgium",
            "Réunion",
            "El Salvador",
            "Samoa",
            "Guernsey",
            "Albania",
            "Saudi Arabia",
            "Seychelles",
            "Madagascar",
            "Latvia",
            "Zimbabwe",
            "Barbados",
            "Russian Federation",
            "Afghanistan",
            "Benin",
            "Eritrea",
            "Sierra Leone",
            "Luxembourg",
            "Singapore",
            "Guinea-Bissau",
            "Guadeloupe",
            "Ecuador",
            "Chile",
            "Uruguay",
            "Korea, Republic of",
            "Slovakia",
            "Malawi",
            "Romania"
           ],
           "locations": [
            "PRT",
            "HKG",
            "MNG",
            "NLD",
            "HTI",
            "MTQ",
            "COK",
            "BFA",
            "JEY",
            "@@@",
            "COL",
            "CYM",
            "HRV",
            "FSM",
            "QAT",
            "CMR",
            "NRU",
            "CAN",
            "BGR",
            "@@@",
            "MYS",
            "GUY",
            "ITA",
            "NPL",
            "ISR",
            "IND",
            "BWA",
            "NAM",
            "POL",
            "PRI",
            "COM",
            "IDN",
            "BMU",
            "NOR",
            "PAK",
            "PRK",
            "IMN",
            "PRY",
            "MAR",
            "MYT",
            "NIU",
            "NIC",
            "PLW",
            "MUS",
            "VGB",
            "KHM",
            "IRN",
            "BDI",
            "HUN",
            "PAN",
            "IRQ",
            "JOR",
            "BRA",
            "BOL",
            "NER",
            "NGA",
            "PNG",
            "COG",
            "KIR",
            "JPN",
            "KEN",
            "MDV",
            "KAZ",
            "BRN",
            "MNP",
            "MMR",
            "BTN",
            "BIH",
            "MRT",
            "NCL",
            "PHL",
            "CPV",
            "MLI",
            "MLT",
            "CRI",
            "IRL",
            "MEX",
            "MSR",
            "HND",
            "JAM",
            "ISL",
            "PER",
            "MAC",
            "NZL",
            "MOZ",
            "OMN",
            "MHL",
            "ESP",
            "CZE",
            "BHS",
            "SHN",
            "UKR",
            "KNA",
            "FRO",
            "AGO",
            "GHA",
            "LSO",
            "UGA",
            "AZE",
            "LCA",
            "CHN",
            "SPM",
            "DEU",
            "VCT",
            "CIV",
            "ARE",
            "GIB",
            "LTU",
            "AND",
            "ASM",
            "BGD",
            "SVN",
            "GRL",
            "SLB",
            "EST",
            "SOM",
            "USA",
            "TUV",
            "CAF",
            "TZA",
            "BHR",
            "GRC",
            "ZAF",
            "DMA",
            "ETH",
            "GBR",
            "LKA",
            "LBN",
            "VIR",
            "MDV",
            "PSE",
            "COD",
            "CHE",
            "TCD",
            "SYR",
            "TTO",
            "PYF",
            "MKD",
            "TON",
            "ARM",
            "TJK",
            "DNK",
            "FRA",
            "GUF",
            "ARG",
            "THA",
            "TGO",
            "TLS",
            "GAB",
            "ABW",
            "FIN",
            "ATG",
            "GEO",
            "TCA",
            "AIA",
            "SDN",
            "KWT",
            "KGZ",
            "DJI",
            "FJI",
            "AUT",
            "SUR",
            "AUS",
            "GMB",
            "SWZ",
            "TUR",
            "SWE",
            "LBY",
            "TUN",
            "MDA",
            "TKM",
            "CYP",
            "LBR",
            "STP",
            "EGY",
            "SRB",
            "GUM",
            "VNM",
            "BLR",
            "DZA",
            "VUT",
            "GNQ",
            "ZMB",
            "DOM",
            "RWA",
            "SEN",
            "LAO",
            "UZB",
            "GIN",
            "YEM",
            "BLZ",
            "CUB",
            "VEN",
            "GTM",
            "WLF",
            "GRD",
            "BEL",
            "REU",
            "SLV",
            "WSM",
            "GGY",
            "ALB",
            "SAU",
            "SYC",
            "MDG",
            "LVA",
            "ZWE",
            "BRB",
            "RUS",
            "AFG",
            "BEN",
            "ERI",
            "SLE",
            "LUX",
            "SGP",
            "GNB",
            "GLP",
            "ECU",
            "CHL",
            "URY",
            "KOR",
            "SVK",
            "MWI",
            "ROU"
           ],
           "name": "",
           "type": "choropleth",
           "z": [
            46.107,
            34.312,
            3.112,
            95.981,
            0.547,
            1.346,
            0.028,
            0.3647,
            0.0813,
            1.09,
            45.242,
            0.482,
            12.772,
            0.0982,
            10.94,
            3.3,
            0.03,
            601.269,
            42.679,
            198.83,
            74.196,
            0.91444,
            285.275,
            2.123,
            45.5,
            596.633,
            1.0443,
            1.377,
            144.126,
            23.176,
            0.033,
            108.206,
            0.644,
            130.705,
            75.682,
            19.776,
            0.143,
            48.2037,
            15.111,
            0.1151,
            0.003,
            2.553,
            0.109,
            1.949,
            0.091,
            0.566,
            141.081,
            0.1293,
            36.157,
            5.023,
            33.863,
            8.13,
            345.671,
            4.184,
            0.1841,
            21.545,
            2.885,
            0.396,
            0.014,
            1058.42,
            5.17,
            0.1303,
            58.331,
            3.036,
            0.4185,
            5.068,
            2.20091,
            10.785,
            0.496303,
            1.749,
            48.484,
            0.18215,
            1.063,
            2.052,
            7.485,
            25.195,
            218.221,
            0.02,
            4.165,
            6.934,
            8.416,
            22.176,
            1.701,
            40.629,
            12.712,
            10.331,
            0.0994,
            244.963,
            76.348,
            1.8862,
            0.0075,
            173.734,
            0.1773,
            0.241,
            1.765,
            7.301,
            0.3779,
            1.7472,
            18.701,
            0.2857,
            1653.9998,
            0.0428,
            586.694,
            0.1018,
            5.309,
            46.856,
            0.129,
            17.721,
            0.08,
            0.1786,
            18.221,
            14.598,
            0.2777,
            0.0640999999999999,
            8.527,
            0.274,
            4051.12,
            0.0039,
            0.108,
            2.854,
            7.278,
            54.608,
            217.712,
            0.0799,
            2.043,
            387.247,
            7.104026,
            11.721,
            1.04,
            0.0161,
            0.1493,
            6.131,
            67.174,
            0.107,
            28.04,
            5.644,
            0.582,
            6.091,
            0.0402,
            5.519,
            15.302,
            39.287,
            559.064,
            0.616,
            85.055,
            121.5789,
            0.233,
            0.0629,
            1.482,
            0.8247,
            74.945,
            0.191,
            7.257,
            0.102,
            0.0553,
            2.897,
            36.369,
            13.086,
            0.2,
            0.76499,
            62.499,
            1.3479,
            227.555,
            0.1512,
            0.4727,
            129.4,
            146.735,
            17.531,
            11.281,
            1.19,
            10.703,
            3.785,
            0.2,
            0.0315,
            85.946,
            35.06,
            1.7198,
            35.796,
            26.455,
            27.647,
            0.04692,
            0.093,
            8.152,
            11.51,
            0.1,
            1.854,
            4.0227534,
            49.31,
            1.015,
            3.769,
            0.14,
            15.699,
            87.406,
            6.191,
            0.018,
            0.14902,
            82.069,
            1.952,
            4.1,
            0.1271,
            0.0616,
            3.686,
            141.736,
            0.2188,
            0.8880011,
            3.975,
            8.587,
            0.859,
            891.285,
            0.7222,
            0.063,
            0.259,
            0.1568,
            3.697,
            34.664,
            0.023556,
            1.33,
            11.888,
            43.671,
            9.605,
            331.882,
            32.427,
            1.3063,
            54.735
           ]
          }
         ],
         "name": "2002"
        },
        {
         "data": [
          {
           "coloraxis": "coloraxis",
           "customdata": [
            [
             140.581
            ],
            [
             0.811991
            ],
            [
             8.799
            ],
            [
             35.506
            ],
            [
             0.294
            ],
            [
             0.018587
            ],
            [
             4.37
            ],
            [
             293.885
            ],
            [
             3.684
            ],
            [
             10.803
            ],
            [
             0.035
            ],
            [
             40.925
            ],
            [
             4.096
            ],
            [
             11.829
            ],
            [
             42.6
            ],
            [
             6.437
            ],
            [
             3.6893044
            ],
            [
             0.0448
            ],
            [
             1.397
            ],
            [
             98.133
            ],
            [
             46.186
            ],
            [
             1.567
            ],
            [
             0.976
            ],
            [
             0.115
            ],
            [
             2.267
            ],
            [
             0.211
            ],
            [
             47.041
            ],
            [
             84.312
            ],
            [
             63.866
            ],
            [
             566.839
            ],
            [
             8.308
            ],
            [
             0.031
            ],
            [
             0.0303
            ],
            [
             1.796
            ],
            [
             49.45
            ],
            [
             0.08
            ],
            [
             29.571
            ],
            [
             1047.942
            ],
            [
             0.021
            ],
            [
             2.296
            ],
            [
             92.609
            ],
            [
             0.127
            ],
            [
             0.0785
            ],
            [
             3.138
            ],
            [
             3.975
            ],
            [
             180.36
            ],
            [
             398.207
            ],
            [
             2.658
            ],
            [
             0.277
            ],
            [
             236.217
            ],
            [
             10.159
            ],
            [
             2.236
            ],
            [
             8.578
            ],
            [
             0.1019
            ],
            [
             4081.764
            ],
            [
             0.1883
            ],
            [
             0.19965
            ],
            [
             1.04
            ],
            [
             12.673
            ],
            [
             49.4
            ],
            [
             47.682
            ],
            [
             0.099
            ],
            [
             0.4446
            ],
            [
             0.461216
            ],
            [
             5.426
            ],
            [
             0.11
            ],
            [
             15.576
            ],
            [
             1.223
            ],
            [
             10.907
            ],
            [
             5.506
            ],
            [
             0.01625
            ],
            [
             5.23
            ],
            [
             0.2
            ],
            [
             90.23504
            ],
            [
             7.146
            ],
            [
             0.0038
            ],
            [
             2.082
            ],
            [
             0.4288
            ],
            [
             1.995
            ],
            [
             0.048
            ],
            [
             0.635
            ],
            [
             16.358
            ],
            [
             1.8022
            ],
            [
             13.265
            ],
            [
             8.044
            ],
            [
             0.249
            ],
            [
             0.1035
            ],
            [
             0.0584
            ],
            [
             1.046
            ],
            [
             589.653
            ],
            [
             1.181
            ],
            [
             0.15924
            ],
            [
             31.178
            ],
            [
             3.178
            ],
            [
             4.374
            ],
            [
             35.331
            ],
            [
             34.145
            ],
            [
             5.582
            ],
            [
             345.192
            ],
            [
             0.0964
            ],
            [
             0.8709
            ],
            [
             0.2238
            ],
            [
             35.366
            ],
            [
             51.76211
            ],
            [
             1.7774
            ],
            [
             0.1436
            ],
            [
             23.128
            ],
            [
             4.052
            ],
            [
             0.11
            ],
            [
             19.488
            ],
            [
             0.065
            ],
            [
             0.0291
            ],
            [
             234.229
            ],
            [
             58.471
            ],
            [
             80.826
            ],
            [
             19.712
            ],
            [
             11.266
            ],
            [
             0.11
            ],
            [
             0.28
            ],
            [
             0.0633
            ],
            [
             8.5
            ],
            [
             0.2797
            ],
            [
             13.82
            ],
            [
             7.768
            ],
            [
             1.9951
            ],
            [
             26.627
            ],
            [
             2.5291
            ],
            [
             0.664
            ],
            [
             0.1196
            ],
            [
             0.899
            ],
            [
             23.937
            ],
            [
             0.506
            ],
            [
             0.166
            ],
            [
             46.829
            ],
            [
             916.286
            ],
            [
             55.14
            ],
            [
             0.021682
            ],
            [
             0.08
            ],
            [
             1.3351
            ],
            [
             13.252
            ],
            [
             12.012
            ],
            [
             0.82047
            ],
            [
             3.621
            ],
            [
             46.852
            ],
            [
             1.023504
            ],
            [
             4.53
            ],
            [
             1.82
            ],
            [
             153
            ],
            [
             7.566
            ],
            [
             15.811
            ],
            [
             52.897
            ],
            [
             2.079
            ],
            [
             6.561
            ],
            [
             84.63
            ],
            [
             0.0541
            ],
            [
             151.631
            ],
            [
             20.998
            ],
            [
             0.535
            ],
            [
             0.115
            ],
            [
             0.0345
            ],
            [
             633.372
            ],
            [
             260.727
            ],
            [
             8.124426
            ],
            [
             1.535
            ],
            [
             0.8418
            ],
            [
             2.708
            ],
            [
             0.093
            ],
            [
             135.437
            ],
            [
             18.943
            ],
            [
             0.0178
            ],
            [
             0.3944
            ],
            [
             0.168
            ],
            [
             1.3283
            ],
            [
             222.121
            ],
            [
             39.802
            ],
            [
             209.072
            ],
            [
             0.1915
            ],
            [
             28.34
            ],
            [
             3.354
            ],
            [
             40.777
            ],
            [
             67.445
            ],
            [
             11.546
            ],
            [
             0.2
            ],
            [
             116.9829
            ],
            [
             96.818
            ],
            [
             0.641
            ],
            [
             0.1439
            ],
            [
             6.182
            ],
            [
             3.169
            ],
            [
             5.501
            ],
            [
             6.738
            ],
            [
             1.758
            ],
            [
             0.602
            ],
            [
             30.366
            ],
            [
             25.219
            ],
            [
             16.509
            ],
            [
             20.184
            ],
            [
             0.399
            ],
            [
             0.141
            ],
            [
             0.134
            ],
            [
             78.427
            ],
            [
             10.714
            ],
            [
             83.227
            ],
            [
             0.0077
            ],
            [
             0.1763
            ],
            [
             0.9356
            ],
            [
             5.905
            ],
            [
             1910.5752
            ],
            [
             112.944
            ],
            [
             21.286
            ],
            [
             0.29898
            ],
            [
             0.41
            ],
            [
             0.0428
            ],
            [
             608.779
            ],
            [
             107.273
            ],
            [
             0.1082
            ],
            [
             364.339
            ],
            [
             0.3424
            ],
            [
             5.0928
            ],
            [
             153.879
            ],
            [
             7.16
            ],
            [
             1.42
            ],
            [
             0.003
            ],
            [
             60.174
            ]
           ],
           "geo": "geo",
           "hovertemplate": "<b>%{hovertext}</b><br><br>year=2003<br>ISO=%{location}<br>Electric Energy Production TWh=%{z}<extra></extra>",
           "hovertext": [
            "Turkey",
            "Fiji",
            "Zimbabwe",
            "China, Hong Kong SAR",
            "Togo",
            "Wallis and Futuna Is.",
            "El Salvador",
            "Italy",
            "Cameroon",
            "Turkmenistan",
            "Comoros",
            "Viet Nam",
            "Yemen",
            "Tunisia",
            "Bulgaria",
            "Trinidad and Tobago",
            "Lao People's Dem. Rep.",
            "Tonga",
            "Martinique",
            "Egypt",
            "Denmark",
            "Namibia",
            "Afghanistan",
            "Chad",
            "Nepal",
            "Antigua and Barbuda",
            "Israel",
            "Finland",
            "Kazakhstan",
            "France",
            "Zambia",
            "Nauru",
            "Jersey",
            "China, Macao SAR",
            "United Arab Emirates",
            "Andorra",
            "Algeria",
            "Japan",
            "Montserrat",
            "Ethiopia",
            "Argentina",
            "Mayotte",
            "Dominica",
            "Mongolia",
            "Latvia",
            "Ukraine",
            "United Kingdom",
            "United Rep. of Tanzania",
            "Eritrea",
            "Mexico",
            "Estonia",
            "Malta",
            "Uruguay",
            "Micronesia (Fed. States of)",
            "United States",
            "American Samoa",
            "Cabo Verde",
            "United States Virgin Is.",
            "Lebanon",
            "Uzbekistan",
            "Colombia",
            "Equatorial Guinea",
            "Burkina Faso",
            "Mauritania",
            "Myanmar",
            "Turks and Caicos Islands",
            "Kyrgyzstan",
            "Mali",
            "Mozambique",
            "Kenya",
            "Falkland Is. (Malvinas)",
            "Albania",
            "Djibouti",
            "Venezuela (Bolivar. Rep.)",
            "Jamaica",
            "Tuvalu",
            "Mauritius",
            "Lesotho",
            "Angola",
            "Vanuatu",
            "Cambodia",
            "Morocco",
            "Uganda",
            "Dominican Republic",
            "Jordan",
            "Faeroe Islands",
            "Burundi",
            "Anguilla",
            "Republic of Moldova",
            "Canada",
            "Neth. Antilles (former)",
            "Grenada",
            "Slovakia",
            "Papua New Guinea",
            "Bolivia (Plur. State of)",
            "Singapore",
            "Hungary",
            "Panama",
            "Korea, Republic of",
            "Marshall Islands",
            "Barbados",
            "Seychelles",
            "Serbia and Montenegro",
            "Paraguay",
            "Guam",
            "Sierra Leone",
            "Peru",
            "Cyprus",
            "Palau",
            "Lithuania",
            "Timor-Leste",
            "Cook Islands",
            "South Africa",
            "Greece",
            "Pakistan",
            "Bangladesh",
            "Bosnia and Herzegovina",
            "Central African Rep.",
            "Somalia",
            "Solomon Islands",
            "Iceland",
            "Greenland",
            "Slovenia",
            "Bahrain",
            "Bahamas",
            "Belarus",
            "Bhutan",
            "Bermuda",
            "Rwanda",
            "Guinea",
            "Puerto Rico",
            "Cayman Islands",
            "Belize",
            "Chile",
            "Russian Federation",
            "Romania",
            "Guinea-Bissau",
            "Benin",
            "Malawi",
            "Croatia",
            "Qatar",
            "Guyana",
            "Luxembourg",
            "Portugal",
            "Madagascar",
            "Honduras",
            "Senegal",
            "Saudi Arabia",
            "Costa Rica",
            "Cuba",
            "Philippines",
            "Réunion",
            "Guatemala",
            "Belgium",
            "Guernsey",
            "Poland",
            "Korea, Dem.Ppl's.Rep.",
            "Haiti",
            "Samoa",
            "Sao Tome and Principe",
            "India",
            "Spain",
            "Sri Lanka",
            "Gabon",
            "Aruba",
            "Nicaragua",
            "British Virgin Islands",
            "Sweden",
            "Libya",
            "Kiribati",
            "Swaziland",
            "Gambia",
            "Suriname",
            "Australia",
            "Kuwait",
            "Other Asia",
            "Niger",
            "Iraq",
            "Sudan (former)",
            "New Zealand",
            "Switzerland",
            "Ecuador",
            "Liberia",
            "Thailand",
            "Netherlands",
            "French Guiana",
            "Isle of Man",
            "Dem. Rep. of the Congo",
            "Brunei Darussalam",
            "Armenia",
            "T.F.Yug.Rep. Macedonia",
            "New Caledonia",
            "French Polynesia",
            "Syrian Arab Republic",
            "Ireland",
            "Tajikistan",
            "Nigeria",
            "Congo",
            "Maldives",
            "Gibraltar",
            "Malaysia",
            "Oman",
            "Czechia",
            "St. Helena and Depend.",
            "St. Kitts-Nevis",
            "Botswana",
            "Ghana",
            "China",
            "Indonesia",
            "Azerbaijan",
            "St. Lucia",
            "Northern Mariana Islands",
            "St. Pierre-Miquelon",
            "Germany",
            "Norway",
            "St. Vincent-Grenadines",
            "Brazil",
            "State of Palestine",
            "Côte d'Ivoire",
            "Iran (Islamic Rep. of)",
            "Georgia",
            "Guadeloupe",
            "Niue",
            "Austria"
           ],
           "locations": [
            "TUR",
            "FJI",
            "ZWE",
            "HKG",
            "TGO",
            "WLF",
            "SLV",
            "ITA",
            "CMR",
            "TKM",
            "COM",
            "VNM",
            "YEM",
            "TUN",
            "BGR",
            "TTO",
            "LAO",
            "TON",
            "MTQ",
            "EGY",
            "DNK",
            "NAM",
            "AFG",
            "TCD",
            "NPL",
            "ATG",
            "ISR",
            "FIN",
            "KAZ",
            "FRA",
            "ZMB",
            "NRU",
            "JEY",
            "MAC",
            "ARE",
            "AND",
            "DZA",
            "JPN",
            "MSR",
            "ETH",
            "ARG",
            "MYT",
            "DMA",
            "MNG",
            "LVA",
            "UKR",
            "GBR",
            "TZA",
            "ERI",
            "MEX",
            "EST",
            "MLT",
            "URY",
            "FSM",
            "USA",
            "ASM",
            "CPV",
            "VIR",
            "LBN",
            "UZB",
            "COL",
            "GNQ",
            "BFA",
            "MRT",
            "MMR",
            "TCA",
            "KGZ",
            "MLI",
            "MOZ",
            "KEN",
            "MDV",
            "ALB",
            "DJI",
            "VEN",
            "JAM",
            "TUV",
            "MUS",
            "LSO",
            "AGO",
            "VUT",
            "KHM",
            "MAR",
            "UGA",
            "DOM",
            "JOR",
            "FRO",
            "BDI",
            "AIA",
            "MDA",
            "CAN",
            "@@@",
            "GRD",
            "SVK",
            "PNG",
            "BOL",
            "SGP",
            "HUN",
            "PAN",
            "KOR",
            "MHL",
            "BRB",
            "SYC",
            "SRB",
            "PRY",
            "GUM",
            "SLE",
            "PER",
            "CYP",
            "PLW",
            "LTU",
            "TLS",
            "COK",
            "ZAF",
            "GRC",
            "PAK",
            "BGD",
            "BIH",
            "CAF",
            "SOM",
            "SLB",
            "ISL",
            "GRL",
            "SVN",
            "BHR",
            "BHS",
            "BLR",
            "BTN",
            "BMU",
            "RWA",
            "GIN",
            "PRI",
            "CYM",
            "BLZ",
            "CHL",
            "RUS",
            "ROU",
            "GNB",
            "BEN",
            "MWI",
            "HRV",
            "QAT",
            "GUY",
            "LUX",
            "PRT",
            "MDG",
            "HND",
            "SEN",
            "SAU",
            "CRI",
            "CUB",
            "PHL",
            "REU",
            "GTM",
            "BEL",
            "GGY",
            "POL",
            "PRK",
            "HTI",
            "WSM",
            "STP",
            "IND",
            "ESP",
            "LKA",
            "GAB",
            "ABW",
            "NIC",
            "VGB",
            "SWE",
            "LBY",
            "KIR",
            "SWZ",
            "GMB",
            "SUR",
            "AUS",
            "KWT",
            "@@@",
            "NER",
            "IRQ",
            "SDN",
            "NZL",
            "CHE",
            "ECU",
            "LBR",
            "THA",
            "NLD",
            "GUF",
            "IMN",
            "COD",
            "BRN",
            "ARM",
            "MKD",
            "NCL",
            "PYF",
            "SYR",
            "IRL",
            "TJK",
            "NGA",
            "COG",
            "MDV",
            "GIB",
            "MYS",
            "OMN",
            "CZE",
            "SHN",
            "KNA",
            "BWA",
            "GHA",
            "CHN",
            "IDN",
            "AZE",
            "LCA",
            "MNP",
            "SPM",
            "DEU",
            "NOR",
            "VCT",
            "BRA",
            "PSE",
            "CIV",
            "IRN",
            "GEO",
            "GLP",
            "NIU",
            "AUT"
           ],
           "name": "",
           "type": "choropleth",
           "z": [
            140.581,
            0.811991,
            8.799,
            35.506,
            0.294,
            0.018587,
            4.37,
            293.885,
            3.684,
            10.803,
            0.035,
            40.925,
            4.096,
            11.829,
            42.6,
            6.437,
            3.6893044,
            0.0448,
            1.397,
            98.133,
            46.186,
            1.567,
            0.976,
            0.115,
            2.267,
            0.211,
            47.041,
            84.312,
            63.866,
            566.839,
            8.308,
            0.031,
            0.0303,
            1.796,
            49.45,
            0.08,
            29.571,
            1047.942,
            0.021,
            2.296,
            92.609,
            0.127,
            0.0785,
            3.138,
            3.975,
            180.36,
            398.207,
            2.658,
            0.277,
            236.217,
            10.159,
            2.236,
            8.578,
            0.1019,
            4081.764,
            0.1883,
            0.19965,
            1.04,
            12.673,
            49.4,
            47.682,
            0.099,
            0.4446,
            0.461216,
            5.426,
            0.11,
            15.576,
            1.223,
            10.907,
            5.506,
            0.01625,
            5.23,
            0.2,
            90.23504,
            7.146,
            0.0038,
            2.082,
            0.4288,
            1.995,
            0.048,
            0.635,
            16.358,
            1.8022,
            13.265,
            8.044,
            0.249,
            0.1035,
            0.0584,
            1.046,
            589.653,
            1.181,
            0.15924,
            31.178,
            3.178,
            4.374,
            35.331,
            34.145,
            5.582,
            345.192,
            0.0964,
            0.8709,
            0.2238,
            35.366,
            51.76211,
            1.7774,
            0.1436,
            23.128,
            4.052,
            0.11,
            19.488,
            0.065,
            0.0291,
            234.229,
            58.471,
            80.826,
            19.712,
            11.266,
            0.11,
            0.28,
            0.0633,
            8.5,
            0.2797,
            13.82,
            7.768,
            1.9951,
            26.627,
            2.5291,
            0.664,
            0.1196,
            0.899,
            23.937,
            0.506,
            0.166,
            46.829,
            916.286,
            55.14,
            0.021682,
            0.08,
            1.3351,
            13.252,
            12.012,
            0.82047,
            3.621,
            46.852,
            1.023504,
            4.53,
            1.82,
            153,
            7.566,
            15.811,
            52.897,
            2.079,
            6.561,
            84.63,
            0.0541,
            151.631,
            20.998,
            0.535,
            0.115,
            0.0345,
            633.372,
            260.727,
            8.124426,
            1.535,
            0.8418,
            2.708,
            0.093,
            135.437,
            18.943,
            0.0178,
            0.3944,
            0.168,
            1.3283,
            222.121,
            39.802,
            209.072,
            0.1915,
            28.34,
            3.354,
            40.777,
            67.445,
            11.546,
            0.2,
            116.9829,
            96.818,
            0.641,
            0.1439,
            6.182,
            3.169,
            5.501,
            6.738,
            1.758,
            0.602,
            30.366,
            25.219,
            16.509,
            20.184,
            0.399,
            0.141,
            0.134,
            78.427,
            10.714,
            83.227,
            0.0077,
            0.1763,
            0.9356,
            5.905,
            1910.5752,
            112.944,
            21.286,
            0.29898,
            0.41,
            0.0428,
            608.779,
            107.273,
            0.1082,
            364.339,
            0.3424,
            5.0928,
            153.879,
            7.16,
            1.42,
            0.003,
            60.174
           ]
          }
         ],
         "name": "2003"
        },
        {
         "data": [
          {
           "coloraxis": "coloraxis",
           "customdata": [
            [
             0.165
            ],
            [
             1.4745
            ],
            [
             12.478
            ],
            [
             19.274
            ],
            [
             599.976
            ],
            [
             0.15
            ],
            [
             0.4039
            ],
            [
             2.216
            ],
            [
             0.2
            ],
            [
             0.122
            ],
            [
             4.689
            ],
            [
             1.243
            ],
            [
             94.83577
            ],
            [
             20.202
            ],
            [
             1.134753
            ],
            [
             0.451
            ],
            [
             4.132
            ],
            [
             12.873
            ],
            [
             4.11
            ],
            [
             125.7269
            ],
            [
             16.491
            ],
            [
             6.03
            ],
            [
             6.667
            ],
            [
             32.137
            ],
            [
             65.584
            ],
            [
             0.8658
            ],
            [
             151.728
            ],
            [
             0.3545
            ],
            [
             1.4069
            ],
            [
             229.784
            ],
            [
             3.467
            ],
            [
             0.3955
            ],
            [
             64.151
            ],
            [
             0.1207
            ],
            [
             0.0426
            ],
            [
             0.30854
            ],
            [
             21.743
            ],
            [
             0.1788
            ],
            [
             0.008
            ],
            [
             8.742826
            ],
            [
             1.9797
            ],
            [
             280.007
            ],
            [
             244.607
            ],
            [
             8.448
            ],
            [
             0.28
            ],
            [
             0.0634
            ],
            [
             15.271
            ],
            [
             24.684
            ],
            [
             0.067
            ],
            [
             100.26
            ],
            [
             0.265
            ],
            [
             0.0473
            ],
            [
             9.719
            ],
            [
             0.78
            ],
            [
             8.507
            ],
            [
             4.365
            ],
            [
             0.019407
            ],
            [
             46.209
            ],
            [
             5.559
            ],
            [
             98.552
            ],
            [
             0.04896
            ],
            [
             50
            ],
            [
             31.25
            ],
            [
             5.899
            ],
            [
             1.05
            ],
            [
             0.1881
            ],
            [
             30.567
            ],
            [
             4174.856
            ],
            [
             393.936
            ],
            [
             0.094
            ],
            [
             52.417
            ],
            [
             182.165
            ],
            [
             1.9422
            ],
            [
             2.24
            ],
            [
             0.0041
            ],
            [
             0.116
            ],
            [
             0.0621
            ],
            [
             11.923
            ],
            [
             150.698
            ],
            [
             12.455
            ],
            [
             0.221
            ],
            [
             6.43
            ],
            [
             2.894
            ],
            [
             36.81
            ],
            [
             0.1198
            ],
            [
             0.89529
            ],
            [
             0.4
            ],
            [
             0.003
            ],
            [
             387.451
            ],
            [
             24.275
            ],
            [
             0.200602
            ],
            [
             2.822
            ],
            [
             0.097
            ],
            [
             42.505
            ],
            [
             1.678
            ],
            [
             3.236
            ],
            [
             101.214
            ],
            [
             2.418
            ],
            [
             41.621
            ],
            [
             0.0319
            ],
            [
             110.617
            ],
            [
             1.588
            ],
            [
             0.4733
            ],
            [
             11.714
            ],
            [
             17.496
            ],
            [
             0.0936
            ],
            [
             0.021
            ],
            [
             3.303
            ],
            [
             0.0969
            ],
            [
             0.21981
            ],
            [
             237.583
            ],
            [
             0.141
            ],
            [
             2.1654
            ],
            [
             0.765
            ],
            [
             0.5045
            ],
            [
             1.442
            ],
            [
             5.608
            ],
            [
             0.1013
            ],
            [
             0.8231
            ],
            [
             218.397
            ],
            [
             0.22598
            ],
            [
             37.686
            ],
            [
             31.21
            ],
            [
             2.061
            ],
            [
             159.875
            ],
            [
             0.0373
            ],
            [
             85.643
            ],
            [
             0.1056
            ],
            [
             2.19108
            ],
            [
             0.1437
            ],
            [
             0.148219
            ],
            [
             931.865
            ],
            [
             56.499
            ],
            [
             0.081
            ],
            [
             11.499
            ],
            [
             1.022
            ],
            [
             24.135
            ],
            [
             0.667
            ],
            [
             45.105
            ],
            [
             154.159
            ],
            [
             55.957
            ],
            [
             2.3548
            ],
            [
             24.415
            ],
            [
             51.92121
            ],
            [
             4.5422
            ],
            [
             3.402
            ],
            [
             5.761
            ],
            [
             0.1136
            ],
            [
             85.628
            ],
            [
             12.728
            ],
            [
             13.233
            ],
            [
             51.208
            ],
            [
             1.21
            ],
            [
             8.623
            ],
            [
             85.831
            ],
            [
             574.055
            ],
            [
             40.436
            ],
            [
             7.249
            ],
            [
             6.4416
            ],
            [
             16.312
            ],
            [
             0.249
            ],
            [
             41.256
            ],
            [
             25.569
            ],
            [
             0.643
            ],
            [
             13.99
            ],
            [
             0.01635
            ],
            [
             0.028285
            ],
            [
             15.633
            ],
            [
             5.403
            ],
            [
             368.162
            ],
            [
             0.973
            ],
            [
             665.986
            ],
            [
             1.973
            ],
            [
             617.469
            ],
            [
             0.283
            ],
            [
             6.924
            ],
            [
             1.54
            ],
            [
             2.539
            ],
            [
             0.185
            ],
            [
             1077.431
            ],
            [
             0.0792
            ],
            [
             8.209
            ],
            [
             32.295
            ],
            [
             4.201
            ],
            [
             66.942
            ],
            [
             120.16
            ],
            [
             50.228
            ],
            [
             4.877
            ],
            [
             0.85366
            ],
            [
             1.473
            ],
            [
             104.249
            ],
            [
             0.13592
            ],
            [
             0.665
            ],
            [
             11.795
            ],
            [
             0.0633
            ],
            [
             166.023
            ],
            [
             0.0298
            ],
            [
             10.304
            ],
            [
             0.397
            ],
            [
             4.505
            ],
            [
             0.122
            ],
            [
             7.456
            ],
            [
             47.279
            ],
            [
             0.0439
            ],
            [
             2203.3102
            ],
            [
             0.547
            ],
            [
             33.708
            ],
            [
             8.97
            ],
            [
             0.215
            ],
            [
             59.346
            ],
            [
             3.8587588
            ],
            [
             21.973
            ],
            [
             7.086
            ],
            [
             303.347
            ],
            [
             0.0205
            ],
            [
             0.1893
            ],
            [
             6.044
            ],
            [
             0.3369
            ],
            [
             84.333
            ],
            [
             0.136
            ],
            [
             0.0464
            ],
            [
             0.815994
            ],
            [
             37.129
            ],
            [
             1.8778
            ]
           ],
           "geo": "geo",
           "hovertemplate": "<b>%{hovertext}</b><br><br>year=2004<br>ISO=%{location}<br>Electric Energy Production TWh=%{z}<extra></extra>",
           "hovertext": [
            "Maldives",
            "Malawi",
            "Lebanon",
            "Lithuania",
            "Canada",
            "Central African Rep.",
            "Lesotho",
            "Malta",
            "Liberia",
            "Chad",
            "Latvia",
            "Mali",
            "Malaysia",
            "Libya",
            "Madagascar",
            "Cayman Islands",
            "Luxembourg",
            "Ecuador",
            "Cameroon",
            "Thailand",
            "Tajikistan",
            "Armenia",
            "T.F.Yug.Rep. Macedonia",
            "Syrian Arab Republic",
            "Switzerland",
            "Aruba",
            "Sweden",
            "Swaziland",
            "Suriname",
            "Australia",
            "Sudan (former)",
            "State of Palestine",
            "Austria",
            "St. Vincent-Grenadines",
            "St. Pierre-Miquelon",
            "St. Lucia",
            "Azerbaijan",
            "St. Kitts-Nevis",
            "St. Helena and Depend.",
            "Sri Lanka",
            "Bahamas",
            "Spain",
            "South Africa",
            "Bahrain",
            "Somalia",
            "Solomon Islands",
            "Slovenia",
            "Bangladesh",
            "Timor-Leste",
            "Argentina",
            "Togo",
            "Tonga",
            "Zimbabwe",
            "Afghanistan",
            "Zambia",
            "Yemen",
            "Wallis and Futuna Is.",
            "Viet Nam",
            "Albania",
            "Venezuela (Bolivar. Rep.)",
            "Vanuatu",
            "Uzbekistan",
            "Algeria",
            "Uruguay",
            "United States Virgin Is.",
            "American Samoa",
            "Slovakia",
            "United States",
            "United Kingdom",
            "Andorra",
            "United Arab Emirates",
            "Ukraine",
            "Uganda",
            "Angola",
            "Tuvalu",
            "Turks and Caicos Islands",
            "Anguilla",
            "Turkmenistan",
            "Turkey",
            "Tunisia",
            "Antigua and Barbuda",
            "Trinidad and Tobago",
            "United Rep. of Tanzania",
            "Singapore",
            "Sierra Leone",
            "Barbados",
            "Northern Mariana Islands",
            "Niue",
            "Brazil",
            "Nigeria",
            "Niger",
            "Nicaragua",
            "British Virgin Islands",
            "New Zealand",
            "New Caledonia",
            "Brunei Darussalam",
            "Netherlands",
            "Nepal",
            "Bulgaria",
            "Nauru",
            "Norway",
            "Namibia",
            "Burkina Faso",
            "Mozambique",
            "Morocco",
            "Burundi",
            "Montserrat",
            "Mongolia",
            "Micronesia (Fed. States of)",
            "Cabo Verde",
            "Mexico",
            "Mayotte",
            "Mauritius",
            "Cambodia",
            "Mauritania",
            "Martinique",
            "Myanmar",
            "Marshall Islands",
            "Botswana",
            "Other Asia",
            "Seychelles",
            "Serbia and Montenegro",
            "Belarus",
            "Senegal",
            "Saudi Arabia",
            "Sao Tome and Principe",
            "Belgium",
            "Samoa",
            "Réunion",
            "Rwanda",
            "Belize",
            "Russian Federation",
            "Romania",
            "Benin",
            "Oman",
            "Republic of Moldova",
            "Puerto Rico",
            "Bermuda",
            "Portugal",
            "Poland",
            "Philippines",
            "Bhutan",
            "Peru",
            "Paraguay",
            "Bolivia (Plur. State of)",
            "Papua New Guinea",
            "Panama",
            "Palau",
            "Pakistan",
            "Bosnia and Herzegovina",
            "Qatar",
            "Chile",
            "Neth. Antilles (former)",
            "Iceland",
            "Finland",
            "France",
            "Denmark",
            "Jamaica",
            "Kenya",
            "Kyrgyzstan",
            "Faeroe Islands",
            "Kuwait",
            "Ireland",
            "French Polynesia",
            "Croatia",
            "Falkland Is. (Malvinas)",
            "Guinea-Bissau",
            "Cuba",
            "Côte d'Ivoire",
            "Korea, Republic of",
            "Guinea",
            "India",
            "China, Macao SAR",
            "Germany",
            "Eritrea",
            "Georgia",
            "Gabon",
            "Ethiopia",
            "Gambia",
            "Japan",
            "Dominica",
            "Costa Rica",
            "Iraq",
            "Cyprus",
            "Kazakhstan",
            "Indonesia",
            "Colombia",
            "Honduras",
            "Guyana",
            "Guadeloupe",
            "Egypt",
            "Grenada",
            "French Guiana",
            "Dominican Republic",
            "Guernsey",
            "Iran (Islamic Rep. of)",
            "Cook Islands",
            "Estonia",
            "Congo",
            "El Salvador",
            "Equatorial Guinea",
            "Guatemala",
            "Israel",
            "Comoros",
            "China",
            "Haiti",
            "Hungary",
            "Jordan",
            "Djibouti",
            "Greece",
            "Lao People's Dem. Rep.",
            "Korea, Dem.Ppl's.Rep.",
            "Dem. Rep. of the Congo",
            "Italy",
            "Kiribati",
            "Isle of Man",
            "Ghana",
            "Greenland",
            "Czechia",
            "Gibraltar",
            "Jersey",
            "Fiji",
            "China, Hong Kong SAR",
            "Guam"
           ],
           "locations": [
            "MDV",
            "MWI",
            "LBN",
            "LTU",
            "CAN",
            "CAF",
            "LSO",
            "MLT",
            "LBR",
            "TCD",
            "LVA",
            "MLI",
            "MYS",
            "LBY",
            "MDG",
            "CYM",
            "LUX",
            "ECU",
            "CMR",
            "THA",
            "TJK",
            "ARM",
            "MKD",
            "SYR",
            "CHE",
            "ABW",
            "SWE",
            "SWZ",
            "SUR",
            "AUS",
            "SDN",
            "PSE",
            "AUT",
            "VCT",
            "SPM",
            "LCA",
            "AZE",
            "KNA",
            "SHN",
            "LKA",
            "BHS",
            "ESP",
            "ZAF",
            "BHR",
            "SOM",
            "SLB",
            "SVN",
            "BGD",
            "TLS",
            "ARG",
            "TGO",
            "TON",
            "ZWE",
            "AFG",
            "ZMB",
            "YEM",
            "WLF",
            "VNM",
            "ALB",
            "VEN",
            "VUT",
            "UZB",
            "DZA",
            "URY",
            "VIR",
            "ASM",
            "SVK",
            "USA",
            "GBR",
            "AND",
            "ARE",
            "UKR",
            "UGA",
            "AGO",
            "TUV",
            "TCA",
            "AIA",
            "TKM",
            "TUR",
            "TUN",
            "ATG",
            "TTO",
            "TZA",
            "SGP",
            "SLE",
            "BRB",
            "MNP",
            "NIU",
            "BRA",
            "NGA",
            "NER",
            "NIC",
            "VGB",
            "NZL",
            "NCL",
            "BRN",
            "NLD",
            "NPL",
            "BGR",
            "NRU",
            "NOR",
            "NAM",
            "BFA",
            "MOZ",
            "MAR",
            "BDI",
            "MSR",
            "MNG",
            "FSM",
            "CPV",
            "MEX",
            "MYT",
            "MUS",
            "KHM",
            "MRT",
            "MTQ",
            "MMR",
            "MHL",
            "BWA",
            "@@@",
            "SYC",
            "SRB",
            "BLR",
            "SEN",
            "SAU",
            "STP",
            "BEL",
            "WSM",
            "REU",
            "RWA",
            "BLZ",
            "RUS",
            "ROU",
            "BEN",
            "OMN",
            "MDA",
            "PRI",
            "BMU",
            "PRT",
            "POL",
            "PHL",
            "BTN",
            "PER",
            "PRY",
            "BOL",
            "PNG",
            "PAN",
            "PLW",
            "PAK",
            "BIH",
            "QAT",
            "CHL",
            "@@@",
            "ISL",
            "FIN",
            "FRA",
            "DNK",
            "JAM",
            "KEN",
            "KGZ",
            "FRO",
            "KWT",
            "IRL",
            "PYF",
            "HRV",
            "MDV",
            "GNB",
            "CUB",
            "CIV",
            "KOR",
            "GIN",
            "IND",
            "MAC",
            "DEU",
            "ERI",
            "GEO",
            "GAB",
            "ETH",
            "GMB",
            "JPN",
            "DMA",
            "CRI",
            "IRQ",
            "CYP",
            "KAZ",
            "IDN",
            "COL",
            "HND",
            "GUY",
            "GLP",
            "EGY",
            "GRD",
            "GUF",
            "DOM",
            "GGY",
            "IRN",
            "COK",
            "EST",
            "COG",
            "SLV",
            "GNQ",
            "GTM",
            "ISR",
            "COM",
            "CHN",
            "HTI",
            "HUN",
            "JOR",
            "DJI",
            "GRC",
            "LAO",
            "PRK",
            "COD",
            "ITA",
            "KIR",
            "IMN",
            "GHA",
            "GRL",
            "CZE",
            "GIB",
            "JEY",
            "FJI",
            "HKG",
            "GUM"
           ],
           "name": "",
           "type": "choropleth",
           "z": [
            0.165,
            1.4745,
            12.478,
            19.274,
            599.976,
            0.15,
            0.4039,
            2.216,
            0.2,
            0.122,
            4.689,
            1.243,
            94.83577,
            20.202,
            1.134753,
            0.451,
            4.132,
            12.873,
            4.11,
            125.7269,
            16.491,
            6.03,
            6.667,
            32.137,
            65.584,
            0.8658,
            151.728,
            0.3545,
            1.4069,
            229.784,
            3.467,
            0.3955,
            64.151,
            0.1207,
            0.0426,
            0.30854,
            21.743,
            0.1788,
            0.008,
            8.742826,
            1.9797,
            280.007,
            244.607,
            8.448,
            0.28,
            0.0634,
            15.271,
            24.684,
            0.067,
            100.26,
            0.265,
            0.0473,
            9.719,
            0.78,
            8.507,
            4.365,
            0.019407,
            46.209,
            5.559,
            98.552,
            0.04896,
            50,
            31.25,
            5.899,
            1.05,
            0.1881,
            30.567,
            4174.856,
            393.936,
            0.094,
            52.417,
            182.165,
            1.9422,
            2.24,
            0.0041,
            0.116,
            0.0621,
            11.923,
            150.698,
            12.455,
            0.221,
            6.43,
            2.894,
            36.81,
            0.1198,
            0.89529,
            0.4,
            0.003,
            387.451,
            24.275,
            0.200602,
            2.822,
            0.097,
            42.505,
            1.678,
            3.236,
            101.214,
            2.418,
            41.621,
            0.0319,
            110.617,
            1.588,
            0.4733,
            11.714,
            17.496,
            0.0936,
            0.021,
            3.303,
            0.0969,
            0.21981,
            237.583,
            0.141,
            2.1654,
            0.765,
            0.5045,
            1.442,
            5.608,
            0.1013,
            0.8231,
            218.397,
            0.22598,
            37.686,
            31.21,
            2.061,
            159.875,
            0.0373,
            85.643,
            0.1056,
            2.19108,
            0.1437,
            0.148219,
            931.865,
            56.499,
            0.081,
            11.499,
            1.022,
            24.135,
            0.667,
            45.105,
            154.159,
            55.957,
            2.3548,
            24.415,
            51.92121,
            4.5422,
            3.402,
            5.761,
            0.1136,
            85.628,
            12.728,
            13.233,
            51.208,
            1.21,
            8.623,
            85.831,
            574.055,
            40.436,
            7.249,
            6.4416,
            16.312,
            0.249,
            41.256,
            25.569,
            0.643,
            13.99,
            0.01635,
            0.028285,
            15.633,
            5.403,
            368.162,
            0.973,
            665.986,
            1.973,
            617.469,
            0.283,
            6.924,
            1.54,
            2.539,
            0.185,
            1077.431,
            0.0792,
            8.209,
            32.295,
            4.201,
            66.942,
            120.16,
            50.228,
            4.877,
            0.85366,
            1.473,
            104.249,
            0.13592,
            0.665,
            11.795,
            0.0633,
            166.023,
            0.0298,
            10.304,
            0.397,
            4.505,
            0.122,
            7.456,
            47.279,
            0.0439,
            2203.3102,
            0.547,
            33.708,
            8.97,
            0.215,
            59.346,
            3.8587588,
            21.973,
            7.086,
            303.347,
            0.0205,
            0.1893,
            6.044,
            0.3369,
            84.333,
            0.136,
            0.0464,
            0.815994,
            37.129,
            1.8778
           ]
          }
         ],
         "name": "2004"
        },
        {
         "data": [
          {
           "coloraxis": "coloraxis",
           "customdata": [
            [
             82.578
            ],
            [
             138.009
            ],
            [
             12.623
            ],
            [
             294.077
            ],
            [
             67.916
            ],
            [
             9.651
            ],
            [
             0.4789
            ],
            [
             0.122
            ],
            [
             0.39
            ],
            [
             576.064
            ],
            [
             0.23043
            ],
            [
             0.04994
            ],
            [
             953.086
            ],
            [
             127.369
            ],
            [
             2.2714
            ],
            [
             0.964
            ],
            [
             0.0836
            ],
            [
             0.99279
            ],
            [
             5.443
            ],
            [
             38.213
            ],
            [
             161.956
            ],
            [
             1.271
            ],
            [
             12.602
            ],
            [
             38.448
            ],
            [
             0.0219
            ],
            [
             1.574
            ],
            [
             621.705
            ],
            [
             0.0299
            ],
            [
             93.629
            ],
            [
             0.185
            ],
            [
             107.053
            ],
            [
             1.881
            ],
            [
             1.229
            ],
            [
             53.656
            ],
            [
             4.83
            ],
            [
             3.826
            ],
            [
             228.65
            ],
            [
             6.7365
            ],
            [
             6.945
            ],
            [
             1.51
            ],
            [
             0.9417
            ],
            [
             0.3236
            ],
            [
             1.573
            ],
            [
             4.004
            ],
            [
             105.99
            ],
            [
             0.026244
            ],
            [
             59.413
            ],
            [
             0.1005
            ],
            [
             13.162
            ],
            [
             0.245
            ],
            [
             0.2617
            ],
            [
             697.47
            ],
            [
             227.362
            ],
            [
             2.24
            ],
            [
             12.648
            ],
            [
             2.027
            ],
            [
             244.922
            ],
            [
             0.159
            ],
            [
             8.850716
            ],
            [
             1.883
            ],
            [
             7.058
            ],
            [
             7.822
            ],
            [
             6.06416
            ],
            [
             0.243
            ],
            [
             0.631
            ],
            [
             70.572
            ],
            [
             3.613
            ],
            [
             0.5163
            ],
            [
             15.341
            ],
            [
             0.968429
            ],
            [
             36.048
            ],
            [
             2.271
            ],
            [
             13.285
            ],
            [
             42.968
            ],
            [
             7.422
            ],
            [
             176.124
            ],
            [
             25.97
            ],
            [
             2.085
            ],
            [
             303.7
            ],
            [
             3.264
            ],
            [
             66.409
            ],
            [
             0.0475
            ],
            [
             0.189
            ],
            [
             1.248
            ],
            [
             2.533
            ],
            [
             48.602
            ],
            [
             87.025
            ],
            [
             44.365
            ],
            [
             1.585
            ],
            [
             10.205
            ],
            [
             0.1105
            ],
            [
             0.0283
            ],
            [
             0.0531
            ],
            [
             4294.368
            ],
            [
             0.4346
            ],
            [
             99.921
            ],
            [
             0.1317
            ],
            [
             0.0414
            ],
            [
             0.0837
            ],
            [
             60.698
            ],
            [
             0.098
            ],
            [
             0.0424
            ],
            [
             32.875
            ],
            [
             0.1178
            ],
            [
             0.911
            ],
            [
             23.539
            ],
            [
             0.0755
            ],
            [
             49.2
            ],
            [
             1.8972
            ],
            [
             8.686
            ],
            [
             0.085
            ],
            [
             0.156217
            ],
            [
             402.938
            ],
            [
             178.08834
            ],
            [
             250.718
            ],
            [
             0.433
            ],
            [
             0.048
            ],
            [
             0.003
            ],
            [
             59.647
            ],
            [
             36.246
            ],
            [
             0.23706
            ],
            [
             19.243
            ],
            [
             36.474
            ],
            [
             0.233087
            ],
            [
             622.579
            ],
            [
             2.866
            ],
            [
             30.961
            ],
            [
             50.41159
            ],
            [
             0.1023
            ],
            [
             0.288
            ],
            [
             7.267
            ],
            [
             398.355
            ],
            [
             3.419
            ],
            [
             0.0217
            ],
            [
             13.007
            ],
            [
             1.908
            ],
            [
             7.683
            ],
            [
             5.5658
            ],
            [
             29.297
            ],
            [
             2.845
            ],
            [
             2.864
            ],
            [
             0.5005
            ],
            [
             1099.79
            ],
            [
             0.0292
            ],
            [
             186.055
            ],
            [
             0.145
            ],
            [
             8.2595
            ],
            [
             0.069
            ],
            [
             3.438
            ],
            [
             0.203
            ],
            [
             0.132
            ],
            [
             0.00808
            ],
            [
             8.867
            ],
            [
             56.604
            ],
            [
             26.506
            ],
            [
             6.793
            ],
            [
             1.1486963
            ],
            [
             0.4572
            ],
            [
             16.415
            ],
            [
             4.896
            ],
            [
             14.396
            ],
            [
             17.09
            ],
            [
             0.01685
            ],
            [
             158.436
            ],
            [
             0.691
            ],
            [
             12.433
            ],
            [
             0.29
            ],
            [
             5.827
            ],
            [
             24.962
            ],
            [
             0.482
            ],
            [
             0.823038
            ],
            [
             0.9105
            ],
            [
             31.455
            ],
            [
             0.64386
            ],
            [
             132.1973
            ],
            [
             0.1904
            ],
            [
             0.3551
            ],
            [
             4.377
            ],
            [
             51.15635
            ],
            [
             0.072
            ],
            [
             2500.26
            ],
            [
             22.317
            ],
            [
             43.734
            ],
            [
             14.784
            ],
            [
             25.66
            ],
            [
             0.906
            ],
            [
             0.298
            ],
            [
             0.0741
            ],
            [
             35.756
            ],
            [
             4.768
            ],
            [
             0.16
            ],
            [
             111.69
            ],
            [
             15.117
            ],
            [
             0.0042
            ],
            [
             0.2
            ],
            [
             389.39
            ],
            [
             8.936
            ],
            [
             2.6475
            ],
            [
             5.579
            ],
            [
             4.132
            ],
            [
             0.129
            ],
            [
             6.317
            ],
            [
             0.408
            ],
            [
             0.556
            ],
            [
             1.517
            ],
            [
             0.107
            ],
            [
             0.699
            ],
            [
             22.912
            ],
            [
             4.905
            ],
            [
             52.484
            ],
            [
             4.01792
            ],
            [
             0.020334
            ],
            [
             7.397
            ],
            [
             100.89766
            ],
            [
             12.823
            ],
            [
             46.575
            ],
            [
             0.14731
            ],
            [
             2.632
            ],
            [
             9.374
            ],
            [
             22.872
            ],
            [
             60.02
            ],
            [
             1.5439
            ],
            [
             12.717
            ],
            [
             0.118
            ],
            [
             156.936
            ]
           ],
           "geo": "geo",
           "hovertemplate": "<b>%{hovertext}</b><br><br>year=2005<br>ISO=%{location}<br>Electric Energy Production TWh=%{z}<extra></extra>",
           "hovertext": [
            "Czechia",
            "Norway",
            "Dominican Republic",
            "Spain",
            "Kazakhstan",
            "Jordan",
            "Mauritania",
            "Equatorial Guinea",
            "Northern Mariana Islands",
            "France",
            "Seychelles",
            "Vanuatu",
            "Russian Federation",
            "Indonesia",
            "Mauritius",
            "Cambodia",
            "Sierra Leone",
            "Barbados",
            "Albania",
            "Singapore",
            "Turkey",
            "Mali",
            "Bosnia and Herzegovina",
            "China, Hong Kong SAR",
            "Kiribati",
            "Gabon",
            "Canada",
            "Cook Islands",
            "Pakistan",
            "Maldives",
            "Argentina",
            "Uganda",
            "Republic of Moldova",
            "Viet Nam",
            "El Salvador",
            "Sudan (former)",
            "Australia",
            "Kenya",
            "T.F.Yug.Rep. Macedonia",
            "Martinique",
            "Botswana",
            "St. Lucia",
            "Guadeloupe",
            "Cameroon",
            "Venezuela (Bolivar. Rep.)",
            "Guinea-Bissau",
            "Romania",
            "Marshall Islands",
            "Croatia",
            "Faeroe Islands",
            "Togo",
            "India",
            "Other Asia",
            "Malta",
            "Oman",
            "China, Macao SAR",
            "South Africa",
            "Mayotte",
            "Sri Lanka",
            "New Caledonia",
            "Trinidad and Tobago",
            "Guatemala",
            "Myanmar",
            "Antigua and Barbuda",
            "French Polynesia",
            "Finland",
            "United Rep. of Tanzania",
            "Burkina Faso",
            "Cuba",
            "United States Virgin Is.",
            "Syrian Arab Republic",
            "Réunion",
            "Mozambique",
            "New Zealand",
            "Jamaica",
            "Saudi Arabia",
            "Ireland",
            "Bahamas",
            "Italy",
            "Brunei Darussalam",
            "Austria",
            "Comoros",
            "American Samoa",
            "Neth. Antilles (former)",
            "Nepal",
            "Israel",
            "Belgium",
            "Bulgaria",
            "Namibia",
            "Estonia",
            "Samoa",
            "Nauru",
            "Guernsey",
            "United States",
            "Isle of Man",
            "Netherlands",
            "St. Vincent-Grenadines",
            "Sao Tome and Principe",
            "Dominica",
            "United Arab Emirates",
            "British Virgin Islands",
            "St. Pierre-Miquelon",
            "Algeria",
            "Rwanda",
            "Guinea",
            "Nigeria",
            "Micronesia (Fed. States of)",
            "Uzbekistan",
            "Guam",
            "Iceland",
            "Andorra",
            "Belize",
            "Brazil",
            "Iran (Islamic Rep. of)",
            "Mexico",
            "Congo",
            "Tonga",
            "Niue",
            "Switzerland",
            "Denmark",
            "Cabo Verde",
            "Morocco",
            "Serbia",
            "Niger",
            "Germany",
            "Nicaragua",
            "Belarus",
            "Colombia",
            "Burundi",
            "Eritrea",
            "Georgia",
            "United Kingdom",
            "Mongolia",
            "Montserrat",
            "Tunisia",
            "Senegal",
            "Uruguay",
            "Côte d'Ivoire",
            "Iraq",
            "Ethiopia",
            "Montenegro",
            "State of Palestine",
            "Japan",
            "Jersey",
            "Ukraine",
            "Gibraltar",
            "Costa Rica",
            "Timor-Leste",
            "Papua New Guinea",
            "Gambia",
            "Turks and Caicos Islands",
            "St. Helena and Depend.",
            "Bahrain",
            "Philippines",
            "Bangladesh",
            "Ghana",
            "Madagascar",
            "Lesotho",
            "Kyrgyzstan",
            "Bolivia (Plur. State of)",
            "Qatar",
            "Tajikistan",
            "Falkland Is. (Malvinas)",
            "Sweden",
            "French Guiana",
            "Lebanon",
            "Somalia",
            "Panama",
            "Puerto Rico",
            "Cayman Islands",
            "Fiji",
            "Aruba",
            "Slovakia",
            "Guyana",
            "Thailand",
            "St. Kitts-Nevis",
            "Greenland",
            "Cyprus",
            "Paraguay",
            "Anguilla",
            "China",
            "Libya",
            "Kuwait",
            "Lithuania",
            "Peru",
            "Afghanistan",
            "Djibouti",
            "Solomon Islands",
            "Hungary",
            "Yemen",
            "Central African Rep.",
            "Egypt",
            "Slovenia",
            "Tuvalu",
            "Liberia",
            "Korea, Republic of",
            "Zambia",
            "Bhutan",
            "Honduras",
            "Luxembourg",
            "Chad",
            "Armenia",
            "Swaziland",
            "Haiti",
            "Suriname",
            "Benin",
            "Bermuda",
            "Korea, Dem.Ppl's.Rep.",
            "Latvia",
            "Chile",
            "Lao People's Dem. Rep.",
            "Wallis and Futuna Is.",
            "Dem. Rep. of the Congo",
            "Malaysia",
            "Turkmenistan",
            "Portugal",
            "Grenada",
            "Angola",
            "Zimbabwe",
            "Azerbaijan",
            "Greece",
            "Malawi",
            "Ecuador",
            "Palau",
            "Poland"
           ],
           "locations": [
            "CZE",
            "NOR",
            "DOM",
            "ESP",
            "KAZ",
            "JOR",
            "MRT",
            "GNQ",
            "MNP",
            "FRA",
            "SYC",
            "VUT",
            "RUS",
            "IDN",
            "MUS",
            "KHM",
            "SLE",
            "BRB",
            "ALB",
            "SGP",
            "TUR",
            "MLI",
            "BIH",
            "HKG",
            "KIR",
            "GAB",
            "CAN",
            "COK",
            "PAK",
            "MDV",
            "ARG",
            "UGA",
            "MDA",
            "VNM",
            "SLV",
            "SDN",
            "AUS",
            "KEN",
            "MKD",
            "MTQ",
            "BWA",
            "LCA",
            "GLP",
            "CMR",
            "VEN",
            "GNB",
            "ROU",
            "MHL",
            "HRV",
            "FRO",
            "TGO",
            "IND",
            "@@@",
            "MLT",
            "OMN",
            "MAC",
            "ZAF",
            "MYT",
            "LKA",
            "NCL",
            "TTO",
            "GTM",
            "MMR",
            "ATG",
            "PYF",
            "FIN",
            "TZA",
            "BFA",
            "CUB",
            "VIR",
            "SYR",
            "REU",
            "MOZ",
            "NZL",
            "JAM",
            "SAU",
            "IRL",
            "BHS",
            "ITA",
            "BRN",
            "AUT",
            "COM",
            "ASM",
            "@@@",
            "NPL",
            "ISR",
            "BEL",
            "BGR",
            "NAM",
            "EST",
            "WSM",
            "NRU",
            "GGY",
            "USA",
            "IMN",
            "NLD",
            "VCT",
            "STP",
            "DMA",
            "ARE",
            "VGB",
            "SPM",
            "DZA",
            "RWA",
            "GIN",
            "NGA",
            "FSM",
            "UZB",
            "GUM",
            "ISL",
            "AND",
            "BLZ",
            "BRA",
            "IRN",
            "MEX",
            "COG",
            "TON",
            "NIU",
            "CHE",
            "DNK",
            "CPV",
            "MAR",
            "SRB",
            "NER",
            "DEU",
            "NIC",
            "BLR",
            "COL",
            "BDI",
            "ERI",
            "GEO",
            "GBR",
            "MNG",
            "MSR",
            "TUN",
            "SEN",
            "URY",
            "CIV",
            "IRQ",
            "ETH",
            "MNE",
            "PSE",
            "JPN",
            "JEY",
            "UKR",
            "GIB",
            "CRI",
            "TLS",
            "PNG",
            "GMB",
            "TCA",
            "SHN",
            "BHR",
            "PHL",
            "BGD",
            "GHA",
            "MDG",
            "LSO",
            "KGZ",
            "BOL",
            "QAT",
            "TJK",
            "MDV",
            "SWE",
            "GUF",
            "LBN",
            "SOM",
            "PAN",
            "PRI",
            "CYM",
            "FJI",
            "ABW",
            "SVK",
            "GUY",
            "THA",
            "KNA",
            "GRL",
            "CYP",
            "PRY",
            "AIA",
            "CHN",
            "LBY",
            "KWT",
            "LTU",
            "PER",
            "AFG",
            "DJI",
            "SLB",
            "HUN",
            "YEM",
            "CAF",
            "EGY",
            "SVN",
            "TUV",
            "LBR",
            "KOR",
            "ZMB",
            "BTN",
            "HND",
            "LUX",
            "TCD",
            "ARM",
            "SWZ",
            "HTI",
            "SUR",
            "BEN",
            "BMU",
            "PRK",
            "LVA",
            "CHL",
            "LAO",
            "WLF",
            "COD",
            "MYS",
            "TKM",
            "PRT",
            "GRD",
            "AGO",
            "ZWE",
            "AZE",
            "GRC",
            "MWI",
            "ECU",
            "PLW",
            "POL"
           ],
           "name": "",
           "type": "choropleth",
           "z": [
            82.578,
            138.009,
            12.623,
            294.077,
            67.916,
            9.651,
            0.4789,
            0.122,
            0.39,
            576.064,
            0.23043,
            0.04994,
            953.086,
            127.369,
            2.2714,
            0.964,
            0.0836,
            0.99279,
            5.443,
            38.213,
            161.956,
            1.271,
            12.602,
            38.448,
            0.0219,
            1.574,
            621.705,
            0.0299,
            93.629,
            0.185,
            107.053,
            1.881,
            1.229,
            53.656,
            4.83,
            3.826,
            228.65,
            6.7365,
            6.945,
            1.51,
            0.9417,
            0.3236,
            1.573,
            4.004,
            105.99,
            0.026244,
            59.413,
            0.1005,
            13.162,
            0.245,
            0.2617,
            697.47,
            227.362,
            2.24,
            12.648,
            2.027,
            244.922,
            0.159,
            8.850716,
            1.883,
            7.058,
            7.822,
            6.06416,
            0.243,
            0.631,
            70.572,
            3.613,
            0.5163,
            15.341,
            0.968429,
            36.048,
            2.271,
            13.285,
            42.968,
            7.422,
            176.124,
            25.97,
            2.085,
            303.7,
            3.264,
            66.409,
            0.0475,
            0.189,
            1.248,
            2.533,
            48.602,
            87.025,
            44.365,
            1.585,
            10.205,
            0.1105,
            0.0283,
            0.0531,
            4294.368,
            0.4346,
            99.921,
            0.1317,
            0.0414,
            0.0837,
            60.698,
            0.098,
            0.0424,
            32.875,
            0.1178,
            0.911,
            23.539,
            0.0755,
            49.2,
            1.8972,
            8.686,
            0.085,
            0.156217,
            402.938,
            178.08834,
            250.718,
            0.433,
            0.048,
            0.003,
            59.647,
            36.246,
            0.23706,
            19.243,
            36.474,
            0.233087,
            622.579,
            2.866,
            30.961,
            50.41159,
            0.1023,
            0.288,
            7.267,
            398.355,
            3.419,
            0.0217,
            13.007,
            1.908,
            7.683,
            5.5658,
            29.297,
            2.845,
            2.864,
            0.5005,
            1099.79,
            0.0292,
            186.055,
            0.145,
            8.2595,
            0.069,
            3.438,
            0.203,
            0.132,
            0.00808,
            8.867,
            56.604,
            26.506,
            6.793,
            1.1486963,
            0.4572,
            16.415,
            4.896,
            14.396,
            17.09,
            0.01685,
            158.436,
            0.691,
            12.433,
            0.29,
            5.827,
            24.962,
            0.482,
            0.823038,
            0.9105,
            31.455,
            0.64386,
            132.1973,
            0.1904,
            0.3551,
            4.377,
            51.15635,
            0.072,
            2500.26,
            22.317,
            43.734,
            14.784,
            25.66,
            0.906,
            0.298,
            0.0741,
            35.756,
            4.768,
            0.16,
            111.69,
            15.117,
            0.0042,
            0.2,
            389.39,
            8.936,
            2.6475,
            5.579,
            4.132,
            0.129,
            6.317,
            0.408,
            0.556,
            1.517,
            0.107,
            0.699,
            22.912,
            4.905,
            52.484,
            4.01792,
            0.020334,
            7.397,
            100.89766,
            12.823,
            46.575,
            0.14731,
            2.632,
            9.374,
            22.872,
            60.02,
            1.5439,
            12.717,
            0.118,
            156.936
           ]
          }
         ],
         "name": "2005"
        },
        {
         "data": [
          {
           "coloraxis": "coloraxis",
           "customdata": [
            [
             1.218
            ],
            [
             2.748
            ],
            [
             0.075
            ],
            [
             27.358
            ],
            [
             1.8912
            ],
            [
             4.134184
            ],
            [
             118.407
            ],
            [
             0.0501
            ],
            [
             30.703
            ],
            [
             49.041
            ],
            [
             1.962
            ],
            [
             14.122
            ],
            [
             8.435
            ],
            [
             1104.589
            ],
            [
             50.558
            ],
            [
             0.158
            ],
            [
             4.5208
            ],
            [
             85.617
            ],
            [
             0.0322
            ],
            [
             0.0219
            ],
            [
             0.2
            ],
            [
             0.0953
            ],
            [
             60.789
            ],
            [
             4.652
            ],
            [
             64.499
            ],
            [
             0.0795
            ],
            [
             0.1887
            ],
            [
             0.839996
            ],
            [
             23.11
            ],
            [
             35.226
            ],
            [
             0.873
            ],
            [
             0.1707
            ],
            [
             0.074
            ],
            [
             24.754
            ],
            [
             36.481
            ],
            [
             9.732
            ],
            [
             0.3453
            ],
            [
             253.798
            ],
            [
             0.657
            ],
            [
             3.545
            ],
            [
             0.218734
            ],
            [
             0.0714
            ],
            [
             55.32
            ],
            [
             3.269
            ],
            [
             0.151
            ],
            [
             5.618
            ],
            [
             5.99
            ],
            [
             2.952
            ],
            [
             0.66434
            ],
            [
             0.913
            ],
            [
             0.43728
            ],
            [
             47.607
            ],
            [
             138.7416
            ],
            [
             639.492
            ],
            [
             98.833
            ],
            [
             2.3651
            ],
            [
             17.082
            ],
            [
             0.0795
            ],
            [
             37.453
            ],
            [
             0.974117
            ],
            [
             24.947
            ],
            [
             9.499816
            ],
            [
             143.419
            ],
            [
             7.974
            ],
            [
             0.5478
            ],
            [
             0.1343
            ],
            [
             8.163
            ],
            [
             0.0171
            ],
            [
             11.61
            ],
            [
             6.16415
            ],
            [
             0.258
            ],
            [
             1.872
            ],
            [
             1.491
            ],
            [
             82.301
            ],
            [
             0.3
            ],
            [
             14.148
            ],
            [
             161.742
            ],
            [
             27.48
            ],
            [
             0.57
            ],
            [
             3.447
            ],
            [
             0.043
            ],
            [
             14.737
            ],
            [
             397.282
            ],
            [
             7.19
            ],
            [
             0.3955
            ],
            [
             0.72
            ],
            [
             9.682
            ],
            [
             0.269
            ],
            [
             314.122
            ],
            [
             45.843
            ],
            [
             3.134
            ],
            [
             0.116
            ],
            [
             7.599
            ],
            [
             31.811
            ],
            [
             0.13
            ],
            [
             7.543
            ],
            [
             8.697053
            ],
            [
             4.891
            ],
            [
             19.862
            ],
            [
             0.105
            ],
            [
             0.0416
            ],
            [
             2.121
            ],
            [
             3.298
            ],
            [
             0.0163
            ],
            [
             7.473
            ],
            [
             9.745
            ],
            [
             181.434
            ],
            [
             0.0854
            ],
            [
             13.653
            ],
            [
             56.819
            ],
            [
             4300.831
            ],
            [
             53.852
            ],
            [
             0.4816
            ],
            [
             43.602
            ],
            [
             0.716
            ],
            [
             1.665
            ],
            [
             1.1736578
            ],
            [
             5.3
            ],
            [
             112.381
            ],
            [
             62.697
            ],
            [
             0.0412
            ],
            [
             13.287
            ],
            [
             13.78
            ],
            [
             0.1
            ],
            [
             13.047
            ],
            [
             5.106
            ],
            [
             5.989
            ],
            [
             0.26
            ],
            [
             0.308
            ],
            [
             0.555
            ],
            [
             17.08
            ],
            [
             574.874
            ],
            [
             193.381
            ],
            [
             0.25194
            ],
            [
             4.335
            ],
            [
             133.108
            ],
            [
             0.5693
            ],
            [
             3.348
            ],
            [
             16.935
            ],
            [
             121.582
            ],
            [
             29.879
            ],
            [
             0.072
            ],
            [
             1.02036
            ],
            [
             0.0082
            ],
            [
             4.521
            ],
            [
             1.605
            ],
            [
             0.3308
            ],
            [
             1.553
            ],
            [
             71.653
            ],
            [
             5.644
            ],
            [
             752.454
            ],
            [
             2.261
            ],
            [
             1.5333
            ],
            [
             0.154
            ],
            [
             607.47
            ],
            [
             0.216
            ],
            [
             98.213
            ],
            [
             1.192
            ],
            [
             22.435
            ],
            [
             0.212
            ],
            [
             115.197
            ],
            [
             1.616
            ],
            [
             106.7015
            ],
            [
             0.1076
            ],
            [
             9.93
            ],
            [
             60.493
            ],
            [
             0.0236
            ],
            [
             31.418
            ],
            [
             24.543
            ],
            [
             5.657
            ],
            [
             7.3225
            ],
            [
             235.464
            ],
            [
             1.5821
            ],
            [
             232.83
            ],
            [
             3.306
            ],
            [
             5.524
            ],
            [
             38.613
            ],
            [
             0.027946
            ],
            [
             39.442
            ],
            [
             5.941
            ],
            [
             176.299
            ],
            [
             1.333
            ],
            [
             0.019687
            ],
            [
             13.309
            ],
            [
             0.16716
            ],
            [
             0.9771
            ],
            [
             0.0369
            ],
            [
             53.77444
            ],
            [
             45.611
            ],
            [
             0.387
            ],
            [
             0.191
            ],
            [
             15.115
            ],
            [
             0.171
            ],
            [
             12.482
            ],
            [
             0.25252
            ],
            [
             64.059
            ],
            [
             995.794
            ],
            [
             0.9095
            ],
            [
             35.859
            ],
            [
             299.454
            ],
            [
             5.387
            ],
            [
             11.12
            ],
            [
             0.049
            ],
            [
             0.167
            ],
            [
             0.306
            ],
            [
             0.122
            ],
            [
             1.669
            ],
            [
             0.453
            ],
            [
             2.3504
            ],
            [
             0.003
            ],
            [
             0.05094
            ],
            [
             0.0042
            ],
            [
             2865.726
            ],
            [
             50.92
            ],
            [
             0.211745
            ],
            [
             419.336
            ],
            [
             7.006
            ],
            [
             404.021
            ],
            [
             16.469
            ],
            [
             1.176
            ],
            [
             84.361
            ],
            [
             257.75
            ],
            [
             0.3831
            ],
            [
             66.768
            ],
            [
             192.68178
            ]
           ],
           "geo": "geo",
           "hovertemplate": "<b>%{hovertext}</b><br><br>year=2006<br>ISO=%{location}<br>Electric Energy Production TWh=%{z}<extra></extra>",
           "hovertext": [
            "Neth. Antilles (former)",
            "Nepal",
            "Solomon Islands",
            "Peru",
            "Guam",
            "Lao People's Dem. Rep.",
            "Egypt",
            "Comoros",
            "Iraq",
            "Portugal",
            "Senegal",
            "Tunisia",
            "Ghana",
            "Japan",
            "Israel",
            "Turks and Caicos Islands",
            "Bhutan",
            "Belgium",
            "Cook Islands",
            "Montserrat",
            "Liberia",
            "Burundi",
            "Greece",
            "Cyprus",
            "Austria",
            "Anguilla",
            "American Samoa",
            "Fiji",
            "Nigeria",
            "Algeria",
            "Guinea",
            "Rwanda",
            "Andorra",
            "Libya",
            "Serbia",
            "Estonia",
            "State of Palestine",
            "South Africa",
            "French Polynesia",
            "Mongolia",
            "Niger",
            "Micronesia (Fed. States of)",
            "Chile",
            "Ethiopia",
            "Gibraltar",
            "Uruguay",
            "Honduras",
            "Montenegro",
            "Guyana",
            "Afghanistan",
            "Swaziland",
            "Kuwait",
            "Thailand",
            "Germany",
            "Netherlands",
            "Réunion",
            "Kyrgyzstan",
            "Guernsey",
            "Syrian Arab Republic",
            "United States Virgin Is.",
            "Puerto Rico",
            "Sri Lanka",
            "Sweden",
            "Zimbabwe",
            "Burkina Faso",
            "St. Vincent-Grenadines",
            "Guatemala",
            "Falkland Is. (Malvinas)",
            "Lebanon",
            "Myanmar",
            "Antigua and Barbuda",
            "New Caledonia",
            "Namibia",
            "Finland",
            "Somalia",
            "Ecuador",
            "Poland",
            "Ireland",
            "Haiti",
            "United Rep. of Tanzania",
            "Sao Tome and Principe",
            "Mozambique",
            "United Kingdom",
            "Trinidad and Tobago",
            "Isle of Man",
            "Bermuda",
            "Zambia",
            "Eritrea",
            "Italy",
            "Bulgaria",
            "Nicaragua",
            "Samoa",
            "Georgia",
            "Belarus",
            "Chad",
            "Dem. Rep. of the Congo",
            "Costa Rica",
            "Latvia",
            "Morocco",
            "British Virgin Islands",
            "St. Pierre-Miquelon",
            "Bahamas",
            "Brunei Darussalam",
            "Nauru",
            "Jamaica",
            "Bahrain",
            "Saudi Arabia",
            "Dominica",
            "Turkmenistan",
            "Philippines",
            "United States",
            "Colombia",
            "Lesotho",
            "New Zealand",
            "French Guiana",
            "Gabon",
            "Madagascar",
            "Bolivia (Plur. State of)",
            "Venezuela (Bolivar. Rep.)",
            "Romania",
            "Sierra Leone",
            "Oman",
            "Dominican Republic",
            "Marshall Islands",
            "Croatia",
            "Cameroon",
            "Panama",
            "Faeroe Islands",
            "Togo",
            "Cayman Islands",
            "Qatar",
            "France",
            "Ukraine",
            "Cabo Verde",
            "Luxembourg",
            "Indonesia",
            "Mauritania",
            "Papua New Guinea",
            "Tajikistan",
            "Norway",
            "Bangladesh",
            "Timor-Leste",
            "Barbados",
            "St. Helena and Depend.",
            "Sudan (former)",
            "Guadeloupe",
            "St. Lucia",
            "Martinique",
            "Kazakhstan",
            "Côte d'Ivoire",
            "India",
            "Malta",
            "Suriname",
            "Benin",
            "Canada",
            "Gambia",
            "Pakistan",
            "Republic of Moldova",
            "Korea, Dem.Ppl's.Rep.",
            "Maldives",
            "Argentina",
            "Uganda",
            "Malaysia",
            "Palau",
            "Iceland",
            "Viet Nam",
            "Kiribati",
            "Slovakia",
            "Azerbaijan",
            "El Salvador",
            "Kenya",
            "Other Asia",
            "Malawi",
            "Australia",
            "Angola",
            "Albania",
            "China, Hong Kong SAR",
            "Guinea-Bissau",
            "Singapore",
            "Armenia",
            "Turkey",
            "Mali",
            "Wallis and Futuna Is.",
            "Bosnia and Herzegovina",
            "Grenada",
            "Botswana",
            "Jersey",
            "Paraguay",
            "Denmark",
            "Northern Mariana Islands",
            "St. Kitts-Nevis",
            "Slovenia",
            "Mayotte",
            "Lithuania",
            "Seychelles",
            "Switzerland",
            "Russian Federation",
            "Aruba",
            "Hungary",
            "Spain",
            "Yemen",
            "Jordan",
            "Tonga",
            "Central African Rep.",
            "Djibouti",
            "Equatorial Guinea",
            "China, Macao SAR",
            "Congo",
            "Mauritius",
            "Niue",
            "Vanuatu",
            "Tuvalu",
            "China",
            "Uzbekistan",
            "Belize",
            "Brazil",
            "T.F.Yug.Rep. Macedonia",
            "Korea, Republic of",
            "Cuba",
            "Cambodia",
            "Czechia",
            "Mexico",
            "Greenland",
            "United Arab Emirates",
            "Iran (Islamic Rep. of)"
           ],
           "locations": [
            "@@@",
            "NPL",
            "SLB",
            "PER",
            "GUM",
            "LAO",
            "EGY",
            "COM",
            "IRQ",
            "PRT",
            "SEN",
            "TUN",
            "GHA",
            "JPN",
            "ISR",
            "TCA",
            "BTN",
            "BEL",
            "COK",
            "MSR",
            "LBR",
            "BDI",
            "GRC",
            "CYP",
            "AUT",
            "AIA",
            "ASM",
            "FJI",
            "NGA",
            "DZA",
            "GIN",
            "RWA",
            "AND",
            "LBY",
            "SRB",
            "EST",
            "PSE",
            "ZAF",
            "PYF",
            "MNG",
            "NER",
            "FSM",
            "CHL",
            "ETH",
            "GIB",
            "URY",
            "HND",
            "MNE",
            "GUY",
            "AFG",
            "SWZ",
            "KWT",
            "THA",
            "DEU",
            "NLD",
            "REU",
            "KGZ",
            "GGY",
            "SYR",
            "VIR",
            "PRI",
            "LKA",
            "SWE",
            "ZWE",
            "BFA",
            "VCT",
            "GTM",
            "MDV",
            "LBN",
            "MMR",
            "ATG",
            "NCL",
            "NAM",
            "FIN",
            "SOM",
            "ECU",
            "POL",
            "IRL",
            "HTI",
            "TZA",
            "STP",
            "MOZ",
            "GBR",
            "TTO",
            "IMN",
            "BMU",
            "ZMB",
            "ERI",
            "ITA",
            "BGR",
            "NIC",
            "WSM",
            "GEO",
            "BLR",
            "TCD",
            "COD",
            "CRI",
            "LVA",
            "MAR",
            "VGB",
            "SPM",
            "BHS",
            "BRN",
            "NRU",
            "JAM",
            "BHR",
            "SAU",
            "DMA",
            "TKM",
            "PHL",
            "USA",
            "COL",
            "LSO",
            "NZL",
            "GUF",
            "GAB",
            "MDG",
            "BOL",
            "VEN",
            "ROU",
            "SLE",
            "OMN",
            "DOM",
            "MHL",
            "HRV",
            "CMR",
            "PAN",
            "FRO",
            "TGO",
            "CYM",
            "QAT",
            "FRA",
            "UKR",
            "CPV",
            "LUX",
            "IDN",
            "MRT",
            "PNG",
            "TJK",
            "NOR",
            "BGD",
            "TLS",
            "BRB",
            "SHN",
            "SDN",
            "GLP",
            "LCA",
            "MTQ",
            "KAZ",
            "CIV",
            "IND",
            "MLT",
            "SUR",
            "BEN",
            "CAN",
            "GMB",
            "PAK",
            "MDA",
            "PRK",
            "MDV",
            "ARG",
            "UGA",
            "MYS",
            "PLW",
            "ISL",
            "VNM",
            "KIR",
            "SVK",
            "AZE",
            "SLV",
            "KEN",
            "@@@",
            "MWI",
            "AUS",
            "AGO",
            "ALB",
            "HKG",
            "GNB",
            "SGP",
            "ARM",
            "TUR",
            "MLI",
            "WLF",
            "BIH",
            "GRD",
            "BWA",
            "JEY",
            "PRY",
            "DNK",
            "MNP",
            "KNA",
            "SVN",
            "MYT",
            "LTU",
            "SYC",
            "CHE",
            "RUS",
            "ABW",
            "HUN",
            "ESP",
            "YEM",
            "JOR",
            "TON",
            "CAF",
            "DJI",
            "GNQ",
            "MAC",
            "COG",
            "MUS",
            "NIU",
            "VUT",
            "TUV",
            "CHN",
            "UZB",
            "BLZ",
            "BRA",
            "MKD",
            "KOR",
            "CUB",
            "KHM",
            "CZE",
            "MEX",
            "GRL",
            "ARE",
            "IRN"
           ],
           "name": "",
           "type": "choropleth",
           "z": [
            1.218,
            2.748,
            0.075,
            27.358,
            1.8912,
            4.134184,
            118.407,
            0.0501,
            30.703,
            49.041,
            1.962,
            14.122,
            8.435,
            1104.589,
            50.558,
            0.158,
            4.5208,
            85.617,
            0.0322,
            0.0219,
            0.2,
            0.0953,
            60.789,
            4.652,
            64.499,
            0.0795,
            0.1887,
            0.839996,
            23.11,
            35.226,
            0.873,
            0.1707,
            0.074,
            24.754,
            36.481,
            9.732,
            0.3453,
            253.798,
            0.657,
            3.545,
            0.218734,
            0.0714,
            55.32,
            3.269,
            0.151,
            5.618,
            5.99,
            2.952,
            0.66434,
            0.913,
            0.43728,
            47.607,
            138.7416,
            639.492,
            98.833,
            2.3651,
            17.082,
            0.0795,
            37.453,
            0.974117,
            24.947,
            9.499816,
            143.419,
            7.974,
            0.5478,
            0.1343,
            8.163,
            0.0171,
            11.61,
            6.16415,
            0.258,
            1.872,
            1.491,
            82.301,
            0.3,
            14.148,
            161.742,
            27.48,
            0.57,
            3.447,
            0.043,
            14.737,
            397.282,
            7.19,
            0.3955,
            0.72,
            9.682,
            0.269,
            314.122,
            45.843,
            3.134,
            0.116,
            7.599,
            31.811,
            0.13,
            7.543,
            8.697053,
            4.891,
            19.862,
            0.105,
            0.0416,
            2.121,
            3.298,
            0.0163,
            7.473,
            9.745,
            181.434,
            0.0854,
            13.653,
            56.819,
            4300.831,
            53.852,
            0.4816,
            43.602,
            0.716,
            1.665,
            1.1736578,
            5.3,
            112.381,
            62.697,
            0.0412,
            13.287,
            13.78,
            0.1,
            13.047,
            5.106,
            5.989,
            0.26,
            0.308,
            0.555,
            17.08,
            574.874,
            193.381,
            0.25194,
            4.335,
            133.108,
            0.5693,
            3.348,
            16.935,
            121.582,
            29.879,
            0.072,
            1.02036,
            0.0082,
            4.521,
            1.605,
            0.3308,
            1.553,
            71.653,
            5.644,
            752.454,
            2.261,
            1.5333,
            0.154,
            607.47,
            0.216,
            98.213,
            1.192,
            22.435,
            0.212,
            115.197,
            1.616,
            106.7015,
            0.1076,
            9.93,
            60.493,
            0.0236,
            31.418,
            24.543,
            5.657,
            7.3225,
            235.464,
            1.5821,
            232.83,
            3.306,
            5.524,
            38.613,
            0.027946,
            39.442,
            5.941,
            176.299,
            1.333,
            0.019687,
            13.309,
            0.16716,
            0.9771,
            0.0369,
            53.77444,
            45.611,
            0.387,
            0.191,
            15.115,
            0.171,
            12.482,
            0.25252,
            64.059,
            995.794,
            0.9095,
            35.859,
            299.454,
            5.387,
            11.12,
            0.049,
            0.167,
            0.306,
            0.122,
            1.669,
            0.453,
            2.3504,
            0.003,
            0.05094,
            0.0042,
            2865.726,
            50.92,
            0.211745,
            419.336,
            7.006,
            404.021,
            16.469,
            1.176,
            84.361,
            257.75,
            0.3831,
            66.768,
            192.68178
           ]
          }
         ],
         "name": "2006"
        },
        {
         "data": [
          {
           "coloraxis": "coloraxis",
           "customdata": [
            [
             0.217777
            ],
            [
             0.1582
            ],
            [
             0.835998
            ],
            [
             0.4621
            ],
            [
             14.883
            ],
            [
             0.16542
            ],
            [
             11.784
            ],
            [
             159.348
            ],
            [
             105.165
            ],
            [
             0.029672
            ],
            [
             0.269417
            ],
            [
             0.003
            ],
            [
             3.208
            ],
            [
             3.395
            ],
            [
             0.0337
            ],
            [
             38.642
            ],
            [
             11.977
            ],
            [
             6.984
            ],
            [
             203.98556
            ],
            [
             1.953
            ],
            [
             88.198
            ],
            [
             0.0996
            ],
            [
             0.7349
            ],
            [
             1.1
            ],
            [
             95.661
            ],
            [
             1.256
            ],
            [
             0.131
            ],
            [
             0.973
            ],
            [
             191.558
            ],
            [
             0.089
            ],
            [
             22.978
            ],
            [
             53.71488
            ],
            [
             7.882
            ],
            [
             0.6988
            ],
            [
             64.757
            ],
            [
             0.407
            ],
            [
             640.578
            ],
            [
             813.102
            ],
            [
             0.00853
            ],
            [
             21.847
            ],
            [
             196.251
            ],
            [
             61.673
            ],
            [
             32.104
            ],
            [
             0.0043
            ],
            [
             0.182
            ],
            [
             0.3457
            ],
            [
             43.749
            ],
            [
             9.900616
            ],
            [
             0.3838
            ],
            [
             6.562
            ],
            [
             0.0451
            ],
            [
             39.96
            ],
            [
             6.498
            ],
            [
             39.316
            ],
            [
             0.11
            ],
            [
             137.192
            ],
            [
             9.049583
            ],
            [
             396.83
            ],
            [
             3.429
            ],
            [
             0.209
            ],
            [
             0.8215
            ],
            [
             142.236
            ],
            [
             2.4628
            ],
            [
             88.82
            ],
            [
             59.64579
            ],
            [
             24.636
            ],
            [
             243.121
            ],
            [
             14.521
            ],
            [
             4.182
            ],
            [
             0.222062
            ],
            [
             3.217
            ],
            [
             76.106
            ],
            [
             6.335
            ],
            [
             0.468
            ],
            [
             3.547
            ],
            [
             28.196
            ],
            [
             0.22
            ],
            [
             0.076
            ],
            [
             1015.333
            ],
            [
             1.926
            ],
            [
             6.457
            ],
            [
             19.462
            ],
            [
             12.709
            ],
            [
             0.0173
            ],
            [
             5.898
            ],
            [
             12.19
            ],
            [
             14.167
            ],
            [
             0.323
            ],
            [
             29.931
            ],
            [
             5.734
            ],
            [
             445.094
            ],
            [
             0.2854
            ],
            [
             2.296
            ],
            [
             143.3782
            ],
            [
             0.119459
            ],
            [
             1.04923
            ],
            [
             1.8794
            ],
            [
             2.124
            ],
            [
             2.144
            ],
            [
             5.631
            ],
            [
             9.424
            ],
            [
             67.008
            ],
            [
             0.161
            ],
            [
             17.494
            ],
            [
             3.702
            ],
            [
             6.027
            ],
            [
             14.007
            ],
            [
             0.5868
            ],
            [
             1135.718
            ],
            [
             0.0226
            ],
            [
             0.0723
            ],
            [
             0.45408
            ],
            [
             0.95
            ],
            [
             1.631866
            ],
            [
             19.67
            ],
            [
             5.996
            ],
            [
             0.122
            ],
            [
             107.711
            ],
            [
             26.234
            ],
            [
             31.829
            ],
            [
             8.57
            ],
            [
             2.246
            ],
            [
             0.288
            ],
            [
             1.691
            ],
            [
             4.871
            ],
            [
             0.771
            ],
            [
             0.05196
            ],
            [
             128.129
            ],
            [
             6.7726
            ],
            [
             15.043
            ],
            [
             265.208
            ],
            [
             1.2218943999999998
            ],
            [
             0.1756
            ],
            [
             12.838
            ],
            [
             2.4654
            ],
            [
             1.5556
            ],
            [
             1.734
            ],
            [
             67.924
            ],
            [
             1.52
            ],
            [
             28.056
            ],
            [
             1.6168
            ],
            [
             21.523
            ],
            [
             0.1962
            ],
            [
             0.604
            ],
            [
             305.052
            ],
            [
             17.622
            ],
            [
             31.011
            ],
            [
             48.95
            ],
            [
             1.489
            ],
            [
             427.316
            ],
            [
             37.196
            ],
            [
             36.55
            ],
            [
             3281.553
            ],
            [
             4.003
            ],
            [
             0.3889
            ],
            [
             104.95
            ],
            [
             0.051
            ],
            [
             0.229
            ],
            [
             0.06984
            ],
            [
             0.0866
            ],
            [
             0.27058
            ],
            [
             0.0918
            ],
            [
             0.26953
            ],
            [
             0.4171
            ],
            [
             76.621
            ],
            [
             48.753
            ],
            [
             0.0864
            ],
            [
             4.771
            ],
            [
             5.243
            ],
            [
             263.479
            ],
            [
             8.756
            ],
            [
             0.1411
            ],
            [
             7.609
            ],
            [
             0.155
            ],
            [
             16.361
            ],
            [
             1.694
            ],
            [
             5.812
            ],
            [
             313.888
            ],
            [
             38.948
            ],
            [
             626.521
            ],
            [
             0.045
            ],
            [
             1.409
            ],
            [
             0.311
            ],
            [
             41.134
            ],
            [
             0.2397
            ],
            [
             0.1852
            ],
            [
             0.0468
            ],
            [
             0.936
            ],
            [
             569.426
            ],
            [
             2.792
            ],
            [
             53.792
            ],
            [
             4349.84
            ],
            [
             243.157
            ],
            [
             43.297
            ],
            [
             0.687
            ],
            [
             63.496
            ],
            [
             7.676
            ],
            [
             58.509
            ],
            [
             0.02
            ],
            [
             3.8629568
            ],
            [
             14.34863
            ],
            [
             0.020261
            ],
            [
             0.5073
            ],
            [
             21.722
            ],
            [
             9.643
            ],
            [
             12.072
            ],
            [
             0.25
            ],
            [
             47.253
            ],
            [
             0.980166
            ],
            [
             114.563
            ],
            [
             0.612
            ],
            [
             16.076
            ],
            [
             0.06
            ],
            [
             2.946
            ],
            [
             55.314
            ],
            [
             14.83
            ],
            [
             0.129
            ],
            [
             0.245
            ],
            [
             148.926
            ],
            [
             0.0236
            ],
            [
             81.247
            ],
            [
             0.095
            ],
            [
             0.0854
            ],
            [
             190.535
            ],
            [
             5.021
            ],
            [
             6.39802
            ]
           ],
           "geo": "geo",
           "hovertemplate": "<b>%{hovertext}</b><br><br>year=2007<br>ISO=%{location}<br>Electric Energy Production TWh=%{z}<extra></extra>",
           "hovertext": [
            "Belize",
            "Guernsey",
            "Fiji",
            "Isle of Man",
            "Turkmenistan",
            "Rwanda",
            "Bosnia and Herzegovina",
            "Poland",
            "Netherlands",
            "Guinea-Bissau",
            "Faeroe Islands",
            "Niue",
            "Nicaragua",
            "Brunei Darussalam",
            "Cook Islands",
            "Syrian Arab Republic",
            "Iceland",
            "Ghana",
            "Iran (Islamic Rep. of)",
            "Uganda",
            "Czechia",
            "Palau",
            "Bermuda",
            "Republic of Moldova",
            "Pakistan",
            "Neth. Antilles (former)",
            "Samoa",
            "Guinea",
            "Turkey",
            "Anguilla",
            "Nigeria",
            "Paraguay",
            "Dem. Rep. of the Congo",
            "Guyana",
            "Austria",
            "Congo",
            "Germany",
            "India",
            "St. Helena and Depend.",
            "Azerbaijan",
            "Ukraine",
            "Romania",
            "Iraq",
            "Tuvalu",
            "Turks and Caicos Islands",
            "St. Lucia",
            "New Zealand",
            "Sri Lanka",
            "Northern Mariana Islands",
            "Bhutan",
            "St. Pierre-Miquelon",
            "Hungary",
            "T.F.Yug.Rep. Macedonia",
            "Denmark",
            "British Virgin Islands",
            "Norway",
            "Costa Rica",
            "United Kingdom",
            "Papua New Guinea",
            "St. Kitts-Nevis",
            "Botswana",
            "Indonesia",
            "Réunion",
            "Belgium",
            "Philippines",
            "Puerto Rico",
            "Other Asia",
            "Tunisia",
            "United Rep. of Tanzania",
            "Niger",
            "Angola",
            "United Arab Emirates",
            "Honduras",
            "Haiti",
            "Ethiopia",
            "Ireland",
            "Benin",
            "Andorra",
            "Russian Federation",
            "New Caledonia",
            "Panama",
            "Qatar",
            "Croatia",
            "Falkland Is. (Malvinas)",
            "Armenia",
            "Estonia",
            "Oman",
            "Djibouti",
            "Peru",
            "Bolivia (Plur. State of)",
            "Brazil",
            "Antigua and Barbuda",
            "Malta",
            "Thailand",
            "Burundi",
            "Barbados",
            "Guam",
            "Senegal",
            "Montenegro",
            "Côte d'Ivoire",
            "Uruguay",
            "Viet Nam",
            "Central African Rep.",
            "Tajikistan",
            "Mongolia",
            "Yemen",
            "Lithuania",
            "Mauritania",
            "Japan",
            "Montserrat",
            "Liechtenstein",
            "Swaziland",
            "Afghanistan",
            "Martinique",
            "Morocco",
            "Jamaica",
            "Equatorial Guinea",
            "Argentina",
            "Libya",
            "Belarus",
            "Georgia",
            "Bahamas",
            "Eritrea",
            "Guadeloupe",
            "Cyprus",
            "French Guiana",
            "Vanuatu",
            "Egypt",
            "Kenya",
            "Slovenia",
            "Mexico",
            "Madagascar",
            "Grenada",
            "Jordan",
            "Mauritius",
            "Suriname",
            "Gabon",
            "Switzerland",
            "China, Macao SAR",
            "Slovakia",
            "Malawi",
            "Korea, Dem.Ppl's.Rep.",
            "Mayotte",
            "Cayman Islands",
            "Spain",
            "Cuba",
            "Bangladesh",
            "Uzbekistan",
            "Cambodia",
            "Korea, Republic of",
            "Algeria",
            "Serbia",
            "China",
            "Luxembourg",
            "Greenland",
            "Malaysia",
            "Tonga",
            "Gambia",
            "Micronesia (Fed. States of)",
            "Jersey",
            "Seychelles",
            "Timor-Leste",
            "Cabo Verde",
            "State of Palestine",
            "Kazakhstan",
            "Kuwait",
            "Dominica",
            "Latvia",
            "Cameroon",
            "South Africa",
            "Guatemala",
            "St. Vincent-Grenadines",
            "Zimbabwe",
            "Gibraltar",
            "Ecuador",
            "Namibia",
            "El Salvador",
            "Italy",
            "China, Hong Kong SAR",
            "Canada",
            "Sao Tome and Principe",
            "Mali",
            "Somalia",
            "Singapore",
            "Togo",
            "American Samoa",
            "Comoros",
            "Aruba",
            "France",
            "Nepal",
            "Israel",
            "United States",
            "Australia",
            "Bulgaria",
            "French Polynesia",
            "Greece",
            "Trinidad and Tobago",
            "Chile",
            "Nauru",
            "Lao People's Dem. Rep.",
            "Dominican Republic",
            "Wallis and Futuna Is.",
            "Lesotho",
            "Bahrain",
            "Zambia",
            "Lebanon",
            "Liberia",
            "Portugal",
            "United States Virgin Is.",
            "Venezuela (Bolivar. Rep.)",
            "Burkina Faso",
            "Mozambique",
            "Sierra Leone",
            "Albania",
            "Colombia",
            "Kyrgyzstan",
            "Chad",
            "Maldives",
            "Sweden",
            "Kiribati",
            "Finland",
            "Marshall Islands",
            "Solomon Islands",
            "Saudi Arabia",
            "Sudan (former)",
            "Myanmar"
           ],
           "locations": [
            "BLZ",
            "GGY",
            "FJI",
            "IMN",
            "TKM",
            "RWA",
            "BIH",
            "POL",
            "NLD",
            "GNB",
            "FRO",
            "NIU",
            "NIC",
            "BRN",
            "COK",
            "SYR",
            "ISL",
            "GHA",
            "IRN",
            "UGA",
            "CZE",
            "PLW",
            "BMU",
            "MDA",
            "PAK",
            "@@@",
            "WSM",
            "GIN",
            "TUR",
            "AIA",
            "NGA",
            "PRY",
            "COD",
            "GUY",
            "AUT",
            "COG",
            "DEU",
            "IND",
            "SHN",
            "AZE",
            "UKR",
            "ROU",
            "IRQ",
            "TUV",
            "TCA",
            "LCA",
            "NZL",
            "LKA",
            "MNP",
            "BTN",
            "SPM",
            "HUN",
            "MKD",
            "DNK",
            "VGB",
            "NOR",
            "CRI",
            "GBR",
            "PNG",
            "KNA",
            "BWA",
            "IDN",
            "REU",
            "BEL",
            "PHL",
            "PRI",
            "@@@",
            "TUN",
            "TZA",
            "NER",
            "AGO",
            "ARE",
            "HND",
            "HTI",
            "ETH",
            "IRL",
            "BEN",
            "AND",
            "RUS",
            "NCL",
            "PAN",
            "QAT",
            "HRV",
            "MDV",
            "ARM",
            "EST",
            "OMN",
            "DJI",
            "PER",
            "BOL",
            "BRA",
            "ATG",
            "MLT",
            "THA",
            "BDI",
            "BRB",
            "GUM",
            "SEN",
            "MNE",
            "CIV",
            "URY",
            "VNM",
            "CAF",
            "TJK",
            "MNG",
            "YEM",
            "LTU",
            "MRT",
            "JPN",
            "MSR",
            "LIE",
            "SWZ",
            "AFG",
            "MTQ",
            "MAR",
            "JAM",
            "GNQ",
            "ARG",
            "LBY",
            "BLR",
            "GEO",
            "BHS",
            "ERI",
            "GLP",
            "CYP",
            "GUF",
            "VUT",
            "EGY",
            "KEN",
            "SVN",
            "MEX",
            "MDG",
            "GRD",
            "JOR",
            "MUS",
            "SUR",
            "GAB",
            "CHE",
            "MAC",
            "SVK",
            "MWI",
            "PRK",
            "MYT",
            "CYM",
            "ESP",
            "CUB",
            "BGD",
            "UZB",
            "KHM",
            "KOR",
            "DZA",
            "SRB",
            "CHN",
            "LUX",
            "GRL",
            "MYS",
            "TON",
            "GMB",
            "FSM",
            "JEY",
            "SYC",
            "TLS",
            "CPV",
            "PSE",
            "KAZ",
            "KWT",
            "DMA",
            "LVA",
            "CMR",
            "ZAF",
            "GTM",
            "VCT",
            "ZWE",
            "GIB",
            "ECU",
            "NAM",
            "SLV",
            "ITA",
            "HKG",
            "CAN",
            "STP",
            "MLI",
            "SOM",
            "SGP",
            "TGO",
            "ASM",
            "COM",
            "ABW",
            "FRA",
            "NPL",
            "ISR",
            "USA",
            "AUS",
            "BGR",
            "PYF",
            "GRC",
            "TTO",
            "CHL",
            "NRU",
            "LAO",
            "DOM",
            "WLF",
            "LSO",
            "BHR",
            "ZMB",
            "LBN",
            "LBR",
            "PRT",
            "VIR",
            "VEN",
            "BFA",
            "MOZ",
            "SLE",
            "ALB",
            "COL",
            "KGZ",
            "TCD",
            "MDV",
            "SWE",
            "KIR",
            "FIN",
            "MHL",
            "SLB",
            "SAU",
            "SDN",
            "MMR"
           ],
           "name": "",
           "type": "choropleth",
           "z": [
            0.217777,
            0.1582,
            0.835998,
            0.4621,
            14.883,
            0.16542,
            11.784,
            159.348,
            105.165,
            0.029672,
            0.269417,
            0.003,
            3.208,
            3.395,
            0.0337,
            38.642,
            11.977,
            6.984,
            203.98556,
            1.953,
            88.198,
            0.0996,
            0.7349,
            1.1,
            95.661,
            1.256,
            0.131,
            0.973,
            191.558,
            0.089,
            22.978,
            53.71488,
            7.882,
            0.6988,
            64.757,
            0.407,
            640.578,
            813.102,
            0.00853,
            21.847,
            196.251,
            61.673,
            32.104,
            0.0043,
            0.182,
            0.3457,
            43.749,
            9.900616,
            0.3838,
            6.562,
            0.0451,
            39.96,
            6.498,
            39.316,
            0.11,
            137.192,
            9.049583,
            396.83,
            3.429,
            0.209,
            0.8215,
            142.236,
            2.4628,
            88.82,
            59.64579,
            24.636,
            243.121,
            14.521,
            4.182,
            0.222062,
            3.217,
            76.106,
            6.335,
            0.468,
            3.547,
            28.196,
            0.22,
            0.076,
            1015.333,
            1.926,
            6.457,
            19.462,
            12.709,
            0.0173,
            5.898,
            12.19,
            14.167,
            0.323,
            29.931,
            5.734,
            445.094,
            0.2854,
            2.296,
            143.3782,
            0.119459,
            1.04923,
            1.8794,
            2.124,
            2.144,
            5.631,
            9.424,
            67.008,
            0.161,
            17.494,
            3.702,
            6.027,
            14.007,
            0.5868,
            1135.718,
            0.0226,
            0.0723,
            0.45408,
            0.95,
            1.631866,
            19.67,
            5.996,
            0.122,
            107.711,
            26.234,
            31.829,
            8.57,
            2.246,
            0.288,
            1.691,
            4.871,
            0.771,
            0.05196,
            128.129,
            6.7726,
            15.043,
            265.208,
            1.2218943999999998,
            0.1756,
            12.838,
            2.4654,
            1.5556,
            1.734,
            67.924,
            1.52,
            28.056,
            1.6168,
            21.523,
            0.1962,
            0.604,
            305.052,
            17.622,
            31.011,
            48.95,
            1.489,
            427.316,
            37.196,
            36.55,
            3281.553,
            4.003,
            0.3889,
            104.95,
            0.051,
            0.229,
            0.06984,
            0.0866,
            0.27058,
            0.0918,
            0.26953,
            0.4171,
            76.621,
            48.753,
            0.0864,
            4.771,
            5.243,
            263.479,
            8.756,
            0.1411,
            7.609,
            0.155,
            16.361,
            1.694,
            5.812,
            313.888,
            38.948,
            626.521,
            0.045,
            1.409,
            0.311,
            41.134,
            0.2397,
            0.1852,
            0.0468,
            0.936,
            569.426,
            2.792,
            53.792,
            4349.84,
            243.157,
            43.297,
            0.687,
            63.496,
            7.676,
            58.509,
            0.02,
            3.8629568,
            14.34863,
            0.020261,
            0.5073,
            21.722,
            9.643,
            12.072,
            0.25,
            47.253,
            0.980166,
            114.563,
            0.612,
            16.076,
            0.06,
            2.946,
            55.314,
            14.83,
            0.129,
            0.245,
            148.926,
            0.0236,
            81.247,
            0.095,
            0.0854,
            190.535,
            5.021,
            6.39802
           ]
          }
         ],
         "name": "2007"
        },
        {
         "data": [
          {
           "coloraxis": "coloraxis",
           "customdata": [
            [
             121.927
            ],
            [
             1.7223
            ],
            [
             1.79714
            ],
            [
             0.28
            ],
            [
             4.156
            ],
            [
             0.1888
            ],
            [
             238.313
            ],
            [
             6.4556
            ],
            [
             1.096
            ],
            [
             16.467
            ],
            [
             91.616
            ],
            [
             73.397
            ],
            [
             0.275829
            ],
            [
             15.28676
            ],
            [
             2.088
            ],
            [
             0.0225
            ],
            [
             0.242
            ],
            [
             0.0335
            ],
            [
             0.815
            ],
            [
             83.518
            ],
            [
             14.823
            ],
            [
             106.9269
            ],
            [
             1.481
            ],
            [
             0.0912
            ],
            [
             34.218
            ],
            [
             0.029819
            ],
            [
             5.968
            ],
            [
             41.664695
            ],
            [
             629.473
            ],
            [
             0.138776
            ],
            [
             0.229
            ],
            [
             23.117
            ],
            [
             0.4318
            ],
            [
             0.1968
            ],
            [
             0.0863
            ],
            [
             6.9611
            ],
            [
             0.25
            ],
            [
             9.534
            ],
            [
             22.819
            ],
            [
             150.036
            ],
            [
             0.5034
            ],
            [
             60.855004
            ],
            [
             11.789
            ],
            [
             0.15
            ],
            [
             21.643
            ],
            [
             13.312
            ],
            [
             0.0175
            ],
            [
             0.7092
            ],
            [
             0.9136
            ],
            [
             15.043
            ],
            [
             9.473812
            ],
            [
             0.727
            ],
            [
             59.704
            ],
            [
             7.549
            ],
            [
             32.43
            ],
            [
             63.749
            ],
            [
             5.274
            ],
            [
             258.291
            ],
            [
             155.305
            ],
            [
             18.817
            ],
            [
             0.486
            ],
            [
             0.324
            ],
            [
             7.625
            ],
            [
             51.749
            ],
            [
             6.549
            ],
            [
             0.0086
            ],
            [
             3408.7532
            ],
            [
             40.025
            ],
            [
             1.822
            ],
            [
             0.201
            ],
            [
             1.2743201000000002
            ],
            [
             0.110514
            ],
            [
             0.3879
            ],
            [
             5.817
            ],
            [
             28.962
            ],
            [
             21.616
            ],
            [
             6.428
            ],
            [
             0.020321
            ],
            [
             0.615
            ],
            [
             198.418
            ],
            [
             0.0044
            ],
            [
             23.205
            ],
            [
             3.51
            ],
            [
             0.339
            ],
            [
             28.666
            ],
            [
             5.079
            ],
            [
             8.366
            ],
            [
             0.788
            ],
            [
             0.0714
            ],
            [
             147.4272
            ],
            [
             3.559
            ],
            [
             0.0895
            ],
            [
             16.205
            ],
            [
             0.161
            ],
            [
             6.546
            ],
            [
             13.913
            ],
            [
             134.566
            ],
            [
             446.428
            ],
            [
             55.45448
            ],
            [
             16.399
            ],
            [
             45.969
            ],
            [
             573.516
            ],
            [
             4.1716646
            ],
            [
             2.251
            ],
            [
             3.777
            ],
            [
             0.1392
            ],
            [
             30.239
            ],
            [
             2.312
            ],
            [
             0.4266
            ],
            [
             640.406
            ],
            [
             0.1945
            ],
            [
             40.236
            ],
            [
             463.12
            ],
            [
             37.376
            ],
            [
             0.0475
            ],
            [
             0.225506
            ],
            [
             214.53019
            ],
            [
             21.11
            ],
            [
             0.06595
            ],
            [
             41.023
            ],
            [
             1.00639
            ],
            [
             0.0384
            ],
            [
             49.4
            ],
            [
             269.315
            ],
            [
             17.681
            ],
            [
             68.932
            ],
            [
             0.2868
            ],
            [
             319.131
            ],
            [
             0.0875
            ],
            [
             2.5461
            ],
            [
             0.053
            ],
            [
             4.001
            ],
            [
             2.402
            ],
            [
             8.7691
            ],
            [
             0.043
            ],
            [
             15.127
            ],
            [
             61.192
            ],
            [
             0.971741
            ],
            [
             43.838
            ],
            [
             0.6194
            ],
            [
             204.2
            ],
            [
             0.04445
            ],
            [
             10.581
            ],
            [
             8.453
            ],
            [
             0.121
            ],
            [
             35.048
            ],
            [
             20.347
            ],
            [
             36.616
            ],
            [
             0.287
            ],
            [
             388.894
            ],
            [
             4.4994
            ],
            [
             3.361
            ],
            [
             10.003306
            ],
            [
             77.435
            ],
            [
             1.8806
            ],
            [
             1.8782
            ],
            [
             0.023
            ],
            [
             1082.549
            ],
            [
             36.78
            ],
            [
             0.113789
            ],
            [
             6.62176
            ],
            [
             0.166
            ],
            [
             2.828
            ],
            [
             313.758
            ],
            [
             0.003
            ],
            [
             4.389
            ],
            [
             1.05366
            ],
            [
             0.122
            ],
            [
             5.8
            ],
            [
             142.134
            ],
            [
             0.0194
            ],
            [
             0.3523
            ],
            [
             1.682066
            ],
            [
             3.423
            ],
            [
             64.956
            ],
            [
             80.327
            ],
            [
             192.586
            ],
            [
             3.79651
            ],
            [
             5.506
            ],
            [
             7.731
            ],
            [
             66.877
            ],
            [
             0.06867
            ],
            [
             0.769439
            ],
            [
             0.092
            ],
            [
             16.049
            ],
            [
             57.002
            ],
            [
             1.242
            ],
            [
             12.891
            ],
            [
             6.114
            ],
            [
             2.812
            ],
            [
             0.2113
            ],
            [
             37.99
            ],
            [
             5.681
            ],
            [
             243.221
            ],
            [
             119.297
            ],
            [
             0.1205
            ],
            [
             842.531
            ],
            [
             0.1884
            ],
            [
             0.6589
            ],
            [
             0.296
            ],
            [
             1.479
            ],
            [
             84.93
            ],
            [
             0.217995
            ],
            [
             80.463
            ],
            [
             0.21783
            ],
            [
             2.097
            ],
            [
             0.461
            ],
            [
             15.073
            ],
            [
             0.1107
            ],
            [
             107.552
            ],
            [
             8.718
            ],
            [
             149.437
            ],
            [
             1040.379
            ],
            [
             1.211
            ],
            [
             1.694
            ],
            [
             0.0787
            ],
            [
             0.697
            ],
            [
             0.3937
            ],
            [
             14.16
            ],
            [
             4368.26
            ],
            [
             2.5571
            ],
            [
             0.26911
            ],
            [
             0.5032
            ],
            [
             45.037
            ],
            [
             6.311
            ],
            [
             0.719747
            ]
           ],
           "geo": "geo",
           "hovertemplate": "<b>%{hovertext}</b><br><br>year=2008<br>ISO=%{location}<br>Electric Energy Production TWh=%{z}<extra></extra>",
           "hovertext": [
            "Argentina",
            "Suriname",
            "Malawi",
            "Maldives",
            "Angola",
            "Grenada",
            "Other Asia",
            "Kenya",
            "Republic of Moldova",
            "Iceland",
            "Pakistan",
            "Viet Nam",
            "Faeroe Islands",
            "Dominican Republic",
            "Uganda",
            "Kiribati",
            "Gambia",
            "Cook Islands",
            "French Guiana",
            "Czechia",
            "Bosnia and Herzegovina",
            "Malaysia",
            "Mali",
            "Palau",
            "Bangladesh",
            "Guinea-Bissau",
            "El Salvador",
            "Singapore",
            "Canada",
            "Sierra Leone",
            "Benin",
            "Puerto Rico",
            "Swaziland",
            "Turks and Caicos Islands",
            "Solomon Islands",
            "Bhutan",
            "Liberia",
            "Zambia",
            "Bahrain",
            "Sweden",
            "Lesotho",
            "Philippines",
            "Kyrgyzstan",
            "Chad",
            "Azerbaijan",
            "Lebanon",
            "Falkland Is. (Malvinas)",
            "Guyana",
            "Aruba",
            "Turkmenistan",
            "Costa Rica",
            "Bermuda",
            "Chile",
            "Dem. Rep. of the Congo",
            "Peru",
            "Greece",
            "Latvia",
            "South Africa",
            "Poland",
            "Ecuador",
            "Haiti",
            "Somalia",
            "Zimbabwe",
            "Kuwait",
            "Honduras",
            "St. Helena and Depend.",
            "China",
            "Hungary",
            "Gabon",
            "St. Kitts-Nevis",
            "Madagascar",
            "Timor-Leste",
            "Greenland",
            "Bolivia (Plur. State of)",
            "Slovakia",
            "Qatar",
            "Panama",
            "Wallis and Futuna Is.",
            "Cayman Islands",
            "Turkey",
            "Tuvalu",
            "Korea, Dem.Ppl's.Rep.",
            "Papua New Guinea",
            "Djibouti",
            "Libya",
            "Cyprus",
            "Ghana",
            "Afghanistan",
            "Liechtenstein",
            "Thailand",
            "Luxembourg",
            "Anguilla",
            "Tajikistan",
            "Central African Rep.",
            "Yemen",
            "Lithuania",
            "Egypt",
            "Korea, Republic of",
            "Paraguay",
            "Slovenia",
            "Portugal",
            "France",
            "Lao People's Dem. Rep.",
            "Bahamas",
            "Ethiopia",
            "St. Vincent-Grenadines",
            "Ireland",
            "Malta",
            "State of Palestine",
            "Germany",
            "Rwanda",
            "Algeria",
            "Brazil",
            "Serbia",
            "Sao Tome and Principe",
            "Niger",
            "Iran (Islamic Rep. of)",
            "Nigeria",
            "Micronesia (Fed. States of)",
            "Syrian Arab Republic",
            "Guinea",
            "Jersey",
            "Uzbekistan",
            "Mexico",
            "Cuba",
            "Switzerland",
            "Cabo Verde",
            "Italy",
            "Dominica",
            "Réunion",
            "Tonga",
            "Mongolia",
            "Senegal",
            "Uruguay",
            "Comoros",
            "Mozambique",
            "Colombia",
            "United States Virgin Is.",
            "New Zealand",
            "Burkina Faso",
            "Saudi Arabia",
            "St. Pierre-Miquelon",
            "Estonia",
            "Georgia",
            "British Virgin Islands",
            "Belarus",
            "Morocco",
            "Denmark",
            "Eritrea",
            "United Kingdom",
            "Jamaica",
            "Nicaragua",
            "Sri Lanka",
            "Finland",
            "New Caledonia",
            "Guam",
            "Montserrat",
            "Japan",
            "Iraq",
            "Burundi",
            "Myanmar",
            "Gibraltar",
            "Montenegro",
            "Spain",
            "Niue",
            "United Rep. of Tanzania",
            "Barbados",
            "Equatorial Guinea",
            "Côte d'Ivoire",
            "Norway",
            "Nauru",
            "St. Lucia",
            "Martinique",
            "Brunei Darussalam",
            "Romania",
            "Kazakhstan",
            "Ukraine",
            "Albania",
            "Sudan (former)",
            "Trinidad and Tobago",
            "Austria",
            "Vanuatu",
            "Fiji",
            "Marshall Islands",
            "Oman",
            "Israel",
            "Neth. Antilles (former)",
            "Croatia",
            "Armenia",
            "Nepal",
            "Togo",
            "China, Hong Kong SAR",
            "Cameroon",
            "Australia",
            "Venezuela (Bolivar. Rep.)",
            "Samoa",
            "India",
            "American Samoa",
            "Mauritania",
            "Antigua and Barbuda",
            "Cambodia",
            "Belgium",
            "Belize",
            "United Arab Emirates",
            "Mayotte",
            "Namibia",
            "Congo",
            "Tunisia",
            "Guernsey",
            "Netherlands",
            "Guatemala",
            "Indonesia",
            "Russian Federation",
            "China, Macao SAR",
            "Guadeloupe",
            "Andorra",
            "Botswana",
            "Northern Mariana Islands",
            "Jordan",
            "United States",
            "Mauritius",
            "Seychelles",
            "Isle of Man",
            "Bulgaria",
            "T.F.Yug.Rep. Macedonia",
            "French Polynesia"
           ],
           "locations": [
            "ARG",
            "SUR",
            "MWI",
            "MDV",
            "AGO",
            "GRD",
            "@@@",
            "KEN",
            "MDA",
            "ISL",
            "PAK",
            "VNM",
            "FRO",
            "DOM",
            "UGA",
            "KIR",
            "GMB",
            "COK",
            "GUF",
            "CZE",
            "BIH",
            "MYS",
            "MLI",
            "PLW",
            "BGD",
            "GNB",
            "SLV",
            "SGP",
            "CAN",
            "SLE",
            "BEN",
            "PRI",
            "SWZ",
            "TCA",
            "SLB",
            "BTN",
            "LBR",
            "ZMB",
            "BHR",
            "SWE",
            "LSO",
            "PHL",
            "KGZ",
            "TCD",
            "AZE",
            "LBN",
            "MDV",
            "GUY",
            "ABW",
            "TKM",
            "CRI",
            "BMU",
            "CHL",
            "COD",
            "PER",
            "GRC",
            "LVA",
            "ZAF",
            "POL",
            "ECU",
            "HTI",
            "SOM",
            "ZWE",
            "KWT",
            "HND",
            "SHN",
            "CHN",
            "HUN",
            "GAB",
            "KNA",
            "MDG",
            "TLS",
            "GRL",
            "BOL",
            "SVK",
            "QAT",
            "PAN",
            "WLF",
            "CYM",
            "TUR",
            "TUV",
            "PRK",
            "PNG",
            "DJI",
            "LBY",
            "CYP",
            "GHA",
            "AFG",
            "LIE",
            "THA",
            "LUX",
            "AIA",
            "TJK",
            "CAF",
            "YEM",
            "LTU",
            "EGY",
            "KOR",
            "PRY",
            "SVN",
            "PRT",
            "FRA",
            "LAO",
            "BHS",
            "ETH",
            "VCT",
            "IRL",
            "MLT",
            "PSE",
            "DEU",
            "RWA",
            "DZA",
            "BRA",
            "SRB",
            "STP",
            "NER",
            "IRN",
            "NGA",
            "FSM",
            "SYR",
            "GIN",
            "JEY",
            "UZB",
            "MEX",
            "CUB",
            "CHE",
            "CPV",
            "ITA",
            "DMA",
            "REU",
            "TON",
            "MNG",
            "SEN",
            "URY",
            "COM",
            "MOZ",
            "COL",
            "VIR",
            "NZL",
            "BFA",
            "SAU",
            "SPM",
            "EST",
            "GEO",
            "VGB",
            "BLR",
            "MAR",
            "DNK",
            "ERI",
            "GBR",
            "JAM",
            "NIC",
            "LKA",
            "FIN",
            "NCL",
            "GUM",
            "MSR",
            "JPN",
            "IRQ",
            "BDI",
            "MMR",
            "GIB",
            "MNE",
            "ESP",
            "NIU",
            "TZA",
            "BRB",
            "GNQ",
            "CIV",
            "NOR",
            "NRU",
            "LCA",
            "MTQ",
            "BRN",
            "ROU",
            "KAZ",
            "UKR",
            "ALB",
            "SDN",
            "TTO",
            "AUT",
            "VUT",
            "FJI",
            "MHL",
            "OMN",
            "ISR",
            "@@@",
            "HRV",
            "ARM",
            "NPL",
            "TGO",
            "HKG",
            "CMR",
            "AUS",
            "VEN",
            "WSM",
            "IND",
            "ASM",
            "MRT",
            "ATG",
            "KHM",
            "BEL",
            "BLZ",
            "ARE",
            "MYT",
            "NAM",
            "COG",
            "TUN",
            "GGY",
            "NLD",
            "GTM",
            "IDN",
            "RUS",
            "MAC",
            "GLP",
            "AND",
            "BWA",
            "MNP",
            "JOR",
            "USA",
            "MUS",
            "SYC",
            "IMN",
            "BGR",
            "MKD",
            "PYF"
           ],
           "name": "",
           "type": "choropleth",
           "z": [
            121.927,
            1.7223,
            1.79714,
            0.28,
            4.156,
            0.1888,
            238.313,
            6.4556,
            1.096,
            16.467,
            91.616,
            73.397,
            0.275829,
            15.28676,
            2.088,
            0.0225,
            0.242,
            0.0335,
            0.815,
            83.518,
            14.823,
            106.9269,
            1.481,
            0.0912,
            34.218,
            0.029819,
            5.968,
            41.664695,
            629.473,
            0.138776,
            0.229,
            23.117,
            0.4318,
            0.1968,
            0.0863,
            6.9611,
            0.25,
            9.534,
            22.819,
            150.036,
            0.5034,
            60.855004,
            11.789,
            0.15,
            21.643,
            13.312,
            0.0175,
            0.7092,
            0.9136,
            15.043,
            9.473812,
            0.727,
            59.704,
            7.549,
            32.43,
            63.749,
            5.274,
            258.291,
            155.305,
            18.817,
            0.486,
            0.324,
            7.625,
            51.749,
            6.549,
            0.0086,
            3408.7532,
            40.025,
            1.822,
            0.201,
            1.2743201000000002,
            0.110514,
            0.3879,
            5.817,
            28.962,
            21.616,
            6.428,
            0.020321,
            0.615,
            198.418,
            0.0044,
            23.205,
            3.51,
            0.339,
            28.666,
            5.079,
            8.366,
            0.788,
            0.0714,
            147.4272,
            3.559,
            0.0895,
            16.205,
            0.161,
            6.546,
            13.913,
            134.566,
            446.428,
            55.45448,
            16.399,
            45.969,
            573.516,
            4.1716646,
            2.251,
            3.777,
            0.1392,
            30.239,
            2.312,
            0.4266,
            640.406,
            0.1945,
            40.236,
            463.12,
            37.376,
            0.0475,
            0.225506,
            214.53019,
            21.11,
            0.06595,
            41.023,
            1.00639,
            0.0384,
            49.4,
            269.315,
            17.681,
            68.932,
            0.2868,
            319.131,
            0.0875,
            2.5461,
            0.053,
            4.001,
            2.402,
            8.7691,
            0.043,
            15.127,
            61.192,
            0.971741,
            43.838,
            0.6194,
            204.2,
            0.04445,
            10.581,
            8.453,
            0.121,
            35.048,
            20.347,
            36.616,
            0.287,
            388.894,
            4.4994,
            3.361,
            10.003306,
            77.435,
            1.8806,
            1.8782,
            0.023,
            1082.549,
            36.78,
            0.113789,
            6.62176,
            0.166,
            2.828,
            313.758,
            0.003,
            4.389,
            1.05366,
            0.122,
            5.8,
            142.134,
            0.0194,
            0.3523,
            1.682066,
            3.423,
            64.956,
            80.327,
            192.586,
            3.79651,
            5.506,
            7.731,
            66.877,
            0.06867,
            0.769439,
            0.092,
            16.049,
            57.002,
            1.242,
            12.891,
            6.114,
            2.812,
            0.2113,
            37.99,
            5.681,
            243.221,
            119.297,
            0.1205,
            842.531,
            0.1884,
            0.6589,
            0.296,
            1.479,
            84.93,
            0.217995,
            80.463,
            0.21783,
            2.097,
            0.461,
            15.073,
            0.1107,
            107.552,
            8.718,
            149.437,
            1040.379,
            1.211,
            1.694,
            0.0787,
            0.697,
            0.3937,
            14.16,
            4368.26,
            2.5571,
            0.26911,
            0.5032,
            45.037,
            6.311,
            0.719747
           ]
          }
         ],
         "name": "2008"
        },
        {
         "data": [
          {
           "coloraxis": "coloraxis",
           "customdata": [
            [
             0.052
            ],
            [
             50.207
            ],
            [
             0.7231
            ],
            [
             2.6182
            ],
            [
             249.557
            ],
            [
             7.843
            ],
            [
             0.327
            ],
            [
             15.983
            ],
            [
             5.215
            ],
            [
             72.062
            ],
            [
             0.00891
            ],
            [
             9.047
            ],
            [
             61.365
            ],
            [
             91.225
            ],
            [
             0.174
            ],
            [
             122.34808
            ],
            [
             0.2484
            ],
            [
             0.0837
            ],
            [
             0.128
            ],
            [
             15.428
            ],
            [
             991.98
            ],
            [
             1.709
            ],
            [
             1.0042
            ],
            [
             0.23658472
            ],
            [
             0.030896
            ],
            [
             6.828
            ],
            [
             0.2755
            ],
            [
             37.177
            ],
            [
             0.777327
            ],
            [
             58.014
            ],
            [
             2.14
            ],
            [
             41.8145
            ],
            [
             1.033
            ],
            [
             13.455
            ],
            [
             0.131977
            ],
            [
             0.262
            ],
            [
             0.203
            ],
            [
             0.845
            ],
            [
             535.635
            ],
            [
             1.06834
            ],
            [
             22.555
            ],
            [
             194.812
            ],
            [
             24.158
            ],
            [
             0.3274
            ],
            [
             0.1735
            ],
            [
             217.082
            ],
            [
             23.2385
            ],
            [
             30.376
            ],
            [
             36.383
            ],
            [
             9.98691
            ],
            [
             1.8679
            ],
            [
             148.39
            ],
            [
             16.166
            ],
            [
             2.489
            ],
            [
             0.0912
            ],
            [
             7.854
            ],
            [
             16.403
            ],
            [
             38.322
            ],
            [
             0.05466
            ],
            [
             0.5731285
            ],
            [
             17.727
            ],
            [
             0.131701
            ],
            [
             26.155
            ],
            [
             294.62
            ],
            [
             8.964
            ],
            [
             0.1128
            ],
            [
             3.8743152
            ],
            [
             3.992
            ],
            [
             0.04491
            ],
            [
             606.346
            ],
            [
             43.453
            ],
            [
             0.022
            ],
            [
             0.0464
            ],
            [
             0.2984
            ],
            [
             8.779
            ],
            [
             1.9446
            ],
            [
             28.313
            ],
            [
             0.125
            ],
            [
             1.17451
            ],
            [
             4.741
            ],
            [
             69.088
            ],
            [
             113.691
            ],
            [
             0.5327
            ],
            [
             3.612
            ],
            [
             1.298
            ],
            [
             6.5072
            ],
            [
             2.168
            ],
            [
             0.1783
            ],
            [
             5.792
            ],
            [
             0.242
            ],
            [
             376.72
            ],
            [
             3.453
            ],
            [
             157.51605
            ],
            [
             3714.65
            ],
            [
             0.081
            ],
            [
             1.273808
            ],
            [
             0.539
            ],
            [
             43.308
            ],
            [
             0.002877
            ],
            [
             85.698
            ],
            [
             0.020091
            ],
            [
             0.626
            ],
            [
             19.777
            ],
            [
             221.37167
            ],
            [
             1.7403
            ],
            [
             21.127
            ],
            [
             1.94414
            ],
            [
             595.617
            ],
            [
             15.05959
            ],
            [
             83.185
            ],
            [
             0.253886
            ],
            [
             46.065
            ],
            [
             107.1158
            ],
            [
             119.58
            ],
            [
             0.397
            ],
            [
             3.115
            ],
            [
             5.783
            ],
            [
             14.272
            ],
            [
             2.5772
            ],
            [
             20.935
            ],
            [
             4.2077
            ],
            [
             38.501
            ],
            [
             1.466
            ],
            [
             0.023
            ],
            [
             0.121147
            ],
            [
             0.2387
            ],
            [
             8.408
            ],
            [
             2.841
            ],
            [
             0.122
            ],
            [
             1075.305
            ],
            [
             0.30949
            ],
            [
             8.6659
            ],
            [
             0.5006
            ],
            [
             49.95
            ],
            [
             0.0639
            ],
            [
             267.754
            ],
            [
             0.07049
            ],
            [
             5.1816
            ],
            [
             248.754
            ],
            [
             1.256
            ],
            [
             0.6576
            ],
            [
             0.0213
            ],
            [
             42.964
            ],
            [
             38.728
            ],
            [
             0.735565
            ],
            [
             4188.214
            ],
            [
             1.742
            ],
            [
             0.0928
            ],
            [
             292.64
            ],
            [
             0.093
            ],
            [
             0.14
            ],
            [
             6.491
            ],
            [
             6.96427
            ],
            [
             78.71
            ],
            [
             0.295
            ],
            [
             1.732266
            ],
            [
             5.23136
            ],
            [
             62.574
            ],
            [
             0.6998
            ],
            [
             16.963
            ],
            [
             0.06867
            ],
            [
             0.920773
            ],
            [
             55.008
            ],
            [
             5.871
            ],
            [
             466.158
            ],
            [
             0.5177
            ],
            [
             3.486
            ],
            [
             35.908
            ],
            [
             6.121
            ],
            [
             0.00459
            ],
            [
             0.5053
            ],
            [
             0.217
            ],
            [
             6.909
            ],
            [
             0.0327
            ],
            [
             4.735
            ],
            [
             9.893
            ],
            [
             0.25
            ],
            [
             0.0828
            ],
            [
             16.834
            ],
            [
             53.216
            ],
            [
             30.373
            ],
            [
             95.358
            ],
            [
             2.18555
            ],
            [
             0.889
            ],
            [
             0.275528
            ],
            [
             15.668
            ],
            [
             13.771
            ],
            [
             11.083
            ],
            [
             1.835
            ],
            [
             9.311239
            ],
            [
             0.746
            ],
            [
             7.291
            ],
            [
             60.722
            ],
            [
             5.569
            ],
            [
             151.72
            ],
            [
             0.721
            ],
            [
             54.93969
            ],
            [
             0.9243
            ],
            [
             18.868
            ],
            [
             61.9684
            ],
            [
             32.929
            ],
            [
             6.625
            ],
            [
             0.183
            ],
            [
             6.9981
            ],
            [
             18.2646
            ],
            [
             0.2076
            ],
            [
             0.01755
            ],
            [
             0.071
            ],
            [
             68.453
            ],
            [
             131.773
            ],
            [
             0.349
            ],
            [
             3.879
            ],
            [
             899.389
            ],
            [
             0.36299
            ],
            [
             15.358
            ],
            [
             136.729
            ],
            [
             142.69
            ],
            [
             229.694
            ],
            [
             5.672
            ],
            [
             173.645
            ],
            [
             454.504
            ],
            [
             82.25
            ],
            [
             0.16
            ],
            [
             6.75
            ],
            [
             18.445
            ],
            [
             0.6207
            ]
           ],
           "geo": "geo",
           "hovertemplate": "<b>%{hovertext}</b><br><br>year=2009<br>ISO=%{location}<br>Electric Energy Production TWh=%{z}<extra></extra>",
           "hovertext": [
            "Sao Tome and Principe",
            "Portugal",
            "Guyana",
            "Réunion",
            "South Africa",
            "Trinidad and Tobago",
            "Somalia",
            "Turkmenistan",
            "Cyprus",
            "Finland",
            "St. Helena and Depend.",
            "Guatemala",
            "Greece",
            "Belgium",
            "Gibraltar",
            "Argentina",
            "Rwanda",
            "Solomon Islands",
            "Benin",
            "Tunisia",
            "Russian Federation",
            "Guadeloupe",
            "Guinea",
            "Belize",
            "Guinea-Bissau",
            "T.F.Yug.Rep. Macedonia",
            "Seychelles",
            "Bangladesh",
            "Fiji",
            "Romania",
            "Bahamas",
            "Singapore",
            "Republic of Moldova",
            "Croatia",
            "Sierra Leone",
            "Togo",
            "Grenada",
            "French Guiana",
            "France",
            "Barbados",
            "Bahrain",
            "Turkey",
            "Qatar",
            "Antigua and Barbuda",
            "Guernsey",
            "Saudi Arabia",
            "Puerto Rico",
            "Belarus",
            "Denmark",
            "Sri Lanka",
            "Guam",
            "Thailand",
            "Tajikistan",
            "Senegal",
            "Anguilla",
            "Dem. Rep. of the Congo",
            "Slovenia",
            "Serbia",
            "Tonga",
            "Greenland",
            "Cuba",
            "Timor-Leste",
            "Slovakia",
            "Spain",
            "Ghana",
            "Samoa",
            "Lao People's Dem. Rep.",
            "Ethiopia",
            "St. Pierre-Miquelon",
            "Canada",
            "New Zealand",
            "Kiribati",
            "Comoros",
            "Maldives",
            "Estonia",
            "New Caledonia",
            "Ireland",
            "British Virgin Islands",
            "Mali",
            "United Rep. of Tanzania",
            "Austria",
            "Netherlands",
            "Isle of Man",
            "Brunei Darussalam",
            "Neth. Antilles (former)",
            "Kenya",
            "Malta",
            "American Samoa",
            "El Salvador",
            "Gambia",
            "United Kingdom",
            "Nicaragua",
            "Indonesia",
            "China",
            "Andorra",
            "Madagascar",
            "Congo",
            "Syrian Arab Republic",
            "Niue",
            "United Arab Emirates",
            "Wallis and Futuna Is.",
            "Cayman Islands",
            "Nigeria",
            "Iran (Islamic Rep. of)",
            "Suriname",
            "Korea, Dem.Ppl's.Rep.",
            "Malawi",
            "Germany",
            "Dominican Republic",
            "Viet Nam",
            "Niger",
            "Iraq",
            "Malaysia",
            "Venezuela (Bolivar. Rep.)",
            "Northern Mariana Islands",
            "Nepal",
            "Cameroon",
            "Jordan",
            "Mauritius",
            "Morocco",
            "Jamaica",
            "Algeria",
            "China, Macao SAR",
            "Montserrat",
            "Burundi",
            "Mayotte",
            "Georgia",
            "Montenegro",
            "Equatorial Guinea",
            "Japan",
            "Cabo Verde",
            "Uruguay",
            "State of Palestine",
            "Uzbekistan",
            "Jersey",
            "Mexico",
            "Micronesia (Fed. States of)",
            "Mongolia",
            "Australia",
            "Cambodia",
            "Mauritania",
            "Nauru",
            "Bulgaria",
            "China, Hong Kong SAR",
            "French Polynesia",
            "United States",
            "Namibia",
            "Dominica",
            "Italy",
            "Marshall Islands",
            "St. Vincent-Grenadines",
            "Sudan (former)",
            "Myanmar",
            "Kazakhstan",
            "Eritrea",
            "Martinique",
            "Albania",
            "Colombia",
            "Burkina Faso",
            "Mozambique",
            "Vanuatu",
            "United States Virgin Is.",
            "Israel",
            "Côte d'Ivoire",
            "Brazil",
            "Swaziland",
            "Papua New Guinea",
            "Hungary",
            "Bolivia (Plur. State of)",
            "Tuvalu",
            "Lesotho",
            "St. Kitts-Nevis",
            "Panama",
            "Cook Islands",
            "Angola",
            "Zambia",
            "Liberia",
            "Palau",
            "Iceland",
            "Kuwait",
            "Libya",
            "Pakistan",
            "Uganda",
            "Afghanistan",
            "Faeroe Islands",
            "Bosnia and Herzegovina",
            "Lebanon",
            "Kyrgyzstan",
            "Gabon",
            "Costa Rica",
            "Bermuda",
            "Zimbabwe",
            "Chile",
            "Latvia",
            "Poland",
            "Haiti",
            "Paraguay",
            "Aruba",
            "Azerbaijan",
            "Philippines",
            "Peru",
            "Honduras",
            "Chad",
            "Bhutan",
            "Ecuador",
            "Turks and Caicos Islands",
            "Falkland Is. (Malvinas)",
            "Liechtenstein",
            "Switzerland",
            "Norway",
            "Djibouti",
            "Luxembourg",
            "India",
            "St. Lucia",
            "Lithuania",
            "Sweden",
            "Egypt",
            "Other Asia",
            "Armenia",
            "Ukraine",
            "Korea, Republic of",
            "Czechia",
            "Central African Rep.",
            "Yemen",
            "Oman",
            "Botswana"
           ],
           "locations": [
            "STP",
            "PRT",
            "GUY",
            "REU",
            "ZAF",
            "TTO",
            "SOM",
            "TKM",
            "CYP",
            "FIN",
            "SHN",
            "GTM",
            "GRC",
            "BEL",
            "GIB",
            "ARG",
            "RWA",
            "SLB",
            "BEN",
            "TUN",
            "RUS",
            "GLP",
            "GIN",
            "BLZ",
            "GNB",
            "MKD",
            "SYC",
            "BGD",
            "FJI",
            "ROU",
            "BHS",
            "SGP",
            "MDA",
            "HRV",
            "SLE",
            "TGO",
            "GRD",
            "GUF",
            "FRA",
            "BRB",
            "BHR",
            "TUR",
            "QAT",
            "ATG",
            "GGY",
            "SAU",
            "PRI",
            "BLR",
            "DNK",
            "LKA",
            "GUM",
            "THA",
            "TJK",
            "SEN",
            "AIA",
            "COD",
            "SVN",
            "SRB",
            "TON",
            "GRL",
            "CUB",
            "TLS",
            "SVK",
            "ESP",
            "GHA",
            "WSM",
            "LAO",
            "ETH",
            "SPM",
            "CAN",
            "NZL",
            "KIR",
            "COM",
            "MDV",
            "EST",
            "NCL",
            "IRL",
            "VGB",
            "MLI",
            "TZA",
            "AUT",
            "NLD",
            "IMN",
            "BRN",
            "@@@",
            "KEN",
            "MLT",
            "ASM",
            "SLV",
            "GMB",
            "GBR",
            "NIC",
            "IDN",
            "CHN",
            "AND",
            "MDG",
            "COG",
            "SYR",
            "NIU",
            "ARE",
            "WLF",
            "CYM",
            "NGA",
            "IRN",
            "SUR",
            "PRK",
            "MWI",
            "DEU",
            "DOM",
            "VNM",
            "NER",
            "IRQ",
            "MYS",
            "VEN",
            "MNP",
            "NPL",
            "CMR",
            "JOR",
            "MUS",
            "MAR",
            "JAM",
            "DZA",
            "MAC",
            "MSR",
            "BDI",
            "MYT",
            "GEO",
            "MNE",
            "GNQ",
            "JPN",
            "CPV",
            "URY",
            "PSE",
            "UZB",
            "JEY",
            "MEX",
            "FSM",
            "MNG",
            "AUS",
            "KHM",
            "MRT",
            "NRU",
            "BGR",
            "HKG",
            "PYF",
            "USA",
            "NAM",
            "DMA",
            "ITA",
            "MHL",
            "VCT",
            "SDN",
            "MMR",
            "KAZ",
            "ERI",
            "MTQ",
            "ALB",
            "COL",
            "BFA",
            "MOZ",
            "VUT",
            "VIR",
            "ISR",
            "CIV",
            "BRA",
            "SWZ",
            "PNG",
            "HUN",
            "BOL",
            "TUV",
            "LSO",
            "KNA",
            "PAN",
            "COK",
            "AGO",
            "ZMB",
            "LBR",
            "PLW",
            "ISL",
            "KWT",
            "LBY",
            "PAK",
            "UGA",
            "AFG",
            "FRO",
            "BIH",
            "LBN",
            "KGZ",
            "GAB",
            "CRI",
            "BMU",
            "ZWE",
            "CHL",
            "LVA",
            "POL",
            "HTI",
            "PRY",
            "ABW",
            "AZE",
            "PHL",
            "PER",
            "HND",
            "TCD",
            "BTN",
            "ECU",
            "TCA",
            "MDV",
            "LIE",
            "CHE",
            "NOR",
            "DJI",
            "LUX",
            "IND",
            "LCA",
            "LTU",
            "SWE",
            "EGY",
            "@@@",
            "ARM",
            "UKR",
            "KOR",
            "CZE",
            "CAF",
            "YEM",
            "OMN",
            "BWA"
           ],
           "name": "",
           "type": "choropleth",
           "z": [
            0.052,
            50.207,
            0.7231,
            2.6182,
            249.557,
            7.843,
            0.327,
            15.983,
            5.215,
            72.062,
            0.00891,
            9.047,
            61.365,
            91.225,
            0.174,
            122.34808,
            0.2484,
            0.0837,
            0.128,
            15.428,
            991.98,
            1.709,
            1.0042,
            0.23658472,
            0.030896,
            6.828,
            0.2755,
            37.177,
            0.777327,
            58.014,
            2.14,
            41.8145,
            1.033,
            13.455,
            0.131977,
            0.262,
            0.203,
            0.845,
            535.635,
            1.06834,
            22.555,
            194.812,
            24.158,
            0.3274,
            0.1735,
            217.082,
            23.2385,
            30.376,
            36.383,
            9.98691,
            1.8679,
            148.39,
            16.166,
            2.489,
            0.0912,
            7.854,
            16.403,
            38.322,
            0.05466,
            0.5731285,
            17.727,
            0.131701,
            26.155,
            294.62,
            8.964,
            0.1128,
            3.8743152,
            3.992,
            0.04491,
            606.346,
            43.453,
            0.022,
            0.0464,
            0.2984,
            8.779,
            1.9446,
            28.313,
            0.125,
            1.17451,
            4.741,
            69.088,
            113.691,
            0.5327,
            3.612,
            1.298,
            6.5072,
            2.168,
            0.1783,
            5.792,
            0.242,
            376.72,
            3.453,
            157.51605,
            3714.65,
            0.081,
            1.273808,
            0.539,
            43.308,
            0.002877,
            85.698,
            0.020091,
            0.626,
            19.777,
            221.37167,
            1.7403,
            21.127,
            1.94414,
            595.617,
            15.05959,
            83.185,
            0.253886,
            46.065,
            107.1158,
            119.58,
            0.397,
            3.115,
            5.783,
            14.272,
            2.5772,
            20.935,
            4.2077,
            38.501,
            1.466,
            0.023,
            0.121147,
            0.2387,
            8.408,
            2.841,
            0.122,
            1075.305,
            0.30949,
            8.6659,
            0.5006,
            49.95,
            0.0639,
            267.754,
            0.07049,
            5.1816,
            248.754,
            1.256,
            0.6576,
            0.0213,
            42.964,
            38.728,
            0.735565,
            4188.214,
            1.742,
            0.0928,
            292.64,
            0.093,
            0.14,
            6.491,
            6.96427,
            78.71,
            0.295,
            1.732266,
            5.23136,
            62.574,
            0.6998,
            16.963,
            0.06867,
            0.920773,
            55.008,
            5.871,
            466.158,
            0.5177,
            3.486,
            35.908,
            6.121,
            0.00459,
            0.5053,
            0.217,
            6.909,
            0.0327,
            4.735,
            9.893,
            0.25,
            0.0828,
            16.834,
            53.216,
            30.373,
            95.358,
            2.18555,
            0.889,
            0.275528,
            15.668,
            13.771,
            11.083,
            1.835,
            9.311239,
            0.746,
            7.291,
            60.722,
            5.569,
            151.72,
            0.721,
            54.93969,
            0.9243,
            18.868,
            61.9684,
            32.929,
            6.625,
            0.183,
            6.9981,
            18.2646,
            0.2076,
            0.01755,
            0.071,
            68.453,
            131.773,
            0.349,
            3.879,
            899.389,
            0.36299,
            15.358,
            136.729,
            142.69,
            229.694,
            5.672,
            173.645,
            454.504,
            82.25,
            0.16,
            6.75,
            18.445,
            0.6207
           ]
          }
         ],
         "name": "2009"
        },
        {
         "data": [
          {
           "coloraxis": "coloraxis",
           "customdata": [
            [
             0.2
            ],
            [
             14.777
            ],
            [
             0.019816
            ],
            [
             0.327
            ],
            [
             0.0241
            ],
            [
             499.508
            ],
            [
             0.7273
            ],
            [
             5.749
            ],
            [
             0.06894
            ],
            [
             12.1
            ],
            [
             0.994
            ],
            [
             7.74417
            ],
            [
             16.44
            ],
            [
             0.30104
            ],
            [
             0.9402
            ],
            [
             1.809
            ],
            [
             252.698
            ],
            [
             3.755063
            ],
            [
             150.486
            ],
            [
             8.6029
            ],
            [
             0.0564
            ],
            [
             17.387
            ],
            [
             301.527
            ],
            [
             0.5331866
            ],
            [
             51.7
            ],
            [
             4207.1605
            ],
            [
             4.59
            ],
            [
             0.3467
            ],
            [
             0.122
            ],
            [
             57.392
            ],
            [
             1.359803
            ],
            [
             1.02767
            ],
            [
             0.13661
            ],
            [
             0.2575
            ],
            [
             6.627
            ],
            [
             1.7232
            ],
            [
             27.858
            ],
            [
             125.59409
            ],
            [
             2.6888
            ],
            [
             21.664
            ],
            [
             259.608
            ],
            [
             15.712
            ],
            [
             7.755
            ],
            [
             569.097
            ],
            [
             6.9758
            ],
            [
             0.25
            ],
            [
             57.029
            ],
            [
             40.79
            ],
            [
             5.984
            ],
            [
             0.2087
            ],
            [
             116.80828
            ],
            [
             159.518
            ],
            [
             148.563
            ],
            [
             32.558
            ],
            [
             0.2452
            ],
            [
             0.079
            ],
            [
             0.25661
            ],
            [
             45.3605
            ],
            [
             0.892
            ],
            [
             1.8046
            ],
            [
             595.951
            ],
            [
             16.436
            ],
            [
             1.29202
            ],
            [
             2.116
            ],
            [
             118.37
            ],
            [
             0.0874
            ],
            [
             82.646
            ],
            [
             0.3202
            ],
            [
             5.322
            ],
            [
             7.499
            ],
            [
             0.092
            ],
            [
             275.537
            ],
            [
             19.5098
            ],
            [
             2.02364
            ],
            [
             16.11596
            ],
            [
             0.17063
            ],
            [
             0.872
            ],
            [
             0.16
            ],
            [
             0.5006
            ],
            [
             38.292
            ],
            [
             0.55973
            ],
            [
             10.448
            ],
            [
             94.885
            ],
            [
             23.441
            ],
            [
             5.899
            ],
            [
             60.434
            ],
            [
             5.965
            ],
            [
             1.808365
            ],
            [
             0.624
            ],
            [
             54.09
            ],
            [
             67.815
            ],
            [
             0.1127
            ],
            [
             0.4149275
            ],
            [
             0.380889
            ],
            [
             0.5321
            ],
            [
             0.835169
            ],
            [
             123.64
            ],
            [
             60.979
            ],
            [
             188.857
            ],
            [
             0.784
            ],
            [
             6.491
            ],
            [
             954.539
            ],
            [
             19.819
            ],
            [
             0.379
            ],
            [
             17.124
            ],
            [
             246.996
            ],
            [
             0.4
            ],
            [
             85.91
            ],
            [
             7.26
            ],
            [
             169.56952
            ],
            [
             0.292025
            ],
            [
             10.800809
            ],
            [
             0.2811
            ],
            [
             4.98
            ],
            [
             515.798
            ],
            [
             1.077
            ],
            [
             14.902
            ],
            [
             232.96469
            ],
            [
             26.121
            ],
            [
             93.949
            ],
            [
             0.0031479445
            ],
            [
             632.983
            ],
            [
             16.3692
            ],
            [
             1038.03
            ],
            [
             46.413
            ],
            [
             0.9582
            ],
            [
             48.909
            ],
            [
             1.932
            ],
            [
             2.456
            ],
            [
             0.2135
            ],
            [
             7.3283
            ],
            [
             6.777
            ],
            [
             23.4973
            ],
            [
             35.89
            ],
            [
             67.7768
            ],
            [
             0.587
            ],
            [
             0.8677
            ],
            [
             0.01755
            ],
            [
             157.657
            ],
            [
             18.71
            ],
            [
             0.7424
            ],
            [
             9.583319
            ],
            [
             16.663
            ],
            [
             0.00929
            ],
            [
             54.06559
            ],
            [
             1.064
            ],
            [
             5.449
            ],
            [
             0.0986
            ],
            [
             94.383
            ],
            [
             17.059
            ],
            [
             0.031953
            ],
            [
             10.167
            ],
            [
             0.0804
            ],
            [
             0.280366
            ],
            [
             0.0337
            ],
            [
             0.15
            ],
            [
             0.2165
            ],
            [
             211.208
            ],
            [
             7.4189
            ],
            [
             28.144
            ],
            [
             0.00539
            ],
            [
             6.777
            ],
            [
             37.371
            ],
            [
             3.631
            ],
            [
             3.659
            ],
            [
             0.957538
            ],
            [
             381.771
            ],
            [
             8.8933
            ],
            [
             4378.422
            ],
            [
             1.488
            ],
            [
             1147.899
            ],
            [
             302.063
            ],
            [
             0.0991
            ],
            [
             2.618
            ],
            [
             0.0572
            ],
            [
             6.215
            ],
            [
             0.1417
            ],
            [
             38.862
            ],
            [
             4.168
            ],
            [
             8.62511
            ],
            [
             46.653
            ],
            [
             0.311
            ],
            [
             80.679
            ],
            [
             60.234
            ],
            [
             0.817453
            ],
            [
             16.666
            ],
            [
             0.5653
            ],
            [
             0.023
            ],
            [
             1.8824
            ],
            [
             45.734
            ],
            [
             4.2167
            ],
            [
             22.8525
            ],
            [
             34.895
            ],
            [
             240.067
            ],
            [
             0.177
            ],
            [
             0.142031
            ],
            [
             10.058
            ],
            [
             7.905
            ],
            [
             58.591
            ],
            [
             0.07023
            ],
            [
             44.876
            ],
            [
             0.1522
            ],
            [
             0.04535
            ],
            [
             0.0636
            ],
            [
             0.128
            ],
            [
             2.6995
            ],
            [
             12.964
            ],
            [
             2.13115
            ],
            [
             28.685
            ],
            [
             95.189
            ],
            [
             38.103
            ],
            [
             71.128
            ],
            [
             0.0226
            ],
            [
             0.326
            ],
            [
             5.274
            ],
            [
             8.485
            ],
            [
             0.05185
            ],
            [
             0.4733
            ],
            [
             119.27
            ],
            [
             3.792
            ],
            [
             1.323
            ],
            [
             0.4979
            ],
            [
             3.208
            ],
            [
             0.1162
            ],
            [
             0.1591
            ],
            [
             10.732
            ]
           ],
           "geo": "geo",
           "hovertemplate": "<b>%{hovertext}</b><br><br>year=2010<br>ISO=%{location}<br>Electric Energy Production TWh=%{z}<extra></extra>",
           "hovertext": [
            "Chad",
            "Jordan",
            "Wallis and Futuna Is.",
            "Somalia",
            "Kiribati",
            "Korea, Republic of",
            "Mauritania",
            "Lithuania",
            "Vanuatu",
            "Kyrgyzstan",
            "Cambodia",
            "Albania",
            "Slovenia",
            "Seychelles",
            "Aruba",
            "Guadeloupe",
            "Australia",
            "Lao People's Dem. Rep.",
            "Egypt",
            "Zimbabwe",
            "Jersey",
            "Cuba",
            "Spain",
            "Greenland",
            "Uzbekistan",
            "China",
            "Luxembourg",
            "Cabo Verde",
            "Equatorial Guinea",
            "Greece",
            "Madagascar",
            "Barbados",
            "Timor-Leste",
            "Mayotte",
            "Latvia",
            "Suriname",
            "Slovakia",
            "Argentina",
            "Mauritius",
            "Korea, Dem.Ppl's.Rep.",
            "South Africa",
            "Lebanon",
            "Yemen",
            "France",
            "Kenya",
            "Liberia",
            "Kuwait",
            "Bangladesh",
            "El Salvador",
            "Grenada",
            "Malaysia",
            "Thailand",
            "Sweden",
            "Libya",
            "Gambia",
            "Liechtenstein",
            "Maldives",
            "Singapore",
            "Afghanistan",
            "Bahamas",
            "Canada",
            "Tajikistan",
            "Mali",
            "Malta",
            "Venezuela (Bolivar. Rep.)",
            "Solomon Islands",
            "Kazakhstan",
            "Togo",
            "Cyprus",
            "Sudan (former)",
            "Marshall Islands",
            "Mexico",
            "Ecuador",
            "Malawi",
            "Dominican Republic",
            "Sierra Leone",
            "French Guiana",
            "Central African Rep.",
            "Lesotho",
            "China, Hong Kong SAR",
            "Swaziland",
            "Zambia",
            "Viet Nam",
            "Bahrain",
            "Cameroon",
            "Chile",
            "Côte d'Ivoire",
            "Martinique",
            "Cayman Islands",
            "Portugal",
            "Switzerland",
            "Andorra",
            "Belize",
            "St. Lucia",
            "Botswana",
            "Fiji",
            "Norway",
            "Romania",
            "Ukraine",
            "Congo",
            "Armenia",
            "India",
            "Oman",
            "Djibouti",
            "Bosnia and Herzegovina",
            "Other Asia",
            "Northern Mariana Islands",
            "Czechia",
            "T.F.Yug.Rep. Macedonia",
            "Indonesia",
            "Niger",
            "Sri Lanka",
            "Rwanda",
            "Ethiopia",
            "Brazil",
            "China, Macao SAR",
            "Croatia",
            "Iran (Islamic Rep. of)",
            "Nigeria",
            "United Arab Emirates",
            "Niue",
            "Germany",
            "Tunisia",
            "Russian Federation",
            "Syrian Arab Republic",
            "Guinea",
            "Iraq",
            "Gabon",
            "Uganda",
            "Turks and Caicos Islands",
            "Bhutan",
            "Honduras",
            "Puerto Rico",
            "Peru",
            "Philippines",
            "Haiti",
            "Guyana",
            "Falkland Is. (Malvinas)",
            "Poland",
            "Azerbaijan",
            "Bermuda",
            "Costa Rica",
            "Turkmenistan",
            "St. Helena and Depend.",
            "Paraguay",
            "Republic of Moldova",
            "Angola",
            "Anguilla",
            "Pakistan",
            "Iceland",
            "Guinea-Bissau",
            "Ghana",
            "Palau",
            "Faeroe Islands",
            "Cook Islands",
            "Benin",
            "St. Kitts-Nevis",
            "Turkey",
            "Panama",
            "Qatar",
            "Tuvalu",
            "Bolivia (Plur. State of)",
            "Hungary",
            "Papua New Guinea",
            "Nicaragua",
            "United States Virgin Is.",
            "United Kingdom",
            "Guatemala",
            "United States",
            "Namibia",
            "Japan",
            "Italy",
            "Dominica",
            "Senegal",
            "Sao Tome and Principe",
            "Mongolia",
            "St. Vincent-Grenadines",
            "Denmark",
            "Montenegro",
            "Myanmar",
            "Bulgaria",
            "Eritrea",
            "Finland",
            "Colombia",
            "French Polynesia",
            "Mozambique",
            "Burkina Faso",
            "Montserrat",
            "Guam",
            "Algeria",
            "Jamaica",
            "Morocco",
            "Belarus",
            "Saudi Arabia",
            "Gibraltar",
            "Burundi",
            "Georgia",
            "Dem. Rep. of the Congo",
            "Israel",
            "Micronesia (Fed. States of)",
            "New Zealand",
            "Guernsey",
            "St. Pierre-Miquelon",
            "Comoros",
            "British Virgin Islands",
            "Réunion",
            "Estonia",
            "New Caledonia",
            "Ireland",
            "Belgium",
            "Serbia",
            "Austria",
            "Nauru",
            "Antigua and Barbuda",
            "United Rep. of Tanzania",
            "Trinidad and Tobago",
            "Tonga",
            "State of Palestine",
            "Netherlands",
            "Brunei Darussalam",
            "Neth. Antilles (former)",
            "Isle of Man",
            "Nepal",
            "Samoa",
            "American Samoa",
            "Uruguay"
           ],
           "locations": [
            "TCD",
            "JOR",
            "WLF",
            "SOM",
            "KIR",
            "KOR",
            "MRT",
            "LTU",
            "VUT",
            "KGZ",
            "KHM",
            "ALB",
            "SVN",
            "SYC",
            "ABW",
            "GLP",
            "AUS",
            "LAO",
            "EGY",
            "ZWE",
            "JEY",
            "CUB",
            "ESP",
            "GRL",
            "UZB",
            "CHN",
            "LUX",
            "CPV",
            "GNQ",
            "GRC",
            "MDG",
            "BRB",
            "TLS",
            "MYT",
            "LVA",
            "SUR",
            "SVK",
            "ARG",
            "MUS",
            "PRK",
            "ZAF",
            "LBN",
            "YEM",
            "FRA",
            "KEN",
            "LBR",
            "KWT",
            "BGD",
            "SLV",
            "GRD",
            "MYS",
            "THA",
            "SWE",
            "LBY",
            "GMB",
            "LIE",
            "MDV",
            "SGP",
            "AFG",
            "BHS",
            "CAN",
            "TJK",
            "MLI",
            "MLT",
            "VEN",
            "SLB",
            "KAZ",
            "TGO",
            "CYP",
            "SDN",
            "MHL",
            "MEX",
            "ECU",
            "MWI",
            "DOM",
            "SLE",
            "GUF",
            "CAF",
            "LSO",
            "HKG",
            "SWZ",
            "ZMB",
            "VNM",
            "BHR",
            "CMR",
            "CHL",
            "CIV",
            "MTQ",
            "CYM",
            "PRT",
            "CHE",
            "AND",
            "BLZ",
            "LCA",
            "BWA",
            "FJI",
            "NOR",
            "ROU",
            "UKR",
            "COG",
            "ARM",
            "IND",
            "OMN",
            "DJI",
            "BIH",
            "@@@",
            "MNP",
            "CZE",
            "MKD",
            "IDN",
            "NER",
            "LKA",
            "RWA",
            "ETH",
            "BRA",
            "MAC",
            "HRV",
            "IRN",
            "NGA",
            "ARE",
            "NIU",
            "DEU",
            "TUN",
            "RUS",
            "SYR",
            "GIN",
            "IRQ",
            "GAB",
            "UGA",
            "TCA",
            "BTN",
            "HND",
            "PRI",
            "PER",
            "PHL",
            "HTI",
            "GUY",
            "MDV",
            "POL",
            "AZE",
            "BMU",
            "CRI",
            "TKM",
            "SHN",
            "PRY",
            "MDA",
            "AGO",
            "AIA",
            "PAK",
            "ISL",
            "GNB",
            "GHA",
            "PLW",
            "FRO",
            "COK",
            "BEN",
            "KNA",
            "TUR",
            "PAN",
            "QAT",
            "TUV",
            "BOL",
            "HUN",
            "PNG",
            "NIC",
            "VIR",
            "GBR",
            "GTM",
            "USA",
            "NAM",
            "JPN",
            "ITA",
            "DMA",
            "SEN",
            "STP",
            "MNG",
            "VCT",
            "DNK",
            "MNE",
            "MMR",
            "BGR",
            "ERI",
            "FIN",
            "COL",
            "PYF",
            "MOZ",
            "BFA",
            "MSR",
            "GUM",
            "DZA",
            "JAM",
            "MAR",
            "BLR",
            "SAU",
            "GIB",
            "BDI",
            "GEO",
            "COD",
            "ISR",
            "FSM",
            "NZL",
            "GGY",
            "SPM",
            "COM",
            "VGB",
            "REU",
            "EST",
            "NCL",
            "IRL",
            "BEL",
            "SRB",
            "AUT",
            "NRU",
            "ATG",
            "TZA",
            "TTO",
            "TON",
            "PSE",
            "NLD",
            "BRN",
            "@@@",
            "IMN",
            "NPL",
            "WSM",
            "ASM",
            "URY"
           ],
           "name": "",
           "type": "choropleth",
           "z": [
            0.2,
            14.777,
            0.019816,
            0.327,
            0.0241,
            499.508,
            0.7273,
            5.749,
            0.06894,
            12.1,
            0.994,
            7.74417,
            16.44,
            0.30104,
            0.9402,
            1.809,
            252.698,
            3.755063,
            150.486,
            8.6029,
            0.0564,
            17.387,
            301.527,
            0.5331866,
            51.7,
            4207.1605,
            4.59,
            0.3467,
            0.122,
            57.392,
            1.359803,
            1.02767,
            0.13661,
            0.2575,
            6.627,
            1.7232,
            27.858,
            125.59409,
            2.6888,
            21.664,
            259.608,
            15.712,
            7.755,
            569.097,
            6.9758,
            0.25,
            57.029,
            40.79,
            5.984,
            0.2087,
            116.80828,
            159.518,
            148.563,
            32.558,
            0.2452,
            0.079,
            0.25661,
            45.3605,
            0.892,
            1.8046,
            595.951,
            16.436,
            1.29202,
            2.116,
            118.37,
            0.0874,
            82.646,
            0.3202,
            5.322,
            7.499,
            0.092,
            275.537,
            19.5098,
            2.02364,
            16.11596,
            0.17063,
            0.872,
            0.16,
            0.5006,
            38.292,
            0.55973,
            10.448,
            94.885,
            23.441,
            5.899,
            60.434,
            5.965,
            1.808365,
            0.624,
            54.09,
            67.815,
            0.1127,
            0.4149275,
            0.380889,
            0.5321,
            0.835169,
            123.64,
            60.979,
            188.857,
            0.784,
            6.491,
            954.539,
            19.819,
            0.379,
            17.124,
            246.996,
            0.4,
            85.91,
            7.26,
            169.56952,
            0.292025,
            10.800809,
            0.2811,
            4.98,
            515.798,
            1.077,
            14.902,
            232.96469,
            26.121,
            93.949,
            0.0031479445,
            632.983,
            16.3692,
            1038.03,
            46.413,
            0.9582,
            48.909,
            1.932,
            2.456,
            0.2135,
            7.3283,
            6.777,
            23.4973,
            35.89,
            67.7768,
            0.587,
            0.8677,
            0.01755,
            157.657,
            18.71,
            0.7424,
            9.583319,
            16.663,
            0.00929,
            54.06559,
            1.064,
            5.449,
            0.0986,
            94.383,
            17.059,
            0.031953,
            10.167,
            0.0804,
            0.280366,
            0.0337,
            0.15,
            0.2165,
            211.208,
            7.4189,
            28.144,
            0.00539,
            6.777,
            37.371,
            3.631,
            3.659,
            0.957538,
            381.771,
            8.8933,
            4378.422,
            1.488,
            1147.899,
            302.063,
            0.0991,
            2.618,
            0.0572,
            6.215,
            0.1417,
            38.862,
            4.168,
            8.62511,
            46.653,
            0.311,
            80.679,
            60.234,
            0.817453,
            16.666,
            0.5653,
            0.023,
            1.8824,
            45.734,
            4.2167,
            22.8525,
            34.895,
            240.067,
            0.177,
            0.142031,
            10.058,
            7.905,
            58.591,
            0.07023,
            44.876,
            0.1522,
            0.04535,
            0.0636,
            0.128,
            2.6995,
            12.964,
            2.13115,
            28.685,
            95.189,
            38.103,
            71.128,
            0.0226,
            0.326,
            5.274,
            8.485,
            0.05185,
            0.4733,
            119.27,
            3.792,
            1.323,
            0.4979,
            3.208,
            0.1162,
            0.1591,
            10.732
           ]
          }
         ],
         "name": "2010"
        },
        {
         "data": [
          {
           "coloraxis": "coloraxis",
           "customdata": [
            [
             293.848
            ],
            [
             0.9305
            ],
            [
             253.958
            ],
            [
             0.5693
            ],
            [
             64.629
            ],
            [
             20.294
            ],
            [
             0.873
            ],
            [
             10.104
            ],
            [
             1.7536
            ],
            [
             0.04523
            ],
            [
             11.599706
            ],
            [
             0.2557
            ],
            [
             6.759
            ],
            [
             613.068
            ],
            [
             1.9513
            ],
            [
             42.025
            ],
            [
             0.385208
            ],
            [
             6.099
            ],
            [
             0.65444
            ],
            [
             8.455
            ],
            [
             87.561
            ],
            [
             0.14528
            ],
            [
             0.171
            ],
            [
             11.366
            ],
            [
             7.433
            ],
            [
             0.760817
            ],
            [
             16.234
            ],
            [
             0.2225
            ],
            [
             0.00939
            ],
            [
             262.538
            ],
            [
             150.376
            ],
            [
             65.813
            ],
            [
             2.588
            ],
            [
             0.323786
            ],
            [
             59.679
            ],
            [
             50.797
            ],
            [
             4349.571
            ],
            [
             1.607
            ],
            [
             302.582
            ],
            [
             0.337
            ],
            [
             10.42503
            ],
            [
             66.472
            ],
            [
             16.83
            ],
            [
             0.5299
            ],
            [
             0.951257
            ],
            [
             24.3642
            ],
            [
             4.1705
            ],
            [
             51.224
            ],
            [
             0.023
            ],
            [
             0.141151
            ],
            [
             0.1004
            ],
            [
             2.809
            ],
            [
             4.8119
            ],
            [
             1082.23
            ],
            [
             10.3449
            ],
            [
             0.281
            ],
            [
             0.06591
            ],
            [
             0.0231
            ],
            [
             0.886
            ],
            [
             3.492
            ],
            [
             0.4986
            ],
            [
             0.4371
            ],
            [
             0.0912
            ],
            [
             0.4066
            ],
            [
             182.389
            ],
            [
             6.336
            ],
            [
             0.0032696111
            ],
            [
             99.137
            ],
            [
             27.034
            ],
            [
             240.05205
            ],
            [
             531.759
            ],
            [
             3.824
            ],
            [
             54.24
            ],
            [
             367.423
            ],
            [
             44.465
            ],
            [
             0.0574
            ],
            [
             0.131
            ],
            [
             0.155
            ],
            [
             12.893
            ],
            [
             2.26683
            ],
            [
             27.474
            ],
            [
             113.963
            ],
            [
             3.725
            ],
            [
             1.325
            ],
            [
             5.093
            ],
            [
             302.785
            ],
            [
             0.0458
            ],
            [
             0.36548
            ],
            [
             4713.019
            ],
            [
             0.626
            ],
            [
             1.005
            ],
            [
             161.162
            ],
            [
             3.718
            ],
            [
             523.286
            ],
            [
             4.822
            ],
            [
             0.174
            ],
            [
             6.204
            ],
            [
             0.0723
            ],
            [
             25.999
            ],
            [
             57.457
            ],
            [
             0.3
            ],
            [
             65.713
            ],
            [
             11.498
            ],
            [
             0.4895
            ],
            [
             20.5441
            ],
            [
             16.365
            ],
            [
             15.158
            ],
            [
             0.218
            ],
            [
             6.095
            ],
            [
             9.1772
            ],
            [
             3.80247
            ],
            [
             0.019752
            ],
            [
             1.437646
            ],
            [
             19.226
            ],
            [
             1.97861
            ],
            [
             52.4
            ],
            [
             0.262
            ],
            [
             2.7386
            ],
            [
             14.647
            ],
            [
             0.7442
            ],
            [
             1.053
            ],
            [
             0.06779
            ],
            [
             4.2173
            ],
            [
             1.764403
            ],
            [
             86.586
            ],
            [
             6.083
            ],
            [
             127.655
            ],
            [
             0.079
            ],
            [
             5.943
            ],
            [
             2.187
            ],
            [
             122.059
            ],
            [
             7.56
            ],
            [
             1.38143
            ],
            [
             0.27462
            ],
            [
             629.901
            ],
            [
             124.89368
            ],
            [
             0.0241
            ],
            [
             105.219
            ],
            [
             16.70103
            ],
            [
             39.026
            ],
            [
             194.947
            ],
            [
             2.033
            ],
            [
             16.4965
            ],
            [
             1.293
            ],
            [
             0.3202
            ],
            [
             0.38836972
            ],
            [
             0.17564
            ],
            [
             561.448
            ],
            [
             0.204
            ],
            [
             0.0952
            ],
            [
             0.801206
            ],
            [
             0.8902
            ],
            [
             62.217
            ],
            [
             0.03317
            ],
            [
             30.73
            ],
            [
             229.393
            ],
            [
             46.00014
            ],
            [
             0.155
            ],
            [
             22.5074
            ],
            [
             52.463
            ],
            [
             9.831455
            ],
            [
             1.016
            ],
            [
             1054.765
            ],
            [
             11.373
            ],
            [
             0.32384
            ],
            [
             2.56
            ],
            [
             1.858
            ],
            [
             38.6
            ],
            [
             17.759
            ],
            [
             0.325
            ],
            [
             250.077
            ],
            [
             32.2
            ],
            [
             0.06
            ],
            [
             8.7975
            ],
            [
             8.772
            ],
            [
             0.114
            ],
            [
             90.241
            ],
            [
             73.506
            ],
            [
             2.7498
            ],
            [
             0.0846
            ],
            [
             35.229
            ],
            [
             1.049
            ],
            [
             0.3455
            ],
            [
             1.767
            ],
            [
             0.7259
            ],
            [
             0.1401
            ],
            [
             0.9104
            ],
            [
             151.595
            ],
            [
             0.00508
            ],
            [
             17.22
            ],
            [
             24.338
            ],
            [
             0.0336
            ],
            [
             7.22
            ],
            [
             0.0827
            ],
            [
             7.899
            ],
            [
             0.273843
            ],
            [
             0.0775
            ],
            [
             7.8574
            ],
            [
             95.09
            ],
            [
             0.334
            ],
            [
             129.892
            ],
            [
             252.016
            ],
            [
             15.28
            ],
            [
             59.436
            ],
            [
             0.387
            ],
            [
             21.874
            ],
            [
             973.006
            ],
            [
             4.929
            ],
            [
             17.211
            ],
            [
             36.019
            ],
            [
             0.05316
            ],
            [
             3.666
            ],
            [
             44.153
            ],
            [
             28.656
            ],
            [
             7.653
            ],
            [
             0.0176
            ],
            [
             0.5653134000000001
            ],
            [
             57.62499
            ],
            [
             38.8107
            ],
            [
             5.651
            ],
            [
             69.2096
            ],
            [
             16.059
            ],
            [
             163.548
            ],
            [
             0.214
            ],
            [
             7.0675
            ],
            [
             0.974
            ]
           ],
           "geo": "geo",
           "hovertemplate": "<b>%{hovertext}</b><br><br>year=2011<br>ISO=%{location}<br>Electric Energy Production TWh=%{z}<extra></extra>",
           "hovertext": [
            "Spain",
            "Aruba",
            "Australia",
            "State of Palestine",
            "Switzerland",
            "Azerbaijan",
            "French Guiana",
            "Georgia",
            "Bahamas",
            "St. Pierre-Miquelon",
            "Sri Lanka",
            "Gambia",
            "T.F.Yug.Rep. Macedonia",
            "Germany",
            "Suriname",
            "Syrian Arab Republic",
            "St. Lucia",
            "Côte d'Ivoire",
            "Swaziland",
            "Sudan (former)",
            "Czechia",
            "St. Vincent-Grenadines",
            "Gibraltar",
            "Ghana",
            "Armenia",
            "French Polynesia",
            "Tajikistan",
            "St. Kitts-Nevis",
            "St. Helena and Depend.",
            "South Africa",
            "Sweden",
            "Austria",
            "Uganda",
            "Niger",
            "Israel",
            "Bulgaria",
            "United States",
            "Namibia",
            "Italy",
            "Eritrea",
            "Myanmar",
            "Colombia",
            "Mozambique",
            "Burkina Faso",
            "United States Virgin Is.",
            "Morocco",
            "Jamaica",
            "Algeria",
            "Montserrat",
            "Burundi",
            "Dominica",
            "Montenegro",
            "Mongolia",
            "Japan",
            "Uruguay",
            "Equatorial Guinea",
            "Micronesia (Fed. States of)",
            "Nauru",
            "China, Macao SAR",
            "Nepal",
            "Isle of Man",
            "Botswana",
            "Andorra",
            "Northern Mariana Islands",
            "Indonesia",
            "Ethiopia",
            "Niue",
            "United Arab Emirates",
            "Nigeria",
            "Iran (Islamic Rep. of)",
            "Brazil",
            "Nicaragua",
            "Iraq",
            "United Kingdom",
            "New Zealand",
            "Comoros",
            "British Virgin Islands",
            "American Samoa",
            "Estonia",
            "New Caledonia",
            "Ireland",
            "Netherlands",
            "Brunei Darussalam",
            "Neth. Antilles (former)",
            "United Rep. of Tanzania",
            "Mexico",
            "Jersey",
            "Cabo Verde",
            "China",
            "Cayman Islands",
            "Afghanistan",
            "Egypt",
            "Luxembourg",
            "Korea, Republic of",
            "Lithuania",
            "Central African Rep.",
            "Yemen",
            "Liechtenstein",
            "Libya",
            "Kuwait",
            "Liberia",
            "Chile",
            "Zambia",
            "Lesotho",
            "Ecuador",
            "Lebanon",
            "Kyrgyzstan",
            "Chad",
            "Latvia",
            "Zimbabwe",
            "Lao People's Dem. Rep.",
            "Wallis and Futuna Is.",
            "Madagascar",
            "Korea, Dem.Ppl's.Rep.",
            "Malawi",
            "Uzbekistan",
            "Mayotte",
            "Mauritius",
            "Jordan",
            "Mauritania",
            "Cambodia",
            "Vanuatu",
            "Albania",
            "Martinique",
            "Kazakhstan",
            "El Salvador",
            "Norway",
            "Marshall Islands",
            "Cameroon",
            "Malta",
            "Venezuela (Bolivar. Rep.)",
            "Kenya",
            "Mali",
            "Maldives",
            "Canada",
            "Malaysia",
            "Kiribati",
            "Viet Nam",
            "Dominican Republic",
            "China, Hong Kong SAR",
            "Ukraine",
            "Gabon",
            "Tunisia",
            "Congo",
            "Togo",
            "Belize",
            "Sierra Leone",
            "France",
            "Grenada",
            "Anguilla",
            "Fiji",
            "Guinea",
            "Romania",
            "Guinea-Bissau",
            "Qatar",
            "Turkey",
            "Singapore",
            "Benin",
            "Puerto Rico",
            "Portugal",
            "Costa Rica",
            "Republic of Moldova",
            "Russian Federation",
            "Croatia",
            "Seychelles",
            "Senegal",
            "Guam",
            "Serbia",
            "Cuba",
            "Antigua and Barbuda",
            "Saudi Arabia",
            "Belarus",
            "Sao Tome and Principe",
            "Guatemala",
            "Trinidad and Tobago",
            "Samoa",
            "Belgium",
            "Finland",
            "Réunion",
            "Guernsey",
            "Denmark",
            "Barbados",
            "Rwanda",
            "Guadeloupe",
            "Bermuda",
            "Timor-Leste",
            "Guyana",
            "Thailand",
            "Tuvalu",
            "Turkmenistan",
            "Bahrain",
            "Cook Islands",
            "Bolivia (Plur. State of)",
            "Solomon Islands",
            "Dem. Rep. of the Congo",
            "Faeroe Islands",
            "Palau",
            "Panama",
            "Pakistan",
            "Somalia",
            "Argentina",
            "Other Asia",
            "Bosnia and Herzegovina",
            "Greece",
            "Djibouti",
            "Oman",
            "India",
            "Cyprus",
            "Iceland",
            "Hungary",
            "Tonga",
            "Papua New Guinea",
            "Bangladesh",
            "Slovakia",
            "Honduras",
            "Falkland Is. (Malvinas)",
            "Greenland",
            "Paraguay",
            "Peru",
            "Angola",
            "Philippines",
            "Slovenia",
            "Poland",
            "Turks and Caicos Islands",
            "Bhutan",
            "Haiti"
           ],
           "locations": [
            "ESP",
            "ABW",
            "AUS",
            "PSE",
            "CHE",
            "AZE",
            "GUF",
            "GEO",
            "BHS",
            "SPM",
            "LKA",
            "GMB",
            "MKD",
            "DEU",
            "SUR",
            "SYR",
            "LCA",
            "CIV",
            "SWZ",
            "SDN",
            "CZE",
            "VCT",
            "GIB",
            "GHA",
            "ARM",
            "PYF",
            "TJK",
            "KNA",
            "SHN",
            "ZAF",
            "SWE",
            "AUT",
            "UGA",
            "NER",
            "ISR",
            "BGR",
            "USA",
            "NAM",
            "ITA",
            "ERI",
            "MMR",
            "COL",
            "MOZ",
            "BFA",
            "VIR",
            "MAR",
            "JAM",
            "DZA",
            "MSR",
            "BDI",
            "DMA",
            "MNE",
            "MNG",
            "JPN",
            "URY",
            "GNQ",
            "FSM",
            "NRU",
            "MAC",
            "NPL",
            "IMN",
            "BWA",
            "AND",
            "MNP",
            "IDN",
            "ETH",
            "NIU",
            "ARE",
            "NGA",
            "IRN",
            "BRA",
            "NIC",
            "IRQ",
            "GBR",
            "NZL",
            "COM",
            "VGB",
            "ASM",
            "EST",
            "NCL",
            "IRL",
            "NLD",
            "BRN",
            "@@@",
            "TZA",
            "MEX",
            "JEY",
            "CPV",
            "CHN",
            "CYM",
            "AFG",
            "EGY",
            "LUX",
            "KOR",
            "LTU",
            "CAF",
            "YEM",
            "LIE",
            "LBY",
            "KWT",
            "LBR",
            "CHL",
            "ZMB",
            "LSO",
            "ECU",
            "LBN",
            "KGZ",
            "TCD",
            "LVA",
            "ZWE",
            "LAO",
            "WLF",
            "MDG",
            "PRK",
            "MWI",
            "UZB",
            "MYT",
            "MUS",
            "JOR",
            "MRT",
            "KHM",
            "VUT",
            "ALB",
            "MTQ",
            "KAZ",
            "SLV",
            "NOR",
            "MHL",
            "CMR",
            "MLT",
            "VEN",
            "KEN",
            "MLI",
            "MDV",
            "CAN",
            "MYS",
            "KIR",
            "VNM",
            "DOM",
            "HKG",
            "UKR",
            "GAB",
            "TUN",
            "COG",
            "TGO",
            "BLZ",
            "SLE",
            "FRA",
            "GRD",
            "AIA",
            "FJI",
            "GIN",
            "ROU",
            "GNB",
            "QAT",
            "TUR",
            "SGP",
            "BEN",
            "PRI",
            "PRT",
            "CRI",
            "MDA",
            "RUS",
            "HRV",
            "SYC",
            "SEN",
            "GUM",
            "SRB",
            "CUB",
            "ATG",
            "SAU",
            "BLR",
            "STP",
            "GTM",
            "TTO",
            "WSM",
            "BEL",
            "FIN",
            "REU",
            "GGY",
            "DNK",
            "BRB",
            "RWA",
            "GLP",
            "BMU",
            "TLS",
            "GUY",
            "THA",
            "TUV",
            "TKM",
            "BHR",
            "COK",
            "BOL",
            "SLB",
            "COD",
            "FRO",
            "PLW",
            "PAN",
            "PAK",
            "SOM",
            "ARG",
            "@@@",
            "BIH",
            "GRC",
            "DJI",
            "OMN",
            "IND",
            "CYP",
            "ISL",
            "HUN",
            "TON",
            "PNG",
            "BGD",
            "SVK",
            "HND",
            "MDV",
            "GRL",
            "PRY",
            "PER",
            "AGO",
            "PHL",
            "SVN",
            "POL",
            "TCA",
            "BTN",
            "HTI"
           ],
           "name": "",
           "type": "choropleth",
           "z": [
            293.848,
            0.9305,
            253.958,
            0.5693,
            64.629,
            20.294,
            0.873,
            10.104,
            1.7536,
            0.04523,
            11.599706,
            0.2557,
            6.759,
            613.068,
            1.9513,
            42.025,
            0.385208,
            6.099,
            0.65444,
            8.455,
            87.561,
            0.14528,
            0.171,
            11.366,
            7.433,
            0.760817,
            16.234,
            0.2225,
            0.00939,
            262.538,
            150.376,
            65.813,
            2.588,
            0.323786,
            59.679,
            50.797,
            4349.571,
            1.607,
            302.582,
            0.337,
            10.42503,
            66.472,
            16.83,
            0.5299,
            0.951257,
            24.3642,
            4.1705,
            51.224,
            0.023,
            0.141151,
            0.1004,
            2.809,
            4.8119,
            1082.23,
            10.3449,
            0.281,
            0.06591,
            0.0231,
            0.886,
            3.492,
            0.4986,
            0.4371,
            0.0912,
            0.4066,
            182.389,
            6.336,
            0.0032696111,
            99.137,
            27.034,
            240.05205,
            531.759,
            3.824,
            54.24,
            367.423,
            44.465,
            0.0574,
            0.131,
            0.155,
            12.893,
            2.26683,
            27.474,
            113.963,
            3.725,
            1.325,
            5.093,
            302.785,
            0.0458,
            0.36548,
            4713.019,
            0.626,
            1.005,
            161.162,
            3.718,
            523.286,
            4.822,
            0.174,
            6.204,
            0.0723,
            25.999,
            57.457,
            0.3,
            65.713,
            11.498,
            0.4895,
            20.5441,
            16.365,
            15.158,
            0.218,
            6.095,
            9.1772,
            3.80247,
            0.019752,
            1.437646,
            19.226,
            1.97861,
            52.4,
            0.262,
            2.7386,
            14.647,
            0.7442,
            1.053,
            0.06779,
            4.2173,
            1.764403,
            86.586,
            6.083,
            127.655,
            0.079,
            5.943,
            2.187,
            122.059,
            7.56,
            1.38143,
            0.27462,
            629.901,
            124.89368,
            0.0241,
            105.219,
            16.70103,
            39.026,
            194.947,
            2.033,
            16.4965,
            1.293,
            0.3202,
            0.38836972,
            0.17564,
            561.448,
            0.204,
            0.0952,
            0.801206,
            0.8902,
            62.217,
            0.03317,
            30.73,
            229.393,
            46.00014,
            0.155,
            22.5074,
            52.463,
            9.831455,
            1.016,
            1054.765,
            11.373,
            0.32384,
            2.56,
            1.858,
            38.6,
            17.759,
            0.325,
            250.077,
            32.2,
            0.06,
            8.7975,
            8.772,
            0.114,
            90.241,
            73.506,
            2.7498,
            0.0846,
            35.229,
            1.049,
            0.3455,
            1.767,
            0.7259,
            0.1401,
            0.9104,
            151.595,
            0.00508,
            17.22,
            24.338,
            0.0336,
            7.22,
            0.0827,
            7.899,
            0.273843,
            0.0775,
            7.8574,
            95.09,
            0.334,
            129.892,
            252.016,
            15.28,
            59.436,
            0.387,
            21.874,
            973.006,
            4.929,
            17.211,
            36.019,
            0.05316,
            3.666,
            44.153,
            28.656,
            7.653,
            0.0176,
            0.5653134000000001,
            57.62499,
            38.8107,
            5.651,
            69.2096,
            16.059,
            163.548,
            0.214,
            7.0675,
            0.974
           ]
          }
         ],
         "name": "2011"
        },
        {
         "data": [
          {
           "coloraxis": "coloraxis",
           "customdata": [
            [
             0.874
            ],
            [
             0.126
            ],
            [
             9.1486
            ],
            [
             166.562
            ],
            [
             118.94
            ],
            [
             17.74564
            ],
            [
             1.022
            ],
            [
             70.416
            ],
            [
             7.595
            ],
            [
             166.471
            ],
            [
             22.848
            ],
            [
             0.018983
            ],
            [
             12.368
            ],
            [
             164.628
            ],
            [
             0.3994
            ],
            [
             565.704
            ],
            [
             7.073
            ],
            [
             0.393
            ],
            [
             121.653
            ],
            [
             4290.66
            ],
            [
             0.01765
            ],
            [
             5.589
            ],
            [
             0.227
            ],
            [
             6.204
            ],
            [
             0.1566
            ],
            [
             11.967
            ],
            [
             363.582
            ],
            [
             0.0051
            ],
            [
             16.998
            ],
            [
             0.291556
            ],
            [
             106.222
            ],
            [
             2.6397
            ],
            [
             7.608
            ],
            [
             31.188
            ],
            [
             0.0879
            ],
            [
             198.878
            ],
            [
             17.75
            ],
            [
             0.359
            ],
            [
             8.036
            ],
            [
             0.872857
            ],
            [
             0.327
            ],
            [
             6.237
            ],
            [
             4.725
            ],
            [
             0.06735
            ],
            [
             9.132
            ],
            [
             30.701
            ],
            [
             0.767728
            ],
            [
             52.5
            ],
            [
             0.05239
            ],
            [
             6.262
            ],
            [
             69.893
            ],
            [
             0.439
            ],
            [
             0.10155
            ],
            [
             10.6008
            ],
            [
             0.803353
            ],
            [
             0.0895
            ],
            [
             239.496
            ],
            [
             57.397
            ],
            [
             18.0594
            ],
            [
             135.207
            ],
            [
             0.393
            ],
            [
             5.1816
            ],
            [
             0.0033294443999999
            ],
            [
             28.664
            ],
            [
             48.562
            ],
            [
             0.0602
            ],
            [
             307.268
            ],
            [
             0.162
            ],
            [
             0.561
            ],
            [
             0.4017
            ],
            [
             0.06728
            ],
            [
             46.97125
            ],
            [
             0.1997
            ],
            [
             28.706
            ],
            [
             254.27606
            ],
            [
             552.498
            ],
            [
             34.787
            ],
            [
             0.141695
            ],
            [
             0.917
            ],
            [
             1064.065
            ],
            [
             0.17867
            ],
            [
             0.37508
            ],
            [
             34.635
            ],
            [
             0.5739306999999999
            ],
            [
             22.5556
            ],
            [
             38.752
            ],
            [
             147.716
            ],
            [
             4.717
            ],
            [
             10.174336
            ],
            [
             92.817
            ],
            [
             0.34
            ],
            [
             27.6
            ],
            [
             1.780487
            ],
            [
             0.4107
            ],
            [
             196.1809
            ],
            [
             1.434
            ],
            [
             0.0833
            ],
            [
             24.77
            ],
            [
             0.8243
            ],
            [
             0.2508
            ],
            [
             16.596
            ],
            [
             15.736
            ],
            [
             2.7975
            ],
            [
             0.9424
            ],
            [
             0.2709
            ],
            [
             46.614
            ],
            [
             18.432
            ],
            [
             0.03425
            ],
            [
             1.538
            ],
            [
             47.329
            ],
            [
             0.067
            ],
            [
             9.3354
            ],
            [
             63.003
            ],
            [
             0.0237
            ],
            [
             44.26
            ],
            [
             0.1172
            ],
            [
             82.923
            ],
            [
             3.543
            ],
            [
             1.0712
            ],
            [
             1070.734
            ],
            [
             3.93
            ],
            [
             2.8117
            ],
            [
             0.0681
            ],
            [
             0.13
            ],
            [
             0.2959
            ],
            [
             103.298
            ],
            [
             2.2879
            ],
            [
             30.799
            ],
            [
             2.844
            ],
            [
             0.42375195
            ],
            [
             271.68
            ],
            [
             0.023
            ],
            [
             0.932
            ],
            [
             0.33646
            ],
            [
             1.817
            ],
            [
             0.391743
            ],
            [
             4.1562
            ],
            [
             1.12852
            ],
            [
             26.4953
            ],
            [
             59.045
            ],
            [
             4.031
            ],
            [
             0.6256
            ],
            [
             15.166
            ],
            [
             46.018
            ],
            [
             36.799
            ],
            [
             299.277
            ],
            [
             2.917
            ],
            [
             10.9649
            ],
            [
             0.0584
            ],
            [
             68.344
            ],
            [
             1.799
            ],
            [
             0.0777
            ],
            [
             60.959
            ],
            [
             0.692
            ],
            [
             0.4611
            ],
            [
             0.0775
            ],
            [
             9.698
            ],
            [
             0.177
            ],
            [
             34.275
            ],
            [
             96.126
            ],
            [
             0.14528
            ],
            [
             0.0859
            ],
            [
             0.3
            ],
            [
             17.549
            ],
            [
             534.618
            ],
            [
             5.043
            ],
            [
             6.8267
            ],
            [
             0.04347
            ],
            [
             257.919
            ],
            [
             3.818
            ],
            [
             40.0439
            ],
            [
             0.607
            ],
            [
             2.151
            ],
            [
             62.655
            ],
            [
             9.51
            ],
            [
             60.23461
            ],
            [
             0.9145
            ],
            [
             3.80247
            ],
            [
             3.764
            ],
            [
             0.6218
            ],
            [
             8.6056
            ],
            [
             6.167
            ],
            [
             7.016
            ],
            [
             0.0329
            ],
            [
             0.205
            ],
            [
             15.168
            ],
            [
             14.826
            ],
            [
             7.661
            ],
            [
             1.9724
            ],
            [
             0.2663
            ],
            [
             0.1186
            ],
            [
             0.4854
            ],
            [
             7.74
            ],
            [
             251.165
            ],
            [
             69.751
            ],
            [
             0.384783
            ],
            [
             250.336
            ],
            [
             72.617
            ],
            [
             10.755
            ],
            [
             0.299
            ],
            [
             1.7495
            ],
            [
             1.1
            ],
            [
             1.3625
            ],
            [
             25.017
            ],
            [
             0.0241
            ],
            [
             1.7
            ],
            [
             11.897006
            ],
            [
             629.812
            ],
            [
             0.176
            ],
            [
             162.139
            ],
            [
             1035.264
            ],
            [
             297.559
            ],
            [
             632.921
            ],
            [
             134.42075
            ],
            [
             4987.553
            ],
            [
             7.8516
            ],
            [
             12.204
            ],
            [
             0.00966
            ],
            [
             2.02651
            ],
            [
             19.236
            ],
            [
             72.9559
            ],
            [
             22.988
            ],
            [
             2.307
            ],
            [
             0.2178
            ],
            [
             14.082
            ],
            [
             87.573
            ],
            [
             1.52016
            ],
            [
             6.263
            ],
            [
             0.445
            ]
           ],
           "geo": "geo",
           "hovertemplate": "<b>%{hovertext}</b><br><br>year=2012<br>ISO=%{location}<br>Electric Energy Production TWh=%{z}<extra></extra>",
           "hovertext": [
            "French Guiana",
            "Timor-Leste",
            "Zimbabwe",
            "Sweden",
            "Viet Nam",
            "Dominican Republic",
            "Afghanistan",
            "Finland",
            "Dem. Rep. of the Congo",
            "Thailand",
            "Ecuador",
            "Wallis and Futuna Is.",
            "Zambia",
            "Egypt",
            "Togo",
            "France",
            "Yemen",
            "Djibouti",
            "Venezuela (Bolivar. Rep.)",
            "United States",
            "Falkland Is. (Malvinas)",
            "United Rep. of Tanzania",
            "Turks and Caicos Islands",
            "Angola",
            "American Samoa",
            "Estonia",
            "United Kingdom",
            "Tuvalu",
            "Tajikistan",
            "Faeroe Islands",
            "United Arab Emirates",
            "Uganda",
            "Ethiopia",
            "Syrian Arab Republic",
            "Andorra",
            "Ukraine",
            "Turkmenistan",
            "Eritrea",
            "Armenia",
            "United States Virgin Is.",
            "Antigua and Barbuda",
            "El Salvador",
            "Albania",
            "Vanuatu",
            "Trinidad and Tobago",
            "Denmark",
            "French Polynesia",
            "Uzbekistan",
            "Tonga",
            "T.F.Yug.Rep. Macedonia",
            "Switzerland",
            "Equatorial Guinea",
            "Dominica",
            "Uruguay",
            "Fiji",
            "Anguilla",
            "Turkey",
            "Algeria",
            "Tunisia",
            "Argentina",
            "Rwanda",
            "Mongolia",
            "Niue",
            "Slovakia",
            "Bangladesh",
            "Jersey",
            "Mexico",
            "Benin",
            "China, Macao SAR",
            "Sint Maarten (Dutch part)",
            "Micronesia (Fed. States of)",
            "Singapore",
            "Grenada",
            "Nigeria",
            "Iran (Islamic Rep. of)",
            "Brazil",
            "Qatar",
            "Burundi",
            "Curaçao",
            "Japan",
            "Sierra Leone",
            "Cabo Verde",
            "Hungary",
            "Greenland",
            "Puerto Rico",
            "China, Hong Kong SAR",
            "Norway",
            "Cyprus",
            "Costa Rica",
            "Kazakhstan",
            "Somalia",
            "Ireland",
            "Martinique",
            "Northern Mariana Islands",
            "Indonesia",
            "Cambodia",
            "Solomon Islands",
            "Bahrain",
            "Mauritania",
            "Botswana",
            "Jordan",
            "Slovenia",
            "Mauritius",
            "Guyana",
            "Mayotte",
            "Portugal",
            "Cuba",
            "Guinea-Bissau",
            "Namibia",
            "Bulgaria",
            "Sao Tome and Principe",
            "Guatemala",
            "Israel",
            "Nauru",
            "New Zealand",
            "Samoa",
            "Belgium",
            "Nepal",
            "Guinea",
            "Russian Federation",
            "Brunei Darussalam",
            "Réunion",
            "Guernsey",
            "British Virgin Islands",
            "Isle of Man",
            "Netherlands",
            "New Caledonia",
            "Belarus",
            "Montenegro",
            "Belize",
            "Saudi Arabia",
            "Montserrat",
            "Republic of Moldova",
            "Seychelles",
            "Guadeloupe",
            "Niger",
            "Jamaica",
            "Barbados",
            "Morocco",
            "Romania",
            "Nicaragua",
            "Burkina Faso",
            "Mozambique",
            "Iraq",
            "Serbia",
            "Italy",
            "Senegal",
            "Myanmar",
            "Comoros",
            "Colombia",
            "Guam",
            "Marshall Islands",
            "Greece",
            "Bermuda",
            "State of Palestine",
            "Palau",
            "Georgia",
            "Central African Rep.",
            "Libya",
            "Pakistan",
            "St. Vincent-Grenadines",
            "Liechtenstein",
            "Liberia",
            "Iceland",
            "Korea, Republic of",
            "Lithuania",
            "Bhutan",
            "St. Pierre-Miquelon",
            "South Africa",
            "Luxembourg",
            "Peru",
            "Cayman Islands",
            "Gabon",
            "Kuwait",
            "Sudan",
            "Paraguay",
            "Aruba",
            "Lao People's Dem. Rep.",
            "Papua New Guinea",
            "Swaziland",
            "Panama",
            "Latvia",
            "Côte d'Ivoire",
            "Cook Islands",
            "Chad",
            "Kyrgyzstan",
            "Lebanon",
            "Bolivia (Plur. State of)",
            "Suriname",
            "Gambia",
            "Bonaire, St Eustatius, Saba",
            "Lesotho",
            "Honduras",
            "Australia",
            "Chile",
            "St. Lucia",
            "Other Asia",
            "Austria",
            "Croatia",
            "Maldives",
            "Bahamas",
            "Haiti",
            "Mali",
            "Oman",
            "Kiribati",
            "Congo",
            "Sri Lanka",
            "Germany",
            "Gibraltar",
            "Poland",
            "India",
            "Spain",
            "Canada",
            "Malaysia",
            "China",
            "Kenya",
            "Ghana",
            "St. Helena and Depend.",
            "Malawi",
            "Korea, Dem.Ppl's.Rep.",
            "Philippines",
            "Azerbaijan",
            "Malta",
            "St. Kitts-Nevis",
            "Bosnia and Herzegovina",
            "Czechia",
            "Madagascar",
            "Cameroon",
            "South Sudan"
           ],
           "locations": [
            "GUF",
            "TLS",
            "ZWE",
            "SWE",
            "VNM",
            "DOM",
            "AFG",
            "FIN",
            "COD",
            "THA",
            "ECU",
            "WLF",
            "ZMB",
            "EGY",
            "TGO",
            "FRA",
            "YEM",
            "DJI",
            "VEN",
            "USA",
            "MDV",
            "TZA",
            "TCA",
            "AGO",
            "ASM",
            "EST",
            "GBR",
            "TUV",
            "TJK",
            "FRO",
            "ARE",
            "UGA",
            "ETH",
            "SYR",
            "AND",
            "UKR",
            "TKM",
            "ERI",
            "ARM",
            "VIR",
            "ATG",
            "SLV",
            "ALB",
            "VUT",
            "TTO",
            "DNK",
            "PYF",
            "UZB",
            "TON",
            "MKD",
            "CHE",
            "GNQ",
            "DMA",
            "URY",
            "FJI",
            "AIA",
            "TUR",
            "DZA",
            "TUN",
            "ARG",
            "RWA",
            "MNG",
            "NIU",
            "SVK",
            "BGD",
            "JEY",
            "MEX",
            "BEN",
            "MAC",
            "SXM",
            "FSM",
            "SGP",
            "GRD",
            "NGA",
            "IRN",
            "BRA",
            "QAT",
            "BDI",
            "CUW",
            "JPN",
            "SLE",
            "CPV",
            "HUN",
            "GRL",
            "PRI",
            "HKG",
            "NOR",
            "CYP",
            "CRI",
            "KAZ",
            "SOM",
            "IRL",
            "MTQ",
            "MNP",
            "IDN",
            "KHM",
            "SLB",
            "BHR",
            "MRT",
            "BWA",
            "JOR",
            "SVN",
            "MUS",
            "GUY",
            "MYT",
            "PRT",
            "CUB",
            "GNB",
            "NAM",
            "BGR",
            "STP",
            "GTM",
            "ISR",
            "NRU",
            "NZL",
            "WSM",
            "BEL",
            "NPL",
            "GIN",
            "RUS",
            "BRN",
            "REU",
            "GGY",
            "VGB",
            "IMN",
            "NLD",
            "NCL",
            "BLR",
            "MNE",
            "BLZ",
            "SAU",
            "MSR",
            "MDA",
            "SYC",
            "GLP",
            "NER",
            "JAM",
            "BRB",
            "MAR",
            "ROU",
            "NIC",
            "BFA",
            "MOZ",
            "IRQ",
            "SRB",
            "ITA",
            "SEN",
            "MMR",
            "COM",
            "COL",
            "GUM",
            "MHL",
            "GRC",
            "BMU",
            "PSE",
            "PLW",
            "GEO",
            "CAF",
            "LBY",
            "PAK",
            "VCT",
            "LIE",
            "LBR",
            "ISL",
            "KOR",
            "LTU",
            "BTN",
            "SPM",
            "ZAF",
            "LUX",
            "PER",
            "CYM",
            "GAB",
            "KWT",
            "SDN",
            "PRY",
            "ABW",
            "LAO",
            "PNG",
            "SWZ",
            "PAN",
            "LVA",
            "CIV",
            "COK",
            "TCD",
            "KGZ",
            "LBN",
            "BOL",
            "SUR",
            "GMB",
            "BIH",
            "LSO",
            "HND",
            "AUS",
            "CHL",
            "LCA",
            "@@@",
            "AUT",
            "HRV",
            "MDV",
            "BHS",
            "HTI",
            "MLI",
            "OMN",
            "KIR",
            "COG",
            "LKA",
            "DEU",
            "GIB",
            "POL",
            "IND",
            "ESP",
            "CAN",
            "MYS",
            "CHN",
            "KEN",
            "GHA",
            "SHN",
            "MWI",
            "PRK",
            "PHL",
            "AZE",
            "MLT",
            "KNA",
            "BIH",
            "CZE",
            "MDG",
            "CMR",
            "SSD"
           ],
           "name": "",
           "type": "choropleth",
           "z": [
            0.874,
            0.126,
            9.1486,
            166.562,
            118.94,
            17.74564,
            1.022,
            70.416,
            7.595,
            166.471,
            22.848,
            0.018983,
            12.368,
            164.628,
            0.3994,
            565.704,
            7.073,
            0.393,
            121.653,
            4290.66,
            0.01765,
            5.589,
            0.227,
            6.204,
            0.1566,
            11.967,
            363.582,
            0.0051,
            16.998,
            0.291556,
            106.222,
            2.6397,
            7.608,
            31.188,
            0.0879,
            198.878,
            17.75,
            0.359,
            8.036,
            0.872857,
            0.327,
            6.237,
            4.725,
            0.06735,
            9.132,
            30.701,
            0.767728,
            52.5,
            0.05239,
            6.262,
            69.893,
            0.439,
            0.10155,
            10.6008,
            0.803353,
            0.0895,
            239.496,
            57.397,
            18.0594,
            135.207,
            0.393,
            5.1816,
            0.0033294443999999,
            28.664,
            48.562,
            0.0602,
            307.268,
            0.162,
            0.561,
            0.4017,
            0.06728,
            46.97125,
            0.1997,
            28.706,
            254.27606,
            552.498,
            34.787,
            0.141695,
            0.917,
            1064.065,
            0.17867,
            0.37508,
            34.635,
            0.5739306999999999,
            22.5556,
            38.752,
            147.716,
            4.717,
            10.174336,
            92.817,
            0.34,
            27.6,
            1.780487,
            0.4107,
            196.1809,
            1.434,
            0.0833,
            24.77,
            0.8243,
            0.2508,
            16.596,
            15.736,
            2.7975,
            0.9424,
            0.2709,
            46.614,
            18.432,
            0.03425,
            1.538,
            47.329,
            0.067,
            9.3354,
            63.003,
            0.0237,
            44.26,
            0.1172,
            82.923,
            3.543,
            1.0712,
            1070.734,
            3.93,
            2.8117,
            0.0681,
            0.13,
            0.2959,
            103.298,
            2.2879,
            30.799,
            2.844,
            0.42375195,
            271.68,
            0.023,
            0.932,
            0.33646,
            1.817,
            0.391743,
            4.1562,
            1.12852,
            26.4953,
            59.045,
            4.031,
            0.6256,
            15.166,
            46.018,
            36.799,
            299.277,
            2.917,
            10.9649,
            0.0584,
            68.344,
            1.799,
            0.0777,
            60.959,
            0.692,
            0.4611,
            0.0775,
            9.698,
            0.177,
            34.275,
            96.126,
            0.14528,
            0.0859,
            0.3,
            17.549,
            534.618,
            5.043,
            6.8267,
            0.04347,
            257.919,
            3.818,
            40.0439,
            0.607,
            2.151,
            62.655,
            9.51,
            60.23461,
            0.9145,
            3.80247,
            3.764,
            0.6218,
            8.6056,
            6.167,
            7.016,
            0.0329,
            0.205,
            15.168,
            14.826,
            7.661,
            1.9724,
            0.2663,
            0.1186,
            0.4854,
            7.74,
            251.165,
            69.751,
            0.384783,
            250.336,
            72.617,
            10.755,
            0.299,
            1.7495,
            1.1,
            1.3625,
            25.017,
            0.0241,
            1.7,
            11.897006,
            629.812,
            0.176,
            162.139,
            1035.264,
            297.559,
            632.921,
            134.42075,
            4987.553,
            7.8516,
            12.204,
            0.00966,
            2.02651,
            19.236,
            72.9559,
            22.988,
            2.307,
            0.2178,
            14.082,
            87.573,
            1.52016,
            6.263,
            0.445
           ]
          }
         ],
         "name": "2012"
        },
        {
         "data": [
          {
           "coloraxis": "coloraxis",
           "customdata": [
            [
             8.065
            ],
            [
             0.156441
            ],
            [
             2.50576
            ],
            [
             0.13
            ],
            [
             1193.48
            ],
            [
             194.377
            ],
            [
             0.4148
            ],
            [
             0.0051
            ],
            [
             1.709
            ],
            [
             30.291
            ],
            [
             133.975
            ],
            [
             0.402
            ],
            [
             109.979
            ],
            [
             13.275
            ],
            [
             2.8609
            ],
            [
             570.838
            ],
            [
             252.351
            ],
            [
             28.883
            ],
            [
             0.437807
            ],
            [
             17.451
            ],
            [
             0.1147
            ],
            [
             0.0033516667
            ],
            [
             104.076
            ],
            [
             43.265
            ],
            [
             262.43406
            ],
            [
             0.7612
            ],
            [
             8.719
            ],
            [
             26.24
            ],
            [
             0.0775
            ],
            [
             58.422
            ],
            [
             0.1219
            ],
            [
             0.292534
            ],
            [
             359.168
            ],
            [
             216.1859
            ],
            [
             4.163
            ],
            [
             0.0561
            ],
            [
             2.264
            ],
            [
             101.736
            ],
            [
             168.05
            ],
            [
             0.018837
            ],
            [
             18.332
            ],
            [
             1.59439
            ],
            [
             2.09751
            ],
            [
             5431.6375
            ],
            [
             128.549
            ],
            [
             0.0241
            ],
            [
             138.331
            ],
            [
             660.795
            ],
            [
             0.304867
            ],
            [
             8.4483
            ],
            [
             1.50994
            ],
            [
             123.16
            ],
            [
             6.849
            ],
            [
             2.251
            ],
            [
             0.0836
            ],
            [
             1.0223
            ],
            [
             0.61505
            ],
            [
             2.888
            ],
            [
             4.762
            ],
            [
             4.471
            ],
            [
             9.4988
            ],
            [
             6.209
            ],
            [
             0.225
            ],
            [
             14.011
            ],
            [
             17.487
            ],
            [
             23.2604
            ],
            [
             13.3
            ],
            [
             39.063
            ],
            [
             0.5153
            ],
            [
             60.982
            ],
            [
             18.79947
            ],
            [
             0.3
            ],
            [
             0.181
            ],
            [
             37.913
            ],
            [
             8.501
            ],
            [
             0.0853
            ],
            [
             541.996
            ],
            [
             73.065
            ],
            [
             6.272
            ],
            [
             103.086
            ],
            [
             1.764463
            ],
            [
             59.89
            ],
            [
             0.820557
            ],
            [
             27.929
            ],
            [
             0.7307
            ],
            [
             15.645
            ],
            [
             289.807
            ],
            [
             12.24712
            ],
            [
             0.363
            ],
            [
             4.2562
            ],
            [
             70.858
            ],
            [
             1.712
            ],
            [
             43.784
            ],
            [
             61.322
            ],
            [
             0.0243
            ],
            [
             3.13
            ],
            [
             4.402
            ],
            [
             5.941
            ],
            [
             0.504
            ],
            [
             4306.371
            ],
            [
             26.142
            ],
            [
             0.023
            ],
            [
             6.215
            ],
            [
             0.0677
            ],
            [
             1.778
            ],
            [
             17.263
            ],
            [
             0.79
            ],
            [
             2.8822
            ],
            [
             6.956
            ],
            [
             0.2851
            ],
            [
             54.2
            ],
            [
             3.945
            ],
            [
             0.40423
            ],
            [
             297.326
            ],
            [
             0.068
            ],
            [
             0.439
            ],
            [
             0.1007
            ],
            [
             0.413
            ],
            [
             11.6575
            ],
            [
             0.159121
            ],
            [
             1065.623
            ],
            [
             0.3278
            ],
            [
             8.9622
            ],
            [
             18.116
            ],
            [
             4.169
            ],
            [
             31.507
            ],
            [
             0.883
            ],
            [
             285.632
            ],
            [
             0.067
            ],
            [
             10.0243
            ],
            [
             6.094072
            ],
            [
             0.1206
            ],
            [
             12.044315
            ],
            [
             9.505
            ],
            [
             2.8134
            ],
            [
             0.2888
            ],
            [
             83.526
            ],
            [
             23.354
            ],
            [
             13.047
            ],
            [
             0.01067
            ],
            [
             14.052
            ],
            [
             572.308
            ],
            [
             0.905
            ],
            [
             0.0465
            ],
            [
             68.277
            ],
            [
             58.887
            ],
            [
             0.382976
            ],
            [
             25.933
            ],
            [
             1.7364
            ],
            [
             0.37100665
            ],
            [
             0.8575
            ],
            [
             638.729
            ],
            [
             18.38162
            ],
            [
             0.9952
            ],
            [
             1059.092
            ],
            [
             0.22
            ],
            [
             0.0886
            ],
            [
             87.065
            ],
            [
             284.017
            ],
            [
             1.885
            ],
            [
             0.5681055
            ],
            [
             28.832
            ],
            [
             175.531
            ],
            [
             0.295
            ],
            [
             16.103
            ],
            [
             0.4097
            ],
            [
             47.964445
            ],
            [
             0.1967
            ],
            [
             25.909
            ],
            [
             53.043
            ],
            [
             0.0891
            ],
            [
             8.24
            ],
            [
             0.904
            ],
            [
             0.16439
            ],
            [
             57.152
            ],
            [
             19.1396
            ],
            [
             0.35
            ],
            [
             0.053313
            ],
            [
             3.403
            ],
            [
             39.877
            ],
            [
             0.472
            ],
            [
             1.818
            ],
            [
             256.073
            ],
            [
             0.189
            ],
            [
             1.01584
            ],
            [
             17.115
            ],
            [
             71.263
            ],
            [
             0.33
            ],
            [
             140.863
            ],
            [
             0.35422
            ],
            [
             0.3598
            ],
            [
             4.29
            ],
            [
             34.668
            ],
            [
             0.4131
            ],
            [
             60.38103
            ],
            [
             10.607
            ],
            [
             21.743
            ],
            [
             0.01765
            ],
            [
             249.72
            ],
            [
             8.216
            ],
            [
             0.96218
            ],
            [
             2.1843
            ],
            [
             7.65
            ],
            [
             34.76
            ],
            [
             10.235
            ],
            [
             70.312
            ],
            [
             0.5361
            ],
            [
             153.166
            ],
            [
             18.87
            ],
            [
             0.9281
            ],
            [
             0.227
            ],
            [
             7.64014
            ],
            [
             7.71
            ],
            [
             51.672
            ],
            [
             8.074
            ],
            [
             0.0325
            ],
            [
             1.055
            ],
            [
             43.3301
            ],
            [
             240.154
            ],
            [
             75.3
            ],
            [
             0.5898
            ],
            [
             10.059
            ],
            [
             0.173
            ],
            [
             0.03536
            ],
            [
             0.139
            ],
            [
             0.673
            ],
            [
             164.557
            ],
            [
             0.2607
            ],
            [
             0.74415
            ]
           ],
           "geo": "geo",
           "hovertemplate": "<b>%{hovertext}</b><br><br>year=2013<br>ISO=%{location}<br>Electric Energy Production TWh=%{z}<extra></extra>",
           "hovertext": [
            "Bolivia (Plur. State of)",
            "American Samoa",
            "New Caledonia",
            "British Virgin Islands",
            "India",
            "Ukraine",
            "Northern Mariana Islands",
            "Tuvalu",
            "Congo",
            "Hungary",
            "Norway",
            "Djibouti",
            "United Arab Emirates",
            "Estonia",
            "Uganda",
            "Brazil",
            "Other Asia",
            "Nigeria",
            "Niger",
            "Bosnia and Herzegovina",
            "Andorra",
            "Niue",
            "Pakistan",
            "New Zealand",
            "Iran (Islamic Rep. of)",
            "Botswana",
            "Ethiopia",
            "Oman",
            "Palau",
            "Iraq",
            "Bonaire, St Eustatius, Saba",
            "Faeroe Islands",
            "United Kingdom",
            "Indonesia",
            "Nicaragua",
            "Comoros",
            "Gabon",
            "Netherlands",
            "Egypt",
            "Wallis and Futuna Is.",
            "Korea, Dem.Ppl's.Rep.",
            "Madagascar",
            "Malawi",
            "China",
            "Viet Nam",
            "Kiribati",
            "Malaysia",
            "Canada",
            "Maldives",
            "Kenya",
            "Mali",
            "Venezuela (Bolivar. Rep.)",
            "Cameroon",
            "Malta",
            "Marshall Islands",
            "Afghanistan",
            "Cayman Islands",
            "Luxembourg",
            "Lithuania",
            "Lao People's Dem. Rep.",
            "Zimbabwe",
            "Latvia",
            "Chad",
            "Kyrgyzstan",
            "Lebanon",
            "Ecuador",
            "Zambia",
            "China, Hong Kong SAR",
            "Lesotho",
            "Kuwait",
            "Dominican Republic",
            "Liberia",
            "Central African Rep.",
            "Libya",
            "Yemen",
            "Liechtenstein",
            "Korea, Republic of",
            "Chile",
            "El Salvador",
            "Kazakhstan",
            "Martinique",
            "Algeria",
            "United States Virgin Is.",
            "Morocco",
            "Burkina Faso",
            "Mozambique",
            "Italy",
            "Myanmar",
            "Eritrea",
            "Jamaica",
            "Colombia",
            "Namibia",
            "Bulgaria",
            "Israel",
            "Nauru",
            "Nepal",
            "Brunei Darussalam",
            "United Rep. of Tanzania",
            "Isle of Man",
            "United States",
            "Ireland",
            "Montserrat",
            "Mongolia",
            "Vanuatu",
            "Cambodia",
            "Jordan",
            "Mauritania",
            "Mauritius",
            "Albania",
            "Mayotte",
            "Uzbekistan",
            "Montenegro",
            "Cabo Verde",
            "Mexico",
            "Micronesia (Fed. States of)",
            "Equatorial Guinea",
            "Dominica",
            "China, Macao SAR",
            "Uruguay",
            "Burundi",
            "Japan",
            "Jersey",
            "Panama",
            "Iceland",
            "Papua New Guinea",
            "Belarus",
            "French Guiana",
            "Spain",
            "Sao Tome and Principe",
            "Guatemala",
            "T.F.Yug.Rep. Macedonia",
            "Samoa",
            "Sri Lanka",
            "Trinidad and Tobago",
            "Réunion",
            "Guernsey",
            "Belgium",
            "Azerbaijan",
            "Ghana",
            "St. Helena and Depend.",
            "Croatia",
            "France",
            "Republic of Moldova",
            "St. Pierre-Miquelon",
            "Austria",
            "Romania",
            "St. Lucia",
            "Syrian Arab Republic",
            "Guam",
            "Belize",
            "Fiji",
            "Germany",
            "Tunisia",
            "Guinea",
            "Russian Federation",
            "St. Kitts-Nevis",
            "Anguilla",
            "Czechia",
            "Saudi Arabia",
            "Bahamas",
            "Greenland",
            "Slovakia",
            "Thailand",
            "Timor-Leste",
            "Slovenia",
            "Sint Maarten (Dutch part)",
            "Singapore",
            "Grenada",
            "Bahrain",
            "Bangladesh",
            "Solomon Islands",
            "Dem. Rep. of the Congo",
            "Curaçao",
            "Sierra Leone",
            "Greece",
            "Cuba",
            "Somalia",
            "Tonga",
            "Senegal",
            "Serbia",
            "South Sudan",
            "Guadeloupe",
            "South Africa",
            "Gibraltar",
            "Barbados",
            "Tajikistan",
            "Finland",
            "Antigua and Barbuda",
            "Argentina",
            "Seychelles",
            "Togo",
            "Cyprus",
            "Qatar",
            "Rwanda",
            "Paraguay",
            "Sudan",
            "Puerto Rico",
            "Falkland Is. (Malvinas)",
            "Australia",
            "Angola",
            "Guyana",
            "Suriname",
            "Côte d'Ivoire",
            "Denmark",
            "Costa Rica",
            "Switzerland",
            "State of Palestine",
            "Sweden",
            "Turkmenistan",
            "Aruba",
            "Turks and Caicos Islands",
            "Bhutan",
            "Armenia",
            "Portugal",
            "Honduras",
            "Cook Islands",
            "Haiti",
            "Peru",
            "Turkey",
            "Philippines",
            "Swaziland",
            "Georgia",
            "Benin",
            "Guinea-Bissau",
            "St. Vincent-Grenadines",
            "Bermuda",
            "Poland",
            "Gambia",
            "French Polynesia"
           ],
           "locations": [
            "BOL",
            "ASM",
            "NCL",
            "VGB",
            "IND",
            "UKR",
            "MNP",
            "TUV",
            "COG",
            "HUN",
            "NOR",
            "DJI",
            "ARE",
            "EST",
            "UGA",
            "BRA",
            "@@@",
            "NGA",
            "NER",
            "BIH",
            "AND",
            "NIU",
            "PAK",
            "NZL",
            "IRN",
            "BWA",
            "ETH",
            "OMN",
            "PLW",
            "IRQ",
            "BIH",
            "FRO",
            "GBR",
            "IDN",
            "NIC",
            "COM",
            "GAB",
            "NLD",
            "EGY",
            "WLF",
            "PRK",
            "MDG",
            "MWI",
            "CHN",
            "VNM",
            "KIR",
            "MYS",
            "CAN",
            "MDV",
            "KEN",
            "MLI",
            "VEN",
            "CMR",
            "MLT",
            "MHL",
            "AFG",
            "CYM",
            "LUX",
            "LTU",
            "LAO",
            "ZWE",
            "LVA",
            "TCD",
            "KGZ",
            "LBN",
            "ECU",
            "ZMB",
            "HKG",
            "LSO",
            "KWT",
            "DOM",
            "LBR",
            "CAF",
            "LBY",
            "YEM",
            "LIE",
            "KOR",
            "CHL",
            "SLV",
            "KAZ",
            "MTQ",
            "DZA",
            "VIR",
            "MAR",
            "BFA",
            "MOZ",
            "ITA",
            "MMR",
            "ERI",
            "JAM",
            "COL",
            "NAM",
            "BGR",
            "ISR",
            "NRU",
            "NPL",
            "BRN",
            "TZA",
            "IMN",
            "USA",
            "IRL",
            "MSR",
            "MNG",
            "VUT",
            "KHM",
            "JOR",
            "MRT",
            "MUS",
            "ALB",
            "MYT",
            "UZB",
            "MNE",
            "CPV",
            "MEX",
            "FSM",
            "GNQ",
            "DMA",
            "MAC",
            "URY",
            "BDI",
            "JPN",
            "JEY",
            "PAN",
            "ISL",
            "PNG",
            "BLR",
            "GUF",
            "ESP",
            "STP",
            "GTM",
            "MKD",
            "WSM",
            "LKA",
            "TTO",
            "REU",
            "GGY",
            "BEL",
            "AZE",
            "GHA",
            "SHN",
            "HRV",
            "FRA",
            "MDA",
            "SPM",
            "AUT",
            "ROU",
            "LCA",
            "SYR",
            "GUM",
            "BLZ",
            "FJI",
            "DEU",
            "TUN",
            "GIN",
            "RUS",
            "KNA",
            "AIA",
            "CZE",
            "SAU",
            "BHS",
            "GRL",
            "SVK",
            "THA",
            "TLS",
            "SVN",
            "SXM",
            "SGP",
            "GRD",
            "BHR",
            "BGD",
            "SLB",
            "COD",
            "CUW",
            "SLE",
            "GRC",
            "CUB",
            "SOM",
            "TON",
            "SEN",
            "SRB",
            "SSD",
            "GLP",
            "ZAF",
            "GIB",
            "BRB",
            "TJK",
            "FIN",
            "ATG",
            "ARG",
            "SYC",
            "TGO",
            "CYP",
            "QAT",
            "RWA",
            "PRY",
            "SDN",
            "PRI",
            "MDV",
            "AUS",
            "AGO",
            "GUY",
            "SUR",
            "CIV",
            "DNK",
            "CRI",
            "CHE",
            "PSE",
            "SWE",
            "TKM",
            "ABW",
            "TCA",
            "BTN",
            "ARM",
            "PRT",
            "HND",
            "COK",
            "HTI",
            "PER",
            "TUR",
            "PHL",
            "SWZ",
            "GEO",
            "BEN",
            "GNB",
            "VCT",
            "BMU",
            "POL",
            "GMB",
            "PYF"
           ],
           "name": "",
           "type": "choropleth",
           "z": [
            8.065,
            0.156441,
            2.50576,
            0.13,
            1193.48,
            194.377,
            0.4148,
            0.0051,
            1.709,
            30.291,
            133.975,
            0.402,
            109.979,
            13.275,
            2.8609,
            570.838,
            252.351,
            28.883,
            0.437807,
            17.451,
            0.1147,
            0.0033516667,
            104.076,
            43.265,
            262.43406,
            0.7612,
            8.719,
            26.24,
            0.0775,
            58.422,
            0.1219,
            0.292534,
            359.168,
            216.1859,
            4.163,
            0.0561,
            2.264,
            101.736,
            168.05,
            0.018837,
            18.332,
            1.59439,
            2.09751,
            5431.6375,
            128.549,
            0.0241,
            138.331,
            660.795,
            0.304867,
            8.4483,
            1.50994,
            123.16,
            6.849,
            2.251,
            0.0836,
            1.0223,
            0.61505,
            2.888,
            4.762,
            4.471,
            9.4988,
            6.209,
            0.225,
            14.011,
            17.487,
            23.2604,
            13.3,
            39.063,
            0.5153,
            60.982,
            18.79947,
            0.3,
            0.181,
            37.913,
            8.501,
            0.0853,
            541.996,
            73.065,
            6.272,
            103.086,
            1.764463,
            59.89,
            0.820557,
            27.929,
            0.7307,
            15.645,
            289.807,
            12.24712,
            0.363,
            4.2562,
            70.858,
            1.712,
            43.784,
            61.322,
            0.0243,
            3.13,
            4.402,
            5.941,
            0.504,
            4306.371,
            26.142,
            0.023,
            6.215,
            0.0677,
            1.778,
            17.263,
            0.79,
            2.8822,
            6.956,
            0.2851,
            54.2,
            3.945,
            0.40423,
            297.326,
            0.068,
            0.439,
            0.1007,
            0.413,
            11.6575,
            0.159121,
            1065.623,
            0.3278,
            8.9622,
            18.116,
            4.169,
            31.507,
            0.883,
            285.632,
            0.067,
            10.0243,
            6.094072,
            0.1206,
            12.044315,
            9.505,
            2.8134,
            0.2888,
            83.526,
            23.354,
            13.047,
            0.01067,
            14.052,
            572.308,
            0.905,
            0.0465,
            68.277,
            58.887,
            0.382976,
            25.933,
            1.7364,
            0.37100665,
            0.8575,
            638.729,
            18.38162,
            0.9952,
            1059.092,
            0.22,
            0.0886,
            87.065,
            284.017,
            1.885,
            0.5681055,
            28.832,
            175.531,
            0.295,
            16.103,
            0.4097,
            47.964445,
            0.1967,
            25.909,
            53.043,
            0.0891,
            8.24,
            0.904,
            0.16439,
            57.152,
            19.1396,
            0.35,
            0.053313,
            3.403,
            39.877,
            0.472,
            1.818,
            256.073,
            0.189,
            1.01584,
            17.115,
            71.263,
            0.33,
            140.863,
            0.35422,
            0.3598,
            4.29,
            34.668,
            0.4131,
            60.38103,
            10.607,
            21.743,
            0.01765,
            249.72,
            8.216,
            0.96218,
            2.1843,
            7.65,
            34.76,
            10.235,
            70.312,
            0.5361,
            153.166,
            18.87,
            0.9281,
            0.227,
            7.64014,
            7.71,
            51.672,
            8.074,
            0.0325,
            1.055,
            43.3301,
            240.154,
            75.3,
            0.5898,
            10.059,
            0.173,
            0.03536,
            0.139,
            0.673,
            164.557,
            0.2607,
            0.74415
           ]
          }
         ],
         "name": "2013"
        },
        {
         "data": [
          {
           "coloraxis": "coloraxis",
           "customdata": [
            [
             252.578
            ],
            [
             6.223
            ],
            [
             16.472
            ],
            [
             2.1796
            ],
            [
             141.586
            ],
            [
             2.245
            ],
            [
             24.3072
            ],
            [
             0.0852
            ],
            [
             17.952
            ],
            [
             17.96198
            ],
            [
             86.024
            ],
            [
             50.474
            ],
            [
             0.35
            ],
            [
             8.831
            ],
            [
             0.40881
            ],
            [
             0.567
            ],
            [
             2.9359
            ],
            [
             180.862
            ],
            [
             4.38
            ],
            [
             2.367
            ],
            [
             0.91
            ],
            [
             14.572
            ],
            [
             17.437
            ],
            [
             8.286
            ],
            [
             27.246
            ],
            [
             18.2704
            ],
            [
             39.803
            ],
            [
             5.141
            ],
            [
             0.0919
            ],
            [
             0.0666
            ],
            [
             3.059
            ],
            [
             1.764463
            ],
            [
             0.225
            ],
            [
             14.452
            ],
            [
             153.662
            ],
            [
             0.9166
            ],
            [
             105.068
            ],
            [
             0.488
            ],
            [
             0.5152000000000001
            ],
            [
             1.853
            ],
            [
             0.01067
            ],
            [
             1.6585
            ],
            [
             71.767
            ],
            [
             0.22
            ],
            [
             627.795
            ],
            [
             0.16984
            ],
            [
             7.75
            ],
            [
             17.909
            ],
            [
             37.731
            ],
            [
             0.018556
            ],
            [
             177.249
            ],
            [
             21.726
            ],
            [
             7.646
            ],
            [
             1.0493
            ],
            [
             10.37
            ],
            [
             0.379431
            ],
            [
             0.62074
            ],
            [
             2.967
            ],
            [
             65.421
            ],
            [
             0.0404
            ],
            [
             4.397
            ],
            [
             550.933
            ],
            [
             0.0483
            ],
            [
             0.183
            ],
            [
             0.2608
            ],
            [
             0.3
            ],
            [
             24.728
            ],
            [
             127.732
            ],
            [
             6.922
            ],
            [
             0.72103
            ],
            [
             1.67937
            ],
            [
             4.35
            ],
            [
             0.198
            ],
            [
             9.1386
            ],
            [
             0.32891
            ],
            [
             0.91
            ],
            [
             248.299
            ],
            [
             73.719
            ],
            [
             278.75
            ],
            [
             147.461
            ],
            [
             65.14
            ],
            [
             5.303059
            ],
            [
             11.376
            ],
            [
             12.8315
            ],
            [
             0.0243
            ],
            [
             5649.5835
            ],
            [
             13.139
            ],
            [
             0.3366
            ],
            [
             145.73
            ],
            [
             656.225
            ],
            [
             2.09751
            ],
            [
             4.72443
            ],
            [
             19.366
            ],
            [
             562.776
            ],
            [
             32.183
            ],
            [
             0.402
            ],
            [
             9.615
            ],
            [
             21.3168
            ],
            [
             2.365
            ],
            [
             220.7938
            ],
            [
             0.0032266667
            ],
            [
             0.184
            ],
            [
             30.39
            ],
            [
             10.217
            ],
            [
             251.963
            ],
            [
             0.03536
            ],
            [
             116.528
            ],
            [
             0.438757
            ],
            [
             0.97936
            ],
            [
             38.692
            ],
            [
             274.609
            ],
            [
             0.0546
            ],
            [
             590.541
            ],
            [
             4.444
            ],
            [
             12.446
            ],
            [
             1.015
            ],
            [
             65.676
            ],
            [
             0.40406168
            ],
            [
             67.768
            ],
            [
             43.553
            ],
            [
             0.0895
            ],
            [
             338.925
            ],
            [
             19.024
            ],
            [
             0.156945
            ],
            [
             0.963
            ],
            [
             1064.207
            ],
            [
             0.4189
            ],
            [
             52.802
            ],
            [
             4.169
            ],
            [
             29.371
            ],
            [
             0.0051
            ],
            [
             0.0318
            ],
            [
             8.038
            ],
            [
             8.755
            ],
            [
             0.305417
            ],
            [
             0.079
            ],
            [
             9.48
            ],
            [
             0.23
            ],
            [
             0.1241
            ],
            [
             105.305
            ],
            [
             55.2823
            ],
            [
             7.00386
            ],
            [
             182.815
            ],
            [
             18.122
            ],
            [
             45.508
            ],
            [
             3.2577
            ],
            [
             1.033
            ],
            [
             77.2953
            ],
            [
             16.16
            ],
            [
             0.1268
            ],
            [
             29.128
            ],
            [
             0.71
            ],
            [
             0.01765
            ],
            [
             1308.873
            ],
            [
             1.74
            ],
            [
             20.4
            ],
            [
             142.327
            ],
            [
             159.059
            ],
            [
             260.025
            ],
            [
             0.132
            ],
            [
             2.62184
            ],
            [
             0.4761
            ],
            [
             0.77233
            ],
            [
             64.242
            ],
            [
             68.093
            ],
            [
             0.336
            ],
            [
             4.123
            ],
            [
             0.024
            ],
            [
             0.3628
            ],
            [
             3.04
            ],
            [
             0.3577
            ],
            [
             6.725
            ],
            [
             9.287
            ],
            [
             0.1807
            ],
            [
             0.891
            ],
            [
             0.1999
            ],
            [
             1.00958
            ],
            [
             13.0081
            ],
            [
             1040.676
            ],
            [
             0.641
            ],
            [
             55.845
            ],
            [
             0.06956
            ],
            [
             0.10243
            ],
            [
             0.439
            ],
            [
             49.31
            ],
            [
             301.496
            ],
            [
             0.349
            ],
            [
             0.4179
            ],
            [
             27.401
            ],
            [
             0.5799175999999999
            ],
            [
             55.4
            ],
            [
             0.2993
            ],
            [
             0.173848
            ],
            [
             29.142
            ],
            [
             0.869971
            ],
            [
             1.809
            ],
            [
             0.8593
            ],
            [
             26.314
            ],
            [
             103.418
            ],
            [
             13.554
            ],
            [
             0.2271
            ],
            [
             72.688
            ],
            [
             6.219
            ],
            [
             0.504
            ],
            [
             2.8572
            ],
            [
             4.506
            ],
            [
             3.50765
            ],
            [
             9.891
            ],
            [
             0.025054
            ],
            [
             0.1206
            ],
            [
             10.6376
            ],
            [
             60.813
            ],
            [
             70.059
            ],
            [
             34.06
            ],
            [
             17.739
            ],
            [
             279.827
            ],
            [
             3.406
            ],
            [
             0.054561
            ],
            [
             311.806
            ],
            [
             0.1353
            ],
            [
             0.37
            ],
            [
             47.485
            ],
            [
             4339.21
            ],
            [
             1.75
            ],
            [
             34.735
            ],
            [
             1.498
            ],
            [
             0.067
            ],
            [
             14.1563
            ],
            [
             10.023
            ]
           ],
           "geo": "geo",
           "hovertemplate": "<b>%{hovertext}</b><br><br>year=2014<br>ISO=%{location}<br>Electric Energy Production TWh=%{z}<extra></extra>",
           "hovertext": [
            "South Africa",
            "El Salvador",
            "Tajikistan",
            "Suriname",
            "Argentina",
            "Malta",
            "Ecuador",
            "Marshall Islands",
            "Lebanon",
            "Dominican Republic",
            "Czechia",
            "Greece",
            "Somalia",
            "Dem. Rep. of the Congo",
            "Cabo Verde",
            "Swaziland",
            "Mauritius",
            "Thailand",
            "Lao People's Dem. Rep.",
            "Gabon",
            "Mauritania",
            "Kyrgyzstan",
            "Slovenia",
            "Côte d'Ivoire",
            "Bahrain",
            "Jordan",
            "China, Hong Kong SAR",
            "Latvia",
            "Solomon Islands",
            "Vanuatu",
            "Cambodia",
            "Martinique",
            "Chad",
            "Zambia",
            "Sweden",
            "Aruba",
            "Kazakhstan",
            "South Sudan",
            "Lesotho",
            "Bahamas",
            "St. Helena and Depend.",
            "Madagascar",
            "Switzerland",
            "St. Kitts-Nevis",
            "Germany",
            "St. Vincent-Grenadines",
            "Armenia",
            "Korea, Dem.Ppl's.Rep.",
            "Libya",
            "Wallis and Futuna Is.",
            "Egypt",
            "Syrian Arab Republic",
            "Yemen",
            "Afghanistan",
            "Georgia",
            "St. Lucia",
            "Cayman Islands",
            "Luxembourg",
            "Austria",
            "Liechtenstein",
            "Lithuania",
            "Korea, Republic of",
            "St. Pierre-Miquelon",
            "Central African Rep.",
            "Gambia",
            "Liberia",
            "Azerbaijan",
            "Venezuela (Bolivar. Rep.)",
            "Cameroon",
            "French Polynesia",
            "Mali",
            "Cyprus",
            "Gibraltar",
            "Kenya",
            "Maldives",
            "French Guiana",
            "Australia",
            "Chile",
            "Spain",
            "Malaysia",
            "Kuwait",
            "T.F.Yug.Rep. Macedonia",
            "Sudan",
            "Sri Lanka",
            "Kiribati",
            "China",
            "Ghana",
            "State of Palestine",
            "Viet Nam",
            "Canada",
            "Malawi",
            "Albania",
            "Cuba",
            "France",
            "Denmark",
            "Djibouti",
            "Ethiopia",
            "Puerto Rico",
            "Botswana",
            "Indonesia",
            "Niue",
            "Benin",
            "Nigeria",
            "Costa Rica",
            "Turkey",
            "Guinea-Bissau",
            "United Arab Emirates",
            "Niger",
            "Guyana",
            "Qatar",
            "Iran (Islamic Rep. of)",
            "Comoros",
            "Brazil",
            "Nicaragua",
            "Estonia",
            "Guinea",
            "Romania",
            "Belize",
            "Iraq",
            "New Zealand",
            "Anguilla",
            "United Kingdom",
            "Tunisia",
            "American Samoa",
            "Republic of Moldova",
            "Russian Federation",
            "Northern Mariana Islands",
            "Portugal",
            "Papua New Guinea",
            "Hungary",
            "Tuvalu",
            "Cook Islands",
            "Honduras",
            "Bolivia (Plur. State of)",
            "Faeroe Islands",
            "Palau",
            "Angola",
            "Turks and Caicos Islands",
            "Bonaire, St Eustatius, Saba",
            "Pakistan",
            "Paraguay",
            "Bhutan",
            "Ukraine",
            "Iceland",
            "Peru",
            "Uganda",
            "Haiti",
            "Philippines",
            "Bosnia and Herzegovina",
            "Andorra",
            "Oman",
            "Bermuda",
            "Falkland Is. (Malvinas)",
            "India",
            "Congo",
            "Turkmenistan",
            "Norway",
            "Poland",
            "Other Asia",
            "British Virgin Islands",
            "New Caledonia",
            "Rwanda",
            "United States Virgin Is.",
            "Algeria",
            "Finland",
            "Antigua and Barbuda",
            "Jamaica",
            "Montserrat",
            "Seychelles",
            "Montenegro",
            "Togo",
            "Mongolia",
            "Panama",
            "Sierra Leone",
            "Curaçao",
            "Grenada",
            "Barbados",
            "Uruguay",
            "Japan",
            "China, Macao SAR",
            "Bangladesh",
            "Micronesia (Fed. States of)",
            "Dominica",
            "Equatorial Guinea",
            "Singapore",
            "Mexico",
            "Timor-Leste",
            "Sint Maarten (Dutch part)",
            "Slovakia",
            "Greenland",
            "Uzbekistan",
            "Mayotte",
            "Burundi",
            "Morocco",
            "Burkina Faso",
            "Guadeloupe",
            "Fiji",
            "Ireland",
            "Netherlands",
            "Croatia",
            "Guernsey",
            "Belgium",
            "United Rep. of Tanzania",
            "Isle of Man",
            "Réunion",
            "Brunei Darussalam",
            "Nepal",
            "Trinidad and Tobago",
            "Nauru",
            "Samoa",
            "Guatemala",
            "Israel",
            "Colombia",
            "Serbia",
            "Mozambique",
            "Italy",
            "Senegal",
            "Tonga",
            "Saudi Arabia",
            "Jersey",
            "Eritrea",
            "Bulgaria",
            "United States",
            "Guam",
            "Belarus",
            "Namibia",
            "Sao Tome and Principe",
            "Myanmar",
            "Zimbabwe"
           ],
           "locations": [
            "ZAF",
            "SLV",
            "TJK",
            "SUR",
            "ARG",
            "MLT",
            "ECU",
            "MHL",
            "LBN",
            "DOM",
            "CZE",
            "GRC",
            "SOM",
            "COD",
            "CPV",
            "SWZ",
            "MUS",
            "THA",
            "LAO",
            "GAB",
            "MRT",
            "KGZ",
            "SVN",
            "CIV",
            "BHR",
            "JOR",
            "HKG",
            "LVA",
            "SLB",
            "VUT",
            "KHM",
            "MTQ",
            "TCD",
            "ZMB",
            "SWE",
            "ABW",
            "KAZ",
            "SSD",
            "LSO",
            "BHS",
            "SHN",
            "MDG",
            "CHE",
            "KNA",
            "DEU",
            "VCT",
            "ARM",
            "PRK",
            "LBY",
            "WLF",
            "EGY",
            "SYR",
            "YEM",
            "AFG",
            "GEO",
            "LCA",
            "CYM",
            "LUX",
            "AUT",
            "LIE",
            "LTU",
            "KOR",
            "SPM",
            "CAF",
            "GMB",
            "LBR",
            "AZE",
            "VEN",
            "CMR",
            "PYF",
            "MLI",
            "CYP",
            "GIB",
            "KEN",
            "MDV",
            "GUF",
            "AUS",
            "CHL",
            "ESP",
            "MYS",
            "KWT",
            "MKD",
            "SDN",
            "LKA",
            "KIR",
            "CHN",
            "GHA",
            "PSE",
            "VNM",
            "CAN",
            "MWI",
            "ALB",
            "CUB",
            "FRA",
            "DNK",
            "DJI",
            "ETH",
            "PRI",
            "BWA",
            "IDN",
            "NIU",
            "BEN",
            "NGA",
            "CRI",
            "TUR",
            "GNB",
            "ARE",
            "NER",
            "GUY",
            "QAT",
            "IRN",
            "COM",
            "BRA",
            "NIC",
            "EST",
            "GIN",
            "ROU",
            "BLZ",
            "IRQ",
            "NZL",
            "AIA",
            "GBR",
            "TUN",
            "ASM",
            "MDA",
            "RUS",
            "MNP",
            "PRT",
            "PNG",
            "HUN",
            "TUV",
            "COK",
            "HND",
            "BOL",
            "FRO",
            "PLW",
            "AGO",
            "TCA",
            "BIH",
            "PAK",
            "PRY",
            "BTN",
            "UKR",
            "ISL",
            "PER",
            "UGA",
            "HTI",
            "PHL",
            "BIH",
            "AND",
            "OMN",
            "BMU",
            "MDV",
            "IND",
            "COG",
            "TKM",
            "NOR",
            "POL",
            "@@@",
            "VGB",
            "NCL",
            "RWA",
            "VIR",
            "DZA",
            "FIN",
            "ATG",
            "JAM",
            "MSR",
            "SYC",
            "MNE",
            "TGO",
            "MNG",
            "PAN",
            "SLE",
            "CUW",
            "GRD",
            "BRB",
            "URY",
            "JPN",
            "MAC",
            "BGD",
            "FSM",
            "DMA",
            "GNQ",
            "SGP",
            "MEX",
            "TLS",
            "SXM",
            "SVK",
            "GRL",
            "UZB",
            "MYT",
            "BDI",
            "MAR",
            "BFA",
            "GLP",
            "FJI",
            "IRL",
            "NLD",
            "HRV",
            "GGY",
            "BEL",
            "TZA",
            "IMN",
            "REU",
            "BRN",
            "NPL",
            "TTO",
            "NRU",
            "WSM",
            "GTM",
            "ISR",
            "COL",
            "SRB",
            "MOZ",
            "ITA",
            "SEN",
            "TON",
            "SAU",
            "JEY",
            "ERI",
            "BGR",
            "USA",
            "GUM",
            "BLR",
            "NAM",
            "STP",
            "MMR",
            "ZWE"
           ],
           "name": "",
           "type": "choropleth",
           "z": [
            252.578,
            6.223,
            16.472,
            2.1796,
            141.586,
            2.245,
            24.3072,
            0.0852,
            17.952,
            17.96198,
            86.024,
            50.474,
            0.35,
            8.831,
            0.40881,
            0.567,
            2.9359,
            180.862,
            4.38,
            2.367,
            0.91,
            14.572,
            17.437,
            8.286,
            27.246,
            18.2704,
            39.803,
            5.141,
            0.0919,
            0.0666,
            3.059,
            1.764463,
            0.225,
            14.452,
            153.662,
            0.9166,
            105.068,
            0.488,
            0.5152000000000001,
            1.853,
            0.01067,
            1.6585,
            71.767,
            0.22,
            627.795,
            0.16984,
            7.75,
            17.909,
            37.731,
            0.018556,
            177.249,
            21.726,
            7.646,
            1.0493,
            10.37,
            0.379431,
            0.62074,
            2.967,
            65.421,
            0.0404,
            4.397,
            550.933,
            0.0483,
            0.183,
            0.2608,
            0.3,
            24.728,
            127.732,
            6.922,
            0.72103,
            1.67937,
            4.35,
            0.198,
            9.1386,
            0.32891,
            0.91,
            248.299,
            73.719,
            278.75,
            147.461,
            65.14,
            5.303059,
            11.376,
            12.8315,
            0.0243,
            5649.5835,
            13.139,
            0.3366,
            145.73,
            656.225,
            2.09751,
            4.72443,
            19.366,
            562.776,
            32.183,
            0.402,
            9.615,
            21.3168,
            2.365,
            220.7938,
            0.0032266667,
            0.184,
            30.39,
            10.217,
            251.963,
            0.03536,
            116.528,
            0.438757,
            0.97936,
            38.692,
            274.609,
            0.0546,
            590.541,
            4.444,
            12.446,
            1.015,
            65.676,
            0.40406168,
            67.768,
            43.553,
            0.0895,
            338.925,
            19.024,
            0.156945,
            0.963,
            1064.207,
            0.4189,
            52.802,
            4.169,
            29.371,
            0.0051,
            0.0318,
            8.038,
            8.755,
            0.305417,
            0.079,
            9.48,
            0.23,
            0.1241,
            105.305,
            55.2823,
            7.00386,
            182.815,
            18.122,
            45.508,
            3.2577,
            1.033,
            77.2953,
            16.16,
            0.1268,
            29.128,
            0.71,
            0.01765,
            1308.873,
            1.74,
            20.4,
            142.327,
            159.059,
            260.025,
            0.132,
            2.62184,
            0.4761,
            0.77233,
            64.242,
            68.093,
            0.336,
            4.123,
            0.024,
            0.3628,
            3.04,
            0.3577,
            6.725,
            9.287,
            0.1807,
            0.891,
            0.1999,
            1.00958,
            13.0081,
            1040.676,
            0.641,
            55.845,
            0.06956,
            0.10243,
            0.439,
            49.31,
            301.496,
            0.349,
            0.4179,
            27.401,
            0.5799175999999999,
            55.4,
            0.2993,
            0.173848,
            29.142,
            0.869971,
            1.809,
            0.8593,
            26.314,
            103.418,
            13.554,
            0.2271,
            72.688,
            6.219,
            0.504,
            2.8572,
            4.506,
            3.50765,
            9.891,
            0.025054,
            0.1206,
            10.6376,
            60.813,
            70.059,
            34.06,
            17.739,
            279.827,
            3.406,
            0.054561,
            311.806,
            0.1353,
            0.37,
            47.485,
            4339.21,
            1.75,
            34.735,
            1.498,
            0.067,
            14.1563,
            10.023
           ]
          }
         ],
         "name": "2014"
        }
       ],
       "layout": {
        "coloraxis": {
         "cmax": 5800,
         "cmin": 0,
         "colorbar": {
          "tickvals": [
           100,
           200,
           400,
           600,
           800,
           100,
           1200,
           1400,
           1600,
           1800,
           2000,
           2400,
           2800,
           3200,
           3600,
           4000,
           4400,
           4800,
           5200
          ],
          "title": {
           "text": "TVh"
          }
         },
         "colorscale": [
          [
           0,
           "rgb(255,245,240)"
          ],
          [
           0.125,
           "rgb(254,224,210)"
          ],
          [
           0.25,
           "rgb(252,187,161)"
          ],
          [
           0.375,
           "rgb(252,146,114)"
          ],
          [
           0.5,
           "rgb(251,106,74)"
          ],
          [
           0.625,
           "rgb(239,59,44)"
          ],
          [
           0.75,
           "rgb(203,24,29)"
          ],
          [
           0.875,
           "rgb(165,15,21)"
          ],
          [
           1,
           "rgb(103,0,13)"
          ]
         ]
        },
        "geo": {
         "center": {},
         "domain": {
          "x": [
           0,
           1
          ],
          "y": [
           0,
           1
          ]
         }
        },
        "height": 700,
        "legend": {
         "tracegroupgap": 0
        },
        "margin": {
         "t": 60
        },
        "sliders": [
         {
          "active": 0,
          "currentvalue": {
           "prefix": "year="
          },
          "len": 0.9,
          "pad": {
           "b": 10,
           "t": 60
          },
          "steps": [
           {
            "args": [
             [
              "1994"
             ],
             {
              "frame": {
               "duration": 0,
               "redraw": true
              },
              "fromcurrent": true,
              "mode": "immediate",
              "transition": {
               "duration": 0,
               "easing": "linear"
              }
             }
            ],
            "label": "1994",
            "method": "animate"
           },
           {
            "args": [
             [
              "1995"
             ],
             {
              "frame": {
               "duration": 0,
               "redraw": true
              },
              "fromcurrent": true,
              "mode": "immediate",
              "transition": {
               "duration": 0,
               "easing": "linear"
              }
             }
            ],
            "label": "1995",
            "method": "animate"
           },
           {
            "args": [
             [
              "1996"
             ],
             {
              "frame": {
               "duration": 0,
               "redraw": true
              },
              "fromcurrent": true,
              "mode": "immediate",
              "transition": {
               "duration": 0,
               "easing": "linear"
              }
             }
            ],
            "label": "1996",
            "method": "animate"
           },
           {
            "args": [
             [
              "1997"
             ],
             {
              "frame": {
               "duration": 0,
               "redraw": true
              },
              "fromcurrent": true,
              "mode": "immediate",
              "transition": {
               "duration": 0,
               "easing": "linear"
              }
             }
            ],
            "label": "1997",
            "method": "animate"
           },
           {
            "args": [
             [
              "1998"
             ],
             {
              "frame": {
               "duration": 0,
               "redraw": true
              },
              "fromcurrent": true,
              "mode": "immediate",
              "transition": {
               "duration": 0,
               "easing": "linear"
              }
             }
            ],
            "label": "1998",
            "method": "animate"
           },
           {
            "args": [
             [
              "1999"
             ],
             {
              "frame": {
               "duration": 0,
               "redraw": true
              },
              "fromcurrent": true,
              "mode": "immediate",
              "transition": {
               "duration": 0,
               "easing": "linear"
              }
             }
            ],
            "label": "1999",
            "method": "animate"
           },
           {
            "args": [
             [
              "2000"
             ],
             {
              "frame": {
               "duration": 0,
               "redraw": true
              },
              "fromcurrent": true,
              "mode": "immediate",
              "transition": {
               "duration": 0,
               "easing": "linear"
              }
             }
            ],
            "label": "2000",
            "method": "animate"
           },
           {
            "args": [
             [
              "2001"
             ],
             {
              "frame": {
               "duration": 0,
               "redraw": true
              },
              "fromcurrent": true,
              "mode": "immediate",
              "transition": {
               "duration": 0,
               "easing": "linear"
              }
             }
            ],
            "label": "2001",
            "method": "animate"
           },
           {
            "args": [
             [
              "2002"
             ],
             {
              "frame": {
               "duration": 0,
               "redraw": true
              },
              "fromcurrent": true,
              "mode": "immediate",
              "transition": {
               "duration": 0,
               "easing": "linear"
              }
             }
            ],
            "label": "2002",
            "method": "animate"
           },
           {
            "args": [
             [
              "2003"
             ],
             {
              "frame": {
               "duration": 0,
               "redraw": true
              },
              "fromcurrent": true,
              "mode": "immediate",
              "transition": {
               "duration": 0,
               "easing": "linear"
              }
             }
            ],
            "label": "2003",
            "method": "animate"
           },
           {
            "args": [
             [
              "2004"
             ],
             {
              "frame": {
               "duration": 0,
               "redraw": true
              },
              "fromcurrent": true,
              "mode": "immediate",
              "transition": {
               "duration": 0,
               "easing": "linear"
              }
             }
            ],
            "label": "2004",
            "method": "animate"
           },
           {
            "args": [
             [
              "2005"
             ],
             {
              "frame": {
               "duration": 0,
               "redraw": true
              },
              "fromcurrent": true,
              "mode": "immediate",
              "transition": {
               "duration": 0,
               "easing": "linear"
              }
             }
            ],
            "label": "2005",
            "method": "animate"
           },
           {
            "args": [
             [
              "2006"
             ],
             {
              "frame": {
               "duration": 0,
               "redraw": true
              },
              "fromcurrent": true,
              "mode": "immediate",
              "transition": {
               "duration": 0,
               "easing": "linear"
              }
             }
            ],
            "label": "2006",
            "method": "animate"
           },
           {
            "args": [
             [
              "2007"
             ],
             {
              "frame": {
               "duration": 0,
               "redraw": true
              },
              "fromcurrent": true,
              "mode": "immediate",
              "transition": {
               "duration": 0,
               "easing": "linear"
              }
             }
            ],
            "label": "2007",
            "method": "animate"
           },
           {
            "args": [
             [
              "2008"
             ],
             {
              "frame": {
               "duration": 0,
               "redraw": true
              },
              "fromcurrent": true,
              "mode": "immediate",
              "transition": {
               "duration": 0,
               "easing": "linear"
              }
             }
            ],
            "label": "2008",
            "method": "animate"
           },
           {
            "args": [
             [
              "2009"
             ],
             {
              "frame": {
               "duration": 0,
               "redraw": true
              },
              "fromcurrent": true,
              "mode": "immediate",
              "transition": {
               "duration": 0,
               "easing": "linear"
              }
             }
            ],
            "label": "2009",
            "method": "animate"
           },
           {
            "args": [
             [
              "2010"
             ],
             {
              "frame": {
               "duration": 0,
               "redraw": true
              },
              "fromcurrent": true,
              "mode": "immediate",
              "transition": {
               "duration": 0,
               "easing": "linear"
              }
             }
            ],
            "label": "2010",
            "method": "animate"
           },
           {
            "args": [
             [
              "2011"
             ],
             {
              "frame": {
               "duration": 0,
               "redraw": true
              },
              "fromcurrent": true,
              "mode": "immediate",
              "transition": {
               "duration": 0,
               "easing": "linear"
              }
             }
            ],
            "label": "2011",
            "method": "animate"
           },
           {
            "args": [
             [
              "2012"
             ],
             {
              "frame": {
               "duration": 0,
               "redraw": true
              },
              "fromcurrent": true,
              "mode": "immediate",
              "transition": {
               "duration": 0,
               "easing": "linear"
              }
             }
            ],
            "label": "2012",
            "method": "animate"
           },
           {
            "args": [
             [
              "2013"
             ],
             {
              "frame": {
               "duration": 0,
               "redraw": true
              },
              "fromcurrent": true,
              "mode": "immediate",
              "transition": {
               "duration": 0,
               "easing": "linear"
              }
             }
            ],
            "label": "2013",
            "method": "animate"
           },
           {
            "args": [
             [
              "2014"
             ],
             {
              "frame": {
               "duration": 0,
               "redraw": true
              },
              "fromcurrent": true,
              "mode": "immediate",
              "transition": {
               "duration": 0,
               "easing": "linear"
              }
             }
            ],
            "label": "2014",
            "method": "animate"
           }
          ],
          "x": 0.1,
          "xanchor": "left",
          "y": 0,
          "yanchor": "top"
         }
        ],
        "template": {
         "data": {
          "bar": [
           {
            "error_x": {
             "color": "#2a3f5f"
            },
            "error_y": {
             "color": "#2a3f5f"
            },
            "marker": {
             "line": {
              "color": "#E5ECF6",
              "width": 0.5
             },
             "pattern": {
              "fillmode": "overlay",
              "size": 10,
              "solidity": 0.2
             }
            },
            "type": "bar"
           }
          ],
          "barpolar": [
           {
            "marker": {
             "line": {
              "color": "#E5ECF6",
              "width": 0.5
             },
             "pattern": {
              "fillmode": "overlay",
              "size": 10,
              "solidity": 0.2
             }
            },
            "type": "barpolar"
           }
          ],
          "carpet": [
           {
            "aaxis": {
             "endlinecolor": "#2a3f5f",
             "gridcolor": "white",
             "linecolor": "white",
             "minorgridcolor": "white",
             "startlinecolor": "#2a3f5f"
            },
            "baxis": {
             "endlinecolor": "#2a3f5f",
             "gridcolor": "white",
             "linecolor": "white",
             "minorgridcolor": "white",
             "startlinecolor": "#2a3f5f"
            },
            "type": "carpet"
           }
          ],
          "choropleth": [
           {
            "colorbar": {
             "outlinewidth": 0,
             "ticks": ""
            },
            "type": "choropleth"
           }
          ],
          "contour": [
           {
            "colorbar": {
             "outlinewidth": 0,
             "ticks": ""
            },
            "colorscale": [
             [
              0,
              "#0d0887"
             ],
             [
              0.1111111111111111,
              "#46039f"
             ],
             [
              0.2222222222222222,
              "#7201a8"
             ],
             [
              0.3333333333333333,
              "#9c179e"
             ],
             [
              0.4444444444444444,
              "#bd3786"
             ],
             [
              0.5555555555555556,
              "#d8576b"
             ],
             [
              0.6666666666666666,
              "#ed7953"
             ],
             [
              0.7777777777777778,
              "#fb9f3a"
             ],
             [
              0.8888888888888888,
              "#fdca26"
             ],
             [
              1,
              "#f0f921"
             ]
            ],
            "type": "contour"
           }
          ],
          "contourcarpet": [
           {
            "colorbar": {
             "outlinewidth": 0,
             "ticks": ""
            },
            "type": "contourcarpet"
           }
          ],
          "heatmap": [
           {
            "colorbar": {
             "outlinewidth": 0,
             "ticks": ""
            },
            "colorscale": [
             [
              0,
              "#0d0887"
             ],
             [
              0.1111111111111111,
              "#46039f"
             ],
             [
              0.2222222222222222,
              "#7201a8"
             ],
             [
              0.3333333333333333,
              "#9c179e"
             ],
             [
              0.4444444444444444,
              "#bd3786"
             ],
             [
              0.5555555555555556,
              "#d8576b"
             ],
             [
              0.6666666666666666,
              "#ed7953"
             ],
             [
              0.7777777777777778,
              "#fb9f3a"
             ],
             [
              0.8888888888888888,
              "#fdca26"
             ],
             [
              1,
              "#f0f921"
             ]
            ],
            "type": "heatmap"
           }
          ],
          "heatmapgl": [
           {
            "colorbar": {
             "outlinewidth": 0,
             "ticks": ""
            },
            "colorscale": [
             [
              0,
              "#0d0887"
             ],
             [
              0.1111111111111111,
              "#46039f"
             ],
             [
              0.2222222222222222,
              "#7201a8"
             ],
             [
              0.3333333333333333,
              "#9c179e"
             ],
             [
              0.4444444444444444,
              "#bd3786"
             ],
             [
              0.5555555555555556,
              "#d8576b"
             ],
             [
              0.6666666666666666,
              "#ed7953"
             ],
             [
              0.7777777777777778,
              "#fb9f3a"
             ],
             [
              0.8888888888888888,
              "#fdca26"
             ],
             [
              1,
              "#f0f921"
             ]
            ],
            "type": "heatmapgl"
           }
          ],
          "histogram": [
           {
            "marker": {
             "pattern": {
              "fillmode": "overlay",
              "size": 10,
              "solidity": 0.2
             }
            },
            "type": "histogram"
           }
          ],
          "histogram2d": [
           {
            "colorbar": {
             "outlinewidth": 0,
             "ticks": ""
            },
            "colorscale": [
             [
              0,
              "#0d0887"
             ],
             [
              0.1111111111111111,
              "#46039f"
             ],
             [
              0.2222222222222222,
              "#7201a8"
             ],
             [
              0.3333333333333333,
              "#9c179e"
             ],
             [
              0.4444444444444444,
              "#bd3786"
             ],
             [
              0.5555555555555556,
              "#d8576b"
             ],
             [
              0.6666666666666666,
              "#ed7953"
             ],
             [
              0.7777777777777778,
              "#fb9f3a"
             ],
             [
              0.8888888888888888,
              "#fdca26"
             ],
             [
              1,
              "#f0f921"
             ]
            ],
            "type": "histogram2d"
           }
          ],
          "histogram2dcontour": [
           {
            "colorbar": {
             "outlinewidth": 0,
             "ticks": ""
            },
            "colorscale": [
             [
              0,
              "#0d0887"
             ],
             [
              0.1111111111111111,
              "#46039f"
             ],
             [
              0.2222222222222222,
              "#7201a8"
             ],
             [
              0.3333333333333333,
              "#9c179e"
             ],
             [
              0.4444444444444444,
              "#bd3786"
             ],
             [
              0.5555555555555556,
              "#d8576b"
             ],
             [
              0.6666666666666666,
              "#ed7953"
             ],
             [
              0.7777777777777778,
              "#fb9f3a"
             ],
             [
              0.8888888888888888,
              "#fdca26"
             ],
             [
              1,
              "#f0f921"
             ]
            ],
            "type": "histogram2dcontour"
           }
          ],
          "mesh3d": [
           {
            "colorbar": {
             "outlinewidth": 0,
             "ticks": ""
            },
            "type": "mesh3d"
           }
          ],
          "parcoords": [
           {
            "line": {
             "colorbar": {
              "outlinewidth": 0,
              "ticks": ""
             }
            },
            "type": "parcoords"
           }
          ],
          "pie": [
           {
            "automargin": true,
            "type": "pie"
           }
          ],
          "scatter": [
           {
            "marker": {
             "colorbar": {
              "outlinewidth": 0,
              "ticks": ""
             }
            },
            "type": "scatter"
           }
          ],
          "scatter3d": [
           {
            "line": {
             "colorbar": {
              "outlinewidth": 0,
              "ticks": ""
             }
            },
            "marker": {
             "colorbar": {
              "outlinewidth": 0,
              "ticks": ""
             }
            },
            "type": "scatter3d"
           }
          ],
          "scattercarpet": [
           {
            "marker": {
             "colorbar": {
              "outlinewidth": 0,
              "ticks": ""
             }
            },
            "type": "scattercarpet"
           }
          ],
          "scattergeo": [
           {
            "marker": {
             "colorbar": {
              "outlinewidth": 0,
              "ticks": ""
             }
            },
            "type": "scattergeo"
           }
          ],
          "scattergl": [
           {
            "marker": {
             "colorbar": {
              "outlinewidth": 0,
              "ticks": ""
             }
            },
            "type": "scattergl"
           }
          ],
          "scattermapbox": [
           {
            "marker": {
             "colorbar": {
              "outlinewidth": 0,
              "ticks": ""
             }
            },
            "type": "scattermapbox"
           }
          ],
          "scatterpolar": [
           {
            "marker": {
             "colorbar": {
              "outlinewidth": 0,
              "ticks": ""
             }
            },
            "type": "scatterpolar"
           }
          ],
          "scatterpolargl": [
           {
            "marker": {
             "colorbar": {
              "outlinewidth": 0,
              "ticks": ""
             }
            },
            "type": "scatterpolargl"
           }
          ],
          "scatterternary": [
           {
            "marker": {
             "colorbar": {
              "outlinewidth": 0,
              "ticks": ""
             }
            },
            "type": "scatterternary"
           }
          ],
          "surface": [
           {
            "colorbar": {
             "outlinewidth": 0,
             "ticks": ""
            },
            "colorscale": [
             [
              0,
              "#0d0887"
             ],
             [
              0.1111111111111111,
              "#46039f"
             ],
             [
              0.2222222222222222,
              "#7201a8"
             ],
             [
              0.3333333333333333,
              "#9c179e"
             ],
             [
              0.4444444444444444,
              "#bd3786"
             ],
             [
              0.5555555555555556,
              "#d8576b"
             ],
             [
              0.6666666666666666,
              "#ed7953"
             ],
             [
              0.7777777777777778,
              "#fb9f3a"
             ],
             [
              0.8888888888888888,
              "#fdca26"
             ],
             [
              1,
              "#f0f921"
             ]
            ],
            "type": "surface"
           }
          ],
          "table": [
           {
            "cells": {
             "fill": {
              "color": "#EBF0F8"
             },
             "line": {
              "color": "white"
             }
            },
            "header": {
             "fill": {
              "color": "#C8D4E3"
             },
             "line": {
              "color": "white"
             }
            },
            "type": "table"
           }
          ]
         },
         "layout": {
          "annotationdefaults": {
           "arrowcolor": "#2a3f5f",
           "arrowhead": 0,
           "arrowwidth": 1
          },
          "autotypenumbers": "strict",
          "coloraxis": {
           "colorbar": {
            "outlinewidth": 0,
            "ticks": ""
           }
          },
          "colorscale": {
           "diverging": [
            [
             0,
             "#8e0152"
            ],
            [
             0.1,
             "#c51b7d"
            ],
            [
             0.2,
             "#de77ae"
            ],
            [
             0.3,
             "#f1b6da"
            ],
            [
             0.4,
             "#fde0ef"
            ],
            [
             0.5,
             "#f7f7f7"
            ],
            [
             0.6,
             "#e6f5d0"
            ],
            [
             0.7,
             "#b8e186"
            ],
            [
             0.8,
             "#7fbc41"
            ],
            [
             0.9,
             "#4d9221"
            ],
            [
             1,
             "#276419"
            ]
           ],
           "sequential": [
            [
             0,
             "#0d0887"
            ],
            [
             0.1111111111111111,
             "#46039f"
            ],
            [
             0.2222222222222222,
             "#7201a8"
            ],
            [
             0.3333333333333333,
             "#9c179e"
            ],
            [
             0.4444444444444444,
             "#bd3786"
            ],
            [
             0.5555555555555556,
             "#d8576b"
            ],
            [
             0.6666666666666666,
             "#ed7953"
            ],
            [
             0.7777777777777778,
             "#fb9f3a"
            ],
            [
             0.8888888888888888,
             "#fdca26"
            ],
            [
             1,
             "#f0f921"
            ]
           ],
           "sequentialminus": [
            [
             0,
             "#0d0887"
            ],
            [
             0.1111111111111111,
             "#46039f"
            ],
            [
             0.2222222222222222,
             "#7201a8"
            ],
            [
             0.3333333333333333,
             "#9c179e"
            ],
            [
             0.4444444444444444,
             "#bd3786"
            ],
            [
             0.5555555555555556,
             "#d8576b"
            ],
            [
             0.6666666666666666,
             "#ed7953"
            ],
            [
             0.7777777777777778,
             "#fb9f3a"
            ],
            [
             0.8888888888888888,
             "#fdca26"
            ],
            [
             1,
             "#f0f921"
            ]
           ]
          },
          "colorway": [
           "#636efa",
           "#EF553B",
           "#00cc96",
           "#ab63fa",
           "#FFA15A",
           "#19d3f3",
           "#FF6692",
           "#B6E880",
           "#FF97FF",
           "#FECB52"
          ],
          "font": {
           "color": "#2a3f5f"
          },
          "geo": {
           "bgcolor": "white",
           "lakecolor": "white",
           "landcolor": "#E5ECF6",
           "showlakes": true,
           "showland": true,
           "subunitcolor": "white"
          },
          "hoverlabel": {
           "align": "left"
          },
          "hovermode": "closest",
          "mapbox": {
           "style": "light"
          },
          "paper_bgcolor": "white",
          "plot_bgcolor": "#E5ECF6",
          "polar": {
           "angularaxis": {
            "gridcolor": "white",
            "linecolor": "white",
            "ticks": ""
           },
           "bgcolor": "#E5ECF6",
           "radialaxis": {
            "gridcolor": "white",
            "linecolor": "white",
            "ticks": ""
           }
          },
          "scene": {
           "xaxis": {
            "backgroundcolor": "#E5ECF6",
            "gridcolor": "white",
            "gridwidth": 2,
            "linecolor": "white",
            "showbackground": true,
            "ticks": "",
            "zerolinecolor": "white"
           },
           "yaxis": {
            "backgroundcolor": "#E5ECF6",
            "gridcolor": "white",
            "gridwidth": 2,
            "linecolor": "white",
            "showbackground": true,
            "ticks": "",
            "zerolinecolor": "white"
           },
           "zaxis": {
            "backgroundcolor": "#E5ECF6",
            "gridcolor": "white",
            "gridwidth": 2,
            "linecolor": "white",
            "showbackground": true,
            "ticks": "",
            "zerolinecolor": "white"
           }
          },
          "shapedefaults": {
           "line": {
            "color": "#2a3f5f"
           }
          },
          "ternary": {
           "aaxis": {
            "gridcolor": "white",
            "linecolor": "white",
            "ticks": ""
           },
           "baxis": {
            "gridcolor": "white",
            "linecolor": "white",
            "ticks": ""
           },
           "bgcolor": "#E5ECF6",
           "caxis": {
            "gridcolor": "white",
            "linecolor": "white",
            "ticks": ""
           }
          },
          "title": {
           "x": 0.05
          },
          "xaxis": {
           "automargin": true,
           "gridcolor": "white",
           "linecolor": "white",
           "ticks": "",
           "title": {
            "standoff": 15
           },
           "zerolinecolor": "white",
           "zerolinewidth": 2
          },
          "yaxis": {
           "automargin": true,
           "gridcolor": "white",
           "linecolor": "white",
           "ticks": "",
           "title": {
            "standoff": 15
           },
           "zerolinecolor": "white",
           "zerolinewidth": 2
          }
         }
        },
        "title": {
         "text": "Electricity Production at World"
        },
        "updatemenus": [
         {
          "buttons": [
           {
            "args": [
             null,
             {
              "frame": {
               "duration": 500,
               "redraw": true
              },
              "fromcurrent": true,
              "mode": "immediate",
              "transition": {
               "duration": 500,
               "easing": "linear"
              }
             }
            ],
            "label": "&#9654;",
            "method": "animate"
           },
           {
            "args": [
             [
              null
             ],
             {
              "frame": {
               "duration": 0,
               "redraw": true
              },
              "fromcurrent": true,
              "mode": "immediate",
              "transition": {
               "duration": 0,
               "easing": "linear"
              }
             }
            ],
            "label": "&#9724;",
            "method": "animate"
           }
          ],
          "direction": "left",
          "pad": {
           "r": 10,
           "t": 70
          },
          "showactive": false,
          "type": "buttons",
          "x": 0.1,
          "xanchor": "right",
          "y": 0,
          "yanchor": "top"
         }
        ]
       }
      }
     },
     "metadata": {},
     "output_type": "display_data"
    }
   ],
   "source": [
    "_map_for_world(df_f)"
   ]
  },
  {
   "cell_type": "code",
   "execution_count": 8,
   "metadata": {},
   "outputs": [],
   "source": [
    "def _production_structure_for_world(\n",
    "    data: pd.DataFrame,\n",
    "    ) -> pd.DataFrame:\n",
    "    \"\"\" Return production structure for world \n",
    "        Working at final_version.csv file \n",
    "    \"\"\"\n",
    "    import seaborn as sns\n",
    "    from bokeh.layouts import gridplot\n",
    "    from bokeh.io import output_notebook, show, reset_output\n",
    "    from bokeh.plotting import figure\n",
    "    from bokeh.models import HoverTool, ColumnDataSource, CDSView, BooleanFilter, Legend\n",
    "    from bokeh.palettes import Spectral\n",
    "    \n",
    "\n",
    "\n",
    "    source_list = ['Electricity - Gross production',\n",
    "       'Electricity - total thermal production',\n",
    "       'Electricity - total tide, wave and hydro production',\n",
    "       'Electricity - total solar production',\n",
    "       'Electricity - total nuclear production',\n",
    "       'Electricity - total wind production',\n",
    "       'Electricity - total geothermal production']\n",
    "    df_fp = data.loc[(data.commodity_transaction.isin(source_list))]\n",
    "    total_by_source = pd.pivot_table(df_fp , values = 'new_quantity', index=['year'], columns =['commodity_transaction'], aggfunc = ('sum'), fill_value=0).reset_index()\n",
    "    \n",
    "    names = ['Electricity - total tide, wave and hydro production',\n",
    "                    'Electricity - total wind production',\n",
    "                    'Electricity - total solar production',\n",
    "                    'Electricity - total nuclear production',\n",
    "                     'Electricity - total geothermal production',\n",
    "                     'Electricity - total thermal production']\n",
    "    \n",
    "    for i in names:\n",
    "        total_by_source[i + ' %'] = (total_by_source[i])*100/(total_by_source[names].sum(axis=1))\n",
    "    \n",
    "    source = source = ColumnDataSource(total_by_source)\n",
    "    Reverse_Spectral= Spectral.copy()\n",
    "\n",
    "    tooltips_source = [\n",
    "    ('year', '@year'),\n",
    "    ('By Source', '@$name{0,0} TWh'),\n",
    "    ('Total','$y{0,0} TWh')\n",
    "    ]\n",
    "    output_notebook()\n",
    "    subplot = figure(title = 'Electricity Production at World by Source 1994-2014',plot_width=900, plot_height=500)\n",
    "    subplot.varea_stack(names,\n",
    "                x='year',color=Reverse_Spectral[6] , legend_label = names, source = source)\n",
    "\n",
    "    subplot.vline_stack(names,\n",
    "                x='year',color = 'black', source = source)\n",
    "    subplot.line(x = 'year', y = 'Electricity - Gross production',\n",
    "            line_dash=[4, 4], line_color='gray', line_width=2, legend_label='Gross', source = source)\n",
    "\n",
    "    subplot.legend.location ='bottom_right'\n",
    "    subplot.add_tools(HoverTool(tooltips = tooltips_source))\n",
    "    subplot.add_layout(subplot.legend[0], 'right')\n",
    "    subplot.xaxis.axis_label = 'Year'\n",
    "    subplot.yaxis.axis_label = 'Production TW/h'\n",
    "    show(subplot)\n",
    "        "
   ]
  },
  {
   "cell_type": "code",
   "execution_count": 9,
   "metadata": {},
   "outputs": [
    {
     "data": {
      "text/html": [
       "\n",
       "    <div class=\"bk-root\">\n",
       "        <a href=\"https://bokeh.org\" target=\"_blank\" class=\"bk-logo bk-logo-small bk-logo-notebook\"></a>\n",
       "        <span id=\"1324\">Loading BokehJS ...</span>\n",
       "    </div>"
      ]
     },
     "metadata": {},
     "output_type": "display_data"
    },
    {
     "data": {
      "application/javascript": "\n(function(root) {\n  function now() {\n    return new Date();\n  }\n\n  const force = true;\n\n  if (typeof root._bokeh_onload_callbacks === \"undefined\" || force === true) {\n    root._bokeh_onload_callbacks = [];\n    root._bokeh_is_loading = undefined;\n  }\n\n  const JS_MIME_TYPE = 'application/javascript';\n  const HTML_MIME_TYPE = 'text/html';\n  const EXEC_MIME_TYPE = 'application/vnd.bokehjs_exec.v0+json';\n  const CLASS_NAME = 'output_bokeh rendered_html';\n\n  /**\n   * Render data to the DOM node\n   */\n  function render(props, node) {\n    const script = document.createElement(\"script\");\n    node.appendChild(script);\n  }\n\n  /**\n   * Handle when an output is cleared or removed\n   */\n  function handleClearOutput(event, handle) {\n    const cell = handle.cell;\n\n    const id = cell.output_area._bokeh_element_id;\n    const server_id = cell.output_area._bokeh_server_id;\n    // Clean up Bokeh references\n    if (id != null && id in Bokeh.index) {\n      Bokeh.index[id].model.document.clear();\n      delete Bokeh.index[id];\n    }\n\n    if (server_id !== undefined) {\n      // Clean up Bokeh references\n      const cmd_clean = \"from bokeh.io.state import curstate; print(curstate().uuid_to_server['\" + server_id + \"'].get_sessions()[0].document.roots[0]._id)\";\n      cell.notebook.kernel.execute(cmd_clean, {\n        iopub: {\n          output: function(msg) {\n            const id = msg.content.text.trim();\n            if (id in Bokeh.index) {\n              Bokeh.index[id].model.document.clear();\n              delete Bokeh.index[id];\n            }\n          }\n        }\n      });\n      // Destroy server and session\n      const cmd_destroy = \"import bokeh.io.notebook as ion; ion.destroy_server('\" + server_id + \"')\";\n      cell.notebook.kernel.execute(cmd_destroy);\n    }\n  }\n\n  /**\n   * Handle when a new output is added\n   */\n  function handleAddOutput(event, handle) {\n    const output_area = handle.output_area;\n    const output = handle.output;\n\n    // limit handleAddOutput to display_data with EXEC_MIME_TYPE content only\n    if ((output.output_type != \"display_data\") || (!Object.prototype.hasOwnProperty.call(output.data, EXEC_MIME_TYPE))) {\n      return\n    }\n\n    const toinsert = output_area.element.find(\".\" + CLASS_NAME.split(' ')[0]);\n\n    if (output.metadata[EXEC_MIME_TYPE][\"id\"] !== undefined) {\n      toinsert[toinsert.length - 1].firstChild.textContent = output.data[JS_MIME_TYPE];\n      // store reference to embed id on output_area\n      output_area._bokeh_element_id = output.metadata[EXEC_MIME_TYPE][\"id\"];\n    }\n    if (output.metadata[EXEC_MIME_TYPE][\"server_id\"] !== undefined) {\n      const bk_div = document.createElement(\"div\");\n      bk_div.innerHTML = output.data[HTML_MIME_TYPE];\n      const script_attrs = bk_div.children[0].attributes;\n      for (let i = 0; i < script_attrs.length; i++) {\n        toinsert[toinsert.length - 1].firstChild.setAttribute(script_attrs[i].name, script_attrs[i].value);\n        toinsert[toinsert.length - 1].firstChild.textContent = bk_div.children[0].textContent\n      }\n      // store reference to server id on output_area\n      output_area._bokeh_server_id = output.metadata[EXEC_MIME_TYPE][\"server_id\"];\n    }\n  }\n\n  function register_renderer(events, OutputArea) {\n\n    function append_mime(data, metadata, element) {\n      // create a DOM node to render to\n      const toinsert = this.create_output_subarea(\n        metadata,\n        CLASS_NAME,\n        EXEC_MIME_TYPE\n      );\n      this.keyboard_manager.register_events(toinsert);\n      // Render to node\n      const props = {data: data, metadata: metadata[EXEC_MIME_TYPE]};\n      render(props, toinsert[toinsert.length - 1]);\n      element.append(toinsert);\n      return toinsert\n    }\n\n    /* Handle when an output is cleared or removed */\n    events.on('clear_output.CodeCell', handleClearOutput);\n    events.on('delete.Cell', handleClearOutput);\n\n    /* Handle when a new output is added */\n    events.on('output_added.OutputArea', handleAddOutput);\n\n    /**\n     * Register the mime type and append_mime function with output_area\n     */\n    OutputArea.prototype.register_mime_type(EXEC_MIME_TYPE, append_mime, {\n      /* Is output safe? */\n      safe: true,\n      /* Index of renderer in `output_area.display_order` */\n      index: 0\n    });\n  }\n\n  // register the mime type if in Jupyter Notebook environment and previously unregistered\n  if (root.Jupyter !== undefined) {\n    const events = require('base/js/events');\n    const OutputArea = require('notebook/js/outputarea').OutputArea;\n\n    if (OutputArea.prototype.mime_types().indexOf(EXEC_MIME_TYPE) == -1) {\n      register_renderer(events, OutputArea);\n    }\n  }\n\n  \n  if (typeof (root._bokeh_timeout) === \"undefined\" || force === true) {\n    root._bokeh_timeout = Date.now() + 5000;\n    root._bokeh_failed_load = false;\n  }\n\n  const NB_LOAD_WARNING = {'data': {'text/html':\n     \"<div style='background-color: #fdd'>\\n\"+\n     \"<p>\\n\"+\n     \"BokehJS does not appear to have successfully loaded. If loading BokehJS from CDN, this \\n\"+\n     \"may be due to a slow or bad network connection. Possible fixes:\\n\"+\n     \"</p>\\n\"+\n     \"<ul>\\n\"+\n     \"<li>re-rerun `output_notebook()` to attempt to load from CDN again, or</li>\\n\"+\n     \"<li>use INLINE resources instead, as so:</li>\\n\"+\n     \"</ul>\\n\"+\n     \"<code>\\n\"+\n     \"from bokeh.resources import INLINE\\n\"+\n     \"output_notebook(resources=INLINE)\\n\"+\n     \"</code>\\n\"+\n     \"</div>\"}};\n\n  function display_loaded() {\n    const el = document.getElementById(\"1324\");\n    if (el != null) {\n      el.textContent = \"BokehJS is loading...\";\n    }\n    if (root.Bokeh !== undefined) {\n      if (el != null) {\n        el.textContent = \"BokehJS \" + root.Bokeh.version + \" successfully loaded.\";\n      }\n    } else if (Date.now() < root._bokeh_timeout) {\n      setTimeout(display_loaded, 100)\n    }\n  }\n\n\n  function run_callbacks() {\n    try {\n      root._bokeh_onload_callbacks.forEach(function(callback) {\n        if (callback != null)\n          callback();\n      });\n    } finally {\n      delete root._bokeh_onload_callbacks\n    }\n    console.debug(\"Bokeh: all callbacks have finished\");\n  }\n\n  function load_libs(css_urls, js_urls, callback) {\n    if (css_urls == null) css_urls = [];\n    if (js_urls == null) js_urls = [];\n\n    root._bokeh_onload_callbacks.push(callback);\n    if (root._bokeh_is_loading > 0) {\n      console.debug(\"Bokeh: BokehJS is being loaded, scheduling callback at\", now());\n      return null;\n    }\n    if (js_urls == null || js_urls.length === 0) {\n      run_callbacks();\n      return null;\n    }\n    console.debug(\"Bokeh: BokehJS not loaded, scheduling load and callback at\", now());\n    root._bokeh_is_loading = css_urls.length + js_urls.length;\n\n    function on_load() {\n      root._bokeh_is_loading--;\n      if (root._bokeh_is_loading === 0) {\n        console.debug(\"Bokeh: all BokehJS libraries/stylesheets loaded\");\n        run_callbacks()\n      }\n    }\n\n    function on_error(url) {\n      console.error(\"failed to load \" + url);\n    }\n\n    for (let i = 0; i < css_urls.length; i++) {\n      const url = css_urls[i];\n      const element = document.createElement(\"link\");\n      element.onload = on_load;\n      element.onerror = on_error.bind(null, url);\n      element.rel = \"stylesheet\";\n      element.type = \"text/css\";\n      element.href = url;\n      console.debug(\"Bokeh: injecting link tag for BokehJS stylesheet: \", url);\n      document.body.appendChild(element);\n    }\n\n    for (let i = 0; i < js_urls.length; i++) {\n      const url = js_urls[i];\n      const element = document.createElement('script');\n      element.onload = on_load;\n      element.onerror = on_error.bind(null, url);\n      element.async = false;\n      element.src = url;\n      console.debug(\"Bokeh: injecting script tag for BokehJS library: \", url);\n      document.head.appendChild(element);\n    }\n  };\n\n  function inject_raw_css(css) {\n    const element = document.createElement(\"style\");\n    element.appendChild(document.createTextNode(css));\n    document.body.appendChild(element);\n  }\n\n  \n  const js_urls = [\"https://cdn.bokeh.org/bokeh/release/bokeh-2.4.2.min.js\", \"https://cdn.bokeh.org/bokeh/release/bokeh-gl-2.4.2.min.js\", \"https://cdn.bokeh.org/bokeh/release/bokeh-widgets-2.4.2.min.js\", \"https://cdn.bokeh.org/bokeh/release/bokeh-tables-2.4.2.min.js\", \"https://cdn.bokeh.org/bokeh/release/bokeh-mathjax-2.4.2.min.js\"];\n  const css_urls = [];\n  \n\n  const inline_js = [\n    function(Bokeh) {\n      Bokeh.set_log_level(\"info\");\n    },\n    function(Bokeh) {\n    \n    \n    }\n  ];\n\n  function run_inline_js() {\n    \n    if (root.Bokeh !== undefined || force === true) {\n      \n    for (let i = 0; i < inline_js.length; i++) {\n      inline_js[i].call(root, root.Bokeh);\n    }\n    if (force === true) {\n        display_loaded();\n      }} else if (Date.now() < root._bokeh_timeout) {\n      setTimeout(run_inline_js, 100);\n    } else if (!root._bokeh_failed_load) {\n      console.log(\"Bokeh: BokehJS failed to load within specified timeout.\");\n      root._bokeh_failed_load = true;\n    } else if (force !== true) {\n      const cell = $(document.getElementById(\"1324\")).parents('.cell').data().cell;\n      cell.output_area.append_execute_result(NB_LOAD_WARNING)\n    }\n\n  }\n\n  if (root._bokeh_is_loading === 0) {\n    console.debug(\"Bokeh: BokehJS loaded, going straight to plotting\");\n    run_inline_js();\n  } else {\n    load_libs(css_urls, js_urls, function() {\n      console.debug(\"Bokeh: BokehJS plotting callback run at\", now());\n      run_inline_js();\n    });\n  }\n}(window));",
      "application/vnd.bokehjs_load.v0+json": ""
     },
     "metadata": {},
     "output_type": "display_data"
    },
    {
     "data": {
      "text/html": [
       "\n",
       "\n",
       "\n",
       "\n",
       "\n",
       "\n",
       "  <div class=\"bk-root\" id=\"00b9b10d-0dd5-4f34-be6f-301ebfcb3e35\" data-root-id=\"1325\"></div>\n"
      ]
     },
     "metadata": {},
     "output_type": "display_data"
    },
    {
     "data": {
      "application/javascript": "(function(root) {\n  function embed_document(root) {\n    \n  const docs_json = {\"bfe5d279-3a16-40e4-8190-fdab7feff20c\":{\"defs\":[],\"roots\":{\"references\":[{\"attributes\":{\"below\":[{\"id\":\"1336\"}],\"center\":[{\"id\":\"1339\"},{\"id\":\"1343\"},{\"id\":\"1386\"}],\"height\":500,\"left\":[{\"id\":\"1340\"}],\"renderers\":[{\"id\":\"1374\"},{\"id\":\"1392\"},{\"id\":\"1409\"},{\"id\":\"1426\"},{\"id\":\"1443\"},{\"id\":\"1460\"},{\"id\":\"1483\"},{\"id\":\"1489\"},{\"id\":\"1495\"},{\"id\":\"1501\"},{\"id\":\"1507\"},{\"id\":\"1513\"},{\"id\":\"1519\"}],\"right\":[{\"id\":\"1386\"}],\"title\":{\"id\":\"1326\"},\"toolbar\":{\"id\":\"1351\"},\"width\":900,\"x_range\":{\"id\":\"1328\"},\"x_scale\":{\"id\":\"1332\"},\"y_range\":{\"id\":\"1330\"},\"y_scale\":{\"id\":\"1334\"}},\"id\":\"1325\",\"subtype\":\"Figure\",\"type\":\"Plot\"},{\"attributes\":{\"coordinates\":null,\"data_source\":{\"id\":\"1323\"},\"glyph\":{\"id\":\"1406\"},\"group\":null,\"hover_glyph\":null,\"muted_glyph\":{\"id\":\"1408\"},\"name\":\"Electricity - total solar production\",\"nonselection_glyph\":{\"id\":\"1407\"},\"view\":{\"id\":\"1410\"}},\"id\":\"1409\",\"type\":\"GlyphRenderer\"},{\"attributes\":{\"coordinates\":null,\"data_source\":{\"id\":\"1323\"},\"glyph\":{\"id\":\"1440\"},\"group\":null,\"hover_glyph\":null,\"muted_glyph\":{\"id\":\"1442\"},\"name\":\"Electricity - total geothermal production\",\"nonselection_glyph\":{\"id\":\"1441\"},\"view\":{\"id\":\"1444\"}},\"id\":\"1443\",\"type\":\"GlyphRenderer\"},{\"attributes\":{},\"id\":\"1379\",\"type\":\"AllLabels\"},{\"attributes\":{\"label\":{\"value\":\"Electricity - total solar production\"},\"renderers\":[{\"id\":\"1409\"}]},\"id\":\"1421\",\"type\":\"LegendItem\"},{\"attributes\":{\"label\":{\"value\":\"Electricity - total geothermal production\"},\"renderers\":[{\"id\":\"1443\"}]},\"id\":\"1455\",\"type\":\"LegendItem\"},{\"attributes\":{\"source\":{\"id\":\"1323\"}},\"id\":\"1410\",\"type\":\"CDSView\"},{\"attributes\":{\"source\":{\"id\":\"1323\"}},\"id\":\"1444\",\"type\":\"CDSView\"},{\"attributes\":{\"fill_alpha\":0.1,\"fill_color\":\"#e6f598\",\"hatch_alpha\":{\"value\":0.1},\"hatch_color\":{\"value\":\"#e6f598\"},\"x\":{\"field\":\"year\"},\"y1\":{\"expr\":{\"id\":\"1362\"}},\"y2\":{\"expr\":{\"id\":\"1363\"}}},\"id\":\"1407\",\"type\":\"VArea\"},{\"attributes\":{\"data\":{\"Electricity - Gross production\":{\"__ndarray__\":\"m8k32w0ryUDJxoMtYAbKQBxiF6Cn3MpAzhDY5ktty0CmuKrsTBHMQHw705Wd6MxAof5pWQtEzkCTQDnA/nbOQDUomgeTq89AtJw6RQlr0ECtKMpKdi7RQGA00KHF7dFASBVq8hqg0kDMuW8QR3DTQGqKW+CewdNAZNCm9q+900C0DovEFwzVQNUwnXlup9VAicmuDGkm1kDFmC+4VufWQM4xY+yOWNdA\",\"dtype\":\"float64\",\"order\":\"little\",\"shape\":[21]},\"Electricity - total geothermal production\":{\"__ndarray__\":\"pHA9CtdTREAMAiuHFvlDQN0kBoGVI0VA3SQGgZVDRUBqTfOOU5xGQOOlm8QgSEhAS1mGONbVSECJQWDl0LpJQGRd3EYDGEpALv8h/fblSkALRiV1AgpMQHNdnQiHKU1A7j0BuWnlTUDYoC+9/U5PQDltfNztRVBApqJnad3VUEDg0RCfhR1RQHtA6sCDZFFAFNBE2PCeUUDD0ytlGfJRQNV46SYxJFNA\",\"dtype\":\"float64\",\"order\":\"little\",\"shape\":[21]},\"Electricity - total geothermal production %\":{\"__ndarray__\":\"rLwiekMx1D/kBsAGDDDTP/FwXanGrNM/yfE28Uxi0z+gRHC6HiTUPxCNH9INANU/8ik5UCeE1D8KetiPyR3VP4UcT5OdmtQ/PNiACCt91D+DUMhmgWnUP/DwlMHsWNQ/dC9AIN0T1D9yxopDjibUPx7AGts7n9Q/mi9s2elf1T+Xl0+QUl7UP0g9OpxvG9Q/jeNA5hHs0z/nj3uMqprTP4neWw8ghdQ/\",\"dtype\":\"float64\",\"order\":\"little\",\"shape\":[21]},\"Electricity - total nuclear production\":{\"__ndarray__\":\"EoPAyqGGoUArhxbZjjiiQAwCK4eW4qJAexSuRyGyokDJdr6fmhqjQCGwcmgRxqNAzMzMzAw6pEB56SYxyJqkQJQYBFaOyaRAnMQgsLKWpECwcmiRbWSlQIGVQ4vsn6VA1XjpJvHOpUCS7Xw/dT6lQKJFtvO9WaVAj8L1KFwQpUB/arx0k4ilQOxRuB5FLaRAMQisHJo4o0DAyqFFNl6jQP7UeOmmzqNA\",\"dtype\":\"float64\",\"order\":\"little\",\"shape\":[21]},\"Electricity - total nuclear production %\":{\"__ndarray__\":\"rNI2LdJoMUCIrXYWJ4ExQKPfgDG+kzFADT5DWfkKMUDzqbiccgQxQNNf6WT1GTFAbEXfvoq1MED/9FboAOkwQN3891j2aTBA+AQKEJRdL0Al3Hd2jCUvQKw5o/opLS5Aq3GTFMNKLUBSEFtlh1grQMBSi8FoDitA7wJB0ka+KkAFns1xW6ApQP0BuQ5vUydAw4oEnzu7JUDDwdfCbSglQC2YVs3cOyVA\",\"dtype\":\"float64\",\"order\":\"little\",\"shape\":[21]},\"Electricity - total solar production\":{\"__ndarray__\":\"76fGSzeJ7T/fT42XbhLvPwisHFpkO/E/WFLuPsfH8j/Q8jy4O6vyP9e/6zNnPfE/DoelgR+V9z+uvU9VoUH8P2yVYHE4EwFAlNv2PepvBEBButi0UggKQKeiJJ0f6hFAaMviv6IXGEBEsfRRXvYfQCE/XetNLClAs57Wz9eXNECC1YZv/5ZAQFDNwsQMa09AA8ngWCquV0BiGNm7LBFhQM6XQDehA2dA\",\"dtype\":\"float64\",\"order\":\"little\",\"shape\":[21]},\"Electricity - total solar production %\":{\"__ndarray__\":\"SEO96flWfT/ZXzYlrNl9Pxi0iY3bCYA/BIE0VbUegT/H7vqxPaGAP12qEgHq0X0/vSYD+jZ7gz+DL/FkoDCHP2KLJfkh94o/jAxqsn4ijz+gYr88jPOSPzGYZjjB/5g/cSFvaAwuoD/ZI1EvSJKkP6u2w6V75q8/NPBW5kMluj+KIuCsOr7DP8RPAhUuKdI/zyOEcuLF2j8pU1+H9KTiP/ukRX34q+g/\",\"dtype\":\"float64\",\"order\":\"little\",\"shape\":[21]},\"Electricity - total thermal production\":{\"__ndarray__\":\"/mDguXfov0B8bleecGTAQJRt4A5n+sBAtTaN7X+FwUAv6w/ebwfCQKBpLtzWqcJA87G7QFXCw0BjuJW5wfrDQE3dlV289sRAbApkdrAexkCcxYuFtw/HQL2PxEdHNshAuC2A3+ZJyUC6fqjR/ebKQMbBY0eWJMtAXKs4s0nxykBt7wnIg+LMQCdWPjLcKM5A7AOgvPbEzkC8EtQyZ6/PQNTbuCgEA9BA\",\"dtype\":\"float64\",\"order\":\"little\",\"shape\":[21]},\"Electricity - total thermal production %\":{\"__ndarray__\":\"K7J/bTGyT0CwZFGI4X5PQIg5TyC9mk9A2BLRwdjxT0ALl7+tVQ9QQFO8cUkkJFBABN3yEqVSUEAfiVnOq2VQQAuMvgSjjVBAlsuKVGDZUEDy/wnn1clQQLwpAA265FBAAVRu5Lr7UEBH42dcj1BRQH5e5+LDMlFAgRz8TnwaUUDu3FXB/y9RQCwyg0PxblFAiGyiDdlkUUC1KMUcg05RQI2WLcw+KlFA\",\"dtype\":\"float64\",\"order\":\"little\",\"shape\":[21]},\"Electricity - total tide, wave and hydro production\":{\"__ndarray__\":\"O+RmuAXyokCaLQ+I5uujQCUfYFJxO6RAG48IfMh7pEAJt8axX46kQIqFa//gpKRAiKx/ISUmpUDS0sve5J2kQHHanf90LKVAqYzaWDxIpUBXwE77S56mQJCVqZPdkKdAwftPo81rqECgDnVpqa6oQHX4tT9BsKlAZCaL2vENqkDfxVYrBoirQAC/69ipwatA70kvgzg7rUBgeZCeZkyuQFYa5yXdGa9A\",\"dtype\":\"float64\",\"order\":\"little\",\"shape\":[21]},\"Electricity - total tide, wave and hydro production %\":{\"__ndarray__\":\"rsJg/cvRMkD3vTTFYCMzQPznXH621DJA1vfcKCqsMkBM1LHKnE8yQBQ5LGmo2jFA3xzk+ZN4MUAFpGy9juswQOeuw0EOuDBAr9nc4gU2MEBDIBNgRHcwQG6HdStQcTBA9iv60pJmMECdvg//jMUvQP738hbZRjBAD/5cTyqKMEA7T+Qk02EwQD3a4wVWCzBAak1w0EOGMECe9u5sm4wwQFYOHfKnqzBA\",\"dtype\":\"float64\",\"order\":\"little\",\"shape\":[21]},\"Electricity - total wind production\":{\"__ndarray__\":\"0ZFc/kP6HEAm5IOezWofQA8LtaZ5pyJAFmpN846TJ0CJQWDl0GIvQHctIR/0XDVAVn2utmK/PkBIFjCBW7NCQCb+KOrM2UlA96xrtBx0T0BM4UGz66RUQHx1G/VMXFlA7GJgPhUTYEDG/QWKEZJkQN/REJ/FsGlAtbfGLYc4b0COklfnmEV1QJBPyM4bJXtAj6DflGVOgEA1Cklm9S6EQANckC1rGIZA\",\"dtype\":\"float64\",\"order\":\"little\",\"shape\":[21]},\"Electricity - total wind production %\":{\"__ndarray__\":\"Lw2/w/nIrD8aQO+okS6uP+hSnmy5XLE/bxcizu99tT8zIyX3PvW7P1A1cx3becI/cU2CqHtmyT+jOSFF87HOP7y6cO99adQ/PDWpvnH11z/3Maj3tw7eP1TsePzfseE/g1yyyTKX5T/096bgn3rqP8d8qfYsR/A/l2xgBMLR8z9z9ibUpVD5Px+e3t6uYf8/pTcFwZJvAkCz5hyBdwwGQNt1zZLRrwdA\",\"dtype\":\"float64\",\"order\":\"little\",\"shape\":[21]},\"index\":[0,1,2,3,4,5,6,7,8,9,10,11,12,13,14,15,16,17,18,19,20],\"year\":[1994,1995,1996,1997,1998,1999,2000,2001,2002,2003,2004,2005,2006,2007,2008,2009,2010,2011,2012,2013,2014]},\"selected\":{\"id\":\"1384\"},\"selection_policy\":{\"id\":\"1383\"}},\"id\":\"1323\",\"type\":\"ColumnDataSource\"},{\"attributes\":{\"fill_color\":\"#fee08b\",\"hatch_color\":{\"value\":\"#fee08b\"},\"x\":{\"field\":\"year\"},\"y1\":{\"expr\":{\"id\":\"1364\"}},\"y2\":{\"expr\":{\"id\":\"1365\"}}},\"id\":\"1423\",\"type\":\"VArea\"},{\"attributes\":{\"label\":{\"value\":\"Electricity - total nuclear production\"},\"renderers\":[{\"id\":\"1426\"}]},\"id\":\"1438\",\"type\":\"LegendItem\"},{\"attributes\":{\"x\":{\"field\":\"year\"},\"y\":{\"expr\":{\"id\":\"1476\"}}},\"id\":\"1498\",\"type\":\"Line\"},{\"attributes\":{\"fill_alpha\":0.2,\"fill_color\":\"#e6f598\",\"hatch_alpha\":{\"value\":0.2},\"hatch_color\":{\"value\":\"#e6f598\"},\"x\":{\"field\":\"year\"},\"y1\":{\"expr\":{\"id\":\"1362\"}},\"y2\":{\"expr\":{\"id\":\"1363\"}}},\"id\":\"1408\",\"type\":\"VArea\"},{\"attributes\":{\"fill_color\":\"#d53e4f\",\"hatch_color\":{\"value\":\"#d53e4f\"},\"x\":{\"field\":\"year\"},\"y1\":{\"expr\":{\"id\":\"1368\"}},\"y2\":{\"expr\":{\"id\":\"1369\"}}},\"id\":\"1457\",\"type\":\"VArea\"},{\"attributes\":{\"fill_alpha\":0.1,\"fill_color\":\"#fee08b\",\"hatch_alpha\":{\"value\":0.1},\"hatch_color\":{\"value\":\"#fee08b\"},\"x\":{\"field\":\"year\"},\"y1\":{\"expr\":{\"id\":\"1364\"}},\"y2\":{\"expr\":{\"id\":\"1365\"}}},\"id\":\"1424\",\"type\":\"VArea\"},{\"attributes\":{\"fill_alpha\":0.2,\"fill_color\":\"#fee08b\",\"hatch_alpha\":{\"value\":0.2},\"hatch_color\":{\"value\":\"#fee08b\"},\"x\":{\"field\":\"year\"},\"y1\":{\"expr\":{\"id\":\"1364\"}},\"y2\":{\"expr\":{\"id\":\"1365\"}}},\"id\":\"1425\",\"type\":\"VArea\"},{\"attributes\":{\"coordinates\":null,\"data_source\":{\"id\":\"1323\"},\"glyph\":{\"id\":\"1498\"},\"group\":null,\"hover_glyph\":null,\"muted_glyph\":{\"id\":\"1500\"},\"name\":\"Electricity - total nuclear production\",\"nonselection_glyph\":{\"id\":\"1499\"},\"view\":{\"id\":\"1502\"}},\"id\":\"1501\",\"type\":\"GlyphRenderer\"},{\"attributes\":{\"fill_alpha\":0.1,\"fill_color\":\"#d53e4f\",\"hatch_alpha\":{\"value\":0.1},\"hatch_color\":{\"value\":\"#d53e4f\"},\"x\":{\"field\":\"year\"},\"y1\":{\"expr\":{\"id\":\"1368\"}},\"y2\":{\"expr\":{\"id\":\"1369\"}}},\"id\":\"1458\",\"type\":\"VArea\"},{\"attributes\":{\"coordinates\":null,\"data_source\":{\"id\":\"1323\"},\"glyph\":{\"id\":\"1423\"},\"group\":null,\"hover_glyph\":null,\"muted_glyph\":{\"id\":\"1425\"},\"name\":\"Electricity - total nuclear production\",\"nonselection_glyph\":{\"id\":\"1424\"},\"view\":{\"id\":\"1427\"}},\"id\":\"1426\",\"type\":\"GlyphRenderer\"},{\"attributes\":{\"fill_alpha\":0.2,\"fill_color\":\"#d53e4f\",\"hatch_alpha\":{\"value\":0.2},\"hatch_color\":{\"value\":\"#d53e4f\"},\"x\":{\"field\":\"year\"},\"y1\":{\"expr\":{\"id\":\"1368\"}},\"y2\":{\"expr\":{\"id\":\"1369\"}}},\"id\":\"1459\",\"type\":\"VArea\"},{\"attributes\":{\"source\":{\"id\":\"1323\"}},\"id\":\"1427\",\"type\":\"CDSView\"},{\"attributes\":{\"coordinates\":null,\"data_source\":{\"id\":\"1323\"},\"glyph\":{\"id\":\"1457\"},\"group\":null,\"hover_glyph\":null,\"muted_glyph\":{\"id\":\"1459\"},\"name\":\"Electricity - total thermal production\",\"nonselection_glyph\":{\"id\":\"1458\"},\"view\":{\"id\":\"1461\"}},\"id\":\"1460\",\"type\":\"GlyphRenderer\"},{\"attributes\":{\"line_alpha\":0.1,\"x\":{\"field\":\"year\"},\"y\":{\"expr\":{\"id\":\"1476\"}}},\"id\":\"1499\",\"type\":\"Line\"},{\"attributes\":{\"fill_alpha\":0.2,\"fill_color\":\"#fc8d59\",\"hatch_alpha\":{\"value\":0.2},\"hatch_color\":{\"value\":\"#fc8d59\"},\"x\":{\"field\":\"year\"},\"y1\":{\"expr\":{\"id\":\"1366\"}},\"y2\":{\"expr\":{\"id\":\"1367\"}}},\"id\":\"1442\",\"type\":\"VArea\"},{\"attributes\":{},\"id\":\"1384\",\"type\":\"Selection\"},{\"attributes\":{\"source\":{\"id\":\"1323\"}},\"id\":\"1461\",\"type\":\"CDSView\"},{\"attributes\":{},\"id\":\"1383\",\"type\":\"UnionRenderers\"},{\"attributes\":{\"label\":{\"value\":\"Electricity - total thermal production\"},\"renderers\":[{\"id\":\"1460\"}]},\"id\":\"1472\",\"type\":\"LegendItem\"},{\"attributes\":{\"fill_color\":\"#99d594\",\"hatch_color\":{\"value\":\"#99d594\"},\"x\":{\"field\":\"year\"},\"y1\":{\"expr\":{\"id\":\"1360\"}},\"y2\":{\"expr\":{\"id\":\"1361\"}}},\"id\":\"1389\",\"type\":\"VArea\"},{\"attributes\":{\"source\":{\"id\":\"1323\"}},\"id\":\"1393\",\"type\":\"CDSView\"},{\"attributes\":{\"fill_alpha\":0.1,\"fill_color\":\"#99d594\",\"hatch_alpha\":{\"value\":0.1},\"hatch_color\":{\"value\":\"#99d594\"},\"x\":{\"field\":\"year\"},\"y1\":{\"expr\":{\"id\":\"1360\"}},\"y2\":{\"expr\":{\"id\":\"1361\"}}},\"id\":\"1390\",\"type\":\"VArea\"},{\"attributes\":{\"fill_alpha\":0.2,\"fill_color\":\"#99d594\",\"hatch_alpha\":{\"value\":0.2},\"hatch_color\":{\"value\":\"#99d594\"},\"x\":{\"field\":\"year\"},\"y1\":{\"expr\":{\"id\":\"1360\"}},\"y2\":{\"expr\":{\"id\":\"1361\"}}},\"id\":\"1391\",\"type\":\"VArea\"},{\"attributes\":{\"coordinates\":null,\"data_source\":{\"id\":\"1323\"},\"glyph\":{\"id\":\"1389\"},\"group\":null,\"hover_glyph\":null,\"muted_glyph\":{\"id\":\"1391\"},\"name\":\"Electricity - total wind production\",\"nonselection_glyph\":{\"id\":\"1390\"},\"view\":{\"id\":\"1393\"}},\"id\":\"1392\",\"type\":\"GlyphRenderer\"},{\"attributes\":{\"fill_color\":\"#e6f598\",\"hatch_color\":{\"value\":\"#e6f598\"},\"x\":{\"field\":\"year\"},\"y1\":{\"expr\":{\"id\":\"1362\"}},\"y2\":{\"expr\":{\"id\":\"1363\"}}},\"id\":\"1406\",\"type\":\"VArea\"},{\"attributes\":{\"fill_color\":\"#fc8d59\",\"hatch_color\":{\"value\":\"#fc8d59\"},\"x\":{\"field\":\"year\"},\"y1\":{\"expr\":{\"id\":\"1366\"}},\"y2\":{\"expr\":{\"id\":\"1367\"}}},\"id\":\"1440\",\"type\":\"VArea\"},{\"attributes\":{\"fill_alpha\":0.1,\"fill_color\":\"#fc8d59\",\"hatch_alpha\":{\"value\":0.1},\"hatch_color\":{\"value\":\"#fc8d59\"},\"x\":{\"field\":\"year\"},\"y1\":{\"expr\":{\"id\":\"1366\"}},\"y2\":{\"expr\":{\"id\":\"1367\"}}},\"id\":\"1441\",\"type\":\"VArea\"},{\"attributes\":{\"fields\":[\"Electricity - total tide, wave and hydro production\"]},\"id\":\"1473\",\"type\":\"Stack\"},{\"attributes\":{},\"id\":\"1378\",\"type\":\"BasicTickFormatter\"},{\"attributes\":{\"fields\":[\"Electricity - total tide, wave and hydro production\",\"Electricity - total wind production\",\"Electricity - total solar production\"]},\"id\":\"1363\",\"type\":\"Stack\"},{\"attributes\":{\"fields\":[\"Electricity - total tide, wave and hydro production\",\"Electricity - total wind production\",\"Electricity - total solar production\"]},\"id\":\"1475\",\"type\":\"Stack\"},{\"attributes\":{\"line_alpha\":0.2,\"x\":{\"field\":\"year\"},\"y\":{\"expr\":{\"id\":\"1477\"}}},\"id\":\"1506\",\"type\":\"Line\"},{\"attributes\":{\"fields\":[\"Electricity - total tide, wave and hydro production\",\"Electricity - total wind production\",\"Electricity - total solar production\",\"Electricity - total nuclear production\"]},\"id\":\"1476\",\"type\":\"Stack\"},{\"attributes\":{\"overlay\":{\"id\":\"1350\"}},\"id\":\"1346\",\"type\":\"BoxZoomTool\"},{\"attributes\":{\"fields\":[\"Electricity - total tide, wave and hydro production\",\"Electricity - total wind production\",\"Electricity - total solar production\",\"Electricity - total nuclear production\"]},\"id\":\"1365\",\"type\":\"Stack\"},{\"attributes\":{\"fields\":[\"Electricity - total tide, wave and hydro production\",\"Electricity - total wind production\"]},\"id\":\"1474\",\"type\":\"Stack\"},{\"attributes\":{\"line_alpha\":0.2,\"x\":{\"field\":\"year\"},\"y\":{\"expr\":{\"id\":\"1476\"}}},\"id\":\"1500\",\"type\":\"Line\"},{\"attributes\":{\"fields\":[\"Electricity - total tide, wave and hydro production\",\"Electricity - total wind production\",\"Electricity - total solar production\",\"Electricity - total nuclear production\",\"Electricity - total geothermal production\"]},\"id\":\"1367\",\"type\":\"Stack\"},{\"attributes\":{\"line_alpha\":0.1,\"x\":{\"field\":\"year\"},\"y\":{\"expr\":{\"id\":\"1473\"}}},\"id\":\"1481\",\"type\":\"Line\"},{\"attributes\":{\"axis\":{\"id\":\"1340\"},\"coordinates\":null,\"dimension\":1,\"group\":null,\"ticker\":null},\"id\":\"1343\",\"type\":\"Grid\"},{\"attributes\":{\"fields\":[\"Electricity - total tide, wave and hydro production\",\"Electricity - total wind production\",\"Electricity - total solar production\",\"Electricity - total nuclear production\",\"Electricity - total geothermal production\"]},\"id\":\"1477\",\"type\":\"Stack\"},{\"attributes\":{\"fields\":[\"Electricity - total tide, wave and hydro production\",\"Electricity - total wind production\",\"Electricity - total solar production\",\"Electricity - total nuclear production\"]},\"id\":\"1366\",\"type\":\"Stack\"},{\"attributes\":{\"fields\":[\"Electricity - total tide, wave and hydro production\",\"Electricity - total wind production\",\"Electricity - total solar production\",\"Electricity - total nuclear production\",\"Electricity - total geothermal production\",\"Electricity - total thermal production\"]},\"id\":\"1478\",\"type\":\"Stack\"},{\"attributes\":{\"coordinates\":null,\"data_source\":{\"id\":\"1323\"},\"glyph\":{\"id\":\"1480\"},\"group\":null,\"hover_glyph\":null,\"muted_glyph\":{\"id\":\"1482\"},\"name\":\"Electricity - total tide, wave and hydro production\",\"nonselection_glyph\":{\"id\":\"1481\"},\"view\":{\"id\":\"1484\"}},\"id\":\"1483\",\"type\":\"GlyphRenderer\"},{\"attributes\":{\"line_alpha\":0.1,\"x\":{\"field\":\"year\"},\"y\":{\"expr\":{\"id\":\"1477\"}}},\"id\":\"1505\",\"type\":\"Line\"},{\"attributes\":{\"fields\":[\"Electricity - total tide, wave and hydro production\",\"Electricity - total wind production\"]},\"id\":\"1362\",\"type\":\"Stack\"},{\"attributes\":{\"source\":{\"id\":\"1323\"}},\"id\":\"1484\",\"type\":\"CDSView\"},{\"attributes\":{\"axis\":{\"id\":\"1336\"},\"coordinates\":null,\"group\":null,\"ticker\":null},\"id\":\"1339\",\"type\":\"Grid\"},{\"attributes\":{\"x\":{\"field\":\"year\"},\"y\":{\"expr\":{\"id\":\"1473\"}}},\"id\":\"1480\",\"type\":\"Line\"},{\"attributes\":{\"source\":{\"id\":\"1323\"}},\"id\":\"1490\",\"type\":\"CDSView\"},{\"attributes\":{\"line_alpha\":0.2,\"x\":{\"field\":\"year\"},\"y\":{\"expr\":{\"id\":\"1473\"}}},\"id\":\"1482\",\"type\":\"Line\"},{\"attributes\":{},\"id\":\"1381\",\"type\":\"BasicTickFormatter\"},{\"attributes\":{\"line_color\":\"gray\",\"line_dash\":[4,4],\"line_width\":2,\"x\":{\"field\":\"year\"},\"y\":{\"field\":\"Electricity - Gross production\"}},\"id\":\"1516\",\"type\":\"Line\"},{\"attributes\":{\"coordinates\":null,\"group\":null,\"text\":\"Electricity Production at World by Source 1994-2014\"},\"id\":\"1326\",\"type\":\"Title\"},{\"attributes\":{\"line_alpha\":0.1,\"x\":{\"field\":\"year\"},\"y\":{\"expr\":{\"id\":\"1474\"}}},\"id\":\"1487\",\"type\":\"Line\"},{\"attributes\":{\"coordinates\":null,\"data_source\":{\"id\":\"1323\"},\"glyph\":{\"id\":\"1486\"},\"group\":null,\"hover_glyph\":null,\"muted_glyph\":{\"id\":\"1488\"},\"name\":\"Electricity - total wind production\",\"nonselection_glyph\":{\"id\":\"1487\"},\"view\":{\"id\":\"1490\"}},\"id\":\"1489\",\"type\":\"GlyphRenderer\"},{\"attributes\":{\"source\":{\"id\":\"1323\"}},\"id\":\"1514\",\"type\":\"CDSView\"},{\"attributes\":{\"source\":{\"id\":\"1323\"}},\"id\":\"1496\",\"type\":\"CDSView\"},{\"attributes\":{\"x\":{\"field\":\"year\"},\"y\":{\"expr\":{\"id\":\"1474\"}}},\"id\":\"1486\",\"type\":\"Line\"},{\"attributes\":{\"line_alpha\":0.2,\"x\":{\"field\":\"year\"},\"y\":{\"expr\":{\"id\":\"1474\"}}},\"id\":\"1488\",\"type\":\"Line\"},{\"attributes\":{},\"id\":\"1349\",\"type\":\"HelpTool\"},{\"attributes\":{\"x\":{\"field\":\"year\"},\"y\":{\"expr\":{\"id\":\"1475\"}}},\"id\":\"1492\",\"type\":\"Line\"},{\"attributes\":{\"fields\":[\"Electricity - total tide, wave and hydro production\"]},\"id\":\"1360\",\"type\":\"Stack\"},{\"attributes\":{\"fields\":[\"Electricity - total tide, wave and hydro production\",\"Electricity - total wind production\"]},\"id\":\"1361\",\"type\":\"Stack\"},{\"attributes\":{\"coordinates\":null,\"data_source\":{\"id\":\"1323\"},\"glyph\":{\"id\":\"1492\"},\"group\":null,\"hover_glyph\":null,\"muted_glyph\":{\"id\":\"1494\"},\"name\":\"Electricity - total solar production\",\"nonselection_glyph\":{\"id\":\"1493\"},\"view\":{\"id\":\"1496\"}},\"id\":\"1495\",\"type\":\"GlyphRenderer\"},{\"attributes\":{},\"id\":\"1344\",\"type\":\"PanTool\"},{\"attributes\":{\"coordinates\":null,\"data_source\":{\"id\":\"1323\"},\"glyph\":{\"id\":\"1504\"},\"group\":null,\"hover_glyph\":null,\"muted_glyph\":{\"id\":\"1506\"},\"name\":\"Electricity - total geothermal production\",\"nonselection_glyph\":{\"id\":\"1505\"},\"view\":{\"id\":\"1508\"}},\"id\":\"1507\",\"type\":\"GlyphRenderer\"},{\"attributes\":{\"axis_label\":\"Production TW/h\",\"coordinates\":null,\"formatter\":{\"id\":\"1378\"},\"group\":null,\"major_label_policy\":{\"id\":\"1379\"},\"ticker\":{\"id\":\"1341\"}},\"id\":\"1340\",\"type\":\"LinearAxis\"},{\"attributes\":{\"x\":{\"field\":\"year\"},\"y\":{\"expr\":{\"id\":\"1477\"}}},\"id\":\"1504\",\"type\":\"Line\"},{\"attributes\":{\"line_alpha\":0.1,\"x\":{\"field\":\"year\"},\"y\":{\"expr\":{\"id\":\"1475\"}}},\"id\":\"1493\",\"type\":\"Line\"},{\"attributes\":{\"fields\":[\"Electricity - total tide, wave and hydro production\",\"Electricity - total wind production\",\"Electricity - total solar production\"]},\"id\":\"1364\",\"type\":\"Stack\"},{\"attributes\":{\"line_alpha\":0.2,\"x\":{\"field\":\"year\"},\"y\":{\"expr\":{\"id\":\"1475\"}}},\"id\":\"1494\",\"type\":\"Line\"},{\"attributes\":{},\"id\":\"1382\",\"type\":\"AllLabels\"},{\"attributes\":{\"source\":{\"id\":\"1323\"}},\"id\":\"1502\",\"type\":\"CDSView\"},{\"attributes\":{},\"id\":\"1330\",\"type\":\"DataRange1d\"},{\"attributes\":{\"source\":{\"id\":\"1323\"}},\"id\":\"1508\",\"type\":\"CDSView\"},{\"attributes\":{},\"id\":\"1348\",\"type\":\"ResetTool\"},{\"attributes\":{},\"id\":\"1328\",\"type\":\"DataRange1d\"},{\"attributes\":{\"x\":{\"field\":\"year\"},\"y\":{\"expr\":{\"id\":\"1478\"}}},\"id\":\"1510\",\"type\":\"Line\"},{\"attributes\":{\"axis_label\":\"Year\",\"coordinates\":null,\"formatter\":{\"id\":\"1381\"},\"group\":null,\"major_label_policy\":{\"id\":\"1382\"},\"ticker\":{\"id\":\"1337\"}},\"id\":\"1336\",\"type\":\"LinearAxis\"},{\"attributes\":{\"coordinates\":null,\"data_source\":{\"id\":\"1323\"},\"glyph\":{\"id\":\"1510\"},\"group\":null,\"hover_glyph\":null,\"muted_glyph\":{\"id\":\"1512\"},\"name\":\"Electricity - total thermal production\",\"nonselection_glyph\":{\"id\":\"1511\"},\"view\":{\"id\":\"1514\"}},\"id\":\"1513\",\"type\":\"GlyphRenderer\"},{\"attributes\":{},\"id\":\"1341\",\"type\":\"BasicTicker\"},{\"attributes\":{\"fields\":[\"Electricity - total tide, wave and hydro production\",\"Electricity - total wind production\",\"Electricity - total solar production\",\"Electricity - total nuclear production\",\"Electricity - total geothermal production\",\"Electricity - total thermal production\"]},\"id\":\"1369\",\"type\":\"Stack\"},{\"attributes\":{\"line_alpha\":0.1,\"x\":{\"field\":\"year\"},\"y\":{\"expr\":{\"id\":\"1478\"}}},\"id\":\"1511\",\"type\":\"Line\"},{\"attributes\":{\"fields\":[\"Electricity - total tide, wave and hydro production\"]},\"id\":\"1359\",\"type\":\"Stack\"},{\"attributes\":{\"fill_alpha\":0.1,\"fill_color\":\"#3288bd\",\"hatch_alpha\":{\"value\":0.1},\"hatch_color\":{\"value\":\"#3288bd\"},\"x\":{\"field\":\"year\"},\"y1\":{\"expr\":{\"id\":\"1358\"}},\"y2\":{\"expr\":{\"id\":\"1359\"}}},\"id\":\"1372\",\"type\":\"VArea\"},{\"attributes\":{\"line_alpha\":0.2,\"x\":{\"field\":\"year\"},\"y\":{\"expr\":{\"id\":\"1478\"}}},\"id\":\"1512\",\"type\":\"Line\"},{\"attributes\":{\"label\":{\"value\":\"Electricity - total tide, wave and hydro production\"},\"renderers\":[{\"id\":\"1374\"}]},\"id\":\"1387\",\"type\":\"LegendItem\"},{\"attributes\":{},\"id\":\"1337\",\"type\":\"BasicTicker\"},{\"attributes\":{\"tools\":[{\"id\":\"1344\"},{\"id\":\"1345\"},{\"id\":\"1346\"},{\"id\":\"1347\"},{\"id\":\"1348\"},{\"id\":\"1349\"},{\"id\":\"1532\"}]},\"id\":\"1351\",\"type\":\"Toolbar\"},{\"attributes\":{\"fields\":[]},\"id\":\"1358\",\"type\":\"Stack\"},{\"attributes\":{\"line_alpha\":0.1,\"line_color\":\"gray\",\"line_dash\":[4,4],\"line_width\":2,\"x\":{\"field\":\"year\"},\"y\":{\"field\":\"Electricity - Gross production\"}},\"id\":\"1517\",\"type\":\"Line\"},{\"attributes\":{\"coordinates\":null,\"data_source\":{\"id\":\"1323\"},\"glyph\":{\"id\":\"1516\"},\"group\":null,\"hover_glyph\":null,\"muted_glyph\":{\"id\":\"1518\"},\"nonselection_glyph\":{\"id\":\"1517\"},\"view\":{\"id\":\"1520\"}},\"id\":\"1519\",\"type\":\"GlyphRenderer\"},{\"attributes\":{\"source\":{\"id\":\"1323\"}},\"id\":\"1520\",\"type\":\"CDSView\"},{\"attributes\":{\"fill_color\":\"#3288bd\",\"hatch_color\":{\"value\":\"#3288bd\"},\"x\":{\"field\":\"year\"},\"y1\":{\"expr\":{\"id\":\"1358\"}},\"y2\":{\"expr\":{\"id\":\"1359\"}}},\"id\":\"1371\",\"type\":\"VArea\"},{\"attributes\":{\"line_alpha\":0.2,\"line_color\":\"gray\",\"line_dash\":[4,4],\"line_width\":2,\"x\":{\"field\":\"year\"},\"y\":{\"field\":\"Electricity - Gross production\"}},\"id\":\"1518\",\"type\":\"Line\"},{\"attributes\":{\"fill_alpha\":0.2,\"fill_color\":\"#3288bd\",\"hatch_alpha\":{\"value\":0.2},\"hatch_color\":{\"value\":\"#3288bd\"},\"x\":{\"field\":\"year\"},\"y1\":{\"expr\":{\"id\":\"1358\"}},\"y2\":{\"expr\":{\"id\":\"1359\"}}},\"id\":\"1373\",\"type\":\"VArea\"},{\"attributes\":{},\"id\":\"1347\",\"type\":\"SaveTool\"},{\"attributes\":{\"label\":{\"value\":\"Gross\"},\"renderers\":[{\"id\":\"1519\"}]},\"id\":\"1531\",\"type\":\"LegendItem\"},{\"attributes\":{\"callback\":null,\"tooltips\":[[\"year\",\"@year\"],[\"By Source\",\"@$name{0,0} TWh\"],[\"Total\",\"$y{0,0} TWh\"]]},\"id\":\"1532\",\"type\":\"HoverTool\"},{\"attributes\":{\"coordinates\":null,\"data_source\":{\"id\":\"1323\"},\"glyph\":{\"id\":\"1371\"},\"group\":null,\"hover_glyph\":null,\"muted_glyph\":{\"id\":\"1373\"},\"name\":\"Electricity - total tide, wave and hydro production\",\"nonselection_glyph\":{\"id\":\"1372\"},\"view\":{\"id\":\"1375\"}},\"id\":\"1374\",\"type\":\"GlyphRenderer\"},{\"attributes\":{\"coordinates\":null,\"group\":null,\"items\":[{\"id\":\"1387\"},{\"id\":\"1404\"},{\"id\":\"1421\"},{\"id\":\"1438\"},{\"id\":\"1455\"},{\"id\":\"1472\"},{\"id\":\"1531\"}],\"location\":\"bottom_right\"},\"id\":\"1386\",\"type\":\"Legend\"},{\"attributes\":{},\"id\":\"1345\",\"type\":\"WheelZoomTool\"},{\"attributes\":{\"bottom_units\":\"screen\",\"coordinates\":null,\"fill_alpha\":0.5,\"fill_color\":\"lightgrey\",\"group\":null,\"left_units\":\"screen\",\"level\":\"overlay\",\"line_alpha\":1.0,\"line_color\":\"black\",\"line_dash\":[4,4],\"line_width\":2,\"right_units\":\"screen\",\"syncable\":false,\"top_units\":\"screen\"},\"id\":\"1350\",\"type\":\"BoxAnnotation\"},{\"attributes\":{\"label\":{\"value\":\"Electricity - total wind production\"},\"renderers\":[{\"id\":\"1392\"}]},\"id\":\"1404\",\"type\":\"LegendItem\"},{\"attributes\":{\"source\":{\"id\":\"1323\"}},\"id\":\"1375\",\"type\":\"CDSView\"},{\"attributes\":{},\"id\":\"1332\",\"type\":\"LinearScale\"},{\"attributes\":{\"fields\":[\"Electricity - total tide, wave and hydro production\",\"Electricity - total wind production\",\"Electricity - total solar production\",\"Electricity - total nuclear production\",\"Electricity - total geothermal production\"]},\"id\":\"1368\",\"type\":\"Stack\"},{\"attributes\":{},\"id\":\"1334\",\"type\":\"LinearScale\"}],\"root_ids\":[\"1325\"]},\"title\":\"Bokeh Application\",\"version\":\"2.4.2\"}};\n  const render_items = [{\"docid\":\"bfe5d279-3a16-40e4-8190-fdab7feff20c\",\"root_ids\":[\"1325\"],\"roots\":{\"1325\":\"00b9b10d-0dd5-4f34-be6f-301ebfcb3e35\"}}];\n  root.Bokeh.embed.embed_items_notebook(docs_json, render_items);\n\n  }\n  if (root.Bokeh !== undefined) {\n    embed_document(root);\n  } else {\n    let attempts = 0;\n    const timer = setInterval(function(root) {\n      if (root.Bokeh !== undefined) {\n        clearInterval(timer);\n        embed_document(root);\n      } else {\n        attempts++;\n        if (attempts > 100) {\n          clearInterval(timer);\n          console.log(\"Bokeh: ERROR: Unable to run BokehJS code because BokehJS library is missing\");\n        }\n      }\n    }, 10, root)\n  }\n})(window);",
      "application/vnd.bokehjs_exec.v0+json": ""
     },
     "metadata": {
      "application/vnd.bokehjs_exec.v0+json": {
       "id": "1325"
      }
     },
     "output_type": "display_data"
    }
   ],
   "source": [
    "_production_structure_for_world(df_f)"
   ]
  },
  {
   "cell_type": "code",
   "execution_count": 10,
   "metadata": {},
   "outputs": [],
   "source": [
    "def _perc_stats_for_world(\n",
    "       data: pd.DataFrame,\n",
    "       ) -> pd.DataFrame:\n",
    "       \"\"\" Return percentage share of each sector in production for the world \n",
    "        Working at final_version.csv file \n",
    "        \"\"\"\n",
    "       import seaborn as sns\n",
    "       from bokeh.layouts import gridplot\n",
    "       from bokeh.io import output_notebook, show, reset_output\n",
    "       from bokeh.plotting import figure\n",
    "       from bokeh.models import HoverTool, ColumnDataSource, CDSView, BooleanFilter, Legend\n",
    "       from bokeh.palettes import Spectral\n",
    "       Reverse_Spectral= Spectral.copy()\n",
    "\n",
    "       source_list = ['Electricity - Gross production',\n",
    "              'Electricity - total thermal production',\n",
    "              'Electricity - total tide, wave and hydro production',\n",
    "              'Electricity - total solar production',\n",
    "              'Electricity - total nuclear production',\n",
    "              'Electricity - total wind production',\n",
    "              'Electricity - total geothermal production']\n",
    "       df_fp = data.loc[(data.commodity_transaction.isin(source_list))]\n",
    "\n",
    "       total_by_source_perc = pd.pivot_table(df_fp , values = 'new_quantity', index=['year'], columns =['commodity_transaction'], aggfunc = ('sum'), fill_value=0).reset_index()\n",
    "\n",
    "       names = ['Electricity - total thermal production',\n",
    "              'Electricity - total tide, wave and hydro production',\n",
    "              'Electricity - total solar production',\n",
    "              'Electricity - total nuclear production',\n",
    "              'Electricity - total wind production',\n",
    "              'Electricity - total geothermal production']\n",
    "       nm_gross = ['Gross']\n",
    "\n",
    "       for i in names:\n",
    "              total_by_source_perc[i + ' %'] = (total_by_source_perc[i])*100/(total_by_source_perc[names].sum(axis=1))\n",
    "       \n",
    "       total_by_source_perc = total_by_source_perc.drop(['Electricity - total thermal production',\n",
    "              'Electricity - total tide, wave and hydro production',\n",
    "              'Electricity - total solar production',\n",
    "              'Electricity - total nuclear production',\n",
    "              'Electricity - total wind production',\n",
    "              'Electricity - total geothermal production'], axis=1)  \n",
    "\n",
    "       cm = sns.light_palette(\"blue\", as_cmap=True)\n",
    "       a = total_by_source_perc.style.background_gradient(cmap=cm)\n",
    "       \n",
    "       percentage_names = ['Electricity - total tide, wave and hydro production %',\n",
    "                    'Electricity - total wind production %',\n",
    "                    'Electricity - total solar production %',\n",
    "                    'Electricity - total nuclear production %',\n",
    "                     'Electricity - total geothermal production %',\n",
    "                     'Electricity - total thermal production %']\n",
    "\n",
    "       \n",
    "       output_notebook()\n",
    "       source_perc = ColumnDataSource(total_by_source_perc)\n",
    "       subplot3 = figure( title = 'Percentage share of each sector in production at World',plot_width=900, plot_height=600)\n",
    "       subplot3.vbar_stack(percentage_names,x='year', width=0.5, line_color='black',color= Reverse_Spectral[6],legend_label = percentage_names, source =source_perc)\n",
    "       \n",
    "       tooltips_mix = [\n",
    "       ('year', '@year'),\n",
    "       ('By Source', '@$name{0.00} %'),\n",
    "       ('source','$name')\n",
    "       ]\n",
    "       subplot3.add_layout(subplot3.legend[0], 'right')\n",
    "       subplot3.add_tools(HoverTool(tooltips = tooltips_mix))\n",
    "       show(subplot3)\n",
    "       \n",
    "       return a"
   ]
  },
  {
   "cell_type": "code",
   "execution_count": 11,
   "metadata": {},
   "outputs": [
    {
     "data": {
      "text/html": [
       "\n",
       "    <div class=\"bk-root\">\n",
       "        <a href=\"https://bokeh.org\" target=\"_blank\" class=\"bk-logo bk-logo-small bk-logo-notebook\"></a>\n",
       "        <span id=\"1612\">Loading BokehJS ...</span>\n",
       "    </div>"
      ]
     },
     "metadata": {},
     "output_type": "display_data"
    },
    {
     "data": {
      "application/javascript": "\n(function(root) {\n  function now() {\n    return new Date();\n  }\n\n  const force = true;\n\n  if (typeof root._bokeh_onload_callbacks === \"undefined\" || force === true) {\n    root._bokeh_onload_callbacks = [];\n    root._bokeh_is_loading = undefined;\n  }\n\n  const JS_MIME_TYPE = 'application/javascript';\n  const HTML_MIME_TYPE = 'text/html';\n  const EXEC_MIME_TYPE = 'application/vnd.bokehjs_exec.v0+json';\n  const CLASS_NAME = 'output_bokeh rendered_html';\n\n  /**\n   * Render data to the DOM node\n   */\n  function render(props, node) {\n    const script = document.createElement(\"script\");\n    node.appendChild(script);\n  }\n\n  /**\n   * Handle when an output is cleared or removed\n   */\n  function handleClearOutput(event, handle) {\n    const cell = handle.cell;\n\n    const id = cell.output_area._bokeh_element_id;\n    const server_id = cell.output_area._bokeh_server_id;\n    // Clean up Bokeh references\n    if (id != null && id in Bokeh.index) {\n      Bokeh.index[id].model.document.clear();\n      delete Bokeh.index[id];\n    }\n\n    if (server_id !== undefined) {\n      // Clean up Bokeh references\n      const cmd_clean = \"from bokeh.io.state import curstate; print(curstate().uuid_to_server['\" + server_id + \"'].get_sessions()[0].document.roots[0]._id)\";\n      cell.notebook.kernel.execute(cmd_clean, {\n        iopub: {\n          output: function(msg) {\n            const id = msg.content.text.trim();\n            if (id in Bokeh.index) {\n              Bokeh.index[id].model.document.clear();\n              delete Bokeh.index[id];\n            }\n          }\n        }\n      });\n      // Destroy server and session\n      const cmd_destroy = \"import bokeh.io.notebook as ion; ion.destroy_server('\" + server_id + \"')\";\n      cell.notebook.kernel.execute(cmd_destroy);\n    }\n  }\n\n  /**\n   * Handle when a new output is added\n   */\n  function handleAddOutput(event, handle) {\n    const output_area = handle.output_area;\n    const output = handle.output;\n\n    // limit handleAddOutput to display_data with EXEC_MIME_TYPE content only\n    if ((output.output_type != \"display_data\") || (!Object.prototype.hasOwnProperty.call(output.data, EXEC_MIME_TYPE))) {\n      return\n    }\n\n    const toinsert = output_area.element.find(\".\" + CLASS_NAME.split(' ')[0]);\n\n    if (output.metadata[EXEC_MIME_TYPE][\"id\"] !== undefined) {\n      toinsert[toinsert.length - 1].firstChild.textContent = output.data[JS_MIME_TYPE];\n      // store reference to embed id on output_area\n      output_area._bokeh_element_id = output.metadata[EXEC_MIME_TYPE][\"id\"];\n    }\n    if (output.metadata[EXEC_MIME_TYPE][\"server_id\"] !== undefined) {\n      const bk_div = document.createElement(\"div\");\n      bk_div.innerHTML = output.data[HTML_MIME_TYPE];\n      const script_attrs = bk_div.children[0].attributes;\n      for (let i = 0; i < script_attrs.length; i++) {\n        toinsert[toinsert.length - 1].firstChild.setAttribute(script_attrs[i].name, script_attrs[i].value);\n        toinsert[toinsert.length - 1].firstChild.textContent = bk_div.children[0].textContent\n      }\n      // store reference to server id on output_area\n      output_area._bokeh_server_id = output.metadata[EXEC_MIME_TYPE][\"server_id\"];\n    }\n  }\n\n  function register_renderer(events, OutputArea) {\n\n    function append_mime(data, metadata, element) {\n      // create a DOM node to render to\n      const toinsert = this.create_output_subarea(\n        metadata,\n        CLASS_NAME,\n        EXEC_MIME_TYPE\n      );\n      this.keyboard_manager.register_events(toinsert);\n      // Render to node\n      const props = {data: data, metadata: metadata[EXEC_MIME_TYPE]};\n      render(props, toinsert[toinsert.length - 1]);\n      element.append(toinsert);\n      return toinsert\n    }\n\n    /* Handle when an output is cleared or removed */\n    events.on('clear_output.CodeCell', handleClearOutput);\n    events.on('delete.Cell', handleClearOutput);\n\n    /* Handle when a new output is added */\n    events.on('output_added.OutputArea', handleAddOutput);\n\n    /**\n     * Register the mime type and append_mime function with output_area\n     */\n    OutputArea.prototype.register_mime_type(EXEC_MIME_TYPE, append_mime, {\n      /* Is output safe? */\n      safe: true,\n      /* Index of renderer in `output_area.display_order` */\n      index: 0\n    });\n  }\n\n  // register the mime type if in Jupyter Notebook environment and previously unregistered\n  if (root.Jupyter !== undefined) {\n    const events = require('base/js/events');\n    const OutputArea = require('notebook/js/outputarea').OutputArea;\n\n    if (OutputArea.prototype.mime_types().indexOf(EXEC_MIME_TYPE) == -1) {\n      register_renderer(events, OutputArea);\n    }\n  }\n\n  \n  if (typeof (root._bokeh_timeout) === \"undefined\" || force === true) {\n    root._bokeh_timeout = Date.now() + 5000;\n    root._bokeh_failed_load = false;\n  }\n\n  const NB_LOAD_WARNING = {'data': {'text/html':\n     \"<div style='background-color: #fdd'>\\n\"+\n     \"<p>\\n\"+\n     \"BokehJS does not appear to have successfully loaded. If loading BokehJS from CDN, this \\n\"+\n     \"may be due to a slow or bad network connection. Possible fixes:\\n\"+\n     \"</p>\\n\"+\n     \"<ul>\\n\"+\n     \"<li>re-rerun `output_notebook()` to attempt to load from CDN again, or</li>\\n\"+\n     \"<li>use INLINE resources instead, as so:</li>\\n\"+\n     \"</ul>\\n\"+\n     \"<code>\\n\"+\n     \"from bokeh.resources import INLINE\\n\"+\n     \"output_notebook(resources=INLINE)\\n\"+\n     \"</code>\\n\"+\n     \"</div>\"}};\n\n  function display_loaded() {\n    const el = document.getElementById(\"1612\");\n    if (el != null) {\n      el.textContent = \"BokehJS is loading...\";\n    }\n    if (root.Bokeh !== undefined) {\n      if (el != null) {\n        el.textContent = \"BokehJS \" + root.Bokeh.version + \" successfully loaded.\";\n      }\n    } else if (Date.now() < root._bokeh_timeout) {\n      setTimeout(display_loaded, 100)\n    }\n  }\n\n\n  function run_callbacks() {\n    try {\n      root._bokeh_onload_callbacks.forEach(function(callback) {\n        if (callback != null)\n          callback();\n      });\n    } finally {\n      delete root._bokeh_onload_callbacks\n    }\n    console.debug(\"Bokeh: all callbacks have finished\");\n  }\n\n  function load_libs(css_urls, js_urls, callback) {\n    if (css_urls == null) css_urls = [];\n    if (js_urls == null) js_urls = [];\n\n    root._bokeh_onload_callbacks.push(callback);\n    if (root._bokeh_is_loading > 0) {\n      console.debug(\"Bokeh: BokehJS is being loaded, scheduling callback at\", now());\n      return null;\n    }\n    if (js_urls == null || js_urls.length === 0) {\n      run_callbacks();\n      return null;\n    }\n    console.debug(\"Bokeh: BokehJS not loaded, scheduling load and callback at\", now());\n    root._bokeh_is_loading = css_urls.length + js_urls.length;\n\n    function on_load() {\n      root._bokeh_is_loading--;\n      if (root._bokeh_is_loading === 0) {\n        console.debug(\"Bokeh: all BokehJS libraries/stylesheets loaded\");\n        run_callbacks()\n      }\n    }\n\n    function on_error(url) {\n      console.error(\"failed to load \" + url);\n    }\n\n    for (let i = 0; i < css_urls.length; i++) {\n      const url = css_urls[i];\n      const element = document.createElement(\"link\");\n      element.onload = on_load;\n      element.onerror = on_error.bind(null, url);\n      element.rel = \"stylesheet\";\n      element.type = \"text/css\";\n      element.href = url;\n      console.debug(\"Bokeh: injecting link tag for BokehJS stylesheet: \", url);\n      document.body.appendChild(element);\n    }\n\n    for (let i = 0; i < js_urls.length; i++) {\n      const url = js_urls[i];\n      const element = document.createElement('script');\n      element.onload = on_load;\n      element.onerror = on_error.bind(null, url);\n      element.async = false;\n      element.src = url;\n      console.debug(\"Bokeh: injecting script tag for BokehJS library: \", url);\n      document.head.appendChild(element);\n    }\n  };\n\n  function inject_raw_css(css) {\n    const element = document.createElement(\"style\");\n    element.appendChild(document.createTextNode(css));\n    document.body.appendChild(element);\n  }\n\n  \n  const js_urls = [\"https://cdn.bokeh.org/bokeh/release/bokeh-2.4.2.min.js\", \"https://cdn.bokeh.org/bokeh/release/bokeh-gl-2.4.2.min.js\", \"https://cdn.bokeh.org/bokeh/release/bokeh-widgets-2.4.2.min.js\", \"https://cdn.bokeh.org/bokeh/release/bokeh-tables-2.4.2.min.js\", \"https://cdn.bokeh.org/bokeh/release/bokeh-mathjax-2.4.2.min.js\"];\n  const css_urls = [];\n  \n\n  const inline_js = [\n    function(Bokeh) {\n      Bokeh.set_log_level(\"info\");\n    },\n    function(Bokeh) {\n    \n    \n    }\n  ];\n\n  function run_inline_js() {\n    \n    if (root.Bokeh !== undefined || force === true) {\n      \n    for (let i = 0; i < inline_js.length; i++) {\n      inline_js[i].call(root, root.Bokeh);\n    }\n    if (force === true) {\n        display_loaded();\n      }} else if (Date.now() < root._bokeh_timeout) {\n      setTimeout(run_inline_js, 100);\n    } else if (!root._bokeh_failed_load) {\n      console.log(\"Bokeh: BokehJS failed to load within specified timeout.\");\n      root._bokeh_failed_load = true;\n    } else if (force !== true) {\n      const cell = $(document.getElementById(\"1612\")).parents('.cell').data().cell;\n      cell.output_area.append_execute_result(NB_LOAD_WARNING)\n    }\n\n  }\n\n  if (root._bokeh_is_loading === 0) {\n    console.debug(\"Bokeh: BokehJS loaded, going straight to plotting\");\n    run_inline_js();\n  } else {\n    load_libs(css_urls, js_urls, function() {\n      console.debug(\"Bokeh: BokehJS plotting callback run at\", now());\n      run_inline_js();\n    });\n  }\n}(window));",
      "application/vnd.bokehjs_load.v0+json": ""
     },
     "metadata": {},
     "output_type": "display_data"
    },
    {
     "data": {
      "text/html": [
       "\n",
       "\n",
       "\n",
       "\n",
       "\n",
       "\n",
       "  <div class=\"bk-root\" id=\"543f2dd0-5017-405c-b2e0-c0a3e89f9527\" data-root-id=\"1614\"></div>\n"
      ]
     },
     "metadata": {},
     "output_type": "display_data"
    },
    {
     "data": {
      "application/javascript": "(function(root) {\n  function embed_document(root) {\n    \n  const docs_json = {\"c842ae23-3390-413c-a3d7-20ff149a558a\":{\"defs\":[],\"roots\":{\"references\":[{\"attributes\":{\"below\":[{\"id\":\"1625\"}],\"center\":[{\"id\":\"1628\"},{\"id\":\"1632\"},{\"id\":\"1675\"}],\"left\":[{\"id\":\"1629\"}],\"renderers\":[{\"id\":\"1663\"},{\"id\":\"1681\"},{\"id\":\"1698\"},{\"id\":\"1715\"},{\"id\":\"1732\"},{\"id\":\"1749\"}],\"right\":[{\"id\":\"1675\"}],\"title\":{\"id\":\"1615\"},\"toolbar\":{\"id\":\"1640\"},\"width\":900,\"x_range\":{\"id\":\"1617\"},\"x_scale\":{\"id\":\"1621\"},\"y_range\":{\"id\":\"1619\"},\"y_scale\":{\"id\":\"1623\"}},\"id\":\"1614\",\"subtype\":\"Figure\",\"type\":\"Plot\"},{\"attributes\":{},\"id\":\"1672\",\"type\":\"UnionRenderers\"},{\"attributes\":{\"bottom\":{\"expr\":{\"id\":\"1651\"}},\"fill_color\":{\"value\":\"#e6f598\"},\"hatch_color\":{\"value\":\"#e6f598\"},\"top\":{\"expr\":{\"id\":\"1652\"}},\"width\":{\"value\":0.5},\"x\":{\"field\":\"year\"}},\"id\":\"1695\",\"type\":\"VBar\"},{\"attributes\":{\"source\":{\"id\":\"1613\"}},\"id\":\"1682\",\"type\":\"CDSView\"},{\"attributes\":{},\"id\":\"1634\",\"type\":\"WheelZoomTool\"},{\"attributes\":{\"coordinates\":null,\"group\":null,\"items\":[{\"id\":\"1676\"},{\"id\":\"1693\"},{\"id\":\"1710\"},{\"id\":\"1727\"},{\"id\":\"1744\"},{\"id\":\"1761\"}]},\"id\":\"1675\",\"type\":\"Legend\"},{\"attributes\":{},\"id\":\"1633\",\"type\":\"PanTool\"},{\"attributes\":{},\"id\":\"1636\",\"type\":\"SaveTool\"},{\"attributes\":{},\"id\":\"1671\",\"type\":\"AllLabels\"},{\"attributes\":{},\"id\":\"1667\",\"type\":\"BasicTickFormatter\"},{\"attributes\":{},\"id\":\"1668\",\"type\":\"AllLabels\"},{\"attributes\":{\"label\":{\"value\":\"Electricity - total tide, wave and hydro production %\"},\"renderers\":[{\"id\":\"1663\"}]},\"id\":\"1676\",\"type\":\"LegendItem\"},{\"attributes\":{\"label\":{\"value\":\"Electricity - total wind production %\"},\"renderers\":[{\"id\":\"1681\"}]},\"id\":\"1693\",\"type\":\"LegendItem\"},{\"attributes\":{\"bottom\":{\"expr\":{\"id\":\"1649\"}},\"fill_color\":{\"value\":\"#99d594\"},\"hatch_color\":{\"value\":\"#99d594\"},\"top\":{\"expr\":{\"id\":\"1650\"}},\"width\":{\"value\":0.5},\"x\":{\"field\":\"year\"}},\"id\":\"1678\",\"type\":\"VBar\"},{\"attributes\":{},\"id\":\"1638\",\"type\":\"HelpTool\"},{\"attributes\":{\"overlay\":{\"id\":\"1639\"}},\"id\":\"1635\",\"type\":\"BoxZoomTool\"},{\"attributes\":{\"coordinates\":null,\"data_source\":{\"id\":\"1613\"},\"glyph\":{\"id\":\"1678\"},\"group\":null,\"hover_glyph\":null,\"muted_glyph\":{\"id\":\"1680\"},\"name\":\"Electricity - total wind production %\",\"nonselection_glyph\":{\"id\":\"1679\"},\"view\":{\"id\":\"1682\"}},\"id\":\"1681\",\"type\":\"GlyphRenderer\"},{\"attributes\":{\"bottom\":{\"expr\":{\"id\":\"1649\"}},\"fill_alpha\":{\"value\":0.1},\"fill_color\":{\"value\":\"#99d594\"},\"hatch_alpha\":{\"value\":0.1},\"hatch_color\":{\"value\":\"#99d594\"},\"line_alpha\":{\"value\":0.1},\"top\":{\"expr\":{\"id\":\"1650\"}},\"width\":{\"value\":0.5},\"x\":{\"field\":\"year\"}},\"id\":\"1679\",\"type\":\"VBar\"},{\"attributes\":{\"bottom\":{\"expr\":{\"id\":\"1649\"}},\"fill_alpha\":{\"value\":0.2},\"fill_color\":{\"value\":\"#99d594\"},\"hatch_alpha\":{\"value\":0.2},\"hatch_color\":{\"value\":\"#99d594\"},\"line_alpha\":{\"value\":0.2},\"top\":{\"expr\":{\"id\":\"1650\"}},\"width\":{\"value\":0.5},\"x\":{\"field\":\"year\"}},\"id\":\"1680\",\"type\":\"VBar\"},{\"attributes\":{},\"id\":\"1637\",\"type\":\"ResetTool\"},{\"attributes\":{\"source\":{\"id\":\"1613\"}},\"id\":\"1664\",\"type\":\"CDSView\"},{\"attributes\":{},\"id\":\"1673\",\"type\":\"Selection\"},{\"attributes\":{\"axis\":{\"id\":\"1625\"},\"coordinates\":null,\"group\":null,\"ticker\":null},\"id\":\"1628\",\"type\":\"Grid\"},{\"attributes\":{\"label\":{\"value\":\"Electricity - total nuclear production %\"},\"renderers\":[{\"id\":\"1715\"}]},\"id\":\"1727\",\"type\":\"LegendItem\"},{\"attributes\":{\"fields\":[]},\"id\":\"1647\",\"type\":\"Stack\"},{\"attributes\":{\"coordinates\":null,\"formatter\":{\"id\":\"1670\"},\"group\":null,\"major_label_policy\":{\"id\":\"1671\"},\"ticker\":{\"id\":\"1626\"}},\"id\":\"1625\",\"type\":\"LinearAxis\"},{\"attributes\":{\"axis\":{\"id\":\"1629\"},\"coordinates\":null,\"dimension\":1,\"group\":null,\"ticker\":null},\"id\":\"1632\",\"type\":\"Grid\"},{\"attributes\":{},\"id\":\"1617\",\"type\":\"DataRange1d\"},{\"attributes\":{\"fields\":[\"Electricity - total tide, wave and hydro production %\"]},\"id\":\"1648\",\"type\":\"Stack\"},{\"attributes\":{},\"id\":\"1623\",\"type\":\"LinearScale\"},{\"attributes\":{\"coordinates\":null,\"data_source\":{\"id\":\"1613\"},\"glyph\":{\"id\":\"1660\"},\"group\":null,\"hover_glyph\":null,\"muted_glyph\":{\"id\":\"1662\"},\"name\":\"Electricity - total tide, wave and hydro production %\",\"nonselection_glyph\":{\"id\":\"1661\"},\"view\":{\"id\":\"1664\"}},\"id\":\"1663\",\"type\":\"GlyphRenderer\"},{\"attributes\":{\"bottom\":{\"expr\":{\"id\":\"1647\"}},\"fill_alpha\":{\"value\":0.2},\"fill_color\":{\"value\":\"#3288bd\"},\"hatch_alpha\":{\"value\":0.2},\"hatch_color\":{\"value\":\"#3288bd\"},\"line_alpha\":{\"value\":0.2},\"top\":{\"expr\":{\"id\":\"1648\"}},\"width\":{\"value\":0.5},\"x\":{\"field\":\"year\"}},\"id\":\"1662\",\"type\":\"VBar\"},{\"attributes\":{},\"id\":\"1619\",\"type\":\"DataRange1d\"},{\"attributes\":{},\"id\":\"1630\",\"type\":\"BasicTicker\"},{\"attributes\":{\"bottom\":{\"expr\":{\"id\":\"1655\"}},\"fill_color\":{\"value\":\"#fc8d59\"},\"hatch_color\":{\"value\":\"#fc8d59\"},\"top\":{\"expr\":{\"id\":\"1656\"}},\"width\":{\"value\":0.5},\"x\":{\"field\":\"year\"}},\"id\":\"1729\",\"type\":\"VBar\"},{\"attributes\":{\"fields\":[\"Electricity - total tide, wave and hydro production %\",\"Electricity - total wind production %\",\"Electricity - total solar production %\",\"Electricity - total nuclear production %\",\"Electricity - total geothermal production %\"]},\"id\":\"1656\",\"type\":\"Stack\"},{\"attributes\":{\"coordinates\":null,\"data_source\":{\"id\":\"1613\"},\"glyph\":{\"id\":\"1729\"},\"group\":null,\"hover_glyph\":null,\"muted_glyph\":{\"id\":\"1731\"},\"name\":\"Electricity - total geothermal production %\",\"nonselection_glyph\":{\"id\":\"1730\"},\"view\":{\"id\":\"1733\"}},\"id\":\"1732\",\"type\":\"GlyphRenderer\"},{\"attributes\":{\"fields\":[\"Electricity - total tide, wave and hydro production %\",\"Electricity - total wind production %\",\"Electricity - total solar production %\",\"Electricity - total nuclear production %\",\"Electricity - total geothermal production %\",\"Electricity - total thermal production %\"]},\"id\":\"1658\",\"type\":\"Stack\"},{\"attributes\":{\"fields\":[\"Electricity - total tide, wave and hydro production %\",\"Electricity - total wind production %\",\"Electricity - total solar production %\",\"Electricity - total nuclear production %\",\"Electricity - total geothermal production %\"]},\"id\":\"1657\",\"type\":\"Stack\"},{\"attributes\":{\"bottom\":{\"expr\":{\"id\":\"1655\"}},\"fill_alpha\":{\"value\":0.1},\"fill_color\":{\"value\":\"#fc8d59\"},\"hatch_alpha\":{\"value\":0.1},\"hatch_color\":{\"value\":\"#fc8d59\"},\"line_alpha\":{\"value\":0.1},\"top\":{\"expr\":{\"id\":\"1656\"}},\"width\":{\"value\":0.5},\"x\":{\"field\":\"year\"}},\"id\":\"1730\",\"type\":\"VBar\"},{\"attributes\":{\"bottom\":{\"expr\":{\"id\":\"1655\"}},\"fill_alpha\":{\"value\":0.2},\"fill_color\":{\"value\":\"#fc8d59\"},\"hatch_alpha\":{\"value\":0.2},\"hatch_color\":{\"value\":\"#fc8d59\"},\"line_alpha\":{\"value\":0.2},\"top\":{\"expr\":{\"id\":\"1656\"}},\"width\":{\"value\":0.5},\"x\":{\"field\":\"year\"}},\"id\":\"1731\",\"type\":\"VBar\"},{\"attributes\":{\"coordinates\":null,\"data_source\":{\"id\":\"1613\"},\"glyph\":{\"id\":\"1695\"},\"group\":null,\"hover_glyph\":null,\"muted_glyph\":{\"id\":\"1697\"},\"name\":\"Electricity - total solar production %\",\"nonselection_glyph\":{\"id\":\"1696\"},\"view\":{\"id\":\"1699\"}},\"id\":\"1698\",\"type\":\"GlyphRenderer\"},{\"attributes\":{\"source\":{\"id\":\"1613\"}},\"id\":\"1733\",\"type\":\"CDSView\"},{\"attributes\":{\"bottom\":{\"expr\":{\"id\":\"1651\"}},\"fill_alpha\":{\"value\":0.1},\"fill_color\":{\"value\":\"#e6f598\"},\"hatch_alpha\":{\"value\":0.1},\"hatch_color\":{\"value\":\"#e6f598\"},\"line_alpha\":{\"value\":0.1},\"top\":{\"expr\":{\"id\":\"1652\"}},\"width\":{\"value\":0.5},\"x\":{\"field\":\"year\"}},\"id\":\"1696\",\"type\":\"VBar\"},{\"attributes\":{\"fields\":[\"Electricity - total tide, wave and hydro production %\",\"Electricity - total wind production %\"]},\"id\":\"1651\",\"type\":\"Stack\"},{\"attributes\":{\"coordinates\":null,\"group\":null,\"text\":\"Percentage share of each sector in production at World\"},\"id\":\"1615\",\"type\":\"Title\"},{\"attributes\":{\"fields\":[\"Electricity - total tide, wave and hydro production %\"]},\"id\":\"1649\",\"type\":\"Stack\"},{\"attributes\":{\"bottom\":{\"expr\":{\"id\":\"1651\"}},\"fill_alpha\":{\"value\":0.2},\"fill_color\":{\"value\":\"#e6f598\"},\"hatch_alpha\":{\"value\":0.2},\"hatch_color\":{\"value\":\"#e6f598\"},\"line_alpha\":{\"value\":0.2},\"top\":{\"expr\":{\"id\":\"1652\"}},\"width\":{\"value\":0.5},\"x\":{\"field\":\"year\"}},\"id\":\"1697\",\"type\":\"VBar\"},{\"attributes\":{\"label\":{\"value\":\"Electricity - total geothermal production %\"},\"renderers\":[{\"id\":\"1732\"}]},\"id\":\"1744\",\"type\":\"LegendItem\"},{\"attributes\":{\"source\":{\"id\":\"1613\"}},\"id\":\"1699\",\"type\":\"CDSView\"},{\"attributes\":{\"fields\":[\"Electricity - total tide, wave and hydro production %\",\"Electricity - total wind production %\",\"Electricity - total solar production %\"]},\"id\":\"1653\",\"type\":\"Stack\"},{\"attributes\":{\"data\":{\"Electricity - Gross production\":{\"__ndarray__\":\"m8k32w0ryUDJxoMtYAbKQBxiF6Cn3MpAzhDY5ktty0CmuKrsTBHMQHw705Wd6MxAof5pWQtEzkCTQDnA/nbOQDUomgeTq89AtJw6RQlr0ECtKMpKdi7RQGA00KHF7dFASBVq8hqg0kDMuW8QR3DTQGqKW+CewdNAZNCm9q+900C0DovEFwzVQNUwnXlup9VAicmuDGkm1kDFmC+4VufWQM4xY+yOWNdA\",\"dtype\":\"float64\",\"order\":\"little\",\"shape\":[21]},\"Electricity - total geothermal production %\":{\"__ndarray__\":\"q7wiekMx1D/kBsAGDDDTP/JwXanGrNM/yPE28Uxi0z+gRHC6HiTUPxCNH9INANU/8ik5UCeE1D8KetiPyR3VP4YcT5OdmtQ/PNiACCt91D+DUMhmgWnUP/DwlMHsWNQ/dC9AIN0T1D9yxopDjibUPx7AGts7n9Q/mi9s2elf1T+Xl0+QUl7UP0g9OpxvG9Q/juNA5hHs0z/mj3uMqprTP4neWw8ghdQ/\",\"dtype\":\"float64\",\"order\":\"little\",\"shape\":[21]},\"Electricity - total nuclear production %\":{\"__ndarray__\":\"q9I2LdJoMUCIrXYWJ4ExQKTfgDG+kzFACz5DWfkKMUDzqbiccgQxQNRf6WT1GTFAbEXfvoq1MED/9FboAOkwQN7891j2aTBA+AQKEJRdL0Al3Hd2jCUvQKw5o/opLS5Aq3GTFMNKLUBSEFtlh1grQMBSi8FoDitA7wJB0ka+KkAFns1xW6ApQP0BuQ5vUydAxIoEnzu7JUDCwdfCbSglQCyYVs3cOyVA\",\"dtype\":\"float64\",\"order\":\"little\",\"shape\":[21]},\"Electricity - total solar production %\":{\"__ndarray__\":\"R0O96flWfT/ZXzYlrNl9Pxm0iY3bCYA/AoE0VbUegT/I7vqxPaGAP16qEgHq0X0/vSYD+jZ7gz+DL/FkoDCHP2SLJfkh94o/jAxqsn4ijz+gYr88jPOSPzGYZjjB/5g/cSFvaAwuoD/ZI1EvSJKkP6u2w6V75q8/NPBW5kMluj+KIuCsOr7DP8RPAhUuKdI/0COEcuLF2j8oU1+H9KTiP/qkRX34q+g/\",\"dtype\":\"float64\",\"order\":\"little\",\"shape\":[21]},\"Electricity - total thermal production %\":{\"__ndarray__\":\"KrJ/bTGyT0CwZFGI4X5PQIk5TyC9mk9A1hLRwdjxT0AMl7+tVQ9QQFS8cUkkJFBABN3yEqVSUEAfiVnOq2VQQAyMvgSjjVBAlsuKVGDZUEDy/wnn1clQQLwpAA265FBAAVRu5Lr7UEBH42dcj1BRQH5e5+LDMlFAgRz8TnwaUUDu3FXB/y9RQCwyg0PxblFAiWyiDdlkUUC0KMUcg05RQI2WLcw+KlFA\",\"dtype\":\"float64\",\"order\":\"little\",\"shape\":[21]},\"Electricity - total tide, wave and hydro production %\":{\"__ndarray__\":\"rcJg/cvRMkD3vTTFYCMzQP3nXH621DJA1ffcKCqsMkBN1LHKnE8yQBQ5LGmo2jFA3xzk+ZN4MUAFpGy9juswQOiuw0EOuDBAr9nc4gU2MEBDIBNgRHcwQG6HdStQcTBA9iv60pJmMECdvg//jMUvQP738hbZRjBAD/5cTyqKMEA7T+Qk02EwQD3a4wVWCzBAak1w0EOGMECd9u5sm4wwQFYOHfKnqzBA\",\"dtype\":\"float64\",\"order\":\"little\",\"shape\":[21]},\"Electricity - total wind production %\":{\"__ndarray__\":\"Lg2/w/nIrD8aQO+okS6uP+hSnmy5XLE/bRcizu99tT80IyX3PvW7P1E1cx3becI/cU2CqHtmyT+jOSFF87HOP766cO99adQ/PDWpvnH11z/3Maj3tw7eP1TsePzfseE/g1yyyTKX5T/096bgn3rqP8d8qfYsR/A/l2xgBMLR8z9z9ibUpVD5Px+e3t6uYf8/pjcFwZJvAkCy5hyBdwwGQNp1zZLRrwdA\",\"dtype\":\"float64\",\"order\":\"little\",\"shape\":[21]},\"index\":[0,1,2,3,4,5,6,7,8,9,10,11,12,13,14,15,16,17,18,19,20],\"year\":[1994,1995,1996,1997,1998,1999,2000,2001,2002,2003,2004,2005,2006,2007,2008,2009,2010,2011,2012,2013,2014]},\"selected\":{\"id\":\"1673\"},\"selection_policy\":{\"id\":\"1672\"}},\"id\":\"1613\",\"type\":\"ColumnDataSource\"},{\"attributes\":{},\"id\":\"1621\",\"type\":\"LinearScale\"},{\"attributes\":{\"label\":{\"value\":\"Electricity - total solar production %\"},\"renderers\":[{\"id\":\"1698\"}]},\"id\":\"1710\",\"type\":\"LegendItem\"},{\"attributes\":{},\"id\":\"1670\",\"type\":\"BasicTickFormatter\"},{\"attributes\":{},\"id\":\"1626\",\"type\":\"BasicTicker\"},{\"attributes\":{\"fields\":[\"Electricity - total tide, wave and hydro production %\",\"Electricity - total wind production %\"]},\"id\":\"1650\",\"type\":\"Stack\"},{\"attributes\":{\"fields\":[\"Electricity - total tide, wave and hydro production %\",\"Electricity - total wind production %\",\"Electricity - total solar production %\",\"Electricity - total nuclear production %\"]},\"id\":\"1655\",\"type\":\"Stack\"},{\"attributes\":{\"bottom_units\":\"screen\",\"coordinates\":null,\"fill_alpha\":0.5,\"fill_color\":\"lightgrey\",\"group\":null,\"left_units\":\"screen\",\"level\":\"overlay\",\"line_alpha\":1.0,\"line_color\":\"black\",\"line_dash\":[4,4],\"line_width\":2,\"right_units\":\"screen\",\"syncable\":false,\"top_units\":\"screen\"},\"id\":\"1639\",\"type\":\"BoxAnnotation\"},{\"attributes\":{\"bottom\":{\"expr\":{\"id\":\"1657\"}},\"fill_color\":{\"value\":\"#d53e4f\"},\"hatch_color\":{\"value\":\"#d53e4f\"},\"top\":{\"expr\":{\"id\":\"1658\"}},\"width\":{\"value\":0.5},\"x\":{\"field\":\"year\"}},\"id\":\"1746\",\"type\":\"VBar\"},{\"attributes\":{\"coordinates\":null,\"data_source\":{\"id\":\"1613\"},\"glyph\":{\"id\":\"1746\"},\"group\":null,\"hover_glyph\":null,\"muted_glyph\":{\"id\":\"1748\"},\"name\":\"Electricity - total thermal production %\",\"nonselection_glyph\":{\"id\":\"1747\"},\"view\":{\"id\":\"1750\"}},\"id\":\"1749\",\"type\":\"GlyphRenderer\"},{\"attributes\":{\"coordinates\":null,\"formatter\":{\"id\":\"1667\"},\"group\":null,\"major_label_policy\":{\"id\":\"1668\"},\"ticker\":{\"id\":\"1630\"}},\"id\":\"1629\",\"type\":\"LinearAxis\"},{\"attributes\":{\"bottom\":{\"expr\":{\"id\":\"1657\"}},\"fill_alpha\":{\"value\":0.1},\"fill_color\":{\"value\":\"#d53e4f\"},\"hatch_alpha\":{\"value\":0.1},\"hatch_color\":{\"value\":\"#d53e4f\"},\"line_alpha\":{\"value\":0.1},\"top\":{\"expr\":{\"id\":\"1658\"}},\"width\":{\"value\":0.5},\"x\":{\"field\":\"year\"}},\"id\":\"1747\",\"type\":\"VBar\"},{\"attributes\":{\"fields\":[\"Electricity - total tide, wave and hydro production %\",\"Electricity - total wind production %\",\"Electricity - total solar production %\",\"Electricity - total nuclear production %\"]},\"id\":\"1654\",\"type\":\"Stack\"},{\"attributes\":{\"coordinates\":null,\"data_source\":{\"id\":\"1613\"},\"glyph\":{\"id\":\"1712\"},\"group\":null,\"hover_glyph\":null,\"muted_glyph\":{\"id\":\"1714\"},\"name\":\"Electricity - total nuclear production %\",\"nonselection_glyph\":{\"id\":\"1713\"},\"view\":{\"id\":\"1716\"}},\"id\":\"1715\",\"type\":\"GlyphRenderer\"},{\"attributes\":{\"bottom\":{\"expr\":{\"id\":\"1657\"}},\"fill_alpha\":{\"value\":0.2},\"fill_color\":{\"value\":\"#d53e4f\"},\"hatch_alpha\":{\"value\":0.2},\"hatch_color\":{\"value\":\"#d53e4f\"},\"line_alpha\":{\"value\":0.2},\"top\":{\"expr\":{\"id\":\"1658\"}},\"width\":{\"value\":0.5},\"x\":{\"field\":\"year\"}},\"id\":\"1748\",\"type\":\"VBar\"},{\"attributes\":{\"bottom\":{\"expr\":{\"id\":\"1653\"}},\"fill_color\":{\"value\":\"#fee08b\"},\"hatch_color\":{\"value\":\"#fee08b\"},\"top\":{\"expr\":{\"id\":\"1654\"}},\"width\":{\"value\":0.5},\"x\":{\"field\":\"year\"}},\"id\":\"1712\",\"type\":\"VBar\"},{\"attributes\":{\"source\":{\"id\":\"1613\"}},\"id\":\"1750\",\"type\":\"CDSView\"},{\"attributes\":{\"bottom\":{\"expr\":{\"id\":\"1647\"}},\"fill_color\":{\"value\":\"#3288bd\"},\"hatch_color\":{\"value\":\"#3288bd\"},\"top\":{\"expr\":{\"id\":\"1648\"}},\"width\":{\"value\":0.5},\"x\":{\"field\":\"year\"}},\"id\":\"1660\",\"type\":\"VBar\"},{\"attributes\":{\"bottom\":{\"expr\":{\"id\":\"1647\"}},\"fill_alpha\":{\"value\":0.1},\"fill_color\":{\"value\":\"#3288bd\"},\"hatch_alpha\":{\"value\":0.1},\"hatch_color\":{\"value\":\"#3288bd\"},\"line_alpha\":{\"value\":0.1},\"top\":{\"expr\":{\"id\":\"1648\"}},\"width\":{\"value\":0.5},\"x\":{\"field\":\"year\"}},\"id\":\"1661\",\"type\":\"VBar\"},{\"attributes\":{\"fields\":[\"Electricity - total tide, wave and hydro production %\",\"Electricity - total wind production %\",\"Electricity - total solar production %\"]},\"id\":\"1652\",\"type\":\"Stack\"},{\"attributes\":{\"tools\":[{\"id\":\"1633\"},{\"id\":\"1634\"},{\"id\":\"1635\"},{\"id\":\"1636\"},{\"id\":\"1637\"},{\"id\":\"1638\"},{\"id\":\"1762\"}]},\"id\":\"1640\",\"type\":\"Toolbar\"},{\"attributes\":{\"bottom\":{\"expr\":{\"id\":\"1653\"}},\"fill_alpha\":{\"value\":0.1},\"fill_color\":{\"value\":\"#fee08b\"},\"hatch_alpha\":{\"value\":0.1},\"hatch_color\":{\"value\":\"#fee08b\"},\"line_alpha\":{\"value\":0.1},\"top\":{\"expr\":{\"id\":\"1654\"}},\"width\":{\"value\":0.5},\"x\":{\"field\":\"year\"}},\"id\":\"1713\",\"type\":\"VBar\"},{\"attributes\":{\"callback\":null,\"tooltips\":[[\"year\",\"@year\"],[\"By Source\",\"@$name{0.00} %\"],[\"source\",\"$name\"]]},\"id\":\"1762\",\"type\":\"HoverTool\"},{\"attributes\":{\"bottom\":{\"expr\":{\"id\":\"1653\"}},\"fill_alpha\":{\"value\":0.2},\"fill_color\":{\"value\":\"#fee08b\"},\"hatch_alpha\":{\"value\":0.2},\"hatch_color\":{\"value\":\"#fee08b\"},\"line_alpha\":{\"value\":0.2},\"top\":{\"expr\":{\"id\":\"1654\"}},\"width\":{\"value\":0.5},\"x\":{\"field\":\"year\"}},\"id\":\"1714\",\"type\":\"VBar\"},{\"attributes\":{\"label\":{\"value\":\"Electricity - total thermal production %\"},\"renderers\":[{\"id\":\"1749\"}]},\"id\":\"1761\",\"type\":\"LegendItem\"},{\"attributes\":{\"source\":{\"id\":\"1613\"}},\"id\":\"1716\",\"type\":\"CDSView\"}],\"root_ids\":[\"1614\"]},\"title\":\"Bokeh Application\",\"version\":\"2.4.2\"}};\n  const render_items = [{\"docid\":\"c842ae23-3390-413c-a3d7-20ff149a558a\",\"root_ids\":[\"1614\"],\"roots\":{\"1614\":\"543f2dd0-5017-405c-b2e0-c0a3e89f9527\"}}];\n  root.Bokeh.embed.embed_items_notebook(docs_json, render_items);\n\n  }\n  if (root.Bokeh !== undefined) {\n    embed_document(root);\n  } else {\n    let attempts = 0;\n    const timer = setInterval(function(root) {\n      if (root.Bokeh !== undefined) {\n        clearInterval(timer);\n        embed_document(root);\n      } else {\n        attempts++;\n        if (attempts > 100) {\n          clearInterval(timer);\n          console.log(\"Bokeh: ERROR: Unable to run BokehJS code because BokehJS library is missing\");\n        }\n      }\n    }, 10, root)\n  }\n})(window);",
      "application/vnd.bokehjs_exec.v0+json": ""
     },
     "metadata": {
      "application/vnd.bokehjs_exec.v0+json": {
       "id": "1614"
      }
     },
     "output_type": "display_data"
    },
    {
     "data": {
      "text/html": [
       "<style type=\"text/css\">\n",
       "#T_38e26_row0_col0, #T_38e26_row0_col1, #T_38e26_row0_col4, #T_38e26_row0_col6, #T_38e26_row1_col2, #T_38e26_row1_col4, #T_38e26_row1_col6, #T_38e26_row1_col7, #T_38e26_row2_col4, #T_38e26_row3_col4, #T_38e26_row4_col4, #T_38e26_row5_col4, #T_38e26_row6_col4, #T_38e26_row13_col3, #T_38e26_row19_col5 {\n",
       "  background-color: #f0f0f3;\n",
       "  color: #000000;\n",
       "}\n",
       "#T_38e26_row0_col2 {\n",
       "  background-color: #e2e2f3;\n",
       "  color: #000000;\n",
       "}\n",
       "#T_38e26_row0_col3, #T_38e26_row18_col0 {\n",
       "  background-color: #1818fe;\n",
       "  color: #f1f1f1;\n",
       "}\n",
       "#T_38e26_row0_col5 {\n",
       "  background-color: #0606ff;\n",
       "  color: #f1f1f1;\n",
       "}\n",
       "#T_38e26_row0_col7 {\n",
       "  background-color: #8282f8;\n",
       "  color: #f1f1f1;\n",
       "}\n",
       "#T_38e26_row1_col0, #T_38e26_row6_col6, #T_38e26_row17_col3 {\n",
       "  background-color: #e5e5f3;\n",
       "  color: #000000;\n",
       "}\n",
       "#T_38e26_row1_col1, #T_38e26_row18_col5 {\n",
       "  background-color: #e7e7f3;\n",
       "  color: #000000;\n",
       "}\n",
       "#T_38e26_row1_col3, #T_38e26_row2_col5, #T_38e26_row15_col7, #T_38e26_row17_col2, #T_38e26_row20_col0, #T_38e26_row20_col1, #T_38e26_row20_col4, #T_38e26_row20_col6 {\n",
       "  background-color: #0000ff;\n",
       "  color: #f1f1f1;\n",
       "}\n",
       "#T_38e26_row1_col5 {\n",
       "  background-color: #0202ff;\n",
       "  color: #f1f1f1;\n",
       "}\n",
       "#T_38e26_row2_col0, #T_38e26_row9_col3 {\n",
       "  background-color: #d9d9f4;\n",
       "  color: #000000;\n",
       "}\n",
       "#T_38e26_row2_col1 {\n",
       "  background-color: #dedef4;\n",
       "  color: #000000;\n",
       "}\n",
       "#T_38e26_row2_col2, #T_38e26_row12_col4 {\n",
       "  background-color: #e9e9f3;\n",
       "  color: #000000;\n",
       "}\n",
       "#T_38e26_row2_col3, #T_38e26_row7_col5 {\n",
       "  background-color: #1717fe;\n",
       "  color: #f1f1f1;\n",
       "}\n",
       "#T_38e26_row2_col6, #T_38e26_row3_col6, #T_38e26_row7_col4, #T_38e26_row8_col4, #T_38e26_row9_col4, #T_38e26_row20_col5 {\n",
       "  background-color: #efeff3;\n",
       "  color: #000000;\n",
       "}\n",
       "#T_38e26_row2_col7 {\n",
       "  background-color: #bbbbf5;\n",
       "  color: #000000;\n",
       "}\n",
       "#T_38e26_row3_col0 {\n",
       "  background-color: #cdcdf5;\n",
       "  color: #000000;\n",
       "}\n",
       "#T_38e26_row3_col1 {\n",
       "  background-color: #d8d8f4;\n",
       "  color: #000000;\n",
       "}\n",
       "#T_38e26_row3_col2, #T_38e26_row4_col1 {\n",
       "  background-color: #d0d0f4;\n",
       "  color: #000000;\n",
       "}\n",
       "#T_38e26_row3_col3 {\n",
       "  background-color: #2222fd;\n",
       "  color: #f1f1f1;\n",
       "}\n",
       "#T_38e26_row3_col5, #T_38e26_row19_col2 {\n",
       "  background-color: #1212fe;\n",
       "  color: #f1f1f1;\n",
       "}\n",
       "#T_38e26_row3_col7 {\n",
       "  background-color: #dcdcf4;\n",
       "  color: #000000;\n",
       "}\n",
       "#T_38e26_row4_col0, #T_38e26_row15_col3 {\n",
       "  background-color: #c0c0f5;\n",
       "  color: #000000;\n",
       "}\n",
       "#T_38e26_row4_col2 {\n",
       "  background-color: #c4c4f5;\n",
       "  color: #000000;\n",
       "}\n",
       "#T_38e26_row4_col3 {\n",
       "  background-color: #3d3dfc;\n",
       "  color: #f1f1f1;\n",
       "}\n",
       "#T_38e26_row4_col5 {\n",
       "  background-color: #1313fe;\n",
       "  color: #f1f1f1;\n",
       "}\n",
       "#T_38e26_row4_col6 {\n",
       "  background-color: #ededf3;\n",
       "  color: #000000;\n",
       "}\n",
       "#T_38e26_row4_col7 {\n",
       "  background-color: #8888f8;\n",
       "  color: #f1f1f1;\n",
       "}\n",
       "#T_38e26_row5_col0 {\n",
       "  background-color: #b4b4f6;\n",
       "  color: #000000;\n",
       "}\n",
       "#T_38e26_row5_col1 {\n",
       "  background-color: #c7c7f5;\n",
       "  color: #000000;\n",
       "}\n",
       "#T_38e26_row5_col2 {\n",
       "  background-color: #b9b9f6;\n",
       "  color: #000000;\n",
       "}\n",
       "#T_38e26_row5_col3 {\n",
       "  background-color: #5f5ffa;\n",
       "  color: #f1f1f1;\n",
       "}\n",
       "#T_38e26_row5_col5 {\n",
       "  background-color: #1010fe;\n",
       "  color: #f1f1f1;\n",
       "}\n",
       "#T_38e26_row5_col6 {\n",
       "  background-color: #eaeaf3;\n",
       "  color: #000000;\n",
       "}\n",
       "#T_38e26_row5_col7 {\n",
       "  background-color: #2929fd;\n",
       "  color: #f1f1f1;\n",
       "}\n",
       "#T_38e26_row6_col0 {\n",
       "  background-color: #a9a9f6;\n",
       "  color: #000000;\n",
       "}\n",
       "#T_38e26_row6_col1 {\n",
       "  background-color: #b8b8f6;\n",
       "  color: #000000;\n",
       "}\n",
       "#T_38e26_row6_col2 {\n",
       "  background-color: #9e9ef7;\n",
       "  color: #f1f1f1;\n",
       "}\n",
       "#T_38e26_row6_col3 {\n",
       "  background-color: #7c7cf9;\n",
       "  color: #f1f1f1;\n",
       "}\n",
       "#T_38e26_row6_col5 {\n",
       "  background-color: #1d1dfe;\n",
       "  color: #f1f1f1;\n",
       "}\n",
       "#T_38e26_row6_col7, #T_38e26_row20_col7 {\n",
       "  background-color: #5e5efa;\n",
       "  color: #f1f1f1;\n",
       "}\n",
       "#T_38e26_row7_col0 {\n",
       "  background-color: #9d9df7;\n",
       "  color: #f1f1f1;\n",
       "}\n",
       "#T_38e26_row7_col1 {\n",
       "  background-color: #b6b6f6;\n",
       "  color: #000000;\n",
       "}\n",
       "#T_38e26_row7_col2 {\n",
       "  background-color: #9494f7;\n",
       "  color: #f1f1f1;\n",
       "}\n",
       "#T_38e26_row7_col3, #T_38e26_row16_col5 {\n",
       "  background-color: #a4a4f7;\n",
       "  color: #000000;\n",
       "}\n",
       "#T_38e26_row7_col6 {\n",
       "  background-color: #e1e1f4;\n",
       "  color: #000000;\n",
       "}\n",
       "#T_38e26_row7_col7 {\n",
       "  background-color: #1c1cfe;\n",
       "  color: #f1f1f1;\n",
       "}\n",
       "#T_38e26_row8_col0, #T_38e26_row15_col5 {\n",
       "  background-color: #9090f8;\n",
       "  color: #f1f1f1;\n",
       "}\n",
       "#T_38e26_row8_col1 {\n",
       "  background-color: #a8a8f6;\n",
       "  color: #000000;\n",
       "}\n",
       "#T_38e26_row8_col2 {\n",
       "  background-color: #7d7df9;\n",
       "  color: #f1f1f1;\n",
       "}\n",
       "#T_38e26_row8_col3 {\n",
       "  background-color: #b3b3f6;\n",
       "  color: #000000;\n",
       "}\n",
       "#T_38e26_row8_col5 {\n",
       "  background-color: #2828fd;\n",
       "  color: #f1f1f1;\n",
       "}\n",
       "#T_38e26_row8_col6 {\n",
       "  background-color: #dbdbf4;\n",
       "  color: #000000;\n",
       "}\n",
       "#T_38e26_row8_col7 {\n",
       "  background-color: #5555fb;\n",
       "  color: #f1f1f1;\n",
       "}\n",
       "#T_38e26_row9_col0 {\n",
       "  background-color: #8484f8;\n",
       "  color: #f1f1f1;\n",
       "}\n",
       "#T_38e26_row9_col1 {\n",
       "  background-color: #9b9bf7;\n",
       "  color: #f1f1f1;\n",
       "}\n",
       "#T_38e26_row9_col2, #T_38e26_row14_col7, #T_38e26_row17_col6 {\n",
       "  background-color: #5353fb;\n",
       "  color: #f1f1f1;\n",
       "}\n",
       "#T_38e26_row9_col5 {\n",
       "  background-color: #4141fc;\n",
       "  color: #f1f1f1;\n",
       "}\n",
       "#T_38e26_row9_col6 {\n",
       "  background-color: #d6d6f4;\n",
       "  color: #000000;\n",
       "}\n",
       "#T_38e26_row9_col7 {\n",
       "  background-color: #6161fa;\n",
       "  color: #f1f1f1;\n",
       "}\n",
       "#T_38e26_row10_col0 {\n",
       "  background-color: #7878f9;\n",
       "  color: #f1f1f1;\n",
       "}\n",
       "#T_38e26_row10_col1 {\n",
       "  background-color: #8a8af8;\n",
       "  color: #f1f1f1;\n",
       "}\n",
       "#T_38e26_row10_col2 {\n",
       "  background-color: #5b5bfa;\n",
       "  color: #f1f1f1;\n",
       "}\n",
       "#T_38e26_row10_col3 {\n",
       "  background-color: #c6c6f5;\n",
       "  color: #000000;\n",
       "}\n",
       "#T_38e26_row10_col4 {\n",
       "  background-color: #eeeef3;\n",
       "  color: #000000;\n",
       "}\n",
       "#T_38e26_row10_col5 {\n",
       "  background-color: #4545fb;\n",
       "  color: #f1f1f1;\n",
       "}\n",
       "#T_38e26_row10_col6 {\n",
       "  background-color: #cecef4;\n",
       "  color: #000000;\n",
       "}\n",
       "#T_38e26_row10_col7, #T_38e26_row12_col1 {\n",
       "  background-color: #6a6afa;\n",
       "  color: #f1f1f1;\n",
       "}\n",
       "#T_38e26_row11_col0 {\n",
       "  background-color: #6c6cf9;\n",
       "  color: #f1f1f1;\n",
       "}\n",
       "#T_38e26_row11_col1 {\n",
       "  background-color: #7979f9;\n",
       "  color: #f1f1f1;\n",
       "}\n",
       "#T_38e26_row11_col2 {\n",
       "  background-color: #4d4dfb;\n",
       "  color: #f1f1f1;\n",
       "}\n",
       "#T_38e26_row11_col3, #T_38e26_row11_col6 {\n",
       "  background-color: #c8c8f5;\n",
       "  color: #000000;\n",
       "}\n",
       "#T_38e26_row11_col4 {\n",
       "  background-color: #ececf3;\n",
       "  color: #000000;\n",
       "}\n",
       "#T_38e26_row11_col5 {\n",
       "  background-color: #5656fb;\n",
       "  color: #f1f1f1;\n",
       "}\n",
       "#T_38e26_row11_col7 {\n",
       "  background-color: #7171f9;\n",
       "  color: #f1f1f1;\n",
       "}\n",
       "#T_38e26_row12_col0 {\n",
       "  background-color: #6060fa;\n",
       "  color: #f1f1f1;\n",
       "}\n",
       "#T_38e26_row12_col2 {\n",
       "  background-color: #4040fc;\n",
       "  color: #f1f1f1;\n",
       "}\n",
       "#T_38e26_row12_col3 {\n",
       "  background-color: #cbcbf5;\n",
       "  color: #000000;\n",
       "}\n",
       "#T_38e26_row12_col5 {\n",
       "  background-color: #6565fa;\n",
       "  color: #f1f1f1;\n",
       "}\n",
       "#T_38e26_row12_col6 {\n",
       "  background-color: #bebef5;\n",
       "  color: #000000;\n",
       "}\n",
       "#T_38e26_row12_col7, #T_38e26_row15_col6 {\n",
       "  background-color: #8e8ef8;\n",
       "  color: #f1f1f1;\n",
       "}\n",
       "#T_38e26_row13_col0 {\n",
       "  background-color: #5454fb;\n",
       "  color: #f1f1f1;\n",
       "}\n",
       "#T_38e26_row13_col1 {\n",
       "  background-color: #5757fb;\n",
       "  color: #f1f1f1;\n",
       "}\n",
       "#T_38e26_row13_col2, #T_38e26_row19_col6 {\n",
       "  background-color: #1111fe;\n",
       "  color: #f1f1f1;\n",
       "}\n",
       "#T_38e26_row13_col4 {\n",
       "  background-color: #e6e6f3;\n",
       "  color: #000000;\n",
       "}\n",
       "#T_38e26_row13_col5 {\n",
       "  background-color: #8686f8;\n",
       "  color: #f1f1f1;\n",
       "}\n",
       "#T_38e26_row13_col6 {\n",
       "  background-color: #b1b1f6;\n",
       "  color: #000000;\n",
       "}\n",
       "#T_38e26_row13_col7 {\n",
       "  background-color: #8787f8;\n",
       "  color: #f1f1f1;\n",
       "}\n",
       "#T_38e26_row14_col0 {\n",
       "  background-color: #4848fb;\n",
       "  color: #f1f1f1;\n",
       "}\n",
       "#T_38e26_row14_col1, #T_38e26_row15_col1 {\n",
       "  background-color: #5050fb;\n",
       "  color: #f1f1f1;\n",
       "}\n",
       "#T_38e26_row14_col2 {\n",
       "  background-color: #2121fd;\n",
       "  color: #f1f1f1;\n",
       "}\n",
       "#T_38e26_row14_col3 {\n",
       "  background-color: #d4d4f4;\n",
       "  color: #000000;\n",
       "}\n",
       "#T_38e26_row14_col4 {\n",
       "  background-color: #dfdff4;\n",
       "  color: #000000;\n",
       "}\n",
       "#T_38e26_row14_col5, #T_38e26_row17_col7 {\n",
       "  background-color: #8c8cf8;\n",
       "  color: #f1f1f1;\n",
       "}\n",
       "#T_38e26_row14_col6 {\n",
       "  background-color: #a1a1f7;\n",
       "  color: #f1f1f1;\n",
       "}\n",
       "#T_38e26_row15_col0, #T_38e26_row19_col4 {\n",
       "  background-color: #3b3bfc;\n",
       "  color: #f1f1f1;\n",
       "}\n",
       "#T_38e26_row15_col2 {\n",
       "  background-color: #2f2ffd;\n",
       "  color: #f1f1f1;\n",
       "}\n",
       "#T_38e26_row15_col4 {\n",
       "  background-color: #d3d3f4;\n",
       "  color: #000000;\n",
       "}\n",
       "#T_38e26_row16_col0 {\n",
       "  background-color: #3030fd;\n",
       "  color: #f1f1f1;\n",
       "}\n",
       "#T_38e26_row16_col1 {\n",
       "  background-color: #3333fc;\n",
       "  color: #f1f1f1;\n",
       "}\n",
       "#T_38e26_row16_col2 {\n",
       "  background-color: #2323fd;\n",
       "  color: #f1f1f1;\n",
       "}\n",
       "#T_38e26_row16_col3, #T_38e26_row17_col5 {\n",
       "  background-color: #ccccf5;\n",
       "  color: #000000;\n",
       "}\n",
       "#T_38e26_row16_col4 {\n",
       "  background-color: #c2c2f5;\n",
       "  color: #000000;\n",
       "}\n",
       "#T_38e26_row16_col6 {\n",
       "  background-color: #7272f9;\n",
       "  color: #f1f1f1;\n",
       "}\n",
       "#T_38e26_row16_col7 {\n",
       "  background-color: #6e6ef9;\n",
       "  color: #f1f1f1;\n",
       "}\n",
       "#T_38e26_row17_col0 {\n",
       "  background-color: #2424fd;\n",
       "  color: #f1f1f1;\n",
       "}\n",
       "#T_38e26_row17_col1, #T_38e26_row20_col2 {\n",
       "  background-color: #2626fd;\n",
       "  color: #f1f1f1;\n",
       "}\n",
       "#T_38e26_row17_col4 {\n",
       "  background-color: #9a9af7;\n",
       "  color: #f1f1f1;\n",
       "}\n",
       "#T_38e26_row18_col1 {\n",
       "  background-color: #1a1afe;\n",
       "  color: #f1f1f1;\n",
       "}\n",
       "#T_38e26_row18_col2 {\n",
       "  background-color: #0505ff;\n",
       "  color: #f1f1f1;\n",
       "}\n",
       "#T_38e26_row18_col3 {\n",
       "  background-color: #c1c1f5;\n",
       "  color: #000000;\n",
       "}\n",
       "#T_38e26_row18_col4 {\n",
       "  background-color: #6f6ff9;\n",
       "  color: #f1f1f1;\n",
       "}\n",
       "#T_38e26_row18_col6 {\n",
       "  background-color: #3636fc;\n",
       "  color: #f1f1f1;\n",
       "}\n",
       "#T_38e26_row18_col7 {\n",
       "  background-color: #a0a0f7;\n",
       "  color: #f1f1f1;\n",
       "}\n",
       "#T_38e26_row19_col0 {\n",
       "  background-color: #0b0bfe;\n",
       "  color: #f1f1f1;\n",
       "}\n",
       "#T_38e26_row19_col1 {\n",
       "  background-color: #0909ff;\n",
       "  color: #f1f1f1;\n",
       "}\n",
       "#T_38e26_row19_col3 {\n",
       "  background-color: #bfbff5;\n",
       "  color: #000000;\n",
       "}\n",
       "#T_38e26_row19_col7 {\n",
       "  background-color: #c3c3f5;\n",
       "  color: #000000;\n",
       "}\n",
       "#T_38e26_row20_col3 {\n",
       "  background-color: #b7b7f6;\n",
       "  color: #000000;\n",
       "}\n",
       "</style>\n",
       "<table id=\"T_38e26\">\n",
       "  <thead>\n",
       "    <tr>\n",
       "      <th class=\"index_name level0\" >commodity_transaction</th>\n",
       "      <th id=\"T_38e26_level0_col0\" class=\"col_heading level0 col0\" >year</th>\n",
       "      <th id=\"T_38e26_level0_col1\" class=\"col_heading level0 col1\" >Electricity - Gross production</th>\n",
       "      <th id=\"T_38e26_level0_col2\" class=\"col_heading level0 col2\" >Electricity - total thermal production %</th>\n",
       "      <th id=\"T_38e26_level0_col3\" class=\"col_heading level0 col3\" >Electricity - total tide, wave and hydro production %</th>\n",
       "      <th id=\"T_38e26_level0_col4\" class=\"col_heading level0 col4\" >Electricity - total solar production %</th>\n",
       "      <th id=\"T_38e26_level0_col5\" class=\"col_heading level0 col5\" >Electricity - total nuclear production %</th>\n",
       "      <th id=\"T_38e26_level0_col6\" class=\"col_heading level0 col6\" >Electricity - total wind production %</th>\n",
       "      <th id=\"T_38e26_level0_col7\" class=\"col_heading level0 col7\" >Electricity - total geothermal production %</th>\n",
       "    </tr>\n",
       "  </thead>\n",
       "  <tbody>\n",
       "    <tr>\n",
       "      <th id=\"T_38e26_level0_row0\" class=\"row_heading level0 row0\" >0</th>\n",
       "      <td id=\"T_38e26_row0_col0\" class=\"data row0 col0\" >1994</td>\n",
       "      <td id=\"T_38e26_row0_col1\" class=\"data row0 col1\" >12886.108253</td>\n",
       "      <td id=\"T_38e26_row0_col2\" class=\"data row0 col2\" >63.392133</td>\n",
       "      <td id=\"T_38e26_row0_col3\" class=\"data row0 col3\" >18.819519</td>\n",
       "      <td id=\"T_38e26_row0_col4\" class=\"data row0 col4\" >0.007163</td>\n",
       "      <td id=\"T_38e26_row0_col5\" class=\"data row0 col5\" >17.409457</td>\n",
       "      <td id=\"T_38e26_row0_col6\" class=\"data row0 col6\" >0.056221</td>\n",
       "      <td id=\"T_38e26_row0_col7\" class=\"data row0 col7\" >0.315507</td>\n",
       "    </tr>\n",
       "    <tr>\n",
       "      <th id=\"T_38e26_level0_row1\" class=\"row_heading level0 row1\" >1</th>\n",
       "      <td id=\"T_38e26_row1_col0\" class=\"data row1 col0\" >1995</td>\n",
       "      <td id=\"T_38e26_row1_col1\" class=\"data row1 col1\" >13324.751389</td>\n",
       "      <td id=\"T_38e26_row1_col2\" class=\"data row1 col2\" >62.991258</td>\n",
       "      <td id=\"T_38e26_row1_col3\" class=\"data row1 col3\" >19.138195</td>\n",
       "      <td id=\"T_38e26_row1_col4\" class=\"data row1 col4\" >0.007288</td>\n",
       "      <td id=\"T_38e26_row1_col5\" class=\"data row1 col5\" >17.504503</td>\n",
       "      <td id=\"T_38e26_row1_col6\" class=\"data row1 col6\" >0.058949</td>\n",
       "      <td id=\"T_38e26_row1_col7\" class=\"data row1 col7\" >0.299808</td>\n",
       "    </tr>\n",
       "    <tr>\n",
       "      <th id=\"T_38e26_level0_row2\" class=\"row_heading level0 row2\" >2</th>\n",
       "      <td id=\"T_38e26_row2_col0\" class=\"data row2 col0\" >1996</td>\n",
       "      <td id=\"T_38e26_row2_col1\" class=\"data row2 col1\" >13753.309573</td>\n",
       "      <td id=\"T_38e26_row2_col2\" class=\"data row2 col2\" >63.208897</td>\n",
       "      <td id=\"T_38e26_row2_col3\" class=\"data row2 col3\" >18.830910</td>\n",
       "      <td id=\"T_38e26_row2_col4\" class=\"data row2 col4\" >0.007831</td>\n",
       "      <td id=\"T_38e26_row2_col5\" class=\"data row2 col5\" >17.577121</td>\n",
       "      <td id=\"T_38e26_row2_col6\" class=\"data row2 col6\" >0.067821</td>\n",
       "      <td id=\"T_38e26_row2_col7\" class=\"data row2 col7\" >0.307420</td>\n",
       "    </tr>\n",
       "    <tr>\n",
       "      <th id=\"T_38e26_level0_row3\" class=\"row_heading level0 row3\" >3</th>\n",
       "      <td id=\"T_38e26_row3_col0\" class=\"data row3 col0\" >1997</td>\n",
       "      <td id=\"T_38e26_row3_col1\" class=\"data row3 col1\" >14042.592982</td>\n",
       "      <td id=\"T_38e26_row3_col2\" class=\"data row3 col2\" >63.889427</td>\n",
       "      <td id=\"T_38e26_row3_col3\" class=\"data row3 col3\" >18.672518</td>\n",
       "      <td id=\"T_38e26_row3_col4\" class=\"data row3 col4\" >0.008359</td>\n",
       "      <td id=\"T_38e26_row3_col5\" class=\"data row3 col5\" >17.042867</td>\n",
       "      <td id=\"T_38e26_row3_col6\" class=\"data row3 col6\" >0.083953</td>\n",
       "      <td id=\"T_38e26_row3_col7\" class=\"data row3 col7\" >0.302875</td>\n",
       "    </tr>\n",
       "    <tr>\n",
       "      <th id=\"T_38e26_level0_row4\" class=\"row_heading level0 row4\" >4</th>\n",
       "      <td id=\"T_38e26_row4_col0\" class=\"data row4 col0\" >1998</td>\n",
       "      <td id=\"T_38e26_row4_col1\" class=\"data row4 col1\" >14370.600973</td>\n",
       "      <td id=\"T_38e26_row4_col2\" class=\"data row4 col2\" >64.239604</td>\n",
       "      <td id=\"T_38e26_row4_col3\" class=\"data row4 col3\" >18.310986</td>\n",
       "      <td id=\"T_38e26_row4_col4\" class=\"data row4 col4\" >0.008120</td>\n",
       "      <td id=\"T_38e26_row4_col5\" class=\"data row4 col5\" >17.017374</td>\n",
       "      <td id=\"T_38e26_row4_col6\" class=\"data row4 col6\" >0.109211</td>\n",
       "      <td id=\"T_38e26_row4_col7\" class=\"data row4 col7\" >0.314705</td>\n",
       "    </tr>\n",
       "    <tr>\n",
       "      <th id=\"T_38e26_level0_row5\" class=\"row_heading level0 row5\" >5</th>\n",
       "      <td id=\"T_38e26_row5_col0\" class=\"data row5 col0\" >1999</td>\n",
       "      <td id=\"T_38e26_row5_col1\" class=\"data row5 col1\" >14801.231135</td>\n",
       "      <td id=\"T_38e26_row5_col2\" class=\"data row5 col2\" >64.564715</td>\n",
       "      <td id=\"T_38e26_row5_col3\" class=\"data row5 col3\" >17.854132</td>\n",
       "      <td id=\"T_38e26_row5_col4\" class=\"data row5 col4\" >0.007280</td>\n",
       "      <td id=\"T_38e26_row5_col5\" class=\"data row5 col5\" >17.101401</td>\n",
       "      <td id=\"T_38e26_row5_col6\" class=\"data row5 col6\" >0.144344</td>\n",
       "      <td id=\"T_38e26_row5_col7\" class=\"data row5 col7\" >0.328128</td>\n",
       "    </tr>\n",
       "    <tr>\n",
       "      <th id=\"T_38e26_level0_row6\" class=\"row_heading level0 row6\" >6</th>\n",
       "      <td id=\"T_38e26_row6_col0\" class=\"data row6 col0\" >2000</td>\n",
       "      <td id=\"T_38e26_row6_col1\" class=\"data row6 col1\" >15496.088666</td>\n",
       "      <td id=\"T_38e26_row6_col2\" class=\"data row6 col2\" >65.291325</td>\n",
       "      <td id=\"T_38e26_row6_col3\" class=\"data row6 col3\" >17.471008</td>\n",
       "      <td id=\"T_38e26_row6_col4\" class=\"data row6 col4\" >0.009512</td>\n",
       "      <td id=\"T_38e26_row6_col5\" class=\"data row6 col5\" >16.709148</td>\n",
       "      <td id=\"T_38e26_row6_col6\" class=\"data row6 col6\" >0.198440</td>\n",
       "      <td id=\"T_38e26_row6_col7\" class=\"data row6 col7\" >0.320566</td>\n",
       "    </tr>\n",
       "    <tr>\n",
       "      <th id=\"T_38e26_level0_row7\" class=\"row_heading level0 row7\" >7</th>\n",
       "      <td id=\"T_38e26_row7_col0\" class=\"data row7 col0\" >2001</td>\n",
       "      <td id=\"T_38e26_row7_col1\" class=\"data row7 col1\" >15597.990241</td>\n",
       "      <td id=\"T_38e26_row7_col2\" class=\"data row7 col2\" >65.588611</td>\n",
       "      <td id=\"T_38e26_row7_col3\" class=\"data row7 col3\" >16.920147</td>\n",
       "      <td id=\"T_38e26_row7_col4\" class=\"data row7 col4\" >0.011323</td>\n",
       "      <td id=\"T_38e26_row7_col5\" class=\"data row7 col5\" >16.910170</td>\n",
       "      <td id=\"T_38e26_row7_col6\" class=\"data row7 col6\" >0.239806</td>\n",
       "      <td id=\"T_38e26_row7_col7\" class=\"data row7 col7\" >0.329943</td>\n",
       "    </tr>\n",
       "    <tr>\n",
       "      <th id=\"T_38e26_level0_row8\" class=\"row_heading level0 row8\" >8</th>\n",
       "      <td id=\"T_38e26_row8_col0\" class=\"data row8 col0\" >2002</td>\n",
       "      <td id=\"T_38e26_row8_col1\" class=\"data row8 col1\" >16215.148670</td>\n",
       "      <td id=\"T_38e26_row8_col2\" class=\"data row8 col2\" >66.213075</td>\n",
       "      <td id=\"T_38e26_row8_col3\" class=\"data row8 col3\" >16.718968</td>\n",
       "      <td id=\"T_38e26_row8_col4\" class=\"data row8 col4\" >0.013167</td>\n",
       "      <td id=\"T_38e26_row8_col5\" class=\"data row8 col5\" >16.413915</td>\n",
       "      <td id=\"T_38e26_row8_col6\" class=\"data row8 col6\" >0.318939</td>\n",
       "      <td id=\"T_38e26_row8_col7\" class=\"data row8 col7\" >0.321937</td>\n",
       "    </tr>\n",
       "    <tr>\n",
       "      <th id=\"T_38e26_level0_row9\" class=\"row_heading level0 row9\" >9</th>\n",
       "      <td id=\"T_38e26_row9_col0\" class=\"data row9 col0\" >2003</td>\n",
       "      <td id=\"T_38e26_row9_col1\" class=\"data row9 col1\" >16812.144850</td>\n",
       "      <td id=\"T_38e26_row9_col2\" class=\"data row9 col2\" >67.396505</td>\n",
       "      <td id=\"T_38e26_row9_col3\" class=\"data row9 col3\" >16.211027</td>\n",
       "      <td id=\"T_38e26_row9_col4\" class=\"data row9 col4\" >0.015203</td>\n",
       "      <td id=\"T_38e26_row9_col5\" class=\"data row9 col5\" >15.682770</td>\n",
       "      <td id=\"T_38e26_row9_col6\" class=\"data row9 col6\" >0.374356</td>\n",
       "      <td id=\"T_38e26_row9_col7\" class=\"data row9 col7\" >0.320140</td>\n",
       "    </tr>\n",
       "    <tr>\n",
       "      <th id=\"T_38e26_level0_row10\" class=\"row_heading level0 row10\" >10</th>\n",
       "      <td id=\"T_38e26_row10_col0\" class=\"data row10 col0\" >2004</td>\n",
       "      <td id=\"T_38e26_row10_col1\" class=\"data row10 col1\" >17593.848315</td>\n",
       "      <td id=\"T_38e26_row10_col2\" class=\"data row10 col2\" >67.153681</td>\n",
       "      <td id=\"T_38e26_row10_col3\" class=\"data row10 col3\" >16.465887</td>\n",
       "      <td id=\"T_38e26_row10_col4\" class=\"data row10 col4\" >0.018507</td>\n",
       "      <td id=\"T_38e26_row10_col5\" class=\"data row10 col5\" >15.573337</td>\n",
       "      <td id=\"T_38e26_row10_col6\" class=\"data row10 col6\" >0.469648</td>\n",
       "      <td id=\"T_38e26_row10_col7\" class=\"data row10 col7\" >0.318940</td>\n",
       "    </tr>\n",
       "    <tr>\n",
       "      <th id=\"T_38e26_level0_row11\" class=\"row_heading level0 row11\" >11</th>\n",
       "      <td id=\"T_38e26_row11_col0\" class=\"data row11 col0\" >2005</td>\n",
       "      <td id=\"T_38e26_row11_col1\" class=\"data row11 col1\" >18359.088001</td>\n",
       "      <td id=\"T_38e26_row11_col2\" class=\"data row11 col2\" >67.573856</td>\n",
       "      <td id=\"T_38e26_row11_col3\" class=\"data row11 col3\" >16.442630</td>\n",
       "      <td id=\"T_38e26_row11_col4\" class=\"data row11 col4\" >0.024413</td>\n",
       "      <td id=\"T_38e26_row11_col5\" class=\"data row11 col5\" >15.088211</td>\n",
       "      <td id=\"T_38e26_row11_col6\" class=\"data row11 col6\" >0.552963</td>\n",
       "      <td id=\"T_38e26_row11_col7\" class=\"data row11 col7\" >0.317928</td>\n",
       "    </tr>\n",
       "    <tr>\n",
       "      <th id=\"T_38e26_level0_row12\" class=\"row_heading level0 row12\" >12</th>\n",
       "      <td id=\"T_38e26_row12_col0\" class=\"data row12 col0\" >2006</td>\n",
       "      <td id=\"T_38e26_row12_col1\" class=\"data row12 col1\" >19072.421046</td>\n",
       "      <td id=\"T_38e26_row12_col2\" class=\"data row12 col2\" >67.933282</td>\n",
       "      <td id=\"T_38e26_row12_col3\" class=\"data row12 col3\" >16.400678</td>\n",
       "      <td id=\"T_38e26_row12_col4\" class=\"data row12 col4\" >0.031601</td>\n",
       "      <td id=\"T_38e26_row12_col5\" class=\"data row12 col5\" >14.646020</td>\n",
       "      <td id=\"T_38e26_row12_col6\" class=\"data row12 col6\" >0.674707</td>\n",
       "      <td id=\"T_38e26_row12_col7\" class=\"data row12 col7\" >0.313712</td>\n",
       "    </tr>\n",
       "    <tr>\n",
       "      <th id=\"T_38e26_level0_row13\" class=\"row_heading level0 row13\" >13</th>\n",
       "      <td id=\"T_38e26_row13_col0\" class=\"data row13 col0\" >2007</td>\n",
       "      <td id=\"T_38e26_row13_col1\" class=\"data row13 col1\" >19905.110378</td>\n",
       "      <td id=\"T_38e26_row13_col2\" class=\"data row13 col2\" >69.258750</td>\n",
       "      <td id=\"T_38e26_row13_col3\" class=\"data row13 col3\" >15.885841</td>\n",
       "      <td id=\"T_38e26_row13_col4\" class=\"data row13 col4\" >0.040179</td>\n",
       "      <td id=\"T_38e26_row13_col5\" class=\"data row13 col5\" >13.672908</td>\n",
       "      <td id=\"T_38e26_row13_col6\" class=\"data row13 col6\" >0.827469</td>\n",
       "      <td id=\"T_38e26_row13_col7\" class=\"data row13 col7\" >0.314853</td>\n",
       "    </tr>\n",
       "    <tr>\n",
       "      <th id=\"T_38e26_level0_row14\" class=\"row_heading level0 row14\" >14</th>\n",
       "      <td id=\"T_38e26_row14_col0\" class=\"data row14 col0\" >2008</td>\n",
       "      <td id=\"T_38e26_row14_col1\" class=\"data row14 col1\" >20230.482444</td>\n",
       "      <td id=\"T_38e26_row14_col2\" class=\"data row14 col2\" >68.793206</td>\n",
       "      <td id=\"T_38e26_row14_col3\" class=\"data row14 col3\" >16.276750</td>\n",
       "      <td id=\"T_38e26_row14_col4\" class=\"data row14 col4\" >0.062305</td>\n",
       "      <td id=\"T_38e26_row14_col5\" class=\"data row14 col5\" >13.528143</td>\n",
       "      <td id=\"T_38e26_row14_col6\" class=\"data row14 col6\" >1.017377</td>\n",
       "      <td id=\"T_38e26_row14_col7\" class=\"data row14 col7\" >0.322219</td>\n",
       "    </tr>\n",
       "    <tr>\n",
       "      <th id=\"T_38e26_level0_row15\" class=\"row_heading level0 row15\" >15</th>\n",
       "      <td id=\"T_38e26_row15_col0\" class=\"data row15 col0\" >2009</td>\n",
       "      <td id=\"T_38e26_row15_col1\" class=\"data row15 col1\" >20214.749429</td>\n",
       "      <td id=\"T_38e26_row15_col2\" class=\"data row15 col2\" >68.413837</td>\n",
       "      <td id=\"T_38e26_row15_col3\" class=\"data row15 col3\" >16.539708</td>\n",
       "      <td id=\"T_38e26_row15_col4\" class=\"data row15 col4\" >0.102131</td>\n",
       "      <td id=\"T_38e26_row15_col5\" class=\"data row15 col5\" >13.371634</td>\n",
       "      <td id=\"T_38e26_row15_col6\" class=\"data row15 col6\" >1.238710</td>\n",
       "      <td id=\"T_38e26_row15_col7\" class=\"data row15 col7\" >0.333979</td>\n",
       "    </tr>\n",
       "    <tr>\n",
       "      <th id=\"T_38e26_level0_row16\" class=\"row_heading level0 row16\" >16</th>\n",
       "      <td id=\"T_38e26_row16_col0\" class=\"data row16 col0\" >2010</td>\n",
       "      <td id=\"T_38e26_row16_col1\" class=\"data row16 col1\" >21552.371371</td>\n",
       "      <td id=\"T_38e26_row16_col2\" class=\"data row16 col2\" >68.749985</td>\n",
       "      <td id=\"T_38e26_row16_col3\" class=\"data row16 col3\" >16.382128</td>\n",
       "      <td id=\"T_38e26_row16_col4\" class=\"data row16 col4\" >0.154243</td>\n",
       "      <td id=\"T_38e26_row16_col5\" class=\"data row16 col5\" >12.813198</td>\n",
       "      <td id=\"T_38e26_row16_col6\" class=\"data row16 col6\" >1.582189</td>\n",
       "      <td id=\"T_38e26_row16_col7\" class=\"data row16 col7\" >0.318257</td>\n",
       "    </tr>\n",
       "    <tr>\n",
       "      <th id=\"T_38e26_level0_row17\" class=\"row_heading level0 row17\" >17</th>\n",
       "      <td id=\"T_38e26_row17_col0\" class=\"data row17 col0\" >2011</td>\n",
       "      <td id=\"T_38e26_row17_col1\" class=\"data row17 col1\" >22173.726173</td>\n",
       "      <td id=\"T_38e26_row17_col2\" class=\"data row17 col2\" >69.733476</td>\n",
       "      <td id=\"T_38e26_row17_col3\" class=\"data row17 col3\" >16.044281</td>\n",
       "      <td id=\"T_38e26_row17_col4\" class=\"data row17 col4\" >0.283763</td>\n",
       "      <td id=\"T_38e26_row17_col5\" class=\"data row17 col5\" >11.662957</td>\n",
       "      <td id=\"T_38e26_row17_col6\" class=\"data row17 col6\" >1.961348</td>\n",
       "      <td id=\"T_38e26_row17_col7\" class=\"data row17 col7\" >0.314175</td>\n",
       "    </tr>\n",
       "    <tr>\n",
       "      <th id=\"T_38e26_level0_row18\" class=\"row_heading level0 row18\" >18</th>\n",
       "      <td id=\"T_38e26_row18_col0\" class=\"data row18 col0\" >2012</td>\n",
       "      <td id=\"T_38e26_row18_col1\" class=\"data row18 col1\" >22681.641399</td>\n",
       "      <td id=\"T_38e26_row18_col2\" class=\"data row18 col2\" >69.575748</td>\n",
       "      <td id=\"T_38e26_row18_col3\" class=\"data row18 col3\" >16.524472</td>\n",
       "      <td id=\"T_38e26_row18_col4\" class=\"data row18 col4\" >0.418328</td>\n",
       "      <td id=\"T_38e26_row18_col5\" class=\"data row18 col5\" >10.865689</td>\n",
       "      <td id=\"T_38e26_row18_col6\" class=\"data row18 col6\" >2.304479</td>\n",
       "      <td id=\"T_38e26_row18_col7\" class=\"data row18 col7\" >0.311284</td>\n",
       "    </tr>\n",
       "    <tr>\n",
       "      <th id=\"T_38e26_level0_row19\" class=\"row_heading level0 row19\" >19</th>\n",
       "      <td id=\"T_38e26_row19_col0\" class=\"data row19 col0\" >2013</td>\n",
       "      <td id=\"T_38e26_row19_col1\" class=\"data row19 col1\" >23453.354992</td>\n",
       "      <td id=\"T_38e26_row19_col2\" class=\"data row19 col2\" >69.226752</td>\n",
       "      <td id=\"T_38e26_row19_col3\" class=\"data row19 col3\" >16.549247</td>\n",
       "      <td id=\"T_38e26_row19_col4\" class=\"data row19 col4\" >0.582636</td>\n",
       "      <td id=\"T_38e26_row19_col5\" class=\"data row19 col5\" >10.578962</td>\n",
       "      <td id=\"T_38e26_row19_col6\" class=\"data row19 col6\" >2.756087</td>\n",
       "      <td id=\"T_38e26_row19_col7\" class=\"data row19 col7\" >0.306315</td>\n",
       "    </tr>\n",
       "    <tr>\n",
       "      <th id=\"T_38e26_level0_row20\" class=\"row_heading level0 row20\" >20</th>\n",
       "      <td id=\"T_38e26_row20_col0\" class=\"data row20 col0\" >2014</td>\n",
       "      <td id=\"T_38e26_row20_col1\" class=\"data row20 col1\" >23906.233178</td>\n",
       "      <td id=\"T_38e26_row20_col2\" class=\"data row20 col2\" >68.660083</td>\n",
       "      <td id=\"T_38e26_row20_col3\" class=\"data row20 col3\" >16.670531</td>\n",
       "      <td id=\"T_38e26_row20_col4\" class=\"data row20 col4\" >0.770993</td>\n",
       "      <td id=\"T_38e26_row20_col5\" class=\"data row20 col5\" >10.616919</td>\n",
       "      <td id=\"T_38e26_row20_col6\" class=\"data row20 col6\" >2.960849</td>\n",
       "      <td id=\"T_38e26_row20_col7\" class=\"data row20 col7\" >0.320625</td>\n",
       "    </tr>\n",
       "  </tbody>\n",
       "</table>\n"
      ],
      "text/plain": [
       "<pandas.io.formats.style.Styler at 0x1a69fb8f730>"
      ]
     },
     "execution_count": 11,
     "metadata": {},
     "output_type": "execute_result"
    }
   ],
   "source": [
    "_perc_stats_for_world(df_f)"
   ]
  }
 ],
 "metadata": {
  "kernelspec": {
   "display_name": "Python 3.9.12 ('base')",
   "language": "python",
   "name": "python3"
  },
  "language_info": {
   "codemirror_mode": {
    "name": "ipython",
    "version": 3
   },
   "file_extension": ".py",
   "mimetype": "text/x-python",
   "name": "python",
   "nbconvert_exporter": "python",
   "pygments_lexer": "ipython3",
   "version": "3.9.12"
  },
  "orig_nbformat": 4,
  "vscode": {
   "interpreter": {
    "hash": "f9c87aee60863c9f2e09d59fc9dfaf6c1c6ccef3b62ceed0f990cc4ac13e29b1"
   }
  }
 },
 "nbformat": 4,
 "nbformat_minor": 2
}
