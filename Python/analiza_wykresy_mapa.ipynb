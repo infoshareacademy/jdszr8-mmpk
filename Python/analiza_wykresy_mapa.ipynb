{
 "cells": [
  {
   "cell_type": "code",
   "execution_count": 1,
   "metadata": {},
   "outputs": [],
   "source": [
    "\n",
    "import pandas as pd\n",
    "import numpy as np\n",
    "import seaborn as sns\n",
    "from bokeh.layouts import gridplot\n",
    "from bokeh.io import output_notebook, show, reset_output\n",
    "from bokeh.models import HoverTool, ColumnDataSource, CDSView, BooleanFilter, Legend\n",
    "from bokeh.palettes import Spectral\n",
    "from bokeh.plotting import figure\n",
    "from bokeh.models import NumeralTickFormatter\n",
    "pd.set_option('display.float_format', lambda x:'%.2f'%x)\n",
    "\n"
   ]
  },
  {
   "cell_type": "code",
   "execution_count": 2,
   "metadata": {},
   "outputs": [
    {
     "data": {
      "text/html": [
       "<div>\n",
       "<style scoped>\n",
       "    .dataframe tbody tr th:only-of-type {\n",
       "        vertical-align: middle;\n",
       "    }\n",
       "\n",
       "    .dataframe tbody tr th {\n",
       "        vertical-align: top;\n",
       "    }\n",
       "\n",
       "    .dataframe thead th {\n",
       "        text-align: right;\n",
       "    }\n",
       "</style>\n",
       "<table border=\"1\" class=\"dataframe\">\n",
       "  <thead>\n",
       "    <tr style=\"text-align: right;\">\n",
       "      <th></th>\n",
       "      <th>country_or_area</th>\n",
       "      <th>ISO</th>\n",
       "      <th>commodity_transaction</th>\n",
       "      <th>year</th>\n",
       "      <th>category</th>\n",
       "      <th>new_unit</th>\n",
       "      <th>new_quantity</th>\n",
       "    </tr>\n",
       "  </thead>\n",
       "  <tbody>\n",
       "    <tr>\n",
       "      <th>0</th>\n",
       "      <td>Afghanistan</td>\n",
       "      <td>AFG</td>\n",
       "      <td>Electricity - Gross production</td>\n",
       "      <td>1994</td>\n",
       "      <td>total_electricity</td>\n",
       "      <td>TWh</td>\n",
       "      <td>0.69</td>\n",
       "    </tr>\n",
       "    <tr>\n",
       "      <th>1</th>\n",
       "      <td>Afghanistan</td>\n",
       "      <td>AFG</td>\n",
       "      <td>Electricity - Gross production</td>\n",
       "      <td>1995</td>\n",
       "      <td>total_electricity</td>\n",
       "      <td>TWh</td>\n",
       "      <td>0.68</td>\n",
       "    </tr>\n",
       "    <tr>\n",
       "      <th>2</th>\n",
       "      <td>Afghanistan</td>\n",
       "      <td>AFG</td>\n",
       "      <td>Electricity - Gross production</td>\n",
       "      <td>1996</td>\n",
       "      <td>total_electricity</td>\n",
       "      <td>TWh</td>\n",
       "      <td>0.68</td>\n",
       "    </tr>\n",
       "    <tr>\n",
       "      <th>3</th>\n",
       "      <td>Afghanistan</td>\n",
       "      <td>AFG</td>\n",
       "      <td>Electricity - Gross production</td>\n",
       "      <td>1997</td>\n",
       "      <td>total_electricity</td>\n",
       "      <td>TWh</td>\n",
       "      <td>0.67</td>\n",
       "    </tr>\n",
       "    <tr>\n",
       "      <th>4</th>\n",
       "      <td>Afghanistan</td>\n",
       "      <td>AFG</td>\n",
       "      <td>Electricity - Gross production</td>\n",
       "      <td>1998</td>\n",
       "      <td>total_electricity</td>\n",
       "      <td>TWh</td>\n",
       "      <td>0.67</td>\n",
       "    </tr>\n",
       "  </tbody>\n",
       "</table>\n",
       "</div>"
      ],
      "text/plain": [
       "  country_or_area  ISO           commodity_transaction  year  \\\n",
       "0     Afghanistan  AFG  Electricity - Gross production  1994   \n",
       "1     Afghanistan  AFG  Electricity - Gross production  1995   \n",
       "2     Afghanistan  AFG  Electricity - Gross production  1996   \n",
       "3     Afghanistan  AFG  Electricity - Gross production  1997   \n",
       "4     Afghanistan  AFG  Electricity - Gross production  1998   \n",
       "\n",
       "            category new_unit  new_quantity  \n",
       "0  total_electricity      TWh          0.69  \n",
       "1  total_electricity      TWh          0.68  \n",
       "2  total_electricity      TWh          0.68  \n",
       "3  total_electricity      TWh          0.67  \n",
       "4  total_electricity      TWh          0.67  "
      ]
     },
     "execution_count": 2,
     "metadata": {},
     "output_type": "execute_result"
    }
   ],
   "source": [
    "df_f = pd.read_csv('final_version.csv', parse_dates= True)\n",
    "\n",
    "df_f.head()"
   ]
  },
  {
   "cell_type": "code",
   "execution_count": 3,
   "metadata": {},
   "outputs": [
    {
     "data": {
      "text/html": [
       "<div>\n",
       "<style scoped>\n",
       "    .dataframe tbody tr th:only-of-type {\n",
       "        vertical-align: middle;\n",
       "    }\n",
       "\n",
       "    .dataframe tbody tr th {\n",
       "        vertical-align: top;\n",
       "    }\n",
       "\n",
       "    .dataframe thead th {\n",
       "        text-align: right;\n",
       "    }\n",
       "</style>\n",
       "<table border=\"1\" class=\"dataframe\">\n",
       "  <thead>\n",
       "    <tr style=\"text-align: right;\">\n",
       "      <th></th>\n",
       "      <th>country_or_area</th>\n",
       "      <th>ISO</th>\n",
       "      <th>commodity_transaction</th>\n",
       "      <th>year</th>\n",
       "      <th>category</th>\n",
       "      <th>new_unit</th>\n",
       "      <th>new_quantity</th>\n",
       "      <th>renewable</th>\n",
       "      <th>non_renewable</th>\n",
       "      <th>difference</th>\n",
       "    </tr>\n",
       "  </thead>\n",
       "  <tbody>\n",
       "    <tr>\n",
       "      <th>0</th>\n",
       "      <td>Afghanistan</td>\n",
       "      <td>AFG</td>\n",
       "      <td>Electricity - Gross production</td>\n",
       "      <td>1994</td>\n",
       "      <td>total_electricity</td>\n",
       "      <td>Kilowatt-hours,  thousand</td>\n",
       "      <td>687000.00</td>\n",
       "      <td>472000.00</td>\n",
       "      <td>215000.00</td>\n",
       "      <td>0.00</td>\n",
       "    </tr>\n",
       "    <tr>\n",
       "      <th>1</th>\n",
       "      <td>Afghanistan</td>\n",
       "      <td>AFG</td>\n",
       "      <td>Electricity - Gross production</td>\n",
       "      <td>1995</td>\n",
       "      <td>total_electricity</td>\n",
       "      <td>Kilowatt-hours,  thousand</td>\n",
       "      <td>675000.00</td>\n",
       "      <td>466000.00</td>\n",
       "      <td>209000.00</td>\n",
       "      <td>0.00</td>\n",
       "    </tr>\n",
       "    <tr>\n",
       "      <th>2</th>\n",
       "      <td>Afghanistan</td>\n",
       "      <td>AFG</td>\n",
       "      <td>Electricity - Gross production</td>\n",
       "      <td>1996</td>\n",
       "      <td>total_electricity</td>\n",
       "      <td>Kilowatt-hours,  thousand</td>\n",
       "      <td>675000.00</td>\n",
       "      <td>475000.00</td>\n",
       "      <td>200000.00</td>\n",
       "      <td>0.00</td>\n",
       "    </tr>\n",
       "    <tr>\n",
       "      <th>3</th>\n",
       "      <td>Afghanistan</td>\n",
       "      <td>AFG</td>\n",
       "      <td>Electricity - Gross production</td>\n",
       "      <td>1997</td>\n",
       "      <td>total_electricity</td>\n",
       "      <td>Kilowatt-hours,  thousand</td>\n",
       "      <td>670000.00</td>\n",
       "      <td>485000.00</td>\n",
       "      <td>185000.00</td>\n",
       "      <td>0.00</td>\n",
       "    </tr>\n",
       "    <tr>\n",
       "      <th>4</th>\n",
       "      <td>Afghanistan</td>\n",
       "      <td>AFG</td>\n",
       "      <td>Electricity - Gross production</td>\n",
       "      <td>1998</td>\n",
       "      <td>total_electricity</td>\n",
       "      <td>Kilowatt-hours,  thousand</td>\n",
       "      <td>665000.00</td>\n",
       "      <td>495000.00</td>\n",
       "      <td>170000.00</td>\n",
       "      <td>0.00</td>\n",
       "    </tr>\n",
       "  </tbody>\n",
       "</table>\n",
       "</div>"
      ],
      "text/plain": [
       "  country_or_area  ISO           commodity_transaction  year  \\\n",
       "0     Afghanistan  AFG  Electricity - Gross production  1994   \n",
       "1     Afghanistan  AFG  Electricity - Gross production  1995   \n",
       "2     Afghanistan  AFG  Electricity - Gross production  1996   \n",
       "3     Afghanistan  AFG  Electricity - Gross production  1997   \n",
       "4     Afghanistan  AFG  Electricity - Gross production  1998   \n",
       "\n",
       "            category                   new_unit  new_quantity  renewable  \\\n",
       "0  total_electricity  Kilowatt-hours,  thousand     687000.00  472000.00   \n",
       "1  total_electricity  Kilowatt-hours,  thousand     675000.00  466000.00   \n",
       "2  total_electricity  Kilowatt-hours,  thousand     675000.00  475000.00   \n",
       "3  total_electricity  Kilowatt-hours,  thousand     670000.00  485000.00   \n",
       "4  total_electricity  Kilowatt-hours,  thousand     665000.00  495000.00   \n",
       "\n",
       "   non_renewable  difference  \n",
       "0      215000.00        0.00  \n",
       "1      209000.00        0.00  \n",
       "2      200000.00        0.00  \n",
       "3      185000.00        0.00  \n",
       "4      170000.00        0.00  "
      ]
     },
     "execution_count": 3,
     "metadata": {},
     "output_type": "execute_result"
    }
   ],
   "source": [
    "df_r = pd.read_csv('renewable.csv', parse_dates= True)\n",
    "\n",
    "df_r.head()"
   ]
  },
  {
   "cell_type": "code",
   "execution_count": 4,
   "metadata": {},
   "outputs": [
    {
     "data": {
      "text/plain": [
       "array(['total_electricity'], dtype=object)"
      ]
     },
     "execution_count": 4,
     "metadata": {},
     "output_type": "execute_result"
    }
   ],
   "source": [
    "total_electricity=df_f.loc[(df_f['commodity_transaction'] == 'Electricity - Gross production')]\n",
    "total_electricity.category.unique()\n"
   ]
  },
  {
   "cell_type": "code",
   "execution_count": 5,
   "metadata": {},
   "outputs": [
    {
     "data": {
      "text/html": [
       "<div>\n",
       "<style scoped>\n",
       "    .dataframe tbody tr th:only-of-type {\n",
       "        vertical-align: middle;\n",
       "    }\n",
       "\n",
       "    .dataframe tbody tr th {\n",
       "        vertical-align: top;\n",
       "    }\n",
       "\n",
       "    .dataframe thead th {\n",
       "        text-align: right;\n",
       "    }\n",
       "</style>\n",
       "<table border=\"1\" class=\"dataframe\">\n",
       "  <thead>\n",
       "    <tr style=\"text-align: right;\">\n",
       "      <th></th>\n",
       "      <th>year</th>\n",
       "      <th>new_quantity</th>\n",
       "    </tr>\n",
       "  </thead>\n",
       "  <tbody>\n",
       "    <tr>\n",
       "      <th>0</th>\n",
       "      <td>1994</td>\n",
       "      <td>12886.11</td>\n",
       "    </tr>\n",
       "    <tr>\n",
       "      <th>1</th>\n",
       "      <td>1995</td>\n",
       "      <td>13324.75</td>\n",
       "    </tr>\n",
       "    <tr>\n",
       "      <th>2</th>\n",
       "      <td>1996</td>\n",
       "      <td>13753.31</td>\n",
       "    </tr>\n",
       "    <tr>\n",
       "      <th>3</th>\n",
       "      <td>1997</td>\n",
       "      <td>14042.59</td>\n",
       "    </tr>\n",
       "    <tr>\n",
       "      <th>4</th>\n",
       "      <td>1998</td>\n",
       "      <td>14370.60</td>\n",
       "    </tr>\n",
       "    <tr>\n",
       "      <th>5</th>\n",
       "      <td>1999</td>\n",
       "      <td>14801.23</td>\n",
       "    </tr>\n",
       "    <tr>\n",
       "      <th>6</th>\n",
       "      <td>2000</td>\n",
       "      <td>15496.09</td>\n",
       "    </tr>\n",
       "    <tr>\n",
       "      <th>7</th>\n",
       "      <td>2001</td>\n",
       "      <td>15597.99</td>\n",
       "    </tr>\n",
       "    <tr>\n",
       "      <th>8</th>\n",
       "      <td>2002</td>\n",
       "      <td>16215.15</td>\n",
       "    </tr>\n",
       "    <tr>\n",
       "      <th>9</th>\n",
       "      <td>2003</td>\n",
       "      <td>16812.14</td>\n",
       "    </tr>\n",
       "    <tr>\n",
       "      <th>10</th>\n",
       "      <td>2004</td>\n",
       "      <td>17593.85</td>\n",
       "    </tr>\n",
       "    <tr>\n",
       "      <th>11</th>\n",
       "      <td>2005</td>\n",
       "      <td>18359.09</td>\n",
       "    </tr>\n",
       "    <tr>\n",
       "      <th>12</th>\n",
       "      <td>2006</td>\n",
       "      <td>19072.42</td>\n",
       "    </tr>\n",
       "    <tr>\n",
       "      <th>13</th>\n",
       "      <td>2007</td>\n",
       "      <td>19905.11</td>\n",
       "    </tr>\n",
       "    <tr>\n",
       "      <th>14</th>\n",
       "      <td>2009</td>\n",
       "      <td>20214.75</td>\n",
       "    </tr>\n",
       "    <tr>\n",
       "      <th>15</th>\n",
       "      <td>2008</td>\n",
       "      <td>20230.48</td>\n",
       "    </tr>\n",
       "    <tr>\n",
       "      <th>16</th>\n",
       "      <td>2010</td>\n",
       "      <td>21552.37</td>\n",
       "    </tr>\n",
       "    <tr>\n",
       "      <th>17</th>\n",
       "      <td>2011</td>\n",
       "      <td>22173.73</td>\n",
       "    </tr>\n",
       "    <tr>\n",
       "      <th>18</th>\n",
       "      <td>2012</td>\n",
       "      <td>22681.64</td>\n",
       "    </tr>\n",
       "    <tr>\n",
       "      <th>19</th>\n",
       "      <td>2013</td>\n",
       "      <td>23453.35</td>\n",
       "    </tr>\n",
       "    <tr>\n",
       "      <th>20</th>\n",
       "      <td>2014</td>\n",
       "      <td>23906.23</td>\n",
       "    </tr>\n",
       "  </tbody>\n",
       "</table>\n",
       "</div>"
      ],
      "text/plain": [
       "    year  new_quantity\n",
       "0   1994      12886.11\n",
       "1   1995      13324.75\n",
       "2   1996      13753.31\n",
       "3   1997      14042.59\n",
       "4   1998      14370.60\n",
       "5   1999      14801.23\n",
       "6   2000      15496.09\n",
       "7   2001      15597.99\n",
       "8   2002      16215.15\n",
       "9   2003      16812.14\n",
       "10  2004      17593.85\n",
       "11  2005      18359.09\n",
       "12  2006      19072.42\n",
       "13  2007      19905.11\n",
       "14  2009      20214.75\n",
       "15  2008      20230.48\n",
       "16  2010      21552.37\n",
       "17  2011      22173.73\n",
       "18  2012      22681.64\n",
       "19  2013      23453.35\n",
       "20  2014      23906.23"
      ]
     },
     "execution_count": 5,
     "metadata": {},
     "output_type": "execute_result"
    }
   ],
   "source": [
    "total_at_world = total_electricity.groupby('year')['new_quantity'].sum().sort_values(ascending=True).reset_index()\n",
    "total_at_world\n"
   ]
  },
  {
   "cell_type": "code",
   "execution_count": 6,
   "metadata": {},
   "outputs": [
    {
     "data": {
      "text/html": [
       "\n",
       "    <div class=\"bk-root\">\n",
       "        <a href=\"https://bokeh.org\" target=\"_blank\" class=\"bk-logo bk-logo-small bk-logo-notebook\"></a>\n",
       "        <span id=\"1002\">Loading BokehJS ...</span>\n",
       "    </div>"
      ]
     },
     "metadata": {},
     "output_type": "display_data"
    },
    {
     "data": {
      "application/javascript": "\n(function(root) {\n  function now() {\n    return new Date();\n  }\n\n  const force = true;\n\n  if (typeof root._bokeh_onload_callbacks === \"undefined\" || force === true) {\n    root._bokeh_onload_callbacks = [];\n    root._bokeh_is_loading = undefined;\n  }\n\n  const JS_MIME_TYPE = 'application/javascript';\n  const HTML_MIME_TYPE = 'text/html';\n  const EXEC_MIME_TYPE = 'application/vnd.bokehjs_exec.v0+json';\n  const CLASS_NAME = 'output_bokeh rendered_html';\n\n  /**\n   * Render data to the DOM node\n   */\n  function render(props, node) {\n    const script = document.createElement(\"script\");\n    node.appendChild(script);\n  }\n\n  /**\n   * Handle when an output is cleared or removed\n   */\n  function handleClearOutput(event, handle) {\n    const cell = handle.cell;\n\n    const id = cell.output_area._bokeh_element_id;\n    const server_id = cell.output_area._bokeh_server_id;\n    // Clean up Bokeh references\n    if (id != null && id in Bokeh.index) {\n      Bokeh.index[id].model.document.clear();\n      delete Bokeh.index[id];\n    }\n\n    if (server_id !== undefined) {\n      // Clean up Bokeh references\n      const cmd_clean = \"from bokeh.io.state import curstate; print(curstate().uuid_to_server['\" + server_id + \"'].get_sessions()[0].document.roots[0]._id)\";\n      cell.notebook.kernel.execute(cmd_clean, {\n        iopub: {\n          output: function(msg) {\n            const id = msg.content.text.trim();\n            if (id in Bokeh.index) {\n              Bokeh.index[id].model.document.clear();\n              delete Bokeh.index[id];\n            }\n          }\n        }\n      });\n      // Destroy server and session\n      const cmd_destroy = \"import bokeh.io.notebook as ion; ion.destroy_server('\" + server_id + \"')\";\n      cell.notebook.kernel.execute(cmd_destroy);\n    }\n  }\n\n  /**\n   * Handle when a new output is added\n   */\n  function handleAddOutput(event, handle) {\n    const output_area = handle.output_area;\n    const output = handle.output;\n\n    // limit handleAddOutput to display_data with EXEC_MIME_TYPE content only\n    if ((output.output_type != \"display_data\") || (!Object.prototype.hasOwnProperty.call(output.data, EXEC_MIME_TYPE))) {\n      return\n    }\n\n    const toinsert = output_area.element.find(\".\" + CLASS_NAME.split(' ')[0]);\n\n    if (output.metadata[EXEC_MIME_TYPE][\"id\"] !== undefined) {\n      toinsert[toinsert.length - 1].firstChild.textContent = output.data[JS_MIME_TYPE];\n      // store reference to embed id on output_area\n      output_area._bokeh_element_id = output.metadata[EXEC_MIME_TYPE][\"id\"];\n    }\n    if (output.metadata[EXEC_MIME_TYPE][\"server_id\"] !== undefined) {\n      const bk_div = document.createElement(\"div\");\n      bk_div.innerHTML = output.data[HTML_MIME_TYPE];\n      const script_attrs = bk_div.children[0].attributes;\n      for (let i = 0; i < script_attrs.length; i++) {\n        toinsert[toinsert.length - 1].firstChild.setAttribute(script_attrs[i].name, script_attrs[i].value);\n        toinsert[toinsert.length - 1].firstChild.textContent = bk_div.children[0].textContent\n      }\n      // store reference to server id on output_area\n      output_area._bokeh_server_id = output.metadata[EXEC_MIME_TYPE][\"server_id\"];\n    }\n  }\n\n  function register_renderer(events, OutputArea) {\n\n    function append_mime(data, metadata, element) {\n      // create a DOM node to render to\n      const toinsert = this.create_output_subarea(\n        metadata,\n        CLASS_NAME,\n        EXEC_MIME_TYPE\n      );\n      this.keyboard_manager.register_events(toinsert);\n      // Render to node\n      const props = {data: data, metadata: metadata[EXEC_MIME_TYPE]};\n      render(props, toinsert[toinsert.length - 1]);\n      element.append(toinsert);\n      return toinsert\n    }\n\n    /* Handle when an output is cleared or removed */\n    events.on('clear_output.CodeCell', handleClearOutput);\n    events.on('delete.Cell', handleClearOutput);\n\n    /* Handle when a new output is added */\n    events.on('output_added.OutputArea', handleAddOutput);\n\n    /**\n     * Register the mime type and append_mime function with output_area\n     */\n    OutputArea.prototype.register_mime_type(EXEC_MIME_TYPE, append_mime, {\n      /* Is output safe? */\n      safe: true,\n      /* Index of renderer in `output_area.display_order` */\n      index: 0\n    });\n  }\n\n  // register the mime type if in Jupyter Notebook environment and previously unregistered\n  if (root.Jupyter !== undefined) {\n    const events = require('base/js/events');\n    const OutputArea = require('notebook/js/outputarea').OutputArea;\n\n    if (OutputArea.prototype.mime_types().indexOf(EXEC_MIME_TYPE) == -1) {\n      register_renderer(events, OutputArea);\n    }\n  }\n\n  \n  if (typeof (root._bokeh_timeout) === \"undefined\" || force === true) {\n    root._bokeh_timeout = Date.now() + 5000;\n    root._bokeh_failed_load = false;\n  }\n\n  const NB_LOAD_WARNING = {'data': {'text/html':\n     \"<div style='background-color: #fdd'>\\n\"+\n     \"<p>\\n\"+\n     \"BokehJS does not appear to have successfully loaded. If loading BokehJS from CDN, this \\n\"+\n     \"may be due to a slow or bad network connection. Possible fixes:\\n\"+\n     \"</p>\\n\"+\n     \"<ul>\\n\"+\n     \"<li>re-rerun `output_notebook()` to attempt to load from CDN again, or</li>\\n\"+\n     \"<li>use INLINE resources instead, as so:</li>\\n\"+\n     \"</ul>\\n\"+\n     \"<code>\\n\"+\n     \"from bokeh.resources import INLINE\\n\"+\n     \"output_notebook(resources=INLINE)\\n\"+\n     \"</code>\\n\"+\n     \"</div>\"}};\n\n  function display_loaded() {\n    const el = document.getElementById(\"1002\");\n    if (el != null) {\n      el.textContent = \"BokehJS is loading...\";\n    }\n    if (root.Bokeh !== undefined) {\n      if (el != null) {\n        el.textContent = \"BokehJS \" + root.Bokeh.version + \" successfully loaded.\";\n      }\n    } else if (Date.now() < root._bokeh_timeout) {\n      setTimeout(display_loaded, 100)\n    }\n  }\n\n\n  function run_callbacks() {\n    try {\n      root._bokeh_onload_callbacks.forEach(function(callback) {\n        if (callback != null)\n          callback();\n      });\n    } finally {\n      delete root._bokeh_onload_callbacks\n    }\n    console.debug(\"Bokeh: all callbacks have finished\");\n  }\n\n  function load_libs(css_urls, js_urls, callback) {\n    if (css_urls == null) css_urls = [];\n    if (js_urls == null) js_urls = [];\n\n    root._bokeh_onload_callbacks.push(callback);\n    if (root._bokeh_is_loading > 0) {\n      console.debug(\"Bokeh: BokehJS is being loaded, scheduling callback at\", now());\n      return null;\n    }\n    if (js_urls == null || js_urls.length === 0) {\n      run_callbacks();\n      return null;\n    }\n    console.debug(\"Bokeh: BokehJS not loaded, scheduling load and callback at\", now());\n    root._bokeh_is_loading = css_urls.length + js_urls.length;\n\n    function on_load() {\n      root._bokeh_is_loading--;\n      if (root._bokeh_is_loading === 0) {\n        console.debug(\"Bokeh: all BokehJS libraries/stylesheets loaded\");\n        run_callbacks()\n      }\n    }\n\n    function on_error(url) {\n      console.error(\"failed to load \" + url);\n    }\n\n    for (let i = 0; i < css_urls.length; i++) {\n      const url = css_urls[i];\n      const element = document.createElement(\"link\");\n      element.onload = on_load;\n      element.onerror = on_error.bind(null, url);\n      element.rel = \"stylesheet\";\n      element.type = \"text/css\";\n      element.href = url;\n      console.debug(\"Bokeh: injecting link tag for BokehJS stylesheet: \", url);\n      document.body.appendChild(element);\n    }\n\n    for (let i = 0; i < js_urls.length; i++) {\n      const url = js_urls[i];\n      const element = document.createElement('script');\n      element.onload = on_load;\n      element.onerror = on_error.bind(null, url);\n      element.async = false;\n      element.src = url;\n      console.debug(\"Bokeh: injecting script tag for BokehJS library: \", url);\n      document.head.appendChild(element);\n    }\n  };\n\n  function inject_raw_css(css) {\n    const element = document.createElement(\"style\");\n    element.appendChild(document.createTextNode(css));\n    document.body.appendChild(element);\n  }\n\n  \n  const js_urls = [\"https://cdn.bokeh.org/bokeh/release/bokeh-2.4.2.min.js\", \"https://cdn.bokeh.org/bokeh/release/bokeh-gl-2.4.2.min.js\", \"https://cdn.bokeh.org/bokeh/release/bokeh-widgets-2.4.2.min.js\", \"https://cdn.bokeh.org/bokeh/release/bokeh-tables-2.4.2.min.js\", \"https://cdn.bokeh.org/bokeh/release/bokeh-mathjax-2.4.2.min.js\"];\n  const css_urls = [];\n  \n\n  const inline_js = [\n    function(Bokeh) {\n      Bokeh.set_log_level(\"info\");\n    },\n    function(Bokeh) {\n    \n    \n    }\n  ];\n\n  function run_inline_js() {\n    \n    if (root.Bokeh !== undefined || force === true) {\n      \n    for (let i = 0; i < inline_js.length; i++) {\n      inline_js[i].call(root, root.Bokeh);\n    }\n    if (force === true) {\n        display_loaded();\n      }} else if (Date.now() < root._bokeh_timeout) {\n      setTimeout(run_inline_js, 100);\n    } else if (!root._bokeh_failed_load) {\n      console.log(\"Bokeh: BokehJS failed to load within specified timeout.\");\n      root._bokeh_failed_load = true;\n    } else if (force !== true) {\n      const cell = $(document.getElementById(\"1002\")).parents('.cell').data().cell;\n      cell.output_area.append_execute_result(NB_LOAD_WARNING)\n    }\n\n  }\n\n  if (root._bokeh_is_loading === 0) {\n    console.debug(\"Bokeh: BokehJS loaded, going straight to plotting\");\n    run_inline_js();\n  } else {\n    load_libs(css_urls, js_urls, function() {\n      console.debug(\"Bokeh: BokehJS plotting callback run at\", now());\n      run_inline_js();\n    });\n  }\n}(window));",
      "application/vnd.bokehjs_load.v0+json": ""
     },
     "metadata": {},
     "output_type": "display_data"
    },
    {
     "data": {
      "text/html": [
       "\n",
       "\n",
       "\n",
       "\n",
       "\n",
       "\n",
       "  <div class=\"bk-root\" id=\"c1d20e8f-10b2-48a7-8a9d-9f320f9e366f\" data-root-id=\"1003\"></div>\n"
      ]
     },
     "metadata": {},
     "output_type": "display_data"
    },
    {
     "data": {
      "application/javascript": "(function(root) {\n  function embed_document(root) {\n    \n  const docs_json = {\"bcda1d13-40d2-4502-89b3-8155611e49a9\":{\"defs\":[],\"roots\":{\"references\":[{\"attributes\":{\"below\":[{\"id\":\"1012\"}],\"center\":[{\"id\":\"1015\"},{\"id\":\"1019\"}],\"left\":[{\"id\":\"1016\"}],\"renderers\":[{\"id\":\"1039\"}],\"title\":{\"id\":\"1043\"},\"toolbar\":{\"id\":\"1027\"},\"x_range\":{\"id\":\"1004\"},\"x_scale\":{\"id\":\"1008\"},\"y_range\":{\"id\":\"1006\"},\"y_scale\":{\"id\":\"1010\"}},\"id\":\"1003\",\"subtype\":\"Figure\",\"type\":\"Plot\"},{\"attributes\":{},\"id\":\"1048\",\"type\":\"BasicTickFormatter\"},{\"attributes\":{},\"id\":\"1004\",\"type\":\"DataRange1d\"},{\"attributes\":{},\"id\":\"1049\",\"type\":\"AllLabels\"},{\"attributes\":{},\"id\":\"1024\",\"type\":\"ResetTool\"},{\"attributes\":{},\"id\":\"1017\",\"type\":\"BasicTicker\"},{\"attributes\":{\"bottom_units\":\"screen\",\"coordinates\":null,\"fill_alpha\":0.5,\"fill_color\":\"lightgrey\",\"group\":null,\"left_units\":\"screen\",\"level\":\"overlay\",\"line_alpha\":1.0,\"line_color\":\"black\",\"line_dash\":[4,4],\"line_width\":2,\"right_units\":\"screen\",\"syncable\":false,\"top_units\":\"screen\"},\"id\":\"1026\",\"type\":\"BoxAnnotation\"},{\"attributes\":{\"axis_label\":\"Rok\",\"coordinates\":null,\"formatter\":{\"id\":\"1048\"},\"group\":null,\"major_label_policy\":{\"id\":\"1049\"},\"ticker\":{\"id\":\"1013\"}},\"id\":\"1012\",\"type\":\"LinearAxis\"},{\"attributes\":{},\"id\":\"1021\",\"type\":\"WheelZoomTool\"},{\"attributes\":{\"axis_label\":\"Zu\\u017cycie kV/h\",\"coordinates\":null,\"formatter\":{\"id\":\"1041\"},\"group\":null,\"major_label_policy\":{\"id\":\"1046\"},\"ticker\":{\"id\":\"1017\"}},\"id\":\"1016\",\"type\":\"LinearAxis\"},{\"attributes\":{},\"id\":\"1006\",\"type\":\"DataRange1d\"},{\"attributes\":{},\"id\":\"1046\",\"type\":\"AllLabels\"},{\"attributes\":{},\"id\":\"1013\",\"type\":\"BasicTicker\"},{\"attributes\":{\"source\":{\"id\":\"1034\"}},\"id\":\"1040\",\"type\":\"CDSView\"},{\"attributes\":{},\"id\":\"1050\",\"type\":\"UnionRenderers\"},{\"attributes\":{\"axis\":{\"id\":\"1012\"},\"coordinates\":null,\"group\":null,\"ticker\":null},\"id\":\"1015\",\"type\":\"Grid\"},{\"attributes\":{},\"id\":\"1051\",\"type\":\"Selection\"},{\"attributes\":{\"line_color\":\"#1f77b4\",\"line_width\":2,\"x\":{\"field\":\"year\"},\"y\":{\"field\":\"new_quantity\"}},\"id\":\"1036\",\"type\":\"Line\"},{\"attributes\":{\"coordinates\":null,\"group\":null},\"id\":\"1043\",\"type\":\"Title\"},{\"attributes\":{},\"id\":\"1023\",\"type\":\"SaveTool\"},{\"attributes\":{\"coordinates\":null,\"data_source\":{\"id\":\"1034\"},\"glyph\":{\"id\":\"1036\"},\"group\":null,\"hover_glyph\":null,\"muted_glyph\":{\"id\":\"1038\"},\"nonselection_glyph\":{\"id\":\"1037\"},\"view\":{\"id\":\"1040\"}},\"id\":\"1039\",\"type\":\"GlyphRenderer\"},{\"attributes\":{\"line_alpha\":0.2,\"line_color\":\"#1f77b4\",\"line_width\":2,\"x\":{\"field\":\"year\"},\"y\":{\"field\":\"new_quantity\"}},\"id\":\"1038\",\"type\":\"Line\"},{\"attributes\":{\"tools\":[{\"id\":\"1020\"},{\"id\":\"1021\"},{\"id\":\"1022\"},{\"id\":\"1023\"},{\"id\":\"1024\"},{\"id\":\"1025\"}]},\"id\":\"1027\",\"type\":\"Toolbar\"},{\"attributes\":{},\"id\":\"1025\",\"type\":\"HelpTool\"},{\"attributes\":{\"line_alpha\":0.1,\"line_color\":\"#1f77b4\",\"line_width\":2,\"x\":{\"field\":\"year\"},\"y\":{\"field\":\"new_quantity\"}},\"id\":\"1037\",\"type\":\"Line\"},{\"attributes\":{\"data\":{\"index\":[0,1,2,3,4,5,6,7,8,9,10,11,12,13,14,15,16,17,18,19,20],\"new_quantity\":{\"__ndarray__\":\"m8k32w0ryUDJxoMtYAbKQBxiF6Cn3MpAzhDY5ktty0CmuKrsTBHMQHw705Wd6MxAof5pWQtEzkCTQDnA/nbOQDUomgeTq89AtJw6RQlr0ECtKMpKdi7RQGA00KHF7dFASBVq8hqg0kDMuW8QR3DTQGTQpvavvdNAaopb4J7B00C0DovEFwzVQNUwnXlup9VAicmuDGkm1kDFmC+4VufWQM4xY+yOWNdA\",\"dtype\":\"float64\",\"order\":\"little\",\"shape\":[21]},\"year\":[1994,1995,1996,1997,1998,1999,2000,2001,2002,2003,2004,2005,2006,2007,2009,2008,2010,2011,2012,2013,2014]},\"selected\":{\"id\":\"1051\"},\"selection_policy\":{\"id\":\"1050\"}},\"id\":\"1034\",\"type\":\"ColumnDataSource\"},{\"attributes\":{},\"id\":\"1008\",\"type\":\"LinearScale\"},{\"attributes\":{\"axis\":{\"id\":\"1016\"},\"coordinates\":null,\"dimension\":1,\"group\":null,\"ticker\":null},\"id\":\"1019\",\"type\":\"Grid\"},{\"attributes\":{},\"id\":\"1020\",\"type\":\"PanTool\"},{\"attributes\":{},\"id\":\"1010\",\"type\":\"LinearScale\"},{\"attributes\":{\"format\":\"00\"},\"id\":\"1041\",\"type\":\"NumeralTickFormatter\"},{\"attributes\":{\"overlay\":{\"id\":\"1026\"}},\"id\":\"1022\",\"type\":\"BoxZoomTool\"}],\"root_ids\":[\"1003\"]},\"title\":\"Bokeh Application\",\"version\":\"2.4.2\"}};\n  const render_items = [{\"docid\":\"bcda1d13-40d2-4502-89b3-8155611e49a9\",\"root_ids\":[\"1003\"],\"roots\":{\"1003\":\"c1d20e8f-10b2-48a7-8a9d-9f320f9e366f\"}}];\n  root.Bokeh.embed.embed_items_notebook(docs_json, render_items);\n\n  }\n  if (root.Bokeh !== undefined) {\n    embed_document(root);\n  } else {\n    let attempts = 0;\n    const timer = setInterval(function(root) {\n      if (root.Bokeh !== undefined) {\n        clearInterval(timer);\n        embed_document(root);\n      } else {\n        attempts++;\n        if (attempts > 100) {\n          clearInterval(timer);\n          console.log(\"Bokeh: ERROR: Unable to run BokehJS code because BokehJS library is missing\");\n        }\n      }\n    }, 10, root)\n  }\n})(window);",
      "application/vnd.bokehjs_exec.v0+json": ""
     },
     "metadata": {
      "application/vnd.bokehjs_exec.v0+json": {
       "id": "1003"
      }
     },
     "output_type": "display_data"
    }
   ],
   "source": [
    "output_notebook()\n",
    "p = figure()\n",
    "p.line(x='year', y='new_quantity', line_width=2, source = total_at_world)\n",
    "p.yaxis.formatter=NumeralTickFormatter(format=\"00\")\n",
    "p.xaxis.axis_label = 'Rok'\n",
    "p.yaxis.axis_label = 'Zużycie kV/h'\n",
    "show(p)"
   ]
  },
  {
   "cell_type": "code",
   "execution_count": 7,
   "metadata": {},
   "outputs": [],
   "source": [
    "def _get_country_per_year_stats(\n",
    "    data_renewable: pd.DataFrame,\n",
    "    country: str, \n",
    "    year: int\n",
    ") -> pd.DataFrame:\n",
    "    \"\"\" Gets stats of country per year\"\"\"\n",
    "\n",
    "    yearlist = [year-2,year-1,year]\n",
    "    frame_for_year = data_renewable.loc[(data_renewable['year'] == year)].sort_values(by= 'new_quantity', ascending=True).reset_index(drop=True)\n",
    "    contry_frame_3years = data_renewable[ (data_renewable['year'].isin(yearlist)) & (data_renewable['country_or_area'] == country)]\n",
    "    country_frame = data_renewable[(data_renewable['year'] == year) & (data_renewable['country_or_area'] == country)]\n",
    "    top3 = frame_for_year.head(3)\n",
    "    bot3 = frame_for_year.tail(3)\n",
    "    frameList = [top3,country_frame,bot3]\n",
    "    ranking = pd.concat(frameList)\n",
    "    rankinglist = [1,2,3,frame_for_year[frame_for_year['country_or_area'] == country].index[0]+1,bot3.index[0]+1,bot3.index[1]+1,bot3.index[2]+1]\n",
    "    ranking.insert(loc=0, column= 'Ranking', value = rankinglist )\n",
    "    \n",
    "    return ranking"
   ]
  },
  {
   "cell_type": "code",
   "execution_count": 8,
   "metadata": {},
   "outputs": [
    {
     "data": {
      "text/html": [
       "<div>\n",
       "<style scoped>\n",
       "    .dataframe tbody tr th:only-of-type {\n",
       "        vertical-align: middle;\n",
       "    }\n",
       "\n",
       "    .dataframe tbody tr th {\n",
       "        vertical-align: top;\n",
       "    }\n",
       "\n",
       "    .dataframe thead th {\n",
       "        text-align: right;\n",
       "    }\n",
       "</style>\n",
       "<table border=\"1\" class=\"dataframe\">\n",
       "  <thead>\n",
       "    <tr style=\"text-align: right;\">\n",
       "      <th></th>\n",
       "      <th>Ranking</th>\n",
       "      <th>country_or_area</th>\n",
       "      <th>ISO</th>\n",
       "      <th>commodity_transaction</th>\n",
       "      <th>year</th>\n",
       "      <th>category</th>\n",
       "      <th>new_unit</th>\n",
       "      <th>new_quantity</th>\n",
       "      <th>renewable</th>\n",
       "      <th>non_renewable</th>\n",
       "      <th>difference</th>\n",
       "    </tr>\n",
       "  </thead>\n",
       "  <tbody>\n",
       "    <tr>\n",
       "      <th>0</th>\n",
       "      <td>1</td>\n",
       "      <td>Niue</td>\n",
       "      <td>NIU</td>\n",
       "      <td>Electricity - Gross production</td>\n",
       "      <td>2014</td>\n",
       "      <td>total_electricity</td>\n",
       "      <td>Kilowatt-hours,  thousand</td>\n",
       "      <td>3226.67</td>\n",
       "      <td>66.67</td>\n",
       "      <td>3160.00</td>\n",
       "      <td>0.00</td>\n",
       "    </tr>\n",
       "    <tr>\n",
       "      <th>1</th>\n",
       "      <td>2</td>\n",
       "      <td>Tuvalu</td>\n",
       "      <td>TUV</td>\n",
       "      <td>Electricity - Gross production</td>\n",
       "      <td>2014</td>\n",
       "      <td>total_electricity</td>\n",
       "      <td>Kilowatt-hours,  thousand</td>\n",
       "      <td>5100.00</td>\n",
       "      <td>0.00</td>\n",
       "      <td>5100.00</td>\n",
       "      <td>0.00</td>\n",
       "    </tr>\n",
       "    <tr>\n",
       "      <th>2</th>\n",
       "      <td>3</td>\n",
       "      <td>St. Helena and Depend.</td>\n",
       "      <td>SHN</td>\n",
       "      <td>Electricity - Gross production</td>\n",
       "      <td>2014</td>\n",
       "      <td>total_electricity</td>\n",
       "      <td>Kilowatt-hours,  thousand</td>\n",
       "      <td>10670.00</td>\n",
       "      <td>1080.00</td>\n",
       "      <td>9590.00</td>\n",
       "      <td>0.00</td>\n",
       "    </tr>\n",
       "    <tr>\n",
       "      <th>3380</th>\n",
       "      <td>205</td>\n",
       "      <td>Poland</td>\n",
       "      <td>POL</td>\n",
       "      <td>Electricity - Gross production</td>\n",
       "      <td>2014</td>\n",
       "      <td>total_electricity</td>\n",
       "      <td>Kilowatt-hours,  thousand</td>\n",
       "      <td>159059000.00</td>\n",
       "      <td>10417000.00</td>\n",
       "      <td>148642000.00</td>\n",
       "      <td>0.00</td>\n",
       "    </tr>\n",
       "    <tr>\n",
       "      <th>226</th>\n",
       "      <td>227</td>\n",
       "      <td>India</td>\n",
       "      <td>IND</td>\n",
       "      <td>Electricity - Gross production</td>\n",
       "      <td>2014</td>\n",
       "      <td>total_electricity</td>\n",
       "      <td>Kilowatt-hours,  thousand</td>\n",
       "      <td>1308873000.00</td>\n",
       "      <td>197532000.00</td>\n",
       "      <td>1111341000.00</td>\n",
       "      <td>0.00</td>\n",
       "    </tr>\n",
       "    <tr>\n",
       "      <th>227</th>\n",
       "      <td>228</td>\n",
       "      <td>United States</td>\n",
       "      <td>USA</td>\n",
       "      <td>Electricity - Gross production</td>\n",
       "      <td>2014</td>\n",
       "      <td>total_electricity</td>\n",
       "      <td>Kilowatt-hours,  thousand</td>\n",
       "      <td>4339210000.00</td>\n",
       "      <td>1339316000.00</td>\n",
       "      <td>2999894000.00</td>\n",
       "      <td>0.00</td>\n",
       "    </tr>\n",
       "    <tr>\n",
       "      <th>228</th>\n",
       "      <td>229</td>\n",
       "      <td>China</td>\n",
       "      <td>CHN</td>\n",
       "      <td>Electricity - Gross production</td>\n",
       "      <td>2014</td>\n",
       "      <td>total_electricity</td>\n",
       "      <td>Kilowatt-hours,  thousand</td>\n",
       "      <td>5649583500.00</td>\n",
       "      <td>1368142000.00</td>\n",
       "      <td>4281441500.00</td>\n",
       "      <td>0.00</td>\n",
       "    </tr>\n",
       "  </tbody>\n",
       "</table>\n",
       "</div>"
      ],
      "text/plain": [
       "      Ranking         country_or_area  ISO           commodity_transaction  \\\n",
       "0           1                    Niue  NIU  Electricity - Gross production   \n",
       "1           2                  Tuvalu  TUV  Electricity - Gross production   \n",
       "2           3  St. Helena and Depend.  SHN  Electricity - Gross production   \n",
       "3380      205                  Poland  POL  Electricity - Gross production   \n",
       "226       227                   India  IND  Electricity - Gross production   \n",
       "227       228           United States  USA  Electricity - Gross production   \n",
       "228       229                   China  CHN  Electricity - Gross production   \n",
       "\n",
       "      year           category                   new_unit  new_quantity  \\\n",
       "0     2014  total_electricity  Kilowatt-hours,  thousand       3226.67   \n",
       "1     2014  total_electricity  Kilowatt-hours,  thousand       5100.00   \n",
       "2     2014  total_electricity  Kilowatt-hours,  thousand      10670.00   \n",
       "3380  2014  total_electricity  Kilowatt-hours,  thousand  159059000.00   \n",
       "226   2014  total_electricity  Kilowatt-hours,  thousand 1308873000.00   \n",
       "227   2014  total_electricity  Kilowatt-hours,  thousand 4339210000.00   \n",
       "228   2014  total_electricity  Kilowatt-hours,  thousand 5649583500.00   \n",
       "\n",
       "         renewable  non_renewable  difference  \n",
       "0            66.67        3160.00        0.00  \n",
       "1             0.00        5100.00        0.00  \n",
       "2          1080.00        9590.00        0.00  \n",
       "3380   10417000.00   148642000.00        0.00  \n",
       "226   197532000.00  1111341000.00        0.00  \n",
       "227  1339316000.00  2999894000.00        0.00  \n",
       "228  1368142000.00  4281441500.00        0.00  "
      ]
     },
     "execution_count": 8,
     "metadata": {},
     "output_type": "execute_result"
    }
   ],
   "source": [
    "_get_country_per_year_stats(df_r,'Poland',2014)"
   ]
  },
  {
   "cell_type": "code",
   "execution_count": 9,
   "metadata": {},
   "outputs": [],
   "source": [
    "def _get_country_yearly_stats(\n",
    "    data: pd.DataFrame,\n",
    "    country: str, \n",
    ") -> pd.DataFrame:\n",
    "    \"\"\" Gets stats of selected country throught years\n",
    "        Working at final_version.csv file \n",
    "    \"\"\"\n",
    "\n",
    "    import seaborn as sns\n",
    "    from bokeh.layouts import gridplot\n",
    "    from bokeh.io import output_notebook, show, reset_output\n",
    "    from bokeh.plotting import figure\n",
    "    from bokeh.models import HoverTool, ColumnDataSource, CDSView, BooleanFilter, Legend\n",
    "    from bokeh.palettes import Spectral\n",
    "    from bokeh.models import NumeralTickFormatter\n",
    "    \n",
    "    source_list = ['Electricity - total nuclear production',\n",
    "                'Electricity - total geothermal production',\n",
    "                'Electricity - total tide, wave and hydro production',\n",
    "                'Electricity - total solar production',\n",
    "                'Electricity - total wind production','Electricity - total thermal production','Electricity - Gross production']\n",
    "\n",
    "    df_ele = data.loc[(data.commodity_transaction.isin(source_list))]\n",
    "\n",
    "    source_list_short = {'Electricity - total nuclear production': 'Nuclear Production',\n",
    "                'Electricity - total geothermal production': 'Geothermal Production',\n",
    "                'Electricity - total tide, wave and hydro production': 'Tide, Wave and Hydro Production',\n",
    "                'Electricity - total solar production': 'Solar Production',\n",
    "                'Electricity - total wind production': 'Wind Production',\n",
    "                'Electricity - total thermal production': 'Thermal Production',\n",
    "                'Electricity - Gross production': 'Gross Production'}\n",
    "\n",
    "    df_ele ['commodity_transaction'] = df_ele.commodity_transaction.map(source_list_short)         \n",
    "          \n",
    "    output_notebook()\n",
    "\n",
    "    country_for_pivot = df_ele.loc[(df_ele['country_or_area'] == country)]\n",
    "\n",
    "    names = list(country_for_pivot['commodity_transaction'].unique())\n",
    "    names.remove('Gross Production')\n",
    "    Reverse_Spectral= Spectral.copy()\n",
    "    Reverse_Spectral[len(names)]\n",
    "\n",
    "    total_by_source = pd.pivot_table(country_for_pivot, values = 'new_quantity', index=['year'], columns =['commodity_transaction'], fill_value=0)\n",
    "    \n",
    "    \n",
    "    for i in names:\n",
    "        total_by_source[i + ' %'] = (total_by_source[i])*100/(total_by_source[names].sum(axis=1))\n",
    "\n",
    "    \n",
    "    cm = sns.light_palette(\"blue\", as_cmap=True)\n",
    "    a = total_by_source.style.background_gradient(cmap=cm)\n",
    "\n",
    "    \n",
    "    \n",
    "    source = source = ColumnDataSource(total_by_source)\n",
    "    \n",
    "    tooltips_source = [\n",
    "        ('year', '@year'),\n",
    "        ('By Source', '@$name{0,0} KWh. M'),\n",
    "        ('Total','$y{0,0} KWh. M')\n",
    "    ]\n",
    "\n",
    "    subplot1 = figure(title = 'Electricity Production in {} by Source 1994-2014'.format(country),plot_width=800, plot_height=600,)\n",
    "    subplot1.varea_stack(names,\n",
    "                    x='year',color=Reverse_Spectral[len(names)] , legend_label = names, source = source)\n",
    "\n",
    "    subplot1.vline_stack(names,\n",
    "                    x='year',color = 'black', source = source)\n",
    "    \n",
    "    subplot1.line(x = 'year', y = 'Gross Production',\n",
    "                line_dash=[4, 4], line_color='gray', line_width=2, legend_label='Gross Production', source = source)\n",
    "    subplot1.add_layout(subplot1.legend[0], 'right')\n",
    "    subplot1.legend.location = \"bottom_right\"\n",
    "    #subplot1.legend.location ='outside'\n",
    "    subplot1.add_tools(HoverTool(tooltips = tooltips_source))\n",
    "    subplot1.yaxis.formatter=NumeralTickFormatter(format=\"00\")\n",
    "    show(subplot1)\n",
    "    \n",
    "    return a \n",
    "   "
   ]
  },
  {
   "cell_type": "code",
   "execution_count": 10,
   "metadata": {},
   "outputs": [
    {
     "name": "stderr",
     "output_type": "stream",
     "text": [
      "C:\\Users\\karl1\\AppData\\Local\\Temp\\ipykernel_26548\\3122336756.py:33: SettingWithCopyWarning: \n",
      "A value is trying to be set on a copy of a slice from a DataFrame.\n",
      "Try using .loc[row_indexer,col_indexer] = value instead\n",
      "\n",
      "See the caveats in the documentation: https://pandas.pydata.org/pandas-docs/stable/user_guide/indexing.html#returning-a-view-versus-a-copy\n",
      "  df_ele ['commodity_transaction'] = df_ele.commodity_transaction.map(source_list_short)\n"
     ]
    },
    {
     "data": {
      "text/html": [
       "\n",
       "    <div class=\"bk-root\">\n",
       "        <a href=\"https://bokeh.org\" target=\"_blank\" class=\"bk-logo bk-logo-small bk-logo-notebook\"></a>\n",
       "        <span id=\"1103\">Loading BokehJS ...</span>\n",
       "    </div>"
      ]
     },
     "metadata": {},
     "output_type": "display_data"
    },
    {
     "data": {
      "application/javascript": "\n(function(root) {\n  function now() {\n    return new Date();\n  }\n\n  const force = true;\n\n  if (typeof root._bokeh_onload_callbacks === \"undefined\" || force === true) {\n    root._bokeh_onload_callbacks = [];\n    root._bokeh_is_loading = undefined;\n  }\n\n  const JS_MIME_TYPE = 'application/javascript';\n  const HTML_MIME_TYPE = 'text/html';\n  const EXEC_MIME_TYPE = 'application/vnd.bokehjs_exec.v0+json';\n  const CLASS_NAME = 'output_bokeh rendered_html';\n\n  /**\n   * Render data to the DOM node\n   */\n  function render(props, node) {\n    const script = document.createElement(\"script\");\n    node.appendChild(script);\n  }\n\n  /**\n   * Handle when an output is cleared or removed\n   */\n  function handleClearOutput(event, handle) {\n    const cell = handle.cell;\n\n    const id = cell.output_area._bokeh_element_id;\n    const server_id = cell.output_area._bokeh_server_id;\n    // Clean up Bokeh references\n    if (id != null && id in Bokeh.index) {\n      Bokeh.index[id].model.document.clear();\n      delete Bokeh.index[id];\n    }\n\n    if (server_id !== undefined) {\n      // Clean up Bokeh references\n      const cmd_clean = \"from bokeh.io.state import curstate; print(curstate().uuid_to_server['\" + server_id + \"'].get_sessions()[0].document.roots[0]._id)\";\n      cell.notebook.kernel.execute(cmd_clean, {\n        iopub: {\n          output: function(msg) {\n            const id = msg.content.text.trim();\n            if (id in Bokeh.index) {\n              Bokeh.index[id].model.document.clear();\n              delete Bokeh.index[id];\n            }\n          }\n        }\n      });\n      // Destroy server and session\n      const cmd_destroy = \"import bokeh.io.notebook as ion; ion.destroy_server('\" + server_id + \"')\";\n      cell.notebook.kernel.execute(cmd_destroy);\n    }\n  }\n\n  /**\n   * Handle when a new output is added\n   */\n  function handleAddOutput(event, handle) {\n    const output_area = handle.output_area;\n    const output = handle.output;\n\n    // limit handleAddOutput to display_data with EXEC_MIME_TYPE content only\n    if ((output.output_type != \"display_data\") || (!Object.prototype.hasOwnProperty.call(output.data, EXEC_MIME_TYPE))) {\n      return\n    }\n\n    const toinsert = output_area.element.find(\".\" + CLASS_NAME.split(' ')[0]);\n\n    if (output.metadata[EXEC_MIME_TYPE][\"id\"] !== undefined) {\n      toinsert[toinsert.length - 1].firstChild.textContent = output.data[JS_MIME_TYPE];\n      // store reference to embed id on output_area\n      output_area._bokeh_element_id = output.metadata[EXEC_MIME_TYPE][\"id\"];\n    }\n    if (output.metadata[EXEC_MIME_TYPE][\"server_id\"] !== undefined) {\n      const bk_div = document.createElement(\"div\");\n      bk_div.innerHTML = output.data[HTML_MIME_TYPE];\n      const script_attrs = bk_div.children[0].attributes;\n      for (let i = 0; i < script_attrs.length; i++) {\n        toinsert[toinsert.length - 1].firstChild.setAttribute(script_attrs[i].name, script_attrs[i].value);\n        toinsert[toinsert.length - 1].firstChild.textContent = bk_div.children[0].textContent\n      }\n      // store reference to server id on output_area\n      output_area._bokeh_server_id = output.metadata[EXEC_MIME_TYPE][\"server_id\"];\n    }\n  }\n\n  function register_renderer(events, OutputArea) {\n\n    function append_mime(data, metadata, element) {\n      // create a DOM node to render to\n      const toinsert = this.create_output_subarea(\n        metadata,\n        CLASS_NAME,\n        EXEC_MIME_TYPE\n      );\n      this.keyboard_manager.register_events(toinsert);\n      // Render to node\n      const props = {data: data, metadata: metadata[EXEC_MIME_TYPE]};\n      render(props, toinsert[toinsert.length - 1]);\n      element.append(toinsert);\n      return toinsert\n    }\n\n    /* Handle when an output is cleared or removed */\n    events.on('clear_output.CodeCell', handleClearOutput);\n    events.on('delete.Cell', handleClearOutput);\n\n    /* Handle when a new output is added */\n    events.on('output_added.OutputArea', handleAddOutput);\n\n    /**\n     * Register the mime type and append_mime function with output_area\n     */\n    OutputArea.prototype.register_mime_type(EXEC_MIME_TYPE, append_mime, {\n      /* Is output safe? */\n      safe: true,\n      /* Index of renderer in `output_area.display_order` */\n      index: 0\n    });\n  }\n\n  // register the mime type if in Jupyter Notebook environment and previously unregistered\n  if (root.Jupyter !== undefined) {\n    const events = require('base/js/events');\n    const OutputArea = require('notebook/js/outputarea').OutputArea;\n\n    if (OutputArea.prototype.mime_types().indexOf(EXEC_MIME_TYPE) == -1) {\n      register_renderer(events, OutputArea);\n    }\n  }\n\n  \n  if (typeof (root._bokeh_timeout) === \"undefined\" || force === true) {\n    root._bokeh_timeout = Date.now() + 5000;\n    root._bokeh_failed_load = false;\n  }\n\n  const NB_LOAD_WARNING = {'data': {'text/html':\n     \"<div style='background-color: #fdd'>\\n\"+\n     \"<p>\\n\"+\n     \"BokehJS does not appear to have successfully loaded. If loading BokehJS from CDN, this \\n\"+\n     \"may be due to a slow or bad network connection. Possible fixes:\\n\"+\n     \"</p>\\n\"+\n     \"<ul>\\n\"+\n     \"<li>re-rerun `output_notebook()` to attempt to load from CDN again, or</li>\\n\"+\n     \"<li>use INLINE resources instead, as so:</li>\\n\"+\n     \"</ul>\\n\"+\n     \"<code>\\n\"+\n     \"from bokeh.resources import INLINE\\n\"+\n     \"output_notebook(resources=INLINE)\\n\"+\n     \"</code>\\n\"+\n     \"</div>\"}};\n\n  function display_loaded() {\n    const el = document.getElementById(\"1103\");\n    if (el != null) {\n      el.textContent = \"BokehJS is loading...\";\n    }\n    if (root.Bokeh !== undefined) {\n      if (el != null) {\n        el.textContent = \"BokehJS \" + root.Bokeh.version + \" successfully loaded.\";\n      }\n    } else if (Date.now() < root._bokeh_timeout) {\n      setTimeout(display_loaded, 100)\n    }\n  }\n\n\n  function run_callbacks() {\n    try {\n      root._bokeh_onload_callbacks.forEach(function(callback) {\n        if (callback != null)\n          callback();\n      });\n    } finally {\n      delete root._bokeh_onload_callbacks\n    }\n    console.debug(\"Bokeh: all callbacks have finished\");\n  }\n\n  function load_libs(css_urls, js_urls, callback) {\n    if (css_urls == null) css_urls = [];\n    if (js_urls == null) js_urls = [];\n\n    root._bokeh_onload_callbacks.push(callback);\n    if (root._bokeh_is_loading > 0) {\n      console.debug(\"Bokeh: BokehJS is being loaded, scheduling callback at\", now());\n      return null;\n    }\n    if (js_urls == null || js_urls.length === 0) {\n      run_callbacks();\n      return null;\n    }\n    console.debug(\"Bokeh: BokehJS not loaded, scheduling load and callback at\", now());\n    root._bokeh_is_loading = css_urls.length + js_urls.length;\n\n    function on_load() {\n      root._bokeh_is_loading--;\n      if (root._bokeh_is_loading === 0) {\n        console.debug(\"Bokeh: all BokehJS libraries/stylesheets loaded\");\n        run_callbacks()\n      }\n    }\n\n    function on_error(url) {\n      console.error(\"failed to load \" + url);\n    }\n\n    for (let i = 0; i < css_urls.length; i++) {\n      const url = css_urls[i];\n      const element = document.createElement(\"link\");\n      element.onload = on_load;\n      element.onerror = on_error.bind(null, url);\n      element.rel = \"stylesheet\";\n      element.type = \"text/css\";\n      element.href = url;\n      console.debug(\"Bokeh: injecting link tag for BokehJS stylesheet: \", url);\n      document.body.appendChild(element);\n    }\n\n    for (let i = 0; i < js_urls.length; i++) {\n      const url = js_urls[i];\n      const element = document.createElement('script');\n      element.onload = on_load;\n      element.onerror = on_error.bind(null, url);\n      element.async = false;\n      element.src = url;\n      console.debug(\"Bokeh: injecting script tag for BokehJS library: \", url);\n      document.head.appendChild(element);\n    }\n  };\n\n  function inject_raw_css(css) {\n    const element = document.createElement(\"style\");\n    element.appendChild(document.createTextNode(css));\n    document.body.appendChild(element);\n  }\n\n  \n  const js_urls = [\"https://cdn.bokeh.org/bokeh/release/bokeh-2.4.2.min.js\", \"https://cdn.bokeh.org/bokeh/release/bokeh-gl-2.4.2.min.js\", \"https://cdn.bokeh.org/bokeh/release/bokeh-widgets-2.4.2.min.js\", \"https://cdn.bokeh.org/bokeh/release/bokeh-tables-2.4.2.min.js\", \"https://cdn.bokeh.org/bokeh/release/bokeh-mathjax-2.4.2.min.js\"];\n  const css_urls = [];\n  \n\n  const inline_js = [\n    function(Bokeh) {\n      Bokeh.set_log_level(\"info\");\n    },\n    function(Bokeh) {\n    \n    \n    }\n  ];\n\n  function run_inline_js() {\n    \n    if (root.Bokeh !== undefined || force === true) {\n      \n    for (let i = 0; i < inline_js.length; i++) {\n      inline_js[i].call(root, root.Bokeh);\n    }\n    if (force === true) {\n        display_loaded();\n      }} else if (Date.now() < root._bokeh_timeout) {\n      setTimeout(run_inline_js, 100);\n    } else if (!root._bokeh_failed_load) {\n      console.log(\"Bokeh: BokehJS failed to load within specified timeout.\");\n      root._bokeh_failed_load = true;\n    } else if (force !== true) {\n      const cell = $(document.getElementById(\"1103\")).parents('.cell').data().cell;\n      cell.output_area.append_execute_result(NB_LOAD_WARNING)\n    }\n\n  }\n\n  if (root._bokeh_is_loading === 0) {\n    console.debug(\"Bokeh: BokehJS loaded, going straight to plotting\");\n    run_inline_js();\n  } else {\n    load_libs(css_urls, js_urls, function() {\n      console.debug(\"Bokeh: BokehJS plotting callback run at\", now());\n      run_inline_js();\n    });\n  }\n}(window));",
      "application/vnd.bokehjs_load.v0+json": ""
     },
     "metadata": {},
     "output_type": "display_data"
    },
    {
     "data": {
      "text/html": [
       "\n",
       "\n",
       "\n",
       "\n",
       "\n",
       "\n",
       "  <div class=\"bk-root\" id=\"6072721f-3582-489e-89c8-1136e1eded8d\" data-root-id=\"1105\"></div>\n"
      ]
     },
     "metadata": {},
     "output_type": "display_data"
    },
    {
     "data": {
      "application/javascript": "(function(root) {\n  function embed_document(root) {\n    \n  const docs_json = {\"bd0a7aab-022c-4dfd-9ae4-56a3d5ab11a4\":{\"defs\":[],\"roots\":{\"references\":[{\"attributes\":{\"below\":[{\"id\":\"1116\"}],\"center\":[{\"id\":\"1119\"},{\"id\":\"1123\"},{\"id\":\"1162\"}],\"left\":[{\"id\":\"1120\"}],\"renderers\":[{\"id\":\"1150\"},{\"id\":\"1168\"},{\"id\":\"1185\"},{\"id\":\"1202\"},{\"id\":\"1223\"},{\"id\":\"1229\"},{\"id\":\"1235\"},{\"id\":\"1241\"},{\"id\":\"1247\"}],\"right\":[{\"id\":\"1162\"}],\"title\":{\"id\":\"1106\"},\"toolbar\":{\"id\":\"1131\"},\"width\":800,\"x_range\":{\"id\":\"1108\"},\"x_scale\":{\"id\":\"1112\"},\"y_range\":{\"id\":\"1110\"},\"y_scale\":{\"id\":\"1114\"}},\"id\":\"1105\",\"subtype\":\"Figure\",\"type\":\"Plot\"},{\"attributes\":{},\"id\":\"1128\",\"type\":\"ResetTool\"},{\"attributes\":{\"format\":\"00\"},\"id\":\"1262\",\"type\":\"NumeralTickFormatter\"},{\"attributes\":{\"coordinates\":null,\"data_source\":{\"id\":\"1104\"},\"glyph\":{\"id\":\"1182\"},\"group\":null,\"hover_glyph\":null,\"muted_glyph\":{\"id\":\"1184\"},\"name\":\"Tide, Wave and Hydro Production\",\"nonselection_glyph\":{\"id\":\"1183\"},\"view\":{\"id\":\"1186\"}},\"id\":\"1185\",\"type\":\"GlyphRenderer\"},{\"attributes\":{\"fields\":[\"Solar Production\",\"Thermal Production\"]},\"id\":\"1141\",\"type\":\"Stack\"},{\"attributes\":{\"label\":{\"value\":\"Tide, Wave and Hydro Production\"},\"renderers\":[{\"id\":\"1185\"}]},\"id\":\"1197\",\"type\":\"LegendItem\"},{\"attributes\":{\"source\":{\"id\":\"1104\"}},\"id\":\"1186\",\"type\":\"CDSView\"},{\"attributes\":{\"fill_alpha\":0.1,\"fill_color\":\"#2b83ba\",\"hatch_alpha\":{\"value\":0.1},\"hatch_color\":{\"value\":\"#2b83ba\"},\"x\":{\"field\":\"year\"},\"y1\":{\"expr\":{\"id\":\"1138\"}},\"y2\":{\"expr\":{\"id\":\"1139\"}}},\"id\":\"1148\",\"type\":\"VArea\"},{\"attributes\":{},\"id\":\"1124\",\"type\":\"PanTool\"},{\"attributes\":{},\"id\":\"1125\",\"type\":\"WheelZoomTool\"},{\"attributes\":{\"bottom_units\":\"screen\",\"coordinates\":null,\"fill_alpha\":0.5,\"fill_color\":\"lightgrey\",\"group\":null,\"left_units\":\"screen\",\"level\":\"overlay\",\"line_alpha\":1.0,\"line_color\":\"black\",\"line_dash\":[4,4],\"line_width\":2,\"right_units\":\"screen\",\"syncable\":false,\"top_units\":\"screen\"},\"id\":\"1130\",\"type\":\"BoxAnnotation\"},{\"attributes\":{\"fields\":[\"Solar Production\",\"Thermal Production\",\"Tide, Wave and Hydro Production\"]},\"id\":\"1143\",\"type\":\"Stack\"},{\"attributes\":{},\"id\":\"1117\",\"type\":\"BasicTicker\"},{\"attributes\":{\"tools\":[{\"id\":\"1124\"},{\"id\":\"1125\"},{\"id\":\"1126\"},{\"id\":\"1127\"},{\"id\":\"1128\"},{\"id\":\"1129\"},{\"id\":\"1260\"}]},\"id\":\"1131\",\"type\":\"Toolbar\"},{\"attributes\":{\"coordinates\":null,\"group\":null,\"items\":[{\"id\":\"1163\"},{\"id\":\"1180\"},{\"id\":\"1197\"},{\"id\":\"1214\"},{\"id\":\"1259\"}],\"location\":\"bottom_right\"},\"id\":\"1162\",\"type\":\"Legend\"},{\"attributes\":{\"label\":{\"value\":\"Solar Production\"},\"renderers\":[{\"id\":\"1150\"}]},\"id\":\"1163\",\"type\":\"LegendItem\"},{\"attributes\":{},\"id\":\"1159\",\"type\":\"UnionRenderers\"},{\"attributes\":{\"fields\":[\"Solar Production\",\"Thermal Production\"]},\"id\":\"1142\",\"type\":\"Stack\"},{\"attributes\":{\"fields\":[\"Solar Production\"]},\"id\":\"1139\",\"type\":\"Stack\"},{\"attributes\":{\"coordinates\":null,\"data_source\":{\"id\":\"1104\"},\"glyph\":{\"id\":\"1165\"},\"group\":null,\"hover_glyph\":null,\"muted_glyph\":{\"id\":\"1167\"},\"name\":\"Thermal Production\",\"nonselection_glyph\":{\"id\":\"1166\"},\"view\":{\"id\":\"1169\"}},\"id\":\"1168\",\"type\":\"GlyphRenderer\"},{\"attributes\":{},\"id\":\"1160\",\"type\":\"Selection\"},{\"attributes\":{\"fields\":[\"Solar Production\",\"Thermal Production\",\"Tide, Wave and Hydro Production\"]},\"id\":\"1144\",\"type\":\"Stack\"},{\"attributes\":{\"axis\":{\"id\":\"1116\"},\"coordinates\":null,\"group\":null,\"ticker\":null},\"id\":\"1119\",\"type\":\"Grid\"},{\"attributes\":{\"fill_alpha\":0.2,\"fill_color\":\"#fdae61\",\"hatch_alpha\":{\"value\":0.2},\"hatch_color\":{\"value\":\"#fdae61\"},\"x\":{\"field\":\"year\"},\"y1\":{\"expr\":{\"id\":\"1142\"}},\"y2\":{\"expr\":{\"id\":\"1143\"}}},\"id\":\"1184\",\"type\":\"VArea\"},{\"attributes\":{\"fill_alpha\":0.1,\"fill_color\":\"#d7191c\",\"hatch_alpha\":{\"value\":0.1},\"hatch_color\":{\"value\":\"#d7191c\"},\"x\":{\"field\":\"year\"},\"y1\":{\"expr\":{\"id\":\"1144\"}},\"y2\":{\"expr\":{\"id\":\"1145\"}}},\"id\":\"1200\",\"type\":\"VArea\"},{\"attributes\":{},\"id\":\"1110\",\"type\":\"DataRange1d\"},{\"attributes\":{\"fill_alpha\":0.2,\"fill_color\":\"#d7191c\",\"hatch_alpha\":{\"value\":0.2},\"hatch_color\":{\"value\":\"#d7191c\"},\"x\":{\"field\":\"year\"},\"y1\":{\"expr\":{\"id\":\"1144\"}},\"y2\":{\"expr\":{\"id\":\"1145\"}}},\"id\":\"1201\",\"type\":\"VArea\"},{\"attributes\":{\"fill_alpha\":0.2,\"fill_color\":\"#abdda4\",\"hatch_alpha\":{\"value\":0.2},\"hatch_color\":{\"value\":\"#abdda4\"},\"x\":{\"field\":\"year\"},\"y1\":{\"expr\":{\"id\":\"1140\"}},\"y2\":{\"expr\":{\"id\":\"1141\"}}},\"id\":\"1167\",\"type\":\"VArea\"},{\"attributes\":{\"source\":{\"id\":\"1104\"}},\"id\":\"1169\",\"type\":\"CDSView\"},{\"attributes\":{},\"id\":\"1108\",\"type\":\"DataRange1d\"},{\"attributes\":{\"fill_color\":\"#fdae61\",\"hatch_color\":{\"value\":\"#fdae61\"},\"x\":{\"field\":\"year\"},\"y1\":{\"expr\":{\"id\":\"1142\"}},\"y2\":{\"expr\":{\"id\":\"1143\"}}},\"id\":\"1182\",\"type\":\"VArea\"},{\"attributes\":{\"source\":{\"id\":\"1104\"}},\"id\":\"1203\",\"type\":\"CDSView\"},{\"attributes\":{},\"id\":\"1127\",\"type\":\"SaveTool\"},{\"attributes\":{\"overlay\":{\"id\":\"1130\"}},\"id\":\"1126\",\"type\":\"BoxZoomTool\"},{\"attributes\":{\"label\":{\"value\":\"Thermal Production\"},\"renderers\":[{\"id\":\"1168\"}]},\"id\":\"1180\",\"type\":\"LegendItem\"},{\"attributes\":{},\"id\":\"1157\",\"type\":\"BasicTickFormatter\"},{\"attributes\":{},\"id\":\"1129\",\"type\":\"HelpTool\"},{\"attributes\":{\"coordinates\":null,\"formatter\":{\"id\":\"1262\"},\"group\":null,\"major_label_policy\":{\"id\":\"1155\"},\"ticker\":{\"id\":\"1121\"}},\"id\":\"1120\",\"type\":\"LinearAxis\"},{\"attributes\":{\"source\":{\"id\":\"1104\"}},\"id\":\"1151\",\"type\":\"CDSView\"},{\"attributes\":{},\"id\":\"1121\",\"type\":\"BasicTicker\"},{\"attributes\":{},\"id\":\"1158\",\"type\":\"AllLabels\"},{\"attributes\":{\"fields\":[\"Solar Production\",\"Thermal Production\",\"Tide, Wave and Hydro Production\",\"Wind Production\"]},\"id\":\"1145\",\"type\":\"Stack\"},{\"attributes\":{\"label\":{\"value\":\"Wind Production\"},\"renderers\":[{\"id\":\"1202\"}]},\"id\":\"1214\",\"type\":\"LegendItem\"},{\"attributes\":{},\"id\":\"1114\",\"type\":\"LinearScale\"},{\"attributes\":{\"fill_color\":\"#d7191c\",\"hatch_color\":{\"value\":\"#d7191c\"},\"x\":{\"field\":\"year\"},\"y1\":{\"expr\":{\"id\":\"1144\"}},\"y2\":{\"expr\":{\"id\":\"1145\"}}},\"id\":\"1199\",\"type\":\"VArea\"},{\"attributes\":{\"line_color\":\"gray\",\"line_dash\":[4,4],\"line_width\":2,\"x\":{\"field\":\"year\"},\"y\":{\"field\":\"Gross Production\"}},\"id\":\"1244\",\"type\":\"Line\"},{\"attributes\":{\"fields\":[\"Solar Production\"]},\"id\":\"1140\",\"type\":\"Stack\"},{\"attributes\":{\"coordinates\":null,\"group\":null,\"text\":\"Electricity Production in Poland by Source 1994-2014\"},\"id\":\"1106\",\"type\":\"Title\"},{\"attributes\":{\"fill_color\":\"#2b83ba\",\"hatch_color\":{\"value\":\"#2b83ba\"},\"x\":{\"field\":\"year\"},\"y1\":{\"expr\":{\"id\":\"1138\"}},\"y2\":{\"expr\":{\"id\":\"1139\"}}},\"id\":\"1147\",\"type\":\"VArea\"},{\"attributes\":{},\"id\":\"1112\",\"type\":\"LinearScale\"},{\"attributes\":{\"fill_alpha\":0.1,\"fill_color\":\"#abdda4\",\"hatch_alpha\":{\"value\":0.1},\"hatch_color\":{\"value\":\"#abdda4\"},\"x\":{\"field\":\"year\"},\"y1\":{\"expr\":{\"id\":\"1140\"}},\"y2\":{\"expr\":{\"id\":\"1141\"}}},\"id\":\"1166\",\"type\":\"VArea\"},{\"attributes\":{\"coordinates\":null,\"data_source\":{\"id\":\"1104\"},\"glyph\":{\"id\":\"1199\"},\"group\":null,\"hover_glyph\":null,\"muted_glyph\":{\"id\":\"1201\"},\"name\":\"Wind Production\",\"nonselection_glyph\":{\"id\":\"1200\"},\"view\":{\"id\":\"1203\"}},\"id\":\"1202\",\"type\":\"GlyphRenderer\"},{\"attributes\":{\"fields\":[]},\"id\":\"1138\",\"type\":\"Stack\"},{\"attributes\":{\"coordinates\":null,\"formatter\":{\"id\":\"1157\"},\"group\":null,\"major_label_policy\":{\"id\":\"1158\"},\"ticker\":{\"id\":\"1117\"}},\"id\":\"1116\",\"type\":\"LinearAxis\"},{\"attributes\":{},\"id\":\"1155\",\"type\":\"AllLabels\"},{\"attributes\":{\"coordinates\":null,\"data_source\":{\"id\":\"1104\"},\"glyph\":{\"id\":\"1147\"},\"group\":null,\"hover_glyph\":null,\"muted_glyph\":{\"id\":\"1149\"},\"name\":\"Solar Production\",\"nonselection_glyph\":{\"id\":\"1148\"},\"view\":{\"id\":\"1151\"}},\"id\":\"1150\",\"type\":\"GlyphRenderer\"},{\"attributes\":{\"axis\":{\"id\":\"1120\"},\"coordinates\":null,\"dimension\":1,\"group\":null,\"ticker\":null},\"id\":\"1123\",\"type\":\"Grid\"},{\"attributes\":{\"fill_alpha\":0.2,\"fill_color\":\"#2b83ba\",\"hatch_alpha\":{\"value\":0.2},\"hatch_color\":{\"value\":\"#2b83ba\"},\"x\":{\"field\":\"year\"},\"y1\":{\"expr\":{\"id\":\"1138\"}},\"y2\":{\"expr\":{\"id\":\"1139\"}}},\"id\":\"1149\",\"type\":\"VArea\"},{\"attributes\":{\"fill_alpha\":0.1,\"fill_color\":\"#fdae61\",\"hatch_alpha\":{\"value\":0.1},\"hatch_color\":{\"value\":\"#fdae61\"},\"x\":{\"field\":\"year\"},\"y1\":{\"expr\":{\"id\":\"1142\"}},\"y2\":{\"expr\":{\"id\":\"1143\"}}},\"id\":\"1183\",\"type\":\"VArea\"},{\"attributes\":{\"fill_color\":\"#abdda4\",\"hatch_color\":{\"value\":\"#abdda4\"},\"x\":{\"field\":\"year\"},\"y1\":{\"expr\":{\"id\":\"1140\"}},\"y2\":{\"expr\":{\"id\":\"1141\"}}},\"id\":\"1165\",\"type\":\"VArea\"},{\"attributes\":{\"label\":{\"value\":\"Gross Production\"},\"renderers\":[{\"id\":\"1247\"}]},\"id\":\"1259\",\"type\":\"LegendItem\"},{\"attributes\":{\"coordinates\":null,\"data_source\":{\"id\":\"1104\"},\"glyph\":{\"id\":\"1238\"},\"group\":null,\"hover_glyph\":null,\"muted_glyph\":{\"id\":\"1240\"},\"name\":\"Wind Production\",\"nonselection_glyph\":{\"id\":\"1239\"},\"view\":{\"id\":\"1242\"}},\"id\":\"1241\",\"type\":\"GlyphRenderer\"},{\"attributes\":{\"fields\":[\"Solar Production\",\"Thermal Production\",\"Tide, Wave and Hydro Production\",\"Wind Production\"]},\"id\":\"1218\",\"type\":\"Stack\"},{\"attributes\":{\"x\":{\"field\":\"year\"},\"y\":{\"expr\":{\"id\":\"1217\"}}},\"id\":\"1232\",\"type\":\"Line\"},{\"attributes\":{\"line_alpha\":0.1,\"line_color\":\"gray\",\"line_dash\":[4,4],\"line_width\":2,\"x\":{\"field\":\"year\"},\"y\":{\"field\":\"Gross Production\"}},\"id\":\"1245\",\"type\":\"Line\"},{\"attributes\":{\"callback\":null,\"tooltips\":[[\"year\",\"@year\"],[\"By Source\",\"@$name{0,0} KWh. M\"],[\"Total\",\"$y{0,0} KWh. M\"]]},\"id\":\"1260\",\"type\":\"HoverTool\"},{\"attributes\":{\"source\":{\"id\":\"1104\"}},\"id\":\"1248\",\"type\":\"CDSView\"},{\"attributes\":{\"line_alpha\":0.1,\"x\":{\"field\":\"year\"},\"y\":{\"expr\":{\"id\":\"1217\"}}},\"id\":\"1233\",\"type\":\"Line\"},{\"attributes\":{\"coordinates\":null,\"data_source\":{\"id\":\"1104\"},\"glyph\":{\"id\":\"1220\"},\"group\":null,\"hover_glyph\":null,\"muted_glyph\":{\"id\":\"1222\"},\"name\":\"Solar Production\",\"nonselection_glyph\":{\"id\":\"1221\"},\"view\":{\"id\":\"1224\"}},\"id\":\"1223\",\"type\":\"GlyphRenderer\"},{\"attributes\":{\"coordinates\":null,\"data_source\":{\"id\":\"1104\"},\"glyph\":{\"id\":\"1244\"},\"group\":null,\"hover_glyph\":null,\"muted_glyph\":{\"id\":\"1246\"},\"nonselection_glyph\":{\"id\":\"1245\"},\"view\":{\"id\":\"1248\"}},\"id\":\"1247\",\"type\":\"GlyphRenderer\"},{\"attributes\":{\"line_alpha\":0.2,\"x\":{\"field\":\"year\"},\"y\":{\"expr\":{\"id\":\"1216\"}}},\"id\":\"1228\",\"type\":\"Line\"},{\"attributes\":{\"line_alpha\":0.1,\"x\":{\"field\":\"year\"},\"y\":{\"expr\":{\"id\":\"1216\"}}},\"id\":\"1227\",\"type\":\"Line\"},{\"attributes\":{\"line_alpha\":0.2,\"line_color\":\"gray\",\"line_dash\":[4,4],\"line_width\":2,\"x\":{\"field\":\"year\"},\"y\":{\"field\":\"Gross Production\"}},\"id\":\"1246\",\"type\":\"Line\"},{\"attributes\":{\"source\":{\"id\":\"1104\"}},\"id\":\"1242\",\"type\":\"CDSView\"},{\"attributes\":{\"line_alpha\":0.1,\"x\":{\"field\":\"year\"},\"y\":{\"expr\":{\"id\":\"1218\"}}},\"id\":\"1239\",\"type\":\"Line\"},{\"attributes\":{\"x\":{\"field\":\"year\"},\"y\":{\"expr\":{\"id\":\"1218\"}}},\"id\":\"1238\",\"type\":\"Line\"},{\"attributes\":{\"source\":{\"id\":\"1104\"}},\"id\":\"1230\",\"type\":\"CDSView\"},{\"attributes\":{\"coordinates\":null,\"data_source\":{\"id\":\"1104\"},\"glyph\":{\"id\":\"1232\"},\"group\":null,\"hover_glyph\":null,\"muted_glyph\":{\"id\":\"1234\"},\"name\":\"Tide, Wave and Hydro Production\",\"nonselection_glyph\":{\"id\":\"1233\"},\"view\":{\"id\":\"1236\"}},\"id\":\"1235\",\"type\":\"GlyphRenderer\"},{\"attributes\":{\"x\":{\"field\":\"year\"},\"y\":{\"expr\":{\"id\":\"1216\"}}},\"id\":\"1226\",\"type\":\"Line\"},{\"attributes\":{\"source\":{\"id\":\"1104\"}},\"id\":\"1224\",\"type\":\"CDSView\"},{\"attributes\":{\"line_alpha\":0.2,\"x\":{\"field\":\"year\"},\"y\":{\"expr\":{\"id\":\"1218\"}}},\"id\":\"1240\",\"type\":\"Line\"},{\"attributes\":{\"x\":{\"field\":\"year\"},\"y\":{\"expr\":{\"id\":\"1215\"}}},\"id\":\"1220\",\"type\":\"Line\"},{\"attributes\":{\"line_alpha\":0.2,\"x\":{\"field\":\"year\"},\"y\":{\"expr\":{\"id\":\"1217\"}}},\"id\":\"1234\",\"type\":\"Line\"},{\"attributes\":{\"data\":{\"Gross Production\":{\"__ndarray__\":\"yXa+nxrrYEDVeOkmMWBhQKjGSzeJ5WFA4XoUrkfZYUBoke18P9lhQGq8dJMYxGFA2c73U+MlYkDByqFFtjNiQHnpJjEIBGJA1XjpJjH0YkAMAiuHFkVjQMuhRbbznWNAObTIdr43ZEBCYOXQIutjQPYoXI/CaWNA16NwPQr3YkAbL90kBrVjQKjGSzeJcWRAnMQgsHJEZEDn+6nx0pFkQNnO91Pj4WNA\",\"dtype\":\"float64\",\"order\":\"little\",\"shape\":[21]},\"Solar Production\":{\"__ndarray__\":\"AAAAAAAAAAAAAAAAAAAAAAAAAAAAAAAAAAAAAAAAAAAAAAAAAAAAAAAAAAAAAAAAAAAAAAAAAAAAAAAAAAAAAAAAAAAAAAAAAAAAAAAAAAAAAAAAAAAAAAAAAAAAAAAAAAAAAAAAAAAAAAAAAAAAAAAAAAAAAAAAAAAAAAAAAAAAAAAAAAAAAAAAAAAAAAAA/Knx0k1iUD/8qfHSTWJQP3npJjEIrHw/\",\"dtype\":\"float64\",\"order\":\"little\",\"shape\":[21]},\"Solar Production %\":{\"__ndarray__\":\"AAAAAAAAAAAAAAAAAAAAAAAAAAAAAAAAAAAAAAAAAAAAAAAAAAAAAAAAAAAAAAAAAAAAAAAAAAAAAAAAAAAAAAAAAAAAAAAAAAAAAAAAAAAAAAAAAAAAAAAAAAAAAAAAAAAAAAAAAAAAAAAAAAAAAAAAAAAAAAAAAAAAAAAAAAAAAAAAAAAAAAAAAAAAAAAAXD2Hwkw4RD+goojdIe1DP05xQIzICnI/\",\"dtype\":\"float64\",\"order\":\"little\",\"shape\":[21]},\"Thermal Production\":{\"__ndarray__\":\"y6FFtvNxYECwcmiR7eRgQCPb+X5qaGFAyXa+nxpfYUAtsp3vp05hQG3n+6nxOmFAvHSTGASiYUBOYhBYOaxhQAwCK4cWhWFAAiuHFtmGYkDfT42XbspiQNv5fmq8IGNA9P3UeOnOY0Cq8dJNYnxjQFCNl24S92JAxSCwcmh1YkAv3SQGgQ1jQCUGgZVDr2NA16NwPQpbY0CR7Xw/NW5jQAAAAAAAkGJA\",\"dtype\":\"float64\",\"order\":\"little\",\"shape\":[21]},\"Thermal Production %\":{\"__ndarray__\":\"DSZpyPlMWED5xOY9pk5YQBcI0es3UVhAPj0YiN9UWECFqjLs4D1YQLQSLYwAP1hA7MBNjlZKWEA8tWka6UVYQHRWkdDXT1hAN2KetMZvWEC3Vgvs3mBYQJZQQZNsYFhA6TWfD19+WEC4VDVZ/nRYQDzqDF1ObFhAwL835h1VWECaF8tIvy5YQKrPQxZjFlhAwoGd2iTjV0Ct/JO7p6FXQLUe9fl6XFdA\",\"dtype\":\"float64\",\"order\":\"little\",\"shape\":[21]},\"Tide, Wave and Hydro Production\":{\"__ndarray__\":\"fT81XrpJDkACK4cW2c4OQEjhehSuRw9AukkMAiuHDkACK4cW2U4RQFTjpZvEIBFAEFg5tMh2EEDhehSuR+EQQHNoke18Pw9A8tJNYhBYCkC6SQwCK4cNQNNNYhBYOQ5AKVyPwvUoCEBQjZduEoMHQGDl0CLb+QVAmG4Sg8DKB0CBlUOLbOcLQEoMAiuHFgZAuB6F61G4A0Bg5dAi2/kHQKwcWmQ73wVA\",\"dtype\":\"float64\",\"order\":\"little\",\"shape\":[21]},\"Tide, Wave and Hydro Production %\":{\"__ndarray__\":\"Zj7b8sZgBkAMHc4XvykGQDT93oUC2QVAWErLozBhBUDjfK7EJT4IQAQ0wfAqGghAskkWnSCuBkC3Y4MFLC8HQL8jTuxXrgVA7/aUea5fAUAo/8PqfCcDQC62eB5BQgNAtyd74e7f/T9m8V8GoIL9PwWer7TpTPw/SHMUAfBc/z85EvOYYLUBQE6gchtEB/s/ugajY0NW+D/7EtCu4yj9P90ssdO8hvs/\",\"dtype\":\"float64\",\"order\":\"little\",\"shape\":[21]},\"Wind Production\":{\"__ndarray__\":\"AAAAAAAAAAD8qfHSTWJQPwAAAAAAAAAA/Knx0k1iYD/8qfHSTWJwP/yp8dJNYnA/exSuR+F6dD956SYxCKyMPwisHFpkO68/WDm0yHa+vz+TGARWDi3CP0jhehSuR8E//Knx0k1i0D9OYhBYObTgP2IQWDm0yOo/CKwcWmQ78T85tMh2vp/6P6RwPQrXowlAsHJoke38EkBqvHSTGAQYQE5iEFg5tB5A\",\"dtype\":\"float64\",\"order\":\"little\",\"shape\":[21]},\"Wind Production %\":{\"__ndarray__\":\"AAAAAAAAAAAF8zuUtZJHPwAAAAAAAAAAkN5uaMnyVj81F8rw0/JmP9Ld1XEmDmc/SN9jxmQ2bD8EzvRFrbCDP6Rqw2GAq6U/TUXYU17vtD+7PSV6spS3PzDlpiuPBbY/Me+6tWlCxD8AgyuxJvfUPxmmKxD+PuE/1zn34Sy35j809VObbOXwPzB1mVP2X/8/7Buydf9uB0BgiPrjVzUNQFa5nnkeUhNA\",\"dtype\":\"float64\",\"order\":\"little\",\"shape\":[21]},\"year\":[1994,1995,1996,1997,1998,1999,2000,2001,2002,2003,2004,2005,2006,2007,2008,2009,2010,2011,2012,2013,2014]},\"selected\":{\"id\":\"1160\"},\"selection_policy\":{\"id\":\"1159\"}},\"id\":\"1104\",\"type\":\"ColumnDataSource\"},{\"attributes\":{\"line_alpha\":0.2,\"x\":{\"field\":\"year\"},\"y\":{\"expr\":{\"id\":\"1215\"}}},\"id\":\"1222\",\"type\":\"Line\"},{\"attributes\":{\"coordinates\":null,\"data_source\":{\"id\":\"1104\"},\"glyph\":{\"id\":\"1226\"},\"group\":null,\"hover_glyph\":null,\"muted_glyph\":{\"id\":\"1228\"},\"name\":\"Thermal Production\",\"nonselection_glyph\":{\"id\":\"1227\"},\"view\":{\"id\":\"1230\"}},\"id\":\"1229\",\"type\":\"GlyphRenderer\"},{\"attributes\":{\"source\":{\"id\":\"1104\"}},\"id\":\"1236\",\"type\":\"CDSView\"},{\"attributes\":{\"fields\":[\"Solar Production\"]},\"id\":\"1215\",\"type\":\"Stack\"},{\"attributes\":{\"fields\":[\"Solar Production\",\"Thermal Production\"]},\"id\":\"1216\",\"type\":\"Stack\"},{\"attributes\":{\"fields\":[\"Solar Production\",\"Thermal Production\",\"Tide, Wave and Hydro Production\"]},\"id\":\"1217\",\"type\":\"Stack\"},{\"attributes\":{\"line_alpha\":0.1,\"x\":{\"field\":\"year\"},\"y\":{\"expr\":{\"id\":\"1215\"}}},\"id\":\"1221\",\"type\":\"Line\"}],\"root_ids\":[\"1105\"]},\"title\":\"Bokeh Application\",\"version\":\"2.4.2\"}};\n  const render_items = [{\"docid\":\"bd0a7aab-022c-4dfd-9ae4-56a3d5ab11a4\",\"root_ids\":[\"1105\"],\"roots\":{\"1105\":\"6072721f-3582-489e-89c8-1136e1eded8d\"}}];\n  root.Bokeh.embed.embed_items_notebook(docs_json, render_items);\n\n  }\n  if (root.Bokeh !== undefined) {\n    embed_document(root);\n  } else {\n    let attempts = 0;\n    const timer = setInterval(function(root) {\n      if (root.Bokeh !== undefined) {\n        clearInterval(timer);\n        embed_document(root);\n      } else {\n        attempts++;\n        if (attempts > 100) {\n          clearInterval(timer);\n          console.log(\"Bokeh: ERROR: Unable to run BokehJS code because BokehJS library is missing\");\n        }\n      }\n    }, 10, root)\n  }\n})(window);",
      "application/vnd.bokehjs_exec.v0+json": ""
     },
     "metadata": {
      "application/vnd.bokehjs_exec.v0+json": {
       "id": "1105"
      }
     },
     "output_type": "display_data"
    },
    {
     "data": {
      "text/html": [
       "<style type=\"text/css\">\n",
       "#T_0b4ca_row0_col0, #T_0b4ca_row0_col1, #T_0b4ca_row0_col2, #T_0b4ca_row0_col4, #T_0b4ca_row0_col5, #T_0b4ca_row0_col8, #T_0b4ca_row1_col1, #T_0b4ca_row1_col4, #T_0b4ca_row1_col5, #T_0b4ca_row1_col8, #T_0b4ca_row2_col1, #T_0b4ca_row2_col4, #T_0b4ca_row2_col5, #T_0b4ca_row2_col8, #T_0b4ca_row3_col1, #T_0b4ca_row3_col4, #T_0b4ca_row3_col5, #T_0b4ca_row3_col8, #T_0b4ca_row4_col1, #T_0b4ca_row4_col4, #T_0b4ca_row4_col5, #T_0b4ca_row4_col8, #T_0b4ca_row5_col1, #T_0b4ca_row5_col4, #T_0b4ca_row5_col5, #T_0b4ca_row5_col8, #T_0b4ca_row6_col1, #T_0b4ca_row6_col4, #T_0b4ca_row6_col5, #T_0b4ca_row6_col8, #T_0b4ca_row7_col1, #T_0b4ca_row7_col4, #T_0b4ca_row7_col5, #T_0b4ca_row7_col8, #T_0b4ca_row8_col1, #T_0b4ca_row8_col5, #T_0b4ca_row9_col1, #T_0b4ca_row9_col5, #T_0b4ca_row10_col1, #T_0b4ca_row10_col5, #T_0b4ca_row11_col1, #T_0b4ca_row11_col5, #T_0b4ca_row12_col1, #T_0b4ca_row12_col5, #T_0b4ca_row13_col1, #T_0b4ca_row13_col5, #T_0b4ca_row14_col1, #T_0b4ca_row14_col5, #T_0b4ca_row15_col1, #T_0b4ca_row15_col5, #T_0b4ca_row16_col1, #T_0b4ca_row16_col5, #T_0b4ca_row17_col1, #T_0b4ca_row17_col5, #T_0b4ca_row18_col3, #T_0b4ca_row18_col7, #T_0b4ca_row20_col6 {\n",
       "  background-color: #f0f0f3;\n",
       "  color: #000000;\n",
       "}\n",
       "#T_0b4ca_row0_col3 {\n",
       "  background-color: #4646fb;\n",
       "  color: #f1f1f1;\n",
       "}\n",
       "#T_0b4ca_row0_col6, #T_0b4ca_row1_col7 {\n",
       "  background-color: #2929fd;\n",
       "  color: #f1f1f1;\n",
       "}\n",
       "#T_0b4ca_row0_col7, #T_0b4ca_row2_col6 {\n",
       "  background-color: #2525fd;\n",
       "  color: #f1f1f1;\n",
       "}\n",
       "#T_0b4ca_row1_col0 {\n",
       "  background-color: #d2d2f4;\n",
       "  color: #000000;\n",
       "}\n",
       "#T_0b4ca_row1_col2 {\n",
       "  background-color: #d0d0f4;\n",
       "  color: #000000;\n",
       "}\n",
       "#T_0b4ca_row1_col3 {\n",
       "  background-color: #3d3dfc;\n",
       "  color: #f1f1f1;\n",
       "}\n",
       "#T_0b4ca_row1_col6 {\n",
       "  background-color: #2828fd;\n",
       "  color: #f1f1f1;\n",
       "}\n",
       "#T_0b4ca_row2_col0 {\n",
       "  background-color: #b0b0f6;\n",
       "  color: #000000;\n",
       "}\n",
       "#T_0b4ca_row2_col2, #T_0b4ca_row19_col3 {\n",
       "  background-color: #acacf6;\n",
       "  color: #000000;\n",
       "}\n",
       "#T_0b4ca_row2_col3, #T_0b4ca_row8_col3, #T_0b4ca_row16_col2 {\n",
       "  background-color: #3636fc;\n",
       "  color: #f1f1f1;\n",
       "}\n",
       "#T_0b4ca_row2_col7 {\n",
       "  background-color: #2f2ffd;\n",
       "  color: #f1f1f1;\n",
       "}\n",
       "#T_0b4ca_row3_col0, #T_0b4ca_row4_col0, #T_0b4ca_row4_col2, #T_0b4ca_row13_col3 {\n",
       "  background-color: #b3b3f6;\n",
       "  color: #000000;\n",
       "}\n",
       "#T_0b4ca_row3_col2 {\n",
       "  background-color: #aeaef6;\n",
       "  color: #000000;\n",
       "}\n",
       "#T_0b4ca_row3_col3, #T_0b4ca_row16_col6 {\n",
       "  background-color: #4242fc;\n",
       "  color: #f1f1f1;\n",
       "}\n",
       "#T_0b4ca_row3_col6, #T_0b4ca_row15_col6 {\n",
       "  background-color: #2222fd;\n",
       "  color: #f1f1f1;\n",
       "}\n",
       "#T_0b4ca_row3_col7, #T_0b4ca_row16_col0 {\n",
       "  background-color: #3939fc;\n",
       "  color: #f1f1f1;\n",
       "}\n",
       "#T_0b4ca_row4_col3, #T_0b4ca_row4_col7, #T_0b4ca_row12_col2, #T_0b4ca_row12_col6, #T_0b4ca_row19_col0, #T_0b4ca_row20_col1, #T_0b4ca_row20_col4, #T_0b4ca_row20_col5, #T_0b4ca_row20_col8 {\n",
       "  background-color: #0000ff;\n",
       "  color: #f1f1f1;\n",
       "}\n",
       "#T_0b4ca_row4_col6 {\n",
       "  background-color: #3535fc;\n",
       "  color: #f1f1f1;\n",
       "}\n",
       "#T_0b4ca_row5_col0, #T_0b4ca_row5_col2 {\n",
       "  background-color: #b9b9f6;\n",
       "  color: #000000;\n",
       "}\n",
       "#T_0b4ca_row5_col3 {\n",
       "  background-color: #0606ff;\n",
       "  color: #f1f1f1;\n",
       "}\n",
       "#T_0b4ca_row5_col6, #T_0b4ca_row19_col4 {\n",
       "  background-color: #3434fc;\n",
       "  color: #f1f1f1;\n",
       "}\n",
       "#T_0b4ca_row5_col7 {\n",
       "  background-color: #0202ff;\n",
       "  color: #f1f1f1;\n",
       "}\n",
       "#T_0b4ca_row6_col0 {\n",
       "  background-color: #9f9ff7;\n",
       "  color: #f1f1f1;\n",
       "}\n",
       "#T_0b4ca_row6_col2 {\n",
       "  background-color: #9c9cf7;\n",
       "  color: #f1f1f1;\n",
       "}\n",
       "#T_0b4ca_row6_col3 {\n",
       "  background-color: #1b1bfe;\n",
       "  color: #f1f1f1;\n",
       "}\n",
       "#T_0b4ca_row6_col6, #T_0b4ca_row13_col0 {\n",
       "  background-color: #2a2afd;\n",
       "  color: #f1f1f1;\n",
       "}\n",
       "#T_0b4ca_row6_col7 {\n",
       "  background-color: #1f1ffd;\n",
       "  color: #f1f1f1;\n",
       "}\n",
       "#T_0b4ca_row7_col0 {\n",
       "  background-color: #9d9df7;\n",
       "  color: #f1f1f1;\n",
       "}\n",
       "#T_0b4ca_row7_col2 {\n",
       "  background-color: #9999f7;\n",
       "  color: #f1f1f1;\n",
       "}\n",
       "#T_0b4ca_row7_col3 {\n",
       "  background-color: #0d0dfe;\n",
       "  color: #f1f1f1;\n",
       "}\n",
       "#T_0b4ca_row7_col6 {\n",
       "  background-color: #2e2efd;\n",
       "  color: #f1f1f1;\n",
       "}\n",
       "#T_0b4ca_row7_col7 {\n",
       "  background-color: #1515fe;\n",
       "  color: #f1f1f1;\n",
       "}\n",
       "#T_0b4ca_row8_col0, #T_0b4ca_row12_col3 {\n",
       "  background-color: #a9a9f6;\n",
       "  color: #000000;\n",
       "}\n",
       "#T_0b4ca_row8_col2 {\n",
       "  background-color: #a4a4f7;\n",
       "  color: #000000;\n",
       "}\n",
       "#T_0b4ca_row8_col4, #T_0b4ca_row8_col8 {\n",
       "  background-color: #efeff3;\n",
       "  color: #000000;\n",
       "}\n",
       "#T_0b4ca_row8_col6 {\n",
       "  background-color: #2727fd;\n",
       "  color: #f1f1f1;\n",
       "}\n",
       "#T_0b4ca_row8_col7 {\n",
       "  background-color: #3333fc;\n",
       "  color: #f1f1f1;\n",
       "}\n",
       "#T_0b4ca_row9_col0 {\n",
       "  background-color: #6b6bfa;\n",
       "  color: #f1f1f1;\n",
       "}\n",
       "#T_0b4ca_row9_col2, #T_0b4ca_row18_col4 {\n",
       "  background-color: #5b5bfa;\n",
       "  color: #f1f1f1;\n",
       "}\n",
       "#T_0b4ca_row9_col3 {\n",
       "  background-color: #8686f8;\n",
       "  color: #f1f1f1;\n",
       "}\n",
       "#T_0b4ca_row9_col4, #T_0b4ca_row9_col8, #T_0b4ca_row10_col4, #T_0b4ca_row10_col8, #T_0b4ca_row11_col4, #T_0b4ca_row11_col8 {\n",
       "  background-color: #ededf3;\n",
       "  color: #000000;\n",
       "}\n",
       "#T_0b4ca_row9_col6 {\n",
       "  background-color: #0b0bfe;\n",
       "  color: #f1f1f1;\n",
       "}\n",
       "#T_0b4ca_row9_col7 {\n",
       "  background-color: #8989f8;\n",
       "  color: #f1f1f1;\n",
       "}\n",
       "#T_0b4ca_row10_col0, #T_0b4ca_row17_col6 {\n",
       "  background-color: #5656fb;\n",
       "  color: #f1f1f1;\n",
       "}\n",
       "#T_0b4ca_row10_col2 {\n",
       "  background-color: #4949fb;\n",
       "  color: #f1f1f1;\n",
       "}\n",
       "#T_0b4ca_row10_col3 {\n",
       "  background-color: #5252fb;\n",
       "  color: #f1f1f1;\n",
       "}\n",
       "#T_0b4ca_row10_col6, #T_0b4ca_row11_col6 {\n",
       "  background-color: #1919fe;\n",
       "  color: #f1f1f1;\n",
       "}\n",
       "#T_0b4ca_row10_col7 {\n",
       "  background-color: #6565fa;\n",
       "  color: #f1f1f1;\n",
       "}\n",
       "#T_0b4ca_row11_col0 {\n",
       "  background-color: #3e3efc;\n",
       "  color: #f1f1f1;\n",
       "}\n",
       "#T_0b4ca_row11_col2 {\n",
       "  background-color: #3030fd;\n",
       "  color: #f1f1f1;\n",
       "}\n",
       "#T_0b4ca_row11_col3 {\n",
       "  background-color: #4747fb;\n",
       "  color: #f1f1f1;\n",
       "}\n",
       "#T_0b4ca_row11_col7 {\n",
       "  background-color: #6363fa;\n",
       "  color: #f1f1f1;\n",
       "}\n",
       "#T_0b4ca_row12_col0, #T_0b4ca_row13_col2 {\n",
       "  background-color: #1717fe;\n",
       "  color: #f1f1f1;\n",
       "}\n",
       "#T_0b4ca_row12_col4, #T_0b4ca_row12_col8 {\n",
       "  background-color: #e9e9f3;\n",
       "  color: #000000;\n",
       "}\n",
       "#T_0b4ca_row12_col7 {\n",
       "  background-color: #babaf6;\n",
       "  color: #000000;\n",
       "}\n",
       "#T_0b4ca_row13_col4, #T_0b4ca_row13_col8 {\n",
       "  background-color: #e0e0f4;\n",
       "  color: #000000;\n",
       "}\n",
       "#T_0b4ca_row13_col6, #T_0b4ca_row17_col0, #T_0b4ca_row17_col2 {\n",
       "  background-color: #0808ff;\n",
       "  color: #f1f1f1;\n",
       "}\n",
       "#T_0b4ca_row13_col7 {\n",
       "  background-color: #bebef5;\n",
       "  color: #000000;\n",
       "}\n",
       "#T_0b4ca_row14_col0 {\n",
       "  background-color: #4c4cfb;\n",
       "  color: #f1f1f1;\n",
       "}\n",
       "#T_0b4ca_row14_col2 {\n",
       "  background-color: #3c3cfc;\n",
       "  color: #f1f1f1;\n",
       "}\n",
       "#T_0b4ca_row14_col3 {\n",
       "  background-color: #cdcdf5;\n",
       "  color: #000000;\n",
       "}\n",
       "#T_0b4ca_row14_col4 {\n",
       "  background-color: #d7d7f4;\n",
       "  color: #000000;\n",
       "}\n",
       "#T_0b4ca_row14_col6 {\n",
       "  background-color: #0e0efe;\n",
       "  color: #f1f1f1;\n",
       "}\n",
       "#T_0b4ca_row14_col7 {\n",
       "  background-color: #c9c9f5;\n",
       "  color: #000000;\n",
       "}\n",
       "#T_0b4ca_row14_col8, #T_0b4ca_row17_col7 {\n",
       "  background-color: #d6d6f4;\n",
       "  color: #000000;\n",
       "}\n",
       "#T_0b4ca_row15_col0 {\n",
       "  background-color: #6a6afa;\n",
       "  color: #f1f1f1;\n",
       "}\n",
       "#T_0b4ca_row15_col2 {\n",
       "  background-color: #6060fa;\n",
       "  color: #f1f1f1;\n",
       "}\n",
       "#T_0b4ca_row15_col3 {\n",
       "  background-color: #afaff6;\n",
       "  color: #000000;\n",
       "}\n",
       "#T_0b4ca_row15_col4, #T_0b4ca_row18_col5, #T_0b4ca_row19_col5 {\n",
       "  background-color: #cfcff4;\n",
       "  color: #000000;\n",
       "}\n",
       "#T_0b4ca_row15_col7 {\n",
       "  background-color: #ababf6;\n",
       "  color: #000000;\n",
       "}\n",
       "#T_0b4ca_row15_col8 {\n",
       "  background-color: #cecef5;\n",
       "  color: #000000;\n",
       "}\n",
       "#T_0b4ca_row16_col3 {\n",
       "  background-color: #6c6cf9;\n",
       "  color: #f1f1f1;\n",
       "}\n",
       "#T_0b4ca_row16_col4, #T_0b4ca_row16_col8 {\n",
       "  background-color: #bdbdf5;\n",
       "  color: #000000;\n",
       "}\n",
       "#T_0b4ca_row16_col7 {\n",
       "  background-color: #8282f8;\n",
       "  color: #f1f1f1;\n",
       "}\n",
       "#T_0b4ca_row17_col3 {\n",
       "  background-color: #cbcbf5;\n",
       "  color: #000000;\n",
       "}\n",
       "#T_0b4ca_row17_col4 {\n",
       "  background-color: #8c8cf8;\n",
       "  color: #f1f1f1;\n",
       "}\n",
       "#T_0b4ca_row17_col8 {\n",
       "  background-color: #8f8ff8;\n",
       "  color: #f1f1f1;\n",
       "}\n",
       "#T_0b4ca_row18_col0 {\n",
       "  background-color: #1414fe;\n",
       "  color: #f1f1f1;\n",
       "}\n",
       "#T_0b4ca_row18_col1, #T_0b4ca_row19_col1, #T_0b4ca_row20_col3 {\n",
       "  background-color: #cecef4;\n",
       "  color: #000000;\n",
       "}\n",
       "#T_0b4ca_row18_col2 {\n",
       "  background-color: #2020fd;\n",
       "  color: #f1f1f1;\n",
       "}\n",
       "#T_0b4ca_row18_col6 {\n",
       "  background-color: #8181f8;\n",
       "  color: #f1f1f1;\n",
       "}\n",
       "#T_0b4ca_row18_col8 {\n",
       "  background-color: #5e5efa;\n",
       "  color: #f1f1f1;\n",
       "}\n",
       "#T_0b4ca_row19_col2 {\n",
       "  background-color: #1a1afe;\n",
       "  color: #f1f1f1;\n",
       "}\n",
       "#T_0b4ca_row19_col6 {\n",
       "  background-color: #b7b7f6;\n",
       "  color: #000000;\n",
       "}\n",
       "#T_0b4ca_row19_col7 {\n",
       "  background-color: #c0c0f5;\n",
       "  color: #000000;\n",
       "}\n",
       "#T_0b4ca_row19_col8 {\n",
       "  background-color: #3a3afc;\n",
       "  color: #f1f1f1;\n",
       "}\n",
       "#T_0b4ca_row20_col0 {\n",
       "  background-color: #2d2dfd;\n",
       "  color: #f1f1f1;\n",
       "}\n",
       "#T_0b4ca_row20_col2 {\n",
       "  background-color: #5959fa;\n",
       "  color: #f1f1f1;\n",
       "}\n",
       "#T_0b4ca_row20_col7 {\n",
       "  background-color: #d1d1f4;\n",
       "  color: #000000;\n",
       "}\n",
       "</style>\n",
       "<table id=\"T_0b4ca\">\n",
       "  <thead>\n",
       "    <tr>\n",
       "      <th class=\"index_name level0\" >commodity_transaction</th>\n",
       "      <th id=\"T_0b4ca_level0_col0\" class=\"col_heading level0 col0\" >Gross Production</th>\n",
       "      <th id=\"T_0b4ca_level0_col1\" class=\"col_heading level0 col1\" >Solar Production</th>\n",
       "      <th id=\"T_0b4ca_level0_col2\" class=\"col_heading level0 col2\" >Thermal Production</th>\n",
       "      <th id=\"T_0b4ca_level0_col3\" class=\"col_heading level0 col3\" >Tide, Wave and Hydro Production</th>\n",
       "      <th id=\"T_0b4ca_level0_col4\" class=\"col_heading level0 col4\" >Wind Production</th>\n",
       "      <th id=\"T_0b4ca_level0_col5\" class=\"col_heading level0 col5\" >Solar Production %</th>\n",
       "      <th id=\"T_0b4ca_level0_col6\" class=\"col_heading level0 col6\" >Thermal Production %</th>\n",
       "      <th id=\"T_0b4ca_level0_col7\" class=\"col_heading level0 col7\" >Tide, Wave and Hydro Production %</th>\n",
       "      <th id=\"T_0b4ca_level0_col8\" class=\"col_heading level0 col8\" >Wind Production %</th>\n",
       "    </tr>\n",
       "    <tr>\n",
       "      <th class=\"index_name level0\" >year</th>\n",
       "      <th class=\"blank col0\" >&nbsp;</th>\n",
       "      <th class=\"blank col1\" >&nbsp;</th>\n",
       "      <th class=\"blank col2\" >&nbsp;</th>\n",
       "      <th class=\"blank col3\" >&nbsp;</th>\n",
       "      <th class=\"blank col4\" >&nbsp;</th>\n",
       "      <th class=\"blank col5\" >&nbsp;</th>\n",
       "      <th class=\"blank col6\" >&nbsp;</th>\n",
       "      <th class=\"blank col7\" >&nbsp;</th>\n",
       "      <th class=\"blank col8\" >&nbsp;</th>\n",
       "    </tr>\n",
       "  </thead>\n",
       "  <tbody>\n",
       "    <tr>\n",
       "      <th id=\"T_0b4ca_level0_row0\" class=\"row_heading level0 row0\" >1994</th>\n",
       "      <td id=\"T_0b4ca_row0_col0\" class=\"data row0 col0\" >135.347000</td>\n",
       "      <td id=\"T_0b4ca_row0_col1\" class=\"data row0 col1\" >0.000000</td>\n",
       "      <td id=\"T_0b4ca_row0_col2\" class=\"data row0 col2\" >131.561000</td>\n",
       "      <td id=\"T_0b4ca_row0_col3\" class=\"data row0 col3\" >3.786000</td>\n",
       "      <td id=\"T_0b4ca_row0_col4\" class=\"data row0 col4\" >0.000000</td>\n",
       "      <td id=\"T_0b4ca_row0_col5\" class=\"data row0 col5\" >0.000000</td>\n",
       "      <td id=\"T_0b4ca_row0_col6\" class=\"data row0 col6\" >97.202746</td>\n",
       "      <td id=\"T_0b4ca_row0_col7\" class=\"data row0 col7\" >2.797254</td>\n",
       "      <td id=\"T_0b4ca_row0_col8\" class=\"data row0 col8\" >0.000000</td>\n",
       "    </tr>\n",
       "    <tr>\n",
       "      <th id=\"T_0b4ca_level0_row1\" class=\"row_heading level0 row1\" >1995</th>\n",
       "      <td id=\"T_0b4ca_row1_col0\" class=\"data row1 col0\" >139.006000</td>\n",
       "      <td id=\"T_0b4ca_row1_col1\" class=\"data row1 col1\" >0.000000</td>\n",
       "      <td id=\"T_0b4ca_row1_col2\" class=\"data row1 col2\" >135.154000</td>\n",
       "      <td id=\"T_0b4ca_row1_col3\" class=\"data row1 col3\" >3.851000</td>\n",
       "      <td id=\"T_0b4ca_row1_col4\" class=\"data row1 col4\" >0.001000</td>\n",
       "      <td id=\"T_0b4ca_row1_col5\" class=\"data row1 col5\" >0.000000</td>\n",
       "      <td id=\"T_0b4ca_row1_col6\" class=\"data row1 col6\" >97.228897</td>\n",
       "      <td id=\"T_0b4ca_row1_col7\" class=\"data row1 col7\" >2.770384</td>\n",
       "      <td id=\"T_0b4ca_row1_col8\" class=\"data row1 col8\" >0.000719</td>\n",
       "    </tr>\n",
       "    <tr>\n",
       "      <th id=\"T_0b4ca_level0_row2\" class=\"row_heading level0 row2\" >1996</th>\n",
       "      <td id=\"T_0b4ca_row2_col0\" class=\"data row2 col0\" >143.173000</td>\n",
       "      <td id=\"T_0b4ca_row2_col1\" class=\"data row2 col1\" >0.000000</td>\n",
       "      <td id=\"T_0b4ca_row2_col2\" class=\"data row2 col2\" >139.263000</td>\n",
       "      <td id=\"T_0b4ca_row2_col3\" class=\"data row2 col3\" >3.910000</td>\n",
       "      <td id=\"T_0b4ca_row2_col4\" class=\"data row2 col4\" >0.000000</td>\n",
       "      <td id=\"T_0b4ca_row2_col5\" class=\"data row2 col5\" >0.000000</td>\n",
       "      <td id=\"T_0b4ca_row2_col6\" class=\"data row2 col6\" >97.269038</td>\n",
       "      <td id=\"T_0b4ca_row2_col7\" class=\"data row2 col7\" >2.730962</td>\n",
       "      <td id=\"T_0b4ca_row2_col8\" class=\"data row2 col8\" >0.000000</td>\n",
       "    </tr>\n",
       "    <tr>\n",
       "      <th id=\"T_0b4ca_level0_row3\" class=\"row_heading level0 row3\" >1997</th>\n",
       "      <td id=\"T_0b4ca_row3_col0\" class=\"data row3 col0\" >142.790000</td>\n",
       "      <td id=\"T_0b4ca_row3_col1\" class=\"data row3 col1\" >0.000000</td>\n",
       "      <td id=\"T_0b4ca_row3_col2\" class=\"data row3 col2\" >138.972000</td>\n",
       "      <td id=\"T_0b4ca_row3_col3\" class=\"data row3 col3\" >3.816000</td>\n",
       "      <td id=\"T_0b4ca_row3_col4\" class=\"data row3 col4\" >0.002000</td>\n",
       "      <td id=\"T_0b4ca_row3_col5\" class=\"data row3 col5\" >0.000000</td>\n",
       "      <td id=\"T_0b4ca_row3_col6\" class=\"data row3 col6\" >97.326143</td>\n",
       "      <td id=\"T_0b4ca_row3_col7\" class=\"data row3 col7\" >2.672456</td>\n",
       "      <td id=\"T_0b4ca_row3_col8\" class=\"data row3 col8\" >0.001401</td>\n",
       "    </tr>\n",
       "    <tr>\n",
       "      <th id=\"T_0b4ca_level0_row4\" class=\"row_heading level0 row4\" >1998</th>\n",
       "      <td id=\"T_0b4ca_row4_col0\" class=\"data row4 col0\" >142.789000</td>\n",
       "      <td id=\"T_0b4ca_row4_col1\" class=\"data row4 col1\" >0.000000</td>\n",
       "      <td id=\"T_0b4ca_row4_col2\" class=\"data row4 col2\" >138.458000</td>\n",
       "      <td id=\"T_0b4ca_row4_col3\" class=\"data row4 col3\" >4.327000</td>\n",
       "      <td id=\"T_0b4ca_row4_col4\" class=\"data row4 col4\" >0.004000</td>\n",
       "      <td id=\"T_0b4ca_row4_col5\" class=\"data row4 col5\" >0.000000</td>\n",
       "      <td id=\"T_0b4ca_row4_col6\" class=\"data row4 col6\" >96.966853</td>\n",
       "      <td id=\"T_0b4ca_row4_col7\" class=\"data row4 col7\" >3.030345</td>\n",
       "      <td id=\"T_0b4ca_row4_col8\" class=\"data row4 col8\" >0.002801</td>\n",
       "    </tr>\n",
       "    <tr>\n",
       "      <th id=\"T_0b4ca_level0_row5\" class=\"row_heading level0 row5\" >1999</th>\n",
       "      <td id=\"T_0b4ca_row5_col0\" class=\"data row5 col0\" >142.128000</td>\n",
       "      <td id=\"T_0b4ca_row5_col1\" class=\"data row5 col1\" >0.000000</td>\n",
       "      <td id=\"T_0b4ca_row5_col2\" class=\"data row5 col2\" >137.842000</td>\n",
       "      <td id=\"T_0b4ca_row5_col3\" class=\"data row5 col3\" >4.282000</td>\n",
       "      <td id=\"T_0b4ca_row5_col4\" class=\"data row5 col4\" >0.004000</td>\n",
       "      <td id=\"T_0b4ca_row5_col5\" class=\"data row5 col5\" >0.000000</td>\n",
       "      <td id=\"T_0b4ca_row5_col6\" class=\"data row5 col6\" >96.984408</td>\n",
       "      <td id=\"T_0b4ca_row5_col7\" class=\"data row5 col7\" >3.012777</td>\n",
       "      <td id=\"T_0b4ca_row5_col8\" class=\"data row5 col8\" >0.002814</td>\n",
       "    </tr>\n",
       "    <tr>\n",
       "      <th id=\"T_0b4ca_level0_row6\" class=\"row_heading level0 row6\" >2000</th>\n",
       "      <td id=\"T_0b4ca_row6_col0\" class=\"data row6 col0\" >145.184000</td>\n",
       "      <td id=\"T_0b4ca_row6_col1\" class=\"data row6 col1\" >0.000000</td>\n",
       "      <td id=\"T_0b4ca_row6_col2\" class=\"data row6 col2\" >141.063000</td>\n",
       "      <td id=\"T_0b4ca_row6_col3\" class=\"data row6 col3\" >4.116000</td>\n",
       "      <td id=\"T_0b4ca_row6_col4\" class=\"data row6 col4\" >0.005000</td>\n",
       "      <td id=\"T_0b4ca_row6_col5\" class=\"data row6 col5\" >0.000000</td>\n",
       "      <td id=\"T_0b4ca_row6_col6\" class=\"data row6 col6\" >97.161533</td>\n",
       "      <td id=\"T_0b4ca_row6_col7\" class=\"data row6 col7\" >2.835023</td>\n",
       "      <td id=\"T_0b4ca_row6_col8\" class=\"data row6 col8\" >0.003444</td>\n",
       "    </tr>\n",
       "    <tr>\n",
       "      <th id=\"T_0b4ca_level0_row7\" class=\"row_heading level0 row7\" >2001</th>\n",
       "      <td id=\"T_0b4ca_row7_col0\" class=\"data row7 col0\" >145.616000</td>\n",
       "      <td id=\"T_0b4ca_row7_col1\" class=\"data row7 col1\" >0.000000</td>\n",
       "      <td id=\"T_0b4ca_row7_col2\" class=\"data row7 col2\" >141.382000</td>\n",
       "      <td id=\"T_0b4ca_row7_col3\" class=\"data row7 col3\" >4.220000</td>\n",
       "      <td id=\"T_0b4ca_row7_col4\" class=\"data row7 col4\" >0.014000</td>\n",
       "      <td id=\"T_0b4ca_row7_col5\" class=\"data row7 col5\" >0.000000</td>\n",
       "      <td id=\"T_0b4ca_row7_col6\" class=\"data row7 col6\" >97.092352</td>\n",
       "      <td id=\"T_0b4ca_row7_col7\" class=\"data row7 col7\" >2.898033</td>\n",
       "      <td id=\"T_0b4ca_row7_col8\" class=\"data row7 col8\" >0.009614</td>\n",
       "    </tr>\n",
       "    <tr>\n",
       "      <th id=\"T_0b4ca_level0_row8\" class=\"row_heading level0 row8\" >2002</th>\n",
       "      <td id=\"T_0b4ca_row8_col0\" class=\"data row8 col0\" >144.126000</td>\n",
       "      <td id=\"T_0b4ca_row8_col1\" class=\"data row8 col1\" >0.000000</td>\n",
       "      <td id=\"T_0b4ca_row8_col2\" class=\"data row8 col2\" >140.159000</td>\n",
       "      <td id=\"T_0b4ca_row8_col3\" class=\"data row8 col3\" >3.906000</td>\n",
       "      <td id=\"T_0b4ca_row8_col4\" class=\"data row8 col4\" >0.061000</td>\n",
       "      <td id=\"T_0b4ca_row8_col5\" class=\"data row8 col5\" >0.000000</td>\n",
       "      <td id=\"T_0b4ca_row8_col6\" class=\"data row8 col6\" >97.247547</td>\n",
       "      <td id=\"T_0b4ca_row8_col7\" class=\"data row8 col7\" >2.710129</td>\n",
       "      <td id=\"T_0b4ca_row8_col8\" class=\"data row8 col8\" >0.042324</td>\n",
       "    </tr>\n",
       "    <tr>\n",
       "      <th id=\"T_0b4ca_level0_row9\" class=\"row_heading level0 row9\" >2003</th>\n",
       "      <td id=\"T_0b4ca_row9_col0\" class=\"data row9 col0\" >151.631000</td>\n",
       "      <td id=\"T_0b4ca_row9_col1\" class=\"data row9 col1\" >0.000000</td>\n",
       "      <td id=\"T_0b4ca_row9_col2\" class=\"data row9 col2\" >148.214000</td>\n",
       "      <td id=\"T_0b4ca_row9_col3\" class=\"data row9 col3\" >3.293000</td>\n",
       "      <td id=\"T_0b4ca_row9_col4\" class=\"data row9 col4\" >0.124000</td>\n",
       "      <td id=\"T_0b4ca_row9_col5\" class=\"data row9 col5\" >0.000000</td>\n",
       "      <td id=\"T_0b4ca_row9_col6\" class=\"data row9 col6\" >97.746503</td>\n",
       "      <td id=\"T_0b4ca_row9_col7\" class=\"data row9 col7\" >2.171720</td>\n",
       "      <td id=\"T_0b4ca_row9_col8\" class=\"data row9 col8\" >0.081777</td>\n",
       "    </tr>\n",
       "    <tr>\n",
       "      <th id=\"T_0b4ca_level0_row10\" class=\"row_heading level0 row10\" >2004</th>\n",
       "      <td id=\"T_0b4ca_row10_col0\" class=\"data row10 col0\" >154.159000</td>\n",
       "      <td id=\"T_0b4ca_row10_col1\" class=\"data row10 col1\" >0.000000</td>\n",
       "      <td id=\"T_0b4ca_row10_col2\" class=\"data row10 col2\" >150.326000</td>\n",
       "      <td id=\"T_0b4ca_row10_col3\" class=\"data row10 col3\" >3.691000</td>\n",
       "      <td id=\"T_0b4ca_row10_col4\" class=\"data row10 col4\" >0.142000</td>\n",
       "      <td id=\"T_0b4ca_row10_col5\" class=\"data row10 col5\" >0.000000</td>\n",
       "      <td id=\"T_0b4ca_row10_col6\" class=\"data row10 col6\" >97.513606</td>\n",
       "      <td id=\"T_0b4ca_row10_col7\" class=\"data row10 col7\" >2.394281</td>\n",
       "      <td id=\"T_0b4ca_row10_col8\" class=\"data row10 col8\" >0.092113</td>\n",
       "    </tr>\n",
       "    <tr>\n",
       "      <th id=\"T_0b4ca_level0_row11\" class=\"row_heading level0 row11\" >2005</th>\n",
       "      <td id=\"T_0b4ca_row11_col0\" class=\"data row11 col0\" >156.936000</td>\n",
       "      <td id=\"T_0b4ca_row11_col1\" class=\"data row11 col1\" >0.000000</td>\n",
       "      <td id=\"T_0b4ca_row11_col2\" class=\"data row11 col2\" >153.023000</td>\n",
       "      <td id=\"T_0b4ca_row11_col3\" class=\"data row11 col3\" >3.778000</td>\n",
       "      <td id=\"T_0b4ca_row11_col4\" class=\"data row11 col4\" >0.135000</td>\n",
       "      <td id=\"T_0b4ca_row11_col5\" class=\"data row11 col5\" >0.000000</td>\n",
       "      <td id=\"T_0b4ca_row11_col6\" class=\"data row11 col6\" >97.506627</td>\n",
       "      <td id=\"T_0b4ca_row11_col7\" class=\"data row11 col7\" >2.407351</td>\n",
       "      <td id=\"T_0b4ca_row11_col8\" class=\"data row11 col8\" >0.086022</td>\n",
       "    </tr>\n",
       "    <tr>\n",
       "      <th id=\"T_0b4ca_level0_row12\" class=\"row_heading level0 row12\" >2006</th>\n",
       "      <td id=\"T_0b4ca_row12_col0\" class=\"data row12 col0\" >161.742000</td>\n",
       "      <td id=\"T_0b4ca_row12_col1\" class=\"data row12 col1\" >0.000000</td>\n",
       "      <td id=\"T_0b4ca_row12_col2\" class=\"data row12 col2\" >158.466000</td>\n",
       "      <td id=\"T_0b4ca_row12_col3\" class=\"data row12 col3\" >3.020000</td>\n",
       "      <td id=\"T_0b4ca_row12_col4\" class=\"data row12 col4\" >0.256000</td>\n",
       "      <td id=\"T_0b4ca_row12_col5\" class=\"data row12 col5\" >0.000000</td>\n",
       "      <td id=\"T_0b4ca_row12_col6\" class=\"data row12 col6\" >97.974552</td>\n",
       "      <td id=\"T_0b4ca_row12_col7\" class=\"data row12 col7\" >1.867171</td>\n",
       "      <td id=\"T_0b4ca_row12_col8\" class=\"data row12 col8\" >0.158277</td>\n",
       "    </tr>\n",
       "    <tr>\n",
       "      <th id=\"T_0b4ca_level0_row13\" class=\"row_heading level0 row13\" >2007</th>\n",
       "      <td id=\"T_0b4ca_row13_col0\" class=\"data row13 col0\" >159.348000</td>\n",
       "      <td id=\"T_0b4ca_row13_col1\" class=\"data row13 col1\" >0.000000</td>\n",
       "      <td id=\"T_0b4ca_row13_col2\" class=\"data row13 col2\" >155.887000</td>\n",
       "      <td id=\"T_0b4ca_row13_col3\" class=\"data row13 col3\" >2.939000</td>\n",
       "      <td id=\"T_0b4ca_row13_col4\" class=\"data row13 col4\" >0.522000</td>\n",
       "      <td id=\"T_0b4ca_row13_col5\" class=\"data row13 col5\" >0.000000</td>\n",
       "      <td id=\"T_0b4ca_row13_col6\" class=\"data row13 col6\" >97.828024</td>\n",
       "      <td id=\"T_0b4ca_row13_col7\" class=\"data row13 col7\" >1.844391</td>\n",
       "      <td id=\"T_0b4ca_row13_col8\" class=\"data row13 col8\" >0.327585</td>\n",
       "    </tr>\n",
       "    <tr>\n",
       "      <th id=\"T_0b4ca_level0_row14\" class=\"row_heading level0 row14\" >2008</th>\n",
       "      <td id=\"T_0b4ca_row14_col0\" class=\"data row14 col0\" >155.305000</td>\n",
       "      <td id=\"T_0b4ca_row14_col1\" class=\"data row14 col1\" >0.000000</td>\n",
       "      <td id=\"T_0b4ca_row14_col2\" class=\"data row14 col2\" >151.721000</td>\n",
       "      <td id=\"T_0b4ca_row14_col3\" class=\"data row14 col3\" >2.747000</td>\n",
       "      <td id=\"T_0b4ca_row14_col4\" class=\"data row14 col4\" >0.837000</td>\n",
       "      <td id=\"T_0b4ca_row14_col5\" class=\"data row14 col5\" >0.000000</td>\n",
       "      <td id=\"T_0b4ca_row14_col6\" class=\"data row14 col6\" >97.692283</td>\n",
       "      <td id=\"T_0b4ca_row14_col7\" class=\"data row14 col7\" >1.768778</td>\n",
       "      <td id=\"T_0b4ca_row14_col8\" class=\"data row14 col8\" >0.538940</td>\n",
       "    </tr>\n",
       "    <tr>\n",
       "      <th id=\"T_0b4ca_level0_row15\" class=\"row_heading level0 row15\" >2009</th>\n",
       "      <td id=\"T_0b4ca_row15_col0\" class=\"data row15 col0\" >151.720000</td>\n",
       "      <td id=\"T_0b4ca_row15_col1\" class=\"data row15 col1\" >0.000000</td>\n",
       "      <td id=\"T_0b4ca_row15_col2\" class=\"data row15 col2\" >147.669000</td>\n",
       "      <td id=\"T_0b4ca_row15_col3\" class=\"data row15 col3\" >2.974000</td>\n",
       "      <td id=\"T_0b4ca_row15_col4\" class=\"data row15 col4\" >1.077000</td>\n",
       "      <td id=\"T_0b4ca_row15_col5\" class=\"data row15 col5\" >0.000000</td>\n",
       "      <td id=\"T_0b4ca_row15_col6\" class=\"data row15 col6\" >97.329950</td>\n",
       "      <td id=\"T_0b4ca_row15_col7\" class=\"data row15 col7\" >1.960190</td>\n",
       "      <td id=\"T_0b4ca_row15_col8\" class=\"data row15 col8\" >0.709860</td>\n",
       "    </tr>\n",
       "    <tr>\n",
       "      <th id=\"T_0b4ca_level0_row16\" class=\"row_heading level0 row16\" >2010</th>\n",
       "      <td id=\"T_0b4ca_row16_col0\" class=\"data row16 col0\" >157.657000</td>\n",
       "      <td id=\"T_0b4ca_row16_col1\" class=\"data row16 col1\" >0.000000</td>\n",
       "      <td id=\"T_0b4ca_row16_col2\" class=\"data row16 col2\" >152.422000</td>\n",
       "      <td id=\"T_0b4ca_row16_col3\" class=\"data row16 col3\" >3.488000</td>\n",
       "      <td id=\"T_0b4ca_row16_col4\" class=\"data row16 col4\" >1.664000</td>\n",
       "      <td id=\"T_0b4ca_row16_col5\" class=\"data row16 col5\" >0.000000</td>\n",
       "      <td id=\"T_0b4ca_row16_col6\" class=\"data row16 col6\" >96.730425</td>\n",
       "      <td id=\"T_0b4ca_row16_col7\" class=\"data row16 col7\" >2.213563</td>\n",
       "      <td id=\"T_0b4ca_row16_col8\" class=\"data row16 col8\" >1.056012</td>\n",
       "    </tr>\n",
       "    <tr>\n",
       "      <th id=\"T_0b4ca_level0_row17\" class=\"row_heading level0 row17\" >2011</th>\n",
       "      <td id=\"T_0b4ca_row17_col0\" class=\"data row17 col0\" >163.548000</td>\n",
       "      <td id=\"T_0b4ca_row17_col1\" class=\"data row17 col1\" >0.000000</td>\n",
       "      <td id=\"T_0b4ca_row17_col2\" class=\"data row17 col2\" >157.477000</td>\n",
       "      <td id=\"T_0b4ca_row17_col3\" class=\"data row17 col3\" >2.761000</td>\n",
       "      <td id=\"T_0b4ca_row17_col4\" class=\"data row17 col4\" >3.205000</td>\n",
       "      <td id=\"T_0b4ca_row17_col5\" class=\"data row17 col5\" >0.000000</td>\n",
       "      <td id=\"T_0b4ca_row17_col6\" class=\"data row17 col6\" >96.349798</td>\n",
       "      <td id=\"T_0b4ca_row17_col7\" class=\"data row17 col7\" >1.689274</td>\n",
       "      <td id=\"T_0b4ca_row17_col8\" class=\"data row17 col8\" >1.960928</td>\n",
       "    </tr>\n",
       "    <tr>\n",
       "      <th id=\"T_0b4ca_level0_row18\" class=\"row_heading level0 row18\" >2012</th>\n",
       "      <td id=\"T_0b4ca_row18_col0\" class=\"data row18 col0\" >162.139000</td>\n",
       "      <td id=\"T_0b4ca_row18_col1\" class=\"data row18 col1\" >0.001000</td>\n",
       "      <td id=\"T_0b4ca_row18_col2\" class=\"data row18 col2\" >154.845000</td>\n",
       "      <td id=\"T_0b4ca_row18_col3\" class=\"data row18 col3\" >2.465000</td>\n",
       "      <td id=\"T_0b4ca_row18_col4\" class=\"data row18 col4\" >4.747000</td>\n",
       "      <td id=\"T_0b4ca_row18_col5\" class=\"data row18 col5\" >0.000617</td>\n",
       "      <td id=\"T_0b4ca_row18_col6\" class=\"data row18 col6\" >95.549124</td>\n",
       "      <td id=\"T_0b4ca_row18_col7\" class=\"data row18 col7\" >1.521060</td>\n",
       "      <td id=\"T_0b4ca_row18_col8\" class=\"data row18 col8\" >2.929198</td>\n",
       "    </tr>\n",
       "    <tr>\n",
       "      <th id=\"T_0b4ca_level0_row19\" class=\"row_heading level0 row19\" >2013</th>\n",
       "      <td id=\"T_0b4ca_row19_col0\" class=\"data row19 col0\" >164.557000</td>\n",
       "      <td id=\"T_0b4ca_row19_col1\" class=\"data row19 col1\" >0.001000</td>\n",
       "      <td id=\"T_0b4ca_row19_col2\" class=\"data row19 col2\" >155.444000</td>\n",
       "      <td id=\"T_0b4ca_row19_col3\" class=\"data row19 col3\" >2.997000</td>\n",
       "      <td id=\"T_0b4ca_row19_col4\" class=\"data row19 col4\" >6.004000</td>\n",
       "      <td id=\"T_0b4ca_row19_col5\" class=\"data row19 col5\" >0.000608</td>\n",
       "      <td id=\"T_0b4ca_row19_col6\" class=\"data row19 col6\" >94.525863</td>\n",
       "      <td id=\"T_0b4ca_row19_col7\" class=\"data row19 col7\" >1.822483</td>\n",
       "      <td id=\"T_0b4ca_row19_col8\" class=\"data row19 col8\" >3.651047</td>\n",
       "    </tr>\n",
       "    <tr>\n",
       "      <th id=\"T_0b4ca_level0_row20\" class=\"row_heading level0 row20\" >2014</th>\n",
       "      <td id=\"T_0b4ca_row20_col0\" class=\"data row20 col0\" >159.059000</td>\n",
       "      <td id=\"T_0b4ca_row20_col1\" class=\"data row20 col1\" >0.007000</td>\n",
       "      <td id=\"T_0b4ca_row20_col2\" class=\"data row20 col2\" >148.500000</td>\n",
       "      <td id=\"T_0b4ca_row20_col3\" class=\"data row20 col3\" >2.734000</td>\n",
       "      <td id=\"T_0b4ca_row20_col4\" class=\"data row20 col4\" >7.676000</td>\n",
       "      <td id=\"T_0b4ca_row20_col5\" class=\"data row20 col5\" >0.004405</td>\n",
       "      <td id=\"T_0b4ca_row20_col6\" class=\"data row20 col6\" >93.445006</td>\n",
       "      <td id=\"T_0b4ca_row20_col7\" class=\"data row20 col7\" >1.720395</td>\n",
       "      <td id=\"T_0b4ca_row20_col8\" class=\"data row20 col8\" >4.830194</td>\n",
       "    </tr>\n",
       "  </tbody>\n",
       "</table>\n"
      ],
      "text/plain": [
       "<pandas.io.formats.style.Styler at 0x1f438fb0220>"
      ]
     },
     "execution_count": 10,
     "metadata": {},
     "output_type": "execute_result"
    }
   ],
   "source": [
    "_get_country_yearly_stats(df_f,'Poland') #działa na df_final"
   ]
  },
  {
   "cell_type": "code",
   "execution_count": 11,
   "metadata": {},
   "outputs": [],
   "source": [
    "def _map_for_world(\n",
    "    data: pd.DataFrame,\n",
    ") -> pd.DataFrame:\n",
    "    \"\"\" Print map for world with electic stats \n",
    "        Working at final_version.csv file \n",
    "    \"\"\"\n",
    "    import plotly.express as px \n",
    "    df_m = data.loc[(data['commodity_transaction']=='Electricity - Gross production')] \n",
    "    df_m.rename({'new_quantity':'Electric_Energy_Production'},axis=1, inplace=True)\n",
    "    df_m=df_m.sort_values(\"year\")\n",
    "    \n",
    "    map = px.choropleth(df_m,             \n",
    "              locations=\"ISO\",               \n",
    "              color=np.log10(df_m['Electric_Energy_Production']),\n",
    "              hover_name=\"country_or_area\",  \n",
    "              animation_frame=\"year\",\n",
    "              color_continuous_scale=\"Blues\",\n",
    "              hover_data=['Electric_Energy_Production'],\n",
    "              range_color=tuple(np.log2([1, 9])),\n",
    "              height=700  \n",
    "             )\n",
    "    map.show()\n"
   ]
  },
  {
   "cell_type": "code",
   "execution_count": 12,
   "metadata": {},
   "outputs": [
    {
     "name": "stderr",
     "output_type": "stream",
     "text": [
      "C:\\Users\\karl1\\AppData\\Local\\Temp\\ipykernel_26548\\2215934235.py:9: SettingWithCopyWarning: \n",
      "A value is trying to be set on a copy of a slice from a DataFrame\n",
      "\n",
      "See the caveats in the documentation: https://pandas.pydata.org/pandas-docs/stable/user_guide/indexing.html#returning-a-view-versus-a-copy\n",
      "  df_m.rename({'new_quantity':'Electric_Energy_Production'},axis=1, inplace=True)\n"
     ]
    },
    {
     "data": {
      "application/vnd.plotly.v1+json": {
       "config": {
        "plotlyServerURL": "https://plot.ly"
       },
       "data": [
        {
         "coloraxis": "coloraxis",
         "customdata": [
          [
           0.687
          ],
          [
           261.786
          ],
          [
           113.356
          ],
          [
           6.187
          ],
          [
           136.023
          ],
          [
           1.111
          ],
          [
           50.64
          ],
          [
           0.1
          ],
          [
           4.244
          ],
          [
           3.475
          ],
          [
           1.288
          ],
          [
           36.42
          ],
          [
           2.873
          ],
          [
           15.66
          ],
          [
           28.674
          ],
          [
           135.347
          ],
          [
           1.686
          ],
          [
           31.382
          ],
          [
           18.086
          ],
          [
           5.815
          ],
          [
           0.34
          ],
          [
           0.003
          ],
          [
           15.531
          ],
          [
           0.055
          ],
          [
           0.082
          ],
          [
           2.715
          ],
          [
           0.0794
          ],
          [
           0.016
          ],
          [
           10.966
          ],
          [
           0.395
          ],
          [
           0.117
          ],
          [
           3.594
          ],
          [
           0.874
          ],
          [
           0.527
          ],
          [
           0.216
          ],
          [
           0.945
          ],
          [
           0.971
          ],
          [
           38.133
          ],
          [
           79.604
          ],
          [
           1.332
          ],
          [
           34.851
          ],
          [
           1.543
          ],
          [
           1.683
          ],
          [
           0.1481
          ],
          [
           0.03
          ],
          [
           147.131
          ],
          [
           8.228
          ],
          [
           0.052
          ],
          [
           0.00583
          ],
          [
           1.278
          ],
          [
           0.0976
          ],
          [
           0.1807
          ],
          [
           0.044
          ],
          [
           17.583
          ],
          [
           0.064
          ],
          [
           0.064
          ],
          [
           53.132
          ],
          [
           1.345
          ],
          [
           1.3974
          ],
          [
           0.419
          ],
          [
           167.463
          ],
          [
           143.053
          ],
          [
           66.306
          ],
          [
           15.182
          ],
          [
           0.564
          ],
          [
           5.511
          ],
          [
           16.982
          ],
          [
           4.386
          ],
          [
           161.848
          ],
          [
           4.55
          ],
          [
           182.452
          ],
          [
           875.914
          ],
          [
           0.162
          ],
          [
           1.206
          ],
          [
           0.144
          ],
          [
           0.064
          ],
          [
           0.017
          ],
          [
           96.88
          ],
          [
           72.179
          ],
          [
           0.969
          ],
          [
           55.136
          ],
          [
           34.528
          ],
          [
           0.126
          ],
          [
           0.237
          ],
          [
           20.676
          ],
          [
           0.577
          ],
          [
           25.712
          ],
          [
           12.895
          ],
          [
           0.062
          ],
          [
           10.6
          ],
          [
           0.271
          ],
          [
           31.397
          ],
          [
           5.658
          ],
          [
           0.249
          ],
          [
           1.032
          ],
          [
           0.106
          ],
          [
           40.624
          ],
          [
           58.705
          ],
          [
           0.255
          ],
          [
           0.08
          ],
          [
           2.685
          ],
          [
           1.027
          ],
          [
           1.7583
          ],
          [
           3.154
          ],
          [
           0.532
          ],
          [
           11.964
          ],
          [
           0.049
          ],
          [
           0.567
          ],
          [
           8.773
          ],
          [
           0.308
          ],
          [
           2.672
          ],
          [
           33.515
          ],
          [
           4.717
          ],
          [
           4.78
          ],
          [
           6.356
          ],
          [
           2.245
          ],
          [
           529.16
          ],
          [
           11.024
          ],
          [
           8.144
          ],
          [
           3.203
          ],
          [
           0.033
          ],
          [
           0.161
          ],
          [
           6.182
          ],
          [
           9.152
          ],
          [
           1.404
          ],
          [
           0.034
          ],
          [
           0.176
          ],
          [
           385.557
          ],
          [
           0.011
          ],
          [
           0.182
          ],
          [
           65.631
          ],
          [
           476.868
          ],
          [
           0.446
          ],
          [
           40.578
          ],
          [
           0.335
          ],
          [
           1.066
          ],
          [
           5.312
          ],
          [
           0.073
          ],
          [
           0.514
          ],
          [
           0.03
          ],
          [
           64.351
          ],
          [
           81.878
          ],
          [
           5.25
          ],
          [
           0.28
          ],
          [
           11.689
          ],
          [
           0.085
          ],
          [
           10.021
          ],
          [
           1.147
          ],
          [
           0.6600727000000001
          ],
          [
           0.101
          ],
          [
           0.953
          ],
          [
           40.058
          ],
          [
           0.284
          ],
          [
           0.046
          ],
          [
           0.276
          ],
          [
           1.542
          ],
          [
           555.784
          ],
          [
           0.074
          ],
          [
           0.903
          ],
          [
           0.277
          ],
          [
           2.776
          ],
          [
           25.277
          ],
          [
           4.44
          ],
          [
           1.2415498
          ],
          [
           928.083
          ],
          [
           28
          ],
          [
           0.365
          ],
          [
           17.106
          ],
          [
           28.424
          ],
          [
           231.813
          ],
          [
           0.018
          ],
          [
           4.775
          ],
          [
           944.507
          ],
          [
           0.3029
          ],
          [
           0.016
          ],
          [
           43.04
          ],
          [
           66.397
          ],
          [
           1.254
          ],
          [
           3.538
          ],
          [
           0.0054
          ],
          [
           23.1
          ],
          [
           26.741
          ],
          [
           163.516
          ],
          [
           23.152
          ],
          [
           13.087
          ],
          [
           5.075
          ],
          [
           71.177
          ],
          [
           49.5
          ],
          [
           1.715
          ],
          [
           0.248
          ],
          [
           2.16
          ],
          [
           1.057
          ],
          [
           1.057
          ],
          [
           71.221
          ],
          [
           11.665
          ],
          [
           23.736
          ],
          [
           47.8
          ],
          [
           8.272
          ],
          [
           4.069
          ],
          [
           78.321
          ],
          [
           0.029
          ],
          [
           0.036
          ],
          [
           65.686
          ],
          [
           7.785
          ],
          [
           10.518
          ],
          [
           0.12
          ],
          [
           19.888
          ],
          [
           202.922
          ],
          [
           0.955
          ],
          [
           0.0259
          ],
          [
           7.619
          ],
          [
           0.13
          ],
          [
           3.903
          ],
          [
           0.031
          ],
          [
           6.984
          ],
          [
           326.487
          ],
          [
           0.097
          ],
          [
           0.0021
          ],
          [
           3473.435
          ]
         ],
         "geo": "geo",
         "hovertemplate": "<b>%{hovertext}</b><br><br>year=1994<br>ISO=%{location}<br>Electric_Energy_Production=%{customdata[0]}<br>color=%{z}<extra></extra>",
         "hovertext": [
          "Afghanistan",
          "Brazil",
          "Norway",
          "Oman",
          "Other Asia",
          "Botswana",
          "Pakistan",
          "Palau",
          "Bosnia and Herzegovina",
          "Panama",
          "Papua New Guinea",
          "Paraguay",
          "Bolivia (Plur. State of)",
          "Peru",
          "Philippines",
          "Poland",
          "Bhutan",
          "Portugal",
          "Puerto Rico",
          "Qatar",
          "Northern Mariana Islands",
          "Niue",
          "Nigeria",
          "British Virgin Islands",
          "Micronesia (Fed. States of)",
          "Mongolia",
          "Cabo Verde",
          "Montserrat",
          "Morocco",
          "Mozambique",
          "Burundi",
          "Myanmar",
          "Namibia",
          "Bermuda",
          "Burkina Faso",
          "Nepal",
          "Neth. Antilles (former)",
          "Bulgaria",
          "Netherlands",
          "New Caledonia",
          "New Zealand",
          "Brunei Darussalam",
          "Nicaragua",
          "Niger",
          "Nauru",
          "Mexico",
          "Republic of Moldova",
          "Benin",
          "St. Helena and Depend.",
          "Bahamas",
          "St. Kitts-Nevis",
          "St. Lucia",
          "St. Pierre-Miquelon",
          "Azerbaijan",
          "St. Vincent-Grenadines",
          "State of Palestine",
          "Austria",
          "Sudan (former)",
          "Suriname",
          "Swaziland",
          "Australia",
          "Sweden",
          "Switzerland",
          "Syrian Arab Republic",
          "Aruba",
          "T.F.Yug.Rep. Macedonia",
          "Tajikistan",
          "Sri Lanka",
          "Spain",
          "Bahrain",
          "South Africa",
          "Russian Federation",
          "Rwanda",
          "Réunion",
          "Belize",
          "Samoa",
          "Sao Tome and Principe",
          "Saudi Arabia",
          "Belgium",
          "Senegal",
          "Romania",
          "Serbia and Montenegro",
          "Seychelles",
          "Sierra Leone",
          "Singapore",
          "Barbados",
          "Slovakia",
          "Slovenia",
          "Solomon Islands",
          "Bangladesh",
          "Somalia",
          "Belarus",
          "Armenia",
          "Cambodia",
          "Mauritius",
          "Gibraltar",
          "Greece",
          "Czechia",
          "Greenland",
          "Grenada",
          "Cyprus",
          "Guadeloupe",
          "Guam",
          "Guatemala",
          "Guinea",
          "Cuba",
          "Guinea-Bissau",
          "Guyana",
          "Croatia",
          "Haiti",
          "Honduras",
          "Hungary",
          "Costa Rica",
          "Iceland",
          "Ghana",
          "Côte d'Ivoire",
          "Germany",
          "Georgia",
          "Ecuador",
          "El Salvador",
          "Equatorial Guinea",
          "Eritrea",
          "Dominican Republic",
          "Estonia",
          "Ethiopia",
          "Dominica",
          "Faeroe Islands",
          "India",
          "Falkland Is. (Malvinas)",
          "Djibouti",
          "Finland",
          "France",
          "French Guiana",
          "Denmark",
          "French Polynesia",
          "Gabon",
          "Dem. Rep. of the Congo",
          "Gambia",
          "Fiji",
          "Mayotte",
          "Indonesia",
          "Iran (Islamic Rep. of)",
          "Lebanon",
          "Liberia",
          "Libya",
          "Chad",
          "Lithuania",
          "Luxembourg",
          "Madagascar",
          "Central African Rep.",
          "Malawi",
          "Malaysia",
          "Cayman Islands",
          "Maldives",
          "Mali",
          "Malta",
          "Canada",
          "Marshall Islands",
          "Martinique",
          "Mauritania",
          "Cameroon",
          "Chile",
          "Latvia",
          "Lao People's Dem. Rep.",
          "China",
          "Iraq",
          "Congo",
          "Ireland",
          "Israel",
          "Italy",
          "Comoros",
          "Jamaica",
          "Japan",
          "Jersey",
          "Cook Islands",
          "Colombia",
          "Kazakhstan",
          "China, Macao SAR",
          "Kenya",
          "Kiribati",
          "Korea, Dem.Ppl's.Rep.",
          "China, Hong Kong SAR",
          "Korea, Republic of",
          "Kuwait",
          "Kyrgyzstan",
          "Jordan",
          "Thailand",
          "Egypt",
          "United Rep. of Tanzania",
          "Togo",
          "Yemen",
          "Uganda",
          "United States Virgin Is.",
          "Venezuela (Bolivar. Rep.)",
          "Viet Nam",
          "United Arab Emirates",
          "Uzbekistan",
          "Zimbabwe",
          "Trinidad and Tobago",
          "Turkey",
          "Tonga",
          "Turks and Caicos Islands",
          "Argentina",
          "Zambia",
          "Turkmenistan",
          "Andorra",
          "Algeria",
          "Ukraine",
          "Angola",
          "Anguilla",
          "Uruguay",
          "American Samoa",
          "Albania",
          "Vanuatu",
          "Tunisia",
          "United Kingdom",
          "Antigua and Barbuda",
          "Tuvalu",
          "United States"
         ],
         "locations": [
          "AFG",
          "BRA",
          "NOR",
          "OMN",
          "@@@",
          "BWA",
          "PAK",
          "PLW",
          "BIH",
          "PAN",
          "PNG",
          "PRY",
          "BOL",
          "PER",
          "PHL",
          "POL",
          "BTN",
          "PRT",
          "PRI",
          "QAT",
          "MNP",
          "NIU",
          "NGA",
          "VGB",
          "FSM",
          "MNG",
          "CPV",
          "MSR",
          "MAR",
          "MOZ",
          "BDI",
          "MMR",
          "NAM",
          "BMU",
          "BFA",
          "NPL",
          "@@@",
          "BGR",
          "NLD",
          "NCL",
          "NZL",
          "BRN",
          "NIC",
          "NER",
          "NRU",
          "MEX",
          "MDA",
          "BEN",
          "SHN",
          "BHS",
          "KNA",
          "LCA",
          "SPM",
          "AZE",
          "VCT",
          "PSE",
          "AUT",
          "SDN",
          "SUR",
          "SWZ",
          "AUS",
          "SWE",
          "CHE",
          "SYR",
          "ABW",
          "MKD",
          "TJK",
          "LKA",
          "ESP",
          "BHR",
          "ZAF",
          "RUS",
          "RWA",
          "REU",
          "BLZ",
          "WSM",
          "STP",
          "SAU",
          "BEL",
          "SEN",
          "ROU",
          "SRB",
          "SYC",
          "SLE",
          "SGP",
          "BRB",
          "SVK",
          "SVN",
          "SLB",
          "BGD",
          "SOM",
          "BLR",
          "ARM",
          "KHM",
          "MUS",
          "GIB",
          "GRC",
          "CZE",
          "GRL",
          "GRD",
          "CYP",
          "GLP",
          "GUM",
          "GTM",
          "GIN",
          "CUB",
          "GNB",
          "GUY",
          "HRV",
          "HTI",
          "HND",
          "HUN",
          "CRI",
          "ISL",
          "GHA",
          "CIV",
          "DEU",
          "GEO",
          "ECU",
          "SLV",
          "GNQ",
          "ERI",
          "DOM",
          "EST",
          "ETH",
          "DMA",
          "FRO",
          "IND",
          "MDV",
          "DJI",
          "FIN",
          "FRA",
          "GUF",
          "DNK",
          "PYF",
          "GAB",
          "COD",
          "GMB",
          "FJI",
          "MYT",
          "IDN",
          "IRN",
          "LBN",
          "LBR",
          "LBY",
          "TCD",
          "LTU",
          "LUX",
          "MDG",
          "CAF",
          "MWI",
          "MYS",
          "CYM",
          "MDV",
          "MLI",
          "MLT",
          "CAN",
          "MHL",
          "MTQ",
          "MRT",
          "CMR",
          "CHL",
          "LVA",
          "LAO",
          "CHN",
          "IRQ",
          "COG",
          "IRL",
          "ISR",
          "ITA",
          "COM",
          "JAM",
          "JPN",
          "JEY",
          "COK",
          "COL",
          "KAZ",
          "MAC",
          "KEN",
          "KIR",
          "PRK",
          "HKG",
          "KOR",
          "KWT",
          "KGZ",
          "JOR",
          "THA",
          "EGY",
          "TZA",
          "TGO",
          "YEM",
          "UGA",
          "VIR",
          "VEN",
          "VNM",
          "ARE",
          "UZB",
          "ZWE",
          "TTO",
          "TUR",
          "TON",
          "TCA",
          "ARG",
          "ZMB",
          "TKM",
          "AND",
          "DZA",
          "UKR",
          "AGO",
          "AIA",
          "URY",
          "ASM",
          "ALB",
          "VUT",
          "TUN",
          "GBR",
          "ATG",
          "TUV",
          "USA"
         ],
         "name": "",
         "type": "choropleth",
         "z": [
          -0.16304326294044955,
          2.4179464172898992,
          2.0544445125342414,
          0.7914801160200009,
          2.1336123490212477,
          0.04571405894086761,
          1.7044936970092988,
          -1,
          0.627775375229303,
          0.5409548089261327,
          0.1099158630237933,
          1.5613399414589013,
          0.4583356259919475,
          1.1947917577219247,
          1.4574882809044376,
          2.131448633967737,
          0.2268575702887235,
          1.496680618068167,
          1.2573425265051756,
          0.7645497190644672,
          -0.46852108295774486,
          -2.5228787452803374,
          1.1911994197015183,
          -1.2596373105057561,
          -1.0861861476162833,
          0.43376983392486573,
          -1.1001794975729038,
          -1.7958800173440752,
          1.0400482415474621,
          -0.40340290437353976,
          -0.9318141382538383,
          0.555578072772955,
          -0.05848856736559697,
          -0.27818938478745336,
          -0.6655462488490691,
          -0.024568191490737076,
          -0.012780770091995148,
          1.5813009734403145,
          1.9009348910326613,
          0.12450422483428228,
          1.5422152440768149,
          0.18836592606314825,
          0.22608411597582387,
          -0.8294449414787914,
          -1.5228787452803376,
          2.1677041867351554,
          0.9152942830226863,
          -1.2839966563652008,
          -2.234331445240986,
          0.10653085382238137,
          -1.010550182333308,
          -0.7430418474390682,
          -1.3565473235138126,
          1.2450929761012812,
          -1.193820026016113,
          -1.193820026016113,
          1.7253561639732766,
          0.12872228433842678,
          0.1453207389183243,
          -0.3777859770337047,
          2.22391886706919,
          2.155496969934249,
          1.8215528292945247,
          1.1813289870897339,
          -0.24872089601665776,
          0.7412304110254707,
          1.229988836544811,
          0.642068627341504,
          2.209107337076062,
          0.6580113966571124,
          2.261148628370457,
          2.94246146785881,
          -0.790484985457369,
          0.08134730780413249,
          -0.8416375079047503,
          -1.193820026016113,
          -1.7695510786217261,
          1.9862341301349957,
          1.8584108608560688,
          -0.013676222949234686,
          1.7414352557679345,
          1.5381714230028167,
          -0.8996294548824371,
          -0.6252516539898961,
          1.3154665234956533,
          -0.2388241868442686,
          1.4101358594192692,
          1.1104213464739563,
          -1.207608310501746,
          1.0253058652647702,
          -0.5670307091255943,
          1.4968881529875675,
          0.752662943120972,
          -0.6038006529042637,
          0.01367969729119256,
          -0.9746941347352298,
          1.608782683529647,
          1.7686750923878696,
          -0.5934598195660449,
          -1.0969100130080565,
          0.42894429003557444,
          0.01157044359727816,
          0.24509297610128128,
          0.498861688992884,
          -0.2740883677049518,
          1.0778764043592806,
          -1.3098039199714864,
          -0.24641694110709347,
          0.9431481293585628,
          -0.5114492834995558,
          0.4268364538035081,
          1.525239223729745,
          0.6736658762457018,
          0.6794278966121189,
          0.803183888535342,
          0.351216345339342,
          2.7235870077833413,
          1.0423392045635507,
          0.9108377649926835,
          0.5055569386638218,
          -1.4814860601221125,
          -0.7931741239681502,
          0.7911290007272862,
          0.9615160114489489,
          0.14736710779378645,
          -1.4685210829577449,
          -0.7544873321858502,
          2.586088592388347,
          -1.958607314841775,
          -0.7399286120149252,
          1.81710902152301,
          2.6783981802872945,
          -0.35066514128785814,
          1.6082906378089863,
          -0.47495519296315475,
          0.027757204690553483,
          0.7252580663599612,
          -1.136677139879544,
          -0.28903688100472424,
          -1.5228787452803376,
          1.8085553001309644,
          1.9131672257885621,
          0.7201593034059569,
          -0.5528419686577808,
          1.0677773586333172,
          -1.0705810742857071,
          1.0009110621312234,
          0.059563417901267686,
          -0.18040822889745908,
          -0.9956786262173574,
          -0.02090709936167361,
          1.6026892622155022,
          -0.5466816599529624,
          -1.337242168318426,
          -0.5590909179347823,
          0.1880843737149382,
          2.7449060400812777,
          -1.1307682802690238,
          -0.04431224968649419,
          -0.5575202309355514,
          0.44341946178281727,
          1.4027255284410836,
          0.6473829701146199,
          0.0939641442944765,
          2.9675868176306115,
          1.4471580313422192,
          -0.4377071355435253,
          1.2331484676931037,
          1.4536851944812714,
          2.365137787408223,
          -1.744727494896694,
          0.6789733759197651,
          2.975205180945103,
          -0.5187007266671443,
          -1.7958800173440752,
          1.6338722626583329,
          1.8221484571861017,
          0.09829753649469763,
          0.5487578285737043,
          -2.2676062401770314,
          1.3636119798921444,
          1.4271776440015607,
          2.2135602546827546,
          1.3645885137749623,
          1.116840102412664,
          0.7054360465852505,
          1.8523396792156976,
          1.6946051989335686,
          0.23426412437878932,
          -0.6055483191737837,
          0.3344537511509309,
          0.024074987307426243,
          0.024074987307426243,
          1.8526080672241232,
          1.0668847431297714,
          1.3754075333087854,
          1.6794278966121188,
          0.9176105257498673,
          0.6094876898532853,
          1.8938782238884082,
          -1.537602002101044,
          -1.4436974992327127,
          1.8174728159731026,
          0.8912586169041391,
          1.0219331664774387,
          -0.9208187539523752,
          1.2985911112975697,
          2.307329134074518,
          -0.019996628416253676,
          -1.586700235918748,
          0.8818979735730113,
          -0.8860566476931632,
          0.5913985512812487,
          -1.5086383061657274,
          0.8441042306975133,
          2.51386589329665,
          -1.0132282657337552,
          -2.677780705266081,
          3.540759176132368
         ]
        }
       ],
       "frames": [
        {
         "data": [
          {
           "coloraxis": "coloraxis",
           "customdata": [
            [
             0.687
            ],
            [
             261.786
            ],
            [
             113.356
            ],
            [
             6.187
            ],
            [
             136.023
            ],
            [
             1.111
            ],
            [
             50.64
            ],
            [
             0.1
            ],
            [
             4.244
            ],
            [
             3.475
            ],
            [
             1.288
            ],
            [
             36.42
            ],
            [
             2.873
            ],
            [
             15.66
            ],
            [
             28.674
            ],
            [
             135.347
            ],
            [
             1.686
            ],
            [
             31.382
            ],
            [
             18.086
            ],
            [
             5.815
            ],
            [
             0.34
            ],
            [
             0.003
            ],
            [
             15.531
            ],
            [
             0.055
            ],
            [
             0.082
            ],
            [
             2.715
            ],
            [
             0.0794
            ],
            [
             0.016
            ],
            [
             10.966
            ],
            [
             0.395
            ],
            [
             0.117
            ],
            [
             3.594
            ],
            [
             0.874
            ],
            [
             0.527
            ],
            [
             0.216
            ],
            [
             0.945
            ],
            [
             0.971
            ],
            [
             38.133
            ],
            [
             79.604
            ],
            [
             1.332
            ],
            [
             34.851
            ],
            [
             1.543
            ],
            [
             1.683
            ],
            [
             0.1481
            ],
            [
             0.03
            ],
            [
             147.131
            ],
            [
             8.228
            ],
            [
             0.052
            ],
            [
             0.00583
            ],
            [
             1.278
            ],
            [
             0.0976
            ],
            [
             0.1807
            ],
            [
             0.044
            ],
            [
             17.583
            ],
            [
             0.064
            ],
            [
             0.064
            ],
            [
             53.132
            ],
            [
             1.345
            ],
            [
             1.3974
            ],
            [
             0.419
            ],
            [
             167.463
            ],
            [
             143.053
            ],
            [
             66.306
            ],
            [
             15.182
            ],
            [
             0.564
            ],
            [
             5.511
            ],
            [
             16.982
            ],
            [
             4.386
            ],
            [
             161.848
            ],
            [
             4.55
            ],
            [
             182.452
            ],
            [
             875.914
            ],
            [
             0.162
            ],
            [
             1.206
            ],
            [
             0.144
            ],
            [
             0.064
            ],
            [
             0.017
            ],
            [
             96.88
            ],
            [
             72.179
            ],
            [
             0.969
            ],
            [
             55.136
            ],
            [
             34.528
            ],
            [
             0.126
            ],
            [
             0.237
            ],
            [
             20.676
            ],
            [
             0.577
            ],
            [
             25.712
            ],
            [
             12.895
            ],
            [
             0.062
            ],
            [
             10.6
            ],
            [
             0.271
            ],
            [
             31.397
            ],
            [
             5.658
            ],
            [
             0.249
            ],
            [
             1.032
            ],
            [
             0.106
            ],
            [
             40.624
            ],
            [
             58.705
            ],
            [
             0.255
            ],
            [
             0.08
            ],
            [
             2.685
            ],
            [
             1.027
            ],
            [
             1.7583
            ],
            [
             3.154
            ],
            [
             0.532
            ],
            [
             11.964
            ],
            [
             0.049
            ],
            [
             0.567
            ],
            [
             8.773
            ],
            [
             0.308
            ],
            [
             2.672
            ],
            [
             33.515
            ],
            [
             4.717
            ],
            [
             4.78
            ],
            [
             6.356
            ],
            [
             2.245
            ],
            [
             529.16
            ],
            [
             11.024
            ],
            [
             8.144
            ],
            [
             3.203
            ],
            [
             0.033
            ],
            [
             0.161
            ],
            [
             6.182
            ],
            [
             9.152
            ],
            [
             1.404
            ],
            [
             0.034
            ],
            [
             0.176
            ],
            [
             385.557
            ],
            [
             0.011
            ],
            [
             0.182
            ],
            [
             65.631
            ],
            [
             476.868
            ],
            [
             0.446
            ],
            [
             40.578
            ],
            [
             0.335
            ],
            [
             1.066
            ],
            [
             5.312
            ],
            [
             0.073
            ],
            [
             0.514
            ],
            [
             0.03
            ],
            [
             64.351
            ],
            [
             81.878
            ],
            [
             5.25
            ],
            [
             0.28
            ],
            [
             11.689
            ],
            [
             0.085
            ],
            [
             10.021
            ],
            [
             1.147
            ],
            [
             0.6600727000000001
            ],
            [
             0.101
            ],
            [
             0.953
            ],
            [
             40.058
            ],
            [
             0.284
            ],
            [
             0.046
            ],
            [
             0.276
            ],
            [
             1.542
            ],
            [
             555.784
            ],
            [
             0.074
            ],
            [
             0.903
            ],
            [
             0.277
            ],
            [
             2.776
            ],
            [
             25.277
            ],
            [
             4.44
            ],
            [
             1.2415498
            ],
            [
             928.083
            ],
            [
             28
            ],
            [
             0.365
            ],
            [
             17.106
            ],
            [
             28.424
            ],
            [
             231.813
            ],
            [
             0.018
            ],
            [
             4.775
            ],
            [
             944.507
            ],
            [
             0.3029
            ],
            [
             0.016
            ],
            [
             43.04
            ],
            [
             66.397
            ],
            [
             1.254
            ],
            [
             3.538
            ],
            [
             0.0054
            ],
            [
             23.1
            ],
            [
             26.741
            ],
            [
             163.516
            ],
            [
             23.152
            ],
            [
             13.087
            ],
            [
             5.075
            ],
            [
             71.177
            ],
            [
             49.5
            ],
            [
             1.715
            ],
            [
             0.248
            ],
            [
             2.16
            ],
            [
             1.057
            ],
            [
             1.057
            ],
            [
             71.221
            ],
            [
             11.665
            ],
            [
             23.736
            ],
            [
             47.8
            ],
            [
             8.272
            ],
            [
             4.069
            ],
            [
             78.321
            ],
            [
             0.029
            ],
            [
             0.036
            ],
            [
             65.686
            ],
            [
             7.785
            ],
            [
             10.518
            ],
            [
             0.12
            ],
            [
             19.888
            ],
            [
             202.922
            ],
            [
             0.955
            ],
            [
             0.0259
            ],
            [
             7.619
            ],
            [
             0.13
            ],
            [
             3.903
            ],
            [
             0.031
            ],
            [
             6.984
            ],
            [
             326.487
            ],
            [
             0.097
            ],
            [
             0.0021
            ],
            [
             3473.435
            ]
           ],
           "geo": "geo",
           "hovertemplate": "<b>%{hovertext}</b><br><br>year=1994<br>ISO=%{location}<br>Electric_Energy_Production=%{customdata[0]}<br>color=%{z}<extra></extra>",
           "hovertext": [
            "Afghanistan",
            "Brazil",
            "Norway",
            "Oman",
            "Other Asia",
            "Botswana",
            "Pakistan",
            "Palau",
            "Bosnia and Herzegovina",
            "Panama",
            "Papua New Guinea",
            "Paraguay",
            "Bolivia (Plur. State of)",
            "Peru",
            "Philippines",
            "Poland",
            "Bhutan",
            "Portugal",
            "Puerto Rico",
            "Qatar",
            "Northern Mariana Islands",
            "Niue",
            "Nigeria",
            "British Virgin Islands",
            "Micronesia (Fed. States of)",
            "Mongolia",
            "Cabo Verde",
            "Montserrat",
            "Morocco",
            "Mozambique",
            "Burundi",
            "Myanmar",
            "Namibia",
            "Bermuda",
            "Burkina Faso",
            "Nepal",
            "Neth. Antilles (former)",
            "Bulgaria",
            "Netherlands",
            "New Caledonia",
            "New Zealand",
            "Brunei Darussalam",
            "Nicaragua",
            "Niger",
            "Nauru",
            "Mexico",
            "Republic of Moldova",
            "Benin",
            "St. Helena and Depend.",
            "Bahamas",
            "St. Kitts-Nevis",
            "St. Lucia",
            "St. Pierre-Miquelon",
            "Azerbaijan",
            "St. Vincent-Grenadines",
            "State of Palestine",
            "Austria",
            "Sudan (former)",
            "Suriname",
            "Swaziland",
            "Australia",
            "Sweden",
            "Switzerland",
            "Syrian Arab Republic",
            "Aruba",
            "T.F.Yug.Rep. Macedonia",
            "Tajikistan",
            "Sri Lanka",
            "Spain",
            "Bahrain",
            "South Africa",
            "Russian Federation",
            "Rwanda",
            "Réunion",
            "Belize",
            "Samoa",
            "Sao Tome and Principe",
            "Saudi Arabia",
            "Belgium",
            "Senegal",
            "Romania",
            "Serbia and Montenegro",
            "Seychelles",
            "Sierra Leone",
            "Singapore",
            "Barbados",
            "Slovakia",
            "Slovenia",
            "Solomon Islands",
            "Bangladesh",
            "Somalia",
            "Belarus",
            "Armenia",
            "Cambodia",
            "Mauritius",
            "Gibraltar",
            "Greece",
            "Czechia",
            "Greenland",
            "Grenada",
            "Cyprus",
            "Guadeloupe",
            "Guam",
            "Guatemala",
            "Guinea",
            "Cuba",
            "Guinea-Bissau",
            "Guyana",
            "Croatia",
            "Haiti",
            "Honduras",
            "Hungary",
            "Costa Rica",
            "Iceland",
            "Ghana",
            "Côte d'Ivoire",
            "Germany",
            "Georgia",
            "Ecuador",
            "El Salvador",
            "Equatorial Guinea",
            "Eritrea",
            "Dominican Republic",
            "Estonia",
            "Ethiopia",
            "Dominica",
            "Faeroe Islands",
            "India",
            "Falkland Is. (Malvinas)",
            "Djibouti",
            "Finland",
            "France",
            "French Guiana",
            "Denmark",
            "French Polynesia",
            "Gabon",
            "Dem. Rep. of the Congo",
            "Gambia",
            "Fiji",
            "Mayotte",
            "Indonesia",
            "Iran (Islamic Rep. of)",
            "Lebanon",
            "Liberia",
            "Libya",
            "Chad",
            "Lithuania",
            "Luxembourg",
            "Madagascar",
            "Central African Rep.",
            "Malawi",
            "Malaysia",
            "Cayman Islands",
            "Maldives",
            "Mali",
            "Malta",
            "Canada",
            "Marshall Islands",
            "Martinique",
            "Mauritania",
            "Cameroon",
            "Chile",
            "Latvia",
            "Lao People's Dem. Rep.",
            "China",
            "Iraq",
            "Congo",
            "Ireland",
            "Israel",
            "Italy",
            "Comoros",
            "Jamaica",
            "Japan",
            "Jersey",
            "Cook Islands",
            "Colombia",
            "Kazakhstan",
            "China, Macao SAR",
            "Kenya",
            "Kiribati",
            "Korea, Dem.Ppl's.Rep.",
            "China, Hong Kong SAR",
            "Korea, Republic of",
            "Kuwait",
            "Kyrgyzstan",
            "Jordan",
            "Thailand",
            "Egypt",
            "United Rep. of Tanzania",
            "Togo",
            "Yemen",
            "Uganda",
            "United States Virgin Is.",
            "Venezuela (Bolivar. Rep.)",
            "Viet Nam",
            "United Arab Emirates",
            "Uzbekistan",
            "Zimbabwe",
            "Trinidad and Tobago",
            "Turkey",
            "Tonga",
            "Turks and Caicos Islands",
            "Argentina",
            "Zambia",
            "Turkmenistan",
            "Andorra",
            "Algeria",
            "Ukraine",
            "Angola",
            "Anguilla",
            "Uruguay",
            "American Samoa",
            "Albania",
            "Vanuatu",
            "Tunisia",
            "United Kingdom",
            "Antigua and Barbuda",
            "Tuvalu",
            "United States"
           ],
           "locations": [
            "AFG",
            "BRA",
            "NOR",
            "OMN",
            "@@@",
            "BWA",
            "PAK",
            "PLW",
            "BIH",
            "PAN",
            "PNG",
            "PRY",
            "BOL",
            "PER",
            "PHL",
            "POL",
            "BTN",
            "PRT",
            "PRI",
            "QAT",
            "MNP",
            "NIU",
            "NGA",
            "VGB",
            "FSM",
            "MNG",
            "CPV",
            "MSR",
            "MAR",
            "MOZ",
            "BDI",
            "MMR",
            "NAM",
            "BMU",
            "BFA",
            "NPL",
            "@@@",
            "BGR",
            "NLD",
            "NCL",
            "NZL",
            "BRN",
            "NIC",
            "NER",
            "NRU",
            "MEX",
            "MDA",
            "BEN",
            "SHN",
            "BHS",
            "KNA",
            "LCA",
            "SPM",
            "AZE",
            "VCT",
            "PSE",
            "AUT",
            "SDN",
            "SUR",
            "SWZ",
            "AUS",
            "SWE",
            "CHE",
            "SYR",
            "ABW",
            "MKD",
            "TJK",
            "LKA",
            "ESP",
            "BHR",
            "ZAF",
            "RUS",
            "RWA",
            "REU",
            "BLZ",
            "WSM",
            "STP",
            "SAU",
            "BEL",
            "SEN",
            "ROU",
            "SRB",
            "SYC",
            "SLE",
            "SGP",
            "BRB",
            "SVK",
            "SVN",
            "SLB",
            "BGD",
            "SOM",
            "BLR",
            "ARM",
            "KHM",
            "MUS",
            "GIB",
            "GRC",
            "CZE",
            "GRL",
            "GRD",
            "CYP",
            "GLP",
            "GUM",
            "GTM",
            "GIN",
            "CUB",
            "GNB",
            "GUY",
            "HRV",
            "HTI",
            "HND",
            "HUN",
            "CRI",
            "ISL",
            "GHA",
            "CIV",
            "DEU",
            "GEO",
            "ECU",
            "SLV",
            "GNQ",
            "ERI",
            "DOM",
            "EST",
            "ETH",
            "DMA",
            "FRO",
            "IND",
            "MDV",
            "DJI",
            "FIN",
            "FRA",
            "GUF",
            "DNK",
            "PYF",
            "GAB",
            "COD",
            "GMB",
            "FJI",
            "MYT",
            "IDN",
            "IRN",
            "LBN",
            "LBR",
            "LBY",
            "TCD",
            "LTU",
            "LUX",
            "MDG",
            "CAF",
            "MWI",
            "MYS",
            "CYM",
            "MDV",
            "MLI",
            "MLT",
            "CAN",
            "MHL",
            "MTQ",
            "MRT",
            "CMR",
            "CHL",
            "LVA",
            "LAO",
            "CHN",
            "IRQ",
            "COG",
            "IRL",
            "ISR",
            "ITA",
            "COM",
            "JAM",
            "JPN",
            "JEY",
            "COK",
            "COL",
            "KAZ",
            "MAC",
            "KEN",
            "KIR",
            "PRK",
            "HKG",
            "KOR",
            "KWT",
            "KGZ",
            "JOR",
            "THA",
            "EGY",
            "TZA",
            "TGO",
            "YEM",
            "UGA",
            "VIR",
            "VEN",
            "VNM",
            "ARE",
            "UZB",
            "ZWE",
            "TTO",
            "TUR",
            "TON",
            "TCA",
            "ARG",
            "ZMB",
            "TKM",
            "AND",
            "DZA",
            "UKR",
            "AGO",
            "AIA",
            "URY",
            "ASM",
            "ALB",
            "VUT",
            "TUN",
            "GBR",
            "ATG",
            "TUV",
            "USA"
           ],
           "name": "",
           "type": "choropleth",
           "z": [
            -0.16304326294044955,
            2.4179464172898992,
            2.0544445125342414,
            0.7914801160200009,
            2.1336123490212477,
            0.04571405894086761,
            1.7044936970092988,
            -1,
            0.627775375229303,
            0.5409548089261327,
            0.1099158630237933,
            1.5613399414589013,
            0.4583356259919475,
            1.1947917577219247,
            1.4574882809044376,
            2.131448633967737,
            0.2268575702887235,
            1.496680618068167,
            1.2573425265051756,
            0.7645497190644672,
            -0.46852108295774486,
            -2.5228787452803374,
            1.1911994197015183,
            -1.2596373105057561,
            -1.0861861476162833,
            0.43376983392486573,
            -1.1001794975729038,
            -1.7958800173440752,
            1.0400482415474621,
            -0.40340290437353976,
            -0.9318141382538383,
            0.555578072772955,
            -0.05848856736559697,
            -0.27818938478745336,
            -0.6655462488490691,
            -0.024568191490737076,
            -0.012780770091995148,
            1.5813009734403145,
            1.9009348910326613,
            0.12450422483428228,
            1.5422152440768149,
            0.18836592606314825,
            0.22608411597582387,
            -0.8294449414787914,
            -1.5228787452803376,
            2.1677041867351554,
            0.9152942830226863,
            -1.2839966563652008,
            -2.234331445240986,
            0.10653085382238137,
            -1.010550182333308,
            -0.7430418474390682,
            -1.3565473235138126,
            1.2450929761012812,
            -1.193820026016113,
            -1.193820026016113,
            1.7253561639732766,
            0.12872228433842678,
            0.1453207389183243,
            -0.3777859770337047,
            2.22391886706919,
            2.155496969934249,
            1.8215528292945247,
            1.1813289870897339,
            -0.24872089601665776,
            0.7412304110254707,
            1.229988836544811,
            0.642068627341504,
            2.209107337076062,
            0.6580113966571124,
            2.261148628370457,
            2.94246146785881,
            -0.790484985457369,
            0.08134730780413249,
            -0.8416375079047503,
            -1.193820026016113,
            -1.7695510786217261,
            1.9862341301349957,
            1.8584108608560688,
            -0.013676222949234686,
            1.7414352557679345,
            1.5381714230028167,
            -0.8996294548824371,
            -0.6252516539898961,
            1.3154665234956533,
            -0.2388241868442686,
            1.4101358594192692,
            1.1104213464739563,
            -1.207608310501746,
            1.0253058652647702,
            -0.5670307091255943,
            1.4968881529875675,
            0.752662943120972,
            -0.6038006529042637,
            0.01367969729119256,
            -0.9746941347352298,
            1.608782683529647,
            1.7686750923878696,
            -0.5934598195660449,
            -1.0969100130080565,
            0.42894429003557444,
            0.01157044359727816,
            0.24509297610128128,
            0.498861688992884,
            -0.2740883677049518,
            1.0778764043592806,
            -1.3098039199714864,
            -0.24641694110709347,
            0.9431481293585628,
            -0.5114492834995558,
            0.4268364538035081,
            1.525239223729745,
            0.6736658762457018,
            0.6794278966121189,
            0.803183888535342,
            0.351216345339342,
            2.7235870077833413,
            1.0423392045635507,
            0.9108377649926835,
            0.5055569386638218,
            -1.4814860601221125,
            -0.7931741239681502,
            0.7911290007272862,
            0.9615160114489489,
            0.14736710779378645,
            -1.4685210829577449,
            -0.7544873321858502,
            2.586088592388347,
            -1.958607314841775,
            -0.7399286120149252,
            1.81710902152301,
            2.6783981802872945,
            -0.35066514128785814,
            1.6082906378089863,
            -0.47495519296315475,
            0.027757204690553483,
            0.7252580663599612,
            -1.136677139879544,
            -0.28903688100472424,
            -1.5228787452803376,
            1.8085553001309644,
            1.9131672257885621,
            0.7201593034059569,
            -0.5528419686577808,
            1.0677773586333172,
            -1.0705810742857071,
            1.0009110621312234,
            0.059563417901267686,
            -0.18040822889745908,
            -0.9956786262173574,
            -0.02090709936167361,
            1.6026892622155022,
            -0.5466816599529624,
            -1.337242168318426,
            -0.5590909179347823,
            0.1880843737149382,
            2.7449060400812777,
            -1.1307682802690238,
            -0.04431224968649419,
            -0.5575202309355514,
            0.44341946178281727,
            1.4027255284410836,
            0.6473829701146199,
            0.0939641442944765,
            2.9675868176306115,
            1.4471580313422192,
            -0.4377071355435253,
            1.2331484676931037,
            1.4536851944812714,
            2.365137787408223,
            -1.744727494896694,
            0.6789733759197651,
            2.975205180945103,
            -0.5187007266671443,
            -1.7958800173440752,
            1.6338722626583329,
            1.8221484571861017,
            0.09829753649469763,
            0.5487578285737043,
            -2.2676062401770314,
            1.3636119798921444,
            1.4271776440015607,
            2.2135602546827546,
            1.3645885137749623,
            1.116840102412664,
            0.7054360465852505,
            1.8523396792156976,
            1.6946051989335686,
            0.23426412437878932,
            -0.6055483191737837,
            0.3344537511509309,
            0.024074987307426243,
            0.024074987307426243,
            1.8526080672241232,
            1.0668847431297714,
            1.3754075333087854,
            1.6794278966121188,
            0.9176105257498673,
            0.6094876898532853,
            1.8938782238884082,
            -1.537602002101044,
            -1.4436974992327127,
            1.8174728159731026,
            0.8912586169041391,
            1.0219331664774387,
            -0.9208187539523752,
            1.2985911112975697,
            2.307329134074518,
            -0.019996628416253676,
            -1.586700235918748,
            0.8818979735730113,
            -0.8860566476931632,
            0.5913985512812487,
            -1.5086383061657274,
            0.8441042306975133,
            2.51386589329665,
            -1.0132282657337552,
            -2.677780705266081,
            3.540759176132368
           ]
          }
         ],
         "name": "1994"
        },
        {
         "data": [
          {
           "coloraxis": "coloraxis",
           "customdata": [
            [
             12.459
            ],
            [
             0.935
            ],
            [
             14.06
            ],
            [
             1.6943
            ],
            [
             194.318
            ],
            [
             0.098
            ],
            [
             1.786
            ],
            [
             0.018
            ],
            [
             0.065
            ],
            [
             36.062
            ],
            [
             23
            ],
            [
             0.137
            ],
            [
             0.537
            ],
            [
             74.408
            ],
            [
             27.916
            ],
            [
             99.833
            ],
            [
             3.413
            ],
            [
             2.422
            ],
            [
             24.918
            ],
            [
             1.078
            ],
            [
             6.188
            ],
            [
             3.979
            ],
            [
             0.96
            ],
            [
             12.913
            ],
            [
             7.589
            ],
            [
             1
            ],
            [
             0.108
            ],
            [
             26.774
            ],
            [
             1.1279894
            ],
            [
             0.0222
            ],
            [
             41.552
            ],
            [
             0.616
            ],
            [
             1.01
            ],
            [
             60.847
            ],
            [
             22.057
            ],
            [
             41.789
            ],
            [
             14.285
            ],
            [
             37.176
            ],
            [
             183.857
            ],
            [
             2.497
            ],
            [
             1.415
            ],
            [
             24.254
            ],
            [
             0.1488
            ],
            [
             1.966
            ],
            [
             86.247
            ],
            [
             52.5
            ],
            [
             0.088
            ],
            [
             81.167
            ],
            [
             0.0962
            ],
            [
             1007.726
            ],
            [
             0.257
            ],
            [
             0.129
            ],
            [
             0.148
            ],
            [
             15.857
            ],
            [
             0.05
            ],
            [
             6.5
            ],
            [
             33.265
            ],
            [
             0.0391
            ],
            [
             1.63
            ],
            [
             969.382
            ],
            [
             0.016
            ],
            [
             68.399
            ],
            [
             139.006
            ],
            [
             1.114
            ],
            [
             145.98
            ],
            [
             84.969
            ],
            [
             30.875
            ],
            [
             47.453
            ],
            [
             0.0021
            ],
            [
             29
            ],
            [
             53.555
            ],
            [
             17.44
            ],
            [
             5.829
            ],
            [
             3.061
            ],
            [
             0.1
            ],
            [
             0.328
            ],
            [
             0.034
            ],
            [
             39.855
            ],
            [
             17.859
            ],
            [
             0.019
            ],
            [
             30.425
            ],
            [
             1.574
            ],
            [
             4.401
            ],
            [
             241.489
            ],
            [
             45.246
            ],
            [
             0.3178
            ],
            [
             418.043
            ],
            [
             18.747
            ],
            [
             0.061
            ],
            [
             1.298
            ],
            [
             0.573
            ],
            [
             3.747
            ],
            [
             0.164
            ],
            [
             6.306
            ],
            [
             9.276
            ],
            [
             75.446
            ],
            [
             1.272
            ],
            [
             860.027
            ],
            [
             9.818
            ],
            [
             0.035
            ],
            [
             0.523
            ],
            [
             0.003
            ],
            [
             0.0092
            ],
            [
             2.838
            ],
            [
             1.097
            ],
            [
             0.345
            ],
            [
             34.018
            ],
            [
             6.068
            ],
            [
             66.659
            ],
            [
             275.601
            ],
            [
             4.863
            ],
            [
             0.521
            ],
            [
             5.616
            ],
            [
             19.714
            ],
            [
             5.976
            ],
            [
             4.981
            ],
            [
             123.199
            ],
            [
             560.116
            ],
            [
             59.266
            ],
            [
             0.063
            ],
            [
             3.535
            ],
            [
             67.085
            ],
            [
             0.0722
            ],
            [
             63.032
            ],
            [
             0.057
            ],
            [
             64.035
            ],
            [
             3582.114
            ],
            [
             0.0833
            ],
            [
             5.477
            ],
            [
             17.045
            ],
            [
             1.23
            ],
            [
             494.274
            ],
            [
             0.042
            ],
            [
             2.629
            ],
            [
             0.35
            ],
            [
             15.3
            ],
            [
             7.924
            ],
            [
             0.45
            ],
            [
             0.340697
            ],
            [
             0.172
            ],
            [
             0.1966
            ],
            [
             80.348
            ],
            [
             13.898
            ],
            [
             12.113
            ],
            [
             36.758
            ],
            [
             0.616
            ],
            [
             0.017
            ],
            [
             0.1018
            ],
            [
             0.184
            ],
            [
             0.102
            ],
            [
             173.159
            ],
            [
             0.249
            ],
            [
             0.425
            ],
            [
             0.056
            ],
            [
             8.017
            ],
            [
             0.175
            ],
            [
             0.94
            ],
            [
             1.47
            ],
            [
             1.4018
            ],
            [
             0.036
            ],
            [
             152.248
            ],
            [
             2.955
            ],
            [
             148.351
            ],
            [
             1.421
            ],
            [
             0.0312
            ],
            [
             8.693
            ],
            [
             56.225
            ],
            [
             0.6620226
            ],
            [
             0.012
            ],
            [
             334.041
            ],
            [
             0.084
            ],
            [
             0.544
            ],
            [
             1.06
            ],
            [
             0.064
            ],
            [
             0.297
            ],
            [
             0.089
            ],
            [
             46.656
            ],
            [
             1.304
            ],
            [
             537.284
            ],
            [
             5.378
            ],
            [
             0.28
            ],
            [
             14.768
            ],
            [
             167.085
            ],
            [
             4.307
            ],
            [
             0.272
            ],
            [
             4.056
            ],
            [
             4.611
            ],
            [
             4.414
            ],
            [
             2.844
            ],
            [
             0.074
            ],
            [
             0.078
            ],
            [
             0.675
            ],
            [
             5.573
            ],
            [
             8.429
            ],
            [
             1.632
            ],
            [
             1.171
            ],
            [
             187.825
            ],
            [
             8.154
            ],
            [
             0.124
            ],
            [
             28.027
            ],
            [
             0.976
            ],
            [
             1.071
            ],
            [
             0.034
            ],
            [
             1.817
            ],
            [
             6.085
            ],
            [
             0.349
            ],
            [
             11.415
            ],
            [
             3.398
            ],
            [
             0.312
            ],
            [
             0.00618
            ],
            [
             11.689
            ],
            [
             0.2429
            ],
            [
             1.139
            ],
            [
             0.12
            ],
            [
             24.982
            ],
            [
             0.408
            ],
            [
             5.561
            ],
            [
             4.8
            ],
            [
             0.032
            ]
           ],
           "geo": "geo",
           "hovertemplate": "<b>%{hovertext}</b><br><br>year=1995<br>ISO=%{location}<br>Electric_Energy_Production=%{customdata[0]}<br>color=%{z}<extra></extra>",
           "hovertext": [
            "Cuba",
            "Senegal",
            "Viet Nam",
            "Guam",
            "Ukraine",
            "Antigua and Barbuda",
            "Nicaragua",
            "Sao Tome and Principe",
            "Samoa",
            "New Zealand",
            "Korea, Dem.Ppl's.Rep.",
            "American Samoa",
            "Guinea",
            "Belgium",
            "China, Hong Kong SAR",
            "Saudi Arabia",
            "Guatemala",
            "Yemen",
            "Belarus",
            "Guadeloupe",
            "Ghana",
            "Latvia",
            "Angola",
            "Slovenia",
            "Tunisia",
            "Nepal",
            "Gibraltar",
            "Slovakia",
            "Lao People's Dem. Rep.",
            "Anguilla",
            "Greece",
            "Barbados",
            "Neth. Antilles (former)",
            "Czechia",
            "Singapore",
            "Bulgaria",
            "Kyrgyzstan",
            "Serbia and Montenegro",
            "Korea, Republic of",
            "Cyprus",
            "New Caledonia",
            "Kuwait",
            "Niger",
            "Brunei Darussalam",
            "Turkey",
            "Egypt",
            "Grenada",
            "Netherlands",
            "Sierra Leone",
            "China",
            "Greenland",
            "Seychelles",
            "Belize",
            "Nigeria",
            "Guinea-Bissau",
            "Oman",
            "Portugal",
            "Turks and Caicos Islands",
            "Bhutan",
            "Japan",
            "Cook Islands",
            "Indonesia",
            "Poland",
            "Botswana",
            "Other Asia",
            "Iran (Islamic Rep. of)",
            "Philippines",
            "Uzbekistan",
            "Tuvalu",
            "Iraq",
            "Pakistan",
            "Peru",
            "Jamaica",
            "Bolivia (Plur. State of)",
            "Palau",
            "Congo",
            "Vanuatu",
            "Paraguay",
            "Ireland",
            "Comoros",
            "Israel",
            "Papua New Guinea",
            "Bosnia and Herzegovina",
            "Italy",
            "Colombia",
            "Jersey",
            "India",
            "Puerto Rico",
            "British Virgin Islands",
            "Réunion",
            "Guyana",
            "Kenya",
            "Rwanda",
            "Uruguay",
            "Croatia",
            "Venezuela (Bolivar. Rep.)",
            "China, Macao SAR",
            "Russian Federation",
            "Turkmenistan",
            "Benin",
            "Haiti",
            "Niue",
            "Kiribati",
            "Honduras",
            "Uganda",
            "Northern Mariana Islands",
            "Hungary",
            "Republic of Moldova",
            "Kazakhstan",
            "Brazil",
            "Costa Rica",
            "Bermuda",
            "Jordan",
            "Algeria",
            "Qatar",
            "Iceland",
            "Norway",
            "Canada",
            "Romania",
            "Solomon Islands",
            "Panama",
            "Argentina",
            "St. Vincent-Grenadines",
            "Switzerland",
            "Maldives",
            "Finland",
            "United States",
            "Cabo Verde",
            "Dominican Republic",
            "Azerbaijan",
            "Luxembourg",
            "France",
            "St. Pierre-Miquelon",
            "Mongolia",
            "Togo",
            "Syrian Arab Republic",
            "Zambia",
            "French Guiana",
            "Mauritania",
            "Eritrea",
            "St. Lucia",
            "Thailand",
            "Lithuania",
            "Morocco",
            "Denmark",
            "Aruba",
            "Montserrat",
            "St. Kitts-Nevis",
            "Djibouti",
            "Central African Rep.",
            "Australia",
            "Cambodia",
            "Swaziland",
            "Dominica",
            "Zimbabwe",
            "Faeroe Islands",
            "Malawi",
            "Ethiopia",
            "Suriname",
            "Mayotte",
            "Mexico",
            "Côte d'Ivoire",
            "Sweden",
            "Sudan (former)",
            "Tonga",
            "Estonia",
            "Austria",
            "Madagascar",
            "Falkland Is. (Malvinas)",
            "United Kingdom",
            "Micronesia (Fed. States of)",
            "Fiji",
            "Mauritius",
            "State of Palestine",
            "Cayman Islands",
            "Chad",
            "Malaysia",
            "Bahamas",
            "Germany",
            "Dem. Rep. of the Congo",
            "Liberia",
            "Tajikistan",
            "Spain",
            "Trinidad and Tobago",
            "Somalia",
            "Myanmar",
            "Bahrain",
            "Albania",
            "Cameroon",
            "Gambia",
            "Marshall Islands",
            "Afghanistan",
            "Lebanon",
            "Ecuador",
            "Malta",
            "Namibia",
            "South Africa",
            "Georgia",
            "Andorra",
            "Chile",
            "Martinique",
            "United States Virgin Is.",
            "Equatorial Guinea",
            "United Rep. of Tanzania",
            "T.F.Yug.Rep. Macedonia",
            "French Polynesia",
            "Libya",
            "El Salvador",
            "Mali",
            "St. Helena and Depend.",
            "Bangladesh",
            "Burkina Faso",
            "Gabon",
            "Burundi",
            "United Arab Emirates",
            "Mozambique",
            "Armenia",
            "Sri Lanka",
            "Nauru"
           ],
           "locations": [
            "CUB",
            "SEN",
            "VNM",
            "GUM",
            "UKR",
            "ATG",
            "NIC",
            "STP",
            "WSM",
            "NZL",
            "PRK",
            "ASM",
            "GIN",
            "BEL",
            "HKG",
            "SAU",
            "GTM",
            "YEM",
            "BLR",
            "GLP",
            "GHA",
            "LVA",
            "AGO",
            "SVN",
            "TUN",
            "NPL",
            "GIB",
            "SVK",
            "LAO",
            "AIA",
            "GRC",
            "BRB",
            "@@@",
            "CZE",
            "SGP",
            "BGR",
            "KGZ",
            "SRB",
            "KOR",
            "CYP",
            "NCL",
            "KWT",
            "NER",
            "BRN",
            "TUR",
            "EGY",
            "GRD",
            "NLD",
            "SLE",
            "CHN",
            "GRL",
            "SYC",
            "BLZ",
            "NGA",
            "GNB",
            "OMN",
            "PRT",
            "TCA",
            "BTN",
            "JPN",
            "COK",
            "IDN",
            "POL",
            "BWA",
            "@@@",
            "IRN",
            "PHL",
            "UZB",
            "TUV",
            "IRQ",
            "PAK",
            "PER",
            "JAM",
            "BOL",
            "PLW",
            "COG",
            "VUT",
            "PRY",
            "IRL",
            "COM",
            "ISR",
            "PNG",
            "BIH",
            "ITA",
            "COL",
            "JEY",
            "IND",
            "PRI",
            "VGB",
            "REU",
            "GUY",
            "KEN",
            "RWA",
            "URY",
            "HRV",
            "VEN",
            "MAC",
            "RUS",
            "TKM",
            "BEN",
            "HTI",
            "NIU",
            "KIR",
            "HND",
            "UGA",
            "MNP",
            "HUN",
            "MDA",
            "KAZ",
            "BRA",
            "CRI",
            "BMU",
            "JOR",
            "DZA",
            "QAT",
            "ISL",
            "NOR",
            "CAN",
            "ROU",
            "SLB",
            "PAN",
            "ARG",
            "VCT",
            "CHE",
            "MDV",
            "FIN",
            "USA",
            "CPV",
            "DOM",
            "AZE",
            "LUX",
            "FRA",
            "SPM",
            "MNG",
            "TGO",
            "SYR",
            "ZMB",
            "GUF",
            "MRT",
            "ERI",
            "LCA",
            "THA",
            "LTU",
            "MAR",
            "DNK",
            "ABW",
            "MSR",
            "KNA",
            "DJI",
            "CAF",
            "AUS",
            "KHM",
            "SWZ",
            "DMA",
            "ZWE",
            "FRO",
            "MWI",
            "ETH",
            "SUR",
            "MYT",
            "MEX",
            "CIV",
            "SWE",
            "SDN",
            "TON",
            "EST",
            "AUT",
            "MDG",
            "MDV",
            "GBR",
            "FSM",
            "FJI",
            "MUS",
            "PSE",
            "CYM",
            "TCD",
            "MYS",
            "BHS",
            "DEU",
            "COD",
            "LBR",
            "TJK",
            "ESP",
            "TTO",
            "SOM",
            "MMR",
            "BHR",
            "ALB",
            "CMR",
            "GMB",
            "MHL",
            "AFG",
            "LBN",
            "ECU",
            "MLT",
            "NAM",
            "ZAF",
            "GEO",
            "AND",
            "CHL",
            "MTQ",
            "VIR",
            "GNQ",
            "TZA",
            "MKD",
            "PYF",
            "LBY",
            "SLV",
            "MLI",
            "SHN",
            "BGD",
            "BFA",
            "GAB",
            "BDI",
            "ARE",
            "MOZ",
            "ARM",
            "LKA",
            "NRU"
           ],
           "name": "",
           "type": "choropleth",
           "z": [
            1.0954831858295406,
            -0.0291883891274822,
            1.147985320683805,
            0.22899031084072383,
            2.2885130318843854,
            -1.0087739243075051,
            0.25188145455252764,
            -1.744727494896694,
            -1.1870866433571443,
            1.5570498090441027,
            1.3617278360175928,
            -0.8632794328435932,
            -0.27002571430044436,
            1.8716196313667832,
            1.4458531896538749,
            1.9992741219381989,
            0.5331362882786388,
            0.3841741388070335,
            1.3965131814935219,
            0.03261876085071993,
            0.7915503050273299,
            0.5997739391463883,
            -0.017728766960431602,
            1.1110271510261749,
            0.8801845528264335,
            0,
            -0.9665762445130504,
            1.4277132590522712,
            0.05230501849205898,
            -1.6536470255493614,
            1.6185919322852276,
            -0.21041928783557454,
            0.004321373782642578,
            1.7842391706422736,
            1.3435464431882564,
            1.6210619787129454,
            1.1548802447187618,
            1.570262659470812,
            2.264480169442849,
            0.3974185423513477,
            0.15075643986030904,
            1.3847833732339923,
            -0.8273970687901402,
            0.29358351349611683,
            1.9357439975875717,
            1.7201593034059568,
            -1.0555173278498313,
            1.9093794943775622,
            -1.016824927962187,
            3.0033424637919133,
            -0.5900668766687055,
            -0.889410289700751,
            -0.8297382846050426,
            1.2002210261918762,
            -1.3010299956639813,
            0.8129133566428556,
            1.521987527782068,
            -1.407823242604133,
            0.21218760440395779,
            2.986494951250933,
            -1.7958800173440752,
            1.8350497523391718,
            2.1430335463739043,
            0.04688519083771014,
            2.164293359314462,
            1.9292605070722075,
            1.489606966267722,
            1.6762636739236993,
            -2.677780705266081,
            1.462397997898956,
            1.7288000236466774,
            1.2415464805965484,
            0.7655940553194449,
            0.48586332959733464,
            -1,
            -0.4841261562883209,
            -1.4685210829577449,
            1.6004828134659588,
            1.2518571372714158,
            -1.7212463990471711,
            1.4832305869021025,
            0.19700472802304578,
            0.6435513685629451,
            2.38289735310781,
            1.6555801911718635,
            -0.4978461071286392,
            2.62122095570386,
            1.2729317793870707,
            -1.214670164989233,
            0.11327469246435044,
            -0.24184537803261005,
            0.573683693093798,
            -0.7851561519523022,
            0.7997539664118859,
            0.9673607399659497,
            1.8776362192742635,
            0.10448711131239508,
            2.9345120858562947,
            0.9920230277638507,
            -1.4559319556497243,
            -0.2814983111327257,
            -2.5228787452803374,
            -2.036212172654445,
            0.4530123911214552,
            0.04020662757471112,
            -0.4621809049267259,
            1.531708776810456,
            0.7830455721146928,
            1.8238587942069076,
            2.44028078904725,
            0.6869042695681774,
            -0.2831622767004755,
            0.7494270991217489,
            1.2947747522184434,
            0.7764105888073424,
            0.6973165417323833,
            2.090607182696552,
            2.7482779786899205,
            1.7728056166847852,
            -1.2006594505464183,
            0.5483894181329182,
            1.8266254241112259,
            -1.1414628024303608,
            1.799561087471221,
            -1.2441251443275085,
            1.806417413859628,
            3.554139403060504,
            -1.0793549985932125,
            0.7385427409287852,
            1.23159700556491,
            0.08990511143939793,
            2.6939677661283707,
            -1.3767507096020994,
            0.4197905861063627,
            -0.4559319556497244,
            1.1846914308175989,
            0.8989444668665095,
            -0.3467874862246563,
            -0.46763169058587056,
            -0.7644715530924511,
            -0.7064164865038832,
            1.9049750708968238,
            1.142952307343432,
            1.0832517172216034,
            1.565351873426987,
            -0.21041928783557454,
            -1.7695510786217261,
            -0.99225222199926,
            -0.7351821769904635,
            -0.9913998282380825,
            2.238445069080736,
            -0.6038006529042637,
            -0.37161106994968846,
            -1.2518119729937995,
            0.9040118835973882,
            -0.7569619513137056,
            -0.026872146400301365,
            0.1673173347481761,
            0.14668605564752552,
            -1.4436974992327127,
            2.1825515962496165,
            0.4705574852172742,
            2.171290478142029,
            0.15259407792746976,
            -1.5058454059815571,
            0.9391696796251774,
            1.7499294641076697,
            -0.1791271844458637,
            -1.9208187539523751,
            2.523799775137791,
            -1.0757207139381184,
            -0.26440110030182007,
            0.02530586526477026,
            -1.193820026016113,
            -0.5272435506827877,
            -1.0506099933550872,
            1.6689075023018618,
            0.11527759139590141,
            2.730203907728244,
            0.7306207978872828,
            -0.5528419686577808,
            1.1693216836818368,
            2.2229374630015024,
            0.6341748717626001,
            -0.5654310959658012,
            0.6080979463252796,
            0.6637951222194075,
            0.6448323288256362,
            0.45392959205772865,
            -1.1307682802690238,
            -1.1079053973095196,
            -0.17069622716897506,
            0.7460890430562003,
            0.9257760538367463,
            0.2127201544178423,
            0.06855689507236315,
            2.273753397511795,
            0.911370707116138,
            -0.906578314837765,
            1.4475766135229222,
            -0.010550182333308195,
            0.029789470831855614,
            -1.4685210829577449,
            0.2593549273080343,
            0.7842605825660838,
            -0.45717457304082015,
            1.057475915826254,
            0.5312233745330268,
            -0.5058454059815573,
            -2.209011524911184,
            1.0677773586333172,
            -0.6145724851948694,
            0.05652372407910037,
            -0.9208187539523752,
            1.3976272040218751,
            -0.3893398369101201,
            0.7451528950769003,
            0.6812412373755872,
            -1.494850021680094
           ]
          }
         ],
         "name": "1995"
        },
        {
         "data": [
          {
           "coloraxis": "coloraxis",
           "customdata": [
            [
             0.32
            ],
            [
             7.34
            ],
            [
             53
            ],
            [
             0.2877
            ],
            [
             0.04
            ],
            [
             104.984
            ],
            [
             244.433
            ],
            [
             0.0792
            ],
            [
             573.04
            ],
            [
             6.802
            ],
            [
             1.273
            ],
            [
             6.038
            ],
            [
             156.685
            ],
            [
             2.963
            ],
            [
             56.946
            ],
            [
             0.335
            ],
            [
             0.0022
            ],
            [
             45.418
            ],
            [
             1.657
            ],
            [
             0.807
            ],
            [
             0.371832
            ],
            [
             0.063
            ],
            [
             990.148
            ],
            [
             44.866
            ],
            [
             0.101
            ],
            [
             2.053
            ],
            [
             0.021
            ],
            [
             1.019
            ],
            [
             0.032
            ],
            [
             16.243
            ],
            [
             0.329
            ],
            [
             2.123
            ],
            [
             0.143
            ],
            [
             12.086
            ],
            [
             181.986
            ],
            [
             0.12
            ],
            [
             205.382
            ],
            [
             1.485
            ],
            [
             26.005
            ],
            [
             0.425
            ],
            [
             0.28
            ],
            [
             85.423
            ],
            [
             1081.31
            ],
            [
             3.945
            ],
            [
             6.965
            ],
            [
             42.716
            ],
            [
             15.729
            ],
            [
             1.057
            ],
            [
             0.893
            ],
            [
             1.028
            ],
            [
             1.2908368
            ],
            [
             1.209
            ],
            [
             1.075
            ],
            [
             30.733
            ],
            [
             0.2735
            ],
            [
             3.124
            ],
            [
             26.572
            ],
            [
             0.09
            ],
            [
             36.473
            ],
            [
             12.407
            ],
            [
             0.987
            ],
            [
             291.244
            ],
            [
             58.657
            ],
            [
             0.35
            ],
            [
             350.869
            ],
            [
             1.372
            ],
            [
             157.691
            ],
            [
             0.003
            ],
            [
             0.6812142999999999
            ],
            [
             1.17
            ],
            [
             0.086
            ],
            [
             6.668
            ],
            [
             6.058
            ],
            [
             0.104
            ],
            [
             2.614
            ],
            [
             0.068
            ],
            [
             0.0881
            ],
            [
             0.0083
            ],
            [
             0.15241
            ],
            [
             1.256
            ],
            [
             3677.022
            ],
            [
             21.3
            ],
            [
             0.017
            ],
            [
             1.904
            ],
            [
             28.44
            ],
            [
             16.789
            ],
            [
             4.174
            ],
            [
             90.079
            ],
            [
             19.13
            ],
            [
             25.76
            ],
            [
             3.225
            ],
            [
             0.064
            ],
            [
             555.372
            ],
            [
             0.275
            ],
            [
             7.187
            ],
            [
             200.266
            ],
            [
             0.076
            ],
            [
             12.404
            ],
            [
             2.457
            ],
            [
             4.541
            ],
            [
             174.453
            ],
            [
             5.415
            ],
            [
             4.529
            ],
            [
             1.214
            ],
            [
             0.00625
            ],
            [
             0.335
            ],
            [
             5.016
            ],
            [
             5.926
            ],
            [
             6.631
            ],
            [
             13.057
            ],
            [
             1.016
            ],
            [
             1.143
            ],
            [
             16.944
            ],
            [
             38.093
            ],
            [
             2.609
            ],
            [
             23.728
            ],
            [
             0.13553
            ],
            [
             0.095
            ],
            [
             0.258
            ],
            [
             0.1442
            ],
            [
             42.567
            ],
            [
             23.458
            ],
            [
             64.257
            ],
            [
             0.65
            ],
            [
             7.837
            ],
            [
             3.887
            ],
            [
             0.11
            ],
            [
             1.34
            ],
            [
             0.45
            ],
            [
             0.1069
            ],
            [
             53.582
            ],
            [
             1.559
            ],
            [
             140.662
            ],
            [
             9.103
            ],
            [
             0.289
            ],
            [
             57.5
            ],
            [
             0.193
            ],
            [
             6.615
            ],
            [
             0.642
            ],
            [
             17.278
            ],
            [
             0.031
            ],
            [
             6.458
            ],
            [
             3.452
            ],
            [
             0.675
            ],
            [
             15
            ],
            [
             9.34
            ],
            [
             6.215
            ],
            [
             54.898
            ],
            [
             177.598
            ],
            [
             1.8112
            ],
            [
             0.06
            ],
            [
             7.819
            ],
            [
             0.198
            ],
            [
             69.902
            ],
            [
             513.398
            ],
            [
             17.088
            ],
            [
             7.171
            ],
            [
             0.042
            ],
            [
             69.373
            ],
            [
             0.076
            ],
            [
             0.185
            ],
            [
             0.043
            ],
            [
             0.591
            ],
            [
             0.012
            ],
            [
             54.88
            ],
            [
             0.0297
            ],
            [
             1.547
            ],
            [
             0.182
            ],
            [
             1.4092
            ],
            [
             0.425
            ],
            [
             103.353
            ],
            [
             0.11
            ],
            [
             76.099
            ],
            [
             1.386
            ],
            [
             29.05
            ],
            [
             6.575
            ],
            [
             75.588
            ],
            [
             1.972
            ],
            [
             0.6879
            ],
            [
             17.28
            ],
            [
             0.035
            ],
            [
             4.894
            ],
            [
             0.154
            ],
            [
             0.02
            ],
            [
             11.173
            ],
            [
             436.879
            ],
            [
             847.183
            ],
            [
             143.173
            ],
            [
             35.09
            ],
            [
             0.048
            ],
            [
             0.633
            ],
            [
             6.117
            ],
            [
             61.35
            ],
            [
             78.117
            ],
            [
             90.851
            ],
            [
             33.352
            ],
            [
             10.12
            ],
            [
             0.0388
            ],
            [
             3.279
            ],
            [
             0.152
            ],
            [
             32.531
            ],
            [
             3.696
            ],
            [
             0.0246
            ],
            [
             20.654
            ],
            [
             34.521
            ],
            [
             0.019
            ],
            [
             1.759
            ],
            [
             13.236
            ],
            [
             0.051
            ],
            [
             5.123
            ],
            [
             0.074
            ],
            [
             19.18
            ],
            [
             2.985
            ],
            [
             0.628
            ],
            [
             0.109
            ],
            [
             0.357
            ],
            [
             44.818
            ],
            [
             0.525
            ],
            [
             94.862
            ]
           ],
           "geo": "geo",
           "hovertemplate": "<b>%{hovertext}</b><br><br>year=1996<br>ISO=%{location}<br>Electric_Energy_Production=%{customdata[0]}<br>color=%{z}<extra></extra>",
           "hovertext": [
            "Cayman Islands",
            "Bosnia and Herzegovina",
            "Malaysia",
            "Jersey",
            "Mayotte",
            "Norway",
            "Italy",
            "Marshall Islands",
            "Canada",
            "Oman",
            "Mauritius",
            "Jamaica",
            "Other Asia",
            "Cameroon",
            "Pakistan",
            "Mali",
            "Tuvalu",
            "Uzbekistan",
            "Malta",
            "Botswana",
            "Mauritania",
            "Maldives",
            "Japan",
            "Colombia",
            "Palau",
            "United Rep. of Tanzania",
            "Comoros",
            "Martinique",
            "Nauru",
            "Nigeria",
            "Cambodia",
            "Brunei Darussalam",
            "American Samoa",
            "Libya",
            "Ukraine",
            "Burundi",
            "Korea, Republic of",
            "New Caledonia",
            "Kuwait",
            "Mozambique",
            "Liberia",
            "Netherlands",
            "China",
            "Myanmar",
            "Lebanon",
            "Bulgaria",
            "Kyrgyzstan",
            "Neth. Antilles (former)",
            "Namibia",
            "Angola",
            "Lao People's Dem. Rep.",
            "Nepal",
            "United States Virgin Is.",
            "Chile",
            "Burkina Faso",
            "Latvia",
            "United Arab Emirates",
            "Chad",
            "New Zealand",
            "Morocco",
            "Malawi",
            "Brazil",
            "Kazakhstan",
            "Northern Mariana Islands",
            "United Kingdom",
            "China, Macao SAR",
            "Mexico",
            "Niue",
            "Madagascar",
            "Uganda",
            "Micronesia (Fed. States of)",
            "Uruguay",
            "Jordan",
            "Central African Rep.",
            "Mongolia",
            "British Virgin Islands",
            "Cabo Verde",
            "Kiribati",
            "Niger",
            "Luxembourg",
            "United States",
            "Korea, Dem.Ppl's.Rep.",
            "Montserrat",
            "Nicaragua",
            "China, Hong Kong SAR",
            "Lithuania",
            "Kenya",
            "Thailand",
            "Puerto Rico",
            "Slovakia",
            "Côte d'Ivoire",
            "Solomon Islands",
            "Germany",
            "Somalia",
            "Georgia",
            "South Africa",
            "Gambia",
            "Bangladesh",
            "Yemen",
            "Trinidad and Tobago",
            "Spain",
            "Dem. Rep. of the Congo",
            "Sri Lanka",
            "Gabon",
            "St. Helena and Depend.",
            "French Polynesia",
            "Bahrain",
            "Albania",
            "Ghana",
            "Slovenia",
            "Senegal",
            "Guadeloupe",
            "Viet Nam",
            "Serbia and Montenegro",
            "Cyprus",
            "Belarus",
            "Seychelles",
            "Grenada",
            "Greenland",
            "Sierra Leone",
            "Greece",
            "Singapore",
            "Czechia",
            "Barbados",
            "Tunisia",
            "Panama",
            "Gibraltar",
            "Bahamas",
            "French Guiana",
            "St. Kitts-Nevis",
            "Denmark",
            "Ethiopia",
            "Sweden",
            "Estonia",
            "Togo",
            "Switzerland",
            "Eritrea",
            "Dominican Republic",
            "Aruba",
            "Syrian Arab Republic",
            "Equatorial Guinea",
            "T.F.Yug.Rep. Macedonia",
            "El Salvador",
            "Afghanistan",
            "Tajikistan",
            "Ecuador",
            "Armenia",
            "Egypt",
            "Australia",
            "Guam",
            "Dominica",
            "Zimbabwe",
            "St. Lucia",
            "Argentina",
            "France",
            "Azerbaijan",
            "Zambia",
            "St. Pierre-Miquelon",
            "Finland",
            "St. Vincent-Grenadines",
            "Djibouti",
            "State of Palestine",
            "Fiji",
            "Falkland Is. (Malvinas)",
            "Austria",
            "Tonga",
            "Sudan (former)",
            "Faeroe Islands",
            "Suriname",
            "Swaziland",
            "Saudi Arabia",
            "Andorra",
            "Belgium",
            "Réunion",
            "Iraq",
            "Qatar",
            "Venezuela (Bolivar. Rep.)",
            "Bhutan",
            "Guyana",
            "Peru",
            "Vanuatu",
            "Costa Rica",
            "Rwanda",
            "Cook Islands",
            "Croatia",
            "India",
            "Russian Federation",
            "Poland",
            "Hungary",
            "Benin",
            "Haiti",
            "Republic of Moldova",
            "Romania",
            "Indonesia",
            "Iran (Islamic Rep. of)",
            "Philippines",
            "Turkmenistan",
            "Turks and Caicos Islands",
            "Bolivia (Plur. State of)",
            "Belize",
            "Israel",
            "Guatemala",
            "Anguilla",
            "Algeria",
            "Portugal",
            "Sao Tome and Principe",
            "Papua New Guinea",
            "Cuba",
            "Guinea-Bissau",
            "Iceland",
            "Samoa",
            "Ireland",
            "Honduras",
            "Guinea",
            "Antigua and Barbuda",
            "Congo",
            "Paraguay",
            "Bermuda",
            "Turkey"
           ],
           "locations": [
            "CYM",
            "BIH",
            "MYS",
            "JEY",
            "MYT",
            "NOR",
            "ITA",
            "MHL",
            "CAN",
            "OMN",
            "MUS",
            "JAM",
            "@@@",
            "CMR",
            "PAK",
            "MLI",
            "TUV",
            "UZB",
            "MLT",
            "BWA",
            "MRT",
            "MDV",
            "JPN",
            "COL",
            "PLW",
            "TZA",
            "COM",
            "MTQ",
            "NRU",
            "NGA",
            "KHM",
            "BRN",
            "ASM",
            "LBY",
            "UKR",
            "BDI",
            "KOR",
            "NCL",
            "KWT",
            "MOZ",
            "LBR",
            "NLD",
            "CHN",
            "MMR",
            "LBN",
            "BGR",
            "KGZ",
            "@@@",
            "NAM",
            "AGO",
            "LAO",
            "NPL",
            "VIR",
            "CHL",
            "BFA",
            "LVA",
            "ARE",
            "TCD",
            "NZL",
            "MAR",
            "MWI",
            "BRA",
            "KAZ",
            "MNP",
            "GBR",
            "MAC",
            "MEX",
            "NIU",
            "MDG",
            "UGA",
            "FSM",
            "URY",
            "JOR",
            "CAF",
            "MNG",
            "VGB",
            "CPV",
            "KIR",
            "NER",
            "LUX",
            "USA",
            "PRK",
            "MSR",
            "NIC",
            "HKG",
            "LTU",
            "KEN",
            "THA",
            "PRI",
            "SVK",
            "CIV",
            "SLB",
            "DEU",
            "SOM",
            "GEO",
            "ZAF",
            "GMB",
            "BGD",
            "YEM",
            "TTO",
            "ESP",
            "COD",
            "LKA",
            "GAB",
            "SHN",
            "PYF",
            "BHR",
            "ALB",
            "GHA",
            "SVN",
            "SEN",
            "GLP",
            "VNM",
            "SRB",
            "CYP",
            "BLR",
            "SYC",
            "GRD",
            "GRL",
            "SLE",
            "GRC",
            "SGP",
            "CZE",
            "BRB",
            "TUN",
            "PAN",
            "GIB",
            "BHS",
            "GUF",
            "KNA",
            "DNK",
            "ETH",
            "SWE",
            "EST",
            "TGO",
            "CHE",
            "ERI",
            "DOM",
            "ABW",
            "SYR",
            "GNQ",
            "MKD",
            "SLV",
            "AFG",
            "TJK",
            "ECU",
            "ARM",
            "EGY",
            "AUS",
            "GUM",
            "DMA",
            "ZWE",
            "LCA",
            "ARG",
            "FRA",
            "AZE",
            "ZMB",
            "SPM",
            "FIN",
            "VCT",
            "DJI",
            "PSE",
            "FJI",
            "MDV",
            "AUT",
            "TON",
            "SDN",
            "FRO",
            "SUR",
            "SWZ",
            "SAU",
            "AND",
            "BEL",
            "REU",
            "IRQ",
            "QAT",
            "VEN",
            "BTN",
            "GUY",
            "PER",
            "VUT",
            "CRI",
            "RWA",
            "COK",
            "HRV",
            "IND",
            "RUS",
            "POL",
            "HUN",
            "BEN",
            "HTI",
            "MDA",
            "ROU",
            "IDN",
            "IRN",
            "PHL",
            "TKM",
            "TCA",
            "BOL",
            "BLZ",
            "ISR",
            "GTM",
            "AIA",
            "DZA",
            "PRT",
            "STP",
            "PNG",
            "CUB",
            "GNB",
            "ISL",
            "WSM",
            "IRL",
            "HND",
            "GIN",
            "ATG",
            "COG",
            "PRY",
            "BMU",
            "TUR"
           ],
           "name": "",
           "type": "choropleth",
           "z": [
            -0.494850021680094,
            0.8656960599160706,
            1.724275869600789,
            -0.5410601381096739,
            -1.3979400086720375,
            2.0211231158205103,
            2.388159838028876,
            -1.1012748184105066,
            2.758184938150565,
            0.8326366275967033,
            0.10482840365365537,
            0.780893108687079,
            2.195027421937368,
            0.4717316514800511,
            1.7554632237805696,
            -0.47495519296315475,
            -2.657577319177794,
            1.6572280059716102,
            0.21932250841933676,
            -0.09312646527792956,
            -0.42965323741136324,
            -1.2006594505464183,
            2.9957001145767044,
            1.651917352007694,
            -0.9956786262173574,
            0.31238894937059186,
            -1.6777807052660807,
            0.008174184006426355,
            -1.494850021680094,
            1.2106662443091163,
            -0.48280410205002566,
            0.32694999416599885,
            -0.8446639625349383,
            1.0822825899124375,
            2.2600379794322754,
            -0.9208187539523752,
            2.312562378680809,
            0.1717264536532312,
            1.415056858110851,
            -0.37161106994968846,
            -0.5528419686577808,
            1.931574819497352,
            3.0339502193824233,
            0.596047007545439,
            0.8429211207599823,
            1.630590577839291,
            1.1967011124333857,
            0.024074987307426243,
            -0.049148541111453566,
            0.011993114659256938,
            0.11087133805284566,
            0.0824263008607719,
            0.03140846425162412,
            1.4876049559561242,
            -0.5630426693305504,
            0.4947110252052627,
            1.4244242437695118,
            -1.0457574905606752,
            1.5619714866442296,
            1.093666782227903,
            -0.005682847330363273,
            2.4642569871028055,
            1.768319847312058,
            -0.4559319556497244,
            2.545144999096942,
            0.13735411137073292,
            2.1978069072675495,
            -2.5228787452803374,
            -0.1667162439362327,
            0.06818586174616162,
            -1.0655015487564323,
            0.8239955911559678,
            0.782329268996837,
            -0.9829666607012196,
            0.4173055832445255,
            -1.1674910872937636,
            -1.055024091587952,
            -2.0809219076239263,
            -0.8169865369180705,
            0.09898963940117732,
            3.5654962283050926,
            1.3283796034387378,
            -1.7695510786217261,
            0.27966694404845555,
            1.4539295920577286,
            1.2250248291091301,
            0.6205524447294353,
            1.9546235562717855,
            1.2817149700272958,
            1.4109458586877746,
            0.5085297189712866,
            -1.193820026016113,
            2.744583980289954,
            -0.5606673061697374,
            0.8565476448567478,
            2.3016072235533978,
            -1.1191864077192086,
            1.0935617575652887,
            0.3904051564800809,
            0.6571515019009667,
            2.2416784422406675,
            0.7335984609613392,
            0.6560023206829572,
            0.08421868673923877,
            -2.2041199826559246,
            -0.47495519296315475,
            0.70035752782266,
            0.7727616471440323,
            0.8215790279120089,
            1.1158434041128162,
            0.006893707947900456,
            0.05804623039528174,
            1.2290159427634098,
            1.5808451767076859,
            0.4164740791002208,
            1.3752611336843068,
            -0.8679645616725012,
            -1.0222763947111522,
            -0.5883802940367698,
            -0.8410347396165898,
            1.629073043426928,
            1.3702909819487277,
            1.8079204455563112,
            -0.18708664335714442,
            0.8941498467679221,
            0.5896145406312664,
            -0.958607314841775,
            0.12710479836480765,
            -0.3467874862246563,
            -0.971022294791222,
            1.7290189200365265,
            0.19284611518884168,
            2.1481767881292058,
            0.9591845427311915,
            -0.5391021572434522,
            1.7596678446896306,
            -0.7144426909922262,
            0.8205298485235198,
            -0.19246497193114673,
            1.237493469668728,
            -1.5086383061657274,
            0.8100980406811429,
            0.538070787043172,
            -0.17069622716897506,
            1.1760912590556813,
            0.9703468762300933,
            0.7934411329776636,
            1.7395565228693,
            2.2494380707114194,
            0.2579664095081774,
            -1.2218487496163564,
            0.8931512131298659,
            -0.7033348097384688,
            1.8444896017333479,
            2.7104541724954254,
            1.2326912353484625,
            0.8555797225017179,
            -1.3767507096020994,
            1.8411904757489777,
            -1.1191864077192086,
            -0.7328282715969862,
            -1.3665315444204136,
            -0.22841251911874466,
            -1.9208187539523751,
            1.7394141026986953,
            -1.5272435506827877,
            0.1894903136993675,
            -0.7399286120149252,
            0.1489726345092049,
            -0.37161106994968846,
            2.014323087296508,
            -0.958607314841775,
            1.8813789498410673,
            0.1417632302757879,
            1.4631461367263496,
            0.8178957571617955,
            1.8784528543974974,
            0.2949069106051924,
            -0.16247469055039873,
            1.2375437381428744,
            -1.4559319556497243,
            0.6896639650157704,
            -0.8124792791635369,
            -1.6989700043360187,
            1.0481697987660177,
            2.6403611694444917,
            2.927977232415449,
            2.1558611251184874,
            1.5451833682154061,
            -1.3187587626244128,
            -0.1985962899826449,
            0.7865384804978024,
            1.787814567063023,
            1.8927455563200755,
            1.9583297119642704,
            1.5231218821182408,
            1.0051805125037803,
            -1.4111682744057927,
            0.5157414166693652,
            -0.8181564120552275,
            1.5122974136601735,
            0.5677319625480691,
            -1.609064892896621,
            1.3150041726848973,
            1.5380833678134949,
            -1.7212463990471711,
            0.24526583945746125,
            1.1217567584878154,
            -1.2924298239020637,
            0.7095243558763411,
            -1.1307682802690238,
            1.2828486028346449,
            0.4749443354653879,
            -0.20204035626280387,
            -0.9625735020593764,
            -0.4473317838878068,
            1.6514524722716912,
            -0.2798406965940431,
            1.9770922767548933
           ]
          }
         ],
         "name": "1996"
        },
        {
         "data": [
          {
           "coloraxis": "coloraxis",
           "customdata": [
            [
             84.096
            ],
            [
             0.012
            ],
            [
             1015.022
            ],
            [
             0.02
            ],
            [
             46.378
            ],
            [
             7.941
            ],
            [
             21.489
            ],
            [
             0.7343105
            ],
            [
             0.609998
            ],
            [
             0.187
            ],
            [
             0.183
            ],
            [
             0.104
            ],
            [
             58.675
            ],
            [
             0.066
            ],
            [
             57.075
            ],
            [
             573.711
            ],
            [
             10.362
            ],
            [
             0.023
            ],
            [
             19.953
            ],
            [
             0.391
            ],
            [
             3.643
            ],
            [
             46.054
            ],
            [
             0.67
            ],
            [
             0.071
            ],
            [
             0.027
            ],
            [
             0.035
            ],
            [
             0.459
            ],
            [
             251.473
            ],
            [
             29.561
            ],
            [
             1.775
            ],
            [
             0.214
            ],
            [
             9.218
            ],
            [
             0.36
            ],
            [
             7.35
            ],
            [
             97.744
            ],
            [
             6.255
            ],
            [
             1.62
            ],
            [
             1.086
            ],
            [
             7.236
            ],
            [
             69.176
            ],
            [
             6.264
            ],
            [
             1.26
            ],
            [
             1.079
            ],
            [
             6.904
            ],
            [
             1.2617388
            ],
            [
             4.244
            ],
            [
             0.111
            ],
            [
             0.055966
            ],
            [
             64.598
            ],
            [
             14.285
            ],
            [
             78.066
            ],
            [
             43.506
            ],
            [
             0.0109
            ],
            [
             0.643
            ],
            [
             0.792
            ],
            [
             1134.471
            ],
            [
             0.259
            ],
            [
             0.103
            ],
            [
             0.15
            ],
            [
             2.728
            ],
            [
             224.704
            ],
            [
             19.152
            ],
            [
             28.943
            ],
            [
             14.146
            ],
            [
             19.3
            ],
            [
             1.226
            ],
            [
             4.132
            ],
            [
             1.8338
            ],
            [
             27.254
            ],
            [
             5.184
            ],
            [
             10.248
            ],
            [
             4.501
            ],
            [
             0.2331
            ],
            [
             14.861
            ],
            [
             5.586
            ],
            [
             504.77
            ],
            [
             44.315
            ],
            [
             3697.728
            ],
            [
             12.62
            ],
            [
             35.397
            ],
            [
             0.45
            ],
            [
             0.09
            ],
            [
             7.147
            ],
            [
             0.344
            ],
            [
             5.589
            ],
            [
             1.256
            ],
            [
             5.423
            ],
            [
             0.294
            ],
            [
             2.557
            ],
            [
             2.429
            ],
            [
             52
            ],
            [
             8.515
            ],
            [
             1.409
            ],
            [
             0.08
            ],
            [
             0.633
            ],
            [
             7.163
            ],
            [
             551.554
            ],
            [
             3.983
            ],
            [
             33.297
            ],
            [
             465.825
            ],
            [
             35.1
            ],
            [
             0.376
            ],
            [
             86.523
            ],
            [
             2.407
            ],
            [
             37.109
            ],
            [
             25.347
            ],
            [
             1.887
            ],
            [
             8.486
            ],
            [
             0.678
            ],
            [
             26.188
            ],
            [
             0.15033
            ],
            [
             0.075
            ],
            [
             0.0964
            ],
            [
             1.258
            ],
            [
             16.117
            ],
            [
             0.1485
            ],
            [
             26.057
            ],
            [
             0.003
            ],
            [
             13.176
            ],
            [
             1.524
            ],
            [
             178.002
            ],
            [
             142.79
            ],
            [
             0.642
            ],
            [
             1.414
            ],
            [
             0.3062
            ],
            [
             0.00631
            ],
            [
             0.032
            ],
            [
             5.145
            ],
            [
             1.254
            ],
            [
             40.312
            ],
            [
             190.396
            ],
            [
             42.312
            ],
            [
             1.146
            ],
            [
             210.052
            ],
            [
             1.054
            ],
            [
             4.988
            ],
            [
             0.276
            ],
            [
             0.065
            ],
            [
             5.04
            ],
            [
             0.1171
            ],
            [
             307.98
            ],
            [
             1.17
            ],
            [
             1.625
            ],
            [
             57.148
            ],
            [
             5.274
            ],
            [
             0.032
            ],
            [
             50.855
            ],
            [
             9.498
            ],
            [
             6.869
            ],
            [
             3.472
            ],
            [
             0.53
            ],
            [
             17.951
            ],
            [
             1.685
            ],
            [
             20.005
            ],
            [
             36.715
            ],
            [
             34.208
            ],
            [
             0.0511
            ],
            [
             0.05
            ],
            [
             834.132
            ],
            [
             4.051
            ],
            [
             8.765
            ],
            [
             0.12
            ],
            [
             107.289
            ],
            [
             111.657
            ],
            [
             78.833
            ],
            [
             7.318
            ],
            [
             0.02
            ],
            [
             0.082
            ],
            [
             0.3516
            ],
            [
             0.0024
            ],
            [
             166.515
            ],
            [
             103.296
            ],
            [
             0.167
            ],
            [
             59.125
            ],
            [
             1.471
            ],
            [
             0.101
            ],
            [
             0.144
            ],
            [
             0.925
            ],
            [
             0.2131
            ],
            [
             12.82
            ],
            [
             167.493
            ],
            [
             0.0299
            ],
            [
             0.043
            ],
            [
             2.72
            ],
            [
             56.704
            ],
            [
             1.997
            ],
            [
             0.0932
            ],
            [
             1.4136
            ],
            [
             0.45
            ],
            [
             0.0868
            ],
            [
             4.445
            ],
            [
             182.939
            ],
            [
             350.666
            ],
            [
             0.144
            ],
            [
             0.018
            ],
            [
             149.249
            ],
            [
             63.092
            ],
            [
             1.398
            ],
            [
             0.675
            ],
            [
             18.154
            ],
            [
             0.371055
            ],
            [
             3.128
            ],
            [
             6.68
            ],
            [
             1.078774
            ],
            [
             14.005
            ],
            [
             6.022
            ],
            [
             0.0786
            ],
            [
             0.1
            ],
            [
             95.384
            ],
            [
             0.045
            ],
            [
             0.0802
            ],
            [
             1.838
            ],
            [
             16.836
            ],
            [
             13.892
            ],
            [
             73.015
            ],
            [
             1.005
            ],
            [
             0.043
            ],
            [
             0.122
            ],
            [
             28.464
            ]
           ],
           "geo": "geo",
           "hovertemplate": "<b>%{hovertext}</b><br><br>year=1997<br>ISO=%{location}<br>Electric_Energy_Production=%{customdata[0]}<br>color=%{z}<extra></extra>",
           "hovertext": [
            "Indonesia",
            "Falkland Is. (Malvinas)",
            "Japan",
            "Cook Islands",
            "Colombia",
            "Zambia",
            "Algeria",
            "Madagascar",
            "Fiji",
            "Djibouti",
            "Faeroe Islands",
            "Central African Rep.",
            "Malaysia",
            "Dominica",
            "Egypt",
            "Canada",
            "Ecuador",
            "Comoros",
            "Ireland",
            "Mali",
            "El Salvador",
            "Uzbekistan",
            "Afghanistan",
            "Maldives",
            "Equatorial Guinea",
            "Vanuatu",
            "Congo",
            "Italy",
            "Iraq",
            "United Rep. of Tanzania",
            "Eritrea",
            "Estonia",
            "Cayman Islands",
            "Zimbabwe",
            "Iran (Islamic Rep. of)",
            "Jamaica",
            "Ethiopia",
            "Malawi",
            "Dominican Republic",
            "Finland",
            "Jordan",
            "Luxembourg",
            "United States Virgin Is.",
            "Ghana",
            "Lao People's Dem. Rep.",
            "Kenya",
            "Gibraltar",
            "Guinea-Bissau",
            "Czechia",
            "Kyrgyzstan",
            "Venezuela (Bolivar. Rep.)",
            "Greece",
            "Kiribati",
            "Guinea",
            "Guyana",
            "China",
            "Greenland",
            "Grenada",
            "American Samoa",
            "Cyprus",
            "Korea, Republic of",
            "Viet Nam",
            "China, Hong Kong SAR",
            "Cuba",
            "Korea, Dem.Ppl's.Rep.",
            "Guadeloupe",
            "Guatemala",
            "Guam",
            "Kuwait",
            "Albania",
            "Croatia",
            "Latvia",
            "Jersey",
            "Lithuania",
            "Iceland",
            "France",
            "Denmark",
            "United States",
            "Libya",
            "Hungary",
            "French Guiana",
            "Chad",
            "Uruguay",
            "French Polynesia",
            "Costa Rica",
            "Gabon",
            "Dem. Rep. of the Congo",
            "Liberia",
            "Yemen",
            "Honduras",
            "Kazakhstan",
            "Lebanon",
            "China, Macao SAR",
            "Gambia",
            "Haiti",
            "Georgia",
            "Germany",
            "Côte d'Ivoire",
            "Chile",
            "India",
            "Israel",
            "Cambodia",
            "Netherlands",
            "Brunei Darussalam",
            "New Zealand",
            "Slovakia",
            "Nicaragua",
            "Tunisia",
            "Barbados",
            "Singapore",
            "Niger",
            "British Virgin Islands",
            "Sierra Leone",
            "Uganda",
            "Nigeria",
            "Seychelles",
            "Belarus",
            "Niue",
            "Slovenia",
            "New Caledonia",
            "Ukraine",
            "Poland",
            "Namibia",
            "Bahamas",
            "Burkina Faso",
            "St. Helena and Depend.",
            "Nauru",
            "Sri Lanka",
            "Nepal",
            "Serbia and Montenegro",
            "Spain",
            "Bulgaria",
            "Angola",
            "South Africa",
            "Neth. Antilles (former)",
            "Trinidad and Tobago",
            "Somalia",
            "Solomon Islands",
            "Bahrain",
            "St. Kitts-Nevis",
            "Brazil",
            "Senegal",
            "Papua New Guinea",
            "Romania",
            "Republic of Moldova",
            "Anguilla",
            "Paraguay",
            "Turkmenistan",
            "Qatar",
            "Bolivia (Plur. State of)",
            "Bermuda",
            "Peru",
            "Malta",
            "Puerto Rico",
            "Philippines",
            "Portugal",
            "Turks and Caicos Islands",
            "Benin",
            "Russian Federation",
            "Panama",
            "Bosnia and Herzegovina",
            "Antigua and Barbuda",
            "Saudi Arabia",
            "Norway",
            "Belgium",
            "Oman",
            "Sao Tome and Principe",
            "Samoa",
            "Northern Mariana Islands",
            "Tuvalu",
            "Other Asia",
            "Turkey",
            "Belize",
            "Pakistan",
            "Réunion",
            "Palau",
            "Rwanda",
            "Botswana",
            "St. Lucia",
            "Bangladesh",
            "Mexico",
            "Tonga",
            "State of Palestine",
            "Mongolia",
            "Austria",
            "Sudan (former)",
            "Cabo Verde",
            "Suriname",
            "Swaziland",
            "Micronesia (Fed. States of)",
            "Myanmar",
            "Australia",
            "United Kingdom",
            "Togo",
            "Montserrat",
            "Sweden",
            "Switzerland",
            "Mauritius",
            "Aruba",
            "Syrian Arab Republic",
            "Mauritania",
            "Cameroon",
            "T.F.Yug.Rep. Macedonia",
            "Martinique",
            "Tajikistan",
            "Armenia",
            "Marshall Islands",
            "Andorra",
            "Thailand",
            "Mayotte",
            "St. Vincent-Grenadines",
            "Bhutan",
            "Azerbaijan",
            "Morocco",
            "Argentina",
            "Mozambique",
            "St. Pierre-Miquelon",
            "Burundi",
            "United Arab Emirates"
           ],
           "locations": [
            "IDN",
            "MDV",
            "JPN",
            "COK",
            "COL",
            "ZMB",
            "DZA",
            "MDG",
            "FJI",
            "DJI",
            "FRO",
            "CAF",
            "MYS",
            "DMA",
            "EGY",
            "CAN",
            "ECU",
            "COM",
            "IRL",
            "MLI",
            "SLV",
            "UZB",
            "AFG",
            "MDV",
            "GNQ",
            "VUT",
            "COG",
            "ITA",
            "IRQ",
            "TZA",
            "ERI",
            "EST",
            "CYM",
            "ZWE",
            "IRN",
            "JAM",
            "ETH",
            "MWI",
            "DOM",
            "FIN",
            "JOR",
            "LUX",
            "VIR",
            "GHA",
            "LAO",
            "KEN",
            "GIB",
            "GNB",
            "CZE",
            "KGZ",
            "VEN",
            "GRC",
            "KIR",
            "GIN",
            "GUY",
            "CHN",
            "GRL",
            "GRD",
            "ASM",
            "CYP",
            "KOR",
            "VNM",
            "HKG",
            "CUB",
            "PRK",
            "GLP",
            "GTM",
            "GUM",
            "KWT",
            "ALB",
            "HRV",
            "LVA",
            "JEY",
            "LTU",
            "ISL",
            "FRA",
            "DNK",
            "USA",
            "LBY",
            "HUN",
            "GUF",
            "TCD",
            "URY",
            "PYF",
            "CRI",
            "GAB",
            "COD",
            "LBR",
            "YEM",
            "HND",
            "KAZ",
            "LBN",
            "MAC",
            "GMB",
            "HTI",
            "GEO",
            "DEU",
            "CIV",
            "CHL",
            "IND",
            "ISR",
            "KHM",
            "NLD",
            "BRN",
            "NZL",
            "SVK",
            "NIC",
            "TUN",
            "BRB",
            "SGP",
            "NER",
            "VGB",
            "SLE",
            "UGA",
            "NGA",
            "SYC",
            "BLR",
            "NIU",
            "SVN",
            "NCL",
            "UKR",
            "POL",
            "NAM",
            "BHS",
            "BFA",
            "SHN",
            "NRU",
            "LKA",
            "NPL",
            "SRB",
            "ESP",
            "BGR",
            "AGO",
            "ZAF",
            "@@@",
            "TTO",
            "SOM",
            "SLB",
            "BHR",
            "KNA",
            "BRA",
            "SEN",
            "PNG",
            "ROU",
            "MDA",
            "AIA",
            "PRY",
            "TKM",
            "QAT",
            "BOL",
            "BMU",
            "PER",
            "MLT",
            "PRI",
            "PHL",
            "PRT",
            "TCA",
            "BEN",
            "RUS",
            "PAN",
            "BIH",
            "ATG",
            "SAU",
            "NOR",
            "BEL",
            "OMN",
            "STP",
            "WSM",
            "MNP",
            "TUV",
            "@@@",
            "TUR",
            "BLZ",
            "PAK",
            "REU",
            "PLW",
            "RWA",
            "BWA",
            "LCA",
            "BGD",
            "MEX",
            "TON",
            "PSE",
            "MNG",
            "AUT",
            "SDN",
            "CPV",
            "SUR",
            "SWZ",
            "FSM",
            "MMR",
            "AUS",
            "GBR",
            "TGO",
            "MSR",
            "SWE",
            "CHE",
            "MUS",
            "ABW",
            "SYR",
            "MRT",
            "CMR",
            "MKD",
            "MTQ",
            "TJK",
            "ARM",
            "MHL",
            "AND",
            "THA",
            "MYT",
            "VCT",
            "BTN",
            "AZE",
            "MAR",
            "ARG",
            "MOZ",
            "SPM",
            "BDI",
            "ARE"
           ],
           "name": "",
           "type": "choropleth",
           "z": [
            1.9247753392076492,
            -1.9208187539523751,
            3.006475455426628,
            -1.6989700043360187,
            1.6663120162361642,
            0.8998751960210106,
            1.3322162058782843,
            -0.13412026171529964,
            -0.21467158890790133,
            -0.7281583934635011,
            -0.7375489102695706,
            -0.9829666607012196,
            1.7684530982706301,
            -1.1804560644581312,
            1.7564459201622729,
            2.75869317687129,
            1.0154435879511023,
            -1.6382721639824072,
            1.300008202553813,
            -0.40782324260413316,
            0.5614591712419159,
            1.6632673566280798,
            -0.17392519729917355,
            -1.1487416512809248,
            -1.5686362358410126,
            -1.4559319556497243,
            -0.33818731446273875,
            2.4004913628293965,
            1.4707191214391646,
            0.24919835739111287,
            -0.6695862266508091,
            0.9646367037885015,
            -0.44369749923271273,
            0.8662873390841949,
            1.9900901077879343,
            0.7962273140294388,
            0.20951501454263097,
            0.03582982525282817,
            0.8594985581877761,
            1.8399554459675662,
            0.796851749049887,
            0.10037054511756291,
            0.033021444682910656,
            0.8391007827071532,
            0.1009694583474428,
            0.627775375229303,
            -0.9546770212133425,
            -1.2520757318641456,
            1.8102190721373483,
            1.1548802447187618,
            1.892461927252068,
            1.6385491555109564,
            -1.9625735020593764,
            -0.1917890270757779,
            -0.10127481841050648,
            3.0547933986775893,
            -0.5867002359187482,
            -0.9871627752948278,
            -0.8239087409443188,
            0.4358443659844413,
            2.3516108034492382,
            1.2822141330623356,
            1.461543544610252,
            1.1506336537464283,
            1.2855573090077739,
            0.08849047018239622,
            0.6161603128475829,
            0.26335196839356567,
            1.4354302515829656,
            0.7146649928625369,
            1.0106391167366298,
            0.653309012938479,
            -0.6324577264794233,
            1.1720480341802557,
            0.7471009313649862,
            2.7030935355751806,
            1.6465507536403412,
            3.5679349618681395,
            1.1010593549081156,
            1.5489664558490717,
            -0.3467874862246563,
            -1.0457574905606752,
            0.8541237821011671,
            -0.46344155742846993,
            0.7473341096159051,
            0.09898963940117732,
            0.7342396044354551,
            -0.5316526695878427,
            0.4077307280263354,
            0.38542751480513054,
            1.7160033436347992,
            0.9301846522986199,
            0.14891099310935643,
            -1.0969100130080565,
            -0.1985962899826449,
            0.8550949511586219,
            2.741588038542218,
            0.600210306409328,
            1.522405106114798,
            2.6682227926372506,
            1.545307116465824,
            -0.42481215507233894,
            1.9371315692605593,
            0.38147609027503,
            1.5694792512947962,
            1.4039265648312684,
            0.27577190016493136,
            0.9287030274305971,
            -0.16877030613293661,
            1.418102332249959,
            -0.8229543425378609,
            -1.1249387366083,
            -1.0159229660971691,
            0.09968064110925012,
            1.207284205912198,
            -0.8282735463467689,
            1.4159244129711646,
            -2.5228787452803374,
            1.119783586161698,
            0.1829849670035817,
            2.25042488199476,
            2.154697793596388,
            -0.19246497193114673,
            0.1504494094608806,
            -0.5139948136377578,
            -2.1999706407558657,
            -1.494850021680094,
            0.7113853790984517,
            0.09829753649469763,
            1.6054343453477122,
            2.2796578201189623,
            1.626463554010928,
            0.05918461763137114,
            2.322326821007687,
            0.022840610876527823,
            0.697926444806505,
            -0.5590909179347823,
            -1.1870866433571443,
            0.7024305364455253,
            -0.9314431049276369,
            2.4885225146444063,
            0.06818586174616162,
            0.21085336531489318,
            1.7570010360582897,
            0.7221401254574156,
            -1.494850021680094,
            1.7063336586482971,
            0.9776321652459995,
            0.8368935163764337,
            0.5405797165044542,
            -0.27572413039921095,
            1.2540886469190742,
            0.22659990520735745,
            1.301138555715016,
            1.5648435325438335,
            1.534127683528684,
            -1.2915790998652872,
            -1.3010299956639813,
            2.9212347824548024,
            0.6075622431835882,
            0.9427519204298138,
            -0.9208187539523752,
            2.0305551974161826,
            2.047885955048098,
            1.8967080540099817,
            0.8643924051505887,
            -1.6989700043360187,
            -1.0861861476162833,
            -0.45395113359826567,
            -2.619788758288394,
            2.221453361709029,
            2.014083504369939,
            -0.7772835288524167,
            1.771771153745868,
            0.16761267272753014,
            -0.9956786262173574,
            -0.8416375079047503,
            -0.03385826726096737,
            -0.671416550285798,
            1.1078880251827987,
            2.2239966613734685,
            -1.5243288116755704,
            -1.3665315444204136,
            0.43456890403419873,
            1.7536136958709378,
            0.30037806487070257,
            -1.0305840876460186,
            0.15032653649870764,
            -0.3467874862246563,
            -1.0614802748235082,
            0.6478717653062325,
            2.262306300770294,
            2.5448936594423643,
            -0.8416375079047503,
            -1.744727494896694,
            2.1739114299458837,
            1.7999742946463804,
            0.14550717140966257,
            -0.17069622716897506,
            1.2589723311093857,
            -0.4305617118778396,
            0.49526674438781043,
            0.8247764624755457,
            0.03293047078734137,
            1.146283113159587,
            0.7797407511767406,
            -1.1045774539605921,
            -1,
            1.9794755309464767,
            -1.3467874862246563,
            -1.0958256317158366,
            0.26434550705009247,
            1.2262389170759846,
            1.1427647746387246,
            1.863412089545535,
            0.0021660617565076304,
            -1.3665315444204136,
            -0.9136401693252518,
            1.4542959307398498
           ]
          }
         ],
         "name": "1997"
        },
        {
         "data": [
          {
           "coloraxis": "coloraxis",
           "customdata": [
            [
             0.854
            ],
            [
             0.034
            ],
            [
             11.462
            ],
            [
             0.276
            ],
            [
             0.665
            ],
            [
             1.532
            ],
            [
             17.998
            ],
            [
             0.079
            ],
            [
             827.158
            ],
            [
             0.378576
            ],
            [
             111.022
            ],
            [
             53.496
            ],
            [
             0.0242
            ],
            [
             2.912
            ],
            [
             7.693
            ],
            [
             0.159
            ],
            [
             0.73
            ],
            [
             63.47
            ],
            [
             0.801
            ],
            [
             5.683
            ],
            [
             0.195
            ],
            [
             1.566
            ],
            [
             6.583
            ],
            [
             0.13
            ],
            [
             0.663
            ],
            [
             3.837
            ],
            [
             82.004
            ],
            [
             0.1254
            ],
            [
             142.789
            ],
            [
             0.02
            ],
            [
             496.924
            ],
            [
             0.2359
            ],
            [
             0.00663
            ],
            [
             38.984
            ],
            [
             0.0296
            ],
            [
             6.281
            ],
            [
             19.396
            ],
            [
             10.89
            ],
            [
             6.191
            ],
            [
             21.159
            ],
            [
             0.53
            ],
            [
             14.422
            ],
            [
             9.416
            ],
            [
             511.276
            ],
            [
             59.593
            ],
            [
             8.122
            ],
            [
             5.387
            ],
            [
             0.453
            ],
            [
             88.5457
            ],
            [
             7.048
            ],
            [
             0.035
            ],
            [
             3.414
            ],
            [
             3.1
            ],
            [
             37.19
            ],
            [
             0.083
            ],
            [
             1.343
            ],
            [
             14.149
            ],
            [
             0.1103
            ],
            [
             8.64
            ],
            [
             205.375
            ],
            [
             0.191
            ],
            [
             0.747
            ],
            [
             0.087
            ],
            [
             65.112
            ],
            [
             74.456
            ],
            [
             29.022
            ],
            [
             0.116
            ],
            [
             57.001
            ],
            [
             0.015
            ],
            [
             1.966
            ],
            [
             0.06
            ],
            [
             5.068
            ],
            [
             5.017
            ],
            [
             0.630988
            ],
            [
             13.728
            ],
            [
             556.393
            ],
            [
             12.882
            ],
            [
             7.603
            ],
            [
             0.187
            ],
            [
             0.0852
            ],
            [
             4.05
            ],
            [
             0.0668
            ],
            [
             5.169
            ],
            [
             26.032
            ],
            [
             158.831
            ],
            [
             46.329
            ],
            [
             0.26
            ],
            [
             7.671
            ],
            [
             4.456
            ],
            [
             0.022
            ],
            [
             83.183
            ],
            [
             4.732
            ],
            [
             8.521
            ],
            [
             1.857
            ],
            [
             107.521
            ],
            [
             0.4515
            ],
            [
             1.23
            ],
            [
             0.301
            ],
            [
             1.242
            ],
            [
             5.773
            ],
            [
             0.13
            ],
            [
             1.648
            ],
            [
             195.209
            ],
            [
             37.808
            ],
            [
             23.492
            ],
            [
             2.991
            ],
            [
             0.10778
            ],
            [
             0.07
            ],
            [
             195.369
            ],
            [
             0.1592
            ],
            [
             0.043
            ],
            [
             1.4214
            ],
            [
             21.688
            ],
            [
             70.167
            ],
            [
             41.113
            ],
            [
             1.721
            ],
            [
             23.615
            ],
            [
             1.801
            ],
            [
             1.318
            ],
            [
             29.984
            ],
            [
             0.156
            ],
            [
             1166.2
            ],
            [
             1.116
            ],
            [
             217.889
            ],
            [
             41.711
            ],
            [
             1.02
            ],
            [
             1.25
            ],
            [
             2.3336194
            ],
            [
             0.032
            ],
            [
             5.797
            ],
            [
             35.509
            ],
            [
             12.455
            ],
            [
             1.591
            ],
            [
             2.807
            ],
            [
             17
            ],
            [
             0.3703
            ],
            [
             6.745
            ],
            [
             321.748
            ],
            [
             52.745
            ],
            [
             1.539
            ],
            [
             0.003
            ],
            [
             15.111
            ],
            [
             1.2742
            ],
            [
             4.423
            ],
            [
             0.078
            ],
            [
             0.14601
            ],
            [
             0.0105
            ],
            [
             2.153
            ],
            [
             31.414
            ],
            [
             37.612
            ],
            [
             172.822
            ],
            [
             0.3381
            ],
            [
             1.019
            ],
            [
             4.139
            ],
            [
             1.149
            ],
            [
             2.245
            ],
            [
             0.051
            ],
            [
             362.703
            ],
            [
             60.671
            ],
            [
             0.395
            ],
            [
             1.539
            ],
            [
             0.388804
            ],
            [
             0.081
            ],
            [
             3.168
            ],
            [
             1.081605
            ],
            [
             0.723
            ],
            [
             0.09
            ],
            [
             0.081
            ],
            [
             561.76
            ],
            [
             0.35
            ],
            [
             9.569
            ],
            [
             0.7844201000000001
            ],
            [
             0.0896
            ],
            [
             10.244
            ],
            [
             6.864
            ],
            [
             0.3
            ],
            [
             0.112
            ],
            [
             0.091
            ],
            [
             13.774
            ],
            [
             3830.489
            ],
            [
             13.528
            ],
            [
             0.015
            ],
            [
             33.392
            ],
            [
             17.631
            ],
            [
             2.765
            ],
            [
             1.295
            ],
            [
             0.104
            ],
            [
             0.1016
            ],
            [
             182.304
            ],
            [
             0.256
            ],
            [
             91.115
            ],
            [
             6.48
            ],
            [
             1.092
            ],
            [
             1020.247
            ],
            [
             50.87374
            ],
            [
             18.582
            ],
            [
             0.344
            ],
            [
             2.174
            ],
            [
             9.077
            ],
            [
             0.101
            ],
            [
             45.9
            ],
            [
             45.96
            ],
            [
             0.0535
            ],
            [
             21.151
            ],
            [
             8.2
            ],
            [
             103.438
            ],
            [
             0.025
            ],
            [
             0.0343
            ],
            [
             37.955
            ],
            [
             0.0025
            ],
            [
             117.008
            ],
            [
             62.104
            ],
            [
             163.186
            ],
            [
             259.8
            ],
            [
             76.017
            ],
            [
             38.404
            ],
            [
             3.71
            ],
            [
             4.191
            ],
            [
             32.045
            ]
           ],
           "geo": "geo",
           "hovertemplate": "<b>%{hovertext}</b><br><br>year=1998<br>ISO=%{location}<br>Electric_Energy_Production=%{customdata[0]}<br>color=%{z}<extra></extra>",
           "hovertext": [
            "Guyana",
            "Equatorial Guinea",
            "Croatia",
            "Somalia",
            "Afghanistan",
            "Bahamas",
            "Azerbaijan",
            "Benin",
            "Russian Federation",
            "French Polynesia",
            "Turkey",
            "Romania",
            "Guinea-Bissau",
            "Yemen",
            "Dominican Republic",
            "Belize",
            "Aruba",
            "Switzerland",
            "Guinea",
            "Sri Lanka",
            "Eritrea",
            "Réunion",
            "Zimbabwe",
            "Rwanda",
            "Haiti",
            "El Salvador",
            "Venezuela (Bolivar. Rep.)",
            "St. Kitts-Nevis",
            "Poland",
            "Cook Islands",
            "India",
            "St. Lucia",
            "St. Helena and Depend.",
            "Portugal",
            "Tonga",
            "Iceland",
            "Puerto Rico",
            "Ecuador",
            "Armenia",
            "Syrian Arab Republic",
            "Bermuda",
            "Tajikistan",
            "Turkmenistan",
            "France",
            "Egypt",
            "Qatar",
            "Costa Rica",
            "French Guiana",
            "Thailand",
            "T.F.Yug.Rep. Macedonia",
            "Vanuatu",
            "Honduras",
            "Republic of Moldova",
            "Hungary",
            "Samoa",
            "Gabon",
            "Cuba",
            "Sierra Leone",
            "Tunisia",
            "South Africa",
            "Faeroe Islands",
            "Barbados",
            "Gambia",
            "Czechia",
            "Argentina",
            "Singapore",
            "Gibraltar",
            "Austria",
            "Falkland Is. (Malvinas)",
            "Sudan (former)",
            "State of Palestine",
            "Albania",
            "Ghana",
            "Fiji",
            "Slovenia",
            "Germany",
            "Bangladesh",
            "Zambia",
            "Djibouti",
            "St. Vincent-Grenadines",
            "Côte d'Ivoire",
            "Solomon Islands",
            "Trinidad and Tobago",
            "Slovakia",
            "Sweden",
            "Greece",
            "Greenland",
            "Georgia",
            "Guatemala",
            "Sao Tome and Principe",
            "Belgium",
            "Dem. Rep. of the Congo",
            "Estonia",
            "Guam",
            "Saudi Arabia",
            "Swaziland",
            "Guadeloupe",
            "Togo",
            "Senegal",
            "Bahrain",
            "Antigua and Barbuda",
            "Ethiopia",
            "Spain",
            "Serbia and Montenegro",
            "Belarus",
            "Cyprus",
            "Grenada",
            "Dominica",
            "Australia",
            "Seychelles",
            "St. Pierre-Miquelon",
            "Suriname",
            "Viet Nam",
            "Finland",
            "Denmark",
            "Malta",
            "Algeria",
            "Bhutan",
            "Angola",
            "Kuwait",
            "American Samoa",
            "China",
            "Neth. Antilles (former)",
            "Korea, Republic of",
            "Bulgaria",
            "United States Virgin Is.",
            "Nepal",
            "Lao People's Dem. Rep.",
            "Nauru",
            "Latvia",
            "Chile",
            "Kyrgyzstan",
            "New Caledonia",
            "Brunei Darussalam",
            "Korea, Dem.Ppl's.Rep.",
            "Northern Mariana Islands",
            "Jordan",
            "Brazil",
            "Kazakhstan",
            "China, Macao SAR",
            "Niue",
            "Nigeria",
            "Uganda",
            "Kenya",
            "British Virgin Islands",
            "Niger",
            "Kiribati",
            "Nicaragua",
            "China, Hong Kong SAR",
            "New Zealand",
            "Ukraine",
            "Burkina Faso",
            "Namibia",
            "Myanmar",
            "Malawi",
            "United Rep. of Tanzania",
            "Mayotte",
            "United Kingdom",
            "Malaysia",
            "Cayman Islands",
            "Mauritius",
            "Mauritania",
            "Maldives",
            "Cameroon",
            "Martinique",
            "Mali",
            "Andorra",
            "Marshall Islands",
            "Canada",
            "Cambodia",
            "Uruguay",
            "Madagascar",
            "Micronesia (Fed. States of)",
            "Lebanon",
            "Mozambique",
            "Liberia",
            "Burundi",
            "Chad",
            "Morocco",
            "United States",
            "Libya",
            "Montserrat",
            "United Arab Emirates",
            "Lithuania",
            "Mongolia",
            "Luxembourg",
            "Central African Rep.",
            "Cabo Verde",
            "Mexico",
            "Jersey",
            "Netherlands",
            "Jamaica",
            "Botswana",
            "Japan",
            "Paraguay",
            "Peru",
            "Congo",
            "Papua New Guinea",
            "Bosnia and Herzegovina",
            "Palau",
            "Uzbekistan",
            "Colombia",
            "Turks and Caicos Islands",
            "Ireland",
            "Oman",
            "Iran (Islamic Rep. of)",
            "Comoros",
            "Anguilla",
            "Israel",
            "Tuvalu",
            "Norway",
            "Pakistan",
            "Other Asia",
            "Italy",
            "Indonesia",
            "Philippines",
            "Bolivia (Plur. State of)",
            "Panama",
            "Iraq"
           ],
           "locations": [
            "GUY",
            "GNQ",
            "HRV",
            "SOM",
            "AFG",
            "BHS",
            "AZE",
            "BEN",
            "RUS",
            "PYF",
            "TUR",
            "ROU",
            "GNB",
            "YEM",
            "DOM",
            "BLZ",
            "ABW",
            "CHE",
            "GIN",
            "LKA",
            "ERI",
            "REU",
            "ZWE",
            "RWA",
            "HTI",
            "SLV",
            "VEN",
            "KNA",
            "POL",
            "COK",
            "IND",
            "LCA",
            "SHN",
            "PRT",
            "TON",
            "ISL",
            "PRI",
            "ECU",
            "ARM",
            "SYR",
            "BMU",
            "TJK",
            "TKM",
            "FRA",
            "EGY",
            "QAT",
            "CRI",
            "GUF",
            "THA",
            "MKD",
            "VUT",
            "HND",
            "MDA",
            "HUN",
            "WSM",
            "GAB",
            "CUB",
            "SLE",
            "TUN",
            "ZAF",
            "FRO",
            "BRB",
            "GMB",
            "CZE",
            "ARG",
            "SGP",
            "GIB",
            "AUT",
            "MDV",
            "SDN",
            "PSE",
            "ALB",
            "GHA",
            "FJI",
            "SVN",
            "DEU",
            "BGD",
            "ZMB",
            "DJI",
            "VCT",
            "CIV",
            "SLB",
            "TTO",
            "SVK",
            "SWE",
            "GRC",
            "GRL",
            "GEO",
            "GTM",
            "STP",
            "BEL",
            "COD",
            "EST",
            "GUM",
            "SAU",
            "SWZ",
            "GLP",
            "TGO",
            "SEN",
            "BHR",
            "ATG",
            "ETH",
            "ESP",
            "SRB",
            "BLR",
            "CYP",
            "GRD",
            "DMA",
            "AUS",
            "SYC",
            "SPM",
            "SUR",
            "VNM",
            "FIN",
            "DNK",
            "MLT",
            "DZA",
            "BTN",
            "AGO",
            "KWT",
            "ASM",
            "CHN",
            "@@@",
            "KOR",
            "BGR",
            "VIR",
            "NPL",
            "LAO",
            "NRU",
            "LVA",
            "CHL",
            "KGZ",
            "NCL",
            "BRN",
            "PRK",
            "MNP",
            "JOR",
            "BRA",
            "KAZ",
            "MAC",
            "NIU",
            "NGA",
            "UGA",
            "KEN",
            "VGB",
            "NER",
            "KIR",
            "NIC",
            "HKG",
            "NZL",
            "UKR",
            "BFA",
            "NAM",
            "MMR",
            "MWI",
            "TZA",
            "MYT",
            "GBR",
            "MYS",
            "CYM",
            "MUS",
            "MRT",
            "MDV",
            "CMR",
            "MTQ",
            "MLI",
            "AND",
            "MHL",
            "CAN",
            "KHM",
            "URY",
            "MDG",
            "FSM",
            "LBN",
            "MOZ",
            "LBR",
            "BDI",
            "TCD",
            "MAR",
            "USA",
            "LBY",
            "MSR",
            "ARE",
            "LTU",
            "MNG",
            "LUX",
            "CAF",
            "CPV",
            "MEX",
            "JEY",
            "NLD",
            "JAM",
            "BWA",
            "JPN",
            "PRY",
            "PER",
            "COG",
            "PNG",
            "BIH",
            "PLW",
            "UZB",
            "COL",
            "TCA",
            "IRL",
            "OMN",
            "IRN",
            "COM",
            "AIA",
            "ISR",
            "TUV",
            "NOR",
            "PAK",
            "@@@",
            "ITA",
            "IDN",
            "PHL",
            "BOL",
            "PAN",
            "IRQ"
           ],
           "name": "",
           "type": "choropleth",
           "z": [
            -0.06854212931099495,
            -1.4685210829577449,
            1.0592604041217306,
            -0.5590909179347823,
            -0.17717835469689538,
            0.18525876529658514,
            1.2552242474798436,
            -1.1023729087095586,
            2.91758847445475,
            -0.42184692179838756,
            2.045409046641493,
            1.7283213101918438,
            -1.6161846340195687,
            0.4641913706409996,
            0.8860957324377474,
            -0.7986028756795485,
            -0.1366771398795441,
            1.8025684983139565,
            -0.09636748391576232,
            0.7545776560447304,
            -0.7099653886374819,
            0.1947917577219246,
            0.8184238550920788,
            -0.8860566476931632,
            -0.17848647159522685,
            0.5839917991983163,
            1.913835036963702,
            -0.9017024635053024,
            2.1546947520948634,
            -1.6989700043360187,
            2.6962899724264737,
            -0.6272720591144045,
            -2.178486471595227,
            1.5908863983732382,
            -1.5287082889410615,
            0.7980287934040731,
            1.2877121754434868,
            1.037027879755775,
            0.7917608040129049,
            1.3254951385642642,
            -0.27572413039921095,
            1.1590254912249052,
            0.9738664498353783,
            2.7086554068235476,
            1.7751952490034177,
            0.9096629851540181,
            0.7313469755459548,
            -0.34390179798716813,
            1.9471674756151296,
            0.8480658954039915,
            -1.4559319556497243,
            0.5332635167787149,
            0.4913616938342727,
            1.5704261783589726,
            -1.080921907623926,
            0.12807601266871535,
            1.1507257465861944,
            -0.9574244875598095,
            0.9365137424788933,
            2.312547576443118,
            -0.7189666327522725,
            -0.12667939818460122,
            -1.0604807473813815,
            1.8136610354732021,
            1.8718997009048017,
            1.4627273377720988,
            -0.9355420107730815,
            1.755882474807094,
            -1.8239087409443189,
            0.29358351349611683,
            -1.2218487496163564,
            0.7048366062114036,
            0.7004441010277516,
            -0.19997890000045915,
            1.1376072705046303,
            2.7453816574801513,
            1.1099832948198922,
            0.8809849904867534,
            -0.7281583934635011,
            -1.0695604052332999,
            0.6074550232146685,
            -1.1752235375244544,
            0.7134065321676909,
            1.4155075355927835,
            2.200935270225924,
            1.6658529261654056,
            -0.585026652029182,
            0.8848519827459979,
            0.6489451821656725,
            -1.6575773191777938,
            1.9200345791685054,
            0.6750447359558928,
            0.9304905653062696,
            0.2688119037397804,
            2.0314932948881568,
            -0.34534224535047536,
            0.08990511143939793,
            -0.5214335044061567,
            0.09412159584056139,
            0.761401557498631,
            -0.8860566476931632,
            0.21695720736109697,
            2.2904998366925207,
            1.5775837042882939,
            1.3709199921709194,
            0.47581641303131816,
            -0.9674618207399934,
            -1.154901959985743,
            2.290855653563883,
            -0.7980569365983498,
            -1.3665315444204136,
            0.1527163111064087,
            1.3362195045724292,
            1.8461329086038076,
            1.61397916824007,
            0.2357808703275603,
            1.3731879499127186,
            0.25551371281953333,
            0.11991541025799107,
            1.4768895692076842,
            -0.8068754016455384,
            3.0667730370850257,
            0.04766419460155998,
            2.3382353056942273,
            1.6202506019598535,
            0.00860017176191757,
            0.09691001300805642,
            0.3680300265344544,
            -1.494850021680094,
            0.7632033003707717,
            1.5503384419271542,
            1.0953437318725254,
            0.20167017964658152,
            0.44824241263443915,
            1.2304489213782739,
            -0.4314462879505574,
            0.8289819540079231,
            2.507515855990835,
            1.7221812966649075,
            0.1872386198314787,
            -2.5228787452803374,
            1.1792932055773737,
            0.10523760074602263,
            0.6457169393696038,
            -1.1079053973095196,
            -0.8356173990368312,
            -1.978810700930062,
            0.3330440298234872,
            1.497123239401496,
            1.575326427436491,
            2.2375990267449586,
            -0.470954829234231,
            0.008174184006426355,
            0.61689542640076,
            0.060320028688285184,
            0.351216345339342,
            -1.2924298239020637,
            2.5595511477449158,
            1.7829811531919926,
            -0.40340290437353976,
            0.1872386198314787,
            -0.41026927571852134,
            -1.0915149811213503,
            0.500785172917456,
            0.03406868624122785,
            -0.1408617027054692,
            -1.0457574905606752,
            -1.0915149811213503,
            2.749550812121276,
            -0.4559319556497244,
            0.9808665545820792,
            -0.10545128648915261,
            -1.0476919903378747,
            1.0104695697963921,
            0.836577274840649,
            -0.5228787452803376,
            -0.9507819773298184,
            -1.0409586076789064,
            1.1390600786493013,
            3.5832542195157515,
            1.1312335945896854,
            -1.8239087409443189,
            1.5236424317213788,
            1.2462769454340612,
            0.4416951356407171,
            0.11226976841727061,
            -0.9829666607012196,
            -0.9931062920520995,
            2.260796197776586,
            -0.5917600346881504,
            1.9595898795083906,
            0.8115750058705934,
            0.03822263836871846,
            3.0087053264197157,
            1.70649366610898,
            1.2690924557404304,
            -0.46344155742846993,
            0.3372595397502757,
            0.9579423354454045,
            -0.9956786262173574,
            1.6618126855372612,
            1.6623800200162475,
            -1.2716462179787715,
            1.3253309052436955,
            0.9138138523837167,
            2.014680114759413,
            -1.6020599913279623,
            -1.4647058799572295,
            1.5792689957617714,
            -2.6020599913279625,
            2.068215556080172,
            1.7931195731553604,
            2.2126828971656907,
            2.414639146737009,
            1.8809107262358506,
            1.5843764610200277,
            0.5693739096150459,
            0.6223176608338443,
            1.5057602759200857
           ]
          }
         ],
         "name": "1998"
        },
        {
         "data": [
          {
           "coloraxis": "coloraxis",
           "customdata": [
            [
             0.16
            ],
            [
             0.202
            ],
            [
             2.423
            ],
            [
             51.9601
            ],
            [
             8.584
            ],
            [
             1.022
            ],
            [
             37.126
            ],
            [
             0.2698
            ],
            [
             2.303
            ],
            [
             0.015
            ],
            [
             0.2562
            ],
            [
             0.04421
            ],
            [
             0.2
            ],
            [
             3897.518
            ],
            [
             69.457
            ],
            [
             45.3
            ],
            [
             1.146
            ],
            [
             13.475
            ],
            [
             2.93
            ],
            [
             0.043
            ],
            [
             0.698991
            ],
            [
             3.184
            ],
            [
             14.407
            ],
            [
             0.015
            ],
            [
             0.0895
            ],
            [
             32.678
            ],
            [
             13.535
            ],
            [
             7.764
            ],
            [
             22.009
            ],
            [
             0.0901
            ],
            [
             0.8332945
            ],
            [
             0.312
            ],
            [
             0.3626
            ],
            [
             43.287
            ],
            [
             22.816
            ],
            [
             97.6378
            ],
            [
             3.792
            ],
            [
             0.093
            ],
            [
             1.134297
            ],
            [
             6.863
            ],
            [
             95.944
            ],
            [
             65.171
            ],
            [
             536.452
            ],
            [
             0.756
            ],
            [
             142.128
            ],
            [
             15.797
            ],
            [
             0.0796
            ],
            [
             41.328
            ],
            [
             1.854
            ],
            [
             0.04
            ],
            [
             65.189
            ],
            [
             368.152
            ],
            [
             19.049672
            ],
            [
             191.51
            ],
            [
             1.653
            ],
            [
             0.698
            ],
            [
             2.381
            ],
            [
             0.064
            ],
            [
             0.4545
            ],
            [
             8.268
            ],
            [
             37.832
            ],
            [
             1.4398
            ],
            [
             0.0640999999999999
            ],
            [
             22.073
            ],
            [
             0.214
            ],
            [
             112.657
            ],
            [
             154.86
            ],
            [
             7.091
            ],
            [
             7.188
            ],
            [
             69.69
            ],
            [
             1.584
            ],
            [
             1.184
            ],
            [
             525.806
            ],
            [
             4.639
            ],
            [
             0.3864
            ],
            [
             49.632
            ],
            [
             4.745
            ],
            [
             8.413
            ],
            [
             0.0729
            ],
            [
             1037.277
            ],
            [
             0.0129
            ],
            [
             1.3832
            ],
            [
             2.148
            ],
            [
             1.57
            ],
            [
             0.12
            ],
            [
             37.817
            ],
            [
             30.259
            ],
            [
             6.609
            ],
            [
             0.817
            ],
            [
             18.6
            ],
            [
             5.929
            ],
            [
             28.407
            ],
            [
             23.559
            ],
            [
             0.085
            ],
            [
             9.526
            ],
            [
             0.17467
            ],
            [
             115.42
            ],
            [
             0.0027
            ],
            [
             1.233
            ],
            [
             0.3752
            ],
            [
             122.717
            ],
            [
             0.028
            ],
            [
             1.596
            ],
            [
             7.081
            ],
            [
             1.62
            ],
            [
             7.193
            ],
            [
             33.41
            ],
            [
             5.186
            ],
            [
             0.11667
            ],
            [
             80.588
            ],
            [
             16.089
            ],
            [
             47.498
            ],
            [
             0.15235
            ],
            [
             0.2604
            ],
            [
             0.003
            ],
            [
             7.707
            ],
            [
             13.262
            ],
            [
             169.473
            ],
            [
             0.1
            ],
            [
             1.209
            ],
            [
             6.185
            ],
            [
             0.0338
            ],
            [
             0.365
            ],
            [
             4.11
            ],
            [
             0.86679
            ],
            [
             39.215
            ],
            [
             3.136
            ],
            [
             0.43
            ],
            [
             50.71
            ],
            [
             172.12
            ],
            [
             1.9037
            ],
            [
             0.00661
            ],
            [
             4.58
            ],
            [
             0.1318
            ],
            [
             10.077
            ],
            [
             1.328
            ],
            [
             0.033
            ],
            [
             846.226
            ],
            [
             208.451
            ],
            [
             237.503
            ],
            [
             86.72
            ],
            [
             5.247
            ],
            [
             265.667
            ],
            [
             0.016
            ],
            [
             0.0713
            ],
            [
             31.576
            ],
            [
             7.683
            ],
            [
             556.3
            ],
            [
             0.132
            ],
            [
             0.278
            ],
            [
             65.402
            ],
            [
             1.02
            ],
            [
             0.095
            ],
            [
             203.012
            ],
            [
             14.135
            ],
            [
             1.478
            ],
            [
             116.44
            ],
            [
             1.114
            ],
            [
             8.86
            ],
            [
             3.0618003
            ],
            [
             18.177
            ],
            [
             1.532
            ],
            [
             0.107
            ],
            [
             14.45
            ],
            [
             5.717
            ],
            [
             0.04
            ],
            [
             60.944
            ],
            [
             26.516
            ],
            [
             64.694
            ],
            [
             0.162
            ],
            [
             2.731
            ],
            [
             38.39
            ],
            [
             0.092
            ],
            [
             6.177
            ],
            [
             3.881
            ],
            [
             0.7378
            ],
            [
             5.956
            ],
            [
             0.802
            ],
            [
             0.405
            ],
            [
             0.1
            ],
            [
             5.322
            ],
            [
             10.154
            ],
            [
             24.654
            ],
            [
             0.097
            ],
            [
             3.139
            ],
            [
             29.496
            ],
            [
             0.324
            ],
            [
             0.081
            ],
            [
             7.676
            ],
            [
             203.987
            ],
            [
             1.11
            ],
            [
             0.027
            ],
            [
             1.335
            ],
            [
             44.139
            ],
            [
             0.55
            ],
            [
             0.08
            ],
            [
             81.177
            ],
            [
             0.072
            ],
            [
             10.308
            ],
            [
             0.685
            ],
            [
             0.11728
            ],
            [
             84.514
            ],
            [
             0.14
            ],
            [
             14.492
            ],
            [
             0.167
            ],
            [
             579.056
            ],
            [
             3.376
            ],
            [
             0.022
            ],
            [
             38.25
            ],
            [
             38.92
            ],
            [
             5.397
            ],
            [
             0.074
            ],
            [
             12.979
            ],
            [
             0.18
            ],
            [
             1.6074
            ],
            [
             4.83
            ],
            [
             1.8
            ],
            [
             1239.3
            ],
            [
             0.3599
            ],
            [
             334.716
            ]
           ],
           "geo": "geo",
           "hovertemplate": "<b>%{hovertext}</b><br><br>year=1999<br>ISO=%{location}<br>Electric_Energy_Production=%{customdata[0]}<br>color=%{z}<extra></extra>",
           "hovertext": [
            "State of Palestine",
            "Faeroe Islands",
            "Sudan (former)",
            "Paraguay",
            "Qatar",
            "Luxembourg",
            "United Arab Emirates",
            "Jersey",
            "Papua New Guinea",
            "Falkland Is. (Malvinas)",
            "St. Lucia",
            "Vanuatu",
            "Liberia",
            "United States",
            "Finland",
            "Uzbekistan",
            "Republic of Moldova",
            "Morocco",
            "Mongolia",
            "St. Pierre-Miquelon",
            "Fiji",
            "Honduras",
            "Libya",
            "Montserrat",
            "St. Vincent-Grenadines",
            "Iraq",
            "Lithuania",
            "Zambia",
            "Ireland",
            "Micronesia (Fed. States of)",
            "Madagascar",
            "Togo",
            "Mauritania",
            "Portugal",
            "Syrian Arab Republic",
            "Thailand",
            "El Salvador",
            "Maldives",
            "Martinique",
            "T.F.Yug.Rep. Macedonia",
            "Indonesia",
            "Egypt",
            "India",
            "Mali",
            "Poland",
            "Tajikistan",
            "Marshall Islands",
            "Philippines",
            "Malta",
            "Equatorial Guinea",
            "Malaysia",
            "United Kingdom",
            "Peru",
            "Mexico",
            "Ethiopia",
            "Haiti",
            "United Rep. of Tanzania",
            "Mayotte",
            "Swaziland",
            "Estonia",
            "Hungary",
            "Suriname",
            "Turks and Caicos Islands",
            "Puerto Rico",
            "Eritrea",
            "Iran (Islamic Rep. of)",
            "Sweden",
            "Zimbabwe",
            "Iceland",
            "Switzerland",
            "Mauritius",
            "Malawi",
            "France",
            "Myanmar",
            "Lesotho",
            "Greece",
            "Kenya",
            "Oman",
            "Sierra Leone",
            "Japan",
            "Kiribati",
            "Uganda",
            "Nicaragua",
            "Réunion",
            "Gibraltar",
            "New Zealand",
            "Singapore",
            "Jamaica",
            "Guinea",
            "Korea, Dem.Ppl's.Rep.",
            "Ghana",
            "Slovakia",
            "Viet Nam",
            "Samoa",
            "Tunisia",
            "Seychelles",
            "Saudi Arabia",
            "Tuvalu",
            "Guadeloupe",
            "Northern Mariana Islands",
            "Norway",
            "Sao Tome and Principe",
            "Senegal",
            "Jordan",
            "New Caledonia",
            "Uruguay",
            "Serbia and Montenegro",
            "Guatemala",
            "Grenada",
            "Venezuela (Bolivar. Rep.)",
            "Nigeria",
            "Kazakhstan",
            "Niger",
            "Greenland",
            "Niue",
            "Mozambique",
            "Slovenia",
            "Other Asia",
            "Palau",
            "Namibia",
            "Sri Lanka",
            "Tonga",
            "French Polynesia",
            "Latvia",
            "Guyana",
            "Israel",
            "Yemen",
            "French Guiana",
            "Romania",
            "Ukraine",
            "Guam",
            "St. Helena and Depend.",
            "Panama",
            "St. Kitts-Nevis",
            "Lebanon",
            "Gabon",
            "Nauru",
            "Russian Federation",
            "Spain",
            "Korea, Republic of",
            "Netherlands",
            "Trinidad and Tobago",
            "Italy",
            "Guinea-Bissau",
            "Solomon Islands",
            "Kuwait",
            "Georgia",
            "Germany",
            "Rwanda",
            "Somalia",
            "Pakistan",
            "United States Virgin Is.",
            "Gambia",
            "South Africa",
            "Kyrgyzstan",
            "Nepal",
            "Turkey",
            "Neth. Antilles (former)",
            "Turkmenistan",
            "Lao People's Dem. Rep.",
            "Azerbaijan",
            "China, Macao SAR",
            "Central African Rep.",
            "Bangladesh",
            "Armenia",
            "Anguilla",
            "Austria",
            "Belarus",
            "Czechia",
            "American Samoa",
            "Brunei Darussalam",
            "Chile",
            "Chad",
            "Costa Rica",
            "Bolivia (Plur. State of)",
            "Aruba",
            "Bahrain",
            "Barbados",
            "Cayman Islands",
            "Burundi",
            "Dem. Rep. of the Congo",
            "Bosnia and Herzegovina",
            "Algeria",
            "Congo",
            "Cyprus",
            "China, Hong Kong SAR",
            "Cambodia",
            "British Virgin Islands",
            "Dominican Republic",
            "Australia",
            "Botswana",
            "Comoros",
            "Angola",
            "Colombia",
            "Bermuda",
            "Andorra",
            "Argentina",
            "Benin",
            "Ecuador",
            "Afghanistan",
            "Cabo Verde",
            "Belgium",
            "Antigua and Barbuda",
            "Cuba",
            "Belize",
            "Canada",
            "Cameroon",
            "Cook Islands",
            "Bulgaria",
            "Denmark",
            "Albania",
            "Dominica",
            "Croatia",
            "Djibouti",
            "Bahamas",
            "Côte d'Ivoire",
            "Bhutan",
            "China",
            "Burkina Faso",
            "Brazil"
           ],
           "locations": [
            "PSE",
            "FRO",
            "SDN",
            "PRY",
            "QAT",
            "LUX",
            "ARE",
            "JEY",
            "PNG",
            "MDV",
            "LCA",
            "VUT",
            "LBR",
            "USA",
            "FIN",
            "UZB",
            "MDA",
            "MAR",
            "MNG",
            "SPM",
            "FJI",
            "HND",
            "LBY",
            "MSR",
            "VCT",
            "IRQ",
            "LTU",
            "ZMB",
            "IRL",
            "FSM",
            "MDG",
            "TGO",
            "MRT",
            "PRT",
            "SYR",
            "THA",
            "SLV",
            "MDV",
            "MTQ",
            "MKD",
            "IDN",
            "EGY",
            "IND",
            "MLI",
            "POL",
            "TJK",
            "MHL",
            "PHL",
            "MLT",
            "GNQ",
            "MYS",
            "GBR",
            "PER",
            "MEX",
            "ETH",
            "HTI",
            "TZA",
            "MYT",
            "SWZ",
            "EST",
            "HUN",
            "SUR",
            "TCA",
            "PRI",
            "ERI",
            "IRN",
            "SWE",
            "ZWE",
            "ISL",
            "CHE",
            "MUS",
            "MWI",
            "FRA",
            "MMR",
            "LSO",
            "GRC",
            "KEN",
            "OMN",
            "SLE",
            "JPN",
            "KIR",
            "UGA",
            "NIC",
            "REU",
            "GIB",
            "NZL",
            "SGP",
            "JAM",
            "GIN",
            "PRK",
            "GHA",
            "SVK",
            "VNM",
            "WSM",
            "TUN",
            "SYC",
            "SAU",
            "TUV",
            "GLP",
            "MNP",
            "NOR",
            "STP",
            "SEN",
            "JOR",
            "NCL",
            "URY",
            "SRB",
            "GTM",
            "GRD",
            "VEN",
            "NGA",
            "KAZ",
            "NER",
            "GRL",
            "NIU",
            "MOZ",
            "SVN",
            "@@@",
            "PLW",
            "NAM",
            "LKA",
            "TON",
            "PYF",
            "LVA",
            "GUY",
            "ISR",
            "YEM",
            "GUF",
            "ROU",
            "UKR",
            "GUM",
            "SHN",
            "PAN",
            "KNA",
            "LBN",
            "GAB",
            "NRU",
            "RUS",
            "ESP",
            "KOR",
            "NLD",
            "TTO",
            "ITA",
            "GNB",
            "SLB",
            "KWT",
            "GEO",
            "DEU",
            "RWA",
            "SOM",
            "PAK",
            "VIR",
            "GMB",
            "ZAF",
            "KGZ",
            "NPL",
            "TUR",
            "@@@",
            "TKM",
            "LAO",
            "AZE",
            "MAC",
            "CAF",
            "BGD",
            "ARM",
            "AIA",
            "AUT",
            "BLR",
            "CZE",
            "ASM",
            "BRN",
            "CHL",
            "TCD",
            "CRI",
            "BOL",
            "ABW",
            "BHR",
            "BRB",
            "CYM",
            "BDI",
            "COD",
            "BIH",
            "DZA",
            "COG",
            "CYP",
            "HKG",
            "KHM",
            "VGB",
            "DOM",
            "AUS",
            "BWA",
            "COM",
            "AGO",
            "COL",
            "BMU",
            "AND",
            "ARG",
            "BEN",
            "ECU",
            "AFG",
            "CPV",
            "BEL",
            "ATG",
            "CUB",
            "BLZ",
            "CAN",
            "CMR",
            "COK",
            "BGR",
            "DNK",
            "ALB",
            "DMA",
            "HRV",
            "DJI",
            "BHS",
            "CIV",
            "BTN",
            "CHN",
            "BFA",
            "BRA"
           ],
           "name": "",
           "type": "choropleth",
           "z": [
            -0.7958800173440752,
            -0.6946486305533762,
            0.38435341413750623,
            1.715669978224824,
            0.9336897089578946,
            0.009450895798693935,
            1.5696781603355832,
            -0.5689580546641145,
            0.3622939379642311,
            -1.8239087409443189,
            -0.5914208745913325,
            -1.354479485094126,
            -0.6989700043360187,
            3.590788129578037,
            1.841716021249686,
            1.6560982020128319,
            0.05918461763137114,
            1.1295287738587763,
            0.4668676203541095,
            -1.3665315444204136,
            -0.15552841606476253,
            0.5029730590656315,
            1.1585735561722559,
            -1.8239087409443189,
            -1.048176964684088,
            1.5142554684373821,
            1.1314582601065253,
            0.8900855267163252,
            1.342600310415772,
            -1.045275209020937,
            -0.0792014846420444,
            -0.5058454059815573,
            -0.4405722002405102,
            1.6363574881325664,
            1.3582395081717715,
            1.989617985220527,
            0.5788683286660287,
            -1.031517051446065,
            0.05472678345734695,
            0.8365139988906715,
            1.9820178206726633,
            1.8140543849690525,
            2.7295308687665996,
            -0.12147820449879346,
            2.1526796447648864,
            1.1985746181472812,
            -1.099086932262331,
            1.616244388829242,
            0.2681097298084783,
            -1.3979400086720375,
            1.8141743190090023,
            2.5660271641407237,
            1.2798875023309868,
            2.282191456275556,
            0.2182728535714475,
            -0.15614457737683893,
            0.37675939540487985,
            -1.193820026016113,
            -0.34246611244201375,
            0.9174004679552507,
            1.5778593010073698,
            0.15830216922802254,
            -1.1931419704811832,
            1.3438613632886385,
            -0.6695862266508091,
            2.051758182006796,
            2.1899392549275127,
            0.8507074853745372,
            0.8566080684369362,
            1.8431704645198979,
            0.19975517725347472,
            0.07335170238690095,
            2.7208255375558594,
            0.6664243725187596,
            -0.41296288225654426,
            1.6957617761335109,
            0.6762362167633115,
            0.9249508889156106,
            -1.1372724716820253,
            3.0158947481993943,
            -1.889410289700751,
            0.14088498026586616,
            0.33203427702751803,
            0.19589965240923377,
            -0.9208187539523752,
            1.577687073553896,
            1.4808545713521346,
            0.8201357518704301,
            -0.08777794346758454,
            1.2695129442179163,
            0.7729814503449638,
            1.4534253712716652,
            1.3721568521719851,
            -1.0705810742857071,
            0.9789105771755716,
            -0.7577816797523876,
            2.062281069972644,
            -2.5686362358410126,
            0.09096307659573168,
            -0.4257371702929732,
            2.088904729758662,
            -1.5528419686577808,
            0.20303288701471064,
            0.8500945943867008,
            0.20951501454263097,
            0.8569100603007862,
            1.5238764756381313,
            0.7148325124333327,
            -0.9330408021328779,
            1.9062703777631957,
            1.2065290516827305,
            1.676675323156437,
            -0.8171575414413076,
            -0.5843590201038457,
            -2.5228787452803374,
            0.8868853589860086,
            1.12260902357599,
            2.2291005173766476,
            -1,
            0.0824263008607719,
            0.7913397039651394,
            -1.4710832997223453,
            -0.4377071355435253,
            0.6138418218760693,
            -0.06208610770047857,
            1.5934522193461094,
            0.49637605401240087,
            -0.36653154442041347,
            1.7050936105478731,
            2.235831337410518,
            0.27959850990456786,
            -2.17979854051436,
            0.6608654780038692,
            -0.880084589742009,
            1.0033312585613268,
            0.12319807503199871,
            -1.4814860601221125,
            2.9274863647474167,
            2.3190039829041016,
            2.375669099751273,
            1.9381192691943117,
            0.719911064198339,
            2.4243376115876285,
            -1.7958800173440752,
            -1.1469104701481345,
            1.499357113387459,
            0.8855308331880921,
            2.745309059940828,
            -0.8794260687941501,
            -0.5559552040819237,
            1.815591029298012,
            0.00860017176191757,
            -1.0222763947111522,
            2.3075217097346585,
            1.1502958128255383,
            0.16967443405880692,
            2.066102196766773,
            0.04688519083771014,
            0.9474337218870508,
            0.48597686126873224,
            1.2595222072161922,
            0.18525876529658514,
            -0.9706162223147904,
            1.1598678470925667,
            0.7571681922142726,
            -1.3979400086720375,
            1.784930955316871,
            1.4235080103454927,
            1.810864004196943,
            -0.790484985457369,
            0.4363217001397333,
            1.584218112117405,
            -1.0362121726544447,
            0.7907776013376938,
            0.5889436427400149,
            -0.13206134910921535,
            0.7749546890801385,
            -0.09582563171583647,
            -0.3925449767853314,
            -1,
            0.72607487021537,
            1.0066371590685863,
            1.391887391645515,
            -1.0132282657337552,
            0.4967913157000424,
            1.46976312459806,
            -0.48945498979338786,
            -1.0915149811213503,
            0.8851349660634339,
            2.309602490915291,
            0.045322978786657475,
            -1.5686362358410126,
            0.125481265700594,
            1.6448224896910306,
            -0.2596373105057561,
            -1.0969100130080565,
            1.9094329973690434,
            -1.1426675035687315,
            1.013174409878867,
            -0.1643094285075744,
            -0.9307760427029473,
            1.9269286571049995,
            -0.8538719643217619,
            1.1611283253624993,
            -0.7772835288524167,
            2.7627205659984932,
            0.5284024379536174,
            -1.6575773191777938,
            1.5826314394896364,
            1.5901728315963144,
            0.7321524180652138,
            -1.1307682802690238,
            1.1132412324325989,
            -0.744727494896694,
            0.20612396399185248,
            0.6839471307515121,
            0.25527250510330607,
            3.0931764496962484,
            -0.4438181533470888,
            2.524676472876533
           ]
          }
         ],
         "name": "1999"
        },
        {
         "data": [
          {
           "coloraxis": "coloraxis",
           "customdata": [
            [
             31.9
            ],
            [
             0.41
            ],
            [
             0.0934
            ],
            [
             0.09
            ],
            [
             210.224
            ],
            [
             1355.6
            ],
            [
             0.296
            ],
            [
             1.172
            ],
            [
             14.727
            ],
            [
             2.45
            ],
            [
             0.003
            ],
            [
             348.909
            ],
            [
             7.424
            ],
            [
             121.383
            ],
            [
             0.032
            ],
            [
             4.813
            ],
            [
             32.323
            ],
            [
             576.543
            ],
            [
             61.257
            ],
            [
             0.137
            ],
            [
             0.18958
            ],
            [
             0.43
            ],
            [
             89.631
            ],
            [
             36.053
            ],
            [
             1.121
            ],
            [
             0.275
            ],
            [
             40.925
            ],
            [
             42.661
            ],
            [
             0.0145
            ],
            [
             539.954
            ],
            [
             0.0432
            ],
            [
             1.659
            ],
            [
             0.2
            ],
            [
             5.459
            ],
            [
             0.807
            ],
            [
             0.029
            ],
            [
             69.968
            ],
            [
             89.2
            ],
            [
             0.4697
            ],
            [
             106.1249
            ],
            [
             5.958
            ],
            [
             145.266
            ],
            [
             0.084
            ],
            [
             67.52
            ],
            [
             0.917
            ],
            [
             1.315
            ],
            [
             6.017
            ],
            [
             0.0428
            ],
            [
             14.247
            ],
            [
             15.496
            ],
            [
             25.217
            ],
            [
             39.247
            ],
            [
             6.811
            ],
            [
             0.435
            ],
            [
             0.095
            ],
            [
             1.645
            ],
            [
             2.842
            ],
            [
             0.7766
            ],
            [
             23.977
            ],
            [
             0.125
            ],
            [
             142.982
            ],
            [
             6.048
            ],
            [
             15.032
            ],
            [
             126.191
            ],
            [
             45.327
            ],
            [
             1.671
            ],
            [
             3.659
            ],
            [
             19.4
            ],
            [
             19.922314
            ],
            [
             1.9414
            ],
            [
             26.095
            ],
            [
             34.14
            ],
            [
             0.441
            ],
            [
             290.126
            ],
            [
             0.1875
            ],
            [
             6.91
            ],
            [
             0.0947
            ],
            [
             53.4824
            ],
            [
             84.012
            ],
            [
             1.235
            ],
            [
             0.8828467000000001
            ],
            [
             0.0261
            ],
            [
             11.281
            ],
            [
             0.89762
            ],
            [
             0.02507
            ],
            [
             0.084
            ],
            [
             51.934
            ],
            [
             877.766
            ],
            [
             9.134
            ],
            [
             1.226
            ],
            [
             0.603
            ],
            [
             0.113
            ],
            [
             21.814
            ],
            [
             0.913
            ],
            [
             1.758
            ],
            [
             0.547
            ],
            [
             0.0932
            ],
            [
             43.764
            ],
            [
             145.184
            ],
            [
             1.81
            ],
            [
             18.699
            ],
            [
             3.88
            ],
            [
             0.787
            ],
            [
             65.76
            ],
            [
             224.472
            ],
            [
             73.466
            ],
            [
             0.025
            ],
            [
             560.842
            ],
            [
             6.9692
            ],
            [
             184.852
            ],
            [
             9.111
            ],
            [
             1.7048
            ],
            [
             0.007
            ],
            [
             1.027
            ],
            [
             0.1484
            ],
            [
             11.424
            ],
            [
             99.511
            ],
            [
             7.224
            ],
            [
             0.104
            ],
            [
             0.2767
            ],
            [
             53.843
            ],
            [
             35.191
            ],
            [
             210.67
            ],
            [
             10.429
            ],
            [
             31.665
            ],
            [
             31.158
            ],
            [
             69.21
            ],
            [
             2.373
            ],
            [
             0.1307
            ],
            [
             3.37
            ],
            [
             1.169
            ],
            [
             4.887
            ],
            [
             13.624
            ],
            [
             31.329
            ],
            [
             0.107
            ],
            [
             15.771
            ],
            [
             0.0682
            ],
            [
             7.684
            ],
            [
             0.2631
            ],
            [
             0.25
            ],
            [
             0.107
            ],
            [
             6.297
            ],
            [
             10.095
            ],
            [
             2.288
            ],
            [
             8.513
            ],
            [
             205.675
            ],
            [
             0.21
            ],
            [
             0.0028
            ],
            [
             1.571
            ],
            [
             0.0152
            ],
            [
             3.851
            ],
            [
             6.631
            ],
            [
             4.2411875
            ],
            [
             5.118
            ],
            [
             377.069
            ],
            [
             51.635
            ],
            [
             4.738
            ],
            [
             3.413
            ],
            [
             171.445
            ],
            [
             0.0754
            ],
            [
             0.0458
            ],
            [
             1.689
            ],
            [
             7.588
            ],
            [
             0.089
            ],
            [
             46.864
            ],
            [
             1058.548
            ],
            [
             0.3716
            ],
            [
             26.561
            ],
            [
             605.707
            ],
            [
             0.213
            ],
            [
             0.0503
            ],
            [
             0.0451
            ],
            [
             25.412
            ],
            [
             1.445
            ],
            [
             0.326
            ],
            [
             0.0877
            ],
            [
             0.101
            ],
            [
             7.798
            ],
            [
             13.715
            ],
            [
             85.211
            ],
            [
             39.944
            ],
            [
             0.085
            ],
            [
             40.078
            ],
            [
             1.777
            ],
            [
             8.538
            ],
            [
             1.5822
            ],
            [
             43.943
            ],
            [
             8.849
            ],
            [
             4.136
            ],
            [
             0.077
            ],
            [
             7.375
            ],
            [
             0.012
            ],
            [
             0.08
            ],
            [
             10.612
            ],
            [
             2.479
            ],
            [
             3.48
            ],
            [
             0.176
            ],
            [
             9.85
            ],
            [
             15.983
            ],
            [
             9.757
            ],
            [
             0.169
            ],
            [
             2.93
            ],
            [
             124.922
            ],
            [
             0.6877
            ],
            [
             6.995
            ],
            [
             0.15
            ],
            [
             0.14642
            ],
            [
             4.323
            ],
            [
             276.641
            ],
            [
             0.033
            ],
            [
             4052.667
            ],
            [
             70.337
            ],
            [
             1.140939
            ],
            [
             0.387
            ],
            [
             1.917
            ],
            [
             0.18
            ],
            [
             1.414
            ],
            [
             0.3904
            ],
            [
             1.03
            ],
            [
             0.687989
            ]
           ],
           "geo": "geo",
           "hovertemplate": "<b>%{hovertext}</b><br><br>year=2000<br>ISO=%{location}<br>Electric_Energy_Production=%{customdata[0]}<br>color=%{z}<extra></extra>",
           "hovertext": [
            "Iraq",
            "Northern Mariana Islands",
            "St. Vincent-Grenadines",
            "Gambia",
            "Australia",
            "China",
            "Congo",
            "Suriname",
            "Nigeria",
            "Sudan (former)",
            "Niue",
            "Brazil",
            "Georgia",
            "Iran (Islamic Rep. of)",
            "State of Palestine",
            "Côte d'Ivoire",
            "Kuwait",
            "Germany",
            "Austria",
            "Belize",
            "Niger",
            "French Guiana",
            "Netherlands",
            "Denmark",
            "Neth. Antilles (former)",
            "Togo",
            "Bulgaria",
            "Israel",
            "Kiribati",
            "France",
            "Tonga",
            "Nepal",
            "Liberia",
            "Trinidad and Tobago",
            "Mali",
            "Comoros",
            "Finland",
            "Argentina",
            "Swaziland",
            "Thailand",
            "Armenia",
            "Sweden",
            "British Virgin Islands",
            "Switzerland",
            "Republic of Moldova",
            "Gabon",
            "Dem. Rep. of the Congo",
            "St. Pierre-Miquelon",
            "Tajikistan",
            "Libya",
            "Syrian Arab Republic",
            "New Zealand",
            "T.F.Yug.Rep. Macedonia",
            "French Polynesia",
            "Chad",
            "New Caledonia",
            "Brunei Darussalam",
            "Aruba",
            "Ireland",
            "Gibraltar",
            "Norway",
            "Guatemala",
            "Cuba",
            "Saudi Arabia",
            "Philippines",
            "Senegal",
            "Honduras",
            "Korea, Dem.Ppl's.Rep.",
            "Peru",
            "Guam",
            "Belarus",
            "Serbia and Montenegro",
            "Cayman Islands",
            "Korea, Republic of",
            "Seychelles",
            "Costa Rica",
            "Sierra Leone",
            "Paraguay",
            "Belgium",
            "Guadeloupe",
            "Madagascar",
            "Sao Tome and Principe",
            "Croatia",
            "Guyana",
            "Guinea-Bissau",
            "Benin",
            "Romania",
            "Russian Federation",
            "Qatar",
            "Malawi",
            "Bermuda",
            "Rwanda",
            "Puerto Rico",
            "Guinea",
            "Réunion",
            "Haiti",
            "Samoa",
            "Portugal",
            "Poland",
            "Bhutan",
            "Azerbaijan",
            "Bolivia (Plur. State of)",
            "Barbados",
            "Pakistan",
            "Spain",
            "Czechia",
            "Cook Islands",
            "India",
            "Sri Lanka",
            "Other Asia",
            "Oman",
            "Bahamas",
            "St. Helena and Depend.",
            "Botswana",
            "St. Kitts-Nevis",
            "Lithuania",
            "Indonesia",
            "Ghana",
            "Maldives",
            "St. Lucia",
            "Greece",
            "Hungary",
            "South Africa",
            "Bosnia and Herzegovina",
            "Singapore",
            "Slovakia",
            "Malaysia",
            "Papua New Guinea",
            "Grenada",
            "Cyprus",
            "Luxembourg",
            "Panama",
            "Slovenia",
            "China, Hong Kong SAR",
            "Central African Rep.",
            "Bangladesh",
            "Solomon Islands",
            "Iceland",
            "Greenland",
            "Somalia",
            "Palau",
            "Bahrain",
            "Tunisia",
            "Nicaragua",
            "Estonia",
            "Mexico",
            "Eritrea",
            "Tuvalu",
            "China, Macao SAR",
            "Falkland Is. (Malvinas)",
            "El Salvador",
            "Jamaica",
            "Lao People's Dem. Rep.",
            "Myanmar",
            "United Kingdom",
            "Kazakhstan",
            "Albania",
            "Yemen",
            "Ukraine",
            "Turks and Caicos Islands",
            "Anguilla",
            "Ethiopia",
            "Uruguay",
            "Micronesia (Fed. States of)",
            "Uzbekistan",
            "Japan",
            "Lesotho",
            "Viet Nam",
            "Canada",
            "Faeroe Islands",
            "Equatorial Guinea",
            "Vanuatu",
            "Algeria",
            "Angola",
            "Cambodia",
            "Marshall Islands",
            "Burundi",
            "Zambia",
            "Morocco",
            "Venezuela (Bolivar. Rep.)",
            "United Arab Emirates",
            "Mayotte",
            "Chile",
            "Mauritius",
            "Dominican Republic",
            "Uganda",
            "Colombia",
            "Mozambique",
            "Latvia",
            "Dominica",
            "Jordan",
            "Montserrat",
            "Andorra",
            "Ecuador",
            "United Rep. of Tanzania",
            "Cameroon",
            "Jersey",
            "Turkmenistan",
            "Kyrgyzstan",
            "Lebanon",
            "American Samoa",
            "Mongolia",
            "Turkey",
            "Afghanistan",
            "Zimbabwe",
            "Antigua and Barbuda",
            "Cabo Verde",
            "Kenya",
            "Italy",
            "Nauru",
            "United States",
            "Egypt",
            "Martinique",
            "Mauritania",
            "Malta",
            "Djibouti",
            "Namibia",
            "Burkina Faso",
            "United States Virgin Is.",
            "Fiji"
           ],
           "locations": [
            "IRQ",
            "MNP",
            "VCT",
            "GMB",
            "AUS",
            "CHN",
            "COG",
            "SUR",
            "NGA",
            "SDN",
            "NIU",
            "BRA",
            "GEO",
            "IRN",
            "PSE",
            "CIV",
            "KWT",
            "DEU",
            "AUT",
            "BLZ",
            "NER",
            "GUF",
            "NLD",
            "DNK",
            "@@@",
            "TGO",
            "BGR",
            "ISR",
            "KIR",
            "FRA",
            "TON",
            "NPL",
            "LBR",
            "TTO",
            "MLI",
            "COM",
            "FIN",
            "ARG",
            "SWZ",
            "THA",
            "ARM",
            "SWE",
            "VGB",
            "CHE",
            "MDA",
            "GAB",
            "COD",
            "SPM",
            "TJK",
            "LBY",
            "SYR",
            "NZL",
            "MKD",
            "PYF",
            "TCD",
            "NCL",
            "BRN",
            "ABW",
            "IRL",
            "GIB",
            "NOR",
            "GTM",
            "CUB",
            "SAU",
            "PHL",
            "SEN",
            "HND",
            "PRK",
            "PER",
            "GUM",
            "BLR",
            "SRB",
            "CYM",
            "KOR",
            "SYC",
            "CRI",
            "SLE",
            "PRY",
            "BEL",
            "GLP",
            "MDG",
            "STP",
            "HRV",
            "GUY",
            "GNB",
            "BEN",
            "ROU",
            "RUS",
            "QAT",
            "MWI",
            "BMU",
            "RWA",
            "PRI",
            "GIN",
            "REU",
            "HTI",
            "WSM",
            "PRT",
            "POL",
            "BTN",
            "AZE",
            "BOL",
            "BRB",
            "PAK",
            "ESP",
            "CZE",
            "COK",
            "IND",
            "LKA",
            "@@@",
            "OMN",
            "BHS",
            "SHN",
            "BWA",
            "KNA",
            "LTU",
            "IDN",
            "GHA",
            "MDV",
            "LCA",
            "GRC",
            "HUN",
            "ZAF",
            "BIH",
            "SGP",
            "SVK",
            "MYS",
            "PNG",
            "GRD",
            "CYP",
            "LUX",
            "PAN",
            "SVN",
            "HKG",
            "CAF",
            "BGD",
            "SLB",
            "ISL",
            "GRL",
            "SOM",
            "PLW",
            "BHR",
            "TUN",
            "NIC",
            "EST",
            "MEX",
            "ERI",
            "TUV",
            "MAC",
            "MDV",
            "SLV",
            "JAM",
            "LAO",
            "MMR",
            "GBR",
            "KAZ",
            "ALB",
            "YEM",
            "UKR",
            "TCA",
            "AIA",
            "ETH",
            "URY",
            "FSM",
            "UZB",
            "JPN",
            "LSO",
            "VNM",
            "CAN",
            "FRO",
            "GNQ",
            "VUT",
            "DZA",
            "AGO",
            "KHM",
            "MHL",
            "BDI",
            "ZMB",
            "MAR",
            "VEN",
            "ARE",
            "MYT",
            "CHL",
            "MUS",
            "DOM",
            "UGA",
            "COL",
            "MOZ",
            "LVA",
            "DMA",
            "JOR",
            "MSR",
            "AND",
            "ECU",
            "TZA",
            "CMR",
            "JEY",
            "TKM",
            "KGZ",
            "LBN",
            "ASM",
            "MNG",
            "TUR",
            "AFG",
            "ZWE",
            "ATG",
            "CPV",
            "KEN",
            "ITA",
            "NRU",
            "USA",
            "EGY",
            "MTQ",
            "MRT",
            "MLT",
            "DJI",
            "NAM",
            "BFA",
            "VIR",
            "FJI"
           ],
           "name": "",
           "type": "choropleth",
           "z": [
            1.503790683057181,
            -0.38721614328026455,
            -1.0296531237699067,
            -1.0457574905606752,
            2.322682295291528,
            3.1321315601653406,
            -0.5287082889410615,
            0.06892761168207182,
            1.1681142868195318,
            0.3891660843645325,
            -2.5228787452803374,
            2.542712172084756,
            0.8706379632108057,
            2.0841578669437473,
            -1.494850021680094,
            0.6824158616773585,
            1.5095116622195495,
            2.7608317035930825,
            1.787155723855652,
            -0.8632794328435932,
            -0.7222074810685581,
            -0.36653154442041347,
            1.9524582418102832,
            1.5569414085627211,
            0.04960561259497315,
            -0.5606673061697374,
            1.611988688083979,
            1.6300310313616941,
            -1.8386319977650252,
            2.7323567627912806,
            -1.3645162531850878,
            0.2198463860243607,
            -0.6989700043360187,
            0.7371130943059612,
            -0.09312646527792956,
            -1.537602002101044,
            1.8448994600007818,
            1.9503648543761232,
            -0.3281794398167511,
            2.0258172940226227,
            0.7751004988790248,
            2.1621639780952164,
            -1.0757207139381184,
            1.8294324336175987,
            -0.03763066432997889,
            0.11892575282577665,
            0.7793800114916558,
            -1.368556230986828,
            1.1537234243016807,
            1.1902196077110545,
            1.4016934184407528,
            1.5938064653299344,
            0.8332108802826087,
            -0.3615107430453627,
            -1.0222763947111522,
            0.2161659022859931,
            0.45362407359145096,
            -0.10980261378997122,
            1.3797948432769818,
            -0.9030899869919435,
            2.1552813675859466,
            0.7816117824931501,
            1.1770167670924692,
            2.1010283819309588,
            1.656356975918143,
            0.22297644989339135,
            0.5633624094866074,
            1.287801729930226,
            1.2993397808279097,
            0.2881150252881032,
            1.4165573011914792,
            1.5332635167787148,
            -0.35556141053216145,
            2.4625866503833485,
            -0.7269987279362623,
            0.8394780473741984,
            -1.0236500209967265,
            1.7282108878077793,
            1.9243413236995706,
            0.09166695759568456,
            -0.05411470199896644,
            -1.583359492661719,
            1.0523475992246638,
            -0.046907479402450845,
            -1.6008456660417836,
            -1.0757207139381184,
            1.715451773606542,
            2.9433787545696064,
            0.9606610072709818,
            0.08849047018239622,
            -0.2196826878598487,
            -0.9469215565165803,
            1.3387353087995182,
            -0.039529222465701036,
            0.24501887073775308,
            -0.2620126736665692,
            -1.0305840876460186,
            1.6411170093614063,
            2.1619187575859224,
            0.2576785748691845,
            1.271818381611661,
            0.5888317255942073,
            -0.10402526764093542,
            1.817961804531994,
            2.3511621760570303,
            1.8660863944759434,
            -1.6020599913279623,
            2.748840529361662,
            0.8431829279508124,
            2.2668241537690927,
            0.9595660466379277,
            0.2316734367061456,
            -2.154901959985743,
            0.01157044359727816,
            -0.8285660990569917,
            1.0578181944320992,
            1.997871090547252,
            0.8587777373054494,
            -0.9829666607012196,
            -0.557990840859048,
            1.7311292497142172,
            1.5464316080773433,
            2.3236026952564894,
            1.0182426674579095,
            1.5005794923633375,
            1.4935695729787,
            1.840168849240756,
            0.375297738217339,
            -0.8837244124194557,
            0.5276299008713387,
            0.06781451116184012,
            0.6890423390281718,
            1.1343046349545447,
            1.4959465327236132,
            -0.9706162223147904,
            1.1978592317380876,
            -1.1662156253435212,
            0.885587356189656,
            -0.5798791519142971,
            -0.6020599913279624,
            -0.9706162223147904,
            0.7991336933020629,
            1.004106323279658,
            0.35945602012098654,
            0.9300826333923712,
            2.313181505978232,
            -0.6777807052660807,
            -2.5528419686577806,
            0.1961761850399733,
            -1.8181564120552274,
            0.5855735186227311,
            0.8215790279120089,
            0.6274874727462796,
            0.7091002815511667,
            2.5764208291907,
            1.7129441813569348,
            0.6755950563867463,
            0.5331362882786388,
            2.234124823927058,
            -1.122628654130226,
            -1.3391345219961308,
            0.22762964957100867,
            0.8801273222166249,
            -1.0506099933550872,
            1.6708393543375235,
            3.0247105559430443,
            -0.4299242946783959,
            1.4242444218370336,
            2.7822625927219224,
            -0.6716203965612623,
            -1.2984320149440727,
            -1.3458234581220394,
            1.4050388466632242,
            0.15986784709256668,
            -0.48678239993206096,
            -1.0570004066339596,
            -0.9956786262173574,
            0.891983230851967,
            1.1371958119405483,
            1.9304956620312261,
            1.6014515530470534,
            -1.0705810742857071,
            1.6029060409371356,
            0.2496874278053015,
            0.931356150467928,
            0.19926138017707798,
            1.642889702993472,
            0.9468941951023268,
            0.6165805300858861,
            -1.1135092748275182,
            0.8677620246502006,
            -1.9208187539523751,
            -1.0969100130080565,
            1.0257972413102916,
            0.39427652676782143,
            0.541579243946581,
            -0.7544873321858502,
            0.9934362304976118,
            1.2036582994562466,
            0.9893163049899514,
            -0.7721132953863264,
            0.4668676203541095,
            2.0966389286642344,
            -0.1626009756579775,
            0.8447877188278464,
            -0.8239087409443188,
            -0.8343995974825885,
            0.6357852355336517,
            2.441916545817416,
            -1.4814860601221125,
            3.60774092004964,
            1.8471838409324381,
            0.057262425600005704,
            -0.4122890349810886,
            0.2826221128780626,
            -0.744727494896694,
            0.1504494094608806,
            -0.4084901910053458,
            0.012837224705172217,
            -0.16241850548177286
           ]
          }
         ],
         "name": "2000"
        },
        {
         "data": [
          {
           "coloraxis": "coloraxis",
           "customdata": [
            [
             0.276
            ],
            [
             68.141
            ],
            [
             3.551
            ],
            [
             9.25
            ],
            [
             10.638
            ],
            [
             188.531
            ],
            [
             10.167
            ],
            [
             26.624
            ],
            [
             6.779
            ],
            [
             0.14254
            ],
            [
             210.1
            ],
            [
             0.126
            ],
            [
             2.687
            ],
            [
             1.62
            ],
            [
             0.046
            ],
            [
             10.854
            ],
            [
             32.429
            ],
            [
             4.279
            ],
            [
             5.124
            ],
            [
             47.5
            ],
            [
             213.988
            ],
            [
             0.171
            ],
            [
             8.033
            ],
            [
             0.233
            ],
            [
             236.043
            ],
            [
             0.026
            ],
            [
             71.384
            ],
            [
             0.1
            ],
            [
             6.8009
            ],
            [
             0.0629
            ],
            [
             0.0902
            ],
            [
             0.0937
            ],
            [
             0.11
            ],
            [
             0.108
            ],
            [
             1.03
            ],
            [
             579.12
            ],
            [
             53.704
            ],
            [
             17.021
            ],
            [
             14.466
            ],
            [
             0.261
            ],
            [
             6.941
            ],
            [
             7.544
            ],
            [
             0.615
            ],
            [
             0.139
            ],
            [
             0.465
            ],
            [
             76.808
            ],
            [
             4.831
            ],
            [
             1.872
            ],
            [
             0.964
            ],
            [
             46.509
            ],
            [
             0.1099
            ],
            [
             0.594
            ],
            [
             145.616
            ],
            [
             0.9459388
            ],
            [
             0.4448
            ],
            [
             79.821
            ],
            [
             7.943
            ],
            [
             55.35
            ],
            [
             1.309
            ],
            [
             0.091004
            ],
            [
             12.809
            ],
            [
             0.091
            ],
            [
             0.066
            ],
            [
             0.024898
            ],
            [
             7.906
            ],
            [
             0.6911
            ],
            [
             22.302
            ],
            [
             53.866
            ],
            [
             1.2504
            ],
            [
             3.541
            ],
            [
             891.284
            ],
            [
             9.951
            ],
            [
             11.05
            ],
            [
             42.531
            ],
            [
             0.919
            ],
            [
             32.046
            ],
            [
             0.0264
            ],
            [
             2.0594
            ],
            [
             0.1919
            ],
            [
             45.309
            ],
            [
             74.647
            ],
            [
             310.958
            ],
            [
             90.117
            ],
            [
             0.1387
            ],
            [
             1.91
            ],
            [
             1.24
            ],
            [
             10.307
            ],
            [
             36.415
            ],
            [
             0.827
            ],
            [
             0.093
            ],
            [
             33.089
            ],
            [
             3.98
            ],
            [
             0.28
            ],
            [
             3.643
            ],
            [
             35.13
            ],
            [
             25.042
            ],
            [
             4.195484400000001
            ],
            [
             5.856
            ],
            [
             15.3
            ],
            [
             47.059
            ],
            [
             0.017
            ],
            [
             133.674
            ],
            [
             3.692
            ],
            [
             3.908
            ],
            [
             3.917
            ],
            [
             20.2
            ],
            [
             1.566
            ],
            [
             20.948
            ],
            [
             1.9477
            ],
            [
             30.608
            ],
            [
             1.906
            ],
            [
             9.737
            ],
            [
             0.171
            ],
            [
             2.473
            ],
            [
             6.362
            ],
            [
             0.566
            ],
            [
             0.0126
            ],
            [
             0.0157
            ],
            [
             26.712
            ],
            [
             6.656
            ],
            [
             0.003
            ],
            [
             24.956
            ],
            [
             11.885
            ],
            [
             72.422
            ],
            [
             39.572
            ],
            [
             5.995
            ],
            [
             589.891
            ],
            [
             1.407
            ],
            [
             1.729
            ],
            [
             1.6192
            ],
            [
             8.483
            ],
            [
             16.111
            ],
            [
             0.087
            ],
            [
             15.615
            ],
            [
             161.617
            ],
            [
             1.638
            ],
            [
             0.1678
            ],
            [
             0.5063
            ],
            [
             0.117
            ],
            [
             0.232
            ],
            [
             0.147
            ],
            [
             32.251
            ],
            [
             224.635
            ],
            [
             172.972
            ],
            [
             0.8083
            ],
            [
             1.235
            ],
            [
             4.689
            ],
            [
             0.08
            ],
            [
             0.925
            ],
            [
             74.483
            ],
            [
             0.031
            ],
            [
             0.03
            ],
            [
             5.644
            ],
            [
             122.725
            ],
            [
             279.009
            ],
            [
             1.867
            ],
            [
             0.039
            ],
            [
             37.729
            ],
            [
             10.613
            ],
            [
             549.53
            ],
            [
             43.951
            ],
            [
             90.324
            ],
            [
             0.1
            ],
            [
             0.2
            ],
            [
             1.394
            ],
            [
             0.168
            ],
            [
             0.725986
            ],
            [
             14.936
            ],
            [
             1.095
            ],
            [
             0.19
            ],
            [
             93.663
            ],
            [
             0.3655
            ],
            [
             0.594
            ],
            [
             114.3968
            ],
            [
             2.91
            ],
            [
             14.382
            ],
            [
             0.0536
            ],
            [
             5.745
            ],
            [
             43.969
            ],
            [
             0.335
            ],
            [
             1.272
            ],
            [
             328.509
            ],
            [
             0.003
            ],
            [
             0.2865
            ],
            [
             14.737
            ],
            [
             15.462
            ],
            [
             2.015
            ],
            [
             0.1595
            ],
            [
             1040.013
            ],
            [
             1.0346
            ],
            [
             62.449
            ],
            [
             2.753
            ],
            [
             4.903
            ],
            [
             0.08
            ],
            [
             384.79
            ],
            [
             101.647
            ],
            [
             7.864
            ],
            [
             18.969
            ],
            [
             3.017
            ],
            [
             0.0988
            ],
            [
             0.012
            ],
            [
             0.0355
            ],
            [
             1471.657
            ],
            [
             130.199
            ],
            [
             1.7695
            ],
            [
             1.943
            ],
            [
             2.56
            ],
            [
             0.373
            ],
            [
             0.16533
            ],
            [
             34.299
            ],
            [
             0.1165
            ],
            [
             0.0809
            ],
            [
             43.684
            ],
            [
             0.0428
            ],
            [
             586.406
            ],
            [
             43.172
            ],
            [
             0.4234
            ],
            [
             0.00726
            ],
            [
             6.937
            ],
            [
             3865.307
            ],
            [
             121.89
            ]
           ],
           "geo": "geo",
           "hovertemplate": "<b>%{hovertext}</b><br><br>year=2001<br>ISO=%{location}<br>Electric_Energy_Production=%{customdata[0]}<br>color=%{z}<extra></extra>",
           "hovertext": [
            "Greenland",
            "Pakistan",
            "Cyprus",
            "Uruguay",
            "Bosnia and Herzegovina",
            "Other Asia",
            "Lebanon",
            "Algeria",
            "Bahrain",
            "Grenada",
            "South Africa",
            "Gibraltar",
            "Papua New Guinea",
            "Luxembourg",
            "Vanuatu",
            "Tunisia",
            "China, Hong Kong SAR",
            "Latvia",
            "Panama",
            "Uzbekistan",
            "Mexico",
            "American Samoa",
            "Iceland",
            "Eritrea",
            "Spain",
            "Cook Islands",
            "Malaysia",
            "Mayotte",
            "Sri Lanka",
            "Solomon Islands",
            "Micronesia (Fed. States of)",
            "Jersey",
            "Palau",
            "Central African Rep.",
            "United States Virgin Is.",
            "India",
            "Greece",
            "Bangladesh",
            "Slovenia",
            "Somalia",
            "Costa Rica",
            "Jordan",
            "Bermuda",
            "Belize",
            "Cayman Islands",
            "Egypt",
            "Kenya",
            "Réunion",
            "Guinea",
            "Portugal",
            "Samoa",
            "Haiti",
            "Poland",
            "Madagascar",
            "Mauritania",
            "Belgium",
            "Zambia",
            "Kazakhstan",
            "Martinique",
            "Rwanda",
            "Croatia",
            "Marshall Islands",
            "Benin",
            "Guinea-Bissau",
            "Zimbabwe",
            "Afghanistan",
            "Puerto Rico",
            "Romania",
            "Malawi",
            "Cameroon",
            "Russian Federation",
            "Qatar",
            "Ecuador",
            "Chile",
            "Guyana",
            "Slovakia",
            "Sao Tome and Principe",
            "Bhutan",
            "Seychelles",
            "Paraguay",
            "Czechia",
            "Korea, Republic of",
            "Venezuela (Bolivar. Rep.)",
            "Sierra Leone",
            "Mauritius",
            "Guadeloupe",
            "Dominican Republic",
            "Hungary",
            "Barbados",
            "Equatorial Guinea",
            "Singapore",
            "Bolivia (Plur. State of)",
            "Cambodia",
            "Yemen",
            "Serbia and Montenegro",
            "Belarus",
            "Lao People's Dem. Rep.",
            "Guatemala",
            "Cuba",
            "Philippines",
            "Wallis and Futuna Is.",
            "Saudi Arabia",
            "Albania",
            "El Salvador",
            "Honduras",
            "Korea, Dem.Ppl's.Rep.",
            "China, Macao SAR",
            "Peru",
            "Guam",
            "Viet Nam",
            "Senegal",
            "Oman",
            "Antigua and Barbuda",
            "Nicaragua",
            "T.F.Yug.Rep. Macedonia",
            "French Polynesia",
            "Kiribati",
            "Falkland Is. (Malvinas)",
            "Syrian Arab Republic",
            "Jamaica",
            "Tuvalu",
            "Ireland",
            "Mozambique",
            "Switzerland",
            "New Zealand",
            "Dem. Rep. of the Congo",
            "Canada",
            "Gabon",
            "New Caledonia",
            "Uganda",
            "Estonia",
            "Libya",
            "British Virgin Islands",
            "Morocco",
            "Sweden",
            "Angola",
            "Niger",
            "Swaziland",
            "Burundi",
            "Faeroe Islands",
            "Gambia",
            "Iraq",
            "Australia",
            "Ukraine",
            "Aruba",
            "Suriname",
            "Myanmar",
            "Turks and Caicos Islands",
            "Mali",
            "Finland",
            "Comoros",
            "Nauru",
            "Trinidad and Tobago",
            "Turkey",
            "Italy",
            "Nepal",
            "Tonga",
            "Denmark",
            "Turkmenistan",
            "France",
            "Israel",
            "Argentina",
            "Chad",
            "Liberia",
            "Namibia",
            "Togo",
            "Fiji",
            "Kyrgyzstan",
            "Neth. Antilles (former)",
            "Djibouti",
            "Netherlands",
            "Burkina Faso",
            "French Guiana",
            "Thailand",
            "Brunei Darussalam",
            "Tajikistan",
            "Anguilla",
            "Armenia",
            "Bulgaria",
            "Congo",
            "Republic of Moldova",
            "Brazil",
            "Niue",
            "St. Lucia",
            "Lithuania",
            "Nigeria",
            "Ethiopia",
            "St. Kitts-Nevis",
            "Japan",
            "Botswana",
            "Austria",
            "United Rep. of Tanzania",
            "Côte d'Ivoire",
            "Andorra",
            "United Kingdom",
            "Indonesia",
            "Ghana",
            "Azerbaijan",
            "Mongolia",
            "St. Vincent-Grenadines",
            "Montserrat",
            "State of Palestine",
            "China",
            "Iran (Islamic Rep. of)",
            "Bahamas",
            "Malta",
            "Sudan (former)",
            "Lesotho",
            "Cabo Verde",
            "Kuwait",
            "Maldives",
            "Dominica",
            "Colombia",
            "St. Pierre-Miquelon",
            "Germany",
            "United Arab Emirates",
            "Northern Mariana Islands",
            "St. Helena and Depend.",
            "Georgia",
            "United States",
            "Norway"
           ],
           "locations": [
            "GRL",
            "PAK",
            "CYP",
            "URY",
            "BIH",
            "@@@",
            "LBN",
            "DZA",
            "BHR",
            "GRD",
            "ZAF",
            "GIB",
            "PNG",
            "LUX",
            "VUT",
            "TUN",
            "HKG",
            "LVA",
            "PAN",
            "UZB",
            "MEX",
            "ASM",
            "ISL",
            "ERI",
            "ESP",
            "COK",
            "MYS",
            "MYT",
            "LKA",
            "SLB",
            "FSM",
            "JEY",
            "PLW",
            "CAF",
            "VIR",
            "IND",
            "GRC",
            "BGD",
            "SVN",
            "SOM",
            "CRI",
            "JOR",
            "BMU",
            "BLZ",
            "CYM",
            "EGY",
            "KEN",
            "REU",
            "GIN",
            "PRT",
            "WSM",
            "HTI",
            "POL",
            "MDG",
            "MRT",
            "BEL",
            "ZMB",
            "KAZ",
            "MTQ",
            "RWA",
            "HRV",
            "MHL",
            "BEN",
            "GNB",
            "ZWE",
            "AFG",
            "PRI",
            "ROU",
            "MWI",
            "CMR",
            "RUS",
            "QAT",
            "ECU",
            "CHL",
            "GUY",
            "SVK",
            "STP",
            "BTN",
            "SYC",
            "PRY",
            "CZE",
            "KOR",
            "VEN",
            "SLE",
            "MUS",
            "GLP",
            "DOM",
            "HUN",
            "BRB",
            "GNQ",
            "SGP",
            "BOL",
            "KHM",
            "YEM",
            "SRB",
            "BLR",
            "LAO",
            "GTM",
            "CUB",
            "PHL",
            "WLF",
            "SAU",
            "ALB",
            "SLV",
            "HND",
            "PRK",
            "MAC",
            "PER",
            "GUM",
            "VNM",
            "SEN",
            "OMN",
            "ATG",
            "NIC",
            "MKD",
            "PYF",
            "KIR",
            "MDV",
            "SYR",
            "JAM",
            "TUV",
            "IRL",
            "MOZ",
            "CHE",
            "NZL",
            "COD",
            "CAN",
            "GAB",
            "NCL",
            "UGA",
            "EST",
            "LBY",
            "VGB",
            "MAR",
            "SWE",
            "AGO",
            "NER",
            "SWZ",
            "BDI",
            "FRO",
            "GMB",
            "IRQ",
            "AUS",
            "UKR",
            "ABW",
            "SUR",
            "MMR",
            "TCA",
            "MLI",
            "FIN",
            "COM",
            "NRU",
            "TTO",
            "TUR",
            "ITA",
            "NPL",
            "TON",
            "DNK",
            "TKM",
            "FRA",
            "ISR",
            "ARG",
            "TCD",
            "LBR",
            "NAM",
            "TGO",
            "FJI",
            "KGZ",
            "@@@",
            "DJI",
            "NLD",
            "BFA",
            "GUF",
            "THA",
            "BRN",
            "TJK",
            "AIA",
            "ARM",
            "BGR",
            "COG",
            "MDA",
            "BRA",
            "NIU",
            "LCA",
            "LTU",
            "NGA",
            "ETH",
            "KNA",
            "JPN",
            "BWA",
            "AUT",
            "TZA",
            "CIV",
            "AND",
            "GBR",
            "IDN",
            "GHA",
            "AZE",
            "MNG",
            "VCT",
            "MSR",
            "PSE",
            "CHN",
            "IRN",
            "BHS",
            "MLT",
            "SDN",
            "LSO",
            "CPV",
            "KWT",
            "MDV",
            "DMA",
            "COL",
            "SPM",
            "DEU",
            "ARE",
            "MNP",
            "SHN",
            "GEO",
            "USA",
            "NOR"
           ],
           "name": "",
           "type": "choropleth",
           "z": [
            -0.5590909179347823,
            1.83340850274661,
            0.5503506723016155,
            0.9661417327390326,
            1.0268599859845615,
            2.275382771104213,
            1.0071928235570407,
            1.4252733046106298,
            0.8311656339094425,
            -0.8460632455390651,
            2.3224260524059526,
            -0.8996294548824371,
            0.42926766643316844,
            0.20951501454263097,
            -1.337242168318426,
            1.0355898172434574,
            1.5109335567155902,
            0.6313422864839328,
            0.7096091210726486,
            1.6766936096248666,
            2.33038941970477,
            -0.7670038896078462,
            0.9048777669634046,
            -0.632644078973981,
            2.372991125688899,
            -1.585026652029182,
            1.8536008799779402,
            -1,
            0.832566389054755,
            -1.2013493545547311,
            -1.0447934624580582,
            -1.0282604091122216,
            -0.958607314841775,
            -0.9665762445130504,
            0.012837224705172217,
            2.762768563620392,
            1.730006634176864,
            1.2309850717135542,
            1.1603484607610972,
            -0.583359492661719,
            0.8414220444023593,
            0.8776016797292719,
            -0.21112488422458328,
            -0.8569851997459049,
            -0.33254704711004607,
            1.885406456684009,
            0.6840370374865198,
            0.27230584440208644,
            -0.01592296609716924,
            1.6675370017529527,
            -0.9590023075765094,
            -0.22621355501880647,
            2.163209097023317,
            -0.024136960513711864,
            -0.351835221425999,
            1.902117164337023,
            0.899984562549391,
            1.7431176252147416,
            0.11693964655075578,
            -1.0409395182311152,
            1.1075152256514647,
            -1.0409586076789064,
            -1.1804560644581312,
            -1.603835537396182,
            0.8979568100069518,
            -0.1604591070310311,
            1.3483438114793695,
            1.7313147267539373,
            0.09704896501113049,
            0.549125926758111,
            2.9500161102997424,
            0.9978667262391447,
            1.0433622780211296,
            1.6287055940795592,
            -0.03668448861388872,
            1.5057738283527808,
            -1.578396073130169,
            0.3137407084057682,
            -0.7169250252645285,
            1.6561844771146426,
            1.8730123584826617,
            2.4927017343644082,
            1.9548067256047004,
            -0.8579235389267151,
            0.28103336724772754,
            0.09342168516223506,
            1.0131322760460033,
            1.5612803142902891,
            -0.08249449044745336,
            -1.031517051446065,
            1.5196836423171707,
            0.5998830720736879,
            -0.5528419686577808,
            0.5614591712419159,
            1.5456781497920256,
            1.39866901121082,
            0.6227821106002479,
            0.7676010680503355,
            1.1846914308175989,
            1.672642694214923,
            -1.7695510786217261,
            2.1260469438768754,
            0.5672616923538745,
            0.5919545550467354,
            0.5929535715478659,
            1.3053513694466237,
            0.1947917577219246,
            1.3211425652294484,
            0.2895220642581659,
            1.4858349526832206,
            0.2801228963023076,
            0.9884251700063033,
            -0.7670038896078462,
            0.3932241163612973,
            0.8035936647713445,
            -0.24718356881172862,
            -1.899629454882437,
            -1.8041003475907662,
            1.4267064060463144,
            0.8232133132826676,
            -2.5228787452803374,
            1.3971749769583257,
            1.074999186064199,
            1.8598705140873206,
            1.597388000405372,
            0.7777891874348675,
            2.7707717701644787,
            0.1482940974347457,
            0.2377949932739226,
            0.20930049515970509,
            0.9285494670016639,
            1.207122497650964,
            -1.0604807473813815,
            1.1935419885662173,
            2.2084870409551565,
            0.21431389742439963,
            -0.7752080435073185,
            -0.29559207261315906,
            -0.9318141382538383,
            -0.6345120151091003,
            -0.8326826652518239,
            1.5085431852580709,
            2.351477423887318,
            2.237975807003561,
            -0.09242742120144903,
            0.09166695759568456,
            0.6710802327388493,
            -1.0969100130080565,
            -0.03385826726096737,
            1.8720571606855152,
            -1.5086383061657274,
            -1.5228787452803376,
            0.7515870050823102,
            2.088933040771907,
            2.445618212547059,
            0.2711443179490783,
            -1.408935392973501,
            1.5766752944605424,
            1.0258381642297003,
            2.73999140645708,
            1.6429687608555519,
            1.9558031620818979,
            -1,
            -0.6989700043360187,
            0.1442627737619906,
            -0.7746907182741372,
            -0.1390717542053762,
            1.174234304941022,
            0.03941411917613713,
            -0.721246399047171,
            1.9715680640010471,
            -0.4371126187061207,
            -0.22621355501880647,
            2.058413876189703,
            0.4638929889859073,
            1.1578192844172974,
            -1.27083521030723,
            0.759290033024304,
            1.643146588443893,
            -0.47495519296315475,
            0.10448711131239508,
            2.516547272211766,
            -2.5228787452803374,
            -0.5428753736965912,
            1.1684090835196261,
            1.1892656689345484,
            0.3042750504771283,
            -0.7972393126068,
            3.017038767945875,
            0.014772474073063747,
            1.7955254883793443,
            0.43980621139333026,
            0.6904618932461782,
            -1.0969100130080565,
            2.5852237769799875,
            2.0070945654367027,
            0.8956435048240792,
            1.2780444365328807,
            0.47957531017498845,
            -1.005243055412372,
            -1.9208187539523751,
            -1.449771646944906,
            3.16780660051412,
            2.1146076486242644,
            0.24785056697353372,
            0.28847280059978253,
            0.4082399653118496,
            -0.4282911681913124,
            -0.7816483342548668,
            1.535281458211492,
            -0.9336740746379621,
            -1.0920514783877278,
            1.6403223984327466,
            -1.368556230986828,
            2.7681984052782975,
            1.6352021683885871,
            -0.37324914631660683,
            -2.1390633792999063,
            0.8411716944995322,
            3.587183993237794,
            2.0859680770460742
           ]
          }
         ],
         "name": "2001"
        },
        {
         "data": [
          {
           "coloraxis": "coloraxis",
           "customdata": [
            [
             46.107
            ],
            [
             34.312
            ],
            [
             3.112
            ],
            [
             95.981
            ],
            [
             0.547
            ],
            [
             1.346
            ],
            [
             0.028
            ],
            [
             0.3647
            ],
            [
             0.0813
            ],
            [
             1.09
            ],
            [
             45.242
            ],
            [
             0.482
            ],
            [
             12.772
            ],
            [
             0.0982
            ],
            [
             10.94
            ],
            [
             3.3
            ],
            [
             0.03
            ],
            [
             601.269
            ],
            [
             42.679
            ],
            [
             198.83
            ],
            [
             74.196
            ],
            [
             0.91444
            ],
            [
             285.275
            ],
            [
             2.123
            ],
            [
             45.5
            ],
            [
             596.633
            ],
            [
             1.0443
            ],
            [
             1.377
            ],
            [
             144.126
            ],
            [
             23.176
            ],
            [
             0.033
            ],
            [
             108.206
            ],
            [
             0.644
            ],
            [
             130.705
            ],
            [
             75.682
            ],
            [
             19.776
            ],
            [
             0.143
            ],
            [
             48.2037
            ],
            [
             15.111
            ],
            [
             0.1151
            ],
            [
             0.003
            ],
            [
             2.553
            ],
            [
             0.109
            ],
            [
             1.949
            ],
            [
             0.091
            ],
            [
             0.566
            ],
            [
             141.081
            ],
            [
             0.1293
            ],
            [
             36.157
            ],
            [
             5.023
            ],
            [
             33.863
            ],
            [
             8.13
            ],
            [
             345.671
            ],
            [
             4.184
            ],
            [
             0.1841
            ],
            [
             21.545
            ],
            [
             2.885
            ],
            [
             0.396
            ],
            [
             0.014
            ],
            [
             1058.42
            ],
            [
             5.17
            ],
            [
             0.1303
            ],
            [
             58.331
            ],
            [
             3.036
            ],
            [
             0.4185
            ],
            [
             5.068
            ],
            [
             2.20091
            ],
            [
             10.785
            ],
            [
             0.496303
            ],
            [
             1.749
            ],
            [
             48.484
            ],
            [
             0.18215
            ],
            [
             1.063
            ],
            [
             2.052
            ],
            [
             7.485
            ],
            [
             25.195
            ],
            [
             218.221
            ],
            [
             0.02
            ],
            [
             4.165
            ],
            [
             6.934
            ],
            [
             8.416
            ],
            [
             22.176
            ],
            [
             1.701
            ],
            [
             40.629
            ],
            [
             12.712
            ],
            [
             10.331
            ],
            [
             0.0994
            ],
            [
             244.963
            ],
            [
             76.348
            ],
            [
             1.8862
            ],
            [
             0.0075
            ],
            [
             173.734
            ],
            [
             0.1773
            ],
            [
             0.241
            ],
            [
             1.765
            ],
            [
             7.301
            ],
            [
             0.3779
            ],
            [
             1.7472
            ],
            [
             18.701
            ],
            [
             0.2857
            ],
            [
             1653.9998
            ],
            [
             0.0428
            ],
            [
             586.694
            ],
            [
             0.1018
            ],
            [
             5.309
            ],
            [
             46.856
            ],
            [
             0.129
            ],
            [
             17.721
            ],
            [
             0.08
            ],
            [
             0.1786
            ],
            [
             18.221
            ],
            [
             14.598
            ],
            [
             0.2777
            ],
            [
             0.0640999999999999
            ],
            [
             8.527
            ],
            [
             0.274
            ],
            [
             4051.12
            ],
            [
             0.0039
            ],
            [
             0.108
            ],
            [
             2.854
            ],
            [
             7.278
            ],
            [
             54.608
            ],
            [
             217.712
            ],
            [
             0.0799
            ],
            [
             2.043
            ],
            [
             387.247
            ],
            [
             7.104026
            ],
            [
             11.721
            ],
            [
             1.04
            ],
            [
             0.0161
            ],
            [
             0.1493
            ],
            [
             6.131
            ],
            [
             67.174
            ],
            [
             0.107
            ],
            [
             28.04
            ],
            [
             5.644
            ],
            [
             0.582
            ],
            [
             6.091
            ],
            [
             0.0402
            ],
            [
             5.519
            ],
            [
             15.302
            ],
            [
             39.287
            ],
            [
             559.064
            ],
            [
             0.616
            ],
            [
             85.055
            ],
            [
             121.5789
            ],
            [
             0.233
            ],
            [
             0.0629
            ],
            [
             1.482
            ],
            [
             0.8247
            ],
            [
             74.945
            ],
            [
             0.191
            ],
            [
             7.257
            ],
            [
             0.102
            ],
            [
             0.0553
            ],
            [
             2.897
            ],
            [
             36.369
            ],
            [
             13.086
            ],
            [
             0.2
            ],
            [
             0.76499
            ],
            [
             62.499
            ],
            [
             1.3479
            ],
            [
             227.555
            ],
            [
             0.1512
            ],
            [
             0.4727
            ],
            [
             129.4
            ],
            [
             146.735
            ],
            [
             17.531
            ],
            [
             11.281
            ],
            [
             1.19
            ],
            [
             10.703
            ],
            [
             3.785
            ],
            [
             0.2
            ],
            [
             0.0315
            ],
            [
             85.946
            ],
            [
             35.06
            ],
            [
             1.7198
            ],
            [
             35.796
            ],
            [
             26.455
            ],
            [
             27.647
            ],
            [
             0.04692
            ],
            [
             0.093
            ],
            [
             8.152
            ],
            [
             11.51
            ],
            [
             0.1
            ],
            [
             1.854
            ],
            [
             4.0227534
            ],
            [
             49.31
            ],
            [
             1.015
            ],
            [
             3.769
            ],
            [
             0.14
            ],
            [
             15.699
            ],
            [
             87.406
            ],
            [
             6.191
            ],
            [
             0.018
            ],
            [
             0.14902
            ],
            [
             82.069
            ],
            [
             1.952
            ],
            [
             4.1
            ],
            [
             0.1271
            ],
            [
             0.0616
            ],
            [
             3.686
            ],
            [
             141.736
            ],
            [
             0.2188
            ],
            [
             0.8880011
            ],
            [
             3.975
            ],
            [
             8.587
            ],
            [
             0.859
            ],
            [
             891.285
            ],
            [
             0.7222
            ],
            [
             0.063
            ],
            [
             0.259
            ],
            [
             0.1568
            ],
            [
             3.697
            ],
            [
             34.664
            ],
            [
             0.023556
            ],
            [
             1.33
            ],
            [
             11.888
            ],
            [
             43.671
            ],
            [
             9.605
            ],
            [
             331.882
            ],
            [
             32.427
            ],
            [
             1.3063
            ],
            [
             54.735
            ]
           ],
           "geo": "geo",
           "hovertemplate": "<b>%{hovertext}</b><br><br>year=2002<br>ISO=%{location}<br>Electric_Energy_Production=%{customdata[0]}<br>color=%{z}<extra></extra>",
           "hovertext": [
            "Portugal",
            "China, Hong Kong SAR",
            "Mongolia",
            "Netherlands",
            "Haiti",
            "Martinique",
            "Cook Islands",
            "Burkina Faso",
            "Jersey",
            "Neth. Antilles (former)",
            "Colombia",
            "Cayman Islands",
            "Croatia",
            "Micronesia (Fed. States of)",
            "Qatar",
            "Cameroon",
            "Nauru",
            "Canada",
            "Bulgaria",
            "Other Asia",
            "Malaysia",
            "Guyana",
            "Italy",
            "Nepal",
            "Israel",
            "India",
            "Botswana",
            "Namibia",
            "Poland",
            "Puerto Rico",
            "Comoros",
            "Indonesia",
            "Bermuda",
            "Norway",
            "Pakistan",
            "Korea, Dem.Ppl's.Rep.",
            "Isle of Man",
            "Paraguay",
            "Morocco",
            "Mayotte",
            "Niue",
            "Nicaragua",
            "Palau",
            "Mauritius",
            "British Virgin Islands",
            "Cambodia",
            "Iran (Islamic Rep. of)",
            "Burundi",
            "Hungary",
            "Panama",
            "Iraq",
            "Jordan",
            "Brazil",
            "Bolivia (Plur. State of)",
            "Niger",
            "Nigeria",
            "Papua New Guinea",
            "Congo",
            "Kiribati",
            "Japan",
            "Kenya",
            "Maldives",
            "Kazakhstan",
            "Brunei Darussalam",
            "Northern Mariana Islands",
            "Myanmar",
            "Bhutan",
            "Bosnia and Herzegovina",
            "Mauritania",
            "New Caledonia",
            "Philippines",
            "Cabo Verde",
            "Mali",
            "Malta",
            "Costa Rica",
            "Ireland",
            "Mexico",
            "Montserrat",
            "Honduras",
            "Jamaica",
            "Iceland",
            "Peru",
            "China, Macao SAR",
            "New Zealand",
            "Mozambique",
            "Oman",
            "Marshall Islands",
            "Spain",
            "Czechia",
            "Bahamas",
            "St. Helena and Depend.",
            "Ukraine",
            "St. Kitts-Nevis",
            "Faeroe Islands",
            "Angola",
            "Ghana",
            "Lesotho",
            "Uganda",
            "Azerbaijan",
            "St. Lucia",
            "China",
            "St. Pierre-Miquelon",
            "Germany",
            "St. Vincent-Grenadines",
            "Côte d'Ivoire",
            "United Arab Emirates",
            "Gibraltar",
            "Lithuania",
            "Andorra",
            "American Samoa",
            "Bangladesh",
            "Slovenia",
            "Greenland",
            "Solomon Islands",
            "Estonia",
            "Somalia",
            "United States",
            "Tuvalu",
            "Central African Rep.",
            "United Rep. of Tanzania",
            "Bahrain",
            "Greece",
            "South Africa",
            "Dominica",
            "Ethiopia",
            "United Kingdom",
            "Sri Lanka",
            "Lebanon",
            "United States Virgin Is.",
            "Falkland Is. (Malvinas)",
            "State of Palestine",
            "Dem. Rep. of the Congo",
            "Switzerland",
            "Chad",
            "Syrian Arab Republic",
            "Trinidad and Tobago",
            "French Polynesia",
            "T.F.Yug.Rep. Macedonia",
            "Tonga",
            "Armenia",
            "Tajikistan",
            "Denmark",
            "France",
            "French Guiana",
            "Argentina",
            "Thailand",
            "Togo",
            "Timor-Leste",
            "Gabon",
            "Aruba",
            "Finland",
            "Antigua and Barbuda",
            "Georgia",
            "Turks and Caicos Islands",
            "Anguilla",
            "Sudan (former)",
            "Kuwait",
            "Kyrgyzstan",
            "Djibouti",
            "Fiji",
            "Austria",
            "Suriname",
            "Australia",
            "Gambia",
            "Swaziland",
            "Turkey",
            "Sweden",
            "Libya",
            "Tunisia",
            "Republic of Moldova",
            "Turkmenistan",
            "Cyprus",
            "Liberia",
            "Sao Tome and Principe",
            "Egypt",
            "Serbia and Montenegro",
            "Guam",
            "Viet Nam",
            "Belarus",
            "Algeria",
            "Vanuatu",
            "Equatorial Guinea",
            "Zambia",
            "Dominican Republic",
            "Rwanda",
            "Senegal",
            "Lao People's Dem. Rep.",
            "Uzbekistan",
            "Guinea",
            "Yemen",
            "Belize",
            "Cuba",
            "Venezuela (Bolivar. Rep.)",
            "Guatemala",
            "Wallis and Futuna Is.",
            "Grenada",
            "Belgium",
            "Réunion",
            "El Salvador",
            "Samoa",
            "Guernsey",
            "Albania",
            "Saudi Arabia",
            "Seychelles",
            "Madagascar",
            "Latvia",
            "Zimbabwe",
            "Barbados",
            "Russian Federation",
            "Afghanistan",
            "Benin",
            "Eritrea",
            "Sierra Leone",
            "Luxembourg",
            "Singapore",
            "Guinea-Bissau",
            "Guadeloupe",
            "Ecuador",
            "Chile",
            "Uruguay",
            "Korea, Republic of",
            "Slovakia",
            "Malawi",
            "Romania"
           ],
           "locations": [
            "PRT",
            "HKG",
            "MNG",
            "NLD",
            "HTI",
            "MTQ",
            "COK",
            "BFA",
            "JEY",
            "@@@",
            "COL",
            "CYM",
            "HRV",
            "FSM",
            "QAT",
            "CMR",
            "NRU",
            "CAN",
            "BGR",
            "@@@",
            "MYS",
            "GUY",
            "ITA",
            "NPL",
            "ISR",
            "IND",
            "BWA",
            "NAM",
            "POL",
            "PRI",
            "COM",
            "IDN",
            "BMU",
            "NOR",
            "PAK",
            "PRK",
            "IMN",
            "PRY",
            "MAR",
            "MYT",
            "NIU",
            "NIC",
            "PLW",
            "MUS",
            "VGB",
            "KHM",
            "IRN",
            "BDI",
            "HUN",
            "PAN",
            "IRQ",
            "JOR",
            "BRA",
            "BOL",
            "NER",
            "NGA",
            "PNG",
            "COG",
            "KIR",
            "JPN",
            "KEN",
            "MDV",
            "KAZ",
            "BRN",
            "MNP",
            "MMR",
            "BTN",
            "BIH",
            "MRT",
            "NCL",
            "PHL",
            "CPV",
            "MLI",
            "MLT",
            "CRI",
            "IRL",
            "MEX",
            "MSR",
            "HND",
            "JAM",
            "ISL",
            "PER",
            "MAC",
            "NZL",
            "MOZ",
            "OMN",
            "MHL",
            "ESP",
            "CZE",
            "BHS",
            "SHN",
            "UKR",
            "KNA",
            "FRO",
            "AGO",
            "GHA",
            "LSO",
            "UGA",
            "AZE",
            "LCA",
            "CHN",
            "SPM",
            "DEU",
            "VCT",
            "CIV",
            "ARE",
            "GIB",
            "LTU",
            "AND",
            "ASM",
            "BGD",
            "SVN",
            "GRL",
            "SLB",
            "EST",
            "SOM",
            "USA",
            "TUV",
            "CAF",
            "TZA",
            "BHR",
            "GRC",
            "ZAF",
            "DMA",
            "ETH",
            "GBR",
            "LKA",
            "LBN",
            "VIR",
            "MDV",
            "PSE",
            "COD",
            "CHE",
            "TCD",
            "SYR",
            "TTO",
            "PYF",
            "MKD",
            "TON",
            "ARM",
            "TJK",
            "DNK",
            "FRA",
            "GUF",
            "ARG",
            "THA",
            "TGO",
            "TLS",
            "GAB",
            "ABW",
            "FIN",
            "ATG",
            "GEO",
            "TCA",
            "AIA",
            "SDN",
            "KWT",
            "KGZ",
            "DJI",
            "FJI",
            "AUT",
            "SUR",
            "AUS",
            "GMB",
            "SWZ",
            "TUR",
            "SWE",
            "LBY",
            "TUN",
            "MDA",
            "TKM",
            "CYP",
            "LBR",
            "STP",
            "EGY",
            "SRB",
            "GUM",
            "VNM",
            "BLR",
            "DZA",
            "VUT",
            "GNQ",
            "ZMB",
            "DOM",
            "RWA",
            "SEN",
            "LAO",
            "UZB",
            "GIN",
            "YEM",
            "BLZ",
            "CUB",
            "VEN",
            "GTM",
            "WLF",
            "GRD",
            "BEL",
            "REU",
            "SLV",
            "WSM",
            "GGY",
            "ALB",
            "SAU",
            "SYC",
            "MDG",
            "LVA",
            "ZWE",
            "BRB",
            "RUS",
            "AFG",
            "BEN",
            "ERI",
            "SLE",
            "LUX",
            "SGP",
            "GNB",
            "GLP",
            "ECU",
            "CHL",
            "URY",
            "KOR",
            "SVK",
            "MWI",
            "ROU"
           ],
           "name": "",
           "type": "choropleth",
           "z": [
            1.6637668653156659,
            1.5354460332310167,
            0.4930395883176513,
            1.9821852704163598,
            -0.2620126736665692,
            0.12904505988795806,
            -1.5528419686577808,
            -0.4380642366862187,
            -1.0899094544059318,
            0.037426497940623665,
            1.6555417954082539,
            -0.31695296176115045,
            1.1062589098674074,
            -1.0078885122130503,
            1.039017321997412,
            0.5185139398778874,
            -1.5228787452803376,
            2.7790688132318344,
            1.6302142350361768,
            2.2984819125134828,
            1.8703804925465002,
            -0.038844785019459885,
            2.455263714041322,
            0.32694999416599885,
            1.6580113966571124,
            2.7757072706846913,
            0.01882527800395082,
            0.13893394025692368,
            2.1587423336104763,
            1.3650384821957053,
            -1.4814860601221125,
            2.0342513429761464,
            -0.1911141326401879,
            2.116292201435748,
            1.8789926003689859,
            1.296138453408722,
            -0.8446639625349383,
            1.6830803749175005,
            1.1792932055773737,
            -0.9389246763702083,
            -2.5228787452803374,
            0.4070508148042503,
            -0.9625735020593764,
            0.28981183911762143,
            -1.0409586076789064,
            -0.24718356881172862,
            2.1494685293406657,
            -0.888401475119606,
            1.5581923892398495,
            0.7009631781595493,
            1.5297254306108168,
            0.9100905455940682,
            2.5386629460212364,
            0.6215916758592178,
            -0.7349462114959853,
            1.3333464984243866,
            0.4601458174917502,
            -0.40230481407448765,
            -1.853871964321762,
            3.0246580377247705,
            0.7134905430939426,
            -0.8850555842874153,
            1.765899421839911,
            0.48230176722344276,
            -0.3783045376707212,
            0.7048366062114036,
            0.34260228366987383,
            1.0328201494385638,
            -0.3042530996172889,
            0.24278980947867654,
            1.6855984425581019,
            -0.7395708244220652,
            0.026533264523296733,
            0.3121773564397787,
            0.8741918046790712,
            1.4013143626917874,
            2.3388965416018914,
            -1.6989700043360187,
            0.6196150057428064,
            0.8409838373203778,
            0.9251057268096639,
            1.3458832129317126,
            0.23070431361256905,
            1.6088361331847307,
            1.1042138841993232,
            1.0141423615450058,
            -1.0026136156026866,
            2.3891004920816012,
            1.882797664832644,
            0.27558774051756113,
            -2.1249387366083,
            2.2398848188352694,
            -0.7512912643990821,
            -0.6179829574251317,
            0.24674470972384135,
            0.8633823484407878,
            -0.4226231080829855,
            0.24234262102464324,
            1.2718648302193956,
            -0.544089759617257,
            3.218535452702077,
            -1.368556230986828,
            2.768411646797863,
            -0.99225222199926,
            0.725012725341157,
            1.6707652110199036,
            -0.889410289700751,
            1.248488225577443,
            -1.0969100130080565,
            -0.7481185454474724,
            1.2605722081234925,
            1.1642933593144622,
            -0.5564241202497424,
            -1.1931419704811832,
            0.9307962629833002,
            -0.562249437179612,
            3.6075751078012024,
            -2.408935392973501,
            -0.9665762445130504,
            0.45545396877862815,
            0.8620120512502166,
            1.7372562709345636,
            2.3378823674432705,
            -1.0974532206860086,
            0.3102683666324476,
            2.5879880619677382,
            0.8515045422463141,
            1.068964665944447,
            0.01703333929878037,
            -1.7931741239681502,
            -0.8259401922749746,
            0.7875313161272343,
            1.8272012099364008,
            -0.9706162223147904,
            1.447778009294621,
            0.7515870050823102,
            -0.23507701535011155,
            0.7846885995014213,
            -1.39577394691553,
            0.7418603940652636,
            1.1847481976279408,
            1.5942488668573833,
            2.7474615274854304,
            -0.21041928783557454,
            1.9296998489136994,
            2.08485820973364,
            -0.632644078973981,
            -1.2013493545547311,
            0.17084820364330935,
            -0.08370400543686911,
            1.8747426639375546,
            -0.7189666327522725,
            0.8607571230815421,
            -0.9913998282380825,
            -1.2572748686953017,
            0.4619484952037618,
            1.560731359881973,
            1.116806915962344,
            -0.6989700043360187,
            -0.11634424193553869,
            1.7958730685767745,
            0.12965767331268785,
            2.3570863825739115,
            -0.8204482088348123,
            -0.3254143976970861,
            2.1119342763326814,
            2.1665337163919816,
            1.2438066897444051,
            1.0523475992246638,
            0.07554696139253074,
            1.029505525426577,
            0.5780658838360916,
            -0.6989700043360187,
            -1.5016894462103996,
            1.9342256690585353,
            1.544811911757776,
            0.23547794461295124,
            1.5538344994096875,
            1.4225077658680756,
            1.441648012525648,
            -1.3286419965565084,
            -1.031517051446065,
            0.91126417099837,
            1.0610753236297918,
            -1,
            0.2681097298084783,
            0.6045234105723145,
            1.6929350025311378,
            0.006466042249231681,
            0.5762261374496049,
            -0.8538719643217619,
            1.1958719894593277,
            1.9415412458775692,
            0.7917608040129049,
            -1.744727494896694,
            -0.8267554409384332,
            1.9141791416341907,
            0.290479813330673,
            0.6127838567197355,
            -0.8958544494459919,
            -1.2104192878355746,
            0.566555330883055,
            2.1514801721644545,
            -0.6599526823386068,
            -0.05158649624433344,
            0.5993371329924891,
            0.9338414628987213,
            -0.0660068361687577,
            2.9500165975678168,
            -0.14134251590919222,
            -1.2006594505464183,
            -0.5867002359187482,
            -0.8046539416515803,
            0.5678494505731068,
            1.5398786760263183,
            -1.627898454352369,
            0.12385164096708581,
            1.0751087964165,
            1.6401931367234817,
            0.9824973691977125,
            2.5209836985891987,
            1.5109067715618933,
            0.11604292684920614,
            1.7382651224203296
           ]
          }
         ],
         "name": "2002"
        },
        {
         "data": [
          {
           "coloraxis": "coloraxis",
           "customdata": [
            [
             140.581
            ],
            [
             0.811991
            ],
            [
             8.799
            ],
            [
             35.506
            ],
            [
             0.294
            ],
            [
             0.018587
            ],
            [
             4.37
            ],
            [
             293.885
            ],
            [
             3.684
            ],
            [
             10.803
            ],
            [
             0.035
            ],
            [
             40.925
            ],
            [
             4.096
            ],
            [
             11.829
            ],
            [
             42.6
            ],
            [
             6.437
            ],
            [
             3.6893044
            ],
            [
             0.0448
            ],
            [
             1.397
            ],
            [
             98.133
            ],
            [
             46.186
            ],
            [
             1.567
            ],
            [
             0.976
            ],
            [
             0.115
            ],
            [
             2.267
            ],
            [
             0.211
            ],
            [
             47.041
            ],
            [
             84.312
            ],
            [
             63.866
            ],
            [
             566.839
            ],
            [
             8.308
            ],
            [
             0.031
            ],
            [
             0.0303
            ],
            [
             1.796
            ],
            [
             49.45
            ],
            [
             0.08
            ],
            [
             29.571
            ],
            [
             1047.942
            ],
            [
             0.021
            ],
            [
             2.296
            ],
            [
             92.609
            ],
            [
             0.127
            ],
            [
             0.0785
            ],
            [
             3.138
            ],
            [
             3.975
            ],
            [
             180.36
            ],
            [
             398.207
            ],
            [
             2.658
            ],
            [
             0.277
            ],
            [
             236.217
            ],
            [
             10.159
            ],
            [
             2.236
            ],
            [
             8.578
            ],
            [
             0.1019
            ],
            [
             4081.764
            ],
            [
             0.1883
            ],
            [
             0.19965
            ],
            [
             1.04
            ],
            [
             12.673
            ],
            [
             49.4
            ],
            [
             47.682
            ],
            [
             0.099
            ],
            [
             0.4446
            ],
            [
             0.461216
            ],
            [
             5.426
            ],
            [
             0.11
            ],
            [
             15.576
            ],
            [
             1.223
            ],
            [
             10.907
            ],
            [
             5.506
            ],
            [
             0.01625
            ],
            [
             5.23
            ],
            [
             0.2
            ],
            [
             90.23504
            ],
            [
             7.146
            ],
            [
             0.0038
            ],
            [
             2.082
            ],
            [
             0.4288
            ],
            [
             1.995
            ],
            [
             0.048
            ],
            [
             0.635
            ],
            [
             16.358
            ],
            [
             1.8022
            ],
            [
             13.265
            ],
            [
             8.044
            ],
            [
             0.249
            ],
            [
             0.1035
            ],
            [
             0.0584
            ],
            [
             1.046
            ],
            [
             589.653
            ],
            [
             1.181
            ],
            [
             0.15924
            ],
            [
             31.178
            ],
            [
             3.178
            ],
            [
             4.374
            ],
            [
             35.331
            ],
            [
             34.145
            ],
            [
             5.582
            ],
            [
             345.192
            ],
            [
             0.0964
            ],
            [
             0.8709
            ],
            [
             0.2238
            ],
            [
             35.366
            ],
            [
             51.76211
            ],
            [
             1.7774
            ],
            [
             0.1436
            ],
            [
             23.128
            ],
            [
             4.052
            ],
            [
             0.11
            ],
            [
             19.488
            ],
            [
             0.065
            ],
            [
             0.0291
            ],
            [
             234.229
            ],
            [
             58.471
            ],
            [
             80.826
            ],
            [
             19.712
            ],
            [
             11.266
            ],
            [
             0.11
            ],
            [
             0.28
            ],
            [
             0.0633
            ],
            [
             8.5
            ],
            [
             0.2797
            ],
            [
             13.82
            ],
            [
             7.768
            ],
            [
             1.9951
            ],
            [
             26.627
            ],
            [
             2.5291
            ],
            [
             0.664
            ],
            [
             0.1196
            ],
            [
             0.899
            ],
            [
             23.937
            ],
            [
             0.506
            ],
            [
             0.166
            ],
            [
             46.829
            ],
            [
             916.286
            ],
            [
             55.14
            ],
            [
             0.021682
            ],
            [
             0.08
            ],
            [
             1.3351
            ],
            [
             13.252
            ],
            [
             12.012
            ],
            [
             0.82047
            ],
            [
             3.621
            ],
            [
             46.852
            ],
            [
             1.023504
            ],
            [
             4.53
            ],
            [
             1.82
            ],
            [
             153
            ],
            [
             7.566
            ],
            [
             15.811
            ],
            [
             52.897
            ],
            [
             2.079
            ],
            [
             6.561
            ],
            [
             84.63
            ],
            [
             0.0541
            ],
            [
             151.631
            ],
            [
             20.998
            ],
            [
             0.535
            ],
            [
             0.115
            ],
            [
             0.0345
            ],
            [
             633.372
            ],
            [
             260.727
            ],
            [
             8.124426
            ],
            [
             1.535
            ],
            [
             0.8418
            ],
            [
             2.708
            ],
            [
             0.093
            ],
            [
             135.437
            ],
            [
             18.943
            ],
            [
             0.0178
            ],
            [
             0.3944
            ],
            [
             0.168
            ],
            [
             1.3283
            ],
            [
             222.121
            ],
            [
             39.802
            ],
            [
             209.072
            ],
            [
             0.1915
            ],
            [
             28.34
            ],
            [
             3.354
            ],
            [
             40.777
            ],
            [
             67.445
            ],
            [
             11.546
            ],
            [
             0.2
            ],
            [
             116.9829
            ],
            [
             96.818
            ],
            [
             0.641
            ],
            [
             0.1439
            ],
            [
             6.182
            ],
            [
             3.169
            ],
            [
             5.501
            ],
            [
             6.738
            ],
            [
             1.758
            ],
            [
             0.602
            ],
            [
             30.366
            ],
            [
             25.219
            ],
            [
             16.509
            ],
            [
             20.184
            ],
            [
             0.399
            ],
            [
             0.141
            ],
            [
             0.134
            ],
            [
             78.427
            ],
            [
             10.714
            ],
            [
             83.227
            ],
            [
             0.0077
            ],
            [
             0.1763
            ],
            [
             0.9356
            ],
            [
             5.905
            ],
            [
             1910.5752
            ],
            [
             112.944
            ],
            [
             21.286
            ],
            [
             0.29898
            ],
            [
             0.41
            ],
            [
             0.0428
            ],
            [
             608.779
            ],
            [
             107.273
            ],
            [
             0.1082
            ],
            [
             364.339
            ],
            [
             0.3424
            ],
            [
             5.0928
            ],
            [
             153.879
            ],
            [
             7.16
            ],
            [
             1.42
            ],
            [
             0.003
            ],
            [
             60.174
            ]
           ],
           "geo": "geo",
           "hovertemplate": "<b>%{hovertext}</b><br><br>year=2003<br>ISO=%{location}<br>Electric_Energy_Production=%{customdata[0]}<br>color=%{z}<extra></extra>",
           "hovertext": [
            "Turkey",
            "Fiji",
            "Zimbabwe",
            "China, Hong Kong SAR",
            "Togo",
            "Wallis and Futuna Is.",
            "El Salvador",
            "Italy",
            "Cameroon",
            "Turkmenistan",
            "Comoros",
            "Viet Nam",
            "Yemen",
            "Tunisia",
            "Bulgaria",
            "Trinidad and Tobago",
            "Lao People's Dem. Rep.",
            "Tonga",
            "Martinique",
            "Egypt",
            "Denmark",
            "Namibia",
            "Afghanistan",
            "Chad",
            "Nepal",
            "Antigua and Barbuda",
            "Israel",
            "Finland",
            "Kazakhstan",
            "France",
            "Zambia",
            "Nauru",
            "Jersey",
            "China, Macao SAR",
            "United Arab Emirates",
            "Andorra",
            "Algeria",
            "Japan",
            "Montserrat",
            "Ethiopia",
            "Argentina",
            "Mayotte",
            "Dominica",
            "Mongolia",
            "Latvia",
            "Ukraine",
            "United Kingdom",
            "United Rep. of Tanzania",
            "Eritrea",
            "Mexico",
            "Estonia",
            "Malta",
            "Uruguay",
            "Micronesia (Fed. States of)",
            "United States",
            "American Samoa",
            "Cabo Verde",
            "United States Virgin Is.",
            "Lebanon",
            "Uzbekistan",
            "Colombia",
            "Equatorial Guinea",
            "Burkina Faso",
            "Mauritania",
            "Myanmar",
            "Turks and Caicos Islands",
            "Kyrgyzstan",
            "Mali",
            "Mozambique",
            "Kenya",
            "Falkland Is. (Malvinas)",
            "Albania",
            "Djibouti",
            "Venezuela (Bolivar. Rep.)",
            "Jamaica",
            "Tuvalu",
            "Mauritius",
            "Lesotho",
            "Angola",
            "Vanuatu",
            "Cambodia",
            "Morocco",
            "Uganda",
            "Dominican Republic",
            "Jordan",
            "Faeroe Islands",
            "Burundi",
            "Anguilla",
            "Republic of Moldova",
            "Canada",
            "Neth. Antilles (former)",
            "Grenada",
            "Slovakia",
            "Papua New Guinea",
            "Bolivia (Plur. State of)",
            "Singapore",
            "Hungary",
            "Panama",
            "Korea, Republic of",
            "Marshall Islands",
            "Barbados",
            "Seychelles",
            "Serbia and Montenegro",
            "Paraguay",
            "Guam",
            "Sierra Leone",
            "Peru",
            "Cyprus",
            "Palau",
            "Lithuania",
            "Timor-Leste",
            "Cook Islands",
            "South Africa",
            "Greece",
            "Pakistan",
            "Bangladesh",
            "Bosnia and Herzegovina",
            "Central African Rep.",
            "Somalia",
            "Solomon Islands",
            "Iceland",
            "Greenland",
            "Slovenia",
            "Bahrain",
            "Bahamas",
            "Belarus",
            "Bhutan",
            "Bermuda",
            "Rwanda",
            "Guinea",
            "Puerto Rico",
            "Cayman Islands",
            "Belize",
            "Chile",
            "Russian Federation",
            "Romania",
            "Guinea-Bissau",
            "Benin",
            "Malawi",
            "Croatia",
            "Qatar",
            "Guyana",
            "Luxembourg",
            "Portugal",
            "Madagascar",
            "Honduras",
            "Senegal",
            "Saudi Arabia",
            "Costa Rica",
            "Cuba",
            "Philippines",
            "Réunion",
            "Guatemala",
            "Belgium",
            "Guernsey",
            "Poland",
            "Korea, Dem.Ppl's.Rep.",
            "Haiti",
            "Samoa",
            "Sao Tome and Principe",
            "India",
            "Spain",
            "Sri Lanka",
            "Gabon",
            "Aruba",
            "Nicaragua",
            "British Virgin Islands",
            "Sweden",
            "Libya",
            "Kiribati",
            "Swaziland",
            "Gambia",
            "Suriname",
            "Australia",
            "Kuwait",
            "Other Asia",
            "Niger",
            "Iraq",
            "Sudan (former)",
            "New Zealand",
            "Switzerland",
            "Ecuador",
            "Liberia",
            "Thailand",
            "Netherlands",
            "French Guiana",
            "Isle of Man",
            "Dem. Rep. of the Congo",
            "Brunei Darussalam",
            "Armenia",
            "T.F.Yug.Rep. Macedonia",
            "New Caledonia",
            "French Polynesia",
            "Syrian Arab Republic",
            "Ireland",
            "Tajikistan",
            "Nigeria",
            "Congo",
            "Maldives",
            "Gibraltar",
            "Malaysia",
            "Oman",
            "Czechia",
            "St. Helena and Depend.",
            "St. Kitts-Nevis",
            "Botswana",
            "Ghana",
            "China",
            "Indonesia",
            "Azerbaijan",
            "St. Lucia",
            "Northern Mariana Islands",
            "St. Pierre-Miquelon",
            "Germany",
            "Norway",
            "St. Vincent-Grenadines",
            "Brazil",
            "State of Palestine",
            "Côte d'Ivoire",
            "Iran (Islamic Rep. of)",
            "Georgia",
            "Guadeloupe",
            "Niue",
            "Austria"
           ],
           "locations": [
            "TUR",
            "FJI",
            "ZWE",
            "HKG",
            "TGO",
            "WLF",
            "SLV",
            "ITA",
            "CMR",
            "TKM",
            "COM",
            "VNM",
            "YEM",
            "TUN",
            "BGR",
            "TTO",
            "LAO",
            "TON",
            "MTQ",
            "EGY",
            "DNK",
            "NAM",
            "AFG",
            "TCD",
            "NPL",
            "ATG",
            "ISR",
            "FIN",
            "KAZ",
            "FRA",
            "ZMB",
            "NRU",
            "JEY",
            "MAC",
            "ARE",
            "AND",
            "DZA",
            "JPN",
            "MSR",
            "ETH",
            "ARG",
            "MYT",
            "DMA",
            "MNG",
            "LVA",
            "UKR",
            "GBR",
            "TZA",
            "ERI",
            "MEX",
            "EST",
            "MLT",
            "URY",
            "FSM",
            "USA",
            "ASM",
            "CPV",
            "VIR",
            "LBN",
            "UZB",
            "COL",
            "GNQ",
            "BFA",
            "MRT",
            "MMR",
            "TCA",
            "KGZ",
            "MLI",
            "MOZ",
            "KEN",
            "MDV",
            "ALB",
            "DJI",
            "VEN",
            "JAM",
            "TUV",
            "MUS",
            "LSO",
            "AGO",
            "VUT",
            "KHM",
            "MAR",
            "UGA",
            "DOM",
            "JOR",
            "FRO",
            "BDI",
            "AIA",
            "MDA",
            "CAN",
            "@@@",
            "GRD",
            "SVK",
            "PNG",
            "BOL",
            "SGP",
            "HUN",
            "PAN",
            "KOR",
            "MHL",
            "BRB",
            "SYC",
            "SRB",
            "PRY",
            "GUM",
            "SLE",
            "PER",
            "CYP",
            "PLW",
            "LTU",
            "TLS",
            "COK",
            "ZAF",
            "GRC",
            "PAK",
            "BGD",
            "BIH",
            "CAF",
            "SOM",
            "SLB",
            "ISL",
            "GRL",
            "SVN",
            "BHR",
            "BHS",
            "BLR",
            "BTN",
            "BMU",
            "RWA",
            "GIN",
            "PRI",
            "CYM",
            "BLZ",
            "CHL",
            "RUS",
            "ROU",
            "GNB",
            "BEN",
            "MWI",
            "HRV",
            "QAT",
            "GUY",
            "LUX",
            "PRT",
            "MDG",
            "HND",
            "SEN",
            "SAU",
            "CRI",
            "CUB",
            "PHL",
            "REU",
            "GTM",
            "BEL",
            "GGY",
            "POL",
            "PRK",
            "HTI",
            "WSM",
            "STP",
            "IND",
            "ESP",
            "LKA",
            "GAB",
            "ABW",
            "NIC",
            "VGB",
            "SWE",
            "LBY",
            "KIR",
            "SWZ",
            "GMB",
            "SUR",
            "AUS",
            "KWT",
            "@@@",
            "NER",
            "IRQ",
            "SDN",
            "NZL",
            "CHE",
            "ECU",
            "LBR",
            "THA",
            "NLD",
            "GUF",
            "IMN",
            "COD",
            "BRN",
            "ARM",
            "MKD",
            "NCL",
            "PYF",
            "SYR",
            "IRL",
            "TJK",
            "NGA",
            "COG",
            "MDV",
            "GIB",
            "MYS",
            "OMN",
            "CZE",
            "SHN",
            "KNA",
            "BWA",
            "GHA",
            "CHN",
            "IDN",
            "AZE",
            "LCA",
            "MNP",
            "SPM",
            "DEU",
            "NOR",
            "VCT",
            "BRA",
            "PSE",
            "CIV",
            "IRN",
            "GEO",
            "GLP",
            "NIU",
            "AUT"
           ],
           "name": "",
           "type": "choropleth",
           "z": [
            2.147926628274512,
            -0.09044878439429085,
            0.9444333177002145,
            1.550301748737082,
            -0.5316526695878427,
            -1.7307907010610648,
            0.6404814369704218,
            2.468177420085968,
            0.5663196215248113,
            1.0335443760909477,
            -1.4559319556497243,
            1.611988688083979,
            0.6123599479677744,
            1.0729480317928857,
            1.6294095991027189,
            0.8086835091289692,
            0.5669444898124208,
            -1.348721986001856,
            0.14519640611418191,
            1.9918150757582325,
            1.664510351223582,
            0.1950689964685901,
            -0.010550182333308195,
            -0.9393021596463883,
            0.3554515201265174,
            -0.6757175447023074,
            1.67247654542067,
            1.9258893915036315,
            1.80526971665388,
            2.7534597231952347,
            0.9194964878630615,
            -1.5086383061657274,
            -1.518557371497695,
            0.2543063323312856,
            1.6941662959331982,
            -1.0969100130080565,
            1.4708660112741248,
            3.02033724660095,
            -1.6777807052660807,
            0.36097188372593586,
            1.9666531946776602,
            -0.8961962790440431,
            -1.1051303432547475,
            0.49665293925091786,
            0.5993371329924891,
            2.256140226634533,
            2.60010889013301,
            0.42455497660671315,
            -0.5575202309355514,
            2.373311149587898,
            1.006850960324272,
            0.3494717992143857,
            0.9333860419030544,
            -0.9918258159935736,
            3.6108478910070327,
            -0.7251496799833352,
            -0.6997306854696437,
            0.01703333929878037,
            1.102879434869378,
            1.6937269489236468,
            1.6783544634005372,
            -1.00436480540245,
            -0.3520305416370282,
            -0.3360956350478058,
            0.7344797894255773,
            -0.958607314841775,
            1.1924559385119753,
            0.08742645703628549,
            1.0377053131355372,
            0.7408362070573115,
            -1.7891466346851068,
            0.7185016888672743,
            -0.6989700043360187,
            1.9553752151872283,
            0.8540630118664211,
            -2.42021640338319,
            0.3184807251745173,
            -0.36774522331528636,
            0.2999429000227671,
            -1.3187587626244128,
            -0.1972262747080243,
            1.2137302038548416,
            0.2558029853536983,
            1.122707254318348,
            0.9054720619247043,
            -0.6038006529042637,
            -0.9850596502070634,
            -1.2335871528876006,
            0.01953168453125545,
            2.770596512457949,
            0.07224989761351482,
            -0.7979478310879397,
            1.4938482527122763,
            0.5021538928713607,
            0.6408787787016182,
            1.548155929773814,
            1.5333271170544238,
            0.7467898321526122,
            2.538060722164508,
            -1.0159229660971691,
            -0.06003170944866383,
            -0.6501399178076688,
            1.548585942592136,
            1.7140119713445612,
            0.24978517583225104,
            -0.8428455600937185,
            1.3641380786626014,
            0.6076694366882428,
            -0.958607314841775,
            1.2897672709527814,
            -1.1870866433571443,
            -1.5361070110140926,
            2.369640664264419,
            1.7669405214201148,
            1.907551086519539,
            1.2947306904843314,
            1.051769746899332,
            -0.958607314841775,
            -0.5528419686577808,
            -1.198596289982645,
            0.9294189257142927,
            -0.5533075336284727,
            1.1405080430381795,
            0.8903092168999485,
            0.2999646686241552,
            1.4253222382812498,
            0.4029660015822791,
            -0.1778319206319825,
            -0.9222688203476079,
            -0.046240308266771224,
            1.3790697197927464,
            -0.2958494831602009,
            -0.7798919119599449,
            1.6705148838312174,
            2.9620310509989363,
            1.741466761769755,
            -1.6639006599149144,
            -1.0969100130080565,
            0.12551379590411496,
            1.1222814272099224,
            1.0796153235269434,
            -0.08593729404129626,
            0.5588285248170116,
            1.670728134613862,
            0.010089544286783408,
            0.6560982020128319,
            0.2600713879850748,
            2.184691430817599,
            0.8788663369567252,
            1.1989593386702027,
            1.723431042160122,
            0.3178544893314692,
            0.8169700377572995,
            1.9275243408750287,
            -1.2668027348934305,
            2.1807879991365318,
            1.322177931384976,
            -0.27164621797877153,
            -0.9393021596463883,
            -1.4621809049267258,
            2.8016588602448,
            2.416186007554369,
            0.9097926873323222,
            0.18610837981320527,
            -0.07479107858799645,
            0.43264866001310676,
            -1.031517051446065,
            2.1317373253587393,
            1.2774487592644848,
            -1.749579997691106,
            -0.40406309373082644,
            -0.7746907182741372,
            0.12329617264531416,
            2.3465896200206995,
            1.59990489536868,
            2.3202958737562738,
            -0.7178312216953584,
            1.4523998459114416,
            0.5255630582700669,
            1.6104152711877888,
            1.8289497590057286,
            1.0624315531626123,
            -0.6989700043360187,
            2.0681223832983453,
            1.985956107039274,
            -0.19314197048118256,
            -0.8419392060633948,
            0.7911290007272862,
            0.5009222391903005,
            0.7404416449497659,
            0.8285310066451015,
            0.24501887073775308,
            -0.22040350874217546,
            1.4823875876924313,
            1.4017278616544993,
            1.217720767530819,
            1.3050072375095183,
            -0.3990271043132517,
            -0.8507808873446201,
            -0.8728952016351923,
            1.8944656026377276,
            1.0299516420368406,
            1.9202642403384957,
            -2.113509274827518,
            -0.7537476877006779,
            -0.02890978686288457,
            0.7712199019495336,
            3.2811641361371233,
            2.0528631645516087,
            1.3280940578150267,
            -0.5243578624452995,
            -0.38721614328026455,
            -1.368556230986828,
            2.7844596629126155,
            2.03049042628501,
            -0.9657727392294494,
            2.5615056619864696,
            -0.4654662439948844,
            0.7069566212769279,
            2.1871793553323795,
            0.8549130223078556,
            0.15228834438305647,
            -2.5228787452803374,
            1.7794088816958746
           ]
          }
         ],
         "name": "2003"
        },
        {
         "data": [
          {
           "coloraxis": "coloraxis",
           "customdata": [
            [
             0.165
            ],
            [
             1.4745
            ],
            [
             12.478
            ],
            [
             19.274
            ],
            [
             599.976
            ],
            [
             0.15
            ],
            [
             0.4039
            ],
            [
             2.216
            ],
            [
             0.2
            ],
            [
             0.122
            ],
            [
             4.689
            ],
            [
             1.243
            ],
            [
             94.83577
            ],
            [
             20.202
            ],
            [
             1.134753
            ],
            [
             0.451
            ],
            [
             4.132
            ],
            [
             12.873
            ],
            [
             4.11
            ],
            [
             125.7269
            ],
            [
             16.491
            ],
            [
             6.03
            ],
            [
             6.667
            ],
            [
             32.137
            ],
            [
             65.584
            ],
            [
             0.8658
            ],
            [
             151.728
            ],
            [
             0.3545
            ],
            [
             1.4069
            ],
            [
             229.784
            ],
            [
             3.467
            ],
            [
             0.3955
            ],
            [
             64.151
            ],
            [
             0.1207
            ],
            [
             0.0426
            ],
            [
             0.30854
            ],
            [
             21.743
            ],
            [
             0.1788
            ],
            [
             0.008
            ],
            [
             8.742826
            ],
            [
             1.9797
            ],
            [
             280.007
            ],
            [
             244.607
            ],
            [
             8.448
            ],
            [
             0.28
            ],
            [
             0.0634
            ],
            [
             15.271
            ],
            [
             24.684
            ],
            [
             0.067
            ],
            [
             100.26
            ],
            [
             0.265
            ],
            [
             0.0473
            ],
            [
             9.719
            ],
            [
             0.78
            ],
            [
             8.507
            ],
            [
             4.365
            ],
            [
             0.019407
            ],
            [
             46.209
            ],
            [
             5.559
            ],
            [
             98.552
            ],
            [
             0.04896
            ],
            [
             50
            ],
            [
             31.25
            ],
            [
             5.899
            ],
            [
             1.05
            ],
            [
             0.1881
            ],
            [
             30.567
            ],
            [
             4174.856
            ],
            [
             393.936
            ],
            [
             0.094
            ],
            [
             52.417
            ],
            [
             182.165
            ],
            [
             1.9422
            ],
            [
             2.24
            ],
            [
             0.0041
            ],
            [
             0.116
            ],
            [
             0.0621
            ],
            [
             11.923
            ],
            [
             150.698
            ],
            [
             12.455
            ],
            [
             0.221
            ],
            [
             6.43
            ],
            [
             2.894
            ],
            [
             36.81
            ],
            [
             0.1198
            ],
            [
             0.89529
            ],
            [
             0.4
            ],
            [
             0.003
            ],
            [
             387.451
            ],
            [
             24.275
            ],
            [
             0.200602
            ],
            [
             2.822
            ],
            [
             0.097
            ],
            [
             42.505
            ],
            [
             1.678
            ],
            [
             3.236
            ],
            [
             101.214
            ],
            [
             2.418
            ],
            [
             41.621
            ],
            [
             0.0319
            ],
            [
             110.617
            ],
            [
             1.588
            ],
            [
             0.4733
            ],
            [
             11.714
            ],
            [
             17.496
            ],
            [
             0.0936
            ],
            [
             0.021
            ],
            [
             3.303
            ],
            [
             0.0969
            ],
            [
             0.21981
            ],
            [
             237.583
            ],
            [
             0.141
            ],
            [
             2.1654
            ],
            [
             0.765
            ],
            [
             0.5045
            ],
            [
             1.442
            ],
            [
             5.608
            ],
            [
             0.1013
            ],
            [
             0.8231
            ],
            [
             218.397
            ],
            [
             0.22598
            ],
            [
             37.686
            ],
            [
             31.21
            ],
            [
             2.061
            ],
            [
             159.875
            ],
            [
             0.0373
            ],
            [
             85.643
            ],
            [
             0.1056
            ],
            [
             2.19108
            ],
            [
             0.1437
            ],
            [
             0.148219
            ],
            [
             931.865
            ],
            [
             56.499
            ],
            [
             0.081
            ],
            [
             11.499
            ],
            [
             1.022
            ],
            [
             24.135
            ],
            [
             0.667
            ],
            [
             45.105
            ],
            [
             154.159
            ],
            [
             55.957
            ],
            [
             2.3548
            ],
            [
             24.415
            ],
            [
             51.92121
            ],
            [
             4.5422
            ],
            [
             3.402
            ],
            [
             5.761
            ],
            [
             0.1136
            ],
            [
             85.628
            ],
            [
             12.728
            ],
            [
             13.233
            ],
            [
             51.208
            ],
            [
             1.21
            ],
            [
             8.623
            ],
            [
             85.831
            ],
            [
             574.055
            ],
            [
             40.436
            ],
            [
             7.249
            ],
            [
             6.4416
            ],
            [
             16.312
            ],
            [
             0.249
            ],
            [
             41.256
            ],
            [
             25.569
            ],
            [
             0.643
            ],
            [
             13.99
            ],
            [
             0.01635
            ],
            [
             0.028285
            ],
            [
             15.633
            ],
            [
             5.403
            ],
            [
             368.162
            ],
            [
             0.973
            ],
            [
             665.986
            ],
            [
             1.973
            ],
            [
             617.469
            ],
            [
             0.283
            ],
            [
             6.924
            ],
            [
             1.54
            ],
            [
             2.539
            ],
            [
             0.185
            ],
            [
             1077.431
            ],
            [
             0.0792
            ],
            [
             8.209
            ],
            [
             32.295
            ],
            [
             4.201
            ],
            [
             66.942
            ],
            [
             120.16
            ],
            [
             50.228
            ],
            [
             4.877
            ],
            [
             0.85366
            ],
            [
             1.473
            ],
            [
             104.249
            ],
            [
             0.13592
            ],
            [
             0.665
            ],
            [
             11.795
            ],
            [
             0.0633
            ],
            [
             166.023
            ],
            [
             0.0298
            ],
            [
             10.304
            ],
            [
             0.397
            ],
            [
             4.505
            ],
            [
             0.122
            ],
            [
             7.456
            ],
            [
             47.279
            ],
            [
             0.0439
            ],
            [
             2203.3102
            ],
            [
             0.547
            ],
            [
             33.708
            ],
            [
             8.97
            ],
            [
             0.215
            ],
            [
             59.346
            ],
            [
             3.8587588
            ],
            [
             21.973
            ],
            [
             7.086
            ],
            [
             303.347
            ],
            [
             0.0205
            ],
            [
             0.1893
            ],
            [
             6.044
            ],
            [
             0.3369
            ],
            [
             84.333
            ],
            [
             0.136
            ],
            [
             0.0464
            ],
            [
             0.815994
            ],
            [
             37.129
            ],
            [
             1.8778
            ]
           ],
           "geo": "geo",
           "hovertemplate": "<b>%{hovertext}</b><br><br>year=2004<br>ISO=%{location}<br>Electric_Energy_Production=%{customdata[0]}<br>color=%{z}<extra></extra>",
           "hovertext": [
            "Maldives",
            "Malawi",
            "Lebanon",
            "Lithuania",
            "Canada",
            "Central African Rep.",
            "Lesotho",
            "Malta",
            "Liberia",
            "Chad",
            "Latvia",
            "Mali",
            "Malaysia",
            "Libya",
            "Madagascar",
            "Cayman Islands",
            "Luxembourg",
            "Ecuador",
            "Cameroon",
            "Thailand",
            "Tajikistan",
            "Armenia",
            "T.F.Yug.Rep. Macedonia",
            "Syrian Arab Republic",
            "Switzerland",
            "Aruba",
            "Sweden",
            "Swaziland",
            "Suriname",
            "Australia",
            "Sudan (former)",
            "State of Palestine",
            "Austria",
            "St. Vincent-Grenadines",
            "St. Pierre-Miquelon",
            "St. Lucia",
            "Azerbaijan",
            "St. Kitts-Nevis",
            "St. Helena and Depend.",
            "Sri Lanka",
            "Bahamas",
            "Spain",
            "South Africa",
            "Bahrain",
            "Somalia",
            "Solomon Islands",
            "Slovenia",
            "Bangladesh",
            "Timor-Leste",
            "Argentina",
            "Togo",
            "Tonga",
            "Zimbabwe",
            "Afghanistan",
            "Zambia",
            "Yemen",
            "Wallis and Futuna Is.",
            "Viet Nam",
            "Albania",
            "Venezuela (Bolivar. Rep.)",
            "Vanuatu",
            "Uzbekistan",
            "Algeria",
            "Uruguay",
            "United States Virgin Is.",
            "American Samoa",
            "Slovakia",
            "United States",
            "United Kingdom",
            "Andorra",
            "United Arab Emirates",
            "Ukraine",
            "Uganda",
            "Angola",
            "Tuvalu",
            "Turks and Caicos Islands",
            "Anguilla",
            "Turkmenistan",
            "Turkey",
            "Tunisia",
            "Antigua and Barbuda",
            "Trinidad and Tobago",
            "United Rep. of Tanzania",
            "Singapore",
            "Sierra Leone",
            "Barbados",
            "Northern Mariana Islands",
            "Niue",
            "Brazil",
            "Nigeria",
            "Niger",
            "Nicaragua",
            "British Virgin Islands",
            "New Zealand",
            "New Caledonia",
            "Brunei Darussalam",
            "Netherlands",
            "Nepal",
            "Bulgaria",
            "Nauru",
            "Norway",
            "Namibia",
            "Burkina Faso",
            "Mozambique",
            "Morocco",
            "Burundi",
            "Montserrat",
            "Mongolia",
            "Micronesia (Fed. States of)",
            "Cabo Verde",
            "Mexico",
            "Mayotte",
            "Mauritius",
            "Cambodia",
            "Mauritania",
            "Martinique",
            "Myanmar",
            "Marshall Islands",
            "Botswana",
            "Other Asia",
            "Seychelles",
            "Serbia and Montenegro",
            "Belarus",
            "Senegal",
            "Saudi Arabia",
            "Sao Tome and Principe",
            "Belgium",
            "Samoa",
            "Réunion",
            "Rwanda",
            "Belize",
            "Russian Federation",
            "Romania",
            "Benin",
            "Oman",
            "Republic of Moldova",
            "Puerto Rico",
            "Bermuda",
            "Portugal",
            "Poland",
            "Philippines",
            "Bhutan",
            "Peru",
            "Paraguay",
            "Bolivia (Plur. State of)",
            "Papua New Guinea",
            "Panama",
            "Palau",
            "Pakistan",
            "Bosnia and Herzegovina",
            "Qatar",
            "Chile",
            "Neth. Antilles (former)",
            "Iceland",
            "Finland",
            "France",
            "Denmark",
            "Jamaica",
            "Kenya",
            "Kyrgyzstan",
            "Faeroe Islands",
            "Kuwait",
            "Ireland",
            "French Polynesia",
            "Croatia",
            "Falkland Is. (Malvinas)",
            "Guinea-Bissau",
            "Cuba",
            "Côte d'Ivoire",
            "Korea, Republic of",
            "Guinea",
            "India",
            "China, Macao SAR",
            "Germany",
            "Eritrea",
            "Georgia",
            "Gabon",
            "Ethiopia",
            "Gambia",
            "Japan",
            "Dominica",
            "Costa Rica",
            "Iraq",
            "Cyprus",
            "Kazakhstan",
            "Indonesia",
            "Colombia",
            "Honduras",
            "Guyana",
            "Guadeloupe",
            "Egypt",
            "Grenada",
            "French Guiana",
            "Dominican Republic",
            "Guernsey",
            "Iran (Islamic Rep. of)",
            "Cook Islands",
            "Estonia",
            "Congo",
            "El Salvador",
            "Equatorial Guinea",
            "Guatemala",
            "Israel",
            "Comoros",
            "China",
            "Haiti",
            "Hungary",
            "Jordan",
            "Djibouti",
            "Greece",
            "Lao People's Dem. Rep.",
            "Korea, Dem.Ppl's.Rep.",
            "Dem. Rep. of the Congo",
            "Italy",
            "Kiribati",
            "Isle of Man",
            "Ghana",
            "Greenland",
            "Czechia",
            "Gibraltar",
            "Jersey",
            "Fiji",
            "China, Hong Kong SAR",
            "Guam"
           ],
           "locations": [
            "MDV",
            "MWI",
            "LBN",
            "LTU",
            "CAN",
            "CAF",
            "LSO",
            "MLT",
            "LBR",
            "TCD",
            "LVA",
            "MLI",
            "MYS",
            "LBY",
            "MDG",
            "CYM",
            "LUX",
            "ECU",
            "CMR",
            "THA",
            "TJK",
            "ARM",
            "MKD",
            "SYR",
            "CHE",
            "ABW",
            "SWE",
            "SWZ",
            "SUR",
            "AUS",
            "SDN",
            "PSE",
            "AUT",
            "VCT",
            "SPM",
            "LCA",
            "AZE",
            "KNA",
            "SHN",
            "LKA",
            "BHS",
            "ESP",
            "ZAF",
            "BHR",
            "SOM",
            "SLB",
            "SVN",
            "BGD",
            "TLS",
            "ARG",
            "TGO",
            "TON",
            "ZWE",
            "AFG",
            "ZMB",
            "YEM",
            "WLF",
            "VNM",
            "ALB",
            "VEN",
            "VUT",
            "UZB",
            "DZA",
            "URY",
            "VIR",
            "ASM",
            "SVK",
            "USA",
            "GBR",
            "AND",
            "ARE",
            "UKR",
            "UGA",
            "AGO",
            "TUV",
            "TCA",
            "AIA",
            "TKM",
            "TUR",
            "TUN",
            "ATG",
            "TTO",
            "TZA",
            "SGP",
            "SLE",
            "BRB",
            "MNP",
            "NIU",
            "BRA",
            "NGA",
            "NER",
            "NIC",
            "VGB",
            "NZL",
            "NCL",
            "BRN",
            "NLD",
            "NPL",
            "BGR",
            "NRU",
            "NOR",
            "NAM",
            "BFA",
            "MOZ",
            "MAR",
            "BDI",
            "MSR",
            "MNG",
            "FSM",
            "CPV",
            "MEX",
            "MYT",
            "MUS",
            "KHM",
            "MRT",
            "MTQ",
            "MMR",
            "MHL",
            "BWA",
            "@@@",
            "SYC",
            "SRB",
            "BLR",
            "SEN",
            "SAU",
            "STP",
            "BEL",
            "WSM",
            "REU",
            "RWA",
            "BLZ",
            "RUS",
            "ROU",
            "BEN",
            "OMN",
            "MDA",
            "PRI",
            "BMU",
            "PRT",
            "POL",
            "PHL",
            "BTN",
            "PER",
            "PRY",
            "BOL",
            "PNG",
            "PAN",
            "PLW",
            "PAK",
            "BIH",
            "QAT",
            "CHL",
            "@@@",
            "ISL",
            "FIN",
            "FRA",
            "DNK",
            "JAM",
            "KEN",
            "KGZ",
            "FRO",
            "KWT",
            "IRL",
            "PYF",
            "HRV",
            "MDV",
            "GNB",
            "CUB",
            "CIV",
            "KOR",
            "GIN",
            "IND",
            "MAC",
            "DEU",
            "ERI",
            "GEO",
            "GAB",
            "ETH",
            "GMB",
            "JPN",
            "DMA",
            "CRI",
            "IRQ",
            "CYP",
            "KAZ",
            "IDN",
            "COL",
            "HND",
            "GUY",
            "GLP",
            "EGY",
            "GRD",
            "GUF",
            "DOM",
            "GGY",
            "IRN",
            "COK",
            "EST",
            "COG",
            "SLV",
            "GNQ",
            "GTM",
            "ISR",
            "COM",
            "CHN",
            "HTI",
            "HUN",
            "JOR",
            "DJI",
            "GRC",
            "LAO",
            "PRK",
            "COD",
            "ITA",
            "KIR",
            "IMN",
            "GHA",
            "GRL",
            "CZE",
            "GIB",
            "JEY",
            "FJI",
            "HKG",
            "GUM"
           ],
           "name": "",
           "type": "choropleth",
           "z": [
            -0.7825160557860937,
            0.16864477688781684,
            1.0961449812943445,
            1.2849718546478694,
            2.7781338782569227,
            -0.8239087409443188,
            -0.3937261468300118,
            0.3455697560563922,
            -0.6989700043360187,
            -0.9136401693252518,
            0.6710802327388493,
            0.0944711286416448,
            1.9769721747175006,
            1.3053943667717323,
            0.05490133958119953,
            -0.34582345812203946,
            0.6161603128475829,
            1.1096797692523344,
            0.6138418218760693,
            2.099428207452882,
            1.217246991685393,
            0.7803173121401513,
            0.823930455125564,
            1.5070053327802777,
            1.8167979009724267,
            -0.06258241852286216,
            2.181065733215167,
            -0.45038376048091466,
            0.14826322963687896,
            2.3613197852155112,
            0.5399538416563967,
            -0.4028535121663046,
            1.8072034306423104,
            -0.9182927299026508,
            -1.3705904008972811,
            -0.5106885248133518,
            1.3373194658569278,
            -0.7476324855401012,
            -2.0969100130080562,
            0.9416518351318652,
            0.296599383081785,
            2.447168888568552,
            2.3884688812279595,
            0.9267539051897371,
            -0.5528419686577808,
            -1.1979107421182673,
            1.1838674771521651,
            1.3924155377423488,
            -1.1739251972991736,
            2.001127700277035,
            -0.5767541260631921,
            -1.3251388592621884,
            0.9876215821254838,
            -0.10790539730951958,
            0.929776432804902,
            0.6399842480415886,
            -1.7120415941398492,
            1.6647265701378111,
            0.74499667403856,
            1.9936654422141453,
            -1.3101585908624953,
            1.6989700043360187,
            1.494850021680094,
            0.7707783961691477,
            0.021189299069938092,
            -0.7256112044496211,
            1.485252816960325,
            3.6206415003025127,
            2.5954256707988335,
            -1.0268721464003014,
            1.7194721611979684,
            2.2604649381308475,
            0.28829394978621675,
            0.35024801833416286,
            -2.3872161432802645,
            -0.9355420107730815,
            -1.2069083998234198,
            1.0763855439545331,
            2.1781074885805407,
            1.0953437318725254,
            -0.6556077263148893,
            0.8082109729242221,
            0.46149852678301867,
            1.5659658174466666,
            -0.9215431819467074,
            -0.0480362663605164,
            -0.3979400086720376,
            -2.5228787452803374,
            2.588216786132138,
            1.3851592385800424,
            -0.6976647413822313,
            0.45055700941832905,
            -1.0132282657337552,
            1.6284400205135083,
            0.22479195649268147,
            0.5100085129402347,
            2.005240588612709,
            0.3834562965247531,
            1.6193125105047435,
            -1.496209316942819,
            2.04382187596362,
            0.20085049809107747,
            -0.324863495532006,
            1.0687052196919413,
            1.2429387700295806,
            -1.0287241512618948,
            -1.6777807052660807,
            0.5189085736914142,
            -1.0136762229492347,
            -0.657952553741332,
            2.37581536193909,
            -0.8507808873446201,
            0.33553813244315084,
            -0.11633856484638239,
            -0.2971388294270707,
            0.15896526038341022,
            0.7488080049586022,
            -0.9943905546397196,
            -0.08454739831152121,
            2.339246668408184,
            -0.6459299956932723,
            1.5761800437877167,
            1.4942937686653328,
            0.31407799177921286,
            2.20378055748671,
            -1.4282911681913124,
            1.9326918718478328,
            -0.9763360818022065,
            0.34065823466899914,
            -0.8425432318657744,
            -0.829096121145807,
            2.9693530003349675,
            1.7520407611234161,
            -1.0915149811213503,
            1.0606600739740146,
            0.009450895798693935,
            1.3826473031547108,
            -0.17587416608345102,
            1.6542246871561987,
            2.187968884471148,
            1.7478544227895798,
            0.37195402714013137,
            1.3876567286201422,
            1.7153448049440816,
            0.657266252953749,
            0.5317343092765502,
            0.7604978752265267,
            -0.9446216686249999,
            1.932615800390958,
            1.1047601666385252,
            1.12165831249807,
            1.709337814187734,
            0.08278537031645007,
            0.9356583861006341,
            1.933644172433488,
            2.7589535039871795,
            1.6067681878722988,
            0.8602780997522349,
            0.8089937532085605,
            1.2125072127700836,
            -0.6038006529042637,
            1.6154871183986583,
            1.4077137431622606,
            -0.1917890270757779,
            1.1458177144918276,
            -1.786482243003695,
            -1.548443816923572,
            1.1940423278864234,
            0.7326349675391958,
            2.5660389605884877,
            -0.0118871597316481,
            2.8234650997609125,
            0.2951270852521912,
            2.7906151587464545,
            -0.5482135644757098,
            0.8403570592033562,
            0.18752072083646307,
            0.40466270087372225,
            -0.7328282715969862,
            3.0323894669731213,
            -1.1012748184105066,
            0.914290255665949,
            1.5091352888791685,
            0.623352681537992,
            1.8256986834622786,
            2.079759919660093,
            1.700945885580284,
            0.6881527555915663,
            -0.0687150678652719,
            0.16820274684263092,
            2.0180718977315037,
            -0.8667166341390108,
            -0.17717835469689538,
            1.0716979452216142,
            -1.198596289982645,
            2.2201682572036354,
            -1.5257837359237447,
            1.0130058500157368,
            -0.40120949323688493,
            0.6536947953150818,
            -0.9136401693252518,
            0.8725058993459249,
            1.6746682821905687,
            -1.3575354797578787,
            3.343075644978494,
            -0.2620126736665692,
            1.527732985249203,
            0.9527924430440922,
            -0.6675615400843947,
            1.773391452246459,
            0.5864476329111645,
            1.3418893557142992,
            0.8504011479971585,
            2.4819397042746667,
            -1.6882461389442456,
            -0.7228493860362033,
            0.7813244556669877,
            -0.4724989890188798,
            1.9259975498737831,
            -0.8664610916297825,
            -1.3334820194451191,
            -0.08831303459965784,
            1.5697132524760833,
            0.27364933472360464
           ]
          }
         ],
         "name": "2004"
        },
        {
         "data": [
          {
           "coloraxis": "coloraxis",
           "customdata": [
            [
             82.578
            ],
            [
             138.009
            ],
            [
             12.623
            ],
            [
             294.077
            ],
            [
             67.916
            ],
            [
             9.651
            ],
            [
             0.4789
            ],
            [
             0.122
            ],
            [
             0.39
            ],
            [
             576.064
            ],
            [
             0.23043
            ],
            [
             0.04994
            ],
            [
             953.086
            ],
            [
             127.369
            ],
            [
             2.2714
            ],
            [
             0.964
            ],
            [
             0.0836
            ],
            [
             0.99279
            ],
            [
             5.443
            ],
            [
             38.213
            ],
            [
             161.956
            ],
            [
             1.271
            ],
            [
             12.602
            ],
            [
             38.448
            ],
            [
             0.0219
            ],
            [
             1.574
            ],
            [
             621.705
            ],
            [
             0.0299
            ],
            [
             93.629
            ],
            [
             0.185
            ],
            [
             107.053
            ],
            [
             1.881
            ],
            [
             1.229
            ],
            [
             53.656
            ],
            [
             4.83
            ],
            [
             3.826
            ],
            [
             228.65
            ],
            [
             6.7365
            ],
            [
             6.945
            ],
            [
             1.51
            ],
            [
             0.9417
            ],
            [
             0.3236
            ],
            [
             1.573
            ],
            [
             4.004
            ],
            [
             105.99
            ],
            [
             0.026244
            ],
            [
             59.413
            ],
            [
             0.1005
            ],
            [
             13.162
            ],
            [
             0.245
            ],
            [
             0.2617
            ],
            [
             697.47
            ],
            [
             227.362
            ],
            [
             2.24
            ],
            [
             12.648
            ],
            [
             2.027
            ],
            [
             244.922
            ],
            [
             0.159
            ],
            [
             8.850716
            ],
            [
             1.883
            ],
            [
             7.058
            ],
            [
             7.822
            ],
            [
             6.06416
            ],
            [
             0.243
            ],
            [
             0.631
            ],
            [
             70.572
            ],
            [
             3.613
            ],
            [
             0.5163
            ],
            [
             15.341
            ],
            [
             0.968429
            ],
            [
             36.048
            ],
            [
             2.271
            ],
            [
             13.285
            ],
            [
             42.968
            ],
            [
             7.422
            ],
            [
             176.124
            ],
            [
             25.97
            ],
            [
             2.085
            ],
            [
             303.7
            ],
            [
             3.264
            ],
            [
             66.409
            ],
            [
             0.0475
            ],
            [
             0.189
            ],
            [
             1.248
            ],
            [
             2.533
            ],
            [
             48.602
            ],
            [
             87.025
            ],
            [
             44.365
            ],
            [
             1.585
            ],
            [
             10.205
            ],
            [
             0.1105
            ],
            [
             0.0283
            ],
            [
             0.0531
            ],
            [
             4294.368
            ],
            [
             0.4346
            ],
            [
             99.921
            ],
            [
             0.1317
            ],
            [
             0.0414
            ],
            [
             0.0837
            ],
            [
             60.698
            ],
            [
             0.098
            ],
            [
             0.0424
            ],
            [
             32.875
            ],
            [
             0.1178
            ],
            [
             0.911
            ],
            [
             23.539
            ],
            [
             0.0755
            ],
            [
             49.2
            ],
            [
             1.8972
            ],
            [
             8.686
            ],
            [
             0.085
            ],
            [
             0.156217
            ],
            [
             402.938
            ],
            [
             178.08834
            ],
            [
             250.718
            ],
            [
             0.433
            ],
            [
             0.048
            ],
            [
             0.003
            ],
            [
             59.647
            ],
            [
             36.246
            ],
            [
             0.23706
            ],
            [
             19.243
            ],
            [
             36.474
            ],
            [
             0.233087
            ],
            [
             622.579
            ],
            [
             2.866
            ],
            [
             30.961
            ],
            [
             50.41159
            ],
            [
             0.1023
            ],
            [
             0.288
            ],
            [
             7.267
            ],
            [
             398.355
            ],
            [
             3.419
            ],
            [
             0.0217
            ],
            [
             13.007
            ],
            [
             1.908
            ],
            [
             7.683
            ],
            [
             5.5658
            ],
            [
             29.297
            ],
            [
             2.845
            ],
            [
             2.864
            ],
            [
             0.5005
            ],
            [
             1099.79
            ],
            [
             0.0292
            ],
            [
             186.055
            ],
            [
             0.145
            ],
            [
             8.2595
            ],
            [
             0.069
            ],
            [
             3.438
            ],
            [
             0.203
            ],
            [
             0.132
            ],
            [
             0.00808
            ],
            [
             8.867
            ],
            [
             56.604
            ],
            [
             26.506
            ],
            [
             6.793
            ],
            [
             1.1486963
            ],
            [
             0.4572
            ],
            [
             16.415
            ],
            [
             4.896
            ],
            [
             14.396
            ],
            [
             17.09
            ],
            [
             0.01685
            ],
            [
             158.436
            ],
            [
             0.691
            ],
            [
             12.433
            ],
            [
             0.29
            ],
            [
             5.827
            ],
            [
             24.962
            ],
            [
             0.482
            ],
            [
             0.823038
            ],
            [
             0.9105
            ],
            [
             31.455
            ],
            [
             0.64386
            ],
            [
             132.1973
            ],
            [
             0.1904
            ],
            [
             0.3551
            ],
            [
             4.377
            ],
            [
             51.15635
            ],
            [
             0.072
            ],
            [
             2500.26
            ],
            [
             22.317
            ],
            [
             43.734
            ],
            [
             14.784
            ],
            [
             25.66
            ],
            [
             0.906
            ],
            [
             0.298
            ],
            [
             0.0741
            ],
            [
             35.756
            ],
            [
             4.768
            ],
            [
             0.16
            ],
            [
             111.69
            ],
            [
             15.117
            ],
            [
             0.0042
            ],
            [
             0.2
            ],
            [
             389.39
            ],
            [
             8.936
            ],
            [
             2.6475
            ],
            [
             5.579
            ],
            [
             4.132
            ],
            [
             0.129
            ],
            [
             6.317
            ],
            [
             0.408
            ],
            [
             0.556
            ],
            [
             1.517
            ],
            [
             0.107
            ],
            [
             0.699
            ],
            [
             22.912
            ],
            [
             4.905
            ],
            [
             52.484
            ],
            [
             4.01792
            ],
            [
             0.020334
            ],
            [
             7.397
            ],
            [
             100.89766
            ],
            [
             12.823
            ],
            [
             46.575
            ],
            [
             0.14731
            ],
            [
             2.632
            ],
            [
             9.374
            ],
            [
             22.872
            ],
            [
             60.02
            ],
            [
             1.5439
            ],
            [
             12.717
            ],
            [
             0.118
            ],
            [
             156.936
            ]
           ],
           "geo": "geo",
           "hovertemplate": "<b>%{hovertext}</b><br><br>year=2005<br>ISO=%{location}<br>Electric_Energy_Production=%{customdata[0]}<br>color=%{z}<extra></extra>",
           "hovertext": [
            "Czechia",
            "Norway",
            "Dominican Republic",
            "Spain",
            "Kazakhstan",
            "Jordan",
            "Mauritania",
            "Equatorial Guinea",
            "Northern Mariana Islands",
            "France",
            "Seychelles",
            "Vanuatu",
            "Russian Federation",
            "Indonesia",
            "Mauritius",
            "Cambodia",
            "Sierra Leone",
            "Barbados",
            "Albania",
            "Singapore",
            "Turkey",
            "Mali",
            "Bosnia and Herzegovina",
            "China, Hong Kong SAR",
            "Kiribati",
            "Gabon",
            "Canada",
            "Cook Islands",
            "Pakistan",
            "Maldives",
            "Argentina",
            "Uganda",
            "Republic of Moldova",
            "Viet Nam",
            "El Salvador",
            "Sudan (former)",
            "Australia",
            "Kenya",
            "T.F.Yug.Rep. Macedonia",
            "Martinique",
            "Botswana",
            "St. Lucia",
            "Guadeloupe",
            "Cameroon",
            "Venezuela (Bolivar. Rep.)",
            "Guinea-Bissau",
            "Romania",
            "Marshall Islands",
            "Croatia",
            "Faeroe Islands",
            "Togo",
            "India",
            "Other Asia",
            "Malta",
            "Oman",
            "China, Macao SAR",
            "South Africa",
            "Mayotte",
            "Sri Lanka",
            "New Caledonia",
            "Trinidad and Tobago",
            "Guatemala",
            "Myanmar",
            "Antigua and Barbuda",
            "French Polynesia",
            "Finland",
            "United Rep. of Tanzania",
            "Burkina Faso",
            "Cuba",
            "United States Virgin Is.",
            "Syrian Arab Republic",
            "Réunion",
            "Mozambique",
            "New Zealand",
            "Jamaica",
            "Saudi Arabia",
            "Ireland",
            "Bahamas",
            "Italy",
            "Brunei Darussalam",
            "Austria",
            "Comoros",
            "American Samoa",
            "Neth. Antilles (former)",
            "Nepal",
            "Israel",
            "Belgium",
            "Bulgaria",
            "Namibia",
            "Estonia",
            "Samoa",
            "Nauru",
            "Guernsey",
            "United States",
            "Isle of Man",
            "Netherlands",
            "St. Vincent-Grenadines",
            "Sao Tome and Principe",
            "Dominica",
            "United Arab Emirates",
            "British Virgin Islands",
            "St. Pierre-Miquelon",
            "Algeria",
            "Rwanda",
            "Guinea",
            "Nigeria",
            "Micronesia (Fed. States of)",
            "Uzbekistan",
            "Guam",
            "Iceland",
            "Andorra",
            "Belize",
            "Brazil",
            "Iran (Islamic Rep. of)",
            "Mexico",
            "Congo",
            "Tonga",
            "Niue",
            "Switzerland",
            "Denmark",
            "Cabo Verde",
            "Morocco",
            "Serbia",
            "Niger",
            "Germany",
            "Nicaragua",
            "Belarus",
            "Colombia",
            "Burundi",
            "Eritrea",
            "Georgia",
            "United Kingdom",
            "Mongolia",
            "Montserrat",
            "Tunisia",
            "Senegal",
            "Uruguay",
            "Côte d'Ivoire",
            "Iraq",
            "Ethiopia",
            "Montenegro",
            "State of Palestine",
            "Japan",
            "Jersey",
            "Ukraine",
            "Gibraltar",
            "Costa Rica",
            "Timor-Leste",
            "Papua New Guinea",
            "Gambia",
            "Turks and Caicos Islands",
            "St. Helena and Depend.",
            "Bahrain",
            "Philippines",
            "Bangladesh",
            "Ghana",
            "Madagascar",
            "Lesotho",
            "Kyrgyzstan",
            "Bolivia (Plur. State of)",
            "Qatar",
            "Tajikistan",
            "Falkland Is. (Malvinas)",
            "Sweden",
            "French Guiana",
            "Lebanon",
            "Somalia",
            "Panama",
            "Puerto Rico",
            "Cayman Islands",
            "Fiji",
            "Aruba",
            "Slovakia",
            "Guyana",
            "Thailand",
            "St. Kitts-Nevis",
            "Greenland",
            "Cyprus",
            "Paraguay",
            "Anguilla",
            "China",
            "Libya",
            "Kuwait",
            "Lithuania",
            "Peru",
            "Afghanistan",
            "Djibouti",
            "Solomon Islands",
            "Hungary",
            "Yemen",
            "Central African Rep.",
            "Egypt",
            "Slovenia",
            "Tuvalu",
            "Liberia",
            "Korea, Republic of",
            "Zambia",
            "Bhutan",
            "Honduras",
            "Luxembourg",
            "Chad",
            "Armenia",
            "Swaziland",
            "Haiti",
            "Suriname",
            "Benin",
            "Bermuda",
            "Korea, Dem.Ppl's.Rep.",
            "Latvia",
            "Chile",
            "Lao People's Dem. Rep.",
            "Wallis and Futuna Is.",
            "Dem. Rep. of the Congo",
            "Malaysia",
            "Turkmenistan",
            "Portugal",
            "Grenada",
            "Angola",
            "Zimbabwe",
            "Azerbaijan",
            "Greece",
            "Malawi",
            "Ecuador",
            "Palau",
            "Poland"
           ],
           "locations": [
            "CZE",
            "NOR",
            "DOM",
            "ESP",
            "KAZ",
            "JOR",
            "MRT",
            "GNQ",
            "MNP",
            "FRA",
            "SYC",
            "VUT",
            "RUS",
            "IDN",
            "MUS",
            "KHM",
            "SLE",
            "BRB",
            "ALB",
            "SGP",
            "TUR",
            "MLI",
            "BIH",
            "HKG",
            "KIR",
            "GAB",
            "CAN",
            "COK",
            "PAK",
            "MDV",
            "ARG",
            "UGA",
            "MDA",
            "VNM",
            "SLV",
            "SDN",
            "AUS",
            "KEN",
            "MKD",
            "MTQ",
            "BWA",
            "LCA",
            "GLP",
            "CMR",
            "VEN",
            "GNB",
            "ROU",
            "MHL",
            "HRV",
            "FRO",
            "TGO",
            "IND",
            "@@@",
            "MLT",
            "OMN",
            "MAC",
            "ZAF",
            "MYT",
            "LKA",
            "NCL",
            "TTO",
            "GTM",
            "MMR",
            "ATG",
            "PYF",
            "FIN",
            "TZA",
            "BFA",
            "CUB",
            "VIR",
            "SYR",
            "REU",
            "MOZ",
            "NZL",
            "JAM",
            "SAU",
            "IRL",
            "BHS",
            "ITA",
            "BRN",
            "AUT",
            "COM",
            "ASM",
            "@@@",
            "NPL",
            "ISR",
            "BEL",
            "BGR",
            "NAM",
            "EST",
            "WSM",
            "NRU",
            "GGY",
            "USA",
            "IMN",
            "NLD",
            "VCT",
            "STP",
            "DMA",
            "ARE",
            "VGB",
            "SPM",
            "DZA",
            "RWA",
            "GIN",
            "NGA",
            "FSM",
            "UZB",
            "GUM",
            "ISL",
            "AND",
            "BLZ",
            "BRA",
            "IRN",
            "MEX",
            "COG",
            "TON",
            "NIU",
            "CHE",
            "DNK",
            "CPV",
            "MAR",
            "SRB",
            "NER",
            "DEU",
            "NIC",
            "BLR",
            "COL",
            "BDI",
            "ERI",
            "GEO",
            "GBR",
            "MNG",
            "MSR",
            "TUN",
            "SEN",
            "URY",
            "CIV",
            "IRQ",
            "ETH",
            "MNE",
            "PSE",
            "JPN",
            "JEY",
            "UKR",
            "GIB",
            "CRI",
            "TLS",
            "PNG",
            "GMB",
            "TCA",
            "SHN",
            "BHR",
            "PHL",
            "BGD",
            "GHA",
            "MDG",
            "LSO",
            "KGZ",
            "BOL",
            "QAT",
            "TJK",
            "MDV",
            "SWE",
            "GUF",
            "LBN",
            "SOM",
            "PAN",
            "PRI",
            "CYM",
            "FJI",
            "ABW",
            "SVK",
            "GUY",
            "THA",
            "KNA",
            "GRL",
            "CYP",
            "PRY",
            "AIA",
            "CHN",
            "LBY",
            "KWT",
            "LTU",
            "PER",
            "AFG",
            "DJI",
            "SLB",
            "HUN",
            "YEM",
            "CAF",
            "EGY",
            "SVN",
            "TUV",
            "LBR",
            "KOR",
            "ZMB",
            "BTN",
            "HND",
            "LUX",
            "TCD",
            "ARM",
            "SWZ",
            "HTI",
            "SUR",
            "BEN",
            "BMU",
            "PRK",
            "LVA",
            "CHL",
            "LAO",
            "WLF",
            "COD",
            "MYS",
            "TKM",
            "PRT",
            "GRD",
            "AGO",
            "ZWE",
            "AZE",
            "GRC",
            "MWI",
            "ECU",
            "PLW",
            "POL"
           ],
           "name": "",
           "type": "choropleth",
           "z": [
            1.9168643602596553,
            2.13990740903085,
            1.1011625822148416,
            2.4684610593126166,
            1.8319720996581095,
            0.9845723156216323,
            -0.3197551629573923,
            -0.9136401693252518,
            -0.4089353929735008,
            2.760470735685014,
            -0.6374609801694014,
            -1.301551461984671,
            2.979132090187454,
            2.105063739088943,
            0.35629362144816523,
            -0.01592296609716924,
            -1.0777937225609837,
            -0.0031426059721503205,
            0.7358383343170737,
            1.582211134320218,
            2.2093970419949933,
            0.10414555055400815,
            1.100439475279108,
            1.584873753459825,
            -1.6595558851598817,
            0.19700472802304578,
            2.793584360151938,
            -1.5243288116755704,
            1.9714103849485844,
            -0.7328282715969862,
            2.029598842253436,
            0.2743887955503789,
            0.08955188288645412,
            1.7296182933325952,
            0.6839471307515121,
            0.5827449656912771,
            2.359171205716701,
            0.8284343141183961,
            0.8416722500736344,
            0.17897694729316943,
            -0.026087429580295144,
            -0.4899914870597653,
            0.19672872262328683,
            0.602494068807281,
            2.025264892154508,
            -1.580969970914738,
            1.7738814821957622,
            -0.9978339382434923,
            1.1193218864639771,
            -0.6108339156354675,
            -0.582196277360119,
            2.8435255322113626,
            2.356717880891028,
            0.35024801833416286,
            1.1020218569241527,
            0.30685374869300874,
            2.3890277971683065,
            -0.7986028756795485,
            0.9469784054177105,
            0.2748503200166648,
            0.8486816540239503,
            0.8933178116161119,
            0.7827706514301324,
            -0.6143937264016879,
            -0.19997064075586568,
            1.8486324254496624,
            0.5578679615680222,
            -0.28709787495277733,
            1.1858536699341418,
            -0.013932213910809716,
            1.5568811743797557,
            0.35621713421973517,
            1.1233615587462964,
            1.6331451393674434,
            0.8705209500127643,
            2.2458185402794295,
            1.4144719496293028,
            0.3191060593097763,
            2.4824447919182653,
            0.5137501500818236,
            1.8222269405949392,
            -1.3233063903751334,
            -0.7235381958267558,
            0.09621458534640519,
            0.40363518979054797,
            1.686654141095464,
            1.939644031956326,
            1.6470404858549599,
            0.2000292665537703,
            1.0088130090520893,
            -0.9566377219788705,
            -1.5482135644757098,
            -1.274905478918531,
            3.632899257967335,
            -0.3619102780154943,
            1.9996567717662863,
            -0.8804142250382162,
            -1.3829996588791011,
            -1.07727454200674,
            1.7831743813013916,
            -1.0087739243075051,
            -1.3726341434072673,
            1.5168657614978143,
            -0.9288547095489171,
            -0.040481623027001735,
            1.3717880089022005,
            -1.1220530483708118,
            1.6919651027673603,
            0.27811311597983385,
            0.9388198250262103,
            -1.0705810742857071,
            -0.8062717066657774,
            2.605238226465325,
            2.2506354857775097,
            2.3991855147322516,
            -0.36351210364663455,
            -1.3187587626244128,
            -2.5228787452803374,
            1.7755886053205263,
            1.55926008611311,
            -0.6251417199349102,
            1.2842727798577254,
            1.5619833937680847,
            -0.6324819477823177,
            2.794194467554442,
            0.4572761860613257,
            1.4908149793838605,
            1.7025303954610895,
            -0.9901243662878398,
            -0.5406075122407692,
            0.8613551601932601,
            2.6002702726344635,
            0.5338991007965946,
            -1.6635402661514704,
            1.1141771402444487,
            0.2805783703680763,
            0.8855308331880921,
            0.7455275964541966,
            1.4668231510656868,
            0.45408227073109003,
            0.45697301363581794,
            -0.3005959181846626,
            3.0413097664782813,
            -1.5346171485515816,
            2.269641345646085,
            -0.8386319977650252,
            0.916953757512456,
            -1.1611509092627446,
            0.5363058723510337,
            -0.6925039620867871,
            -0.8794260687941501,
            -2.0925886392254136,
            0.9477767084647384,
            1.7528471222933266,
            1.4233441936327875,
            0.832061614590727,
            0.06020522218846868,
            -0.3398937782767559,
            1.2152408870653588,
            0.6898414091375048,
            1.1582418379808737,
            1.2327420627207368,
            -1.7734000947926425,
            2.1998538693302323,
            -0.16052195262580163,
            1.094575933649249,
            -0.5376020021010439,
            0.7654450180901501,
            1.3972793788535927,
            -0.31695296176115045,
            -0.084580112771537,
            -0.040720049869061185,
            1.497689689521025,
            -0.19120855474772439,
            2.1212225852019997,
            -0.7203330559515444,
            -0.4496493276983845,
            0.6411765466131141,
            1.7088995500480426,
            -1.1426675035687315,
            3.397985172949654,
            1.3486358134280443,
            1.6408192006122315,
            1.1697919538760315,
            1.4092566520389096,
            -0.042871802323186915,
            -0.5257837359237448,
            -1.1301817920206718,
            1.5533489286056346,
            0.67833624673218,
            -0.7958800173440752,
            2.0480142909380548,
            1.179465613075431,
            -2.3767507096020997,
            -0.6989700043360187,
            2.590384794126528,
            0.9511431601075526,
            0.4228359687795226,
            0.7465563614103692,
            0.6161603128475829,
            -0.889410289700751,
            0.800510876894368,
            -0.3893398369101201,
            -0.2549252084179425,
            0.18098558078673047,
            -0.9706162223147904,
            -0.15552282425431863,
            1.3600630006277614,
            0.6906390117159673,
            1.7200269268197295,
            0.6040012853479109,
            -1.691777180778978,
            0.869055618701908,
            2.003881094275841,
            1.1079896422675122,
            1.6681528635682803,
            -0.8317677704865792,
            0.4202858849419179,
            0.9719249491841914,
            1.3593041423499324,
            1.7782959910888338,
            0.18861916720784877,
            1.1043846712878835,
            -0.9281179926938746,
            2.19572257907437
           ]
          }
         ],
         "name": "2005"
        },
        {
         "data": [
          {
           "coloraxis": "coloraxis",
           "customdata": [
            [
             1.218
            ],
            [
             2.748
            ],
            [
             0.075
            ],
            [
             27.358
            ],
            [
             1.8912
            ],
            [
             4.134184
            ],
            [
             118.407
            ],
            [
             0.0501
            ],
            [
             30.703
            ],
            [
             49.041
            ],
            [
             1.962
            ],
            [
             14.122
            ],
            [
             8.435
            ],
            [
             1104.589
            ],
            [
             50.558
            ],
            [
             0.158
            ],
            [
             4.5208
            ],
            [
             85.617
            ],
            [
             0.0322
            ],
            [
             0.0219
            ],
            [
             0.2
            ],
            [
             0.0953
            ],
            [
             60.789
            ],
            [
             4.652
            ],
            [
             64.499
            ],
            [
             0.0795
            ],
            [
             0.1887
            ],
            [
             0.839996
            ],
            [
             23.11
            ],
            [
             35.226
            ],
            [
             0.873
            ],
            [
             0.1707
            ],
            [
             0.074
            ],
            [
             24.754
            ],
            [
             36.481
            ],
            [
             9.732
            ],
            [
             0.3453
            ],
            [
             253.798
            ],
            [
             0.657
            ],
            [
             3.545
            ],
            [
             0.218734
            ],
            [
             0.0714
            ],
            [
             55.32
            ],
            [
             3.269
            ],
            [
             0.151
            ],
            [
             5.618
            ],
            [
             5.99
            ],
            [
             2.952
            ],
            [
             0.66434
            ],
            [
             0.913
            ],
            [
             0.43728
            ],
            [
             47.607
            ],
            [
             138.7416
            ],
            [
             639.492
            ],
            [
             98.833
            ],
            [
             2.3651
            ],
            [
             17.082
            ],
            [
             0.0795
            ],
            [
             37.453
            ],
            [
             0.974117
            ],
            [
             24.947
            ],
            [
             9.499816
            ],
            [
             143.419
            ],
            [
             7.974
            ],
            [
             0.5478
            ],
            [
             0.1343
            ],
            [
             8.163
            ],
            [
             0.0171
            ],
            [
             11.61
            ],
            [
             6.16415
            ],
            [
             0.258
            ],
            [
             1.872
            ],
            [
             1.491
            ],
            [
             82.301
            ],
            [
             0.3
            ],
            [
             14.148
            ],
            [
             161.742
            ],
            [
             27.48
            ],
            [
             0.57
            ],
            [
             3.447
            ],
            [
             0.043
            ],
            [
             14.737
            ],
            [
             397.282
            ],
            [
             7.19
            ],
            [
             0.3955
            ],
            [
             0.72
            ],
            [
             9.682
            ],
            [
             0.269
            ],
            [
             314.122
            ],
            [
             45.843
            ],
            [
             3.134
            ],
            [
             0.116
            ],
            [
             7.599
            ],
            [
             31.811
            ],
            [
             0.13
            ],
            [
             7.543
            ],
            [
             8.697053
            ],
            [
             4.891
            ],
            [
             19.862
            ],
            [
             0.105
            ],
            [
             0.0416
            ],
            [
             2.121
            ],
            [
             3.298
            ],
            [
             0.0163
            ],
            [
             7.473
            ],
            [
             9.745
            ],
            [
             181.434
            ],
            [
             0.0854
            ],
            [
             13.653
            ],
            [
             56.819
            ],
            [
             4300.831
            ],
            [
             53.852
            ],
            [
             0.4816
            ],
            [
             43.602
            ],
            [
             0.716
            ],
            [
             1.665
            ],
            [
             1.1736578
            ],
            [
             5.3
            ],
            [
             112.381
            ],
            [
             62.697
            ],
            [
             0.0412
            ],
            [
             13.287
            ],
            [
             13.78
            ],
            [
             0.1
            ],
            [
             13.047
            ],
            [
             5.106
            ],
            [
             5.989
            ],
            [
             0.26
            ],
            [
             0.308
            ],
            [
             0.555
            ],
            [
             17.08
            ],
            [
             574.874
            ],
            [
             193.381
            ],
            [
             0.25194
            ],
            [
             4.335
            ],
            [
             133.108
            ],
            [
             0.5693
            ],
            [
             3.348
            ],
            [
             16.935
            ],
            [
             121.582
            ],
            [
             29.879
            ],
            [
             0.072
            ],
            [
             1.02036
            ],
            [
             0.0082
            ],
            [
             4.521
            ],
            [
             1.605
            ],
            [
             0.3308
            ],
            [
             1.553
            ],
            [
             71.653
            ],
            [
             5.644
            ],
            [
             752.454
            ],
            [
             2.261
            ],
            [
             1.5333
            ],
            [
             0.154
            ],
            [
             607.47
            ],
            [
             0.216
            ],
            [
             98.213
            ],
            [
             1.192
            ],
            [
             22.435
            ],
            [
             0.212
            ],
            [
             115.197
            ],
            [
             1.616
            ],
            [
             106.7015
            ],
            [
             0.1076
            ],
            [
             9.93
            ],
            [
             60.493
            ],
            [
             0.0236
            ],
            [
             31.418
            ],
            [
             24.543
            ],
            [
             5.657
            ],
            [
             7.3225
            ],
            [
             235.464
            ],
            [
             1.5821
            ],
            [
             232.83
            ],
            [
             3.306
            ],
            [
             5.524
            ],
            [
             38.613
            ],
            [
             0.027946
            ],
            [
             39.442
            ],
            [
             5.941
            ],
            [
             176.299
            ],
            [
             1.333
            ],
            [
             0.019687
            ],
            [
             13.309
            ],
            [
             0.16716
            ],
            [
             0.9771
            ],
            [
             0.0369
            ],
            [
             53.77444
            ],
            [
             45.611
            ],
            [
             0.387
            ],
            [
             0.191
            ],
            [
             15.115
            ],
            [
             0.171
            ],
            [
             12.482
            ],
            [
             0.25252
            ],
            [
             64.059
            ],
            [
             995.794
            ],
            [
             0.9095
            ],
            [
             35.859
            ],
            [
             299.454
            ],
            [
             5.387
            ],
            [
             11.12
            ],
            [
             0.049
            ],
            [
             0.167
            ],
            [
             0.306
            ],
            [
             0.122
            ],
            [
             1.669
            ],
            [
             0.453
            ],
            [
             2.3504
            ],
            [
             0.003
            ],
            [
             0.05094
            ],
            [
             0.0042
            ],
            [
             2865.726
            ],
            [
             50.92
            ],
            [
             0.211745
            ],
            [
             419.336
            ],
            [
             7.006
            ],
            [
             404.021
            ],
            [
             16.469
            ],
            [
             1.176
            ],
            [
             84.361
            ],
            [
             257.75
            ],
            [
             0.3831
            ],
            [
             66.768
            ],
            [
             192.68178
            ]
           ],
           "geo": "geo",
           "hovertemplate": "<b>%{hovertext}</b><br><br>year=2006<br>ISO=%{location}<br>Electric_Energy_Production=%{customdata[0]}<br>color=%{z}<extra></extra>",
           "hovertext": [
            "Neth. Antilles (former)",
            "Nepal",
            "Solomon Islands",
            "Peru",
            "Guam",
            "Lao People's Dem. Rep.",
            "Egypt",
            "Comoros",
            "Iraq",
            "Portugal",
            "Senegal",
            "Tunisia",
            "Ghana",
            "Japan",
            "Israel",
            "Turks and Caicos Islands",
            "Bhutan",
            "Belgium",
            "Cook Islands",
            "Montserrat",
            "Liberia",
            "Burundi",
            "Greece",
            "Cyprus",
            "Austria",
            "Anguilla",
            "American Samoa",
            "Fiji",
            "Nigeria",
            "Algeria",
            "Guinea",
            "Rwanda",
            "Andorra",
            "Libya",
            "Serbia",
            "Estonia",
            "State of Palestine",
            "South Africa",
            "French Polynesia",
            "Mongolia",
            "Niger",
            "Micronesia (Fed. States of)",
            "Chile",
            "Ethiopia",
            "Gibraltar",
            "Uruguay",
            "Honduras",
            "Montenegro",
            "Guyana",
            "Afghanistan",
            "Swaziland",
            "Kuwait",
            "Thailand",
            "Germany",
            "Netherlands",
            "Réunion",
            "Kyrgyzstan",
            "Guernsey",
            "Syrian Arab Republic",
            "United States Virgin Is.",
            "Puerto Rico",
            "Sri Lanka",
            "Sweden",
            "Zimbabwe",
            "Burkina Faso",
            "St. Vincent-Grenadines",
            "Guatemala",
            "Falkland Is. (Malvinas)",
            "Lebanon",
            "Myanmar",
            "Antigua and Barbuda",
            "New Caledonia",
            "Namibia",
            "Finland",
            "Somalia",
            "Ecuador",
            "Poland",
            "Ireland",
            "Haiti",
            "United Rep. of Tanzania",
            "Sao Tome and Principe",
            "Mozambique",
            "United Kingdom",
            "Trinidad and Tobago",
            "Isle of Man",
            "Bermuda",
            "Zambia",
            "Eritrea",
            "Italy",
            "Bulgaria",
            "Nicaragua",
            "Samoa",
            "Georgia",
            "Belarus",
            "Chad",
            "Dem. Rep. of the Congo",
            "Costa Rica",
            "Latvia",
            "Morocco",
            "British Virgin Islands",
            "St. Pierre-Miquelon",
            "Bahamas",
            "Brunei Darussalam",
            "Nauru",
            "Jamaica",
            "Bahrain",
            "Saudi Arabia",
            "Dominica",
            "Turkmenistan",
            "Philippines",
            "United States",
            "Colombia",
            "Lesotho",
            "New Zealand",
            "French Guiana",
            "Gabon",
            "Madagascar",
            "Bolivia (Plur. State of)",
            "Venezuela (Bolivar. Rep.)",
            "Romania",
            "Sierra Leone",
            "Oman",
            "Dominican Republic",
            "Marshall Islands",
            "Croatia",
            "Cameroon",
            "Panama",
            "Faeroe Islands",
            "Togo",
            "Cayman Islands",
            "Qatar",
            "France",
            "Ukraine",
            "Cabo Verde",
            "Luxembourg",
            "Indonesia",
            "Mauritania",
            "Papua New Guinea",
            "Tajikistan",
            "Norway",
            "Bangladesh",
            "Timor-Leste",
            "Barbados",
            "St. Helena and Depend.",
            "Sudan (former)",
            "Guadeloupe",
            "St. Lucia",
            "Martinique",
            "Kazakhstan",
            "Côte d'Ivoire",
            "India",
            "Malta",
            "Suriname",
            "Benin",
            "Canada",
            "Gambia",
            "Pakistan",
            "Republic of Moldova",
            "Korea, Dem.Ppl's.Rep.",
            "Maldives",
            "Argentina",
            "Uganda",
            "Malaysia",
            "Palau",
            "Iceland",
            "Viet Nam",
            "Kiribati",
            "Slovakia",
            "Azerbaijan",
            "El Salvador",
            "Kenya",
            "Other Asia",
            "Malawi",
            "Australia",
            "Angola",
            "Albania",
            "China, Hong Kong SAR",
            "Guinea-Bissau",
            "Singapore",
            "Armenia",
            "Turkey",
            "Mali",
            "Wallis and Futuna Is.",
            "Bosnia and Herzegovina",
            "Grenada",
            "Botswana",
            "Jersey",
            "Paraguay",
            "Denmark",
            "Northern Mariana Islands",
            "St. Kitts-Nevis",
            "Slovenia",
            "Mayotte",
            "Lithuania",
            "Seychelles",
            "Switzerland",
            "Russian Federation",
            "Aruba",
            "Hungary",
            "Spain",
            "Yemen",
            "Jordan",
            "Tonga",
            "Central African Rep.",
            "Djibouti",
            "Equatorial Guinea",
            "China, Macao SAR",
            "Congo",
            "Mauritius",
            "Niue",
            "Vanuatu",
            "Tuvalu",
            "China",
            "Uzbekistan",
            "Belize",
            "Brazil",
            "T.F.Yug.Rep. Macedonia",
            "Korea, Republic of",
            "Cuba",
            "Cambodia",
            "Czechia",
            "Mexico",
            "Greenland",
            "United Arab Emirates",
            "Iran (Islamic Rep. of)"
           ],
           "locations": [
            "@@@",
            "NPL",
            "SLB",
            "PER",
            "GUM",
            "LAO",
            "EGY",
            "COM",
            "IRQ",
            "PRT",
            "SEN",
            "TUN",
            "GHA",
            "JPN",
            "ISR",
            "TCA",
            "BTN",
            "BEL",
            "COK",
            "MSR",
            "LBR",
            "BDI",
            "GRC",
            "CYP",
            "AUT",
            "AIA",
            "ASM",
            "FJI",
            "NGA",
            "DZA",
            "GIN",
            "RWA",
            "AND",
            "LBY",
            "SRB",
            "EST",
            "PSE",
            "ZAF",
            "PYF",
            "MNG",
            "NER",
            "FSM",
            "CHL",
            "ETH",
            "GIB",
            "URY",
            "HND",
            "MNE",
            "GUY",
            "AFG",
            "SWZ",
            "KWT",
            "THA",
            "DEU",
            "NLD",
            "REU",
            "KGZ",
            "GGY",
            "SYR",
            "VIR",
            "PRI",
            "LKA",
            "SWE",
            "ZWE",
            "BFA",
            "VCT",
            "GTM",
            "MDV",
            "LBN",
            "MMR",
            "ATG",
            "NCL",
            "NAM",
            "FIN",
            "SOM",
            "ECU",
            "POL",
            "IRL",
            "HTI",
            "TZA",
            "STP",
            "MOZ",
            "GBR",
            "TTO",
            "IMN",
            "BMU",
            "ZMB",
            "ERI",
            "ITA",
            "BGR",
            "NIC",
            "WSM",
            "GEO",
            "BLR",
            "TCD",
            "COD",
            "CRI",
            "LVA",
            "MAR",
            "VGB",
            "SPM",
            "BHS",
            "BRN",
            "NRU",
            "JAM",
            "BHR",
            "SAU",
            "DMA",
            "TKM",
            "PHL",
            "USA",
            "COL",
            "LSO",
            "NZL",
            "GUF",
            "GAB",
            "MDG",
            "BOL",
            "VEN",
            "ROU",
            "SLE",
            "OMN",
            "DOM",
            "MHL",
            "HRV",
            "CMR",
            "PAN",
            "FRO",
            "TGO",
            "CYM",
            "QAT",
            "FRA",
            "UKR",
            "CPV",
            "LUX",
            "IDN",
            "MRT",
            "PNG",
            "TJK",
            "NOR",
            "BGD",
            "TLS",
            "BRB",
            "SHN",
            "SDN",
            "GLP",
            "LCA",
            "MTQ",
            "KAZ",
            "CIV",
            "IND",
            "MLT",
            "SUR",
            "BEN",
            "CAN",
            "GMB",
            "PAK",
            "MDA",
            "PRK",
            "MDV",
            "ARG",
            "UGA",
            "MYS",
            "PLW",
            "ISL",
            "VNM",
            "KIR",
            "SVK",
            "AZE",
            "SLV",
            "KEN",
            "@@@",
            "MWI",
            "AUS",
            "AGO",
            "ALB",
            "HKG",
            "GNB",
            "SGP",
            "ARM",
            "TUR",
            "MLI",
            "WLF",
            "BIH",
            "GRD",
            "BWA",
            "JEY",
            "PRY",
            "DNK",
            "MNP",
            "KNA",
            "SVN",
            "MYT",
            "LTU",
            "SYC",
            "CHE",
            "RUS",
            "ABW",
            "HUN",
            "ESP",
            "YEM",
            "JOR",
            "TON",
            "CAF",
            "DJI",
            "GNQ",
            "MAC",
            "COG",
            "MUS",
            "NIU",
            "VUT",
            "TUV",
            "CHN",
            "UZB",
            "BLZ",
            "BRA",
            "MKD",
            "KOR",
            "CUB",
            "KHM",
            "CZE",
            "MEX",
            "GRL",
            "ARE",
            "IRN"
           ],
           "name": "",
           "type": "choropleth",
           "z": [
            0.08564728829685654,
            0.4390167283875129,
            -1.1249387366083,
            1.4370843452150368,
            0.27673745920116133,
            0.6163898018525573,
            2.073377377821953,
            -1.3001622741327543,
            1.487180812603931,
            1.6905593173434337,
            0.2926990030439297,
            1.1498962071587606,
            0.926085086925144,
            3.043200714007079,
            1.7037898855642093,
            -0.8013429130455774,
            0.6552152942898419,
            1.932560006186076,
            -1.4921441283041692,
            -1.6595558851598817,
            -0.6989700043360187,
            -1.0209070993616736,
            1.7838249991493031,
            0.6676397060564108,
            1.80955298133529,
            -1.0996328713435297,
            -0.7242280998350686,
            -0.07572278201200379,
            1.3637999454791092,
            1.5468633307613073,
            -0.05898575629443027,
            -0.7677664788852664,
            -1.1307682802690238,
            1.3936453866055358,
            1.562066734495455,
            0.9882021002587809,
            -0.4618034216505458,
            2.4044881954088586,
            -0.1824346304402192,
            0.5496162395190853,
            -0.6600837050066647,
            -1.1463017882238256,
            1.7428821714372729,
            0.514414920580369,
            -0.8210230527068306,
            0.7495817348655593,
            0.7774268223893114,
            0.470116353151004,
            -0.17760959784252836,
            -0.039529222465701036,
            -0.35924038565141453,
            1.6776708148604367,
            2.142206698576115,
            2.805835115855193,
            1.9949019782412791,
            0.373849508088649,
            1.2325387175305988,
            -1.0996328713435297,
            1.5734866105872498,
            -0.01138887741014251,
            1.3970183270423082,
            0.9777151936090006,
            2.1566066900246033,
            0.9016762313263756,
            -0.2613779720820575,
            -0.8719239873312846,
            0.9118497964994201,
            -1.7670038896078462,
            1.0648322197385738,
            0.7898731984077805,
            -0.5883802940367698,
            0.27230584440208644,
            0.17347764345299457,
            1.915405112148399,
            -0.5228787452803376,
            1.1506950511427139,
            2.2088228090206314,
            1.4390167283875128,
            -0.24412514432750865,
            0.5374412834079476,
            -1.3665315444204136,
            1.1684090835196261,
            2.599098888544504,
            0.8567288903828826,
            -0.4028535121663046,
            -0.14266750356873156,
            0.9859650783048709,
            -0.5702477199975919,
            2.4970983539216283,
            1.6612730304430585,
            0.4960989921325713,
            -0.9355420107730815,
            0.8807564445102104,
            1.502577321658626,
            -0.8860566476931632,
            0.877544107715944,
            0.9393721166812375,
            0.6893976628212823,
            1.2980229775546868,
            -0.978810700930062,
            -1.3809066693732572,
            0.3265406685165618,
            0.5182506513085,
            -1.7878123955960423,
            0.873494982256169,
            0.9887818434536402,
            2.258718675385337,
            -1.068542129310995,
            1.1352280902260554,
            1.7544935859813624,
            3.633552377404253,
            1.7312018371202478,
            -0.31731352175023186,
            1.6395064105769037,
            -0.14508697769214446,
            0.22141423784233868,
            0.06954148938578009,
            0.724275869600789,
            2.050692892259234,
            1.7972467606932976,
            -1.3851027839668655,
            1.1234269350044213,
            1.139249217571607,
            -1,
            1.1155106623849984,
            0.7080808104682315,
            0.7773543130842088,
            -0.585026652029182,
            -0.5114492834995558,
            -0.2557070168773237,
            1.2324878663529861,
            2.7595726671224554,
            2.2864138016988482,
            -0.5987028749784167,
            0.6369891018122291,
            2.1242041580400097,
            -0.2446588161884524,
            0.5247854493212224,
            1.228785200980649,
            2.084869283166038,
            1.4753660582789243,
            -1.1426675035687315,
            0.008753425124174749,
            -2.0861861476162833,
            0.6552345070342942,
            0.20547503674089088,
            -0.480434499119491,
            0.1911714557285585,
            1.8552343783505367,
            0.7515870050823102,
            2.8764799552202973,
            0.3543005623453597,
            0.1856271356748994,
            -0.8124792791635369,
            2.783524835099704,
            -0.6655462488490691,
            1.992168977141249,
            0.0762762554042176,
            1.3509260738690931,
            -0.6736641390712486,
            2.061441169187795,
            0.20844135643856737,
            2.0281705247397825,
            -0.9681877286696297,
            0.9969492484953811,
            1.7817051227969614,
            -1.6270879970298935,
            1.4971785353631066,
            1.3899276473809548,
            0.7525861787404092,
            0.8646593803536362,
            2.3719245174246955,
            0.19923393053690178,
            2.3670389381558685,
            0.5193028492354287,
            0.7422536699065937,
            1.5867335450281221,
            -1.5536803452818724,
            1.5959589287575484,
            0.773859552376687,
            2.246249848909001,
            0.1248301494138592,
            -1.705820458707514,
            1.1241454250616538,
            -0.7768676375284117,
            -0.010060986715464458,
            -1.4329736338409396,
            1.730575896396995,
            1.659069594050213,
            -0.4122890349810886,
            -0.7189666327522725,
            1.179408151513836,
            -0.7670038896078462,
            1.096284178244864,
            -0.5977042193446838,
            1.8065801547793845,
            2.9981695051742854,
            -0.04119729660049764,
            1.5545981742240047,
            2.47633011861016,
            0.7313469755459548,
            1.0461047872460387,
            -1.3098039199714864,
            -0.7772835288524167,
            -0.51427857351842,
            -0.9136401693252518,
            0.22245633667924672,
            -0.34390179798716813,
            0.3711417784461813,
            -2.5228787452803374,
            -1.2929410593724038,
            -2.3767507096020997,
            3.457234663948045,
            1.7068883949816178,
            -0.6741868360057426,
            2.622562148189912,
            0.8454701329816736,
            2.6064039392370746,
            1.2166672295482093,
            0.07040732174011965,
            1.9261417191460153,
            2.411198673955554,
            -0.41668784801692227,
            1.8245683673676336,
            2.2848406496862363
           ]
          }
         ],
         "name": "2006"
        },
        {
         "data": [
          {
           "coloraxis": "coloraxis",
           "customdata": [
            [
             0.217777
            ],
            [
             0.1582
            ],
            [
             0.835998
            ],
            [
             0.4621
            ],
            [
             14.883
            ],
            [
             0.16542
            ],
            [
             11.784
            ],
            [
             159.348
            ],
            [
             105.165
            ],
            [
             0.029672
            ],
            [
             0.269417
            ],
            [
             0.003
            ],
            [
             3.208
            ],
            [
             3.395
            ],
            [
             0.0337
            ],
            [
             38.642
            ],
            [
             11.977
            ],
            [
             6.984
            ],
            [
             203.98556
            ],
            [
             1.953
            ],
            [
             88.198
            ],
            [
             0.0996
            ],
            [
             0.7349
            ],
            [
             1.1
            ],
            [
             95.661
            ],
            [
             1.256
            ],
            [
             0.131
            ],
            [
             0.973
            ],
            [
             191.558
            ],
            [
             0.089
            ],
            [
             22.978
            ],
            [
             53.71488
            ],
            [
             7.882
            ],
            [
             0.6988
            ],
            [
             64.757
            ],
            [
             0.407
            ],
            [
             640.578
            ],
            [
             813.102
            ],
            [
             0.00853
            ],
            [
             21.847
            ],
            [
             196.251
            ],
            [
             61.673
            ],
            [
             32.104
            ],
            [
             0.0043
            ],
            [
             0.182
            ],
            [
             0.3457
            ],
            [
             43.749
            ],
            [
             9.900616
            ],
            [
             0.3838
            ],
            [
             6.562
            ],
            [
             0.0451
            ],
            [
             39.96
            ],
            [
             6.498
            ],
            [
             39.316
            ],
            [
             0.11
            ],
            [
             137.192
            ],
            [
             9.049583
            ],
            [
             396.83
            ],
            [
             3.429
            ],
            [
             0.209
            ],
            [
             0.8215
            ],
            [
             142.236
            ],
            [
             2.4628
            ],
            [
             88.82
            ],
            [
             59.64579
            ],
            [
             24.636
            ],
            [
             243.121
            ],
            [
             14.521
            ],
            [
             4.182
            ],
            [
             0.222062
            ],
            [
             3.217
            ],
            [
             76.106
            ],
            [
             6.335
            ],
            [
             0.468
            ],
            [
             3.547
            ],
            [
             28.196
            ],
            [
             0.22
            ],
            [
             0.076
            ],
            [
             1015.333
            ],
            [
             1.926
            ],
            [
             6.457
            ],
            [
             19.462
            ],
            [
             12.709
            ],
            [
             0.0173
            ],
            [
             5.898
            ],
            [
             12.19
            ],
            [
             14.167
            ],
            [
             0.323
            ],
            [
             29.931
            ],
            [
             5.734
            ],
            [
             445.094
            ],
            [
             0.2854
            ],
            [
             2.296
            ],
            [
             143.3782
            ],
            [
             0.119459
            ],
            [
             1.04923
            ],
            [
             1.8794
            ],
            [
             2.124
            ],
            [
             2.144
            ],
            [
             5.631
            ],
            [
             9.424
            ],
            [
             67.008
            ],
            [
             0.161
            ],
            [
             17.494
            ],
            [
             3.702
            ],
            [
             6.027
            ],
            [
             14.007
            ],
            [
             0.5868
            ],
            [
             1135.718
            ],
            [
             0.0226
            ],
            [
             0.0723
            ],
            [
             0.45408
            ],
            [
             0.95
            ],
            [
             1.631866
            ],
            [
             19.67
            ],
            [
             5.996
            ],
            [
             0.122
            ],
            [
             107.711
            ],
            [
             26.234
            ],
            [
             31.829
            ],
            [
             8.57
            ],
            [
             2.246
            ],
            [
             0.288
            ],
            [
             1.691
            ],
            [
             4.871
            ],
            [
             0.771
            ],
            [
             0.05196
            ],
            [
             128.129
            ],
            [
             6.7726
            ],
            [
             15.043
            ],
            [
             265.208
            ],
            [
             1.2218943999999998
            ],
            [
             0.1756
            ],
            [
             12.838
            ],
            [
             2.4654
            ],
            [
             1.5556
            ],
            [
             1.734
            ],
            [
             67.924
            ],
            [
             1.52
            ],
            [
             28.056
            ],
            [
             1.6168
            ],
            [
             21.523
            ],
            [
             0.1962
            ],
            [
             0.604
            ],
            [
             305.052
            ],
            [
             17.622
            ],
            [
             31.011
            ],
            [
             48.95
            ],
            [
             1.489
            ],
            [
             427.316
            ],
            [
             37.196
            ],
            [
             36.55
            ],
            [
             3281.553
            ],
            [
             4.003
            ],
            [
             0.3889
            ],
            [
             104.95
            ],
            [
             0.051
            ],
            [
             0.229
            ],
            [
             0.06984
            ],
            [
             0.0866
            ],
            [
             0.27058
            ],
            [
             0.0918
            ],
            [
             0.26953
            ],
            [
             0.4171
            ],
            [
             76.621
            ],
            [
             48.753
            ],
            [
             0.0864
            ],
            [
             4.771
            ],
            [
             5.243
            ],
            [
             263.479
            ],
            [
             8.756
            ],
            [
             0.1411
            ],
            [
             7.609
            ],
            [
             0.155
            ],
            [
             16.361
            ],
            [
             1.694
            ],
            [
             5.812
            ],
            [
             313.888
            ],
            [
             38.948
            ],
            [
             626.521
            ],
            [
             0.045
            ],
            [
             1.409
            ],
            [
             0.311
            ],
            [
             41.134
            ],
            [
             0.2397
            ],
            [
             0.1852
            ],
            [
             0.0468
            ],
            [
             0.936
            ],
            [
             569.426
            ],
            [
             2.792
            ],
            [
             53.792
            ],
            [
             4349.84
            ],
            [
             243.157
            ],
            [
             43.297
            ],
            [
             0.687
            ],
            [
             63.496
            ],
            [
             7.676
            ],
            [
             58.509
            ],
            [
             0.02
            ],
            [
             3.8629568
            ],
            [
             14.34863
            ],
            [
             0.020261
            ],
            [
             0.5073
            ],
            [
             21.722
            ],
            [
             9.643
            ],
            [
             12.072
            ],
            [
             0.25
            ],
            [
             47.253
            ],
            [
             0.980166
            ],
            [
             114.563
            ],
            [
             0.612
            ],
            [
             16.076
            ],
            [
             0.06
            ],
            [
             2.946
            ],
            [
             55.314
            ],
            [
             14.83
            ],
            [
             0.129
            ],
            [
             0.245
            ],
            [
             148.926
            ],
            [
             0.0236
            ],
            [
             81.247
            ],
            [
             0.095
            ],
            [
             0.0854
            ],
            [
             190.535
            ],
            [
             5.021
            ],
            [
             6.39802
            ]
           ],
           "geo": "geo",
           "hovertemplate": "<b>%{hovertext}</b><br><br>year=2007<br>ISO=%{location}<br>Electric_Energy_Production=%{customdata[0]}<br>color=%{z}<extra></extra>",
           "hovertext": [
            "Belize",
            "Guernsey",
            "Fiji",
            "Isle of Man",
            "Turkmenistan",
            "Rwanda",
            "Bosnia and Herzegovina",
            "Poland",
            "Netherlands",
            "Guinea-Bissau",
            "Faeroe Islands",
            "Niue",
            "Nicaragua",
            "Brunei Darussalam",
            "Cook Islands",
            "Syrian Arab Republic",
            "Iceland",
            "Ghana",
            "Iran (Islamic Rep. of)",
            "Uganda",
            "Czechia",
            "Palau",
            "Bermuda",
            "Republic of Moldova",
            "Pakistan",
            "Neth. Antilles (former)",
            "Samoa",
            "Guinea",
            "Turkey",
            "Anguilla",
            "Nigeria",
            "Paraguay",
            "Dem. Rep. of the Congo",
            "Guyana",
            "Austria",
            "Congo",
            "Germany",
            "India",
            "St. Helena and Depend.",
            "Azerbaijan",
            "Ukraine",
            "Romania",
            "Iraq",
            "Tuvalu",
            "Turks and Caicos Islands",
            "St. Lucia",
            "New Zealand",
            "Sri Lanka",
            "Northern Mariana Islands",
            "Bhutan",
            "St. Pierre-Miquelon",
            "Hungary",
            "T.F.Yug.Rep. Macedonia",
            "Denmark",
            "British Virgin Islands",
            "Norway",
            "Costa Rica",
            "United Kingdom",
            "Papua New Guinea",
            "St. Kitts-Nevis",
            "Botswana",
            "Indonesia",
            "Réunion",
            "Belgium",
            "Philippines",
            "Puerto Rico",
            "Other Asia",
            "Tunisia",
            "United Rep. of Tanzania",
            "Niger",
            "Angola",
            "United Arab Emirates",
            "Honduras",
            "Haiti",
            "Ethiopia",
            "Ireland",
            "Benin",
            "Andorra",
            "Russian Federation",
            "New Caledonia",
            "Panama",
            "Qatar",
            "Croatia",
            "Falkland Is. (Malvinas)",
            "Armenia",
            "Estonia",
            "Oman",
            "Djibouti",
            "Peru",
            "Bolivia (Plur. State of)",
            "Brazil",
            "Antigua and Barbuda",
            "Malta",
            "Thailand",
            "Burundi",
            "Barbados",
            "Guam",
            "Senegal",
            "Montenegro",
            "Côte d'Ivoire",
            "Uruguay",
            "Viet Nam",
            "Central African Rep.",
            "Tajikistan",
            "Mongolia",
            "Yemen",
            "Lithuania",
            "Mauritania",
            "Japan",
            "Montserrat",
            "Liechtenstein",
            "Swaziland",
            "Afghanistan",
            "Martinique",
            "Morocco",
            "Jamaica",
            "Equatorial Guinea",
            "Argentina",
            "Libya",
            "Belarus",
            "Georgia",
            "Bahamas",
            "Eritrea",
            "Guadeloupe",
            "Cyprus",
            "French Guiana",
            "Vanuatu",
            "Egypt",
            "Kenya",
            "Slovenia",
            "Mexico",
            "Madagascar",
            "Grenada",
            "Jordan",
            "Mauritius",
            "Suriname",
            "Gabon",
            "Switzerland",
            "China, Macao SAR",
            "Slovakia",
            "Malawi",
            "Korea, Dem.Ppl's.Rep.",
            "Mayotte",
            "Cayman Islands",
            "Spain",
            "Cuba",
            "Bangladesh",
            "Uzbekistan",
            "Cambodia",
            "Korea, Republic of",
            "Algeria",
            "Serbia",
            "China",
            "Luxembourg",
            "Greenland",
            "Malaysia",
            "Tonga",
            "Gambia",
            "Micronesia (Fed. States of)",
            "Jersey",
            "Seychelles",
            "Timor-Leste",
            "Cabo Verde",
            "State of Palestine",
            "Kazakhstan",
            "Kuwait",
            "Dominica",
            "Latvia",
            "Cameroon",
            "South Africa",
            "Guatemala",
            "St. Vincent-Grenadines",
            "Zimbabwe",
            "Gibraltar",
            "Ecuador",
            "Namibia",
            "El Salvador",
            "Italy",
            "China, Hong Kong SAR",
            "Canada",
            "Sao Tome and Principe",
            "Mali",
            "Somalia",
            "Singapore",
            "Togo",
            "American Samoa",
            "Comoros",
            "Aruba",
            "France",
            "Nepal",
            "Israel",
            "United States",
            "Australia",
            "Bulgaria",
            "French Polynesia",
            "Greece",
            "Trinidad and Tobago",
            "Chile",
            "Nauru",
            "Lao People's Dem. Rep.",
            "Dominican Republic",
            "Wallis and Futuna Is.",
            "Lesotho",
            "Bahrain",
            "Zambia",
            "Lebanon",
            "Liberia",
            "Portugal",
            "United States Virgin Is.",
            "Venezuela (Bolivar. Rep.)",
            "Burkina Faso",
            "Mozambique",
            "Sierra Leone",
            "Albania",
            "Colombia",
            "Kyrgyzstan",
            "Chad",
            "Maldives",
            "Sweden",
            "Kiribati",
            "Finland",
            "Marshall Islands",
            "Solomon Islands",
            "Saudi Arabia",
            "Sudan (former)",
            "Myanmar"
           ],
           "locations": [
            "BLZ",
            "GGY",
            "FJI",
            "IMN",
            "TKM",
            "RWA",
            "BIH",
            "POL",
            "NLD",
            "GNB",
            "FRO",
            "NIU",
            "NIC",
            "BRN",
            "COK",
            "SYR",
            "ISL",
            "GHA",
            "IRN",
            "UGA",
            "CZE",
            "PLW",
            "BMU",
            "MDA",
            "PAK",
            "@@@",
            "WSM",
            "GIN",
            "TUR",
            "AIA",
            "NGA",
            "PRY",
            "COD",
            "GUY",
            "AUT",
            "COG",
            "DEU",
            "IND",
            "SHN",
            "AZE",
            "UKR",
            "ROU",
            "IRQ",
            "TUV",
            "TCA",
            "LCA",
            "NZL",
            "LKA",
            "MNP",
            "BTN",
            "SPM",
            "HUN",
            "MKD",
            "DNK",
            "VGB",
            "NOR",
            "CRI",
            "GBR",
            "PNG",
            "KNA",
            "BWA",
            "IDN",
            "REU",
            "BEL",
            "PHL",
            "PRI",
            "@@@",
            "TUN",
            "TZA",
            "NER",
            "AGO",
            "ARE",
            "HND",
            "HTI",
            "ETH",
            "IRL",
            "BEN",
            "AND",
            "RUS",
            "NCL",
            "PAN",
            "QAT",
            "HRV",
            "MDV",
            "ARM",
            "EST",
            "OMN",
            "DJI",
            "PER",
            "BOL",
            "BRA",
            "ATG",
            "MLT",
            "THA",
            "BDI",
            "BRB",
            "GUM",
            "SEN",
            "MNE",
            "CIV",
            "URY",
            "VNM",
            "CAF",
            "TJK",
            "MNG",
            "YEM",
            "LTU",
            "MRT",
            "JPN",
            "MSR",
            "LIE",
            "SWZ",
            "AFG",
            "MTQ",
            "MAR",
            "JAM",
            "GNQ",
            "ARG",
            "LBY",
            "BLR",
            "GEO",
            "BHS",
            "ERI",
            "GLP",
            "CYP",
            "GUF",
            "VUT",
            "EGY",
            "KEN",
            "SVN",
            "MEX",
            "MDG",
            "GRD",
            "JOR",
            "MUS",
            "SUR",
            "GAB",
            "CHE",
            "MAC",
            "SVK",
            "MWI",
            "PRK",
            "MYT",
            "CYM",
            "ESP",
            "CUB",
            "BGD",
            "UZB",
            "KHM",
            "KOR",
            "DZA",
            "SRB",
            "CHN",
            "LUX",
            "GRL",
            "MYS",
            "TON",
            "GMB",
            "FSM",
            "JEY",
            "SYC",
            "TLS",
            "CPV",
            "PSE",
            "KAZ",
            "KWT",
            "DMA",
            "LVA",
            "CMR",
            "ZAF",
            "GTM",
            "VCT",
            "ZWE",
            "GIB",
            "ECU",
            "NAM",
            "SLV",
            "ITA",
            "HKG",
            "CAN",
            "STP",
            "MLI",
            "SOM",
            "SGP",
            "TGO",
            "ASM",
            "COM",
            "ABW",
            "FRA",
            "NPL",
            "ISR",
            "USA",
            "AUS",
            "BGR",
            "PYF",
            "GRC",
            "TTO",
            "CHL",
            "NRU",
            "LAO",
            "DOM",
            "WLF",
            "LSO",
            "BHR",
            "ZMB",
            "LBN",
            "LBR",
            "PRT",
            "VIR",
            "VEN",
            "BFA",
            "MOZ",
            "SLE",
            "ALB",
            "COL",
            "KGZ",
            "TCD",
            "MDV",
            "SWE",
            "KIR",
            "FIN",
            "MHL",
            "SLB",
            "SAU",
            "SDN",
            "MMR"
           ],
           "name": "",
           "type": "choropleth",
           "z": [
            -0.6619879891373397,
            -0.8007935208383422,
            -0.07779476154424052,
            -0.335264031481295,
            1.172690481755848,
            -0.7814119835105826,
            1.0712927338345746,
            2.2023466169505443,
            2.0218712261675704,
            -1.5276531796794464,
            -0.5695750041094826,
            -2.5228787452803374,
            0.5062343596121259,
            0.5308397786165205,
            -1.4723700991286615,
            1.5870595961721714,
            1.078348049555357,
            0.8441042306975133,
            2.3095994251009926,
            0.2907022432878544,
            1.9454587370727279,
            -1.0017406615763014,
            -0.1337717526203528,
            0.04139268515822508,
            1.9807349164921646,
            0.09898963940117732,
            -0.8827287043442357,
            -0.0118871597316481,
            2.2823002940549606,
            -1.0506099933550872,
            1.361312225102327,
            1.730094609847049,
            0.8966364305295842,
            -0.1556471036891067,
            1.811286720970394,
            -0.39040559077478,
            2.8065720191815817,
            2.910145029306913,
            -2.069050968832477,
            1.3393918086795895,
            2.2928118783771647,
            1.790095074610133,
            1.5065591467257824,
            -2.3665315444204134,
            -0.7399286120149252,
            -0.4613006204575932,
            1.640968130513867,
            0.9956622165246393,
            -0.4158950296005473,
            0.8170362260500289,
            -1.3458234581220394,
            1.6016254795539446,
            0.812779707008964,
            1.594569326395738,
            -0.958607314841775,
            2.1373287873390105,
            0.9566285676061531,
            2.5986044970052267,
            0.5351674851149442,
            -0.679853713888946,
            -0.08539243222891947,
            2.1530095304487333,
            0.39142914491944414,
            1.948510768837657,
            1.775579795126329,
            1.3915701954182167,
            2.3858224734061606,
            1.1619965254224458,
            0.6213840284816531,
            -0.6535257530331228,
            0.5074510609019698,
            1.881418896772843,
            0.8017466192194601,
            -0.32975414692587596,
            0.5498611884719428,
            1.4501875018958372,
            -0.6575773191777937,
            -1.1191864077192086,
            3.006608501701716,
            0.2846562827885157,
            0.8100307864058395,
            1.289187468220734,
            1.1041113796989686,
            -1.7619538968712045,
            0.7707047682157793,
            1.086003705618382,
            1.1512778939041228,
            -0.4907974776688971,
            1.4761212269379826,
            0.7584576886104657,
            2.64845173990271,
            -0.5445460312213719,
            0.36097188372593586,
            2.156483123860211,
            -0.9227811250845073,
            0.020870699615792666,
            0.27401922251933,
            0.3271545124094315,
            0.33122478102073244,
            0.7505855273410088,
            0.9742352774430264,
            1.8261266556627296,
            -0.7931741239681502,
            1.2428891221893548,
            0.5684364144168853,
            0.7801011914679116,
            1.1463451286504682,
            -0.23150989482875495,
            3.0552705089740457,
            -1.645891560852599,
            -1.140861702705469,
            -0.34286762622262,
            -0.022276394711152253,
            0.21268449397062564,
            1.2938043599193367,
            0.7778616241762419,
            -0.9136401693252518,
            2.032260057943799,
            1.4188645142077285,
            1.502822994219365,
            0.9329808219231982,
            0.351409751925439,
            -0.5406075122407692,
            0.22814360759774177,
            0.6876181295717699,
            -0.11294562194904302,
            -1.2843308575990098,
            2.1076474366500637,
            0.8307554262747979,
            1.1773344555057002,
            2.423586620424488,
            0.08703367441800826,
            -0.7554754884299162,
            1.108497371348259,
            0.3918873916455149,
            0.19189793447542217,
            0.2390490931401915,
            1.8320232533073917,
            0.18184358794477254,
            1.4480257528734461,
            0.2086563005072476,
            1.3329028056857912,
            -0.7073009969560703,
            -0.21896306137886817,
            2.484373876684959,
            1.246055196906444,
            1.4915157709931974,
            1.6897526961391567,
            0.17289469775217617,
            2.6307491544170527,
            1.570496239039667,
            1.5628873812938793,
            3.5160794228917878,
            0.6023855901051052,
            -0.4101620568525402,
            2.0209824429184193,
            -1.2924298239020637,
            -0.640164517660112,
            -1.1558957693024867,
            -1.0624821079826534,
            -0.5677043075559871,
            -1.0371573187987575,
            -0.569392888698601,
            -0.3797598101541686,
            1.8843478157708888,
            1.6880013450265277,
            -1.0634862575211066,
            0.6786094165589261,
            0.7195798577137233,
            2.420746006464838,
            0.9423057528958941,
            -0.8504729862456522,
            0.8813275841005513,
            -0.8096683018297085,
            1.2138098446415013,
            0.2289134059946881,
            0.764325605625984,
            2.4967747128539113,
            1.5904851613342657,
            2.7969356324431316,
            -1.3467874862246563,
            0.14891099310935643,
            -0.5072396109731625,
            1.6142009437289793,
            -0.6203319659663462,
            -0.7323590176540845,
            -1.329754146925876,
            -0.028724151261894745,
            2.7554372931564526,
            0.44591541395112344,
            1.730717691759377,
            3.6384732826109456,
            2.385886776547068,
            1.6364578056239814,
            -0.16304326294044955,
            1.8027463672975792,
            0.8851349660634339,
            1.7672226754788052,
            -1.6989700043360187,
            0.5869198513944905,
            1.1568104368300345,
            -1.6933391234493698,
            -0.29473513768259585,
            1.336899809359534,
            0.9842121667614339,
            1.0817792267675335,
            -0.6020599913279624,
            1.674429386222765,
            -0.008700366369893454,
            2.0590443777499763,
            -0.21324857785443882,
            1.2061779975199973,
            -1.2218487496163564,
            0.4692327425066121,
            1.7428350653596842,
            1.171141151028382,
            -0.889410289700751,
            -0.6108339156354675,
            2.1729705249570417,
            -1.6270879970298935,
            1.9098073338663024,
            -1.0222763947111522,
            -1.068542129310995,
            2.2799747643196904,
            0.7007902213743469,
            0.8060455933404705
           ]
          }
         ],
         "name": "2007"
        },
        {
         "data": [
          {
           "coloraxis": "coloraxis",
           "customdata": [
            [
             121.927
            ],
            [
             1.7223
            ],
            [
             1.79714
            ],
            [
             0.28
            ],
            [
             4.156
            ],
            [
             0.1888
            ],
            [
             238.313
            ],
            [
             6.4556
            ],
            [
             1.096
            ],
            [
             16.467
            ],
            [
             91.616
            ],
            [
             73.397
            ],
            [
             0.275829
            ],
            [
             15.28676
            ],
            [
             2.088
            ],
            [
             0.0225
            ],
            [
             0.242
            ],
            [
             0.0335
            ],
            [
             0.815
            ],
            [
             83.518
            ],
            [
             14.823
            ],
            [
             106.9269
            ],
            [
             1.481
            ],
            [
             0.0912
            ],
            [
             34.218
            ],
            [
             0.029819
            ],
            [
             5.968
            ],
            [
             41.664695
            ],
            [
             629.473
            ],
            [
             0.138776
            ],
            [
             0.229
            ],
            [
             23.117
            ],
            [
             0.4318
            ],
            [
             0.1968
            ],
            [
             0.0863
            ],
            [
             6.9611
            ],
            [
             0.25
            ],
            [
             9.534
            ],
            [
             22.819
            ],
            [
             150.036
            ],
            [
             0.5034
            ],
            [
             60.855004
            ],
            [
             11.789
            ],
            [
             0.15
            ],
            [
             21.643
            ],
            [
             13.312
            ],
            [
             0.0175
            ],
            [
             0.7092
            ],
            [
             0.9136
            ],
            [
             15.043
            ],
            [
             9.473812
            ],
            [
             0.727
            ],
            [
             59.704
            ],
            [
             7.549
            ],
            [
             32.43
            ],
            [
             63.749
            ],
            [
             5.274
            ],
            [
             258.291
            ],
            [
             155.305
            ],
            [
             18.817
            ],
            [
             0.486
            ],
            [
             0.324
            ],
            [
             7.625
            ],
            [
             51.749
            ],
            [
             6.549
            ],
            [
             0.0086
            ],
            [
             3408.7532
            ],
            [
             40.025
            ],
            [
             1.822
            ],
            [
             0.201
            ],
            [
             1.2743201000000002
            ],
            [
             0.110514
            ],
            [
             0.3879
            ],
            [
             5.817
            ],
            [
             28.962
            ],
            [
             21.616
            ],
            [
             6.428
            ],
            [
             0.020321
            ],
            [
             0.615
            ],
            [
             198.418
            ],
            [
             0.0044
            ],
            [
             23.205
            ],
            [
             3.51
            ],
            [
             0.339
            ],
            [
             28.666
            ],
            [
             5.079
            ],
            [
             8.366
            ],
            [
             0.788
            ],
            [
             0.0714
            ],
            [
             147.4272
            ],
            [
             3.559
            ],
            [
             0.0895
            ],
            [
             16.205
            ],
            [
             0.161
            ],
            [
             6.546
            ],
            [
             13.913
            ],
            [
             134.566
            ],
            [
             446.428
            ],
            [
             55.45448
            ],
            [
             16.399
            ],
            [
             45.969
            ],
            [
             573.516
            ],
            [
             4.1716646
            ],
            [
             2.251
            ],
            [
             3.777
            ],
            [
             0.1392
            ],
            [
             30.239
            ],
            [
             2.312
            ],
            [
             0.4266
            ],
            [
             640.406
            ],
            [
             0.1945
            ],
            [
             40.236
            ],
            [
             463.12
            ],
            [
             37.376
            ],
            [
             0.0475
            ],
            [
             0.225506
            ],
            [
             214.53019
            ],
            [
             21.11
            ],
            [
             0.06595
            ],
            [
             41.023
            ],
            [
             1.00639
            ],
            [
             0.0384
            ],
            [
             49.4
            ],
            [
             269.315
            ],
            [
             17.681
            ],
            [
             68.932
            ],
            [
             0.2868
            ],
            [
             319.131
            ],
            [
             0.0875
            ],
            [
             2.5461
            ],
            [
             0.053
            ],
            [
             4.001
            ],
            [
             2.402
            ],
            [
             8.7691
            ],
            [
             0.043
            ],
            [
             15.127
            ],
            [
             61.192
            ],
            [
             0.971741
            ],
            [
             43.838
            ],
            [
             0.6194
            ],
            [
             204.2
            ],
            [
             0.04445
            ],
            [
             10.581
            ],
            [
             8.453
            ],
            [
             0.121
            ],
            [
             35.048
            ],
            [
             20.347
            ],
            [
             36.616
            ],
            [
             0.287
            ],
            [
             388.894
            ],
            [
             4.4994
            ],
            [
             3.361
            ],
            [
             10.003306
            ],
            [
             77.435
            ],
            [
             1.8806
            ],
            [
             1.8782
            ],
            [
             0.023
            ],
            [
             1082.549
            ],
            [
             36.78
            ],
            [
             0.113789
            ],
            [
             6.62176
            ],
            [
             0.166
            ],
            [
             2.828
            ],
            [
             313.758
            ],
            [
             0.003
            ],
            [
             4.389
            ],
            [
             1.05366
            ],
            [
             0.122
            ],
            [
             5.8
            ],
            [
             142.134
            ],
            [
             0.0194
            ],
            [
             0.3523
            ],
            [
             1.682066
            ],
            [
             3.423
            ],
            [
             64.956
            ],
            [
             80.327
            ],
            [
             192.586
            ],
            [
             3.79651
            ],
            [
             5.506
            ],
            [
             7.731
            ],
            [
             66.877
            ],
            [
             0.06867
            ],
            [
             0.769439
            ],
            [
             0.092
            ],
            [
             16.049
            ],
            [
             57.002
            ],
            [
             1.242
            ],
            [
             12.891
            ],
            [
             6.114
            ],
            [
             2.812
            ],
            [
             0.2113
            ],
            [
             37.99
            ],
            [
             5.681
            ],
            [
             243.221
            ],
            [
             119.297
            ],
            [
             0.1205
            ],
            [
             842.531
            ],
            [
             0.1884
            ],
            [
             0.6589
            ],
            [
             0.296
            ],
            [
             1.479
            ],
            [
             84.93
            ],
            [
             0.217995
            ],
            [
             80.463
            ],
            [
             0.21783
            ],
            [
             2.097
            ],
            [
             0.461
            ],
            [
             15.073
            ],
            [
             0.1107
            ],
            [
             107.552
            ],
            [
             8.718
            ],
            [
             149.437
            ],
            [
             1040.379
            ],
            [
             1.211
            ],
            [
             1.694
            ],
            [
             0.0787
            ],
            [
             0.697
            ],
            [
             0.3937
            ],
            [
             14.16
            ],
            [
             4368.26
            ],
            [
             2.5571
            ],
            [
             0.26911
            ],
            [
             0.5032
            ],
            [
             45.037
            ],
            [
             6.311
            ],
            [
             0.719747
            ]
           ],
           "geo": "geo",
           "hovertemplate": "<b>%{hovertext}</b><br><br>year=2008<br>ISO=%{location}<br>Electric_Energy_Production=%{customdata[0]}<br>color=%{z}<extra></extra>",
           "hovertext": [
            "Argentina",
            "Suriname",
            "Malawi",
            "Maldives",
            "Angola",
            "Grenada",
            "Other Asia",
            "Kenya",
            "Republic of Moldova",
            "Iceland",
            "Pakistan",
            "Viet Nam",
            "Faeroe Islands",
            "Dominican Republic",
            "Uganda",
            "Kiribati",
            "Gambia",
            "Cook Islands",
            "French Guiana",
            "Czechia",
            "Bosnia and Herzegovina",
            "Malaysia",
            "Mali",
            "Palau",
            "Bangladesh",
            "Guinea-Bissau",
            "El Salvador",
            "Singapore",
            "Canada",
            "Sierra Leone",
            "Benin",
            "Puerto Rico",
            "Swaziland",
            "Turks and Caicos Islands",
            "Solomon Islands",
            "Bhutan",
            "Liberia",
            "Zambia",
            "Bahrain",
            "Sweden",
            "Lesotho",
            "Philippines",
            "Kyrgyzstan",
            "Chad",
            "Azerbaijan",
            "Lebanon",
            "Falkland Is. (Malvinas)",
            "Guyana",
            "Aruba",
            "Turkmenistan",
            "Costa Rica",
            "Bermuda",
            "Chile",
            "Dem. Rep. of the Congo",
            "Peru",
            "Greece",
            "Latvia",
            "South Africa",
            "Poland",
            "Ecuador",
            "Haiti",
            "Somalia",
            "Zimbabwe",
            "Kuwait",
            "Honduras",
            "St. Helena and Depend.",
            "China",
            "Hungary",
            "Gabon",
            "St. Kitts-Nevis",
            "Madagascar",
            "Timor-Leste",
            "Greenland",
            "Bolivia (Plur. State of)",
            "Slovakia",
            "Qatar",
            "Panama",
            "Wallis and Futuna Is.",
            "Cayman Islands",
            "Turkey",
            "Tuvalu",
            "Korea, Dem.Ppl's.Rep.",
            "Papua New Guinea",
            "Djibouti",
            "Libya",
            "Cyprus",
            "Ghana",
            "Afghanistan",
            "Liechtenstein",
            "Thailand",
            "Luxembourg",
            "Anguilla",
            "Tajikistan",
            "Central African Rep.",
            "Yemen",
            "Lithuania",
            "Egypt",
            "Korea, Republic of",
            "Paraguay",
            "Slovenia",
            "Portugal",
            "France",
            "Lao People's Dem. Rep.",
            "Bahamas",
            "Ethiopia",
            "St. Vincent-Grenadines",
            "Ireland",
            "Malta",
            "State of Palestine",
            "Germany",
            "Rwanda",
            "Algeria",
            "Brazil",
            "Serbia",
            "Sao Tome and Principe",
            "Niger",
            "Iran (Islamic Rep. of)",
            "Nigeria",
            "Micronesia (Fed. States of)",
            "Syrian Arab Republic",
            "Guinea",
            "Jersey",
            "Uzbekistan",
            "Mexico",
            "Cuba",
            "Switzerland",
            "Cabo Verde",
            "Italy",
            "Dominica",
            "Réunion",
            "Tonga",
            "Mongolia",
            "Senegal",
            "Uruguay",
            "Comoros",
            "Mozambique",
            "Colombia",
            "United States Virgin Is.",
            "New Zealand",
            "Burkina Faso",
            "Saudi Arabia",
            "St. Pierre-Miquelon",
            "Estonia",
            "Georgia",
            "British Virgin Islands",
            "Belarus",
            "Morocco",
            "Denmark",
            "Eritrea",
            "United Kingdom",
            "Jamaica",
            "Nicaragua",
            "Sri Lanka",
            "Finland",
            "New Caledonia",
            "Guam",
            "Montserrat",
            "Japan",
            "Iraq",
            "Burundi",
            "Myanmar",
            "Gibraltar",
            "Montenegro",
            "Spain",
            "Niue",
            "United Rep. of Tanzania",
            "Barbados",
            "Equatorial Guinea",
            "Côte d'Ivoire",
            "Norway",
            "Nauru",
            "St. Lucia",
            "Martinique",
            "Brunei Darussalam",
            "Romania",
            "Kazakhstan",
            "Ukraine",
            "Albania",
            "Sudan (former)",
            "Trinidad and Tobago",
            "Austria",
            "Vanuatu",
            "Fiji",
            "Marshall Islands",
            "Oman",
            "Israel",
            "Neth. Antilles (former)",
            "Croatia",
            "Armenia",
            "Nepal",
            "Togo",
            "China, Hong Kong SAR",
            "Cameroon",
            "Australia",
            "Venezuela (Bolivar. Rep.)",
            "Samoa",
            "India",
            "American Samoa",
            "Mauritania",
            "Antigua and Barbuda",
            "Cambodia",
            "Belgium",
            "Belize",
            "United Arab Emirates",
            "Mayotte",
            "Namibia",
            "Congo",
            "Tunisia",
            "Guernsey",
            "Netherlands",
            "Guatemala",
            "Indonesia",
            "Russian Federation",
            "China, Macao SAR",
            "Guadeloupe",
            "Andorra",
            "Botswana",
            "Northern Mariana Islands",
            "Jordan",
            "United States",
            "Mauritius",
            "Seychelles",
            "Isle of Man",
            "Bulgaria",
            "T.F.Yug.Rep. Macedonia",
            "French Polynesia"
           ],
           "locations": [
            "ARG",
            "SUR",
            "MWI",
            "MDV",
            "AGO",
            "GRD",
            "@@@",
            "KEN",
            "MDA",
            "ISL",
            "PAK",
            "VNM",
            "FRO",
            "DOM",
            "UGA",
            "KIR",
            "GMB",
            "COK",
            "GUF",
            "CZE",
            "BIH",
            "MYS",
            "MLI",
            "PLW",
            "BGD",
            "GNB",
            "SLV",
            "SGP",
            "CAN",
            "SLE",
            "BEN",
            "PRI",
            "SWZ",
            "TCA",
            "SLB",
            "BTN",
            "LBR",
            "ZMB",
            "BHR",
            "SWE",
            "LSO",
            "PHL",
            "KGZ",
            "TCD",
            "AZE",
            "LBN",
            "MDV",
            "GUY",
            "ABW",
            "TKM",
            "CRI",
            "BMU",
            "CHL",
            "COD",
            "PER",
            "GRC",
            "LVA",
            "ZAF",
            "POL",
            "ECU",
            "HTI",
            "SOM",
            "ZWE",
            "KWT",
            "HND",
            "SHN",
            "CHN",
            "HUN",
            "GAB",
            "KNA",
            "MDG",
            "TLS",
            "GRL",
            "BOL",
            "SVK",
            "QAT",
            "PAN",
            "WLF",
            "CYM",
            "TUR",
            "TUV",
            "PRK",
            "PNG",
            "DJI",
            "LBY",
            "CYP",
            "GHA",
            "AFG",
            "LIE",
            "THA",
            "LUX",
            "AIA",
            "TJK",
            "CAF",
            "YEM",
            "LTU",
            "EGY",
            "KOR",
            "PRY",
            "SVN",
            "PRT",
            "FRA",
            "LAO",
            "BHS",
            "ETH",
            "VCT",
            "IRL",
            "MLT",
            "PSE",
            "DEU",
            "RWA",
            "DZA",
            "BRA",
            "SRB",
            "STP",
            "NER",
            "IRN",
            "NGA",
            "FSM",
            "SYR",
            "GIN",
            "JEY",
            "UZB",
            "MEX",
            "CUB",
            "CHE",
            "CPV",
            "ITA",
            "DMA",
            "REU",
            "TON",
            "MNG",
            "SEN",
            "URY",
            "COM",
            "MOZ",
            "COL",
            "VIR",
            "NZL",
            "BFA",
            "SAU",
            "SPM",
            "EST",
            "GEO",
            "VGB",
            "BLR",
            "MAR",
            "DNK",
            "ERI",
            "GBR",
            "JAM",
            "NIC",
            "LKA",
            "FIN",
            "NCL",
            "GUM",
            "MSR",
            "JPN",
            "IRQ",
            "BDI",
            "MMR",
            "GIB",
            "MNE",
            "ESP",
            "NIU",
            "TZA",
            "BRB",
            "GNQ",
            "CIV",
            "NOR",
            "NRU",
            "LCA",
            "MTQ",
            "BRN",
            "ROU",
            "KAZ",
            "UKR",
            "ALB",
            "SDN",
            "TTO",
            "AUT",
            "VUT",
            "FJI",
            "MHL",
            "OMN",
            "ISR",
            "@@@",
            "HRV",
            "ARM",
            "NPL",
            "TGO",
            "HKG",
            "CMR",
            "AUS",
            "VEN",
            "WSM",
            "IND",
            "ASM",
            "MRT",
            "ATG",
            "KHM",
            "BEL",
            "BLZ",
            "ARE",
            "MYT",
            "NAM",
            "COG",
            "TUN",
            "GGY",
            "NLD",
            "GTM",
            "IDN",
            "RUS",
            "MAC",
            "GLP",
            "AND",
            "BWA",
            "MNP",
            "JOR",
            "USA",
            "MUS",
            "SYC",
            "IMN",
            "BGR",
            "MKD",
            "PYF"
           ],
           "name": "",
           "type": "choropleth",
           "z": [
            2.0860998881663306,
            0.2361088015872817,
            0.25458191064216795,
            -0.5528419686577808,
            0.6186755388851398,
            -0.7239980100379498,
            2.377147733803744,
            0.8099366129199347,
            0.039810554148350386,
            1.2166144855012773,
            1.9619713263415046,
            1.8656783090976494,
            -0.5593600750786893,
            1.184315447267884,
            0.31973049433022455,
            -1.6478174818886375,
            -0.6161846340195687,
            -1.4749551929631548,
            -0.08884239126002341,
            1.9217800857615903,
            1.1709361086090793,
            2.029086976040697,
            0.1705550585212085,
            -1.0400051616715837,
            1.5342546219687492,
            -1.5255069249931517,
            0.7758288144646124,
            1.6197682069872628,
            2.7989771066400873,
            -0.8576856345209285,
            -0.640164517660112,
            1.3639314730018366,
            -0.364717362001788,
            -0.7059749059046773,
            -1.0639892042847905,
            0.8426778726828176,
            -0.6020599913279624,
            0.9792751475910232,
            1.358296608355735,
            2.176195477225658,
            -0.29808678878765615,
            1.784296295306189,
            1.0714769676989175,
            -0.8239087409443188,
            1.3353174594448498,
            1.1242433089466488,
            -1.7569619513137056,
            -0.14923127307111977,
            -0.039243909098227184,
            1.1773344555057002,
            0.976524762260979,
            -0.1384655891409622,
            1.776003428612339,
            0.8778894253714841,
            1.5109469486729727,
            1.8044733765901,
            0.7221401254574156,
            2.4121092736977707,
            2.1911854379401117,
            1.2745503849095303,
            -0.3133637307377066,
            -0.48945498979338786,
            0.8822398480188235,
            1.713901961883969,
            0.8161749904288016,
            -2.065501548756432,
            3.5325955586480187,
            1.6023313405913373,
            0.26054837263697944,
            -0.6968039425795111,
            0.10527853333848307,
            -0.9565827017289789,
            -0.4112802203999435,
            0.7646990637983678,
            1.4618285492023355,
            1.3347753316779554,
            0.8080758680913069,
            -1.6920549241540694,
            -0.21112488422458328,
            2.2975810677479998,
            -2.3565473235138126,
            1.3655815727550487,
            0.5453071164658241,
            -0.4698003017969178,
            1.457367096534791,
            0.7057782128285977,
            0.9225178602446115,
            -0.10347378251044466,
            -1.1463017882238256,
            2.1685776173094764,
            0.551327988003846,
            -1.048176964684088,
            1.2096490353682288,
            -0.7931741239681502,
            0.8159760009719855,
            1.1434207851299365,
            2.128935343114939,
            2.6497514257685446,
            1.7439366372423593,
            1.2148173658694585,
            1.662465056301851,
            2.7585455383920934,
            0.6203093840726455,
            0.35237549500051996,
            0.577146984827525,
            -0.8563607647254567,
            1.4805674250016936,
            0.3639878297484914,
            -0.36997914888659006,
            2.806455392195864,
            -0.7110803943382734,
            1.6046147994764448,
            2.6656935365587473,
            1.5725928210962867,
            -1.3233063903751334,
            -0.6468418984324706,
            2.3314884173963173,
            1.3244882333076564,
            -1.180785200117616,
            1.6130274170222259,
            0.0027663127530261245,
            -1.4156687756324693,
            1.6937269489236468,
            2.4302605429243544,
            1.247506824149921,
            1.8384208793408867,
            -0.5424208530042375,
            2.5039689930842086,
            -1.0579919469776868,
            0.4058754568963157,
            -1.275724130399211,
            0.6021685513789972,
            0.3805730030668873,
            0.9429550226601257,
            -1.3665315444204136,
            1.1797528068974983,
            1.786694647914236,
            -0.012449472995062338,
            1.6418507323199005,
            -0.20802879897923207,
            2.3100557377508912,
            -1.3521282346937675,
            1.0245267143871521,
            0.927010868975651,
            -0.9172146296835499,
            1.544663240170119,
            1.3085003850850332,
            1.5636708994192432,
            -0.5421181032660077,
            2.589831242743776,
            0.6531546039836846,
            0.5264685124694775,
            1.0001435540275438,
            1.888937302687291,
            0.27429643177250984,
            0.27374183621104775,
            -1.6382721639824072,
            3.034447563175973,
            1.5656117249020587,
            -0.9438997192256727,
            0.8209734360710618,
            -0.7798919119599449,
            0.4514794051248618,
            2.496594807992079,
            -2.5228787452803374,
            0.6423655808449733,
            0.022700493281538156,
            -0.9136401693252518,
            0.7634279935629372,
            2.152697978322603,
            -1.712198270069774,
            -0.4530873568187575,
            0.2258430324092525,
            0.5344068991378771,
            1.812619273138686,
            1.904861547521415,
            2.2846247129871764,
            0.5793845481462677,
            0.7408362070573115,
            0.8882356732705672,
            1.8252767830812597,
            -1.1632329526057947,
            -0.11382580469993644,
            -1.0362121726544447,
            1.2054479770516766,
            1.755890093808031,
            0.09412159584056139,
            1.1102866084035656,
            0.78632543439007,
            0.4490153163477863,
            -0.6751005029476866,
            1.5796692935547203,
            0.7544247892772586,
            2.3860010697387923,
            2.076629522464746,
            -0.9190129530891128,
            2.9255858892243918,
            -0.7249191015431414,
            -0.18118049245246357,
            -0.5287082889410615,
            0.16996817399689249,
            1.9290611240847655,
            -0.6615534673922397,
            1.905596220867071,
            -0.6618823085231418,
            0.32159843046534387,
            -0.33629907461035186,
            1.1781996991480599,
            -0.9558523791212772,
            2.0316184907893833,
            0.9404168646816652,
            2.1744581403600307,
            3.0171915773991094,
            0.08314414314305227,
            0.2289134059946881,
            -1.1040252676409354,
            -0.1567672219019906,
            -0.40483458520977045,
            1.1510632533537501,
            3.6403084797893586,
            0.4077477122261735,
            -0.5700701637593701,
            -0.2982593675627875,
            1.6535694536275145,
            0.8000981801747756,
            -0.142820136642532
           ]
          }
         ],
         "name": "2008"
        },
        {
         "data": [
          {
           "coloraxis": "coloraxis",
           "customdata": [
            [
             0.052
            ],
            [
             50.207
            ],
            [
             0.7231
            ],
            [
             2.6182
            ],
            [
             249.557
            ],
            [
             7.843
            ],
            [
             0.327
            ],
            [
             15.983
            ],
            [
             5.215
            ],
            [
             72.062
            ],
            [
             0.00891
            ],
            [
             9.047
            ],
            [
             61.365
            ],
            [
             91.225
            ],
            [
             0.174
            ],
            [
             122.34808
            ],
            [
             0.2484
            ],
            [
             0.0837
            ],
            [
             0.128
            ],
            [
             15.428
            ],
            [
             991.98
            ],
            [
             1.709
            ],
            [
             1.0042
            ],
            [
             0.23658472
            ],
            [
             0.030896
            ],
            [
             6.828
            ],
            [
             0.2755
            ],
            [
             37.177
            ],
            [
             0.777327
            ],
            [
             58.014
            ],
            [
             2.14
            ],
            [
             41.8145
            ],
            [
             1.033
            ],
            [
             13.455
            ],
            [
             0.131977
            ],
            [
             0.262
            ],
            [
             0.203
            ],
            [
             0.845
            ],
            [
             535.635
            ],
            [
             1.06834
            ],
            [
             22.555
            ],
            [
             194.812
            ],
            [
             24.158
            ],
            [
             0.3274
            ],
            [
             0.1735
            ],
            [
             217.082
            ],
            [
             23.2385
            ],
            [
             30.376
            ],
            [
             36.383
            ],
            [
             9.98691
            ],
            [
             1.8679
            ],
            [
             148.39
            ],
            [
             16.166
            ],
            [
             2.489
            ],
            [
             0.0912
            ],
            [
             7.854
            ],
            [
             16.403
            ],
            [
             38.322
            ],
            [
             0.05466
            ],
            [
             0.5731285
            ],
            [
             17.727
            ],
            [
             0.131701
            ],
            [
             26.155
            ],
            [
             294.62
            ],
            [
             8.964
            ],
            [
             0.1128
            ],
            [
             3.8743152
            ],
            [
             3.992
            ],
            [
             0.04491
            ],
            [
             606.346
            ],
            [
             43.453
            ],
            [
             0.022
            ],
            [
             0.0464
            ],
            [
             0.2984
            ],
            [
             8.779
            ],
            [
             1.9446
            ],
            [
             28.313
            ],
            [
             0.125
            ],
            [
             1.17451
            ],
            [
             4.741
            ],
            [
             69.088
            ],
            [
             113.691
            ],
            [
             0.5327
            ],
            [
             3.612
            ],
            [
             1.298
            ],
            [
             6.5072
            ],
            [
             2.168
            ],
            [
             0.1783
            ],
            [
             5.792
            ],
            [
             0.242
            ],
            [
             376.72
            ],
            [
             3.453
            ],
            [
             157.51605
            ],
            [
             3714.65
            ],
            [
             0.081
            ],
            [
             1.273808
            ],
            [
             0.539
            ],
            [
             43.308
            ],
            [
             0.002877
            ],
            [
             85.698
            ],
            [
             0.020091
            ],
            [
             0.626
            ],
            [
             19.777
            ],
            [
             221.37167
            ],
            [
             1.7403
            ],
            [
             21.127
            ],
            [
             1.94414
            ],
            [
             595.617
            ],
            [
             15.05959
            ],
            [
             83.185
            ],
            [
             0.253886
            ],
            [
             46.065
            ],
            [
             107.1158
            ],
            [
             119.58
            ],
            [
             0.397
            ],
            [
             3.115
            ],
            [
             5.783
            ],
            [
             14.272
            ],
            [
             2.5772
            ],
            [
             20.935
            ],
            [
             4.2077
            ],
            [
             38.501
            ],
            [
             1.466
            ],
            [
             0.023
            ],
            [
             0.121147
            ],
            [
             0.2387
            ],
            [
             8.408
            ],
            [
             2.841
            ],
            [
             0.122
            ],
            [
             1075.305
            ],
            [
             0.30949
            ],
            [
             8.6659
            ],
            [
             0.5006
            ],
            [
             49.95
            ],
            [
             0.0639
            ],
            [
             267.754
            ],
            [
             0.07049
            ],
            [
             5.1816
            ],
            [
             248.754
            ],
            [
             1.256
            ],
            [
             0.6576
            ],
            [
             0.0213
            ],
            [
             42.964
            ],
            [
             38.728
            ],
            [
             0.735565
            ],
            [
             4188.214
            ],
            [
             1.742
            ],
            [
             0.0928
            ],
            [
             292.64
            ],
            [
             0.093
            ],
            [
             0.14
            ],
            [
             6.491
            ],
            [
             6.96427
            ],
            [
             78.71
            ],
            [
             0.295
            ],
            [
             1.732266
            ],
            [
             5.23136
            ],
            [
             62.574
            ],
            [
             0.6998
            ],
            [
             16.963
            ],
            [
             0.06867
            ],
            [
             0.920773
            ],
            [
             55.008
            ],
            [
             5.871
            ],
            [
             466.158
            ],
            [
             0.5177
            ],
            [
             3.486
            ],
            [
             35.908
            ],
            [
             6.121
            ],
            [
             0.00459
            ],
            [
             0.5053
            ],
            [
             0.217
            ],
            [
             6.909
            ],
            [
             0.0327
            ],
            [
             4.735
            ],
            [
             9.893
            ],
            [
             0.25
            ],
            [
             0.0828
            ],
            [
             16.834
            ],
            [
             53.216
            ],
            [
             30.373
            ],
            [
             95.358
            ],
            [
             2.18555
            ],
            [
             0.889
            ],
            [
             0.275528
            ],
            [
             15.668
            ],
            [
             13.771
            ],
            [
             11.083
            ],
            [
             1.835
            ],
            [
             9.311239
            ],
            [
             0.746
            ],
            [
             7.291
            ],
            [
             60.722
            ],
            [
             5.569
            ],
            [
             151.72
            ],
            [
             0.721
            ],
            [
             54.93969
            ],
            [
             0.9243
            ],
            [
             18.868
            ],
            [
             61.9684
            ],
            [
             32.929
            ],
            [
             6.625
            ],
            [
             0.183
            ],
            [
             6.9981
            ],
            [
             18.2646
            ],
            [
             0.2076
            ],
            [
             0.01755
            ],
            [
             0.071
            ],
            [
             68.453
            ],
            [
             131.773
            ],
            [
             0.349
            ],
            [
             3.879
            ],
            [
             899.389
            ],
            [
             0.36299
            ],
            [
             15.358
            ],
            [
             136.729
            ],
            [
             142.69
            ],
            [
             229.694
            ],
            [
             5.672
            ],
            [
             173.645
            ],
            [
             454.504
            ],
            [
             82.25
            ],
            [
             0.16
            ],
            [
             6.75
            ],
            [
             18.445
            ],
            [
             0.6207
            ]
           ],
           "geo": "geo",
           "hovertemplate": "<b>%{hovertext}</b><br><br>year=2009<br>ISO=%{location}<br>Electric_Energy_Production=%{customdata[0]}<br>color=%{z}<extra></extra>",
           "hovertext": [
            "Sao Tome and Principe",
            "Portugal",
            "Guyana",
            "Réunion",
            "South Africa",
            "Trinidad and Tobago",
            "Somalia",
            "Turkmenistan",
            "Cyprus",
            "Finland",
            "St. Helena and Depend.",
            "Guatemala",
            "Greece",
            "Belgium",
            "Gibraltar",
            "Argentina",
            "Rwanda",
            "Solomon Islands",
            "Benin",
            "Tunisia",
            "Russian Federation",
            "Guadeloupe",
            "Guinea",
            "Belize",
            "Guinea-Bissau",
            "T.F.Yug.Rep. Macedonia",
            "Seychelles",
            "Bangladesh",
            "Fiji",
            "Romania",
            "Bahamas",
            "Singapore",
            "Republic of Moldova",
            "Croatia",
            "Sierra Leone",
            "Togo",
            "Grenada",
            "French Guiana",
            "France",
            "Barbados",
            "Bahrain",
            "Turkey",
            "Qatar",
            "Antigua and Barbuda",
            "Guernsey",
            "Saudi Arabia",
            "Puerto Rico",
            "Belarus",
            "Denmark",
            "Sri Lanka",
            "Guam",
            "Thailand",
            "Tajikistan",
            "Senegal",
            "Anguilla",
            "Dem. Rep. of the Congo",
            "Slovenia",
            "Serbia",
            "Tonga",
            "Greenland",
            "Cuba",
            "Timor-Leste",
            "Slovakia",
            "Spain",
            "Ghana",
            "Samoa",
            "Lao People's Dem. Rep.",
            "Ethiopia",
            "St. Pierre-Miquelon",
            "Canada",
            "New Zealand",
            "Kiribati",
            "Comoros",
            "Maldives",
            "Estonia",
            "New Caledonia",
            "Ireland",
            "British Virgin Islands",
            "Mali",
            "United Rep. of Tanzania",
            "Austria",
            "Netherlands",
            "Isle of Man",
            "Brunei Darussalam",
            "Neth. Antilles (former)",
            "Kenya",
            "Malta",
            "American Samoa",
            "El Salvador",
            "Gambia",
            "United Kingdom",
            "Nicaragua",
            "Indonesia",
            "China",
            "Andorra",
            "Madagascar",
            "Congo",
            "Syrian Arab Republic",
            "Niue",
            "United Arab Emirates",
            "Wallis and Futuna Is.",
            "Cayman Islands",
            "Nigeria",
            "Iran (Islamic Rep. of)",
            "Suriname",
            "Korea, Dem.Ppl's.Rep.",
            "Malawi",
            "Germany",
            "Dominican Republic",
            "Viet Nam",
            "Niger",
            "Iraq",
            "Malaysia",
            "Venezuela (Bolivar. Rep.)",
            "Northern Mariana Islands",
            "Nepal",
            "Cameroon",
            "Jordan",
            "Mauritius",
            "Morocco",
            "Jamaica",
            "Algeria",
            "China, Macao SAR",
            "Montserrat",
            "Burundi",
            "Mayotte",
            "Georgia",
            "Montenegro",
            "Equatorial Guinea",
            "Japan",
            "Cabo Verde",
            "Uruguay",
            "State of Palestine",
            "Uzbekistan",
            "Jersey",
            "Mexico",
            "Micronesia (Fed. States of)",
            "Mongolia",
            "Australia",
            "Cambodia",
            "Mauritania",
            "Nauru",
            "Bulgaria",
            "China, Hong Kong SAR",
            "French Polynesia",
            "United States",
            "Namibia",
            "Dominica",
            "Italy",
            "Marshall Islands",
            "St. Vincent-Grenadines",
            "Sudan (former)",
            "Myanmar",
            "Kazakhstan",
            "Eritrea",
            "Martinique",
            "Albania",
            "Colombia",
            "Burkina Faso",
            "Mozambique",
            "Vanuatu",
            "United States Virgin Is.",
            "Israel",
            "Côte d'Ivoire",
            "Brazil",
            "Swaziland",
            "Papua New Guinea",
            "Hungary",
            "Bolivia (Plur. State of)",
            "Tuvalu",
            "Lesotho",
            "St. Kitts-Nevis",
            "Panama",
            "Cook Islands",
            "Angola",
            "Zambia",
            "Liberia",
            "Palau",
            "Iceland",
            "Kuwait",
            "Libya",
            "Pakistan",
            "Uganda",
            "Afghanistan",
            "Faeroe Islands",
            "Bosnia and Herzegovina",
            "Lebanon",
            "Kyrgyzstan",
            "Gabon",
            "Costa Rica",
            "Bermuda",
            "Zimbabwe",
            "Chile",
            "Latvia",
            "Poland",
            "Haiti",
            "Paraguay",
            "Aruba",
            "Azerbaijan",
            "Philippines",
            "Peru",
            "Honduras",
            "Chad",
            "Bhutan",
            "Ecuador",
            "Turks and Caicos Islands",
            "Falkland Is. (Malvinas)",
            "Liechtenstein",
            "Switzerland",
            "Norway",
            "Djibouti",
            "Luxembourg",
            "India",
            "St. Lucia",
            "Lithuania",
            "Sweden",
            "Egypt",
            "Other Asia",
            "Armenia",
            "Ukraine",
            "Korea, Republic of",
            "Czechia",
            "Central African Rep.",
            "Yemen",
            "Oman",
            "Botswana"
           ],
           "locations": [
            "STP",
            "PRT",
            "GUY",
            "REU",
            "ZAF",
            "TTO",
            "SOM",
            "TKM",
            "CYP",
            "FIN",
            "SHN",
            "GTM",
            "GRC",
            "BEL",
            "GIB",
            "ARG",
            "RWA",
            "SLB",
            "BEN",
            "TUN",
            "RUS",
            "GLP",
            "GIN",
            "BLZ",
            "GNB",
            "MKD",
            "SYC",
            "BGD",
            "FJI",
            "ROU",
            "BHS",
            "SGP",
            "MDA",
            "HRV",
            "SLE",
            "TGO",
            "GRD",
            "GUF",
            "FRA",
            "BRB",
            "BHR",
            "TUR",
            "QAT",
            "ATG",
            "GGY",
            "SAU",
            "PRI",
            "BLR",
            "DNK",
            "LKA",
            "GUM",
            "THA",
            "TJK",
            "SEN",
            "AIA",
            "COD",
            "SVN",
            "SRB",
            "TON",
            "GRL",
            "CUB",
            "TLS",
            "SVK",
            "ESP",
            "GHA",
            "WSM",
            "LAO",
            "ETH",
            "SPM",
            "CAN",
            "NZL",
            "KIR",
            "COM",
            "MDV",
            "EST",
            "NCL",
            "IRL",
            "VGB",
            "MLI",
            "TZA",
            "AUT",
            "NLD",
            "IMN",
            "BRN",
            "@@@",
            "KEN",
            "MLT",
            "ASM",
            "SLV",
            "GMB",
            "GBR",
            "NIC",
            "IDN",
            "CHN",
            "AND",
            "MDG",
            "COG",
            "SYR",
            "NIU",
            "ARE",
            "WLF",
            "CYM",
            "NGA",
            "IRN",
            "SUR",
            "PRK",
            "MWI",
            "DEU",
            "DOM",
            "VNM",
            "NER",
            "IRQ",
            "MYS",
            "VEN",
            "MNP",
            "NPL",
            "CMR",
            "JOR",
            "MUS",
            "MAR",
            "JAM",
            "DZA",
            "MAC",
            "MSR",
            "BDI",
            "MYT",
            "GEO",
            "MNE",
            "GNQ",
            "JPN",
            "CPV",
            "URY",
            "PSE",
            "UZB",
            "JEY",
            "MEX",
            "FSM",
            "MNG",
            "AUS",
            "KHM",
            "MRT",
            "NRU",
            "BGR",
            "HKG",
            "PYF",
            "USA",
            "NAM",
            "DMA",
            "ITA",
            "MHL",
            "VCT",
            "SDN",
            "MMR",
            "KAZ",
            "ERI",
            "MTQ",
            "ALB",
            "COL",
            "BFA",
            "MOZ",
            "VUT",
            "VIR",
            "ISR",
            "CIV",
            "BRA",
            "SWZ",
            "PNG",
            "HUN",
            "BOL",
            "TUV",
            "LSO",
            "KNA",
            "PAN",
            "COK",
            "AGO",
            "ZMB",
            "LBR",
            "PLW",
            "ISL",
            "KWT",
            "LBY",
            "PAK",
            "UGA",
            "AFG",
            "FRO",
            "BIH",
            "LBN",
            "KGZ",
            "GAB",
            "CRI",
            "BMU",
            "ZWE",
            "CHL",
            "LVA",
            "POL",
            "HTI",
            "PRY",
            "ABW",
            "AZE",
            "PHL",
            "PER",
            "HND",
            "TCD",
            "BTN",
            "ECU",
            "TCA",
            "MDV",
            "LIE",
            "CHE",
            "NOR",
            "DJI",
            "LUX",
            "IND",
            "LCA",
            "LTU",
            "SWE",
            "EGY",
            "@@@",
            "ARM",
            "UKR",
            "KOR",
            "CZE",
            "CAF",
            "YEM",
            "OMN",
            "BWA"
           ],
           "name": "",
           "type": "choropleth",
           "z": [
            -1.2839966563652008,
            1.7007642719146718,
            -0.14080163846612262,
            0.41800281852443594,
            2.3971697562046916,
            0.8944822150100906,
            -0.4854522473397139,
            1.2036582994562466,
            0.7172543127625497,
            1.8577063113101457,
            -2.050122295963125,
            0.9565045903166975,
            1.787920738554055,
            1.960113872036686,
            -0.7594507517174003,
            2.0875971583878656,
            -0.6048484084954574,
            -1.07727454200674,
            -0.8927900303521317,
            1.1883096301940044,
            2.996502916128777,
            0.23274206272073686,
            0.0018202170383280992,
            -0.6260133080342719,
            -1.5100977435646805,
            0.834293512442696,
            -0.5598783968121961,
            1.570274341433394,
            -0.109396247066979,
            1.7635328106156405,
            0.33041377334919086,
            1.6213269080432238,
            0.014100321519620545,
            1.1288837020997733,
            -0.8795017479109599,
            -0.5816987086802545,
            -0.6925039620867871,
            -0.07314329105030767,
            2.728868947373278,
            0.0287094892326893,
            1.3532428314337293,
            2.2896157049721135,
            1.3830609769309932,
            -0.48492132492407736,
            -0.7607005208731075,
            2.3366238141280142,
            1.3662080917584372,
            1.4825305841317409,
            1.5608985064297434,
            0.9994311361204982,
            0.2713536221024844,
            2.1714046348301292,
            1.2086025744625322,
            0.3960248966085932,
            -1.0400051616715837,
            0.8950908969343995,
            1.2149232848948974,
            1.5834481665416287,
            -1.2623303726433581,
            -0.24174799481395973,
            1.248635244699329,
            -0.8804109274464689,
            1.4175547243634548,
            2.469262225177402,
            0.9525018478630236,
            -0.9476909003526766,
            0.5881949504182308,
            0.6011905326153335,
            -1.3476569449372853,
            2.782720516921025,
            1.6380197655595774,
            -1.6575773191777938,
            -1.3334820194451191,
            -0.5252011811993688,
            0.9434450490250305,
            0.2888302814158536,
            1.4519858889489092,
            -0.9030899869919435,
            0.06985671879462134,
            0.6758699553189567,
            1.8394026206541367,
            2.0557260864551825,
            -0.27351730321517037,
            0.5577477416414682,
            0.11327469246435044,
            0.8133941550605124,
            0.33605927786634937,
            -0.7488486568246454,
            0.7628285531890905,
            -0.6161846340195687,
            2.576018677434666,
            0.5381965783494542,
            2.1973248125465643,
            3.5699179001344348,
            -1.0915149811213503,
            0.10510397209316974,
            -0.2684112348132613,
            1.636568128107132,
            -2.541060138109674,
            1.9329706865778167,
            -1.696998446344158,
            -0.20342566678957033,
            1.296160413537258,
            2.34512204133985,
            0.24062412018725945,
            1.3248378323128431,
            0.28872753581568117,
            2.7749670848169234,
            1.1778131482815857,
            1.92004502094774,
            -0.5953612467055659,
            1.66337107549875,
            2.029853535693799,
            2.077658549084131,
            -0.40120949323688493,
            0.49345805099518847,
            0.7621531923035947,
            1.154484837032048,
            0.41114812267430867,
            1.3208729652272493,
            0.6240447679828736,
            1.585472009738158,
            0.16613397030510912,
            -1.6382721639824072,
            -0.9166873359596357,
            -0.6221475809932454,
            0.9246927030201858,
            0.4534712337229359,
            -0.9136401693252518,
            3.031531665209506,
            -0.5093533790024455,
            0.9378136731937673,
            -0.30050915472779555,
            1.698535492562001,
            -1.1944991418415998,
            2.4277359675149173,
            -1.1518724894321253,
            0.7144638840458368,
            2.3957700729914735,
            0.09898963940117732,
            -0.18203819546800604,
            -1.6716203965612624,
            1.6331047079116674,
            1.5880250696328333,
            -0.13337894374675913,
            3.62202886418271,
            0.2410481506716444,
            -1.0324520237811379,
            2.4663336881323414,
            -1.031517051446065,
            -0.8538719643217619,
            0.8123116091311238,
            0.8428756000726699,
            1.896029912396227,
            -0.530177984021837,
            0.2386145813661738,
            0.7186146073594618,
            1.7963939178415531,
            -0.15502606185311238,
            1.2295026620850735,
            -1.1632329526057947,
            -0.035847424090396304,
            1.7404258550069585,
            0.7687120803776636,
            2.668533141793036,
            -0.285921835018144,
            0.5423273827739744,
            1.5551912165114075,
            0.7868223794991874,
            -2.3381873144627385,
            -0.2964507017617695,
            -0.6635402661514705,
            0.8394151926838935,
            -1.485452247339714,
            0.6753199833392922,
            0.9953280090774096,
            -0.6020599913279624,
            -1.08196966321512,
            1.2261873228398796,
            1.7260422275394252,
            1.4824876901434687,
            1.979357133775435,
            0.33956074652720586,
            -0.0510982390297863,
            -0.5598342602329162,
            1.1950135628758283,
            1.1389654782898269,
            1.044657333234866,
            0.2636360685881081,
            0.9690074742209732,
            -0.1272611725273312,
            0.8627870982353444,
            1.7833460674766746,
            0.745777217889759,
            2.181042834030753,
            -0.14206473528057098,
            1.7398862045627153,
            -0.03418704696339692,
            1.2757258675736642,
            1.7921702829797317,
            1.5175785420973849,
            0.8211858826088455,
            -0.7375489102695706,
            0.8449801440825685,
            1.261610165477857,
            -0.6827726508235797,
            -1.7557228791981572,
            -1.1487416512809248,
            1.8353924861426956,
            2.1198264333821166,
            -0.45717457304082015,
            0.5887197796000565,
            2.953947571614717,
            -0.4401053391639985,
            1.1863346632529492,
            2.135860637495693,
            2.1543935379569974,
            2.361149650828789,
            0.7537362221750101,
            2.239662282586762,
            2.657537709714825,
            1.915135906622012,
            -0.7958800173440752,
            0.829303772831025,
            1.2658786595628222,
            -0.20711825461460295
           ]
          }
         ],
         "name": "2009"
        },
        {
         "data": [
          {
           "coloraxis": "coloraxis",
           "customdata": [
            [
             0.2
            ],
            [
             14.777
            ],
            [
             0.019816
            ],
            [
             0.327
            ],
            [
             0.0241
            ],
            [
             499.508
            ],
            [
             0.7273
            ],
            [
             5.749
            ],
            [
             0.06894
            ],
            [
             12.1
            ],
            [
             0.994
            ],
            [
             7.74417
            ],
            [
             16.44
            ],
            [
             0.30104
            ],
            [
             0.9402
            ],
            [
             1.809
            ],
            [
             252.698
            ],
            [
             3.755063
            ],
            [
             150.486
            ],
            [
             8.6029
            ],
            [
             0.0564
            ],
            [
             17.387
            ],
            [
             301.527
            ],
            [
             0.5331866
            ],
            [
             51.7
            ],
            [
             4207.1605
            ],
            [
             4.59
            ],
            [
             0.3467
            ],
            [
             0.122
            ],
            [
             57.392
            ],
            [
             1.359803
            ],
            [
             1.02767
            ],
            [
             0.13661
            ],
            [
             0.2575
            ],
            [
             6.627
            ],
            [
             1.7232
            ],
            [
             27.858
            ],
            [
             125.59409
            ],
            [
             2.6888
            ],
            [
             21.664
            ],
            [
             259.608
            ],
            [
             15.712
            ],
            [
             7.755
            ],
            [
             569.097
            ],
            [
             6.9758
            ],
            [
             0.25
            ],
            [
             57.029
            ],
            [
             40.79
            ],
            [
             5.984
            ],
            [
             0.2087
            ],
            [
             116.80828
            ],
            [
             159.518
            ],
            [
             148.563
            ],
            [
             32.558
            ],
            [
             0.2452
            ],
            [
             0.079
            ],
            [
             0.25661
            ],
            [
             45.3605
            ],
            [
             0.892
            ],
            [
             1.8046
            ],
            [
             595.951
            ],
            [
             16.436
            ],
            [
             1.29202
            ],
            [
             2.116
            ],
            [
             118.37
            ],
            [
             0.0874
            ],
            [
             82.646
            ],
            [
             0.3202
            ],
            [
             5.322
            ],
            [
             7.499
            ],
            [
             0.092
            ],
            [
             275.537
            ],
            [
             19.5098
            ],
            [
             2.02364
            ],
            [
             16.11596
            ],
            [
             0.17063
            ],
            [
             0.872
            ],
            [
             0.16
            ],
            [
             0.5006
            ],
            [
             38.292
            ],
            [
             0.55973
            ],
            [
             10.448
            ],
            [
             94.885
            ],
            [
             23.441
            ],
            [
             5.899
            ],
            [
             60.434
            ],
            [
             5.965
            ],
            [
             1.808365
            ],
            [
             0.624
            ],
            [
             54.09
            ],
            [
             67.815
            ],
            [
             0.1127
            ],
            [
             0.4149275
            ],
            [
             0.380889
            ],
            [
             0.5321
            ],
            [
             0.835169
            ],
            [
             123.64
            ],
            [
             60.979
            ],
            [
             188.857
            ],
            [
             0.784
            ],
            [
             6.491
            ],
            [
             954.539
            ],
            [
             19.819
            ],
            [
             0.379
            ],
            [
             17.124
            ],
            [
             246.996
            ],
            [
             0.4
            ],
            [
             85.91
            ],
            [
             7.26
            ],
            [
             169.56952
            ],
            [
             0.292025
            ],
            [
             10.800809
            ],
            [
             0.2811
            ],
            [
             4.98
            ],
            [
             515.798
            ],
            [
             1.077
            ],
            [
             14.902
            ],
            [
             232.96469
            ],
            [
             26.121
            ],
            [
             93.949
            ],
            [
             0.0031479445
            ],
            [
             632.983
            ],
            [
             16.3692
            ],
            [
             1038.03
            ],
            [
             46.413
            ],
            [
             0.9582
            ],
            [
             48.909
            ],
            [
             1.932
            ],
            [
             2.456
            ],
            [
             0.2135
            ],
            [
             7.3283
            ],
            [
             6.777
            ],
            [
             23.4973
            ],
            [
             35.89
            ],
            [
             67.7768
            ],
            [
             0.587
            ],
            [
             0.8677
            ],
            [
             0.01755
            ],
            [
             157.657
            ],
            [
             18.71
            ],
            [
             0.7424
            ],
            [
             9.583319
            ],
            [
             16.663
            ],
            [
             0.00929
            ],
            [
             54.06559
            ],
            [
             1.064
            ],
            [
             5.449
            ],
            [
             0.0986
            ],
            [
             94.383
            ],
            [
             17.059
            ],
            [
             0.031953
            ],
            [
             10.167
            ],
            [
             0.0804
            ],
            [
             0.280366
            ],
            [
             0.0337
            ],
            [
             0.15
            ],
            [
             0.2165
            ],
            [
             211.208
            ],
            [
             7.4189
            ],
            [
             28.144
            ],
            [
             0.00539
            ],
            [
             6.777
            ],
            [
             37.371
            ],
            [
             3.631
            ],
            [
             3.659
            ],
            [
             0.957538
            ],
            [
             381.771
            ],
            [
             8.8933
            ],
            [
             4378.422
            ],
            [
             1.488
            ],
            [
             1147.899
            ],
            [
             302.063
            ],
            [
             0.0991
            ],
            [
             2.618
            ],
            [
             0.0572
            ],
            [
             6.215
            ],
            [
             0.1417
            ],
            [
             38.862
            ],
            [
             4.168
            ],
            [
             8.62511
            ],
            [
             46.653
            ],
            [
             0.311
            ],
            [
             80.679
            ],
            [
             60.234
            ],
            [
             0.817453
            ],
            [
             16.666
            ],
            [
             0.5653
            ],
            [
             0.023
            ],
            [
             1.8824
            ],
            [
             45.734
            ],
            [
             4.2167
            ],
            [
             22.8525
            ],
            [
             34.895
            ],
            [
             240.067
            ],
            [
             0.177
            ],
            [
             0.142031
            ],
            [
             10.058
            ],
            [
             7.905
            ],
            [
             58.591
            ],
            [
             0.07023
            ],
            [
             44.876
            ],
            [
             0.1522
            ],
            [
             0.04535
            ],
            [
             0.0636
            ],
            [
             0.128
            ],
            [
             2.6995
            ],
            [
             12.964
            ],
            [
             2.13115
            ],
            [
             28.685
            ],
            [
             95.189
            ],
            [
             38.103
            ],
            [
             71.128
            ],
            [
             0.0226
            ],
            [
             0.326
            ],
            [
             5.274
            ],
            [
             8.485
            ],
            [
             0.05185
            ],
            [
             0.4733
            ],
            [
             119.27
            ],
            [
             3.792
            ],
            [
             1.323
            ],
            [
             0.4979
            ],
            [
             3.208
            ],
            [
             0.1162
            ],
            [
             0.1591
            ],
            [
             10.732
            ]
           ],
           "geo": "geo",
           "hovertemplate": "<b>%{hovertext}</b><br><br>year=2010<br>ISO=%{location}<br>Electric_Energy_Production=%{customdata[0]}<br>color=%{z}<extra></extra>",
           "hovertext": [
            "Chad",
            "Jordan",
            "Wallis and Futuna Is.",
            "Somalia",
            "Kiribati",
            "Korea, Republic of",
            "Mauritania",
            "Lithuania",
            "Vanuatu",
            "Kyrgyzstan",
            "Cambodia",
            "Albania",
            "Slovenia",
            "Seychelles",
            "Aruba",
            "Guadeloupe",
            "Australia",
            "Lao People's Dem. Rep.",
            "Egypt",
            "Zimbabwe",
            "Jersey",
            "Cuba",
            "Spain",
            "Greenland",
            "Uzbekistan",
            "China",
            "Luxembourg",
            "Cabo Verde",
            "Equatorial Guinea",
            "Greece",
            "Madagascar",
            "Barbados",
            "Timor-Leste",
            "Mayotte",
            "Latvia",
            "Suriname",
            "Slovakia",
            "Argentina",
            "Mauritius",
            "Korea, Dem.Ppl's.Rep.",
            "South Africa",
            "Lebanon",
            "Yemen",
            "France",
            "Kenya",
            "Liberia",
            "Kuwait",
            "Bangladesh",
            "El Salvador",
            "Grenada",
            "Malaysia",
            "Thailand",
            "Sweden",
            "Libya",
            "Gambia",
            "Liechtenstein",
            "Maldives",
            "Singapore",
            "Afghanistan",
            "Bahamas",
            "Canada",
            "Tajikistan",
            "Mali",
            "Malta",
            "Venezuela (Bolivar. Rep.)",
            "Solomon Islands",
            "Kazakhstan",
            "Togo",
            "Cyprus",
            "Sudan (former)",
            "Marshall Islands",
            "Mexico",
            "Ecuador",
            "Malawi",
            "Dominican Republic",
            "Sierra Leone",
            "French Guiana",
            "Central African Rep.",
            "Lesotho",
            "China, Hong Kong SAR",
            "Swaziland",
            "Zambia",
            "Viet Nam",
            "Bahrain",
            "Cameroon",
            "Chile",
            "Côte d'Ivoire",
            "Martinique",
            "Cayman Islands",
            "Portugal",
            "Switzerland",
            "Andorra",
            "Belize",
            "St. Lucia",
            "Botswana",
            "Fiji",
            "Norway",
            "Romania",
            "Ukraine",
            "Congo",
            "Armenia",
            "India",
            "Oman",
            "Djibouti",
            "Bosnia and Herzegovina",
            "Other Asia",
            "Northern Mariana Islands",
            "Czechia",
            "T.F.Yug.Rep. Macedonia",
            "Indonesia",
            "Niger",
            "Sri Lanka",
            "Rwanda",
            "Ethiopia",
            "Brazil",
            "China, Macao SAR",
            "Croatia",
            "Iran (Islamic Rep. of)",
            "Nigeria",
            "United Arab Emirates",
            "Niue",
            "Germany",
            "Tunisia",
            "Russian Federation",
            "Syrian Arab Republic",
            "Guinea",
            "Iraq",
            "Gabon",
            "Uganda",
            "Turks and Caicos Islands",
            "Bhutan",
            "Honduras",
            "Puerto Rico",
            "Peru",
            "Philippines",
            "Haiti",
            "Guyana",
            "Falkland Is. (Malvinas)",
            "Poland",
            "Azerbaijan",
            "Bermuda",
            "Costa Rica",
            "Turkmenistan",
            "St. Helena and Depend.",
            "Paraguay",
            "Republic of Moldova",
            "Angola",
            "Anguilla",
            "Pakistan",
            "Iceland",
            "Guinea-Bissau",
            "Ghana",
            "Palau",
            "Faeroe Islands",
            "Cook Islands",
            "Benin",
            "St. Kitts-Nevis",
            "Turkey",
            "Panama",
            "Qatar",
            "Tuvalu",
            "Bolivia (Plur. State of)",
            "Hungary",
            "Papua New Guinea",
            "Nicaragua",
            "United States Virgin Is.",
            "United Kingdom",
            "Guatemala",
            "United States",
            "Namibia",
            "Japan",
            "Italy",
            "Dominica",
            "Senegal",
            "Sao Tome and Principe",
            "Mongolia",
            "St. Vincent-Grenadines",
            "Denmark",
            "Montenegro",
            "Myanmar",
            "Bulgaria",
            "Eritrea",
            "Finland",
            "Colombia",
            "French Polynesia",
            "Mozambique",
            "Burkina Faso",
            "Montserrat",
            "Guam",
            "Algeria",
            "Jamaica",
            "Morocco",
            "Belarus",
            "Saudi Arabia",
            "Gibraltar",
            "Burundi",
            "Georgia",
            "Dem. Rep. of the Congo",
            "Israel",
            "Micronesia (Fed. States of)",
            "New Zealand",
            "Guernsey",
            "St. Pierre-Miquelon",
            "Comoros",
            "British Virgin Islands",
            "Réunion",
            "Estonia",
            "New Caledonia",
            "Ireland",
            "Belgium",
            "Serbia",
            "Austria",
            "Nauru",
            "Antigua and Barbuda",
            "United Rep. of Tanzania",
            "Trinidad and Tobago",
            "Tonga",
            "State of Palestine",
            "Netherlands",
            "Brunei Darussalam",
            "Neth. Antilles (former)",
            "Isle of Man",
            "Nepal",
            "Samoa",
            "American Samoa",
            "Uruguay"
           ],
           "locations": [
            "TCD",
            "JOR",
            "WLF",
            "SOM",
            "KIR",
            "KOR",
            "MRT",
            "LTU",
            "VUT",
            "KGZ",
            "KHM",
            "ALB",
            "SVN",
            "SYC",
            "ABW",
            "GLP",
            "AUS",
            "LAO",
            "EGY",
            "ZWE",
            "JEY",
            "CUB",
            "ESP",
            "GRL",
            "UZB",
            "CHN",
            "LUX",
            "CPV",
            "GNQ",
            "GRC",
            "MDG",
            "BRB",
            "TLS",
            "MYT",
            "LVA",
            "SUR",
            "SVK",
            "ARG",
            "MUS",
            "PRK",
            "ZAF",
            "LBN",
            "YEM",
            "FRA",
            "KEN",
            "LBR",
            "KWT",
            "BGD",
            "SLV",
            "GRD",
            "MYS",
            "THA",
            "SWE",
            "LBY",
            "GMB",
            "LIE",
            "MDV",
            "SGP",
            "AFG",
            "BHS",
            "CAN",
            "TJK",
            "MLI",
            "MLT",
            "VEN",
            "SLB",
            "KAZ",
            "TGO",
            "CYP",
            "SDN",
            "MHL",
            "MEX",
            "ECU",
            "MWI",
            "DOM",
            "SLE",
            "GUF",
            "CAF",
            "LSO",
            "HKG",
            "SWZ",
            "ZMB",
            "VNM",
            "BHR",
            "CMR",
            "CHL",
            "CIV",
            "MTQ",
            "CYM",
            "PRT",
            "CHE",
            "AND",
            "BLZ",
            "LCA",
            "BWA",
            "FJI",
            "NOR",
            "ROU",
            "UKR",
            "COG",
            "ARM",
            "IND",
            "OMN",
            "DJI",
            "BIH",
            "@@@",
            "MNP",
            "CZE",
            "MKD",
            "IDN",
            "NER",
            "LKA",
            "RWA",
            "ETH",
            "BRA",
            "MAC",
            "HRV",
            "IRN",
            "NGA",
            "ARE",
            "NIU",
            "DEU",
            "TUN",
            "RUS",
            "SYR",
            "GIN",
            "IRQ",
            "GAB",
            "UGA",
            "TCA",
            "BTN",
            "HND",
            "PRI",
            "PER",
            "PHL",
            "HTI",
            "GUY",
            "MDV",
            "POL",
            "AZE",
            "BMU",
            "CRI",
            "TKM",
            "SHN",
            "PRY",
            "MDA",
            "AGO",
            "AIA",
            "PAK",
            "ISL",
            "GNB",
            "GHA",
            "PLW",
            "FRO",
            "COK",
            "BEN",
            "KNA",
            "TUR",
            "PAN",
            "QAT",
            "TUV",
            "BOL",
            "HUN",
            "PNG",
            "NIC",
            "VIR",
            "GBR",
            "GTM",
            "USA",
            "NAM",
            "JPN",
            "ITA",
            "DMA",
            "SEN",
            "STP",
            "MNG",
            "VCT",
            "DNK",
            "MNE",
            "MMR",
            "BGR",
            "ERI",
            "FIN",
            "COL",
            "PYF",
            "MOZ",
            "BFA",
            "MSR",
            "GUM",
            "DZA",
            "JAM",
            "MAR",
            "BLR",
            "SAU",
            "GIB",
            "BDI",
            "GEO",
            "COD",
            "ISR",
            "FSM",
            "NZL",
            "GGY",
            "SPM",
            "COM",
            "VGB",
            "REU",
            "EST",
            "NCL",
            "IRL",
            "BEL",
            "SRB",
            "AUT",
            "NRU",
            "ATG",
            "TZA",
            "TTO",
            "TON",
            "PSE",
            "NLD",
            "BRN",
            "@@@",
            "IMN",
            "NPL",
            "WSM",
            "ASM",
            "URY"
           ],
           "name": "",
           "type": "choropleth",
           "z": [
            -0.6989700043360187,
            1.1695862733219131,
            -1.7029840064222195,
            -0.4854522473397139,
            -1.6179829574251317,
            2.6985424481736784,
            -0.1382864124285658,
            0.7595923086459748,
            -1.1615287209280711,
            1.08278537031645,
            -0.00261361560268669,
            0.888974878036334,
            1.2159018132040316,
            -0.5213757946881922,
            -0.02677975314776622,
            0.25743856685981376,
            2.4026018046725817,
            0.5746172277111166,
            2.177496098564011,
            0.9346448746965262,
            -1.2487208960166578,
            1.2402246541222777,
            2.4793262067779946,
            -0.27312077377277905,
            1.7134905430939424,
            3.623989080339969,
            0.6618126855372612,
            -0.4600461583436033,
            -0.9136401693252518,
            1.7588513593318913,
            0.13347599498047236,
            0.011853678679494465,
            -0.8645175086642884,
            -0.5892227666227902,
            0.8213169705910973,
            0.2363356859539064,
            1.4449499340498178,
            2.0989692035669703,
            0.42955849946142105,
            1.3357386470050503,
            2.41431807141925,
            1.1962314704428745,
            0.8895818021496238,
            2.755186296227057,
            0.8435940206427569,
            -0.6020599913279624,
            1.7560957563248996,
            1.6105537053170946,
            0.776991584856405,
            -0.680477550934546,
            2.067473628999469,
            2.2028096959173746,
            2.1719106607256036,
            1.5126577188325978,
            -0.6104795341536225,
            -1.1023729087095586,
            -0.5907264233305508,
            1.656677833055136,
            -0.04963514562387693,
            0.25638095303164105,
            2.7752105528535855,
            1.2157961325898337,
            0.11126923643182882,
            0.3255156633631482,
            2.0732416476119986,
            -1.058488567365597,
            1.9172218389121132,
            -0.4945786724167191,
            0.72607487021537,
            0.875003353600041,
            -1.0362121726544447,
            2.4401799255721612,
            1.290252817352407,
            0.30613325524314494,
            1.207256180793727,
            -0.7679446092234108,
            -0.05948351506743278,
            -0.7958800173440752,
            -0.30050915472779555,
            1.5831080502411352,
            -0.2520214154708012,
            1.0190331639309986,
            1.9771975619307611,
            1.369976134872427,
            0.7707783961691477,
            1.781281340242768,
            0.7756104480063607,
            0.25728609289114246,
            -0.20481541031757602,
            1.7331169814420644,
            1.8313257660899755,
            -0.9480760839538935,
            -0.3820277806386833,
            -0.4192015694978439,
            -0.27400674107527756,
            -0.07822563428769391,
            2.0921589963912672,
            1.7851802980542406,
            2.2761330866220164,
            -0.10568393731556154,
            0.8123116091311238,
            2.979793677243859,
            1.2970817376649861,
            -0.42136079003192767,
            1.2336052191622717,
            2.3926899200936984,
            -0.3979400086720376,
            1.9340437190355253,
            0.8609366207000937,
            2.229347790813181,
            -0.5345799673964797,
            1.033456286142262,
            -0.5511391543925592,
            0.6972293427597176,
            2.7124796538340092,
            0.03221570329798157,
            1.1732445590615668,
            2.367290100853313,
            1.4169897991791722,
            1.9728921617990434,
            -2.5019729330970333,
            2.8013920463438415,
            1.2140274549723955,
            3.016209905194696,
            1.6666396408460398,
            -0.01854383347787341,
            1.6893887832685999,
            0.28600712207947454,
            0.39022836246913006,
            -0.6706021206389573,
            0.8650032398188708,
            0.8310374856400254,
            1.3710179617411768,
            1.55497345833324,
            1.8310810602943797,
            -0.23136189875238555,
            -0.06163040254819367,
            -1.7557228791981572,
            2.197713258267448,
            1.2720737875000099,
            -0.1293620367891944,
            0.9815159447520151,
            1.2217531943188695,
            -2.031984286006358,
            1.7329209466650686,
            0.0269416279590294,
            0.7363168079041088,
            -1.0061230850587888,
            1.9748937774436668,
            1.2319535691989811,
            -1.4954883605953682,
            1.0071928235570407,
            -1.0947439512515487,
            -0.5522746544275119,
            -1.4723700991286615,
            -0.8239087409443188,
            -0.6645420993106158,
            2.324710364098776,
            0.8703395172272215,
            1.449385822113386,
            -2.2684112348132612,
            0.8310374856400254,
            1.5725347191681087,
            0.5600262489128923,
            0.5633624094866074,
            -0.01884398199344666,
            2.5818029355340366,
            0.9490629427313864,
            3.64131761731392,
            0.1726029312098599,
            3.0599036775459862,
            2.480097531364185,
            -1.0039263455147247,
            0.417969642214737,
            -1.2426039712069759,
            0.7934411329776636,
            -0.8486301497525396,
            1.589525147437537,
            0.6199277102914681,
            0.9357646425381669,
            1.6688795760901103,
            -0.5072396109731625,
            1.9067605065812163,
            1.7798417046157964,
            -0.08753720799787124,
            1.2218313774896354,
            -0.2477210145398813,
            -1.6382721639824072,
            0.27471191416796487,
            1.6602391874282791,
            0.6249727039365643,
            1.3589337176143736,
            1.5427632026619313,
            2.3803324653344604,
            -0.7520267336381934,
            -0.8476168551973241,
            1.0025116312849083,
            0.8979018742682279,
            1.7678309103778143,
            -1.1534773315837132,
            1.6520141393500087,
            -0.817585347565446,
            -1.343422708603886,
            -1.1965428843515862,
            -0.8927900303521317,
            0.4312833318072613,
            1.1127390223601723,
            0.3286140184047982,
            1.4576548542184598,
            1.9785867644000399,
            1.5809591707452724,
            1.8520405972374918,
            -1.645891560852599,
            -0.48678239993206096,
            0.7221401254574156,
            0.9286518466536946,
            -1.2852512392749402,
            -0.324863495532006,
            2.076531219253812,
            0.5788683286660287,
            0.12155984418750096,
            -0.3028578737245405,
            0.5062343596121259,
            -0.9347938719456881,
            -0.7983298203534185,
            1.0306806639999013
           ]
          }
         ],
         "name": "2010"
        },
        {
         "data": [
          {
           "coloraxis": "coloraxis",
           "customdata": [
            [
             293.848
            ],
            [
             0.9305
            ],
            [
             253.958
            ],
            [
             0.5693
            ],
            [
             64.629
            ],
            [
             20.294
            ],
            [
             0.873
            ],
            [
             10.104
            ],
            [
             1.7536
            ],
            [
             0.04523
            ],
            [
             11.599706
            ],
            [
             0.2557
            ],
            [
             6.759
            ],
            [
             613.068
            ],
            [
             1.9513
            ],
            [
             42.025
            ],
            [
             0.385208
            ],
            [
             6.099
            ],
            [
             0.65444
            ],
            [
             8.455
            ],
            [
             87.561
            ],
            [
             0.14528
            ],
            [
             0.171
            ],
            [
             11.366
            ],
            [
             7.433
            ],
            [
             0.760817
            ],
            [
             16.234
            ],
            [
             0.2225
            ],
            [
             0.00939
            ],
            [
             262.538
            ],
            [
             150.376
            ],
            [
             65.813
            ],
            [
             2.588
            ],
            [
             0.323786
            ],
            [
             59.679
            ],
            [
             50.797
            ],
            [
             4349.571
            ],
            [
             1.607
            ],
            [
             302.582
            ],
            [
             0.337
            ],
            [
             10.42503
            ],
            [
             66.472
            ],
            [
             16.83
            ],
            [
             0.5299
            ],
            [
             0.951257
            ],
            [
             24.3642
            ],
            [
             4.1705
            ],
            [
             51.224
            ],
            [
             0.023
            ],
            [
             0.141151
            ],
            [
             0.1004
            ],
            [
             2.809
            ],
            [
             4.8119
            ],
            [
             1082.23
            ],
            [
             10.3449
            ],
            [
             0.281
            ],
            [
             0.06591
            ],
            [
             0.0231
            ],
            [
             0.886
            ],
            [
             3.492
            ],
            [
             0.4986
            ],
            [
             0.4371
            ],
            [
             0.0912
            ],
            [
             0.4066
            ],
            [
             182.389
            ],
            [
             6.336
            ],
            [
             0.0032696111
            ],
            [
             99.137
            ],
            [
             27.034
            ],
            [
             240.05205
            ],
            [
             531.759
            ],
            [
             3.824
            ],
            [
             54.24
            ],
            [
             367.423
            ],
            [
             44.465
            ],
            [
             0.0574
            ],
            [
             0.131
            ],
            [
             0.155
            ],
            [
             12.893
            ],
            [
             2.26683
            ],
            [
             27.474
            ],
            [
             113.963
            ],
            [
             3.725
            ],
            [
             1.325
            ],
            [
             5.093
            ],
            [
             302.785
            ],
            [
             0.0458
            ],
            [
             0.36548
            ],
            [
             4713.019
            ],
            [
             0.626
            ],
            [
             1.005
            ],
            [
             161.162
            ],
            [
             3.718
            ],
            [
             523.286
            ],
            [
             4.822
            ],
            [
             0.174
            ],
            [
             6.204
            ],
            [
             0.0723
            ],
            [
             25.999
            ],
            [
             57.457
            ],
            [
             0.3
            ],
            [
             65.713
            ],
            [
             11.498
            ],
            [
             0.4895
            ],
            [
             20.5441
            ],
            [
             16.365
            ],
            [
             15.158
            ],
            [
             0.218
            ],
            [
             6.095
            ],
            [
             9.1772
            ],
            [
             3.80247
            ],
            [
             0.019752
            ],
            [
             1.437646
            ],
            [
             19.226
            ],
            [
             1.97861
            ],
            [
             52.4
            ],
            [
             0.262
            ],
            [
             2.7386
            ],
            [
             14.647
            ],
            [
             0.7442
            ],
            [
             1.053
            ],
            [
             0.06779
            ],
            [
             4.2173
            ],
            [
             1.764403
            ],
            [
             86.586
            ],
            [
             6.083
            ],
            [
             127.655
            ],
            [
             0.079
            ],
            [
             5.943
            ],
            [
             2.187
            ],
            [
             122.059
            ],
            [
             7.56
            ],
            [
             1.38143
            ],
            [
             0.27462
            ],
            [
             629.901
            ],
            [
             124.89368
            ],
            [
             0.0241
            ],
            [
             105.219
            ],
            [
             16.70103
            ],
            [
             39.026
            ],
            [
             194.947
            ],
            [
             2.033
            ],
            [
             16.4965
            ],
            [
             1.293
            ],
            [
             0.3202
            ],
            [
             0.38836972
            ],
            [
             0.17564
            ],
            [
             561.448
            ],
            [
             0.204
            ],
            [
             0.0952
            ],
            [
             0.801206
            ],
            [
             0.8902
            ],
            [
             62.217
            ],
            [
             0.03317
            ],
            [
             30.73
            ],
            [
             229.393
            ],
            [
             46.00014
            ],
            [
             0.155
            ],
            [
             22.5074
            ],
            [
             52.463
            ],
            [
             9.831455
            ],
            [
             1.016
            ],
            [
             1054.765
            ],
            [
             11.373
            ],
            [
             0.32384
            ],
            [
             2.56
            ],
            [
             1.858
            ],
            [
             38.6
            ],
            [
             17.759
            ],
            [
             0.325
            ],
            [
             250.077
            ],
            [
             32.2
            ],
            [
             0.06
            ],
            [
             8.7975
            ],
            [
             8.772
            ],
            [
             0.114
            ],
            [
             90.241
            ],
            [
             73.506
            ],
            [
             2.7498
            ],
            [
             0.0846
            ],
            [
             35.229
            ],
            [
             1.049
            ],
            [
             0.3455
            ],
            [
             1.767
            ],
            [
             0.7259
            ],
            [
             0.1401
            ],
            [
             0.9104
            ],
            [
             151.595
            ],
            [
             0.00508
            ],
            [
             17.22
            ],
            [
             24.338
            ],
            [
             0.0336
            ],
            [
             7.22
            ],
            [
             0.0827
            ],
            [
             7.899
            ],
            [
             0.273843
            ],
            [
             0.0775
            ],
            [
             7.8574
            ],
            [
             95.09
            ],
            [
             0.334
            ],
            [
             129.892
            ],
            [
             252.016
            ],
            [
             15.28
            ],
            [
             59.436
            ],
            [
             0.387
            ],
            [
             21.874
            ],
            [
             973.006
            ],
            [
             4.929
            ],
            [
             17.211
            ],
            [
             36.019
            ],
            [
             0.05316
            ],
            [
             3.666
            ],
            [
             44.153
            ],
            [
             28.656
            ],
            [
             7.653
            ],
            [
             0.0176
            ],
            [
             0.5653134000000001
            ],
            [
             57.62499
            ],
            [
             38.8107
            ],
            [
             5.651
            ],
            [
             69.2096
            ],
            [
             16.059
            ],
            [
             163.548
            ],
            [
             0.214
            ],
            [
             7.0675
            ],
            [
             0.974
            ]
           ],
           "geo": "geo",
           "hovertemplate": "<b>%{hovertext}</b><br><br>year=2011<br>ISO=%{location}<br>Electric_Energy_Production=%{customdata[0]}<br>color=%{z}<extra></extra>",
           "hovertext": [
            "Spain",
            "Aruba",
            "Australia",
            "State of Palestine",
            "Switzerland",
            "Azerbaijan",
            "French Guiana",
            "Georgia",
            "Bahamas",
            "St. Pierre-Miquelon",
            "Sri Lanka",
            "Gambia",
            "T.F.Yug.Rep. Macedonia",
            "Germany",
            "Suriname",
            "Syrian Arab Republic",
            "St. Lucia",
            "Côte d'Ivoire",
            "Swaziland",
            "Sudan (former)",
            "Czechia",
            "St. Vincent-Grenadines",
            "Gibraltar",
            "Ghana",
            "Armenia",
            "French Polynesia",
            "Tajikistan",
            "St. Kitts-Nevis",
            "St. Helena and Depend.",
            "South Africa",
            "Sweden",
            "Austria",
            "Uganda",
            "Niger",
            "Israel",
            "Bulgaria",
            "United States",
            "Namibia",
            "Italy",
            "Eritrea",
            "Myanmar",
            "Colombia",
            "Mozambique",
            "Burkina Faso",
            "United States Virgin Is.",
            "Morocco",
            "Jamaica",
            "Algeria",
            "Montserrat",
            "Burundi",
            "Dominica",
            "Montenegro",
            "Mongolia",
            "Japan",
            "Uruguay",
            "Equatorial Guinea",
            "Micronesia (Fed. States of)",
            "Nauru",
            "China, Macao SAR",
            "Nepal",
            "Isle of Man",
            "Botswana",
            "Andorra",
            "Northern Mariana Islands",
            "Indonesia",
            "Ethiopia",
            "Niue",
            "United Arab Emirates",
            "Nigeria",
            "Iran (Islamic Rep. of)",
            "Brazil",
            "Nicaragua",
            "Iraq",
            "United Kingdom",
            "New Zealand",
            "Comoros",
            "British Virgin Islands",
            "American Samoa",
            "Estonia",
            "New Caledonia",
            "Ireland",
            "Netherlands",
            "Brunei Darussalam",
            "Neth. Antilles (former)",
            "United Rep. of Tanzania",
            "Mexico",
            "Jersey",
            "Cabo Verde",
            "China",
            "Cayman Islands",
            "Afghanistan",
            "Egypt",
            "Luxembourg",
            "Korea, Republic of",
            "Lithuania",
            "Central African Rep.",
            "Yemen",
            "Liechtenstein",
            "Libya",
            "Kuwait",
            "Liberia",
            "Chile",
            "Zambia",
            "Lesotho",
            "Ecuador",
            "Lebanon",
            "Kyrgyzstan",
            "Chad",
            "Latvia",
            "Zimbabwe",
            "Lao People's Dem. Rep.",
            "Wallis and Futuna Is.",
            "Madagascar",
            "Korea, Dem.Ppl's.Rep.",
            "Malawi",
            "Uzbekistan",
            "Mayotte",
            "Mauritius",
            "Jordan",
            "Mauritania",
            "Cambodia",
            "Vanuatu",
            "Albania",
            "Martinique",
            "Kazakhstan",
            "El Salvador",
            "Norway",
            "Marshall Islands",
            "Cameroon",
            "Malta",
            "Venezuela (Bolivar. Rep.)",
            "Kenya",
            "Mali",
            "Maldives",
            "Canada",
            "Malaysia",
            "Kiribati",
            "Viet Nam",
            "Dominican Republic",
            "China, Hong Kong SAR",
            "Ukraine",
            "Gabon",
            "Tunisia",
            "Congo",
            "Togo",
            "Belize",
            "Sierra Leone",
            "France",
            "Grenada",
            "Anguilla",
            "Fiji",
            "Guinea",
            "Romania",
            "Guinea-Bissau",
            "Qatar",
            "Turkey",
            "Singapore",
            "Benin",
            "Puerto Rico",
            "Portugal",
            "Costa Rica",
            "Republic of Moldova",
            "Russian Federation",
            "Croatia",
            "Seychelles",
            "Senegal",
            "Guam",
            "Serbia",
            "Cuba",
            "Antigua and Barbuda",
            "Saudi Arabia",
            "Belarus",
            "Sao Tome and Principe",
            "Guatemala",
            "Trinidad and Tobago",
            "Samoa",
            "Belgium",
            "Finland",
            "Réunion",
            "Guernsey",
            "Denmark",
            "Barbados",
            "Rwanda",
            "Guadeloupe",
            "Bermuda",
            "Timor-Leste",
            "Guyana",
            "Thailand",
            "Tuvalu",
            "Turkmenistan",
            "Bahrain",
            "Cook Islands",
            "Bolivia (Plur. State of)",
            "Solomon Islands",
            "Dem. Rep. of the Congo",
            "Faeroe Islands",
            "Palau",
            "Panama",
            "Pakistan",
            "Somalia",
            "Argentina",
            "Other Asia",
            "Bosnia and Herzegovina",
            "Greece",
            "Djibouti",
            "Oman",
            "India",
            "Cyprus",
            "Iceland",
            "Hungary",
            "Tonga",
            "Papua New Guinea",
            "Bangladesh",
            "Slovakia",
            "Honduras",
            "Falkland Is. (Malvinas)",
            "Greenland",
            "Paraguay",
            "Peru",
            "Angola",
            "Philippines",
            "Slovenia",
            "Poland",
            "Turks and Caicos Islands",
            "Bhutan",
            "Haiti"
           ],
           "locations": [
            "ESP",
            "ABW",
            "AUS",
            "PSE",
            "CHE",
            "AZE",
            "GUF",
            "GEO",
            "BHS",
            "SPM",
            "LKA",
            "GMB",
            "MKD",
            "DEU",
            "SUR",
            "SYR",
            "LCA",
            "CIV",
            "SWZ",
            "SDN",
            "CZE",
            "VCT",
            "GIB",
            "GHA",
            "ARM",
            "PYF",
            "TJK",
            "KNA",
            "SHN",
            "ZAF",
            "SWE",
            "AUT",
            "UGA",
            "NER",
            "ISR",
            "BGR",
            "USA",
            "NAM",
            "ITA",
            "ERI",
            "MMR",
            "COL",
            "MOZ",
            "BFA",
            "VIR",
            "MAR",
            "JAM",
            "DZA",
            "MSR",
            "BDI",
            "DMA",
            "MNE",
            "MNG",
            "JPN",
            "URY",
            "GNQ",
            "FSM",
            "NRU",
            "MAC",
            "NPL",
            "IMN",
            "BWA",
            "AND",
            "MNP",
            "IDN",
            "ETH",
            "NIU",
            "ARE",
            "NGA",
            "IRN",
            "BRA",
            "NIC",
            "IRQ",
            "GBR",
            "NZL",
            "COM",
            "VGB",
            "ASM",
            "EST",
            "NCL",
            "IRL",
            "NLD",
            "BRN",
            "@@@",
            "TZA",
            "MEX",
            "JEY",
            "CPV",
            "CHN",
            "CYM",
            "AFG",
            "EGY",
            "LUX",
            "KOR",
            "LTU",
            "CAF",
            "YEM",
            "LIE",
            "LBY",
            "KWT",
            "LBR",
            "CHL",
            "ZMB",
            "LSO",
            "ECU",
            "LBN",
            "KGZ",
            "TCD",
            "LVA",
            "ZWE",
            "LAO",
            "WLF",
            "MDG",
            "PRK",
            "MWI",
            "UZB",
            "MYT",
            "MUS",
            "JOR",
            "MRT",
            "KHM",
            "VUT",
            "ALB",
            "MTQ",
            "KAZ",
            "SLV",
            "NOR",
            "MHL",
            "CMR",
            "MLT",
            "VEN",
            "KEN",
            "MLI",
            "MDV",
            "CAN",
            "MYS",
            "KIR",
            "VNM",
            "DOM",
            "HKG",
            "UKR",
            "GAB",
            "TUN",
            "COG",
            "TGO",
            "BLZ",
            "SLE",
            "FRA",
            "GRD",
            "AIA",
            "FJI",
            "GIN",
            "ROU",
            "GNB",
            "QAT",
            "TUR",
            "SGP",
            "BEN",
            "PRI",
            "PRT",
            "CRI",
            "MDA",
            "RUS",
            "HRV",
            "SYC",
            "SEN",
            "GUM",
            "SRB",
            "CUB",
            "ATG",
            "SAU",
            "BLR",
            "STP",
            "GTM",
            "TTO",
            "WSM",
            "BEL",
            "FIN",
            "REU",
            "GGY",
            "DNK",
            "BRB",
            "RWA",
            "GLP",
            "BMU",
            "TLS",
            "GUY",
            "THA",
            "TUV",
            "TKM",
            "BHR",
            "COK",
            "BOL",
            "SLB",
            "COD",
            "FRO",
            "PLW",
            "PAN",
            "PAK",
            "SOM",
            "ARG",
            "@@@",
            "BIH",
            "GRC",
            "DJI",
            "OMN",
            "IND",
            "CYP",
            "ISL",
            "HUN",
            "TON",
            "PNG",
            "BGD",
            "SVK",
            "HND",
            "MDV",
            "GRL",
            "PRY",
            "PER",
            "AGO",
            "PHL",
            "SVN",
            "POL",
            "TCA",
            "BTN",
            "HTI"
           ],
           "name": "",
           "type": "choropleth",
           "z": [
            2.4681227391480194,
            -0.031283622533214185,
            2.4047618982086463,
            -0.2446588161884524,
            1.8104274361664947,
            1.3073676560385321,
            -0.05898575629443027,
            1.0044933375472742,
            0.24393053680427515,
            -1.3445734122540813,
            1.064446981968664,
            -0.5922692719736645,
            0.8298824464434933,
            2.787508648069637,
            0.2903240445501072,
            1.6235077221115086,
            -0.41430470202575526,
            0.7852586333577011,
            -0.18413016403053625,
            0.9271136119337605,
            1.94231071283196,
            -0.8377941688229902,
            -0.7670038896078462,
            1.0556076517087116,
            0.8711641328029494,
            -0.11871979191224698,
            1.2104255416310867,
            -0.6526699846830496,
            -2.027334407733889,
            2.419192172488303,
            2.1771785284146534,
            1.8183116880002714,
            0.4129642719966628,
            -0.48974193339052724,
            1.7758215373513337,
            1.7058380642146636,
            3.638446424421197,
            0.20601587676334454,
            2.480843089142596,
            -0.47237009912866135,
            1.0180773134122902,
            1.8226387459607916,
            1.2260841159758238,
            -0.2758060804856704,
            -0.021702134373604264,
            1.3867521558654976,
            0.6201881255309691,
            1.7094734888161112,
            -1.6382721639824072,
            -0.8503160406984753,
            -0.9982662871909994,
            0.4485517392015781,
            0.6823165933354175,
            3.0343195686409836,
            1.0147262968714394,
            -0.5512936800949201,
            -1.1810486883598272,
            -1.6363880201078558,
            -0.05256627811294924,
            0.5430742350335321,
            -0.3022477258322454,
            -0.35941919351034746,
            -1.0400051616715837,
            -0.39083262569798016,
            2.2609986421976758,
            0.8018151685814371,
            -2.4855039009079856,
            1.9962357725158852,
            1.4319103094576326,
            2.3803054191153756,
            2.725714849053864,
            0.5825178836040624,
            1.734319680859007,
            2.5651663388517654,
            1.6480182966516828,
            -1.2410881076020266,
            -0.8827287043442357,
            -0.8096683018297085,
            1.1103539826640023,
            0.35541895160852793,
            1.438921893911341,
            2.056763873230626,
            0.5711262770843116,
            0.12221587827282664,
            0.7069736761761781,
            2.4811343563677037,
            -1.3391345219961308,
            -0.4371363837602678,
            3.6732991905719685,
            -0.20342566678957033,
            0.0021660617565076304,
            2.2072626482892757,
            0.5703093854358797,
            2.7187391157752474,
            0.6832272060414348,
            -0.7594507517174003,
            0.7926717891415673,
            -1.140861702705469,
            1.4149566440156667,
            1.7593429464478045,
            -0.5228787452803376,
            1.8176512945182424,
            1.060622304309956,
            -0.31024730386084337,
            1.3126871203559756,
            1.2139160096440231,
            1.180641902729832,
            -0.6615435063953952,
            0.7849737099544007,
            0.9627101964477114,
            0.5800657963250746,
            -1.7043889230761242,
            0.15765196033530518,
            1.2838889379760563,
            0.29636019969430916,
            1.7193312869837267,
            -0.5816987086802545,
            0.4375286038206803,
            1.1657486815594142,
            -0.12831033431448474,
            0.022428371185486493,
            -1.1688343660905576,
            0.6250344958952034,
            0.2465977875343555,
            1.937447677072029,
            0.7841178164629233,
            2.1060378299501616,
            -1.1023729087095586,
            0.7740057302582095,
            0.33984878303763705,
            2.08656980756502,
            0.8785217955012065,
            0.14032888318379896,
            -0.5612678371890569,
            2.799272297815085,
            2.0965404623087185,
            -1.6179829574251317,
            2.0220941699516777,
            1.2227432561489142,
            1.5913540402140884,
            2.2899165563053816,
            0.3081373786380386,
            1.2173918113699767,
            0.11159852488039401,
            -0.4945786724167191,
            -0.41075463805741175,
            -0.7553765715676498,
            2.7493095391213704,
            -0.6903698325741012,
            -1.0213630516155257,
            -0.09625580706052021,
            -0.050512410053496284,
            1.7939090663217583,
            -1.4792545284805176,
            1.4875625602563782,
            2.3605801611338753,
            1.6627591534453772,
            -0.8096683018297085,
            1.3523253292577537,
            1.7198531212942414,
            0.99261779572737,
            0.006893707947900456,
            3.023155710276632,
            1.055875039146097,
            -0.4896695091763137,
            0.4082399653118496,
            0.269045709657623,
            1.586587304671755,
            1.2494185072359876,
            -0.4881166390211256,
            2.3980737507772365,
            1.507855871695831,
            -1.2218487496163564,
            0.9443592755072293,
            0.9430986230054853,
            -0.9430951486635274,
            1.9554038992730836,
            1.866322790247996,
            0.4393011076284302,
            -1.0726296369609765,
            1.5469003156011765,
            0.02077548819355783,
            -0.4615519482897828,
            0.24723654950676405,
            -0.13912320359670222,
            -0.8535618647142253,
            -0.040767750949004054,
            2.180684877363188,
            -2.2941362877160807,
            1.236033147117636,
            1.3862848867678579,
            -1.473660722610156,
            0.8585371975696391,
            -1.0824944904474534,
            0.8975721138257305,
            -0.5624983560688755,
            -1.1106982974936896,
            0.8952788625213645,
            1.9781348473982896,
            -0.4762535331884355,
            2.113582403860979,
            2.4014281141590272,
            1.1841233542396712,
            1.7740495740300808,
            -0.4122890349810886,
            1.3399282077785137,
            2.9881155183350088,
            0.6927588181547242,
            1.2358061046021034,
            1.5565316512788911,
            -1.2744150277293056,
            0.5641924606261979,
            1.6449602172948363,
            1.4572155685049564,
            0.8838317133294524,
            -1.75448733218585,
            -0.24771072004654202,
            1.7606108630320612,
            1.5889514758602352,
            0.7521253072978983,
            1.840166339223493,
            1.2057184981030942,
            2.2136452375819133,
            -0.6695862266508091,
            0.8492658171615571,
            -0.011441043121384482
           ]
          }
         ],
         "name": "2011"
        },
        {
         "data": [
          {
           "coloraxis": "coloraxis",
           "customdata": [
            [
             0.874
            ],
            [
             0.126
            ],
            [
             9.1486
            ],
            [
             166.562
            ],
            [
             118.94
            ],
            [
             17.74564
            ],
            [
             1.022
            ],
            [
             70.416
            ],
            [
             7.595
            ],
            [
             166.471
            ],
            [
             22.848
            ],
            [
             0.018983
            ],
            [
             12.368
            ],
            [
             164.628
            ],
            [
             0.3994
            ],
            [
             565.704
            ],
            [
             7.073
            ],
            [
             0.393
            ],
            [
             121.653
            ],
            [
             4290.66
            ],
            [
             0.01765
            ],
            [
             5.589
            ],
            [
             0.227
            ],
            [
             6.204
            ],
            [
             0.1566
            ],
            [
             11.967
            ],
            [
             363.582
            ],
            [
             0.0051
            ],
            [
             16.998
            ],
            [
             0.291556
            ],
            [
             106.222
            ],
            [
             2.6397
            ],
            [
             7.608
            ],
            [
             31.188
            ],
            [
             0.0879
            ],
            [
             198.878
            ],
            [
             17.75
            ],
            [
             0.359
            ],
            [
             8.036
            ],
            [
             0.872857
            ],
            [
             0.327
            ],
            [
             6.237
            ],
            [
             4.725
            ],
            [
             0.06735
            ],
            [
             9.132
            ],
            [
             30.701
            ],
            [
             0.767728
            ],
            [
             52.5
            ],
            [
             0.05239
            ],
            [
             6.262
            ],
            [
             69.893
            ],
            [
             0.439
            ],
            [
             0.10155
            ],
            [
             10.6008
            ],
            [
             0.803353
            ],
            [
             0.0895
            ],
            [
             239.496
            ],
            [
             57.397
            ],
            [
             18.0594
            ],
            [
             135.207
            ],
            [
             0.393
            ],
            [
             5.1816
            ],
            [
             0.0033294443999999
            ],
            [
             28.664
            ],
            [
             48.562
            ],
            [
             0.0602
            ],
            [
             307.268
            ],
            [
             0.162
            ],
            [
             0.561
            ],
            [
             0.4017
            ],
            [
             0.06728
            ],
            [
             46.97125
            ],
            [
             0.1997
            ],
            [
             28.706
            ],
            [
             254.27606
            ],
            [
             552.498
            ],
            [
             34.787
            ],
            [
             0.141695
            ],
            [
             0.917
            ],
            [
             1064.065
            ],
            [
             0.17867
            ],
            [
             0.37508
            ],
            [
             34.635
            ],
            [
             0.5739306999999999
            ],
            [
             22.5556
            ],
            [
             38.752
            ],
            [
             147.716
            ],
            [
             4.717
            ],
            [
             10.174336
            ],
            [
             92.817
            ],
            [
             0.34
            ],
            [
             27.6
            ],
            [
             1.780487
            ],
            [
             0.4107
            ],
            [
             196.1809
            ],
            [
             1.434
            ],
            [
             0.0833
            ],
            [
             24.77
            ],
            [
             0.8243
            ],
            [
             0.2508
            ],
            [
             16.596
            ],
            [
             15.736
            ],
            [
             2.7975
            ],
            [
             0.9424
            ],
            [
             0.2709
            ],
            [
             46.614
            ],
            [
             18.432
            ],
            [
             0.03425
            ],
            [
             1.538
            ],
            [
             47.329
            ],
            [
             0.067
            ],
            [
             9.3354
            ],
            [
             63.003
            ],
            [
             0.0237
            ],
            [
             44.26
            ],
            [
             0.1172
            ],
            [
             82.923
            ],
            [
             3.543
            ],
            [
             1.0712
            ],
            [
             1070.734
            ],
            [
             3.93
            ],
            [
             2.8117
            ],
            [
             0.0681
            ],
            [
             0.13
            ],
            [
             0.2959
            ],
            [
             103.298
            ],
            [
             2.2879
            ],
            [
             30.799
            ],
            [
             2.844
            ],
            [
             0.42375195
            ],
            [
             271.68
            ],
            [
             0.023
            ],
            [
             0.932
            ],
            [
             0.33646
            ],
            [
             1.817
            ],
            [
             0.391743
            ],
            [
             4.1562
            ],
            [
             1.12852
            ],
            [
             26.4953
            ],
            [
             59.045
            ],
            [
             4.031
            ],
            [
             0.6256
            ],
            [
             15.166
            ],
            [
             46.018
            ],
            [
             36.799
            ],
            [
             299.277
            ],
            [
             2.917
            ],
            [
             10.9649
            ],
            [
             0.0584
            ],
            [
             68.344
            ],
            [
             1.799
            ],
            [
             0.0777
            ],
            [
             60.959
            ],
            [
             0.692
            ],
            [
             0.4611
            ],
            [
             0.0775
            ],
            [
             9.698
            ],
            [
             0.177
            ],
            [
             34.275
            ],
            [
             96.126
            ],
            [
             0.14528
            ],
            [
             0.0859
            ],
            [
             0.3
            ],
            [
             17.549
            ],
            [
             534.618
            ],
            [
             5.043
            ],
            [
             6.8267
            ],
            [
             0.04347
            ],
            [
             257.919
            ],
            [
             3.818
            ],
            [
             40.0439
            ],
            [
             0.607
            ],
            [
             2.151
            ],
            [
             62.655
            ],
            [
             9.51
            ],
            [
             60.23461
            ],
            [
             0.9145
            ],
            [
             3.80247
            ],
            [
             3.764
            ],
            [
             0.6218
            ],
            [
             8.6056
            ],
            [
             6.167
            ],
            [
             7.016
            ],
            [
             0.0329
            ],
            [
             0.205
            ],
            [
             15.168
            ],
            [
             14.826
            ],
            [
             7.661
            ],
            [
             1.9724
            ],
            [
             0.2663
            ],
            [
             0.1186
            ],
            [
             0.4854
            ],
            [
             7.74
            ],
            [
             251.165
            ],
            [
             69.751
            ],
            [
             0.384783
            ],
            [
             250.336
            ],
            [
             72.617
            ],
            [
             10.755
            ],
            [
             0.299
            ],
            [
             1.7495
            ],
            [
             1.1
            ],
            [
             1.3625
            ],
            [
             25.017
            ],
            [
             0.0241
            ],
            [
             1.7
            ],
            [
             11.897006
            ],
            [
             629.812
            ],
            [
             0.176
            ],
            [
             162.139
            ],
            [
             1035.264
            ],
            [
             297.559
            ],
            [
             632.921
            ],
            [
             134.42075
            ],
            [
             4987.553
            ],
            [
             7.8516
            ],
            [
             12.204
            ],
            [
             0.00966
            ],
            [
             2.02651
            ],
            [
             19.236
            ],
            [
             72.9559
            ],
            [
             22.988
            ],
            [
             2.307
            ],
            [
             0.2178
            ],
            [
             14.082
            ],
            [
             87.573
            ],
            [
             1.52016
            ],
            [
             6.263
            ],
            [
             0.445
            ]
           ],
           "geo": "geo",
           "hovertemplate": "<b>%{hovertext}</b><br><br>year=2012<br>ISO=%{location}<br>Electric_Energy_Production=%{customdata[0]}<br>color=%{z}<extra></extra>",
           "hovertext": [
            "French Guiana",
            "Timor-Leste",
            "Zimbabwe",
            "Sweden",
            "Viet Nam",
            "Dominican Republic",
            "Afghanistan",
            "Finland",
            "Dem. Rep. of the Congo",
            "Thailand",
            "Ecuador",
            "Wallis and Futuna Is.",
            "Zambia",
            "Egypt",
            "Togo",
            "France",
            "Yemen",
            "Djibouti",
            "Venezuela (Bolivar. Rep.)",
            "United States",
            "Falkland Is. (Malvinas)",
            "United Rep. of Tanzania",
            "Turks and Caicos Islands",
            "Angola",
            "American Samoa",
            "Estonia",
            "United Kingdom",
            "Tuvalu",
            "Tajikistan",
            "Faeroe Islands",
            "United Arab Emirates",
            "Uganda",
            "Ethiopia",
            "Syrian Arab Republic",
            "Andorra",
            "Ukraine",
            "Turkmenistan",
            "Eritrea",
            "Armenia",
            "United States Virgin Is.",
            "Antigua and Barbuda",
            "El Salvador",
            "Albania",
            "Vanuatu",
            "Trinidad and Tobago",
            "Denmark",
            "French Polynesia",
            "Uzbekistan",
            "Tonga",
            "T.F.Yug.Rep. Macedonia",
            "Switzerland",
            "Equatorial Guinea",
            "Dominica",
            "Uruguay",
            "Fiji",
            "Anguilla",
            "Turkey",
            "Algeria",
            "Tunisia",
            "Argentina",
            "Rwanda",
            "Mongolia",
            "Niue",
            "Slovakia",
            "Bangladesh",
            "Jersey",
            "Mexico",
            "Benin",
            "China, Macao SAR",
            "Sint Maarten (Dutch part)",
            "Micronesia (Fed. States of)",
            "Singapore",
            "Grenada",
            "Nigeria",
            "Iran (Islamic Rep. of)",
            "Brazil",
            "Qatar",
            "Burundi",
            "Curaçao",
            "Japan",
            "Sierra Leone",
            "Cabo Verde",
            "Hungary",
            "Greenland",
            "Puerto Rico",
            "China, Hong Kong SAR",
            "Norway",
            "Cyprus",
            "Costa Rica",
            "Kazakhstan",
            "Somalia",
            "Ireland",
            "Martinique",
            "Northern Mariana Islands",
            "Indonesia",
            "Cambodia",
            "Solomon Islands",
            "Bahrain",
            "Mauritania",
            "Botswana",
            "Jordan",
            "Slovenia",
            "Mauritius",
            "Guyana",
            "Mayotte",
            "Portugal",
            "Cuba",
            "Guinea-Bissau",
            "Namibia",
            "Bulgaria",
            "Sao Tome and Principe",
            "Guatemala",
            "Israel",
            "Nauru",
            "New Zealand",
            "Samoa",
            "Belgium",
            "Nepal",
            "Guinea",
            "Russian Federation",
            "Brunei Darussalam",
            "Réunion",
            "Guernsey",
            "British Virgin Islands",
            "Isle of Man",
            "Netherlands",
            "New Caledonia",
            "Belarus",
            "Montenegro",
            "Belize",
            "Saudi Arabia",
            "Montserrat",
            "Republic of Moldova",
            "Seychelles",
            "Guadeloupe",
            "Niger",
            "Jamaica",
            "Barbados",
            "Morocco",
            "Romania",
            "Nicaragua",
            "Burkina Faso",
            "Mozambique",
            "Iraq",
            "Serbia",
            "Italy",
            "Senegal",
            "Myanmar",
            "Comoros",
            "Colombia",
            "Guam",
            "Marshall Islands",
            "Greece",
            "Bermuda",
            "State of Palestine",
            "Palau",
            "Georgia",
            "Central African Rep.",
            "Libya",
            "Pakistan",
            "St. Vincent-Grenadines",
            "Liechtenstein",
            "Liberia",
            "Iceland",
            "Korea, Republic of",
            "Lithuania",
            "Bhutan",
            "St. Pierre-Miquelon",
            "South Africa",
            "Luxembourg",
            "Peru",
            "Cayman Islands",
            "Gabon",
            "Kuwait",
            "Sudan",
            "Paraguay",
            "Aruba",
            "Lao People's Dem. Rep.",
            "Papua New Guinea",
            "Swaziland",
            "Panama",
            "Latvia",
            "Côte d'Ivoire",
            "Cook Islands",
            "Chad",
            "Kyrgyzstan",
            "Lebanon",
            "Bolivia (Plur. State of)",
            "Suriname",
            "Gambia",
            "Bonaire, St Eustatius, Saba",
            "Lesotho",
            "Honduras",
            "Australia",
            "Chile",
            "St. Lucia",
            "Other Asia",
            "Austria",
            "Croatia",
            "Maldives",
            "Bahamas",
            "Haiti",
            "Mali",
            "Oman",
            "Kiribati",
            "Congo",
            "Sri Lanka",
            "Germany",
            "Gibraltar",
            "Poland",
            "India",
            "Spain",
            "Canada",
            "Malaysia",
            "China",
            "Kenya",
            "Ghana",
            "St. Helena and Depend.",
            "Malawi",
            "Korea, Dem.Ppl's.Rep.",
            "Philippines",
            "Azerbaijan",
            "Malta",
            "St. Kitts-Nevis",
            "Bosnia and Herzegovina",
            "Czechia",
            "Madagascar",
            "Cameroon",
            "South Sudan"
           ],
           "locations": [
            "GUF",
            "TLS",
            "ZWE",
            "SWE",
            "VNM",
            "DOM",
            "AFG",
            "FIN",
            "COD",
            "THA",
            "ECU",
            "WLF",
            "ZMB",
            "EGY",
            "TGO",
            "FRA",
            "YEM",
            "DJI",
            "VEN",
            "USA",
            "MDV",
            "TZA",
            "TCA",
            "AGO",
            "ASM",
            "EST",
            "GBR",
            "TUV",
            "TJK",
            "FRO",
            "ARE",
            "UGA",
            "ETH",
            "SYR",
            "AND",
            "UKR",
            "TKM",
            "ERI",
            "ARM",
            "VIR",
            "ATG",
            "SLV",
            "ALB",
            "VUT",
            "TTO",
            "DNK",
            "PYF",
            "UZB",
            "TON",
            "MKD",
            "CHE",
            "GNQ",
            "DMA",
            "URY",
            "FJI",
            "AIA",
            "TUR",
            "DZA",
            "TUN",
            "ARG",
            "RWA",
            "MNG",
            "NIU",
            "SVK",
            "BGD",
            "JEY",
            "MEX",
            "BEN",
            "MAC",
            "SXM",
            "FSM",
            "SGP",
            "GRD",
            "NGA",
            "IRN",
            "BRA",
            "QAT",
            "BDI",
            "CUW",
            "JPN",
            "SLE",
            "CPV",
            "HUN",
            "GRL",
            "PRI",
            "HKG",
            "NOR",
            "CYP",
            "CRI",
            "KAZ",
            "SOM",
            "IRL",
            "MTQ",
            "MNP",
            "IDN",
            "KHM",
            "SLB",
            "BHR",
            "MRT",
            "BWA",
            "JOR",
            "SVN",
            "MUS",
            "GUY",
            "MYT",
            "PRT",
            "CUB",
            "GNB",
            "NAM",
            "BGR",
            "STP",
            "GTM",
            "ISR",
            "NRU",
            "NZL",
            "WSM",
            "BEL",
            "NPL",
            "GIN",
            "RUS",
            "BRN",
            "REU",
            "GGY",
            "VGB",
            "IMN",
            "NLD",
            "NCL",
            "BLR",
            "MNE",
            "BLZ",
            "SAU",
            "MSR",
            "MDA",
            "SYC",
            "GLP",
            "NER",
            "JAM",
            "BRB",
            "MAR",
            "ROU",
            "NIC",
            "BFA",
            "MOZ",
            "IRQ",
            "SRB",
            "ITA",
            "SEN",
            "MMR",
            "COM",
            "COL",
            "GUM",
            "MHL",
            "GRC",
            "BMU",
            "PSE",
            "PLW",
            "GEO",
            "CAF",
            "LBY",
            "PAK",
            "VCT",
            "LIE",
            "LBR",
            "ISL",
            "KOR",
            "LTU",
            "BTN",
            "SPM",
            "ZAF",
            "LUX",
            "PER",
            "CYM",
            "GAB",
            "KWT",
            "SDN",
            "PRY",
            "ABW",
            "LAO",
            "PNG",
            "SWZ",
            "PAN",
            "LVA",
            "CIV",
            "COK",
            "TCD",
            "KGZ",
            "LBN",
            "BOL",
            "SUR",
            "GMB",
            "BIH",
            "LSO",
            "HND",
            "AUS",
            "CHL",
            "LCA",
            "@@@",
            "AUT",
            "HRV",
            "MDV",
            "BHS",
            "HTI",
            "MLI",
            "OMN",
            "KIR",
            "COG",
            "LKA",
            "DEU",
            "GIB",
            "POL",
            "IND",
            "ESP",
            "CAN",
            "MYS",
            "CHN",
            "KEN",
            "GHA",
            "SHN",
            "MWI",
            "PRK",
            "PHL",
            "AZE",
            "MLT",
            "KNA",
            "BIH",
            "CZE",
            "MDG",
            "CMR",
            "SSD"
           ],
           "name": "",
           "type": "choropleth",
           "z": [
            -0.05848856736559697,
            -0.8996294548824371,
            0.9613546395534417,
            2.2215759270064526,
            2.0753279341632584,
            1.2490916668820464,
            0.009450895798693935,
            1.8476713512188698,
            0.8805277781988051,
            2.2213385883713213,
            1.3588481900960803,
            -1.7216351522623115,
            1.0922994765742498,
            2.216503702147969,
            -0.39859193946531624,
            2.7525892495761632,
            0.8496036580824471,
            -0.4056074496245733,
            2.0851228232329766,
            3.632524101581349,
            -1.7532552902761587,
            0.7473341096159051,
            -0.6439741428068773,
            0.7926717891415673,
            -0.8052082422780754,
            1.077985291029502,
            2.560602374290914,
            -2.2924298239020637,
            1.2303978249040808,
            -0.5352780167019356,
            2.0262144742699633,
            0.421554572419877,
            0.8812705039293575,
            1.4939875255486375,
            -1.056011124926228,
            2.298586743873338,
            1.249198357391113,
            -0.44490555142168087,
            0.9050399280762115,
            -0.05905690085100169,
            -0.4854522473397139,
            0.7949757440511316,
            0.6744018128452817,
            -1.1716623999409956,
            0.9605659028181976,
            1.4871525216468562,
            -0.1147926198415813,
            1.7201593034059568,
            -1.2807516015520537,
            0.7967130632808964,
            1.8444336819888285,
            -0.35753547975787864,
            -0.9933200722591744,
            1.0253386409699972,
            -0.09509358016936241,
            -1.048176964684088,
            2.3792982643374945,
            1.7588891934869217,
            1.2567033173497044,
            2.130999176684583,
            -0.4056074496245733,
            0.7144638840458368,
            -2.477628233204191,
            1.4573367951580543,
            1.686296564621513,
            -1.2204035087421754,
            2.487517333614466,
            -0.790484985457369,
            -0.25103713874383854,
            -0.3960981682683286,
            -1.1721140172101443,
            1.671832117791912,
            -0.6996219351292975,
            1.457972680516207,
            2.405305473430452,
            2.742330710247581,
            1.5414169771918589,
            -0.848645474457702,
            -0.03763066432997889,
            3.026968158296526,
            -0.7479483625934839,
            -0.4258760926640153,
            1.5395151919728576,
            -0.2411405438817296,
            1.3532543842257185,
            1.5882941214629582,
            2.169427538882489,
            0.6736658762457018,
            1.0075060757895755,
            1.9676275271890102,
            -0.46852108295774486,
            1.4409090820652177,
            0.25053880707577325,
            -0.38647529714634754,
            2.2926567225730357,
            0.1565491513317813,
            -1.0793549985932125,
            1.393926006585837,
            -0.08391470015629726,
            -0.6006724678413211,
            1.2200034261569355,
            1.1968943469112803,
            0.44677009520038763,
            -0.025764722556973572,
            -0.5671909949668318,
            1.6685163718317677,
            1.2655724617431179,
            -1.4653394241715556,
            0.18695633546541224,
            1.6751273284893355,
            -1.1739251972991736,
            0.9701329311839731,
            1.7993612296508144,
            -1.6252516539898962,
            1.646011409591239,
            -0.9310723883179282,
            1.9186750056731194,
            0.5493711523331772,
            0.02987056400395253,
            3.0296815934457935,
            0.5943925503754267,
            0.44896898089436793,
            -1.1668528880872149,
            -0.8860566476931632,
            -0.528855034839367,
            2.014091913026181,
            0.35943703830399004,
            1.488536615801344,
            0.45392959205772865,
            -0.3728882902701802,
            2.4340576685638586,
            -1.6382721639824072,
            -0.030584087646018613,
            -0.4730665594098587,
            0.2593549273080343,
            -0.40699875513642236,
            0.6186964380204825,
            0.052509260190626655,
            1.4231688412916375,
            1.771183126939401,
            0.6054127981530512,
            -0.20370325994820837,
            1.1808710516505438,
            1.6629277397598623,
            1.565836017032682,
            2.476073341775367,
            0.46493642912173266,
            1.0400046752614918,
            -1.2335871528876006,
            1.8347003933549055,
            0.25503116334555137,
            -1.1095789811990857,
            1.7850378340197977,
            -0.15989390554324223,
            -0.33620487778059244,
            -1.1106982974936896,
            0.9866821797795056,
            -0.7520267336381934,
            1.5349774634615503,
            1.9828408708040042,
            -0.8377941688229902,
            -1.0660068361687576,
            -0.5228787452803376,
            1.2442523739724733,
            2.7280435768841786,
            0.7026889681591334,
            0.8342108181574784,
            -1.3618103598091629,
            2.411483336287668,
            0.581835924057648,
            1.6025363681578562,
            -0.21681130892474243,
            0.3326404103874625,
            1.7969557343208025,
            0.9781805169374139,
            1.779846102767879,
            -0.038816290187564335,
            0.5800657963250746,
            0.5756496147552193,
            -0.20634928229282698,
            0.9347811556170901,
            0.7900739484263047,
            0.8460895803579841,
            -1.4828041020500258,
            -0.6882461389442457,
            1.180928319993991,
            1.1710239957857231,
            0.8842854623396752,
            0.2949949938591001,
            -0.5746288335610588,
            -0.9259153109717562,
            -0.31390022800408407,
            0.8887409606828927,
            2.399959120073504,
            1.8435504383451866,
            -0.4147841236645867,
            2.398523308565931,
            1.861038303095765,
            1.0316104147234815,
            -0.5243288116755703,
            0.24291394681892525,
            0.04139268515822508,
            0.13433651094868007,
            1.398235228556343,
            -1.6179829574251317,
            0.2304489213782739,
            1.0754376806127823,
            2.7992109311244917,
            -0.7544873321858502,
            2.209887490157629,
            3.015051112230813,
            2.473573090514864,
            2.8013495055857756,
            2.128466314215726,
            3.69788752372944,
            0.8949581663459876,
            1.0865021989703694,
            -2.0150228735845066,
            0.3067487511490682,
            1.2841147684017697,
            1.8630604193800027,
            1.36150118846166,
            0.3630475945210935,
            -0.6619421245802438,
            1.1486643399822363,
            1.942370227646799,
            0.18188930074749915,
            0.7967824117013078,
            -0.3516399890190684
           ]
          }
         ],
         "name": "2012"
        },
        {
         "data": [
          {
           "coloraxis": "coloraxis",
           "customdata": [
            [
             8.065
            ],
            [
             0.156441
            ],
            [
             2.50576
            ],
            [
             0.13
            ],
            [
             1193.48
            ],
            [
             194.377
            ],
            [
             0.4148
            ],
            [
             0.0051
            ],
            [
             1.709
            ],
            [
             30.291
            ],
            [
             133.975
            ],
            [
             0.402
            ],
            [
             109.979
            ],
            [
             13.275
            ],
            [
             2.8609
            ],
            [
             570.838
            ],
            [
             252.351
            ],
            [
             28.883
            ],
            [
             0.437807
            ],
            [
             17.451
            ],
            [
             0.1147
            ],
            [
             0.0033516667
            ],
            [
             104.076
            ],
            [
             43.265
            ],
            [
             262.43406
            ],
            [
             0.7612
            ],
            [
             8.719
            ],
            [
             26.24
            ],
            [
             0.0775
            ],
            [
             58.422
            ],
            [
             0.1219
            ],
            [
             0.292534
            ],
            [
             359.168
            ],
            [
             216.1859
            ],
            [
             4.163
            ],
            [
             0.0561
            ],
            [
             2.264
            ],
            [
             101.736
            ],
            [
             168.05
            ],
            [
             0.018837
            ],
            [
             18.332
            ],
            [
             1.59439
            ],
            [
             2.09751
            ],
            [
             5431.6375
            ],
            [
             128.549
            ],
            [
             0.0241
            ],
            [
             138.331
            ],
            [
             660.795
            ],
            [
             0.304867
            ],
            [
             8.4483
            ],
            [
             1.50994
            ],
            [
             123.16
            ],
            [
             6.849
            ],
            [
             2.251
            ],
            [
             0.0836
            ],
            [
             1.0223
            ],
            [
             0.61505
            ],
            [
             2.888
            ],
            [
             4.762
            ],
            [
             4.471
            ],
            [
             9.4988
            ],
            [
             6.209
            ],
            [
             0.225
            ],
            [
             14.011
            ],
            [
             17.487
            ],
            [
             23.2604
            ],
            [
             13.3
            ],
            [
             39.063
            ],
            [
             0.5153
            ],
            [
             60.982
            ],
            [
             18.79947
            ],
            [
             0.3
            ],
            [
             0.181
            ],
            [
             37.913
            ],
            [
             8.501
            ],
            [
             0.0853
            ],
            [
             541.996
            ],
            [
             73.065
            ],
            [
             6.272
            ],
            [
             103.086
            ],
            [
             1.764463
            ],
            [
             59.89
            ],
            [
             0.820557
            ],
            [
             27.929
            ],
            [
             0.7307
            ],
            [
             15.645
            ],
            [
             289.807
            ],
            [
             12.24712
            ],
            [
             0.363
            ],
            [
             4.2562
            ],
            [
             70.858
            ],
            [
             1.712
            ],
            [
             43.784
            ],
            [
             61.322
            ],
            [
             0.0243
            ],
            [
             3.13
            ],
            [
             4.402
            ],
            [
             5.941
            ],
            [
             0.504
            ],
            [
             4306.371
            ],
            [
             26.142
            ],
            [
             0.023
            ],
            [
             6.215
            ],
            [
             0.0677
            ],
            [
             1.778
            ],
            [
             17.263
            ],
            [
             0.79
            ],
            [
             2.8822
            ],
            [
             6.956
            ],
            [
             0.2851
            ],
            [
             54.2
            ],
            [
             3.945
            ],
            [
             0.40423
            ],
            [
             297.326
            ],
            [
             0.068
            ],
            [
             0.439
            ],
            [
             0.1007
            ],
            [
             0.413
            ],
            [
             11.6575
            ],
            [
             0.159121
            ],
            [
             1065.623
            ],
            [
             0.3278
            ],
            [
             8.9622
            ],
            [
             18.116
            ],
            [
             4.169
            ],
            [
             31.507
            ],
            [
             0.883
            ],
            [
             285.632
            ],
            [
             0.067
            ],
            [
             10.0243
            ],
            [
             6.094072
            ],
            [
             0.1206
            ],
            [
             12.044315
            ],
            [
             9.505
            ],
            [
             2.8134
            ],
            [
             0.2888
            ],
            [
             83.526
            ],
            [
             23.354
            ],
            [
             13.047
            ],
            [
             0.01067
            ],
            [
             14.052
            ],
            [
             572.308
            ],
            [
             0.905
            ],
            [
             0.0465
            ],
            [
             68.277
            ],
            [
             58.887
            ],
            [
             0.382976
            ],
            [
             25.933
            ],
            [
             1.7364
            ],
            [
             0.37100665
            ],
            [
             0.8575
            ],
            [
             638.729
            ],
            [
             18.38162
            ],
            [
             0.9952
            ],
            [
             1059.092
            ],
            [
             0.22
            ],
            [
             0.0886
            ],
            [
             87.065
            ],
            [
             284.017
            ],
            [
             1.885
            ],
            [
             0.5681055
            ],
            [
             28.832
            ],
            [
             175.531
            ],
            [
             0.295
            ],
            [
             16.103
            ],
            [
             0.4097
            ],
            [
             47.964445
            ],
            [
             0.1967
            ],
            [
             25.909
            ],
            [
             53.043
            ],
            [
             0.0891
            ],
            [
             8.24
            ],
            [
             0.904
            ],
            [
             0.16439
            ],
            [
             57.152
            ],
            [
             19.1396
            ],
            [
             0.35
            ],
            [
             0.053313
            ],
            [
             3.403
            ],
            [
             39.877
            ],
            [
             0.472
            ],
            [
             1.818
            ],
            [
             256.073
            ],
            [
             0.189
            ],
            [
             1.01584
            ],
            [
             17.115
            ],
            [
             71.263
            ],
            [
             0.33
            ],
            [
             140.863
            ],
            [
             0.35422
            ],
            [
             0.3598
            ],
            [
             4.29
            ],
            [
             34.668
            ],
            [
             0.4131
            ],
            [
             60.38103
            ],
            [
             10.607
            ],
            [
             21.743
            ],
            [
             0.01765
            ],
            [
             249.72
            ],
            [
             8.216
            ],
            [
             0.96218
            ],
            [
             2.1843
            ],
            [
             7.65
            ],
            [
             34.76
            ],
            [
             10.235
            ],
            [
             70.312
            ],
            [
             0.5361
            ],
            [
             153.166
            ],
            [
             18.87
            ],
            [
             0.9281
            ],
            [
             0.227
            ],
            [
             7.64014
            ],
            [
             7.71
            ],
            [
             51.672
            ],
            [
             8.074
            ],
            [
             0.0325
            ],
            [
             1.055
            ],
            [
             43.3301
            ],
            [
             240.154
            ],
            [
             75.3
            ],
            [
             0.5898
            ],
            [
             10.059
            ],
            [
             0.173
            ],
            [
             0.03536
            ],
            [
             0.139
            ],
            [
             0.673
            ],
            [
             164.557
            ],
            [
             0.2607
            ],
            [
             0.74415
            ]
           ],
           "geo": "geo",
           "hovertemplate": "<b>%{hovertext}</b><br><br>year=2013<br>ISO=%{location}<br>Electric_Energy_Production=%{customdata[0]}<br>color=%{z}<extra></extra>",
           "hovertext": [
            "Bolivia (Plur. State of)",
            "American Samoa",
            "New Caledonia",
            "British Virgin Islands",
            "India",
            "Ukraine",
            "Northern Mariana Islands",
            "Tuvalu",
            "Congo",
            "Hungary",
            "Norway",
            "Djibouti",
            "United Arab Emirates",
            "Estonia",
            "Uganda",
            "Brazil",
            "Other Asia",
            "Nigeria",
            "Niger",
            "Bosnia and Herzegovina",
            "Andorra",
            "Niue",
            "Pakistan",
            "New Zealand",
            "Iran (Islamic Rep. of)",
            "Botswana",
            "Ethiopia",
            "Oman",
            "Palau",
            "Iraq",
            "Bonaire, St Eustatius, Saba",
            "Faeroe Islands",
            "United Kingdom",
            "Indonesia",
            "Nicaragua",
            "Comoros",
            "Gabon",
            "Netherlands",
            "Egypt",
            "Wallis and Futuna Is.",
            "Korea, Dem.Ppl's.Rep.",
            "Madagascar",
            "Malawi",
            "China",
            "Viet Nam",
            "Kiribati",
            "Malaysia",
            "Canada",
            "Maldives",
            "Kenya",
            "Mali",
            "Venezuela (Bolivar. Rep.)",
            "Cameroon",
            "Malta",
            "Marshall Islands",
            "Afghanistan",
            "Cayman Islands",
            "Luxembourg",
            "Lithuania",
            "Lao People's Dem. Rep.",
            "Zimbabwe",
            "Latvia",
            "Chad",
            "Kyrgyzstan",
            "Lebanon",
            "Ecuador",
            "Zambia",
            "China, Hong Kong SAR",
            "Lesotho",
            "Kuwait",
            "Dominican Republic",
            "Liberia",
            "Central African Rep.",
            "Libya",
            "Yemen",
            "Liechtenstein",
            "Korea, Republic of",
            "Chile",
            "El Salvador",
            "Kazakhstan",
            "Martinique",
            "Algeria",
            "United States Virgin Is.",
            "Morocco",
            "Burkina Faso",
            "Mozambique",
            "Italy",
            "Myanmar",
            "Eritrea",
            "Jamaica",
            "Colombia",
            "Namibia",
            "Bulgaria",
            "Israel",
            "Nauru",
            "Nepal",
            "Brunei Darussalam",
            "United Rep. of Tanzania",
            "Isle of Man",
            "United States",
            "Ireland",
            "Montserrat",
            "Mongolia",
            "Vanuatu",
            "Cambodia",
            "Jordan",
            "Mauritania",
            "Mauritius",
            "Albania",
            "Mayotte",
            "Uzbekistan",
            "Montenegro",
            "Cabo Verde",
            "Mexico",
            "Micronesia (Fed. States of)",
            "Equatorial Guinea",
            "Dominica",
            "China, Macao SAR",
            "Uruguay",
            "Burundi",
            "Japan",
            "Jersey",
            "Panama",
            "Iceland",
            "Papua New Guinea",
            "Belarus",
            "French Guiana",
            "Spain",
            "Sao Tome and Principe",
            "Guatemala",
            "T.F.Yug.Rep. Macedonia",
            "Samoa",
            "Sri Lanka",
            "Trinidad and Tobago",
            "Réunion",
            "Guernsey",
            "Belgium",
            "Azerbaijan",
            "Ghana",
            "St. Helena and Depend.",
            "Croatia",
            "France",
            "Republic of Moldova",
            "St. Pierre-Miquelon",
            "Austria",
            "Romania",
            "St. Lucia",
            "Syrian Arab Republic",
            "Guam",
            "Belize",
            "Fiji",
            "Germany",
            "Tunisia",
            "Guinea",
            "Russian Federation",
            "St. Kitts-Nevis",
            "Anguilla",
            "Czechia",
            "Saudi Arabia",
            "Bahamas",
            "Greenland",
            "Slovakia",
            "Thailand",
            "Timor-Leste",
            "Slovenia",
            "Sint Maarten (Dutch part)",
            "Singapore",
            "Grenada",
            "Bahrain",
            "Bangladesh",
            "Solomon Islands",
            "Dem. Rep. of the Congo",
            "Curaçao",
            "Sierra Leone",
            "Greece",
            "Cuba",
            "Somalia",
            "Tonga",
            "Senegal",
            "Serbia",
            "South Sudan",
            "Guadeloupe",
            "South Africa",
            "Gibraltar",
            "Barbados",
            "Tajikistan",
            "Finland",
            "Antigua and Barbuda",
            "Argentina",
            "Seychelles",
            "Togo",
            "Cyprus",
            "Qatar",
            "Rwanda",
            "Paraguay",
            "Sudan",
            "Puerto Rico",
            "Falkland Is. (Malvinas)",
            "Australia",
            "Angola",
            "Guyana",
            "Suriname",
            "Côte d'Ivoire",
            "Denmark",
            "Costa Rica",
            "Switzerland",
            "State of Palestine",
            "Sweden",
            "Turkmenistan",
            "Aruba",
            "Turks and Caicos Islands",
            "Bhutan",
            "Armenia",
            "Portugal",
            "Honduras",
            "Cook Islands",
            "Haiti",
            "Peru",
            "Turkey",
            "Philippines",
            "Swaziland",
            "Georgia",
            "Benin",
            "Guinea-Bissau",
            "St. Vincent-Grenadines",
            "Bermuda",
            "Poland",
            "Gambia",
            "French Polynesia"
           ],
           "locations": [
            "BOL",
            "ASM",
            "NCL",
            "VGB",
            "IND",
            "UKR",
            "MNP",
            "TUV",
            "COG",
            "HUN",
            "NOR",
            "DJI",
            "ARE",
            "EST",
            "UGA",
            "BRA",
            "@@@",
            "NGA",
            "NER",
            "BIH",
            "AND",
            "NIU",
            "PAK",
            "NZL",
            "IRN",
            "BWA",
            "ETH",
            "OMN",
            "PLW",
            "IRQ",
            "BIH",
            "FRO",
            "GBR",
            "IDN",
            "NIC",
            "COM",
            "GAB",
            "NLD",
            "EGY",
            "WLF",
            "PRK",
            "MDG",
            "MWI",
            "CHN",
            "VNM",
            "KIR",
            "MYS",
            "CAN",
            "MDV",
            "KEN",
            "MLI",
            "VEN",
            "CMR",
            "MLT",
            "MHL",
            "AFG",
            "CYM",
            "LUX",
            "LTU",
            "LAO",
            "ZWE",
            "LVA",
            "TCD",
            "KGZ",
            "LBN",
            "ECU",
            "ZMB",
            "HKG",
            "LSO",
            "KWT",
            "DOM",
            "LBR",
            "CAF",
            "LBY",
            "YEM",
            "LIE",
            "KOR",
            "CHL",
            "SLV",
            "KAZ",
            "MTQ",
            "DZA",
            "VIR",
            "MAR",
            "BFA",
            "MOZ",
            "ITA",
            "MMR",
            "ERI",
            "JAM",
            "COL",
            "NAM",
            "BGR",
            "ISR",
            "NRU",
            "NPL",
            "BRN",
            "TZA",
            "IMN",
            "USA",
            "IRL",
            "MSR",
            "MNG",
            "VUT",
            "KHM",
            "JOR",
            "MRT",
            "MUS",
            "ALB",
            "MYT",
            "UZB",
            "MNE",
            "CPV",
            "MEX",
            "FSM",
            "GNQ",
            "DMA",
            "MAC",
            "URY",
            "BDI",
            "JPN",
            "JEY",
            "PAN",
            "ISL",
            "PNG",
            "BLR",
            "GUF",
            "ESP",
            "STP",
            "GTM",
            "MKD",
            "WSM",
            "LKA",
            "TTO",
            "REU",
            "GGY",
            "BEL",
            "AZE",
            "GHA",
            "SHN",
            "HRV",
            "FRA",
            "MDA",
            "SPM",
            "AUT",
            "ROU",
            "LCA",
            "SYR",
            "GUM",
            "BLZ",
            "FJI",
            "DEU",
            "TUN",
            "GIN",
            "RUS",
            "KNA",
            "AIA",
            "CZE",
            "SAU",
            "BHS",
            "GRL",
            "SVK",
            "THA",
            "TLS",
            "SVN",
            "SXM",
            "SGP",
            "GRD",
            "BHR",
            "BGD",
            "SLB",
            "COD",
            "CUW",
            "SLE",
            "GRC",
            "CUB",
            "SOM",
            "TON",
            "SEN",
            "SRB",
            "SSD",
            "GLP",
            "ZAF",
            "GIB",
            "BRB",
            "TJK",
            "FIN",
            "ATG",
            "ARG",
            "SYC",
            "TGO",
            "CYP",
            "QAT",
            "RWA",
            "PRY",
            "SDN",
            "PRI",
            "MDV",
            "AUS",
            "AGO",
            "GUY",
            "SUR",
            "CIV",
            "DNK",
            "CRI",
            "CHE",
            "PSE",
            "SWE",
            "TKM",
            "ABW",
            "TCA",
            "BTN",
            "ARM",
            "PRT",
            "HND",
            "COK",
            "HTI",
            "PER",
            "TUR",
            "PHL",
            "SWZ",
            "GEO",
            "BEN",
            "GNB",
            "VCT",
            "BMU",
            "POL",
            "GMB",
            "PYF"
           ],
           "name": "",
           "type": "choropleth",
           "z": [
            0.9066043717249803,
            -0.8056494166198439,
            0.3989394722179599,
            -0.8860566476931632,
            3.076815145619761,
            2.2886448749728174,
            -0.38216125228299663,
            -2.2924298239020637,
            0.23274206272073686,
            1.4813136109793767,
            2.1270237657156494,
            -0.3957739469155299,
            2.0413097664782813,
            1.1230345297535067,
            0.4565026777258503,
            2.7565128758669286,
            2.4020050300668174,
            1.4606423002473194,
            -0.35871729887345544,
            1.2418203185180303,
            -0.9404365820987324,
            -2.4747391754677124,
            2.017350592437945,
            1.6361367080510514,
            2.4190201992635227,
            -0.11850122038501716,
            0.9404666776635289,
            1.4189638307036225,
            -1.1106982974936896,
            1.7665764203899468,
            -0.9139962943816181,
            -0.5338236504219525,
            2.5552976363402093,
            2.3348273651404896,
            0.6194064108867774,
            -1.2510371387438386,
            0.3548764225162338,
            2.0074746582798273,
            2.225438516805496,
            -1.7249882622219888,
            1.263209848572749,
            0.202594561809818,
            0.32170404002968495,
            3.734930778024477,
            2.1090687025567005,
            -1.6179829574251317,
            2.1409195164815564,
            2.8200667481733657,
            -0.5158895828288977,
            0.9267693273051806,
            0.17895969021593108,
            2.0904696802311604,
            0.8356271662098977,
            0.35237549500051996,
            -1.0777937225609837,
            0.009578360794542131,
            -0.21108957716534646,
            0.4605971888976015,
            0.677789391068861,
            0.6504046698680318,
            0.9776687435734787,
            0.7930216598459832,
            -0.6478174818886375,
            1.14646913307187,
            1.2427153100391073,
            1.3666171788489676,
            1.1238516409670858,
            1.5917655936219417,
            -0.28793985753892526,
            1.7852016636292354,
            1.2741456056828302,
            -0.5228787452803376,
            -0.7423214251308154,
            1.5787881508705581,
            0.9294700161774895,
            -1.069050968832477,
            2.7339960814012323,
            1.8637093886274512,
            0.7974060496763821,
            2.0131996882166354,
            0.24661255583041244,
            1.7773543130842089,
            -0.08589124529260296,
            1.4460553860319472,
            -0.13626089265478286,
            1.194375567482212,
            2.4621088712133417,
            1.0880339731772861,
            -0.4400933749638875,
            0.6290220273827594,
            1.8503888900064465,
            0.2335037603411344,
            1.6413154351344486,
            1.787616310807244,
            -1.6143937264016879,
            0.49554433754644844,
            0.6436500382173291,
            0.773859552376687,
            -0.2975694635544747,
            3.6341114421879066,
            1.4173388103193976,
            -1.6382721639824072,
            0.7934411329776636,
            -1.1694113313148558,
            0.2499317566341949,
            1.2371162705350573,
            -0.10237290870955855,
            0.45972411384184253,
            0.8423595733306749,
            -0.54500278269054,
            1.7339992865383869,
            0.596047007545439,
            -0.3933714583838605,
            2.4732328882254873,
            -1.1674910872937636,
            -0.35753547975787864,
            -0.996970529446382,
            -0.384049948343599,
            1.0666054241265297,
            -0.7982725005402496,
            3.027603585573679,
            -0.48439105076551975,
            0.9524146313787656,
            1.2580623120109196,
            0.6200318951262973,
            1.4984070529527358,
            -0.05403929642243141,
            2.4558068608244166,
            -1.1739251972991736,
            1.0010540554317204,
            0.7849075810021745,
            -0.9186526921958675,
            1.0807821052742035,
            0.977952121201462,
            0.449231483122493,
            -0.5394028111023985,
            1.9218216838538043,
            1.368361275872149,
            1.1155106623849984,
            -1.97183558057553,
            1.1477381411199878,
            2.757629816730636,
            -0.043351420794796675,
            -1.332547047110046,
            1.834274430543622,
            1.7700194297376877,
            -0.4168284411597079,
            1.4138527600428668,
            0.23964977716666228,
            -0.43061830593098804,
            -0.06676587128519187,
            2.8053166347333067,
            1.2643837837670129,
            -0.0020896326532565297,
            3.024933687545538,
            -0.6575773191777937,
            -1.0525662781129492,
            1.9398436043565996,
            2.453344335769682,
            0.27531135454181166,
            -0.24557100616705052,
            1.4598747692989689,
            2.244353827012827,
            -0.530177984021837,
            1.2069067929308641,
            -0.38753403604685766,
            1.680919423582768,
            -0.7061956400806633,
            1.4134506510073244,
            1.7246280788695834,
            -1.0501222959631251,
            0.9159272116971158,
            -0.04383156952463668,
            -0.7841246045387243,
            1.7570314328724337,
            1.2819328571812627,
            -0.4559319556497244,
            -1.2731668784056784,
            0.5318619490958094,
            1.6007224783143095,
            -0.32605800136591223,
            0.25959387888594865,
            2.408363789443931,
            -0.7235381958267558,
            0.0068253097302769,
            1.233376903473896,
            1.8528641011474862,
            -0.4814860601221125,
            2.1487969334498356,
            -0.4507269212813994,
            -0.44393884099046743,
            0.6324572921847242,
            1.5399287878918217,
            -0.3839448050234139,
            1.7809005170921972,
            1.0255925688516736,
            1.3373194658569278,
            -1.7532552902761587,
            2.3974533262592517,
            0.9146604305892218,
            -0.016743674641842135,
            0.3393122857712596,
            0.8836614351536176,
            1.5410797677766288,
            1.0100878469985244,
            1.84702945146416,
            -0.2707541927746933,
            2.185162370706811,
            1.2757719001649315,
            -0.032405227328110235,
            -0.6439741428068773,
            0.883101316778621,
            0.887054378050957,
            1.7132552715350933,
            0.9070887450742956,
            -1.4881166390211256,
            0.023252459633711444,
            1.636789691328353,
            2.380489824635028,
            1.8767949762007006,
            -0.22929523178422076,
            1.0025548081484825,
            -0.7619538968712046,
            -1.4514877436589644,
            -0.8569851997459049,
            -0.1719849357760231,
            2.2163163612381873,
            -0.5838589688316711,
            -0.1283395139081332
           ]
          }
         ],
         "name": "2013"
        },
        {
         "data": [
          {
           "coloraxis": "coloraxis",
           "customdata": [
            [
             252.578
            ],
            [
             6.223
            ],
            [
             16.472
            ],
            [
             2.1796
            ],
            [
             141.586
            ],
            [
             2.245
            ],
            [
             24.3072
            ],
            [
             0.0852
            ],
            [
             17.952
            ],
            [
             17.96198
            ],
            [
             86.024
            ],
            [
             50.474
            ],
            [
             0.35
            ],
            [
             8.831
            ],
            [
             0.40881
            ],
            [
             0.567
            ],
            [
             2.9359
            ],
            [
             180.862
            ],
            [
             4.38
            ],
            [
             2.367
            ],
            [
             0.91
            ],
            [
             14.572
            ],
            [
             17.437
            ],
            [
             8.286
            ],
            [
             27.246
            ],
            [
             18.2704
            ],
            [
             39.803
            ],
            [
             5.141
            ],
            [
             0.0919
            ],
            [
             0.0666
            ],
            [
             3.059
            ],
            [
             1.764463
            ],
            [
             0.225
            ],
            [
             14.452
            ],
            [
             153.662
            ],
            [
             0.9166
            ],
            [
             105.068
            ],
            [
             0.488
            ],
            [
             0.5152000000000001
            ],
            [
             1.853
            ],
            [
             0.01067
            ],
            [
             1.6585
            ],
            [
             71.767
            ],
            [
             0.22
            ],
            [
             627.795
            ],
            [
             0.16984
            ],
            [
             7.75
            ],
            [
             17.909
            ],
            [
             37.731
            ],
            [
             0.018556
            ],
            [
             177.249
            ],
            [
             21.726
            ],
            [
             7.646
            ],
            [
             1.0493
            ],
            [
             10.37
            ],
            [
             0.379431
            ],
            [
             0.62074
            ],
            [
             2.967
            ],
            [
             65.421
            ],
            [
             0.0404
            ],
            [
             4.397
            ],
            [
             550.933
            ],
            [
             0.0483
            ],
            [
             0.183
            ],
            [
             0.2608
            ],
            [
             0.3
            ],
            [
             24.728
            ],
            [
             127.732
            ],
            [
             6.922
            ],
            [
             0.72103
            ],
            [
             1.67937
            ],
            [
             4.35
            ],
            [
             0.198
            ],
            [
             9.1386
            ],
            [
             0.32891
            ],
            [
             0.91
            ],
            [
             248.299
            ],
            [
             73.719
            ],
            [
             278.75
            ],
            [
             147.461
            ],
            [
             65.14
            ],
            [
             5.303059
            ],
            [
             11.376
            ],
            [
             12.8315
            ],
            [
             0.0243
            ],
            [
             5649.5835
            ],
            [
             13.139
            ],
            [
             0.3366
            ],
            [
             145.73
            ],
            [
             656.225
            ],
            [
             2.09751
            ],
            [
             4.72443
            ],
            [
             19.366
            ],
            [
             562.776
            ],
            [
             32.183
            ],
            [
             0.402
            ],
            [
             9.615
            ],
            [
             21.3168
            ],
            [
             2.365
            ],
            [
             220.7938
            ],
            [
             0.0032266667
            ],
            [
             0.184
            ],
            [
             30.39
            ],
            [
             10.217
            ],
            [
             251.963
            ],
            [
             0.03536
            ],
            [
             116.528
            ],
            [
             0.438757
            ],
            [
             0.97936
            ],
            [
             38.692
            ],
            [
             274.609
            ],
            [
             0.0546
            ],
            [
             590.541
            ],
            [
             4.444
            ],
            [
             12.446
            ],
            [
             1.015
            ],
            [
             65.676
            ],
            [
             0.40406168
            ],
            [
             67.768
            ],
            [
             43.553
            ],
            [
             0.0895
            ],
            [
             338.925
            ],
            [
             19.024
            ],
            [
             0.156945
            ],
            [
             0.963
            ],
            [
             1064.207
            ],
            [
             0.4189
            ],
            [
             52.802
            ],
            [
             4.169
            ],
            [
             29.371
            ],
            [
             0.0051
            ],
            [
             0.0318
            ],
            [
             8.038
            ],
            [
             8.755
            ],
            [
             0.305417
            ],
            [
             0.079
            ],
            [
             9.48
            ],
            [
             0.23
            ],
            [
             0.1241
            ],
            [
             105.305
            ],
            [
             55.2823
            ],
            [
             7.00386
            ],
            [
             182.815
            ],
            [
             18.122
            ],
            [
             45.508
            ],
            [
             3.2577
            ],
            [
             1.033
            ],
            [
             77.2953
            ],
            [
             16.16
            ],
            [
             0.1268
            ],
            [
             29.128
            ],
            [
             0.71
            ],
            [
             0.01765
            ],
            [
             1308.873
            ],
            [
             1.74
            ],
            [
             20.4
            ],
            [
             142.327
            ],
            [
             159.059
            ],
            [
             260.025
            ],
            [
             0.132
            ],
            [
             2.62184
            ],
            [
             0.4761
            ],
            [
             0.77233
            ],
            [
             64.242
            ],
            [
             68.093
            ],
            [
             0.336
            ],
            [
             4.123
            ],
            [
             0.024
            ],
            [
             0.3628
            ],
            [
             3.04
            ],
            [
             0.3577
            ],
            [
             6.725
            ],
            [
             9.287
            ],
            [
             0.1807
            ],
            [
             0.891
            ],
            [
             0.1999
            ],
            [
             1.00958
            ],
            [
             13.0081
            ],
            [
             1040.676
            ],
            [
             0.641
            ],
            [
             55.845
            ],
            [
             0.06956
            ],
            [
             0.10243
            ],
            [
             0.439
            ],
            [
             49.31
            ],
            [
             301.496
            ],
            [
             0.349
            ],
            [
             0.4179
            ],
            [
             27.401
            ],
            [
             0.5799175999999999
            ],
            [
             55.4
            ],
            [
             0.2993
            ],
            [
             0.173848
            ],
            [
             29.142
            ],
            [
             0.869971
            ],
            [
             1.809
            ],
            [
             0.8593
            ],
            [
             26.314
            ],
            [
             103.418
            ],
            [
             13.554
            ],
            [
             0.2271
            ],
            [
             72.688
            ],
            [
             6.219
            ],
            [
             0.504
            ],
            [
             2.8572
            ],
            [
             4.506
            ],
            [
             3.50765
            ],
            [
             9.891
            ],
            [
             0.025054
            ],
            [
             0.1206
            ],
            [
             10.6376
            ],
            [
             60.813
            ],
            [
             70.059
            ],
            [
             34.06
            ],
            [
             17.739
            ],
            [
             279.827
            ],
            [
             3.406
            ],
            [
             0.054561
            ],
            [
             311.806
            ],
            [
             0.1353
            ],
            [
             0.37
            ],
            [
             47.485
            ],
            [
             4339.21
            ],
            [
             1.75
            ],
            [
             34.735
            ],
            [
             1.498
            ],
            [
             0.067
            ],
            [
             14.1563
            ],
            [
             10.023
            ]
           ],
           "geo": "geo",
           "hovertemplate": "<b>%{hovertext}</b><br><br>year=2014<br>ISO=%{location}<br>Electric_Energy_Production=%{customdata[0]}<br>color=%{z}<extra></extra>",
           "hovertext": [
            "South Africa",
            "El Salvador",
            "Tajikistan",
            "Suriname",
            "Argentina",
            "Malta",
            "Ecuador",
            "Marshall Islands",
            "Lebanon",
            "Dominican Republic",
            "Czechia",
            "Greece",
            "Somalia",
            "Dem. Rep. of the Congo",
            "Cabo Verde",
            "Swaziland",
            "Mauritius",
            "Thailand",
            "Lao People's Dem. Rep.",
            "Gabon",
            "Mauritania",
            "Kyrgyzstan",
            "Slovenia",
            "Côte d'Ivoire",
            "Bahrain",
            "Jordan",
            "China, Hong Kong SAR",
            "Latvia",
            "Solomon Islands",
            "Vanuatu",
            "Cambodia",
            "Martinique",
            "Chad",
            "Zambia",
            "Sweden",
            "Aruba",
            "Kazakhstan",
            "South Sudan",
            "Lesotho",
            "Bahamas",
            "St. Helena and Depend.",
            "Madagascar",
            "Switzerland",
            "St. Kitts-Nevis",
            "Germany",
            "St. Vincent-Grenadines",
            "Armenia",
            "Korea, Dem.Ppl's.Rep.",
            "Libya",
            "Wallis and Futuna Is.",
            "Egypt",
            "Syrian Arab Republic",
            "Yemen",
            "Afghanistan",
            "Georgia",
            "St. Lucia",
            "Cayman Islands",
            "Luxembourg",
            "Austria",
            "Liechtenstein",
            "Lithuania",
            "Korea, Republic of",
            "St. Pierre-Miquelon",
            "Central African Rep.",
            "Gambia",
            "Liberia",
            "Azerbaijan",
            "Venezuela (Bolivar. Rep.)",
            "Cameroon",
            "French Polynesia",
            "Mali",
            "Cyprus",
            "Gibraltar",
            "Kenya",
            "Maldives",
            "French Guiana",
            "Australia",
            "Chile",
            "Spain",
            "Malaysia",
            "Kuwait",
            "T.F.Yug.Rep. Macedonia",
            "Sudan",
            "Sri Lanka",
            "Kiribati",
            "China",
            "Ghana",
            "State of Palestine",
            "Viet Nam",
            "Canada",
            "Malawi",
            "Albania",
            "Cuba",
            "France",
            "Denmark",
            "Djibouti",
            "Ethiopia",
            "Puerto Rico",
            "Botswana",
            "Indonesia",
            "Niue",
            "Benin",
            "Nigeria",
            "Costa Rica",
            "Turkey",
            "Guinea-Bissau",
            "United Arab Emirates",
            "Niger",
            "Guyana",
            "Qatar",
            "Iran (Islamic Rep. of)",
            "Comoros",
            "Brazil",
            "Nicaragua",
            "Estonia",
            "Guinea",
            "Romania",
            "Belize",
            "Iraq",
            "New Zealand",
            "Anguilla",
            "United Kingdom",
            "Tunisia",
            "American Samoa",
            "Republic of Moldova",
            "Russian Federation",
            "Northern Mariana Islands",
            "Portugal",
            "Papua New Guinea",
            "Hungary",
            "Tuvalu",
            "Cook Islands",
            "Honduras",
            "Bolivia (Plur. State of)",
            "Faeroe Islands",
            "Palau",
            "Angola",
            "Turks and Caicos Islands",
            "Bonaire, St Eustatius, Saba",
            "Pakistan",
            "Paraguay",
            "Bhutan",
            "Ukraine",
            "Iceland",
            "Peru",
            "Uganda",
            "Haiti",
            "Philippines",
            "Bosnia and Herzegovina",
            "Andorra",
            "Oman",
            "Bermuda",
            "Falkland Is. (Malvinas)",
            "India",
            "Congo",
            "Turkmenistan",
            "Norway",
            "Poland",
            "Other Asia",
            "British Virgin Islands",
            "New Caledonia",
            "Rwanda",
            "United States Virgin Is.",
            "Algeria",
            "Finland",
            "Antigua and Barbuda",
            "Jamaica",
            "Montserrat",
            "Seychelles",
            "Montenegro",
            "Togo",
            "Mongolia",
            "Panama",
            "Sierra Leone",
            "Curaçao",
            "Grenada",
            "Barbados",
            "Uruguay",
            "Japan",
            "China, Macao SAR",
            "Bangladesh",
            "Micronesia (Fed. States of)",
            "Dominica",
            "Equatorial Guinea",
            "Singapore",
            "Mexico",
            "Timor-Leste",
            "Sint Maarten (Dutch part)",
            "Slovakia",
            "Greenland",
            "Uzbekistan",
            "Mayotte",
            "Burundi",
            "Morocco",
            "Burkina Faso",
            "Guadeloupe",
            "Fiji",
            "Ireland",
            "Netherlands",
            "Croatia",
            "Guernsey",
            "Belgium",
            "United Rep. of Tanzania",
            "Isle of Man",
            "Réunion",
            "Brunei Darussalam",
            "Nepal",
            "Trinidad and Tobago",
            "Nauru",
            "Samoa",
            "Guatemala",
            "Israel",
            "Colombia",
            "Serbia",
            "Mozambique",
            "Italy",
            "Senegal",
            "Tonga",
            "Saudi Arabia",
            "Jersey",
            "Eritrea",
            "Bulgaria",
            "United States",
            "Guam",
            "Belarus",
            "Namibia",
            "Sao Tome and Principe",
            "Myanmar",
            "Zimbabwe"
           ],
           "locations": [
            "ZAF",
            "SLV",
            "TJK",
            "SUR",
            "ARG",
            "MLT",
            "ECU",
            "MHL",
            "LBN",
            "DOM",
            "CZE",
            "GRC",
            "SOM",
            "COD",
            "CPV",
            "SWZ",
            "MUS",
            "THA",
            "LAO",
            "GAB",
            "MRT",
            "KGZ",
            "SVN",
            "CIV",
            "BHR",
            "JOR",
            "HKG",
            "LVA",
            "SLB",
            "VUT",
            "KHM",
            "MTQ",
            "TCD",
            "ZMB",
            "SWE",
            "ABW",
            "KAZ",
            "SSD",
            "LSO",
            "BHS",
            "SHN",
            "MDG",
            "CHE",
            "KNA",
            "DEU",
            "VCT",
            "ARM",
            "PRK",
            "LBY",
            "WLF",
            "EGY",
            "SYR",
            "YEM",
            "AFG",
            "GEO",
            "LCA",
            "CYM",
            "LUX",
            "AUT",
            "LIE",
            "LTU",
            "KOR",
            "SPM",
            "CAF",
            "GMB",
            "LBR",
            "AZE",
            "VEN",
            "CMR",
            "PYF",
            "MLI",
            "CYP",
            "GIB",
            "KEN",
            "MDV",
            "GUF",
            "AUS",
            "CHL",
            "ESP",
            "MYS",
            "KWT",
            "MKD",
            "SDN",
            "LKA",
            "KIR",
            "CHN",
            "GHA",
            "PSE",
            "VNM",
            "CAN",
            "MWI",
            "ALB",
            "CUB",
            "FRA",
            "DNK",
            "DJI",
            "ETH",
            "PRI",
            "BWA",
            "IDN",
            "NIU",
            "BEN",
            "NGA",
            "CRI",
            "TUR",
            "GNB",
            "ARE",
            "NER",
            "GUY",
            "QAT",
            "IRN",
            "COM",
            "BRA",
            "NIC",
            "EST",
            "GIN",
            "ROU",
            "BLZ",
            "IRQ",
            "NZL",
            "AIA",
            "GBR",
            "TUN",
            "ASM",
            "MDA",
            "RUS",
            "MNP",
            "PRT",
            "PNG",
            "HUN",
            "TUV",
            "COK",
            "HND",
            "BOL",
            "FRO",
            "PLW",
            "AGO",
            "TCA",
            "BIH",
            "PAK",
            "PRY",
            "BTN",
            "UKR",
            "ISL",
            "PER",
            "UGA",
            "HTI",
            "PHL",
            "BIH",
            "AND",
            "OMN",
            "BMU",
            "MDV",
            "IND",
            "COG",
            "TKM",
            "NOR",
            "POL",
            "@@@",
            "VGB",
            "NCL",
            "RWA",
            "VIR",
            "DZA",
            "FIN",
            "ATG",
            "JAM",
            "MSR",
            "SYC",
            "MNE",
            "TGO",
            "MNG",
            "PAN",
            "SLE",
            "CUW",
            "GRD",
            "BRB",
            "URY",
            "JPN",
            "MAC",
            "BGD",
            "FSM",
            "DMA",
            "GNQ",
            "SGP",
            "MEX",
            "TLS",
            "SXM",
            "SVK",
            "GRL",
            "UZB",
            "MYT",
            "BDI",
            "MAR",
            "BFA",
            "GLP",
            "FJI",
            "IRL",
            "NLD",
            "HRV",
            "GGY",
            "BEL",
            "TZA",
            "IMN",
            "REU",
            "BRN",
            "NPL",
            "TTO",
            "NRU",
            "WSM",
            "GTM",
            "ISR",
            "COL",
            "SRB",
            "MOZ",
            "ITA",
            "SEN",
            "TON",
            "SAU",
            "JEY",
            "ERI",
            "BGR",
            "USA",
            "GUM",
            "BLR",
            "NAM",
            "STP",
            "MMR",
            "ZWE"
           ],
           "name": "",
           "type": "choropleth",
           "z": [
            2.4023955200328673,
            0.7939998009844705,
            1.216746333609975,
            0.33837679923207126,
            2.1510203125109713,
            0.351216345339342,
            1.385734934384886,
            -1.0695604052332999,
            1.2541128395760675,
            1.2543542084826023,
            1.9346196327953664,
            1.703067723380233,
            -0.4559319556497244,
            0.9460098847657649,
            -0.38847848936135326,
            -0.24641694110709347,
            0.4677412589457327,
            2.257347329027355,
            0.6414741105040995,
            0.37419825792908273,
            -0.040958607678906384,
            1.1635191625698782,
            1.2414717675507634,
            0.9183449289622749,
            1.4353027522846102,
            1.2617480556114933,
            1.5999158066049575,
            0.7110476038670339,
            -1.0366844886138888,
            -1.176525770829699,
            0.4855794769846787,
            0.24661255583041244,
            -0.6478174818886375,
            1.1599279528959847,
            2.18656648148328,
            -0.03782014709123221,
            2.021470465414178,
            -0.3115801779972894,
            -0.28802414564824425,
            0.2678754193188976,
            -1.97183558057553,
            0.21971547585550114,
            1.8559247922588331,
            -0.6575773191777937,
            2.797817852490088,
            -0.7699600188420577,
            0.8893017025063102,
            1.2530713364572552,
            1.576698315636371,
            -1.731515636153278,
            2.2485837936677586,
            1.3369797752006554,
            0.8834342936830093,
            0.020899672862536255,
            1.015778756389041,
            -0.42086718958086555,
            -0.2070902681162106,
            0.47231754631684186,
            1.8157171782964936,
            -1.393618634889395,
            0.6431564656197063,
            2.7410987866929273,
            -1.3160528692484879,
            -0.7375489102695706,
            -0.5836924129401174,
            -0.5228787452803376,
            1.3931889920552485,
            2.106299712317861,
            0.8402315949581088,
            -0.14204666515101894,
            0.22514639075118215,
            0.6384892569546373,
            -0.7033348097384688,
            0.9608796685079111,
            -0.48292292226438666,
            -0.040958607678906384,
            2.3949749704794274,
            1.867579435371948,
            2.445214876056217,
            2.168677174725152,
            1.8138477542288542,
            0.724526458955616,
            1.0559895833856912,
            1.1082774282879966,
            -1.6143937264016879,
            3.752016431833753,
            1.118562312635603,
            -0.47288588836019496,
            2.16354896490181,
            2.8170527715471794,
            0.32170404002968495,
            0.6743494186045741,
            1.2870399275172424,
            2.7503355683472632,
            1.5076265252421417,
            -0.3957739469155299,
            0.9829492885744987,
            1.3287220105492632,
            0.3738311450738304,
            2.3439868740227747,
            -2.4912458929247556,
            -0.7351821769904635,
            1.4827307000799428,
            1.0093233933810135,
            2.401336770640247,
            -1.4514877436589644,
            2.066430292610195,
            -0.35777594166658133,
            -0.009057637844887787,
            1.5876211791013075,
            2.4387147666454037,
            -1.2628073572952627,
            2.7712500551343346,
            0.64777405026883,
            1.0950297966484517,
            0.006466042249231681,
            1.81740669419013,
            -0.39355233479285834,
            1.831024668733123,
            1.639018075269568,
            -1.048176964684088,
            2.530103604722902,
            1.2793018372746163,
            -0.80425251562497,
            -0.0163737128754655,
            3.0270261112428805,
            -0.37788963963878053,
            1.7226503727708136,
            0.6200318951262973,
            1.4679187332810082,
            -2.2924298239020637,
            -1.4975728800155672,
            0.9051480018560161,
            0.942256150419465,
            -0.5151067930794877,
            -1.1023729087095586,
            0.9768083373380663,
            -0.638272163982407,
            -0.9062282185012701,
            2.022448992466177,
            1.7425861034061045,
            0.8453374563955406,
            2.262011826791504,
            1.2582061260688273,
            1.6580877494143245,
            0.5129110878474195,
            0.014100321519620545,
            1.888153087112095,
            1.2084413564385674,
            -0.8968807464542862,
            1.4643106659258873,
            -0.14874165128092473,
            -1.7532552902761587,
            3.116897508983926,
            0.24054924828259971,
            1.3096301674258988,
            2.1532872952965905,
            2.201558247726651,
            2.415015105048097,
            -0.8794260687941501,
            0.4186061849752263,
            -0.32230181852548934,
            -0.11219709531647626,
            1.8078190530589666,
            1.8331024684821242,
            -0.4736607226101559,
            0.6152133348013585,
            -1.6197887582883939,
            -0.4403327216119423,
            0.48287358360875376,
            -0.4464810598510304,
            0.8276922886744456,
            0.9678754455480332,
            -0.7430418474390682,
            -0.0501222959631252,
            -0.6991872058818831,
            0.004140738516865537,
            1.1142138669093762,
            3.0173155390070447,
            -0.19314197048118256,
            1.7469842952740735,
            -1.1576404266693252,
            -0.9895728272829507,
            -0.35753547975787864,
            1.6929350025311378,
            2.479281554653778,
            -0.45717457304082015,
            -0.3789276288563741,
            1.4377664126947316,
            -0.23663371058806285,
            1.7435097647284297,
            -0.5238932831598085,
            -0.759830301207125,
            1.4645193538566799,
            -0.06049522410539163,
            0.25743856685981376,
            -0.06585518820752302,
            1.4201868703542861,
            2.0145961346992247,
            1.1320674813040066,
            -0.6437828657802648,
            1.8614627194705509,
            0.7937205568135233,
            -0.2975694635544747,
            0.45594064145250474,
            0.6537911873878121,
            0.54501625212502,
            0.9952402018628155,
            -1.601122926912682,
            -0.9186526921958675,
            1.026843655747785,
            1.7839964283643,
            1.8454639340438863,
            1.5322446436265822,
            1.248929133718768,
            2.446889616464906,
            0.5322446436265822,
            -1.2631176784816731,
            2.4938844679465375,
            -0.868702203402377,
            -0.431798275933005,
            1.67655644233987,
            3.637410668712818,
            0.24303804868629444,
            1.5407673032103741,
            0.17551181336344768,
            -1.1739251972991736,
            1.150949757622162,
            1.0009977303577937
           ]
          }
         ],
         "name": "2014"
        }
       ],
       "layout": {
        "coloraxis": {
         "cmax": 3.169925001442312,
         "cmin": 0,
         "colorbar": {
          "title": {
           "text": "color"
          }
         },
         "colorscale": [
          [
           0,
           "rgb(247,251,255)"
          ],
          [
           0.125,
           "rgb(222,235,247)"
          ],
          [
           0.25,
           "rgb(198,219,239)"
          ],
          [
           0.375,
           "rgb(158,202,225)"
          ],
          [
           0.5,
           "rgb(107,174,214)"
          ],
          [
           0.625,
           "rgb(66,146,198)"
          ],
          [
           0.75,
           "rgb(33,113,181)"
          ],
          [
           0.875,
           "rgb(8,81,156)"
          ],
          [
           1,
           "rgb(8,48,107)"
          ]
         ]
        },
        "geo": {
         "center": {},
         "domain": {
          "x": [
           0,
           1
          ],
          "y": [
           0,
           1
          ]
         }
        },
        "height": 700,
        "legend": {
         "tracegroupgap": 0
        },
        "margin": {
         "t": 60
        },
        "sliders": [
         {
          "active": 0,
          "currentvalue": {
           "prefix": "year="
          },
          "len": 0.9,
          "pad": {
           "b": 10,
           "t": 60
          },
          "steps": [
           {
            "args": [
             [
              "1994"
             ],
             {
              "frame": {
               "duration": 0,
               "redraw": true
              },
              "fromcurrent": true,
              "mode": "immediate",
              "transition": {
               "duration": 0,
               "easing": "linear"
              }
             }
            ],
            "label": "1994",
            "method": "animate"
           },
           {
            "args": [
             [
              "1995"
             ],
             {
              "frame": {
               "duration": 0,
               "redraw": true
              },
              "fromcurrent": true,
              "mode": "immediate",
              "transition": {
               "duration": 0,
               "easing": "linear"
              }
             }
            ],
            "label": "1995",
            "method": "animate"
           },
           {
            "args": [
             [
              "1996"
             ],
             {
              "frame": {
               "duration": 0,
               "redraw": true
              },
              "fromcurrent": true,
              "mode": "immediate",
              "transition": {
               "duration": 0,
               "easing": "linear"
              }
             }
            ],
            "label": "1996",
            "method": "animate"
           },
           {
            "args": [
             [
              "1997"
             ],
             {
              "frame": {
               "duration": 0,
               "redraw": true
              },
              "fromcurrent": true,
              "mode": "immediate",
              "transition": {
               "duration": 0,
               "easing": "linear"
              }
             }
            ],
            "label": "1997",
            "method": "animate"
           },
           {
            "args": [
             [
              "1998"
             ],
             {
              "frame": {
               "duration": 0,
               "redraw": true
              },
              "fromcurrent": true,
              "mode": "immediate",
              "transition": {
               "duration": 0,
               "easing": "linear"
              }
             }
            ],
            "label": "1998",
            "method": "animate"
           },
           {
            "args": [
             [
              "1999"
             ],
             {
              "frame": {
               "duration": 0,
               "redraw": true
              },
              "fromcurrent": true,
              "mode": "immediate",
              "transition": {
               "duration": 0,
               "easing": "linear"
              }
             }
            ],
            "label": "1999",
            "method": "animate"
           },
           {
            "args": [
             [
              "2000"
             ],
             {
              "frame": {
               "duration": 0,
               "redraw": true
              },
              "fromcurrent": true,
              "mode": "immediate",
              "transition": {
               "duration": 0,
               "easing": "linear"
              }
             }
            ],
            "label": "2000",
            "method": "animate"
           },
           {
            "args": [
             [
              "2001"
             ],
             {
              "frame": {
               "duration": 0,
               "redraw": true
              },
              "fromcurrent": true,
              "mode": "immediate",
              "transition": {
               "duration": 0,
               "easing": "linear"
              }
             }
            ],
            "label": "2001",
            "method": "animate"
           },
           {
            "args": [
             [
              "2002"
             ],
             {
              "frame": {
               "duration": 0,
               "redraw": true
              },
              "fromcurrent": true,
              "mode": "immediate",
              "transition": {
               "duration": 0,
               "easing": "linear"
              }
             }
            ],
            "label": "2002",
            "method": "animate"
           },
           {
            "args": [
             [
              "2003"
             ],
             {
              "frame": {
               "duration": 0,
               "redraw": true
              },
              "fromcurrent": true,
              "mode": "immediate",
              "transition": {
               "duration": 0,
               "easing": "linear"
              }
             }
            ],
            "label": "2003",
            "method": "animate"
           },
           {
            "args": [
             [
              "2004"
             ],
             {
              "frame": {
               "duration": 0,
               "redraw": true
              },
              "fromcurrent": true,
              "mode": "immediate",
              "transition": {
               "duration": 0,
               "easing": "linear"
              }
             }
            ],
            "label": "2004",
            "method": "animate"
           },
           {
            "args": [
             [
              "2005"
             ],
             {
              "frame": {
               "duration": 0,
               "redraw": true
              },
              "fromcurrent": true,
              "mode": "immediate",
              "transition": {
               "duration": 0,
               "easing": "linear"
              }
             }
            ],
            "label": "2005",
            "method": "animate"
           },
           {
            "args": [
             [
              "2006"
             ],
             {
              "frame": {
               "duration": 0,
               "redraw": true
              },
              "fromcurrent": true,
              "mode": "immediate",
              "transition": {
               "duration": 0,
               "easing": "linear"
              }
             }
            ],
            "label": "2006",
            "method": "animate"
           },
           {
            "args": [
             [
              "2007"
             ],
             {
              "frame": {
               "duration": 0,
               "redraw": true
              },
              "fromcurrent": true,
              "mode": "immediate",
              "transition": {
               "duration": 0,
               "easing": "linear"
              }
             }
            ],
            "label": "2007",
            "method": "animate"
           },
           {
            "args": [
             [
              "2008"
             ],
             {
              "frame": {
               "duration": 0,
               "redraw": true
              },
              "fromcurrent": true,
              "mode": "immediate",
              "transition": {
               "duration": 0,
               "easing": "linear"
              }
             }
            ],
            "label": "2008",
            "method": "animate"
           },
           {
            "args": [
             [
              "2009"
             ],
             {
              "frame": {
               "duration": 0,
               "redraw": true
              },
              "fromcurrent": true,
              "mode": "immediate",
              "transition": {
               "duration": 0,
               "easing": "linear"
              }
             }
            ],
            "label": "2009",
            "method": "animate"
           },
           {
            "args": [
             [
              "2010"
             ],
             {
              "frame": {
               "duration": 0,
               "redraw": true
              },
              "fromcurrent": true,
              "mode": "immediate",
              "transition": {
               "duration": 0,
               "easing": "linear"
              }
             }
            ],
            "label": "2010",
            "method": "animate"
           },
           {
            "args": [
             [
              "2011"
             ],
             {
              "frame": {
               "duration": 0,
               "redraw": true
              },
              "fromcurrent": true,
              "mode": "immediate",
              "transition": {
               "duration": 0,
               "easing": "linear"
              }
             }
            ],
            "label": "2011",
            "method": "animate"
           },
           {
            "args": [
             [
              "2012"
             ],
             {
              "frame": {
               "duration": 0,
               "redraw": true
              },
              "fromcurrent": true,
              "mode": "immediate",
              "transition": {
               "duration": 0,
               "easing": "linear"
              }
             }
            ],
            "label": "2012",
            "method": "animate"
           },
           {
            "args": [
             [
              "2013"
             ],
             {
              "frame": {
               "duration": 0,
               "redraw": true
              },
              "fromcurrent": true,
              "mode": "immediate",
              "transition": {
               "duration": 0,
               "easing": "linear"
              }
             }
            ],
            "label": "2013",
            "method": "animate"
           },
           {
            "args": [
             [
              "2014"
             ],
             {
              "frame": {
               "duration": 0,
               "redraw": true
              },
              "fromcurrent": true,
              "mode": "immediate",
              "transition": {
               "duration": 0,
               "easing": "linear"
              }
             }
            ],
            "label": "2014",
            "method": "animate"
           }
          ],
          "x": 0.1,
          "xanchor": "left",
          "y": 0,
          "yanchor": "top"
         }
        ],
        "template": {
         "data": {
          "bar": [
           {
            "error_x": {
             "color": "#2a3f5f"
            },
            "error_y": {
             "color": "#2a3f5f"
            },
            "marker": {
             "line": {
              "color": "#E5ECF6",
              "width": 0.5
             },
             "pattern": {
              "fillmode": "overlay",
              "size": 10,
              "solidity": 0.2
             }
            },
            "type": "bar"
           }
          ],
          "barpolar": [
           {
            "marker": {
             "line": {
              "color": "#E5ECF6",
              "width": 0.5
             },
             "pattern": {
              "fillmode": "overlay",
              "size": 10,
              "solidity": 0.2
             }
            },
            "type": "barpolar"
           }
          ],
          "carpet": [
           {
            "aaxis": {
             "endlinecolor": "#2a3f5f",
             "gridcolor": "white",
             "linecolor": "white",
             "minorgridcolor": "white",
             "startlinecolor": "#2a3f5f"
            },
            "baxis": {
             "endlinecolor": "#2a3f5f",
             "gridcolor": "white",
             "linecolor": "white",
             "minorgridcolor": "white",
             "startlinecolor": "#2a3f5f"
            },
            "type": "carpet"
           }
          ],
          "choropleth": [
           {
            "colorbar": {
             "outlinewidth": 0,
             "ticks": ""
            },
            "type": "choropleth"
           }
          ],
          "contour": [
           {
            "colorbar": {
             "outlinewidth": 0,
             "ticks": ""
            },
            "colorscale": [
             [
              0,
              "#0d0887"
             ],
             [
              0.1111111111111111,
              "#46039f"
             ],
             [
              0.2222222222222222,
              "#7201a8"
             ],
             [
              0.3333333333333333,
              "#9c179e"
             ],
             [
              0.4444444444444444,
              "#bd3786"
             ],
             [
              0.5555555555555556,
              "#d8576b"
             ],
             [
              0.6666666666666666,
              "#ed7953"
             ],
             [
              0.7777777777777778,
              "#fb9f3a"
             ],
             [
              0.8888888888888888,
              "#fdca26"
             ],
             [
              1,
              "#f0f921"
             ]
            ],
            "type": "contour"
           }
          ],
          "contourcarpet": [
           {
            "colorbar": {
             "outlinewidth": 0,
             "ticks": ""
            },
            "type": "contourcarpet"
           }
          ],
          "heatmap": [
           {
            "colorbar": {
             "outlinewidth": 0,
             "ticks": ""
            },
            "colorscale": [
             [
              0,
              "#0d0887"
             ],
             [
              0.1111111111111111,
              "#46039f"
             ],
             [
              0.2222222222222222,
              "#7201a8"
             ],
             [
              0.3333333333333333,
              "#9c179e"
             ],
             [
              0.4444444444444444,
              "#bd3786"
             ],
             [
              0.5555555555555556,
              "#d8576b"
             ],
             [
              0.6666666666666666,
              "#ed7953"
             ],
             [
              0.7777777777777778,
              "#fb9f3a"
             ],
             [
              0.8888888888888888,
              "#fdca26"
             ],
             [
              1,
              "#f0f921"
             ]
            ],
            "type": "heatmap"
           }
          ],
          "heatmapgl": [
           {
            "colorbar": {
             "outlinewidth": 0,
             "ticks": ""
            },
            "colorscale": [
             [
              0,
              "#0d0887"
             ],
             [
              0.1111111111111111,
              "#46039f"
             ],
             [
              0.2222222222222222,
              "#7201a8"
             ],
             [
              0.3333333333333333,
              "#9c179e"
             ],
             [
              0.4444444444444444,
              "#bd3786"
             ],
             [
              0.5555555555555556,
              "#d8576b"
             ],
             [
              0.6666666666666666,
              "#ed7953"
             ],
             [
              0.7777777777777778,
              "#fb9f3a"
             ],
             [
              0.8888888888888888,
              "#fdca26"
             ],
             [
              1,
              "#f0f921"
             ]
            ],
            "type": "heatmapgl"
           }
          ],
          "histogram": [
           {
            "marker": {
             "pattern": {
              "fillmode": "overlay",
              "size": 10,
              "solidity": 0.2
             }
            },
            "type": "histogram"
           }
          ],
          "histogram2d": [
           {
            "colorbar": {
             "outlinewidth": 0,
             "ticks": ""
            },
            "colorscale": [
             [
              0,
              "#0d0887"
             ],
             [
              0.1111111111111111,
              "#46039f"
             ],
             [
              0.2222222222222222,
              "#7201a8"
             ],
             [
              0.3333333333333333,
              "#9c179e"
             ],
             [
              0.4444444444444444,
              "#bd3786"
             ],
             [
              0.5555555555555556,
              "#d8576b"
             ],
             [
              0.6666666666666666,
              "#ed7953"
             ],
             [
              0.7777777777777778,
              "#fb9f3a"
             ],
             [
              0.8888888888888888,
              "#fdca26"
             ],
             [
              1,
              "#f0f921"
             ]
            ],
            "type": "histogram2d"
           }
          ],
          "histogram2dcontour": [
           {
            "colorbar": {
             "outlinewidth": 0,
             "ticks": ""
            },
            "colorscale": [
             [
              0,
              "#0d0887"
             ],
             [
              0.1111111111111111,
              "#46039f"
             ],
             [
              0.2222222222222222,
              "#7201a8"
             ],
             [
              0.3333333333333333,
              "#9c179e"
             ],
             [
              0.4444444444444444,
              "#bd3786"
             ],
             [
              0.5555555555555556,
              "#d8576b"
             ],
             [
              0.6666666666666666,
              "#ed7953"
             ],
             [
              0.7777777777777778,
              "#fb9f3a"
             ],
             [
              0.8888888888888888,
              "#fdca26"
             ],
             [
              1,
              "#f0f921"
             ]
            ],
            "type": "histogram2dcontour"
           }
          ],
          "mesh3d": [
           {
            "colorbar": {
             "outlinewidth": 0,
             "ticks": ""
            },
            "type": "mesh3d"
           }
          ],
          "parcoords": [
           {
            "line": {
             "colorbar": {
              "outlinewidth": 0,
              "ticks": ""
             }
            },
            "type": "parcoords"
           }
          ],
          "pie": [
           {
            "automargin": true,
            "type": "pie"
           }
          ],
          "scatter": [
           {
            "marker": {
             "colorbar": {
              "outlinewidth": 0,
              "ticks": ""
             }
            },
            "type": "scatter"
           }
          ],
          "scatter3d": [
           {
            "line": {
             "colorbar": {
              "outlinewidth": 0,
              "ticks": ""
             }
            },
            "marker": {
             "colorbar": {
              "outlinewidth": 0,
              "ticks": ""
             }
            },
            "type": "scatter3d"
           }
          ],
          "scattercarpet": [
           {
            "marker": {
             "colorbar": {
              "outlinewidth": 0,
              "ticks": ""
             }
            },
            "type": "scattercarpet"
           }
          ],
          "scattergeo": [
           {
            "marker": {
             "colorbar": {
              "outlinewidth": 0,
              "ticks": ""
             }
            },
            "type": "scattergeo"
           }
          ],
          "scattergl": [
           {
            "marker": {
             "colorbar": {
              "outlinewidth": 0,
              "ticks": ""
             }
            },
            "type": "scattergl"
           }
          ],
          "scattermapbox": [
           {
            "marker": {
             "colorbar": {
              "outlinewidth": 0,
              "ticks": ""
             }
            },
            "type": "scattermapbox"
           }
          ],
          "scatterpolar": [
           {
            "marker": {
             "colorbar": {
              "outlinewidth": 0,
              "ticks": ""
             }
            },
            "type": "scatterpolar"
           }
          ],
          "scatterpolargl": [
           {
            "marker": {
             "colorbar": {
              "outlinewidth": 0,
              "ticks": ""
             }
            },
            "type": "scatterpolargl"
           }
          ],
          "scatterternary": [
           {
            "marker": {
             "colorbar": {
              "outlinewidth": 0,
              "ticks": ""
             }
            },
            "type": "scatterternary"
           }
          ],
          "surface": [
           {
            "colorbar": {
             "outlinewidth": 0,
             "ticks": ""
            },
            "colorscale": [
             [
              0,
              "#0d0887"
             ],
             [
              0.1111111111111111,
              "#46039f"
             ],
             [
              0.2222222222222222,
              "#7201a8"
             ],
             [
              0.3333333333333333,
              "#9c179e"
             ],
             [
              0.4444444444444444,
              "#bd3786"
             ],
             [
              0.5555555555555556,
              "#d8576b"
             ],
             [
              0.6666666666666666,
              "#ed7953"
             ],
             [
              0.7777777777777778,
              "#fb9f3a"
             ],
             [
              0.8888888888888888,
              "#fdca26"
             ],
             [
              1,
              "#f0f921"
             ]
            ],
            "type": "surface"
           }
          ],
          "table": [
           {
            "cells": {
             "fill": {
              "color": "#EBF0F8"
             },
             "line": {
              "color": "white"
             }
            },
            "header": {
             "fill": {
              "color": "#C8D4E3"
             },
             "line": {
              "color": "white"
             }
            },
            "type": "table"
           }
          ]
         },
         "layout": {
          "annotationdefaults": {
           "arrowcolor": "#2a3f5f",
           "arrowhead": 0,
           "arrowwidth": 1
          },
          "autotypenumbers": "strict",
          "coloraxis": {
           "colorbar": {
            "outlinewidth": 0,
            "ticks": ""
           }
          },
          "colorscale": {
           "diverging": [
            [
             0,
             "#8e0152"
            ],
            [
             0.1,
             "#c51b7d"
            ],
            [
             0.2,
             "#de77ae"
            ],
            [
             0.3,
             "#f1b6da"
            ],
            [
             0.4,
             "#fde0ef"
            ],
            [
             0.5,
             "#f7f7f7"
            ],
            [
             0.6,
             "#e6f5d0"
            ],
            [
             0.7,
             "#b8e186"
            ],
            [
             0.8,
             "#7fbc41"
            ],
            [
             0.9,
             "#4d9221"
            ],
            [
             1,
             "#276419"
            ]
           ],
           "sequential": [
            [
             0,
             "#0d0887"
            ],
            [
             0.1111111111111111,
             "#46039f"
            ],
            [
             0.2222222222222222,
             "#7201a8"
            ],
            [
             0.3333333333333333,
             "#9c179e"
            ],
            [
             0.4444444444444444,
             "#bd3786"
            ],
            [
             0.5555555555555556,
             "#d8576b"
            ],
            [
             0.6666666666666666,
             "#ed7953"
            ],
            [
             0.7777777777777778,
             "#fb9f3a"
            ],
            [
             0.8888888888888888,
             "#fdca26"
            ],
            [
             1,
             "#f0f921"
            ]
           ],
           "sequentialminus": [
            [
             0,
             "#0d0887"
            ],
            [
             0.1111111111111111,
             "#46039f"
            ],
            [
             0.2222222222222222,
             "#7201a8"
            ],
            [
             0.3333333333333333,
             "#9c179e"
            ],
            [
             0.4444444444444444,
             "#bd3786"
            ],
            [
             0.5555555555555556,
             "#d8576b"
            ],
            [
             0.6666666666666666,
             "#ed7953"
            ],
            [
             0.7777777777777778,
             "#fb9f3a"
            ],
            [
             0.8888888888888888,
             "#fdca26"
            ],
            [
             1,
             "#f0f921"
            ]
           ]
          },
          "colorway": [
           "#636efa",
           "#EF553B",
           "#00cc96",
           "#ab63fa",
           "#FFA15A",
           "#19d3f3",
           "#FF6692",
           "#B6E880",
           "#FF97FF",
           "#FECB52"
          ],
          "font": {
           "color": "#2a3f5f"
          },
          "geo": {
           "bgcolor": "white",
           "lakecolor": "white",
           "landcolor": "#E5ECF6",
           "showlakes": true,
           "showland": true,
           "subunitcolor": "white"
          },
          "hoverlabel": {
           "align": "left"
          },
          "hovermode": "closest",
          "mapbox": {
           "style": "light"
          },
          "paper_bgcolor": "white",
          "plot_bgcolor": "#E5ECF6",
          "polar": {
           "angularaxis": {
            "gridcolor": "white",
            "linecolor": "white",
            "ticks": ""
           },
           "bgcolor": "#E5ECF6",
           "radialaxis": {
            "gridcolor": "white",
            "linecolor": "white",
            "ticks": ""
           }
          },
          "scene": {
           "xaxis": {
            "backgroundcolor": "#E5ECF6",
            "gridcolor": "white",
            "gridwidth": 2,
            "linecolor": "white",
            "showbackground": true,
            "ticks": "",
            "zerolinecolor": "white"
           },
           "yaxis": {
            "backgroundcolor": "#E5ECF6",
            "gridcolor": "white",
            "gridwidth": 2,
            "linecolor": "white",
            "showbackground": true,
            "ticks": "",
            "zerolinecolor": "white"
           },
           "zaxis": {
            "backgroundcolor": "#E5ECF6",
            "gridcolor": "white",
            "gridwidth": 2,
            "linecolor": "white",
            "showbackground": true,
            "ticks": "",
            "zerolinecolor": "white"
           }
          },
          "shapedefaults": {
           "line": {
            "color": "#2a3f5f"
           }
          },
          "ternary": {
           "aaxis": {
            "gridcolor": "white",
            "linecolor": "white",
            "ticks": ""
           },
           "baxis": {
            "gridcolor": "white",
            "linecolor": "white",
            "ticks": ""
           },
           "bgcolor": "#E5ECF6",
           "caxis": {
            "gridcolor": "white",
            "linecolor": "white",
            "ticks": ""
           }
          },
          "title": {
           "x": 0.05
          },
          "xaxis": {
           "automargin": true,
           "gridcolor": "white",
           "linecolor": "white",
           "ticks": "",
           "title": {
            "standoff": 15
           },
           "zerolinecolor": "white",
           "zerolinewidth": 2
          },
          "yaxis": {
           "automargin": true,
           "gridcolor": "white",
           "linecolor": "white",
           "ticks": "",
           "title": {
            "standoff": 15
           },
           "zerolinecolor": "white",
           "zerolinewidth": 2
          }
         }
        },
        "updatemenus": [
         {
          "buttons": [
           {
            "args": [
             null,
             {
              "frame": {
               "duration": 500,
               "redraw": true
              },
              "fromcurrent": true,
              "mode": "immediate",
              "transition": {
               "duration": 500,
               "easing": "linear"
              }
             }
            ],
            "label": "&#9654;",
            "method": "animate"
           },
           {
            "args": [
             [
              null
             ],
             {
              "frame": {
               "duration": 0,
               "redraw": true
              },
              "fromcurrent": true,
              "mode": "immediate",
              "transition": {
               "duration": 0,
               "easing": "linear"
              }
             }
            ],
            "label": "&#9724;",
            "method": "animate"
           }
          ],
          "direction": "left",
          "pad": {
           "r": 10,
           "t": 70
          },
          "showactive": false,
          "type": "buttons",
          "x": 0.1,
          "xanchor": "right",
          "y": 0,
          "yanchor": "top"
         }
        ]
       }
      }
     },
     "metadata": {},
     "output_type": "display_data"
    }
   ],
   "source": [
    "_map_for_world(df_f)"
   ]
  },
  {
   "cell_type": "code",
   "execution_count": 13,
   "metadata": {},
   "outputs": [],
   "source": [
    "def _production_structure_for_world(\n",
    "    data: pd.DataFrame,\n",
    "    ) -> pd.DataFrame:\n",
    "    \"\"\" Return production structure for world \n",
    "        Working at final_version.csv file \n",
    "    \"\"\"\n",
    "    import seaborn as sns\n",
    "    from bokeh.layouts import gridplot\n",
    "    from bokeh.io import output_notebook, show, reset_output\n",
    "    from bokeh.plotting import figure\n",
    "    from bokeh.models import HoverTool, ColumnDataSource, CDSView, BooleanFilter, Legend\n",
    "    from bokeh.palettes import Spectral\n",
    "    \n",
    "\n",
    "\n",
    "    source_list = ['Electricity - Gross production',\n",
    "       'Electricity - total thermal production',\n",
    "       'Electricity - total tide, wave and hydro production',\n",
    "       'Electricity - total solar production',\n",
    "       'Electricity - total nuclear production',\n",
    "       'Electricity - total wind production',\n",
    "       'Electricity - total geothermal production']\n",
    "    df_fp = data.loc[(data.commodity_transaction.isin(source_list))]\n",
    "    total_by_source = pd.pivot_table(df_fp , values = 'new_quantity', index=['year'], columns =['commodity_transaction'], aggfunc = ('sum'), fill_value=0).reset_index()\n",
    "    \n",
    "    names = ['Electricity - total thermal production',\n",
    "       'Electricity - total tide, wave and hydro production',\n",
    "       'Electricity - total solar production',\n",
    "       'Electricity - total nuclear production',\n",
    "       'Electricity - total wind production',\n",
    "       'Electricity - total geothermal production']\n",
    "    \n",
    "    for i in names:\n",
    "        total_by_source[i + ' %'] = (total_by_source[i])*100/(total_by_source[names].sum(axis=1))\n",
    "    \n",
    "    source = source = ColumnDataSource(total_by_source)\n",
    "    Reverse_Spectral= Spectral.copy()\n",
    "\n",
    "    tooltips_source = [\n",
    "    ('year', '@year'),\n",
    "    ('By Source', '@$name{0,0} TWh'),\n",
    "    ('Total','$y{0,0} TWh')\n",
    "    ]\n",
    "    output_notebook()\n",
    "    subplot = figure(title = 'Electricity Production by Source 1994-2014',plot_width=900, plot_height=500)\n",
    "    subplot.varea_stack(names,\n",
    "                x='year',color=Reverse_Spectral[6] , legend_label = names, source = source)\n",
    "\n",
    "    subplot.vline_stack(names,\n",
    "                x='year',color = 'black', source = source)\n",
    "    subplot.line(x = 'year', y = 'Electricity - Gross production',\n",
    "            line_dash=[4, 4], line_color='gray', line_width=2, legend_label='Gross', source = source)\n",
    "\n",
    "    subplot.legend.location ='top_left'\n",
    "    subplot.add_tools(HoverTool(tooltips = tooltips_source))\n",
    "    subplot.add_layout(subplot.legend[0], 'right')\n",
    "    show(subplot)\n",
    "        "
   ]
  },
  {
   "cell_type": "code",
   "execution_count": 14,
   "metadata": {},
   "outputs": [
    {
     "data": {
      "text/html": [
       "\n",
       "    <div class=\"bk-root\">\n",
       "        <a href=\"https://bokeh.org\" target=\"_blank\" class=\"bk-logo bk-logo-small bk-logo-notebook\"></a>\n",
       "        <span id=\"1329\">Loading BokehJS ...</span>\n",
       "    </div>"
      ]
     },
     "metadata": {},
     "output_type": "display_data"
    },
    {
     "data": {
      "application/javascript": "\n(function(root) {\n  function now() {\n    return new Date();\n  }\n\n  const force = true;\n\n  if (typeof root._bokeh_onload_callbacks === \"undefined\" || force === true) {\n    root._bokeh_onload_callbacks = [];\n    root._bokeh_is_loading = undefined;\n  }\n\n  const JS_MIME_TYPE = 'application/javascript';\n  const HTML_MIME_TYPE = 'text/html';\n  const EXEC_MIME_TYPE = 'application/vnd.bokehjs_exec.v0+json';\n  const CLASS_NAME = 'output_bokeh rendered_html';\n\n  /**\n   * Render data to the DOM node\n   */\n  function render(props, node) {\n    const script = document.createElement(\"script\");\n    node.appendChild(script);\n  }\n\n  /**\n   * Handle when an output is cleared or removed\n   */\n  function handleClearOutput(event, handle) {\n    const cell = handle.cell;\n\n    const id = cell.output_area._bokeh_element_id;\n    const server_id = cell.output_area._bokeh_server_id;\n    // Clean up Bokeh references\n    if (id != null && id in Bokeh.index) {\n      Bokeh.index[id].model.document.clear();\n      delete Bokeh.index[id];\n    }\n\n    if (server_id !== undefined) {\n      // Clean up Bokeh references\n      const cmd_clean = \"from bokeh.io.state import curstate; print(curstate().uuid_to_server['\" + server_id + \"'].get_sessions()[0].document.roots[0]._id)\";\n      cell.notebook.kernel.execute(cmd_clean, {\n        iopub: {\n          output: function(msg) {\n            const id = msg.content.text.trim();\n            if (id in Bokeh.index) {\n              Bokeh.index[id].model.document.clear();\n              delete Bokeh.index[id];\n            }\n          }\n        }\n      });\n      // Destroy server and session\n      const cmd_destroy = \"import bokeh.io.notebook as ion; ion.destroy_server('\" + server_id + \"')\";\n      cell.notebook.kernel.execute(cmd_destroy);\n    }\n  }\n\n  /**\n   * Handle when a new output is added\n   */\n  function handleAddOutput(event, handle) {\n    const output_area = handle.output_area;\n    const output = handle.output;\n\n    // limit handleAddOutput to display_data with EXEC_MIME_TYPE content only\n    if ((output.output_type != \"display_data\") || (!Object.prototype.hasOwnProperty.call(output.data, EXEC_MIME_TYPE))) {\n      return\n    }\n\n    const toinsert = output_area.element.find(\".\" + CLASS_NAME.split(' ')[0]);\n\n    if (output.metadata[EXEC_MIME_TYPE][\"id\"] !== undefined) {\n      toinsert[toinsert.length - 1].firstChild.textContent = output.data[JS_MIME_TYPE];\n      // store reference to embed id on output_area\n      output_area._bokeh_element_id = output.metadata[EXEC_MIME_TYPE][\"id\"];\n    }\n    if (output.metadata[EXEC_MIME_TYPE][\"server_id\"] !== undefined) {\n      const bk_div = document.createElement(\"div\");\n      bk_div.innerHTML = output.data[HTML_MIME_TYPE];\n      const script_attrs = bk_div.children[0].attributes;\n      for (let i = 0; i < script_attrs.length; i++) {\n        toinsert[toinsert.length - 1].firstChild.setAttribute(script_attrs[i].name, script_attrs[i].value);\n        toinsert[toinsert.length - 1].firstChild.textContent = bk_div.children[0].textContent\n      }\n      // store reference to server id on output_area\n      output_area._bokeh_server_id = output.metadata[EXEC_MIME_TYPE][\"server_id\"];\n    }\n  }\n\n  function register_renderer(events, OutputArea) {\n\n    function append_mime(data, metadata, element) {\n      // create a DOM node to render to\n      const toinsert = this.create_output_subarea(\n        metadata,\n        CLASS_NAME,\n        EXEC_MIME_TYPE\n      );\n      this.keyboard_manager.register_events(toinsert);\n      // Render to node\n      const props = {data: data, metadata: metadata[EXEC_MIME_TYPE]};\n      render(props, toinsert[toinsert.length - 1]);\n      element.append(toinsert);\n      return toinsert\n    }\n\n    /* Handle when an output is cleared or removed */\n    events.on('clear_output.CodeCell', handleClearOutput);\n    events.on('delete.Cell', handleClearOutput);\n\n    /* Handle when a new output is added */\n    events.on('output_added.OutputArea', handleAddOutput);\n\n    /**\n     * Register the mime type and append_mime function with output_area\n     */\n    OutputArea.prototype.register_mime_type(EXEC_MIME_TYPE, append_mime, {\n      /* Is output safe? */\n      safe: true,\n      /* Index of renderer in `output_area.display_order` */\n      index: 0\n    });\n  }\n\n  // register the mime type if in Jupyter Notebook environment and previously unregistered\n  if (root.Jupyter !== undefined) {\n    const events = require('base/js/events');\n    const OutputArea = require('notebook/js/outputarea').OutputArea;\n\n    if (OutputArea.prototype.mime_types().indexOf(EXEC_MIME_TYPE) == -1) {\n      register_renderer(events, OutputArea);\n    }\n  }\n\n  \n  if (typeof (root._bokeh_timeout) === \"undefined\" || force === true) {\n    root._bokeh_timeout = Date.now() + 5000;\n    root._bokeh_failed_load = false;\n  }\n\n  const NB_LOAD_WARNING = {'data': {'text/html':\n     \"<div style='background-color: #fdd'>\\n\"+\n     \"<p>\\n\"+\n     \"BokehJS does not appear to have successfully loaded. If loading BokehJS from CDN, this \\n\"+\n     \"may be due to a slow or bad network connection. Possible fixes:\\n\"+\n     \"</p>\\n\"+\n     \"<ul>\\n\"+\n     \"<li>re-rerun `output_notebook()` to attempt to load from CDN again, or</li>\\n\"+\n     \"<li>use INLINE resources instead, as so:</li>\\n\"+\n     \"</ul>\\n\"+\n     \"<code>\\n\"+\n     \"from bokeh.resources import INLINE\\n\"+\n     \"output_notebook(resources=INLINE)\\n\"+\n     \"</code>\\n\"+\n     \"</div>\"}};\n\n  function display_loaded() {\n    const el = document.getElementById(\"1329\");\n    if (el != null) {\n      el.textContent = \"BokehJS is loading...\";\n    }\n    if (root.Bokeh !== undefined) {\n      if (el != null) {\n        el.textContent = \"BokehJS \" + root.Bokeh.version + \" successfully loaded.\";\n      }\n    } else if (Date.now() < root._bokeh_timeout) {\n      setTimeout(display_loaded, 100)\n    }\n  }\n\n\n  function run_callbacks() {\n    try {\n      root._bokeh_onload_callbacks.forEach(function(callback) {\n        if (callback != null)\n          callback();\n      });\n    } finally {\n      delete root._bokeh_onload_callbacks\n    }\n    console.debug(\"Bokeh: all callbacks have finished\");\n  }\n\n  function load_libs(css_urls, js_urls, callback) {\n    if (css_urls == null) css_urls = [];\n    if (js_urls == null) js_urls = [];\n\n    root._bokeh_onload_callbacks.push(callback);\n    if (root._bokeh_is_loading > 0) {\n      console.debug(\"Bokeh: BokehJS is being loaded, scheduling callback at\", now());\n      return null;\n    }\n    if (js_urls == null || js_urls.length === 0) {\n      run_callbacks();\n      return null;\n    }\n    console.debug(\"Bokeh: BokehJS not loaded, scheduling load and callback at\", now());\n    root._bokeh_is_loading = css_urls.length + js_urls.length;\n\n    function on_load() {\n      root._bokeh_is_loading--;\n      if (root._bokeh_is_loading === 0) {\n        console.debug(\"Bokeh: all BokehJS libraries/stylesheets loaded\");\n        run_callbacks()\n      }\n    }\n\n    function on_error(url) {\n      console.error(\"failed to load \" + url);\n    }\n\n    for (let i = 0; i < css_urls.length; i++) {\n      const url = css_urls[i];\n      const element = document.createElement(\"link\");\n      element.onload = on_load;\n      element.onerror = on_error.bind(null, url);\n      element.rel = \"stylesheet\";\n      element.type = \"text/css\";\n      element.href = url;\n      console.debug(\"Bokeh: injecting link tag for BokehJS stylesheet: \", url);\n      document.body.appendChild(element);\n    }\n\n    for (let i = 0; i < js_urls.length; i++) {\n      const url = js_urls[i];\n      const element = document.createElement('script');\n      element.onload = on_load;\n      element.onerror = on_error.bind(null, url);\n      element.async = false;\n      element.src = url;\n      console.debug(\"Bokeh: injecting script tag for BokehJS library: \", url);\n      document.head.appendChild(element);\n    }\n  };\n\n  function inject_raw_css(css) {\n    const element = document.createElement(\"style\");\n    element.appendChild(document.createTextNode(css));\n    document.body.appendChild(element);\n  }\n\n  \n  const js_urls = [\"https://cdn.bokeh.org/bokeh/release/bokeh-2.4.2.min.js\", \"https://cdn.bokeh.org/bokeh/release/bokeh-gl-2.4.2.min.js\", \"https://cdn.bokeh.org/bokeh/release/bokeh-widgets-2.4.2.min.js\", \"https://cdn.bokeh.org/bokeh/release/bokeh-tables-2.4.2.min.js\", \"https://cdn.bokeh.org/bokeh/release/bokeh-mathjax-2.4.2.min.js\"];\n  const css_urls = [];\n  \n\n  const inline_js = [\n    function(Bokeh) {\n      Bokeh.set_log_level(\"info\");\n    },\n    function(Bokeh) {\n    \n    \n    }\n  ];\n\n  function run_inline_js() {\n    \n    if (root.Bokeh !== undefined || force === true) {\n      \n    for (let i = 0; i < inline_js.length; i++) {\n      inline_js[i].call(root, root.Bokeh);\n    }\n    if (force === true) {\n        display_loaded();\n      }} else if (Date.now() < root._bokeh_timeout) {\n      setTimeout(run_inline_js, 100);\n    } else if (!root._bokeh_failed_load) {\n      console.log(\"Bokeh: BokehJS failed to load within specified timeout.\");\n      root._bokeh_failed_load = true;\n    } else if (force !== true) {\n      const cell = $(document.getElementById(\"1329\")).parents('.cell').data().cell;\n      cell.output_area.append_execute_result(NB_LOAD_WARNING)\n    }\n\n  }\n\n  if (root._bokeh_is_loading === 0) {\n    console.debug(\"Bokeh: BokehJS loaded, going straight to plotting\");\n    run_inline_js();\n  } else {\n    load_libs(css_urls, js_urls, function() {\n      console.debug(\"Bokeh: BokehJS plotting callback run at\", now());\n      run_inline_js();\n    });\n  }\n}(window));",
      "application/vnd.bokehjs_load.v0+json": ""
     },
     "metadata": {},
     "output_type": "display_data"
    },
    {
     "data": {
      "text/html": [
       "\n",
       "\n",
       "\n",
       "\n",
       "\n",
       "\n",
       "  <div class=\"bk-root\" id=\"1939911e-39b4-45d5-b782-0e365094c926\" data-root-id=\"1330\"></div>\n"
      ]
     },
     "metadata": {},
     "output_type": "display_data"
    },
    {
     "data": {
      "application/javascript": "(function(root) {\n  function embed_document(root) {\n    \n  const docs_json = {\"ebd8e99a-8c58-488e-8050-eb49d6911ec8\":{\"defs\":[],\"roots\":{\"references\":[{\"attributes\":{\"below\":[{\"id\":\"1341\"}],\"center\":[{\"id\":\"1344\"},{\"id\":\"1348\"},{\"id\":\"1391\"}],\"height\":500,\"left\":[{\"id\":\"1345\"}],\"renderers\":[{\"id\":\"1379\"},{\"id\":\"1397\"},{\"id\":\"1414\"},{\"id\":\"1431\"},{\"id\":\"1448\"},{\"id\":\"1465\"},{\"id\":\"1488\"},{\"id\":\"1494\"},{\"id\":\"1500\"},{\"id\":\"1506\"},{\"id\":\"1512\"},{\"id\":\"1518\"},{\"id\":\"1524\"}],\"right\":[{\"id\":\"1391\"}],\"title\":{\"id\":\"1331\"},\"toolbar\":{\"id\":\"1356\"},\"width\":900,\"x_range\":{\"id\":\"1333\"},\"x_scale\":{\"id\":\"1337\"},\"y_range\":{\"id\":\"1335\"},\"y_scale\":{\"id\":\"1339\"}},\"id\":\"1330\",\"subtype\":\"Figure\",\"type\":\"Plot\"},{\"attributes\":{\"coordinates\":null,\"formatter\":{\"id\":\"1386\"},\"group\":null,\"major_label_policy\":{\"id\":\"1387\"},\"ticker\":{\"id\":\"1342\"}},\"id\":\"1341\",\"type\":\"LinearAxis\"},{\"attributes\":{\"coordinates\":null,\"group\":null,\"text\":\"Electricity Production by Source 1994-2014\"},\"id\":\"1331\",\"type\":\"Title\"},{\"attributes\":{\"source\":{\"id\":\"1328\"}},\"id\":\"1466\",\"type\":\"CDSView\"},{\"attributes\":{\"source\":{\"id\":\"1328\"}},\"id\":\"1489\",\"type\":\"CDSView\"},{\"attributes\":{\"fields\":[\"Electricity - total thermal production\",\"Electricity - total tide, wave and hydro production\",\"Electricity - total solar production\"]},\"id\":\"1480\",\"type\":\"Stack\"},{\"attributes\":{\"line_color\":\"gray\",\"line_dash\":[4,4],\"line_width\":2,\"x\":{\"field\":\"year\"},\"y\":{\"field\":\"Electricity - Gross production\"}},\"id\":\"1521\",\"type\":\"Line\"},{\"attributes\":{\"label\":{\"value\":\"Electricity - total geothermal production\"},\"renderers\":[{\"id\":\"1465\"}]},\"id\":\"1477\",\"type\":\"LegendItem\"},{\"attributes\":{},\"id\":\"1342\",\"type\":\"BasicTicker\"},{\"attributes\":{},\"id\":\"1387\",\"type\":\"AllLabels\"},{\"attributes\":{\"fill_alpha\":0.1,\"fill_color\":\"#fee08b\",\"hatch_alpha\":{\"value\":0.1},\"hatch_color\":{\"value\":\"#fee08b\"},\"x\":{\"field\":\"year\"},\"y1\":{\"expr\":{\"id\":\"1369\"}},\"y2\":{\"expr\":{\"id\":\"1370\"}}},\"id\":\"1429\",\"type\":\"VArea\"},{\"attributes\":{},\"id\":\"1383\",\"type\":\"BasicTickFormatter\"},{\"attributes\":{\"axis\":{\"id\":\"1345\"},\"coordinates\":null,\"dimension\":1,\"group\":null,\"ticker\":null},\"id\":\"1348\",\"type\":\"Grid\"},{\"attributes\":{},\"id\":\"1353\",\"type\":\"ResetTool\"},{\"attributes\":{},\"id\":\"1333\",\"type\":\"DataRange1d\"},{\"attributes\":{\"fill_alpha\":0.2,\"fill_color\":\"#fee08b\",\"hatch_alpha\":{\"value\":0.2},\"hatch_color\":{\"value\":\"#fee08b\"},\"x\":{\"field\":\"year\"},\"y1\":{\"expr\":{\"id\":\"1369\"}},\"y2\":{\"expr\":{\"id\":\"1370\"}}},\"id\":\"1430\",\"type\":\"VArea\"},{\"attributes\":{\"overlay\":{\"id\":\"1355\"}},\"id\":\"1351\",\"type\":\"BoxZoomTool\"},{\"attributes\":{\"axis\":{\"id\":\"1341\"},\"coordinates\":null,\"group\":null,\"ticker\":null},\"id\":\"1344\",\"type\":\"Grid\"},{\"attributes\":{\"fields\":[\"Electricity - total thermal production\"]},\"id\":\"1478\",\"type\":\"Stack\"},{\"attributes\":{},\"id\":\"1350\",\"type\":\"WheelZoomTool\"},{\"attributes\":{\"x\":{\"field\":\"year\"},\"y\":{\"expr\":{\"id\":\"1478\"}}},\"id\":\"1485\",\"type\":\"Line\"},{\"attributes\":{},\"id\":\"1337\",\"type\":\"LinearScale\"},{\"attributes\":{\"source\":{\"id\":\"1328\"}},\"id\":\"1495\",\"type\":\"CDSView\"},{\"attributes\":{\"fields\":[\"Electricity - total thermal production\",\"Electricity - total tide, wave and hydro production\",\"Electricity - total solar production\",\"Electricity - total nuclear production\"]},\"id\":\"1481\",\"type\":\"Stack\"},{\"attributes\":{\"fields\":[\"Electricity - total thermal production\",\"Electricity - total tide, wave and hydro production\"]},\"id\":\"1479\",\"type\":\"Stack\"},{\"attributes\":{\"coordinates\":null,\"data_source\":{\"id\":\"1328\"},\"glyph\":{\"id\":\"1491\"},\"group\":null,\"hover_glyph\":null,\"muted_glyph\":{\"id\":\"1493\"},\"name\":\"Electricity - total tide, wave and hydro production\",\"nonselection_glyph\":{\"id\":\"1492\"},\"view\":{\"id\":\"1495\"}},\"id\":\"1494\",\"type\":\"GlyphRenderer\"},{\"attributes\":{\"fields\":[\"Electricity - total thermal production\",\"Electricity - total tide, wave and hydro production\",\"Electricity - total solar production\",\"Electricity - total nuclear production\",\"Electricity - total wind production\"]},\"id\":\"1482\",\"type\":\"Stack\"},{\"attributes\":{\"fields\":[\"Electricity - total thermal production\",\"Electricity - total tide, wave and hydro production\",\"Electricity - total solar production\",\"Electricity - total nuclear production\",\"Electricity - total wind production\",\"Electricity - total geothermal production\"]},\"id\":\"1483\",\"type\":\"Stack\"},{\"attributes\":{\"line_alpha\":0.1,\"x\":{\"field\":\"year\"},\"y\":{\"expr\":{\"id\":\"1479\"}}},\"id\":\"1492\",\"type\":\"Line\"},{\"attributes\":{},\"id\":\"1352\",\"type\":\"SaveTool\"},{\"attributes\":{\"x\":{\"field\":\"year\"},\"y\":{\"expr\":{\"id\":\"1479\"}}},\"id\":\"1491\",\"type\":\"Line\"},{\"attributes\":{\"coordinates\":null,\"formatter\":{\"id\":\"1383\"},\"group\":null,\"major_label_policy\":{\"id\":\"1384\"},\"ticker\":{\"id\":\"1346\"}},\"id\":\"1345\",\"type\":\"LinearAxis\"},{\"attributes\":{\"line_alpha\":0.2,\"x\":{\"field\":\"year\"},\"y\":{\"expr\":{\"id\":\"1479\"}}},\"id\":\"1493\",\"type\":\"Line\"},{\"attributes\":{},\"id\":\"1354\",\"type\":\"HelpTool\"},{\"attributes\":{\"coordinates\":null,\"data_source\":{\"id\":\"1328\"},\"glyph\":{\"id\":\"1497\"},\"group\":null,\"hover_glyph\":null,\"muted_glyph\":{\"id\":\"1499\"},\"name\":\"Electricity - total solar production\",\"nonselection_glyph\":{\"id\":\"1498\"},\"view\":{\"id\":\"1501\"}},\"id\":\"1500\",\"type\":\"GlyphRenderer\"},{\"attributes\":{},\"id\":\"1384\",\"type\":\"AllLabels\"},{\"attributes\":{},\"id\":\"1349\",\"type\":\"PanTool\"},{\"attributes\":{\"source\":{\"id\":\"1328\"}},\"id\":\"1501\",\"type\":\"CDSView\"},{\"attributes\":{\"x\":{\"field\":\"year\"},\"y\":{\"expr\":{\"id\":\"1480\"}}},\"id\":\"1497\",\"type\":\"Line\"},{\"attributes\":{},\"id\":\"1335\",\"type\":\"DataRange1d\"},{\"attributes\":{\"data\":{\"Electricity - Gross production\":{\"__ndarray__\":\"m8k32w0ryUDJxoMtYAbKQBxiF6Cn3MpAzhDY5ktty0CmuKrsTBHMQHw705Wd6MxAof5pWQtEzkCTQDnA/nbOQDUomgeTq89AtJw6RQlr0ECtKMpKdi7RQGA00KHF7dFASBVq8hqg0kDMuW8QR3DTQGqKW+CewdNAZNCm9q+900C0DovEFwzVQNUwnXlup9VAicmuDGkm1kDFmC+4VufWQM4xY+yOWNdA\",\"dtype\":\"float64\",\"order\":\"little\",\"shape\":[21]},\"Electricity - total geothermal production\":{\"__ndarray__\":\"pHA9CtdTREAMAiuHFvlDQN0kBoGVI0VA3SQGgZVDRUBqTfOOU5xGQOOlm8QgSEhAS1mGONbVSECJQWDl0LpJQGRd3EYDGEpALv8h/fblSkALRiV1AgpMQHNdnQiHKU1A7j0BuWnlTUDYoC+9/U5PQDltfNztRVBApqJnad3VUEDg0RCfhR1RQHtA6sCDZFFAFNBE2PCeUUDD0ytlGfJRQNV46SYxJFNA\",\"dtype\":\"float64\",\"order\":\"little\",\"shape\":[21]},\"Electricity - total geothermal production %\":{\"__ndarray__\":\"q7wiekMx1D/kBsAGDDDTP/JwXanGrNM/yPE28Uxi0z+gRHC6HiTUPxCNH9INANU/8ik5UCeE1D8KetiPyR3VP4YcT5OdmtQ/PNiACCt91D+DUMhmgWnUP/DwlMHsWNQ/dC9AIN0T1D9yxopDjibUPx7AGts7n9Q/mi9s2elf1T+Xl0+QUl7UP0g9OpxvG9Q/juNA5hHs0z/mj3uMqprTP4neWw8ghdQ/\",\"dtype\":\"float64\",\"order\":\"little\",\"shape\":[21]},\"Electricity - total nuclear production\":{\"__ndarray__\":\"EoPAyqGGoUArhxbZjjiiQAwCK4eW4qJAexSuRyGyokDJdr6fmhqjQCGwcmgRxqNAzMzMzAw6pEB56SYxyJqkQJQYBFaOyaRAnMQgsLKWpECwcmiRbWSlQIGVQ4vsn6VA1XjpJvHOpUCS7Xw/dT6lQKJFtvO9WaVAj8L1KFwQpUB/arx0k4ilQOxRuB5FLaRAMQisHJo4o0DAyqFFNl6jQP7UeOmmzqNA\",\"dtype\":\"float64\",\"order\":\"little\",\"shape\":[21]},\"Electricity - total nuclear production %\":{\"__ndarray__\":\"q9I2LdJoMUCIrXYWJ4ExQKTfgDG+kzFACz5DWfkKMUDzqbiccgQxQNRf6WT1GTFAbEXfvoq1MED/9FboAOkwQN7891j2aTBA+AQKEJRdL0Al3Hd2jCUvQKw5o/opLS5Aq3GTFMNKLUBSEFtlh1grQMBSi8FoDitA7wJB0ka+KkAFns1xW6ApQP0BuQ5vUydAxIoEnzu7JUDCwdfCbSglQCyYVs3cOyVA\",\"dtype\":\"float64\",\"order\":\"little\",\"shape\":[21]},\"Electricity - total solar production\":{\"__ndarray__\":\"76fGSzeJ7T/fT42XbhLvPwisHFpkO/E/WFLuPsfH8j/Q8jy4O6vyP9e/6zNnPfE/DoelgR+V9z+uvU9VoUH8P2yVYHE4EwFAlNv2PepvBEBButi0UggKQKeiJJ0f6hFAaMviv6IXGEBEsfRRXvYfQCE/XetNLClAs57Wz9eXNECC1YZv/5ZAQFDNwsQMa09AA8ngWCquV0BiGNm7LBFhQM6XQDehA2dA\",\"dtype\":\"float64\",\"order\":\"little\",\"shape\":[21]},\"Electricity - total solar production %\":{\"__ndarray__\":\"R0O96flWfT/ZXzYlrNl9Pxm0iY3bCYA/AoE0VbUegT/I7vqxPaGAP16qEgHq0X0/vSYD+jZ7gz+DL/FkoDCHP2SLJfkh94o/jAxqsn4ijz+gYr88jPOSPzGYZjjB/5g/cSFvaAwuoD/ZI1EvSJKkP6u2w6V75q8/NPBW5kMluj+KIuCsOr7DP8RPAhUuKdI/0COEcuLF2j8oU1+H9KTiP/qkRX34q+g/\",\"dtype\":\"float64\",\"order\":\"little\",\"shape\":[21]},\"Electricity - total thermal production\":{\"__ndarray__\":\"/mDguXfov0B8bleecGTAQJRt4A5n+sBAtTaN7X+FwUAv6w/ebwfCQKBpLtzWqcJA87G7QFXCw0BjuJW5wfrDQE3dlV289sRAbApkdrAexkCcxYuFtw/HQL2PxEdHNshAuC2A3+ZJyUC6fqjR/ebKQMbBY0eWJMtAXKs4s0nxykBt7wnIg+LMQCdWPjLcKM5A7AOgvPbEzkC8EtQyZ6/PQNTbuCgEA9BA\",\"dtype\":\"float64\",\"order\":\"little\",\"shape\":[21]},\"Electricity - total thermal production %\":{\"__ndarray__\":\"KrJ/bTGyT0CwZFGI4X5PQIk5TyC9mk9A1hLRwdjxT0AMl7+tVQ9QQFS8cUkkJFBABN3yEqVSUEAfiVnOq2VQQAyMvgSjjVBAlsuKVGDZUEDy/wnn1clQQLwpAA265FBAAVRu5Lr7UEBH42dcj1BRQH5e5+LDMlFAgRz8TnwaUUDu3FXB/y9RQCwyg0PxblFAiWyiDdlkUUC0KMUcg05RQI2WLcw+KlFA\",\"dtype\":\"float64\",\"order\":\"little\",\"shape\":[21]},\"Electricity - total tide, wave and hydro production\":{\"__ndarray__\":\"O+RmuAXyokCaLQ+I5uujQCUfYFJxO6RAG48IfMh7pEAJt8axX46kQIqFa//gpKRAiKx/ISUmpUDS0sve5J2kQHHanf90LKVAqYzaWDxIpUBXwE77S56mQJCVqZPdkKdAwftPo81rqECgDnVpqa6oQHX4tT9BsKlAZCaL2vENqkDfxVYrBoirQAC/69ipwatA70kvgzg7rUBgeZCeZkyuQFYa5yXdGa9A\",\"dtype\":\"float64\",\"order\":\"little\",\"shape\":[21]},\"Electricity - total tide, wave and hydro production %\":{\"__ndarray__\":\"rcJg/cvRMkD3vTTFYCMzQP3nXH621DJA1ffcKCqsMkBN1LHKnE8yQBQ5LGmo2jFA3xzk+ZN4MUAFpGy9juswQOiuw0EOuDBAr9nc4gU2MEBDIBNgRHcwQG6HdStQcTBA9iv60pJmMECdvg//jMUvQP738hbZRjBAD/5cTyqKMEA7T+Qk02EwQD3a4wVWCzBAak1w0EOGMECd9u5sm4wwQFYOHfKnqzBA\",\"dtype\":\"float64\",\"order\":\"little\",\"shape\":[21]},\"Electricity - total wind production\":{\"__ndarray__\":\"0ZFc/kP6HEAm5IOezWofQA8LtaZ5pyJAFmpN846TJ0CJQWDl0GIvQHctIR/0XDVAVn2utmK/PkBIFjCBW7NCQCb+KOrM2UlA96xrtBx0T0BM4UGz66RUQHx1G/VMXFlA7GJgPhUTYEDG/QWKEZJkQN/REJ/FsGlAtbfGLYc4b0COklfnmEV1QJBPyM4bJXtAj6DflGVOgEA1Cklm9S6EQANckC1rGIZA\",\"dtype\":\"float64\",\"order\":\"little\",\"shape\":[21]},\"Electricity - total wind production %\":{\"__ndarray__\":\"Lg2/w/nIrD8aQO+okS6uP+hSnmy5XLE/bRcizu99tT80IyX3PvW7P1E1cx3becI/cU2CqHtmyT+jOSFF87HOP766cO99adQ/PDWpvnH11z/3Maj3tw7eP1TsePzfseE/g1yyyTKX5T/096bgn3rqP8d8qfYsR/A/l2xgBMLR8z9z9ibUpVD5Px+e3t6uYf8/pjcFwZJvAkCy5hyBdwwGQNp1zZLRrwdA\",\"dtype\":\"float64\",\"order\":\"little\",\"shape\":[21]},\"index\":[0,1,2,3,4,5,6,7,8,9,10,11,12,13,14,15,16,17,18,19,20],\"year\":[1994,1995,1996,1997,1998,1999,2000,2001,2002,2003,2004,2005,2006,2007,2008,2009,2010,2011,2012,2013,2014]},\"selected\":{\"id\":\"1389\"},\"selection_policy\":{\"id\":\"1388\"}},\"id\":\"1328\",\"type\":\"ColumnDataSource\"},{\"attributes\":{\"line_alpha\":0.1,\"x\":{\"field\":\"year\"},\"y\":{\"expr\":{\"id\":\"1480\"}}},\"id\":\"1498\",\"type\":\"Line\"},{\"attributes\":{\"line_alpha\":0.2,\"x\":{\"field\":\"year\"},\"y\":{\"expr\":{\"id\":\"1480\"}}},\"id\":\"1499\",\"type\":\"Line\"},{\"attributes\":{\"coordinates\":null,\"data_source\":{\"id\":\"1328\"},\"glyph\":{\"id\":\"1503\"},\"group\":null,\"hover_glyph\":null,\"muted_glyph\":{\"id\":\"1505\"},\"name\":\"Electricity - total nuclear production\",\"nonselection_glyph\":{\"id\":\"1504\"},\"view\":{\"id\":\"1507\"}},\"id\":\"1506\",\"type\":\"GlyphRenderer\"},{\"attributes\":{\"source\":{\"id\":\"1328\"}},\"id\":\"1507\",\"type\":\"CDSView\"},{\"attributes\":{\"x\":{\"field\":\"year\"},\"y\":{\"expr\":{\"id\":\"1481\"}}},\"id\":\"1503\",\"type\":\"Line\"},{\"attributes\":{\"line_alpha\":0.1,\"x\":{\"field\":\"year\"},\"y\":{\"expr\":{\"id\":\"1481\"}}},\"id\":\"1504\",\"type\":\"Line\"},{\"attributes\":{\"line_alpha\":0.2,\"x\":{\"field\":\"year\"},\"y\":{\"expr\":{\"id\":\"1481\"}}},\"id\":\"1505\",\"type\":\"Line\"},{\"attributes\":{\"coordinates\":null,\"data_source\":{\"id\":\"1328\"},\"glyph\":{\"id\":\"1509\"},\"group\":null,\"hover_glyph\":null,\"muted_glyph\":{\"id\":\"1511\"},\"name\":\"Electricity - total wind production\",\"nonselection_glyph\":{\"id\":\"1510\"},\"view\":{\"id\":\"1513\"}},\"id\":\"1512\",\"type\":\"GlyphRenderer\"},{\"attributes\":{},\"id\":\"1346\",\"type\":\"BasicTicker\"},{\"attributes\":{\"source\":{\"id\":\"1328\"}},\"id\":\"1513\",\"type\":\"CDSView\"},{\"attributes\":{},\"id\":\"1386\",\"type\":\"BasicTickFormatter\"},{\"attributes\":{\"x\":{\"field\":\"year\"},\"y\":{\"expr\":{\"id\":\"1482\"}}},\"id\":\"1509\",\"type\":\"Line\"},{\"attributes\":{},\"id\":\"1339\",\"type\":\"LinearScale\"},{\"attributes\":{\"line_alpha\":0.1,\"x\":{\"field\":\"year\"},\"y\":{\"expr\":{\"id\":\"1482\"}}},\"id\":\"1510\",\"type\":\"Line\"},{\"attributes\":{\"line_alpha\":0.2,\"x\":{\"field\":\"year\"},\"y\":{\"expr\":{\"id\":\"1482\"}}},\"id\":\"1511\",\"type\":\"Line\"},{\"attributes\":{\"coordinates\":null,\"data_source\":{\"id\":\"1328\"},\"glyph\":{\"id\":\"1428\"},\"group\":null,\"hover_glyph\":null,\"muted_glyph\":{\"id\":\"1430\"},\"name\":\"Electricity - total nuclear production\",\"nonselection_glyph\":{\"id\":\"1429\"},\"view\":{\"id\":\"1432\"}},\"id\":\"1431\",\"type\":\"GlyphRenderer\"},{\"attributes\":{\"coordinates\":null,\"data_source\":{\"id\":\"1328\"},\"glyph\":{\"id\":\"1515\"},\"group\":null,\"hover_glyph\":null,\"muted_glyph\":{\"id\":\"1517\"},\"name\":\"Electricity - total geothermal production\",\"nonselection_glyph\":{\"id\":\"1516\"},\"view\":{\"id\":\"1519\"}},\"id\":\"1518\",\"type\":\"GlyphRenderer\"},{\"attributes\":{\"fields\":[\"Electricity - total thermal production\",\"Electricity - total tide, wave and hydro production\"]},\"id\":\"1366\",\"type\":\"Stack\"},{\"attributes\":{\"source\":{\"id\":\"1328\"}},\"id\":\"1519\",\"type\":\"CDSView\"},{\"attributes\":{\"source\":{\"id\":\"1328\"}},\"id\":\"1432\",\"type\":\"CDSView\"},{\"attributes\":{\"x\":{\"field\":\"year\"},\"y\":{\"expr\":{\"id\":\"1483\"}}},\"id\":\"1515\",\"type\":\"Line\"},{\"attributes\":{\"coordinates\":null,\"data_source\":{\"id\":\"1328\"},\"glyph\":{\"id\":\"1521\"},\"group\":null,\"hover_glyph\":null,\"muted_glyph\":{\"id\":\"1523\"},\"nonselection_glyph\":{\"id\":\"1522\"},\"view\":{\"id\":\"1525\"}},\"id\":\"1524\",\"type\":\"GlyphRenderer\"},{\"attributes\":{\"line_alpha\":0.1,\"x\":{\"field\":\"year\"},\"y\":{\"expr\":{\"id\":\"1483\"}}},\"id\":\"1516\",\"type\":\"Line\"},{\"attributes\":{\"label\":{\"value\":\"Electricity - total nuclear production\"},\"renderers\":[{\"id\":\"1431\"}]},\"id\":\"1443\",\"type\":\"LegendItem\"},{\"attributes\":{\"line_alpha\":0.2,\"x\":{\"field\":\"year\"},\"y\":{\"expr\":{\"id\":\"1483\"}}},\"id\":\"1517\",\"type\":\"Line\"},{\"attributes\":{\"label\":{\"value\":\"Electricity - total thermal production\"},\"renderers\":[{\"id\":\"1379\"}]},\"id\":\"1392\",\"type\":\"LegendItem\"},{\"attributes\":{\"line_alpha\":0.1,\"line_color\":\"gray\",\"line_dash\":[4,4],\"line_width\":2,\"x\":{\"field\":\"year\"},\"y\":{\"field\":\"Electricity - Gross production\"}},\"id\":\"1522\",\"type\":\"Line\"},{\"attributes\":{\"coordinates\":null,\"group\":null,\"items\":[{\"id\":\"1392\"},{\"id\":\"1409\"},{\"id\":\"1426\"},{\"id\":\"1443\"},{\"id\":\"1460\"},{\"id\":\"1477\"},{\"id\":\"1536\"}],\"location\":\"top_left\"},\"id\":\"1391\",\"type\":\"Legend\"},{\"attributes\":{\"source\":{\"id\":\"1328\"}},\"id\":\"1380\",\"type\":\"CDSView\"},{\"attributes\":{\"source\":{\"id\":\"1328\"}},\"id\":\"1525\",\"type\":\"CDSView\"},{\"attributes\":{\"fill_color\":\"#99d594\",\"hatch_color\":{\"value\":\"#99d594\"},\"x\":{\"field\":\"year\"},\"y1\":{\"expr\":{\"id\":\"1365\"}},\"y2\":{\"expr\":{\"id\":\"1366\"}}},\"id\":\"1394\",\"type\":\"VArea\"},{\"attributes\":{\"line_alpha\":0.2,\"line_color\":\"gray\",\"line_dash\":[4,4],\"line_width\":2,\"x\":{\"field\":\"year\"},\"y\":{\"field\":\"Electricity - Gross production\"}},\"id\":\"1523\",\"type\":\"Line\"},{\"attributes\":{\"coordinates\":null,\"data_source\":{\"id\":\"1328\"},\"glyph\":{\"id\":\"1376\"},\"group\":null,\"hover_glyph\":null,\"muted_glyph\":{\"id\":\"1378\"},\"name\":\"Electricity - total thermal production\",\"nonselection_glyph\":{\"id\":\"1377\"},\"view\":{\"id\":\"1380\"}},\"id\":\"1379\",\"type\":\"GlyphRenderer\"},{\"attributes\":{\"label\":{\"value\":\"Gross\"},\"renderers\":[{\"id\":\"1524\"}]},\"id\":\"1536\",\"type\":\"LegendItem\"},{\"attributes\":{\"callback\":null,\"tooltips\":[[\"year\",\"@year\"],[\"By Source\",\"@$name{0,0} TWh\"],[\"Total\",\"$y{0,0} TWh\"]]},\"id\":\"1537\",\"type\":\"HoverTool\"},{\"attributes\":{\"fields\":[\"Electricity - total thermal production\",\"Electricity - total tide, wave and hydro production\",\"Electricity - total solar production\"]},\"id\":\"1369\",\"type\":\"Stack\"},{\"attributes\":{\"fields\":[\"Electricity - total thermal production\",\"Electricity - total tide, wave and hydro production\",\"Electricity - total solar production\"]},\"id\":\"1368\",\"type\":\"Stack\"},{\"attributes\":{\"fill_color\":\"#fee08b\",\"hatch_color\":{\"value\":\"#fee08b\"},\"x\":{\"field\":\"year\"},\"y1\":{\"expr\":{\"id\":\"1369\"}},\"y2\":{\"expr\":{\"id\":\"1370\"}}},\"id\":\"1428\",\"type\":\"VArea\"},{\"attributes\":{\"source\":{\"id\":\"1328\"}},\"id\":\"1415\",\"type\":\"CDSView\"},{\"attributes\":{\"fields\":[\"Electricity - total thermal production\",\"Electricity - total tide, wave and hydro production\",\"Electricity - total solar production\",\"Electricity - total nuclear production\",\"Electricity - total wind production\"]},\"id\":\"1372\",\"type\":\"Stack\"},{\"attributes\":{\"coordinates\":null,\"data_source\":{\"id\":\"1328\"},\"glyph\":{\"id\":\"1411\"},\"group\":null,\"hover_glyph\":null,\"muted_glyph\":{\"id\":\"1413\"},\"name\":\"Electricity - total solar production\",\"nonselection_glyph\":{\"id\":\"1412\"},\"view\":{\"id\":\"1415\"}},\"id\":\"1414\",\"type\":\"GlyphRenderer\"},{\"attributes\":{\"fill_alpha\":0.2,\"fill_color\":\"#e6f598\",\"hatch_alpha\":{\"value\":0.2},\"hatch_color\":{\"value\":\"#e6f598\"},\"x\":{\"field\":\"year\"},\"y1\":{\"expr\":{\"id\":\"1367\"}},\"y2\":{\"expr\":{\"id\":\"1368\"}}},\"id\":\"1413\",\"type\":\"VArea\"},{\"attributes\":{\"fill_alpha\":0.2,\"fill_color\":\"#3288bd\",\"hatch_alpha\":{\"value\":0.2},\"hatch_color\":{\"value\":\"#3288bd\"},\"x\":{\"field\":\"year\"},\"y1\":{\"expr\":{\"id\":\"1363\"}},\"y2\":{\"expr\":{\"id\":\"1364\"}}},\"id\":\"1378\",\"type\":\"VArea\"},{\"attributes\":{\"fields\":[\"Electricity - total thermal production\",\"Electricity - total tide, wave and hydro production\",\"Electricity - total solar production\",\"Electricity - total nuclear production\"]},\"id\":\"1371\",\"type\":\"Stack\"},{\"attributes\":{\"fill_color\":\"#fc8d59\",\"hatch_color\":{\"value\":\"#fc8d59\"},\"x\":{\"field\":\"year\"},\"y1\":{\"expr\":{\"id\":\"1371\"}},\"y2\":{\"expr\":{\"id\":\"1372\"}}},\"id\":\"1445\",\"type\":\"VArea\"},{\"attributes\":{\"line_alpha\":0.1,\"x\":{\"field\":\"year\"},\"y\":{\"expr\":{\"id\":\"1478\"}}},\"id\":\"1486\",\"type\":\"Line\"},{\"attributes\":{\"label\":{\"value\":\"Electricity - total wind production\"},\"renderers\":[{\"id\":\"1448\"}]},\"id\":\"1460\",\"type\":\"LegendItem\"},{\"attributes\":{\"fields\":[\"Electricity - total thermal production\",\"Electricity - total tide, wave and hydro production\",\"Electricity - total solar production\",\"Electricity - total nuclear production\"]},\"id\":\"1370\",\"type\":\"Stack\"},{\"attributes\":{\"source\":{\"id\":\"1328\"}},\"id\":\"1398\",\"type\":\"CDSView\"},{\"attributes\":{\"coordinates\":null,\"data_source\":{\"id\":\"1328\"},\"glyph\":{\"id\":\"1485\"},\"group\":null,\"hover_glyph\":null,\"muted_glyph\":{\"id\":\"1487\"},\"name\":\"Electricity - total thermal production\",\"nonselection_glyph\":{\"id\":\"1486\"},\"view\":{\"id\":\"1489\"}},\"id\":\"1488\",\"type\":\"GlyphRenderer\"},{\"attributes\":{\"fill_alpha\":0.1,\"fill_color\":\"#fc8d59\",\"hatch_alpha\":{\"value\":0.1},\"hatch_color\":{\"value\":\"#fc8d59\"},\"x\":{\"field\":\"year\"},\"y1\":{\"expr\":{\"id\":\"1371\"}},\"y2\":{\"expr\":{\"id\":\"1372\"}}},\"id\":\"1446\",\"type\":\"VArea\"},{\"attributes\":{\"fields\":[\"Electricity - total thermal production\",\"Electricity - total tide, wave and hydro production\"]},\"id\":\"1367\",\"type\":\"Stack\"},{\"attributes\":{\"fill_alpha\":0.2,\"fill_color\":\"#fc8d59\",\"hatch_alpha\":{\"value\":0.2},\"hatch_color\":{\"value\":\"#fc8d59\"},\"x\":{\"field\":\"year\"},\"y1\":{\"expr\":{\"id\":\"1371\"}},\"y2\":{\"expr\":{\"id\":\"1372\"}}},\"id\":\"1447\",\"type\":\"VArea\"},{\"attributes\":{\"coordinates\":null,\"data_source\":{\"id\":\"1328\"},\"glyph\":{\"id\":\"1445\"},\"group\":null,\"hover_glyph\":null,\"muted_glyph\":{\"id\":\"1447\"},\"name\":\"Electricity - total wind production\",\"nonselection_glyph\":{\"id\":\"1446\"},\"view\":{\"id\":\"1449\"}},\"id\":\"1448\",\"type\":\"GlyphRenderer\"},{\"attributes\":{\"source\":{\"id\":\"1328\"}},\"id\":\"1449\",\"type\":\"CDSView\"},{\"attributes\":{},\"id\":\"1389\",\"type\":\"Selection\"},{\"attributes\":{\"fill_color\":\"#3288bd\",\"hatch_color\":{\"value\":\"#3288bd\"},\"x\":{\"field\":\"year\"},\"y1\":{\"expr\":{\"id\":\"1363\"}},\"y2\":{\"expr\":{\"id\":\"1364\"}}},\"id\":\"1376\",\"type\":\"VArea\"},{\"attributes\":{},\"id\":\"1388\",\"type\":\"UnionRenderers\"},{\"attributes\":{\"fields\":[\"Electricity - total thermal production\",\"Electricity - total tide, wave and hydro production\",\"Electricity - total solar production\",\"Electricity - total nuclear production\",\"Electricity - total wind production\"]},\"id\":\"1373\",\"type\":\"Stack\"},{\"attributes\":{\"fields\":[\"Electricity - total thermal production\",\"Electricity - total tide, wave and hydro production\",\"Electricity - total solar production\",\"Electricity - total nuclear production\",\"Electricity - total wind production\",\"Electricity - total geothermal production\"]},\"id\":\"1374\",\"type\":\"Stack\"},{\"attributes\":{\"fields\":[\"Electricity - total thermal production\"]},\"id\":\"1364\",\"type\":\"Stack\"},{\"attributes\":{\"fill_alpha\":0.1,\"fill_color\":\"#3288bd\",\"hatch_alpha\":{\"value\":0.1},\"hatch_color\":{\"value\":\"#3288bd\"},\"x\":{\"field\":\"year\"},\"y1\":{\"expr\":{\"id\":\"1363\"}},\"y2\":{\"expr\":{\"id\":\"1364\"}}},\"id\":\"1377\",\"type\":\"VArea\"},{\"attributes\":{\"fill_color\":\"#e6f598\",\"hatch_color\":{\"value\":\"#e6f598\"},\"x\":{\"field\":\"year\"},\"y1\":{\"expr\":{\"id\":\"1367\"}},\"y2\":{\"expr\":{\"id\":\"1368\"}}},\"id\":\"1411\",\"type\":\"VArea\"},{\"attributes\":{\"label\":{\"value\":\"Electricity - total solar production\"},\"renderers\":[{\"id\":\"1414\"}]},\"id\":\"1426\",\"type\":\"LegendItem\"},{\"attributes\":{\"line_alpha\":0.2,\"x\":{\"field\":\"year\"},\"y\":{\"expr\":{\"id\":\"1478\"}}},\"id\":\"1487\",\"type\":\"Line\"},{\"attributes\":{\"fill_alpha\":0.1,\"fill_color\":\"#e6f598\",\"hatch_alpha\":{\"value\":0.1},\"hatch_color\":{\"value\":\"#e6f598\"},\"x\":{\"field\":\"year\"},\"y1\":{\"expr\":{\"id\":\"1367\"}},\"y2\":{\"expr\":{\"id\":\"1368\"}}},\"id\":\"1412\",\"type\":\"VArea\"},{\"attributes\":{\"coordinates\":null,\"data_source\":{\"id\":\"1328\"},\"glyph\":{\"id\":\"1394\"},\"group\":null,\"hover_glyph\":null,\"muted_glyph\":{\"id\":\"1396\"},\"name\":\"Electricity - total tide, wave and hydro production\",\"nonselection_glyph\":{\"id\":\"1395\"},\"view\":{\"id\":\"1398\"}},\"id\":\"1397\",\"type\":\"GlyphRenderer\"},{\"attributes\":{\"fields\":[]},\"id\":\"1363\",\"type\":\"Stack\"},{\"attributes\":{\"bottom_units\":\"screen\",\"coordinates\":null,\"fill_alpha\":0.5,\"fill_color\":\"lightgrey\",\"group\":null,\"left_units\":\"screen\",\"level\":\"overlay\",\"line_alpha\":1.0,\"line_color\":\"black\",\"line_dash\":[4,4],\"line_width\":2,\"right_units\":\"screen\",\"syncable\":false,\"top_units\":\"screen\"},\"id\":\"1355\",\"type\":\"BoxAnnotation\"},{\"attributes\":{\"fill_alpha\":0.2,\"fill_color\":\"#99d594\",\"hatch_alpha\":{\"value\":0.2},\"hatch_color\":{\"value\":\"#99d594\"},\"x\":{\"field\":\"year\"},\"y1\":{\"expr\":{\"id\":\"1365\"}},\"y2\":{\"expr\":{\"id\":\"1366\"}}},\"id\":\"1396\",\"type\":\"VArea\"},{\"attributes\":{\"fill_alpha\":0.2,\"fill_color\":\"#d53e4f\",\"hatch_alpha\":{\"value\":0.2},\"hatch_color\":{\"value\":\"#d53e4f\"},\"x\":{\"field\":\"year\"},\"y1\":{\"expr\":{\"id\":\"1373\"}},\"y2\":{\"expr\":{\"id\":\"1374\"}}},\"id\":\"1464\",\"type\":\"VArea\"},{\"attributes\":{\"fill_color\":\"#d53e4f\",\"hatch_color\":{\"value\":\"#d53e4f\"},\"x\":{\"field\":\"year\"},\"y1\":{\"expr\":{\"id\":\"1373\"}},\"y2\":{\"expr\":{\"id\":\"1374\"}}},\"id\":\"1462\",\"type\":\"VArea\"},{\"attributes\":{\"tools\":[{\"id\":\"1349\"},{\"id\":\"1350\"},{\"id\":\"1351\"},{\"id\":\"1352\"},{\"id\":\"1353\"},{\"id\":\"1354\"},{\"id\":\"1537\"}]},\"id\":\"1356\",\"type\":\"Toolbar\"},{\"attributes\":{\"coordinates\":null,\"data_source\":{\"id\":\"1328\"},\"glyph\":{\"id\":\"1462\"},\"group\":null,\"hover_glyph\":null,\"muted_glyph\":{\"id\":\"1464\"},\"name\":\"Electricity - total geothermal production\",\"nonselection_glyph\":{\"id\":\"1463\"},\"view\":{\"id\":\"1466\"}},\"id\":\"1465\",\"type\":\"GlyphRenderer\"},{\"attributes\":{\"fields\":[\"Electricity - total thermal production\"]},\"id\":\"1365\",\"type\":\"Stack\"},{\"attributes\":{\"fill_alpha\":0.1,\"fill_color\":\"#99d594\",\"hatch_alpha\":{\"value\":0.1},\"hatch_color\":{\"value\":\"#99d594\"},\"x\":{\"field\":\"year\"},\"y1\":{\"expr\":{\"id\":\"1365\"}},\"y2\":{\"expr\":{\"id\":\"1366\"}}},\"id\":\"1395\",\"type\":\"VArea\"},{\"attributes\":{\"fill_alpha\":0.1,\"fill_color\":\"#d53e4f\",\"hatch_alpha\":{\"value\":0.1},\"hatch_color\":{\"value\":\"#d53e4f\"},\"x\":{\"field\":\"year\"},\"y1\":{\"expr\":{\"id\":\"1373\"}},\"y2\":{\"expr\":{\"id\":\"1374\"}}},\"id\":\"1463\",\"type\":\"VArea\"},{\"attributes\":{\"label\":{\"value\":\"Electricity - total tide, wave and hydro production\"},\"renderers\":[{\"id\":\"1397\"}]},\"id\":\"1409\",\"type\":\"LegendItem\"}],\"root_ids\":[\"1330\"]},\"title\":\"Bokeh Application\",\"version\":\"2.4.2\"}};\n  const render_items = [{\"docid\":\"ebd8e99a-8c58-488e-8050-eb49d6911ec8\",\"root_ids\":[\"1330\"],\"roots\":{\"1330\":\"1939911e-39b4-45d5-b782-0e365094c926\"}}];\n  root.Bokeh.embed.embed_items_notebook(docs_json, render_items);\n\n  }\n  if (root.Bokeh !== undefined) {\n    embed_document(root);\n  } else {\n    let attempts = 0;\n    const timer = setInterval(function(root) {\n      if (root.Bokeh !== undefined) {\n        clearInterval(timer);\n        embed_document(root);\n      } else {\n        attempts++;\n        if (attempts > 100) {\n          clearInterval(timer);\n          console.log(\"Bokeh: ERROR: Unable to run BokehJS code because BokehJS library is missing\");\n        }\n      }\n    }, 10, root)\n  }\n})(window);",
      "application/vnd.bokehjs_exec.v0+json": ""
     },
     "metadata": {
      "application/vnd.bokehjs_exec.v0+json": {
       "id": "1330"
      }
     },
     "output_type": "display_data"
    }
   ],
   "source": [
    "_production_structure_for_world(df_f)"
   ]
  },
  {
   "cell_type": "code",
   "execution_count": 15,
   "metadata": {},
   "outputs": [],
   "source": [
    "def _perc_stats_for_world(\n",
    "       data: pd.DataFrame,\n",
    "       ) -> pd.DataFrame:\n",
    "       \"\"\" Return percentage share of each sector in production for the world \n",
    "        Working at final_version.csv file \n",
    "        \"\"\"\n",
    "       import seaborn as sns\n",
    "       from bokeh.layouts import gridplot\n",
    "       from bokeh.io import output_notebook, show, reset_output\n",
    "       from bokeh.plotting import figure\n",
    "       from bokeh.models import HoverTool, ColumnDataSource, CDSView, BooleanFilter, Legend\n",
    "       from bokeh.palettes import Spectral\n",
    "       Reverse_Spectral= Spectral.copy()\n",
    "\n",
    "       source_list = ['Electricity - Gross production',\n",
    "              'Electricity - total thermal production',\n",
    "              'Electricity - total tide, wave and hydro production',\n",
    "              'Electricity - total solar production',\n",
    "              'Electricity - total nuclear production',\n",
    "              'Electricity - total wind production',\n",
    "              'Electricity - total geothermal production']\n",
    "       df_fp = data.loc[(data.commodity_transaction.isin(source_list))]\n",
    "\n",
    "       total_by_source_perc = pd.pivot_table(df_fp , values = 'new_quantity', index=['year'], columns =['commodity_transaction'], aggfunc = ('sum'), fill_value=0).reset_index()\n",
    "\n",
    "       names = ['Electricity - total thermal production',\n",
    "              'Electricity - total tide, wave and hydro production',\n",
    "              'Electricity - total solar production',\n",
    "              'Electricity - total nuclear production',\n",
    "              'Electricity - total wind production',\n",
    "              'Electricity - total geothermal production']\n",
    "       nm_gross = ['Gross']\n",
    "\n",
    "       for i in names:\n",
    "              total_by_source_perc[i + ' %'] = (total_by_source_perc[i])*100/(total_by_source_perc[names].sum(axis=1))\n",
    "       \n",
    "       total_by_source_perc = total_by_source_perc.drop(['Electricity - total thermal production',\n",
    "              'Electricity - total tide, wave and hydro production',\n",
    "              'Electricity - total solar production',\n",
    "              'Electricity - total nuclear production',\n",
    "              'Electricity - total wind production',\n",
    "              'Electricity - total geothermal production'], axis=1)  \n",
    "\n",
    "       cm = sns.light_palette(\"blue\", as_cmap=True)\n",
    "       a = total_by_source_perc.style.background_gradient(cmap=cm)\n",
    "       \n",
    "       percentage_names = ['Electricity - total thermal production %',\n",
    "                    'Electricity - total tide, wave and hydro production %',\n",
    "                    'Electricity - total solar production %',\n",
    "                    'Electricity - total nuclear production %',\n",
    "                    'Electricity - total wind production %',\n",
    "                    'Electricity - total geothermal production %']\n",
    "       \n",
    "       output_notebook()\n",
    "       source_perc = ColumnDataSource(total_by_source_perc)\n",
    "       subplot3 = figure( title = 'Percentage share of each sector in production for the World',plot_width=900, plot_height=600)\n",
    "       subplot3.vbar_stack(percentage_names,x='year', width=0.5, line_color='black',color= Reverse_Spectral[6],legend_label = percentage_names, source =source_perc)\n",
    "       \n",
    "       tooltips_mix = [\n",
    "       ('year', '@year'),\n",
    "       ('By Source', '@$name{0.00} %'),\n",
    "       ('source','$name')\n",
    "       ]\n",
    "       subplot3.add_layout(subplot3.legend[0], 'right')\n",
    "       subplot3.add_tools(HoverTool(tooltips = tooltips_mix))\n",
    "       show(subplot3)\n",
    "       \n",
    "       return a"
   ]
  },
  {
   "cell_type": "code",
   "execution_count": 16,
   "metadata": {},
   "outputs": [
    {
     "data": {
      "text/html": [
       "\n",
       "    <div class=\"bk-root\">\n",
       "        <a href=\"https://bokeh.org\" target=\"_blank\" class=\"bk-logo bk-logo-small bk-logo-notebook\"></a>\n",
       "        <span id=\"1618\">Loading BokehJS ...</span>\n",
       "    </div>"
      ]
     },
     "metadata": {},
     "output_type": "display_data"
    },
    {
     "data": {
      "application/javascript": "\n(function(root) {\n  function now() {\n    return new Date();\n  }\n\n  const force = true;\n\n  if (typeof root._bokeh_onload_callbacks === \"undefined\" || force === true) {\n    root._bokeh_onload_callbacks = [];\n    root._bokeh_is_loading = undefined;\n  }\n\n  const JS_MIME_TYPE = 'application/javascript';\n  const HTML_MIME_TYPE = 'text/html';\n  const EXEC_MIME_TYPE = 'application/vnd.bokehjs_exec.v0+json';\n  const CLASS_NAME = 'output_bokeh rendered_html';\n\n  /**\n   * Render data to the DOM node\n   */\n  function render(props, node) {\n    const script = document.createElement(\"script\");\n    node.appendChild(script);\n  }\n\n  /**\n   * Handle when an output is cleared or removed\n   */\n  function handleClearOutput(event, handle) {\n    const cell = handle.cell;\n\n    const id = cell.output_area._bokeh_element_id;\n    const server_id = cell.output_area._bokeh_server_id;\n    // Clean up Bokeh references\n    if (id != null && id in Bokeh.index) {\n      Bokeh.index[id].model.document.clear();\n      delete Bokeh.index[id];\n    }\n\n    if (server_id !== undefined) {\n      // Clean up Bokeh references\n      const cmd_clean = \"from bokeh.io.state import curstate; print(curstate().uuid_to_server['\" + server_id + \"'].get_sessions()[0].document.roots[0]._id)\";\n      cell.notebook.kernel.execute(cmd_clean, {\n        iopub: {\n          output: function(msg) {\n            const id = msg.content.text.trim();\n            if (id in Bokeh.index) {\n              Bokeh.index[id].model.document.clear();\n              delete Bokeh.index[id];\n            }\n          }\n        }\n      });\n      // Destroy server and session\n      const cmd_destroy = \"import bokeh.io.notebook as ion; ion.destroy_server('\" + server_id + \"')\";\n      cell.notebook.kernel.execute(cmd_destroy);\n    }\n  }\n\n  /**\n   * Handle when a new output is added\n   */\n  function handleAddOutput(event, handle) {\n    const output_area = handle.output_area;\n    const output = handle.output;\n\n    // limit handleAddOutput to display_data with EXEC_MIME_TYPE content only\n    if ((output.output_type != \"display_data\") || (!Object.prototype.hasOwnProperty.call(output.data, EXEC_MIME_TYPE))) {\n      return\n    }\n\n    const toinsert = output_area.element.find(\".\" + CLASS_NAME.split(' ')[0]);\n\n    if (output.metadata[EXEC_MIME_TYPE][\"id\"] !== undefined) {\n      toinsert[toinsert.length - 1].firstChild.textContent = output.data[JS_MIME_TYPE];\n      // store reference to embed id on output_area\n      output_area._bokeh_element_id = output.metadata[EXEC_MIME_TYPE][\"id\"];\n    }\n    if (output.metadata[EXEC_MIME_TYPE][\"server_id\"] !== undefined) {\n      const bk_div = document.createElement(\"div\");\n      bk_div.innerHTML = output.data[HTML_MIME_TYPE];\n      const script_attrs = bk_div.children[0].attributes;\n      for (let i = 0; i < script_attrs.length; i++) {\n        toinsert[toinsert.length - 1].firstChild.setAttribute(script_attrs[i].name, script_attrs[i].value);\n        toinsert[toinsert.length - 1].firstChild.textContent = bk_div.children[0].textContent\n      }\n      // store reference to server id on output_area\n      output_area._bokeh_server_id = output.metadata[EXEC_MIME_TYPE][\"server_id\"];\n    }\n  }\n\n  function register_renderer(events, OutputArea) {\n\n    function append_mime(data, metadata, element) {\n      // create a DOM node to render to\n      const toinsert = this.create_output_subarea(\n        metadata,\n        CLASS_NAME,\n        EXEC_MIME_TYPE\n      );\n      this.keyboard_manager.register_events(toinsert);\n      // Render to node\n      const props = {data: data, metadata: metadata[EXEC_MIME_TYPE]};\n      render(props, toinsert[toinsert.length - 1]);\n      element.append(toinsert);\n      return toinsert\n    }\n\n    /* Handle when an output is cleared or removed */\n    events.on('clear_output.CodeCell', handleClearOutput);\n    events.on('delete.Cell', handleClearOutput);\n\n    /* Handle when a new output is added */\n    events.on('output_added.OutputArea', handleAddOutput);\n\n    /**\n     * Register the mime type and append_mime function with output_area\n     */\n    OutputArea.prototype.register_mime_type(EXEC_MIME_TYPE, append_mime, {\n      /* Is output safe? */\n      safe: true,\n      /* Index of renderer in `output_area.display_order` */\n      index: 0\n    });\n  }\n\n  // register the mime type if in Jupyter Notebook environment and previously unregistered\n  if (root.Jupyter !== undefined) {\n    const events = require('base/js/events');\n    const OutputArea = require('notebook/js/outputarea').OutputArea;\n\n    if (OutputArea.prototype.mime_types().indexOf(EXEC_MIME_TYPE) == -1) {\n      register_renderer(events, OutputArea);\n    }\n  }\n\n  \n  if (typeof (root._bokeh_timeout) === \"undefined\" || force === true) {\n    root._bokeh_timeout = Date.now() + 5000;\n    root._bokeh_failed_load = false;\n  }\n\n  const NB_LOAD_WARNING = {'data': {'text/html':\n     \"<div style='background-color: #fdd'>\\n\"+\n     \"<p>\\n\"+\n     \"BokehJS does not appear to have successfully loaded. If loading BokehJS from CDN, this \\n\"+\n     \"may be due to a slow or bad network connection. Possible fixes:\\n\"+\n     \"</p>\\n\"+\n     \"<ul>\\n\"+\n     \"<li>re-rerun `output_notebook()` to attempt to load from CDN again, or</li>\\n\"+\n     \"<li>use INLINE resources instead, as so:</li>\\n\"+\n     \"</ul>\\n\"+\n     \"<code>\\n\"+\n     \"from bokeh.resources import INLINE\\n\"+\n     \"output_notebook(resources=INLINE)\\n\"+\n     \"</code>\\n\"+\n     \"</div>\"}};\n\n  function display_loaded() {\n    const el = document.getElementById(\"1618\");\n    if (el != null) {\n      el.textContent = \"BokehJS is loading...\";\n    }\n    if (root.Bokeh !== undefined) {\n      if (el != null) {\n        el.textContent = \"BokehJS \" + root.Bokeh.version + \" successfully loaded.\";\n      }\n    } else if (Date.now() < root._bokeh_timeout) {\n      setTimeout(display_loaded, 100)\n    }\n  }\n\n\n  function run_callbacks() {\n    try {\n      root._bokeh_onload_callbacks.forEach(function(callback) {\n        if (callback != null)\n          callback();\n      });\n    } finally {\n      delete root._bokeh_onload_callbacks\n    }\n    console.debug(\"Bokeh: all callbacks have finished\");\n  }\n\n  function load_libs(css_urls, js_urls, callback) {\n    if (css_urls == null) css_urls = [];\n    if (js_urls == null) js_urls = [];\n\n    root._bokeh_onload_callbacks.push(callback);\n    if (root._bokeh_is_loading > 0) {\n      console.debug(\"Bokeh: BokehJS is being loaded, scheduling callback at\", now());\n      return null;\n    }\n    if (js_urls == null || js_urls.length === 0) {\n      run_callbacks();\n      return null;\n    }\n    console.debug(\"Bokeh: BokehJS not loaded, scheduling load and callback at\", now());\n    root._bokeh_is_loading = css_urls.length + js_urls.length;\n\n    function on_load() {\n      root._bokeh_is_loading--;\n      if (root._bokeh_is_loading === 0) {\n        console.debug(\"Bokeh: all BokehJS libraries/stylesheets loaded\");\n        run_callbacks()\n      }\n    }\n\n    function on_error(url) {\n      console.error(\"failed to load \" + url);\n    }\n\n    for (let i = 0; i < css_urls.length; i++) {\n      const url = css_urls[i];\n      const element = document.createElement(\"link\");\n      element.onload = on_load;\n      element.onerror = on_error.bind(null, url);\n      element.rel = \"stylesheet\";\n      element.type = \"text/css\";\n      element.href = url;\n      console.debug(\"Bokeh: injecting link tag for BokehJS stylesheet: \", url);\n      document.body.appendChild(element);\n    }\n\n    for (let i = 0; i < js_urls.length; i++) {\n      const url = js_urls[i];\n      const element = document.createElement('script');\n      element.onload = on_load;\n      element.onerror = on_error.bind(null, url);\n      element.async = false;\n      element.src = url;\n      console.debug(\"Bokeh: injecting script tag for BokehJS library: \", url);\n      document.head.appendChild(element);\n    }\n  };\n\n  function inject_raw_css(css) {\n    const element = document.createElement(\"style\");\n    element.appendChild(document.createTextNode(css));\n    document.body.appendChild(element);\n  }\n\n  \n  const js_urls = [\"https://cdn.bokeh.org/bokeh/release/bokeh-2.4.2.min.js\", \"https://cdn.bokeh.org/bokeh/release/bokeh-gl-2.4.2.min.js\", \"https://cdn.bokeh.org/bokeh/release/bokeh-widgets-2.4.2.min.js\", \"https://cdn.bokeh.org/bokeh/release/bokeh-tables-2.4.2.min.js\", \"https://cdn.bokeh.org/bokeh/release/bokeh-mathjax-2.4.2.min.js\"];\n  const css_urls = [];\n  \n\n  const inline_js = [\n    function(Bokeh) {\n      Bokeh.set_log_level(\"info\");\n    },\n    function(Bokeh) {\n    \n    \n    }\n  ];\n\n  function run_inline_js() {\n    \n    if (root.Bokeh !== undefined || force === true) {\n      \n    for (let i = 0; i < inline_js.length; i++) {\n      inline_js[i].call(root, root.Bokeh);\n    }\n    if (force === true) {\n        display_loaded();\n      }} else if (Date.now() < root._bokeh_timeout) {\n      setTimeout(run_inline_js, 100);\n    } else if (!root._bokeh_failed_load) {\n      console.log(\"Bokeh: BokehJS failed to load within specified timeout.\");\n      root._bokeh_failed_load = true;\n    } else if (force !== true) {\n      const cell = $(document.getElementById(\"1618\")).parents('.cell').data().cell;\n      cell.output_area.append_execute_result(NB_LOAD_WARNING)\n    }\n\n  }\n\n  if (root._bokeh_is_loading === 0) {\n    console.debug(\"Bokeh: BokehJS loaded, going straight to plotting\");\n    run_inline_js();\n  } else {\n    load_libs(css_urls, js_urls, function() {\n      console.debug(\"Bokeh: BokehJS plotting callback run at\", now());\n      run_inline_js();\n    });\n  }\n}(window));",
      "application/vnd.bokehjs_load.v0+json": ""
     },
     "metadata": {},
     "output_type": "display_data"
    },
    {
     "data": {
      "text/html": [
       "\n",
       "\n",
       "\n",
       "\n",
       "\n",
       "\n",
       "  <div class=\"bk-root\" id=\"6c91381e-0967-4d40-9731-bbfca80924ba\" data-root-id=\"1620\"></div>\n"
      ]
     },
     "metadata": {},
     "output_type": "display_data"
    },
    {
     "data": {
      "application/javascript": "(function(root) {\n  function embed_document(root) {\n    \n  const docs_json = {\"b1e17529-de09-447e-b9fd-6ab90762db7c\":{\"defs\":[],\"roots\":{\"references\":[{\"attributes\":{\"below\":[{\"id\":\"1631\"}],\"center\":[{\"id\":\"1634\"},{\"id\":\"1638\"},{\"id\":\"1681\"}],\"left\":[{\"id\":\"1635\"}],\"renderers\":[{\"id\":\"1669\"},{\"id\":\"1687\"},{\"id\":\"1704\"},{\"id\":\"1721\"},{\"id\":\"1738\"},{\"id\":\"1755\"}],\"right\":[{\"id\":\"1681\"}],\"title\":{\"id\":\"1621\"},\"toolbar\":{\"id\":\"1646\"},\"width\":900,\"x_range\":{\"id\":\"1623\"},\"x_scale\":{\"id\":\"1627\"},\"y_range\":{\"id\":\"1625\"},\"y_scale\":{\"id\":\"1629\"}},\"id\":\"1620\",\"subtype\":\"Figure\",\"type\":\"Plot\"},{\"attributes\":{},\"id\":\"1640\",\"type\":\"WheelZoomTool\"},{\"attributes\":{\"bottom\":{\"expr\":{\"id\":\"1653\"}},\"fill_color\":{\"value\":\"#3288bd\"},\"hatch_color\":{\"value\":\"#3288bd\"},\"top\":{\"expr\":{\"id\":\"1654\"}},\"width\":{\"value\":0.5},\"x\":{\"field\":\"year\"}},\"id\":\"1666\",\"type\":\"VBar\"},{\"attributes\":{},\"id\":\"1632\",\"type\":\"BasicTicker\"},{\"attributes\":{\"fields\":[\"Electricity - total thermal production %\",\"Electricity - total tide, wave and hydro production %\",\"Electricity - total solar production %\",\"Electricity - total nuclear production %\"]},\"id\":\"1661\",\"type\":\"Stack\"},{\"attributes\":{\"coordinates\":null,\"data_source\":{\"id\":\"1619\"},\"glyph\":{\"id\":\"1666\"},\"group\":null,\"hover_glyph\":null,\"muted_glyph\":{\"id\":\"1668\"},\"name\":\"Electricity - total thermal production %\",\"nonselection_glyph\":{\"id\":\"1667\"},\"view\":{\"id\":\"1670\"}},\"id\":\"1669\",\"type\":\"GlyphRenderer\"},{\"attributes\":{\"bottom\":{\"expr\":{\"id\":\"1653\"}},\"fill_alpha\":{\"value\":0.1},\"fill_color\":{\"value\":\"#3288bd\"},\"hatch_alpha\":{\"value\":0.1},\"hatch_color\":{\"value\":\"#3288bd\"},\"line_alpha\":{\"value\":0.1},\"top\":{\"expr\":{\"id\":\"1654\"}},\"width\":{\"value\":0.5},\"x\":{\"field\":\"year\"}},\"id\":\"1667\",\"type\":\"VBar\"},{\"attributes\":{\"source\":{\"id\":\"1619\"}},\"id\":\"1670\",\"type\":\"CDSView\"},{\"attributes\":{},\"id\":\"1639\",\"type\":\"PanTool\"},{\"attributes\":{},\"id\":\"1673\",\"type\":\"BasicTickFormatter\"},{\"attributes\":{\"bottom_units\":\"screen\",\"coordinates\":null,\"fill_alpha\":0.5,\"fill_color\":\"lightgrey\",\"group\":null,\"left_units\":\"screen\",\"level\":\"overlay\",\"line_alpha\":1.0,\"line_color\":\"black\",\"line_dash\":[4,4],\"line_width\":2,\"right_units\":\"screen\",\"syncable\":false,\"top_units\":\"screen\"},\"id\":\"1645\",\"type\":\"BoxAnnotation\"},{\"attributes\":{},\"id\":\"1674\",\"type\":\"AllLabels\"},{\"attributes\":{\"axis\":{\"id\":\"1631\"},\"coordinates\":null,\"group\":null,\"ticker\":null},\"id\":\"1634\",\"type\":\"Grid\"},{\"attributes\":{\"bottom\":{\"expr\":{\"id\":\"1661\"}},\"fill_color\":{\"value\":\"#fc8d59\"},\"hatch_color\":{\"value\":\"#fc8d59\"},\"top\":{\"expr\":{\"id\":\"1662\"}},\"width\":{\"value\":0.5},\"x\":{\"field\":\"year\"}},\"id\":\"1735\",\"type\":\"VBar\"},{\"attributes\":{},\"id\":\"1636\",\"type\":\"BasicTicker\"},{\"attributes\":{\"fields\":[\"Electricity - total thermal production %\",\"Electricity - total tide, wave and hydro production %\"]},\"id\":\"1656\",\"type\":\"Stack\"},{\"attributes\":{\"bottom\":{\"expr\":{\"id\":\"1659\"}},\"fill_alpha\":{\"value\":0.1},\"fill_color\":{\"value\":\"#fee08b\"},\"hatch_alpha\":{\"value\":0.1},\"hatch_color\":{\"value\":\"#fee08b\"},\"line_alpha\":{\"value\":0.1},\"top\":{\"expr\":{\"id\":\"1660\"}},\"width\":{\"value\":0.5},\"x\":{\"field\":\"year\"}},\"id\":\"1719\",\"type\":\"VBar\"},{\"attributes\":{\"bottom\":{\"expr\":{\"id\":\"1659\"}},\"fill_alpha\":{\"value\":0.2},\"fill_color\":{\"value\":\"#fee08b\"},\"hatch_alpha\":{\"value\":0.2},\"hatch_color\":{\"value\":\"#fee08b\"},\"line_alpha\":{\"value\":0.2},\"top\":{\"expr\":{\"id\":\"1660\"}},\"width\":{\"value\":0.5},\"x\":{\"field\":\"year\"}},\"id\":\"1720\",\"type\":\"VBar\"},{\"attributes\":{\"source\":{\"id\":\"1619\"}},\"id\":\"1722\",\"type\":\"CDSView\"},{\"attributes\":{\"fields\":[\"Electricity - total thermal production %\",\"Electricity - total tide, wave and hydro production %\",\"Electricity - total solar production %\",\"Electricity - total nuclear production %\",\"Electricity - total wind production %\"]},\"id\":\"1663\",\"type\":\"Stack\"},{\"attributes\":{},\"id\":\"1678\",\"type\":\"UnionRenderers\"},{\"attributes\":{\"coordinates\":null,\"formatter\":{\"id\":\"1673\"},\"group\":null,\"major_label_policy\":{\"id\":\"1674\"},\"ticker\":{\"id\":\"1636\"}},\"id\":\"1635\",\"type\":\"LinearAxis\"},{\"attributes\":{\"coordinates\":null,\"formatter\":{\"id\":\"1676\"},\"group\":null,\"major_label_policy\":{\"id\":\"1677\"},\"ticker\":{\"id\":\"1632\"}},\"id\":\"1631\",\"type\":\"LinearAxis\"},{\"attributes\":{},\"id\":\"1642\",\"type\":\"SaveTool\"},{\"attributes\":{\"label\":{\"value\":\"Electricity - total nuclear production %\"},\"renderers\":[{\"id\":\"1721\"}]},\"id\":\"1733\",\"type\":\"LegendItem\"},{\"attributes\":{},\"id\":\"1676\",\"type\":\"BasicTickFormatter\"},{\"attributes\":{\"coordinates\":null,\"group\":null,\"items\":[{\"id\":\"1682\"},{\"id\":\"1699\"},{\"id\":\"1716\"},{\"id\":\"1733\"},{\"id\":\"1750\"},{\"id\":\"1767\"}]},\"id\":\"1681\",\"type\":\"Legend\"},{\"attributes\":{\"fields\":[\"Electricity - total thermal production %\"]},\"id\":\"1655\",\"type\":\"Stack\"},{\"attributes\":{\"fields\":[\"Electricity - total thermal production %\",\"Electricity - total tide, wave and hydro production %\",\"Electricity - total solar production %\",\"Electricity - total nuclear production %\",\"Electricity - total wind production %\"]},\"id\":\"1662\",\"type\":\"Stack\"},{\"attributes\":{\"label\":{\"value\":\"Electricity - total thermal production %\"},\"renderers\":[{\"id\":\"1669\"}]},\"id\":\"1682\",\"type\":\"LegendItem\"},{\"attributes\":{},\"id\":\"1679\",\"type\":\"Selection\"},{\"attributes\":{\"axis\":{\"id\":\"1635\"},\"coordinates\":null,\"dimension\":1,\"group\":null,\"ticker\":null},\"id\":\"1638\",\"type\":\"Grid\"},{\"attributes\":{\"fields\":[\"Electricity - total thermal production %\",\"Electricity - total tide, wave and hydro production %\"]},\"id\":\"1657\",\"type\":\"Stack\"},{\"attributes\":{\"overlay\":{\"id\":\"1645\"}},\"id\":\"1641\",\"type\":\"BoxZoomTool\"},{\"attributes\":{\"bottom\":{\"expr\":{\"id\":\"1663\"}},\"fill_color\":{\"value\":\"#d53e4f\"},\"hatch_color\":{\"value\":\"#d53e4f\"},\"top\":{\"expr\":{\"id\":\"1664\"}},\"width\":{\"value\":0.5},\"x\":{\"field\":\"year\"}},\"id\":\"1752\",\"type\":\"VBar\"},{\"attributes\":{\"bottom\":{\"expr\":{\"id\":\"1653\"}},\"fill_alpha\":{\"value\":0.2},\"fill_color\":{\"value\":\"#3288bd\"},\"hatch_alpha\":{\"value\":0.2},\"hatch_color\":{\"value\":\"#3288bd\"},\"line_alpha\":{\"value\":0.2},\"top\":{\"expr\":{\"id\":\"1654\"}},\"width\":{\"value\":0.5},\"x\":{\"field\":\"year\"}},\"id\":\"1668\",\"type\":\"VBar\"},{\"attributes\":{\"bottom\":{\"expr\":{\"id\":\"1661\"}},\"fill_alpha\":{\"value\":0.1},\"fill_color\":{\"value\":\"#fc8d59\"},\"hatch_alpha\":{\"value\":0.1},\"hatch_color\":{\"value\":\"#fc8d59\"},\"line_alpha\":{\"value\":0.1},\"top\":{\"expr\":{\"id\":\"1662\"}},\"width\":{\"value\":0.5},\"x\":{\"field\":\"year\"}},\"id\":\"1736\",\"type\":\"VBar\"},{\"attributes\":{\"data\":{\"Electricity - Gross production\":{\"__ndarray__\":\"m8k32w0ryUDJxoMtYAbKQBxiF6Cn3MpAzhDY5ktty0CmuKrsTBHMQHw705Wd6MxAof5pWQtEzkCTQDnA/nbOQDUomgeTq89AtJw6RQlr0ECtKMpKdi7RQGA00KHF7dFASBVq8hqg0kDMuW8QR3DTQGqKW+CewdNAZNCm9q+900C0DovEFwzVQNUwnXlup9VAicmuDGkm1kDFmC+4VufWQM4xY+yOWNdA\",\"dtype\":\"float64\",\"order\":\"little\",\"shape\":[21]},\"Electricity - total geothermal production %\":{\"__ndarray__\":\"q7wiekMx1D/kBsAGDDDTP/JwXanGrNM/yPE28Uxi0z+gRHC6HiTUPxCNH9INANU/8ik5UCeE1D8KetiPyR3VP4YcT5OdmtQ/PNiACCt91D+DUMhmgWnUP/DwlMHsWNQ/dC9AIN0T1D9yxopDjibUPx7AGts7n9Q/mi9s2elf1T+Xl0+QUl7UP0g9OpxvG9Q/juNA5hHs0z/mj3uMqprTP4neWw8ghdQ/\",\"dtype\":\"float64\",\"order\":\"little\",\"shape\":[21]},\"Electricity - total nuclear production %\":{\"__ndarray__\":\"q9I2LdJoMUCIrXYWJ4ExQKTfgDG+kzFACz5DWfkKMUDzqbiccgQxQNRf6WT1GTFAbEXfvoq1MED/9FboAOkwQN7891j2aTBA+AQKEJRdL0Al3Hd2jCUvQKw5o/opLS5Aq3GTFMNKLUBSEFtlh1grQMBSi8FoDitA7wJB0ka+KkAFns1xW6ApQP0BuQ5vUydAxIoEnzu7JUDCwdfCbSglQCyYVs3cOyVA\",\"dtype\":\"float64\",\"order\":\"little\",\"shape\":[21]},\"Electricity - total solar production %\":{\"__ndarray__\":\"R0O96flWfT/ZXzYlrNl9Pxm0iY3bCYA/AoE0VbUegT/I7vqxPaGAP16qEgHq0X0/vSYD+jZ7gz+DL/FkoDCHP2SLJfkh94o/jAxqsn4ijz+gYr88jPOSPzGYZjjB/5g/cSFvaAwuoD/ZI1EvSJKkP6u2w6V75q8/NPBW5kMluj+KIuCsOr7DP8RPAhUuKdI/0COEcuLF2j8oU1+H9KTiP/qkRX34q+g/\",\"dtype\":\"float64\",\"order\":\"little\",\"shape\":[21]},\"Electricity - total thermal production %\":{\"__ndarray__\":\"KrJ/bTGyT0CwZFGI4X5PQIk5TyC9mk9A1hLRwdjxT0AMl7+tVQ9QQFS8cUkkJFBABN3yEqVSUEAfiVnOq2VQQAyMvgSjjVBAlsuKVGDZUEDy/wnn1clQQLwpAA265FBAAVRu5Lr7UEBH42dcj1BRQH5e5+LDMlFAgRz8TnwaUUDu3FXB/y9RQCwyg0PxblFAiWyiDdlkUUC0KMUcg05RQI2WLcw+KlFA\",\"dtype\":\"float64\",\"order\":\"little\",\"shape\":[21]},\"Electricity - total tide, wave and hydro production %\":{\"__ndarray__\":\"rcJg/cvRMkD3vTTFYCMzQP3nXH621DJA1ffcKCqsMkBN1LHKnE8yQBQ5LGmo2jFA3xzk+ZN4MUAFpGy9juswQOiuw0EOuDBAr9nc4gU2MEBDIBNgRHcwQG6HdStQcTBA9iv60pJmMECdvg//jMUvQP738hbZRjBAD/5cTyqKMEA7T+Qk02EwQD3a4wVWCzBAak1w0EOGMECd9u5sm4wwQFYOHfKnqzBA\",\"dtype\":\"float64\",\"order\":\"little\",\"shape\":[21]},\"Electricity - total wind production %\":{\"__ndarray__\":\"Lg2/w/nIrD8aQO+okS6uP+hSnmy5XLE/bRcizu99tT80IyX3PvW7P1E1cx3becI/cU2CqHtmyT+jOSFF87HOP766cO99adQ/PDWpvnH11z/3Maj3tw7eP1TsePzfseE/g1yyyTKX5T/096bgn3rqP8d8qfYsR/A/l2xgBMLR8z9z9ibUpVD5Px+e3t6uYf8/pjcFwZJvAkCy5hyBdwwGQNp1zZLRrwdA\",\"dtype\":\"float64\",\"order\":\"little\",\"shape\":[21]},\"index\":[0,1,2,3,4,5,6,7,8,9,10,11,12,13,14,15,16,17,18,19,20],\"year\":[1994,1995,1996,1997,1998,1999,2000,2001,2002,2003,2004,2005,2006,2007,2008,2009,2010,2011,2012,2013,2014]},\"selected\":{\"id\":\"1679\"},\"selection_policy\":{\"id\":\"1678\"}},\"id\":\"1619\",\"type\":\"ColumnDataSource\"},{\"attributes\":{\"bottom\":{\"expr\":{\"id\":\"1661\"}},\"fill_alpha\":{\"value\":0.2},\"fill_color\":{\"value\":\"#fc8d59\"},\"hatch_alpha\":{\"value\":0.2},\"hatch_color\":{\"value\":\"#fc8d59\"},\"line_alpha\":{\"value\":0.2},\"top\":{\"expr\":{\"id\":\"1662\"}},\"width\":{\"value\":0.5},\"x\":{\"field\":\"year\"}},\"id\":\"1737\",\"type\":\"VBar\"},{\"attributes\":{\"coordinates\":null,\"data_source\":{\"id\":\"1619\"},\"glyph\":{\"id\":\"1735\"},\"group\":null,\"hover_glyph\":null,\"muted_glyph\":{\"id\":\"1737\"},\"name\":\"Electricity - total wind production %\",\"nonselection_glyph\":{\"id\":\"1736\"},\"view\":{\"id\":\"1739\"}},\"id\":\"1738\",\"type\":\"GlyphRenderer\"},{\"attributes\":{\"fields\":[\"Electricity - total thermal production %\",\"Electricity - total tide, wave and hydro production %\",\"Electricity - total solar production %\",\"Electricity - total nuclear production %\"]},\"id\":\"1660\",\"type\":\"Stack\"},{\"attributes\":{\"source\":{\"id\":\"1619\"}},\"id\":\"1739\",\"type\":\"CDSView\"},{\"attributes\":{\"fields\":[\"Electricity - total thermal production %\",\"Electricity - total tide, wave and hydro production %\",\"Electricity - total solar production %\"]},\"id\":\"1659\",\"type\":\"Stack\"},{\"attributes\":{\"label\":{\"value\":\"Electricity - total wind production %\"},\"renderers\":[{\"id\":\"1738\"}]},\"id\":\"1750\",\"type\":\"LegendItem\"},{\"attributes\":{\"fields\":[\"Electricity - total thermal production %\",\"Electricity - total tide, wave and hydro production %\",\"Electricity - total solar production %\",\"Electricity - total nuclear production %\",\"Electricity - total wind production %\",\"Electricity - total geothermal production %\"]},\"id\":\"1664\",\"type\":\"Stack\"},{\"attributes\":{},\"id\":\"1643\",\"type\":\"ResetTool\"},{\"attributes\":{},\"id\":\"1644\",\"type\":\"HelpTool\"},{\"attributes\":{\"tools\":[{\"id\":\"1639\"},{\"id\":\"1640\"},{\"id\":\"1641\"},{\"id\":\"1642\"},{\"id\":\"1643\"},{\"id\":\"1644\"},{\"id\":\"1768\"}]},\"id\":\"1646\",\"type\":\"Toolbar\"},{\"attributes\":{},\"id\":\"1677\",\"type\":\"AllLabels\"},{\"attributes\":{\"fields\":[\"Electricity - total thermal production %\",\"Electricity - total tide, wave and hydro production %\",\"Electricity - total solar production %\"]},\"id\":\"1658\",\"type\":\"Stack\"},{\"attributes\":{\"bottom\":{\"expr\":{\"id\":\"1655\"}},\"fill_color\":{\"value\":\"#99d594\"},\"hatch_color\":{\"value\":\"#99d594\"},\"top\":{\"expr\":{\"id\":\"1656\"}},\"width\":{\"value\":0.5},\"x\":{\"field\":\"year\"}},\"id\":\"1684\",\"type\":\"VBar\"},{\"attributes\":{},\"id\":\"1625\",\"type\":\"DataRange1d\"},{\"attributes\":{\"bottom\":{\"expr\":{\"id\":\"1655\"}},\"fill_alpha\":{\"value\":0.1},\"fill_color\":{\"value\":\"#99d594\"},\"hatch_alpha\":{\"value\":0.1},\"hatch_color\":{\"value\":\"#99d594\"},\"line_alpha\":{\"value\":0.1},\"top\":{\"expr\":{\"id\":\"1656\"}},\"width\":{\"value\":0.5},\"x\":{\"field\":\"year\"}},\"id\":\"1685\",\"type\":\"VBar\"},{\"attributes\":{\"bottom\":{\"expr\":{\"id\":\"1663\"}},\"fill_alpha\":{\"value\":0.1},\"fill_color\":{\"value\":\"#d53e4f\"},\"hatch_alpha\":{\"value\":0.1},\"hatch_color\":{\"value\":\"#d53e4f\"},\"line_alpha\":{\"value\":0.1},\"top\":{\"expr\":{\"id\":\"1664\"}},\"width\":{\"value\":0.5},\"x\":{\"field\":\"year\"}},\"id\":\"1753\",\"type\":\"VBar\"},{\"attributes\":{\"bottom\":{\"expr\":{\"id\":\"1655\"}},\"fill_alpha\":{\"value\":0.2},\"fill_color\":{\"value\":\"#99d594\"},\"hatch_alpha\":{\"value\":0.2},\"hatch_color\":{\"value\":\"#99d594\"},\"line_alpha\":{\"value\":0.2},\"top\":{\"expr\":{\"id\":\"1656\"}},\"width\":{\"value\":0.5},\"x\":{\"field\":\"year\"}},\"id\":\"1686\",\"type\":\"VBar\"},{\"attributes\":{\"coordinates\":null,\"data_source\":{\"id\":\"1619\"},\"glyph\":{\"id\":\"1684\"},\"group\":null,\"hover_glyph\":null,\"muted_glyph\":{\"id\":\"1686\"},\"name\":\"Electricity - total tide, wave and hydro production %\",\"nonselection_glyph\":{\"id\":\"1685\"},\"view\":{\"id\":\"1688\"}},\"id\":\"1687\",\"type\":\"GlyphRenderer\"},{\"attributes\":{\"bottom\":{\"expr\":{\"id\":\"1663\"}},\"fill_alpha\":{\"value\":0.2},\"fill_color\":{\"value\":\"#d53e4f\"},\"hatch_alpha\":{\"value\":0.2},\"hatch_color\":{\"value\":\"#d53e4f\"},\"line_alpha\":{\"value\":0.2},\"top\":{\"expr\":{\"id\":\"1664\"}},\"width\":{\"value\":0.5},\"x\":{\"field\":\"year\"}},\"id\":\"1754\",\"type\":\"VBar\"},{\"attributes\":{\"coordinates\":null,\"data_source\":{\"id\":\"1619\"},\"glyph\":{\"id\":\"1718\"},\"group\":null,\"hover_glyph\":null,\"muted_glyph\":{\"id\":\"1720\"},\"name\":\"Electricity - total nuclear production %\",\"nonselection_glyph\":{\"id\":\"1719\"},\"view\":{\"id\":\"1722\"}},\"id\":\"1721\",\"type\":\"GlyphRenderer\"},{\"attributes\":{\"coordinates\":null,\"data_source\":{\"id\":\"1619\"},\"glyph\":{\"id\":\"1752\"},\"group\":null,\"hover_glyph\":null,\"muted_glyph\":{\"id\":\"1754\"},\"name\":\"Electricity - total geothermal production %\",\"nonselection_glyph\":{\"id\":\"1753\"},\"view\":{\"id\":\"1756\"}},\"id\":\"1755\",\"type\":\"GlyphRenderer\"},{\"attributes\":{},\"id\":\"1629\",\"type\":\"LinearScale\"},{\"attributes\":{\"source\":{\"id\":\"1619\"}},\"id\":\"1688\",\"type\":\"CDSView\"},{\"attributes\":{\"source\":{\"id\":\"1619\"}},\"id\":\"1756\",\"type\":\"CDSView\"},{\"attributes\":{\"label\":{\"value\":\"Electricity - total tide, wave and hydro production %\"},\"renderers\":[{\"id\":\"1687\"}]},\"id\":\"1699\",\"type\":\"LegendItem\"},{\"attributes\":{\"coordinates\":null,\"group\":null,\"text\":\"Percentage share of each sector in production for the World\"},\"id\":\"1621\",\"type\":\"Title\"},{\"attributes\":{\"label\":{\"value\":\"Electricity - total geothermal production %\"},\"renderers\":[{\"id\":\"1755\"}]},\"id\":\"1767\",\"type\":\"LegendItem\"},{\"attributes\":{\"callback\":null,\"tooltips\":[[\"year\",\"@year\"],[\"By Source\",\"@$name{0.00} %\"],[\"source\",\"$name\"]]},\"id\":\"1768\",\"type\":\"HoverTool\"},{\"attributes\":{},\"id\":\"1623\",\"type\":\"DataRange1d\"},{\"attributes\":{},\"id\":\"1627\",\"type\":\"LinearScale\"},{\"attributes\":{\"fields\":[\"Electricity - total thermal production %\"]},\"id\":\"1654\",\"type\":\"Stack\"},{\"attributes\":{\"bottom\":{\"expr\":{\"id\":\"1657\"}},\"fill_color\":{\"value\":\"#e6f598\"},\"hatch_color\":{\"value\":\"#e6f598\"},\"top\":{\"expr\":{\"id\":\"1658\"}},\"width\":{\"value\":0.5},\"x\":{\"field\":\"year\"}},\"id\":\"1701\",\"type\":\"VBar\"},{\"attributes\":{\"bottom\":{\"expr\":{\"id\":\"1659\"}},\"fill_color\":{\"value\":\"#fee08b\"},\"hatch_color\":{\"value\":\"#fee08b\"},\"top\":{\"expr\":{\"id\":\"1660\"}},\"width\":{\"value\":0.5},\"x\":{\"field\":\"year\"}},\"id\":\"1718\",\"type\":\"VBar\"},{\"attributes\":{\"bottom\":{\"expr\":{\"id\":\"1657\"}},\"fill_alpha\":{\"value\":0.1},\"fill_color\":{\"value\":\"#e6f598\"},\"hatch_alpha\":{\"value\":0.1},\"hatch_color\":{\"value\":\"#e6f598\"},\"line_alpha\":{\"value\":0.1},\"top\":{\"expr\":{\"id\":\"1658\"}},\"width\":{\"value\":0.5},\"x\":{\"field\":\"year\"}},\"id\":\"1702\",\"type\":\"VBar\"},{\"attributes\":{\"bottom\":{\"expr\":{\"id\":\"1657\"}},\"fill_alpha\":{\"value\":0.2},\"fill_color\":{\"value\":\"#e6f598\"},\"hatch_alpha\":{\"value\":0.2},\"hatch_color\":{\"value\":\"#e6f598\"},\"line_alpha\":{\"value\":0.2},\"top\":{\"expr\":{\"id\":\"1658\"}},\"width\":{\"value\":0.5},\"x\":{\"field\":\"year\"}},\"id\":\"1703\",\"type\":\"VBar\"},{\"attributes\":{\"coordinates\":null,\"data_source\":{\"id\":\"1619\"},\"glyph\":{\"id\":\"1701\"},\"group\":null,\"hover_glyph\":null,\"muted_glyph\":{\"id\":\"1703\"},\"name\":\"Electricity - total solar production %\",\"nonselection_glyph\":{\"id\":\"1702\"},\"view\":{\"id\":\"1705\"}},\"id\":\"1704\",\"type\":\"GlyphRenderer\"},{\"attributes\":{\"source\":{\"id\":\"1619\"}},\"id\":\"1705\",\"type\":\"CDSView\"},{\"attributes\":{\"label\":{\"value\":\"Electricity - total solar production %\"},\"renderers\":[{\"id\":\"1704\"}]},\"id\":\"1716\",\"type\":\"LegendItem\"},{\"attributes\":{\"fields\":[]},\"id\":\"1653\",\"type\":\"Stack\"}],\"root_ids\":[\"1620\"]},\"title\":\"Bokeh Application\",\"version\":\"2.4.2\"}};\n  const render_items = [{\"docid\":\"b1e17529-de09-447e-b9fd-6ab90762db7c\",\"root_ids\":[\"1620\"],\"roots\":{\"1620\":\"6c91381e-0967-4d40-9731-bbfca80924ba\"}}];\n  root.Bokeh.embed.embed_items_notebook(docs_json, render_items);\n\n  }\n  if (root.Bokeh !== undefined) {\n    embed_document(root);\n  } else {\n    let attempts = 0;\n    const timer = setInterval(function(root) {\n      if (root.Bokeh !== undefined) {\n        clearInterval(timer);\n        embed_document(root);\n      } else {\n        attempts++;\n        if (attempts > 100) {\n          clearInterval(timer);\n          console.log(\"Bokeh: ERROR: Unable to run BokehJS code because BokehJS library is missing\");\n        }\n      }\n    }, 10, root)\n  }\n})(window);",
      "application/vnd.bokehjs_exec.v0+json": ""
     },
     "metadata": {
      "application/vnd.bokehjs_exec.v0+json": {
       "id": "1620"
      }
     },
     "output_type": "display_data"
    },
    {
     "data": {
      "text/html": [
       "<style type=\"text/css\">\n",
       "#T_da2d0_row0_col0, #T_da2d0_row0_col1, #T_da2d0_row0_col4, #T_da2d0_row0_col6, #T_da2d0_row1_col2, #T_da2d0_row1_col4, #T_da2d0_row1_col6, #T_da2d0_row1_col7, #T_da2d0_row2_col4, #T_da2d0_row3_col4, #T_da2d0_row4_col4, #T_da2d0_row5_col4, #T_da2d0_row6_col4, #T_da2d0_row13_col3, #T_da2d0_row19_col5 {\n",
       "  background-color: #f0f0f3;\n",
       "  color: #000000;\n",
       "}\n",
       "#T_da2d0_row0_col2 {\n",
       "  background-color: #e2e2f3;\n",
       "  color: #000000;\n",
       "}\n",
       "#T_da2d0_row0_col3, #T_da2d0_row18_col0 {\n",
       "  background-color: #1818fe;\n",
       "  color: #f1f1f1;\n",
       "}\n",
       "#T_da2d0_row0_col5 {\n",
       "  background-color: #0606ff;\n",
       "  color: #f1f1f1;\n",
       "}\n",
       "#T_da2d0_row0_col7 {\n",
       "  background-color: #8282f8;\n",
       "  color: #f1f1f1;\n",
       "}\n",
       "#T_da2d0_row1_col0, #T_da2d0_row6_col6, #T_da2d0_row17_col3 {\n",
       "  background-color: #e5e5f3;\n",
       "  color: #000000;\n",
       "}\n",
       "#T_da2d0_row1_col1, #T_da2d0_row18_col5 {\n",
       "  background-color: #e7e7f3;\n",
       "  color: #000000;\n",
       "}\n",
       "#T_da2d0_row1_col3, #T_da2d0_row2_col5, #T_da2d0_row15_col7, #T_da2d0_row17_col2, #T_da2d0_row20_col0, #T_da2d0_row20_col1, #T_da2d0_row20_col4, #T_da2d0_row20_col6 {\n",
       "  background-color: #0000ff;\n",
       "  color: #f1f1f1;\n",
       "}\n",
       "#T_da2d0_row1_col5 {\n",
       "  background-color: #0202ff;\n",
       "  color: #f1f1f1;\n",
       "}\n",
       "#T_da2d0_row2_col0, #T_da2d0_row9_col3 {\n",
       "  background-color: #d9d9f4;\n",
       "  color: #000000;\n",
       "}\n",
       "#T_da2d0_row2_col1 {\n",
       "  background-color: #dedef4;\n",
       "  color: #000000;\n",
       "}\n",
       "#T_da2d0_row2_col2, #T_da2d0_row12_col4 {\n",
       "  background-color: #e9e9f3;\n",
       "  color: #000000;\n",
       "}\n",
       "#T_da2d0_row2_col3, #T_da2d0_row7_col5 {\n",
       "  background-color: #1717fe;\n",
       "  color: #f1f1f1;\n",
       "}\n",
       "#T_da2d0_row2_col6, #T_da2d0_row3_col6, #T_da2d0_row7_col4, #T_da2d0_row8_col4, #T_da2d0_row9_col4, #T_da2d0_row20_col5 {\n",
       "  background-color: #efeff3;\n",
       "  color: #000000;\n",
       "}\n",
       "#T_da2d0_row2_col7 {\n",
       "  background-color: #bbbbf5;\n",
       "  color: #000000;\n",
       "}\n",
       "#T_da2d0_row3_col0 {\n",
       "  background-color: #cdcdf5;\n",
       "  color: #000000;\n",
       "}\n",
       "#T_da2d0_row3_col1 {\n",
       "  background-color: #d8d8f4;\n",
       "  color: #000000;\n",
       "}\n",
       "#T_da2d0_row3_col2, #T_da2d0_row4_col1 {\n",
       "  background-color: #d0d0f4;\n",
       "  color: #000000;\n",
       "}\n",
       "#T_da2d0_row3_col3 {\n",
       "  background-color: #2222fd;\n",
       "  color: #f1f1f1;\n",
       "}\n",
       "#T_da2d0_row3_col5, #T_da2d0_row19_col2 {\n",
       "  background-color: #1212fe;\n",
       "  color: #f1f1f1;\n",
       "}\n",
       "#T_da2d0_row3_col7 {\n",
       "  background-color: #dcdcf4;\n",
       "  color: #000000;\n",
       "}\n",
       "#T_da2d0_row4_col0, #T_da2d0_row15_col3 {\n",
       "  background-color: #c0c0f5;\n",
       "  color: #000000;\n",
       "}\n",
       "#T_da2d0_row4_col2 {\n",
       "  background-color: #c4c4f5;\n",
       "  color: #000000;\n",
       "}\n",
       "#T_da2d0_row4_col3 {\n",
       "  background-color: #3d3dfc;\n",
       "  color: #f1f1f1;\n",
       "}\n",
       "#T_da2d0_row4_col5 {\n",
       "  background-color: #1313fe;\n",
       "  color: #f1f1f1;\n",
       "}\n",
       "#T_da2d0_row4_col6 {\n",
       "  background-color: #ededf3;\n",
       "  color: #000000;\n",
       "}\n",
       "#T_da2d0_row4_col7 {\n",
       "  background-color: #8888f8;\n",
       "  color: #f1f1f1;\n",
       "}\n",
       "#T_da2d0_row5_col0 {\n",
       "  background-color: #b4b4f6;\n",
       "  color: #000000;\n",
       "}\n",
       "#T_da2d0_row5_col1 {\n",
       "  background-color: #c7c7f5;\n",
       "  color: #000000;\n",
       "}\n",
       "#T_da2d0_row5_col2 {\n",
       "  background-color: #b9b9f6;\n",
       "  color: #000000;\n",
       "}\n",
       "#T_da2d0_row5_col3 {\n",
       "  background-color: #5f5ffa;\n",
       "  color: #f1f1f1;\n",
       "}\n",
       "#T_da2d0_row5_col5 {\n",
       "  background-color: #1010fe;\n",
       "  color: #f1f1f1;\n",
       "}\n",
       "#T_da2d0_row5_col6 {\n",
       "  background-color: #eaeaf3;\n",
       "  color: #000000;\n",
       "}\n",
       "#T_da2d0_row5_col7 {\n",
       "  background-color: #2929fd;\n",
       "  color: #f1f1f1;\n",
       "}\n",
       "#T_da2d0_row6_col0 {\n",
       "  background-color: #a9a9f6;\n",
       "  color: #000000;\n",
       "}\n",
       "#T_da2d0_row6_col1 {\n",
       "  background-color: #b8b8f6;\n",
       "  color: #000000;\n",
       "}\n",
       "#T_da2d0_row6_col2 {\n",
       "  background-color: #9e9ef7;\n",
       "  color: #f1f1f1;\n",
       "}\n",
       "#T_da2d0_row6_col3 {\n",
       "  background-color: #7c7cf9;\n",
       "  color: #f1f1f1;\n",
       "}\n",
       "#T_da2d0_row6_col5 {\n",
       "  background-color: #1d1dfe;\n",
       "  color: #f1f1f1;\n",
       "}\n",
       "#T_da2d0_row6_col7, #T_da2d0_row20_col7 {\n",
       "  background-color: #5e5efa;\n",
       "  color: #f1f1f1;\n",
       "}\n",
       "#T_da2d0_row7_col0 {\n",
       "  background-color: #9d9df7;\n",
       "  color: #f1f1f1;\n",
       "}\n",
       "#T_da2d0_row7_col1 {\n",
       "  background-color: #b6b6f6;\n",
       "  color: #000000;\n",
       "}\n",
       "#T_da2d0_row7_col2 {\n",
       "  background-color: #9494f7;\n",
       "  color: #f1f1f1;\n",
       "}\n",
       "#T_da2d0_row7_col3, #T_da2d0_row16_col5 {\n",
       "  background-color: #a4a4f7;\n",
       "  color: #000000;\n",
       "}\n",
       "#T_da2d0_row7_col6 {\n",
       "  background-color: #e1e1f4;\n",
       "  color: #000000;\n",
       "}\n",
       "#T_da2d0_row7_col7 {\n",
       "  background-color: #1c1cfe;\n",
       "  color: #f1f1f1;\n",
       "}\n",
       "#T_da2d0_row8_col0, #T_da2d0_row15_col5 {\n",
       "  background-color: #9090f8;\n",
       "  color: #f1f1f1;\n",
       "}\n",
       "#T_da2d0_row8_col1 {\n",
       "  background-color: #a8a8f6;\n",
       "  color: #000000;\n",
       "}\n",
       "#T_da2d0_row8_col2 {\n",
       "  background-color: #7d7df9;\n",
       "  color: #f1f1f1;\n",
       "}\n",
       "#T_da2d0_row8_col3 {\n",
       "  background-color: #b3b3f6;\n",
       "  color: #000000;\n",
       "}\n",
       "#T_da2d0_row8_col5 {\n",
       "  background-color: #2828fd;\n",
       "  color: #f1f1f1;\n",
       "}\n",
       "#T_da2d0_row8_col6 {\n",
       "  background-color: #dbdbf4;\n",
       "  color: #000000;\n",
       "}\n",
       "#T_da2d0_row8_col7 {\n",
       "  background-color: #5555fb;\n",
       "  color: #f1f1f1;\n",
       "}\n",
       "#T_da2d0_row9_col0 {\n",
       "  background-color: #8484f8;\n",
       "  color: #f1f1f1;\n",
       "}\n",
       "#T_da2d0_row9_col1 {\n",
       "  background-color: #9b9bf7;\n",
       "  color: #f1f1f1;\n",
       "}\n",
       "#T_da2d0_row9_col2, #T_da2d0_row14_col7, #T_da2d0_row17_col6 {\n",
       "  background-color: #5353fb;\n",
       "  color: #f1f1f1;\n",
       "}\n",
       "#T_da2d0_row9_col5 {\n",
       "  background-color: #4141fc;\n",
       "  color: #f1f1f1;\n",
       "}\n",
       "#T_da2d0_row9_col6 {\n",
       "  background-color: #d6d6f4;\n",
       "  color: #000000;\n",
       "}\n",
       "#T_da2d0_row9_col7 {\n",
       "  background-color: #6161fa;\n",
       "  color: #f1f1f1;\n",
       "}\n",
       "#T_da2d0_row10_col0 {\n",
       "  background-color: #7878f9;\n",
       "  color: #f1f1f1;\n",
       "}\n",
       "#T_da2d0_row10_col1 {\n",
       "  background-color: #8a8af8;\n",
       "  color: #f1f1f1;\n",
       "}\n",
       "#T_da2d0_row10_col2 {\n",
       "  background-color: #5b5bfa;\n",
       "  color: #f1f1f1;\n",
       "}\n",
       "#T_da2d0_row10_col3 {\n",
       "  background-color: #c6c6f5;\n",
       "  color: #000000;\n",
       "}\n",
       "#T_da2d0_row10_col4 {\n",
       "  background-color: #eeeef3;\n",
       "  color: #000000;\n",
       "}\n",
       "#T_da2d0_row10_col5 {\n",
       "  background-color: #4545fb;\n",
       "  color: #f1f1f1;\n",
       "}\n",
       "#T_da2d0_row10_col6 {\n",
       "  background-color: #cecef4;\n",
       "  color: #000000;\n",
       "}\n",
       "#T_da2d0_row10_col7, #T_da2d0_row12_col1 {\n",
       "  background-color: #6a6afa;\n",
       "  color: #f1f1f1;\n",
       "}\n",
       "#T_da2d0_row11_col0 {\n",
       "  background-color: #6c6cf9;\n",
       "  color: #f1f1f1;\n",
       "}\n",
       "#T_da2d0_row11_col1 {\n",
       "  background-color: #7979f9;\n",
       "  color: #f1f1f1;\n",
       "}\n",
       "#T_da2d0_row11_col2 {\n",
       "  background-color: #4d4dfb;\n",
       "  color: #f1f1f1;\n",
       "}\n",
       "#T_da2d0_row11_col3, #T_da2d0_row11_col6 {\n",
       "  background-color: #c8c8f5;\n",
       "  color: #000000;\n",
       "}\n",
       "#T_da2d0_row11_col4 {\n",
       "  background-color: #ececf3;\n",
       "  color: #000000;\n",
       "}\n",
       "#T_da2d0_row11_col5 {\n",
       "  background-color: #5656fb;\n",
       "  color: #f1f1f1;\n",
       "}\n",
       "#T_da2d0_row11_col7 {\n",
       "  background-color: #7171f9;\n",
       "  color: #f1f1f1;\n",
       "}\n",
       "#T_da2d0_row12_col0 {\n",
       "  background-color: #6060fa;\n",
       "  color: #f1f1f1;\n",
       "}\n",
       "#T_da2d0_row12_col2 {\n",
       "  background-color: #4040fc;\n",
       "  color: #f1f1f1;\n",
       "}\n",
       "#T_da2d0_row12_col3 {\n",
       "  background-color: #cbcbf5;\n",
       "  color: #000000;\n",
       "}\n",
       "#T_da2d0_row12_col5 {\n",
       "  background-color: #6565fa;\n",
       "  color: #f1f1f1;\n",
       "}\n",
       "#T_da2d0_row12_col6 {\n",
       "  background-color: #bebef5;\n",
       "  color: #000000;\n",
       "}\n",
       "#T_da2d0_row12_col7, #T_da2d0_row15_col6 {\n",
       "  background-color: #8e8ef8;\n",
       "  color: #f1f1f1;\n",
       "}\n",
       "#T_da2d0_row13_col0 {\n",
       "  background-color: #5454fb;\n",
       "  color: #f1f1f1;\n",
       "}\n",
       "#T_da2d0_row13_col1 {\n",
       "  background-color: #5757fb;\n",
       "  color: #f1f1f1;\n",
       "}\n",
       "#T_da2d0_row13_col2, #T_da2d0_row19_col6 {\n",
       "  background-color: #1111fe;\n",
       "  color: #f1f1f1;\n",
       "}\n",
       "#T_da2d0_row13_col4 {\n",
       "  background-color: #e6e6f3;\n",
       "  color: #000000;\n",
       "}\n",
       "#T_da2d0_row13_col5 {\n",
       "  background-color: #8686f8;\n",
       "  color: #f1f1f1;\n",
       "}\n",
       "#T_da2d0_row13_col6 {\n",
       "  background-color: #b1b1f6;\n",
       "  color: #000000;\n",
       "}\n",
       "#T_da2d0_row13_col7 {\n",
       "  background-color: #8787f8;\n",
       "  color: #f1f1f1;\n",
       "}\n",
       "#T_da2d0_row14_col0 {\n",
       "  background-color: #4848fb;\n",
       "  color: #f1f1f1;\n",
       "}\n",
       "#T_da2d0_row14_col1, #T_da2d0_row15_col1 {\n",
       "  background-color: #5050fb;\n",
       "  color: #f1f1f1;\n",
       "}\n",
       "#T_da2d0_row14_col2 {\n",
       "  background-color: #2121fd;\n",
       "  color: #f1f1f1;\n",
       "}\n",
       "#T_da2d0_row14_col3 {\n",
       "  background-color: #d4d4f4;\n",
       "  color: #000000;\n",
       "}\n",
       "#T_da2d0_row14_col4 {\n",
       "  background-color: #dfdff4;\n",
       "  color: #000000;\n",
       "}\n",
       "#T_da2d0_row14_col5, #T_da2d0_row17_col7 {\n",
       "  background-color: #8c8cf8;\n",
       "  color: #f1f1f1;\n",
       "}\n",
       "#T_da2d0_row14_col6 {\n",
       "  background-color: #a1a1f7;\n",
       "  color: #f1f1f1;\n",
       "}\n",
       "#T_da2d0_row15_col0, #T_da2d0_row19_col4 {\n",
       "  background-color: #3b3bfc;\n",
       "  color: #f1f1f1;\n",
       "}\n",
       "#T_da2d0_row15_col2 {\n",
       "  background-color: #2f2ffd;\n",
       "  color: #f1f1f1;\n",
       "}\n",
       "#T_da2d0_row15_col4 {\n",
       "  background-color: #d3d3f4;\n",
       "  color: #000000;\n",
       "}\n",
       "#T_da2d0_row16_col0 {\n",
       "  background-color: #3030fd;\n",
       "  color: #f1f1f1;\n",
       "}\n",
       "#T_da2d0_row16_col1 {\n",
       "  background-color: #3333fc;\n",
       "  color: #f1f1f1;\n",
       "}\n",
       "#T_da2d0_row16_col2 {\n",
       "  background-color: #2323fd;\n",
       "  color: #f1f1f1;\n",
       "}\n",
       "#T_da2d0_row16_col3, #T_da2d0_row17_col5 {\n",
       "  background-color: #ccccf5;\n",
       "  color: #000000;\n",
       "}\n",
       "#T_da2d0_row16_col4 {\n",
       "  background-color: #c2c2f5;\n",
       "  color: #000000;\n",
       "}\n",
       "#T_da2d0_row16_col6 {\n",
       "  background-color: #7272f9;\n",
       "  color: #f1f1f1;\n",
       "}\n",
       "#T_da2d0_row16_col7 {\n",
       "  background-color: #6e6ef9;\n",
       "  color: #f1f1f1;\n",
       "}\n",
       "#T_da2d0_row17_col0 {\n",
       "  background-color: #2424fd;\n",
       "  color: #f1f1f1;\n",
       "}\n",
       "#T_da2d0_row17_col1, #T_da2d0_row20_col2 {\n",
       "  background-color: #2626fd;\n",
       "  color: #f1f1f1;\n",
       "}\n",
       "#T_da2d0_row17_col4 {\n",
       "  background-color: #9a9af7;\n",
       "  color: #f1f1f1;\n",
       "}\n",
       "#T_da2d0_row18_col1 {\n",
       "  background-color: #1a1afe;\n",
       "  color: #f1f1f1;\n",
       "}\n",
       "#T_da2d0_row18_col2 {\n",
       "  background-color: #0505ff;\n",
       "  color: #f1f1f1;\n",
       "}\n",
       "#T_da2d0_row18_col3 {\n",
       "  background-color: #c1c1f5;\n",
       "  color: #000000;\n",
       "}\n",
       "#T_da2d0_row18_col4 {\n",
       "  background-color: #6f6ff9;\n",
       "  color: #f1f1f1;\n",
       "}\n",
       "#T_da2d0_row18_col6 {\n",
       "  background-color: #3636fc;\n",
       "  color: #f1f1f1;\n",
       "}\n",
       "#T_da2d0_row18_col7 {\n",
       "  background-color: #a0a0f7;\n",
       "  color: #f1f1f1;\n",
       "}\n",
       "#T_da2d0_row19_col0 {\n",
       "  background-color: #0b0bfe;\n",
       "  color: #f1f1f1;\n",
       "}\n",
       "#T_da2d0_row19_col1 {\n",
       "  background-color: #0909ff;\n",
       "  color: #f1f1f1;\n",
       "}\n",
       "#T_da2d0_row19_col3 {\n",
       "  background-color: #bfbff5;\n",
       "  color: #000000;\n",
       "}\n",
       "#T_da2d0_row19_col7 {\n",
       "  background-color: #c3c3f5;\n",
       "  color: #000000;\n",
       "}\n",
       "#T_da2d0_row20_col3 {\n",
       "  background-color: #b7b7f6;\n",
       "  color: #000000;\n",
       "}\n",
       "</style>\n",
       "<table id=\"T_da2d0\">\n",
       "  <thead>\n",
       "    <tr>\n",
       "      <th class=\"index_name level0\" >commodity_transaction</th>\n",
       "      <th id=\"T_da2d0_level0_col0\" class=\"col_heading level0 col0\" >year</th>\n",
       "      <th id=\"T_da2d0_level0_col1\" class=\"col_heading level0 col1\" >Electricity - Gross production</th>\n",
       "      <th id=\"T_da2d0_level0_col2\" class=\"col_heading level0 col2\" >Electricity - total thermal production %</th>\n",
       "      <th id=\"T_da2d0_level0_col3\" class=\"col_heading level0 col3\" >Electricity - total tide, wave and hydro production %</th>\n",
       "      <th id=\"T_da2d0_level0_col4\" class=\"col_heading level0 col4\" >Electricity - total solar production %</th>\n",
       "      <th id=\"T_da2d0_level0_col5\" class=\"col_heading level0 col5\" >Electricity - total nuclear production %</th>\n",
       "      <th id=\"T_da2d0_level0_col6\" class=\"col_heading level0 col6\" >Electricity - total wind production %</th>\n",
       "      <th id=\"T_da2d0_level0_col7\" class=\"col_heading level0 col7\" >Electricity - total geothermal production %</th>\n",
       "    </tr>\n",
       "  </thead>\n",
       "  <tbody>\n",
       "    <tr>\n",
       "      <th id=\"T_da2d0_level0_row0\" class=\"row_heading level0 row0\" >0</th>\n",
       "      <td id=\"T_da2d0_row0_col0\" class=\"data row0 col0\" >1994</td>\n",
       "      <td id=\"T_da2d0_row0_col1\" class=\"data row0 col1\" >12886.108253</td>\n",
       "      <td id=\"T_da2d0_row0_col2\" class=\"data row0 col2\" >63.392133</td>\n",
       "      <td id=\"T_da2d0_row0_col3\" class=\"data row0 col3\" >18.819519</td>\n",
       "      <td id=\"T_da2d0_row0_col4\" class=\"data row0 col4\" >0.007163</td>\n",
       "      <td id=\"T_da2d0_row0_col5\" class=\"data row0 col5\" >17.409457</td>\n",
       "      <td id=\"T_da2d0_row0_col6\" class=\"data row0 col6\" >0.056221</td>\n",
       "      <td id=\"T_da2d0_row0_col7\" class=\"data row0 col7\" >0.315507</td>\n",
       "    </tr>\n",
       "    <tr>\n",
       "      <th id=\"T_da2d0_level0_row1\" class=\"row_heading level0 row1\" >1</th>\n",
       "      <td id=\"T_da2d0_row1_col0\" class=\"data row1 col0\" >1995</td>\n",
       "      <td id=\"T_da2d0_row1_col1\" class=\"data row1 col1\" >13324.751389</td>\n",
       "      <td id=\"T_da2d0_row1_col2\" class=\"data row1 col2\" >62.991258</td>\n",
       "      <td id=\"T_da2d0_row1_col3\" class=\"data row1 col3\" >19.138195</td>\n",
       "      <td id=\"T_da2d0_row1_col4\" class=\"data row1 col4\" >0.007288</td>\n",
       "      <td id=\"T_da2d0_row1_col5\" class=\"data row1 col5\" >17.504503</td>\n",
       "      <td id=\"T_da2d0_row1_col6\" class=\"data row1 col6\" >0.058949</td>\n",
       "      <td id=\"T_da2d0_row1_col7\" class=\"data row1 col7\" >0.299808</td>\n",
       "    </tr>\n",
       "    <tr>\n",
       "      <th id=\"T_da2d0_level0_row2\" class=\"row_heading level0 row2\" >2</th>\n",
       "      <td id=\"T_da2d0_row2_col0\" class=\"data row2 col0\" >1996</td>\n",
       "      <td id=\"T_da2d0_row2_col1\" class=\"data row2 col1\" >13753.309573</td>\n",
       "      <td id=\"T_da2d0_row2_col2\" class=\"data row2 col2\" >63.208897</td>\n",
       "      <td id=\"T_da2d0_row2_col3\" class=\"data row2 col3\" >18.830910</td>\n",
       "      <td id=\"T_da2d0_row2_col4\" class=\"data row2 col4\" >0.007831</td>\n",
       "      <td id=\"T_da2d0_row2_col5\" class=\"data row2 col5\" >17.577121</td>\n",
       "      <td id=\"T_da2d0_row2_col6\" class=\"data row2 col6\" >0.067821</td>\n",
       "      <td id=\"T_da2d0_row2_col7\" class=\"data row2 col7\" >0.307420</td>\n",
       "    </tr>\n",
       "    <tr>\n",
       "      <th id=\"T_da2d0_level0_row3\" class=\"row_heading level0 row3\" >3</th>\n",
       "      <td id=\"T_da2d0_row3_col0\" class=\"data row3 col0\" >1997</td>\n",
       "      <td id=\"T_da2d0_row3_col1\" class=\"data row3 col1\" >14042.592982</td>\n",
       "      <td id=\"T_da2d0_row3_col2\" class=\"data row3 col2\" >63.889427</td>\n",
       "      <td id=\"T_da2d0_row3_col3\" class=\"data row3 col3\" >18.672518</td>\n",
       "      <td id=\"T_da2d0_row3_col4\" class=\"data row3 col4\" >0.008359</td>\n",
       "      <td id=\"T_da2d0_row3_col5\" class=\"data row3 col5\" >17.042867</td>\n",
       "      <td id=\"T_da2d0_row3_col6\" class=\"data row3 col6\" >0.083953</td>\n",
       "      <td id=\"T_da2d0_row3_col7\" class=\"data row3 col7\" >0.302875</td>\n",
       "    </tr>\n",
       "    <tr>\n",
       "      <th id=\"T_da2d0_level0_row4\" class=\"row_heading level0 row4\" >4</th>\n",
       "      <td id=\"T_da2d0_row4_col0\" class=\"data row4 col0\" >1998</td>\n",
       "      <td id=\"T_da2d0_row4_col1\" class=\"data row4 col1\" >14370.600973</td>\n",
       "      <td id=\"T_da2d0_row4_col2\" class=\"data row4 col2\" >64.239604</td>\n",
       "      <td id=\"T_da2d0_row4_col3\" class=\"data row4 col3\" >18.310986</td>\n",
       "      <td id=\"T_da2d0_row4_col4\" class=\"data row4 col4\" >0.008120</td>\n",
       "      <td id=\"T_da2d0_row4_col5\" class=\"data row4 col5\" >17.017374</td>\n",
       "      <td id=\"T_da2d0_row4_col6\" class=\"data row4 col6\" >0.109211</td>\n",
       "      <td id=\"T_da2d0_row4_col7\" class=\"data row4 col7\" >0.314705</td>\n",
       "    </tr>\n",
       "    <tr>\n",
       "      <th id=\"T_da2d0_level0_row5\" class=\"row_heading level0 row5\" >5</th>\n",
       "      <td id=\"T_da2d0_row5_col0\" class=\"data row5 col0\" >1999</td>\n",
       "      <td id=\"T_da2d0_row5_col1\" class=\"data row5 col1\" >14801.231135</td>\n",
       "      <td id=\"T_da2d0_row5_col2\" class=\"data row5 col2\" >64.564715</td>\n",
       "      <td id=\"T_da2d0_row5_col3\" class=\"data row5 col3\" >17.854132</td>\n",
       "      <td id=\"T_da2d0_row5_col4\" class=\"data row5 col4\" >0.007280</td>\n",
       "      <td id=\"T_da2d0_row5_col5\" class=\"data row5 col5\" >17.101401</td>\n",
       "      <td id=\"T_da2d0_row5_col6\" class=\"data row5 col6\" >0.144344</td>\n",
       "      <td id=\"T_da2d0_row5_col7\" class=\"data row5 col7\" >0.328128</td>\n",
       "    </tr>\n",
       "    <tr>\n",
       "      <th id=\"T_da2d0_level0_row6\" class=\"row_heading level0 row6\" >6</th>\n",
       "      <td id=\"T_da2d0_row6_col0\" class=\"data row6 col0\" >2000</td>\n",
       "      <td id=\"T_da2d0_row6_col1\" class=\"data row6 col1\" >15496.088666</td>\n",
       "      <td id=\"T_da2d0_row6_col2\" class=\"data row6 col2\" >65.291325</td>\n",
       "      <td id=\"T_da2d0_row6_col3\" class=\"data row6 col3\" >17.471008</td>\n",
       "      <td id=\"T_da2d0_row6_col4\" class=\"data row6 col4\" >0.009512</td>\n",
       "      <td id=\"T_da2d0_row6_col5\" class=\"data row6 col5\" >16.709148</td>\n",
       "      <td id=\"T_da2d0_row6_col6\" class=\"data row6 col6\" >0.198440</td>\n",
       "      <td id=\"T_da2d0_row6_col7\" class=\"data row6 col7\" >0.320566</td>\n",
       "    </tr>\n",
       "    <tr>\n",
       "      <th id=\"T_da2d0_level0_row7\" class=\"row_heading level0 row7\" >7</th>\n",
       "      <td id=\"T_da2d0_row7_col0\" class=\"data row7 col0\" >2001</td>\n",
       "      <td id=\"T_da2d0_row7_col1\" class=\"data row7 col1\" >15597.990241</td>\n",
       "      <td id=\"T_da2d0_row7_col2\" class=\"data row7 col2\" >65.588611</td>\n",
       "      <td id=\"T_da2d0_row7_col3\" class=\"data row7 col3\" >16.920147</td>\n",
       "      <td id=\"T_da2d0_row7_col4\" class=\"data row7 col4\" >0.011323</td>\n",
       "      <td id=\"T_da2d0_row7_col5\" class=\"data row7 col5\" >16.910170</td>\n",
       "      <td id=\"T_da2d0_row7_col6\" class=\"data row7 col6\" >0.239806</td>\n",
       "      <td id=\"T_da2d0_row7_col7\" class=\"data row7 col7\" >0.329943</td>\n",
       "    </tr>\n",
       "    <tr>\n",
       "      <th id=\"T_da2d0_level0_row8\" class=\"row_heading level0 row8\" >8</th>\n",
       "      <td id=\"T_da2d0_row8_col0\" class=\"data row8 col0\" >2002</td>\n",
       "      <td id=\"T_da2d0_row8_col1\" class=\"data row8 col1\" >16215.148670</td>\n",
       "      <td id=\"T_da2d0_row8_col2\" class=\"data row8 col2\" >66.213075</td>\n",
       "      <td id=\"T_da2d0_row8_col3\" class=\"data row8 col3\" >16.718968</td>\n",
       "      <td id=\"T_da2d0_row8_col4\" class=\"data row8 col4\" >0.013167</td>\n",
       "      <td id=\"T_da2d0_row8_col5\" class=\"data row8 col5\" >16.413915</td>\n",
       "      <td id=\"T_da2d0_row8_col6\" class=\"data row8 col6\" >0.318939</td>\n",
       "      <td id=\"T_da2d0_row8_col7\" class=\"data row8 col7\" >0.321937</td>\n",
       "    </tr>\n",
       "    <tr>\n",
       "      <th id=\"T_da2d0_level0_row9\" class=\"row_heading level0 row9\" >9</th>\n",
       "      <td id=\"T_da2d0_row9_col0\" class=\"data row9 col0\" >2003</td>\n",
       "      <td id=\"T_da2d0_row9_col1\" class=\"data row9 col1\" >16812.144850</td>\n",
       "      <td id=\"T_da2d0_row9_col2\" class=\"data row9 col2\" >67.396505</td>\n",
       "      <td id=\"T_da2d0_row9_col3\" class=\"data row9 col3\" >16.211027</td>\n",
       "      <td id=\"T_da2d0_row9_col4\" class=\"data row9 col4\" >0.015203</td>\n",
       "      <td id=\"T_da2d0_row9_col5\" class=\"data row9 col5\" >15.682770</td>\n",
       "      <td id=\"T_da2d0_row9_col6\" class=\"data row9 col6\" >0.374356</td>\n",
       "      <td id=\"T_da2d0_row9_col7\" class=\"data row9 col7\" >0.320140</td>\n",
       "    </tr>\n",
       "    <tr>\n",
       "      <th id=\"T_da2d0_level0_row10\" class=\"row_heading level0 row10\" >10</th>\n",
       "      <td id=\"T_da2d0_row10_col0\" class=\"data row10 col0\" >2004</td>\n",
       "      <td id=\"T_da2d0_row10_col1\" class=\"data row10 col1\" >17593.848315</td>\n",
       "      <td id=\"T_da2d0_row10_col2\" class=\"data row10 col2\" >67.153681</td>\n",
       "      <td id=\"T_da2d0_row10_col3\" class=\"data row10 col3\" >16.465887</td>\n",
       "      <td id=\"T_da2d0_row10_col4\" class=\"data row10 col4\" >0.018507</td>\n",
       "      <td id=\"T_da2d0_row10_col5\" class=\"data row10 col5\" >15.573337</td>\n",
       "      <td id=\"T_da2d0_row10_col6\" class=\"data row10 col6\" >0.469648</td>\n",
       "      <td id=\"T_da2d0_row10_col7\" class=\"data row10 col7\" >0.318940</td>\n",
       "    </tr>\n",
       "    <tr>\n",
       "      <th id=\"T_da2d0_level0_row11\" class=\"row_heading level0 row11\" >11</th>\n",
       "      <td id=\"T_da2d0_row11_col0\" class=\"data row11 col0\" >2005</td>\n",
       "      <td id=\"T_da2d0_row11_col1\" class=\"data row11 col1\" >18359.088001</td>\n",
       "      <td id=\"T_da2d0_row11_col2\" class=\"data row11 col2\" >67.573856</td>\n",
       "      <td id=\"T_da2d0_row11_col3\" class=\"data row11 col3\" >16.442630</td>\n",
       "      <td id=\"T_da2d0_row11_col4\" class=\"data row11 col4\" >0.024413</td>\n",
       "      <td id=\"T_da2d0_row11_col5\" class=\"data row11 col5\" >15.088211</td>\n",
       "      <td id=\"T_da2d0_row11_col6\" class=\"data row11 col6\" >0.552963</td>\n",
       "      <td id=\"T_da2d0_row11_col7\" class=\"data row11 col7\" >0.317928</td>\n",
       "    </tr>\n",
       "    <tr>\n",
       "      <th id=\"T_da2d0_level0_row12\" class=\"row_heading level0 row12\" >12</th>\n",
       "      <td id=\"T_da2d0_row12_col0\" class=\"data row12 col0\" >2006</td>\n",
       "      <td id=\"T_da2d0_row12_col1\" class=\"data row12 col1\" >19072.421046</td>\n",
       "      <td id=\"T_da2d0_row12_col2\" class=\"data row12 col2\" >67.933282</td>\n",
       "      <td id=\"T_da2d0_row12_col3\" class=\"data row12 col3\" >16.400678</td>\n",
       "      <td id=\"T_da2d0_row12_col4\" class=\"data row12 col4\" >0.031601</td>\n",
       "      <td id=\"T_da2d0_row12_col5\" class=\"data row12 col5\" >14.646020</td>\n",
       "      <td id=\"T_da2d0_row12_col6\" class=\"data row12 col6\" >0.674707</td>\n",
       "      <td id=\"T_da2d0_row12_col7\" class=\"data row12 col7\" >0.313712</td>\n",
       "    </tr>\n",
       "    <tr>\n",
       "      <th id=\"T_da2d0_level0_row13\" class=\"row_heading level0 row13\" >13</th>\n",
       "      <td id=\"T_da2d0_row13_col0\" class=\"data row13 col0\" >2007</td>\n",
       "      <td id=\"T_da2d0_row13_col1\" class=\"data row13 col1\" >19905.110378</td>\n",
       "      <td id=\"T_da2d0_row13_col2\" class=\"data row13 col2\" >69.258750</td>\n",
       "      <td id=\"T_da2d0_row13_col3\" class=\"data row13 col3\" >15.885841</td>\n",
       "      <td id=\"T_da2d0_row13_col4\" class=\"data row13 col4\" >0.040179</td>\n",
       "      <td id=\"T_da2d0_row13_col5\" class=\"data row13 col5\" >13.672908</td>\n",
       "      <td id=\"T_da2d0_row13_col6\" class=\"data row13 col6\" >0.827469</td>\n",
       "      <td id=\"T_da2d0_row13_col7\" class=\"data row13 col7\" >0.314853</td>\n",
       "    </tr>\n",
       "    <tr>\n",
       "      <th id=\"T_da2d0_level0_row14\" class=\"row_heading level0 row14\" >14</th>\n",
       "      <td id=\"T_da2d0_row14_col0\" class=\"data row14 col0\" >2008</td>\n",
       "      <td id=\"T_da2d0_row14_col1\" class=\"data row14 col1\" >20230.482444</td>\n",
       "      <td id=\"T_da2d0_row14_col2\" class=\"data row14 col2\" >68.793206</td>\n",
       "      <td id=\"T_da2d0_row14_col3\" class=\"data row14 col3\" >16.276750</td>\n",
       "      <td id=\"T_da2d0_row14_col4\" class=\"data row14 col4\" >0.062305</td>\n",
       "      <td id=\"T_da2d0_row14_col5\" class=\"data row14 col5\" >13.528143</td>\n",
       "      <td id=\"T_da2d0_row14_col6\" class=\"data row14 col6\" >1.017377</td>\n",
       "      <td id=\"T_da2d0_row14_col7\" class=\"data row14 col7\" >0.322219</td>\n",
       "    </tr>\n",
       "    <tr>\n",
       "      <th id=\"T_da2d0_level0_row15\" class=\"row_heading level0 row15\" >15</th>\n",
       "      <td id=\"T_da2d0_row15_col0\" class=\"data row15 col0\" >2009</td>\n",
       "      <td id=\"T_da2d0_row15_col1\" class=\"data row15 col1\" >20214.749429</td>\n",
       "      <td id=\"T_da2d0_row15_col2\" class=\"data row15 col2\" >68.413837</td>\n",
       "      <td id=\"T_da2d0_row15_col3\" class=\"data row15 col3\" >16.539708</td>\n",
       "      <td id=\"T_da2d0_row15_col4\" class=\"data row15 col4\" >0.102131</td>\n",
       "      <td id=\"T_da2d0_row15_col5\" class=\"data row15 col5\" >13.371634</td>\n",
       "      <td id=\"T_da2d0_row15_col6\" class=\"data row15 col6\" >1.238710</td>\n",
       "      <td id=\"T_da2d0_row15_col7\" class=\"data row15 col7\" >0.333979</td>\n",
       "    </tr>\n",
       "    <tr>\n",
       "      <th id=\"T_da2d0_level0_row16\" class=\"row_heading level0 row16\" >16</th>\n",
       "      <td id=\"T_da2d0_row16_col0\" class=\"data row16 col0\" >2010</td>\n",
       "      <td id=\"T_da2d0_row16_col1\" class=\"data row16 col1\" >21552.371371</td>\n",
       "      <td id=\"T_da2d0_row16_col2\" class=\"data row16 col2\" >68.749985</td>\n",
       "      <td id=\"T_da2d0_row16_col3\" class=\"data row16 col3\" >16.382128</td>\n",
       "      <td id=\"T_da2d0_row16_col4\" class=\"data row16 col4\" >0.154243</td>\n",
       "      <td id=\"T_da2d0_row16_col5\" class=\"data row16 col5\" >12.813198</td>\n",
       "      <td id=\"T_da2d0_row16_col6\" class=\"data row16 col6\" >1.582189</td>\n",
       "      <td id=\"T_da2d0_row16_col7\" class=\"data row16 col7\" >0.318257</td>\n",
       "    </tr>\n",
       "    <tr>\n",
       "      <th id=\"T_da2d0_level0_row17\" class=\"row_heading level0 row17\" >17</th>\n",
       "      <td id=\"T_da2d0_row17_col0\" class=\"data row17 col0\" >2011</td>\n",
       "      <td id=\"T_da2d0_row17_col1\" class=\"data row17 col1\" >22173.726173</td>\n",
       "      <td id=\"T_da2d0_row17_col2\" class=\"data row17 col2\" >69.733476</td>\n",
       "      <td id=\"T_da2d0_row17_col3\" class=\"data row17 col3\" >16.044281</td>\n",
       "      <td id=\"T_da2d0_row17_col4\" class=\"data row17 col4\" >0.283763</td>\n",
       "      <td id=\"T_da2d0_row17_col5\" class=\"data row17 col5\" >11.662957</td>\n",
       "      <td id=\"T_da2d0_row17_col6\" class=\"data row17 col6\" >1.961348</td>\n",
       "      <td id=\"T_da2d0_row17_col7\" class=\"data row17 col7\" >0.314175</td>\n",
       "    </tr>\n",
       "    <tr>\n",
       "      <th id=\"T_da2d0_level0_row18\" class=\"row_heading level0 row18\" >18</th>\n",
       "      <td id=\"T_da2d0_row18_col0\" class=\"data row18 col0\" >2012</td>\n",
       "      <td id=\"T_da2d0_row18_col1\" class=\"data row18 col1\" >22681.641399</td>\n",
       "      <td id=\"T_da2d0_row18_col2\" class=\"data row18 col2\" >69.575748</td>\n",
       "      <td id=\"T_da2d0_row18_col3\" class=\"data row18 col3\" >16.524472</td>\n",
       "      <td id=\"T_da2d0_row18_col4\" class=\"data row18 col4\" >0.418328</td>\n",
       "      <td id=\"T_da2d0_row18_col5\" class=\"data row18 col5\" >10.865689</td>\n",
       "      <td id=\"T_da2d0_row18_col6\" class=\"data row18 col6\" >2.304479</td>\n",
       "      <td id=\"T_da2d0_row18_col7\" class=\"data row18 col7\" >0.311284</td>\n",
       "    </tr>\n",
       "    <tr>\n",
       "      <th id=\"T_da2d0_level0_row19\" class=\"row_heading level0 row19\" >19</th>\n",
       "      <td id=\"T_da2d0_row19_col0\" class=\"data row19 col0\" >2013</td>\n",
       "      <td id=\"T_da2d0_row19_col1\" class=\"data row19 col1\" >23453.354992</td>\n",
       "      <td id=\"T_da2d0_row19_col2\" class=\"data row19 col2\" >69.226752</td>\n",
       "      <td id=\"T_da2d0_row19_col3\" class=\"data row19 col3\" >16.549247</td>\n",
       "      <td id=\"T_da2d0_row19_col4\" class=\"data row19 col4\" >0.582636</td>\n",
       "      <td id=\"T_da2d0_row19_col5\" class=\"data row19 col5\" >10.578962</td>\n",
       "      <td id=\"T_da2d0_row19_col6\" class=\"data row19 col6\" >2.756087</td>\n",
       "      <td id=\"T_da2d0_row19_col7\" class=\"data row19 col7\" >0.306315</td>\n",
       "    </tr>\n",
       "    <tr>\n",
       "      <th id=\"T_da2d0_level0_row20\" class=\"row_heading level0 row20\" >20</th>\n",
       "      <td id=\"T_da2d0_row20_col0\" class=\"data row20 col0\" >2014</td>\n",
       "      <td id=\"T_da2d0_row20_col1\" class=\"data row20 col1\" >23906.233178</td>\n",
       "      <td id=\"T_da2d0_row20_col2\" class=\"data row20 col2\" >68.660083</td>\n",
       "      <td id=\"T_da2d0_row20_col3\" class=\"data row20 col3\" >16.670531</td>\n",
       "      <td id=\"T_da2d0_row20_col4\" class=\"data row20 col4\" >0.770993</td>\n",
       "      <td id=\"T_da2d0_row20_col5\" class=\"data row20 col5\" >10.616919</td>\n",
       "      <td id=\"T_da2d0_row20_col6\" class=\"data row20 col6\" >2.960849</td>\n",
       "      <td id=\"T_da2d0_row20_col7\" class=\"data row20 col7\" >0.320625</td>\n",
       "    </tr>\n",
       "  </tbody>\n",
       "</table>\n"
      ],
      "text/plain": [
       "<pandas.io.formats.style.Styler at 0x1f43c46fd90>"
      ]
     },
     "execution_count": 16,
     "metadata": {},
     "output_type": "execute_result"
    }
   ],
   "source": [
    "_perc_stats_for_world(df_f)"
   ]
  }
 ],
 "metadata": {
  "kernelspec": {
   "display_name": "Python 3.9.12 ('base')",
   "language": "python",
   "name": "python3"
  },
  "language_info": {
   "codemirror_mode": {
    "name": "ipython",
    "version": 3
   },
   "file_extension": ".py",
   "mimetype": "text/x-python",
   "name": "python",
   "nbconvert_exporter": "python",
   "pygments_lexer": "ipython3",
   "version": "3.9.12"
  },
  "orig_nbformat": 4,
  "vscode": {
   "interpreter": {
    "hash": "f9c87aee60863c9f2e09d59fc9dfaf6c1c6ccef3b62ceed0f990cc4ac13e29b1"
   }
  }
 },
 "nbformat": 4,
 "nbformat_minor": 2
}
