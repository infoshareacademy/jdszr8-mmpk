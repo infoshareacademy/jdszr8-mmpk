{
 "cells": [
  {
   "cell_type": "code",
   "execution_count": 6,
   "id": "6b7af043",
   "metadata": {},
   "outputs": [],
   "source": [
    "import pandas as pd\n",
    "import numpy as np"
   ]
  },
  {
   "cell_type": "code",
   "execution_count": 7,
   "id": "fa727658",
   "metadata": {},
   "outputs": [],
   "source": [
    "df = pd.read_csv('ready_data_030.csv',low_memory=False)"
   ]
  },
  {
   "cell_type": "code",
   "execution_count": 8,
   "id": "351140ad",
   "metadata": {},
   "outputs": [
    {
     "name": "stdout",
     "output_type": "stream",
     "text": [
      "<class 'pandas.core.frame.DataFrame'>\n",
      "RangeIndex: 1032032 entries, 0 to 1032031\n",
      "Data columns (total 18 columns):\n",
      " #   Column                 Non-Null Count    Dtype  \n",
      "---  ------                 --------------    -----  \n",
      " 0   country_or_area        1032032 non-null  object \n",
      " 1   ISO                    1032032 non-null  object \n",
      " 2   year                   1032032 non-null  int64  \n",
      " 3   transaction_type       1026856 non-null  object \n",
      " 4   unit                   1032032 non-null  object \n",
      " 5   quantity               1032032 non-null  float64\n",
      " 6   category               1032032 non-null  object \n",
      " 7   CL4                    61974 non-null    object \n",
      " 8   CL3                    277607 non-null   object \n",
      " 9   CL2                    312532 non-null   object \n",
      " 10  commodity_transaction  1032032 non-null  object \n",
      " 11  commodity              1032032 non-null  object \n",
      " 12  L1                     1032032 non-null  object \n",
      " 13  L2                     1032032 non-null  object \n",
      " 14  L3                     1032032 non-null  object \n",
      " 15  L4                     1032032 non-null  object \n",
      " 16  new_unit               1032032 non-null  object \n",
      " 17  new_quantity           1032032 non-null  float64\n",
      "dtypes: float64(2), int64(1), object(15)\n",
      "memory usage: 141.7+ MB\n"
     ]
    }
   ],
   "source": [
    "df.info()"
   ]
  },
  {
   "cell_type": "code",
   "execution_count": 18,
   "id": "0bf31cde",
   "metadata": {},
   "outputs": [],
   "source": [
    "def get_country_electircity_stats(data,country,year):\n",
    "    output_list = []\n",
    "    data_list = ['Electricity - Gross production','Electricity - net production',\n",
    "                 'Electricity - total geothermal production','Electricity - total production, autoproducer',\n",
    "                 'Electricity - total production, main activity','Electricity - total hydro production',\n",
    "                 'Electricity - total nuclear production','Electricity - total solar production',\n",
    "                 'Electricity - total thermal production','Electricity - total tide, wave production',\n",
    "                 'Electricity - total wind production']\n",
    "    short_names = ['Gross', 'net', 'geothermal','total-autoproducer',\n",
    "         'production-main activity','hydro','nuclear','solar',\n",
    "         'thermal','tide','wind']\n",
    "#     edf = pd.DataFrame()\n",
    "    x=0\n",
    "    for i in data_list: \n",
    "        z = data['new_quantity'][(data['commodity_transaction'] == i) \n",
    "        & (data['country_or_area'] == country) & (df['year'] == year)]\n",
    "        if z.empty:\n",
    "            z=[0]\n",
    "        z=pd.Series(z)\n",
    "#         pd.concat([edf,z], ignore_index=True)\n",
    "        pd.concat([df, z.to_frame().T], ignore_index=True)\n",
    "        pd.concat([df, z],join='outer', ignore_index=True)\n",
    "        output_list.append([short_names[x],float(z)])\n",
    "    \n",
    "            \n",
    "#             z=pd.DataFrame(z)\n",
    "#         zz = pd.DataFrame(z)\n",
    "#         xx = [short_names[x],z.to_numpy()]\n",
    "#         print(short_names[x],z.to_numpy())\n",
    "#         print(output_list)\n",
    "        x+=1\n",
    "    return(output_list)\n",
    "#         output_list.append([i,zz.iat[0,0]])\n",
    "#     return output_list\n",
    "    \n",
    "    \n"
   ]
  },
  {
   "cell_type": "code",
   "execution_count": 19,
   "id": "1174a75e",
   "metadata": {
    "scrolled": true
   },
   "outputs": [
    {
     "data": {
      "text/plain": [
       "[['Gross', 159059000.0],\n",
       " ['net', 145214000.0],\n",
       " ['geothermal', 0.0],\n",
       " ['total-autoproducer', 8881000.0],\n",
       " ['production-main activity', 150178000.0],\n",
       " ['hydro', 2734000.0],\n",
       " ['nuclear', 0.0],\n",
       " ['solar', 7000.0],\n",
       " ['thermal', 148500000.0],\n",
       " ['tide', 0.0],\n",
       " ['wind', 7676000.0]]"
      ]
     },
     "execution_count": 19,
     "metadata": {},
     "output_type": "execute_result"
    }
   ],
   "source": [
    "get_country_electircity_stats(df,'Poland',2014)"
   ]
  },
  {
   "cell_type": "markdown",
   "id": "7fcabb2d",
   "metadata": {},
   "source": [
    "## INFO\n",
    "\n",
    "gross = geothermal+hydro+nuclear+solar+thermal+tide+wind\n",
    "Gross = total-autoproducer+production-main activity\n",
    "net -> nie uwzględnia strat przesyłu energii, kategoria raczej nie będzie dla nas istotna\n",
    "\n"
   ]
  }
 ],
 "metadata": {
  "kernelspec": {
   "display_name": "Python 3 (ipykernel)",
   "language": "python",
   "name": "python3"
  },
  "language_info": {
   "codemirror_mode": {
    "name": "ipython",
    "version": 3
   },
   "file_extension": ".py",
   "mimetype": "text/x-python",
   "name": "python",
   "nbconvert_exporter": "python",
   "pygments_lexer": "ipython3",
   "version": "3.9.12"
  }
 },
 "nbformat": 4,
 "nbformat_minor": 5
}
