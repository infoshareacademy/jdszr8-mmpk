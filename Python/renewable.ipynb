{
 "cells": [
  {
   "cell_type": "code",
   "execution_count": null,
   "id": "922df6b9",
   "metadata": {},
   "outputs": [],
   "source": [
    "import pandas as pd\n",
    " \n",
    "df = pd.read_csv('final_version.csv')\n",
    "df"
   ]
  },
  {
   "cell_type": "code",
   "execution_count": null,
   "id": "eb091f52",
   "metadata": {},
   "outputs": [],
   "source": [
    "## only gross\n",
    "gross = df[df['commodity_transaction'] == 'Electricity - Gross production'].sort_values(['country_or_area', 'year'])\n",
    "gross"
   ]
  },
  {
   "cell_type": "code",
   "execution_count": null,
   "id": "d45d6b09",
   "metadata": {},
   "outputs": [],
   "source": [
    "# only renewalbe or no-renewable\n",
    "renewable_list = ['Electricity - total nuclear production',\n",
    "                'Electricity - total geothermal production',\n",
    "                'Electricity - total tide, wave and hydro production',\n",
    "                'Electricity - total solar production',\n",
    "                'Electricity - total wind production']\n",
    "\n",
    "non_renewable_list = ['Electricity - total thermal production',\n",
    "                    'From chemical heat – Autoproducer',\n",
    "                    'From chemical heat – Main activity',\n",
    "                    'From other sources – Autoproducer',\n",
    "                    'From other sources – Main activity']\n",
    "\n",
    "rene = df[(df['commodity_transaction'].isin(renewable_list))|(df['commodity_transaction'].isin(non_renewable_list))].sort_values(['country_or_area', 'year'])\n",
    "rene"
   ]
  },
  {
   "cell_type": "code",
   "execution_count": null,
   "id": "d206719b",
   "metadata": {},
   "outputs": [],
   "source": [
    "def f_renewable(row):\n",
    "    if row in renewable_list:\n",
    "        return 1\n",
    "    else:\n",
    "        return 0\n",
    "\n",
    "def f_non_renewable(row):\n",
    "    if row in non_renewable_list:\n",
    "        return 1\n",
    "    else:\n",
    "        return 0\n",
    "\n"
   ]
  },
  {
   "cell_type": "code",
   "execution_count": null,
   "id": "79300af4",
   "metadata": {},
   "outputs": [],
   "source": [
    "rene['renewable'] = rene['commodity_transaction'].apply(f_renewable)\n",
    "rene['renewable'] = rene['new_quantity'] * rene['renewable']\n",
    "rene['non_renewable'] = rene['commodity_transaction'].apply(f_non_renewable)\n",
    "rene['non_renewable'] = rene['new_quantity'] * rene['non_renewable']\n",
    "rene"
   ]
  },
  {
   "cell_type": "code",
   "execution_count": null,
   "id": "edebea8d",
   "metadata": {},
   "outputs": [],
   "source": [
    "x = rene.groupby(['country_or_area', 'ISO', 'year']).agg({'renewable':'sum', 'non_renewable': 'sum'}).reset_index()\n",
    "x"
   ]
  },
  {
   "cell_type": "code",
   "execution_count": null,
   "id": "f4037055",
   "metadata": {},
   "outputs": [],
   "source": [
    "y = pd.merge(gross, x, on = ['country_or_area','ISO','year'], how= 'left')\n",
    "y"
   ]
  },
  {
   "cell_type": "code",
   "execution_count": null,
   "id": "f3b0b87f",
   "metadata": {},
   "outputs": [],
   "source": [
    "#checking \n",
    "y['difference'] = (y['new_quantity'] - y['renewable'] - y['non_renewable']) == 0\n",
    "y"
   ]
  },
  {
   "cell_type": "code",
   "execution_count": null,
   "id": "afea226e",
   "metadata": {},
   "outputs": [],
   "source": [
    "y['difference'].value_counts()"
   ]
  },
  {
   "cell_type": "code",
   "execution_count": null,
   "id": "753ec7b5",
   "metadata": {},
   "outputs": [],
   "source": [
    "y.to_csv('renewable.csv', index = False)"
   ]
  }
 ],
 "metadata": {
  "kernelspec": {
   "display_name": "Python 3 (ipykernel)",
   "language": "python",
   "name": "python3"
  },
  "language_info": {
   "codemirror_mode": {
    "name": "ipython",
    "version": 3
   },
   "file_extension": ".py",
   "mimetype": "text/x-python",
   "name": "python",
   "nbconvert_exporter": "python",
   "pygments_lexer": "ipython3",
   "version": "3.9.12"
  }
 },
 "nbformat": 4,
 "nbformat_minor": 5
}
